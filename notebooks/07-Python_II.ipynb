{
 "cells": [
  {
   "cell_type": "markdown",
   "metadata": {},
   "source": [
    "<!--NAVIGATION-->\n",
    "< [Biological Computing in R](06-R.ipynb) | [Main Contents](Index.ipynb) | [Data management, exploration, and visualization](08-Data_R.ipynb) >"
   ]
  },
  {
   "cell_type": "markdown",
   "metadata": {},
   "source": [
    "# Biological Computing in Python II  <span class=\"tocSkip\"> <a name=\"chap:python_II\"></a>\n",
    "    \n",
    ">> ...some things in life are bad. They can really make you mad. Other things just make you swear and curse. When you're chewing on life's gristle, don't grumble; give a whistle, and this'll help things turn out for the best. And... always look on the bright side of life... \n",
    "— Guess who?"
   ]
  },
  {
   "cell_type": "markdown",
   "metadata": {
    "toc": true
   },
   "source": [
    "<h1>Contents<span class=\"tocSkip\"></span></h1>\n",
    "<div class=\"toc\"><ul class=\"toc-item\"><li><span><a href=\"#Numerical-computing-in-Python\" data-toc-modified-id=\"Numerical-computing-in-Python-1\"><span class=\"toc-item-num\">1&nbsp;&nbsp;</span>Numerical computing in Python</a></span><ul class=\"toc-item\"><li><span><a href=\"#Indexing-and-accessing-arrays\" data-toc-modified-id=\"Indexing-and-accessing-arrays-1.1\"><span class=\"toc-item-num\">1.1&nbsp;&nbsp;</span>Indexing and accessing arrays</a></span></li><li><span><a href=\"#Manipulating-arrays\" data-toc-modified-id=\"Manipulating-arrays-1.2\"><span class=\"toc-item-num\">1.2&nbsp;&nbsp;</span>Manipulating arrays</a></span><ul class=\"toc-item\"><li><span><a href=\"#Replacing,-adding-or-deleting-elements\" data-toc-modified-id=\"Replacing,-adding-or-deleting-elements-1.2.1\"><span class=\"toc-item-num\">1.2.1&nbsp;&nbsp;</span>Replacing, adding or deleting elements</a></span></li><li><span><a href=\"#Flattening-or-reshaping-arrays\" data-toc-modified-id=\"Flattening-or-reshaping-arrays-1.2.2\"><span class=\"toc-item-num\">1.2.2&nbsp;&nbsp;</span>Flattening or reshaping arrays</a></span></li></ul></li><li><span><a href=\"#Pre-allocating-arrays\" data-toc-modified-id=\"Pre-allocating-arrays-1.3\"><span class=\"toc-item-num\">1.3&nbsp;&nbsp;</span>Pre-allocating arrays</a></span></li><li><span><a href=\"#scipy-matrices\" data-toc-modified-id=\"scipy-matrices-1.4\"><span class=\"toc-item-num\">1.4&nbsp;&nbsp;</span><code>scipy</code> matrices</a></span><ul class=\"toc-item\"><li><span><a href=\"#Matrix-vector-operations\" data-toc-modified-id=\"Matrix-vector-operations-1.4.1\"><span class=\"toc-item-num\">1.4.1&nbsp;&nbsp;</span>Matrix-vector operations</a></span></li></ul></li><li><span><a href=\"#Two-useful-scipy-sub-packages\" data-toc-modified-id=\"Two-useful-scipy-sub-packages-1.5\"><span class=\"toc-item-num\">1.5&nbsp;&nbsp;</span>Two useful <code>scipy</code> sub-packages</a></span><ul class=\"toc-item\"><li><span><a href=\"#sc.stats\" data-toc-modified-id=\"sc.stats-1.5.1\"><span class=\"toc-item-num\">1.5.1&nbsp;&nbsp;</span><code>sc.stats</code></a></span></li><li><span><a href=\"#sc.integrate\" data-toc-modified-id=\"sc.integrate-1.5.2\"><span class=\"toc-item-num\">1.5.2&nbsp;&nbsp;</span><code>sc.integrate</code></a></span><ul class=\"toc-item\"><li><span><a href=\"#The-Lotka-Volterra-model\" data-toc-modified-id=\"The-Lotka-Volterra-model-1.5.2.1\"><span class=\"toc-item-num\">1.5.2.1&nbsp;&nbsp;</span>The Lotka-Volterra model</a></span></li></ul></li></ul></li></ul></li><li><span><a href=\"#The-need-for-speed:-Profiling-in-Python\" data-toc-modified-id=\"The-need-for-speed:-Profiling-in-Python-2\"><span class=\"toc-item-num\">2&nbsp;&nbsp;</span>The need for speed: Profiling in Python</a></span><ul class=\"toc-item\"><li><span><a href=\"#Profiling\" data-toc-modified-id=\"Profiling-2.1\"><span class=\"toc-item-num\">2.1&nbsp;&nbsp;</span>Profiling</a></span></li><li><span><a href=\"#Quick-profiling-with-timeit\" data-toc-modified-id=\"Quick-profiling-with-timeit-2.2\"><span class=\"toc-item-num\">2.2&nbsp;&nbsp;</span>Quick profiling with <code>timeit</code></a></span></li></ul></li><li><span><a href=\"#Practicals\" data-toc-modified-id=\"Practicals-3\"><span class=\"toc-item-num\">3&nbsp;&nbsp;</span>Practicals</a></span><ul class=\"toc-item\"><li><span><a href=\"#Lotka-Volterra-model-problem\" data-toc-modified-id=\"Lotka-Volterra-model-problem-3.1\"><span class=\"toc-item-num\">3.1&nbsp;&nbsp;</span>Lotka-Volterra model problem</a></span></li></ul></li><li><span><a href=\"#Networks-in-python\" data-toc-modified-id=\"Networks-in-python-4\"><span class=\"toc-item-num\">4&nbsp;&nbsp;</span>Networks in <code>python</code></a></span></li><li><span><a href=\"#Practicals\" data-toc-modified-id=\"Practicals-5\"><span class=\"toc-item-num\">5&nbsp;&nbsp;</span>Practicals</a></span></li><li><span><a href=\"#Regular-expressions-in-python\" data-toc-modified-id=\"Regular-expressions-in-python-6\"><span class=\"toc-item-num\">6&nbsp;&nbsp;</span>Regular expressions in <code>python</code></a></span><ul class=\"toc-item\"><li><span><a href=\"#Metacharacters-vs.-regular-characters\" data-toc-modified-id=\"Metacharacters-vs.-regular-characters-6.1\"><span class=\"toc-item-num\">6.1&nbsp;&nbsp;</span>Metacharacters vs. regular characters</a></span></li><li><span><a href=\"#regex-elements\" data-toc-modified-id=\"regex-elements-6.2\"><span class=\"toc-item-num\">6.2&nbsp;&nbsp;</span>regex elements</a></span></li><li><span><a href=\"#regex-in-python\" data-toc-modified-id=\"regex-in-python-6.3\"><span class=\"toc-item-num\">6.3&nbsp;&nbsp;</span>regex in <code>python</code></a></span></li><li><span><a href=\"#Some-RegExercises\" data-toc-modified-id=\"Some-RegExercises-6.4\"><span class=\"toc-item-num\">6.4&nbsp;&nbsp;</span>Some RegExercises</a></span></li><li><span><a href=\"#Important-re-functions\" data-toc-modified-id=\"Important-re-functions-6.5\"><span class=\"toc-item-num\">6.5&nbsp;&nbsp;</span>Important <code>re</code> functions</a></span></li></ul></li><li><span><a href=\"#Practicals\" data-toc-modified-id=\"Practicals-7\"><span class=\"toc-item-num\">7&nbsp;&nbsp;</span>Practicals</a></span><ul class=\"toc-item\"><li><ul class=\"toc-item\"><li><span><a href=\"#Blackbirds-problem\" data-toc-modified-id=\"Blackbirds-problem-7.0.1\"><span class=\"toc-item-num\">7.0.1&nbsp;&nbsp;</span>Blackbirds problem</a></span></li></ul></li></ul></li><li><span><a href=\"#Databases-and-python\" data-toc-modified-id=\"Databases-and-python-8\"><span class=\"toc-item-num\">8&nbsp;&nbsp;</span>Databases and <code>python</code></a></span><ul class=\"toc-item\"><li><span><a href=\"#Relational-databases\" data-toc-modified-id=\"Relational-databases-8.1\"><span class=\"toc-item-num\">8.1&nbsp;&nbsp;</span>Relational databases</a></span></li><li><span><a href=\"#SQLite\" data-toc-modified-id=\"SQLite-8.2\"><span class=\"toc-item-num\">8.2&nbsp;&nbsp;</span>SQLite</a></span></li><li><span><a href=\"#SQLite-with-python\" data-toc-modified-id=\"SQLite-with-python-8.3\"><span class=\"toc-item-num\">8.3&nbsp;&nbsp;</span>SQLite with python</a></span></li></ul></li><li><span><a href=\"#Using-Python-to-build-workflows\" data-toc-modified-id=\"Using-Python-to-build-workflows-9\"><span class=\"toc-item-num\">9&nbsp;&nbsp;</span>Using Python to build workflows</a></span><ul class=\"toc-item\"><li><span><a href=\"#Using-subprocess\" data-toc-modified-id=\"Using-subprocess-9.1\"><span class=\"toc-item-num\">9.1&nbsp;&nbsp;</span>Using <code>subprocess</code></a></span></li><li><span><a href=\"#Running-R\" data-toc-modified-id=\"Running-R-9.2\"><span class=\"toc-item-num\">9.2&nbsp;&nbsp;</span>Running <code>R</code></a></span></li></ul></li><li><span><a href=\"#Practicals\" data-toc-modified-id=\"Practicals-10\"><span class=\"toc-item-num\">10&nbsp;&nbsp;</span>Practicals</a></span><ul class=\"toc-item\"><li><ul class=\"toc-item\"><li><span><a href=\"#Using-os-problem-1\" data-toc-modified-id=\"Using-os-problem-1-10.0.1\"><span class=\"toc-item-num\">10.0.1&nbsp;&nbsp;</span>Using <code>os</code> problem 1</a></span></li><li><span><a href=\"#Using-os-problem-2\" data-toc-modified-id=\"Using-os-problem-2-10.0.2\"><span class=\"toc-item-num\">10.0.2&nbsp;&nbsp;</span>Using <code>os</code> problem 2</a></span></li></ul></li></ul></li><li><span><a href=\"#Practicals-wrap-up\" data-toc-modified-id=\"Practicals-wrap-up-11\"><span class=\"toc-item-num\">11&nbsp;&nbsp;</span>Practicals wrap-up</a></span></li><li><span><a href=\"#Readings-and-Resources\" data-toc-modified-id=\"Readings-and-Resources-12\"><span class=\"toc-item-num\">12&nbsp;&nbsp;</span>Readings and Resources</a></span></li></ul></div>"
   ]
  },
  {
   "cell_type": "markdown",
   "metadata": {},
   "source": [
    "In this chapter, we will build on the [previous chapter](05-Python_I.ipynb). We cover some more advanced topics that will round-off your training in Biological Computing in Python. \n",
    "\n",
    "## Numerical computing in Python\n",
    "\n",
    "The python package `scipy` can help you do serious number crunching including,\n",
    "\n",
    "* Linear algebra (matrix and vector operations)\n",
    "* Numerical integration (Solving ODEs)\n",
    "* Fourier transforms\n",
    "* Interpolation\n",
    "* Calculating special functions (incomplete Gamma, Bessel, etc.)\n",
    "* Generation of random numbers\n",
    "* Using statistical functions and transformations\n",
    "\n",
    "In the following, we will use the `array` data structure in `scipy` for data manipulations and calculations. Scipy\n",
    "arrays are objects, and are similar in some respects to python lists, but are more naturally multidimensional, homogeneous in type (the default is float), and allow efficient (fast) manipulations. Thus scipy arrays are analogous to the R `matrix` data object/structure.\n",
    "\n",
    "The same array objects are accessible within the `numpy` package, which is a subset of `scipy`.\n",
    "\n",
    "So let's try `scipy`:"
   ]
  },
  {
   "cell_type": "code",
   "execution_count": 10,
   "metadata": {},
   "outputs": [],
   "source": [
    "import scipy as sc"
   ]
  },
  {
   "cell_type": "code",
   "execution_count": 11,
   "metadata": {},
   "outputs": [
    {
     "data": {
      "text/plain": [
       "array([0, 1, 2, 3, 4])"
      ]
     },
     "execution_count": 11,
     "metadata": {},
     "output_type": "execute_result"
    }
   ],
   "source": [
    "a = sc.array(range(5)) # a one-dimensional array\n",
    "a"
   ]
  },
  {
   "cell_type": "code",
   "execution_count": 12,
   "metadata": {},
   "outputs": [
    {
     "name": "stdout",
     "output_type": "stream",
     "text": [
      "<class 'numpy.ndarray'>\n"
     ]
    }
   ],
   "source": [
    "print(type(a))"
   ]
  },
  {
   "cell_type": "code",
   "execution_count": 8,
   "metadata": {},
   "outputs": [
    {
     "name": "stdout",
     "output_type": "stream",
     "text": [
      "<class 'numpy.int64'>\n"
     ]
    }
   ],
   "source": [
    "print(type(a[0]))"
   ]
  },
  {
   "cell_type": "markdown",
   "metadata": {},
   "source": [
    "Thus the last two outputs tell you that firstly, there is a data structure type (and a class) called `numpy.ndarray`, and secondly, that at position `0` (remember, Pthin indexing starts at 0) it holds an [64 bit integer](https://en.wikipedia.org/wiki/9,223,372,036,854,775,807). All elements in `a` will be of type `int` because that is what `range()` returns (try `?range`).\n",
    "\n",
    "![A graphical depiction of numpy/scipy arrays, which can have multiple\n",
    "dimensions (even greater than 3). From\n",
    "<http://pages.physics.cornell.edu/~myers/teaching/ComputationalMethods/python/arrays.html>](./graphics/numpyarray.png)\n",
    "\n",
    "You can also specify the data type of the array:"
   ]
  },
  {
   "cell_type": "code",
   "execution_count": 15,
   "metadata": {},
   "outputs": [
    {
     "data": {
      "text/plain": [
       "array([ 0.,  1.,  2.,  3.,  4.])"
      ]
     },
     "execution_count": 15,
     "metadata": {},
     "output_type": "execute_result"
    }
   ],
   "source": [
    "a = sc.array(range(5), float)\n",
    "a"
   ]
  },
  {
   "cell_type": "code",
   "execution_count": 16,
   "metadata": {},
   "outputs": [
    {
     "data": {
      "text/plain": [
       "dtype('float64')"
      ]
     },
     "execution_count": 16,
     "metadata": {},
     "output_type": "execute_result"
    }
   ],
   "source": [
    "a.dtype # Check type "
   ]
  },
  {
   "cell_type": "markdown",
   "metadata": {},
   "source": [
    "You can also get a 1-D arrays as follows:"
   ]
  },
  {
   "cell_type": "code",
   "execution_count": 17,
   "metadata": {},
   "outputs": [
    {
     "data": {
      "text/plain": [
       "array([0, 1, 2, 3, 4])"
      ]
     },
     "execution_count": 17,
     "metadata": {},
     "output_type": "execute_result"
    }
   ],
   "source": [
    "x = sc.arange(5)\n",
    "x"
   ]
  },
  {
   "cell_type": "code",
   "execution_count": 19,
   "metadata": {},
   "outputs": [
    {
     "data": {
      "text/plain": [
       "array([ 0.,  1.,  2.,  3.,  4.])"
      ]
     },
     "execution_count": 19,
     "metadata": {},
     "output_type": "execute_result"
    }
   ],
   "source": [
    "x = sc.arange(5.) #directly specify float using decimal\n",
    "x"
   ]
  },
  {
   "cell_type": "markdown",
   "metadata": {},
   "source": [
    "As with other Python variables (e.g., created as a list or a dictionary), you can apply methods to variables created as scipy arrays. For example, type `x.` and hit TAB to see all methods you can apply to`x`. To see dimensions of `x`:"
   ]
  },
  {
   "cell_type": "code",
   "execution_count": 28,
   "metadata": {},
   "outputs": [
    {
     "data": {
      "text/plain": [
       "(5,)"
      ]
     },
     "execution_count": 28,
     "metadata": {},
     "output_type": "execute_result"
    }
   ],
   "source": [
    "x.shape"
   ]
  },
  {
   "cell_type": "markdown",
   "metadata": {},
   "source": [
    "Remember, you can type `:?x.methodname` to get info on a particular method. For example, try `?x.shape`.\n",
    "\n",
    "You can also convert to and from Python lists:"
   ]
  },
  {
   "cell_type": "code",
   "execution_count": 33,
   "metadata": {},
   "outputs": [
    {
     "data": {
      "text/plain": [
       "array([1, 3, 5, 7, 9])"
      ]
     },
     "execution_count": 33,
     "metadata": {},
     "output_type": "execute_result"
    }
   ],
   "source": [
    "b = sc.array([i for i in range(10) if i%2==1]) #odd numbersbetween 1 and `0 \n",
    "b"
   ]
  },
  {
   "cell_type": "code",
   "execution_count": 34,
   "metadata": {},
   "outputs": [
    {
     "data": {
      "text/plain": [
       "[1, 3, 5, 7, 9]"
      ]
     },
     "execution_count": 34,
     "metadata": {},
     "output_type": "execute_result"
    }
   ],
   "source": [
    "c = b.tolist() #convert back to list\n",
    "c"
   ]
  },
  {
   "cell_type": "markdown",
   "metadata": {},
   "source": [
    "To make a matrix, you need a 2-D scipy array:"
   ]
  },
  {
   "cell_type": "code",
   "execution_count": 42,
   "metadata": {},
   "outputs": [
    {
     "data": {
      "text/plain": [
       "array([[0, 1],\n",
       "       [2, 3]])"
      ]
     },
     "execution_count": 42,
     "metadata": {},
     "output_type": "execute_result"
    }
   ],
   "source": [
    "mat = sc.array([[0, 1], [2, 3]])\n",
    "mat"
   ]
  },
  {
   "cell_type": "code",
   "execution_count": 43,
   "metadata": {},
   "outputs": [
    {
     "data": {
      "text/plain": [
       "(2, 2)"
      ]
     },
     "execution_count": 43,
     "metadata": {},
     "output_type": "execute_result"
    }
   ],
   "source": [
    "mat.shape"
   ]
  },
  {
   "cell_type": "markdown",
   "metadata": {},
   "source": [
    "### Indexing and accessing arrays\n",
    "\n",
    "As with other Python data objects such as lists, scipy array elements can be accessed using square brackets (`[ ]`) with the `[row,column]` reference. Indexing of scipy arrays works like that for other data structures, with index values starting at 0. So, you can obtain all the elements of a particular row as:"
   ]
  },
  {
   "cell_type": "code",
   "execution_count": 36,
   "metadata": {},
   "outputs": [
    {
     "data": {
      "text/plain": [
       "array([2, 3])"
      ]
     },
     "execution_count": 36,
     "metadata": {},
     "output_type": "execute_result"
    }
   ],
   "source": [
    "mat[1] # accessing whole 2nd row, remember indexing starts at  0"
   ]
  },
  {
   "cell_type": "code",
   "execution_count": 37,
   "metadata": {},
   "outputs": [
    {
     "data": {
      "text/plain": [
       "array([1, 3])"
      ]
     },
     "execution_count": 37,
     "metadata": {},
     "output_type": "execute_result"
    }
   ],
   "source": [
    "mat[:,1] #accessing whole second column  "
   ]
  },
  {
   "cell_type": "markdown",
   "metadata": {},
   "source": [
    "And accessing particular elements:"
   ]
  },
  {
   "cell_type": "code",
   "execution_count": 38,
   "metadata": {},
   "outputs": [
    {
     "data": {
      "text/plain": [
       "0"
      ]
     },
     "execution_count": 38,
     "metadata": {},
     "output_type": "execute_result"
    }
   ],
   "source": [
    "mat[0,0] # 1st row, 1st column element"
   ]
  },
  {
   "cell_type": "code",
   "execution_count": 39,
   "metadata": {},
   "outputs": [
    {
     "data": {
      "text/plain": [
       "2"
      ]
     },
     "execution_count": 39,
     "metadata": {},
     "output_type": "execute_result"
    }
   ],
   "source": [
    "mat[1,0] # 2nd row, 1st column element"
   ]
  },
  {
   "cell_type": "markdown",
   "metadata": {},
   "source": [
    "Note that (like all other programming languages) row index always comes before column index. That is, `mat[1]` is always going to mean \"whole second row\", and `mat[1,1]` means 1st row and 1st column element. Therefore, to access the whole second column, you need:"
   ]
  },
  {
   "cell_type": "code",
   "execution_count": 40,
   "metadata": {},
   "outputs": [
    {
     "data": {
      "text/plain": [
       "array([0, 2])"
      ]
     },
     "execution_count": 40,
     "metadata": {},
     "output_type": "execute_result"
    }
   ],
   "source": [
    "mat[:,0] #accessing whole first column  "
   ]
  },
  {
   "cell_type": "markdown",
   "metadata": {},
   "source": [
    "Python indexing also accepts negative values for going back to the start\n",
    "from the end of an array:"
   ]
  },
  {
   "cell_type": "code",
   "execution_count": 44,
   "metadata": {},
   "outputs": [
    {
     "data": {
      "text/plain": [
       "1"
      ]
     },
     "execution_count": 44,
     "metadata": {},
     "output_type": "execute_result"
    }
   ],
   "source": [
    "mat[0,1]"
   ]
  },
  {
   "cell_type": "code",
   "execution_count": 45,
   "metadata": {},
   "outputs": [
    {
     "data": {
      "text/plain": [
       "1"
      ]
     },
     "execution_count": 45,
     "metadata": {},
     "output_type": "execute_result"
    }
   ],
   "source": [
    "mat[0,-1] #interesting!"
   ]
  },
  {
   "cell_type": "code",
   "execution_count": 46,
   "metadata": {},
   "outputs": [
    {
     "data": {
      "text/plain": [
       "0"
      ]
     },
     "execution_count": 46,
     "metadata": {},
     "output_type": "execute_result"
    }
   ],
   "source": [
    "mat[0,-2] #very interesting, perhaps useless!"
   ]
  },
  {
   "cell_type": "markdown",
   "metadata": {},
   "source": [
    "### Manipulating arrays\n",
    "\n",
    "Manipulating scipy arrays is pretty straightforward. \n",
    "\n",
    "---\n",
    "> **Why scipy/numpy arrays are computationally efficient:**  The data associated with numpy array object (its metadata  - number of dimensions, shape, data type, etc - as well as the actual data) are stored in a homogeneous and contiguous block of memory (a \"data buffer\"), at a particular address in the system's RAM (Random Access Memory). This makes numpy arrays more efficient than a pure Python data structures like lists whose data are scattered across the system memory.\n",
    "\n",
    "---\n",
    "\n",
    "#### Replacing, adding or deleting elements\n",
    "\n",
    "Let's look at how you can replace, add, or delete an array element (a single entry, or whole row(s) or whole column(s)):"
   ]
  },
  {
   "cell_type": "code",
   "execution_count": 47,
   "metadata": {},
   "outputs": [
    {
     "data": {
      "text/plain": [
       "array([[-1,  1],\n",
       "       [ 2,  3]])"
      ]
     },
     "execution_count": 47,
     "metadata": {},
     "output_type": "execute_result"
    }
   ],
   "source": [
    "mat[0,0] = -1 #replace a single element\n",
    "mat"
   ]
  },
  {
   "cell_type": "code",
   "execution_count": 48,
   "metadata": {},
   "outputs": [
    {
     "data": {
      "text/plain": [
       "array([[12,  1],\n",
       "       [12,  3]])"
      ]
     },
     "execution_count": 48,
     "metadata": {},
     "output_type": "execute_result"
    }
   ],
   "source": [
    "mat[:,0] = [12,12] #replace whole column\n",
    "mat"
   ]
  },
  {
   "cell_type": "code",
   "execution_count": 49,
   "metadata": {
    "scrolled": true
   },
   "outputs": [
    {
     "data": {
      "text/plain": [
       "array([[12,  1],\n",
       "       [12,  3],\n",
       "       [12, 12]])"
      ]
     },
     "execution_count": 49,
     "metadata": {},
     "output_type": "execute_result"
    }
   ],
   "source": [
    "sc.append(mat, [[12,12]], axis = 0) #append row, note axis specification"
   ]
  },
  {
   "cell_type": "code",
   "execution_count": 50,
   "metadata": {},
   "outputs": [
    {
     "data": {
      "text/plain": [
       "array([[12,  1, 12],\n",
       "       [12,  3, 12]])"
      ]
     },
     "execution_count": 50,
     "metadata": {},
     "output_type": "execute_result"
    }
   ],
   "source": [
    "sc.append(mat, [[12],[12]], axis = 1) #append column"
   ]
  },
  {
   "cell_type": "code",
   "execution_count": 51,
   "metadata": {},
   "outputs": [],
   "source": [
    "newRow = [[12,12]] #create new row"
   ]
  },
  {
   "cell_type": "code",
   "execution_count": 53,
   "metadata": {},
   "outputs": [
    {
     "data": {
      "text/plain": [
       "array([[12,  1],\n",
       "       [12,  3],\n",
       "       [12, 12],\n",
       "       [12, 12]])"
      ]
     },
     "execution_count": 53,
     "metadata": {},
     "output_type": "execute_result"
    }
   ],
   "source": [
    "mat = sc.append(mat, newRow, axis = 0) #append that existing row\n",
    "mat"
   ]
  },
  {
   "cell_type": "code",
   "execution_count": 54,
   "metadata": {},
   "outputs": [
    {
     "data": {
      "text/plain": [
       "array([[12,  1],\n",
       "       [12,  3],\n",
       "       [12, 12]])"
      ]
     },
     "execution_count": 54,
     "metadata": {},
     "output_type": "execute_result"
    }
   ],
   "source": [
    "sc.delete(mat, 2, 0) #Delete 3rd row"
   ]
  },
  {
   "cell_type": "markdown",
   "metadata": {},
   "source": [
    "And concatenation:"
   ]
  },
  {
   "cell_type": "code",
   "execution_count": 55,
   "metadata": {},
   "outputs": [
    {
     "data": {
      "text/plain": [
       "array([[ 0,  1],\n",
       "       [ 2,  3],\n",
       "       [ 0, 10],\n",
       "       [-1,  3]])"
      ]
     },
     "execution_count": 55,
     "metadata": {},
     "output_type": "execute_result"
    }
   ],
   "source": [
    "mat = sc.array([[0, 1], [2, 3]])\n",
    "mat0 = sc.array([[0, 10], [-1, 3]])\n",
    "sc.concatenate((mat, mat0), axis = 0)"
   ]
  },
  {
   "cell_type": "markdown",
   "metadata": {},
   "source": [
    "#### Flattening or reshaping arrays\n",
    "\n",
    "You can also \"flatten\" or \"melt\" arrays, that is, change array dimensions (e.g., from a matrix to a vector):"
   ]
  },
  {
   "cell_type": "code",
   "execution_count": 57,
   "metadata": {},
   "outputs": [
    {
     "data": {
      "text/plain": [
       "array([0, 1, 2, 3])"
      ]
     },
     "execution_count": 57,
     "metadata": {},
     "output_type": "execute_result"
    }
   ],
   "source": [
    "mat.ravel() # NOTE: ravel is row-priority - happens row by row"
   ]
  },
  {
   "cell_type": "code",
   "execution_count": 58,
   "metadata": {},
   "outputs": [
    {
     "data": {
      "text/plain": [
       "array([[0],\n",
       "       [1],\n",
       "       [2],\n",
       "       [3]])"
      ]
     },
     "execution_count": 58,
     "metadata": {},
     "output_type": "execute_result"
    }
   ],
   "source": [
    "mat.reshape((4,1)) # this is different from ravel - check ?sc.reshape"
   ]
  },
  {
   "cell_type": "code",
   "execution_count": 60,
   "metadata": {},
   "outputs": [
    {
     "data": {
      "text/plain": [
       "array([[0, 1, 2, 3]])"
      ]
     },
     "execution_count": 60,
     "metadata": {},
     "output_type": "execute_result"
    }
   ],
   "source": [
    "mat.reshape((1,4)) # NOTE: reshaping is also row-priority"
   ]
  },
  {
   "cell_type": "code",
   "execution_count": 61,
   "metadata": {},
   "outputs": [
    {
     "ename": "ValueError",
     "evalue": "cannot reshape array of size 4 into shape (3,1)",
     "output_type": "error",
     "traceback": [
      "\u001b[0;31m---------------------------------------------------------------------------\u001b[0m",
      "\u001b[0;31mValueError\u001b[0m                                Traceback (most recent call last)",
      "\u001b[0;32m<ipython-input-61-b2ac8bfd10e7>\u001b[0m in \u001b[0;36m<module>\u001b[0;34m()\u001b[0m\n\u001b[0;32m----> 1\u001b[0;31m \u001b[0mmat\u001b[0m\u001b[0;34m.\u001b[0m\u001b[0mreshape\u001b[0m\u001b[0;34m(\u001b[0m\u001b[0;34m(\u001b[0m\u001b[0;36m3\u001b[0m\u001b[0;34m,\u001b[0m \u001b[0;36m1\u001b[0m\u001b[0;34m)\u001b[0m\u001b[0;34m)\u001b[0m \u001b[0;31m# But total elements must remain the same!\u001b[0m\u001b[0;34m\u001b[0m\u001b[0m\n\u001b[0m",
      "\u001b[0;31mValueError\u001b[0m: cannot reshape array of size 4 into shape (3,1)"
     ]
    }
   ],
   "source": [
    "mat.reshape((3, 1)) # But total elements must remain the same!"
   ]
  },
  {
   "cell_type": "markdown",
   "metadata": {},
   "source": [
    "This is a bit different than how `R` behaves ([Next Chapter]()), where you won't get an error (R \"recycles\" data), which is more dangerous!\n",
    "\n",
    "### Pre-allocating arrays\n",
    "\n",
    "As in other computer languages, it is usually more efficient to preallocate an array () rather than append / insert / concatenate additional elements, rows, or columns (*why* - because you might run out of contiguous space in the specific system memory (RAM) address where the current array is stored). For example, if you know the size of your matrix or array, you can initialize it with ones or zeros:"
   ]
  },
  {
   "cell_type": "code",
   "execution_count": 62,
   "metadata": {
    "scrolled": true
   },
   "outputs": [
    {
     "data": {
      "text/plain": [
       "array([[ 1.,  1.],\n",
       "       [ 1.,  1.],\n",
       "       [ 1.,  1.],\n",
       "       [ 1.,  1.]])"
      ]
     },
     "execution_count": 62,
     "metadata": {},
     "output_type": "execute_result"
    }
   ],
   "source": [
    "sc.ones((4,2)) #(4,2) are the (row,col) array dimensions"
   ]
  },
  {
   "cell_type": "code",
   "execution_count": 63,
   "metadata": {
    "scrolled": true
   },
   "outputs": [
    {
     "data": {
      "text/plain": [
       "array([[ 0.,  0.],\n",
       "       [ 0.,  0.],\n",
       "       [ 0.,  0.],\n",
       "       [ 0.,  0.]])"
      ]
     },
     "execution_count": 63,
     "metadata": {},
     "output_type": "execute_result"
    }
   ],
   "source": [
    "sc.zeros((4,2)) # or zeros"
   ]
  },
  {
   "cell_type": "code",
   "execution_count": 64,
   "metadata": {},
   "outputs": [
    {
     "data": {
      "text/plain": [
       "array([[ 1.,  0.,  0.,  0.],\n",
       "       [ 0.,  1.,  0.,  0.],\n",
       "       [ 0.,  0.,  1.,  0.],\n",
       "       [ 0.,  0.,  0.,  1.]])"
      ]
     },
     "execution_count": 64,
     "metadata": {},
     "output_type": "execute_result"
    }
   ],
   "source": [
    "m = sc.identity(4) #create an identity matrix\n",
    "m"
   ]
  },
  {
   "cell_type": "code",
   "execution_count": 65,
   "metadata": {},
   "outputs": [
    {
     "data": {
      "text/plain": [
       "array([[ 16.,  16.,  16.,  16.],\n",
       "       [ 16.,  16.,  16.,  16.],\n",
       "       [ 16.,  16.,  16.,  16.],\n",
       "       [ 16.,  16.,  16.,  16.]])"
      ]
     },
     "execution_count": 65,
     "metadata": {},
     "output_type": "execute_result"
    }
   ],
   "source": [
    "m.fill(16) #fill the matrix with 16\n",
    "m"
   ]
  },
  {
   "cell_type": "markdown",
   "metadata": {},
   "source": [
    "### `scipy` matrices\n",
    "\n",
    "Scipy also has a `matrix` data structure class. Scipy matrices are strictly 2-Dimensional, while scipy arrays are\n",
    "N-Dimensional. Matrix objects are a subclass of scipy arrays, so they inherit all the attributes and methods of scipy arrays (ndarrays).\n",
    "\n",
    "The main advantage of scipy matrices is that they provide a convenient notation for matrix multiplication: if a and b are matrices, then a*b is their matrix product.\n",
    "\n",
    "#### Matrix-vector operations\n",
    "\n",
    "Now let's perform some common matrix-vector operations on arrays (you can also try the same using matrices instead of arrays):"
   ]
  },
  {
   "cell_type": "code",
   "execution_count": 106,
   "metadata": {},
   "outputs": [
    {
     "data": {
      "text/plain": [
       "array([[ 0,  1,  2,  3],\n",
       "       [ 4,  5,  6,  7],\n",
       "       [ 8,  9, 10, 11],\n",
       "       [12, 13, 14, 15]])"
      ]
     },
     "execution_count": 106,
     "metadata": {},
     "output_type": "execute_result"
    }
   ],
   "source": [
    "mm = sc.arange(16)\n",
    "mm = mm.reshape(4,4) #Convert to matrix\n",
    "mm"
   ]
  },
  {
   "cell_type": "code",
   "execution_count": 107,
   "metadata": {
    "scrolled": true
   },
   "outputs": [
    {
     "data": {
      "text/plain": [
       "array([[ 0,  4,  8, 12],\n",
       "       [ 1,  5,  9, 13],\n",
       "       [ 2,  6, 10, 14],\n",
       "       [ 3,  7, 11, 15]])"
      ]
     },
     "execution_count": 107,
     "metadata": {},
     "output_type": "execute_result"
    }
   ],
   "source": [
    "mm.transpose()"
   ]
  },
  {
   "cell_type": "code",
   "execution_count": 108,
   "metadata": {
    "scrolled": true
   },
   "outputs": [
    {
     "data": {
      "text/plain": [
       "array([[ 0,  5, 10, 15],\n",
       "       [ 5, 10, 15, 20],\n",
       "       [10, 15, 20, 25],\n",
       "       [15, 20, 25, 30]])"
      ]
     },
     "execution_count": 108,
     "metadata": {},
     "output_type": "execute_result"
    }
   ],
   "source": [
    "mm + mm.transpose()"
   ]
  },
  {
   "cell_type": "code",
   "execution_count": 109,
   "metadata": {
    "scrolled": true
   },
   "outputs": [
    {
     "data": {
      "text/plain": [
       "array([[ 0, -3, -6, -9],\n",
       "       [ 3,  0, -3, -6],\n",
       "       [ 6,  3,  0, -3],\n",
       "       [ 9,  6,  3,  0]])"
      ]
     },
     "execution_count": 109,
     "metadata": {},
     "output_type": "execute_result"
    }
   ],
   "source": [
    "mm - mm.transpose()"
   ]
  },
  {
   "cell_type": "code",
   "execution_count": 110,
   "metadata": {},
   "outputs": [
    {
     "data": {
      "text/plain": [
       "array([[  0,   4,  16,  36],\n",
       "       [  4,  25,  54,  91],\n",
       "       [ 16,  54, 100, 154],\n",
       "       [ 36,  91, 154, 225]])"
      ]
     },
     "execution_count": 110,
     "metadata": {},
     "output_type": "execute_result"
    }
   ],
   "source": [
    "mm * mm.transpose() ## Note: Elementwise multiplication!"
   ]
  },
  {
   "cell_type": "code",
   "execution_count": 111,
   "metadata": {},
   "outputs": [
    {
     "name": "stderr",
     "output_type": "stream",
     "text": [
      "/usr/local/lib/python3.5/dist-packages/ipykernel_launcher.py:1: RuntimeWarning: divide by zero encountered in floor_divide\n",
      "  \"\"\"Entry point for launching an IPython kernel.\n"
     ]
    },
    {
     "data": {
      "text/plain": [
       "array([[0, 0, 0, 0],\n",
       "       [4, 1, 0, 0],\n",
       "       [4, 1, 1, 0],\n",
       "       [4, 1, 1, 1]])"
      ]
     },
     "execution_count": 111,
     "metadata": {},
     "output_type": "execute_result"
    }
   ],
   "source": [
    "mm // mm.transpose() # Note the integer division"
   ]
  },
  {
   "cell_type": "code",
   "execution_count": 112,
   "metadata": {},
   "outputs": [
    {
     "data": {
      "text/plain": [
       "array([[  0.        ,   3.14159265,   6.28318531,   9.42477796],\n",
       "       [ 12.56637061,  15.70796327,  18.84955592,  21.99114858],\n",
       "       [ 25.13274123,  28.27433388,  31.41592654,  34.55751919],\n",
       "       [ 37.69911184,  40.8407045 ,  43.98229715,  47.1238898 ]])"
      ]
     },
     "execution_count": 112,
     "metadata": {},
     "output_type": "execute_result"
    }
   ],
   "source": [
    "mm * sc.pi"
   ]
  },
  {
   "cell_type": "code",
   "execution_count": 113,
   "metadata": {},
   "outputs": [
    {
     "data": {
      "text/plain": [
       "array([[ 56,  62,  68,  74],\n",
       "       [152, 174, 196, 218],\n",
       "       [248, 286, 324, 362],\n",
       "       [344, 398, 452, 506]])"
      ]
     },
     "execution_count": 113,
     "metadata": {},
     "output_type": "execute_result"
    }
   ],
   "source": [
    "mm.dot(mm) # MATRIX MULTIPLICATION"
   ]
  },
  {
   "cell_type": "code",
   "execution_count": 114,
   "metadata": {},
   "outputs": [
    {
     "data": {
      "text/plain": [
       "matrix([[ 0,  1,  2,  3],\n",
       "        [ 4,  5,  6,  7],\n",
       "        [ 8,  9, 10, 11],\n",
       "        [12, 13, 14, 15]])"
      ]
     },
     "execution_count": 114,
     "metadata": {},
     "output_type": "execute_result"
    }
   ],
   "source": [
    "mm = sc.matrix(mm) # convert to scipy matrix class\n",
    "mm"
   ]
  },
  {
   "cell_type": "code",
   "execution_count": 115,
   "metadata": {},
   "outputs": [
    {
     "data": {
      "text/plain": [
       "matrix([[ 56,  62,  68,  74],\n",
       "        [152, 174, 196, 218],\n",
       "        [248, 286, 324, 362],\n",
       "        [344, 398, 452, 506]])"
      ]
     },
     "execution_count": 115,
     "metadata": {},
     "output_type": "execute_result"
    }
   ],
   "source": [
    "mm*mm # now matrix multiplication is syntactically easier"
   ]
  },
  {
   "cell_type": "markdown",
   "metadata": {},
   "source": [
    "We can do a lot more by importing the `linalg` sub-package: `sc.linalg` (try it).\n",
    "\n",
    "### Two useful `scipy` sub-packages\n",
    "\n",
    "Two particularly useful `scipy` sub-packages are `sc.integrate` (*what will I need this for?*) and `sc.stats`. *Why not use `R` for this?* — because often you might just want to calculate some summary stats of your simulation results within Python.\n",
    "\n",
    "#### `sc.stats`\n",
    "\n",
    "Let's take a quick spin in `sc.stats`."
   ]
  },
  {
   "cell_type": "code",
   "execution_count": 116,
   "metadata": {},
   "outputs": [],
   "source": [
    "import scipy.stats"
   ]
  },
  {
   "cell_type": "code",
   "execution_count": 117,
   "metadata": {},
   "outputs": [
    {
     "data": {
      "text/plain": [
       "array([-1.11040676,  1.46218105, -1.31862249,  1.46861139, -0.98276766,\n",
       "       -0.23966559,  2.04260073, -0.42014852, -1.11174925, -0.67510441])"
      ]
     },
     "execution_count": 117,
     "metadata": {},
     "output_type": "execute_result"
    }
   ],
   "source": [
    "scipy.stats.norm.rvs(size = 10) # 10 samples from N(0,1)"
   ]
  },
  {
   "cell_type": "code",
   "execution_count": 118,
   "metadata": {},
   "outputs": [
    {
     "data": {
      "text/plain": [
       "array([2, 3, 7, 6, 6, 7, 3])"
      ]
     },
     "execution_count": 118,
     "metadata": {},
     "output_type": "execute_result"
    }
   ],
   "source": [
    "scipy.stats.randint.rvs(0, 10, size =7) # Random integers between 0 and 10"
   ]
  },
  {
   "cell_type": "markdown",
   "metadata": {},
   "source": [
    "#### `sc.integrate`\n",
    "\n",
    "Numerical integration is the approximate computation of an integral using numerical techniques. You need numerical integration whenever you have a complicated function that cannot be integrated analytically using\n",
    "anti-derivatives. A common application is solving ordinary differential equations (ODEs), commonly used for modelling biological systems.\n",
    "\n",
    "##### The Lotka-Volterra model\n",
    "Let's try `sc.integrate` for solving a classical model in biology — the Lotka-Volterra model for a predator-prey system.\n",
    "\n",
    "$\\star$ Create `LV1.py` in your weekly directory and run it.\n",
    "\n",
    "The Lotka-Volterra model is: $$\\label{eqn:LVMod}\n",
    "\\begin{aligned}\n",
    "    \\frac{dR}{dt} &= r R - a C R \\\\\n",
    "    \\frac{dC}{dt} &= - z C + e a C R\n",
    "\\end{aligned}$$\n",
    "\n",
    "where $C$ and $R$ are consumer (e.g., predator) and resource (e.g., prey) population sizes (either biomass or numbers), $r$ is the intrinsic growth rate of the resource population, $a$ is a \"search rate\" that determines the encounter rate between consumer and resource, $z$ is mortality rate and $e$ is the consumer's efficiency in converting resource to consumer biomass.\n",
    "\n",
    "`LV1.py` runs (numerically solves the ODE) this model and plots the equilbrium. Have good look at the code, line by line, and make sure that you understand what's going on. A subsequent practical will require you to use this code to simulate modified version of the LV model."
   ]
  },
  {
   "cell_type": "markdown",
   "metadata": {},
   "source": [
    "## The need for speed: Profiling in Python\n",
    "\n",
    "Donald Knuth says: *Premature optimization is the root of all evil*. Indeed, computational speed may not be your initial concern. Also, you should focus on developing clean, reliable, reusable code rather than worrying first about how fast your code runs. However, speed will become an issue when and if your analysis or modeling becomes\n",
    "complex enough (e.g., food web or large network simulations). In that case, knowing which parts of your code take the most time is useful – optimizing those parts may save you lots of time. To find out what is slowing down your code you need to use \"profiling\".\n",
    "\n",
    "### Profiling\n",
    "\n",
    "Profiling is easy in `ipython` – simply use the command: \n",
    "\n",
    "```python\n",
    "%run -p your_function_name\n",
    "```\n",
    "\n",
    "Let's write a simple illustrative program and name it `profileme.py`:\n",
    "```python\n",
    "def a_useless_function(x):\n",
    "    y = 0 \n",
    "    for i in range(100000000): # eight zeros! \n",
    "        y = y + i\n",
    "    return 0\n",
    "\n",
    "def another_useless_function(x):\n",
    "    y = 0 \n",
    "    z = 0 # start a counter\n",
    "    while z <= 100000000: # eight zeros!\n",
    "        y = y + x\n",
    "        z += 1\n",
    "    return 0\n",
    "    \n",
    "def a_less_useless_function(x):\n",
    "    y = 0 \n",
    "    for i in range(100000):# five zeros!\n",
    "        y = y + i\n",
    "    return 0\n",
    "\n",
    "def some_function(x):\n",
    "    print(x)\n",
    "    a_useless_function(x)\n",
    "    another_useless_function(x)\n",
    "    a_less_useless_function(x)\n",
    "    return 0\n",
    "\n",
    "some_function(1000)\n",
    "```\n",
    "Now run it with `run -p profileme.py`, and you should see something like: "
   ]
  },
  {
   "cell_type": "markdown",
   "metadata": {},
   "source": [
    "```bash\n",
    "      95 function calls (94 primitive calls) in 14.931 seconds\n",
    "\n",
    "   Ordered by: internal time\n",
    "\n",
    "   ncalls  tottime  percall  cumtime  percall filename:lineno(function)\n",
    "        1    9.347    9.347    9.347    9.347 profileme.py:7(another_useless_function)\n",
    "        1    5.577    5.577    5.577    5.577 profileme.py:1(a_useless_function)\n",
    "        1    0.005    0.005    0.005    0.005 profileme.py:15(a_less_useless_function)\n",
    "        1    0.000    0.000    0.000    0.000 {built-in method builtins.compile}\n",
    "   [more output]\n",
    "```"
   ]
  },
  {
   "cell_type": "markdown",
   "metadata": {},
   "source": [
    "The function `range` is taking long – we should use `xrange` instead. When iterating over a large number of\n",
    "values, `xrange`, unlike `range`, does not create all the values before iteration, but creates them \"on demand\" (ie.e., `xrange` is a \"generator\"). Range creates a list, so if you do `range(1, 10000000)` it creates a list in memory with 10000000 elements. For example, `range(1000000)`yields a 4Mb+ list.\n",
    "\n",
    "So let's modify the script:\n",
    "\n",
    "```python\n",
    "def a_useless_function(x):\n",
    "    y = 0\n",
    "    for i in xrange(100000000): # eight zeros!\n",
    "        y = y + i\n",
    "    return 0\n",
    "\n",
    "def another_useless_function(x):\n",
    "    y = 0 \n",
    "    z = 0 # start a counter\n",
    "    while z <= 100000000: # eight zeros!\n",
    "        y = y + x\n",
    "        z += 1\n",
    "    return 0\n",
    "    \n",
    "def a_less_useless_function(x):\n",
    "    y = 0 \n",
    "    for i in xrange(100000): # five zeros!\n",
    "        y = y + i\n",
    "    return 0\n",
    "\n",
    "def some_function(x):\n",
    "    print(x)\n",
    "    a_useless_function(x)\n",
    "    another_useless_function(x)\n",
    "    a_less_useless_function(x)\n",
    "    return 0\n",
    "\n",
    "some_function(1000)\n",
    "```\n",
    "\n",
    "Again running the program with the command `run -p` yields:"
   ]
  },
  {
   "cell_type": "markdown",
   "metadata": {},
   "source": [
    "So we saved 1.499 s! (not enough to grab a pint, but ah well...).\n",
    "\n",
    "### Quick profiling with `timeit`\n",
    "\n",
    "Alternatively, if you are writing your script and want to figure out what the best way to do something (say a particular command or a loop) might be, then you can use `timeit`.\n",
    "\n",
    "Type an run the following code in a python script called `timeitme.py`:\n",
    "\n",
    "```python\n",
    "##############################################################################\n",
    "# range vs. xrange.\n",
    "##############################################################################\n",
    "import time\n",
    "import timeit\n",
    "\n",
    "def a_not_useful_function():\n",
    "    y = 0\n",
    "    for i in range(100000):\n",
    "        y = y + i\n",
    "    return 0\n",
    "\n",
    "def a_less_useless_function():\n",
    "    y = 0\n",
    "    for i in xrange(100000):\n",
    "        y = y + i\n",
    "    return 0\n",
    "\n",
    "# One approach is to time it like this:\n",
    "start = time.time()\n",
    "a_not_useful_function()\n",
    "print \"a_not_useful_function takes %f s to run.\" % (time.time() - start)\n",
    "\n",
    "start = time.time()\n",
    "a_less_useless_function()\n",
    "print \"a_less_useless_function takes %f s to run.\" % (time.time() - start)\n",
    "\n",
    "# But you'll notice that if you run it multiple times, the time taken changes a\n",
    "# bit. So instead, you can also run:\n",
    "#   %timeit a_not_useful_function()\n",
    "#   %timeit a_less_useless_function()\n",
    "# in iPython.\n",
    "\n",
    "##############################################################################\n",
    "# for loops vs. list comprehensions.\n",
    "##############################################################################\n",
    "\n",
    "my_list = range(1000)\n",
    "\n",
    "def my_squares_loop(x):\n",
    "    out = []\n",
    "    for i in x:\n",
    "        out.append(i ** 2)\n",
    "    return out\n",
    "\n",
    "\n",
    "def my_squares_lc(x):\n",
    "    out = [i ** 2 for i in x]\n",
    "    return out\n",
    "\n",
    "# %timeit my_squares_loop(my_list)\n",
    "# %timeit my_squares_lc(my_list)\n",
    "\n",
    "\n",
    "##############################################################################\n",
    "# for loops vs. join method.\n",
    "##############################################################################\n",
    "\n",
    "import string\n",
    "my_letters = list(string.ascii_lowercase)\n",
    "\n",
    "def my_join_loop(l):\n",
    "    out = ''\n",
    "    for letter in l:\n",
    "        out += letter\n",
    "    return out\n",
    "\n",
    "\n",
    "def my_join_method(l):\n",
    "    out = ''.join(l)\n",
    "    return out\n",
    "\n",
    "# %timeit(my_join_loop(my_letters))\n",
    "# %timeit(my_join_method(my_letters))\n",
    "\n",
    "\n",
    "##############################################################################\n",
    "# Oh dear.\n",
    "##############################################################################\n",
    "\n",
    "def getting_silly_pi():\n",
    "    y = 0\n",
    "    for i in xrange(100000):\n",
    "        y = y + i\n",
    "    return 0\n",
    "\n",
    "\n",
    "def getting_silly_pii():\n",
    "    y = 0\n",
    "    for i in xrange(100000):\n",
    "        y += i\n",
    "    return 0\n",
    "\n",
    "# %timeit(getting_silly_pi())\n",
    "# %timeit(getting_silly_pii())\n",
    "```\n",
    "Now run it these different instances of timeit-ing by tying the `%timeit` command followed by the function call. Note that you can import all the functions using `from timeitme import *`\n",
    "\n",
    "But remember, don't go crazy with profiling for the sake of shaving a couple of milliseconds, tempting as that may be!"
   ]
  },
  {
   "cell_type": "markdown",
   "metadata": {},
   "source": [
    "## Practicals\n",
    "\n",
    "As always, test, add, commit and push all your new code and data to your git repository.\n",
    "\n",
    "### Lotka-Volterra model problem\n",
    "\n",
    "Copy and modify `LV1.py` into another script called `LV2.py` that does the following:\n",
    "\n",
    "1.  Take arguments for the four LV model parameters $r$, $a$, $z$ ,$e$ from the command line:\n",
    "```\n",
    "LV2.py arg1 arg2 ... etc\n",
    "```\n",
    "2.  Runs the Lotka-Volterra model with prey density dependence $r R (1 - \\frac{R} {K})$, which changes the coupled ODEs to,\n",
    "\n",
    "\\begin{aligned}\n",
    "    \\frac{dR}{dt} &= r R (1 - \\frac{R} {K}) - a C R \\\\\n",
    "    \\frac{dC}{dt} &= - z C + e a C R\n",
    "\\end{aligned}\n",
    "\n",
    "3.  Saves the plot as `.pdf` in an external results directory\n",
    "    in your weekly directory\n",
    "\n",
    "4.  The chosen parameter values should show in the plot (e.g.,\n",
    "    $r = 1, a = .5 $, etc) You can change time length $t$ too.\n",
    "\n",
    "5.  Include a script in `Code` that will run both\n",
    "    `LV1.py` and `LV2.py` with\n",
    "    appropriate arguments. This script should also profile the two\n",
    "    scripts and print the results to screen for each of the scripts\n",
    "    using the `%run -p` approach. Look at and compare the\n",
    "    speed bottlenecks in `LV1.py` and `LV2.py`.\n",
    "    Think about how you could further speed up the scripts.\n",
    "\n",
    "*Write every subsequent extra credit script file with a new name such as `LV3.py`,`LV4.py`, etc.* \n",
    "\n",
    "**Extra credit**: Choose appropriate values for the parameters such that both predator and prey persist with prey density dependence — the final (non-zero) population values should be printed to screen.\n",
    "\n",
    "**Extra-extra credit**: Write a discrete-time version of the LV model called `LV3.py`. The discrete-time model is:\n",
    "\n",
    "\\begin{align} \n",
    "    R_{t+1} &= R_t (1 + r \\left(1 - \\frac{R_t}{K}\\right) - a C_t)\\\\ \n",
    "    C_{t+1} &= C_t (1 - z + e a R_t) \n",
    "\\end{align}\n",
    "\n",
    "Include this script in `run_LV.py`, and profile it as well.\n",
    "\n",
    "`**Extra-extra-extra credit**`: Write a version of the discrete-time model (eqn \\[eqn:LVDisc\\]) simulation with a random gaussian fluctuation in resource's growth rate at each time-step:\n",
    "\n",
    "\\begin{aligned}\n",
    "        R_{t+1} &= R_t (1 + (r + \\epsilon) \\left(1 - \\frac{R_t}{K}\\right)- a C_t)\\\\\n",
    "        C_{t+1} &= C_t (1 - z + e a R_t)\n",
    "\\end{aligned}\n",
    "\n",
    "where $\\epsilon$ is a random fluctuation drawn from a gaussian distribution (use `sc.stats`). Include this\n",
    "script in ` run_LV.py`, and profile it as well.\n",
    "\n",
    "You can also add fluctuations to both populations simultaneously this\n",
    "way: \n",
    "\\begin{aligned}\n",
    "    R_{t+1} &= R_t (1 + \\epsilon + r +  \\left(1 - \\frac{R_t}{K}\\right) - a C_t)\\\\\n",
    "    C_{t+1} &= C_t (1 - z + \\epsilon + e a R_t)\n",
    "\\end{aligned}"
   ]
  },
  {
   "cell_type": "markdown",
   "metadata": {},
   "source": [
    "## Networks in `python`\n",
    "\n",
    "ALL biological systems have a network representation, consisting of nodes for the biological entities of interest, and edges or links for the relationships between them. Here are some examples:\n",
    "* Metabolic networks\n",
    "* Gene regulatory networks\n",
    "* Individual-Individual (e.g., social networks)\n",
    "* Food webs\n",
    "* Pollination networks\n",
    "\n",
    "*Can you think of a few more examples from biology?*\n",
    "\n",
    "You can easily simulate, analyze, and visualize biological networks inboth `python` and `R` using some nifty packages. A full network anaalysis tutorial is out of the scope of our Python module's objectives, but let's try a simple visualization using the ` networkx` python package.\n",
    "\n",
    "For this you need to first install the package:\n",
    "\n",
    "```bash\n",
    "sudo apt-get install python-networkx\n",
    "```"
   ]
  },
  {
   "cell_type": "markdown",
   "metadata": {},
   "source": []
  },
  {
   "cell_type": "code",
   "execution_count": null,
   "metadata": {},
   "outputs": [],
   "source": [
    "$ sudo apt-get install python-networkx  "
   ]
  },
  {
   "cell_type": "markdown",
   "metadata": {},
   "source": [
    "Now type the code file `DrawFW.py` and run it:\n",
    "\n",
    "Look thorugh the code carefully (line-by-line) as there are some new\n",
    "python objects introduced by `networkx` for storing node and\n",
    "edge data.\n",
    "\n",
    "Practicals\n",
    "----------\n",
    "\n",
    "You can also do nice network visualizations in R. Here you will convert\n",
    "a network visualization script written in `R` using the\n",
    "` igraph` package to a python script that does the same\n",
    "thing.\n",
    "\n",
    "First copy the script file called `Nets.R` and the data files\n",
    "it calls and run it. This script visualizes the QMEE CDT collaboration\n",
    "network (see <http://www.imperial.ac.uk/qmee-cdt/>), coloring the the\n",
    "nodes by the type of node (organization type: \"University\",\"Hosting\n",
    "Partner\", \"Non-hosting Partner\").\n",
    "\n",
    "Now, convert this script to a `python` script that does the\n",
    "same thing, including writing to an `.svg` file using the\n",
    "same QMEE CDT link and node data. You can use `networkx` or\n",
    "some other python network visualization package.\n",
    "\n",
    "Regular expressions in `python`\n",
    "------------------------------------------\n",
    "\n",
    "Let's shift gears now, and look at a very important skill that you\n",
    "should learn, or at least be aware of — `*Regular\n",
    "expressions*`. Regular expressions (regex) are a tool to find\n",
    "patterns in strings, such as:\n",
    "\n",
    "Finding DNA motifs in sequence data\n",
    "\n",
    "Navigating through files in a directory\n",
    "\n",
    "Parsing text files\n",
    "\n",
    "Extracting information from html and xml files\n",
    "\n",
    "Thus, if you are interested in data mining, need to clean or process\n",
    "data in any other way, or convert a bunch of information into usable\n",
    "data, knowing regex is necessary.\n",
    "\n",
    "\\\n",
    "[www.xkcd.com/208/](www.xkcd.com/208/)\n",
    "\n",
    "Regex packages are available for most programming languages\n",
    "(`grep` in UNIX / Linux, where regex first became popular).\n",
    "\n",
    "### Metacharacters vs. regular characters\n",
    "\n",
    "A regex may consist of a combination of \"metacharacters\" (modifiers) and\n",
    "\"regular\" or literal characters. There are 14 metacharacters: ` \\[\n",
    "\\] { } ( ) \\\\  \\^ \\$ . $\\vert$ ? \\* + ` These metacharacters do\n",
    "special things, for example:\n",
    "\n",
    "means match target to `1` and if that does not match then\n",
    "match target to `2`\n",
    "\n",
    "means match to any character in range `0` to `9`\n",
    "\n",
    "means anything except upper or lower case ` f` and means\n",
    "everything except lower case `a` to `z`\n",
    "\n",
    "Everything else is interpreted literally (e.g., `a` is\n",
    "matched by entering `a` in the regex).\n",
    "\n",
    "`\\[ ` and `\\] `, specify a character \"class\" — the\n",
    "set of characters that you wish to match. Metacharacters are not active\n",
    "inside classes. For example, will match any of the characters\n",
    "`a` to `z`, but also `\\$`, because\n",
    "inside a character class it loses its special metacharacter status.\n",
    "\n",
    "### regex elements\n",
    "\n",
    "A useful (not exhaustive) list of regex elements is:\n",
    "\n",
    "  ---------------------------- ----------------------------------------------------------------------------------------------------------------------------------\n",
    "  `a`               match the character `a`\n",
    "  `3`               match the number `3`\n",
    "  `$\\backslash$n`   match a newline\n",
    "  `$\\backslash$t`   match a tab\n",
    "  `$\\backslash$s`   match a whitespace\n",
    "  `.`               match any character except line break (newline)\n",
    "  `$\\backslash$w`   match any alphanumeric character (including underscore)\n",
    "  `$\\backslash$W`   match any character not covered by ` $\\backslash$w` (i.e., match any non-alphanumeric character excluding underscore)\n",
    "  `$\\backslash$d`   match a numeric character\n",
    "  `$\\backslash$D`   match any character not covered by ` $\\backslash$d` (i.e., match a non-digit)\n",
    "                               match any character listed: `a`, `t`, `g`, `c`\n",
    "  `at|gc`           match `at` or `gc`\n",
    "                               any character not listed: any character but `a`, `t`, `g`, `c`\n",
    "  `?`               match the preceding pattern element zero or one times\n",
    "                               match the preceding pattern element zero or more times\n",
    "  `+`               match the preceding pattern element one or more times\n",
    "  `{n}`             match the preceding pattern element exactly `n` times\n",
    "  `{n,}`            match the preceding pattern element at least `n` times\n",
    "  `{n,m}`           match the preceding pattern element at least `n` but not more than `m` times\n",
    "  `\\^`              match the beginning of a line\n",
    "  `\\$`              match the end of a line\n",
    "  ---------------------------- ----------------------------------------------------------------------------------------------------------------------------------\n",
    "\n",
    "### regex in `python`\n",
    "\n",
    "Regex functions in python are in the module `re` — so we will\n",
    "`import re`. The simplest `python` regex function\n",
    "is ` re.search`, which searches the string for match to a\n",
    "given pattern — returns a *match object* if a match is found and\n",
    "`None` if not.\n",
    "\n",
    "`**Always**` put `r` in front of your regex — it\n",
    "tells python to read the regex in its \"raw\" (literal) form. Without raw\n",
    "string notation (r\"text\"), every backslash ('\\\\') in a regular\n",
    "expression would have to be prefixed with another one to escape it.\n",
    "\n",
    "From <https://docs.python.org/2/library/re.html>: `*If you're not\n",
    "using a raw string to express the pattern, remember that Python also\n",
    "uses the backslash as an escape sequence in string literals; if the\n",
    "escape sequence isn't recognized by Python's parser, the backslash and\n",
    "subsequent character are included in the resulting string. However, if\n",
    "Python would recognize the resulting sequence, the backslash should be\n",
    "repeated twice. This is complicated and hard to understand, so it's\n",
    "highly recommended that you use raw strings for all but the simplest\n",
    "expressions.*`\n",
    "\n",
    "OK, let's try some regexes (type all that follows in `\n",
    "Code/regexs.py`):\n",
    "\n",
    "To know whether a pattern was matched, we can use an `if`:"
   ]
  },
  {
   "cell_type": "code",
   "execution_count": null,
   "metadata": {},
   "outputs": [],
   "source": [
    "MyStr = 'an example'\n",
    "\n",
    "match = re.search(r'\\w*\\s', MyStr)\n",
    "\n",
    "if match:                      \n",
    "    print 'found a match:', match.group() \n",
    "else:\n",
    "    print 'did not find a match'    "
   ]
  },
  {
   "cell_type": "markdown",
   "metadata": {},
   "source": [
    "Here are some more regexes (add all that follows to the\n",
    "`Code/regexs.py`):\n",
    "\n",
    "![In case you were wondering what `*Theloderma asper*`, the\n",
    "\"bird-shit frog\", looks like. I snapped this one in North-east India\n",
    "ages ago](thelodermaasper.JPG){width=\".5\\textwidth\"}\n",
    "\n",
    "You can group regexes into meaningful blocks using parentheses. For\n",
    "example, let's try matching a string consisting of an academic's name,\n",
    "email address and research area or interest (no need to type this into\n",
    "any python file):"
   ]
  },
  {
   "cell_type": "code",
   "execution_count": null,
   "metadata": {},
   "outputs": [],
   "source": [
    "MyStr = 'Samraat Pawar, s.pawar@imperial.ac.uk, Systems biology and \n",
    "ecological theory'\n",
    "\n",
    "# without groups\n",
    "match = re.search(r\"[\\w\\s]*,\\s[\\w\\.@]*,\\s[\\w\\s&]*\",MyStr)\n",
    "\n",
    "match.group()\n",
    "'Samraat Pawar, s.pawar@imperial.ac.uk, Systems biology and ecological theory'\n",
    "\n",
    "match.group(0)\n",
    "'Samraat Pawar, s.pawar@imperial.ac.uk, Systems biology and ecological theory'\n",
    "\n",
    "# now add groups using ( )\n",
    "match = re.search(r\"([\\w\\s]*),\\s([\\w\\.@]*),\\s([\\w\\s&]*)\",MyStr)\n",
    "\n",
    "match.group(0)\n",
    "'Samraat Pawar, s.pawar@imperial.ac.uk, Systems biology and ecological theory'\n",
    "\n",
    "match.group(1)\n",
    "'Samraat Pawar'\n",
    "\n",
    "match.group(2)\n",
    "'s.pawar@imperial.ac.uk'\n",
    "\n",
    "match.group(3)\n",
    "'Systems biology and ecological theory'"
   ]
  },
  {
   "cell_type": "markdown",
   "metadata": {},
   "source": [
    "Have a look at `re4.py` in your code repository for more on\n",
    "parsing email addresses using regexes.\n",
    "\n",
    "### Some RegExercises\n",
    "\n",
    "These exercises are not for submission as part of your coursework, but\n",
    "we will discuss them in class (in a later week).\n",
    "\n",
    "Translate the following regular expressions into regular English (don't\n",
    "type this in `regexs.py`)!"
   ]
  },
  {
   "cell_type": "code",
   "execution_count": null,
   "metadata": {},
   "outputs": [],
   "source": [
    "r'^abc[ab]+\\s\\t\\d'\n",
    "% 'abca \\t1'\n",
    "\n",
    "r'^\\d{1,2}\\/\\d{1,2}\\/\\d{4}$'\n",
    "% '11/12/2004'\n",
    "\n",
    "r'\\s*[a-zA-Z,\\s]+\\s*'\n",
    "% ' aBz  '"
   ]
  },
  {
   "cell_type": "markdown",
   "metadata": {},
   "source": [
    "Write a regex to match dates in format YYYYMMDD, making sure that:\n",
    "\n",
    "Only seemingly valid dates match (i.e., year greater than 1900)\n",
    "\n",
    "First digit in month is either 0 or 1\n",
    "\n",
    "First digit in day $\\leq$ 3\n",
    "\n",
    "### Important `re` functions\n",
    "\n",
    "  -------------------------------------- -----------------------------------------------------------------------------------------------------------------------------------------------------------\n",
    "  `re.compile(reg)`           Compile a regular expression. In this way the pattern is stored for repeated use, improving the speed.\n",
    "  `re.search(reg, text)`      Scan the string and find the first match of the pattern in the string. Returns a `match` object if successful and `None` otherwise.\n",
    "  `re.match(reg, text)`       as `re.search`, but only match the beginning of the string.\n",
    "  `re.split(ref, text)`       Split the text by the occurrence of the pattern described by the regular expression.\n",
    "  `re.findall(ref, text)`     As `re.search`, but return a list of all the matches. If groups are present, return a list of groups.\n",
    "  `re.finditer(ref, text)`    As `re.search`, but return an iterator containing the next match.\n",
    "  `re.sub(ref, repl, text)`   Substitute each non-overlapping occurrence of the match with the text in `repl` (or a function!).\n",
    "  -------------------------------------- -----------------------------------------------------------------------------------------------------------------------------------------------------------\n",
    "\n",
    "Practicals\n",
    "----------\n",
    "\n",
    "As always, test, add, commit and push all your new code and data to your\n",
    "git repository.\n",
    "\n",
    "#### Blackbirds problem\n",
    "\n",
    "Complete the code `blackbirds.py` that you find in the `\n",
    "CMEEMasteRepo` (necessary data file is also there).\n",
    "\n",
    "Databases and `python`\n",
    "---------------------------------\n",
    "\n",
    "Many of you will deal with complex data — and often, lots of it.\n",
    "Ecological and Evolutionary data are particularly complex because they\n",
    "contain large numbers of attributes, often measured in very different\n",
    "scales and units for individual taxa, populations, etc. In this\n",
    "scenario, storing the data in a database makes a lot of sense! You can\n",
    "easily include the database in your analysis workflow — indeed, that's\n",
    "why people use databases. And you can use python (and R) to build,\n",
    "manipulate and use your database.\n",
    "\n",
    "### Relational databases\n",
    "\n",
    "A `*relational*` database is a collection of interlinked\n",
    "(` *related*`) tables that altogether store a complex dataset\n",
    "in a logical, computer-readable format. Dividing a dataset into multiple\n",
    "tables minimizes redundancies. For example, if your data were sampled\n",
    "from three sites — then, rather than repeating the site name and\n",
    "description in each row in a text file, you could just specify a\n",
    "numerical \"key\" that directs to another table containing the sampling\n",
    "site name and description.\n",
    "\n",
    "Finally, if you have many rows in your data file, the type of sequential\n",
    "access we have been using in our `python` and `R`\n",
    "scripts is inefficient — you should be able to instantly access any row\n",
    "regardless of its position\n",
    "\n",
    "Data columns in a database are usually called `*fields*`,\n",
    "while the rows are the `*records*`. Here are a few things to\n",
    "keep in mind about databases:\n",
    "\n",
    "Each field typically contains only one data type (e.g., integers,\n",
    "floats, strings)\n",
    "\n",
    "Each record is a \"data point\", composed of different values, one for\n",
    "each field — somewhat like a python tuple\n",
    "\n",
    "Some fields are special, and are called `*keys*`:\n",
    "\n",
    "The `*primary key*` uniquely defines a record in a table\n",
    "(e.g., each row is identified by a unique number)\n",
    "\n",
    "To allow fast retrieval, some fields (and typically all the keys) are\n",
    "indexed — a copy of certain columns that can be searched very\n",
    "efficiently\n",
    "\n",
    "`*Foreign keys*` are keys in a table that are primary keys in\n",
    "another table and define relationships between the tables\n",
    "\n",
    "The key to designing a database is to minimize redundancy and dependency\n",
    "without losing the logical consistency of tables — this is called\n",
    "`*normalization*` (arguably more of an art than a science!)\n",
    "\n",
    "Let's look at a simple example.\n",
    "\n",
    "Imagine you recorded body sizes of species from different field sites in\n",
    "a single text file (e.g., a `.csv` file) with the following\n",
    "fields:\n",
    "\n",
    "  -------------------------------- ---------------------------------------------\n",
    "  `ID`                  Unique ID for the record\n",
    "  `SiteName`            Name of the site\n",
    "  `SiteLong`            Longitude of the site\n",
    "  `SiteLat`             Latitude of the site\n",
    "  `SamplingDate`        Date of the sample\n",
    "  `SamplingHour`        Hour of the sampling\n",
    "  `SamplingAvgTemp`     Average air temperature on the sampling day\n",
    "  `SamplingWaterTemp`   Temperature of the water\n",
    "  `SamplingPH`          PH of the water\n",
    "  `SpeciesCommonName`   Species of the sampled individual\n",
    "  `SpeciesLatinBinom`   Latin binomial of the species\n",
    "  `BodySize`            Width of the individual\n",
    "  `BodyWeight`          Weight of the individual\n",
    "  -------------------------------- ---------------------------------------------\n",
    "\n",
    "\\\n",
    "It would be logical to divide the data into four tables:\n",
    "\n",
    "`*Site table*`:\\\n",
    "\n",
    "  ----------------------- -----------------------\n",
    "  `SiteID`     ID for the site\n",
    "  `SiteName`   Name of the site\n",
    "  `SiteLong`   Longitude of the site\n",
    "  `SiteLat`    Latitude of the site\n",
    "  ----------------------- -----------------------\n",
    "\n",
    "\\\n",
    "`*Sample table*`:\\\n",
    "\n",
    "  -------------------------------- --------------------------\n",
    "  `SamplingID`          ID for the sampling date\n",
    "  `SamplingDate`        Date of the sample\n",
    "  `SamplingHour`        Hour of the sample\n",
    "  `SamplingAvgTemp`     Average air temperature\n",
    "  `SamplingWaterTemp`   Temperature of the water\n",
    "  `SamplingPH`          PH of the water\n",
    "  -------------------------------- --------------------------\n",
    "\n",
    "\\\n",
    "`*Species table*`:\\\n",
    "\n",
    "  -------------------------------- -------------------------------\n",
    "  `SpeciesID`           ID for the species\n",
    "  `SpeciesCommonName`   Species name\n",
    "  `SpeciesLatinBinom`   Latin binomial of the species\n",
    "  -------------------------------- -------------------------------\n",
    "\n",
    "\\\n",
    "`*Individual table*`:\\\n",
    "\n",
    "  --------------------------- -------------------------------\n",
    "  `IndividualID`   ID for the individual sampled\n",
    "  `SpeciesID`      ID for the species\n",
    "  `SamplingID`     ID for the sampling day\n",
    "  `SiteID`         ID for the site\n",
    "  `BodySize`       Width of the individual\n",
    "  `BodyWeight`     Weight of the individual\n",
    "  --------------------------- -------------------------------\n",
    "\n",
    "\\\n",
    "In each table, the first ID field is the primary key. The last table\n",
    "contains three foreign keys because each individual is associated with\n",
    "one species, one sampling day and one sampling site.\n",
    "\n",
    "These structural features of a database are called its\n",
    "`*schema*`.\n",
    "\n",
    "### SQLite\n",
    "\n",
    "`SQLite` is a simple (and very popular) SQL (Structured Query\n",
    "Language)-based solution for managing localized, personal databases. I\n",
    "can safely bet that most, if not all of you unknowingly (or knowingly!)\n",
    "use `SQLite` — it is used by MacOSX, Firefox, Acrobat Reader,\n",
    "iTunes, Skype, iPhone, etc. SQLite is also the database \"engine\"\n",
    "underlying your Siwlood Masters Web App: <http://silwoodmasters.co.uk>\n",
    "\n",
    "We can easily use SQLite through Python scripts. First, install SQLite\n",
    "by typing in the Ubuntu terminal:"
   ]
  },
  {
   "cell_type": "code",
   "execution_count": null,
   "metadata": {},
   "outputs": [],
   "source": [
    "$ sudo apt-get install sqlite3 libsqlite3-dev"
   ]
  },
  {
   "cell_type": "markdown",
   "metadata": {},
   "source": [
    "Also, make sure that you have the necessary package for python by typing\n",
    "`import sqlite3` in the python or ipython shell. Finally, you\n",
    "may install a GUI for SQLite3 :"
   ]
  },
  {
   "cell_type": "code",
   "execution_count": null,
   "metadata": {},
   "outputs": [],
   "source": [
    "$ sudo apt-get install sqliteman"
   ]
  },
  {
   "cell_type": "markdown",
   "metadata": {},
   "source": [
    "Now type `sqlite3` in the Ubuntu terminal to check if SQLite\n",
    "successfully launches.\n",
    "\n",
    "SQLite has very few data types (and lacks a boolean and a date type):\n",
    "\n",
    "  ---------------------- ----------------------------------------------------------------------------------------------------------------------\n",
    "  `NULL`      The value is a NULL value\n",
    "  `INTEGER`   The value is a signed integer, stored in up to or 8 bytes\n",
    "  `REAL`      The value is a floating point value, stored as in 8 bytes\n",
    "  `TEXT`      The value is a text string\n",
    "  `BLOB`      The value is a blob of data, stored exactly as it was input (useful for binary types, such as bitmap images or pdfs)\n",
    "  ---------------------- ----------------------------------------------------------------------------------------------------------------------\n",
    "\n",
    "\\\n",
    "Typically, you will build a database by importing csv data — be aware\n",
    "that:\n",
    "\n",
    "Headers: the csv should have no headers\n",
    "\n",
    "Separators: if the comma is the separator, each record should not\n",
    "contain any other commas\n",
    "\n",
    "Quotes: there should be no quotes in the data\n",
    "\n",
    "Newlines: there should be no newlines\n",
    "\n",
    "Now build your first database in SQLite! We will use as example a global\n",
    "dataset on metabolic traits called `*Biotraits*` that we are\n",
    "currently developing in our lab (should be in your `Data`\n",
    "directory). This dataset contains 164 columns (fields). Thermal response\n",
    "curves for different traits and species are stored in rows. This means\n",
    "that site description or taxonomy are repeated as many times as\n",
    "temperatures are measured in the curve. You can imagine how much\n",
    "redundacy can be here!!!\n",
    "\n",
    "For this reason, it is easier to migrate the dataset to SQL and split it\n",
    "into several tables:\n",
    "\n",
    "TCP: Includes the thermal curve performance for each species and trait\n",
    "(as many rows per trait and species as temperatures have been measured\n",
    "within the TCP)\n",
    "\n",
    "TraitInfo: Contains site description and conditions under the traits\n",
    "were measured (one row per thermal curve)\n",
    "\n",
    "Consumer: Consumer description including taxonomy (one row per thermal\n",
    "curve).\n",
    "\n",
    "Resource: Resource description including taxonomy (one row per thermal\n",
    "curve).\n",
    "\n",
    "Size: Size data for each species (one row per thermal curve)\n",
    "\n",
    "DataSource: Contains information about the data source (citation,\n",
    "contributors) (one row per thermal curve).\n",
    "\n",
    "So all these tables compose the `*Biotraits*`\n",
    "`schema`.\n",
    "\n",
    "Navigate to your `Data` directory and in an Ubuntu terminal\n",
    "type:"
   ]
  },
  {
   "cell_type": "code",
   "execution_count": null,
   "metadata": {},
   "outputs": [],
   "source": [
    "$ sqlite3 Biotraits.db\n",
    "SQLite version 3.7.9\n",
    "Enter \".help\" for instructions\n",
    "Enter SQL statements terminated with a \";\""
   ]
  },
  {
   "cell_type": "markdown",
   "metadata": {},
   "source": [
    "This creates an empty database in your `Data` directory. Now,\n",
    "you need to create a table with some fields. Let's start with the\n",
    "`*TraitInfo*` table:"
   ]
  },
  {
   "cell_type": "code",
   "execution_count": null,
   "metadata": {},
   "outputs": [],
   "source": [
    "sqlite> CREATE TABLE TraitInfo (Numbers integer primary key,\n",
    "   ...>                                 OriginalID text,\n",
    "   ...>                                 FinalID text,\n",
    "   ...>                                 OriginalTraitName text,\n",
    "   ...>                                 OriginalTraitDef text,\n",
    "   ...>                                 Replicates integer,\n",
    "   ...>                                 Habitat  integer,               \n",
    "   ...>                                 Climate text,\n",
    "   ...>                                 Location text,\n",
    "   ...>                                 LocationType text,\n",
    "   ...>                                 LocationDate text,\n",
    "   ...>                                 CoordinateType text,\n",
    "   ...>                                 Latitude integer,\n",
    "   ...>                                 Longitude integer);"
   ]
  },
  {
   "cell_type": "markdown",
   "metadata": {},
   "source": [
    "Note that I am writing all SQL commands in upper case, but it is not\n",
    "necessary. I am using upper case here because SQL syntax is long and\n",
    "clunky, and it quickly becomes hard to spot (and edit) commands in long\n",
    "strings of complex queries.\n",
    "\n",
    "Now let's import the dataset:"
   ]
  },
  {
   "cell_type": "code",
   "execution_count": null,
   "metadata": {},
   "outputs": [],
   "source": [
    "sqlite> .mode csv\n",
    "\n",
    "sqlite> .import TraitInfo.csv TraitInfo"
   ]
  },
  {
   "cell_type": "markdown",
   "metadata": {},
   "source": [
    "So we built a table and imported a csv file into it. Now we can ask\n",
    "SQLite to show all the tables we currently have:"
   ]
  },
  {
   "cell_type": "code",
   "execution_count": null,
   "metadata": {},
   "outputs": [],
   "source": [
    "sqlite> .tables\n",
    "\n",
    "TraitInfo"
   ]
  },
  {
   "cell_type": "markdown",
   "metadata": {},
   "source": [
    "Let's run our first `*Query*` (note that you need a semicolon\n",
    "to end a command):"
   ]
  },
  {
   "cell_type": "code",
   "execution_count": null,
   "metadata": {},
   "outputs": [],
   "source": [
    "sqlite> SELECT * FROM TraitInfo LIMIT 5;\n",
    "\n",
    "1,1,MTD1,\"Resource Consumption Rate\",\"The number of resource consumed per number of consumers per time\",6,freshwater,temperate,\"Eunice Lake; Ontario; Canada\",NA,NA,NA,51.254,-85.323\n",
    "2,1,MTD1,\"Resource Consumption Rate\",\"The number of resource consumed per number of consumers per time\",6,freshwater,temperate,\"Eunice Lake; Ontario; Canada\",NA,NA,NA,51.254,-85.323\n",
    "3,1,MTD1,\"Resource Consumption Rate\",\"The number of resource consumed per number of consumers per time\",6,freshwater,temperate,\"Eunice Lake; Ontario; Canada\",NA,NA,NA,51.254,-85.323\n",
    "4,2,MTD2,\"Resource Consumption Rate\",\"The number of resource consumed per number of consumers per time\",6,freshwater,temperate,\"Eunice Lake; Ontario; Canada\",NA,NA,NA,51.254,-85.323\n",
    "5,2,MTD2,\"Resource Consumption Rate\",\"The number of resource consumed per number of consumers per time\",6,freshwater,temperate,\"Eunice Lake; Ontario; Canada\",NA,NA,NA,51.254,-85.323"
   ]
  },
  {
   "cell_type": "markdown",
   "metadata": {},
   "source": [
    "Let's turn on some nicer formatting:"
   ]
  },
  {
   "cell_type": "code",
   "execution_count": null,
   "metadata": {},
   "outputs": [],
   "source": [
    "sqlite> .mode column\n",
    "\n",
    "sqlite> .header ON\n",
    "\n",
    "sqlite> SELECT * FROM TraitInfo LIMIT 5;\n",
    "\n",
    "Numbers  OriginalID  FinalID     OriginalTraitName           ... \n",
    "-------  ----------  ----------  -------------------------   ...\n",
    "1        1           MTD1        Resource Consumption Rate   ...\n",
    "4        2           MTD2        Resource Consumption Rate   ...\n",
    "6        3           MTD3        Resource Consumption Rate   ...\n",
    "9        4           MTD4        Resource Mass Consumption   ...\n",
    "12       5           MTD5        Resource Mass Consumption   ..."
   ]
  },
  {
   "cell_type": "markdown",
   "metadata": {},
   "source": [
    "The main statement to select records from a table is\n",
    "`SELECT`:"
   ]
  },
  {
   "cell_type": "code",
   "execution_count": null,
   "metadata": {},
   "outputs": [],
   "source": [
    "sqlite> .width 40  ## NOTE: Control the width\n",
    "\n",
    "sqlite> SELECT DISTINCT OriginalTraitName FROM TraitInfo; # Returns unique values\n",
    "\n",
    "OriginalTraitName                       \n",
    "----------------------------------------\n",
    "Resource Consumption Rate               \n",
    "Resource Mass Consumption Rate          \n",
    "Mass-Specific Mass Consumption Rate     \n",
    "Voluntary Body Velocity                 \n",
    "Forward Attack Distance                 \n",
    "Foraging Velocity                       \n",
    "Resource Reaction Distance                   \n",
    "....\n",
    "\n",
    "sqlite> SELECT DISTINCT Habitat FROM TraitInfo\n",
    "   ...> WHERE OriginalTraitName = \"Resource Consumption Rate\"; # Sets a condition\n",
    "\n",
    "Habitat                                 \n",
    "----------------------------------------\n",
    "freshwater                              \n",
    "marine                                  \n",
    "terrestrial \n",
    "\n",
    "sqlite> SELECT COUNT (*) FROM TraitInfo;  # Returns number of rows\n",
    "\n",
    "Count (*)           \n",
    "--------------------\n",
    "2336\n",
    "\n",
    "sqlite> SELECT Habitat, COUNT(OriginalTraitName) # Returns number of rows for each group\n",
    "   ...> FROM TraitInfo GROUP BY Habitat;\n",
    "\n",
    "Habitat     COUNT(OriginalTraitName)\n",
    "----------  ------------------------\n",
    "NA          16                      \n",
    "freshwater  609                     \n",
    "marine      909                     \n",
    "terrestria  802   \n",
    "\n",
    "sqlite> SELECT COUNT(DISTINCT OriginalTraitName) # Returns number of unique values\n",
    "   ...> FROM TraitInfo;\n",
    "\n",
    "COUNT(DISTINCT OriginalTraitName)\n",
    "---------------------------------\n",
    "220   \n",
    "\n",
    "sqlite> SELECT COUNT(DISTINCT OriginalTraitName) TraitCount # Assigns alias to the variable\n",
    "   ...> FROM TraitInfo;\n",
    "\n",
    "TraitCount\n",
    "----------\n",
    "220 \n",
    "\n",
    "sqlite> SELECT Habitat,\n",
    "   ...> COUNT(DISTINCT OriginalTraitName) AS TN\n",
    "   ...> FROM TraitInfo GROUP BY Habitat;\n",
    "\n",
    "Habitat     TN        \n",
    "----------  ----------\n",
    "NA          7         \n",
    "freshwater  82        \n",
    "marine      95        \n",
    "terrestria  96     \n",
    "\n",
    "\n",
    "sqlite> SELECT * # WHAT TO SELECT\n",
    "   ...> FROM TraitInfo # FROM WHERE\n",
    "   ...> WHERE Habitat = \"marine\" # CONDITIONS\n",
    "   ...> AND OriginalTraitName = \"Resource Consumption Rate\";\n",
    "\n",
    "Numbers     OriginalID  FinalID     OriginalTraitName          ...\n",
    "----------  ----------  ----------  -------------------------  ...\n",
    "778         308         MTD99       Resource Consumption Rate  ...\n",
    "798         310         MTD101      Resource Consumption Rate  ...\n",
    "806         311         MTD102      Resource Consumption Rate  ...\n",
    "993         351         MTD113      Resource Consumption Rate  ..."
   ]
  },
  {
   "cell_type": "markdown",
   "metadata": {},
   "source": [
    "The structure of the `SELECT` commend is as follows\n",
    "(`*Note: `**all**` characters are case\n",
    "`**in**`sensitive*`):"
   ]
  },
  {
   "cell_type": "code",
   "execution_count": null,
   "metadata": {},
   "outputs": [],
   "source": [
    "SELECT [DISTINCT] field\n",
    "FROM table\n",
    "WHERE predicate\n",
    "GROUP BY field\n",
    "HAVING predicate\n",
    "ORDER BY field\n",
    "LIMIT number\n",
    ";"
   ]
  },
  {
   "cell_type": "markdown",
   "metadata": {},
   "source": [
    "Let's try some more elaborate queries:"
   ]
  },
  {
   "cell_type": "code",
   "execution_count": null,
   "metadata": {},
   "outputs": [],
   "source": [
    "sqlite> SELECT Numbers FROM TraitInfo LIMIT 5;\n",
    "\n",
    "Numbers   \n",
    "----------\n",
    "1         \n",
    "4         \n",
    "6         \n",
    "9         \n",
    "12      \n",
    "\n",
    "sqlite> SELECT Numbers \n",
    "   ...> FROM TraitInfo\n",
    "   ...> WHERE Numbers > 100 \n",
    "   ...> AND Numbers < 200;\n",
    "\n",
    "Numbers   \n",
    "----------\n",
    "107       \n",
    "110       \n",
    "112       \n",
    "115         \n",
    "\n",
    "sqlite> SELECT Numbers \n",
    "   ...> FROM TraitInfo\n",
    "   ...> WHERE Habitat = \"freshwater\"\n",
    "   ...> AND Number > 700\n",
    "   ...> AND Number < 800;\n",
    "\n",
    "Numbers   \n",
    "----------\n",
    "704       \n",
    "708       \n",
    "712       \n",
    "716       \n",
    "720       \n",
    "725       \n",
    "730       \n",
    "735       \n",
    "740       \n",
    "744       \n",
    "748       \n",
    "      "
   ]
  },
  {
   "cell_type": "markdown",
   "metadata": {},
   "source": [
    "You can also match records using something like regular expressions. In\n",
    "SQL, when we use the command `LIKE`, the percent % symbol\n",
    "matches any sequence of zero or more characters and the underscore\n",
    "matches any single character. Similarly, `GLOB` uses the\n",
    "asterisk and the underscore."
   ]
  },
  {
   "cell_type": "code",
   "execution_count": null,
   "metadata": {},
   "outputs": [],
   "source": [
    "sqlite> SELECT DISTINCT OriginalTraitName\n",
    "   ...> FROM TraitInfo\n",
    "   ...> WHERE OriginalTraitName LIKE \"_esource Consumption Rate\";\n",
    "\n",
    "OriginalTraitName        \n",
    "-------------------------\n",
    "Resource Consumption Rate          \n",
    "\n",
    "sqlite> SELECT DISTINCT OriginalTraitName\n",
    "   ...> FROM TraitInfo\n",
    "   ...> WHERE OriginalTraitName LIKE \"Resource%\";\n",
    "\n",
    "OriginalTraitName                       \n",
    "----------------------------------------\n",
    "Resource Consumption Rate               \n",
    "Resource Mass Consumption Rate          \n",
    "Resource Reaction Distance              \n",
    "Resource Habitat Encounter Rate         \n",
    "Resource Consumption Probability        \n",
    "Resource Mobility Selection             \n",
    "Resource Size Selection                 \n",
    "Resource Size Capture Intent Acceptance \n",
    "Resource Encounter Rate                 \n",
    "Resource Escape Response Probability \n",
    "\n",
    "sqlite> SELECT DISTINCT OriginalTraitName\n",
    "   ...> FROM TraitInfo\n",
    "   ...> WHERE OriginalTraitName GLOB \"Resource*\";\n",
    "\n",
    "\n",
    "OriginalTraitName                       \n",
    "----------------------------------------\n",
    "Resource Consumption Rate               \n",
    "Resource Mass Consumption Rate          \n",
    "Resource Reaction Distance              \n",
    "Resource Habitat Encounter Rate         \n",
    "Resource Consumption Probability        \n",
    "Resource Mobility Selection             \n",
    "Resource Size Selection                 \n",
    "Resource Size Capture Intent Acceptance \n",
    "Resource Encounter Rate                 \n",
    "Resource Escape Response Probability \n",
    "\n",
    "# NOTE THAT GLOB IS CASE SENSITIVE, WHILE LIKE IS NOT\n",
    "\n",
    "sqlite> SELECT DISTINCT OriginalTraitName\n",
    "   ...> FROM TraitInfo\n",
    "   ...> WHERE OriginalTraitName LIKE \"resource%\";\n",
    "\n",
    "OriginalTraitName                       \n",
    "----------------------------------------\n",
    "Resource Consumption Rate               \n",
    "Resource Mass Consumption Rate          \n",
    "Resource Reaction Distance              \n",
    "Resource Habitat Encounter Rate         \n",
    "Resource Consumption Probability        \n",
    "Resource Mobility Selection             \n",
    "Resource Size Selection                 \n",
    "Resource Size Capture Intent Acceptance \n",
    "Resource Encounter Rate                 \n",
    "Resource Escape Response Probability "
   ]
  },
  {
   "cell_type": "markdown",
   "metadata": {},
   "source": [
    "We can also order by any column:"
   ]
  },
  {
   "cell_type": "code",
   "execution_count": null,
   "metadata": {},
   "outputs": [],
   "source": [
    "sqlite> SELECT OriginalTraitName, Habitat FROM \n",
    "   ...>  TraitInfo LIMIT 5;\n",
    "\n",
    "OriginalTraitName          Habitat   \n",
    "-------------------------  ----------\n",
    "Resource Consumption Rate  freshwater\n",
    "Resource Consumption Rate  freshwater\n",
    "Resource Consumption Rate  freshwater\n",
    "Resource Mass Consumption  freshwater\n",
    "Resource Mass Consumption  freshwater\n",
    "\n",
    "sqlite> SELECT OriginalTraitName, Habitat FROM \n",
    "   ...> TraitInfo ORDER BY OriginalTraitName LIMIT 5;\n",
    "\n",
    "OriginalTraitName           Habitat   \n",
    "--------------------------  ----------\n",
    "48-hr Hatching Probability  marine    \n",
    "Asexual Reproduction Rate   marine    \n",
    "Attack Body Acceleration    marine    \n",
    "Attack Body Velocity        marine    \n",
    "Attack Body Velocity        marine  \n",
    " "
   ]
  },
  {
   "cell_type": "markdown",
   "metadata": {},
   "source": [
    "Until now we have just queried data from one single table, but as we\n",
    "have seen, the point of storing a database in SQL is that we can use\n",
    "multiple tables minimizing redundancies within them. And of course,\n",
    "querying data from those different tables at the same time will be\n",
    "necessary at some point.\n",
    "\n",
    "Let's import then one more table to our database:"
   ]
  },
  {
   "cell_type": "code",
   "execution_count": null,
   "metadata": {},
   "outputs": [],
   "source": [
    "sqlite> CREATE TABLE Consumer (Numbers integer primary key,\n",
    "  ...>                                OriginalID text,\n",
    "  ...>                                FinalID text,\n",
    "  ...>                                Consumer text,\n",
    "  ...>                                ConCommon text,\n",
    "  ...>                                ConKingdom text,\n",
    "  ...>                                ConPhylum text,\n",
    "  ...>                                ConClass text,\n",
    "  ...>                                ConOrder text,\n",
    "  ...>                                ConFamily text,\n",
    "  ...>                                ConGenus text,\n",
    "  ...>                                ConSpecies text);"
   ]
  },
  {
   "cell_type": "code",
   "execution_count": null,
   "metadata": {},
   "outputs": [],
   "source": [
    "sqlite> .import Consumer.csv Consumer\n",
    "\n",
    "# Now we have two tables in our database:\n",
    "\n",
    "sqlite> .tables\n",
    "Consumer   TraitInfo"
   ]
  },
  {
   "cell_type": "code",
   "execution_count": null,
   "metadata": {},
   "outputs": [],
   "source": [
    "# These tables are connected by two differents keys: OriginalID\n",
    "# and FinalID. These are unique IDs for each thermal curve. For each\n",
    "# FinalID we can get the trait name (OriginalTraitName) from the TraitInfo\n",
    "# table and the corresponding species name (ConSpecies) from the Consumer table.\n",
    "\n",
    "sqlite> SELECT A1.FinalID, A1.Consumer, A2.FinalID,  A2.OriginalTraitName\n",
    "   ...> FROM Consumer A1, TraitInfo A2\n",
    "   ...> WHERE A1.FinalID=A2.FinalID LIMIT 8;\n",
    "\n",
    "FinalID     Consumer               FinalID     OriginalTraitName        \n",
    "----------  ---------------------  ----------  -------------------------\n",
    "MTD1        Chaoborus trivittatus  MTD1        Resource Consumption Rate\n",
    "MTD2        Chaoborus trivittatus  MTD2        Resource Consumption Rate\n",
    "MTD3        Chaoborus americanus   MTD3        Resource Consumption Rate\n",
    "MTD4        Stizostedion vitreum   MTD4        Resource Mass Consumption\n",
    "MTD5        Macrobrachium rosenbe  MTD5        Resource Mass Consumption\n",
    "MTD6        Ranatra dispar         MTD6        Resource Consumption Rate\n",
    "MTD7        Ceriodaphnia reticula  MTD7        Mass-Specific Mass Consum\n",
    "MTD8        Polyphemus pediculus   MTD8        Voluntary Body Velocity \n",
    "\n",
    "# In the same way we assign alias to variables, we can use them for tables."
   ]
  },
  {
   "cell_type": "markdown",
   "metadata": {},
   "source": [
    "This example seems easy because both tables have the same number of\n",
    "rows. But the query is still as simple when we have tables with\n",
    "different rows."
   ]
  },
  {
   "cell_type": "code",
   "execution_count": null,
   "metadata": {},
   "outputs": [],
   "source": [
    "# Let's import the TCP table:\n",
    "\n",
    "sqlite> CREATE TABLE TCP (Numbers integer primary key,\n",
    "   ...>                           OriginalID text,\n",
    "   ...>                           FinalID text,\n",
    "   ...>                           OriginalTraitValue integer,\n",
    "   ...>                           OriginalTraitUnit text,\n",
    "   ...>                           LabGrowthTemp integer,\n",
    "   ...>                           LabGrowthTempUnit text,   \n",
    "   ...>                           ConTemp integer,\n",
    "   ...>                           ConTempUnit text,\n",
    "   ...>                           ConTempMethod text,\n",
    "   ...>                           ConAcc text,\n",
    "   ...>                           ConAccTemp integer);\n",
    "\n",
    "\n",
    "sqlite> .import TCP.csv TCP\n",
    "sqlite> .tables\n",
    "Consumer   TCP        TraitInfo\n",
    "                          \n",
    "# Now imagine we want to query the thermal performance curves that we have\n",
    "# stored for the species Mytilus edulis. Using the FinalID to match the tables,\n",
    "# the query can be as simple as:\n",
    "\n",
    "sqlite> SELECT A1.ConTemp, A1.OriginalTraitValue, A2.OriginalTraitName, A3.Consumer\n",
    "   ...> FROM TCP A1, TraitInfo A2, Consumer A3\n",
    "   ...> WHERE A1.FinalID=A2.FinalID AND A3.ConSpecies=\"Mytilus edulis\" AND A3.FinalID=A2.FinalID LIMIT 8\n",
    "\n",
    "ConTemp     OriginalTraitValue    OriginalTraitName               Consumer            \n",
    "----------  --------------------  ------------------------------  --------------------\n",
    "25          2.707075              Filtration Rate                 Mytilus edulis      \n",
    "20          3.40721               Filtration Rate                 Mytilus edulis      \n",
    "5           3.419455              Filtration Rate                 Mytilus edulis      \n",
    "15          3.711165              Filtration Rate                 Mytilus edulis      \n",
    "10          3.875465              Filtration Rate                 Mytilus edulis      \n",
    "5           0.34                  In Vitro Gill Particle Transpo  Mytilus edulis      \n",
    "10          0.46                  In Vitro Gill Particle Transpo  Mytilus edulis      \n",
    "15          0.595                 In Vitro Gill Particle Transpo  Mytilus edulis"
   ]
  },
  {
   "cell_type": "markdown",
   "metadata": {},
   "source": [
    "So on and so forth (joining tables etc. would come next...). But if you\n",
    "want to keep practicing and learn more about sqlite commands, this is a\n",
    "very useful site: <http://www.sqlite.org/sessions/sqlite.html>. You can\n",
    "store your queries and database management commands in an `\n",
    ".sql` file (`geany` will take care of syntax\n",
    "highlighting etc.)\n",
    "\n",
    "### SQLite with python\n",
    "\n",
    "It is easy to access, update and manage SQLite databases with `\n",
    "python` (you should have this script file in your\n",
    "`Code` directory):\n",
    "\n",
    "You can create a database in memory, without using the disk — thus you\n",
    "can create and discard an SQLite database within your workflow!:\n",
    "\n",
    "## Using Python to build workflows\n",
    "\n",
    "*This topic will be necessary for your [Miniproject](), which will involve building a reproducible computational workflow.*\n",
    "\n",
    "You can use python to build an automated data analysis or simulation workflow that involves multiple applications, especially the ones you have already learnt: `R`, LaTeX, & UNIX `bash`.\n",
    "For example, you could, in theory, write a single Python script to\n",
    "generate and update your masters dissertation, tables, plots, and all.\n",
    "Python is ideal for building such workflows because it has packages for\n",
    "practically every purpose (see Section on Packages above).\n",
    "\n",
    "### Using `subprocess`\n",
    "\n",
    "The `subprocess` module is particularly important as it can\n",
    "run other applications, including R. Let's try – first launch `\n",
    "ipython`, then `cd` to your python code directory, and\n",
    "type:"
   ]
  },
  {
   "cell_type": "code",
   "execution_count": null,
   "metadata": {},
   "outputs": [],
   "source": [
    "import subprocess\n",
    "subprocess.os.system(\"geany boilerplate.py\")\n",
    "subprocess.os.system(\"gedit ../Data/TestOaksData.csv\")\n",
    "subprocess.os.system(\"python boilerplate.py\") # A bit silly! "
   ]
  },
  {
   "cell_type": "markdown",
   "metadata": {},
   "source": [
    "Easy as pie! You will notice that the terminal remains \"connected\" to\n",
    "geany after you run the first of the three lines above, and you have to\n",
    "quit geany to go on to launcing gedit. To avoid this, you can do:"
   ]
  },
  {
   "cell_type": "code",
   "execution_count": null,
   "metadata": {},
   "outputs": [],
   "source": [
    "subprocess.os.system(\"geany boilerplate.py &\")\n",
    "subprocess.os.system(\"gedit ../Data/TestOaksData.csv &\")\n",
    "subprocess.os.system(\"python boilerplate.py &\") # A bit silly! "
   ]
  },
  {
   "cell_type": "markdown",
   "metadata": {},
   "source": [
    "Adding a `&` after a program call, i.e., `geany\n",
    "boilerplate.py &` instead of `geany boilerplate.py`\n",
    "disconnects the terminal and allows you to run sequential commands in\n",
    "the terminal/bash.\n",
    "\n",
    "Similarly, to compile your LaTeXdocument (using `pdflatex` in\n",
    "this case):"
   ]
  },
  {
   "cell_type": "code",
   "execution_count": null,
   "metadata": {},
   "outputs": [],
   "source": [
    "subprocess.os.system(\"pdflatex yourlatexdoc.tex\")"
   ]
  },
  {
   "cell_type": "markdown",
   "metadata": {},
   "source": [
    "You can also do this (instead of using `subprocess.os`):"
   ]
  },
  {
   "cell_type": "code",
   "execution_count": null,
   "metadata": {},
   "outputs": [],
   "source": [
    "subprocess.Popen(\"geany boilerplate.py\", shell=True).wait()"
   ]
  },
  {
   "cell_type": "markdown",
   "metadata": {},
   "source": [
    "You can also use `subprocess.os` to make your code OS (Linux,\n",
    "Windows, Mac) independent. For example to assign paths:"
   ]
  },
  {
   "cell_type": "code",
   "execution_count": null,
   "metadata": {},
   "outputs": [],
   "source": [
    "subprocess.os.path.join('directory', 'subdirectory', 'file')"
   ]
  },
  {
   "cell_type": "markdown",
   "metadata": {},
   "source": [
    "The result would be appropriately different on Windows (with backslashes\n",
    "instead of forward slashes).\n",
    "\n",
    "Note that in all cases you can \"catch\" the output of\n",
    "`subprocess` so that you can then use the output within your\n",
    "python script. A simple example, where the output is a\n",
    "platform-dependent directory path, is:"
   ]
  },
  {
   "cell_type": "code",
   "execution_count": null,
   "metadata": {},
   "outputs": [],
   "source": [
    "MyPath = subprocess.os.path.join('directory', 'subdirectory', 'file')"
   ]
  },
  {
   "cell_type": "markdown",
   "metadata": {},
   "source": [
    "Explore what `subprocess` can do by tabbing\n",
    "`subprocess.`, and also for submodules, e.g., type\n",
    "`subprocess.os.` and then tab.\n",
    "\n",
    "### Running `R`\n",
    "\n",
    "R is likely an important part of your project's analysis and data\n",
    "visualization components in particular — for example for statistical\n",
    "analyses and pretty plotting (Ahem. `ggplot2`).\n",
    "\n",
    "You can run `R` from Python pretty easily. Try the following:\n",
    "\n",
    "$\\star$\n",
    "\n",
    "Create an R script file called `TestR.R` in your `\n",
    "Week6/Code` with the following content:"
   ]
  },
  {
   "cell_type": "code",
   "execution_count": null,
   "metadata": {},
   "outputs": [],
   "source": [
    "print(\"Hello, this is R!\")"
   ]
  },
  {
   "cell_type": "markdown",
   "metadata": {},
   "source": [
    "Now, create `TestR.py` in\n",
    "`CMEECourseWork/Week6/Code` with the following content :"
   ]
  },
  {
   "cell_type": "code",
   "execution_count": null,
   "metadata": {},
   "outputs": [],
   "source": [
    "import subprocess\n",
    "subprocess.Popen(\"/usr/lib/R/bin/Rscript --verbose TestR.R > \\\n",
    "../Results/TestR.Rout 2> ../Results/TestR_errFile.Rout\",\\\n",
    " shell=True).wait()"
   ]
  },
  {
   "cell_type": "markdown",
   "metadata": {},
   "source": [
    "`*Note the backslashes*` — this is so that\n",
    "`python` can read the mutiline script as a single line.\n",
    "\n",
    "Now run `TestR.py` (or `%cpaste`) and check\n",
    "`TestR.Rout` and `TestR_errorFile.Rout`.\n",
    "\n",
    "Also check what happens if you run (type directly in `\n",
    "ipython` or `python` console):"
   ]
  },
  {
   "cell_type": "code",
   "execution_count": null,
   "metadata": {},
   "outputs": [],
   "source": [
    "subprocess.Popen(\"/usr/lib/R/bin/Rscript --verbose NonExistScript.R > \\\n",
    "../Results/outputFile.Rout 2> ../Results/errorFile.Rout\", \\\n",
    "shell=True).wait()"
   ]
  },
  {
   "cell_type": "markdown",
   "metadata": {},
   "source": [
    "It is possible that the location of `RScript` is different in\n",
    "your Ubuntu install. To locate it, try `find /usr -name\n",
    "'Rscript'` in the linux terminal (not in `python`!).\n",
    "\n",
    "What do you see on the screen? Now check `outputFile.Rout`\n",
    "and `errorFile.Rout`.\n",
    "\n",
    "Practicals\n",
    "----------\n",
    "\n",
    "As always, test, add, commit and push all your new code and data to your\n",
    "git repository.\n",
    "\n",
    "#### Using `os` problem 1\n",
    "\n",
    "Open `using_os.py` and complete the tasks assigned\\\n",
    "(hint: you might want to look at `subprocess.os.walk()`)\n",
    "\n",
    "#### Using `os` problem 2\n",
    "\n",
    "Open `fmr.R` and work out what it does; check that you have\n",
    "`NagyEtAl1999.csv`. Now write python code called\n",
    "`run_fmr_R.py` that:\n",
    "\n",
    "Runs `fmr.R` to generate the desired result\n",
    "\n",
    "`run_fmr_R.py` should also print to the python screen\n",
    "whether the run was successful, and the contents of the R console output\n",
    "\n",
    "Practicals wrap-up\n",
    "------------------\n",
    "\n",
    "1.  Review and make sure you can run all the commands, code fragments,\n",
    "    and scripts we have till now and get the expected outputs — all\n",
    "    scripts should work on any other linux laptop.\n",
    "\n",
    "2.  Include an appropriate docstring (if one is missing) at the\n",
    "    beginning of `*each*` of each of the python script /\n",
    "    module files you have written, as well as at the start of every\n",
    "    function (or sub-module) in a module.\n",
    "\n",
    "3.  Also annotate your code lines as much and as often as necessary\n",
    "    using \\#.\n",
    "\n",
    "4.  Keep all files organized in `CMEECourseWork`.\n",
    "\n",
    "5.  `git add`, `commit` and `push` all\n",
    "    your week's code and data to your git repository by next Wednesday.\n",
    "\n",
    "Readings and Resources\n",
    "----------------------\n",
    "\n",
    "<http://matplotlib.org/>\n",
    "\n",
    "For SciPy, the official documentation is great:\\\n",
    "<https://docs.sc.org/doc/scipy/reference/>\\\n",
    "Read about the scipy modules you think will be important to you.\n",
    "\n",
    "The \"ecosystem\" for Scientific computing in python:\n",
    "<http://www.scipy-lectures.org/>\n",
    "\n",
    "A Primer on Scientific Programming with Python\n",
    "<http://www.springer.com/us/book/9783642549595>; Multiple copies of this\n",
    "book are available from the central library and can be requested to\n",
    "Silwood from the IC library website. You can also find a pdf - google it\n",
    "\n",
    "Many great examples of applications in the scipy cookbook:\n",
    "<https://lagunita.stanford.edu/courses/DB/2014/SelfPaced/about>\n",
    "\n",
    "<https://docs.python.org/2/howto/regex.html>\n",
    "\n",
    "Google's short class on regex in python:\\\n",
    "<https://developers.google.com/edu/python/regular-expressions>\n",
    "\n",
    "<http://www.regular-expressions.info/> has a good intro, tips and a\n",
    "great array of canned solutions\n",
    "\n",
    "Use and abuse of regex:\\\n",
    "<https://blog.codinghorror.com/regex-use-vs-regex-abuse/>\n",
    "\n",
    "\"The Definitive Guide to SQLite\" is a pretty complete guide to SQLite\n",
    "and freely available from [ \n",
    "    http://sd.blackball.lv/library/The_Definitive_Guide_to_SQLite_2nd_edition.pdf]( \n",
    "    http://sd.blackball.lv/library/The_Definitive_Guide_to_SQLite_2nd_edition.pdf)\n",
    "\n",
    "For databses in general, try the Stanford Introduction to Databases\n",
    "course: <https://www.coursera.org/course/db>"
   ]
  }
 ],
 "metadata": {
  "kernelspec": {
   "display_name": "Python 3",
   "language": "python",
   "name": "python3"
  },
  "language_info": {
   "codemirror_mode": {
    "name": "ipython",
    "version": 3
   },
   "file_extension": ".py",
   "mimetype": "text/x-python",
   "name": "python",
   "nbconvert_exporter": "python",
   "pygments_lexer": "ipython3",
   "version": "3.5.2"
  },
  "toc": {
   "base_numbering": 1,
   "nav_menu": {},
   "number_sections": true,
   "sideBar": false,
   "skip_h1_title": false,
   "title_cell": "Contents",
   "title_sidebar": "Contents",
   "toc_cell": true,
   "toc_position": {},
   "toc_section_display": true,
   "toc_window_display": false
  }
 },
 "nbformat": 4,
 "nbformat_minor": 2
}
