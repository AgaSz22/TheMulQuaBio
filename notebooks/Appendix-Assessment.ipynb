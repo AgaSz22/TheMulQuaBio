{
 "cells": [
  {
   "cell_type": "markdown",
   "metadata": {},
   "source": [
    "<!--NAVIGATION-->\n",
    "< | [Main Contents](Index.ipynb) | >"
   ]
  },
  {
   "cell_type": "markdown",
   "metadata": {},
   "source": [
    "# Computing Coursework Assessment Criteria  <span class=\"tocSkip\"></span><a name=\"Apx:Assess\"></a>"
   ]
  },
  {
   "cell_type": "markdown",
   "metadata": {
    "toc": true
   },
   "source": [
    "<h1>Contents<span class=\"tocSkip\"></span></h1>\n",
    "<div class=\"toc\"><ul class=\"toc-item\"><li><span><a href=\"#Undergraduates\" data-toc-modified-id=\"Undergraduates-1\"><span class=\"toc-item-num\">1&nbsp;&nbsp;</span>Undergraduates</a></span></li><li><span><a href=\"#Masters-students\" data-toc-modified-id=\"Masters-students-2\"><span class=\"toc-item-num\">2&nbsp;&nbsp;</span>Masters students</a></span><ul class=\"toc-item\"><li><span><a href=\"#Weekly-practicals-wrap-up\" data-toc-modified-id=\"Weekly-practicals-wrap-up-2.1\"><span class=\"toc-item-num\">2.1&nbsp;&nbsp;</span>Weekly practicals wrap-up</a></span></li><li><span><a href=\"#The-weekly-log-files-and-points\" data-toc-modified-id=\"The-weekly-log-files-and-points-2.2\"><span class=\"toc-item-num\">2.2&nbsp;&nbsp;</span>The weekly log files and points</a></span></li><li><span><a href=\"#The-final-assessment-of-computing-coursework\" data-toc-modified-id=\"The-final-assessment-of-computing-coursework-2.3\"><span class=\"toc-item-num\">2.3&nbsp;&nbsp;</span>The final assessment of computing coursework</a></span></li></ul></li></ul></div>"
   ]
  },
  {
   "cell_type": "markdown",
   "metadata": {},
   "source": [
    "In case your work on this course is being assessed, here is the information and guidelines.  \n",
    "\n",
    "## Undergraduates\n",
    "\n",
    "Assessment will typically be through a computer-based test. You be expected to be able to apply the concepts you have learned to address questions by using appropriate computer code (e.g., R) input and interpreting the output.\n",
    "\n",
    "## Masters students\n",
    "\n",
    "We will assess both your practical computing work itself (including any writeups), and whether you are following good programming and workflow practices, on a weekly basis. Note that practicals in the weeks not included in this book (e.g., GIS and Genomics) will also be included in the assessment, so keep the workflow in those weeks organized, even if the analyses or pipelines/workflows you were taught we not fully reusable or machine-reproducible.\n",
    "\n",
    "The basic rules you must follow, irrespective of a Week's content are:\n",
    "\n",
    "1.  All code/scripts go to a `Code` directory\n",
    "\n",
    "2.  All data go to a `Data` directory\n",
    "\n",
    "3.  All results go to a `Results` directory, but the Results directory should be empty when you submit your week's work, as it will be populated automatically when the assessment script runs.\n",
    "\n",
    "4. If you have files that don't fit in these categories, put them additional, meaningfully named directories (e.g, \"Writeup\").\n",
    "\n",
    "5. No single file should be greater than 100 mb, either data or script/code. If a script needs a data file, but the example data file is &gt;100 mb, reduce it to a minimum working dataset and upload that, keeping the main data file(s) under `.gitignore` (see the [Git Chapter](03-Git.ipynb)). Keep the main data backed up, of course <sup>[1](#intro:testdata)</sup>!.\n",
    "\n",
    "6. Most importantly, all Python, R, bash, and $\\LaTeX$ scripts should run without errors, taking in data and spitting out the results as necessary.\n",
    "\n",
    "When necessary, more specific, module-specific details on weekly coursework and assessment will be given when the module starts.\n",
    "\n",
    "### Weekly practicals wrap-up\n",
    "\n",
    "Do this as after you finish with an assignment, and at the end of every week:\n",
    "\n",
    "1.  Review and make sure you can run all the commands, code fragments, and named scripts we have built till now and get the expected outputs.\n",
    "\n",
    "2. Review your code files and annotate/comment code lines as much and as often as necessary using `#`.\n",
    "\n",
    "3.  Keep all code, data and results files organized in you weekly directory.\n",
    "\n",
    "4. git commit and push\n",
    "\n",
    "### The weekly log files and points\n",
    "\n",
    "Your scripts will be assessed with the help of scripts! A Python script will check whether your weekly (and version-controlled) directories are neat and organized in a logical workflow, and whether all the scripts run correctly with the expected inputs and outputs, starting from  the [UNIX Chapter](01-Unix.ipynb). For example, the script will check if your coursework code, data and results outputs  in each week are organized in separate directories named `code`, `data`, `results` (or equivalent) respectively.\n",
    "\n",
    "The assessment script will then record a log file that summarizes all the issues found in your workflows, which will be emailed to you within 2-4 days after you submit your weekly practical. This log file will award \"points\" on a weekly basis (the weekly assessment). Here is the points scheme we will use for this weekly assessment:\n",
    "\n",
    "1. You would get 100 pts if,\n",
    "    *  All the in-class scripts<sup>[1](#assessment:scripts)</sup> were in place (in the code directory in the respective week's directory) and functional when run on my computer\n",
    "    *  All the assigned practicals / problems are complete and functional, and give the right answers.\n",
    "    * The scripts are all up to the the mark in terms of internal documentation and commenting\n",
    "    * There is a neat `readme` file for the overall repository and in each of the weekly directories.\n",
    "*  For every in-class script that gives a syntax error, 5 pts deducted, and for every script that gives an error because of wrong path (e.g., absolute) assignment, 2 pts deducted.\n",
    "\n",
    "*  For every missing script or assigned practical/problem, 10 pts deducted\n",
    "\n",
    "*  For every assigned practical/problem, 5 pts deducted for wrong answer if applicable (that is, script runs without error, but gives wrong numerical or text output).\n",
    "\n",
    "*  For every missing `readme` file, 1 pt deducted.\n",
    "\n",
    "*  For every extra, non-script file in `Code` directory, 0.5 pt deducted.\n",
    "\n",
    "*  For every *valid* script file in `Code` directory lacking an appropriate extension, 0.5 pt deducted.\n",
    "\n",
    "*  For every result of a code/script run not saved to a separate directory, 1 pt deducted. For example, the separate directory may be `Results` for new results, or `Data`, if the scripts is for generating a new or modified dataset.\n",
    "\n",
    "*  For every extra-credit question completed, 2.5 pts added \n",
    "\n",
    "* ().\n",
    "\n",
    "From the points left after implementing the above criteria, we will exercise our judgment to deduct further marks if the weekly directory structure is disorganized, the code inadequately commented or insufficiently documented, or the written components of practicals are not up to the mark.\n",
    "\n",
    "**Please put (judicious) comments in all of your script files.**  But you won't be penalized if you haven't put in comments in the first week in practicals. From the first Python ([Chapter](05-Python_I.ipynb)) onwards, you will be penalized if you don't properly document and comment code (more on this next week), even if you weren't explicitly asked to.\n",
    "\n",
    "### The final assessment of computing coursework\n",
    "\n",
    "A written summary assessment of your overall performance with your marks will be sent after the end of the 9 weeks.\n",
    "\n",
    "The weekly log files are to help you spot general, as well as programming language-specific issues with your computing coursework on a regular basis. You may and should fix bugs and other problems that feedback logs bring to your attention. We will have a look at how much you addressed the issues in the final assessment. The final assessment will necessarily be more subjective than the weekly assessments, because we are looking to give you an overall picture of how you did and what you can improve on. You will get feedback if these issues needed to be addressed in the final written assessment. The final marks will be based upon the weekly points and a [coursework marking criteria](./MARKING_CRITERIA.pdf). The contribution of each week to the overall marks  will be up- or down-weighed based upon the difficulty level.\n",
    "\n",
    "*Alright, full steam ahead then!*"
   ]
  },
  {
   "cell_type": "markdown",
   "metadata": {},
   "source": [
    "**Footnotes**\n",
    "\n",
    "<a name=\"intro:testdata\">1</a>: You could make a separate directory called `TestData` as the default input and reference the main Data file in the `.gitignore` file (see the [Git Chapter](03-Git.ipynb))\n",
    "\n",
    "<a name=\"assessment:scripts\">2</a>: *In-class scripts* are those that are given to you to practice with, which you only have to reproduce without error, while *assigned practicals / problems* are the assignments/problems you have been given that involve the writing of new scripts or the modification of existing ones."
   ]
  }
 ],
 "metadata": {
  "kernelspec": {
   "display_name": "Python 3",
   "language": "python",
   "name": "python3"
  },
  "language_info": {
   "codemirror_mode": {
    "name": "ipython",
    "version": 3
   },
   "file_extension": ".py",
   "mimetype": "text/x-python",
   "name": "python",
   "nbconvert_exporter": "python",
   "pygments_lexer": "ipython3",
   "version": "3.5.2"
  },
  "latex_envs": {
   "LaTeX_envs_menu_present": true,
   "autoclose": false,
   "autocomplete": false,
   "bibliofile": "biblio.bib",
   "cite_by": "apalike",
   "current_citInitial": 1,
   "eqLabelWithNumbers": true,
   "eqNumInitial": 1,
   "hotkeys": {
    "equation": "Ctrl-E",
    "itemize": "Ctrl-I"
   },
   "labels_anchors": false,
   "latex_user_defs": false,
   "report_style_numbering": false,
   "user_envs_cfg": false
  },
  "toc": {
   "base_numbering": 1,
   "nav_menu": {},
   "number_sections": true,
   "sideBar": false,
   "skip_h1_title": false,
   "title_cell": "Contents",
   "title_sidebar": "Contents",
   "toc_cell": true,
   "toc_position": {},
   "toc_section_display": false,
   "toc_window_display": false
  }
 },
 "nbformat": 4,
 "nbformat_minor": 2
}
