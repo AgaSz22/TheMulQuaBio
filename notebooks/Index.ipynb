{
 "cells": [
  {
   "cell_type": "markdown",
   "metadata": {},
   "source": [
    "# Welcome to the Multilingual Quantitative Biologist! <span class=\"tocSkip\"></span>\n",
    "---"
   ]
  },
  {
   "cell_type": "markdown",
   "metadata": {
    "toc": true
   },
   "source": [
    "<h1>Contents<span class=\"tocSkip\"></span></h1>\n",
    "<div class=\"toc\"><ul class=\"toc-item\"></ul></div>"
   ]
  },
  {
   "cell_type": "markdown",
   "metadata": {},
   "source": [
    "## Section I: Computing <span class=\"tocSkip\"></span>\n",
    "\n",
    "0. [Introduction](00-Intro.ipynb)\n",
    "1. [Unix](01-Unix.ipynb)\n",
    "2. [Shell scripting](02-ShellScripting.ipynb)\n",
    "3. [Version Control with Git](03-Git.ipynb)\n",
    "4. [Scientific documents with $\\LaTeX$](04-LaTeX.ipynb)\n",
    "5. [Biological Computing in Python-I](05-Python_I.ipynb)\n",
    "6. [Biological Computing in Python-II](06-Python_II.ipynb)\n",
    "7. [Biological Computing in R](07-R.ipynb)\n",
    "8. [Data management, exploration, and visualization](08-Data_R.ipynb)\n",
    "\n",
    "**Appendices**\n",
    "\n",
    "* [DIY Linux](Appendix-DIYLinux.ipynb)\n",
    "* [Jupyter intro](Appendix-JupyIntro.ipynb)\n",
    "* [Maths in Jupyter](Appendix-Maths.ipynb)\n",
    "* [Data Analyses in Python](Appendix-Data-Python.ipynb)\n",
    "* [High Performance Computing](Appendix-HPC.ipynb)\n",
    "* [Computing Miniproject](Appendix-MiniProj.ipynb)\n",
    "* [Model Fitting](Appendix-ModelFitting.ipynb)\n",
    "* [Assessment](Appendix-Assessment.ipynb)\n",
    "\n",
    "---\n",
    "## Section II: Statistical Analyses <span class=\"tocSkip\"></span>\n",
    "\n",
    "0. [Introduction](11-Stats-Intro.ipynb)\n",
    "1. [Experimental Design and data exploration](12-ExpDesign.ipynb)\n",
    "2. [$t$ & $F$ tests](13-t_F_tests.ipynb)\n",
    "3. [Linear Models: Regression](15-regress.ipynb)\n",
    "4. [Linear Models: Analysis of Variance](14-anova.ipynb)\n",
    "5. [Linear Models: Multiple explanatory variables](16-MulExpl.ipynb)\n",
    "6. [Linear Models: Multiple variables with interactions](17-MulExplInter.ipynb)\n",
    "7. [Linear Models: Model Simplification](18-ModelSimp.ipynb)\n",
    "8. [Generalized Linear Models](19-glm.ipynb)"
   ]
  }
 ],
 "metadata": {
  "anaconda-cloud": {},
  "kernelspec": {
   "display_name": "Bash",
   "language": "bash",
   "name": "bash"
  },
  "language_info": {
   "codemirror_mode": "shell",
   "file_extension": ".sh",
   "mimetype": "text/x-sh",
   "name": "bash"
  },
  "latex_envs": {
   "LaTeX_envs_menu_present": true,
   "autoclose": false,
   "autocomplete": false,
   "bibliofile": "biblio.bib",
   "cite_by": "apalike",
   "current_citInitial": 1,
   "eqLabelWithNumbers": true,
   "eqNumInitial": 1,
   "hotkeys": {
    "equation": "Ctrl-E",
    "itemize": "Ctrl-I"
   },
   "labels_anchors": false,
   "latex_user_defs": false,
   "report_style_numbering": false,
   "user_envs_cfg": false
  },
  "toc": {
   "base_numbering": 1,
   "nav_menu": {
    "height": "51px",
    "width": "250px"
   },
   "number_sections": true,
   "sideBar": true,
   "skip_h1_title": true,
   "title_cell": "Contents",
   "title_sidebar": "Contents",
   "toc_cell": true,
   "toc_position": {},
   "toc_section_display": "block",
   "toc_window_display": false
  }
 },
 "nbformat": 4,
 "nbformat_minor": 1
}
