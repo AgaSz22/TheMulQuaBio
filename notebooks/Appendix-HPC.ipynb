{
 "cells": [
  {
   "cell_type": "markdown",
   "metadata": {},
   "source": [
    "<!--NAVIGATION-->\n",
    "| [Main Contents](Index.ipynb)|"
   ]
  },
  {
   "cell_type": "markdown",
   "metadata": {},
   "source": [
    "# High Performance Computing <span class=\"tocSkip\">` "
   ]
  },
  {
   "cell_type": "markdown",
   "metadata": {
    "toc": true
   },
   "source": [
    "<h1>Contents<span class=\"tocSkip\"></span></h1>\n",
    "<div class=\"toc\"><ul class=\"toc-item\"><li><span><a href=\"#Local-parallel-processing\" data-toc-modified-id=\"Local-parallel-processing-1\">Local parallel processing</a></span><ul class=\"toc-item\"><li><span><a href=\"#Threading-vs.-multiprocessing\" data-toc-modified-id=\"Threading-vs.-multiprocessing-1.1\">Threading vs. multiprocessing</a></span></li></ul></li><li><span><a href=\"#Running-python-scripts-on-IC-HPC\" data-toc-modified-id=\"Running-python-scripts-on-IC-HPC-2\">Running python scripts on IC HPC</a></span><ul class=\"toc-item\"><li><span><a href=\"#Preparing-the-scripts-for-running-on-the-HPC\" data-toc-modified-id=\"Preparing-the-scripts-for-running-on-the-HPC-2.1\">Preparing the scripts for running on the HPC</a></span></li><li><span><a href=\"#Copying-scripts-from-your-computer-to-the-HPC-server\" data-toc-modified-id=\"Copying-scripts-from-your-computer-to-the-HPC-server-2.2\">Copying scripts from your computer to the HPC server</a></span></li><li><span><a href=\"#Running-the-scripts\" data-toc-modified-id=\"Running-the-scripts-2.3\">Running the scripts</a></span></li><li><span><a href=\"#Using-a-python-script-to-submit-jobs\" data-toc-modified-id=\"Using-a-python-script-to-submit-jobs-2.4\">Using a python script to submit jobs</a></span></li></ul></li><li><span><a href=\"#Readings-&amp;-Resources\" data-toc-modified-id=\"Readings-&amp;-Resources-3\">Readings &amp; Resources</a></span></li></ul></div>"
   ]
  },
  {
   "cell_type": "markdown",
   "metadata": {},
   "source": [
    "This chapter introduces you to HPC in Python, including use of the [Imperial College HPC](https://wiki.imperial.ac.uk/display/HPC/High+Performance+Computing).\n",
    "\n",
    "## Local parallel processing\n",
    "\n",
    "Note that there are a number of ways in which you can develop HPC implementations for your code locally (on your own computer). We will not cover these, but here is a list of particularly useful approaches/tools:\n",
    "\n",
    "* [Ipython `parallel`](https://ipython.org/ipython-doc/3/parallel)\n",
    "\n",
    "* Multi-threading, using the [`threading` package](https://docs.python.org/3/library/threading.html)\n",
    "\n",
    "* Using multiple processors with the [`multiprocessing` package](https://docs.python.org/2/library/multiprocessing.html)\n",
    "\n",
    "### Threading vs. multiprocessing\n",
    "\n",
    "The difference between threading and multiprocessing is that threads share the same memory allocation, while processes have separate memory allocations. This makes it a harder to share information between processes with multiprocessing, but this is till a useful approach for quick and dirty parallelization. When better communication between processes is required, sophisticated solutions such as MPI and OpenMP may be needed. The MPI (Message Passing Interface) standard/protocol can be used in Python to parallelize your code over multiple processors through the [`mpi4py` package]\n",
    "(http://mpi4py.scipy.org/docs/usrman/index.html). You can also parallelize numpy array loops with [`cython` and OpenMP](http://www.perrygeo.com/parallelizing-numpy-array-loops-with-cython-and-mpi.html).\n",
    "\n",
    "## Running python scripts on IC HPC\n",
    "\n",
    "*These instructions also apply, with suitable modifications, for R scripts.*\n",
    "\n",
    "### Preparing the scripts for running on the HPC\n",
    "\n",
    "The script you will run needs a sha-bang (telling it what shell to run, usually bash), you need to allocate resources to PBS (such as walltime, number of processors, and memory , using the `#PBS` directive), and tell it what Python script to run. The bash script could\n",
    "look something like this:"
   ]
  },
  {
   "cell_type": "markdown",
   "metadata": {},
   "source": [
    "```bash\n",
    "#!/bin/bash\n",
    "\n",
    "#lines declaring parameters to request from HPC:\n",
    "\n",
    "## tell the batch manager to limit the walltime for the job to given hh:mm:ss\n",
    "#PBS -l walltime=06:30:00 \n",
    "\n",
    "## tell the batch manager to use 1 node with 1 cpu (total 1*1 cpus) and 4000mb of memory per node\n",
    "#PBS -l select=1:ncpus=1:mem=4000mb\n",
    "## *NOTE: serial jobs do not require a number of cpus*\n",
    "\n",
    "## Name your job (optional, but can be convenient)\n",
    "#PBS -N Py_test_1\n",
    "\n",
    "## setup to get an email when scripts starts and ends (or aborts) \n",
    "#PBS -m abe \n",
    "## Look up man qsub for what the options a,b,e do\n",
    "\n",
    "## Specify email address (multiple addresses can be set; look up man qsub)\n",
    "#PBS -M your.email@imperial.ac.uk\n",
    "\n",
    "# Load python as engine; default is 2.7.3 change version from 2.7.3 if \n",
    "## needed (python 3 is supported)\n",
    "module load python/2.7.3\n",
    "\n",
    "# general tools\n",
    "module load intel-suite\n",
    "## Intel math kernel must be loaded at run time for compiling etc. \n",
    "\n",
    "echo \"Python is about to run\"\n",
    "\n",
    "python < $WORK/TestPyHPC/MyHPCScript.py\n",
    "## tells the batch manager to execute MyHPCScript.py in \n",
    "## TestPyHPC using python\n",
    "\n",
    "# mv the output file result*\n",
    "echo \"Moving output files\"\n",
    "mv result* $WORK/TestPyHPC/output/\n",
    "\n",
    "echo \"Python has finished running\"\n",
    "\n",
    "```"
   ]
  },
  {
   "cell_type": "markdown",
   "metadata": {},
   "source": [
    "Or, you can do something like this to move all files one-by-one to avoid exceeding memory allocation (`.p` indicates that you used `pickle` to dump results):\n",
    "\n",
    "```bash\n",
    "for f in *.p; do\n",
    "    echo \"Processing $f...\"\n",
    "    mv $f $WORK/TestPyHPC/output/\n",
    "done\n",
    "```\n",
    "\n",
    "Note that to use python 3, you will need [Anaconda](https://www.imperial.ac.uk/admin-services/ict/self-service/research-support/rcs/support/applications/python). \n",
    "\n",
    "NOTE: Most of the cx1 nodes have multiple cores, so there's no fixed memory assigned to each core. If you use more memory than your request on your `#PBS` directive, your job is likely to be terminated. If you request more memory than is available, the job will remain queued until sufficient memory is free for the job to run.\n",
    "\n",
    "Your HPC enabled Python code could look like this:"
   ]
  },
  {
   "cell_type": "markdown",
   "metadata": {},
   "source": [
    "```python\n",
    "# -*- coding: utf-8 -*-\n",
    "\"\"\"\n",
    "Created on Wed Nov 02 16:20:48 2017\n",
    "\n",
    "@author: Samraat Pawar\n",
    "\n",
    "\"\"\"\n",
    "import os # to get environment variables\n",
    "\n",
    "home <- os.getenv('HOME')\n",
    "\n",
    "i = int(os.getenv(\"PBS_ARRAY_INDEX\"))\n",
    "\n",
    "####Functions block start ####\n",
    "def do_simulation(ar1, arg2, etc):\n",
    "\tresults = ...\n",
    "\treturn results\n",
    "#### Functions block end ####\n",
    "\n",
    "do_simulation(i)\n",
    "\n",
    "save(results, file='home/MyProject/results_HPC.csv')\n",
    "```\n",
    "Note the lines in this Python code where you the environment so that it knows the working directory and where to output files.\n",
    "\n",
    "### Copying scripts from your computer to the HPC server\n",
    "\n",
    "Then, secure copy bash script file to `\\$HOME` on HPC server using scp: \n",
    "\n",
    "`scp source host:destination` \n",
    "\n",
    "Fore example, \n",
    "\n",
    "`scp script.sh user@login.cx1.hpc.ic.ac.uk:/home/user/whatever/script.sh`"
   ]
  },
  {
   "cell_type": "markdown",
   "metadata": {},
   "source": [
    "### Running the scripts\n",
    "\n",
    "Open a secure shell (ssh):\n",
    "\n",
    "`ssh user@login.cx1.hpc.ic.ac.uk`"
   ]
  },
  {
   "cell_type": "markdown",
   "metadata": {},
   "source": [
    "where `user` is your ICL username. You will then be prompted to enter your (ICL) password. Once on the HPC server, check for available modules:\n",
    "\n",
    "`module avail`\n",
    "\n",
    "Your job then needs to be queued using `qsub` (PBS):\n",
    "\n",
    "`qsub -j eo script.sh`\n",
    "\n",
    "where `-j eo` is an option to join both output and error into one file. Running the script w ll produce a job output (anything that is printed in the shell terminal (e.g. `echo`)), an  an error file (related to whether the script was successful or not), in the form\n",
    "of `{scriptname}.o{job id}` and `{scriptname}.e{jobid}.`\n",
    "\n",
    "The `qstat` command provides information on the job being submitted (which queue (short, medium, long), status, etc.) as well as information on all queues available (-q, -Q).\n",
    "\n",
    "### Using a python script to submit jobs\n",
    "\n",
    "PBS also allows you to submit jobs using a Python (instead of shell) script. Look up the `qsub` manual (`man qsub`) in the HPC terminal, or [see this](https://gist.github.com/nobias/5b2373258e595e5242d5).\n",
    "\n",
    "For example, the Python job script named \"MyHPCPy.py\" for a job named \"HelloJob\" prints \"Hello\":\n",
    "\n",
    "```python\n",
    "#!/usr/bin/python\n",
    "#PBS -l select=1:ncpus=3:mem=1gb\n",
    "#PBS -N HelloJob\n",
    "print \"Hello\"\n",
    "```\n",
    "\n",
    "To run a Python job script you would do the same a for a bash job script above:\n",
    "\n",
    "`qsub MyHPCPy.py`"
   ]
  },
  {
   "cell_type": "markdown",
   "metadata": {},
   "source": [
    "## Readings & Resources\n",
    "\n",
    "* The [ICL HPC wiki is a very useful resource] (https://wiki.imperial.ac.uk/display/HPC/Command+line)"
   ]
  }
 ],
 "metadata": {
  "kernelspec": {
   "display_name": "Python 3",
   "language": "python",
   "name": "python3"
  },
  "language_info": {
   "codemirror_mode": {
    "name": "ipython",
    "version": 3
   },
   "file_extension": ".py",
   "mimetype": "text/x-python",
   "name": "python",
   "nbconvert_exporter": "python",
   "pygments_lexer": "ipython3",
   "version": "3.5.2"
  },
  "latex_envs": {
   "LaTeX_envs_menu_present": true,
   "autoclose": false,
   "autocomplete": false,
   "bibliofile": "biblio.bib",
   "cite_by": "apalike",
   "current_citInitial": 1,
   "eqLabelWithNumbers": true,
   "eqNumInitial": 1,
   "hotkeys": {
    "equation": "Ctrl-E",
    "itemize": "Ctrl-I"
   },
   "labels_anchors": false,
   "latex_user_defs": false,
   "report_style_numbering": false,
   "user_envs_cfg": false
  },
  "toc": {
   "base_numbering": 1,
   "nav_menu": {},
   "number_sections": false,
   "sideBar": false,
   "skip_h1_title": false,
   "title_cell": "Contents",
   "title_sidebar": "Contents",
   "toc_cell": true,
   "toc_position": {},
   "toc_section_display": true,
   "toc_window_display": false
  }
 },
 "nbformat": 4,
 "nbformat_minor": 2
}
