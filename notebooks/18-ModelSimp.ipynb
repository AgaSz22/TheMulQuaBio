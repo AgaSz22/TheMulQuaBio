{
 "cells": [
  {
   "cell_type": "markdown",
   "metadata": {},
   "source": [
    "<!--NAVIGATION-->\n",
    "< [Multiple Variables and Interactions](17-MulExplInter.ipynb) | [Main Contents](Index.ipynb) | [General Linear Models](19-glm.ipynb)>"
   ]
  },
  {
   "cell_type": "markdown",
   "metadata": {},
   "source": [
    "# Linear Models: Model simplification\n",
    "\n",
    "Aims of this chapter[$^{[1]}$](#fn1):\n",
    "\n",
    "Simplifying complex models by removing non-explanatory terms\n",
    "\n",
    "In biology, we often use statistics to compare competing hypotheses in\n",
    "order to work out the simplest explanation for some data. This often\n",
    "involves collecting several explanatory variables that describe\n",
    "different hypotheses and then fitting them together in a single model,\n",
    "and often including interactions between those variables.\n",
    "\n",
    "In all likelihood, not all of these model *terms* will be\n",
    "important. If we remove unimportant terms, then the explanatory power of\n",
    "the model will get worse, but might not get significantly worse.\n",
    "\n",
    "> *“It can scarcely be denied that the supreme goal of all theory is to\n",
    "> make the irreducible basic elements as simple and as few as possible\n",
    "> without having to surrender the adequate representation of a single\n",
    "> datum of experience.”*\n",
    ">\n",
    "> *Albert Einstein*\n",
    "\n",
    "Or to paraphrase:\n",
    "\n",
    "> *“Everything should be made as simple as possible, but no simpler.”*\n",
    "\n",
    "The approach we will look at is to start with a *maximal\n",
    "model* — the model that contains everything that might be\n",
    "important — and simplify it towards the *null model* — the\n",
    "model that says that none of your variables are important. Hopefully,\n",
    "there is a point somewhere in between where you can’t remove any further\n",
    "terms without making the model significantly worse: this is called the\n",
    "*minimum adequate model*.\n",
    "\n",
    "<a id=\"fig:minmodflow\"></a>\n",
    "<figure>\n",
    "    <img src=\"./graphics/minmodflow.png\" alt=\"minmodflow\" style=\"width:80%\">\n",
    "</figure>\n",
    "\n",
    "## A maximal model\n",
    "\n",
    "We’ll be using the mammal dataset for this practical, so once again:\n",
    "\n",
    "$\\star$ Make sure you have changed the working directory to your stats module\n",
    "`Code` folder.\n",
    "\n",
    "Create a new blank script called `MyModelSimp.R`.\n",
    "\n",
    "Load the mammals data into a data frame called `mammals`.\n",
    "\n",
    "In previous chapters, we looked at how the categorical\n",
    "variables `GroundDwelling` and `TrophicLevel`\n",
    "predicted genome size in mammals. In this chapter, we will add in two\n",
    "more continuous variables: litter size and body mass. The first thing we\n",
    "will do is to log both variables and reduce the dataset to the rows for\n",
    "which all of these data are available:"
   ]
  },
  {
   "cell_type": "code",
   "execution_count": null,
   "metadata": {},
   "outputs": [],
   "source": [
    "#get logs of continuous variables\n",
    "> mammals$logLS <- log(mammals$LitterSize)\n",
    "> mammals$logCvalue <- log(mammals$meanCvalue)\n",
    "> mammals$logBM <- log(mammals$AdultBodyMass_g)\n",
    "\n",
    "# reduce dataset to five key variables\n",
    "> mammals <- subset(mammals, select = c(logCvalue, logLS, logBM, \n",
    "TrophicLevel, GroundDwelling))\n",
    "\n",
    "# remove the row with missing data\n",
    "> mammals <- na.omit(mammals)"
   ]
  },
  {
   "cell_type": "markdown",
   "metadata": {},
   "source": [
    "$\\star$ Copy the code above into your script and run it\n",
    "\n",
    "Check that the data you end up with has this structure:"
   ]
  },
  {
   "cell_type": "code",
   "execution_count": null,
   "metadata": {},
   "outputs": [],
   "source": [
    "'data.frame':  240 obs. of  5 variables:\n",
    "$logCvalue     : num  0.94 1.322 1.381 1.545 0.888 ...\n",
    "$logLS         : num  1.1 1.12 0 0 1.52 ...\n",
    "$logBM         : num  10.83 4.87 11.46 10.86 3.23 ...\n",
    "$TrophicLevel  : Factor w/ 3 levels \"Carnivore\",\"Herbivore\",..: 1 2 2 2 3 3 3 2 2 3 ...\n",
    "$GroundDwelling: Factor w/ 2 levels \"No\",\"Yes\": 2 2 2 2 2 1 2 1 1 1 ...\n",
    " - attr(*, \"na.action\")=Class 'omit'  Named int [1:139] 2 4 7 9 10 11 14 15 20 21 ...\n",
    "  .. ..- attr(*, \"names\")= chr [1:139] \"2\" \"4\" \"7\" \"9\" ..."
   ]
  },
  {
   "cell_type": "markdown",
   "metadata": {},
   "source": [
    "Now we’ll fit a model including all of these variables and all of the\n",
    "interactions:"
   ]
  },
  {
   "cell_type": "code",
   "execution_count": null,
   "metadata": {},
   "outputs": [],
   "source": [
    "> model <- lm(formula = logCvalue ~ logLS * logBM * TrophicLevel * \n",
    "GroundDwelling, data = mammals)"
   ]
  },
  {
   "cell_type": "markdown",
   "metadata": {},
   "source": [
    "$\\star$ Run this model in your script.\n",
    "\n",
    "Look at the output of `anova(model)` and `summary(model)`.\n",
    "\n",
    "Scared? Don’t be! There are a number of points to this exercise:\n",
    "\n",
    "1.  These tables show exactly the kind of output you’ve seen before.\n",
    "    Sure, there are lots of rows but each row is just asking whether a\n",
    "    model term (`anova`) or a model coefficient (`summary`) is significant.\n",
    "\n",
    "2.  Some of the rows are significant, others aren’t: some of the model\n",
    "    terms are not explanatory.\n",
    "\n",
    "3.  The two tables show slightly different things - lots of stars for\n",
    "    the `anova` table and only a few for the `summary` table.\n",
    "\n",
    "4.  That last line in the `anova` table: `logLS:logBM:TrophicLevel:GroundDwelling`. This is an\n",
    "    interaction of four variables capturing how the slope for litter\n",
    "    size changes for different body masses for species in different\n",
    "    trophic groups and which are arboreal or ground dwelling. Does this\n",
    "    seem easy to understand?\n",
    "\n",
    "The real lesson here is that it is easy to fit complicated models in R.\n",
    "*Understanding and explaining them is a different matter*.\n",
    "The temptation is always to start with the most complex possible model\n",
    "but this is rarely a good idea.\n",
    "\n",
    "## A better maximal model\n",
    "\n",
    "Instead of all possible interactions, we’ll consider two-way\n",
    "interactions: how do pairs of variables affect each other?\n",
    "\n",
    "There is a shortcut for this: `y ~ (a + b + c)^2` gets all two way\n",
    "combinations of the variables in the brackets, so is a quicker way of\n",
    "getting this model:\n",
    "\n",
    "`y ~ a + b + c + a:b + a:c + b:c`\n",
    "\n",
    "So let’s use this to fit a simpler maximal model:"
   ]
  },
  {
   "cell_type": "code",
   "execution_count": null,
   "metadata": {},
   "outputs": [],
   "source": [
    "> model <- lm(logCvalue ~ (logLS + logBM + TrophicLevel + GroundDwelling)^2, data = mammals)"
   ]
  },
  {
   "cell_type": "markdown",
   "metadata": {},
   "source": [
    "The `anova` table for this model looks like this:"
   ]
  },
  {
   "cell_type": "code",
   "execution_count": null,
   "metadata": {},
   "outputs": [],
   "source": [
    "> anova(model)\n",
    "\n",
    " Analysis of Variance Table\n",
    " \n",
    " Response: logCvalue\n",
    "                              Df Sum Sq Mean Sq F value  Pr(>F)    \n",
    " logLS                         1   0.99   0.989   25.72 8.2e-07 ***\n",
    " logBM                         1   3.03   3.032   78.83 < 2e-16 ***\n",
    " TrophicLevel                  2   0.48   0.239    6.21  0.0024 ** \n",
    " GroundDwelling                1   0.11   0.110    2.87  0.0915 .  \n",
    " logLS:logBM                   1   0.27   0.275    7.15  0.0081 ** \n",
    " logLS:TrophicLevel            2   0.19   0.095    2.48  0.0862 .  \n",
    " logLS:GroundDwelling          1   0.14   0.136    3.55  0.0609 .  \n",
    " logBM:TrophicLevel            2   0.09   0.044    1.14  0.3230    \n",
    " logBM:GroundDwelling          1   0.88   0.883   22.96 3.0e-06 ***\n",
    " TrophicLevel:GroundDwelling   2   0.04   0.022    0.58  0.5607    \n",
    " Residuals                   225   8.65   0.038                    \n",
    " ---\n",
    " Signif. codes:  0 '***' 0.001 '**' 0.01 '*' 0.05 '.' 0.1 ' ' 1 "
   ]
  },
  {
   "cell_type": "markdown",
   "metadata": {},
   "source": [
    "The first lines are the *main effects*, which are all\n",
    "significant or near significant. Then there are the six interactions.\n",
    "One of these is very significant: `logBM:GroundDwelling`,\n",
    "which suggests that the slope of log C value with body mass differs\n",
    "between ground dwelling and non-ground dwelling species. The other\n",
    "interactions are non-significant although some are close.\n",
    "\n",
    "$\\star$ Run this model in your script.\n",
    "\n",
    "Look at the output of `anova(model)` and `summary(model)`.\n",
    "\n",
    "Check the model diagnostic plots.\n",
    "\n",
    "## Model simplification\n",
    "\n",
    "Model simplification is not a simple process. Each time you remove a\n",
    "term from a model, the model will change: the model will get worse,\n",
    "since some of the sums of squares are no longer explained, but the\n",
    "remaining variables may take over.\n",
    "\n",
    "The first question is: *what terms can you remove from a model*? Obviously, you only want to remove non-significant terms,\n",
    "but there is another rule – you cannot remove a main effect or an\n",
    "interaction while those main effects or interactions are present in a\n",
    "more complex interaction. For example, in the model \n",
    "`y ~ a + b + c + a:b + a:c + b:c`, you cannot drop `c` without\n",
    "dropping both `a:c` and `b:c`.\n",
    "\n",
    "The R function `drop.scope` tells you what you can drop from\n",
    "a model. Some examples:"
   ]
  },
  {
   "cell_type": "code",
   "execution_count": null,
   "metadata": {},
   "outputs": [],
   "source": [
    "> drop.scope(model)\n",
    " [1] \"logLS:logBM\"                 \"logLS:TrophicLevel\"         \n",
    " [3] \"logLS:GroundDwelling\"        \"logBM:TrophicLevel\"         \n",
    " [5] \"logBM:GroundDwelling\"        \"TrophicLevel:GroundDwelling\"\n",
    "\n",
    "> drop.scope(y ~ a + b + c + a:b)\n",
    " [1] \"c\"   \"a:b\"\n",
    "> drop.scope(y ~ a + b + c + a:b + b:c + a:b:c)\n",
    " [1] \"a:b:c\""
   ]
  },
  {
   "cell_type": "markdown",
   "metadata": {},
   "source": [
    "Model simplification is an iterative process. The flow diagram below\n",
    "shows how it works: at each stage you try and find an acceptable\n",
    "simplification. If successful, then you start again with the new simpler\n",
    "model and try and find a way to simplify this, until eventually, you\n",
    "can’t find anything more to remove.\n",
    "\n",
    "<a id=\"fig:maxmodflow\"></a>\n",
    "<figure>\n",
    "    <img src=\"./graphics/maxmodflow.png\" alt=\"maxmodflow\" style=\"width:80%\">\n",
    "</figure>\n",
    "\n",
    "As always, we can use an $F$ test to compare two models and see if they\n",
    "have significantly different explanatory power. Here, significance is a\n",
    "bad thing — it means that we’ve removed a term that makes the model\n",
    "significantly worse.\n",
    "\n",
    "The last thing we need to do is work out how to remove a term from a\n",
    "model. We could type out the model again, but there is a shortcut using\n",
    "the function `update`:"
   ]
  },
  {
   "cell_type": "code",
   "execution_count": null,
   "metadata": {},
   "outputs": [],
   "source": [
    "# a simple model\n",
    "> f <- y ~ a + b + c + b:c\n",
    "\n",
    "# remove b:c from the current model\n",
    "> update(f, . ~ . - b:c)\n",
    " y ~ a + b + c\n",
    " \n",
    "# model g as a response using the same explanatory variables.\n",
    "> update(f, g ~ .)\n",
    " g ~ a + b + c + b:c"
   ]
  },
  {
   "cell_type": "markdown",
   "metadata": {},
   "source": [
    "Yes, the syntax is a little odd. The function uses a model or a formula\n",
    "and then allows you to alter the current formula. The dots in the code\n",
    "`. ~ . ` mean ‘use whatever is currently in the response or\n",
    "explanatory variables’. It gives a simple way of changing a model.\n",
    "\n",
    "Putting this together, let’s try a simplification. From the previous\n",
    "`anova` and `drop.scope` output, we know that the\n",
    "interaction `TrophicLevel:GroundDwelling` is not significant\n",
    "and a valid term."
   ]
  },
  {
   "cell_type": "code",
   "execution_count": null,
   "metadata": {},
   "outputs": [],
   "source": [
    "# remove TrophicLevel:GroundDwelling\n",
    "> model2 <- update(model, . ~ . - TrophicLevel:GroundDwelling)\n",
    "\n",
    "# use anova to compare the two models\n",
    "> anova(model, model2)\n",
    "\n",
    " Analysis of Variance Table\n",
    " \n",
    " Model 1: logCvalue ~ (logLS + logBM + TrophicLevel + GroundDwelling)^2\n",
    " Model 2: logCvalue ~ logLS + logBM + TrophicLevel + GroundDwelling + \n",
    "            logLS:logBM + logLS:TrophicLevel + logLS:GroundDwelling + \n",
    "            logBM:TrophicLevel + logBM:GroundDwelling\n",
    "   Res.Df  RSS Df Sum of Sq    F Pr(>F)\n",
    " 1    225 8.65                         \n",
    " 2    227 8.70 -2   -0.0446 0.58   0.56"
   ]
  },
  {
   "cell_type": "markdown",
   "metadata": {},
   "source": [
    "This tells us that `model2` is not significantly worse than\n",
    "`model`. We can now look at this model and see what else can\n",
    "be removed:"
   ]
  },
  {
   "cell_type": "code",
   "execution_count": null,
   "metadata": {},
   "outputs": [],
   "source": [
    "> anova(model2)\n",
    " \n",
    " Analysis of Variance Table\n",
    " \n",
    " Response: logCvalue\n",
    "                       Df Sum Sq Mean Sq F value  Pr(>F)    \n",
    " logLS                  1   0.99   0.989   25.82 7.8e-07 ***\n",
    " logBM                  1   3.03   3.032   79.12 < 2e-16 ***\n",
    " TrophicLevel           2   0.48   0.239    6.24  0.0023 ** \n",
    " GroundDwelling         1   0.11   0.110    2.88  0.0909 .  \n",
    " logLS:logBM            1   0.27   0.275    7.17  0.0079 ** \n",
    " logLS:TrophicLevel     2   0.19   0.095    2.49  0.0854 .  \n",
    " logLS:GroundDwelling   1   0.14   0.136    3.56  0.0604 .  \n",
    " logBM:TrophicLevel     2   0.09   0.044    1.14  0.3216    \n",
    " logBM:GroundDwelling   1   0.88   0.883   23.05 2.9e-06 ***\n",
    " Residuals            227   8.70   0.038                    \n",
    " ---\n",
    " Signif. codes:  0 '***' 0.001 '**' 0.01 '*' 0.05 '.' 0.1 ' ' 1 \n",
    " \n",
    "> drop.scope(model2)\n",
    " \n",
    " [1] \"logLS:logBM\"          \"logLS:TrophicLevel\"   \"logLS:GroundDwelling\"\n",
    " [4] \"logBM:TrophicLevel\"   \"logBM:GroundDwelling\""
   ]
  },
  {
   "cell_type": "markdown",
   "metadata": {},
   "source": [
    "$\\star$ Run this first simplification in your script.\n",
    "\n",
    "Look at the output above and decide what is the next possible term to\n",
    "delete\n",
    "\n",
    "Using the code above as a model, create `model3` as the next\n",
    "simplification! (remember to use `model2` in your update call\n",
    "and not `model`)\n",
    "\n",
    "Now for a difficult exercise:\n",
    "\n",
    "$\\star$ Using the code above to guide you, try and find a minimal adequate model\n",
    "that you are happy with. In each step, the output of `anova(model, modelN)` should be non-significant (where $N$ is the current step).\n",
    "\n",
    "It can be important to consider both `anova` and `summary` tables. It can be worth trying to remove things that look\n",
    "significant in one table but not the other — some terms can explain significant variation on the `anova` table but the coefficients are not significant.\n",
    "\n",
    "Remember to remove *terms*: with categorical variables,\n",
    "several coefficients in the `summary` table may come from one\n",
    "term in the model and have to be removed together.\n",
    "\n",
    "When you have got your final model, save the model as an R data file:\n",
    "`save(modelN, file=’myFinalModel.Rda’)`.\n",
    "\n",
    "-----\n",
    "\n",
    "<a id=\"fn1\"></a>\n",
    "[1]: Here you work with the script file `ModelSimp.R`"
   ]
  }
 ],
 "metadata": {
  "kernelspec": {
   "display_name": "R",
   "language": "R",
   "name": "ir"
  },
  "language_info": {
   "codemirror_mode": "r",
   "file_extension": ".r",
   "mimetype": "text/x-r-source",
   "name": "R",
   "pygments_lexer": "r",
   "version": "3.4.4"
  }
 },
 "nbformat": 4,
 "nbformat_minor": 2
}
