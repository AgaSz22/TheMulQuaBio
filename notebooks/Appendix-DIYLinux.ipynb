{
 "cells": [
  {
   "cell_type": "markdown",
   "metadata": {},
   "source": [
    "<!--NAVIGATION-->\n",
    "[Back to Main Contents](Index.ipynb)"
   ]
  },
  {
   "cell_type": "markdown",
   "metadata": {},
   "source": [
    "# DIY Linux <span class=\"tocSkip\"></span> <a name=\"Apx:Linux\"></a>"
   ]
  },
  {
   "cell_type": "markdown",
   "metadata": {
    "toc": true
   },
   "source": [
    "<h1>Contents<span class=\"tocSkip\"></span></h1>\n",
    "<div class=\"toc\"><ul class=\"toc-item\"><li><span><a href=\"#Installing-Ubuntu\" data-toc-modified-id=\"Installing-Ubuntu-1\"><span class=\"toc-item-num\">1&nbsp;&nbsp;</span>Installing Ubuntu</a></span><ul class=\"toc-item\"><li><span><a href=\"#Ubuntu-only-install\" data-toc-modified-id=\"Ubuntu-only-install-1.1\"><span class=\"toc-item-num\">1.1&nbsp;&nbsp;</span>Ubuntu-only install</a></span></li><li><span><a href=\"#Dual-boot-with-Windows\" data-toc-modified-id=\"Dual-boot-with-Windows-1.2\"><span class=\"toc-item-num\">1.2&nbsp;&nbsp;</span>Dual boot with Windows</a></span></li><li><span><a href=\"#Dual-boot-with-Mac-OS\" data-toc-modified-id=\"Dual-boot-with-Mac-OS-1.3\"><span class=\"toc-item-num\">1.3&nbsp;&nbsp;</span>Dual boot with Mac OS</a></span></li><li><span><a href=\"#Creating-partitions-during-Linux-installation\" data-toc-modified-id=\"Creating-partitions-during-Linux-installation-1.4\"><span class=\"toc-item-num\">1.4&nbsp;&nbsp;</span>Creating partitions during Linux installation</a></span></li></ul></li><li><span><a href=\"#Tweaking-your-Ubuntu-OS\" data-toc-modified-id=\"Tweaking-your-Ubuntu-OS-2\"><span class=\"toc-item-num\">2&nbsp;&nbsp;</span>Tweaking your Ubuntu OS</a></span><ul class=\"toc-item\"><li><span><a href=\"#Opening-Nautilus-from-terminal\" data-toc-modified-id=\"Opening-Nautilus-from-terminal-2.1\"><span class=\"toc-item-num\">2.1&nbsp;&nbsp;</span>Opening Nautilus from terminal</a></span></li><li><span><a href=\"#Enabling-auto-complete-in-terminal\" data-toc-modified-id=\"Enabling-auto-complete-in-terminal-2.2\"><span class=\"toc-item-num\">2.2&nbsp;&nbsp;</span>Enabling auto-complete in terminal</a></span></li></ul></li><li><span><a href=\"#Readings-&amp;-Resources\" data-toc-modified-id=\"Readings-&amp;-Resources-3\"><span class=\"toc-item-num\">3&nbsp;&nbsp;</span>Readings &amp; Resources</a></span></li></ul></div>"
   ]
  },
  {
   "cell_type": "markdown",
   "metadata": {},
   "source": [
    "## Installing Ubuntu\n",
    "\n",
    "You should have received a bootable USB stick with the Ubuntu 16.04 (64 bit) installer on it. If you didn't or would rather make your own (indeed, why not?!), [its pretty easy](https://tutorials.ubuntu.com/tutorial/tutorial-create-a-usb-stick-on-ubuntu#0). \n",
    "\n",
    "### Ubuntu-only install\n",
    "\n",
    "Once you have your bootable USB, [follow this tutorial](https://tutorials.ubuntu.com). The best way to do this is to keep it handy on your smart phone or another computer and go through the process.   \n",
    "\n",
    "Basically, you need to boot your computer from the Ubuntu USB. Many computers will boot from (a bootable) USB stick automatically. Simply insert the USB flash drive and either power on your computer or restart it. You should see the Ubuntu welcome window from where you can install Ubuntu desktop.\n",
    "\n",
    "If your computer doesn't automatically boot from USB, try holding `F12` when your computer first starts. With most machines, this will allow you to select the USB device from a system-specific boot menu. If `F12` does not  bring up your system's boot menu, Escape, F2 and F10 are common alternatives. Otherwise, just [check this webpage](http://www.disk-image.com/faq-bootmenu.htm).  You can also look for a brief message when your system starts, that  will tell you which key to press to bring up the boot menu.\n",
    "\n",
    "Once you have the Ububtu welcome screen, the rest should be easy. If you are using one of the College-issued CMEE laptops, you should choose the \"Erase disk and install Ubuntu\" option.  \n",
    "\n",
    "### Dual boot with Windows\n",
    "\n",
    "You can also set up your computer to dual boot Ubuntu and Windows. \n",
    "\n",
    "There are few (no?) benefits to choosing to dual-boot, and we do not recommended it. One reason may be that you are using your own laptop, and are keen on keeping your Windows installation that you paid \\$\\$ or \\$\\$\\$\\$ for. In that case, try it. [There are detailed instructions available](https://help.ubuntu.com/community/WindowsDualBoot). \n",
    "\n",
    "Alternatively, do a native install of Ubuntu, and then virtualize the other operating system. Google \"windows virtual machine on ubuntu\", and you will get plenty of step by step tutorials. \n",
    "\n",
    "### Dual boot with Mac OS\n",
    "\n",
    "Don't be crazy!\n",
    "\n",
    "### Creating partitions during Linux installation\n",
    "\n",
    "When you install Ubuntu, you will have the opportunity to create separate `swap`, `root` and `home` partitions on your hard disk. `swap` necessarily needs to be a separate partition, while `root + home` can be on the same partition. I suggest that you create a separate `home` partition, even though it is not necessary — that way, even if you break your linux install, you can easily reinstall it by just wiping the root partition, without losing any of your data (which sits in `home`)."
   ]
  },
  {
   "cell_type": "markdown",
   "metadata": {},
   "source": [
    "## Tweaking your Ubuntu OS\n",
    "\n",
    "Once you have installed Ubuntu, there are are many ways in which you can tweak your OS environment. For example, see <http://www.howtogeek.com/tag/ubuntu/ubuntu-tips/>.\n",
    "\n",
    "But be careful, it can be addictive and dangerous to your system's stability!\n",
    "\n",
    "Here are a couple of tweaks  to our bash/terminal behavior that are recommended. \n",
    "\n",
    "### Opening Nautilus from terminal\n",
    "\n",
    "In terminal you can simply enter \"f\" to open nautilus in current directory by doing the following. Firstly make a `.bash_aliases` file, then open it for editing:"
   ]
  },
  {
   "cell_type": "code",
   "execution_count": null,
   "metadata": {},
   "outputs": [],
   "source": [
    "touch ~/.bash_aliases\n",
    "gedit ~/.bash_aliases"
   ]
  },
  {
   "cell_type": "markdown",
   "metadata": {},
   "source": [
    "Next add to the last line of the file, add:\n",
    "\n",
    "`alias f='nautilus .'`\n",
    "\n",
    "Then restart terminal, or in current terminal, type:"
   ]
  },
  {
   "cell_type": "code",
   "execution_count": null,
   "metadata": {},
   "outputs": [],
   "source": [
    "source ~/.bash_aliases"
   ]
  },
  {
   "cell_type": "markdown",
   "metadata": {},
   "source": [
    "### Enabling auto-complete in terminal\n",
    "\n",
    "What happens when you use up and down keys in terminal? If nothing, then you need to enable reverse searching history. To do so, open `/etc/inputrc` for editing:"
   ]
  },
  {
   "cell_type": "code",
   "execution_count": null,
   "metadata": {},
   "outputs": [],
   "source": [
    "sudo gedit /etc/inputrc"
   ]
  },
  {
   "cell_type": "markdown",
   "metadata": {},
   "source": [
    "Then, add the following to it:\n",
    "\n",
    "```bash\n",
    "## arrow up\n",
    "\"\\e[A\":history-search-backward\n",
    "## arrow down\n",
    "\"\\e[B\":history-search-forward\n",
    "\n",
    "```"
   ]
  },
  {
   "cell_type": "markdown",
   "metadata": {},
   "source": [
    "That's it. Now when you type part of a command that you have used in the past and then press the up key, it will autocomplete by reverse-searching history (open a new terminal and try it!).    "
   ]
  },
  {
   "cell_type": "markdown",
   "metadata": {},
   "source": [
    "## Readings & Resources\n",
    "\n",
    "\n",
    "* [Ubuntu tutorials](https://tutorials.ubuntu.com/)\n",
    "* [Bootable USB tutorial](https://tutorials.ubuntu.com/tutorial/tutorial-create-a-usb-stick-on-ubuntu#0) \n",
    "* [Installation tutorial](https://tutorials.ubuntu.com/tutorial/tutorial-install-ubuntu-desktop-1604#0)\n",
    "* [Some post-installation tweaks](https://www.howtogeek.com/tag/ubuntu/ubuntu-tips/)"
   ]
  }
 ],
 "metadata": {
  "kernelspec": {
   "display_name": "Bash",
   "language": "bash",
   "name": "bash"
  },
  "language_info": {
   "codemirror_mode": "shell",
   "file_extension": ".sh",
   "mimetype": "text/x-sh",
   "name": "bash"
  },
  "latex_envs": {
   "LaTeX_envs_menu_present": true,
   "autoclose": false,
   "autocomplete": false,
   "bibliofile": "biblio.bib",
   "cite_by": "apalike",
   "current_citInitial": 1,
   "eqLabelWithNumbers": true,
   "eqNumInitial": 1,
   "hotkeys": {
    "equation": "Ctrl-E",
    "itemize": "Ctrl-I"
   },
   "labels_anchors": false,
   "latex_user_defs": false,
   "report_style_numbering": false,
   "user_envs_cfg": false
  },
  "toc": {
   "base_numbering": 1,
   "nav_menu": {},
   "number_sections": true,
   "sideBar": false,
   "skip_h1_title": true,
   "title_cell": "Contents",
   "title_sidebar": "Contents",
   "toc_cell": true,
   "toc_position": {
    "height": "675.455px",
    "left": "10px",
    "top": "150px",
    "width": "349.091px"
   },
   "toc_section_display": false,
   "toc_window_display": true
  }
 },
 "nbformat": 4,
 "nbformat_minor": 2
}
