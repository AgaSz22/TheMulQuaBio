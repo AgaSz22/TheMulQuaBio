{
 "cells": [
  {
   "cell_type": "markdown",
   "metadata": {
    "toc": true
   },
   "source": [
    "<h1>Contents<span class=\"tocSkip\"></span></h1>\n",
    "<div class=\"toc\"><ul class=\"toc-item\"><li><span><a href=\"#Launching/Running-a-Jupyter-Notebook\" data-toc-modified-id=\"Launching/Running-a-Jupyter-Notebook-1\">Launching/Running a Jupyter Notebook</a></span><ul class=\"toc-item\"><li><span><a href=\"#Language-Kernels\" data-toc-modified-id=\"Language-Kernels-1.1\">Language Kernels</a></span><ul class=\"toc-item\"><li><span><a href=\"#The-IPython-kernel\" data-toc-modified-id=\"The-IPython-kernel-1.1.1\">The IPython kernel</a></span></li><li><span><a href=\"#The-R-kernel\" data-toc-modified-id=\"The-R-kernel-1.1.2\">The R kernel</a></span></li></ul></li><li><span><a href=\"#Adding-extensions-to-Jupyter\" data-toc-modified-id=\"Adding-extensions-to-Jupyter-1.2\">Adding extensions to Jupyter</a></span></li></ul></li></ul></div>"
   ]
  },
  {
   "cell_type": "markdown",
   "metadata": {},
   "source": [
    "## Launching/Running a Jupyter Notebook\n",
    "\n",
    "In Linux / Mac, Jupyter will start in the directory that toy launch it from though terminal. So in your terminal first `cd` to your weekly coursework' `code` directory.  Then, simply launch jupyter (Linux / Mac): \n",
    "\n",
    "``` bash\n",
    "jupyter notebook\n",
    "\n",
    "```\n",
    "This will inititalize a new server instance (watch your active terminal) and launch a web browser with the Jupyter interface, include a menu at the top. Play abound a bit. \n",
    "\n",
    "* Create a new nb called `MyFirstJupyterNb.ipynb` using the menu in your Weekly `code` directory. \n",
    "\n",
    "One you have created the new nb, you can launch it next time by `cd`'ing to its location and then launching it by name: \n",
    "\n",
    "``` bash\n",
    "jupyter notebook MyFirstJupyterNb.ipynb\n",
    "\n",
    "```\n",
    "\n",
    "### Language Kernels\n",
    "\n",
    "The Jupyter notebook can support almost [100 programming languages](https://github.com/jupyter/jupyter/wiki/Jupyter-kernels) (and counting). \n",
    "\n",
    "#### The IPython kernel\n",
    "\n",
    "The default kernel you will have is IPython (with Python 3 or 2) -- the core Jupyter kernel. Click on the kernel menu item at the top of your notebook to check. \n",
    "\n",
    "If you uppgraded to Python 3 from 2 **after** installing Jupyter, you will need to reinstall Jupyter using `pip3`:\n",
    "\n",
    "``` bash\n",
    "pip3 install jupyter\n",
    "```\n",
    "You will then need to relaunch Jupyter. You should see the Python 3 kernel. If you want both Python 2 and 3 kernels, [see this](https://stackoverflow.com/questions/30492623/using-both-python-2-x-and-python-3-x-in-ipython-notebook).\n",
    "\n",
    "#### The R kernel\n",
    "\n",
    "Let's add the R kernel as well. First have a quick look at the [Jupyter kernel documentation](http://jupyter.readthedocs.io/en/latest/projects/kernels.html) .  \n",
    "\n",
    "Now, go to the [IRKernel github](https://github.com/IRkernel/IRkernel), and follow the instructions for installing \n",
    "using the `devtools` package in R (This package will also soon be installable thorugh CRAN). \n",
    "\n",
    "\n",
    "\n",
    "<div style=\"padding:6px;background-color:cornsilk;line-height:1.4;\">\n",
    "On Ubuntu 16.04, If you run into errors while installing the `devtools` package thorugh R, very likely you might need to install the `curl` package using `sudo apt-get install` in a terminal first  (read the error messages you get in R).    \n",
    "</div>\n",
    "\n",
    "After installing the R kernel, relaunch Jupyter as you did above, and then check your kernels in the dropdown Jupyter nb menu -- you should now have both Python and R. \n",
    "\n",
    "### Adding extensions to Jupyter\n",
    "\n",
    "You can add some useful additional functionalities to your Jupyter notebook interface using (the unofficial) [extensions](https://github.com/ipython-contrib/jupyter_contrib_nbextensions). The list of extensions and further instructions for installation can be [found here](http://jupyter-contrib-nbextensions.readthedocs.io/en/latest/). You will also probably ant to install the [extensions \"configurator\"](https://github.com/Jupyter-contrib/jupyter_nbextensions_configurator). This package will add useful funbctionalities like $\\LaTeX$ environments and TOCs (like the one in the right margin of this nb).   "
   ]
  }
 ],
 "metadata": {
  "kernelspec": {
   "display_name": "Python 3",
   "language": "python",
   "name": "python3"
  },
  "language_info": {
   "codemirror_mode": {
    "name": "ipython",
    "version": 3
   },
   "file_extension": ".py",
   "mimetype": "text/x-python",
   "name": "python",
   "nbconvert_exporter": "python",
   "pygments_lexer": "ipython3",
   "version": "3.5.2"
  },
  "latex_envs": {
   "LaTeX_envs_menu_present": true,
   "autoclose": false,
   "autocomplete": false,
   "bibliofile": "biblio.bib",
   "cite_by": "apalike",
   "current_citInitial": 1,
   "eqLabelWithNumbers": true,
   "eqNumInitial": 1,
   "hotkeys": {
    "equation": "Ctrl-E",
    "itemize": "Ctrl-I"
   },
   "labels_anchors": false,
   "latex_user_defs": false,
   "report_style_numbering": false,
   "user_envs_cfg": false
  },
  "toc": {
   "base_numbering": 1,
   "nav_menu": {},
   "number_sections": false,
   "sideBar": false,
   "skip_h1_title": false,
   "title_cell": "Contents",
   "title_sidebar": "Contents",
   "toc_cell": true,
   "toc_position": {},
   "toc_section_display": true,
   "toc_window_display": false
  }
 },
 "nbformat": 4,
 "nbformat_minor": 2
}
