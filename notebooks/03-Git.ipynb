{
 "cells": [
  {
   "cell_type": "markdown",
   "metadata": {},
   "source": [
    "# Version control with Git <a class=\"tocSkip\", name=\"chap:git\"></a>"
   ]
  },
  {
   "cell_type": "markdown",
   "metadata": {
    "toc": true
   },
   "source": [
    "<h1>Contents<span class=\"tocSkip\"></span></h1>\n",
    "<div class=\"toc\"><ul class=\"toc-item\"><li><span><a href=\"#What-is-Version-Control?\" data-toc-modified-id=\"What-is-Version-Control?-1\"><span class=\"toc-item-num\">1&nbsp;&nbsp;</span>What is Version Control?</a></span></li><li><span><a href=\"#Why-Version-Control?\" data-toc-modified-id=\"Why-Version-Control?-2\"><span class=\"toc-item-num\">2&nbsp;&nbsp;</span>Why Version Control?</a></span></li><li><span><a href=\"#git\" data-toc-modified-id=\"git-3\"><span class=\"toc-item-num\">3&nbsp;&nbsp;</span>git</a></span></li><li><span><a href=\"#Your-first-repository\" data-toc-modified-id=\"Your-first-repository-4\"><span class=\"toc-item-num\">4&nbsp;&nbsp;</span>Your first repository</a></span></li><li><span><a href=\"#git-commands\" data-toc-modified-id=\"git-commands-5\"><span class=\"toc-item-num\">5&nbsp;&nbsp;</span><span>git</span> commands</a></span><ul class=\"toc-item\"><li><span><a href=\"#git-command-structure-{#ssec:git_comds}\" data-toc-modified-id=\"git-command-structure-{#ssec:git_comds}-5.1\"><span class=\"toc-item-num\">5.1&nbsp;&nbsp;</span><span>git</span> command structure {#ssec:git_comds}</a></span></li></ul></li><li><span><a href=\"#Ignoring-Files\" data-toc-modified-id=\"Ignoring-Files-6\"><span class=\"toc-item-num\">6&nbsp;&nbsp;</span>Ignoring Files</a></span><ul class=\"toc-item\"><li><span><a href=\"#Dealing-with-binary-files\" data-toc-modified-id=\"Dealing-with-binary-files-6.1\"><span class=\"toc-item-num\">6.1&nbsp;&nbsp;</span>Dealing with binary files</a></span></li><li><span><a href=\"#Dealing-with-large-files\" data-toc-modified-id=\"Dealing-with-large-files-6.2\"><span class=\"toc-item-num\">6.2&nbsp;&nbsp;</span>Dealing with large files</a></span></li></ul></li><li><span><a href=\"#Removing-files\" data-toc-modified-id=\"Removing-files-7\"><span class=\"toc-item-num\">7&nbsp;&nbsp;</span>Removing files</a></span></li><li><span><a href=\"#Accessing-history-of-the-repository\" data-toc-modified-id=\"Accessing-history-of-the-repository-8\"><span class=\"toc-item-num\">8&nbsp;&nbsp;</span>Accessing history of the repository</a></span></li><li><span><a href=\"#Reverting-to-a-previous-version\" data-toc-modified-id=\"Reverting-to-a-previous-version-9\"><span class=\"toc-item-num\">9&nbsp;&nbsp;</span>Reverting to a previous version</a></span></li><li><span><a href=\"#Branching\" data-toc-modified-id=\"Branching-10\"><span class=\"toc-item-num\">10&nbsp;&nbsp;</span>Branching</a></span></li><li><span><a href=\"#Running-git-commands-on-a-different-directory\" data-toc-modified-id=\"Running-git-commands-on-a-different-directory-11\"><span class=\"toc-item-num\">11&nbsp;&nbsp;</span>Running git commands on a different directory</a></span></li><li><span><a href=\"#Running-git-commands-on-multiple-repositories-at-once\" data-toc-modified-id=\"Running-git-commands-on-multiple-repositories-at-once-12\"><span class=\"toc-item-num\">12&nbsp;&nbsp;</span>Running git commands on multiple repositories at once</a></span><ul class=\"toc-item\"><li><span><a href=\"#Practicals\" data-toc-modified-id=\"Practicals-12.1\"><span class=\"toc-item-num\">12.1&nbsp;&nbsp;</span>Practicals</a></span></li></ul></li><li><span><a href=\"#Practical-wrap-up\" data-toc-modified-id=\"Practical-wrap-up-13\"><span class=\"toc-item-num\">13&nbsp;&nbsp;</span>Practical wrap-up</a></span></li><li><span><a href=\"#Readings-&amp;-Resources\" data-toc-modified-id=\"Readings-&amp;-Resources-14\"><span class=\"toc-item-num\">14&nbsp;&nbsp;</span>Readings &amp; Resources</a></span></li></ul></div>"
   ]
  },
  {
   "cell_type": "markdown",
   "metadata": {},
   "source": [
    "## What is Version Control?\n",
    "\n",
    "Version control, also known as revision control or source control, is the management and tracking of changes to documents, computer programs, large web sites, and other collections of information in an automated way.\n",
    "\n",
    "Any project (collections of files in directories) under version control has changes and additions/deletions to its files and directories recorded and archived over time so that you can recall specific versions later. With version control of biological computing projects, you can:\n",
    "\n",
    "1. record of all changes made to a set of files and directories, including text (usually ASCII) data files, so that you can access any previous version of the files\n",
    "\n",
    "* branch (and merge) new projects\n",
    "\n",
    "* \"roll back\" data, code, documents that are in plain text format (other file formats can also be versioned; see section on binary files below).\n",
    "\n",
    "Version control (usually git) is in fact the technology embedded in the versioning of various word processor and spreadsheet applications (e.g., Google Docs, Sheets, Overleaf).\n",
    "\n",
    "![A general idea of how version control works.](VC.png){width=\".5\\textwidth\"}\n",
    "\n",
    "\n",
    "## Why Version Control?\n",
    "\n",
    "<span>![image](cvs.png){width=\".5\\textwidth\"}\\\n",
    "maktoons.blogspot.com/2009/06/if-dont-use-version-control-system.html</span>\n",
    "\n",
    "Or here’s another one:\n",
    "<http://www.phdcomics.com/comics/archive/phd101212s.gif>\n",
    "\n",
    "## git\n",
    "\n",
    "We will use git, developed by Linus Torvalds, the “Linu” in Linux. In git each user stores a complete local copy of the project, including the history and all versions. So you do not rely as much on a centralized (remote) server. We will use bitbucket.org – it gives you unlimited free private repositories if you register with an academic email! First, install and configure `git`:"
   ]
  },
  {
   "cell_type": "raw",
   "metadata": {},
   "source": [
    "sudo apt-get install git\n",
    "git config --global user.name \"Your Name\"\n",
    "git config --global user.email \"your.login@imperial.ac.uk\"\n",
    "git config --list"
   ]
  },
  {
   "cell_type": "markdown",
   "metadata": {},
   "source": [
    "## Your first repository\n",
    "\n",
    "Time to bring your `CMEECourseWork` under version control:"
   ]
  },
  {
   "cell_type": "raw",
   "metadata": {},
   "source": [
    "cd CMEECourseWork\n",
    "git init\n",
    "echo \"My CMEE 2016-17 Coursework Repository\" > README.txt\n",
    "git config --list\n",
    "ls -al\n",
    "git add README.txt #Staging\n",
    "git status\n",
    "git commit -m \"Added README file.\" #you can use -am too\n",
    "git status #what does it say now?\n",
    "git add -A\n",
    "git status"
   ]
  },
  {
   "cell_type": "markdown",
   "metadata": {},
   "source": [
    "Nothing has been sent to a remote server yet (see [section below](#ssec:git_comds))! So let's go to your git service (bitbucket or github) and setup:\n",
    "\n",
    "$\\star$ Login to your bitbucket or github account\n",
    "\n",
    "Set up your `ssh` based access\n",
    "\n",
    "bitbucket:\n",
    "<https://confluence.atlassian.com/bitbucket/set-up-ssh-for-git-728138079.html>\n",
    "\n",
    "github: <https://help.github.com/articles/connecting-to-github-with-ssh>\n",
    "\n",
    "Then create repository there with name <span>CMEECourseWork</span>\n",
    "\n",
    "Then grab the repository url and use <span>git remote add origin\n",
    "https...</span>\n",
    "\n",
    "bitbucket:\n",
    "<https://confluence.atlassian.com/bitbucket/set-up-a-repository-877174034.html>\n",
    "\n",
    "github:\n",
    "<https://help.github.com/articles/adding-an-existing-project-to-github-using-the-command-line/>\n",
    "\n",
    "You are done. Now let’s learn to use git!\n",
    "\n",
    "<span>git</span> commands\n",
    "-------------------------\n",
    "\n",
    "Here are some basic git commands:\n",
    "\n",
    "  -------------------------------- --------------------------------------------\n",
    "  <span>git init</span>            Initialize a new repository\n",
    "  <span>git clone</span>           Download a repository from a remote server\n",
    "  <span>git status</span>          Show the current status\n",
    "  <span>git diff</span>            Show differences between commits\n",
    "  <span>git blame</span>           Blame somebody for the changes!\n",
    "  <span>git log</span>             Show commit history\n",
    "  <span>git commit</span>          Commit changes to current branch\n",
    "  <span>git branch</span>          Show branches\n",
    "  <span>git branch name</span>     Create new branch\n",
    "  <span>git checkout name</span>   Switch to a different commit/branch\n",
    "  <span>git pull</span>            Upload from remote repository\n",
    "  <span>git push</span>            Send changes to remote repository\n",
    "  -------------------------------- --------------------------------------------\n",
    "\n",
    "### <span>git</span> command structure {#ssec:git_comds}\n",
    "\n",
    "Here is a graphical outline of the git command structure. Note that only\n",
    "when you <span>push</span> or <span>fetch</span> do you need an internet\n",
    "connection, as before that you are only archiving in a local (hidden)\n",
    "repository.\n",
    "\n",
    "![image](git.png){width=\".6\\textwidth\"}\n",
    "\n",
    "Keep in mind, the main mantra is, “commit often, comment always”!\n",
    "\n",
    "![image](git_xkcd.png){width=\".6\\textwidth\"}\n",
    "\n",
    "Ignoring Files\n",
    "--------------\n",
    "\n",
    "You will have some files you don’t want to track (log files, temporary\n",
    "files, executables, etc). You can ignore entire classes of files with\n",
    "<span>.gitignore</span> (be in your <span>CMEECourseWork</span>!):"
   ]
  },
  {
   "cell_type": "code",
   "execution_count": null,
   "metadata": {},
   "outputs": [],
   "source": [
    "$ echo -e \"*~ \\n*.tmp\" > .gitignore\n",
    "\n",
    "$ cat .gitignore\n",
    "*~\n",
    "*.tmp\n",
    "\n",
    "$ git add .gitignore\n",
    "\n",
    "$ touch temporary.tmp\n",
    "\n",
    "$ git add *\n",
    "The following paths are ignored by one of your .gitignore \n",
    "files:\n",
    "temporary.tmp\n",
    "Use -f if you really want to add them.\n",
    "fatal: no files added"
   ]
  },
  {
   "cell_type": "markdown",
   "metadata": {},
   "source": [
    "You can also create a global gitignore file that lists rules for files\n",
    "to be ignored in every Git repository on your computer:\n",
    "<https://help.github.com/articles/ignoring-files/>\n",
    "\n",
    "### Dealing with binary files\n",
    "\n",
    "A binary file is computer-readable but not human-readable, that is, it\n",
    "cannot be read by opening them in a text viewer. Examples of binary\n",
    "files include compiled executables, zip files, images, word documents\n",
    "and videos. In contrast, text files are stored in a form (usually ASCII)\n",
    "that is human-readable by opening in a suitable text reader (e.g.,\n",
    "geany, gedit). Without some git extensions and configurations (coming up\n",
    "next), binary files cannot be properly version-controlled because each\n",
    "version of the entire file is saved <span>*as is*</span> in a hidden\n",
    "directory in the repository (<span>.git</span>).\n",
    "\n",
    "However, with some more effort, git can be made to work for binary\n",
    "formats like \\*.docx or image formats such as \\*.jpeg, but it is harder\n",
    "to compare versions; have a look at\n",
    "<https://git-scm.com/docs/gitattributes> and\n",
    "<https://git-scm.com/book/en/v2/Customizing-Git-Git-Attributes>[^1]\n",
    "\n",
    "Also see:\n",
    "<https://opensource.com/life/16/8/how-manage-binary-blobs-git-part-7>\n",
    "\n",
    "### Dealing with large files\n",
    "\n",
    "As such, git was designed for version control of workflows and software\n",
    "projects, <span>*not*</span> large files (say, &gt;100mb) (which may be\n",
    "plain-text or binary). Binary files are particularly problematic because\n",
    "each version of the file is saved <span>*as is*</span> in `.git`, when\n",
    "you have a large number of versions it means that there are the same\n",
    "number of binary files in the hidden directory (for example 100 $\\times$\n",
    "&gt;100mb files!).\n",
    "\n",
    "In this course at least, you should not try to keep large files\n",
    "(especially binary files under version control). You will run into this\n",
    "problem in the GIS week (where you will have to handle and store large\n",
    "raster image files) in particular [^2]. We suggest that you include\n",
    "files larger than some size in your <span>.gitignore</span>. For\n",
    "example, you can use the following bash command:"
   ]
  },
  {
   "cell_type": "code",
   "execution_count": null,
   "metadata": {},
   "outputs": [],
   "source": [
    "find . -size +100M | cat >> .gitignore  "
   ]
  },
  {
   "cell_type": "markdown",
   "metadata": {},
   "source": [
    "The 100M means 100 mb – you can reset it to whatever you want.\n",
    "\n",
    "You may also explore alternatives such as <span>git-annex</span> (e.g.,\n",
    "see <https://git-annex.branchable.com/>), and <span>git-lfs</span>\n",
    "(e.g., see <https://www.atlassian.com/git/tutorials/git-lfs>).\n",
    "\n",
    "Removing files\n",
    "--------------\n",
    "\n",
    "To remove a file (i.e. stop version controlling it) use <span>git\n",
    "rm</span>:"
   ]
  },
  {
   "cell_type": "code",
   "execution_count": null,
   "metadata": {},
   "outputs": [],
   "source": [
    "$ echo \"Text in a file to remove\" > FileToRem.txt\n",
    "\n",
    "$ git add FileToRem.txt\n",
    "\n",
    "$ git commit -am \"added a new file that we'll remove later\"\n",
    "master 5df9e96 added a new file that we'll remove later\n",
    " 1 files changed, 1 insertions(+), 0 deletions(-)\n",
    " create mode 100644 FileToRem.txt\n",
    "\n",
    "$ git rm FileToRem.txt\n",
    "rm 'FileToRem.txt'\n",
    "\n",
    "$ git commit -am \"removed the file\"\n",
    "master b9f0b1a removed the file\n",
    " 1 files changed, 0 insertions(+), 1 deletions(-)\n",
    " delete mode 100644 FileToRem.txt"
   ]
  },
  {
   "cell_type": "markdown",
   "metadata": {},
   "source": [
    "I typically just do all my stuff and then just use <span>git add\n",
    "-A</span>\n",
    "\n",
    "Accessing history of the repository\n",
    "-----------------------------------\n",
    "\n",
    "To see particular changes introduced, read the repo’s log :"
   ]
  },
  {
   "cell_type": "code",
   "execution_count": null,
   "metadata": {},
   "outputs": [],
   "source": [
    "$ git log\n",
    "commit 08b5c1c78c8181d4606d37594681fdcfca3149ec\n",
    "Author: Your Name <your.login@imperial.ac.uk>\n",
    "Date:   Wed Oct 8 16:41:51 2014 -0500\n",
    "\n",
    "    removed the file\n",
    "\n",
    "commit 13f701775bce71998abe4dd1c48a4df8ed76c08b\n",
    "Author: Your Name <your.login@imperial.ac.uk>\n",
    "Date:   Wed Oct 5 16:41:16 2015 -0500\n",
    "\n",
    "    added a new file that we'll remove later\n",
    "\n",
    "commit a228dd3d5b1921ef18c5efd926ef11ca47306ed5\n",
    "Author: Your Name <your.login@imperial.ac.uk>\n",
    "Date:   Wed Oct 5 10:03:40 2015 -0500\n",
    "\n",
    "    Added README file"
   ]
  },
  {
   "cell_type": "markdown",
   "metadata": {},
   "source": [
    "For a more detailed version, add <span>-p</span> at the end.\n",
    "\n",
    "Reverting to a previous version\n",
    "-------------------------------\n",
    "\n",
    "If things go horribly wrong with new changes, you can revert to the\n",
    "previous, “pristine” state:"
   ]
  },
  {
   "cell_type": "code",
   "execution_count": null,
   "metadata": {},
   "outputs": [],
   "source": [
    "$ git reset --hard\n",
    "$ git commit -am \"returned to previous state\" #Note I used -am here"
   ]
  },
  {
   "cell_type": "markdown",
   "metadata": {},
   "source": [
    "If instead you want to move back in time (temporarily), first find the\n",
    "“hash” for the commit you want to revert to, and then check-out:"
   ]
  },
  {
   "cell_type": "code",
   "execution_count": null,
   "metadata": {},
   "outputs": [],
   "source": [
    "$ git status\n",
    "# On branch master\n",
    "nothing to commit (working directory clean)\n",
    "\n",
    "$ git log\n",
    "commit c797824c9acbc59767a3931473aa3c53b6834aae\n",
    "Author: Your Name <your.login@imperial.ac.uk>\n",
    "Date:   Wed Aug 22 16:59:02 2014 -0500\n",
    ".\n",
    ".\n",
    ".\n",
    "\n",
    "$ git checkout c79782"
   ]
  },
  {
   "cell_type": "markdown",
   "metadata": {},
   "source": [
    "Now you can play around. However, if you commit changes, you create a\n",
    "“branch” (git plays safe!). To go back to the future, type <span>git\n",
    "checkout master</span>\n",
    "\n",
    "Branching\n",
    "---------\n",
    "\n",
    "Imagine you want to try something out, but you’re not sure it will work\n",
    "well. For example, say you want to rewrite the Introduction of your\n",
    "paper, using a different angle, or you want to see whether switching to\n",
    "a library for a piece of code improves speed. What you then need is\n",
    "branching, which creates a project copy in which you can experiment:"
   ]
  },
  {
   "cell_type": "code",
   "execution_count": null,
   "metadata": {},
   "outputs": [],
   "source": [
    "$ git branch anexperiment\n",
    "\n",
    "$ git branch\n",
    "  anexperiment\n",
    "* master\n",
    "\n",
    "$ git checkout anexperiment \n",
    "Switched to branch 'anexperiment'\n",
    "\n",
    "$ git branch \n",
    "* anexperiment\n",
    "  master\n",
    "\n",
    "$ echo \"Do I like this better?\" >> README.txt \n",
    "\n",
    "$ git commit -am \"Testing experimental branch\"\n",
    "[anexperiment 9f17dc1] Testing experimental branch\n",
    " 1 files changed, 2 insertions(+), 0 deletions(-)"
   ]
  },
  {
   "cell_type": "markdown",
   "metadata": {},
   "source": [
    "If you decide to merge the new branch after modifying it:"
   ]
  },
  {
   "cell_type": "code",
   "execution_count": null,
   "metadata": {},
   "outputs": [],
   "source": [
    "$ git checkout master\n",
    "\n",
    "$ git merge anexperiment\n",
    "Updating 08b5c1c..9f17dc1\n",
    "Fast-forward\n",
    " README.txt |    2 ++\n",
    " 1 files changed, 2 insertions(+), 0 deletions(-)\n",
    "\n",
    "$ cat README.txt \n",
    "My CMEE 2015-16 Coursework Repository\n",
    "Do I like this better?"
   ]
  },
  {
   "cell_type": "markdown",
   "metadata": {},
   "source": [
    "If there are no conflicts (i.e., some files that you changed also\n",
    "changed in the master in the meantime), you are done, and you can delete\n",
    "the branch:"
   ]
  },
  {
   "cell_type": "code",
   "execution_count": null,
   "metadata": {},
   "outputs": [],
   "source": [
    "$ git branch -d anexperiment\n",
    "Deleted branch anexperiment (was 9f17dc1)."
   ]
  },
  {
   "cell_type": "markdown",
   "metadata": {},
   "source": [
    "If instead you are not satisfied with the result, and you want to\n",
    "abandon the branch:"
   ]
  },
  {
   "cell_type": "code",
   "execution_count": null,
   "metadata": {},
   "outputs": [],
   "source": [
    "$ git branch -D anexperiment"
   ]
  },
  {
   "cell_type": "markdown",
   "metadata": {},
   "source": [
    "When you want to test something out, always branch! Reverting changes,\n",
    "especially in code, is typically painful. Merging can be tricky,\n",
    "especially if multiple people have simultaneously worked on a particular\n",
    "document. In the worst-case scenario, you may want to delete the local\n",
    "copy and re-clone the remote repository.\n",
    "\n",
    "![image](git_xkcd_1.png){width=\".4\\textwidth\"}\n",
    "\n",
    "Running git commands on a different directory\n",
    "---------------------------------------------\n",
    "\n",
    "Since <span>git</span> version 1.8.5, you can run git directly on a\n",
    "different directory than the current one using absolute or relative\n",
    "paths. For example, using a relative path, you can do:"
   ]
  },
  {
   "cell_type": "code",
   "execution_count": null,
   "metadata": {},
   "outputs": [],
   "source": [
    "git -C ../SomeDir/ status"
   ]
  },
  {
   "cell_type": "markdown",
   "metadata": {},
   "source": [
    "Running git commands on multiple repositories at once\n",
    "-----------------------------------------------------\n",
    "\n",
    "For git pulling in multiple subdirectories (each a separate repository):"
   ]
  },
  {
   "cell_type": "code",
   "execution_count": null,
   "metadata": {},
   "outputs": [],
   "source": [
    "$ find . -mindepth 1 -maxdepth 1 -type d -print -exec git -C {} pull \\;"
   ]
  },
  {
   "cell_type": "markdown",
   "metadata": {},
   "source": [
    "Breaking down these commands one by one,\n",
    "\n",
    "<span>find .</span> searches the current directory\\\n",
    "<span>-type d</span> to find directories, not files\\\n",
    "<span>-mindepth 1</span> for setting min search depth to one\n",
    "sub-directory\\\n",
    "<span>-maxdepth 1</span> for setting max search depth to one\n",
    "sub-directory\\\n",
    "<span>-exec git -C {} pull $\\textbackslash$ </span> runs a custom git\n",
    "command for every git repo found\\\n",
    "\n",
    "### Practicals\n",
    "\n",
    "1.  The only practical submission for <span>git</span> is the <span>\n",
    "    .gitgnore</span> and overall git repository <span>readme</span> file\n",
    "    — make sure these in your coursework repository."
   ]
  },
  {
   "cell_type": "code",
   "execution_count": null,
   "metadata": {},
   "outputs": [],
   "source": [
    "And of course, if you haven’t gotten git with bitbucket going, you\n",
    "won’t be able to submit any of your practicals anyway!"
   ]
  },
  {
   "cell_type": "markdown",
   "metadata": {},
   "source": [
    "Practical wrap-up\n",
    "-----------------\n",
    "\n",
    "Invite me (s.pawar@imperial.ac.uk) to your <span>CMEECourseWork</span>\n",
    "repository\n",
    "\n",
    "The <span>CMEEMasteRepo</span> will contain data and code files for\n",
    "upcoming practicals\n",
    "\n",
    "You will clone <span>CMEEMasteRepo</span> using <span>git clone\n",
    "git@bitbucket.org:mhasoba/cmee2015masterepo.git</span>\n",
    "\n",
    "You will thereafter <span>git pull</span> <span>CMEEMasteRepo</span>\n",
    "\n",
    "You will <span>git pull</span> inside <span>CMEEMasteRepo</span>\n",
    "thereafter (always use <span>git status</span> first)\n",
    "\n",
    "<span>cp</span> files from <span>CMEEMasteRepo</span> to your <span>\n",
    "CMEECourseWork</span> as and when needed — don’t work in the amster\n",
    "repo, as you will lose your work when I next update it!\n",
    "\n",
    "Readings & Resources\n",
    "--------------------\n",
    "\n",
    "There is a wealth of information on <span>git</span> out there - just\n",
    "google it!\n",
    "\n",
    "Excellent book on Git: <http://git-scm.com/book>\n",
    "\n",
    "Also, <https://www.atlassian.com/git/>\n",
    "\n",
    "A git tutorial: <https://try.github.io>\n",
    "\n",
    "[^1]: There you will find the following phrase: “...one of the most\n",
    "    annoying problems known to humanity: version-controlling Microsoft\n",
    "    Word documents.” . LOL!\n",
    "\n",
    "[^2]: None of the computing weeks assessments will require you to use\n",
    "    such large files anyway"
   ]
  }
 ],
 "metadata": {
  "kernelspec": {
   "display_name": "Bash",
   "language": "bash",
   "name": "bash"
  },
  "language_info": {
   "codemirror_mode": "shell",
   "file_extension": ".sh",
   "mimetype": "text/x-sh",
   "name": "bash"
  },
  "latex_envs": {
   "LaTeX_envs_menu_present": true,
   "autoclose": false,
   "autocomplete": false,
   "bibliofile": "biblio.bib",
   "cite_by": "apalike",
   "current_citInitial": 1,
   "eqLabelWithNumbers": true,
   "eqNumInitial": 1,
   "hotkeys": {
    "equation": "Ctrl-E",
    "itemize": "Ctrl-I"
   },
   "labels_anchors": false,
   "latex_user_defs": false,
   "report_style_numbering": false,
   "user_envs_cfg": false
  },
  "toc": {
   "base_numbering": 1,
   "nav_menu": {},
   "number_sections": true,
   "sideBar": false,
   "skip_h1_title": true,
   "title_cell": "Contents",
   "title_sidebar": "Contents",
   "toc_cell": true,
   "toc_position": {},
   "toc_section_display": true,
   "toc_window_display": true
  }
 },
 "nbformat": 4,
 "nbformat_minor": 2
}
