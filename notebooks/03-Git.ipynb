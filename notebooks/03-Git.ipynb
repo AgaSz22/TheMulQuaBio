{
 "cells": [
  {
   "cell_type": "markdown",
   "metadata": {},
   "source": [
    "<!--NAVIGATION-->\n",
    "< [Shell Scripting](GitUnix) | [Main Contents](Index.ipynb) | [Scientific documents with $\\LaTeX$](04-***.ipynb)>"
   ]
  },
  {
   "cell_type": "markdown",
   "metadata": {},
   "source": [
    "# Version control with Git  <span class=\"tocSkip\"></span> <a name=\"chap:git\"></a>"
   ]
  },
  {
   "cell_type": "markdown",
   "metadata": {
    "toc": true
   },
   "source": [
    "<h1>Contents<span class=\"tocSkip\"></span></h1>\n",
    "<div class=\"toc\"><ul class=\"toc-item\"><li><span><a href=\"#What-is-Version-Control?\" data-toc-modified-id=\"What-is-Version-Control?-1\"><span class=\"toc-item-num\">1&nbsp;&nbsp;</span>What is Version Control?</a></span></li><li><span><a href=\"#Why-Version-Control?\" data-toc-modified-id=\"Why-Version-Control?-2\"><span class=\"toc-item-num\">2&nbsp;&nbsp;</span>Why Version Control?</a></span></li><li><span><a href=\"#git\" data-toc-modified-id=\"git-3\"><span class=\"toc-item-num\">3&nbsp;&nbsp;</span>git</a></span><ul class=\"toc-item\"><li><span><a href=\"#git-workflow\" data-toc-modified-id=\"git-workflow-3.1\"><span class=\"toc-item-num\">3.1&nbsp;&nbsp;</span><code>git</code> workflow</a></span></li><li><span><a href=\"#Basic-git-commands\" data-toc-modified-id=\"Basic-git-commands-3.2\"><span class=\"toc-item-num\">3.2&nbsp;&nbsp;</span>Basic git commands</a></span></li></ul></li><li><span><a href=\"#Your-first-repository\" data-toc-modified-id=\"Your-first-repository-4\"><span class=\"toc-item-num\">4&nbsp;&nbsp;</span>Your first repository</a></span></li><li><span><a href=\"#Ignoring-Files\" data-toc-modified-id=\"Ignoring-Files-5\"><span class=\"toc-item-num\">5&nbsp;&nbsp;</span>Ignoring Files</a></span><ul class=\"toc-item\"><li><span><a href=\"#Dealing-with-binary-files\" data-toc-modified-id=\"Dealing-with-binary-files-5.1\"><span class=\"toc-item-num\">5.1&nbsp;&nbsp;</span>Dealing with binary files</a></span></li><li><span><a href=\"#Dealing-with-large-files\" data-toc-modified-id=\"Dealing-with-large-files-5.2\"><span class=\"toc-item-num\">5.2&nbsp;&nbsp;</span>Dealing with large files</a></span></li></ul></li><li><span><a href=\"#Removing-files\" data-toc-modified-id=\"Removing-files-6\"><span class=\"toc-item-num\">6&nbsp;&nbsp;</span>Removing files</a></span><ul class=\"toc-item\"><li><span><a href=\"#Un-tracking-files\" data-toc-modified-id=\"Un-tracking-files-6.1\"><span class=\"toc-item-num\">6.1&nbsp;&nbsp;</span>Un-tracking files</a></span></li></ul></li><li><span><a href=\"#Accessing-history-of-the-repository\" data-toc-modified-id=\"Accessing-history-of-the-repository-7\"><span class=\"toc-item-num\">7&nbsp;&nbsp;</span>Accessing history of the repository</a></span></li><li><span><a href=\"#Reverting-to-a-previous-version\" data-toc-modified-id=\"Reverting-to-a-previous-version-8\"><span class=\"toc-item-num\">8&nbsp;&nbsp;</span>Reverting to a previous version</a></span></li><li><span><a href=\"#Branching\" data-toc-modified-id=\"Branching-9\"><span class=\"toc-item-num\">9&nbsp;&nbsp;</span>Branching</a></span></li><li><span><a href=\"#Running-git-commands-on-a-different-directory\" data-toc-modified-id=\"Running-git-commands-on-a-different-directory-10\"><span class=\"toc-item-num\">10&nbsp;&nbsp;</span>Running git commands on a different directory</a></span></li><li><span><a href=\"#Running-git-commands-on-multiple-repositories-at-once\" data-toc-modified-id=\"Running-git-commands-on-multiple-repositories-at-once-11\"><span class=\"toc-item-num\">11&nbsp;&nbsp;</span>Running git commands on multiple repositories at once</a></span><ul class=\"toc-item\"><li><span><a href=\"#Practicals\" data-toc-modified-id=\"Practicals-11.1\"><span class=\"toc-item-num\">11.1&nbsp;&nbsp;</span>Practicals</a></span></li></ul></li><li><span><a href=\"#Practical-wrap-up\" data-toc-modified-id=\"Practical-wrap-up-12\"><span class=\"toc-item-num\">12&nbsp;&nbsp;</span>Practical wrap-up</a></span></li><li><span><a href=\"#Readings-&amp;-Resources\" data-toc-modified-id=\"Readings-&amp;-Resources-13\"><span class=\"toc-item-num\">13&nbsp;&nbsp;</span>Readings &amp; Resources</a></span></li></ul></div>"
   ]
  },
  {
   "cell_type": "markdown",
   "metadata": {},
   "source": [
    "## What is Version Control?\n",
    "\n",
    "Version control, also known as revision control or source control, is the management and tracking of changes to documents, computer programs, large web sites, and other collections of information in an automated way.\n",
    "\n",
    "Any project (collections of files in directories) under version control has changes and additions/deletions to its files and directories recorded and archived over time so that you can recall specific versions later. \n",
    "\n",
    "Version control (usually git) is in fact the technology embedded in the versioning of various word processor and spreadsheet applications (e.g., Google Docs, Sheets, Overleaf).\n",
    "\n",
    "<figure>\n",
    "<img src=\"./graphics/VC.png\" alt=\"Version control\" style=\"width:40%\">\n",
    "<small> <center> <figcaption> An overview of how Version control works.</figcaption></center></small>\n",
    "</figure>\n",
    "\n",
    "## Why Version Control?\n",
    "\n",
    "With version control of biological computing projects, you can:\n",
    "\n",
    "1. record of all changes made to a set of files and directories, including text (usually ASCII) data files, so that you can access any previous version of the files\n",
    "\n",
    "* \"roll back\" data, code, documents that are in plain text format (other file formats can also be versioned; see [section on binary files](#Dealing-with-binary-files) below).\n",
    "\n",
    "* collaborate more easily with other on developing new code or writing documents - branch (and merge) projects\n",
    "\n",
    "* back up your project (but git is not a backup software - see [sections on binary and large files](#Dealing-with-binary-files) below). \n",
    "\n",
    "<figure>\n",
    "<img src=\"./graphics/cvs.png\" alt=\"Version control\" style=\"width:35%\">\n",
    "<small> <center>Source: [maktoons.blogspot.com/2009/06/if-dont-use-version-control-system.html](maktoons.blogspot.com/2009/06/if-dont-use-version-control-system.html) <figcaption> Don't do this.</figcaption></center></small>\n",
    "</figure>\n",
    "\n",
    "Or here's [another one](http://www.phdcomics.com/comics/archive/phd101212s.gif)\n",
    "\n",
    "## git\n",
    "\n",
    "We will use git, developed by Linus Torvalds, the \"Linu\" in Linux. \n",
    "\n",
    "In git, each user stores a complete local copy of the project, including the history and all versions. So you do not rely as much on a centralized (remote) server. We will use bitbucket.org – it gives you unlimited free private repositories if you register with an academic email! First, install and configure `git`:"
   ]
  },
  {
   "cell_type": "code",
   "execution_count": null,
   "metadata": {},
   "outputs": [],
   "source": [
    "sudo apt-get install git\n",
    "git config --global user.name \"Your Name\"\n",
    "git config --global user.email \"your.login@imperial.ac.uk\"\n",
    "git config --list"
   ]
  },
  {
   "cell_type": "markdown",
   "metadata": {},
   "source": [
    "### `git` workflow\n",
    "\n",
    "Here is a graphical outline of the git workflow and command structure: \n",
    "\n",
    "![image](./graphics/git.png)\n",
    "\n",
    "Note that only when you `push`|or `fetch`|do you need an internet connection, because before that you are only archiving in a local (hidden) repository (that sits in a hidden `.git`|directory within your project).\n",
    "\n",
    "### Basic git commands\n",
    "\n",
    "Here are some basic git commands:\n",
    "\n",
    "|         |            |\n",
    "| :------------- |:-------------| \n",
    "|`git init`|           Initialize a new repository|\n",
    "|`git clone`|          Download a repository from a remote server|\n",
    "|`git status`|         Show the current status|\n",
    "|`git diff`|           Show differences between commits|\n",
    "|`git blame`|          Blame somebody for the changes!|\n",
    "|`git log`|            Show commit history|\n",
    "|`git commit`|         Commit changes to current branch|\n",
    "|`git branch`|         Show branches|\n",
    "|`git branch name`|    Create new branch|\n",
    "|`git checkout name`|  Switch to a different commit/branch called `name`|\n",
    "|`git pull`|           Upload from remote repository|\n",
    "|`git push`|           Send changes to remote repository|\n"
   ]
  },
  {
   "cell_type": "markdown",
   "metadata": {},
   "source": [
    "## Your first repository\n",
    "\n",
    "Time to bring your computing coursework directory under version control. For example, for CMEE Masters students: "
   ]
  },
  {
   "cell_type": "code",
   "execution_count": null,
   "metadata": {},
   "outputs": [],
   "source": [
    "cd CMEECourseWork\n",
    "git init\n",
    "echo \"My CMEE 2016-17 Coursework Repository\" > README.txt\n",
    "git config --list\n",
    "ls -al\n",
    "git add README.txt #Staging\n",
    "git status\n",
    "git commit -m \"Added README file.\" #you can use -am too\n",
    "git status #what does it say now?\n",
    "git add -A\n",
    "git status"
   ]
  },
  {
   "cell_type": "markdown",
   "metadata": {},
   "source": [
    "Nothing has been sent to a the remote server yet (see [section below](#git-commands) for how git uses the remote server). \n",
    "\n",
    "So let's go to your git service (bitbucket or github) and set up:\n",
    "\n",
    "* Login to your bitbucket or github account\n",
    "* Set up your `ssh`-based access:\n",
    "\n",
    "bitbucket:\n",
    "[https://confluence.atlassian.com/bitbucket/set-up-ssh-for-git-728138079.html](https://confluence.atlassian.com/bitbucket/set-up-ssh-for-git-728138079.html)\n",
    "\n",
    "github: [https://help.github.com/articles/connecting-to-github-with-ssh](https://help.github.com/articles/connecting-to-github-with-ssh)\n",
    "\n",
    "* Create repository there with name `CMEECourseWork`\n",
    "\n",
    "Then, push your code to the repote repository using these instructions:\n",
    "\n",
    "bitbucket:\n",
    "[https://confluence.atlassian.com/bitbucket/set-up-a-repository-877174034.html](https://confluence.atlassian.com/bitbucket/set-up-a-repository-877174034.html)\n",
    "\n",
    "github:\n",
    "[https://help.github.com/articles/adding-an-existing-project-to-github-using-the-command-line](https://help.github.com/articles/adding-an-existing-project-to-github-using-the-command-line)\n",
    "\n",
    "You are done. Now you can start to use git!"
   ]
  },
  {
   "cell_type": "markdown",
   "metadata": {},
   "source": [
    "---\n",
    "**Commiting and Commenting:** Keep in mind this mantra: \"commit often, comment always\". \n",
    "\n",
    "<figure>\n",
    "<img src=\".\\graphics\\git_xkcd.png\" alt=\"Git mantra\" style=\"width:45%\">\n",
    "<small> <center>Source: [https://m.xkcd.com/1296/](https://m.xkcd.com/1296/) <figcaption> Don't succumb to this.</figcaption></center></small>\n",
    "</figure>\n",
    "\n",
    "---"
   ]
  },
  {
   "cell_type": "markdown",
   "metadata": {},
   "source": [
    "## Ignoring Files\n",
    "\n",
    "You will have some files you don't want to track (log files, temporary files, executables, etc). You can ignore entire classes of files with `.gitignore`. \n",
    "\n",
    "$\\star$ Let's try it (be in your coursework directory (e.g., `CMEECourseWork`)!):"
   ]
  },
  {
   "cell_type": "code",
   "execution_count": null,
   "metadata": {},
   "outputs": [],
   "source": [
    "echo -e \"*~ \\n*.tmp\" > .gitignore"
   ]
  },
  {
   "cell_type": "code",
   "execution_count": null,
   "metadata": {},
   "outputs": [],
   "source": [
    "cat .gitignore\n",
    "\n",
    "git add .gitignore\n",
    "\n",
    "touch temporary.tmp\n",
    "\n",
    "git add *"
   ]
  },
  {
   "cell_type": "markdown",
   "metadata": {},
   "source": [
    "You can also create a global gitignore file that lists rules for files\n",
    "to be ignored in every Git repository on your computer:\n",
    "<https://help.github.com/articles/ignoring-files/>\n",
    "\n",
    "### Dealing with binary files\n",
    "\n",
    "A binary file is computer-readable but not human-readable, that is, it cannot be read by opening them in a text viewer. Examples of binary files include compiled executables, zip files, images, word documents and videos. In contrast, text files are stored in a form (usually ASCII) that is human-readable by opening in a suitable text reader (e.g., geany, gedit). Without some git extensions and configurations (coming up next), binary files cannot be properly version-controlled because each version of the entire file is saved <span>*as is*</span> in a hidden\n",
    "directory in the repository (<span>.git</span>).\n",
    "\n",
    "However, with some more effort, git can be made to work for binary formats like `*.docx` or image formats such as `*.jpeg`, but it is harder to compare versions; have a look at [this](https://git-scm.com/docs/gitattributes) and [this](https://git-scm.com/book/en/v2/Customizing-Git-Git-Attributes)[^1]\n",
    "\n",
    "Also see [this](https://opensource.com/life/16/8/how-manage-binary-blobs-git-part-7)\n",
    "\n",
    "\n",
    "### Dealing with large files\n",
    "\n",
    "As such, git was designed for version control of workflows and software projects, <span>*not*</span> large files (say, &gt;100mb) (which may be plain-text or binary). Binary files are particularly problematic because each version of the file is saved <span>*as is*</span> in `.git`, when you have a large number of versions it means that there are the same number of binary files in the hidden directory (for example 100 $\\times$ &gt;100mb files!).\n",
    "\n",
    "In this course at least, you should not try to keep large files (especially binary files under version control). You will run into this problem in the GIS week (where you will have to handle and store large raster image files) in particular [^2]. We suggest that you include files larger than some size in your <span>.gitignore</span>. For\n",
    "example, you can use the following bash command:"
   ]
  },
  {
   "cell_type": "raw",
   "metadata": {},
   "source": [
    "find . -size +100M | cat >> .gitignore  "
   ]
  },
  {
   "cell_type": "markdown",
   "metadata": {},
   "source": [
    "The 100M means 100 mb – you can reset it to whatever you want.\n",
    "\n",
    "You may also explore alternatives such as <span>git-annex</span> (e.g.,\n",
    "see <https://git-annex.branchable.com/>), and <span>git-lfs</span>\n",
    "(e.g., see <https://www.atlassian.com/git/tutorials/git-lfs>).\n",
    "\n",
    "Removing files\n",
    "--------------\n",
    "\n",
    "To remove a file (i.e. stop version controlling it) use <span>git rm</span>:"
   ]
  },
  {
   "cell_type": "code",
   "execution_count": null,
   "metadata": {},
   "outputs": [],
   "source": [
    "echo \"Text in a file to remove\" > FileToRem.txt\n",
    "\n",
    "git add FileToRem.txt\n",
    "\n",
    "git commit -am \"added a new file that we'll remove later\"\n",
    "master 5df9e96 added a new file that we'll remove later\n",
    " 1 files changed, 1 insertions(+), 0 deletions(-)\n",
    " create mode 100644 FileToRem.txt\n",
    "\n",
    "git rm FileToRem.txt\n",
    "rm 'FileToRem.txt'\n",
    "\n",
    "git commit -am \"removed the file\"\n",
    "master b9f0b1a removed the file\n",
    " 1 files changed, 0 insertions(+), 1 deletions(-)\n",
    " delete mode 100644 FileToRem.txt"
   ]
  },
  {
   "cell_type": "markdown",
   "metadata": {},
   "source": [
    "I typically just make all my changes and then just use `git add -A` for the whole directory (and it's subdirectories -- `-A` is recursive).   \n",
    "\n",
    "### Un-tracking files\n",
    "\n",
    "`.gitignore` will prevent untracked files from being added to the set of files tracked by git. However, git will continue to track any files that are already being tracked. To stop tracking a file you need to remove it from the index. This can be achieved with this command.\n",
    "\n",
    "```bash\n",
    "git rm --cached <file>\n",
    "```\n",
    "The removal of the file from the head revision will happen on the next commit."
   ]
  },
  {
   "cell_type": "markdown",
   "metadata": {},
   "source": [
    "Accessing history of the repository\n",
    "-----------------------------------\n",
    "\n",
    "To see particular changes introduced, read the repo’s log :"
   ]
  },
  {
   "cell_type": "code",
   "execution_count": null,
   "metadata": {},
   "outputs": [],
   "source": [
    "git log"
   ]
  },
  {
   "cell_type": "markdown",
   "metadata": {},
   "source": [
    "For a more detailed version, add <span>-p</span> at the end.\n",
    "\n",
    "Reverting to a previous version\n",
    "-------------------------------\n",
    "\n",
    "If things go horribly wrong with new changes, you can revert to the\n",
    "previous, “pristine” state:"
   ]
  },
  {
   "cell_type": "code",
   "execution_count": null,
   "metadata": {},
   "outputs": [],
   "source": [
    "git reset --hard\n",
    "git commit -am \"returned to previous state\" #Note I used -am here"
   ]
  },
  {
   "cell_type": "markdown",
   "metadata": {},
   "source": [
    "If instead you want to move back in time (temporarily), first find the\n",
    "“hash” for the commit you want to revert to, and then check-out:"
   ]
  },
  {
   "cell_type": "code",
   "execution_count": null,
   "metadata": {},
   "outputs": [],
   "source": [
    "git status"
   ]
  },
  {
   "cell_type": "code",
   "execution_count": null,
   "metadata": {},
   "outputs": [],
   "source": [
    "git log"
   ]
  },
  {
   "cell_type": "code",
   "execution_count": null,
   "metadata": {},
   "outputs": [],
   "source": [
    "git checkout c79782"
   ]
  },
  {
   "cell_type": "markdown",
   "metadata": {},
   "source": [
    "Now you can play around. However, if you commit changes, you create a\n",
    "“branch” (git plays safe!). To go back to the future, type <span>git\n",
    "checkout master</span>\n",
    "\n",
    "Branching\n",
    "---------\n",
    "\n",
    "Imagine you want to try something out, but you’re not sure it will work\n",
    "well. For example, say you want to rewrite the Introduction of your\n",
    "paper, using a different angle, or you want to see whether switching to\n",
    "a library for a piece of code improves speed. What you then need is\n",
    "branching, which creates a project copy in which you can experiment:"
   ]
  },
  {
   "cell_type": "code",
   "execution_count": null,
   "metadata": {},
   "outputs": [],
   "source": [
    "git branch anexperiment"
   ]
  },
  {
   "cell_type": "code",
   "execution_count": null,
   "metadata": {},
   "outputs": [],
   "source": [
    "git branch"
   ]
  },
  {
   "cell_type": "code",
   "execution_count": null,
   "metadata": {},
   "outputs": [],
   "source": [
    "git checkout anexperiment "
   ]
  },
  {
   "cell_type": "code",
   "execution_count": null,
   "metadata": {},
   "outputs": [],
   "source": [
    "git branch"
   ]
  },
  {
   "cell_type": "code",
   "execution_count": null,
   "metadata": {},
   "outputs": [],
   "source": [
    "echo \"Do I like this better?\" >> README.txt"
   ]
  },
  {
   "cell_type": "code",
   "execution_count": null,
   "metadata": {},
   "outputs": [],
   "source": [
    "git commit -am \"Testing experimental branch\""
   ]
  },
  {
   "cell_type": "markdown",
   "metadata": {},
   "source": [
    "If you decide to merge the new branch after modifying it:"
   ]
  },
  {
   "cell_type": "code",
   "execution_count": null,
   "metadata": {},
   "outputs": [],
   "source": [
    "git checkout master"
   ]
  },
  {
   "cell_type": "code",
   "execution_count": null,
   "metadata": {},
   "outputs": [],
   "source": [
    "git merge anexperiment"
   ]
  },
  {
   "cell_type": "code",
   "execution_count": null,
   "metadata": {},
   "outputs": [],
   "source": [
    "cat README.txt "
   ]
  },
  {
   "cell_type": "markdown",
   "metadata": {},
   "source": [
    "If there are no conflicts (i.e., some files that you changed also\n",
    "changed in the master in the meantime), you are done, and you can delete\n",
    "the branch:"
   ]
  },
  {
   "cell_type": "code",
   "execution_count": null,
   "metadata": {},
   "outputs": [],
   "source": [
    "git branch -d anexperiment"
   ]
  },
  {
   "cell_type": "markdown",
   "metadata": {},
   "source": [
    "If instead you are not satisfied with the result, and you want to\n",
    "abandon the branch:"
   ]
  },
  {
   "cell_type": "code",
   "execution_count": null,
   "metadata": {},
   "outputs": [],
   "source": [
    "git branch -D anexperiment"
   ]
  },
  {
   "cell_type": "markdown",
   "metadata": {},
   "source": [
    "When you want to test something out, always branch! Reverting changes,\n",
    "especially in code, is typically painful. Merging can be tricky,\n",
    "especially if multiple people have simultaneously worked on a particular\n",
    "document. In the worst-case scenario, you may want to delete the local\n",
    "copy and re-clone the remote repository.\n",
    "\n",
    "![image](./graphics/git_xkcd_1.png)\n",
    "\n",
    "Running git commands on a different directory\n",
    "---------------------------------------------\n",
    "\n",
    "Since <span>git</span> version 1.8.5, you can run git directly on a\n",
    "different directory than the current one using absolute or relative\n",
    "paths. For example, using a relative path, you can do:"
   ]
  },
  {
   "cell_type": "code",
   "execution_count": null,
   "metadata": {},
   "outputs": [],
   "source": [
    "git -C ../SomeDir/ status"
   ]
  },
  {
   "cell_type": "markdown",
   "metadata": {},
   "source": [
    "Running git commands on multiple repositories at once\n",
    "-----------------------------------------------------\n",
    "\n",
    "For git pulling in multiple subdirectories (each a separate repository):"
   ]
  },
  {
   "cell_type": "code",
   "execution_count": null,
   "metadata": {},
   "outputs": [],
   "source": [
    "find . -mindepth 1 -maxdepth 1 -type d -print -exec git -C {} pull \\;"
   ]
  },
  {
   "cell_type": "markdown",
   "metadata": {},
   "source": [
    "Breaking down these commands one by one,\n",
    "\n",
    "<span>find .</span> searches the current directory\\\n",
    "<span>-type d</span> to find directories, not files\\\n",
    "<span>-mindepth 1</span> for setting min search depth to one\n",
    "sub-directory\\\n",
    "<span>-maxdepth 1</span> for setting max search depth to one\n",
    "sub-directory\\\n",
    "<span>-exec git -C {} pull $\\textbackslash$ </span> runs a custom git\n",
    "command for every git repo found\\\n",
    "\n",
    "### Practicals\n",
    "\n",
    "1.  The only practical submission for <span>git</span> is the <span> .gitgnore</span> and overall git repository <span>readme</span> file\n",
    "    — make sure these in your coursework repository.\n",
    "    \n",
    "And of course, if you haven't gotten git with bitbucket going, you won't be able to submit any of your practicals anyway..."
   ]
  },
  {
   "cell_type": "markdown",
   "metadata": {},
   "source": [
    "Practical wrap-up\n",
    "-----------------\n",
    "\n",
    "Invite me (s.pawar@imperial.ac.uk) to your <span>CMEECourseWork</span>\n",
    "repository\n",
    "\n",
    "The <span>CMEEMasteRepo</span> will contain data and code files for\n",
    "upcoming practicals\n",
    "\n",
    "You will clone <span>CMEEMasteRepo</span> using <span>git clone\n",
    "git@bitbucket.org:mhasoba/cmee2015masterepo.git</span>\n",
    "\n",
    "You will thereafter <span>git pull</span> <span>CMEEMasteRepo</span>\n",
    "\n",
    "You will <span>git pull</span> inside <span>CMEEMasteRepo</span>\n",
    "thereafter (always use <span>git status</span> first)\n",
    "\n",
    "<span>cp</span> files from <span>CMEEMasteRepo</span> to your <span>\n",
    "CMEECourseWork</span> as and when needed — don’t work in the amster\n",
    "repo, as you will lose your work when I next update it!\n",
    "\n",
    "Readings & Resources\n",
    "--------------------\n",
    "\n",
    "There is a wealth of information on <span>git</span> out there - just\n",
    "google it!\n",
    "\n",
    "Excellent book on Git: <http://git-scm.com/book>\n",
    "\n",
    "Also, <https://www.atlassian.com/git/>\n",
    "\n",
    "A git tutorial: <https://try.github.io>\n",
    "\n",
    "[^1]: There you will find the following phrase: “...one of the most\n",
    "    annoying problems known to humanity: version-controlling Microsoft\n",
    "    Word documents.” . LOL!\n",
    "\n",
    "[^2]: None of the computing weeks assessments will require you to use\n",
    "    such large files anyway"
   ]
  }
 ],
 "metadata": {
  "kernelspec": {
   "display_name": "Bash",
   "language": "bash",
   "name": "bash"
  },
  "language_info": {
   "codemirror_mode": "shell",
   "file_extension": ".sh",
   "mimetype": "text/x-sh",
   "name": "bash"
  },
  "latex_envs": {
   "LaTeX_envs_menu_present": true,
   "autoclose": false,
   "autocomplete": false,
   "bibliofile": "biblio.bib",
   "cite_by": "apalike",
   "current_citInitial": 1,
   "eqLabelWithNumbers": true,
   "eqNumInitial": 1,
   "hotkeys": {
    "equation": "Ctrl-E",
    "itemize": "Ctrl-I"
   },
   "labels_anchors": false,
   "latex_user_defs": false,
   "report_style_numbering": false,
   "user_envs_cfg": false
  },
  "toc": {
   "base_numbering": 1,
   "nav_menu": {},
   "number_sections": true,
   "sideBar": false,
   "skip_h1_title": true,
   "title_cell": "Contents",
   "title_sidebar": "Contents",
   "toc_cell": true,
   "toc_position": {},
   "toc_section_display": true,
   "toc_window_display": true
  }
 },
 "nbformat": 4,
 "nbformat_minor": 2
}
