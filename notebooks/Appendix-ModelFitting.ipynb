{
 "cells": [
  {
   "cell_type": "markdown",
   "metadata": {},
   "source": [
    "<!--NAVIGATION-->\n",
    "< | [Main Contents](https://vectorbite.github.io/VBiTraining2/) | >"
   ]
  },
  {
   "cell_type": "markdown",
   "metadata": {},
   "source": [
    "# Model Fitting in Ecology and Evolution <span class=\"tocSkip\">"
   ]
  },
  {
   "cell_type": "markdown",
   "metadata": {
    "toc": true
   },
   "source": [
    "<h1>Contents<span class=\"tocSkip\"></span></h1>\n",
    "<div class=\"toc\"><ul class=\"toc-item\"><li><span><a href=\"#Introduction\" data-toc-modified-id=\"Introduction-1\"><span class=\"toc-item-num\">1&nbsp;&nbsp;</span>Introduction</a></span></li><li><span><a href=\"#Model-fitting-using-Non-linear-least-squares\" data-toc-modified-id=\"Model-fitting-using-Non-linear-least-squares-2\"><span class=\"toc-item-num\">2&nbsp;&nbsp;</span>Model fitting using Non-linear least squares</a></span><ul class=\"toc-item\"><li><span><a href=\"#Traits-data-as-an-example\" data-toc-modified-id=\"Traits-data-as-an-example-2.1\"><span class=\"toc-item-num\">2.1&nbsp;&nbsp;</span>Traits data as an example</a></span></li><li><span><a href=\"#Allometric-scaling-of-traits\" data-toc-modified-id=\"Allometric-scaling-of-traits-2.2\"><span class=\"toc-item-num\">2.2&nbsp;&nbsp;</span>Allometric scaling of traits</a></span><ul class=\"toc-item\"><li><span><a href=\"#Exercises-\" data-toc-modified-id=\"Exercises--2.2.1\"><span class=\"toc-item-num\">2.2.1&nbsp;&nbsp;</span>Exercises <a id=\"Allom_Exercises\"></a></a></span></li><li><span><a href=\"#Comparing-models\" data-toc-modified-id=\"Comparing-models-2.2.2\"><span class=\"toc-item-num\">2.2.2&nbsp;&nbsp;</span>Comparing models</a></span></li><li><span><a href=\"#Exercises-\" data-toc-modified-id=\"Exercises--2.2.3\"><span class=\"toc-item-num\">2.2.3&nbsp;&nbsp;</span>Exercises <a id=\"ModelSelection_Exercises\"></a></a></span></li></ul></li><li><span><a href=\"#Albatross-chick-growth\" data-toc-modified-id=\"Albatross-chick-growth-2.3\"><span class=\"toc-item-num\">2.3&nbsp;&nbsp;</span>Albatross chick growth</a></span><ul class=\"toc-item\"><li><span><a href=\"#Fitting-the-three-models-using-NLLS\" data-toc-modified-id=\"Fitting-the-three-models-using-NLLS-2.3.1\"><span class=\"toc-item-num\">2.3.1&nbsp;&nbsp;</span>Fitting the three models using NLLS</a></span></li><li><span><a href=\"#Exercises-\" data-toc-modified-id=\"Exercises--2.3.2\"><span class=\"toc-item-num\">2.3.2&nbsp;&nbsp;</span>Exercises <a id=\"Albatross_Exercises\"></a></a></span></li></ul></li><li><span><a href=\"#Aedes-aegypti-fecundity\" data-toc-modified-id=\"Aedes-aegypti-fecundity-2.4\"><span class=\"toc-item-num\">2.4&nbsp;&nbsp;</span>Aedes aegypti fecundity</a></span><ul class=\"toc-item\"><li><span><a href=\"#The-TPC-models\" data-toc-modified-id=\"The-TPC-models-2.4.1\"><span class=\"toc-item-num\">2.4.1&nbsp;&nbsp;</span>The TPC models</a></span></li><li><span><a href=\"#Exercises-\" data-toc-modified-id=\"Exercises--2.4.2\"><span class=\"toc-item-num\">2.4.2&nbsp;&nbsp;</span>Exercises <a id=\"Aedes_Exercises\"></a></a></span></li></ul></li><li><span><a href=\"#Abundances-as-an-example\" data-toc-modified-id=\"Abundances-as-an-example-2.5\"><span class=\"toc-item-num\">2.5&nbsp;&nbsp;</span>Abundances as an example</a></span><ul class=\"toc-item\"><li><span><a href=\"#Population-growth-rate-example\" data-toc-modified-id=\"Population-growth-rate-example-2.5.1\"><span class=\"toc-item-num\">2.5.1&nbsp;&nbsp;</span>Population growth rate example</a></span></li><li><span><a href=\"#Exercises\" data-toc-modified-id=\"Exercises-2.5.2\"><span class=\"toc-item-num\">2.5.2&nbsp;&nbsp;</span>Exercises</a></span></li></ul></li></ul></li><li><span><a href=\"#Model-fitting-using-Maximum-Likelihood\" data-toc-modified-id=\"Model-fitting-using-Maximum-Likelihood-3\"><span class=\"toc-item-num\">3&nbsp;&nbsp;</span>Model fitting using Maximum Likelihood</a></span><ul class=\"toc-item\"><li><span><a href=\"#Implementing-the-Likelihood-in-R\" data-toc-modified-id=\"Implementing-the-Likelihood-in-R-3.1\"><span class=\"toc-item-num\">3.1&nbsp;&nbsp;</span>Implementing the Likelihood in R</a></span></li><li><span><a href=\"#Likelihood-profile-in-R\" data-toc-modified-id=\"Likelihood-profile-in-R-3.2\"><span class=\"toc-item-num\">3.2&nbsp;&nbsp;</span>Likelihood profile in R</a></span></li><li><span><a href=\"#Likelihood-surface-in-R\" data-toc-modified-id=\"Likelihood-surface-in-R-3.3\"><span class=\"toc-item-num\">3.3&nbsp;&nbsp;</span>Likelihood surface in R</a></span></li><li><span><a href=\"#Conditional-Likelihood\" data-toc-modified-id=\"Conditional-Likelihood-3.4\"><span class=\"toc-item-num\">3.4&nbsp;&nbsp;</span>Conditional Likelihood</a></span><ul class=\"toc-item\"><li><span><a href=\"#Alternatives-to-Grid-Search\" data-toc-modified-id=\"Alternatives-to-Grid-Search-3.4.1\"><span class=\"toc-item-num\">3.4.1&nbsp;&nbsp;</span>Alternatives to Grid Search</a></span></li><li><span><a href=\"#Maximum-Likelihood-using-optim()\" data-toc-modified-id=\"Maximum-Likelihood-using-optim()-3.4.2\"><span class=\"toc-item-num\">3.4.2&nbsp;&nbsp;</span>Maximum Likelihood using <code>optim()</code></a></span></li></ul></li><li><span><a href=\"#Confidence-intervals\" data-toc-modified-id=\"Confidence-intervals-3.5\"><span class=\"toc-item-num\">3.5&nbsp;&nbsp;</span>Confidence intervals</a></span><ul class=\"toc-item\"><li><span><a href=\"#Comparison-to-fitting-with-least-squares\" data-toc-modified-id=\"Comparison-to-fitting-with-least-squares-3.5.1\"><span class=\"toc-item-num\">3.5.1&nbsp;&nbsp;</span>Comparison to fitting with least squares</a></span></li></ul></li><li><span><a href=\"#Model-Selection\" data-toc-modified-id=\"Model-Selection-3.6\"><span class=\"toc-item-num\">3.6&nbsp;&nbsp;</span>Model Selection</a></span></li><li><span><a href=\"#Exercises-\" data-toc-modified-id=\"Exercises--3.7\"><span class=\"toc-item-num\">3.7&nbsp;&nbsp;</span>Exercises <a id=\"MLE_Exercises\"></a></a></span></li></ul></li><li><span><a href=\"#Fitting-Models-the-Bayesian-way\" data-toc-modified-id=\"Fitting-Models-the-Bayesian-way-4\"><span class=\"toc-item-num\">4&nbsp;&nbsp;</span>Fitting Models the Bayesian way</a></span><ul class=\"toc-item\"><li><ul class=\"toc-item\"><li><span><a href=\"#A-Likelihoods-exercise\" data-toc-modified-id=\"A-Likelihoods-exercise-4.0.1\"><span class=\"toc-item-num\">4.0.1&nbsp;&nbsp;</span>A Likelihoods exercise</a></span></li></ul></li><li><span><a href=\"#Example:-Midge-Wing-Length\" data-toc-modified-id=\"Example:-Midge-Wing-Length-4.1\"><span class=\"toc-item-num\">4.1&nbsp;&nbsp;</span>Example: Midge Wing Length</a></span><ul class=\"toc-item\"><li><span><a href=\"#Non-Bayesian-analysis\" data-toc-modified-id=\"Non-Bayesian-analysis-4.1.1\"><span class=\"toc-item-num\">4.1.1&nbsp;&nbsp;</span>Non-Bayesian analysis</a></span></li><li><span><a href=\"#Setting-up-the-Bayesian-Model\" data-toc-modified-id=\"Setting-up-the-Bayesian-Model-4.1.2\"><span class=\"toc-item-num\">4.1.2&nbsp;&nbsp;</span>Setting up the Bayesian Model</a></span></li><li><span><a href=\"#Analytic-Posterior\" data-toc-modified-id=\"Analytic-Posterior-4.1.3\"><span class=\"toc-item-num\">4.1.3&nbsp;&nbsp;</span>Analytic Posterior</a></span></li><li><span><a href=\"#Exercise:-Prior-sensitivity\" data-toc-modified-id=\"Exercise:-Prior-sensitivity-4.1.4\"><span class=\"toc-item-num\">4.1.4&nbsp;&nbsp;</span>Exercise: Prior sensitivity</a></span></li><li><span><a href=\"#Numerical-evaluation-of-the-posterior-with-JAGS\" data-toc-modified-id=\"Numerical-evaluation-of-the-posterior-with-JAGS-4.1.5\"><span class=\"toc-item-num\">4.1.5&nbsp;&nbsp;</span>Numerical evaluation of the posterior with JAGS</a></span></li><li><span><a href=\"#Estimating-the-population-variance\" data-toc-modified-id=\"Estimating-the-population-variance-4.1.6\"><span class=\"toc-item-num\">4.1.6&nbsp;&nbsp;</span>Estimating the population variance</a></span></li><li><span><a href=\"#Exercise:-Updating-the-Bayesian-model\" data-toc-modified-id=\"Exercise:-Updating-the-Bayesian-model-4.1.7\"><span class=\"toc-item-num\">4.1.7&nbsp;&nbsp;</span>Exercise: Updating the Bayesian model</a></span></li><li><span><a href=\"#Aedes-data-revisited-using-Bayesian-fitting\" data-toc-modified-id=\"Aedes-data-revisited-using-Bayesian-fitting-4.1.8\"><span class=\"toc-item-num\">4.1.8&nbsp;&nbsp;</span>Aedes data revisited using Bayesian fitting</a></span></li><li><span><a href=\"#A-Bayesian-model-fitting-of-abundance-data\" data-toc-modified-id=\"A-Bayesian-model-fitting-of-abundance-data-4.1.9\"><span class=\"toc-item-num\">4.1.9&nbsp;&nbsp;</span>A Bayesian model fitting of abundance data</a></span></li></ul></li></ul></li><li><span><a href=\"#Readings-and-Resources-\" data-toc-modified-id=\"Readings-and-Resources--5\"><span class=\"toc-item-num\">5&nbsp;&nbsp;</span>Readings and Resources <a id=\"Readings\"></a></a></span></li></ul></div>"
   ]
  },
  {
   "cell_type": "markdown",
   "metadata": {},
   "source": [
    "# Introduction\n",
    "\n",
    "This notebook assumes that you have already seen the [lecture](https://github.com/mhasoba/TheMulQuaBio/tree/master/lectures/ModelFitting) on model fitting in Ecology and Evolution. In this workshop we will work through multiple techniques to do so using various examples."
   ]
  },
  {
   "cell_type": "code",
   "execution_count": 1,
   "metadata": {},
   "outputs": [],
   "source": [
    "library(repr) ; options(repr.plot.width=4, repr.plot.height= 4) # Change plot sizes (in cm) - THIS BIT OF CODE IS ONLY RELEVANT IF YOU ARE USING A JUPYTER NOTEBOOK -- IGNORE OTHERWISE"
   ]
  },
  {
   "cell_type": "code",
   "execution_count": 2,
   "metadata": {},
   "outputs": [],
   "source": [
    "# For starters, clear all variables and graphic devices and load necessary packages:\n",
    "\n",
    "rm(list = ls())\n",
    "graphics.off()"
   ]
  },
  {
   "cell_type": "code",
   "execution_count": 3,
   "metadata": {},
   "outputs": [],
   "source": [
    "library(repr)\n",
    "options(repr.plot.width=4, repr.plot.height=4) # Change default plot size; not necessary if you are using Rstudio"
   ]
  },
  {
   "cell_type": "markdown",
   "metadata": {},
   "source": [
    "# Model fitting using Non-linear least squares\n",
    "\n",
    "We will work with several practical examples here. These assume that you have at least a conceptual understanding of what Linear vs Non-linear models are, how they are fitted to data, and how the fits can be assessed statistically. If not, you may want to see the [Linear Models](https://github.com/vectorbite/VBiTraining2/blob/master/lectures/LinearModels) ([video here](https://drive.google.com/drive/folders/12Sj56wHX6vcAnp9GE9qQ1gIXbn7QRHU2?usp=sharing)) and [NLLS](https://github.com/mhasoba/TheMulQuaBio/blob/master/lectures/NLLS) lectures first.\n",
    "\n",
    "You will need the `nls.lm` R package, which you can install using the standard method (linux users, launch R in `sudo` mode first):\n",
    "\n",
    "```r\n",
    "> install.packages(\"minpack.lm\") \n",
    "```\n",
    "\n",
    "*Why `nls.lm`*? The standard NLLS function in R, called `nls`, uses a less robust algorithm called the Gauss-Newton algorithm. Therefore, `nls` will often fail to fit your model to the data if you start off at starting values for the parameters that are too far from what the optimal values would be, especially if the \"parameter space\" is weirdly shaped, i.e., the model has a mathematical form that makes it hard to find parameter combinations that minimize the residual sum of squared (RSS). If this does not makes sense, don't worry about it- just go with `nls_LM` from the `nls.lm` package instead of `nls`! If you are really curious, try substituting `nls` for `nls_LM` in the examples below and compare the results.\n",
    "\n",
    "Now load the `minpack.lm` package:"
   ]
  },
  {
   "cell_type": "code",
   "execution_count": 4,
   "metadata": {
    "run_control": {
     "marked": true
    }
   },
   "outputs": [
    {
     "name": "stderr",
     "output_type": "stream",
     "text": [
      "Loading required package: minpack.lm\n"
     ]
    }
   ],
   "source": [
    "require(\"minpack.lm\") # for Levenberg-Marquardt nlls fitting"
   ]
  },
  {
   "cell_type": "markdown",
   "metadata": {},
   "source": [
    "## Traits data as an example  \n",
    "\n",
    "Our first set of examples will focus on traits. \n",
    "\n",
    "A trait is any measurable feature of an individual organism. This includes physical traits (e.g., morphology, body mass, wing length), performance traits (e.g., respiration rate, body velocity, fecundity), and behavioral traits (e.g., feeding preference, foraging strategy, mate choice). All natural populations show variation in traits across individuals. A trait is functional when it directly (e.g., mortality rate) or indirectly (e.g., somatic development or growth rate) determines individual fitness. Therefore, variation in (functional) traits can generate variation in the rate of increase and persistence of populations. When measured in the context of life cycles, without considering interactions with other organisms (e.g., predators or prey of the focal population), functional traits are typically called life history traits (such as mortality rate and fecundity). Other traits determine interactions both within the focal population (e.g., intra-specific interference or mating frequency) and between the focal population/species and others, including the species which may act as resources (prey, for example). Thus both life history and interaction traits determine population fitness and therefore abundance, which ultimately influences dynamics and functioning of the wider ecosystem, such as carbon fixation rate or disease transmission rate. "
   ]
  },
  {
   "cell_type": "markdown",
   "metadata": {},
   "source": [
    "## Allometric scaling of traits\n",
    "\n",
    "Let's start with a common and reasonably simple example from biology: [allometric scaling](https://en.wikipedia.org/wiki/Allometry). Allometric relationships between linear measurements such as body length, wing span, and thorax width are a good way to obtain estimates of body weights of individual organisms. We will look at allometric scaling of body weight vs. total body length in dragonflies and damselfiles.   \n",
    "\n",
    "Allometric relationships take the form:"
   ]
  },
  {
   "cell_type": "markdown",
   "metadata": {},
   "source": [
    "<a id='eq:allom'></a>\n",
    "$$\n",
    "y = a x^b\n",
    "$$"
   ]
  },
  {
   "cell_type": "markdown",
   "metadata": {},
   "source": [
    "where $x$ and $y$ are morphological measures (body length and body weight respectively, in our current example), the constant is the value of $y$ at body length $x = 1$ unit, and $b$ is the scaling \"exponent\". This is also called a power-law, because $y$ relates to $x$ through a simple power. \n",
    "\n",
    "First create a function object for the power law model:"
   ]
  },
  {
   "cell_type": "code",
   "execution_count": 5,
   "metadata": {},
   "outputs": [],
   "source": [
    "powMod <- function(x, a, b) {\n",
    "    return(a * x^b)\n",
    "}"
   ]
  },
  {
   "cell_type": "markdown",
   "metadata": {},
   "source": [
    "Now get the [data](https://raw.githubusercontent.com/mhasoba/TheMulQuaBio/master/data/GenomeSize.csv) (first click on link and use \"Save as\" or `Ctrl+S` to download it as a csv). Then, save it in your `data` directory. After that, import it into your R workspace:"
   ]
  },
  {
   "cell_type": "code",
   "execution_count": 6,
   "metadata": {
    "scrolled": true
   },
   "outputs": [
    {
     "data": {
      "text/html": [
       "<table>\n",
       "<thead><tr><th scope=col>Suborder</th><th scope=col>Family</th><th scope=col>Species</th><th scope=col>GenomeSize</th><th scope=col>GenomeSE</th><th scope=col>GenomeN</th><th scope=col>BodyWeight</th><th scope=col>TotalLength</th><th scope=col>HeadLength</th><th scope=col>ThoraxLength</th><th scope=col>AdbdomenLength</th><th scope=col>ForewingLength</th><th scope=col>HindwingLength</th><th scope=col>ForewingArea</th><th scope=col>HindwingArea</th><th scope=col>MorphologyN</th></tr></thead>\n",
       "<tbody>\n",
       "\t<tr><td>Anisoptera          </td><td>Aeshnidae           </td><td>Aeshna canadensis   </td><td>2.20                </td><td>  NA                </td><td>1                   </td><td>0.159               </td><td>67.58               </td><td>6.83                </td><td>11.81               </td><td>48.94               </td><td>45.47               </td><td>45.40               </td><td>369.57              </td><td>483.61              </td><td>2                   </td></tr>\n",
       "\t<tr><td>Anisoptera          </td><td>Aeshnidae           </td><td>Aeshna constricta   </td><td>1.76                </td><td>0.06                </td><td>4                   </td><td>0.228               </td><td>71.97               </td><td>6.84                </td><td>10.72               </td><td>54.41               </td><td>46.00               </td><td>45.48               </td><td>411.15              </td><td>517.38              </td><td>3                   </td></tr>\n",
       "\t<tr><td>Anisoptera          </td><td>Aeshnidae           </td><td>Aeshna eremita      </td><td>1.85                </td><td>  NA                </td><td>1                   </td><td>0.312               </td><td>78.80               </td><td>6.27                </td><td>16.19               </td><td>56.33               </td><td>51.24               </td><td>49.47               </td><td>460.72              </td><td>574.33              </td><td>1                   </td></tr>\n",
       "\t<tr><td>Anisoptera          </td><td>Aeshnidae           </td><td>Aeshna tuberculifera</td><td>1.78                </td><td>0.10                </td><td>2                   </td><td>0.218               </td><td>72.44               </td><td>6.62                </td><td>12.53               </td><td>53.29               </td><td>49.84               </td><td>48.82               </td><td>468.74              </td><td>591.42              </td><td>2                   </td></tr>\n",
       "\t<tr><td>Anisoptera          </td><td>Aeshnidae           </td><td>Aeshna umbrosa      </td><td>2.00                </td><td>  NA                </td><td>1                   </td><td>0.207               </td><td>73.05               </td><td>4.92                </td><td>11.11               </td><td>57.03               </td><td>46.51               </td><td>45.97               </td><td>382.48              </td><td>481.44              </td><td>1                   </td></tr>\n",
       "\t<tr><td>Anisoptera          </td><td>Aeshnidae           </td><td>Aeshna verticalis   </td><td>1.59                </td><td>  NA                </td><td>1                   </td><td>0.220               </td><td>66.25               </td><td>6.48                </td><td>11.64               </td><td>48.13               </td><td>45.91               </td><td>44.91               </td><td>400.40              </td><td>486.97              </td><td>1                   </td></tr>\n",
       "</tbody>\n",
       "</table>\n"
      ],
      "text/latex": [
       "\\begin{tabular}{r|llllllllllllllll}\n",
       " Suborder & Family & Species & GenomeSize & GenomeSE & GenomeN & BodyWeight & TotalLength & HeadLength & ThoraxLength & AdbdomenLength & ForewingLength & HindwingLength & ForewingArea & HindwingArea & MorphologyN\\\\\n",
       "\\hline\n",
       "\t Anisoptera           & Aeshnidae            & Aeshna canadensis    & 2.20                 &   NA                 & 1                    & 0.159                & 67.58                & 6.83                 & 11.81                & 48.94                & 45.47                & 45.40                & 369.57               & 483.61               & 2                   \\\\\n",
       "\t Anisoptera           & Aeshnidae            & Aeshna constricta    & 1.76                 & 0.06                 & 4                    & 0.228                & 71.97                & 6.84                 & 10.72                & 54.41                & 46.00                & 45.48                & 411.15               & 517.38               & 3                   \\\\\n",
       "\t Anisoptera           & Aeshnidae            & Aeshna eremita       & 1.85                 &   NA                 & 1                    & 0.312                & 78.80                & 6.27                 & 16.19                & 56.33                & 51.24                & 49.47                & 460.72               & 574.33               & 1                   \\\\\n",
       "\t Anisoptera           & Aeshnidae            & Aeshna tuberculifera & 1.78                 & 0.10                 & 2                    & 0.218                & 72.44                & 6.62                 & 12.53                & 53.29                & 49.84                & 48.82                & 468.74               & 591.42               & 2                   \\\\\n",
       "\t Anisoptera           & Aeshnidae            & Aeshna umbrosa       & 2.00                 &   NA                 & 1                    & 0.207                & 73.05                & 4.92                 & 11.11                & 57.03                & 46.51                & 45.97                & 382.48               & 481.44               & 1                   \\\\\n",
       "\t Anisoptera           & Aeshnidae            & Aeshna verticalis    & 1.59                 &   NA                 & 1                    & 0.220                & 66.25                & 6.48                 & 11.64                & 48.13                & 45.91                & 44.91                & 400.40               & 486.97               & 1                   \\\\\n",
       "\\end{tabular}\n"
      ],
      "text/markdown": [
       "\n",
       "Suborder | Family | Species | GenomeSize | GenomeSE | GenomeN | BodyWeight | TotalLength | HeadLength | ThoraxLength | AdbdomenLength | ForewingLength | HindwingLength | ForewingArea | HindwingArea | MorphologyN | \n",
       "|---|---|---|---|---|---|\n",
       "| Anisoptera           | Aeshnidae            | Aeshna canadensis    | 2.20                 |   NA                 | 1                    | 0.159                | 67.58                | 6.83                 | 11.81                | 48.94                | 45.47                | 45.40                | 369.57               | 483.61               | 2                    | \n",
       "| Anisoptera           | Aeshnidae            | Aeshna constricta    | 1.76                 | 0.06                 | 4                    | 0.228                | 71.97                | 6.84                 | 10.72                | 54.41                | 46.00                | 45.48                | 411.15               | 517.38               | 3                    | \n",
       "| Anisoptera           | Aeshnidae            | Aeshna eremita       | 1.85                 |   NA                 | 1                    | 0.312                | 78.80                | 6.27                 | 16.19                | 56.33                | 51.24                | 49.47                | 460.72               | 574.33               | 1                    | \n",
       "| Anisoptera           | Aeshnidae            | Aeshna tuberculifera | 1.78                 | 0.10                 | 2                    | 0.218                | 72.44                | 6.62                 | 12.53                | 53.29                | 49.84                | 48.82                | 468.74               | 591.42               | 2                    | \n",
       "| Anisoptera           | Aeshnidae            | Aeshna umbrosa       | 2.00                 |   NA                 | 1                    | 0.207                | 73.05                | 4.92                 | 11.11                | 57.03                | 46.51                | 45.97                | 382.48               | 481.44               | 1                    | \n",
       "| Anisoptera           | Aeshnidae            | Aeshna verticalis    | 1.59                 |   NA                 | 1                    | 0.220                | 66.25                | 6.48                 | 11.64                | 48.13                | 45.91                | 44.91                | 400.40               | 486.97               | 1                    | \n",
       "\n",
       "\n"
      ],
      "text/plain": [
       "  Suborder   Family    Species              GenomeSize GenomeSE GenomeN\n",
       "1 Anisoptera Aeshnidae Aeshna canadensis    2.20         NA     1      \n",
       "2 Anisoptera Aeshnidae Aeshna constricta    1.76       0.06     4      \n",
       "3 Anisoptera Aeshnidae Aeshna eremita       1.85         NA     1      \n",
       "4 Anisoptera Aeshnidae Aeshna tuberculifera 1.78       0.10     2      \n",
       "5 Anisoptera Aeshnidae Aeshna umbrosa       2.00         NA     1      \n",
       "6 Anisoptera Aeshnidae Aeshna verticalis    1.59         NA     1      \n",
       "  BodyWeight TotalLength HeadLength ThoraxLength AdbdomenLength ForewingLength\n",
       "1 0.159      67.58       6.83       11.81        48.94          45.47         \n",
       "2 0.228      71.97       6.84       10.72        54.41          46.00         \n",
       "3 0.312      78.80       6.27       16.19        56.33          51.24         \n",
       "4 0.218      72.44       6.62       12.53        53.29          49.84         \n",
       "5 0.207      73.05       4.92       11.11        57.03          46.51         \n",
       "6 0.220      66.25       6.48       11.64        48.13          45.91         \n",
       "  HindwingLength ForewingArea HindwingArea MorphologyN\n",
       "1 45.40          369.57       483.61       2          \n",
       "2 45.48          411.15       517.38       3          \n",
       "3 49.47          460.72       574.33       1          \n",
       "4 48.82          468.74       591.42       2          \n",
       "5 45.97          382.48       481.44       1          \n",
       "6 44.91          400.40       486.97       1          "
      ]
     },
     "metadata": {},
     "output_type": "display_data"
    }
   ],
   "source": [
    "MyData <- read.csv(\"../data/GenomeSize.csv\")\n",
    "\n",
    "head(MyData)"
   ]
  },
  {
   "cell_type": "markdown",
   "metadata": {},
   "source": [
    "[Anisoptera](https://en.wikipedia.org/wiki/Dragonfly) are dragonflies, and [Zygoptera](https://en.wikipedia.org/wiki/Damselfly) are Damselflies. The variables of interest are `BodyWeight` and `TotalLength`.  Let's use the dragonflies data subset. "
   ]
  },
  {
   "cell_type": "markdown",
   "metadata": {},
   "source": [
    "So subset the data accordingly and remove NAs:"
   ]
  },
  {
   "cell_type": "code",
   "execution_count": 7,
   "metadata": {},
   "outputs": [],
   "source": [
    "Data2Fit <- subset(MyData,Suborder == \"Anisoptera\")\n",
    "\n",
    "Data2Fit <- Data2Fit[!is.na(Data2Fit$TotalLength),] # remove NA's"
   ]
  },
  {
   "cell_type": "markdown",
   "metadata": {},
   "source": [
    "Plot it:"
   ]
  },
  {
   "cell_type": "code",
   "execution_count": 8,
   "metadata": {
    "scrolled": true
   },
   "outputs": [
    {
     "data": {
      "image/png": "[encoded data removed]",
      "text/plain": [
       "plot without title"
      ]
     },
     "metadata": {},
     "output_type": "display_data"
    }
   ],
   "source": [
    "plot(Data2Fit$TotalLength, Data2Fit$BodyWeight)"
   ]
  },
  {
   "cell_type": "markdown",
   "metadata": {},
   "source": [
    "Or, using `ggplot`:"
   ]
  },
  {
   "cell_type": "code",
   "execution_count": 9,
   "metadata": {
    "scrolled": true
   },
   "outputs": [
    {
     "data": {},
     "metadata": {},
     "output_type": "display_data"
    },
    {
     "data": {
      "image/png": "[encoded data removed]",
      "text/plain": [
       "plot without title"
      ]
     },
     "metadata": {},
     "output_type": "display_data"
    }
   ],
   "source": [
    "library(\"ggplot2\")\n",
    "\n",
    "ggplot(Data2Fit, aes(x = TotalLength, y = BodyWeight)) + \n",
    "geom_point(size = (3),color=\"red\") + theme_bw() + \n",
    "labs(y=\"Body mass (mg)\", x = \"Wing length (mm)\")"
   ]
  },
  {
   "cell_type": "markdown",
   "metadata": {},
   "source": [
    "*Remember, when you write this analysis into a stand-alone R script, you should put all commands for loading packages (`library()`, `require()`) at the start of the script.*    \n",
    "\n",
    "Now fit the model to the data using NLLS:"
   ]
  },
  {
   "cell_type": "code",
   "execution_count": 10,
   "metadata": {},
   "outputs": [],
   "source": [
    "PowFit <- nlsLM(BodyWeight ~ powMod(TotalLength, a, b), data = Data2Fit, start = list(a = .1, b = .1))"
   ]
  },
  {
   "cell_type": "markdown",
   "metadata": {},
   "source": [
    "Before proceeding further, have a look at what nlsLM's arguments are:"
   ]
  },
  {
   "cell_type": "code",
   "execution_count": 11,
   "metadata": {},
   "outputs": [],
   "source": [
    "?nlsLM"
   ]
  },
  {
   "cell_type": "markdown",
   "metadata": {},
   "source": [
    "Note that NLLS fitting requires \"starting values\" for the parameters (two in this case: `a` and `b`). \n",
    "\n",
    "Having obtained the fit, we can use `summary()` just like we would for a `lm()` fit object. "
   ]
  },
  {
   "cell_type": "code",
   "execution_count": 12,
   "metadata": {
    "scrolled": true
   },
   "outputs": [
    {
     "data": {
      "text/plain": [
       "\n",
       "Formula: BodyWeight ~ powMod(TotalLength, a, b)\n",
       "\n",
       "Parameters:\n",
       "   Estimate Std. Error t value Pr(>|t|)    \n",
       "a 3.941e-06  2.234e-06   1.764    0.083 .  \n",
       "b 2.585e+00  1.348e-01  19.174   <2e-16 ***\n",
       "---\n",
       "Signif. codes:  0 ‘***’ 0.001 ‘**’ 0.01 ‘*’ 0.05 ‘.’ 0.1 ‘ ’ 1\n",
       "\n",
       "Residual standard error: 0.02807 on 58 degrees of freedom\n",
       "\n",
       "Number of iterations to convergence: 39 \n",
       "Achieved convergence tolerance: 1.49e-08\n"
      ]
     },
     "metadata": {},
     "output_type": "display_data"
    }
   ],
   "source": [
    "summary(PowFit)"
   ]
  },
  {
   "cell_type": "markdown",
   "metadata": {},
   "source": [
    "Most of the output is analogous to the output of an `lm()`. However, further statistical inference here cannot be done using Analysis of Variance (ANOVA), because the model is not a Linear Model. Try `anova(PowFit)`, and see what happens. The `Number of iterations to convergence`, and `Achieved convergence tolerance` stem from the fact that NLLS fitting requires computer simulations; revisit the [Lecture](https://github.com/mhasoba/TheMulQuaBio/blob/master/lectures/NLLS) for an explanation of this."
   ]
  },
  {
   "cell_type": "markdown",
   "metadata": {},
   "source": [
    "Now let's visualize the fit. For this, first we need to generate a vector of body lengths (the x-axis variable) for plotting: "
   ]
  },
  {
   "cell_type": "code",
   "execution_count": 13,
   "metadata": {},
   "outputs": [],
   "source": [
    "Lengths <- seq(min(Data2Fit$TotalLength),max(Data2Fit$TotalLength),len=200)"
   ]
  },
  {
   "cell_type": "markdown",
   "metadata": {},
   "source": [
    "Next, calculate the predicted line. For this, we will need to extract the coefficient from the model fit object using the `coef()`command. "
   ]
  },
  {
   "cell_type": "code",
   "execution_count": 14,
   "metadata": {},
   "outputs": [
    {
     "data": {
      "text/html": [
       "<strong>a:</strong> 3.94068491030517e-06"
      ],
      "text/latex": [
       "\\textbf{a:} 3.94068491030517e-06"
      ],
      "text/markdown": [
       "**a:** 3.94068491030517e-06"
      ],
      "text/plain": [
       "           a \n",
       "3.940685e-06 "
      ]
     },
     "metadata": {},
     "output_type": "display_data"
    },
    {
     "data": {
      "text/html": [
       "<strong>b:</strong> 2.58504796772587"
      ],
      "text/latex": [
       "\\textbf{b:} 2.58504796772587"
      ],
      "text/markdown": [
       "**b:** 2.58504796772587"
      ],
      "text/plain": [
       "       b \n",
       "2.585048 "
      ]
     },
     "metadata": {},
     "output_type": "display_data"
    }
   ],
   "source": [
    "coef(PowFit)[\"a\"]\n",
    "coef(PowFit)[\"b\"]"
   ]
  },
  {
   "cell_type": "markdown",
   "metadata": {},
   "source": [
    "So, we can do the following:"
   ]
  },
  {
   "cell_type": "code",
   "execution_count": 15,
   "metadata": {},
   "outputs": [],
   "source": [
    "Predic2PlotPow <- powMod(Lengths,coef(PowFit)[\"a\"],coef(PowFit)[\"b\"])"
   ]
  },
  {
   "cell_type": "markdown",
   "metadata": {},
   "source": [
    "Now plot the data and the fitted model line:"
   ]
  },
  {
   "cell_type": "code",
   "execution_count": 16,
   "metadata": {},
   "outputs": [
    {
     "data": {
      "image/png": "[encoded data removed]",
      "text/plain": [
       "plot without title"
      ]
     },
     "metadata": {},
     "output_type": "display_data"
    }
   ],
   "source": [
    "plot(Data2Fit$TotalLength, Data2Fit$BodyWeight)\n",
    "lines(Lengths, Predic2PlotPow, col = 'blue', lwd = 2.5)"
   ]
  },
  {
   "cell_type": "markdown",
   "metadata": {},
   "source": [
    "We can claculate the confidence intervals on the estimated parameters as we would in OLS fitting used for Linear Models: "
   ]
  },
  {
   "cell_type": "code",
   "execution_count": 17,
   "metadata": {
    "scrolled": false
   },
   "outputs": [
    {
     "name": "stderr",
     "output_type": "stream",
     "text": [
      "Waiting for profiling to be done...\n"
     ]
    },
    {
     "data": {
      "text/html": [
       "<table>\n",
       "<thead><tr><th></th><th scope=col>2.5%</th><th scope=col>97.5%</th></tr></thead>\n",
       "<tbody>\n",
       "\t<tr><th scope=row>a</th><td>1.171935e-06</td><td>1.205273e-05</td></tr>\n",
       "\t<tr><th scope=row>b</th><td>2.318292e+00</td><td>2.872287e+00</td></tr>\n",
       "</tbody>\n",
       "</table>\n"
      ],
      "text/latex": [
       "\\begin{tabular}{r|ll}\n",
       "  & 2.5\\% & 97.5\\%\\\\\n",
       "\\hline\n",
       "\ta & 1.171935e-06 & 1.205273e-05\\\\\n",
       "\tb & 2.318292e+00 & 2.872287e+00\\\\\n",
       "\\end{tabular}\n"
      ],
      "text/markdown": [
       "\n",
       "| <!--/--> | 2.5% | 97.5% | \n",
       "|---|---|\n",
       "| a | 1.171935e-06 | 1.205273e-05 | \n",
       "| b | 2.318292e+00 | 2.872287e+00 | \n",
       "\n",
       "\n"
      ],
      "text/plain": [
       "  2.5%         97.5%       \n",
       "a 1.171935e-06 1.205273e-05\n",
       "b 2.318292e+00 2.872287e+00"
      ]
     },
     "metadata": {},
     "output_type": "display_data"
    }
   ],
   "source": [
    "confint(PowFit)"
   ]
  },
  {
   "cell_type": "markdown",
   "metadata": {},
   "source": [
    "As you likely have learnt before, a coefficient's CI should not include zero for it to be statistically significant (different from zero). "
   ]
  },
  {
   "cell_type": "markdown",
   "metadata": {},
   "source": [
    "### Exercises <a id='Allom_Exercises'></a>\n",
    "\n",
    "(a) Make the same plot as above, fitted line and all, in `ggplot`, and add (display) the equation you estimated to your new (ggplot) plot. The equation is: $\\text{Weight} = 3.94 \\times 10^{-06} \\times \\text{Length}^{2.59}$\n",
    "\n",
    "(b) Try playing with the starting values, and see if you can \"break\" the model fitting -- that is, change the starting values till the NLLS fitting does not converge on a solution.\n",
    "\n",
    "(c) Repeat the model fitting (including a-b above) using the Zygoptera data subset.\n",
    "\n",
    "   \n",
    "(d) There is an alternative (and in fact, more commonly-used) approach for fitting the allometric model to data: using Ordinary Least Squares on bi-logarithamically transformed data. That is, if you take a log of both sides of the [allometric equation](#eq:allom) we get,\n",
    "\n",
    "$$\n",
    "\\log(y) = \\log(a) + b \\log(x)\n",
    "$$\n",
    "\n",
    "This is a straight line equation of the form $c = d + b z $, where $c = \\log(c)$, $d = \\log(a)$, $z = \\log(x)$, and $b$ is now the slope parameter. So you can use Ordinary Least Squares and the linear models framework (with `lm()`) in R to estimate the parameters of the allometric equation. \n",
    "\n",
    "In this exercise, try comparing the NLLS vs OLS methods to see how much difference you get in the parameter estimates between them. For example, see the methods used in this paper by [Cohen et al 2012](https://www.ncbi.nlm.nih.gov/pmc/articles/PMC3465447/).\n",
    "\n",
    "(e) The allometry between Body weight and Length is not the end of the story. You have a number of other linear morphological measurements (`HeadLength`, `ThoraxLength`, `AdbdomenLength`, `ForewingLength`, `HindwingLength`, `ForewingArea`, and `HindwingArea`) that can also be investigated. In this exercise, try two lines of investigation (again, repeated separately for Dragonflies and Damselfiles): \n",
    "\n",
    "  (i) How do each of these measures allometrically scale with Body length (obtain estimates of scaling constant and exponent)? (Hint: you may want to use the `pairs()` command in R to get an overview of all the pairs of potential scaling relationships. \n",
    "\n",
    "  (ii) Do any of the linear morphological measurements other than body length better predict Body weight? That is, does body weight scale more tightly with a linear morphological measurement other than total body length? You would use model selection here, which we will learn next. But for now, you can just look at and compare the $R^2$ values of the models."
   ]
  },
  {
   "cell_type": "markdown",
   "metadata": {},
   "source": [
    "### Comparing models\n",
    "\n",
    "*How do we know that there isn't a better or alternative model that adequately explains the pattern in your dataset?* \n",
    "\n",
    "This is important consideration in all data analyses (and more generally, the scientific method!), so you must aim to compare your NLLS model with an one or more alternatives for a more extensive and reliable investigation of the problem. \n",
    "\n",
    "Let's use  model comparison to investigate whether the relationship between body weight and length we found above is indeed allometric. For this, we need an alternative model that can be fitted to the same data. Let's try a quadratic curve, which is of the form:\n",
    "\n",
    "$$\n",
    "y = a + b x + c x^2\n",
    "$$\n",
    "\n",
    "This can also capture curvature in data, and is an alternative model to the [allometric equation](#eq:allom). Note that this mode is linear in its parameters (a linear model), which you can fit to the simply data using your familiar `lm()` function: "
   ]
  },
  {
   "cell_type": "code",
   "execution_count": 18,
   "metadata": {},
   "outputs": [],
   "source": [
    "QuaFit <- lm(BodyWeight ~ poly(TotalLength,2), data = Data2Fit)"
   ]
  },
  {
   "cell_type": "markdown",
   "metadata": {},
   "source": [
    "And like before, we obtain the predicted values (but this time using the `predict.lm` function):"
   ]
  },
  {
   "cell_type": "code",
   "execution_count": 19,
   "metadata": {},
   "outputs": [],
   "source": [
    "Predic2PlotQua <- predict.lm(QuaFit, data.frame(TotalLength = Lengths))"
   ]
  },
  {
   "cell_type": "markdown",
   "metadata": {},
   "source": [
    "Now let's plot the two fitted models together:"
   ]
  },
  {
   "cell_type": "code",
   "execution_count": 20,
   "metadata": {
    "scrolled": true
   },
   "outputs": [
    {
     "data": {
      "image/png": "[encoded data removed]",
      "text/plain": [
       "plot without title"
      ]
     },
     "metadata": {},
     "output_type": "display_data"
    }
   ],
   "source": [
    "plot(Data2Fit$TotalLength, Data2Fit$BodyWeight)\n",
    "lines(Lengths, Predic2PlotPow, col = 'blue', lwd = 2.5)\n",
    "lines(Lengths, Predic2PlotQua, col = 'red', lwd = 2.5)"
   ]
  },
  {
   "cell_type": "markdown",
   "metadata": {},
   "source": [
    "Very similar fits, except that the quadratic model seems to deviate a bit from the data at the lower end of the data range. Let's do a proper, formal model comparison now to check which model better-fits the data.\n",
    "\n",
    "First calculate the R$^2$ values of the two fitted models:"
   ]
  },
  {
   "cell_type": "code",
   "execution_count": 21,
   "metadata": {
    "scrolled": true
   },
   "outputs": [
    {
     "data": {
      "text/html": [
       "0.90054752976309"
      ],
      "text/latex": [
       "0.90054752976309"
      ],
      "text/markdown": [
       "0.90054752976309"
      ],
      "text/plain": [
       "[1] 0.9005475"
      ]
     },
     "metadata": {},
     "output_type": "display_data"
    },
    {
     "data": {
      "text/html": [
       "0.900302864503218"
      ],
      "text/latex": [
       "0.900302864503218"
      ],
      "text/markdown": [
       "0.900302864503218"
      ],
      "text/plain": [
       "[1] 0.9003029"
      ]
     },
     "metadata": {},
     "output_type": "display_data"
    }
   ],
   "source": [
    "RSS_Pow <- sum(residuals(PowFit)^2)  # Residual sum of squares\n",
    "TSS_Pow <- sum((Data2Fit$BodyWeight - mean(Data2Fit$BodyWeight))^2)  # Total sum of squares\n",
    "RSq_Pow <- 1 - (RSS_Pow/TSS_Pow)  # R-squared value\n",
    "\n",
    "RSS_Qua <- sum(residuals(QuaFit)^2)  # Residual sum of squares\n",
    "TSS_Qua <- sum((Data2Fit$BodyWeight - mean(Data2Fit$BodyWeight))^2)  # Total sum of squares\n",
    "RSq_Qua <- 1 - (RSS_Qua/TSS_Qua)  # R-squared value\n",
    "\n",
    "RSq_Pow \n",
    "RSq_Qua"
   ]
  },
  {
   "cell_type": "markdown",
   "metadata": {},
   "source": [
    "Not very useful. In general, R$^2$ is a good measure of model fit, but cannot be used for model selection -- epecially not here, given the tiny difference in R$^2$'s.\n",
    "\n",
    "Instead, as explained in the [lecture](https://github.com/mhasoba/TheMulQuaBio/blob/master/lectures/ModelFitting), we can use the Akaike Information Criterion (AIC):"
   ]
  },
  {
   "cell_type": "code",
   "execution_count": 22,
   "metadata": {},
   "outputs": [
    {
     "data": {
      "text/html": [
       "-2.1474260812509"
      ],
      "text/latex": [
       "-2.1474260812509"
      ],
      "text/markdown": [
       "-2.1474260812509"
      ],
      "text/plain": [
       "[1] -2.147426"
      ]
     },
     "metadata": {},
     "output_type": "display_data"
    }
   ],
   "source": [
    "n <- nrow(Data2Fit) #set sample size\n",
    "pPow <- length(coef(PowFit)) # get number of parameters in power law model\n",
    "pQua <- length(coef(QuaFit)) # get number of parameters in quadratic model\n",
    "\n",
    "AIC_Pow <- n + 2 + n * log((2 * pi) / n) +  n * log(RSS_Pow) + 2 * pPow\n",
    "AIC_Qua <- n + 2 + n * log((2 * pi) / n) + n * log(RSS_Qua) + 2 * pQua\n",
    "AIC_Pow - AIC_Qua"
   ]
  },
  {
   "cell_type": "markdown",
   "metadata": {},
   "source": [
    "Of course, as you might have suspected, we can do this using an in-built function in R! "
   ]
  },
  {
   "cell_type": "code",
   "execution_count": 23,
   "metadata": {},
   "outputs": [
    {
     "data": {
      "text/html": [
       "-2.1474260812509"
      ],
      "text/latex": [
       "-2.1474260812509"
      ],
      "text/markdown": [
       "-2.1474260812509"
      ],
      "text/plain": [
       "[1] -2.147426"
      ]
     },
     "metadata": {},
     "output_type": "display_data"
    }
   ],
   "source": [
    "AIC(PowFit) - AIC(QuaFit)"
   ]
  },
  {
   "cell_type": "markdown",
   "metadata": {},
   "source": [
    "*So which model wins?* As we had dicussed in the NLLS lecture, a rule of thumb is that a AIC value difference (typically denoted as $\\Delta$AIC) > 2 is a acceptable cutoff for calling a winner. So the power law (allometric model) is a better fit here. Read the [Johnson & Omland paper](https://github.com/mhasoba/TheMulQuaBio/blob/master/readings/Modelling/JohnsonOmland2004.pdf) for more on model selection in Ecology and Evolution.    "
   ]
  },
  {
   "cell_type": "markdown",
   "metadata": {},
   "source": [
    "### Exercises <a id='ModelSelection_Exercises'></a>\n",
    "\n",
    "(a) Calculate the Bayesian Information Criterion (BIC), also know as the Schwarz Criterion (see your Lecture notes and the [Johnson & Omland paper](https://github.com/mhasoba/TheMulQuaBio/blob/master/readings/Modelling/JohnsonOmland2004.pdf), and use $\\Delta$BIC to select the better fitting model. \n",
    "\n",
    "(b) Fit a straight line to the same data and compare with the allometric and quadratic models.\n",
    "\n",
    "(c) Repeat the model comparison (incuding 1-2 above) using the Damselflies (Zygoptera) data subset -- does the allometric model still win?\n",
    "\n",
    "(d) Repeat exercise (e)(i) and (ii) from the [above set](#Allom_Exercises), but with model comparison (e.g., again using a quadratic as an alternative model) to establish that the relationships are indeed allometric.\n",
    "\n",
    "(d) Repeat exercise (e)(ii) from the [above set](#Allom_Exercises), but with model comparison to establish which linear measurement is the best predictor of Body weight."
   ]
  },
  {
   "cell_type": "markdown",
   "metadata": {},
   "source": [
    "## Albatross chick growth\n",
    "\n",
    "Now let's look at a different trait example: the growth of an individual albatross chick (you can find similar data for vector and non-vector arthropods in [VecTraits](http://vectorbyte.org/)). First load and plot the data:"
   ]
  },
  {
   "cell_type": "code",
   "execution_count": 24,
   "metadata": {
    "scrolled": true
   },
   "outputs": [
    {
     "data": {
      "image/png": "[encoded data removed]",
      "text/plain": [
       "plot without title"
      ]
     },
     "metadata": {},
     "output_type": "display_data"
    }
   ],
   "source": [
    "alb <- read.csv(file=\"../data/albatross_grow.csv\")\n",
    "alb <- subset(x=alb, !is.na(alb$wt))\n",
    "plot(alb$age, alb$wt, xlab=\"age (days)\", ylab=\"weight (g)\", xlim=c(0, 100))"
   ]
  },
  {
   "cell_type": "markdown",
   "metadata": {},
   "source": [
    "### Fitting the three models using NLLS\n",
    "\n",
    "Let's fit multiple mdoels to this dataset.\n",
    "\n",
    "The Von Bertalanffy model is commonly used for modelling the growth of an individual. It's formulation is:\n",
    "\n",
    "$$\n",
    "W(t) = \\rho (L_{\\infty}(1-e^{-Kt})+L_0 e^{-Kt})^3\n",
    "$$\n",
    "\n",
    "If we pull out $L_{\\infty}$ and define $c=L_0/L_{\\infty}$ and $W_{\\infty}=\\rho L_{\\infty}^3$ this equation becomes:\n",
    "\n",
    "$$\n",
    "W(t) = W_{\\infty}(1-e^{-Kt}+ c e^{-Kt})^3.\n",
    "$$\n",
    "\n",
    "$W_{\\infty}$ is interpreted as the mean asymptotic weight, and $c$ the ratio between the initial and final lengths. This second equation is the one we will fit.\n",
    "\n",
    "We will compare this model against the classical Logistic growth equation, and a straight line. First, as we did before, let's define the R functions for the two models:"
   ]
  },
  {
   "cell_type": "code",
   "execution_count": 25,
   "metadata": {},
   "outputs": [],
   "source": [
    "logistic1<-function(t, r, K, N0){\n",
    "  N0*K*exp(r*t)/(K+N0*(exp(r*t)-1))\n",
    "}\n",
    "\n",
    "vonbert.w<-function(t, Winf, c, K){\n",
    "  Winf*(1 - exp(-K*t) + c*exp(-K*t))^3\n",
    "}"
   ]
  },
  {
   "cell_type": "markdown",
   "metadata": {},
   "source": [
    "For the straight line, we use simply use R's `lm()` function, as that is a linear least squares problem. Using NLLS will give (approximately) the same answer, of course. Now fit all 3 models using least squares. \n",
    "\n",
    "We will scale the data before fitting to improve the stability of the estimates:"
   ]
  },
  {
   "cell_type": "code",
   "execution_count": 26,
   "metadata": {},
   "outputs": [],
   "source": [
    "scale<-4000\n",
    "\n",
    "alb.lin<-lm(wt/scale~age, data=alb)"
   ]
  },
  {
   "cell_type": "code",
   "execution_count": 27,
   "metadata": {},
   "outputs": [],
   "source": [
    "alb.log<-nlsLM(wt/scale~logistic1(age, r, K, N0), start=list(K=1, r=0.1, N0=0.1), data=alb)\n",
    "\n",
    "alb.vb<-nlsLM(wt/scale~vonbert.w(age, Winf, c, K), start=list(Winf=0.75, c=0.01, K=0.01), data=alb)"
   ]
  },
  {
   "cell_type": "markdown",
   "metadata": {},
   "source": [
    "Next let's calculate predictions for each of the models across a range of ages."
   ]
  },
  {
   "cell_type": "code",
   "execution_count": 28,
   "metadata": {},
   "outputs": [],
   "source": [
    "ages<-seq(0, 100, length=1000)\n",
    "\n",
    "pred.lin<-predict(alb.lin, newdata = list(age=ages))*scale\n",
    "\n",
    "pred.log<-predict(alb.log, newdata = list(age=ages))*scale\n",
    "\n",
    "pred.vb<-predict(alb.vb, newdata = list(age=ages))*scale"
   ]
  },
  {
   "cell_type": "markdown",
   "metadata": {},
   "source": [
    "And finally plot the data with the fits:"
   ]
  },
  {
   "cell_type": "code",
   "execution_count": 29,
   "metadata": {
    "scrolled": false
   },
   "outputs": [
    {
     "data": {
      "image/png": "[encoded data removed]",
      "text/plain": [
       "plot without title"
      ]
     },
     "metadata": {},
     "output_type": "display_data"
    }
   ],
   "source": [
    "plot(alb$age, alb$wt, xlab=\"age (days)\", ylab=\"weight (g)\", xlim=c(0,100))\n",
    "lines(ages, pred.lin, col=2, lwd=2)\n",
    "lines(ages, pred.log, col=3, lwd=2)\n",
    "lines(ages, pred.vb, col=4, lwd=2)\n",
    "\n",
    "legend(\"topleft\", legend = c(\"linear\", \"logistic\", \"Von Bert\"), lwd=2, lty=1, col=2:4)"
   ]
  },
  {
   "cell_type": "markdown",
   "metadata": {},
   "source": [
    "Next examine the residuals between the 3 models:"
   ]
  },
  {
   "cell_type": "code",
   "execution_count": 30,
   "metadata": {
    "scrolled": true
   },
   "outputs": [
    {
     "data": {
      "image/png": "[encoded data removed]",
      "text/plain": [
       "Plot with title “VB resids”"
      ]
     },
     "metadata": {},
     "output_type": "display_data"
    }
   ],
   "source": [
    "par(mfrow=c(3,1), bty=\"n\")\n",
    "plot(alb$age, resid(alb.lin), main=\"LM resids\", xlim=c(0,100))\n",
    "plot(alb$age, resid(alb.log), main=\"Logisitic resids\", xlim=c(0,100))\n",
    "plot(alb$age, resid(alb.vb), main=\"VB resids\", xlim=c(0,100))"
   ]
  },
  {
   "cell_type": "markdown",
   "metadata": {},
   "source": [
    "The residuals for all 3 models still exhibit some patterns. In particular, the data seems to go down near the end of the observation period, but none of these models can capture that behavior. \n",
    "\n",
    "Finally, let's compare the 3 models using a simpler approach than the AIC/BIC one that  we used [above](#Allom_Exercises) by calculating adjusted Sums of Squared Errors (SSE's):"
   ]
  },
  {
   "cell_type": "code",
   "execution_count": 31,
   "metadata": {
    "scrolled": false
   },
   "outputs": [
    {
     "data": {
      "text/html": [
       "<dl>\n",
       "\t<dt>$lin</dt>\n",
       "\t\t<dd>0.00958</dd>\n",
       "\t<dt>$log</dt>\n",
       "\t\t<dd>0.0056</dd>\n",
       "\t<dt>$vb</dt>\n",
       "\t\t<dd>0.00628</dd>\n",
       "</dl>\n"
      ],
      "text/latex": [
       "\\begin{description}\n",
       "\\item[\\$lin] 0.00958\n",
       "\\item[\\$log] 0.0056\n",
       "\\item[\\$vb] 0.00628\n",
       "\\end{description}\n"
      ],
      "text/markdown": [
       "$lin\n",
       ":   0.00958\n",
       "$log\n",
       ":   0.0056\n",
       "$vb\n",
       ":   0.00628\n",
       "\n",
       "\n"
      ],
      "text/plain": [
       "$lin\n",
       "[1] 0.00958\n",
       "\n",
       "$log\n",
       "[1] 0.0056\n",
       "\n",
       "$vb\n",
       "[1] 0.00628\n"
      ]
     },
     "metadata": {},
     "output_type": "display_data"
    }
   ],
   "source": [
    "n<-length(alb$wt)\n",
    "list(lin=signif(sum(resid(alb.lin)^2)/(n-2*2), 3), \n",
    "    log= signif(sum(resid(alb.log)^2)/(n-2*3), 3), \n",
    "    vb= signif(sum(resid(alb.vb)^2)/(n-2*3), 3))          "
   ]
  },
  {
   "cell_type": "markdown",
   "metadata": {},
   "source": [
    "The logistic model has the lowest adjusted SSE, so it's the best by this measure. It is also, visually, a better fit. "
   ]
  },
  {
   "cell_type": "markdown",
   "metadata": {},
   "source": [
    "### Exercises <a id='Albatross_Exercises'></a>\n",
    "\n",
    "(a) Use AIC/BIC to perform model selection on the Albatross data as we did for the trait allometry example.\n",
    "\n",
    "(b) Write this example as a self-sufficient R script, with ggplot istead of base plotting "
   ]
  },
  {
   "cell_type": "markdown",
   "metadata": {},
   "source": [
    "## Aedes aegypti fecundity\n",
    "\n",
    "Now let's actually look at a disease vector example. These data measure the reponse of *Aedes aegypti* fecundity to temperature. \n",
    "\n",
    "First load and visualize the data:"
   ]
  },
  {
   "cell_type": "code",
   "execution_count": 32,
   "metadata": {},
   "outputs": [
    {
     "data": {
      "image/png": "[encoded data removed]",
      "text/plain": [
       "plot without title"
      ]
     },
     "metadata": {},
     "output_type": "display_data"
    }
   ],
   "source": [
    "aedes<-read.csv(file=\"../data/aedes_fecund.csv\")\n",
    "\n",
    "plot(aedes$T, aedes$EFD, xlab=\"temperature (C)\", ylab=\"Eggs/day\")"
   ]
  },
  {
   "cell_type": "markdown",
   "metadata": {},
   "source": [
    "### The TPC models\n",
    "\n",
    "Let's define some models first:"
   ]
  },
  {
   "cell_type": "code",
   "execution_count": 33,
   "metadata": {},
   "outputs": [],
   "source": [
    "quad1 <- function(T, T0, Tm, c){\n",
    "  c*(T-T0)*(T-Tm)*as.numeric(T<Tm)*as.numeric(T>T0)\n",
    "}\n",
    "\n",
    "briere <- function(T, T0, Tm, c){\n",
    "  c*T*(T-T0)*(abs(Tm-T)^(1/2))*as.numeric(T<Tm)*as.numeric(T>T0)\n",
    "}"
   ]
  },
  {
   "cell_type": "markdown",
   "metadata": {},
   "source": [
    "Instead of using the inbuilt quadratic function in R, we we define our own to make it easier to choose starting values, and so that we can force the function to be equal to zero above and below the minimum and maximum temperature thresholds (more on this below). The Briere function is a commonly used model for tempoeratuire dependence of insect traits. As in the case of the albatross growth data, we will also compare these two with a strauight line (again, its a linear model, so we can just use `lm()` without needing to define a function for it). \n",
    "\n",
    "Now fit all 3 models using least squares. Although it's not as necessary here (as the data don't have as large values as the albatross example), we will again scale the data first: "
   ]
  },
  {
   "cell_type": "code",
   "execution_count": 34,
   "metadata": {},
   "outputs": [],
   "source": [
    "scale <- 20\n",
    "\n",
    "aed.lin <- lm(EFD/scale~T, data=aedes)\n",
    "\n",
    "aed.quad <- nlsLM(EFD/scale~quad1(T, T0, Tm, c), start=list(T0=10, Tm=40, c=0.01), data=aedes)\n",
    "\n",
    "aed.br <- nlsLM(EFD/scale~briere(T, T0, Tm, c), start=list(T0=10, Tm=40, c=0.1), data=aedes)"
   ]
  },
  {
   "cell_type": "markdown",
   "metadata": {},
   "source": [
    "### Exercises <a id='Aedes_Exercises'></a>\n",
    "\n",
    "(a) Complete the *Aedes* data analysis by fitiing model, calculating predictions and then comparing models. Write a single, self-standing script for it. Which model fits best? By what measure?\n",
    "\n",
    "(b) In this script, use ggplot instead of base plotting."
   ]
  },
  {
   "cell_type": "markdown",
   "metadata": {},
   "source": [
    "## Abundances as an example\n",
    "\n",
    "Fluctuations in the abundance (density) of single populations may play a crucial role in ecosystem dynamics and emergent functional characteristics, such as rates of carbon fixation or disease transmission. For example, if vector population densities or their traits change at the same or shorter timescales than the rate of disease transmission, then (vector) abundance fluctuations can cause significant fluctuations in disease transmission rates. Indeed, most disease vectors are small ectotherms with short generation times and greater sensitivity to environmental conditions than their (invariably larger, longer-lived, and often, endothermic) hosts. So understanding how vector populations vary over time, space, and with respect to environmental variables such as temperature and preciptation is key. We will look at fitting models to the growth of a single population here. Time series analyses are covered in a separate [session](./TimeSeries.ipynb).\n",
    "\n",
    "### Population growth rate example\n",
    "\n",
    "A population grows exponentially while its abundance is low and resources are not limiting (the Malthusian principle). This growth then slows and eventually stops as resources become limiting. There may also be a time lag before the population growth really takes off at the start. We will focus on microbial (specifically, bacterial) growth rates. Bacterial growth in batch culture follows a distinct set of phases; lag phase, exponential phase and stationary phase. During the lag phase a suite of transcriptional machinery is activated, including genes involved in nutrient uptake and metabolic changes, as bacteria prepare for growth. During the exponential growth phase, bacteria divide at a constant rate, the population doubling with each generation. When the carrying capacity of the media is reached, growth slows and the number of cells in the culture stabilises, beginning the stationary phase. Traditionally, microbial growth rates were measured by plotting cell numbers or culture density against time on a semi-log graph and fitting a straight line through the exponential growth phase &ndash; the slope of the line gives the maximum growth rate ($r_{max}$). Models have since been developed which we can use to describe the whole sigmoidal bacterial growth curve (e.g., using NLLS). \n",
    "\n",
    "Let's first generate some \"data\" on the number of bacterial cells as a function of time that we can play with:"
   ]
  },
  {
   "cell_type": "code",
   "execution_count": 35,
   "metadata": {},
   "outputs": [
    {
     "data": {
      "text/html": [
       "<table>\n",
       "<thead><tr><th scope=col>t</th><th scope=col>LogN</th></tr></thead>\n",
       "<tbody>\n",
       "\t<tr><td> 0      </td><td>3.499293</td></tr>\n",
       "\t<tr><td> 2      </td><td>3.647743</td></tr>\n",
       "\t<tr><td> 4      </td><td>3.738444</td></tr>\n",
       "\t<tr><td> 6      </td><td>3.905430</td></tr>\n",
       "\t<tr><td> 8      </td><td>5.272912</td></tr>\n",
       "\t<tr><td>10      </td><td>6.320606</td></tr>\n",
       "</tbody>\n",
       "</table>\n"
      ],
      "text/latex": [
       "\\begin{tabular}{r|ll}\n",
       " t & LogN\\\\\n",
       "\\hline\n",
       "\t  0       & 3.499293\\\\\n",
       "\t  2       & 3.647743\\\\\n",
       "\t  4       & 3.738444\\\\\n",
       "\t  6       & 3.905430\\\\\n",
       "\t  8       & 5.272912\\\\\n",
       "\t 10       & 6.320606\\\\\n",
       "\\end{tabular}\n"
      ],
      "text/markdown": [
       "\n",
       "t | LogN | \n",
       "|---|---|---|---|---|---|\n",
       "|  0       | 3.499293 | \n",
       "|  2       | 3.647743 | \n",
       "|  4       | 3.738444 | \n",
       "|  6       | 3.905430 | \n",
       "|  8       | 5.272912 | \n",
       "| 10       | 6.320606 | \n",
       "\n",
       "\n"
      ],
      "text/plain": [
       "  t  LogN    \n",
       "1  0 3.499293\n",
       "2  2 3.647743\n",
       "3  4 3.738444\n",
       "4  6 3.905430\n",
       "5  8 5.272912\n",
       "6 10 6.320606"
      ]
     },
     "metadata": {},
     "output_type": "display_data"
    }
   ],
   "source": [
    "time <- c(0, 2, 4, 6, 8, 10, 12, 16, 20, 24) # timepoints, in hours\n",
    "log_cells <- c(3.62, 3.62, 3.63, 4.14, 5.23, 6.27, 7.57, 8.38, 8.70, 8.69) # logged cell counts - more on this below\n",
    "\n",
    "set.seed(1234) # set seed to ensure you always get the same random sequence if fluctuations  \n",
    "\n",
    "data <- data.frame(time, log_cells + rnorm(length(time),sd=.1)) # add some random error\n",
    "\n",
    "names(data) <- c(\"t\", \"LogN\")\n",
    "\n",
    "head(data)"
   ]
  },
  {
   "cell_type": "markdown",
   "metadata": {},
   "source": [
    "We have added a vector of normally distributed errors to emulate random \"sampling errors\". Note also that the assumption of normality of errors underlies the statistical analyses of Ordinary NLLS fits, just as it underlies Ordinary Least Squares (your standard linear modelling). In this case, we are talking about log-normality because we are using logged cell counts. Why log them? Because NLLS often converges better if you linearize the data (and correspindingly, the model - see how the models are specified below). "
   ]
  },
  {
   "cell_type": "markdown",
   "metadata": {},
   "source": [
    "Plot the data:"
   ]
  },
  {
   "cell_type": "code",
   "execution_count": 36,
   "metadata": {},
   "outputs": [
    {
     "data": {},
     "metadata": {},
     "output_type": "display_data"
    },
    {
     "data": {
      "image/png": "[encoded data removed]",
      "text/plain": [
       "plot without title"
      ]
     },
     "metadata": {},
     "output_type": "display_data"
    }
   ],
   "source": [
    "ggplot(data, aes(x = t, y = LogN)) + geom_point()"
   ]
  },
  {
   "cell_type": "markdown",
   "metadata": {},
   "source": [
    "We will fit three growth models, all of which are known to fit such population growth data, especially in microbes. These are a modified Gompertz model (Zwietering et. al., 1990), the Baranyi model (Baranyi, 1993) and the Buchanan model (or three-phase logistic model; Buchanan, 1997). Given a set of cell numbers (N) and times (t), each growth model can be described in terms of:\n",
    "\n",
    "$N_0$:  Initial cell culture (Population) density (number of cells per unit volume)  \n",
    "\n",
    "$N_{max}$: Maximum culture density (aka \"carrying capacity\") \n",
    "\n",
    "$r_{max}$: Maximum growth rate \n",
    "\n",
    "$t_{lag}$: Duration of the lag phase before the population starts growing exponentially\n",
    "   \n",
    "First let's specify the model functions:"
   ]
  },
  {
   "cell_type": "code",
   "execution_count": 37,
   "metadata": {},
   "outputs": [],
   "source": [
    "baranyi_model <- function(t, r_max, N_max, N_0, t_lag){  # Baranyi model (Baranyi 1993)\n",
    "return(N_max + log10((-1+exp(r_max*t_lag) + exp(r_max*t))/(exp(r_max*t) - 1 + exp(r_max*t_lag) * 10^(N_max-N_0))))\n",
    "}\n",
    "\n",
    "buchanan_model <- function(t, r_max, N_max, N_0, t_lag){ # Buchanan model - three phase logistic (Buchanan 1997)\n",
    "  return(N_0 + (t >= t_lag) * (t <= (t_lag + (N_max - N_0) * log(10)/r_max)) * r_max * (t - t_lag)/log(10) +\n",
    "           (t >= t_lag) * (t > (t_lag + (N_max - N_0) * log(10)/r_max)) * (N_max - N_0))\n",
    "}\n",
    "\n",
    "gompertz_model <- function(t, r_max, N_max, N_0, t_lag){  # Modified gompertz growth model (Zwietering 1990)\n",
    "  return(N_0 + (N_max - N_0) * exp(-exp(r_max * exp(1) * (t_lag - t)/((N_max - N_0) * log(10)) + 1)))\n",
    "}"
   ]
  },
  {
   "cell_type": "markdown",
   "metadata": {},
   "source": [
    "It is important to note that we have written the functions in log (to the base 10 - can also be base 2 or natural log) scale because we want to do the fitting in log scale (both model and data linearized). The interpretation of each of the the estimated/fitted paramters does not change if we take a log of the model's equation.    "
   ]
  },
  {
   "cell_type": "markdown",
   "metadata": {},
   "source": [
    "Now let's generate some starting values for the NLLS fitting. We did not pay much attention to what starting values we used in the above example on fitting an allometric model because the power-law model is easy to fit using NLLS, and starting far from the optimal parameters does not matter too much. Here, we derive the starting values by using the actual data:  "
   ]
  },
  {
   "cell_type": "code",
   "execution_count": 38,
   "metadata": {},
   "outputs": [],
   "source": [
    "N_0_start <- min(data$LogN)\n",
    "N_max_start <- max(data$LogN)\n",
    "t_lag_start <- data$t[which.max(diff(diff(data$LogN)))]\n",
    "r_max_start <- max(diff(data$LogN))/mean(diff(data$t))"
   ]
  },
  {
   "cell_type": "markdown",
   "metadata": {},
   "source": [
    "Now fit the models:"
   ]
  },
  {
   "cell_type": "code",
   "execution_count": 39,
   "metadata": {
    "scrolled": false
   },
   "outputs": [],
   "source": [
    "fit_baranyi <- nlsLM(LogN ~ baranyi_model(t = t, r_max, N_max, N_0, t_lag), data,\n",
    "              list(t_lag=t_lag_start, r_max=r_max_start, N_0 = N_0_start, N_max = N_max_start))\n",
    "\n",
    "fit_buchanan <- nlsLM(LogN ~ buchanan_model(t = t, r_max, N_max, N_0, t_lag), data,\n",
    "                        list(t_lag=t_lag_start, r_max=r_max_start, N_0 = N_0_start, N_max = N_max_start))\n",
    "\n",
    "fit_gompertz <- nlsLM(LogN ~ gompertz_model(t = t, r_max, N_max, N_0, t_lag), data,\n",
    "                      list(t_lag=t_lag_start, r_max=r_max_start, N_0 = N_0_start, N_max = N_max_start))"
   ]
  },
  {
   "cell_type": "markdown",
   "metadata": {},
   "source": [
    "You might get a warning that one or more of the models generated some NaNs during the fitting procedure for the given data. You can ignore the warning in this case. But not always &ndash; sometimes these NaNs mean that the equation is wrongly written, or that it generates NaNs across the whole range of the x-values, in which case the model is inappropriate for these data.          "
   ]
  },
  {
   "cell_type": "markdown",
   "metadata": {},
   "source": [
    "Get the model summaries:"
   ]
  },
  {
   "cell_type": "code",
   "execution_count": 40,
   "metadata": {},
   "outputs": [
    {
     "data": {
      "text/plain": [
       "\n",
       "Formula: LogN ~ baranyi_model(t = t, r_max, N_max, N_0, t_lag)\n",
       "\n",
       "Parameters:\n",
       "      Estimate Std. Error t value Pr(>|t|)    \n",
       "t_lag  5.52751    0.34869   15.85 4.00e-06 ***\n",
       "r_max  1.41823    0.09356   15.16 5.20e-06 ***\n",
       "N_0    3.59209    0.08646   41.55 1.30e-08 ***\n",
       "N_max  8.52886    0.08352  102.12 5.94e-11 ***\n",
       "---\n",
       "Signif. codes:  0 ‘***’ 0.001 ‘**’ 0.01 ‘*’ 0.05 ‘.’ 0.1 ‘ ’ 1\n",
       "\n",
       "Residual standard error: 0.143 on 6 degrees of freedom\n",
       "\n",
       "Number of iterations to convergence: 10 \n",
       "Achieved convergence tolerance: 1.49e-08\n"
      ]
     },
     "metadata": {},
     "output_type": "display_data"
    },
    {
     "data": {
      "text/plain": [
       "\n",
       "Formula: LogN ~ buchanan_model(t = t, r_max, N_max, N_0, t_lag)\n",
       "\n",
       "Parameters:\n",
       "      Estimate Std. Error t value Pr(>|t|)    \n",
       "t_lag  5.42029    0.24932   21.74 6.19e-07 ***\n",
       "r_max  1.36647    0.06886   19.84 1.06e-06 ***\n",
       "N_0    3.62849    0.07721   46.99 6.22e-09 ***\n",
       "N_max  8.52330    0.07721  110.39 3.73e-11 ***\n",
       "---\n",
       "Signif. codes:  0 ‘***’ 0.001 ‘**’ 0.01 ‘*’ 0.05 ‘.’ 0.1 ‘ ’ 1\n",
       "\n",
       "Residual standard error: 0.1337 on 6 degrees of freedom\n",
       "\n",
       "Number of iterations to convergence: 9 \n",
       "Achieved convergence tolerance: 1.49e-08\n"
      ]
     },
     "metadata": {},
     "output_type": "display_data"
    },
    {
     "data": {
      "text/plain": [
       "\n",
       "Formula: LogN ~ gompertz_model(t = t, r_max, N_max, N_0, t_lag)\n",
       "\n",
       "Parameters:\n",
       "      Estimate Std. Error t value Pr(>|t|)    \n",
       "t_lag  5.76455    0.26923   21.41 6.77e-07 ***\n",
       "r_max  1.57526    0.09930   15.86 3.98e-06 ***\n",
       "N_0    3.60201    0.07068   50.96 3.83e-09 ***\n",
       "N_max  8.65943    0.08526  101.56 6.14e-11 ***\n",
       "---\n",
       "Signif. codes:  0 ‘***’ 0.001 ‘**’ 0.01 ‘*’ 0.05 ‘.’ 0.1 ‘ ’ 1\n",
       "\n",
       "Residual standard error: 0.1191 on 6 degrees of freedom\n",
       "\n",
       "Number of iterations to convergence: 8 \n",
       "Achieved convergence tolerance: 1.49e-08\n"
      ]
     },
     "metadata": {},
     "output_type": "display_data"
    }
   ],
   "source": [
    "summary(fit_baranyi)\n",
    "summary(fit_buchanan)\n",
    "summary(fit_gompertz)"
   ]
  },
  {
   "cell_type": "markdown",
   "metadata": {},
   "source": [
    "And see how the fits look:"
   ]
  },
  {
   "cell_type": "code",
   "execution_count": 48,
   "metadata": {},
   "outputs": [
    {
     "data": {},
     "metadata": {},
     "output_type": "display_data"
    },
    {
     "data": {
      "image/png": "[encoded data removed]",
      "text/plain": [
       "plot without title"
      ]
     },
     "metadata": {},
     "output_type": "display_data"
    }
   ],
   "source": [
    "timepoints <- seq(0, 24, 0.1)\n",
    "\n",
    "baranyi_points <- baranyi_model(t = timepoints, r_max = coef(fit_baranyi)[\"r_max\"], N_max = coef(fit_baranyi)[\"N_max\"], N_0 = coef(fit_baranyi)[\"N_0\"], t_lag = coef(fit_baranyi)[\"t_lag\"])\n",
    "\n",
    "buchanan_points <- buchanan_model(t = timepoints, r_max = coef(fit_buchanan)[\"r_max\"], N_max = coef(fit_buchanan)[\"N_max\"], N_0 = coef(fit_buchanan)[\"N_0\"], t_lag = coef(fit_buchanan)[\"t_lag\"])\n",
    "\n",
    "gompertz_points <- gompertz_model(t = timepoints, r_max = coef(fit_gompertz)[\"r_max\"], N_max = coef(fit_gompertz)[\"N_max\"], N_0 = coef(fit_gompertz)[\"N_0\"], t_lag = coef(fit_gompertz)[\"t_lag\"])\n",
    "\n",
    "df1 <- data.frame(timepoints, baranyi_points)\n",
    "df1$model <- \"Baranyi\"\n",
    "names(df1) <- c(\"t\", \"LogN\", \"model\")\n",
    "\n",
    "df2 <- data.frame(timepoints, buchanan_points)\n",
    "df2$model <- \"Buchanan\"\n",
    "names(df2) <- c(\"t\", \"LogN\", \"model\")\n",
    "\n",
    "df3 <- data.frame(timepoints, gompertz_points)\n",
    "df3$model <- \"Gompertz\"\n",
    "names(df3) <- c(\"t\", \"LogN\", \"model\")\n",
    "\n",
    "model_frame <- rbind(df1, df2, df3)\n",
    "\n",
    "ggplot(data, aes(x = t, y = LogN)) +\n",
    "  geom_point(size = 3) +\n",
    "  geom_line(data = model_frame, aes(x = t, y = LogN, col = model), size = 1) +\n",
    "    theme_bw() + # make the background white\n",
    "    theme(aspect.ratio=1)+ # make the plot square \n",
    "    labs(x = \"Time\", y = \"log(Abundance)\")"
   ]
  },
  {
   "cell_type": "markdown",
   "metadata": {},
   "source": [
    "### Exercises\n",
    "\n",
    "(a) Calculate the confidence intervals on the parameters of each of the three fitted models, and use model selection (using AIC and/or BIC) as you did before to see if you can determine the best-fitting model among the three.\n",
    "\n",
    "(b) Alternatively, for a different random sequence of fluctuations, one or more of the models may fail to fit (a `singular gradiant matrix` error). Try repeating the above fitting with a different random seed (change the integers given to the `random.seed( )` function), or increase the sampling error by increasing the standard deviationand see if it happens. If/when the NLLS optimization does fail to converge (the RSS minimum was not found), you can try to fix it by chaning the starting values. \n",
    "\n",
    "(c) Repeat the model comparison exercise 1000 times (You will have to write a loop), and determine if/whether one model generally wins more often than the others. Note that each run will generate a slightly different dataset, because we are adding a vector of random errors every time the \"data\" are generated. This may result in failure of the NLLS fitting to converge, in which case you will need to use the [`try()` or `tryCatch` functions](https://nbviewer.jupyter.org/github/mhasoba/TheMulQuaBio/blob/master/notebooks/07-R.ipynb).\n",
    "\n",
    "(d) Repeat (b), but increase the error by increasing the standard deviation of the normal error distributon, and see if there are differences in the robustness of the models to sampling/experimental errors. You may also want to try changing the distribution of the errors to some non-normal distribution and see what happens."
   ]
  },
  {
   "cell_type": "markdown",
   "metadata": {},
   "source": [
    "# Model fitting using Maximum Likelihood\n",
    "\n",
    "Above we learned how to fit a mathematical model/equation to data by using the Least Squares method (linear or nonlinear). That is, we choose the parameters of model being fitted (e.g., straight line) to minimize the sum of the squares of the residuals/errors sround the fitted model. An alternative to minimizing the sum of squared errors is to find parameters to the function such that the *likelihood* of the parameters, given the data and the model, is maximized. Please see the [lectures](https://github.com/vectorbite/VBiTraining2/tree/master/lectures) for the theoretical background to the following R examples.\n",
    "\n",
    "We will first implement the (negative log) likelihood for simple linear regression (SLR) in R. Recall that SLR assumes every observation in the dataset was generated by the model:\n",
    "\n",
    "$$Y_i = \\beta_0 + \\beta_1 X_i + \\varepsilon_i, \\;\\;\\; \\varepsilon_i \\stackrel{\\mathrm{iid}}{\\sim} \\mathrm{N}(0, \\sigma^2)\n",
    "$$\n",
    "\n",
    "That is, this is a model for the *conditional distribution* of $Y$ given $X$. The pdf for the normal distribution is given by\n",
    "\n",
    "$$\n",
    "f(x) = \\frac{1}{\\sqrt{2\\sigma^2 \\pi}} \\exp\\left(-\\frac{(x-\\mu)^2}{2\\sigma^2} \\right)\n",
    "$$\n",
    "\n",
    "In the SLR model, the conditional distribution has *this* distribution. \n",
    "\n",
    "That is, for any single observation, $y_i$\n",
    "$$\n",
    "f(y_i|\\beta_0, \\beta_1, x_i) = \\frac{1}{\\sqrt{2\\sigma^2 \\pi}} \\exp\\left(-\\frac{(y_i-(\\beta_0+\\beta_1 x_i))^2}{2\\sigma^2} \\right)\n",
    "$$\n",
    "\n",
    "Interpreting this function as a function of the parameters $\\theta=\\{ \\beta_0, \\beta_1, \\sigma \\}$, then it gives us the likelihood of the $i^{\\mathrm{th}}$ data point. \n",
    "\n",
    "As we did for the simple binomial distribution (see [lecture](https://github.com/vectorbite/VBiTraining2/tree/master/lectures)), we can use this to estimate the parameters of the model."
   ]
  },
  {
   "cell_type": "markdown",
   "metadata": {},
   "source": [
    "## Implementing the Likelihood in R\n",
    "\n",
    "First, we need to build an R function that returns the (negative log) likelihood for simple linear regression (it is negative log because the log of likelihood is itself negative):"
   ]
  },
  {
   "cell_type": "code",
   "execution_count": 41,
   "metadata": {},
   "outputs": [],
   "source": [
    "nll.slr <- function(par, dat, ...){\n",
    "  args <- list(...)\n",
    "  \n",
    "  b0 <- par[1]\n",
    "  b1 <- par[2]\n",
    "  X <- dat$X\n",
    "  Y <- dat$Y\n",
    "  if(!is.na(args$sigma)){\n",
    "      sigma <- args$sigma\n",
    "  } else \n",
    "      sigma <- par[3]\n",
    "\n",
    "  mu <- b0+b1*X\n",
    "  \n",
    "  return(-sum(dnorm(Y, mean=mu, sd=sigma, log=TRUE)))\n",
    "}"
   ]
  },
  {
   "cell_type": "markdown",
   "metadata": {},
   "source": [
    "Note that we do something a bit different here (the \"`...`\" bit). We do it this way because we want to be able to use R's `optim()` function later.\n",
    "\n",
    "The `dnorm()` function calculates the logged (the `log=TRUE` argument) probability of observing Y given mu, sigma and that X.  \n",
    "\n",
    "The negative sign on `sum()` is because the `optim()` function in R will minimize the negative log-likelihood, which is a sum: Recall that The log-likelihood of the parameters $\\theta$ being true given data x equals to the sum of the logged probability densities of observing the data x given parameters $\\theta$. We want to maximize this (log-) likelihood using `optim()`."
   ]
  },
  {
   "cell_type": "markdown",
   "metadata": {},
   "source": [
    "Let's generate some simulated data, assuming that: $\\beta_0=$ `b0`, $\\beta_1=$ `b1`, and $\\sigma=$ `sigma`. For this, we will generate random deviations to simulate sampling or measurement error around an otherwise perfect line of data values:"
   ]
  },
  {
   "cell_type": "code",
   "execution_count": 42,
   "metadata": {},
   "outputs": [],
   "source": [
    "set.seed(123)\n",
    "n <- 30\n",
    "b0 <- 10\n",
    "b1 <- 3\n",
    "sigma <- 2\n",
    "X <- rnorm(n, mean=3, sd=7)\n",
    "Y <- b0 + b1*X + rnorm(n, mean=0, sd=sigma)\n",
    "dat <- data.frame(X=X, Y=Y) # convert to a data frame"
   ]
  },
  {
   "cell_type": "markdown",
   "metadata": {},
   "source": [
    "In the first line, we `set.seed()` to ensure that we can reproduce the results. The seed number you choose is the starting point used in the generation of a sequence of random numbers. No plot the \"data\":"
   ]
  },
  {
   "cell_type": "code",
   "execution_count": 43,
   "metadata": {},
   "outputs": [
    {
     "data": {
      "image/png": "[encoded data removed]",
      "text/plain": [
       "plot without title"
      ]
     },
     "metadata": {},
     "output_type": "display_data"
    }
   ],
   "source": [
    "plot(X, Y)"
   ]
  },
  {
   "cell_type": "markdown",
   "metadata": {},
   "source": [
    "## Likelihood profile in R\n",
    "\n",
    "For now, let's assume that we know what $\\beta_1$ is. Let's build a likelihood profile for the simulated data:"
   ]
  },
  {
   "cell_type": "code",
   "execution_count": 44,
   "metadata": {},
   "outputs": [],
   "source": [
    "N <- 50\n",
    "b0s <- seq(5, 15, length=N)\n",
    "mynll <- rep(NA, length=50)\n",
    "for(i in 1:N){\n",
    "  mynll[i] <- nll.slr(par=c(b0s[i],b1), dat=dat, sigma=sigma)\n",
    "}"
   ]
  },
  {
   "cell_type": "markdown",
   "metadata": {},
   "source": [
    "That is, we calculate the negative log-likelihood for fixed b1, across a range (5 - 15) of b0.  "
   ]
  },
  {
   "cell_type": "markdown",
   "metadata": {},
   "source": [
    "Now plot the profile:"
   ]
  },
  {
   "cell_type": "code",
   "execution_count": 45,
   "metadata": {},
   "outputs": [
    {
     "data": {
      "image/png": "[encoded data removed]",
      "text/plain": [
       "plot without title"
      ]
     },
     "metadata": {},
     "output_type": "display_data"
    }
   ],
   "source": [
    "plot(b0s, mynll, type=\"l\")\n",
    "abline(v=b0, col=2)\n",
    "abline(v=b0s[which.min(mynll)], col=3)"
   ]
  },
  {
   "cell_type": "markdown",
   "metadata": {},
   "source": [
    "The true value for b0 (10) is the red line, while the value that minimizes the log-likelihood (i.e., maximizes the negative log-likelihood) is the green line. These are not the same because maximum likelihood is providing an *estimate* of the true value given the measurement errors (that we ourselves generated in tgis synthetic dataset).  "
   ]
  },
  {
   "cell_type": "markdown",
   "metadata": {},
   "source": [
    "## Likelihood surface in R\n",
    "\n",
    "If we wanted to estimate both $\\beta_0$ and $\\beta_1$ (two parameters), we need to deal with a two-dimensional maximum likelihood surface. The simplest approach is to do a *grid search* to find this  likelihood surface."
   ]
  },
  {
   "cell_type": "code",
   "execution_count": 46,
   "metadata": {
    "scrolled": true
   },
   "outputs": [
    {
     "data": {
      "text/html": [
       "<table>\n",
       "<tbody>\n",
       "\t<tr><td>10.00000</td><td>3.00    </td></tr>\n",
       "\t<tr><td>10.48485</td><td>2.96    </td></tr>\n",
       "</tbody>\n",
       "</table>\n"
      ],
      "text/latex": [
       "\\begin{tabular}{ll}\n",
       "\t 10.00000 & 3.00    \\\\\n",
       "\t 10.48485 & 2.96    \\\\\n",
       "\\end{tabular}\n"
      ],
      "text/markdown": [
       "\n",
       "| 10.00000 | 3.00     | \n",
       "| 10.48485 | 2.96     | \n",
       "\n",
       "\n"
      ],
      "text/plain": [
       "     [,1]     [,2]\n",
       "[1,] 10.00000 3.00\n",
       "[2,] 10.48485 2.96"
      ]
     },
     "metadata": {},
     "output_type": "display_data"
    },
    {
     "data": {
      "image/png": "[encoded data removed]",
      "text/plain": [
       "plot without title"
      ]
     },
     "metadata": {},
     "output_type": "display_data"
    }
   ],
   "source": [
    "N0 <- 100\n",
    "N1 <- 101\n",
    "b0s <- seq(7,12, length=N0)\n",
    "b1s <- seq(1,5, length=N1)\n",
    "\n",
    "mynll<-matrix(NA, nrow=N0, ncol=N1)\n",
    "for(i in 1:N0){\n",
    "  for(j in 1:N1) mynll[i,j]<-nll.slr(par=c(b0s[i],b1s[j]), dat=dat, sigma=sigma)\n",
    "}\n",
    "\n",
    "ww <- which(mynll==min(mynll), arr.ind=TRUE)\n",
    "\n",
    "b0.est <- b0s[ww[1]]\n",
    "b1.est <- b1s[ww[2]]\n",
    "rbind(c(b0, b1), c(b0.est, b1.est))\n",
    "\n",
    "filled.contour(x = b0s, y = b1s, z= mynll, col=heat.colors(21), \n",
    "               plot.axes = {axis(1); axis(2); points(b0,b1, pch=21); \n",
    "                            points(b0.est, b1.est, pch=8, cex=1.5); xlab=\"b0\"; ylab=\"b1\"})"
   ]
  },
  {
   "cell_type": "markdown",
   "metadata": {},
   "source": [
    "There is a lot going on here. Make sure you ask one of us if some of the code does not make sense!\n",
    "\n",
    "Again, note that the true parameter combination (asterisk) and the one what maximizes the negative log-likelihood (circle) are different."
   ]
  },
  {
   "cell_type": "markdown",
   "metadata": {},
   "source": [
    "## Conditional Likelihood\n",
    "We can also look at the conditional surfaces (i.e., we look at the slice around whatever the best estimate is for the other parameter):"
   ]
  },
  {
   "cell_type": "code",
   "execution_count": 47,
   "metadata": {},
   "outputs": [
    {
     "data": {
      "image/png": "[encoded data removed]",
      "text/plain": [
       "plot without title"
      ]
     },
     "metadata": {},
     "output_type": "display_data"
    }
   ],
   "source": [
    "par(mfrow=c(1,2), bty=\"n\")\n",
    "plot(b0s, mynll[,ww[2]], type=\"l\", xlab=\"b0\", ylab=\"NLL\")\n",
    "plot(b1s, mynll[ww[1],], type=\"l\", xlab=\"b1\", ylab=\"NLL\")"
   ]
  },
  {
   "cell_type": "markdown",
   "metadata": {},
   "source": [
    "### Alternatives to Grid Search\n",
    "\n",
    "There are many alternative methods to grid searches. Since we are seeking to minimize an arbitrary function (the negative log likelihood) we typically use a descent method to perform general optimization.\n",
    "\n",
    "There are lots of options implemented in the `optim`function in R. We won't go into the details of these methods, due to time constraints. However, typically one would most commonly use:\n",
    "\n",
    "* Brent's method: for 1-D search within a bounding box, only\n",
    "* L-BFGS-B (limited-memory Broyden–Fletcher–Goldfarb–Shanno algorithm with bounding box constraints): a quasi-Newton method, used for higher dimensions, when you want to be able to put simple limits on your search area.  \n",
    " \n",
    "\n",
    "### Maximum Likelihood using `optim()`\n",
    "\n",
    "We can now do the fitting. This involves optimization (to find the appropriate parameter values that achieve the maximum of the likelihood surface above). For this, we will use R's versatile `optim()` function.\n",
    "\n",
    "The first argument for `optim()` is the function that you want to minimize, and the second is a vector of starting values for your parameters (as always, do a`?optim`). After the main arguments, you can add what you need to evaluate your function (e.g. `sigma` ). The addtional argument sigma can be \"fed\" to `nll.slr` because we use the `...` convention when defining it."
   ]
  },
  {
   "cell_type": "code",
   "execution_count": 48,
   "metadata": {
    "scrolled": true
   },
   "outputs": [
    {
     "data": {
      "text/html": [
       "<dl>\n",
       "\t<dt>$par</dt>\n",
       "\t\t<dd><ol class=list-inline>\n",
       "\t<li>10.4589351280817</li>\n",
       "\t<li>2.96170447551098</li>\n",
       "</ol>\n",
       "</dd>\n",
       "\t<dt>$value</dt>\n",
       "\t\t<dd>58.2247252772924</dd>\n",
       "\t<dt>$counts</dt>\n",
       "\t\t<dd><dl class=dl-horizontal>\n",
       "\t<dt>function</dt>\n",
       "\t\t<dd>12</dd>\n",
       "\t<dt>gradient</dt>\n",
       "\t\t<dd>12</dd>\n",
       "</dl>\n",
       "</dd>\n",
       "\t<dt>$convergence</dt>\n",
       "\t\t<dd>0</dd>\n",
       "\t<dt>$message</dt>\n",
       "\t\t<dd>'CONVERGENCE: REL_REDUCTION_OF_F &lt;= FACTR*EPSMCH'</dd>\n",
       "</dl>\n"
      ],
      "text/latex": [
       "\\begin{description}\n",
       "\\item[\\$par] \\begin{enumerate*}\n",
       "\\item 10.4589351280817\n",
       "\\item 2.96170447551098\n",
       "\\end{enumerate*}\n",
       "\n",
       "\\item[\\$value] 58.2247252772924\n",
       "\\item[\\$counts] \\begin{description*}\n",
       "\\item[function] 12\n",
       "\\item[gradient] 12\n",
       "\\end{description*}\n",
       "\n",
       "\\item[\\$convergence] 0\n",
       "\\item[\\$message] 'CONVERGENCE: REL\\_REDUCTION\\_OF\\_F <= FACTR*EPSMCH'\n",
       "\\end{description}\n"
      ],
      "text/markdown": [
       "$par\n",
       ":   1. 10.4589351280817\n",
       "2. 2.96170447551098\n",
       "\n",
       "\n",
       "\n",
       "$value\n",
       ":   58.2247252772924\n",
       "$counts\n",
       ":   function\n",
       ":   12gradient\n",
       ":   12\n",
       "\n",
       "\n",
       "$convergence\n",
       ":   0\n",
       "$message\n",
       ":   'CONVERGENCE: REL_REDUCTION_OF_F &lt;= FACTR*EPSMCH'\n",
       "\n",
       "\n"
      ],
      "text/plain": [
       "$par\n",
       "[1] 10.458935  2.961704\n",
       "\n",
       "$value\n",
       "[1] 58.22473\n",
       "\n",
       "$counts\n",
       "function gradient \n",
       "      12       12 \n",
       "\n",
       "$convergence\n",
       "[1] 0\n",
       "\n",
       "$message\n",
       "[1] \"CONVERGENCE: REL_REDUCTION_OF_F <= FACTR*EPSMCH\"\n"
      ]
     },
     "metadata": {},
     "output_type": "display_data"
    }
   ],
   "source": [
    "fit <- optim(nll.slr, par=c(2, 1), method=\"L-BFGS-B\", ## this is a n-D method\n",
    "              lower=-Inf, upper=Inf, dat=dat, sigma=sigma)\n",
    "\n",
    "fit"
   ]
  },
  {
   "cell_type": "markdown",
   "metadata": {},
   "source": [
    "Easy as pie (once you have the recipe)! We can also fit sigma as the same time if we want:"
   ]
  },
  {
   "cell_type": "code",
   "execution_count": 49,
   "metadata": {
    "scrolled": false
   },
   "outputs": [
    {
     "data": {
      "text/html": [
       "<ol class=list-inline>\n",
       "\t<li>10.4589449542964</li>\n",
       "\t<li>2.96170371229526</li>\n",
       "\t<li>1.62168936031414</li>\n",
       "</ol>\n"
      ],
      "text/latex": [
       "\\begin{enumerate*}\n",
       "\\item 10.4589449542964\n",
       "\\item 2.96170371229526\n",
       "\\item 1.62168936031414\n",
       "\\end{enumerate*}\n"
      ],
      "text/markdown": [
       "1. 10.4589449542964\n",
       "2. 2.96170371229526\n",
       "3. 1.62168936031414\n",
       "\n",
       "\n"
      ],
      "text/plain": [
       "[1] 10.458945  2.961704  1.621689"
      ]
     },
     "metadata": {},
     "output_type": "display_data"
    }
   ],
   "source": [
    "fit <- optim(nll.slr, par=c(2, 1, 5), method=\"L-BFGS-B\", ## this is a n-D method\n",
    "              lower=c(-Inf, -Inf, 0.1), upper=Inf, dat=dat, sigma=NA)\n",
    "fit$par"
   ]
  },
  {
   "cell_type": "markdown",
   "metadata": {},
   "source": [
    "The starting values (b0 = 2, b1  = 1, sigma = 5) need to be assigned as we would do for NLLS. Also note that much like NLLS, we have bounded the parameters. The exact starting values are not too important in this case (try changing them see what happens)."
   ]
  },
  {
   "cell_type": "markdown",
   "metadata": {},
   "source": [
    "Now visualize the fit:"
   ]
  },
  {
   "cell_type": "code",
   "execution_count": 50,
   "metadata": {},
   "outputs": [
    {
     "data": {
      "image/png": "[encoded data removed]",
      "text/plain": [
       "plot without title"
      ]
     },
     "metadata": {},
     "output_type": "display_data"
    }
   ],
   "source": [
    "plot(X, Y)\n",
    "abline(a=fit$par[1], b=fit$par[2], col=2, lwd=2)"
   ]
  },
  {
   "cell_type": "markdown",
   "metadata": {},
   "source": [
    "## Confidence intervals\n",
    "\n",
    "The joint distribution of the MLEs are asymptotically Normally distributed. Given this, if you are minimizing the negative log likelihood (NLL) then the covariance matrix of the estimates is (asymptotically) the inverse of the Hessian matrix. The Hessian matrix evalutes the second derivatives of the NLL (numerically here), which gives us information about the curvature the likelihood. Thus we can use the Hessian to estimate confidence intervals:"
   ]
  },
  {
   "cell_type": "code",
   "execution_count": 51,
   "metadata": {
    "scrolled": true
   },
   "outputs": [
    {
     "data": {
      "text/html": [
       "<table>\n",
       "<thead><tr><th scope=col>value</th><th scope=col>upper</th><th scope=col>lower</th></tr></thead>\n",
       "<tbody>\n",
       "\t<tr><td>10.458935</td><td>11.228565</td><td>9.689305 </td></tr>\n",
       "\t<tr><td> 2.961704</td><td> 3.067705</td><td>2.855704 </td></tr>\n",
       "</tbody>\n",
       "</table>\n"
      ],
      "text/latex": [
       "\\begin{tabular}{r|lll}\n",
       " value & upper & lower\\\\\n",
       "\\hline\n",
       "\t 10.458935 & 11.228565 & 9.689305 \\\\\n",
       "\t  2.961704 &  3.067705 & 2.855704 \\\\\n",
       "\\end{tabular}\n"
      ],
      "text/markdown": [
       "\n",
       "value | upper | lower | \n",
       "|---|---|\n",
       "| 10.458935 | 11.228565 | 9.689305  | \n",
       "|  2.961704 |  3.067705 | 2.855704  | \n",
       "\n",
       "\n"
      ],
      "text/plain": [
       "  value     upper     lower   \n",
       "1 10.458935 11.228565 9.689305\n",
       "2  2.961704  3.067705 2.855704"
      ]
     },
     "metadata": {},
     "output_type": "display_data"
    }
   ],
   "source": [
    "fit <- optim(nll.slr, par=c(2, 1), method=\"L-BFGS-B\", hessian=TRUE, lower=-Inf, upper=Inf, dat=dat, sigma=sigma)\n",
    "\n",
    "fisher_info<-solve(fit$hessian)\n",
    "est_sigma<-sqrt(diag(fisher_info))\n",
    "upper<-fit$par+1.96*est_sigma\n",
    "lower<-fit$par-1.96*est_sigma\n",
    "interval<-data.frame(value=fit$par, upper=upper, lower=lower)\n",
    "interval"
   ]
  },
  {
   "cell_type": "markdown",
   "metadata": {},
   "source": [
    "### Comparison to fitting with least squares\n",
    "\n",
    "We can, of course, simply fit the model with lest squares using the `lm()` function:"
   ]
  },
  {
   "cell_type": "code",
   "execution_count": 52,
   "metadata": {
    "scrolled": false
   },
   "outputs": [
    {
     "data": {
      "text/html": [
       "<table>\n",
       "<thead><tr><th></th><th scope=col>Estimate</th><th scope=col>Std. Error</th><th scope=col>t value</th><th scope=col>Pr(&gt;|t|)</th></tr></thead>\n",
       "<tbody>\n",
       "\t<tr><th scope=row>(Intercept)</th><td>10.458936   </td><td>0.32957007  </td><td>31.73509    </td><td>1.699822e-23</td></tr>\n",
       "\t<tr><th scope=row>X</th><td> 2.961704   </td><td>0.04539126  </td><td>65.24834    </td><td>3.874555e-32</td></tr>\n",
       "</tbody>\n",
       "</table>\n"
      ],
      "text/latex": [
       "\\begin{tabular}{r|llll}\n",
       "  & Estimate & Std. Error & t value & Pr(>\\textbar{}t\\textbar{})\\\\\n",
       "\\hline\n",
       "\t(Intercept) & 10.458936    & 0.32957007   & 31.73509     & 1.699822e-23\\\\\n",
       "\tX &  2.961704    & 0.04539126   & 65.24834     & 3.874555e-32\\\\\n",
       "\\end{tabular}\n"
      ],
      "text/markdown": [
       "\n",
       "| <!--/--> | Estimate | Std. Error | t value | Pr(>|t|) | \n",
       "|---|---|\n",
       "| (Intercept) | 10.458936    | 0.32957007   | 31.73509     | 1.699822e-23 | \n",
       "| X |  2.961704    | 0.04539126   | 65.24834     | 3.874555e-32 | \n",
       "\n",
       "\n"
      ],
      "text/plain": [
       "            Estimate  Std. Error t value  Pr(>|t|)    \n",
       "(Intercept) 10.458936 0.32957007 31.73509 1.699822e-23\n",
       "X            2.961704 0.04539126 65.24834 3.874555e-32"
      ]
     },
     "metadata": {},
     "output_type": "display_data"
    }
   ],
   "source": [
    "lmfit<-lm(Y~X)\n",
    "\n",
    "summary(lmfit)$coeff"
   ]
  },
  {
   "cell_type": "markdown",
   "metadata": {},
   "source": [
    "The estimates we get using `optim()` are almost identical to the estimates that we obtain here, and the standard errors on the intercept and slope are very similar to those we calculated from the Hessian (est_sigma= `r est_sigma`). "
   ]
  },
  {
   "cell_type": "markdown",
   "metadata": {},
   "source": [
    "## Model Selection\n",
    "\n",
    "You can use [AIC or BIC as you did in NLLS](#Comparing-models) using the likelihood you have calculated. \n",
    "\n",
    "You can also use the Likelihood Ratio Test (LRT).\n",
    "\n",
    "## Exercises <a id='MLE_Exercises'></a> \n",
    "\n",
    "Try MLE fitting for the allometric trait data example [above](#Allometric-scaling-of-traits). You will use the same data + functions that you used to practice fitting curves using non-linear least squares methods. You have two options here. The easier one is to convert the power law model to a straight line model by taking a log (explained the Allometry [Exercises](#Allom_Exercises). Specifically,\n",
    "\n",
    "(a) Using the [`nll.slr`](#Implementing-the-Likelihood-in-R) function as an example, write a function that calculates the negative log likelihood as a function of the parameters describing your trait and any additional parameters you need for an appropriate noise distribution (e.g., $\\sigma$ if you have normally distributed errors).\n",
    "\n",
    "(b) For at least one of your parameters plot a likelihood profile given your data, with the other parametes fixed.\n",
    "\n",
    "(c) Use the `optim` function to find the MLE of the same parameter and indicate this on your likelihood profile.\n",
    "\n",
    "(d) Obtain a confidence interval for your estimate.\n",
    "\n",
    "A more challenging option is to fit the allometry data directly to the power law equation. You would need to assume a log-normal distribution for the errors instead of normal, in this case.   "
   ]
  },
  {
   "cell_type": "markdown",
   "metadata": {},
   "source": [
    "# Fitting Models the Bayesian way "
   ]
  },
  {
   "cell_type": "markdown",
   "metadata": {},
   "source": [
    "Recall from the [lectures](https://github.com/vectorbite/VBiTraining2/tree/master/lectures) that for Bayesian model fitting/inference, we need to: \n",
    "\n",
    "\n",
    "1. **Assess MCMC convergence**: MCMC is family of algorithm for sampling probability distributions so that it can be adequately characterized (in the Bayesian context the posterior distribution). The MCMC procedure reaches *convergence* once we have sufficient random draws from the posterior distribution. To assess convergence we look at trace plots. The goal is to get \"fuzzy caterpillars\"-looking curves. \n",
    "\n",
    "2. **Summarize MCMC draws**: Summarize and visualize outcome of the random draws using histograms for all draws for each parameter, and calculate expectation, variance, credibility interval, etc.\n",
    "\n",
    "3. **Prior Sensitivity**: Assess prior sensitivity by changing prior values and check whether it affects the results or not. If it does, that means that the results are too sensitive to that prior, not good!\n",
    "\n",
    "4. **Make inferences**: We use the values from item (2) to make inferences and answer the research question.\n",
    "\n",
    "Because likelihoods form the basis for Bayesian model fitting, we will first do an exercise to understand their calculation.    "
   ]
  },
  {
   "cell_type": "markdown",
   "metadata": {},
   "source": [
    "### A Likelihoods exercise\n",
    "\n",
    "#### The Binomial Distribution\n",
    "\n",
    "The Binomial distribution is used to model the number of \"successes\" in a set of trials (e.g., number of heads when you flip a coin $N$ times). The pmf is  \n",
    "$$\n",
    "{N \\choose x} p^x(1-p)^{N-x}\n",
    "$$\n",
    "such that $\\mathrm{E}[x]=Np$. Throughout this \"experiment\", you will assume that your experiment consists of flipping 20 coins, so that $N=20$.\n",
    "\n",
    "Let's use the Binomial distribution to practice two methods of estimating parameters for a probability distribution: method of moments and maximum likelihood.\n",
    "\n",
    "##### Simulating from the Binomial using R\n",
    "\n",
    "First take 50 draws from a binomial (using _rbinom_) for each $p\\in$ 0.1, 0.5, 0.8 with $N=20$. For this, lets set seed so that we can reproduce this exact sequence of sampling (why?):"
   ]
  },
  {
   "cell_type": "code",
   "execution_count": 53,
   "metadata": {},
   "outputs": [],
   "source": [
    "set.seed(54321)"
   ]
  },
  {
   "cell_type": "code",
   "execution_count": 54,
   "metadata": {},
   "outputs": [],
   "source": [
    "## 50 draws with each p \n",
    "pp<-c(0.1, 0.5, 0.8)\n",
    "N<-20\n",
    "reps<-50 "
   ]
  },
  {
   "cell_type": "markdown",
   "metadata": {},
   "source": [
    "Now plot the histograms of these draws together with the density functions."
   ]
  },
  {
   "cell_type": "code",
   "execution_count": 55,
   "metadata": {},
   "outputs": [],
   "source": [
    "## histograms + density here\n",
    "x<-seq(0, 50, by=1)\n",
    "par(mfrow=c(1,3), bty=\"n\")\n",
    "\n",
    "# Write more code here"
   ]
  },
  {
   "cell_type": "markdown",
   "metadata": {},
   "source": [
    "**Q1: Do the histograms look like the distributions for all 3 values of $p$? If not, what do you think is going on?**\n",
    "\n",
    "You'll notice that for $p=0.1$ the histogram and densities don't look quite the same -- the `hist()` function is lumping together the zeros and ones which makes it look off. This is typical for distributions that are truncated.\n",
    "\n",
    "#### Method of Moments (MoM) Estimators\n",
    "\n",
    "To obtain a method of moments estimator, we equate the theoretical moments (which will be a function of the parameters of the distribution) with the corresponding sample moments, and solve for the parameters in order to obtain an estimate. For the binomial distribution, there is only one parameter, $p$. \n",
    "\n",
    "**Q2: Given the analytic expected value, above, and assuming that the sample mean is $m$ (the mean number of observed heads across replicates), what is the MoM estimator for $p$?**\n",
    "\n",
    "Now calculate the MoM estimator for each of your 3 sets of simulated data sets to get the estimates for each of your values of $p$."
   ]
  },
  {
   "cell_type": "code",
   "execution_count": 56,
   "metadata": {},
   "outputs": [],
   "source": [
    "## MOM estimators for 3 simulated sets\n"
   ]
  },
  {
   "cell_type": "markdown",
   "metadata": {},
   "source": [
    "**Q3: How good are your estimates for $p$? Do you get something close to the true value?**\n",
    "\n",
    "For 1 of your values of $p$, take 20 draws from the binomial with $N=20$ and calculate the MoM. Repeat this 100 times (hint: the `replicate()` and `lapply` functions may be useful.) Make a histogram of your estimates, and  add a line/point to the plot to indicate the real value of $p$ that you used to simulate the data. "
   ]
  },
  {
   "cell_type": "code",
   "execution_count": 57,
   "metadata": {},
   "outputs": [],
   "source": [
    "## MoM estimates, histogram "
   ]
  },
  {
   "cell_type": "markdown",
   "metadata": {},
   "source": [
    "**Q4: Is the MoM successfully estimating $p$? Does your histogram for $p$ look more or less normal? If so, what theorem might explain why this would be the case?** \n",
    "\n",
    "#### MLE for Binomial Distribution\n",
    "\n",
    "##### Likelihood and Log Likelihood\n",
    "\n",
    "Imagine that you flip a coin $N$ times, and then repeat the experiment $n$ times. Thus, you have data $x=x`1, x`2, \\dots x`n$ that are the number of times you observed a head in each trial. $p$ is the probability of obtaining a head. \n",
    "\n",
    "**Q5: Write down the likelihood and log-likelihood for the data. Take the derivative of the negative log-likelihood, set this equal to zero, and find the MLE, $\\hat{p}$.** \n",
    "\n",
    "\n",
    "#### Computing the likelihood and MLE in R\n",
    "\n",
    "Simulate some data with $p=0.25$, $N=10$, and 10 replicates. Calculate the negative log-likelihood of your simulated data across a range of $p$ (from 0 to 1), and plot them. You may do this by using the built in functions in R (specifically `dbinom`) or write your own function. This is called a \"likelihood profile''. Plot your likelihood profile with a line indicating the true value of $p$. Add lines indicating the MLE $\\hat{p}$ and the MoM estimator for $p$ to your likelihood profile. "
   ]
  },
  {
   "cell_type": "code",
   "execution_count": 58,
   "metadata": {},
   "outputs": [],
   "source": [
    "pp<-.25\n",
    "N<-10\n",
    "reps<-10\n",
    "## Make one set of data\n",
    "\n",
    "## the likelihood is always exactly zero\n",
    "## at p=0,1, so I skip those values\n",
    "ps<-seq(0.01, 0.99, by=0.01) \n",
    "\n",
    "## Likelihood\n",
    "\n",
    "\n",
    "## MLE/MoM estimators \n",
    "\n",
    "## now plot the negative log likelihood profile\n"
   ]
  },
  {
   "cell_type": "markdown",
   "metadata": {},
   "source": [
    "**Q6: How does your MLE compare to the true parameter value? How could you estimate the MLE from the likelihood profile if you didn't have a way to calculate the MLE directly? If you chose another version of the random seed, do you get the same answer?**"
   ]
  },
  {
   "cell_type": "markdown",
   "metadata": {},
   "source": [
    "## Example: Midge Wing Length\n",
    "\n",
    "We will use this simple example to go through the steps of assessing a Bayesian model and we'll see that MCMC can allow us to approximate the posterior distribution.\n",
    "\n",
    "Grogan and Wirth (1981) provide data on the wing length (in millimeters) of nine members of a species of midge (small, two-winged flies). \n",
    "\n",
    "From these measurements we wish to make inference about the population mean $\\mu$."
   ]
  },
  {
   "cell_type": "code",
   "execution_count": 59,
   "metadata": {},
   "outputs": [
    {
     "data": {
      "image/png": "[encoded data removed]",
      "text/plain": [
       "Plot with title “Histogram of Y”"
      ]
     },
     "metadata": {},
     "output_type": "display_data"
    }
   ],
   "source": [
    "WL.data <- read.csv(\"../data/MidgeWingLength.csv\")\n",
    "Y <- WL.data$WingLength\n",
    "n <- length(Y)\n",
    "\n",
    "hist(Y,breaks=10,xlab=\"Wing Length (mm)\") "
   ]
  },
  {
   "cell_type": "markdown",
   "metadata": {},
   "source": [
    "### Non-Bayesian analysis\n",
    "\n",
    "We might expect that these midge data could be draws from a _Normal_ distribution $\\mathcal{N}(\\mu, \\sigma^2)$. Recall that the MLEs for $\\mu$ and $\\sigma^2$ here are simply the _sample mean_ and _sample variance_ respectively:"
   ]
  },
  {
   "cell_type": "code",
   "execution_count": 60,
   "metadata": {},
   "outputs": [
    {
     "data": {
      "text/html": [
       "<ol class=list-inline>\n",
       "\t<li>1.804</li>\n",
       "\t<li>0.017</li>\n",
       "</ol>\n"
      ],
      "text/latex": [
       "\\begin{enumerate*}\n",
       "\\item 1.804\n",
       "\\item 0.017\n",
       "\\end{enumerate*}\n"
      ],
      "text/markdown": [
       "1. 1.804\n",
       "2. 0.017\n",
       "\n",
       "\n"
      ],
      "text/plain": [
       "[1] 1.804 0.017"
      ]
     },
     "metadata": {},
     "output_type": "display_data"
    }
   ],
   "source": [
    "m<-sum(Y)/n\n",
    "s2<-sum((Y-m)^2)/(n-1)\n",
    "round(c(m, s2), 3)"
   ]
  },
  {
   "cell_type": "code",
   "execution_count": 61,
   "metadata": {},
   "outputs": [
    {
     "data": {
      "image/png": "[encoded data removed]",
      "text/plain": [
       "Plot with title “Histogram of Y”"
      ]
     },
     "metadata": {},
     "output_type": "display_data"
    }
   ],
   "source": [
    "x<-seq(1.4,2.2, length=50)\n",
    "hist(Y,breaks=10,xlab=\"Wing Length (mm)\", xlim=c(1.4, 2.2), freq=FALSE) \n",
    "lines(x, dnorm(x, mean=m, sd=sqrt(s2)), col=2)"
   ]
  },
  {
   "cell_type": "markdown",
   "metadata": {},
   "source": [
    "**NOTE:** I've plotted the estimate of the _population_ distribution here, but this is not the ***predictive distribution*** (which would be a Student T because we're estimating both the mean and variance...).\n",
    "\n",
    "-----\n",
    "\n",
    "The non-Bayesian version here has the advantage of being quick and familiar. However, from our point of view it has two weaknesses:\n",
    "\n",
    "1. Because we have so few data points estimates of the accuracy of our predictions aren't available. 9 points is only barely enough to estimate a mean, so we don't trust any of the variance calculations.\n",
    "\n",
    "2. We can't easily incorporate things that we might already know about midges into our analysis. \n",
    "\n",
    "Let's see how we can do a similar analysis using a Bayesian approach, first analytically, and the with JAGS.\n",
    "\n",
    "### Setting up the Bayesian Model\n",
    "\n",
    "We need to define the likelihood and the priors for our Bayesian analysis. Given the analysis that we've just done, let's assume that our data come from a normal distribution with unknown mean, $\\mu$ but that we know the variance is $\\sigma^2 = 0.025$. That is:\n",
    "\n",
    "$$\n",
    "\\mathbf{Y} \\stackrel{\\mathrm{iid}}{\\sim} \\mathcal{N}(\\mu, 0.025^2)\n",
    "$$\n",
    "\n",
    "\n",
    "#### Prior Information\n",
    "\n",
    "Studies from other populations suggest that wing lengths are usually around 1.9 mm, so we set $\\mu_0 = 1.9$\n",
    "\n",
    "We also know that lengths must be positive ($\\mu >0$)\n",
    "\n",
    "We can approximate this restriction with a normal prior distribution for $\\mu$ as follows:\n",
    "\n",
    "Since most of the normal density is within two standard deviations of the mean we choose $\\tau^2_0$ so that\n",
    "\n",
    "$$ \\mu_0 - 2\\sigma_0 >0 \\Rightarrow \\sigma_0 <1.9/2 = 0.95 $$\n",
    "I will choose $\\sigma_0=0.8$ here. Thus our prior for mu will be:\n",
    "$$\n",
    "\\mu \\sim \\mathcal{N}(1.9, 0.8^2)\n",
    "$$\n",
    "\n",
    "----\n",
    "\n",
    "Together, then, our full model is:\n",
    "\\begin{align*}\n",
    "\\mathbf{Y} & \\stackrel{\\mathrm{iid}}{\\sim} \\mathcal{N}(\\mu, 0.025^2)\\\\\n",
    "\\mu &\\sim \\mathcal{N}(1.9, 0.8^2)\n",
    "\\end{align*}\n",
    "\n",
    "### Analytic Posterior\n",
    "\n",
    "For this very simple case it is easy to write down the posterior distribution (up to some constant). First, note that the likehood for the data can be written as \n",
    "\n",
    "\\begin{align*}\n",
    "\\mathcal{L} &\\propto \\prod_{i=1}^n \\frac{1}{\\sigma} \\exp\\left(-\\frac{1}{2\\sigma^2}(Y_i-\\mu)^2 \\right) \\\\\n",
    "& =  \\frac{1}{\\sigma^n} \\exp\\left(-\\frac{1}{2\\sigma^2}\\sum_{i=1}^n (Y_i-\\mu)^2 \\right)\\\\\n",
    "& \\propto \\exp\\left(-\\frac{n}{2\\sigma^2} (\\bar{Y}-\\mu)^2 \\right)\n",
    "\\end{align*}\n",
    "\n",
    "Multiplying the prior through we get the following for the posterior:\n",
    "\n",
    "$$\n",
    "\\mathrm{P}(\\mu|\\mathbf{Y}) \\propto \\exp \\left(-\\frac{n}{2\\sigma^2} (\\bar{Y}-\\mu)^2 \\right) \\exp\\left(-\\frac{1}{2\\sigma_0^2}(\\mu-\\mu_0)^2 \\right)\n",
    "$$\n",
    "\n",
    "You can re-arrange, complete the square, etc, to get a new expression that is like\n",
    "\n",
    "$$\n",
    "\\mathrm{P}(\\mu|\\mathbf{Y}) \\propto \\exp \\left(-\\frac{1}{2\\sigma_p^2} (\\mu_p-\\mu)^2 \\right)\n",
    "$$\n",
    "\n",
    "where \n",
    "\n",
    "\\begin{align*}\n",
    "\\mu_p & = \\frac{n\\sigma_0^2}{\\sigma^2 + n\\sigma_0^2} \\bar{Y} +  \\frac{\\sigma^2}{\\frac{\\sigma^2}{n} + \\sigma_0^2} \\mu_0\\\\\n",
    "& \\\\\n",
    "\\sigma_p^2 & = \\left( \\frac{n}{\\sigma^2} + \\frac{1}{\\sigma_0^2} \\right)^{-1}\n",
    "\\end{align*}\n",
    "\n",
    "Instead of writing this last in terms of the variances, we could instead use precision (the inverse variance) which gives a simpler expression:\n",
    "\n",
    "$$\n",
    "\\tau_p = n\\tau + \\tau_0\n",
    "$$\n",
    "\n",
    "Just like in our earlier example, our estimate of the mean is a weighted average of the data and the prior, with the variance being determined by the data and prior variances.\n",
    "\n",
    "So lets write a little function to calculate $\\mu_p$ and $\\tau_p$ and the plug in our numbers:"
   ]
  },
  {
   "cell_type": "code",
   "execution_count": 62,
   "metadata": {},
   "outputs": [],
   "source": [
    "tau.post<-function(tau, tau0, n){n*tau + tau0}\n",
    "mu.post<-function(Ybar, mu0, sig20, sig2, n){\n",
    "  weight<-sig2+n*sig20\n",
    "  \n",
    "  return(n*sig20*Ybar/weight + sig2*mu0/weight)\n",
    "}"
   ]
  },
  {
   "cell_type": "markdown",
   "metadata": {},
   "source": [
    "Let's plot 3 things together -- the data histogram, the prior, and the posterior:"
   ]
  },
  {
   "cell_type": "code",
   "execution_count": 63,
   "metadata": {},
   "outputs": [],
   "source": [
    "mu0 <- 1.9\n",
    "s20 <- 0.8\n",
    "s2<- 0.025 ## \"true\" variance\n",
    "\n",
    "mp<-mu.post(Ybar=m, mu0=mu0, sig20=s20, sig2=s2, n=n)\n",
    "tp<-tau.post(tau=1/s2, tau0=1/s20, n=n)"
   ]
  },
  {
   "cell_type": "markdown",
   "metadata": {},
   "source": [
    "Let's plot the result:"
   ]
  },
  {
   "cell_type": "code",
   "execution_count": 64,
   "metadata": {},
   "outputs": [
    {
     "data": {
      "image/png": "[encoded data removed]",
      "text/plain": [
       "Plot with title “Histogram of Y”"
      ]
     },
     "metadata": {},
     "output_type": "display_data"
    }
   ],
   "source": [
    "x<-seq(1.3,2.3, length=1000)\n",
    "hist(Y,breaks=10,xlab=\"Wing Length (mm)\", xlim=c(1.3, 2.3),\n",
    "     freq=FALSE, ylim=c(0,8)) \n",
    "lines(x, dnorm(x, mean=mu0, sd=sqrt(s20)), col=2, lty=2, lwd=2) ## prior\n",
    "lines(x, dnorm(x, mean=mp, sd=sqrt(1/tp)), col=4, lwd=2) ## posterior\n",
    "legend(\"topleft\", legend=c(\"prior\", \"posterior\"), col=c(2,4), lty=c(2,1), lwd=2)"
   ]
  },
  {
   "cell_type": "markdown",
   "metadata": {},
   "source": [
    "### Exercise: Prior sensitivity\n",
    "\n",
    "Change the values of the mean and the variance that you choose for the prior (\"hyperparameters\"). What does this do to the posterior distribution. E.g., what happens if the variance you choose is small, and $\\mu_0 =2.5$ or so. Is this what you expect?\n",
    "\n",
    "\n",
    "### Numerical evaluation of the posterior with JAGS\n",
    "\n",
    "Let's show that we can get the same thing from JAGS that we were able to get from the analytic results. You'll need to make sure you have installed JAGS (which must be done outside of R) and then the libraries `rjags` and `coda`."
   ]
  },
  {
   "cell_type": "code",
   "execution_count": 65,
   "metadata": {},
   "outputs": [
    {
     "name": "stderr",
     "output_type": "stream",
     "text": [
      "Loading required package: rjags\n",
      "Loading required package: coda\n",
      "Error: package or namespace load failed for ‘rjags’:\n",
      " .onLoad failed in loadNamespace() for 'rjags', details:\n",
      "  call: load.module(\"basemod\", quiet = TRUE)\n",
      "  error: File not found: /usr/lib/JAGS/modules-4/basemod.so\n"
     ]
    }
   ],
   "source": [
    "# Load libraries\n",
    "require(rjags) # does the fitting\n",
    "require(coda) # makes diagnostic plots\n",
    "##require(mcmcplots) # another option for diagnostic plots"
   ]
  },
  {
   "cell_type": "markdown",
   "metadata": {},
   "source": [
    "#### Specifying the model\n",
    "\n",
    "First we must encode our choices for our data model and priors to pass them to the fitting routines in JAGS. This involves setting up a ${\\tt model}$ that includes the likelihood for each data point and a prior for every parameter we want to estimate. Here is an example of how we would do this for the simple model we fit for the midge data (note that JAGS uses the precision instead of the variance or sd for the normal distribution:"
   ]
  },
  {
   "cell_type": "code",
   "execution_count": 66,
   "metadata": {},
   "outputs": [],
   "source": [
    "model1 <- \"model{\n",
    "\n",
    "  ## Likelihood\n",
    "  for(i in 1:n){\n",
    "    Y[i] ~ dnorm(mu,tau)\n",
    "  }\n",
    "\n",
    "  ## Prior for mu\n",
    "  mu        ~ dnorm(mu0,tau0)\n",
    "\n",
    "} ## close model  \n",
    "\""
   ]
  },
  {
   "cell_type": "markdown",
   "metadata": {},
   "source": [
    "Now create the JAGS model:"
   ]
  },
  {
   "cell_type": "code",
   "execution_count": 67,
   "metadata": {},
   "outputs": [
    {
     "ename": "ERROR",
     "evalue": "Error in jags.model(textConnection(model1), n.chains = 1, data = list(Y = Y, : could not find function \"jags.model\"\n",
     "output_type": "error",
     "traceback": [
      "Error in jags.model(textConnection(model1), n.chains = 1, data = list(Y = Y, : could not find function \"jags.model\"\nTraceback:\n"
     ]
    }
   ],
   "source": [
    "model <- jags.model(textConnection(model1), \n",
    "                    n.chains = 1, ## usually do more\n",
    "                    data = list(Y=Y,n=n, ## data\n",
    "                                mu0=mu0, tau0=1/s20, ## hyperparams\n",
    "                                tau = 1/s2 ## known precision\n",
    "                                ),\n",
    "                    inits=list(mu=3) ## setting an starting val\n",
    "                    )"
   ]
  },
  {
   "cell_type": "markdown",
   "metadata": {},
   "source": [
    "Now we'll run the MCMC and, see how the output looks for a short chain with no burnin:"
   ]
  },
  {
   "cell_type": "code",
   "execution_count": 68,
   "metadata": {},
   "outputs": [
    {
     "ename": "ERROR",
     "evalue": "Error in coda.samples(model, variable.names = c(\"mu\"), n.iter = 1000, : could not find function \"coda.samples\"\n",
     "output_type": "error",
     "traceback": [
      "Error in coda.samples(model, variable.names = c(\"mu\"), n.iter = 1000, : could not find function \"coda.samples\"\nTraceback:\n"
     ]
    }
   ],
   "source": [
    "samp <- coda.samples(model, \n",
    "        variable.names=c(\"mu\"), \n",
    "        n.iter=1000, progress.bar=\"none\")\n",
    "\n",
    "plot(samp)"
   ]
  },
  {
   "cell_type": "markdown",
   "metadata": {},
   "source": [
    "MCMC is a rejection algorithm that often needs to converge or \"burn-in\" -- that is we need to potentially move until we're taking draws from the correct distribution. Unlike for optimization problems, this does not mean  that the algorithm :eads toward a single value. Instead we're looking for a pattern where the draws are seemingly unrelated and random. To assess convergence we look at trace plots, the goal is to get traces that look like \"fuzzy caterpillars\". \n",
    "\n",
    "Sometimes at the beginning of a run, if we start far from the area near the posterior mean of the parameter, we will instead get something that looks like a trending time series. If this is the case we have to drop the samples that were taken during the burn-in phase. Here's an example of how to do that:"
   ]
  },
  {
   "cell_type": "code",
   "execution_count": 69,
   "metadata": {},
   "outputs": [
    {
     "ename": "ERROR",
     "evalue": "Error in update(model, 10000, progress.bar = \"none\"): object 'model' not found\n",
     "output_type": "error",
     "traceback": [
      "Error in update(model, 10000, progress.bar = \"none\"): object 'model' not found\nTraceback:\n",
      "1. update(model, 10000, progress.bar = \"none\")"
     ]
    }
   ],
   "source": [
    "update(model, 10000, progress.bar=\"none\") # Burnin for 10000 samples\n",
    "\n",
    "samp <- coda.samples(model, \n",
    "        variable.names=c(\"mu\"), \n",
    "        n.iter=20000, progress.bar=\"none\")\n",
    "\n",
    "plot(samp)"
   ]
  },
  {
   "cell_type": "markdown",
   "metadata": {},
   "source": [
    "This is a very fuzzy caterpillar!\n",
    "\n",
    "We can also use the summary function to examine the samples generated:"
   ]
  },
  {
   "cell_type": "code",
   "execution_count": 70,
   "metadata": {},
   "outputs": [
    {
     "ename": "ERROR",
     "evalue": "Error in summary(samp): object 'samp' not found\n",
     "output_type": "error",
     "traceback": [
      "Error in summary(samp): object 'samp' not found\nTraceback:\n",
      "1. summary(samp)"
     ]
    }
   ],
   "source": [
    "summary(samp)"
   ]
  },
  {
   "cell_type": "markdown",
   "metadata": {},
   "source": [
    "Let's compare these draws to what we got with our analytic solution:"
   ]
  },
  {
   "cell_type": "code",
   "execution_count": 71,
   "metadata": {},
   "outputs": [
    {
     "ename": "ERROR",
     "evalue": "Error in hist(samp[[1]], xlab = \"mu\", xlim = c(1.3, 2.3), freq = FALSE, : object 'samp' not found\n",
     "output_type": "error",
     "traceback": [
      "Error in hist(samp[[1]], xlab = \"mu\", xlim = c(1.3, 2.3), freq = FALSE, : object 'samp' not found\nTraceback:\n",
      "1. hist(samp[[1]], xlab = \"mu\", xlim = c(1.3, 2.3), freq = FALSE, \n .     ylim = c(0, 8), main = \"posterior samples\")"
     ]
    }
   ],
   "source": [
    "x<-seq(1.3,2.3, length=1000)\n",
    "hist(samp[[1]], xlab=\"mu\", xlim=c(1.3, 2.3),\n",
    "     freq=FALSE, ylim=c(0,8), main =\"posterior samples\") \n",
    "lines(x, dnorm(x, mean=mu0, sd=sqrt(s20)), col=2, lty=2, lwd=2) ## prior\n",
    "lines(x, dnorm(x, mean=mp, sd=sqrt(1/tp)), col=4, lwd=2) ## posterior\n",
    "legend(\"topleft\", legend=c(\"prior\", \"analytic posterior\"), col=c(2,4), lty=c(2,1), lwd=2)"
   ]
  },
  {
   "cell_type": "markdown",
   "metadata": {},
   "source": [
    "It worked! \n",
    "\n",
    "\n",
    "As with the analytic approach, it's always a good idea when you run your analyses to see how sensitive is your result to the priors you choose. Unless you are purposefully choosing an informative prior, we usually want the prior and posterior to look different.\n",
    "\n",
    "\n",
    "### Estimating the population variance\n",
    " \n",
    "One advantage of the numerical approach is that we can choose almost anything we want for the priors on multiple parameters without worrying if they are conjugate, or if we want to include additional information. For example, let's say that, not, we want to force the mean to be positive (and also the data, perhaps), and concurrently estimate the variance. Here is a possible model."
   ]
  },
  {
   "cell_type": "code",
   "execution_count": 72,
   "metadata": {},
   "outputs": [
    {
     "ename": "ERROR",
     "evalue": "Error in jags.model(textConnection(model2), n.chains = 1, data = list(Y = Y, : could not find function \"jags.model\"\n",
     "output_type": "error",
     "traceback": [
      "Error in jags.model(textConnection(model2), n.chains = 1, data = list(Y = Y, : could not find function \"jags.model\"\nTraceback:\n"
     ]
    }
   ],
   "source": [
    "model2 <- \"model{\n",
    "\n",
    "  # Likelihood\n",
    "  for(i in 1:n){\n",
    "    Y[i] ~ dnorm(mu,tau) T(0,) ## truncates at 0\n",
    "  }\n",
    "\n",
    "  # Prior for mu\n",
    "  mu    ~ dnorm(mu0,tau0)\n",
    "\n",
    "  # Prior for the precision\n",
    "  tau   ~ dgamma(a, b)\n",
    "\n",
    "  # Compute the variance\n",
    "  s2       <- 1/tau\n",
    "}\"\n",
    "\n",
    "## hyperparams for tau\n",
    "a   <- 0.01\n",
    "b   <- 0.01\n",
    "\n",
    "m2 <- jags.model(textConnection(model2), \n",
    "                    n.chains = 1,\n",
    "                    data = list(Y=Y, n=n,\n",
    "                               mu0=mu0, tau0=1/s20, ## mu hyperparams\n",
    "                                a=a, b=b ## tau hyperparams\n",
    "                                ),\n",
    "                    inits=list(mu=3, tau=10) ## starting vals\n",
    "                )\n",
    "\n",
    "samp <- coda.samples(m2, \n",
    "        variable.names=c(\"mu\",\"s2\"), \n",
    "        n.iter=1000, progress.bar=\"none\")\n",
    "\n",
    "plot(samp)\n",
    "\n",
    "summary(samp)"
   ]
  },
  {
   "cell_type": "markdown",
   "metadata": {},
   "source": [
    "Now we plot each with their priors:"
   ]
  },
  {
   "cell_type": "code",
   "execution_count": 73,
   "metadata": {},
   "outputs": [
    {
     "ename": "ERROR",
     "evalue": "Error in hist(samp[[1]][, 1], xlab = \"samples of mu\", main = \"mu\"): object 'samp' not found\n",
     "output_type": "error",
     "traceback": [
      "Error in hist(samp[[1]][, 1], xlab = \"samples of mu\", main = \"mu\"): object 'samp' not found\nTraceback:\n",
      "1. hist(samp[[1]][, 1], xlab = \"samples of mu\", main = \"mu\")"
     ]
    }
   ],
   "source": [
    "par(mfrow=c(1,2), bty=\"n\")\n",
    "\n",
    "hist(samp[[1]][,1], xlab=\"samples of mu\", main=\"mu\")\n",
    "lines(x, dnorm(x, mean=mu0, sd=sqrt(s20)), \n",
    "      col=2, lty=2, lwd=2) ## prior\n",
    "\n",
    "x2<-seq(0, 200, length=1000)\n",
    "hist(1/samp[[1]][,2], xlab=\"samples of tau\", main=\"tau\")\n",
    "lines(x2, dgamma(x2, shape = a, rate = b), \n",
    "      col=2, lty=2, lwd=2) ## prior"
   ]
  },
  {
   "cell_type": "markdown",
   "metadata": {},
   "source": [
    "We also want to look at the joint distribution of $\\mu$ and $\\sigma^2$:"
   ]
  },
  {
   "cell_type": "code",
   "execution_count": 74,
   "metadata": {},
   "outputs": [
    {
     "ename": "ERROR",
     "evalue": "Error in plot(as.numeric(samp[[1]][, 1]), samp[[1]][, 2], xlab = \"mu\", : object 'samp' not found\n",
     "output_type": "error",
     "traceback": [
      "Error in plot(as.numeric(samp[[1]][, 1]), samp[[1]][, 2], xlab = \"mu\", : object 'samp' not found\nTraceback:\n",
      "1. plot(as.numeric(samp[[1]][, 1]), samp[[1]][, 2], xlab = \"mu\", \n .     ylab = \"s2\")"
     ]
    }
   ],
   "source": [
    "plot(as.numeric(samp[[1]][,1]), samp[[1]][,2], xlab=\"mu\", ylab=\"s2\")"
   ]
  },
  {
   "cell_type": "markdown",
   "metadata": {},
   "source": [
    "### Exercise: Updating the Bayesian model\n",
    "\n",
    "Redo the previous analysis placing a gamma prior on $\\mu$ as well. Set the prior so that the mean and variance are the same as in the normal example from above (use moment matching). Do you get something similar?"
   ]
  },
  {
   "cell_type": "markdown",
   "metadata": {},
   "source": [
    "### Aedes data revisited using Bayesian fitting\n",
    "\n",
    "Now let's do some Bayesian model fitting to *Aedes* thermal performance data. Lets try out the `R2jags` package for this."
   ]
  },
  {
   "cell_type": "code",
   "execution_count": 75,
   "metadata": {},
   "outputs": [
    {
     "name": "stderr",
     "output_type": "stream",
     "text": [
      "Loading required package: R2jags\n",
      "Loading required package: rjags\n",
      "Error: package or namespace load failed for ‘rjags’:\n",
      " .onLoad failed in loadNamespace() for 'rjags', details:\n",
      "  call: load.module(\"basemod\", quiet = TRUE)\n",
      "  error: File not found: /usr/lib/JAGS/modules-4/basemod.so\n"
     ]
    }
   ],
   "source": [
    "require(R2jags) # fitting\n",
    "require(coda) # diagnostic plots\n",
    "set.seed(1234)"
   ]
  },
  {
   "cell_type": "markdown",
   "metadata": {},
   "source": [
    "Load the data:"
   ]
  },
  {
   "cell_type": "code",
   "execution_count": 76,
   "metadata": {},
   "outputs": [],
   "source": [
    "Aaeg.data <- read.csv(\"../data/AeaegyptiTraitData.csv\")"
   ]
  },
  {
   "cell_type": "markdown",
   "metadata": {},
   "source": [
    "#### The Data\n",
    "\n",
    "These data are traits from *Aedes aegypti* mosquitoes measured across temperature in lab experiments. The traits we have data on thermal performance are:\n",
    "- pEA: proportion surviving from egg to adulthood  \n",
    "- MDR: mosquito development rate  \n",
    "- PDR: parasite development rate (= 1/EIP the extrinsic incubation period)  \n",
    "- $\\mu$ (mu): death rate (= 1/longevity)  \n",
    "\n",
    "Note that some of the traits come in multiple forms (e.g., $\\mu$ and 1/$\\mu$, PDR and EIP).\n",
    "\n",
    "Have a look at the data:"
   ]
  },
  {
   "cell_type": "code",
   "execution_count": 77,
   "metadata": {},
   "outputs": [
    {
     "data": {
      "text/html": [
       "<table>\n",
       "<thead><tr><th scope=col>trait.name</th><th scope=col>T</th><th scope=col>trait</th><th scope=col>ref</th><th scope=col>trait2</th><th scope=col>trait2.name</th></tr></thead>\n",
       "<tbody>\n",
       "\t<tr><td>pEA                  </td><td>22                   </td><td>0.90812              </td><td>Westbrook_Thesis_2010</td><td>NA                   </td><td>NA                   </td></tr>\n",
       "\t<tr><td>pEA                  </td><td>27                   </td><td>0.93590              </td><td>Westbrook_Thesis_2010</td><td>NA                   </td><td>NA                   </td></tr>\n",
       "\t<tr><td>pEA                  </td><td>32                   </td><td>0.81944              </td><td>Westbrook_Thesis_2010</td><td>NA                   </td><td>NA                   </td></tr>\n",
       "\t<tr><td>MDR                  </td><td>22                   </td><td>0.09174              </td><td>Westbrook_Thesis_2010</td><td>NA                   </td><td>NA                   </td></tr>\n",
       "\t<tr><td>MDR                  </td><td>27                   </td><td>0.13587              </td><td>Westbrook_Thesis_2010</td><td>NA                   </td><td>NA                   </td></tr>\n",
       "\t<tr><td>MDR                  </td><td>32                   </td><td>0.15823              </td><td>Westbrook_Thesis_2010</td><td>NA                   </td><td>NA                   </td></tr>\n",
       "</tbody>\n",
       "</table>\n"
      ],
      "text/latex": [
       "\\begin{tabular}{r|llllll}\n",
       " trait.name & T & trait & ref & trait2 & trait2.name\\\\\n",
       "\\hline\n",
       "\t pEA                       & 22                        & 0.90812                   & Westbrook\\_Thesis\\_2010 & NA                        & NA                       \\\\\n",
       "\t pEA                       & 27                        & 0.93590                   & Westbrook\\_Thesis\\_2010 & NA                        & NA                       \\\\\n",
       "\t pEA                       & 32                        & 0.81944                   & Westbrook\\_Thesis\\_2010 & NA                        & NA                       \\\\\n",
       "\t MDR                       & 22                        & 0.09174                   & Westbrook\\_Thesis\\_2010 & NA                        & NA                       \\\\\n",
       "\t MDR                       & 27                        & 0.13587                   & Westbrook\\_Thesis\\_2010 & NA                        & NA                       \\\\\n",
       "\t MDR                       & 32                        & 0.15823                   & Westbrook\\_Thesis\\_2010 & NA                        & NA                       \\\\\n",
       "\\end{tabular}\n"
      ],
      "text/markdown": [
       "\n",
       "trait.name | T | trait | ref | trait2 | trait2.name | \n",
       "|---|---|---|---|---|---|\n",
       "| pEA                   | 22                    | 0.90812               | Westbrook_Thesis_2010 | NA                    | NA                    | \n",
       "| pEA                   | 27                    | 0.93590               | Westbrook_Thesis_2010 | NA                    | NA                    | \n",
       "| pEA                   | 32                    | 0.81944               | Westbrook_Thesis_2010 | NA                    | NA                    | \n",
       "| MDR                   | 22                    | 0.09174               | Westbrook_Thesis_2010 | NA                    | NA                    | \n",
       "| MDR                   | 27                    | 0.13587               | Westbrook_Thesis_2010 | NA                    | NA                    | \n",
       "| MDR                   | 32                    | 0.15823               | Westbrook_Thesis_2010 | NA                    | NA                    | \n",
       "\n",
       "\n"
      ],
      "text/plain": [
       "  trait.name T  trait   ref                   trait2 trait2.name\n",
       "1 pEA        22 0.90812 Westbrook_Thesis_2010 NA     NA         \n",
       "2 pEA        27 0.93590 Westbrook_Thesis_2010 NA     NA         \n",
       "3 pEA        32 0.81944 Westbrook_Thesis_2010 NA     NA         \n",
       "4 MDR        22 0.09174 Westbrook_Thesis_2010 NA     NA         \n",
       "5 MDR        27 0.13587 Westbrook_Thesis_2010 NA     NA         \n",
       "6 MDR        32 0.15823 Westbrook_Thesis_2010 NA     NA         "
      ]
     },
     "metadata": {},
     "output_type": "display_data"
    }
   ],
   "source": [
    "head(Aaeg.data)"
   ]
  },
  {
   "cell_type": "code",
   "execution_count": 78,
   "metadata": {},
   "outputs": [
    {
     "data": {
      "image/png": "[encoded data removed]",
      "text/plain": [
       "plot without title"
      ]
     },
     "metadata": {},
     "output_type": "display_data"
    }
   ],
   "source": [
    "mu.data <- subset(Aaeg.data, trait.name == \"mu\")\n",
    "lf.data <- subset(Aaeg.data, trait.name == \"1/mu\")\n",
    "par(mfrow=c(1,2), bty=\"l\") \n",
    "plot(trait ~ T, data = mu.data, ylab=\"mu\")\n",
    "plot(trait ~ T, data = lf.data, ylab=\"1/mu\")"
   ]
  },
  {
   "cell_type": "markdown",
   "metadata": {},
   "source": [
    "Note that the $\\mu$ data is u-shaped and the lifespan data is unimodal (hump-shaped).  \n",
    "\n",
    "Since thermal biology theory is based on unimodal thermal responses, we want to fit the trait as lifespan instead of $\\mu$. Thus, we'll need to convert the $\\mu$ data to lifespan by taking the inverse. The combined data should have a nice unimodal shape that we can fit a function to:"
   ]
  },
  {
   "cell_type": "code",
   "execution_count": 79,
   "metadata": {},
   "outputs": [
    {
     "data": {
      "image/png": "[encoded data removed]",
      "text/plain": [
       "plot without title"
      ]
     },
     "metadata": {},
     "output_type": "display_data"
    }
   ],
   "source": [
    "mu.data.inv <- mu.data # make a copy of the mu data\n",
    "mu.data.inv$trait <- 1/mu.data$trait # take the inverse of the trait values to convert mu to lifespan\n",
    "lf.data.comb <- rbind(mu.data.inv, lf.data) # combine both lifespan data sets together \n",
    "  \n",
    "plot(trait ~ T, data = lf.data.comb, ylab=\"1/mu\")"
   ]
  },
  {
   "cell_type": "markdown",
   "metadata": {},
   "source": [
    "#### Two thermal performance curve models\n",
    "Most thermal response curves can be reasonably fit using one of two thermal reponses. Traits that respond unimodally but symmetrically to temperature can be fit with a quadratic function:\n",
    "\n",
    "$ B = q (T-T_0) (T-T_m)$  \n",
    "\n",
    "Traits that respond unimodally but asymetrically can be fited with a Briere function:\n",
    "\n",
    "$B = q T (T-T_0) \\sqrt{T_m-T}$\n",
    "\n",
    "In both models, $T_0$ is the lower thermal limit, $T_m$ is the upper thermal limit (i.e., where the trait value goes to zero on either end), and $q$ scales the elevation of the curve, (and so also the value at the optimum temperature).   \n",
    "\n",
    "\n",
    "#### The thermal response model file\n",
    "Unlike the previous bayesian \\example, here we will provide jags with the model written as a `.txt` file. THis can be in your working directory, or elsewhere (but then inout the full path to it --- ideally a relative path). \n",
    "\n",
    "You can either write the text yourself directly to the file, or create it using the sink() function via your R script (see below):"
   ]
  },
  {
   "cell_type": "raw",
   "metadata": {},
   "source": [
    "sink(\"../code/quad.txt\")\n",
    "cat(\"\n",
    "    model{\n",
    "    \n",
    "    ## Priors\n",
    "    cf.q ~ dunif(0, 1)\n",
    "    cf.T0 ~ dunif(0, 24)\n",
    "    cf.Tm ~ dunif(25, 45)\n",
    "    cf.sigma ~ dunif(0, 1000)\n",
    "    cf.tau <- 1 / (cf.sigma * cf.sigma)\n",
    "    \n",
    "    ## Likelihood\n",
    "    for(i in 1:N.obs){\n",
    "    trait.mu[i] <- -1 * cf.q * (temp[i] - cf.T0) * (temp[i] - cf.Tm) * (cf.Tm > temp[i]) * (cf.T0 < temp[i])\n",
    "    trait[i] ~ dnorm(trait.mu[i], cf.tau)\n",
    "    }\n",
    "    \n",
    "    ## Derived Quantities and Predictions\n",
    "    for(i in 1:N.Temp.xs){\n",
    "    z.trait.mu.pred[i] <- -1 * cf.q * (Temp.xs[i] - cf.T0) * (Temp.xs[i] - cf.Tm) * (cf.Tm > Temp.xs[i]) * (cf.T0 < Temp.xs[i])\n",
    "    }\n",
    "    } # close model\n",
    "\",fill=T)\n",
    "sink()"
   ]
  },
  {
   "cell_type": "markdown",
   "metadata": {},
   "source": [
    "Note that the model file `quad.txt` has two mandatory sections (the priors and the likelihood) and one optional section (derived measures calculated from your fitted parameters).\n",
    "\n",
    "In the example below for a quadratic function, most of the priors are specified via uniform distributions (the two arguments specific the lower and upper bounds, respectively). Note that unlike in R and most other programs, in jags, the inverse of the variance of the normal distribution is used, denoted by $\\tau (= \\frac{1}{\\sigma^2}$).  \n",
    "\n",
    "The likelihood for can be interpreted as follows: the observed data are normally distributed where the mean at a given temperature follows the quadratic equation."
   ]
  },
  {
   "cell_type": "markdown",
   "metadata": {},
   "source": [
    "Now, prepare the data for jags: "
   ]
  },
  {
   "cell_type": "code",
   "execution_count": 80,
   "metadata": {},
   "outputs": [],
   "source": [
    "# Parameters to Estimate\n",
    "parameters <- c(\"cf.q\", \"cf.T0\", \"cf.Tm\",\"cf.sigma\", \"z.trait.mu.pred\")\n",
    "\n",
    "# Initial values for the parameters\n",
    "inits<-function(){list(\n",
    "  cf.q = 0.01,\n",
    "  cf.Tm = 35,\n",
    "  cf.T0 = 5,\n",
    "  cf.sigma = rlnorm(1))}\n",
    "\n",
    "# MCMC Settings: number of posterior dist elements = [(ni - nb) / nt ] * nc\n",
    "ni <- 25000 # number of iterations in each chain\n",
    "nb <- 5000 # number of 'burn in' iterations to discard\n",
    "nt <- 8 # thinning rate - jags saves every nt iterations in each chain\n",
    "nc <- 3 # number of chains\n",
    "\n",
    "# Temperature sequence for derived quantity calculations\n",
    "Temp.xs <- seq(0, 45, 0.2)\n",
    "N.Temp.xs <-length(Temp.xs)\n",
    "\n",
    "### Fitting the trait thermal response; Pull out data columns as vectors\n",
    "data <- lf.data.comb # this lets us reuse the same generic code: we only change this first line\n",
    "trait <- data$trait\n",
    "N.obs <- length(trait)\n",
    "temp <- data$T\n",
    "\n",
    "# Bundle all data in a list for JAGS\n",
    "jag.data<-list(trait = trait, N.obs = N.obs, temp = temp, Temp.xs = Temp.xs, N.Temp.xs = N.Temp.xs)"
   ]
  },
  {
   "cell_type": "markdown",
   "metadata": {},
   "source": [
    "Now run the fitting using jags:"
   ]
  },
  {
   "cell_type": "code",
   "execution_count": 81,
   "metadata": {},
   "outputs": [
    {
     "ename": "ERROR",
     "evalue": "Error in jags(data = jag.data, inits = inits, parameters.to.save = parameters, : could not find function \"jags\"\n",
     "output_type": "error",
     "traceback": [
      "Error in jags(data = jag.data, inits = inits, parameters.to.save = parameters, : could not find function \"jags\"\nTraceback:\n"
     ]
    }
   ],
   "source": [
    "lf.fit <- jags(data=jag.data, inits=inits, parameters.to.save=parameters, \n",
    "               model.file=\"quad.txt\", n.thin=nt, n.chains=nc, n.burnin=nb, \n",
    "               n.iter=ni, DIC=T, working.directory=getwd())"
   ]
  },
  {
   "cell_type": "markdown",
   "metadata": {},
   "source": [
    "Change into \"mcmc\" type samples for visualization with the `coda` package:"
   ]
  },
  {
   "cell_type": "code",
   "execution_count": 82,
   "metadata": {},
   "outputs": [
    {
     "ename": "ERROR",
     "evalue": "Error in as.mcmc(lf.fit): object 'lf.fit' not found\n",
     "output_type": "error",
     "traceback": [
      "Error in as.mcmc(lf.fit): object 'lf.fit' not found\nTraceback:\n",
      "1. as.mcmc(lf.fit)"
     ]
    }
   ],
   "source": [
    "lf.fit.mcmc <- as.mcmc(lf.fit)"
   ]
  },
  {
   "cell_type": "markdown",
   "metadata": {},
   "source": [
    "#### Running diagnostics\n",
    "\n",
    "View the parameters (only the first 5 lines, or it will also show you all of your derived quantities):"
   ]
  },
  {
   "cell_type": "code",
   "execution_count": 83,
   "metadata": {},
   "outputs": [
    {
     "ename": "ERROR",
     "evalue": "Error in eval(expr, envir, enclos): object 'lf.fit' not found\n",
     "output_type": "error",
     "traceback": [
      "Error in eval(expr, envir, enclos): object 'lf.fit' not found\nTraceback:\n"
     ]
    }
   ],
   "source": [
    "lf.fit$BUGSoutput$summary[1:5,]"
   ]
  },
  {
   "cell_type": "markdown",
   "metadata": {},
   "source": [
    "Plot the chains:"
   ]
  },
  {
   "cell_type": "code",
   "execution_count": 84,
   "metadata": {
    "scrolled": true
   },
   "outputs": [
    {
     "ename": "ERROR",
     "evalue": "Error in plot(lf.fit.mcmc[, c(1, 3, 4)]): object 'lf.fit.mcmc' not found\n",
     "output_type": "error",
     "traceback": [
      "Error in plot(lf.fit.mcmc[, c(1, 3, 4)]): object 'lf.fit.mcmc' not found\nTraceback:\n",
      "1. plot(lf.fit.mcmc[, c(1, 3, 4)])"
     ]
    }
   ],
   "source": [
    "plot(lf.fit.mcmc[,c(1,3,4)])"
   ]
  },
  {
   "cell_type": "markdown",
   "metadata": {},
   "source": [
    "#### Plot the fits"
   ]
  },
  {
   "cell_type": "code",
   "execution_count": 85,
   "metadata": {},
   "outputs": [
    {
     "ename": "ERROR",
     "evalue": "Error in eval(predvars, data, env): object 'lf.fit' not found\n",
     "output_type": "error",
     "traceback": [
      "Error in eval(predvars, data, env): object 'lf.fit' not found\nTraceback:\n",
      "1. lines(lf.fit$BUGSoutput$summary[6:(6 + N.Temp.xs - 1), \"2.5%\"] ~ \n .     Temp.xs, lty = 2)",
      "2. lines.formula(lf.fit$BUGSoutput$summary[6:(6 + N.Temp.xs - 1), \n .     \"2.5%\"] ~ Temp.xs, lty = 2)",
      "3. eval(m, eframe)",
      "4. eval(m, eframe)",
      "5. (function (formula, data = NULL, subset = NULL, na.action = na.fail, \n .     drop.unused.levels = FALSE, xlev = NULL, ...) \n . {\n .     possible_newdata <- !missing(data) && is.data.frame(data) && \n .         identical(substitute(data), quote(newdata)) && (nr <- nrow(data)) > \n .         0\n .     if (!missing(formula) && nargs() == 1 && is.list(formula) && \n .         !is.null(m <- formula$model)) \n .         return(m)\n .     if (!missing(formula) && nargs() == 1 && is.list(formula) && \n .         all(c(\"terms\", \"call\") %in% names(formula))) {\n .         fcall <- formula$call\n .         m <- match(c(\"formula\", \"data\", \"subset\", \"weights\", \n .             \"na.action\"), names(fcall), 0)\n .         fcall <- fcall[c(1, m)]\n .         fcall[[1L]] <- quote(stats::model.frame)\n .         env <- environment(formula$terms)\n .         if (is.null(env)) \n .             env <- parent.frame()\n .         return(eval(fcall, env))\n .     }\n .     if (missing(formula)) {\n .         if (!missing(data) && inherits(data, \"data.frame\") && \n .             length(attr(data, \"terms\"))) \n .             return(data)\n .         formula <- as.formula(data)\n .     }\n .     else if (missing(data) && inherits(formula, \"data.frame\")) {\n .         if (length(attr(formula, \"terms\"))) \n .             return(formula)\n .         data <- formula\n .         formula <- as.formula(data)\n .     }\n .     formula <- as.formula(formula)\n .     if (missing(na.action)) {\n .         if (!is.null(naa <- attr(data, \"na.action\")) & mode(naa) != \n .             \"numeric\") \n .             na.action <- naa\n .         else if (!is.null(naa <- getOption(\"na.action\"))) \n .             na.action <- naa\n .     }\n .     if (missing(data)) \n .         data <- environment(formula)\n .     else if (!is.data.frame(data) && !is.environment(data) && \n .         !is.null(attr(data, \"class\"))) \n .         data <- as.data.frame(data)\n .     else if (is.array(data)) \n .         stop(\"'data' must be a data.frame, not a matrix or an array\")\n .     if (!inherits(formula, \"terms\")) \n .         formula <- terms(formula, data = data)\n .     env <- environment(formula)\n .     rownames <- .row_names_info(data, 0L)\n .     vars <- attr(formula, \"variables\")\n .     predvars <- attr(formula, \"predvars\")\n .     if (is.null(predvars)) \n .         predvars <- vars\n .     varnames <- sapply(vars, function(x) paste(deparse(x, width.cutoff = 500), \n .         collapse = \" \"))[-1L]\n .     variables <- eval(predvars, data, env)\n .     resp <- attr(formula, \"response\")\n .     if (is.null(rownames) && resp > 0L) {\n .         lhs <- variables[[resp]]\n .         rownames <- if (is.matrix(lhs)) \n .             rownames(lhs)\n .         else names(lhs)\n .     }\n .     if (possible_newdata && length(variables)) {\n .         nr2 <- max(sapply(variables, NROW))\n .         if (nr2 != nr) \n .             warning(sprintf(paste0(ngettext(nr, \"'newdata' had %d row\", \n .                 \"'newdata' had %d rows\"), \" \", ngettext(nr2, \n .                 \"but variable found had %d row\", \"but variables found have %d rows\")), \n .                 nr, nr2), call. = FALSE, domain = NA)\n .     }\n .     if (is.null(attr(formula, \"predvars\"))) {\n .         for (i in seq_along(varnames)) predvars[[i + 1L]] <- makepredictcall(variables[[i]], \n .             vars[[i + 1L]])\n .         attr(formula, \"predvars\") <- predvars\n .     }\n .     extras <- substitute(list(...))\n .     extranames <- names(extras[-1L])\n .     extras <- eval(extras, data, env)\n .     subset <- eval(substitute(subset), data, env)\n .     data <- .External2(C_modelframe, formula, rownames, variables, \n .         varnames, extras, extranames, subset, na.action)\n .     if (length(xlev)) {\n .         for (nm in names(xlev)) if (!is.null(xl <- xlev[[nm]])) {\n .             xi <- data[[nm]]\n .             if (is.character(xi)) \n .                 xi <- as.factor(xi)\n .             if (!is.factor(xi) || is.null(nxl <- levels(xi))) \n .                 warning(gettextf(\"variable '%s' is not a factor\", \n .                   nm), domain = NA)\n .             else {\n .                 ctr <- attr(xi, \"contrasts\")\n .                 xi <- xi[, drop = TRUE]\n .                 nxl <- levels(xi)\n .                 if (any(m <- is.na(match(nxl, xl)))) \n .                   stop(sprintf(ngettext(length(m), \"factor %s has new level %s\", \n .                     \"factor %s has new levels %s\"), nm, paste(nxl[m], \n .                     collapse = \", \")), domain = NA)\n .                 data[[nm]] <- factor(xi, levels = xl, exclude = NULL)\n .                 if (!identical(attr(data[[nm]], \"contrasts\"), \n .                   ctr)) \n .                   warning(gettext(sprintf(\"contrasts dropped from factor %s\", \n .                     nm), domain = NA), call. = FALSE)\n .             }\n .         }\n .     }\n .     else if (drop.unused.levels) {\n .         for (nm in names(data)) {\n .             x <- data[[nm]]\n .             if (is.factor(x) && length(unique(x[!is.na(x)])) < \n .                 length(levels(x))) {\n .                 ctr <- attr(x, \"contrasts\")\n .                 data[[nm]] <- x[, drop = TRUE]\n .                 if (!identical(attr(data[[nm]], \"contrasts\"), \n .                   ctr)) \n .                   warning(gettext(sprintf(\"contrasts dropped from factor %s due to missing levels\", \n .                     nm), domain = NA), call. = FALSE)\n .             }\n .         }\n .     }\n .     attr(formula, \"dataClasses\") <- vapply(data, .MFclass, \"\")\n .     attr(data, \"terms\") <- formula\n .     data\n . })(formula = lf.fit$BUGSoutput$summary[6:(6 + N.Temp.xs - 1), \n .     \"2.5%\"] ~ Temp.xs, na.action = NULL)",
      "6. eval(predvars, data, env)",
      "7. eval(predvars, data, env)"
     ]
    },
    {
     "data": {
      "image/png": "[encoded data removed]",
      "text/plain": [
       "plot without title"
      ]
     },
     "metadata": {},
     "output_type": "display_data"
    }
   ],
   "source": [
    "plot(trait ~ T, xlim = c(0, 45), ylim = c(0,42), data = lf.data.comb, ylab = \"Lifespan for Ae. aegypti\", xlab = \"Temperature\")\n",
    "lines(lf.fit$BUGSoutput$summary[6:(6 + N.Temp.xs - 1), \"2.5%\"] ~ Temp.xs, lty = 2)\n",
    "lines(lf.fit$BUGSoutput$summary[6:(6 + N.Temp.xs - 1), \"97.5%\"] ~ Temp.xs, lty = 2)\n",
    "lines(lf.fit$BUGSoutput$summary[6:(6 + N.Temp.xs - 1), \"mean\"] ~ Temp.xs)"
   ]
  },
  {
   "cell_type": "markdown",
   "metadata": {},
   "source": [
    "#### Additional analyses\n",
    "\n",
    "You can use the `which.max()` function to find the optimal temperature for adult lifespan:"
   ]
  },
  {
   "cell_type": "code",
   "execution_count": 86,
   "metadata": {},
   "outputs": [
    {
     "ename": "ERROR",
     "evalue": "Error in as.vector(lf.fit$BUGSoutput$summary[6:(6 + N.Temp.xs - 1), \"mean\"]): object 'lf.fit' not found\n",
     "output_type": "error",
     "traceback": [
      "Error in as.vector(lf.fit$BUGSoutput$summary[6:(6 + N.Temp.xs - 1), \"mean\"]): object 'lf.fit' not found\nTraceback:\n",
      "1. which.max(as.vector(lf.fit$BUGSoutput$summary[6:(6 + N.Temp.xs - \n .     1), \"mean\"]))",
      "2. as.vector(lf.fit$BUGSoutput$summary[6:(6 + N.Temp.xs - 1), \"mean\"])"
     ]
    }
   ],
   "source": [
    "Temp.xs[which.max(as.vector(lf.fit$BUGSoutput$summary[6:(6 + N.Temp.xs - 1), \"mean\"]))]"
   ]
  },
  {
   "cell_type": "markdown",
   "metadata": {},
   "source": [
    "You can also pull out the lifespan values for each iteration of the MCMC chain over the temperature gradient to calculate $R_0$:"
   ]
  },
  {
   "cell_type": "code",
   "execution_count": 87,
   "metadata": {
    "scrolled": false
   },
   "outputs": [
    {
     "ename": "ERROR",
     "evalue": "Error in eval(expr, envir, enclos): object 'lf.fit' not found\n",
     "output_type": "error",
     "traceback": [
      "Error in eval(expr, envir, enclos): object 'lf.fit' not found\nTraceback:\n"
     ]
    }
   ],
   "source": [
    "lf.grad <- lf.fit$BUGSoutput$sims.list$z.trait.mu.pred\n",
    "dim(lf.grad) # A matrix with 7500 iterations of the MCMC chains at 226 temperatures"
   ]
  },
  {
   "cell_type": "markdown",
   "metadata": {},
   "source": [
    "### A Bayesian model fitting of abundance data\n",
    "\n",
    "We will now perform a bayesian analysis of population growth data.   "
   ]
  },
  {
   "cell_type": "code",
   "execution_count": 88,
   "metadata": {},
   "outputs": [
    {
     "name": "stderr",
     "output_type": "stream",
     "text": [
      "Loading required package: R2jags\n",
      "Loading required package: rjags\n",
      "Error: package or namespace load failed for ‘rjags’:\n",
      " .onLoad failed in loadNamespace() for 'rjags', details:\n",
      "  call: load.module(\"basemod\", quiet = TRUE)\n",
      "  error: File not found: /usr/lib/JAGS/modules-4/basemod.so\n",
      "Loading required package: grid\n",
      "Loading required package: lattice\n"
     ]
    }
   ],
   "source": [
    "require(R2jags) # does the fitting\n",
    "require(coda) # makes diagnostic plots\n",
    "library(IDPmisc) # makes nice colored pairs plots to look at joint posteriors"
   ]
  },
  {
   "cell_type": "markdown",
   "metadata": {},
   "source": [
    "#### The Data\n",
    "\n",
    "These data are observations of the amphibian fungal pathogen  _Batrachochytrium dendrobatidis_ being grown in liquid culture at multiple different temperatures. The experiment is conducted in 96 well plates with a fixed initial innoculation of fungal spores in each well, and the plate placed in a constant temperature incubator. Each day, 8 wells per plate are observed and the optical density (OD) is measured. We will focus on a single temperature trial across mulitple plates with OD as the response. \n",
    "\n",
    "We will fit a logistic model to these growth data. \n",
    "\n",
    "Let's have a look at the data first:"
   ]
  },
  {
   "cell_type": "code",
   "execution_count": 89,
   "metadata": {},
   "outputs": [
    {
     "data": {
      "text/html": [
       "<table>\n",
       "<thead><tr><th scope=col>X</th><th scope=col>EXP</th><th scope=col>TEMP</th><th scope=col>DAY</th><th scope=col>ISOLATE</th><th scope=col>PLATE</th><th scope=col>WELL</th><th scope=col>OD</th><th scope=col>NC_AVG</th><th scope=col>OD_SUB</th></tr></thead>\n",
       "<tbody>\n",
       "\t<tr><td>1     </td><td>2     </td><td>5     </td><td>1     </td><td>LB_AB </td><td>P.16  </td><td>1     </td><td>0.120 </td><td>0.1195</td><td>0.0005</td></tr>\n",
       "\t<tr><td>2     </td><td>2     </td><td>5     </td><td>1     </td><td>LB_AB </td><td>P.16  </td><td>2     </td><td>0.120 </td><td>0.1195</td><td>0.0005</td></tr>\n",
       "\t<tr><td>3     </td><td>2     </td><td>5     </td><td>1     </td><td>LB_AB </td><td>P.16  </td><td>3     </td><td>0.122 </td><td>0.1195</td><td>0.0025</td></tr>\n",
       "\t<tr><td>4     </td><td>2     </td><td>5     </td><td>1     </td><td>LB_AB </td><td>P.16  </td><td>4     </td><td>0.123 </td><td>0.1195</td><td>0.0035</td></tr>\n",
       "\t<tr><td>5     </td><td>2     </td><td>5     </td><td>1     </td><td>LB_AB </td><td>P.16  </td><td>5     </td><td>0.125 </td><td>0.1195</td><td>0.0055</td></tr>\n",
       "\t<tr><td>6     </td><td>2     </td><td>5     </td><td>1     </td><td>LB_AB </td><td>P.16  </td><td>6     </td><td>0.125 </td><td>0.1195</td><td>0.0055</td></tr>\n",
       "</tbody>\n",
       "</table>\n"
      ],
      "text/latex": [
       "\\begin{tabular}{r|llllllllll}\n",
       " X & EXP & TEMP & DAY & ISOLATE & PLATE & WELL & OD & NC\\_AVG & OD\\_SUB\\\\\n",
       "\\hline\n",
       "\t 1       & 2       & 5       & 1       & LB\\_AB & P.16    & 1       & 0.120   & 0.1195  & 0.0005 \\\\\n",
       "\t 2       & 2       & 5       & 1       & LB\\_AB & P.16    & 2       & 0.120   & 0.1195  & 0.0005 \\\\\n",
       "\t 3       & 2       & 5       & 1       & LB\\_AB & P.16    & 3       & 0.122   & 0.1195  & 0.0025 \\\\\n",
       "\t 4       & 2       & 5       & 1       & LB\\_AB & P.16    & 4       & 0.123   & 0.1195  & 0.0035 \\\\\n",
       "\t 5       & 2       & 5       & 1       & LB\\_AB & P.16    & 5       & 0.125   & 0.1195  & 0.0055 \\\\\n",
       "\t 6       & 2       & 5       & 1       & LB\\_AB & P.16    & 6       & 0.125   & 0.1195  & 0.0055 \\\\\n",
       "\\end{tabular}\n"
      ],
      "text/markdown": [
       "\n",
       "X | EXP | TEMP | DAY | ISOLATE | PLATE | WELL | OD | NC_AVG | OD_SUB | \n",
       "|---|---|---|---|---|---|\n",
       "| 1      | 2      | 5      | 1      | LB_AB  | P.16   | 1      | 0.120  | 0.1195 | 0.0005 | \n",
       "| 2      | 2      | 5      | 1      | LB_AB  | P.16   | 2      | 0.120  | 0.1195 | 0.0005 | \n",
       "| 3      | 2      | 5      | 1      | LB_AB  | P.16   | 3      | 0.122  | 0.1195 | 0.0025 | \n",
       "| 4      | 2      | 5      | 1      | LB_AB  | P.16   | 4      | 0.123  | 0.1195 | 0.0035 | \n",
       "| 5      | 2      | 5      | 1      | LB_AB  | P.16   | 5      | 0.125  | 0.1195 | 0.0055 | \n",
       "| 6      | 2      | 5      | 1      | LB_AB  | P.16   | 6      | 0.125  | 0.1195 | 0.0055 | \n",
       "\n",
       "\n"
      ],
      "text/plain": [
       "  X EXP TEMP DAY ISOLATE PLATE WELL OD    NC_AVG OD_SUB\n",
       "1 1 2   5    1   LB_AB   P.16  1    0.120 0.1195 0.0005\n",
       "2 2 2   5    1   LB_AB   P.16  2    0.120 0.1195 0.0005\n",
       "3 3 2   5    1   LB_AB   P.16  3    0.122 0.1195 0.0025\n",
       "4 4 2   5    1   LB_AB   P.16  4    0.123 0.1195 0.0035\n",
       "5 5 2   5    1   LB_AB   P.16  5    0.125 0.1195 0.0055\n",
       "6 6 2   5    1   LB_AB   P.16  6    0.125 0.1195 0.0055"
      ]
     },
     "metadata": {},
     "output_type": "display_data"
    }
   ],
   "source": [
    "dat <- read.csv(\"../data/lb_ab_temps.csv\")\n",
    "head(dat)"
   ]
  },
  {
   "cell_type": "markdown",
   "metadata": {},
   "source": [
    "We are only interested in a subset of these data, so we will subset out only those from experiment 2, and a temperature of 12$^\\circ$C."
   ]
  },
  {
   "cell_type": "code",
   "execution_count": 90,
   "metadata": {},
   "outputs": [
    {
     "data": {
      "text/plain": [
       "      EXP         TEMP         DAY         ISOLATE        PLATE    \n",
       " Min.   :2   Min.   :12   Min.   : 1.00   LB_AB:730   P.11   :160  \n",
       " 1st Qu.:2   1st Qu.:12   1st Qu.: 9.00               P.12   :150  \n",
       " Median :2   Median :12   Median :19.00               P.13   :150  \n",
       " Mean   :2   Mean   :12   Mean   :19.04               P.14   :140  \n",
       " 3rd Qu.:2   3rd Qu.:12   3rd Qu.:29.00               P.15   :130  \n",
       " Max.   :2   Max.   :12   Max.   :39.00               P.1    :  0  \n",
       "                                                      (Other):  0  \n",
       "      WELL             OD        \n",
       " Min.   :1.000   Min.   :0.0930  \n",
       " 1st Qu.:2.000   1st Qu.:0.1630  \n",
       " Median :4.000   Median :0.2580  \n",
       " Mean   :4.315   Mean   :0.2437  \n",
       " 3rd Qu.:6.000   3rd Qu.:0.3170  \n",
       " Max.   :8.000   Max.   :0.4600  \n",
       "                                 "
      ]
     },
     "metadata": {},
     "output_type": "display_data"
    }
   ],
   "source": [
    "d2<-dat[which(dat$EXP==2),2:8]\n",
    "d2<-d2[which(d2$TEMP==12),]\n",
    "summary(d2)"
   ]
  },
  {
   "cell_type": "markdown",
   "metadata": {},
   "source": [
    "Now plot it:"
   ]
  },
  {
   "cell_type": "code",
   "execution_count": 91,
   "metadata": {},
   "outputs": [
    {
     "data": {
      "image/png": "[encoded data removed]",
      "text/plain": [
       "Plot with title “LB-AB isolate, T=12C”"
      ]
     },
     "metadata": {},
     "output_type": "display_data"
    }
   ],
   "source": [
    "Temps<-seq(0,max(d2$DAY)-1, by=0.05)\n",
    "mycol<-1   \n",
    "my.ylim<-c(0, 0.5)\n",
    "my.title<-\"LB-AB isolate, T=12C\"\n",
    "\n",
    "plot(d2$DAY-1, d2$OD, xlim=c(0,max(Temps)), ylim=my.ylim,\n",
    "    pch=(mycol+20),\n",
    "    xlab=\"time (days)\", ylab=\"\",\n",
    "    main=my.title,\n",
    "    col=mycol+1, cex=1.5)"
   ]
  },
  {
   "cell_type": "markdown",
   "metadata": {},
   "source": [
    "#### Specifying the growth curve\n",
    "\n",
    "Although logistic growth is often written as a differential equation, here we will work with the analytic solution of the model:\n",
    "\n",
    "$$\n",
    "\\mu(t) = \\frac{KY_0}{Y_0+(K-Y_0)\\exp{(-rt)}}\n",
    "$$\n",
    "\n",
    "This gives the mean function that we want to fit. We will assume log-normal noise around this response, as the optical density is bounded to be greater than 0 and since we also have increasing variance over time (as the optical density increases).\n",
    "\n",
    "\n",
    "#### The thermal response model file\n",
    "\n",
    "JAGS needs the model written as a `.txt` or `.bug` file inside the working directory. You can either make the text file directly, or create it using the `sink()` function in your R script, as follows:  "
   ]
  },
  {
   "cell_type": "raw",
   "metadata": {},
   "source": [
    "sink(\"jags-logistic.bug\")\n",
    "cat(\"\n",
    "  model {\n",
    "    \n",
    "    ## Likelihood\n",
    "    for (i in 1:N) {\n",
    "        Y[i] ~ dlnorm(log(mu[i]), tau)\n",
    "        mu[i] <- K*Y0/(Y0+(K-Y0)*exp(-r*t[i]))\n",
    "    }\n",
    "\n",
    "    ## Priors\n",
    "    r~dexp(1000)\n",
    "    K ~ dunif(0.01, 0.6)\n",
    "    Y0 ~ dunif(0.09, 0.15)\n",
    "    tau<-1/sigma^2\n",
    "    sigma ~ dexp(0.1)\n",
    "\n",
    "  } # close model\n",
    "    \",fill=T)\n",
    "sink()"
   ]
  },
  {
   "cell_type": "markdown",
   "metadata": {},
   "source": [
    "Note that the model file has two mandatory sections (the priors and the likelihood) and one optional section (derived quantiaties calculated from your fitted parameters).  \n",
    "\n",
    "In the example below we will build the model function with the log-normal likelihood for the logistic growth function. Priors are a combination of uniform and exponential distributions. As with the normal distribution, jags uses $\\tau$ to parameterize the variance of the normal distribution ($\\tau = 1/(\\sigma^2)$). However it can be easier to specify the prior on sigma directly. In this example we will generate posterior samples of derived quantities outside of JAGS (so you can see what this is actually doing).\n",
    "\n",
    "\n",
    "#### Additional settings for jags \n",
    "\n",
    "Now for some additional settings/specifications for jags:"
   ]
  },
  {
   "cell_type": "code",
   "execution_count": 92,
   "metadata": {},
   "outputs": [],
   "source": [
    "# Parameters to Estimate\n",
    "parameters <- c('Y0', 'K', 'r', 'sigma')\n",
    "\n",
    "# Initial values for the parameters\n",
    "inits<-function(){list(\n",
    "  Y0 = 0.1,\n",
    "  K = 0.4,\n",
    "  r = 0.1,\n",
    "  sigma = rlnorm(1))}\n",
    "\n",
    "# MCMC Settings: number of posterior dist elements = [(ni - nb) / nt ] * nc\n",
    "ni <- 6000 # number of iterations in each chain\n",
    "nb <- 1000 # number of 'burn in' iterations to discard\n",
    "nt <- 1 # thinning rate - jags saves every nt iterations in each chain\n",
    "nc <- 5 # number of chains"
   ]
  },
  {
   "cell_type": "markdown",
   "metadata": {},
   "source": [
    "#### Fitting the model\n",
    "\n",
    "Now we can run jags:"
   ]
  },
  {
   "cell_type": "code",
   "execution_count": 93,
   "metadata": {},
   "outputs": [
    {
     "ename": "ERROR",
     "evalue": "Error in jags(data = jag.data, inits = inits, parameters.to.save = parameters, : could not find function \"jags\"\n",
     "output_type": "error",
     "traceback": [
      "Error in jags(data = jag.data, inits = inits, parameters.to.save = parameters, : could not find function \"jags\"\nTraceback:\n"
     ]
    }
   ],
   "source": [
    "# Pull out data columns as vectors\n",
    "data <- d2 # this lets us reuse the same generic code: we only change this first line\n",
    "Y <- data$OD\n",
    "N <- length(Y)\n",
    "t <- data$DAY\n",
    "\n",
    "# Bundle all data in a list for JAGS\n",
    "jag.data<-list(Y = Y, N = N, t = t)\n",
    "\n",
    "# Run JAGS\n",
    "OD.12C <- jags(data=jag.data, inits=inits, parameters.to.save=parameters, \n",
    "               model.file=\"jags-logistic.bug\", n.thin=nt, n.chains=nc, n.burnin=nb, \n",
    "               n.iter=ni, DIC=T, working.directory=getwd())"
   ]
  },
  {
   "cell_type": "markdown",
   "metadata": {},
   "source": [
    "Change into \"mcmc\" type samples for visualization with `coda`:"
   ]
  },
  {
   "cell_type": "code",
   "execution_count": 94,
   "metadata": {},
   "outputs": [
    {
     "ename": "ERROR",
     "evalue": "Error in as.mcmc(OD.12C): object 'OD.12C' not found\n",
     "output_type": "error",
     "traceback": [
      "Error in as.mcmc(OD.12C): object 'OD.12C' not found\nTraceback:\n",
      "1. as.mcmc(OD.12C)"
     ]
    }
   ],
   "source": [
    "OD.12C.mcmc<-as.mcmc(OD.12C)"
   ]
  },
  {
   "cell_type": "markdown",
   "metadata": {},
   "source": [
    "#### Diagnostics\n",
    "\n",
    "As you did in the [Traits bayesian fitting example](#Aedes-data-revisited-using-Bayesian-fitting), there are a number of model diagnostics that we need to check. First we want to look at the chains and confirm that they look like \"fuzzy caterpillars\" -- no linear/non-linear patterns across the chains, low auto-correlation, etc.\n",
    "\n",
    "First view the fitted parameters:"
   ]
  },
  {
   "cell_type": "code",
   "execution_count": 95,
   "metadata": {},
   "outputs": [
    {
     "ename": "ERROR",
     "evalue": "Error in eval(expr, envir, enclos): object 'OD.12C' not found\n",
     "output_type": "error",
     "traceback": [
      "Error in eval(expr, envir, enclos): object 'OD.12C' not found\nTraceback:\n"
     ]
    }
   ],
   "source": [
    "OD.12C$BUGSoutput$summary"
   ]
  },
  {
   "cell_type": "markdown",
   "metadata": {},
   "source": [
    "Plot the chains using the coda package:"
   ]
  },
  {
   "cell_type": "code",
   "execution_count": 96,
   "metadata": {
    "scrolled": true
   },
   "outputs": [
    {
     "ename": "ERROR",
     "evalue": "Error in plot(OD.12C.mcmc[, c(1, 2, 4)]): object 'OD.12C.mcmc' not found\n",
     "output_type": "error",
     "traceback": [
      "Error in plot(OD.12C.mcmc[, c(1, 2, 4)]): object 'OD.12C.mcmc' not found\nTraceback:\n",
      "1. plot(OD.12C.mcmc[, c(1, 2, 4)])"
     ]
    }
   ],
   "source": [
    "plot(OD.12C.mcmc[,c(1,2,4)])"
   ]
  },
  {
   "cell_type": "markdown",
   "metadata": {},
   "source": [
    "We can examine the ACF of the chains as well, similarly to a time series:"
   ]
  },
  {
   "cell_type": "code",
   "execution_count": 97,
   "metadata": {},
   "outputs": [
    {
     "ename": "ERROR",
     "evalue": "Error in as.data.frame(OD.12C.mcmc[[1]]): object 'OD.12C.mcmc' not found\n",
     "output_type": "error",
     "traceback": [
      "Error in as.data.frame(OD.12C.mcmc[[1]]): object 'OD.12C.mcmc' not found\nTraceback:\n",
      "1. as.data.frame(OD.12C.mcmc[[1]])"
     ]
    }
   ],
   "source": [
    "s1<-as.data.frame(OD.12C.mcmc[[1]])\n",
    "par(mfrow=c(2,2))\n",
    "for(i in 2:5) acf(s1[,i], lag.max=20)"
   ]
  },
  {
   "cell_type": "markdown",
   "metadata": {},
   "source": [
    "There is still a bit of autocorrelation, but it isn't too bad. The chain for $\\sigma$ is mixing best. We could reduce the autocorrelation even further by thinning the chain (i.e., change the `nt` parameter to 5 or 10).\n",
    "\n",
    "The last important diagnostic is to compare the prior and posterior distributions. Various packages in R have bespoke functions to do this. Here we use functions that we provide in the `mcmc_utils.R` file provided on the website."
   ]
  },
  {
   "cell_type": "code",
   "execution_count": 98,
   "metadata": {},
   "outputs": [
    {
     "ename": "ERROR",
     "evalue": "Error: package or namespace load failed for ‘rjags’:\n .onLoad failed in loadNamespace() for 'rjags', details:\n  call: load.module(\"basemod\", quiet = TRUE)\n  error: File not found: /usr/lib/JAGS/modules-4/basemod.so\n",
     "output_type": "error",
     "traceback": [
      "Error: package or namespace load failed for ‘rjags’:\n .onLoad failed in loadNamespace() for 'rjags', details:\n  call: load.module(\"basemod\", quiet = TRUE)\n  error: File not found: /usr/lib/JAGS/modules-4/basemod.so\nTraceback:\n",
      "1. source(\"../code/mcmc_utils.R\")",
      "2. withVisible(eval(ei, envir))",
      "3. eval(ei, envir)",
      "4. eval(ei, envir)",
      "5. library(\"rjags\")",
      "6. tryCatch({\n .     attr(package, \"LibPath\") <- which.lib.loc\n .     ns <- loadNamespace(package, lib.loc)\n .     env <- attachNamespace(ns, pos = pos, deps)\n . }, error = function(e) {\n .     P <- if (!is.null(cc <- conditionCall(e))) \n .         paste(\" in\", deparse(cc)[1L])\n .     else \"\"\n .     msg <- gettextf(\"package or namespace load failed for %s%s:\\n %s\", \n .         sQuote(package), P, conditionMessage(e))\n .     if (logical.return) \n .         message(paste(\"Error:\", msg), domain = NA)\n .     else stop(msg, call. = FALSE, domain = NA)\n . })",
      "7. tryCatchList(expr, classes, parentenv, handlers)",
      "8. tryCatchOne(expr, names, parentenv, handlers[[1L]])",
      "9. value[[3L]](cond)",
      "10. stop(msg, call. = FALSE, domain = NA)"
     ]
    }
   ],
   "source": [
    "source(\"../code/mcmc_utils.R\")"
   ]
  },
  {
   "cell_type": "markdown",
   "metadata": {},
   "source": [
    "We also can write a function to put the samples into a convenient format for visualizing, etc:"
   ]
  },
  {
   "cell_type": "code",
   "execution_count": 99,
   "metadata": {},
   "outputs": [
    {
     "ename": "ERROR",
     "evalue": "Error in as.data.frame(OD.12C.mcmc[[i]]): object 'OD.12C.mcmc' not found\n",
     "output_type": "error",
     "traceback": [
      "Error in as.data.frame(OD.12C.mcmc[[i]]): object 'OD.12C.mcmc' not found\nTraceback:\n",
      "1. rbind(samps, as.data.frame(OD.12C.mcmc[[i]]))",
      "2. as.data.frame(OD.12C.mcmc[[i]])"
     ]
    }
   ],
   "source": [
    "samps<-NULL\n",
    "for(i in 1:nc){\n",
    "  samps<-rbind(samps, as.data.frame(OD.12C.mcmc[[i]]))\n",
    "}\n",
    "\n",
    "samps<-samps[,c(5,2,3,4)]"
   ]
  },
  {
   "cell_type": "markdown",
   "metadata": {},
   "source": [
    "And also, we can building a list to hold all the information about the priors for each parameter:"
   ]
  },
  {
   "cell_type": "code",
   "execution_count": 100,
   "metadata": {},
   "outputs": [],
   "source": [
    "priors<-list()\n",
    "priors$names<-c(\"Y0\", \"K\", \"r\",\"sigma\")\n",
    "priors$fun<-c(\"uniform\", \"uniform\", \"exp\",\"exp\")\n",
    "priors$hyper<-matrix(NA, ncol=4, nrow=3)\n",
    "priors$hyper[,1]<-c(0.09, 0.15, NA)\n",
    "priors$hyper[,2]<-c(0.01,  0.6, NA)\n",
    "priors$hyper[,3]<-c(1000, NA, NA) \n",
    "priors$hyper[,4]<-c(0.1, NA, NA)"
   ]
  },
  {
   "cell_type": "markdown",
   "metadata": {},
   "source": [
    "Now we can plot the histograms of the posterior samples together with the prior distributions:"
   ]
  },
  {
   "cell_type": "code",
   "execution_count": 101,
   "metadata": {},
   "outputs": [
    {
     "ename": "ERROR",
     "evalue": "Error in plot.hists(samps, my.par = c(2, 2), n.hists = 4, priors = priors, : could not find function \"plot.hists\"\n",
     "output_type": "error",
     "traceback": [
      "Error in plot.hists(samps, my.par = c(2, 2), n.hists = 4, priors = priors, : could not find function \"plot.hists\"\nTraceback:\n"
     ]
    }
   ],
   "source": [
    "plot.hists(samps, my.par=c(2,2), n.hists=4, priors=priors, mai=c(0.5, 0.5, 0.25, 0.2))"
   ]
  },
  {
   "cell_type": "markdown",
   "metadata": {},
   "source": [
    "The prior distribution here is very different from the posterior. These data are highly informative for the parameters of interest and are very unlikely to be influenced much by the prior distribution (although you can always change the priors to check this). However, notice that $Y_0$ (the initial condition) is truncated by the prior. This is a fairly strong prior, because we know something about the initial optical density that is typical for the esperimental set up with the density of innoculum used and with a properly calibrated set-up."
   ]
  },
  {
   "cell_type": "markdown",
   "metadata": {},
   "source": [
    "#### Visualizing the joint posterior of parameters \n",
    "\n",
    "It's often useful to also look at the joint distbution of all of your parameters together. Of course, if you have a high dimensional posterior, rendering a 2-D representation can be difficult. Instead, the standard is to examine the pair-wise posterior distribution, for instance as follows (using the `s1` data frame we created above):"
   ]
  },
  {
   "cell_type": "code",
   "execution_count": 102,
   "metadata": {
    "scrolled": true
   },
   "outputs": [
    {
     "ename": "ERROR",
     "evalue": "Error in is.data.frame(x): object 's1' not found\n",
     "output_type": "error",
     "traceback": [
      "Error in is.data.frame(x): object 's1' not found\nTraceback:\n",
      "1. ipairs(s1[, 2:5], ztransf = function(x) {\n .     x[x < 1] <- 1\n .     log2(x)\n . })",
      "2. is.data.frame(x)"
     ]
    }
   ],
   "source": [
    "ipairs(s1[,2:5], ztransf = function(x){x[x<1] <- 1; log2(x)})"
   ]
  },
  {
   "cell_type": "markdown",
   "metadata": {},
   "source": [
    "As you can see, estimates of $r$ and $K$ are highly correlated -- not surprising given the interplay between them in the logistic growth function. This correlation is an important feature of the system, and we use the full posterior distribution that includes this correlation when we want to build the corresponding posterior distribution of the behavior of the logistic function.\n",
    "\n",
    "#### The posterior distribution of the mean function\n",
    "\n",
    "The final step is to check how well we are fitting the data. To do this we usually examine the posterior distribution of the mean function of our system, in this case the distribution of the logistic solution and compare this to the data. To do this, for each of our posterior samples (or a thinned subset), we plug the parameters for the $i^{\\mathrm th}$ sample $\\theta_i$ into our function of interest, and evaluate the function as a desired set of $x$'s. For instance, for logistic growth, we'll evaluate \n",
    "$$\n",
    "\\mu(t) = \\frac{K_iY_{0,i}}{Y_{0,i}+(K_i-Y_{0,i})\\exp{(-r_it)}}\n",
    "$$\n",
    "for the $i^{\\mathrm th}$ set of parameters for a sequence of times, $t$. This we obtain points describing the curve $\\mu_i(t)$ for each set of parameters. Here is one way to do this:"
   ]
  },
  {
   "cell_type": "code",
   "execution_count": 103,
   "metadata": {},
   "outputs": [
    {
     "ename": "ERROR",
     "evalue": "Error in seq.default(1, dim(samps)[1], by = 10): 'to' must be of length 1\n",
     "output_type": "error",
     "traceback": [
      "Error in seq.default(1, dim(samps)[1], by = 10): 'to' must be of length 1\nTraceback:\n",
      "1. seq(1, dim(samps)[1], by = 10)",
      "2. seq.default(1, dim(samps)[1], by = 10)",
      "3. stop(\"'to' must be of length 1\")"
     ]
    }
   ],
   "source": [
    "my.logistic<-function(t, Y0, K, r){\n",
    "  return(K*Y0/(Y0+(K-Y0)*exp(-r*t)))\n",
    "}\n",
    "\n",
    "ts<-seq(0, 40, length=100)\n",
    "ss<-seq(1, dim(samps)[1], by=10)\n",
    "my.curves<-matrix(NA, nrow=length(ss), ncol=length(ts))\n",
    "\n",
    "for(i in 1:length(ss)){\n",
    "  my.curves[i,]<-my.logistic(t=ts, Y0=samps$Y0[i], K=samps$K[i], r=samps$r[i])\n",
    "}"
   ]
  },
  {
   "cell_type": "markdown",
   "metadata": {},
   "source": [
    "We can now plot all of these curves:"
   ]
  },
  {
   "cell_type": "code",
   "execution_count": 104,
   "metadata": {},
   "outputs": [
    {
     "ename": "ERROR",
     "evalue": "Error in plot(ts, my.curves[1, ], col = 1, type = \"l\", ylim = c(0.09, : object 'my.curves' not found\n",
     "output_type": "error",
     "traceback": [
      "Error in plot(ts, my.curves[1, ], col = 1, type = \"l\", ylim = c(0.09, : object 'my.curves' not found\nTraceback:\n",
      "1. plot(ts, my.curves[1, ], col = 1, type = \"l\", ylim = c(0.09, \n .     0.36), ylab = \"predicted OD\", xlab = \"time (days)\")"
     ]
    }
   ],
   "source": [
    "plot(ts, my.curves[1,], col=1, type=\"l\", ylim=c(0.09, 0.36), \n",
    "     ylab=\"predicted OD\", xlab=\"time (days)\")\n",
    "for(i in 2:length(ss)) lines(ts, my.curves[i,], col=i)"
   ]
  },
  {
   "cell_type": "markdown",
   "metadata": {},
   "source": [
    "Then we can summarize this posterior using the `apply` function to find the mean and the (for simplicity) quantile based 95% CI:"
   ]
  },
  {
   "cell_type": "code",
   "execution_count": 105,
   "metadata": {},
   "outputs": [
    {
     "ename": "ERROR",
     "evalue": "Error in apply(my.curves, 2, mean): object 'my.curves' not found\n",
     "output_type": "error",
     "traceback": [
      "Error in apply(my.curves, 2, mean): object 'my.curves' not found\nTraceback:\n",
      "1. apply(my.curves, 2, mean)"
     ]
    }
   ],
   "source": [
    "m.log<-apply(my.curves, 2, mean)\n",
    "l.log<-apply(my.curves, 2, quantile, probs=0.025)\n",
    "u.log<-apply(my.curves, 2, quantile, probs=0.975)"
   ]
  },
  {
   "cell_type": "markdown",
   "metadata": {},
   "source": [
    "For comparison, here is how to find the 95% HPD Interval across time, using the `HPDinterval` function from the `coda` package:"
   ]
  },
  {
   "cell_type": "code",
   "execution_count": 106,
   "metadata": {},
   "outputs": [
    {
     "ename": "ERROR",
     "evalue": "Error in mcmc(my.curves[, i]): object 'my.curves' not found\n",
     "output_type": "error",
     "traceback": [
      "Error in mcmc(my.curves[, i]): object 'my.curves' not found\nTraceback:\n",
      "1. cbind(hpd.log, as.numeric(HPDinterval(mcmc(my.curves[, i]))))",
      "2. HPDinterval(mcmc(my.curves[, i]))",
      "3. mcmc(my.curves[, i])"
     ]
    }
   ],
   "source": [
    "hpd.log<-NULL\n",
    "for(i in 1:length(ts)){\n",
    "  hpd.log<-cbind(hpd.log, as.numeric(HPDinterval(mcmc(my.curves[,i]))))\n",
    "}"
   ]
  },
  {
   "cell_type": "markdown",
   "metadata": {},
   "source": [
    "And plot these together with the data (in this case the HPD and quantile based intervals are indistinguishable):"
   ]
  },
  {
   "cell_type": "code",
   "execution_count": 107,
   "metadata": {},
   "outputs": [
    {
     "ename": "ERROR",
     "evalue": "Error in xy.coords(x, y): object 'm.log' not found\n",
     "output_type": "error",
     "traceback": [
      "Error in xy.coords(x, y): object 'm.log' not found\nTraceback:\n",
      "1. lines(ts, m.log, col = 1, lwd = 2)",
      "2. lines.default(ts, m.log, col = 1, lwd = 2)",
      "3. plot.xy(xy.coords(x, y), type = type, ...)",
      "4. xy.coords(x, y)"
     ]
    },
    {
     "data": {
      "image/png": "[encoded data removed]",
      "text/plain": [
       "Plot with title “LB-AB isolate, T=12C”"
      ]
     },
     "metadata": {},
     "output_type": "display_data"
    }
   ],
   "source": [
    "my.ylim<-c(0.09, 0.45)\n",
    "my.title<-\"LB-AB isolate, T=12C\"\n",
    "\n",
    "plot(d2$DAY-1, d2$OD, xlim=c(0,max(Temps)), ylim=my.ylim,\n",
    "    pch=(mycol+20),\n",
    "    xlab=\"time (days)\", ylab=\"\",\n",
    "    main=my.title,\n",
    "    col=\"grey\", cex=1.5)\n",
    "lines(ts, m.log, col=1, lwd=2)\n",
    "lines(ts, l.log, col=2, lwd=2, lty=2)\n",
    "lines(ts, u.log, col=2, lwd=2, lty=2)\n",
    "\n",
    "lines(ts, hpd.log[1,], col=3, lwd=2, lty=3)\n",
    "lines(ts, hpd.log[2,], col=3, lwd=2, lty=3)"
   ]
  },
  {
   "cell_type": "markdown",
   "metadata": {},
   "source": [
    "Note that this only shows the uncertainty in the *mean function* -- the assumed model with log normal noise says that the observations simply have this mean. The fit is attributing the majority of the observed noise to process error rather than parameter uncertainty."
   ]
  },
  {
   "cell_type": "markdown",
   "metadata": {},
   "source": [
    "# Readings and Resources <a id='Readings'></a>\n",
    "\n",
    "* Motulsky, Harvey, and Arthur Christopoulos. Fitting models to biological data using linear and nonlinear regression: a practical guide to curve fitting. OUP USA, 2004.\n",
    "* Johnson, J. B. & Omland, K. S. 2004 Model selection in ecology and evolution. Trends Ecol. Evol. 19, 101–108.\n",
    "* The [NCEAS non-linear modelling working group](https://groups.nceas.ucsb.edu/non-linear-modeling/projects/OrangeTree)\n",
    "* [Mixed-Effects Models in S and S-PLUS](https://link.springer.com/book/10.1007/b98882)\n",
    "* Bolker, B. Ecological models and data in R. (Princeton University Press, 2008). "
   ]
  }
 ],
 "metadata": {
  "kernelspec": {
   "display_name": "R",
   "language": "R",
   "name": "ir"
  },
  "language_info": {
   "codemirror_mode": "r",
   "file_extension": ".r",
   "mimetype": "text/x-r-source",
   "name": "R",
   "pygments_lexer": "r",
   "version": "3.4.4"
  },
  "latex_envs": {
   "LaTeX_envs_menu_present": true,
   "autoclose": false,
   "autocomplete": false,
   "bibliofile": "biblio.bib",
   "cite_by": "apalike",
   "current_citInitial": 1,
   "eqLabelWithNumbers": true,
   "eqNumInitial": 1,
   "hotkeys": {
    "equation": "Ctrl-E",
    "itemize": "Ctrl-I"
   },
   "labels_anchors": false,
   "latex_user_defs": false,
   "report_style_numbering": false,
   "user_envs_cfg": false
  },
  "toc": {
   "base_numbering": 1,
   "nav_menu": {},
   "number_sections": true,
   "sideBar": false,
   "skip_h1_title": false,
   "title_cell": "Contents",
   "title_sidebar": "Contents",
   "toc_cell": true,
   "toc_position": {
    "height": "808.438px",
    "left": "10px",
    "top": "150px",
    "width": "353.21px"
   },
   "toc_section_display": false,
   "toc_window_display": false
  }
 },
 "nbformat": 4,
 "nbformat_minor": 2
}
