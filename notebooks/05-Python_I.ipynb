{
 "cells": [
  {
   "cell_type": "markdown",
   "metadata": {},
   "source": [
    "<!--NAVIGATION-->\n",
    "< [Scientific documents with $\\LaTeX$](04-LaTeX.ipynb) | [Main Contents](Index.ipynb) | [Biological Computing in R I](06-R_I.ipynb)>"
   ]
  },
  {
   "cell_type": "markdown",
   "metadata": {},
   "source": [
    "# Biological Computing in Python I  <span class=\"tocSkip\"> <a name=\"chap:python_I\"></a>"
   ]
  },
  {
   "cell_type": "markdown",
   "metadata": {
    "toc": true
   },
   "source": [
    "<h1>Contents<span class=\"tocSkip\"></span></h1>\n",
    "<div class=\"toc\"><ul class=\"toc-item\"><li><span><a href=\"#Learning-objectives\" data-toc-modified-id=\"Learning-objectives-1\"><span class=\"toc-item-num\">1&nbsp;&nbsp;</span>Learning objectives</a></span></li><li><span><a href=\"#Why-Python?\" data-toc-modified-id=\"Why-Python?-2\"><span class=\"toc-item-num\">2&nbsp;&nbsp;</span>Why Python?</a></span></li><li><span><a href=\"#Installing-Python\" data-toc-modified-id=\"Installing-Python-3\"><span class=\"toc-item-num\">3&nbsp;&nbsp;</span>Installing Python</a></span><ul class=\"toc-item\"><li><span><a href=\"#Python-versions:-2-or-3?\" data-toc-modified-id=\"Python-versions:-2-or-3?-3.1\"><span class=\"toc-item-num\">3.1&nbsp;&nbsp;</span>Python versions: 2 or 3?</a></span></li><li><span><a href=\"#Installing-on-Ubuntu\" data-toc-modified-id=\"Installing-on-Ubuntu-3.2\"><span class=\"toc-item-num\">3.2&nbsp;&nbsp;</span>Installing on Ubuntu</a></span><ul class=\"toc-item\"><li><span><a href=\"#Installing-packages\" data-toc-modified-id=\"Installing-packages-3.2.1\"><span class=\"toc-item-num\">3.2.1&nbsp;&nbsp;</span>Installing packages</a></span></li><li><span><a href=\"#Virtual-environments\" data-toc-modified-id=\"Virtual-environments-3.2.2\"><span class=\"toc-item-num\">3.2.2&nbsp;&nbsp;</span>Virtual environments</a></span></li></ul></li></ul></li><li><span><a href=\"#Getting-started-with-Python\" data-toc-modified-id=\"Getting-started-with-Python-4\"><span class=\"toc-item-num\">4&nbsp;&nbsp;</span>Getting started with Python</a></span><ul class=\"toc-item\"><li><span><a href=\"#Baby-steps\" data-toc-modified-id=\"Baby-steps-4.1\"><span class=\"toc-item-num\">4.1&nbsp;&nbsp;</span>Baby steps</a></span><ul class=\"toc-item\"><li><span><a href=\"#Some-terminology\" data-toc-modified-id=\"Some-terminology-4.1.1\"><span class=\"toc-item-num\">4.1.1&nbsp;&nbsp;</span>Some terminology</a></span></li></ul></li><li><span><a href=\"#ipython\" data-toc-modified-id=\"ipython-4.2\"><span class=\"toc-item-num\">4.2&nbsp;&nbsp;</span>ipython</a></span><ul class=\"toc-item\"><li><span><a href=\"#Magic-commands\" data-toc-modified-id=\"Magic-commands-4.2.1\"><span class=\"toc-item-num\">4.2.1&nbsp;&nbsp;</span>Magic commands</a></span></li></ul></li><li><span><a href=\"#Determining-an-object's-type\" data-toc-modified-id=\"Determining-an-object's-type-4.3\"><span class=\"toc-item-num\">4.3&nbsp;&nbsp;</span>Determining an object's type</a></span></li></ul></li><li><span><a href=\"#Python-variables\" data-toc-modified-id=\"Python-variables-5\"><span class=\"toc-item-num\">5&nbsp;&nbsp;</span>Python variables</a></span></li><li><span><a href=\"#Python-operators\" data-toc-modified-id=\"Python-operators-6\"><span class=\"toc-item-num\">6&nbsp;&nbsp;</span>Python operators</a></span><ul class=\"toc-item\"><li><span><a href=\"#Assigning-and-manipulating-variables\" data-toc-modified-id=\"Assigning-and-manipulating-variables-6.1\"><span class=\"toc-item-num\">6.1&nbsp;&nbsp;</span>Assigning and manipulating variables</a></span></li></ul></li><li><span><a href=\"#Python-data-structures\" data-toc-modified-id=\"Python-data-structures-7\"><span class=\"toc-item-num\">7&nbsp;&nbsp;</span>Python data structures</a></span><ul class=\"toc-item\"><li><span><a href=\"#Lists\" data-toc-modified-id=\"Lists-7.1\"><span class=\"toc-item-num\">7.1&nbsp;&nbsp;</span>Lists</a></span></li><li><span><a href=\"#Tuples\" data-toc-modified-id=\"Tuples-7.2\"><span class=\"toc-item-num\">7.2&nbsp;&nbsp;</span>Tuples</a></span></li><li><span><a href=\"#Sets\" data-toc-modified-id=\"Sets-7.3\"><span class=\"toc-item-num\">7.3&nbsp;&nbsp;</span>Sets</a></span></li><li><span><a href=\"#Dictionaries\" data-toc-modified-id=\"Dictionaries-7.4\"><span class=\"toc-item-num\">7.4&nbsp;&nbsp;</span>Dictionaries</a></span></li><li><span><a href=\"#Copying-mutable-objects\" data-toc-modified-id=\"Copying-mutable-objects-7.5\"><span class=\"toc-item-num\">7.5&nbsp;&nbsp;</span>Copying mutable objects</a></span></li><li><span><a href=\"#Python-with-strings\" data-toc-modified-id=\"Python-with-strings-7.6\"><span class=\"toc-item-num\">7.6&nbsp;&nbsp;</span>Python with strings</a></span></li><li><span><a href=\"#Getting-help\" data-toc-modified-id=\"Getting-help-7.7\"><span class=\"toc-item-num\">7.7&nbsp;&nbsp;</span>Getting help</a></span></li></ul></li><li><span><a href=\"#Writing-Python-code\" data-toc-modified-id=\"Writing-Python-code-8\"><span class=\"toc-item-num\">8&nbsp;&nbsp;</span>Writing Python code</a></span></li><li><span><a href=\"#Python-Input/Output\" data-toc-modified-id=\"Python-Input/Output-9\"><span class=\"toc-item-num\">9&nbsp;&nbsp;</span>Python Input/Output</a></span><ul class=\"toc-item\"><li><span><a href=\"#Handling-csv's\" data-toc-modified-id=\"Handling-csv's-9.1\"><span class=\"toc-item-num\">9.1&nbsp;&nbsp;</span>Handling <code>csv</code>'s</a></span></li></ul></li><li><span><a href=\"#Testing-blocks-of-code\" data-toc-modified-id=\"Testing-blocks-of-code-10\"><span class=\"toc-item-num\">10&nbsp;&nbsp;</span>Testing blocks of code</a></span></li><li><span><a href=\"#Writing-Python-programs\" data-toc-modified-id=\"Writing-Python-programs-11\"><span class=\"toc-item-num\">11&nbsp;&nbsp;</span>Writing Python programs</a></span><ul class=\"toc-item\"><li><ul class=\"toc-item\"><li><span><a href=\"#Running-your-python-program\" data-toc-modified-id=\"Running-your-python-program-11.0.1\"><span class=\"toc-item-num\">11.0.1&nbsp;&nbsp;</span>Running your python program</a></span></li></ul></li><li><span><a href=\"#Components-of-the-Python-program\" data-toc-modified-id=\"Components-of-the-Python-program-11.1\"><span class=\"toc-item-num\">11.1&nbsp;&nbsp;</span>Components of the Python program</a></span><ul class=\"toc-item\"><li><span><a href=\"#The-shebang\" data-toc-modified-id=\"The-shebang-11.1.1\"><span class=\"toc-item-num\">11.1.1&nbsp;&nbsp;</span>The shebang</a></span></li><li><span><a href=\"#The-Docstring\" data-toc-modified-id=\"The-Docstring-11.1.2\"><span class=\"toc-item-num\">11.1.2&nbsp;&nbsp;</span>The Docstring</a></span></li><li><span><a href=\"#Internal-Variables\" data-toc-modified-id=\"Internal-Variables-11.1.3\"><span class=\"toc-item-num\">11.1.3&nbsp;&nbsp;</span>Internal Variables</a></span></li><li><span><a href=\"#Function-definitions-and-&quot;modules&quot;\" data-toc-modified-id=\"Function-definitions-and-&quot;modules&quot;-11.1.4\"><span class=\"toc-item-num\">11.1.4&nbsp;&nbsp;</span>Function <code>def</code>initions and \"modules\"</a></span></li><li><span><a href=\"#Why-include-__name__-==-&quot;__main__&quot;-and-all-that-jazz\" data-toc-modified-id=\"Why-include-__name__-==-&quot;__main__&quot;-and-all-that-jazz-11.1.5\"><span class=\"toc-item-num\">11.1.5&nbsp;&nbsp;</span>Why include <code>__name__ == \"__main__\"</code> and all that jazz</a></span></li><li><span><a href=\"#What-is-sys.argv?\" data-toc-modified-id=\"What-is-sys.argv?-11.1.6\"><span class=\"toc-item-num\">11.1.6&nbsp;&nbsp;</span>What is <code>sys.argv</code>?</a></span></li><li><span><a href=\"#What-is-main(argv)-?\" data-toc-modified-id=\"What-is-main(argv)-?-11.1.7\"><span class=\"toc-item-num\">11.1.7&nbsp;&nbsp;</span>What is <code>main(argv)</code> ?</a></span></li></ul></li><li><span><a href=\"#Variable-scope\" data-toc-modified-id=\"Variable-scope-11.2\"><span class=\"toc-item-num\">11.2&nbsp;&nbsp;</span>Variable scope</a></span></li></ul></li><li><span><a href=\"#Control-statements\" data-toc-modified-id=\"Control-statements-12\"><span class=\"toc-item-num\">12&nbsp;&nbsp;</span>Control statements</a></span><ul class=\"toc-item\"><li><span><a href=\"#Control-flow-exercises\" data-toc-modified-id=\"Control-flow-exercises-12.1\"><span class=\"toc-item-num\">12.1&nbsp;&nbsp;</span>Control flow exercises</a></span><ul class=\"toc-item\"><li><span><a href=\"#Loops\" data-toc-modified-id=\"Loops-12.1.1\"><span class=\"toc-item-num\">12.1.1&nbsp;&nbsp;</span>Loops</a></span></li></ul></li><li><span><a href=\"#List-comprehensions\" data-toc-modified-id=\"List-comprehensions-12.2\"><span class=\"toc-item-num\">12.2&nbsp;&nbsp;</span>List comprehensions</a></span></li></ul></li><li><span><a href=\"#Practicals\" data-toc-modified-id=\"Practicals-13\"><span class=\"toc-item-num\">13&nbsp;&nbsp;</span>Practicals</a></span></li><li><span><a href=\"#Errors-in-your-python-code\" data-toc-modified-id=\"Errors-in-your-python-code-14\"><span class=\"toc-item-num\">14&nbsp;&nbsp;</span>Errors in your python code</a></span><ul class=\"toc-item\"><li><span><a href=\"#Unit-testing\" data-toc-modified-id=\"Unit-testing-14.1\"><span class=\"toc-item-num\">14.1&nbsp;&nbsp;</span>Unit testing</a></span><ul class=\"toc-item\"><li><span><a href=\"#Unit-testing-with-doctest\" data-toc-modified-id=\"Unit-testing-with-doctest-14.1.1\"><span class=\"toc-item-num\">14.1.1&nbsp;&nbsp;</span>Unit testing with <code>doctest</code></a></span></li><li><span><a href=\"#Other-unit-testing-approaches\" data-toc-modified-id=\"Other-unit-testing-approaches-14.1.2\"><span class=\"toc-item-num\">14.1.2&nbsp;&nbsp;</span>Other unit testing approaches</a></span></li></ul></li><li><span><a href=\"#Debugging\" data-toc-modified-id=\"Debugging-14.2\"><span class=\"toc-item-num\">14.2&nbsp;&nbsp;</span>Debugging</a></span></li><li><span><a href=\"#Paranoid-programming:-debugging-with-breakpoints\" data-toc-modified-id=\"Paranoid-programming:-debugging-with-breakpoints-14.3\"><span class=\"toc-item-num\">14.3&nbsp;&nbsp;</span>Paranoid programming: debugging with breakpoints</a></span></li><li><span><a href=\"#Debugging-using-your-IDE\" data-toc-modified-id=\"Debugging-using-your-IDE-14.4\"><span class=\"toc-item-num\">14.4&nbsp;&nbsp;</span>Debugging using your IDE</a></span></li></ul></li><li><span><a href=\"#Functions,-Modules,-and-code-compartmentalization\" data-toc-modified-id=\"Functions,-Modules,-and-code-compartmentalization-15\"><span class=\"toc-item-num\">15&nbsp;&nbsp;</span>Functions, Modules, and code compartmentalization</a></span><ul class=\"toc-item\"><li><span><a href=\"#Importing-Modules\" data-toc-modified-id=\"Importing-Modules-15.1\"><span class=\"toc-item-num\">15.1&nbsp;&nbsp;</span>Importing Modules</a></span></li><li><span><a href=\"#Python-packages\" data-toc-modified-id=\"Python-packages-15.2\"><span class=\"toc-item-num\">15.2&nbsp;&nbsp;</span>Python packages</a></span></li></ul></li><li><span><a href=\"#Practicals\" data-toc-modified-id=\"Practicals-16\"><span class=\"toc-item-num\">16&nbsp;&nbsp;</span>Practicals</a></span><ul class=\"toc-item\"><li><span><a href=\"#Align-DNA-sequences\" data-toc-modified-id=\"Align-DNA-sequences-16.1\"><span class=\"toc-item-num\">16.1&nbsp;&nbsp;</span>Align DNA sequences</a></span></li><li><span><a href=\"#Missing-oaks-problem\" data-toc-modified-id=\"Missing-oaks-problem-16.2\"><span class=\"toc-item-num\">16.2&nbsp;&nbsp;</span>Missing oaks problem</a></span></li></ul></li><li><span><a href=\"#Readings-and-Resources\" data-toc-modified-id=\"Readings-and-Resources-17\"><span class=\"toc-item-num\">17&nbsp;&nbsp;</span>Readings and Resources</a></span></li></ul></div>"
   ]
  },
  {
   "cell_type": "markdown",
   "metadata": {},
   "source": [
    "**First, the UNIX Chapter's challenge question!**\n",
    "```bash\n",
    "find . -type f -exec ls -s {} \\; | sort -n | head -10\n",
    "```\n",
    "*What is the command doing? How has it been built (explain the components)?*"
   ]
  },
  {
   "cell_type": "markdown",
   "metadata": {},
   "source": [
    "## Learning objectives\n",
    "\n",
    "The python chapters of TeMulQuaBio are geared towards teaching you scientific programming in biology using this modern, and immensely popular language. Across all the Python chapters, you will learn:\n",
    "\n",
    "* Basics of python syntax and data structures, and python's object-oriented features \n",
    "\n",
    "* How to write and run python code\n",
    "\n",
    "* Understand and implement \"control flows\"\n",
    "\n",
    "* Learning to use the `ipython` environment\n",
    "\n",
    "* Writing, debugging, using, and testing python functions\n",
    "\n",
    "* Learning efficient numerical programming in python\n",
    "\n",
    "* Using regular expressions in python\n",
    "\n",
    "* Introduction to certain particularly useful python packages\n",
    "\n",
    "* Using python for building and modifying databases\n",
    "\n",
    "* Using python to run other, non-python tasks and code\n",
    "\n",
    "* Using python to patch together data analysis and/or numerical simulation work flows\n",
    "\n",
    "\n",
    "## Why Python?\n",
    "\n",
    "---\n",
    "\n",
    "<figure>\n",
    "<img src=\"./graphics/python.png\" alt=\"xkcd on programming\" style=\"width:40%\">\n",
    "    <small>\n",
    "        <center>\n",
    "            (Source: [http://xkcd.com](http://xkcd.com))\n",
    "            <figcaption> \n",
    "                Is python the most common answer to your daily programming needs? Possibly!\n",
    "            </figcaption>\n",
    "        </center>\n",
    "    </small>\n",
    "</figure>\n",
    "\n",
    "---\n",
    "\n",
    "Python was designed with readability and re-usability in mind. Time taken by programming + debugging + running is likely to be relatively lower in python than less intuitive or cluttered languages (e.g., FORTRAN, perl). It is a pretty good solution if you want to easily write readable code that is also reasonably efficient (computationally speaking).\n",
    "\n",
    "---\n",
    "\n",
    "<figure>\n",
    "<img src=\"./graphics/benchmark.png\" alt=\"xkcd on programming\" style=\"width:80%\">\n",
    "    <small>\n",
    "        <center>\n",
    "            (Source: [http://julialang.org/](http://julialang.org/))\n",
    "            <figcaption> \n",
    "                python is pretty fast!!\n",
    "            </figcaption>\n",
    "        </center>\n",
    "    </small>\n",
    "</figure>\n",
    "\n",
    "---"
   ]
  },
  {
   "cell_type": "markdown",
   "metadata": {},
   "source": [
    "## Installing Python\n",
    "\n",
    "### Python versions: 2 or 3? \n",
    "\n",
    "We will use python 3, not 2. But most of the code in the python chapters will work in python 2.7.xx as well. If you are interested in the python 2 vs 3 history, [read this](https://wiki.python.org/moin/Python2orPython3).\n",
    "\n",
    "### Installing on Ubuntu\n",
    "\n",
    "The following instructions are for Ubuntu. For other OS', [see this](https://realpython.com/installing-python/#ubuntu) (On Mac you will need `homebrew`). \n",
    "\n",
    "For Ubuntu 16.04, python 3.5.2 and 2.7 will already be installed. Check the version by typing in terminal:\n",
    "\n",
    "```bash\n",
    "python3 --version\n",
    "```\n",
    "You can also install python 3.6 [if you want](https://realpython.com/installing-python/#ubuntu), but for all parctical purposes it won't make any difference as far as this course is concerned. \n",
    "\n",
    "However, we will mainly be using the interactive python shell `ipython`, which needs to be installed.\n",
    "\n",
    "$\\star$ Open a terminal (`ctrl+alt+t`) and type:\n",
    "```bash\n",
    "sudo apt install ipython3 python3-scipy python3-matplotlib\n",
    "```\n",
    "\n",
    "#### Installing packages\n",
    "\n",
    "In Linux, you can easily install python packages that come with the standard python distribution using:\n",
    "\n",
    "```bash\n",
    "sudo apt install python3-packagename\n",
    "```\n",
    "However, certain python packages are only available through `pip`, a package manager for python packages. pythonistas like to be extra-smart, so pip is a recursive acronym for \"`P`ip `I`nstalls `P`ackages\"!\n",
    "\n",
    "```bash\n",
    "sudo apt install python3-pip\n",
    "```\n",
    "Thereafter, you can install packages using:\n",
    "```bash\n",
    "pip3 install package_name\n",
    "```\n",
    "\n",
    "#### Virtual environments\n",
    "\n",
    "We will not mess around with virtual environments (e.g., Anaconda) for python. If you are interested in trying out virtual environments, [this article](https://medium.freecodecamp.org/why-you-need-python-environments-and-how-to-manage-them-with-conda-85f155f4353c) is pretty comprehensive.   "
   ]
  },
  {
   "cell_type": "markdown",
   "metadata": {},
   "source": [
    "## Getting started with Python\n",
    "\n",
    "OK, so let's get started with Python. \n",
    "\n",
    "$\\star$ In your bash terminal (or by opening a new one with `ctrl+alt+t`), type:\n",
    "\n",
    "```bash\n",
    "python3\n",
    "```\n",
    "You will get a new command prompt that looks like this:\n",
    "```\n",
    ">>>\n",
    "```\n",
    "now type:"
   ]
  },
  {
   "cell_type": "code",
   "execution_count": 1,
   "metadata": {},
   "outputs": [
    {
     "name": "stdout",
     "output_type": "stream",
     "text": [
      "The Zen of Python, by Tim Peters\n",
      "\n",
      "Beautiful is better than ugly.\n",
      "Explicit is better than implicit.\n",
      "Simple is better than complex.\n",
      "Complex is better than complicated.\n",
      "Flat is better than nested.\n",
      "Sparse is better than dense.\n",
      "Readability counts.\n",
      "Special cases aren't special enough to break the rules.\n",
      "Although practicality beats purity.\n",
      "Errors should never pass silently.\n",
      "Unless explicitly silenced.\n",
      "In the face of ambiguity, refuse the temptation to guess.\n",
      "There should be one-- and preferably only one --obvious way to do it.\n",
      "Although that way may not be obvious at first unless you're Dutch.\n",
      "Now is better than never.\n",
      "Although never is often better than *right* now.\n",
      "If the implementation is hard to explain, it's a bad idea.\n",
      "If the implementation is easy to explain, it may be a good idea.\n",
      "Namespaces are one honking great idea -- let's do more of those!\n"
     ]
    }
   ],
   "source": [
    "import this"
   ]
  },
  {
   "cell_type": "markdown",
   "metadata": {},
   "source": [
    "*Think about and discuss what each of these programming principles mean.* The \"Dutch\" in one of them refers to  Guido van Rossum, inventor of the python language. \n",
    "\n",
    "### Baby steps\n",
    "\n",
    "Now, try some simple operations:"
   ]
  },
  {
   "cell_type": "code",
   "execution_count": 2,
   "metadata": {},
   "outputs": [
    {
     "data": {
      "text/plain": [
       "4"
      ]
     },
     "execution_count": 2,
     "metadata": {},
     "output_type": "execute_result"
    }
   ],
   "source": [
    "2 + 2 # Summation; note that comments still start with #"
   ]
  },
  {
   "cell_type": "code",
   "execution_count": 3,
   "metadata": {},
   "outputs": [
    {
     "data": {
      "text/plain": [
       "4"
      ]
     },
     "execution_count": 3,
     "metadata": {},
     "output_type": "execute_result"
    }
   ],
   "source": [
    "2 * 2 # Multiplication"
   ]
  },
  {
   "cell_type": "code",
   "execution_count": 4,
   "metadata": {
    "scrolled": false
   },
   "outputs": [
    {
     "data": {
      "text/plain": [
       "1"
      ]
     },
     "execution_count": 4,
     "metadata": {},
     "output_type": "execute_result"
    }
   ],
   "source": [
    "2 / 2 # division"
   ]
  },
  {
   "cell_type": "markdown",
   "metadata": {},
   "source": [
    "*Note that this is one significant change from Python 2.7, where integer divisions gave an integer output*. That is, in python 3, any division yields a float unless specified otherwise. To specify an integer division, use `//`:"
   ]
  },
  {
   "cell_type": "code",
   "execution_count": 5,
   "metadata": {},
   "outputs": [
    {
     "data": {
      "text/plain": [
       "1"
      ]
     },
     "execution_count": 5,
     "metadata": {},
     "output_type": "execute_result"
    }
   ],
   "source": [
    "2//2"
   ]
  },
  {
   "cell_type": "code",
   "execution_count": 6,
   "metadata": {},
   "outputs": [
    {
     "data": {
      "text/plain": [
       "False"
      ]
     },
     "execution_count": 6,
     "metadata": {},
     "output_type": "execute_result"
    }
   ],
   "source": [
    "2 > 3 # logical operation"
   ]
  },
  {
   "cell_type": "code",
   "execution_count": 7,
   "metadata": {},
   "outputs": [
    {
     "data": {
      "text/plain": [
       "True"
      ]
     },
     "execution_count": 7,
     "metadata": {},
     "output_type": "execute_result"
    }
   ],
   "source": [
    "2 >= 2 # another one"
   ]
  },
  {
   "cell_type": "markdown",
   "metadata": {},
   "source": [
    "#### Some terminology \n",
    "\n",
    "*What does \"float\" mean?* You will inevitably run into some such jargon in this chapter. The main ones you need to know are (you will learn more about these along the way):\n",
    "\n",
    "|         |            |\n",
    "|:------------- |:-------------| \n",
    "|Workspace | The \"environment\" of your current python *session*, including all variables, functions, objects, etc.|\n",
    "|Variable| A named number, text string, boolean (`True` or `False`), or data structure that can change (more on variable and data types later)|\n",
    "|Function| A computer procedure or routine that performs operations and returns some value(s), and which can be used again and again|\n",
    "|Module| *Variables* and *functions* packaged into a single set of programs that can be invoked as a re-useable command (potentially with sub-commands)|\n",
    "|Class| A way of grouping *Variables* and *functions* into a single object with specific properties that are inherited when you create its copy. Unlike *modules*, you can create (\"spawn\") many copies of a *class* within a python session or program|\n",
    "|Object|  A particular instance of a class (every object belongs to a class) that is created in a session and eventually destroyed; everything in your workspace is an object in python!|\n",
    "\n",
    "This Module vs. Class vs. Object business is confusing. These constructs are created to make an (object-oriented) programming language like python more flexible and user friendly (though it might not seem so to you currently!). In practice, at least for your current purposes, you will not build you own python classes much (but will use the inbuilt python classes).You will however write your own modules. More on all this later. Also, [read this](https://learnpythonthehardway.org/book/ex40.html) (may be available in your university library)."
   ]
  },
  {
   "cell_type": "markdown",
   "metadata": {},
   "source": [
    "### ipython\n",
    "\n",
    "Let's switch to the `i`nteractive python shell, `ipython` that you installed above.\n",
    "\n",
    "$\\star$ Type `ctrl+D` in the terminal at the python prompt: this will exit you from the python shell and you will see the bash prompt again.\n",
    "\n",
    "Now type \n",
    "```bash\n",
    "ipython3\n",
    "```\n",
    "\n",
    "After some text, you should now see the ipython prompt:\n",
    "\n",
    "```bash\n",
    "In [1]:\n",
    "``` \n",
    "the ipython shell has many advantages over the bare-bones, non-interactive python shell (with the `>>>` prompt). For example, as in the bash shell, `TAB` leads to auto-completion of a command or file name (try it).\n",
    "\n",
    "#### Magic commands\n",
    "\n",
    "IPython has \"magic commands\" (which start with % ; e.g., `%run`). Here are some useful magic commands:\n",
    "\n",
    "|         |            |\n",
    "|:------------- |:-------------| \n",
    "| `%who` | Shows current namespace (all variables, modules and functions)| \n",
    "| `%whos`| Also display the type of each variable; typing ` %whos function` only displays functions etc.| \n",
    "| `%pwd`| Print working directory| \n",
    "| `%history`|    Print recent commands| \n",
    "\n",
    "You can try any or all of these now. For example:"
   ]
  },
  {
   "cell_type": "code",
   "execution_count": 8,
   "metadata": {
    "scrolled": false
   },
   "outputs": [
    {
     "name": "stdout",
     "output_type": "stream",
     "text": [
      "this\t \n"
     ]
    }
   ],
   "source": [
    "%who"
   ]
  },
  {
   "cell_type": "markdown",
   "metadata": {},
   "source": [
    "That is, there are no objects in your workspace yet. Let's create one:"
   ]
  },
  {
   "cell_type": "code",
   "execution_count": 9,
   "metadata": {},
   "outputs": [],
   "source": [
    "a = 1"
   ]
  },
  {
   "cell_type": "code",
   "execution_count": 10,
   "metadata": {},
   "outputs": [
    {
     "name": "stdout",
     "output_type": "stream",
     "text": [
      "a\t this\t \n"
     ]
    }
   ],
   "source": [
    "%who"
   ]
  },
  {
   "cell_type": "code",
   "execution_count": 11,
   "metadata": {},
   "outputs": [
    {
     "name": "stdout",
     "output_type": "stream",
     "text": [
      "Variable   Type      Data/Info\n",
      "------------------------------\n",
      "a          int       1\n",
      "this       module    <module 'this' from '/usr/lib/python2.7/this.py'>\n"
     ]
    }
   ],
   "source": [
    "%whos"
   ]
  },
  {
   "cell_type": "markdown",
   "metadata": {},
   "source": [
    "### Determining an object's type\n",
    "\n",
    "Another useful IPython feature is the question mark, which can be used to find what a particular Python object is, including variables you created. For example, try: `?a`\n",
    "\n",
    "This will give you detailed information about this variable (which is an object, belonging to a particular class, because this is python!). You can also check a variable's type: "
   ]
  },
  {
   "cell_type": "code",
   "execution_count": 12,
   "metadata": {},
   "outputs": [
    {
     "data": {
      "text/plain": [
       "int"
      ]
     },
     "execution_count": 12,
     "metadata": {},
     "output_type": "execute_result"
    }
   ],
   "source": [
    "type(a)"
   ]
  },
  {
   "cell_type": "markdown",
   "metadata": {},
   "source": [
    "---\n",
    "\n",
    "> You can configure ipython's environment and behavior by editing the `ipython_config.py` file, which is located in the `.ipython` directory of your `home`. This file does not initially exist, but you can create it by running `ipython profile create` in a bash terminal (try it now). The, edit it; for example, you can \n",
    "> ```bash \n",
    "gedit .ipython/profile_default/ipython_config.py &\n",
    "```\n",
    "And then make the changes you want to the default ipython configuration. For example, If you don't like the blue\n",
    "`ipython` prompt, you can type `%colors linux` (once inside the shell). If you want to make this color the default,\n",
    "then edit the `ipython_config.py` — search for \"Set the color scheme\" option in the file.\n",
    "\n",
    "---"
   ]
  },
  {
   "cell_type": "markdown",
   "metadata": {},
   "source": [
    "## Python variables\n",
    "\n",
    "Now, let's continue our python intro. We will first learn about the python variable types that were mentioned above. The types are:"
   ]
  },
  {
   "cell_type": "code",
   "execution_count": 13,
   "metadata": {},
   "outputs": [
    {
     "data": {
      "text/plain": [
       "int"
      ]
     },
     "execution_count": 13,
     "metadata": {},
     "output_type": "execute_result"
    }
   ],
   "source": [
    "a = 2 #integer\n",
    "type(a)"
   ]
  },
  {
   "cell_type": "code",
   "execution_count": 14,
   "metadata": {},
   "outputs": [
    {
     "data": {
      "text/plain": [
       "float"
      ]
     },
     "execution_count": 14,
     "metadata": {},
     "output_type": "execute_result"
    }
   ],
   "source": [
    "a = 2. #Float\n",
    "type(a)"
   ]
  },
  {
   "cell_type": "code",
   "execution_count": 15,
   "metadata": {},
   "outputs": [
    {
     "data": {
      "text/plain": [
       "str"
      ]
     },
     "execution_count": 15,
     "metadata": {},
     "output_type": "execute_result"
    }
   ],
   "source": [
    "a = \"Two\" #String\n",
    "type(a)"
   ]
  },
  {
   "cell_type": "code",
   "execution_count": 16,
   "metadata": {},
   "outputs": [
    {
     "data": {
      "text/plain": [
       "bool"
      ]
     },
     "execution_count": 16,
     "metadata": {},
     "output_type": "execute_result"
    }
   ],
   "source": [
    "a = True #Boolean\n",
    "type(a)"
   ]
  },
  {
   "cell_type": "markdown",
   "metadata": {},
   "source": [
    "*Thus, python has integer, float (real numbers, with different precision levels) stringand boolean variables.*\n",
    "\n",
    "Also, try `?a` after defining `a` to be a boolean variable, and note this output in particular:\n",
    "\n",
    "```python\n",
    "The builtins True and False are the only two instances of the class bool.\n",
    "The class bool is a subclass of the class int, and cannot be subclassed.\n",
    "```\n",
    "The idea of what a class is should be a little bit clearer to you now. \n",
    "\n",
    "\n",
    "## Python operators\n",
    "\n",
    "Here are are the operators that you can use on variables in python:\n",
    "\n",
    "|         |            |\n",
    "|:------------- |:-------------| \n",
    "| `+`|             Addition|\n",
    "|  `-`|             Subtraction\n",
    "|  `*` |                         Multiplication\n",
    "|  `/`  |           Division\n",
    "|  `**`  |          Power\n",
    "|  `%`    |         Modulo\n",
    "|  `//`   |         Integer division\n",
    "|  `==`   |         Equals\n",
    "|  `!=`   |         Differs\n",
    "|  `>`  |         Greater\n",
    "|  `>=` |         Greater or equal\n",
    "|  `&, and` |        Logical AND\n",
    "|  $\\vert$ , `or` |   Logical OR\n",
    "|  `!, not` |       Logical NOT\n",
    "\n",
    "### Assigning and manipulating variables\n",
    "\n",
    "Try the following:"
   ]
  },
  {
   "cell_type": "code",
   "execution_count": 17,
   "metadata": {},
   "outputs": [
    {
     "data": {
      "text/plain": [
       "True"
      ]
     },
     "execution_count": 17,
     "metadata": {},
     "output_type": "execute_result"
    }
   ],
   "source": [
    "2 == 2"
   ]
  },
  {
   "cell_type": "code",
   "execution_count": 18,
   "metadata": {},
   "outputs": [
    {
     "data": {
      "text/plain": [
       "False"
      ]
     },
     "execution_count": 18,
     "metadata": {},
     "output_type": "execute_result"
    }
   ],
   "source": [
    "2 != 2"
   ]
  },
  {
   "cell_type": "code",
   "execution_count": 19,
   "metadata": {},
   "outputs": [
    {
     "data": {
      "text/plain": [
       "1"
      ]
     },
     "execution_count": 19,
     "metadata": {},
     "output_type": "execute_result"
    }
   ],
   "source": [
    "3 / 2"
   ]
  },
  {
   "cell_type": "code",
   "execution_count": 20,
   "metadata": {},
   "outputs": [
    {
     "data": {
      "text/plain": [
       "1"
      ]
     },
     "execution_count": 20,
     "metadata": {},
     "output_type": "execute_result"
    }
   ],
   "source": [
    "3 // 2"
   ]
  },
  {
   "cell_type": "markdown",
   "metadata": {},
   "source": [
    "*What happened here*? This is an integer division, so the decimal part is lost.  "
   ]
  },
  {
   "cell_type": "code",
   "execution_count": 21,
   "metadata": {},
   "outputs": [
    {
     "data": {
      "text/plain": [
       "'hola, mi llamo Samraat'"
      ]
     },
     "execution_count": 21,
     "metadata": {},
     "output_type": "execute_result"
    }
   ],
   "source": [
    "'hola, ' + 'mi llamo Samraat' #why not learn two languages at the same time?! "
   ]
  },
  {
   "cell_type": "code",
   "execution_count": 22,
   "metadata": {},
   "outputs": [],
   "source": [
    "x = 5"
   ]
  },
  {
   "cell_type": "code",
   "execution_count": 23,
   "metadata": {
    "scrolled": false
   },
   "outputs": [
    {
     "data": {
      "text/plain": [
       "8"
      ]
     },
     "execution_count": 23,
     "metadata": {},
     "output_type": "execute_result"
    }
   ],
   "source": [
    "x + 3"
   ]
  },
  {
   "cell_type": "code",
   "execution_count": 24,
   "metadata": {},
   "outputs": [],
   "source": [
    "y = 2"
   ]
  },
  {
   "cell_type": "code",
   "execution_count": 25,
   "metadata": {
    "scrolled": false
   },
   "outputs": [
    {
     "data": {
      "text/plain": [
       "7"
      ]
     },
     "execution_count": 25,
     "metadata": {},
     "output_type": "execute_result"
    }
   ],
   "source": [
    "x + y"
   ]
  },
  {
   "cell_type": "code",
   "execution_count": 26,
   "metadata": {},
   "outputs": [],
   "source": [
    "x = 'My string'"
   ]
  },
  {
   "cell_type": "code",
   "execution_count": 27,
   "metadata": {},
   "outputs": [
    {
     "data": {
      "text/plain": [
       "'My string now has more stuff'"
      ]
     },
     "execution_count": 27,
     "metadata": {},
     "output_type": "execute_result"
    }
   ],
   "source": [
    "x + ' now has more stuff'"
   ]
  },
  {
   "cell_type": "code",
   "execution_count": 28,
   "metadata": {},
   "outputs": [
    {
     "ename": "TypeError",
     "evalue": "cannot concatenate 'str' and 'int' objects",
     "output_type": "error",
     "traceback": [
      "\u001b[0;31m---------------------------------------------------------------------------\u001b[0m",
      "\u001b[0;31mTypeError\u001b[0m                                 Traceback (most recent call last)",
      "\u001b[0;32m<ipython-input-28-cd60f97aa77f>\u001b[0m in \u001b[0;36m<module>\u001b[0;34m()\u001b[0m\n\u001b[0;32m----> 1\u001b[0;31m \u001b[0mx\u001b[0m \u001b[0;34m+\u001b[0m \u001b[0my\u001b[0m\u001b[0;34m\u001b[0m\u001b[0m\n\u001b[0m",
      "\u001b[0;31mTypeError\u001b[0m: cannot concatenate 'str' and 'int' objects"
     ]
    }
   ],
   "source": [
    "x + y"
   ]
  },
  {
   "cell_type": "markdown",
   "metadata": {},
   "source": [
    "Doesn't work. No problem, we can convert from one type to another:"
   ]
  },
  {
   "cell_type": "code",
   "execution_count": 29,
   "metadata": {},
   "outputs": [
    {
     "data": {
      "text/plain": [
       "'My string2'"
      ]
     },
     "execution_count": 29,
     "metadata": {},
     "output_type": "execute_result"
    }
   ],
   "source": [
    "x + str(y)"
   ]
  },
  {
   "cell_type": "code",
   "execution_count": 30,
   "metadata": {},
   "outputs": [],
   "source": [
    "z = '88'"
   ]
  },
  {
   "cell_type": "code",
   "execution_count": 31,
   "metadata": {
    "scrolled": true
   },
   "outputs": [
    {
     "data": {
      "text/plain": [
       "'My string88'"
      ]
     },
     "execution_count": 31,
     "metadata": {},
     "output_type": "execute_result"
    }
   ],
   "source": [
    "x + z"
   ]
  },
  {
   "cell_type": "code",
   "execution_count": 32,
   "metadata": {},
   "outputs": [
    {
     "data": {
      "text/plain": [
       "90"
      ]
     },
     "execution_count": 32,
     "metadata": {},
     "output_type": "execute_result"
    }
   ],
   "source": [
    "y + int(z)"
   ]
  },
  {
   "cell_type": "markdown",
   "metadata": {},
   "source": [
    "---\n",
    "> In python, the type of a variable is determined when the program or command is running (dynamic typing) (like `R`, unlike `C` or `FORTRAN`). This is convenient, but can make programs slow. More on efficient computing later.\n",
    "\n",
    "---\n",
    "\n",
    "## Python data structures\n",
    "\n",
    "python variables can be stored and manipulated in:\n",
    "\n",
    "| | |\n",
    "|:-  |:- | \n",
    "|*List*: |most versatile, can contain compound data, \"mutable\", enclosed in brackets, `[ ]`|\n",
    "|*Tuple*: |like a list, but \"immutable\" — like a read only list, enclosed in parentheses, `( )`|\n",
    "|*Dictionary*: | a kind of \"hash table\" of key-value pairs enclosed by curly braces, `{ }` — key can be number or string, values can be any  python object|\n",
    "|*numpy arrays*: |Fast, compact, convenient for numerical computing — more on this later|"
   ]
  },
  {
   "cell_type": "markdown",
   "metadata": {},
   "source": [
    "### Lists\n",
    "\n",
    "These are the most versatile, and can contain compound data. They are \"mutable\", as will be illustrated below. Try this:"
   ]
  },
  {
   "cell_type": "code",
   "execution_count": 33,
   "metadata": {},
   "outputs": [],
   "source": [
    "MyList = [3,2.44,'green',True]"
   ]
  },
  {
   "cell_type": "code",
   "execution_count": 34,
   "metadata": {},
   "outputs": [
    {
     "data": {
      "text/plain": [
       "2.44"
      ]
     },
     "execution_count": 34,
     "metadata": {},
     "output_type": "execute_result"
    }
   ],
   "source": [
    "MyList[1]"
   ]
  },
  {
   "cell_type": "code",
   "execution_count": 35,
   "metadata": {},
   "outputs": [
    {
     "data": {
      "text/plain": [
       "3"
      ]
     },
     "execution_count": 35,
     "metadata": {},
     "output_type": "execute_result"
    }
   ],
   "source": [
    "MyList[0]"
   ]
  },
  {
   "cell_type": "markdown",
   "metadata": {},
   "source": [
    "*Note that python \"indexing\" starts at 0, not 1!*"
   ]
  },
  {
   "cell_type": "code",
   "execution_count": 36,
   "metadata": {},
   "outputs": [
    {
     "ename": "IndexError",
     "evalue": "list index out of range",
     "output_type": "error",
     "traceback": [
      "\u001b[0;31m---------------------------------------------------------------------------\u001b[0m",
      "\u001b[0;31mIndexError\u001b[0m                                Traceback (most recent call last)",
      "\u001b[0;32m<ipython-input-36-24c1fb55db2a>\u001b[0m in \u001b[0;36m<module>\u001b[0;34m()\u001b[0m\n\u001b[0;32m----> 1\u001b[0;31m \u001b[0mMyList\u001b[0m\u001b[0;34m[\u001b[0m\u001b[0;36m4\u001b[0m\u001b[0;34m]\u001b[0m\u001b[0;34m\u001b[0m\u001b[0m\n\u001b[0m",
      "\u001b[0;31mIndexError\u001b[0m: list index out of range"
     ]
    }
   ],
   "source": [
    "MyList[4]"
   ]
  },
  {
   "cell_type": "code",
   "execution_count": null,
   "metadata": {},
   "outputs": [],
   "source": [
    "MyList[2] = 'blue'"
   ]
  },
  {
   "cell_type": "code",
   "execution_count": null,
   "metadata": {},
   "outputs": [],
   "source": [
    "MyList"
   ]
  },
  {
   "cell_type": "code",
   "execution_count": null,
   "metadata": {},
   "outputs": [],
   "source": [
    "MyList.append('a new item')"
   ]
  },
  {
   "cell_type": "markdown",
   "metadata": {},
   "source": [
    "Note `.append`. This is an operation (a \"method\") that can be applied to any \"object\" with the \"class\" list. You can check the type of any object: "
   ]
  },
  {
   "cell_type": "code",
   "execution_count": 37,
   "metadata": {},
   "outputs": [
    {
     "name": "stdout",
     "output_type": "stream",
     "text": [
      "Variable   Type      Data/Info\n",
      "------------------------------\n",
      "MyList     list      n=4\n",
      "a          bool      True\n",
      "this       module    <module 'this' from '/usr/lib/python2.7/this.py'>\n",
      "x          str       My string\n",
      "y          int       2\n",
      "z          str       88\n"
     ]
    }
   ],
   "source": [
    "%whos"
   ]
  },
  {
   "cell_type": "code",
   "execution_count": 38,
   "metadata": {
    "scrolled": true
   },
   "outputs": [
    {
     "data": {
      "text/plain": [
       "list"
      ]
     },
     "execution_count": 38,
     "metadata": {},
     "output_type": "execute_result"
    }
   ],
   "source": [
    "type(MyList)"
   ]
  },
  {
   "cell_type": "code",
   "execution_count": 39,
   "metadata": {},
   "outputs": [
    {
     "name": "stdout",
     "output_type": "stream",
     "text": [
      "<type 'list'>\n"
     ]
    }
   ],
   "source": [
    "print(type(MyList))"
   ]
  },
  {
   "cell_type": "markdown",
   "metadata": {},
   "source": [
    "---\n",
    "> In Python3 there is no difference between \"classes\" and \"types\". They are in most cases used as synonyms.\n",
    "\n",
    "---"
   ]
  },
  {
   "cell_type": "code",
   "execution_count": 40,
   "metadata": {},
   "outputs": [
    {
     "data": {
      "text/plain": [
       "[3, 2.44, 'green', True]"
      ]
     },
     "execution_count": 40,
     "metadata": {},
     "output_type": "execute_result"
    }
   ],
   "source": [
    "MyList"
   ]
  },
  {
   "cell_type": "code",
   "execution_count": 41,
   "metadata": {
    "scrolled": true
   },
   "outputs": [],
   "source": [
    "del MyList[2]"
   ]
  },
  {
   "cell_type": "code",
   "execution_count": 42,
   "metadata": {
    "scrolled": false
   },
   "outputs": [
    {
     "data": {
      "text/plain": [
       "[3, 2.44, True]"
      ]
     },
     "execution_count": 42,
     "metadata": {},
     "output_type": "execute_result"
    }
   ],
   "source": [
    "MyList"
   ]
  },
  {
   "cell_type": "markdown",
   "metadata": {},
   "source": [
    "Note that in ipython you can suffix an `.` to a particular object (e.g., `MyList.`), and then hit tab to see the methods that can be applied to that object.  "
   ]
  },
  {
   "cell_type": "markdown",
   "metadata": {},
   "source": [
    "### Tuples\n",
    "\n",
    "Tuples are like a list, but \"immutable\", that is, a *particular pair* or sequence of strings or numbers cannot be modified after it is created. So a tuple is like a read-only list. \n",
    "\n",
    "Try this:"
   ]
  },
  {
   "cell_type": "code",
   "execution_count": 43,
   "metadata": {},
   "outputs": [
    {
     "data": {
      "text/plain": [
       "[('a', 'b'), ('a', 'c'), ('b', 'c'), ('c', 'c')]"
      ]
     },
     "execution_count": 43,
     "metadata": {},
     "output_type": "execute_result"
    }
   ],
   "source": [
    "FoodWeb=[('a','b'),('a','c'),('b','c'),('c','c')]\n",
    "FoodWeb"
   ]
  },
  {
   "cell_type": "code",
   "execution_count": 44,
   "metadata": {},
   "outputs": [
    {
     "data": {
      "text/plain": [
       "('a', 'b')"
      ]
     },
     "execution_count": 44,
     "metadata": {},
     "output_type": "execute_result"
    }
   ],
   "source": [
    "FoodWeb[0]"
   ]
  },
  {
   "cell_type": "code",
   "execution_count": 45,
   "metadata": {},
   "outputs": [
    {
     "data": {
      "text/plain": [
       "'a'"
      ]
     },
     "execution_count": 45,
     "metadata": {},
     "output_type": "execute_result"
    }
   ],
   "source": [
    "FoodWeb[0][0]"
   ]
  },
  {
   "cell_type": "code",
   "execution_count": 46,
   "metadata": {
    "scrolled": true
   },
   "outputs": [
    {
     "ename": "TypeError",
     "evalue": "'tuple' object does not support item assignment",
     "output_type": "error",
     "traceback": [
      "\u001b[0;31m---------------------------------------------------------------------------\u001b[0m",
      "\u001b[0;31mTypeError\u001b[0m                                 Traceback (most recent call last)",
      "\u001b[0;32m<ipython-input-46-5ea591e0b234>\u001b[0m in \u001b[0;36m<module>\u001b[0;34m()\u001b[0m\n\u001b[0;32m----> 1\u001b[0;31m \u001b[0mFoodWeb\u001b[0m\u001b[0;34m[\u001b[0m\u001b[0;36m0\u001b[0m\u001b[0;34m]\u001b[0m\u001b[0;34m[\u001b[0m\u001b[0;36m0\u001b[0m\u001b[0;34m]\u001b[0m \u001b[0;34m=\u001b[0m \u001b[0;34m\"bbb\"\u001b[0m\u001b[0;34m\u001b[0m\u001b[0m\n\u001b[0m",
      "\u001b[0;31mTypeError\u001b[0m: 'tuple' object does not support item assignment"
     ]
    }
   ],
   "source": [
    "FoodWeb[0][0] = \"bbb\""
   ]
  },
  {
   "cell_type": "markdown",
   "metadata": {},
   "source": [
    "Thus, tuples are \"immutable\"!"
   ]
  },
  {
   "cell_type": "code",
   "execution_count": 47,
   "metadata": {},
   "outputs": [],
   "source": [
    "FoodWeb[0] = (\"bbb\",\"ccc\")   "
   ]
  },
  {
   "cell_type": "code",
   "execution_count": 48,
   "metadata": {},
   "outputs": [
    {
     "data": {
      "text/plain": [
       "('bbb', 'ccc')"
      ]
     },
     "execution_count": 48,
     "metadata": {},
     "output_type": "execute_result"
    }
   ],
   "source": [
    "FoodWeb[0]"
   ]
  },
  {
   "cell_type": "markdown",
   "metadata": {},
   "source": [
    "*In the above example, why assign these food web data to a list of tuples and not a list of lists?* — because we want to maintain the species associations, no matter what — they are sacrosanct!\n",
    "\n",
    "Thus, you cannot:\n",
    "\n",
    "* add elements to a tuple. Tuples have no append or extend method.\n",
    "* remove elements from a tuple. Tuples have no remove method.\n",
    "\n",
    "But you can:\n",
    "* find elements in a tuple, since this doesn't change the tuple.\n",
    "* use the `in` operator to check if an element exists in the tuple (more on this in the control flow and loops sections below).\n",
    "\n",
    "The key point is that tuples are faster than lists, as you might expect for an immutable object (it has a fixed memory space, which makes it more efficient to retrieve). using tuples also makes your code safer as it effectively write-protects data (as long as you don't plan to modify those particular data).\n",
    "\n",
    "[Read more about tuples here.](http://getpython3.com/diveintopython3/native-datatypes.html#tuples) \n",
    "\n",
    "Tuples may be immutable, but you *can* append to them by first creating an \"empty space\" for the new item:"
   ]
  },
  {
   "cell_type": "code",
   "execution_count": 49,
   "metadata": {},
   "outputs": [
    {
     "data": {
      "text/plain": [
       "(1, 2, [])"
      ]
     },
     "execution_count": 49,
     "metadata": {},
     "output_type": "execute_result"
    }
   ],
   "source": [
    "a = (1, 2, []) \n",
    "a"
   ]
  },
  {
   "cell_type": "code",
   "execution_count": 50,
   "metadata": {},
   "outputs": [
    {
     "data": {
      "text/plain": [
       "(1, 2, [1000])"
      ]
     },
     "execution_count": 50,
     "metadata": {},
     "output_type": "execute_result"
    }
   ],
   "source": [
    "a[2].append(1000)\n",
    "a"
   ]
  },
  {
   "cell_type": "code",
   "execution_count": 51,
   "metadata": {},
   "outputs": [
    {
     "data": {
      "text/plain": [
       "(1, 2, [1000, 1000])"
      ]
     },
     "execution_count": 51,
     "metadata": {},
     "output_type": "execute_result"
    }
   ],
   "source": [
    "a[2].append(1000)\n",
    "a"
   ]
  },
  {
   "cell_type": "code",
   "execution_count": 52,
   "metadata": {},
   "outputs": [
    {
     "data": {
      "text/plain": [
       "(1, 2, [1000, 1000, (100, 10)])"
      ]
     },
     "execution_count": 52,
     "metadata": {},
     "output_type": "execute_result"
    }
   ],
   "source": [
    "a[2].append((100,10))\n",
    "a"
   ]
  },
  {
   "cell_type": "markdown",
   "metadata": {},
   "source": [
    "You can also concatenate, slice and dice them as long as they contain a single sequence or set of items:"
   ]
  },
  {
   "cell_type": "code",
   "execution_count": 53,
   "metadata": {},
   "outputs": [],
   "source": [
    "a = (1, 2, 3)"
   ]
  },
  {
   "cell_type": "code",
   "execution_count": 54,
   "metadata": {},
   "outputs": [
    {
     "data": {
      "text/plain": [
       "(1, 2, 3, 4, 5, 6)"
      ]
     },
     "execution_count": 54,
     "metadata": {},
     "output_type": "execute_result"
    }
   ],
   "source": [
    "b = a + (4, 5, 6)\n",
    "b"
   ]
  },
  {
   "cell_type": "code",
   "execution_count": 55,
   "metadata": {},
   "outputs": [
    {
     "data": {
      "text/plain": [
       "(2, 3, 4, 5, 6)"
      ]
     },
     "execution_count": 55,
     "metadata": {},
     "output_type": "execute_result"
    }
   ],
   "source": [
    "c = b[1:]\n",
    "c"
   ]
  },
  {
   "cell_type": "code",
   "execution_count": 56,
   "metadata": {
    "scrolled": true
   },
   "outputs": [
    {
     "data": {
      "text/plain": [
       "(2, 3, 4, 5, 6)"
      ]
     },
     "execution_count": 56,
     "metadata": {},
     "output_type": "execute_result"
    }
   ],
   "source": [
    "b = b[1:]\n",
    "b"
   ]
  },
  {
   "cell_type": "markdown",
   "metadata": {},
   "source": [
    "They can be a heterogeneous set as well. "
   ]
  },
  {
   "cell_type": "code",
   "execution_count": 57,
   "metadata": {},
   "outputs": [
    {
     "data": {
      "text/plain": [
       "('1', 2, True)"
      ]
     },
     "execution_count": 57,
     "metadata": {},
     "output_type": "execute_result"
    }
   ],
   "source": [
    "a = (\"1\", 2, True)\n",
    "a"
   ]
  },
  {
   "cell_type": "markdown",
   "metadata": {},
   "source": [
    "### Sets\n",
    "\n",
    "You can convert a list to an immutable \"set\" — an unordered collection with no duplicate elements. Once you create a set you can perform set operations on it:"
   ]
  },
  {
   "cell_type": "code",
   "execution_count": 58,
   "metadata": {},
   "outputs": [],
   "source": [
    "a = [5,6,7,7,7,8,9,9]"
   ]
  },
  {
   "cell_type": "code",
   "execution_count": 59,
   "metadata": {},
   "outputs": [],
   "source": [
    "b = set(a)"
   ]
  },
  {
   "cell_type": "code",
   "execution_count": 60,
   "metadata": {},
   "outputs": [
    {
     "data": {
      "text/plain": [
       "{5, 6, 7, 8, 9}"
      ]
     },
     "execution_count": 60,
     "metadata": {},
     "output_type": "execute_result"
    }
   ],
   "source": [
    "b"
   ]
  },
  {
   "cell_type": "code",
   "execution_count": 61,
   "metadata": {},
   "outputs": [],
   "source": [
    "c = set([3,4,5,6])"
   ]
  },
  {
   "cell_type": "code",
   "execution_count": 62,
   "metadata": {},
   "outputs": [
    {
     "data": {
      "text/plain": [
       "{5, 6}"
      ]
     },
     "execution_count": 62,
     "metadata": {},
     "output_type": "execute_result"
    }
   ],
   "source": [
    "b & c # intersection"
   ]
  },
  {
   "cell_type": "code",
   "execution_count": 63,
   "metadata": {},
   "outputs": [
    {
     "data": {
      "text/plain": [
       "{3, 4, 5, 6, 7, 8, 9}"
      ]
     },
     "execution_count": 63,
     "metadata": {},
     "output_type": "execute_result"
    }
   ],
   "source": [
    "b | c # union"
   ]
  },
  {
   "cell_type": "markdown",
   "metadata": {},
   "source": [
    "The key set operations in python are:\n",
    "\n",
    "| | |\n",
    "|:- |:- |\n",
    "| `a - b `|        a.difference(b)|\n",
    "| `a <= b` |     a.issubset(b)|\n",
    "| `a >= b`  |    b.issubset(a)|\n",
    "| `a & b`    |     a.intersection(b)|\n",
    "| `a $\\vert$ b`|   a.union(b)|"
   ]
  },
  {
   "cell_type": "markdown",
   "metadata": {},
   "source": [
    "### Dictionaries\n",
    "\n",
    "A dictionary is a set of values (any python object) indexed by keys (string or number). So they are a bit like `R` lists."
   ]
  },
  {
   "cell_type": "code",
   "execution_count": 64,
   "metadata": {},
   "outputs": [],
   "source": [
    "GenomeSize = {'Homo sapiens': 3200.0, 'Escherichia coli': 4.6, 'Arabidopsis thaliana': 157.0}"
   ]
  },
  {
   "cell_type": "code",
   "execution_count": 65,
   "metadata": {},
   "outputs": [
    {
     "data": {
      "text/plain": [
       "{'Arabidopsis thaliana': 157.0,\n",
       " 'Escherichia coli': 4.6,\n",
       " 'Homo sapiens': 3200.0}"
      ]
     },
     "execution_count": 65,
     "metadata": {},
     "output_type": "execute_result"
    }
   ],
   "source": [
    " GenomeSize"
   ]
  },
  {
   "cell_type": "code",
   "execution_count": 66,
   "metadata": {},
   "outputs": [
    {
     "data": {
      "text/plain": [
       "157.0"
      ]
     },
     "execution_count": 66,
     "metadata": {},
     "output_type": "execute_result"
    }
   ],
   "source": [
    "GenomeSize['Arabidopsis thaliana']"
   ]
  },
  {
   "cell_type": "code",
   "execution_count": 67,
   "metadata": {},
   "outputs": [],
   "source": [
    "GenomeSize['Saccharomyces cerevisiae'] = 12.1"
   ]
  },
  {
   "cell_type": "code",
   "execution_count": 68,
   "metadata": {
    "scrolled": true
   },
   "outputs": [
    {
     "data": {
      "text/plain": [
       "{'Arabidopsis thaliana': 157.0,\n",
       " 'Escherichia coli': 4.6,\n",
       " 'Homo sapiens': 3200.0,\n",
       " 'Saccharomyces cerevisiae': 12.1}"
      ]
     },
     "execution_count": 68,
     "metadata": {},
     "output_type": "execute_result"
    }
   ],
   "source": [
    "GenomeSize"
   ]
  },
  {
   "cell_type": "code",
   "execution_count": 69,
   "metadata": {},
   "outputs": [],
   "source": [
    "GenomeSize['Escherichia coli'] = 4.6 "
   ]
  },
  {
   "cell_type": "code",
   "execution_count": 70,
   "metadata": {},
   "outputs": [
    {
     "data": {
      "text/plain": [
       "{'Arabidopsis thaliana': 157.0,\n",
       " 'Escherichia coli': 4.6,\n",
       " 'Homo sapiens': 3200.0,\n",
       " 'Saccharomyces cerevisiae': 12.1}"
      ]
     },
     "execution_count": 70,
     "metadata": {},
     "output_type": "execute_result"
    }
   ],
   "source": [
    "GenomeSize"
   ]
  },
  {
   "cell_type": "markdown",
   "metadata": {},
   "source": [
    "Because 'Escherichia coli' is already in the dictionary, it is not repeated."
   ]
  },
  {
   "cell_type": "code",
   "execution_count": 71,
   "metadata": {},
   "outputs": [],
   "source": [
    " GenomeSize['Homo sapiens'] = 3201.1"
   ]
  },
  {
   "cell_type": "code",
   "execution_count": 72,
   "metadata": {},
   "outputs": [
    {
     "data": {
      "text/plain": [
       "{'Arabidopsis thaliana': 157.0,\n",
       " 'Escherichia coli': 4.6,\n",
       " 'Homo sapiens': 3201.1,\n",
       " 'Saccharomyces cerevisiae': 12.1}"
      ]
     },
     "execution_count": 72,
     "metadata": {},
     "output_type": "execute_result"
    }
   ],
   "source": [
    "GenomeSize"
   ]
  },
  {
   "cell_type": "markdown",
   "metadata": {},
   "source": [
    "---\n",
    "> Tuples that contain immutable values like strings, numbers, and other tuples  can be used as dictionary keys. Lists can never be used as dictionary keys, because they are mutable\n",
    "\n",
    "---\n",
    "\n",
    "So, in summary:\n",
    "\n",
    "* If your elements/data are unordered and indexed by numbers use a *list*\n",
    "* If you're defining a constant set of values (or ordered sequences) and all you're ever going to do with them is iterate through them, use a *tuple*.\n",
    "* If you want to perform set operations on data, use a *set*\n",
    "* If they are unordered and indexed by keys (e.g., names), use a  *dictionary*\n",
    "\n",
    "*But why not use dictionaries for everything?* – because it can slow down your code!\n",
    "\n",
    "### Copying mutable objects\n",
    "\n",
    "Copying mutable objects can be tricky. \n",
    "\n",
    "First, try this:"
   ]
  },
  {
   "cell_type": "code",
   "execution_count": 73,
   "metadata": {},
   "outputs": [],
   "source": [
    "a = [1, 2, 3]\n",
    "b = a"
   ]
  },
  {
   "cell_type": "markdown",
   "metadata": {},
   "source": [
    "Here, you have not really copied, but merely created a new \"tag\" (like a label) for `a`, called `b`."
   ]
  },
  {
   "cell_type": "code",
   "execution_count": 74,
   "metadata": {},
   "outputs": [],
   "source": [
    "a.append(4)"
   ]
  },
  {
   "cell_type": "code",
   "execution_count": 75,
   "metadata": {},
   "outputs": [
    {
     "data": {
      "text/plain": [
       "[1, 2, 3, 4]"
      ]
     },
     "execution_count": 75,
     "metadata": {},
     "output_type": "execute_result"
    }
   ],
   "source": [
    "b"
   ]
  },
  {
   "cell_type": "markdown",
   "metadata": {},
   "source": [
    "So `b` changed as well! \n",
    "\n",
    "Now, try:"
   ]
  },
  {
   "cell_type": "code",
   "execution_count": 76,
   "metadata": {},
   "outputs": [],
   "source": [
    "a = [1, 2, 3]\n",
    "b = a[:]  # This is a \"shallow\" copy"
   ]
  },
  {
   "cell_type": "code",
   "execution_count": 77,
   "metadata": {},
   "outputs": [
    {
     "data": {
      "text/plain": [
       "[1, 2, 3]"
      ]
     },
     "execution_count": 77,
     "metadata": {},
     "output_type": "execute_result"
    }
   ],
   "source": [
    "a.append(4)\n",
    "b"
   ]
  },
  {
   "cell_type": "markdown",
   "metadata": {},
   "source": [
    "That worked! But what about more complex lists? Try this nested list:"
   ]
  },
  {
   "cell_type": "code",
   "execution_count": 78,
   "metadata": {},
   "outputs": [
    {
     "data": {
      "text/plain": [
       "[[1, 2], [3, 4]]"
      ]
     },
     "execution_count": 78,
     "metadata": {},
     "output_type": "execute_result"
    }
   ],
   "source": [
    "a = [[1, 2], [3, 4]]\n",
    "b = a[:]\n",
    "b"
   ]
  },
  {
   "cell_type": "code",
   "execution_count": 79,
   "metadata": {
    "scrolled": true
   },
   "outputs": [
    {
     "data": {
      "text/plain": [
       "[[1, 22], [3, 4]]"
      ]
     },
     "execution_count": 79,
     "metadata": {},
     "output_type": "execute_result"
    }
   ],
   "source": [
    "a[0][1] = 22 # Note how I accessed this 2D list\n",
    "b"
   ]
  },
  {
   "cell_type": "markdown",
   "metadata": {},
   "source": [
    "So shallow copy is not recursive, that is, it does not copy beyond the first level of the list, leaving the values in the nested list still linked in memory to the  original object `a`.\n",
    "\n",
    "The solution is to do a \"deep\" copy:"
   ]
  },
  {
   "cell_type": "code",
   "execution_count": 80,
   "metadata": {},
   "outputs": [
    {
     "data": {
      "text/plain": [
       "[[1, 2], [3, 4]]"
      ]
     },
     "execution_count": 80,
     "metadata": {},
     "output_type": "execute_result"
    }
   ],
   "source": [
    "import copy\n",
    "\n",
    "a = [[1, 2], [3, 4]]\n",
    "b = copy.deepcopy(a)\n",
    "a[0][1] = 22\n",
    "b"
   ]
  },
  {
   "cell_type": "markdown",
   "metadata": {},
   "source": [
    "So, you need to employ `deepcopy` to really copy an existing object or variable and assign a new name to the copy. So, in summary, shallow copying an object won't create objects that are independent clones, i.e., the copy is not fully independent of the original. A deep copy of an object will recursively clone \"child\" objects (like nested parts of a list). The clone is fully independent of the original, but creating a deep copy is slower, as it involves assigning new memory space. Keep in mind that this shallow vs. deep copy business does  not just apply to lists. You can copy arbitrary objects (including custom classes) with the copy module.\n",
    "\n",
    "---\n",
    "> **Why Python \"shallow\" copies objects:** Python does shallow copying of mutable objects for (computing) performance considerations. By not copying the underlaying object when you re-assign a mutable object to a new (\"variable\") name, python avoids unnecessary memory copying ( aka \"passing by reference\"). That does not change the fact that shallow vs. deep copying can be confusing, of course!\n",
    "\n",
    "---\n",
    "\n",
    "### Python with strings\n",
    "\n",
    "One of the things that makes python so useful and versatile, is that it has a powerful set of inbuilt commands to perform string manipulations. For example, try these:"
   ]
  },
  {
   "cell_type": "code",
   "execution_count": 81,
   "metadata": {},
   "outputs": [
    {
     "data": {
      "text/plain": [
       "18"
      ]
     },
     "execution_count": 81,
     "metadata": {},
     "output_type": "execute_result"
    }
   ],
   "source": [
    "s = \" this is a string \"\n",
    "len(s) # length of s -> 18"
   ]
  },
  {
   "cell_type": "code",
   "execution_count": 82,
   "metadata": {},
   "outputs": [
    {
     "data": {
      "text/plain": [
       "'-this-is-a-string-'"
      ]
     },
     "execution_count": 82,
     "metadata": {},
     "output_type": "execute_result"
    }
   ],
   "source": [
    "s.replace(\" \",\"-\") # Substitute spaces \" \" with dashes"
   ]
  },
  {
   "cell_type": "code",
   "execution_count": 83,
   "metadata": {},
   "outputs": [
    {
     "data": {
      "text/plain": [
       "4"
      ]
     },
     "execution_count": 83,
     "metadata": {},
     "output_type": "execute_result"
    }
   ],
   "source": [
    "s.find(\"s\") # First occurrence of s (remember, indexing starts at 0)"
   ]
  },
  {
   "cell_type": "code",
   "execution_count": 84,
   "metadata": {},
   "outputs": [
    {
     "data": {
      "text/plain": [
       "3"
      ]
     },
     "execution_count": 84,
     "metadata": {},
     "output_type": "execute_result"
    }
   ],
   "source": [
    "s.count(\"s\")# Count the number of \"s\""
   ]
  },
  {
   "cell_type": "code",
   "execution_count": 85,
   "metadata": {},
   "outputs": [
    {
     "data": {
      "text/plain": [
       "['this', 'is', 'a', 'string']"
      ]
     },
     "execution_count": 85,
     "metadata": {},
     "output_type": "execute_result"
    }
   ],
   "source": [
    "t = s.split() # Split the string using spaces and make a list \n",
    "t"
   ]
  },
  {
   "cell_type": "code",
   "execution_count": 86,
   "metadata": {},
   "outputs": [
    {
     "data": {
      "text/plain": [
       "[' this', 'a string ']"
      ]
     },
     "execution_count": 86,
     "metadata": {},
     "output_type": "execute_result"
    }
   ],
   "source": [
    "t = s.split(\" is \") # Split the string using \" is \" and make a list out of it\n",
    "t"
   ]
  },
  {
   "cell_type": "code",
   "execution_count": 87,
   "metadata": {},
   "outputs": [
    {
     "data": {
      "text/plain": [
       "'this is a string'"
      ]
     },
     "execution_count": 87,
     "metadata": {},
     "output_type": "execute_result"
    }
   ],
   "source": [
    "t = s.strip() # remove trailing spaces\n",
    "t"
   ]
  },
  {
   "cell_type": "code",
   "execution_count": 88,
   "metadata": {},
   "outputs": [
    {
     "data": {
      "text/plain": [
       "' THIS IS A STRING '"
      ]
     },
     "execution_count": 88,
     "metadata": {},
     "output_type": "execute_result"
    }
   ],
   "source": [
    "s.upper()"
   ]
  },
  {
   "cell_type": "code",
   "execution_count": 89,
   "metadata": {},
   "outputs": [
    {
     "data": {
      "text/plain": [
       "'THIS IS A STRING'"
      ]
     },
     "execution_count": 89,
     "metadata": {},
     "output_type": "execute_result"
    }
   ],
   "source": [
    "s.upper().strip() # can perform sequential operations"
   ]
  },
  {
   "cell_type": "code",
   "execution_count": 90,
   "metadata": {
    "scrolled": true
   },
   "outputs": [
    {
     "data": {
      "text/plain": [
       "'word'"
      ]
     },
     "execution_count": 90,
     "metadata": {},
     "output_type": "execute_result"
    }
   ],
   "source": [
    "'WORD'.lower() # can perfrom operations directy on a literal string "
   ]
  },
  {
   "cell_type": "markdown",
   "metadata": {},
   "source": [
    "### Getting help\n",
    "\n",
    "You can do this:"
   ]
  },
  {
   "cell_type": "code",
   "execution_count": 91,
   "metadata": {},
   "outputs": [],
   "source": [
    "?s.upper()"
   ]
  },
  {
   "cell_type": "markdown",
   "metadata": {},
   "source": [
    "Also try `help()` at the python/ipython prompt. "
   ]
  },
  {
   "cell_type": "markdown",
   "metadata": {},
   "source": [
    "## Writing Python code\n",
    "\n",
    "Now let's learn to write and run python code from a `.py` file. But first, some some guidelines for good code-writing practices (also see the official [python style guide](https://www.python.org/dev/peps/pep-0008/?)):\n",
    "\n",
    "* Wrap lines to be <80 characters long. You can use parentheses `()` or signal that the line continues using a backslash `\\`\n",
    "* Use either 4 spaces for indentation or tabs, but not both! (I use tabs!)\n",
    "* Separate functions using a blank line\n",
    "* When possible, write comments on separate lines\n",
    "\n",
    "Make sure you have chosen a particular indent type (space or tab)in or whatever code IDE/editor you are using — indentation is all-important in python. Furthermore,\n",
    "\n",
    "* Use \"docstrings\" to **document how to use the code**, and **comments to explain why and how the code works**\n",
    "* Naming conventions (bit of a mess, you'll learn as you go!):\n",
    "    * `_internal_global_variable` (for use inside module only)\n",
    "    * `a_variable`\n",
    "    * `SOME_CONSTANT`\n",
    "    * `a_function`\n",
    "* Never call a variable `l` or `O` or `o` (*why not?* – you are likely to confuse it with `1` or `0`!)\n",
    "* Use spaces around operators and after commas:\n",
    "```python\n",
    "a = func(x, y) + other(3, 4)\n",
    "```\n",
    "\n",
    "## Python Input/Output\n",
    "\n",
    "Let's look at importing and exporting data. \n",
    "\n",
    "$\\star$ Make a text file called `test.txt` in `Week2/sandbox/` with the following content (including the empty lines):\n",
    "\n",
    "```\n",
    "First Line\n",
    "Second Line\n",
    "\n",
    "Third Line\n",
    "\n",
    "Fourth Line\n",
    "```"
   ]
  },
  {
   "cell_type": "markdown",
   "metadata": {},
   "source": [
    "Then, type the following in `Week2/Code/basic_io.py` (note the indentation!):\n",
    "\n",
    "```python\n",
    "#############################\n",
    "# FILE INPUT\n",
    "#############################\n",
    "# Open a file for reading\n",
    "f = open('../sandbox/test.txt', 'r')\n",
    "# use \"implicit\" for loop:\n",
    "# if the object is a file, python will cycle over lines\n",
    "for line in f:\n",
    "    print(line)\n",
    "\n",
    "# close the file\n",
    "f.close()\n",
    "\n",
    "# Same example, skip blank lines\n",
    "f = open('../sandbox/test.txt', 'r')\n",
    "for line in f:\n",
    "    if len(line.strip()) > 0:\n",
    "        print(line)\n",
    "\n",
    "f.close()\n",
    "\n",
    "#############################\n",
    "# FILE OUTPUT\n",
    "#############################\n",
    "# Save the elements of a list to a file\n",
    "list_to_save = range(100)\n",
    "\n",
    "f = open('../sandbox/testout.txt','w')\n",
    "for i in list_to_save:\n",
    "    f.write(str(i) + '\\n') ## Add a new line at the end\n",
    "\n",
    "f.close()\n",
    "\n",
    "#############################\n",
    "# STORING OBJECTS\n",
    "#############################\n",
    "# To save an object (even complex) for later use\n",
    "my_dictionary = {\"a key\": 10, \"another key\": 11}\n",
    "\n",
    "import pickle\n",
    "\n",
    "f = open('../sandbox/testp.p','wb') ## note the b: accept binary files\n",
    "pickle.dump(my_dictionary, f)\n",
    "f.close()\n",
    "\n",
    "## Load the data again\n",
    "f = open('../sandbox/testp.p','rb')\n",
    "another_dictionary = pickle.load(f)\n",
    "f.close()\n",
    "\n",
    "print(another_dictionary)\n",
    "\n",
    "```"
   ]
  },
  {
   "cell_type": "markdown",
   "metadata": {},
   "source": [
    "Now run the script block by block in ipython, or run the whole thing from ipython (or bash) (you will learn about running scripts more formally below).  \n",
    "\n",
    "Note the following about this script:\n",
    "\n",
    "* The `for line in f` is an implicit loop — implicit because stating the range of things in `f` to loop over in this way allows python to handle any kind of objects to loop through. \n",
    "    * For example, if `f` was an array of numbers 1 to 10, it would loop through them\n",
    "    * Another example: if `f` is a file, as in the case of the script above, it will loop through the lines in the file.\n",
    "* `if len(line.strip()) > 0` checks if the line is empty. Try `?` to see what `.strip()` does.\n",
    "\n",
    "\n",
    "\n",
    "### Handling `csv`'s\n",
    "\n",
    "The `csv` package makes it easy to manipulate CSV files. Let's try it.\n",
    "\n",
    "$\\star$ Get ` testcsv.csv` from TheMulQuaBio's `data` directory. Then type the following script in `basic_csv.py`\n",
    "\n",
    "```python\n",
    "import csv\n",
    "\n",
    "# Read a file containing:\n",
    "# 'Species','Infraorder','Family','Distribution','Body mass male (Kg)'\n",
    "f = open('../data/testcsv.csv','r')\n",
    "\n",
    "csvread = csv.reader(f)\n",
    "temp = []\n",
    "for row in csvread:\n",
    "    temp.append(tuple(row))\n",
    "    print(row)\n",
    "    print(\"The species is\", row[0])\n",
    "\n",
    "f.close()\n",
    "\n",
    "# write a file containing only species name and Body mass\n",
    "f = open('../data/testcsv.csv','r')\n",
    "g = open('../data/bodymass.csv','w')\n",
    "\n",
    "csvread = csv.reader(f)\n",
    "csvwrite = csv.writer(g)\n",
    "for row in csvread:\n",
    "    print(row)\n",
    "    csvwrite.writerow([row[0], row[4]])\n",
    "\n",
    "f.close()\n",
    "g.close()\n",
    "```\n",
    "\n",
    "## Testing blocks of code \n",
    "\n",
    "Now that you have seen how all-important indentation of python code is. You can test a block of code, indentation and all, by pasting it directly into the ipython terminal. Let's try it. \n",
    "\n",
    "$\\star$ Type the following code in a temporary text file:\n",
    "\n",
    "```python\n",
    "for i in range(x):\n",
    "    if i > 3: #4 spaces or 2 tabs in this case\n",
    "        print(i)\n",
    "```\n",
    "\n",
    "Now, assign some integer value to a variable `x`:"
   ]
  },
  {
   "cell_type": "code",
   "execution_count": 92,
   "metadata": {},
   "outputs": [],
   "source": [
    "x = 11"
   ]
  },
  {
   "cell_type": "markdown",
   "metadata": {},
   "source": [
    "Then, paste this code at the ipython prompt (`ctrl+shift+v`), and hit enter: "
   ]
  },
  {
   "cell_type": "code",
   "execution_count": 93,
   "metadata": {},
   "outputs": [
    {
     "name": "stdout",
     "output_type": "stream",
     "text": [
      "4\n",
      "5\n",
      "6\n",
      "7\n",
      "8\n",
      "9\n",
      "10\n"
     ]
    }
   ],
   "source": [
    "for i in range(x):\n",
    "    if i > 3: #4 spaces or 2 tabs in this case\n",
    "        print(i)"
   ]
  },
  {
   "cell_type": "markdown",
   "metadata": {},
   "source": [
    "Of course, this code is simple, so directly pasting works. For more complex code, you may need to use the ipython `%cpaste` magic function."
   ]
  },
  {
   "cell_type": "markdown",
   "metadata": {},
   "source": [
    "## Writing Python programs\n",
    "\n",
    "Now let's let start with proper python functions. We will start with a \"boilerplate\" code. Type the code below and save as `boilerplate.py` in `Week2/Code`:\n",
    "\n",
    "```python\n",
    "#!/usr/bin/env python3\n",
    "\n",
    "\"\"\"Description of this program or application.\n",
    "\tYou can use several lines\"\"\"\n",
    "\n",
    "__appname__ = '[application name here]'\n",
    "__author__ = 'Your Name (your@email.address)'\n",
    "__version__ = '0.0.1'\n",
    "__license__ = \"License for this code/program\"\n",
    "\n",
    "## imports ##\n",
    "import sys # module to interface our program with the operating system\n",
    "\n",
    "## constants ##\n",
    "\n",
    "\n",
    "## functions ##\n",
    "def main(argv):\n",
    "    \"\"\" Main entry point of the program \"\"\"\n",
    "\tprint('This is a boilerplate') # NOTE: indented using two tabs or 4 spaces\n",
    "\treturn 0\n",
    "\n",
    "if __name__ == \"__main__\": \n",
    "    \"\"\"Makes sure the \"main\" function is called from command line\"\"\"  \n",
    "\tstatus = main(sys.argv)\n",
    "\tsys.exit(status)\n",
    "```\n",
    "\n",
    "#### Running your python program\n",
    "\n",
    "Now open another bash terminal, and `cd ` to the directory and run the code. Then, run the code (NOT in the python or ipython shell, but the bash shell! ):\n",
    "\n",
    "```bash\n",
    "python3 boilerplate.py\n",
    "```\n",
    "You should get:\n",
    "\n",
    "```bash\n",
    "This is a boilerplate\n",
    "```\n",
    "\n",
    "Alternatively, you can use ipython:\n",
    "\n",
    "```bash\n",
    "ipython boilerplate.py\n",
    "```\n",
    "With the same result. "
   ]
  },
  {
   "cell_type": "markdown",
   "metadata": {},
   "source": [
    "You can also execute a python script file from within the `ipython` shell with `run MyScript.py`. \n",
    "\n",
    "So, enter `ipython` from bash (or switch to a terminal where you are already in the ipython shell), and do:"
   ]
  },
  {
   "cell_type": "code",
   "execution_count": 110,
   "metadata": {
    "scrolled": true
   },
   "outputs": [
    {
     "name": "stdout",
     "output_type": "stream",
     "text": [
      "This is a boilerplate\n"
     ]
    }
   ],
   "source": [
    "run boilerplate.py"
   ]
  },
  {
   "cell_type": "markdown",
   "metadata": {},
   "source": [
    "To run the script from the native python shell, you would use `execfile(\"MyScript.py\")`.\n",
    "\n",
    "### Components of the Python program\n",
    "\n",
    "Now let's examine the elements of your first, boilerplate code:\n",
    "\n",
    "#### The shebang\n",
    "\n",
    "Just like UNIX shell scripts, the first \"shebang\" line tells the computer where to look for python. It determines the script's ability to be executed like an standalone executable without typing python beforehand in the terminal or when double clicking it in a file manager (when configured properly to be an executable). It isn't necessary but\n",
    "generally put there so when someone sees the file opened in an editor, they immediately know what they're looking at. \n",
    "\n",
    "However, which shebang line you use is important. Here by using `\\#!/usr/bin/env python3` we are specifying the location to the python executable in your machine that rest of the script needs to be interpreted with. You may use `\\#!/usr/bin/python` instead, but this might not work on somebody else's machine if the Python executable isn't actually located at `/usr/bin/`.\n",
    "\n",
    "[Read more about the python shebang here.](https://www.python.org/dev/peps/pep-0394/#recommendation)\n",
    "\n",
    "#### The Docstring\n",
    "\n",
    "Triple quotes start a \"docstring\" comment, which is meant to describe the operation of the script or a function/module within it. Docstrings are considered part of the running code, while normal comments are\n",
    "stripped. Hence, you can access your docstrings at run time. It is a good idea to have doctrings at the start of every python script and module as it can provide useful information to the user and you as well, down the line.\n",
    "\n",
    "You can access the docstring(s) in a script (both for the overall script and the ones in each of its functions), by importing the function (say, `my_func`), and then typing `help(my_func)` or `?my_func` in the python or ipython shell. For example, try ` import boilerplate` and then `help(boilerplate)` (but you have to be in the python or ipython shell)."
   ]
  },
  {
   "cell_type": "code",
   "execution_count": 111,
   "metadata": {},
   "outputs": [],
   "source": [
    "import boilerplate"
   ]
  },
  {
   "cell_type": "code",
   "execution_count": 112,
   "metadata": {
    "scrolled": true
   },
   "outputs": [
    {
     "name": "stdout",
     "output_type": "stream",
     "text": [
      "Help on module boilerplate:\n",
      "\n",
      "NAME\n",
      "    boilerplate\n",
      "\n",
      "FILE\n",
      "    /home/mhasoba/Documents/Teaching/SilBioComp/TheMulQuaBio/code/boilerplate.py\n",
      "\n",
      "DESCRIPTION\n",
      "    Description of this program or application.\n",
      "    You can use several lines\n",
      "\n",
      "FUNCTIONS\n",
      "    main(argv)\n",
      "        Main entry point of the program\n",
      "\n",
      "DATA\n",
      "    __appname__ = '[application name here]'\n",
      "    __author__ = 'Your Name (your@email.address)'\n",
      "    __license__ = 'License for this code/program'\n",
      "    __version__ = '0.0.1'\n",
      "\n",
      "VERSION\n",
      "    0.0.1\n",
      "\n",
      "AUTHOR\n",
      "    Your Name (your@email.address)\n",
      "\n",
      "\n"
     ]
    }
   ],
   "source": [
    "help(boilerplate)"
   ]
  },
  {
   "cell_type": "markdown",
   "metadata": {},
   "source": [
    "For more info, see the official [doctring conventions](https://www.python.org/dev/peps/pep-0257)\n",
    "\n",
    "#### Internal Variables\n",
    "\n",
    "\"`__`\" signal \"internal\" variables (never name your variables so!)\n",
    "\n",
    "#### Function `def`initions and \"modules\"\n",
    "\n",
    "`def` indicates the start of a python function (aka \"module\"); all subsequent lines must be indented.\n",
    "\n",
    "It's important to know that somewhat confusingly, Pythonistas call a file containing function `def`itions's) and statements (e.g., assignments of constant variables) a \"module\". There is a practical reason (there's always one!) for this. You might want to use a particular set of python `def`'s (functions) and statements either as a standalone function, or use it or subsets of it from other scripts. So in theory, every function you `def`ine can be a sub-module usable by other scripts.\n",
    "\n",
    "*In other words, `def`initions from a module can be imported into other modules and scripts, or into the main program itself.*\n",
    "\n",
    "Remember, you can define your own Python \"class\"es. Have a look [at this]( <http://learnpythonthehardway.org/book/ex40.html) — a nice, intuitive tutorial that should help you understand functions vs. modules vs. classes in Python.\n",
    "\n",
    "The last few lines, including the `main` function/module are somewhat esoteric but important; more on this below.\n",
    "\n",
    "#### Why include `__name__ == \"__main__\"` and all that jazz\n",
    "\n",
    "When you run a Python module with or without arguments, the code in the called module will be executed just as if you imported it, but with the `__name__` set to `\"__main__\"`. So adding this code at the end of your module,\n",
    "\n",
    "```python\n",
    "if (__name__ == \"__main__\"):\n",
    "```\n",
    "directs the python interpreter to set the special `__name__` variable to have a value `\"__main__\"`, so that the file is usable as a script as well as an importable module. How do you import? Simply as (in python or ipython shell):"
   ]
  },
  {
   "cell_type": "code",
   "execution_count": 113,
   "metadata": {},
   "outputs": [],
   "source": [
    "import boilerplate"
   ]
  },
  {
   "cell_type": "markdown",
   "metadata": {},
   "source": [
    "Then type"
   ]
  },
  {
   "cell_type": "code",
   "execution_count": 114,
   "metadata": {},
   "outputs": [
    {
     "data": {
      "text/plain": [
       "<module 'boilerplate' from 'boilerplate.py'>"
      ]
     },
     "execution_count": 114,
     "metadata": {},
     "output_type": "execute_result"
    }
   ],
   "source": [
    "boilerplate"
   ]
  },
  {
   "cell_type": "markdown",
   "metadata": {},
   "source": [
    "One more script to clarify this further. Type and save the following in a script file called `using_name.py`: \n",
    "\n",
    "```python\n",
    "#!/usr/bin/env python3\n",
    "# Filename: using_name.py\n",
    "\n",
    "if __name__ == '__main__':\n",
    "    print('This program is being run by itself')\n",
    "else:\n",
    "    print('I am being imported from another module')\n",
    "```\n",
    "\n",
    "Now run it:"
   ]
  },
  {
   "cell_type": "code",
   "execution_count": 115,
   "metadata": {},
   "outputs": [
    {
     "name": "stdout",
     "output_type": "stream",
     "text": [
      "This program is being run by itself\n"
     ]
    }
   ],
   "source": [
    "run using_name.py"
   ]
  },
  {
   "cell_type": "markdown",
   "metadata": {},
   "source": [
    "Now, try:"
   ]
  },
  {
   "cell_type": "code",
   "execution_count": 116,
   "metadata": {},
   "outputs": [
    {
     "name": "stdout",
     "output_type": "stream",
     "text": [
      "I am being imported from another module\n"
     ]
    }
   ],
   "source": [
    "import using_name"
   ]
  },
  {
   "cell_type": "markdown",
   "metadata": {},
   "source": [
    "The output `I am being imported from another module` will only appear once. \n",
    "\n",
    "Also please look up the [official python doc for modules](https://docs.python.org/3/tutorial/modules.html).\n",
    "\n",
    "#### What is `sys.argv`?\n",
    "\n",
    "In your boilerplate code, as any other Python code, `argv` is the \"argument variable\". Such variables are necessarily very common across programming languages, and play an important role — `argv` is a variable that holds the arguments you pass to your Python script when you run it (like `$var` in shell scripts). `sys.argv` is simply an object created by python using the `sys` module (which you imported at the beginning of the script) that contains the names of the argument variables in the current script.\n",
    "\n",
    "To understand this in a practical way, write and save a script called `sysargv.py`: \n",
    "\n",
    "```python\n",
    "#!/usr/bin/env python3\n",
    "\n",
    "import sys\n",
    "print(\"This is the name of the script: \", sys.argv[0])\n",
    "print(\"Number of arguments: \", len(sys.argv))\n",
    "print(\"The arguments are: \" , str(sys.argv))\n",
    "```\n",
    "\n",
    "Now run `sysargv.py` with different numbers of arguments:"
   ]
  },
  {
   "cell_type": "code",
   "execution_count": 117,
   "metadata": {},
   "outputs": [
    {
     "name": "stdout",
     "output_type": "stream",
     "text": [
      "('This is the name of the script: ', 'sysargv.py')\n",
      "('Number of arguments: ', 1)\n",
      "('The arguments are: ', \"['sysargv.py']\")\n"
     ]
    }
   ],
   "source": [
    "run sysargv.py"
   ]
  },
  {
   "cell_type": "code",
   "execution_count": 118,
   "metadata": {
    "scrolled": true
   },
   "outputs": [
    {
     "name": "stdout",
     "output_type": "stream",
     "text": [
      "('This is the name of the script: ', 'sysargv.py')\n",
      "('Number of arguments: ', 3)\n",
      "('The arguments are: ', \"['sysargv.py', 'var1', 'var2']\")\n"
     ]
    }
   ],
   "source": [
    "run sysargv.py var1 var2"
   ]
  },
  {
   "cell_type": "code",
   "execution_count": 119,
   "metadata": {},
   "outputs": [
    {
     "name": "stdout",
     "output_type": "stream",
     "text": [
      "('This is the name of the script: ', 'sysargv.py')\n",
      "('Number of arguments: ', 4)\n",
      "('The arguments are: ', \"['sysargv.py', '1', '2', 'var3']\")\n"
     ]
    }
   ],
   "source": [
    "run sysargv.py 1 2 var3"
   ]
  },
  {
   "cell_type": "markdown",
   "metadata": {},
   "source": [
    "As you can see the first variable is always the file name, and is always available as to the Python interpreter.\n",
    "\n",
    "Then, the command `main(argv=sys.argv)` directs the interpreter to pass the argument variables to the main function."
   ]
  },
  {
   "cell_type": "markdown",
   "metadata": {},
   "source": [
    "#### What is `main(argv)` ?\n",
    "\n",
    "Now for the final bit of your python boilerplate:\n",
    "\n",
    "```python\n",
    "def main(argv):\n",
    "    print('This is a boilerplate') # NOTE: indented using two tabs or four spaces\n",
    "```\n",
    "This is the main function. Arguments obtained in the `if (__name__ == \"__main__\"):` part of the script are \"fed\" to\n",
    "this main function where the printing of the line \"This is a boilerplate\" happens.\n",
    "\n",
    "OK, finally, what about this bit:\n",
    "\n",
    "```bash\n",
    "sys.exit(status)\n",
    "``` \n",
    "It's just a way to terminate and exit the Python program in an explicit manner, returning an appropriate status code (recall the `exit` command from the [shell scripting chapter](02-ShellScripting.ipynb)). In this case, we have decided that `main()` returns 0 on a successful run, so ` sys.exit(status)` will return zero indicating \"successful termination\". Try putting `sys.exit(\"I am exiting right now!\")` in other places in `boilerplate.py` and see what happens."
   ]
  },
  {
   "cell_type": "markdown",
   "metadata": {},
   "source": [
    "### Variable scope\n",
    "\n",
    "One important thing to note about functions, in any language, is that variables inside functions are invisible outside of it, nor do they persist once the function has run. These are called \"local\" variables, and are only accessible inside their function. However, \"global\" variables are visible inside and outside of functions. In python, you can assign global variables. Type the following script in `scope.py` and try it:\n",
    "\n",
    "```python\n",
    "## Try this first\n",
    "\n",
    "_a_global = 10\n",
    "\n",
    "def a_function():\n",
    "    _a_global = 5\n",
    "    _a_local = 4\n",
    "    print(\"Inside the function, the value is \", _a_global)\n",
    "    print(\"Inside the function, the value is \", _a_local)\n",
    "    return None\n",
    "\n",
    "a_function()\n",
    "\n",
    "print(\"Outside the function, the value is \", _a_global)\n",
    "\n",
    "\n",
    "## Now try this\n",
    "\n",
    "_a_global = 10\n",
    "\n",
    "def a_function():\n",
    "    global _a_global\n",
    "    _a_global = 5\n",
    "    _a_local = 4\n",
    "    print(\"Inside the function, the value is \", _a_global)\n",
    "    print(\"Inside the function, the value is \", _a_local)\n",
    "    return None\n",
    "\n",
    "a_function()\n",
    "print(\"Outside the function, the value is\", _a_global)\n",
    "```\n",
    "However, in general, avoid assigning globals because you run the risk of \"exposing\" unwanted variables to all functions within your name work/namespace.\n",
    "\n",
    "## Control statements\n",
    "\n",
    "OK, let's get deeper into python functions. To begin, first copy and rename `boilerplate.py` (to make use of it's\n",
    "existing structure and save you some typing):\n",
    "\n",
    "```bash \n",
    "cp boilerplate.py control_flow.py\n",
    "```"
   ]
  },
  {
   "cell_type": "markdown",
   "metadata": {},
   "source": [
    "Then type the following script into `control_flow.py`:\n",
    "\n",
    "```python\n",
    "#!/usr/bin/env python3\n",
    "\n",
    "\"\"\"Some functions exemplifying the use of control statements\"\"\"\n",
    "#docstrings are considered part of the running code (normal comments are\n",
    "#stripped). Hence, you can access your docstrings at run time.\n",
    "__author__ = 'Samraat Pawar (s.pawar@imperial.ac.uk)'\n",
    "__version__ = '0.0.1'\n",
    "\n",
    "import sys\n",
    "\n",
    "def even_or_odd(x=0): # if not specified, x should take value 0.\n",
    "\n",
    "    \"\"\"Find whether a number x is even or odd.\"\"\"\n",
    "    if x % 2 == 0: #The conditional if\n",
    "        return \"%d is Even!\" % x\n",
    "    return \"%d is Odd!\" % x\n",
    "\n",
    "def largest_divisor_five(x=120):\n",
    "    \"\"\"Find which is the largest divisor of x among 2,3,4,5.\"\"\"\n",
    "    largest = 0\n",
    "    if x % 5 == 0:\n",
    "        largest = 5\n",
    "    elif x % 4 == 0: #means \"else, if\"\n",
    "        largest = 4\n",
    "    elif x % 3 == 0:\n",
    "        largest = 3\n",
    "    elif x % 2 == 0:\n",
    "        largest = 2\n",
    "    else: # When all other (if, elif) conditions are not met\n",
    "        return \"No divisor found for %d!\" % x # Each function can return a value or a variable.\n",
    "    return \"The largest divisor of %d is %d\" % (x, largest)\n",
    "\n",
    "def is_prime(x=70):\n",
    "    \"\"\"Find whether an integer is prime.\"\"\"\n",
    "    for i in range(2, x): #  \"range\" returns a sequence of integers\n",
    "        if x % i == 0:\n",
    "          print(\"%d is not a prime: %d is a divisor\" % (x, i)) \n",
    "          return False\n",
    "    print(\"%d is a prime!\" % x)\n",
    "    return True \n",
    "\n",
    "def find_all_primes(x=22):\n",
    "    \"\"\"Find all the primes up to x\"\"\"\n",
    "    allprimes = []\n",
    "    for i in range(2, x + 1):\n",
    "      if is_prime(i):\n",
    "        allprimes.append(i)\n",
    "    print(\"There are %d primes between 2 and %d\" % (len(allprimes), x))\n",
    "    return allprimes\n",
    "      \n",
    "def main(argv):\n",
    "    print(even_or_odd(22))\n",
    "    print(even_or_odd(33))\n",
    "    print(largest_divisor_five(120))\n",
    "    print(largest_divisor_five(121))\n",
    "    print(is_prime(60))\n",
    "    print(is_prime(59))\n",
    "    print(find_all_primes(100))\n",
    "    return 0\n",
    "\n",
    "if (__name__ == \"__main__\"):\n",
    "    status = main(sys.argv)\n",
    "    sys.exit(status)\n",
    "```\n",
    "\n",
    "Now run the code:"
   ]
  },
  {
   "cell_type": "code",
   "execution_count": 120,
   "metadata": {},
   "outputs": [
    {
     "name": "stdout",
     "output_type": "stream",
     "text": [
      "22 is Even!\n",
      "33 is Odd!\n",
      "The largest divisor of 120 is 5\n",
      "No divisor found for 121!\n",
      "60 is not a prime: 2 is a divisor\n",
      "False\n",
      "59 is a prime!\n",
      "True\n",
      "2 is a prime!\n",
      "3 is a prime!\n",
      "4 is not a prime: 2 is a divisor\n",
      "5 is a prime!\n",
      "6 is not a prime: 2 is a divisor\n",
      "7 is a prime!\n",
      "8 is not a prime: 2 is a divisor\n",
      "9 is not a prime: 3 is a divisor\n",
      "10 is not a prime: 2 is a divisor\n",
      "11 is a prime!\n",
      "12 is not a prime: 2 is a divisor\n",
      "13 is a prime!\n",
      "14 is not a prime: 2 is a divisor\n",
      "15 is not a prime: 3 is a divisor\n",
      "16 is not a prime: 2 is a divisor\n",
      "17 is a prime!\n",
      "18 is not a prime: 2 is a divisor\n",
      "19 is a prime!\n",
      "20 is not a prime: 2 is a divisor\n",
      "21 is not a prime: 3 is a divisor\n",
      "22 is not a prime: 2 is a divisor\n",
      "23 is a prime!\n",
      "24 is not a prime: 2 is a divisor\n",
      "25 is not a prime: 5 is a divisor\n",
      "26 is not a prime: 2 is a divisor\n",
      "27 is not a prime: 3 is a divisor\n",
      "28 is not a prime: 2 is a divisor\n",
      "29 is a prime!\n",
      "30 is not a prime: 2 is a divisor\n",
      "31 is a prime!\n",
      "32 is not a prime: 2 is a divisor\n",
      "33 is not a prime: 3 is a divisor\n",
      "34 is not a prime: 2 is a divisor\n",
      "35 is not a prime: 5 is a divisor\n",
      "36 is not a prime: 2 is a divisor\n",
      "37 is a prime!\n",
      "38 is not a prime: 2 is a divisor\n",
      "39 is not a prime: 3 is a divisor\n",
      "40 is not a prime: 2 is a divisor\n",
      "41 is a prime!\n",
      "42 is not a prime: 2 is a divisor\n",
      "43 is a prime!\n",
      "44 is not a prime: 2 is a divisor\n",
      "45 is not a prime: 3 is a divisor\n",
      "46 is not a prime: 2 is a divisor\n",
      "47 is a prime!\n",
      "48 is not a prime: 2 is a divisor\n",
      "49 is not a prime: 7 is a divisor\n",
      "50 is not a prime: 2 is a divisor\n",
      "51 is not a prime: 3 is a divisor\n",
      "52 is not a prime: 2 is a divisor\n",
      "53 is a prime!\n",
      "54 is not a prime: 2 is a divisor\n",
      "55 is not a prime: 5 is a divisor\n",
      "56 is not a prime: 2 is a divisor\n",
      "57 is not a prime: 3 is a divisor\n",
      "58 is not a prime: 2 is a divisor\n",
      "59 is a prime!\n",
      "60 is not a prime: 2 is a divisor\n",
      "61 is a prime!\n",
      "62 is not a prime: 2 is a divisor\n",
      "63 is not a prime: 3 is a divisor\n",
      "64 is not a prime: 2 is a divisor\n",
      "65 is not a prime: 5 is a divisor\n",
      "66 is not a prime: 2 is a divisor\n",
      "67 is a prime!\n",
      "68 is not a prime: 2 is a divisor\n",
      "69 is not a prime: 3 is a divisor\n",
      "70 is not a prime: 2 is a divisor\n",
      "71 is a prime!\n",
      "72 is not a prime: 2 is a divisor\n",
      "73 is a prime!\n",
      "74 is not a prime: 2 is a divisor\n",
      "75 is not a prime: 3 is a divisor\n",
      "76 is not a prime: 2 is a divisor\n",
      "77 is not a prime: 7 is a divisor\n",
      "78 is not a prime: 2 is a divisor\n",
      "79 is a prime!\n",
      "80 is not a prime: 2 is a divisor\n",
      "81 is not a prime: 3 is a divisor\n",
      "82 is not a prime: 2 is a divisor\n",
      "83 is a prime!\n",
      "84 is not a prime: 2 is a divisor\n",
      "85 is not a prime: 5 is a divisor\n",
      "86 is not a prime: 2 is a divisor\n",
      "87 is not a prime: 3 is a divisor\n",
      "88 is not a prime: 2 is a divisor\n",
      "89 is a prime!\n",
      "90 is not a prime: 2 is a divisor\n",
      "91 is not a prime: 7 is a divisor\n",
      "92 is not a prime: 2 is a divisor\n",
      "93 is not a prime: 3 is a divisor\n",
      "94 is not a prime: 2 is a divisor\n",
      "95 is not a prime: 5 is a divisor\n",
      "96 is not a prime: 2 is a divisor\n",
      "97 is a prime!\n",
      "98 is not a prime: 2 is a divisor\n",
      "99 is not a prime: 3 is a divisor\n",
      "100 is not a prime: 2 is a divisor\n",
      "There are 25 primes between 2 and 100\n",
      "[2, 3, 5, 7, 11, 13, 17, 19, 23, 29, 31, 37, 41, 43, 47, 53, 59, 61, 67, 71, 73, 79, 83, 89, 97]\n"
     ]
    }
   ],
   "source": [
    "run control_flow.py"
   ]
  },
  {
   "cell_type": "markdown",
   "metadata": {},
   "source": [
    "You can also call any of the functions within `control_flow.py`:"
   ]
  },
  {
   "cell_type": "code",
   "execution_count": 121,
   "metadata": {},
   "outputs": [
    {
     "data": {
      "text/plain": [
       "'11 is Odd!'"
      ]
     },
     "execution_count": 121,
     "metadata": {},
     "output_type": "execute_result"
    }
   ],
   "source": [
    "even_or_odd(11)"
   ]
  },
  {
   "cell_type": "markdown",
   "metadata": {},
   "source": [
    "This is possible without explicitly importing the modules because you are only running one script. You would have to do an explicit `import` if you needed a module from another python script file.\n",
    "\n",
    "---\n",
    "> **Formatting output for printing:** Note the usage of `%d`, `%s`, etc in the script above. This is for formatting the output of a particular operation/method nicely in a string that is printed to screen or a file. The basic formatting types are `%d`, `%s`, `%f`, `%e`, for decimals, strings, floats, and floats with scientific notation, respectively. Try this in ipython:\n",
    ">\n",
    "> `print(\"%d %s %f %e\" % (20,\"30\",0.0003,0.00003))`\n",
    ">\n",
    "> But there are more modern pythonic ways to do this as well. [See this](https://pyformat.info). \n",
    "\n",
    "---\n",
    "\n",
    "\n",
    "---\n",
    "\n",
    "### Control flow exercises\n",
    "\n",
    "$\\star$ Write the following functions and save them to `cfexercises1.py`:\n",
    "\n",
    "```python\n",
    "\n",
    "for i in range(3, 17):\n",
    "    print('hello')\n",
    "\n",
    "for j in range(12):\n",
    "    if j % 3 == 0:\n",
    "        print('hello')\n",
    "\n",
    "for j in range(15):\n",
    "     if j % 5 == 3:\n",
    "        print('hello')\n",
    "     elif j % 4 == 3:\n",
    "        print('hello')\n",
    "\n",
    "z = 0\n",
    "while z != 15:\n",
    "    print('hello')\n",
    "    z = z + 3\n",
    "\n",
    "z = 12\n",
    "while z < 100:\n",
    "    if z == 31:\n",
    "        for k in range(7):\n",
    "            print('hello')\n",
    "    elif z == 18:\n",
    "        print('hello')\n",
    "    z = z + 1\n",
    "```\n",
    "\n",
    "Now try these *function by function*, pasting the block in the ipython command line (hopefully you have set your code editor to send a selection to the command line by now). *Try to predict how many times \"hello\" will be printed before testing each of these functions*.\n",
    "\n",
    "$\\star$ Now type these and save them as `cfexercises2.py`:\n",
    "\n",
    "```python\n",
    "def foo1(x):\n",
    "    return x ** 0.5\n",
    "\n",
    "def foo2(x, y):\n",
    "    if x > y:\n",
    "        return x\n",
    "    return y\n",
    "\n",
    "def foo3(x, y, z):\n",
    "    if x > y:\n",
    "        tmp = y\n",
    "        y = x\n",
    "        x = tmp\n",
    "    if y > z:\n",
    "        tmp = z\n",
    "        z = y\n",
    "        y = tmp\n",
    "    return [x, y, z]\n",
    "\n",
    "def foo4(x):\n",
    "    result = 1\n",
    "    for i in range(1, x + 1):\n",
    "        result = result * i\n",
    "    return result\n",
    "\n",
    "# What does each of fooXX do? \n",
    "def foo1(x):\n",
    "    return x ** 0.5\n",
    "\n",
    "def foo2(x, y):\n",
    "    if x > y:\n",
    "        return x\n",
    "    return y\n",
    "\n",
    "def foo3(x, y, z):\n",
    "    if x > y:\n",
    "        tmp = y\n",
    "        y = x\n",
    "        x = tmp\n",
    "    if y > z:\n",
    "        tmp = z\n",
    "        z = y\n",
    "        y = tmp\n",
    "    return [x, y, z]\n",
    "\n",
    "def foo4(x):\n",
    "    result = 1\n",
    "    for i in range(1, x + 1):\n",
    "        result = result * i\n",
    "    return result\n",
    "\n",
    "def foo5(x): # a recursive function that calculates the factorial of x\n",
    "    if x == 1:\n",
    "        return 1\n",
    "    return x * foo5(x - 1)\n",
    "     \n",
    "def foo6(x): # Calculate the factorial of x in a different way\n",
    "    facto = 1\n",
    "    while x >= 1:\n",
    "        facto = facto * x\n",
    "        x = x - 1\n",
    "    return facto\n",
    "```\n",
    "\n",
    "*Think about what each of the fooXX functions does before running it.* Note that `foo5` is a recursive function, meaning that the function calls itself. Read about it [here](https://en.wikipedia.org/wiki/Recursion_(computer_science)). "
   ]
  },
  {
   "cell_type": "markdown",
   "metadata": {},
   "source": [
    "#### Loops\n",
    "\n",
    "Write the following, and save them to `loops.py`:\n",
    "\n",
    "```python\n",
    "# FOR loops in Python\n",
    "for i in range(5):\n",
    "    print(i)\n",
    "\n",
    "my_list = [0, 2, \"geronimo!\", 3.0, True, False]\n",
    "for k in my_list:\n",
    "    print(k)\n",
    "\n",
    "total = 0\n",
    "summands = [0, 1, 11, 111, 1111]\n",
    "for s in summands:\n",
    "    total = total + s\n",
    "    print(total)\n",
    "\n",
    "# WHILE loops  in Python\n",
    "z = 0\n",
    "while z < 100:\n",
    "    z = z + 1\n",
    "    print(z)\n",
    "\n",
    "b = True\n",
    "while b:\n",
    "    print(\"GERONIMO! infinite loop! ctrl+c to stop!\")\n",
    "# ctrl + c to stop!\n",
    "```\n",
    "\n",
    "---\n",
    "<figure>\n",
    "    <img src=\"./graphics/Geronimo.jpg\" alt=\"xkcd on workflow\" style=\"width:30%\">\n",
    "    <small> \n",
    "        <center>(Source: Wikipedia) \n",
    "            <figcaption> \n",
    "                In case you were wondering who Geronimo was.\n",
    "            </figcaption>\n",
    "        </center>\n",
    "    </small>\n",
    "</figure>\n",
    "\n",
    "---"
   ]
  },
  {
   "cell_type": "markdown",
   "metadata": {},
   "source": [
    "### List comprehensions\n",
    "\n",
    "Python offers a way to combine loops, functions and logical tests in a single line of code. Type the following in a script file called `oaks.py`:\n",
    "\n",
    "```python\n",
    "## Finds just those taxa that are oak trees from a list of species\n",
    "\n",
    "taxa = [ 'Quercus robur',\n",
    "         'Fraxinus excelsior',\n",
    "         'Pinus sylvestris',\n",
    "         'Quercus cerris',\n",
    "         'Quercus petraea',\n",
    "       ]\n",
    "\n",
    "def is_an_oak(name):\n",
    "    return name.lower().startswith('quercus ')\n",
    "\n",
    "##Using for loops\n",
    "oaks_loops = set()\n",
    "for species in taxa:\n",
    "    if is_an_oak(species):\n",
    "        oaks_loops.add(species)\n",
    "print(oaks_loops)\n",
    "\n",
    "##Using list comprehensions   \n",
    "oaks_lc = set([species for species in taxa if is_an_oak(species)])\n",
    "print(oaks_lc)\n",
    "\n",
    "##Get names in UPPER CASE using for loops\n",
    "oaks_loops = set()\n",
    "for species in taxa:\n",
    "    if is_an_oak(species):\n",
    "        oaks_loops.add(species.upper())\n",
    "print(oaks_loops)\n",
    "\n",
    "##Get names in UPPER CASE using list comprehensions\n",
    "oaks_lc = set([species.upper() for species in taxa if is_an_oak(species)])\n",
    "print(oaks_lc)\n",
    "```\n",
    "\n",
    "Don't go mad with list comprehensions — code readability is more important than squeezing lots into a single line!"
   ]
  },
  {
   "cell_type": "markdown",
   "metadata": {},
   "source": [
    "## Practicals\n",
    "\n",
    "As always, test, add, commit and push all your new code and data to your git repository.\n",
    "\n",
    "1.  Modify `cfexercises2.py` to make it a \"module\" like ` control_flow.py`). That is, all the `fooXX` functions should take arguments from the user (like the functions inside ` control_flow.py`. Also, add some test arguments\n",
    "to show that they work (again, like `control_flow.py`) — for example, ``foo5(10)``. Thus, running `cfexercises2.py` should now output evaluations of all the `fooXX` modules.\n",
    "\n",
    "2. Open and complete the tasks in `lc1.py`, `lc2.py`, `dictionary.py`, `tuple.py` available on TheMulQuaBio repo (you can tackle them in any order).\n",
    "\n",
    "*Follow good programming practices such as commenting where necessary, and using pythonic ways to make your code more user-friendly, such as by using docstrings.*"
   ]
  },
  {
   "cell_type": "markdown",
   "metadata": {},
   "source": [
    "## Errors in your python code\n",
    "\n",
    "What do you want from your code? Rank the following by importance:\n",
    "\n",
    "1. it is very fast\n",
    "2. it gives me the right answer\n",
    "3. it is easy to read\n",
    "4. it uses lots of 'clever' programming techniques\n",
    "5. it uses cool features of the language\n",
    "\n",
    "Then, think about this:\n",
    "\n",
    "* If you are *very lucky*, your program will crash when you run it\n",
    "* If you are *lucky*, you will get an answer that is obviously wrong\n",
    "* If you are *unlucky*, you won't notice until after publication\n",
    "* If you are *very unlucky*, someone else will notice it after publication\n",
    "\n",
    "Ultimately, most of your time could well be spent error-checking and fixing them \"debugging\", not writing code. You can debug when errors appear, but why not just nip as many as you can in the bud? For this, you would use unit testing.\n",
    "\n",
    "### Unit testing\n",
    "\n",
    "Unit testing prevents the most common mistakes and helps write reliable code. Indeed, there are many reasons for testing:\n",
    "\n",
    "* Can you prove (to yourself) that your code does what you think it does?\n",
    "* Did you think about the things that might go wrong?\n",
    "* Can you prove to other people that your code works?\n",
    "* Does it still all work if you fix a bug?\n",
    "* Does it still all work if you add a feature?\n",
    "* Does it work with that new dataset?\n",
    "* Does it work on the latest version of the language (e.g., Python 3.x vs. 2.7.x)?\n",
    "* Does it work on Mac? on Linux? on Windows?\n",
    "* Does it work on 64 bit *and* 32 bit?\n",
    "* Does it work on an old version of a Mac?\n",
    "* Does it work on any Linux server, or Imperial College's Linux cluster?\n",
    "\n",
    "The idea is to write *independent* tests for the *smallest units* of code. *Why the smallest units?* — to be able to retain the tests upon code modification.\n",
    "\n",
    "#### Unit testing with `doctest`\n",
    "\n",
    "Let's try `doctest`, the simplest testing tool in python: simple tests for each function are embedded in the docstring. Copy the file `control_flow.py` into the file `test_control_flow.py` and edit the original function so:\n",
    "\n",
    "\n",
    "```python\n",
    "#!/usr/bin/env python3\n",
    "\n",
    "\"\"\"Some functions exemplifying the use of control statements\"\"\"\n",
    "\n",
    "__author__ = 'Your Name (Your.Name@your.email.address)'\n",
    "__version__ = '0.0.1'\n",
    "\n",
    "import sys\n",
    "import doctest # Import the doctest module\n",
    "\n",
    "def even_or_odd(x=0):\n",
    "    \"\"\"Find whether a number x is even or odd.\n",
    "      \n",
    "    >>> even_or_odd(10)\n",
    "    '10 is Even!'\n",
    "    \n",
    "    >>> even_or_odd(5)\n",
    "    '5 is Odd!'\n",
    "    \n",
    "    whenever a float is provided, then the closest integer is used:    \n",
    "    >>> even_or_odd(3.2)\n",
    "    '3 is Odd!'\n",
    "    \n",
    "    in case of negative numbers, the positive is taken:    \n",
    "    >>> even_or_odd(-2)\n",
    "    '-2 is Even!'\n",
    "    \n",
    "    \"\"\"\n",
    "    #Define function to be tested\n",
    "    if x % 2 == 0:\n",
    "        return \"%d is Even!\" % x\n",
    "    return \"%d is Odd!\" % x\n",
    "\n",
    "####### I SUPPRESSED THIS BLOCK: WHY? #######\n",
    "\n",
    "# def main(argv): \n",
    "#     print even_or_odd(22)\n",
    "#     print even_or_odd(33)\n",
    "#     return 0\n",
    "\n",
    "# if (__name__ == \"__main__\"):\n",
    "#     status = main(sys.argv)\n",
    "############################################\n",
    "    \n",
    "doctest.testmod()   # To run with embedded tests\n",
    "```\n",
    "Now run it:"
   ]
  },
  {
   "cell_type": "code",
   "execution_count": 125,
   "metadata": {},
   "outputs": [
    {
     "name": "stdout",
     "output_type": "stream",
     "text": [
      "Trying:\n",
      "    even_or_odd(10)\n",
      "Expecting:\n",
      "    '10 is Even!'\n",
      "ok\n",
      "Trying:\n",
      "    even_or_odd(5)\n",
      "Expecting:\n",
      "    '5 is Odd!'\n",
      "ok\n",
      "Trying:\n",
      "    even_or_odd(3.2)\n",
      "Expecting:\n",
      "    '3 is Odd!'\n",
      "ok\n",
      "Trying:\n",
      "    even_or_odd(-2)\n",
      "Expecting:\n",
      "    '-2 is Even!'\n",
      "ok\n",
      "1 items had no tests:\n",
      "    __main__\n",
      "1 items passed all tests:\n",
      "   4 tests in __main__.even_or_odd\n",
      "4 tests in 2 items.\n",
      "4 passed and 0 failed.\n",
      "Test passed.\n"
     ]
    }
   ],
   "source": [
    "run test_control_flow.py -v"
   ]
  },
  {
   "cell_type": "markdown",
   "metadata": {},
   "source": [
    "You can also run doctest \"on the fly\", without writing `doctest.testmod()` in the code, by typing in a terminal:\n",
    "\n",
    "```bash\n",
    "python -m doctest -v your_function_to_test.py\n",
    "```\n",
    "\n",
    "#### Other unit testing approaches\n",
    "\n",
    "For more complex testing, see documentation of `doctest` [here](https://docs.python.org/3.5/library/doctest.html). Also check out the packages `nose` and `unittest`.\n",
    "\n",
    "Please start testing as early as possible, but don't try to test everything either! Remember, it is easier to test if code is compartmentalized into functions.\n",
    "\n",
    "### Debugging\n",
    "\n",
    "OK, so you unit-tested, let's go look at life through beer-goggles... BUT NO! YOU WILL VERY LIKELY RUN INTO BUGS!\n",
    "\n",
    "Bugs happen, inevitably, in life and programming. You need to find and debug them. Banish all thoughts of littering your code with `print` statements to find bugs.\n",
    "\n",
    "Enter the debugger. The command `pdb` turns on the python debugger. Type the following in a file and save as\n",
    "`debugme.py` in your ` Code` directory:\n",
    "\n",
    "```python\n",
    "def createabug(x):\n",
    "    y = x**4\n",
    "    z = 0.\n",
    "    y = y/z\n",
    "    return y\n",
    "\n",
    "createabug(25)\n",
    "```\n",
    "Now run it:"
   ]
  },
  {
   "cell_type": "code",
   "execution_count": 130,
   "metadata": {
    "scrolled": true
   },
   "outputs": [
    {
     "ename": "ZeroDivisionError",
     "evalue": "float division by zero",
     "output_type": "error",
     "traceback": [
      "\u001b[0;31m---------------------------------------------------------------------------\u001b[0m",
      "\u001b[0;31mZeroDivisionError\u001b[0m                         Traceback (most recent call last)",
      "\u001b[0;32m/home/mhasoba/Documents/Teaching/SilBioComp/TheMulQuaBio/code/debugme.py\u001b[0m in \u001b[0;36m<module>\u001b[0;34m()\u001b[0m\n\u001b[1;32m      5\u001b[0m     \u001b[0;32mreturn\u001b[0m \u001b[0my\u001b[0m\u001b[0;34m\u001b[0m\u001b[0m\n\u001b[1;32m      6\u001b[0m \u001b[0;34m\u001b[0m\u001b[0m\n\u001b[0;32m----> 7\u001b[0;31m \u001b[0mcreateabug\u001b[0m\u001b[0;34m(\u001b[0m\u001b[0;36m25\u001b[0m\u001b[0;34m)\u001b[0m\u001b[0;34m\u001b[0m\u001b[0m\n\u001b[0m",
      "\u001b[0;32m/home/mhasoba/Documents/Teaching/SilBioComp/TheMulQuaBio/code/debugme.py\u001b[0m in \u001b[0;36mcreateabug\u001b[0;34m(x)\u001b[0m\n\u001b[1;32m      2\u001b[0m     \u001b[0my\u001b[0m \u001b[0;34m=\u001b[0m \u001b[0mx\u001b[0m\u001b[0;34m**\u001b[0m\u001b[0;36m4\u001b[0m\u001b[0;34m\u001b[0m\u001b[0m\n\u001b[1;32m      3\u001b[0m     \u001b[0mz\u001b[0m \u001b[0;34m=\u001b[0m \u001b[0;36m0.\u001b[0m\u001b[0;34m\u001b[0m\u001b[0m\n\u001b[0;32m----> 4\u001b[0;31m     \u001b[0my\u001b[0m \u001b[0;34m=\u001b[0m \u001b[0my\u001b[0m\u001b[0;34m/\u001b[0m\u001b[0mz\u001b[0m\u001b[0;34m\u001b[0m\u001b[0m\n\u001b[0m\u001b[1;32m      5\u001b[0m     \u001b[0;32mreturn\u001b[0m \u001b[0my\u001b[0m\u001b[0;34m\u001b[0m\u001b[0m\n\u001b[1;32m      6\u001b[0m \u001b[0;34m\u001b[0m\u001b[0m\n",
      "\u001b[0;31mZeroDivisionError\u001b[0m: float division by zero"
     ]
    }
   ],
   "source": [
    "run debugme.py"
   ]
  },
  {
   "cell_type": "markdown",
   "metadata": {},
   "source": [
    "OK, so let's turn debugging in using `%pdb`:"
   ]
  },
  {
   "cell_type": "code",
   "execution_count": 131,
   "metadata": {
    "scrolled": true
   },
   "outputs": [
    {
     "name": "stdout",
     "output_type": "stream",
     "text": [
      "Automatic pdb calling has been turned ON\n"
     ]
    }
   ],
   "source": [
    "%pdb"
   ]
  },
  {
   "cell_type": "markdown",
   "metadata": {},
   "source": [
    "Now run the script again:"
   ]
  },
  {
   "cell_type": "markdown",
   "metadata": {},
   "source": [
    "```bash\n",
    "run debugme.py\n",
    "```\n",
    "which gives\n",
    "```bash\n",
    "---------------------------------------------------------------------------\n",
    "ZeroDivisionError                         Traceback (most recent call last)\n",
    "~/Documents/Teaching/SilBioComp/TheMulQuaBio/code/debugme.py in <module>()\n",
    "      5     return y\n",
    "      6 \n",
    "----> 7 createabug(25)\n",
    "\n",
    "~/Documents/Teaching/SilBioComp/TheMulQuaBio/code/debugme.py in createabug(x)\n",
    "      2     y = x**4\n",
    "      3     z = 0.\n",
    "----> 4     y = y/z\n",
    "      5     return y\n",
    "      6 \n",
    "\n",
    "ZeroDivisionError: float division by zero\n",
    "\n",
    "> /home/mhasoba/Documents/Teaching/SilBioComp/TheMulQuaBio/code/debugme.py(4)createabug()\n",
    "      2     y = x**4\n",
    "      3     z = 0.\n",
    "----> 4     y = y/z\n",
    "      5     return y\n",
    "      6 \n",
    "```"
   ]
  },
  {
   "cell_type": "markdown",
   "metadata": {},
   "source": [
    "Now you will be in the debugger shell, which has a different command prompt: `ipdb>`. Here, you can use the following commands to navigate and test the code line by line or block by block:\n",
    "\n",
    "|||\n",
    "|:-|:-|\n",
    "|`n`|             continue execution until the next line|\n",
    " | `ENTER`|         repeat the previous command|\n",
    " | `s`|             \"step\" into next function or procedure (i.e., continue the debugging inside the function, as opposed to simply execute it till it returns)|\n",
    "|  `p x`|           print variable x|\n",
    "|  `pp locals()`|   pretty print all variables and objects in current workspace scope|\n",
    "|  `c`  |           continue until next break-point|\n",
    "|  `l` |            print the code surrounding the current position (you can specify how many)|\n",
    "|  `r`|             continue until the end of the function|\n",
    "|  `q`  |           quit|\n",
    "\n",
    "So let's continue our debugging:\n",
    "\n",
    "```bash\n",
    "ipdb> p x\n",
    "25\n",
    "ipdb> p y\n",
    "390625\n",
    "ipdb> p z\n",
    "0.0\n",
    "ipdb> p y/z\n",
    "*** ZeroDivisionError: ZeroDivisionError\n",
    "('float division by zero',)\n",
    "ipdb> l\n",
    "      1 def createabug(x):\n",
    "      2     y = x**4\n",
    "      3     z = 0.\n",
    "----> 4     y = y/z\n",
    "      5     return y\n",
    "      6 \n",
    "      7 createabug(25)\n",
    "\n",
    "ipdb> q\n",
    "\n",
    "In []: %pdb\n",
    "Automatic pdb calling has been turned OFF\n",
    "```"
   ]
  },
  {
   "cell_type": "markdown",
   "metadata": {},
   "source": [
    "Once in the debugger, use `pp locals()` and/or `pp globals()` to see all local or global objects (including variables and functions) available at the point where the debugger stopped in the script. `pp` stands for \"pretty print\".\n",
    "\n",
    "### Paranoid programming: debugging with breakpoints\n",
    "\n",
    "You may want to pause the program run and inspect a given line or block  of code (`*why?*` — impromptu unit-testing is one reason). To do so, simply put this snippet of code where you want to pause and start a debugging session and then run the program again:\n",
    "\n",
    "```python\n",
    "import ipdb; ipdb.set_trace()\n",
    "```\n",
    "(you can use `import pdb; pdb.set_trace()` to get the less-interactive python debugger!)\n",
    "\n",
    "Alternatively, running the code in ipython with the flag `run -d` starts a debugging session from the first line of your code (you can also specify the line to stop at). \n",
    "\n",
    "*If you are serious about programming, please start using a debugger (R, Python, whatever...)!*\n",
    "\n",
    "### Debugging using your IDE\n",
    "\n",
    "If you are using a pythin-dedicated IDE like Spyder or PyCharm you can do debugging, including setting breakpoints using a graphic user interface. Even more genral-purpose code editors / IDEs like vscode should be able to allow you graphical debugging. For vscode, [see this](https://code.visualstudio.com/docs/editor/debugging)."
   ]
  },
  {
   "cell_type": "markdown",
   "metadata": {},
   "source": [
    "## Functions, Modules, and code compartmentalization\n",
    "\n",
    "Ideally you should aim to compartmentalize your code into a bunch of functions, typically written in a single `.py` file: this are Python \"modules\", which you were introduced to previously. Why bother with modules? Because:\n",
    "\n",
    "* Keeping code compartmentalized is good for debugging, unit testing, and profiling (coming up later)\n",
    "* Makes code more compact by minimizing redundancies (write repeatedly used code segments as a module)\n",
    "* Allows you to import and use useful functions that you yourself wrote, just like you would from standard python packages (coming up)\n",
    "\n",
    "### Importing Modules\n",
    "\n",
    "There are different ways to `**import**` a module:\n",
    "\n",
    "* `import my_module`, then functions in the module can be called as `my_module.one_of_my_functions()`.\n",
    "* `from my_module import my_function` imports only the function `my_function` in the module `my_module`. It can then be called as if it were part of the main file: `my_function()`.\n",
    "* `import my_module as mm` imports the module `my_module` and calls it `mm`. Convenient when the name of the module is very long. The functions in the module can be called as `mm.one_of_my_functions()`.\n",
    "* `from my_module import \\*`. Avoid doing this!\\ `*Why?*` – to avoid name conflicts!\n",
    "\n",
    "You can also access variables written into modules: `import my_module`, then do: `my_module.one_of_my_variables`\n",
    "\n",
    "### Python packages\n",
    "\n",
    "A Python package is simply a directory of Python modules (quite like an `R` package). Many packages, such as the following that I find particularly useful, are always available as standard libraries (just require `import` from within python or ipython):\n",
    "\n",
    "* `io`: file input-output with `.csv`, `.txt`, etc.\n",
    "* `subprocess`: to run other programs, including multiple ones at the same time, including operating system-dependent functionality\n",
    "* `sqlite3`: for manipulating and querying `sqlite` databases\n",
    "* `math`: for mathematical functions\n",
    "\n",
    "Scores of other packages are accessible by explicitly installing them using `sudo apt install python-packagename` (as you did previously) or by using `pip`. Some particularly mentionable ones are:\n",
    "\n",
    "* [`sciPy`](http://scipy.org) contains a wide array of numerical tools for scientific computing, including `NumPy`\n",
    "for efficient data crunching\n",
    "* `matplotlib` for plotting (very matlab-like, requires `scipy`) (all packaged in `pylab`)\n",
    "* `pandas` for manipulating data, and comes with a DataFrame object similar to the `R` data frame.\n",
    "* [`scikit-learn`](http://scikit-learn.org) for applying different machine learning algorithms to data\n",
    "* `ipython` is an enhanced python terminal (which you are currently using)\n",
    "* `jupyter` is an interactive notebook environment for data analysis, visualization, and creation of documents that can be shared. This course is written entirely as Jupyter notebooks.\n",
    "* `scrapy` allows you to write efficient programs that [crawl](https://en.wikipedia.org/wiki/Web_crawler) through web sites and extract data from them\n",
    "* `beautifulsoup` can be sued for parsing HTML and XML to extract data (can do a lot of what `scrapy` does)\n",
    "* `biopython` for bioinformatics. Check out the [worked examples](http://biopython.org/DIST/docs/tutorial/Tutorial.html) in particular.\n",
    "\n",
    "Of course, you have already installed some of these (`scipy`, `matplotlib`).\n",
    "\n"
   ]
  },
  {
   "cell_type": "markdown",
   "metadata": {},
   "source": [
    "## Practicals\n",
    "\n",
    "As always, test, add, commit and push all your new code and data to your git repository.\n",
    "\n",
    "### Align DNA sequences\n",
    "\n",
    "Open `align_seqs.py` from TheMulQuaBio; it aligns two DNA sequences such that they are as similar as possible. Run this script and make sure you understand what every line is doing. Basically, the idea is to start with the longest string and try to position the shorter string in all possible positions. For each position, count a \"score\": ratio of number of bases matched perfectly to number of bases attempted. \n",
    "\n",
    "Your tasks:\n",
    "\n",
    "1. Convert `align_seqs.py` to a Python program that takes the DNA sequences as an input from a single external file and saves the best alignment along with its corresponding score in a single text file (your choice of format and file type) to an appropriate location. No external input should be required; that is, you should still only need to use `python align_seq.py` to run it.\n",
    "    For example, the input file can be a single `.csv` file with the two example sequences given at the top of the\n",
    "original script.\n",
    "2. Extra Credit – align all the `.fasta` sequences from the [Unix chapter](01-Unix.ipynb). Call the new script `align_seqs_fasta.py`. Unlike `align_seqs.py`, this script should take *any* two fasta sequences (in separate files) to be aligned as input. So this script would typically run by using explicit inputs, for example, when called with something like: \n",
    "```bash\n",
    "python align_seqs_fasta.py seq1.csv seq2.csv\n",
    "``` \n",
    "However, it should still run if no inputs were given, using two fasta sequences from the `data` directory as defaults.\n",
    "\n",
    "    *Don't forget to add docstrings where necessary/appropriate.*\n",
    "\n",
    "### Missing oaks problem\n",
    "\n",
    "1.  Open and run the code `oaks_debugme.py` — there's a bug, for no oaks are being found! (*where's `TestOaksData.csv`?* — in the `data` directory of TheMulQuaBio repo!)\n",
    "2.  Fix the bug (hint: `import ipdb; ipdb.set_trace()`)\n",
    "3.  Now, write doctests to make sure that, bug or no bug, your `is_an_oak` function is working as expected (hint: `>>> is_an_oak('Fagus sylvatica')` should return `False`)\n",
    "4.  If you wrote good doctests, you will note that you found another bug that you might not have come across just by debugging (hint: what happens if you try the doctest with 'Quercuss' instead of 'Quercus'?). How would you fix the new error you found using the doctest?\n",
    "    \n",
    "    **Extra Credit**:\n",
    "5. You might have noticed that the headers in the data column are being included in the program as if they were a genus and species. That is, the first block of the program's output is:\n",
    "```bash\n",
    "['Genus', ' species']\n",
    "The genus is:\n",
    "Genus\n",
    "```\n",
    "Modify the program so that it excludes the header row (if it exists) in its search for oaks in a given dataset.\n",
    "6. You might also have noticed that the output of the program (once bug-free) writes a new file containing just the names of oaks. However, it does not include the headers (\"Genus\", \"species\"). Fix this.  \n",
    "\n",
    "**Practicals wrap-up**\n",
    "\n",
    "1.  Review and make sure you can run all the commands, code fragments, and scripts we have till now and get the expected outputs — all scripts should work on any other linux laptop.\n",
    "\n",
    "2.  Run `boilerplate.py` and `control_flow.py` from the bash terminal instead of from within the ipython shell (try both python and ipython from the bash)\n",
    "\n",
    "3.  Include an appropriate docstring (if one is missing) at the beginning of `*each*` of each of the python script/ module files you have written, as well as at the start of every function (sub-module) in a module.\n",
    "\n",
    "4.  Also annotate your code lines as much and as often as necessary using #.\n",
    "\n",
    "5.  Keep all code files organized in `code` in your weekly directory in your coursework repository (e.g., in CMEECourseWork/Week2). \n",
    "\n",
    "*`git add`, `commit` and `push` all your code and data files to your git repository by next Wednesday 5 PM.*"
   ]
  },
  {
   "cell_type": "markdown",
   "metadata": {},
   "source": [
    "## Readings and Resources\n",
    "\n",
    "* Code like a Pythonista: Idiomatic python (Google it)\n",
    "* Also good: the Google python Style Guide\n",
    "* [Browse the python tutorial](https://docs.python.org/3/tutorial)\n",
    "* [For functions and modules](https://learnpythonthehardway.org/book/ex40.html)\n",
    "* For IPython, [see this](http://ipython.org/ipython-doc/stable/interactive/tips.html)\n",
    "* Cookbooks can be very useful: <https://github.com/ipython/ipython/wiki>\n",
    "* Look up <https://docs.python.org/3/library/index.html> – Read about the packages you think will be important to you\n",
    "* Some of you might find the python package `biopython` particularly useful — check out <http://biopython.org/>, and especially, the cookbook\n",
    "* In general, scores of good module/package-specific cookbooks are out there — google \"cookbook\" along with the name of the package you are interested in (e.g., \"scipy cookbook\")."
   ]
  }
 ],
 "metadata": {
  "kernelspec": {
   "display_name": "Python 3",
   "language": "python",
   "name": "python3"
  },
  "language_info": {
   "codemirror_mode": {
    "name": "ipython",
    "version": 3
   },
   "file_extension": ".py",
   "mimetype": "text/x-python",
   "name": "python",
   "nbconvert_exporter": "python",
   "pygments_lexer": "ipython3",
   "version": "3.5.2"
  },
  "latex_envs": {
   "LaTeX_envs_menu_present": true,
   "autoclose": false,
   "autocomplete": false,
   "bibliofile": "biblio.bib",
   "cite_by": "apalike",
   "current_citInitial": 1,
   "eqLabelWithNumbers": true,
   "eqNumInitial": 1,
   "hotkeys": {
    "equation": "Ctrl-E",
    "itemize": "Ctrl-I"
   },
   "labels_anchors": false,
   "latex_user_defs": false,
   "report_style_numbering": false,
   "user_envs_cfg": false
  },
  "toc": {
   "base_numbering": 1,
   "nav_menu": {},
   "number_sections": true,
   "sideBar": false,
   "skip_h1_title": false,
   "title_cell": "Contents",
   "title_sidebar": "Contents",
   "toc_cell": true,
   "toc_position": {
    "height": "47px",
    "left": "923px",
    "top": "442px",
    "width": "166px"
   },
   "toc_section_display": true,
   "toc_window_display": true
  }
 },
 "nbformat": 4,
 "nbformat_minor": 2
}
