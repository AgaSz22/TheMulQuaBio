{
 "cells": [
  {
   "cell_type": "markdown",
   "metadata": {},
   "source": [
    "<!--NAVIGATION-->\n",
    "< [Biological Computing in Python I](05-Python_I.ipynb) | [Main Contents](Index.ipynb) | [Biological Computing in R](07-R.ipynb) >"
   ]
  },
  {
   "cell_type": "markdown",
   "metadata": {},
   "source": [
    "# Biological Computing in Python II  <span class=\"tocSkip\"> <a name=\"chap:python_II\"></a>\n",
    "    \n",
    ">> ...some things in life are bad. They can really make you mad. Other things just make you swear and curse. When you're chewing on life's gristle, don't grumble; give a whistle, and this'll help things turn out for the best. And... always look on the bright side of life... \n",
    "— Guess who?"
   ]
  },
  {
   "cell_type": "markdown",
   "metadata": {
    "toc": true
   },
   "source": [
    "<h1>Contents<span class=\"tocSkip\"></span></h1>\n",
    "<div class=\"toc\"><ul class=\"toc-item\"><li><span><a href=\"#Numerical-computing-in-Python\" data-toc-modified-id=\"Numerical-computing-in-Python-1\"><span class=\"toc-item-num\">1&nbsp;&nbsp;</span>Numerical computing in Python</a></span><ul class=\"toc-item\"><li><span><a href=\"#Indexing-and-accessing-arrays\" data-toc-modified-id=\"Indexing-and-accessing-arrays-1.1\"><span class=\"toc-item-num\">1.1&nbsp;&nbsp;</span>Indexing and accessing arrays</a></span></li><li><span><a href=\"#Manipulating-arrays\" data-toc-modified-id=\"Manipulating-arrays-1.2\"><span class=\"toc-item-num\">1.2&nbsp;&nbsp;</span>Manipulating arrays</a></span><ul class=\"toc-item\"><li><span><a href=\"#Replacing,-adding-or-deleting-elements\" data-toc-modified-id=\"Replacing,-adding-or-deleting-elements-1.2.1\"><span class=\"toc-item-num\">1.2.1&nbsp;&nbsp;</span>Replacing, adding or deleting elements</a></span></li><li><span><a href=\"#Flattening-or-reshaping-arrays\" data-toc-modified-id=\"Flattening-or-reshaping-arrays-1.2.2\"><span class=\"toc-item-num\">1.2.2&nbsp;&nbsp;</span>Flattening or reshaping arrays</a></span></li></ul></li><li><span><a href=\"#Pre-allocating-arrays\" data-toc-modified-id=\"Pre-allocating-arrays-1.3\"><span class=\"toc-item-num\">1.3&nbsp;&nbsp;</span>Pre-allocating arrays</a></span></li><li><span><a href=\"#numpy-matrices\" data-toc-modified-id=\"numpy-matrices-1.4\"><span class=\"toc-item-num\">1.4&nbsp;&nbsp;</span><code>numpy</code> matrices</a></span><ul class=\"toc-item\"><li><span><a href=\"#Matrix-vector-operations\" data-toc-modified-id=\"Matrix-vector-operations-1.4.1\"><span class=\"toc-item-num\">1.4.1&nbsp;&nbsp;</span>Matrix-vector operations</a></span></li></ul></li></ul></li><li><span><a href=\"#Two-particularly-useful-scipy-sub-packages\" data-toc-modified-id=\"Two-particularly-useful-scipy-sub-packages-2\"><span class=\"toc-item-num\">2&nbsp;&nbsp;</span>Two particularly useful <code>scipy</code> sub-packages</a></span><ul class=\"toc-item\"><li><span><a href=\"#sc.stats\" data-toc-modified-id=\"sc.stats-2.1\"><span class=\"toc-item-num\">2.1&nbsp;&nbsp;</span><code>sc.stats</code></a></span></li><li><span><a href=\"#sc.integrate\" data-toc-modified-id=\"sc.integrate-2.2\"><span class=\"toc-item-num\">2.2&nbsp;&nbsp;</span><code>sc.integrate</code></a></span><ul class=\"toc-item\"><li><span><a href=\"#The-Lotka-Volterra-model\" data-toc-modified-id=\"The-Lotka-Volterra-model-2.2.1\"><span class=\"toc-item-num\">2.2.1&nbsp;&nbsp;</span>The Lotka-Volterra model</a></span></li></ul></li></ul></li><li><span><a href=\"#Plotting-in-Python\" data-toc-modified-id=\"Plotting-in-Python-3\"><span class=\"toc-item-num\">3&nbsp;&nbsp;</span>Plotting in Python</a></span></li><li><span><a href=\"#Practicals\" data-toc-modified-id=\"Practicals-4\"><span class=\"toc-item-num\">4&nbsp;&nbsp;</span>Practicals</a></span></li><li><span><a href=\"#The-need-for-speed:-Profiling-in-Python\" data-toc-modified-id=\"The-need-for-speed:-Profiling-in-Python-5\"><span class=\"toc-item-num\">5&nbsp;&nbsp;</span>The need for speed: Profiling in Python</a></span><ul class=\"toc-item\"><li><span><a href=\"#Profiling\" data-toc-modified-id=\"Profiling-5.1\"><span class=\"toc-item-num\">5.1&nbsp;&nbsp;</span>Profiling</a></span></li><li><span><a href=\"#Quick-profiling-with-timeit\" data-toc-modified-id=\"Quick-profiling-with-timeit-5.2\"><span class=\"toc-item-num\">5.2&nbsp;&nbsp;</span>Quick profiling with <code>timeit</code></a></span></li></ul></li><li><span><a href=\"#Practicals\" data-toc-modified-id=\"Practicals-6\"><span class=\"toc-item-num\">6&nbsp;&nbsp;</span>Practicals</a></span><ul class=\"toc-item\"><li><span><a href=\"#Lotka-Volterra-model-problem\" data-toc-modified-id=\"Lotka-Volterra-model-problem-6.1\"><span class=\"toc-item-num\">6.1&nbsp;&nbsp;</span>Lotka-Volterra model problem</a></span></li></ul></li><li><span><a href=\"#Networks-in-python\" data-toc-modified-id=\"Networks-in-python-7\"><span class=\"toc-item-num\">7&nbsp;&nbsp;</span>Networks in <code>python</code></a></span></li><li><span><a href=\"#Practicals\" data-toc-modified-id=\"Practicals-8\"><span class=\"toc-item-num\">8&nbsp;&nbsp;</span>Practicals</a></span></li><li><span><a href=\"#Regular-expressions-in-Python\" data-toc-modified-id=\"Regular-expressions-in-Python-9\"><span class=\"toc-item-num\">9&nbsp;&nbsp;</span>Regular expressions in Python</a></span><ul class=\"toc-item\"><li><span><a href=\"#Metacharacters-vs.-regular-characters\" data-toc-modified-id=\"Metacharacters-vs.-regular-characters-9.1\"><span class=\"toc-item-num\">9.1&nbsp;&nbsp;</span>Metacharacters vs. regular characters</a></span></li><li><span><a href=\"#regex-elements\" data-toc-modified-id=\"regex-elements-9.2\"><span class=\"toc-item-num\">9.2&nbsp;&nbsp;</span>regex elements</a></span></li><li><span><a href=\"#Regex-in-python\" data-toc-modified-id=\"Regex-in-python-9.3\"><span class=\"toc-item-num\">9.3&nbsp;&nbsp;</span>Regex in <code>python</code></a></span></li><li><span><a href=\"#Some-RegExercises\" data-toc-modified-id=\"Some-RegExercises-9.4\"><span class=\"toc-item-num\">9.4&nbsp;&nbsp;</span>Some RegExercises</a></span></li></ul></li><li><span><a href=\"#Practicals\" data-toc-modified-id=\"Practicals-10\"><span class=\"toc-item-num\">10&nbsp;&nbsp;</span>Practicals</a></span><ul class=\"toc-item\"><li><span><a href=\"#Important-re-functions\" data-toc-modified-id=\"Important-re-functions-10.1\"><span class=\"toc-item-num\">10.1&nbsp;&nbsp;</span>Important <code>re</code> functions</a></span></li></ul></li><li><span><a href=\"#Practicals\" data-toc-modified-id=\"Practicals-11\"><span class=\"toc-item-num\">11&nbsp;&nbsp;</span>Practicals</a></span><ul class=\"toc-item\"><li><ul class=\"toc-item\"><li><span><a href=\"#Blackbirds-problem\" data-toc-modified-id=\"Blackbirds-problem-11.0.1\"><span class=\"toc-item-num\">11.0.1&nbsp;&nbsp;</span>Blackbirds problem</a></span></li></ul></li></ul></li><li><span><a href=\"#Databases-and-python\" data-toc-modified-id=\"Databases-and-python-12\"><span class=\"toc-item-num\">12&nbsp;&nbsp;</span>Databases and <code>python</code></a></span><ul class=\"toc-item\"><li><span><a href=\"#Relational-databases\" data-toc-modified-id=\"Relational-databases-12.1\"><span class=\"toc-item-num\">12.1&nbsp;&nbsp;</span>Relational databases</a></span></li><li><span><a href=\"#SQLite\" data-toc-modified-id=\"SQLite-12.2\"><span class=\"toc-item-num\">12.2&nbsp;&nbsp;</span>SQLite</a></span></li><li><span><a href=\"#SQLite-with-python\" data-toc-modified-id=\"SQLite-with-python-12.3\"><span class=\"toc-item-num\">12.3&nbsp;&nbsp;</span>SQLite with python</a></span></li></ul></li><li><span><a href=\"#Using-Python-to-build-workflows\" data-toc-modified-id=\"Using-Python-to-build-workflows-13\"><span class=\"toc-item-num\">13&nbsp;&nbsp;</span>Using Python to build workflows</a></span><ul class=\"toc-item\"><li><span><a href=\"#Using-subprocess\" data-toc-modified-id=\"Using-subprocess-13.1\"><span class=\"toc-item-num\">13.1&nbsp;&nbsp;</span>Using <code>subprocess</code></a></span></li><li><span><a href=\"#Running-R\" data-toc-modified-id=\"Running-R-13.2\"><span class=\"toc-item-num\">13.2&nbsp;&nbsp;</span>Running <code>R</code></a></span></li></ul></li><li><span><a href=\"#Practicals\" data-toc-modified-id=\"Practicals-14\"><span class=\"toc-item-num\">14&nbsp;&nbsp;</span>Practicals</a></span><ul class=\"toc-item\"><li><ul class=\"toc-item\"><li><span><a href=\"#Using-os-problem-1\" data-toc-modified-id=\"Using-os-problem-1-14.0.1\"><span class=\"toc-item-num\">14.0.1&nbsp;&nbsp;</span>Using <code>os</code> problem 1</a></span></li><li><span><a href=\"#Using-os-problem-2\" data-toc-modified-id=\"Using-os-problem-2-14.0.2\"><span class=\"toc-item-num\">14.0.2&nbsp;&nbsp;</span>Using <code>os</code> problem 2</a></span></li></ul></li></ul></li><li><span><a href=\"#Practicals-wrap-up\" data-toc-modified-id=\"Practicals-wrap-up-15\"><span class=\"toc-item-num\">15&nbsp;&nbsp;</span>Practicals wrap-up</a></span></li><li><span><a href=\"#Readings-and-Resources\" data-toc-modified-id=\"Readings-and-Resources-16\"><span class=\"toc-item-num\">16&nbsp;&nbsp;</span>Readings and Resources</a></span></li></ul></div>"
   ]
  },
  {
   "cell_type": "markdown",
   "metadata": {},
   "source": [
    "In this chapter, we will build on the [first Python Chapter](05-Python_I.ipynb). We cover some more advanced topics that will round-off your training in Biological Computing in Python. \n",
    "\n",
    "## Numerical computing in Python\n",
    "\n",
    "The python package `scipy` allows you to do serious number crunching, including:\n",
    "\n",
    "* Linear algebra (matrix and vector operations)\n",
    "* Numerical integration (solving ODEs)\n",
    "* Fourier transforms\n",
    "* Interpolation\n",
    "* Calculating special functions (incomplete Gamma, Bessel, etc.)\n",
    "* Generation of random numbers\n",
    "* Using statistical functions and transformations\n",
    "\n",
    "In the following, we will use the `numpy array` data structure for data manipulations and calculations. These\n",
    "arrays are similar in some respects to python lists, but are more naturally multidimensional, homogeneous in type (the default is float), and allow efficient (fast) manipulations. Thus numpy arrays are analogous to the R `matrix` data object/structure. We will use the `scipy` package, which includes `numpy`, and lot more. \n",
    "\n",
    "So let's try `scipy`:"
   ]
  },
  {
   "cell_type": "code",
   "execution_count": 200,
   "metadata": {},
   "outputs": [],
   "source": [
    "import scipy as sc"
   ]
  },
  {
   "cell_type": "code",
   "execution_count": 201,
   "metadata": {},
   "outputs": [
    {
     "data": {
      "text/plain": [
       "array([0, 1, 2, 3, 4])"
      ]
     },
     "execution_count": 201,
     "metadata": {},
     "output_type": "execute_result"
    }
   ],
   "source": [
    "a = sc.array(range(5)) # a one-dimensional array\n",
    "a"
   ]
  },
  {
   "cell_type": "code",
   "execution_count": 202,
   "metadata": {},
   "outputs": [
    {
     "name": "stdout",
     "output_type": "stream",
     "text": [
      "<class 'numpy.ndarray'>\n"
     ]
    }
   ],
   "source": [
    "print(type(a))"
   ]
  },
  {
   "cell_type": "code",
   "execution_count": 203,
   "metadata": {},
   "outputs": [
    {
     "name": "stdout",
     "output_type": "stream",
     "text": [
      "<class 'numpy.int64'>\n"
     ]
    }
   ],
   "source": [
    "print(type(a[0]))"
   ]
  },
  {
   "cell_type": "markdown",
   "metadata": {},
   "source": [
    "Thus the last two outputs tell you that firstly, there is a data structure type (and a class) called `numpy.ndarray`, and secondly, that at position `0` (remember, Python indexing starts at 0) it holds an [64 bit integer](https://en.wikipedia.org/wiki/9,223,372,036,854,775,807). All elements in `a` will be of type `int` because that is what `range()` returns (try `?range`).\n",
    "\n",
    "<figure>\n",
    "<img src=\"./graphics/numpyarray.png\" alt=\"numpy array\" style=\"width:70%\">\n",
    "    <small>\n",
    "        <center>\n",
    "            (Source: [http://pages.physics.cornell.edu/~myers/teaching/ComputationalMethods/python/arrays.html](http://pages.physics.cornell.edu/~myers/teaching/ComputationalMethods/python/arrays.html))\n",
    "            <figcaption> \n",
    "            A graphical depiction of numpy/numpy arrays, which can have multiple dimensions (even greater than 3).\n",
    "            </figcaption>\n",
    "        </center>\n",
    "    </small>\n",
    "</figure>\n",
    "\n",
    "You can also specify the data type of the array:"
   ]
  },
  {
   "cell_type": "code",
   "execution_count": 204,
   "metadata": {},
   "outputs": [
    {
     "data": {
      "text/plain": [
       "array([ 0.,  1.,  2.,  3.,  4.])"
      ]
     },
     "execution_count": 204,
     "metadata": {},
     "output_type": "execute_result"
    }
   ],
   "source": [
    "a = sc.array(range(5), float)\n",
    "a"
   ]
  },
  {
   "cell_type": "code",
   "execution_count": 205,
   "metadata": {},
   "outputs": [
    {
     "data": {
      "text/plain": [
       "dtype('float64')"
      ]
     },
     "execution_count": 205,
     "metadata": {},
     "output_type": "execute_result"
    }
   ],
   "source": [
    "a.dtype # Check type "
   ]
  },
  {
   "cell_type": "markdown",
   "metadata": {},
   "source": [
    "You can also get a 1-D arrays as follows:"
   ]
  },
  {
   "cell_type": "code",
   "execution_count": 206,
   "metadata": {},
   "outputs": [
    {
     "data": {
      "text/plain": [
       "array([0, 1, 2, 3, 4])"
      ]
     },
     "execution_count": 206,
     "metadata": {},
     "output_type": "execute_result"
    }
   ],
   "source": [
    "x = sc.arange(5)\n",
    "x"
   ]
  },
  {
   "cell_type": "code",
   "execution_count": 207,
   "metadata": {},
   "outputs": [
    {
     "data": {
      "text/plain": [
       "array([ 0.,  1.,  2.,  3.,  4.])"
      ]
     },
     "execution_count": 207,
     "metadata": {},
     "output_type": "execute_result"
    }
   ],
   "source": [
    "x = sc.arange(5.) #directly specify float using decimal\n",
    "x"
   ]
  },
  {
   "cell_type": "markdown",
   "metadata": {},
   "source": [
    "As with other Python variables (e.g., created as a list or a dictionary), you can apply methods to variables created as numpy arrays. For example, type `x.` and hit TAB to see all methods you can apply to`x`. To see dimensions of `x`:"
   ]
  },
  {
   "cell_type": "code",
   "execution_count": 208,
   "metadata": {},
   "outputs": [
    {
     "data": {
      "text/plain": [
       "(5,)"
      ]
     },
     "execution_count": 208,
     "metadata": {},
     "output_type": "execute_result"
    }
   ],
   "source": [
    "x.shape"
   ]
  },
  {
   "cell_type": "markdown",
   "metadata": {},
   "source": [
    "Remember, you can type `:?x.methodname` to get info on a particular method. For example, try `?x.shape`.\n",
    "\n",
    "You can also convert to and from Python lists:"
   ]
  },
  {
   "cell_type": "code",
   "execution_count": 209,
   "metadata": {},
   "outputs": [
    {
     "data": {
      "text/plain": [
       "array([1, 3, 5, 7, 9])"
      ]
     },
     "execution_count": 209,
     "metadata": {},
     "output_type": "execute_result"
    }
   ],
   "source": [
    "b = sc.array([i for i in range(10) if i%2==1]) #odd numbersbetween 1 and `0 \n",
    "b"
   ]
  },
  {
   "cell_type": "code",
   "execution_count": 210,
   "metadata": {},
   "outputs": [
    {
     "data": {
      "text/plain": [
       "[1, 3, 5, 7, 9]"
      ]
     },
     "execution_count": 210,
     "metadata": {},
     "output_type": "execute_result"
    }
   ],
   "source": [
    "c = b.tolist() #convert back to list\n",
    "c"
   ]
  },
  {
   "cell_type": "markdown",
   "metadata": {},
   "source": [
    "To make a matrix, you need a 2-D numpy array:"
   ]
  },
  {
   "cell_type": "code",
   "execution_count": 211,
   "metadata": {},
   "outputs": [
    {
     "data": {
      "text/plain": [
       "array([[0, 1],\n",
       "       [2, 3]])"
      ]
     },
     "execution_count": 211,
     "metadata": {},
     "output_type": "execute_result"
    }
   ],
   "source": [
    "mat = sc.array([[0, 1], [2, 3]])\n",
    "mat"
   ]
  },
  {
   "cell_type": "code",
   "execution_count": 212,
   "metadata": {},
   "outputs": [
    {
     "data": {
      "text/plain": [
       "(2, 2)"
      ]
     },
     "execution_count": 212,
     "metadata": {},
     "output_type": "execute_result"
    }
   ],
   "source": [
    "mat.shape"
   ]
  },
  {
   "cell_type": "markdown",
   "metadata": {},
   "source": [
    "### Indexing and accessing arrays\n",
    "\n",
    "As with other Python data objects such as lists, numpy array elements can be accessed using square brackets (`[ ]`) with the usual `[row,column]` reference. Indexing of numpy arrays works like that for other data structures, with index values starting at 0. So, you can obtain all the elements of a particular row as:"
   ]
  },
  {
   "cell_type": "code",
   "execution_count": 213,
   "metadata": {},
   "outputs": [
    {
     "data": {
      "text/plain": [
       "array([2, 3])"
      ]
     },
     "execution_count": 213,
     "metadata": {},
     "output_type": "execute_result"
    }
   ],
   "source": [
    "mat[1] # accessing whole 2nd row, remember indexing starts at  0"
   ]
  },
  {
   "cell_type": "code",
   "execution_count": 214,
   "metadata": {},
   "outputs": [
    {
     "data": {
      "text/plain": [
       "array([1, 3])"
      ]
     },
     "execution_count": 214,
     "metadata": {},
     "output_type": "execute_result"
    }
   ],
   "source": [
    "mat[:,1] #accessing whole second column  "
   ]
  },
  {
   "cell_type": "markdown",
   "metadata": {},
   "source": [
    "And accessing particular elements:"
   ]
  },
  {
   "cell_type": "code",
   "execution_count": 215,
   "metadata": {},
   "outputs": [
    {
     "data": {
      "text/plain": [
       "0"
      ]
     },
     "execution_count": 215,
     "metadata": {},
     "output_type": "execute_result"
    }
   ],
   "source": [
    "mat[0,0] # 1st row, 1st column element"
   ]
  },
  {
   "cell_type": "code",
   "execution_count": 216,
   "metadata": {},
   "outputs": [
    {
     "data": {
      "text/plain": [
       "2"
      ]
     },
     "execution_count": 216,
     "metadata": {},
     "output_type": "execute_result"
    }
   ],
   "source": [
    "mat[1,0] # 2nd row, 1st column element"
   ]
  },
  {
   "cell_type": "markdown",
   "metadata": {},
   "source": [
    "Note that (like all other programming languages) row index always comes before column index. That is, `mat[1]` is always going to mean \"whole second row\", and `mat[1,1]` means 1st row and 1st column element. Therefore, to access the whole second column, you need:"
   ]
  },
  {
   "cell_type": "code",
   "execution_count": 217,
   "metadata": {},
   "outputs": [
    {
     "data": {
      "text/plain": [
       "array([0, 2])"
      ]
     },
     "execution_count": 217,
     "metadata": {},
     "output_type": "execute_result"
    }
   ],
   "source": [
    "mat[:,0] #accessing whole first column  "
   ]
  },
  {
   "cell_type": "markdown",
   "metadata": {},
   "source": [
    "Python indexing also accepts negative values for going back to the start\n",
    "from the end of an array:"
   ]
  },
  {
   "cell_type": "code",
   "execution_count": 218,
   "metadata": {},
   "outputs": [
    {
     "data": {
      "text/plain": [
       "1"
      ]
     },
     "execution_count": 218,
     "metadata": {},
     "output_type": "execute_result"
    }
   ],
   "source": [
    "mat[0,1]"
   ]
  },
  {
   "cell_type": "code",
   "execution_count": 219,
   "metadata": {},
   "outputs": [
    {
     "data": {
      "text/plain": [
       "1"
      ]
     },
     "execution_count": 219,
     "metadata": {},
     "output_type": "execute_result"
    }
   ],
   "source": [
    "mat[0,-1] #interesting!"
   ]
  },
  {
   "cell_type": "code",
   "execution_count": 220,
   "metadata": {},
   "outputs": [
    {
     "data": {
      "text/plain": [
       "0"
      ]
     },
     "execution_count": 220,
     "metadata": {},
     "output_type": "execute_result"
    }
   ],
   "source": [
    "mat[0,-2] #very interesting, but rather useless for this simple matrix!"
   ]
  },
  {
   "cell_type": "markdown",
   "metadata": {},
   "source": [
    "### Manipulating arrays\n",
    "\n",
    "Manipulating numpy arrays is pretty straightforward. \n",
    "\n",
    "---\n",
    "> **Why numpy arrays are computationally efficient:**  The data associated with a numpy array object (its metadata  &ndash; number of dimensions, shape, data type, etc &ndash; as well as the actual data) are stored in a homogeneous and contiguous block of memory (a \"data buffer\"), at a particular address in the system's RAM (Random Access Memory). This makes numpy arrays more efficient than a pure Python data structures like lists whose data are scattered across the system memory.\n",
    "\n",
    "---\n",
    "\n",
    "#### Replacing, adding or deleting elements\n",
    "\n",
    "Let's look at how you can replace, add, or delete an array element (a single entry, or whole row(s) or whole column(s)):"
   ]
  },
  {
   "cell_type": "code",
   "execution_count": 221,
   "metadata": {},
   "outputs": [
    {
     "data": {
      "text/plain": [
       "array([[-1,  1],\n",
       "       [ 2,  3]])"
      ]
     },
     "execution_count": 221,
     "metadata": {},
     "output_type": "execute_result"
    }
   ],
   "source": [
    "mat[0,0] = -1 #replace a single element\n",
    "mat"
   ]
  },
  {
   "cell_type": "code",
   "execution_count": 222,
   "metadata": {},
   "outputs": [
    {
     "data": {
      "text/plain": [
       "array([[12,  1],\n",
       "       [12,  3]])"
      ]
     },
     "execution_count": 222,
     "metadata": {},
     "output_type": "execute_result"
    }
   ],
   "source": [
    "mat[:,0] = [12,12] #replace whole column\n",
    "mat"
   ]
  },
  {
   "cell_type": "code",
   "execution_count": 223,
   "metadata": {
    "scrolled": true
   },
   "outputs": [
    {
     "data": {
      "text/plain": [
       "array([[12,  1],\n",
       "       [12,  3],\n",
       "       [12, 12]])"
      ]
     },
     "execution_count": 223,
     "metadata": {},
     "output_type": "execute_result"
    }
   ],
   "source": [
    "sc.append(mat, [[12,12]], axis = 0) #append row, note axis specification"
   ]
  },
  {
   "cell_type": "code",
   "execution_count": 224,
   "metadata": {},
   "outputs": [
    {
     "data": {
      "text/plain": [
       "array([[12,  1, 12],\n",
       "       [12,  3, 12]])"
      ]
     },
     "execution_count": 224,
     "metadata": {},
     "output_type": "execute_result"
    }
   ],
   "source": [
    "sc.append(mat, [[12],[12]], axis = 1) #append column"
   ]
  },
  {
   "cell_type": "code",
   "execution_count": 225,
   "metadata": {},
   "outputs": [],
   "source": [
    "newRow = [[12,12]] #create new row"
   ]
  },
  {
   "cell_type": "code",
   "execution_count": 226,
   "metadata": {},
   "outputs": [
    {
     "data": {
      "text/plain": [
       "array([[12,  1],\n",
       "       [12,  3],\n",
       "       [12, 12]])"
      ]
     },
     "execution_count": 226,
     "metadata": {},
     "output_type": "execute_result"
    }
   ],
   "source": [
    "mat = sc.append(mat, newRow, axis = 0) #append that existing row\n",
    "mat"
   ]
  },
  {
   "cell_type": "code",
   "execution_count": 227,
   "metadata": {},
   "outputs": [
    {
     "data": {
      "text/plain": [
       "array([[12,  1],\n",
       "       [12,  3]])"
      ]
     },
     "execution_count": 227,
     "metadata": {},
     "output_type": "execute_result"
    }
   ],
   "source": [
    "sc.delete(mat, 2, 0) #Delete 3rd row"
   ]
  },
  {
   "cell_type": "markdown",
   "metadata": {},
   "source": [
    "And concatenation:"
   ]
  },
  {
   "cell_type": "code",
   "execution_count": 228,
   "metadata": {},
   "outputs": [
    {
     "data": {
      "text/plain": [
       "array([[ 0,  1],\n",
       "       [ 2,  3],\n",
       "       [ 0, 10],\n",
       "       [-1,  3]])"
      ]
     },
     "execution_count": 228,
     "metadata": {},
     "output_type": "execute_result"
    }
   ],
   "source": [
    "mat = sc.array([[0, 1], [2, 3]])\n",
    "mat0 = sc.array([[0, 10], [-1, 3]])\n",
    "sc.concatenate((mat, mat0), axis = 0)"
   ]
  },
  {
   "cell_type": "markdown",
   "metadata": {},
   "source": [
    "#### Flattening or reshaping arrays\n",
    "\n",
    "You can also \"flatten\" or \"melt\" arrays, that is, change array dimensions (e.g., from a matrix to a vector):"
   ]
  },
  {
   "cell_type": "code",
   "execution_count": 229,
   "metadata": {},
   "outputs": [
    {
     "data": {
      "text/plain": [
       "array([0, 1, 2, 3])"
      ]
     },
     "execution_count": 229,
     "metadata": {},
     "output_type": "execute_result"
    }
   ],
   "source": [
    "mat.ravel() # NOTE: ravel is row-priority - happens row by row"
   ]
  },
  {
   "cell_type": "code",
   "execution_count": 230,
   "metadata": {},
   "outputs": [
    {
     "data": {
      "text/plain": [
       "array([[0],\n",
       "       [1],\n",
       "       [2],\n",
       "       [3]])"
      ]
     },
     "execution_count": 230,
     "metadata": {},
     "output_type": "execute_result"
    }
   ],
   "source": [
    "mat.reshape((4,1)) # this is different from ravel - check ?sc.reshape"
   ]
  },
  {
   "cell_type": "code",
   "execution_count": 231,
   "metadata": {},
   "outputs": [
    {
     "data": {
      "text/plain": [
       "array([[0, 1, 2, 3]])"
      ]
     },
     "execution_count": 231,
     "metadata": {},
     "output_type": "execute_result"
    }
   ],
   "source": [
    "mat.reshape((1,4)) # NOTE: reshaping is also row-priority"
   ]
  },
  {
   "cell_type": "code",
   "execution_count": 232,
   "metadata": {},
   "outputs": [
    {
     "ename": "ValueError",
     "evalue": "cannot reshape array of size 4 into shape (3,1)",
     "output_type": "error",
     "traceback": [
      "\u001b[0;31m---------------------------------------------------------------------------\u001b[0m",
      "\u001b[0;31mValueError\u001b[0m                                Traceback (most recent call last)",
      "\u001b[0;32m<ipython-input-232-b2ac8bfd10e7>\u001b[0m in \u001b[0;36m<module>\u001b[0;34m()\u001b[0m\n\u001b[0;32m----> 1\u001b[0;31m \u001b[0mmat\u001b[0m\u001b[0;34m.\u001b[0m\u001b[0mreshape\u001b[0m\u001b[0;34m(\u001b[0m\u001b[0;34m(\u001b[0m\u001b[0;36m3\u001b[0m\u001b[0;34m,\u001b[0m \u001b[0;36m1\u001b[0m\u001b[0;34m)\u001b[0m\u001b[0;34m)\u001b[0m \u001b[0;31m# But total elements must remain the same!\u001b[0m\u001b[0;34m\u001b[0m\u001b[0m\n\u001b[0m",
      "\u001b[0;31mValueError\u001b[0m: cannot reshape array of size 4 into shape (3,1)"
     ]
    }
   ],
   "source": [
    "mat.reshape((3, 1)) # But total elements must remain the same!"
   ]
  },
  {
   "cell_type": "markdown",
   "metadata": {},
   "source": [
    "This is a bit different than how [`R` behaves](07-R.ipynb#Recycling), where you won't get an error (R \"recycles\" data), which can be dangerous!\n",
    "\n",
    "### Pre-allocating arrays\n",
    "\n",
    "As in other computer languages, it is usually more efficient to preallocate an array rather than append / insert / concatenate additional elements, rows, or columns. *why*? &ndash; because you might run out of contiguous space in the specific system memory (RAM) address where the current array is stored. Preallocation allocates all the RAM memory you need in one call, while resizing the array (through append,insert,concatenate, resize, etc) may require copying the array to a larger block of memory, slowing things down, and significantly so if the matrix/array is very large.\n",
    "\n",
    "For example, if you know the size of your matrix or array, you can initialize it with ones or zeros:"
   ]
  },
  {
   "cell_type": "code",
   "execution_count": 233,
   "metadata": {
    "scrolled": true
   },
   "outputs": [
    {
     "data": {
      "text/plain": [
       "array([[ 1.,  1.],\n",
       "       [ 1.,  1.],\n",
       "       [ 1.,  1.],\n",
       "       [ 1.,  1.]])"
      ]
     },
     "execution_count": 233,
     "metadata": {},
     "output_type": "execute_result"
    }
   ],
   "source": [
    "sc.ones((4,2)) #(4,2) are the (row,col) array dimensions"
   ]
  },
  {
   "cell_type": "code",
   "execution_count": 234,
   "metadata": {
    "scrolled": true
   },
   "outputs": [
    {
     "data": {
      "text/plain": [
       "array([[ 0.,  0.],\n",
       "       [ 0.,  0.],\n",
       "       [ 0.,  0.],\n",
       "       [ 0.,  0.]])"
      ]
     },
     "execution_count": 234,
     "metadata": {},
     "output_type": "execute_result"
    }
   ],
   "source": [
    "sc.zeros((4,2)) # or zeros"
   ]
  },
  {
   "cell_type": "code",
   "execution_count": 235,
   "metadata": {},
   "outputs": [
    {
     "data": {
      "text/plain": [
       "array([[ 1.,  0.,  0.,  0.],\n",
       "       [ 0.,  1.,  0.,  0.],\n",
       "       [ 0.,  0.,  1.,  0.],\n",
       "       [ 0.,  0.,  0.,  1.]])"
      ]
     },
     "execution_count": 235,
     "metadata": {},
     "output_type": "execute_result"
    }
   ],
   "source": [
    "m = sc.identity(4) #create an identity matrix\n",
    "m"
   ]
  },
  {
   "cell_type": "code",
   "execution_count": 236,
   "metadata": {},
   "outputs": [
    {
     "data": {
      "text/plain": [
       "array([[ 16.,  16.,  16.,  16.],\n",
       "       [ 16.,  16.,  16.,  16.],\n",
       "       [ 16.,  16.,  16.,  16.],\n",
       "       [ 16.,  16.,  16.,  16.]])"
      ]
     },
     "execution_count": 236,
     "metadata": {},
     "output_type": "execute_result"
    }
   ],
   "source": [
    "m.fill(16) #fill the matrix with 16\n",
    "m"
   ]
  },
  {
   "cell_type": "markdown",
   "metadata": {},
   "source": [
    "### `numpy` matrices\n",
    "\n",
    "Scipy/Numpy also has a `matrix` data structure class. Numpy matrices are strictly 2-dimensional, while numpy arrays are N-dimensional. Matrix objects are a subclass of numpy arrays, so they inherit all the attributes and methods of numpy arrays (ndarrays).\n",
    "\n",
    "The main advantage of scipy matrices is that they provide a convenient notation for matrix multiplication: if `a` and `b` are matrices, then `a * b` is their matrix product.\n",
    "\n",
    "#### Matrix-vector operations\n",
    "\n",
    "Now let's perform some common matrix-vector operations on arrays (you can also try the same using matrices instead of arrays):"
   ]
  },
  {
   "cell_type": "code",
   "execution_count": 237,
   "metadata": {},
   "outputs": [
    {
     "data": {
      "text/plain": [
       "array([[ 0,  1,  2,  3],\n",
       "       [ 4,  5,  6,  7],\n",
       "       [ 8,  9, 10, 11],\n",
       "       [12, 13, 14, 15]])"
      ]
     },
     "execution_count": 237,
     "metadata": {},
     "output_type": "execute_result"
    }
   ],
   "source": [
    "mm = sc.arange(16)\n",
    "mm = mm.reshape(4,4) #Convert to matrix\n",
    "mm"
   ]
  },
  {
   "cell_type": "code",
   "execution_count": 238,
   "metadata": {
    "scrolled": true
   },
   "outputs": [
    {
     "data": {
      "text/plain": [
       "array([[ 0,  4,  8, 12],\n",
       "       [ 1,  5,  9, 13],\n",
       "       [ 2,  6, 10, 14],\n",
       "       [ 3,  7, 11, 15]])"
      ]
     },
     "execution_count": 238,
     "metadata": {},
     "output_type": "execute_result"
    }
   ],
   "source": [
    "mm.transpose()"
   ]
  },
  {
   "cell_type": "code",
   "execution_count": 239,
   "metadata": {
    "scrolled": true
   },
   "outputs": [
    {
     "data": {
      "text/plain": [
       "array([[ 0,  5, 10, 15],\n",
       "       [ 5, 10, 15, 20],\n",
       "       [10, 15, 20, 25],\n",
       "       [15, 20, 25, 30]])"
      ]
     },
     "execution_count": 239,
     "metadata": {},
     "output_type": "execute_result"
    }
   ],
   "source": [
    "mm + mm.transpose()"
   ]
  },
  {
   "cell_type": "code",
   "execution_count": 240,
   "metadata": {
    "scrolled": true
   },
   "outputs": [
    {
     "data": {
      "text/plain": [
       "array([[ 0, -3, -6, -9],\n",
       "       [ 3,  0, -3, -6],\n",
       "       [ 6,  3,  0, -3],\n",
       "       [ 9,  6,  3,  0]])"
      ]
     },
     "execution_count": 240,
     "metadata": {},
     "output_type": "execute_result"
    }
   ],
   "source": [
    "mm - mm.transpose()"
   ]
  },
  {
   "cell_type": "code",
   "execution_count": 241,
   "metadata": {},
   "outputs": [
    {
     "data": {
      "text/plain": [
       "array([[  0,   4,  16,  36],\n",
       "       [  4,  25,  54,  91],\n",
       "       [ 16,  54, 100, 154],\n",
       "       [ 36,  91, 154, 225]])"
      ]
     },
     "execution_count": 241,
     "metadata": {},
     "output_type": "execute_result"
    }
   ],
   "source": [
    "mm * mm.transpose() ## Note: Elementwise multiplication!"
   ]
  },
  {
   "cell_type": "code",
   "execution_count": 242,
   "metadata": {
    "scrolled": true
   },
   "outputs": [
    {
     "name": "stderr",
     "output_type": "stream",
     "text": [
      "/usr/local/lib/python3.5/dist-packages/ipykernel_launcher.py:1: RuntimeWarning: divide by zero encountered in floor_divide\n",
      "  \"\"\"Entry point for launching an IPython kernel.\n"
     ]
    },
    {
     "data": {
      "text/plain": [
       "array([[0, 0, 0, 0],\n",
       "       [4, 1, 0, 0],\n",
       "       [4, 1, 1, 0],\n",
       "       [4, 1, 1, 1]])"
      ]
     },
     "execution_count": 242,
     "metadata": {},
     "output_type": "execute_result"
    }
   ],
   "source": [
    "mm // mm.transpose()"
   ]
  },
  {
   "cell_type": "markdown",
   "metadata": {},
   "source": [
    "Note that we used integer division `//`. Note also the warning you get(because of zero division). So let's avoid the divide by zero:"
   ]
  },
  {
   "cell_type": "code",
   "execution_count": 243,
   "metadata": {},
   "outputs": [
    {
     "data": {
      "text/plain": [
       "array([[0, 0, 0, 0],\n",
       "       [2, 0, 0, 0],\n",
       "       [2, 1, 0, 0],\n",
       "       [3, 1, 1, 0]])"
      ]
     },
     "execution_count": 243,
     "metadata": {},
     "output_type": "execute_result"
    }
   ],
   "source": [
    "mm // (mm+1).transpose()"
   ]
  },
  {
   "cell_type": "code",
   "execution_count": 244,
   "metadata": {},
   "outputs": [
    {
     "data": {
      "text/plain": [
       "array([[  0.        ,   3.14159265,   6.28318531,   9.42477796],\n",
       "       [ 12.56637061,  15.70796327,  18.84955592,  21.99114858],\n",
       "       [ 25.13274123,  28.27433388,  31.41592654,  34.55751919],\n",
       "       [ 37.69911184,  40.8407045 ,  43.98229715,  47.1238898 ]])"
      ]
     },
     "execution_count": 244,
     "metadata": {},
     "output_type": "execute_result"
    }
   ],
   "source": [
    "mm * sc.pi"
   ]
  },
  {
   "cell_type": "code",
   "execution_count": 245,
   "metadata": {},
   "outputs": [
    {
     "data": {
      "text/plain": [
       "array([[ 56,  62,  68,  74],\n",
       "       [152, 174, 196, 218],\n",
       "       [248, 286, 324, 362],\n",
       "       [344, 398, 452, 506]])"
      ]
     },
     "execution_count": 245,
     "metadata": {},
     "output_type": "execute_result"
    }
   ],
   "source": [
    "mm.dot(mm) # MATRIX MULTIPLICATION"
   ]
  },
  {
   "cell_type": "code",
   "execution_count": 246,
   "metadata": {},
   "outputs": [
    {
     "data": {
      "text/plain": [
       "matrix([[ 0,  1,  2,  3],\n",
       "        [ 4,  5,  6,  7],\n",
       "        [ 8,  9, 10, 11],\n",
       "        [12, 13, 14, 15]])"
      ]
     },
     "execution_count": 246,
     "metadata": {},
     "output_type": "execute_result"
    }
   ],
   "source": [
    "mm = sc.matrix(mm) # convert to scipy matrix class\n",
    "mm"
   ]
  },
  {
   "cell_type": "code",
   "execution_count": 247,
   "metadata": {},
   "outputs": [
    {
     "name": "stdout",
     "output_type": "stream",
     "text": [
      "<class 'numpy.matrixlib.defmatrix.matrix'>\n"
     ]
    }
   ],
   "source": [
    "print(type(mm))"
   ]
  },
  {
   "cell_type": "code",
   "execution_count": 248,
   "metadata": {},
   "outputs": [
    {
     "data": {
      "text/plain": [
       "matrix([[ 56,  62,  68,  74],\n",
       "        [152, 174, 196, 218],\n",
       "        [248, 286, 324, 362],\n",
       "        [344, 398, 452, 506]])"
      ]
     },
     "execution_count": 248,
     "metadata": {},
     "output_type": "execute_result"
    }
   ],
   "source": [
    "mm * mm # now matrix multiplication is syntactically easier"
   ]
  },
  {
   "cell_type": "markdown",
   "metadata": {},
   "source": [
    "We can do a lot more by importing the `linalg` sub-package: `sc.linalg`. Try it."
   ]
  },
  {
   "cell_type": "markdown",
   "metadata": {},
   "source": [
    "## Two particularly useful `scipy` sub-packages\n",
    "\n",
    "Two particularly useful `scipy` sub-packages are `sc.integrate` (*what will I need this for?*) and `sc.stats`. *Why not use `R` for this?* — because often you might just want to calculate some summary stats of your simulation results within Python.\n",
    "\n",
    "### `sc.stats`\n",
    "\n",
    "Let's take a quick spin in `sc.stats`."
   ]
  },
  {
   "cell_type": "code",
   "execution_count": 249,
   "metadata": {},
   "outputs": [],
   "source": [
    "import scipy.stats"
   ]
  },
  {
   "cell_type": "code",
   "execution_count": 250,
   "metadata": {},
   "outputs": [
    {
     "data": {
      "text/plain": [
       "array([-0.00791964, -1.37867188, -0.73420101,  1.74303858,  0.19779642,\n",
       "        0.09727168,  1.6114523 ,  0.7068086 , -1.94197494,  0.94727775])"
      ]
     },
     "execution_count": 250,
     "metadata": {},
     "output_type": "execute_result"
    }
   ],
   "source": [
    "scipy.stats.norm.rvs(size = 10) # 10 samples from N(0,1)"
   ]
  },
  {
   "cell_type": "code",
   "execution_count": 251,
   "metadata": {},
   "outputs": [
    {
     "data": {
      "text/plain": [
       "array([0, 0, 5, 9, 1, 8, 6])"
      ]
     },
     "execution_count": 251,
     "metadata": {},
     "output_type": "execute_result"
    }
   ],
   "source": [
    "scipy.stats.randint.rvs(0, 10, size =7) # Random integers between 0 and 10"
   ]
  },
  {
   "cell_type": "markdown",
   "metadata": {},
   "source": [
    "### `sc.integrate`\n",
    "\n",
    "Numerical integration is the approximate computation of an integral using numerical techniques. You need numerical integration whenever you have a complicated function that cannot be integrated analytically using anti-derivatives. A common application is solving ordinary differential equations (ODEs), commonly used for modelling biological systems.\n",
    "\n",
    "#### The Lotka-Volterra model\n",
    "\n",
    "Let's try numerical integration in Python for solving a classical model in biology — the Lotka-Volterra model for a predator-prey system in two-dimensional space (e.g., on land).\n",
    "\n",
    "The Lotka-Volterra (LV) model is: \n",
    "\n",
    "\\begin{aligned}\n",
    "    \\frac{dR}{dt} &= r R - a C R \\\\\n",
    "    \\frac{dC}{dt} &= - z C + e a C R\n",
    "\\end{aligned}\n",
    "\n",
    "where $C$ and $R$ are consumer (e.g., predator) and resource (e.g., prey) population abundance (either number $\\times$ area$^{-1}$ ), $r$ is the intrinsic (per-capita) growth rate of the resource population (time$^{-1}$), $a$ is per-capita \"search rate\" for the resource ($\\text{area}\\times \\text{time}^{-1}$)  multiplied by its attack success probability, which determines the encounter and consumption rate of the consumer on the resource, $z$ is mortality rate ($\\text{time}^{-1}$) and $e$ is the consumer's efficiency (a fraction) in converting resource to consumer biomass.\n",
    "\n",
    "We have already imported scipy above (`import scipy as sc`) so we can proceed to solve the LV model using numerical integration. \n",
    "\n",
    "First, import `scipy`'s `integrate` submodule:"
   ]
  },
  {
   "cell_type": "code",
   "execution_count": 252,
   "metadata": {},
   "outputs": [],
   "source": [
    "import scipy.integrate as integrate"
   ]
  },
  {
   "cell_type": "markdown",
   "metadata": {},
   "source": [
    "Now define a function that returns the growth rate of consumer and resource population at any given time step."
   ]
  },
  {
   "cell_type": "code",
   "execution_count": 253,
   "metadata": {},
   "outputs": [],
   "source": [
    "def dCR_dt(pops, t=0):\n",
    "\n",
    "    R = pops[0]\n",
    "    C = pops[1]\n",
    "    dRdt = r * R - a * R * C \n",
    "    dCdt = -z * C + e * a * R * C\n",
    "    \n",
    "    return sc.array([dRdt, dCdt])"
   ]
  },
  {
   "cell_type": "code",
   "execution_count": 254,
   "metadata": {
    "scrolled": true
   },
   "outputs": [
    {
     "data": {
      "text/plain": [
       "function"
      ]
     },
     "execution_count": 254,
     "metadata": {},
     "output_type": "execute_result"
    }
   ],
   "source": [
    "type(dCR_dt)"
   ]
  },
  {
   "cell_type": "markdown",
   "metadata": {},
   "source": [
    "Assign some parameter values:"
   ]
  },
  {
   "cell_type": "code",
   "execution_count": 255,
   "metadata": {},
   "outputs": [],
   "source": [
    "r = 1.\n",
    "a = 0.1 \n",
    "z = 1.5\n",
    "e = 0.75"
   ]
  },
  {
   "cell_type": "markdown",
   "metadata": {},
   "source": [
    "Define the time vector; let's integrate from time point 0 to 15, using 1000 sub-divisions of time:"
   ]
  },
  {
   "cell_type": "code",
   "execution_count": 256,
   "metadata": {},
   "outputs": [],
   "source": [
    "t = sc.linspace(0, 15,  1000)"
   ]
  },
  {
   "cell_type": "markdown",
   "metadata": {},
   "source": [
    "Note that the units of time are arbitrary here. "
   ]
  },
  {
   "cell_type": "markdown",
   "metadata": {},
   "source": [
    "Set the initial conditions for the two populations (10 resources and 5 consumers per unit area), and convert the two into an array (because our `dCR_dt` function take an array as input). "
   ]
  },
  {
   "cell_type": "code",
   "execution_count": 277,
   "metadata": {},
   "outputs": [],
   "source": [
    "R0 = 10\n",
    "C0 = 5 \n",
    "RC0 = sc.array([R0, C0]) "
   ]
  },
  {
   "cell_type": "markdown",
   "metadata": {},
   "source": [
    "Now numerically integrate this system forward from those starting conditions: "
   ]
  },
  {
   "cell_type": "code",
   "execution_count": 278,
   "metadata": {},
   "outputs": [],
   "source": [
    "pops, infodict = integrate.odeint(dCR_dt, RC0, t, full_output=True)"
   ]
  },
  {
   "cell_type": "code",
   "execution_count": 279,
   "metadata": {
    "scrolled": false
   },
   "outputs": [
    {
     "data": {
      "text/plain": [
       "array([[ 10.        ,   5.        ],\n",
       "       [ 10.07578091,   4.94421976],\n",
       "       [ 10.1529783 ,   4.88948321],\n",
       "       ..., \n",
       "       [  9.99869712,  17.56204194],\n",
       "       [  9.8872779 ,  17.3642589 ],\n",
       "       [  9.78000354,  17.16658946]])"
      ]
     },
     "execution_count": 279,
     "metadata": {},
     "output_type": "execute_result"
    }
   ],
   "source": [
    "pops"
   ]
  },
  {
   "cell_type": "markdown",
   "metadata": {},
   "source": [
    "So `pops` contains the result (the population trajectories).  Also check what's in infodict (it's a  dictionary with additional information)"
   ]
  },
  {
   "cell_type": "code",
   "execution_count": 280,
   "metadata": {
    "scrolled": false
   },
   "outputs": [
    {
     "data": {
      "text/plain": [
       "dict"
      ]
     },
     "execution_count": 280,
     "metadata": {},
     "output_type": "execute_result"
    }
   ],
   "source": [
    "type(infodict)"
   ]
  },
  {
   "cell_type": "code",
   "execution_count": 281,
   "metadata": {},
   "outputs": [
    {
     "data": {
      "text/plain": [
       "dict_keys(['tsw', 'nst', 'lenrw', 'nqu', 'leniw', 'mused', 'tolsf', 'tcur', 'imxer', 'hu', 'nje', 'message', 'nfe'])"
      ]
     },
     "execution_count": 281,
     "metadata": {},
     "output_type": "execute_result"
    }
   ],
   "source": [
    "infodict.keys()"
   ]
  },
  {
   "cell_type": "markdown",
   "metadata": {},
   "source": [
    "Check what the `infodict` output is by reading the help documentation with `?scipy.integrate.odeint`. For example, you can return a message to screen about whether the integration was successful: "
   ]
  },
  {
   "cell_type": "code",
   "execution_count": 282,
   "metadata": {},
   "outputs": [
    {
     "data": {
      "text/plain": [
       "'Integration successful.'"
      ]
     },
     "execution_count": 282,
     "metadata": {},
     "output_type": "execute_result"
    }
   ],
   "source": [
    "infodict['message']"
   ]
  },
  {
   "cell_type": "markdown",
   "metadata": {},
   "source": [
    "So it worked, great! But we would like to visualize the results. Let's do it using the `matplotlib` package. \n",
    "\n",
    "## Plotting in Python \n",
    "\n",
    "To visualize the results of your numerical simulations in Python (or for data exploration/analyses), you can use `matplotlib`, which uses Matlab like plotting syntax.\n",
    "\n",
    "First let's import the package:"
   ]
  },
  {
   "cell_type": "code",
   "execution_count": 283,
   "metadata": {},
   "outputs": [],
   "source": [
    "import matplotlib.pylab as p"
   ]
  },
  {
   "cell_type": "markdown",
   "metadata": {},
   "source": [
    "Now open empty figure object (analogous to an R graphics object)."
   ]
  },
  {
   "cell_type": "code",
   "execution_count": 284,
   "metadata": {
    "scrolled": true
   },
   "outputs": [
    {
     "data": {
      "text/plain": [
       "<matplotlib.figure.Figure at 0x7f2704e5fa90>"
      ]
     },
     "metadata": {},
     "output_type": "display_data"
    }
   ],
   "source": [
    "f1 = p.figure()"
   ]
  },
  {
   "cell_type": "code",
   "execution_count": 294,
   "metadata": {},
   "outputs": [
    {
     "data": {
      "image/png": "[encoded data removed]",
      "text/plain": [
       "<matplotlib.figure.Figure at 0x7f270433a3c8>"
      ]
     },
     "metadata": {},
     "output_type": "display_data"
    }
   ],
   "source": [
    "p.plot(t, pops[:,0], 'g-', label='Resource density') # Plot\n",
    "p.plot(t, pops[:,1]  , 'b-', label='Consumer density')\n",
    "p.grid()\n",
    "p.legend(loc='best')\n",
    "p.xlabel('Time')\n",
    "p.ylabel('Population density')\n",
    "p.title('Consumer-Resource population dynamics')\n",
    "p.show()# To display the figure"
   ]
  },
  {
   "cell_type": "markdown",
   "metadata": {},
   "source": [
    "Finally, save the figure as a pdf:"
   ]
  },
  {
   "cell_type": "code",
   "execution_count": 178,
   "metadata": {},
   "outputs": [],
   "source": [
    "f1.savefig('../results/LV_model.pdf') #Save figure"
   ]
  },
  {
   "cell_type": "markdown",
   "metadata": {},
   "source": [
    "You can use many any other output formats; check the documentation with `p.savefig`. "
   ]
  },
  {
   "cell_type": "markdown",
   "metadata": {},
   "source": [
    "## Practicals\n",
    "\n",
    "1. Create a self-standing script using the above example and save it as `LV1.py` in your code directory. In addition to generating the above figure, it should also generate the following figure: \n",
    "\n",
    "<figure>\n",
    "<img src=\"./graphics/LV_model_CR.png\" alt=\"Lotka-Volterra consumer-resource dynamics\" style=\"width:50%\">\n",
    "    <small>\n",
    "        <center>\n",
    "            <figcaption> \n",
    "            Generate this figure as part of the `LV1.py` script.\n",
    "            </figcaption>\n",
    "        </center>\n",
    "    </small>\n",
    "</figure>\n",
    "\n",
    "It should save both figures in pdf to the `results` directory, *without displaying them on screen*."
   ]
  },
  {
   "cell_type": "markdown",
   "metadata": {},
   "source": [
    "## The need for speed: Profiling in Python\n",
    "\n",
    "Donald Knuth says: *Premature optimization is the root of all evil*. \n",
    "\n",
    "Indeed, computational speed may not be your initial concern. Also, you should focus on developing clean, reliable, reusable code rather than worrying first about how fast your code runs. However, speed will become an issue when and if your analysis or modeling becomes complex enough (e.g., food web or large network simulations). In that case, knowing which parts of your code take the most time is useful – optimizing those parts may save you lots of time. To find out what is slowing down your code you need to \"profile\" your code.\n",
    "\n",
    "### Profiling\n",
    "\n",
    "Profiling is easy in `ipython` – simply use the command: \n",
    "\n",
    "```python\n",
    "%run -p your_function_name\n",
    "```\n",
    "\n",
    "Let's write a simple illustrative program and name it `profileme.py`:\n",
    "```python\n",
    "\n",
    "```\n",
    "Now run it with `run -p profileme.py`, and you should see something like: "
   ]
  },
  {
   "cell_type": "markdown",
   "metadata": {},
   "source": [
    "```bash\n",
    "         64 function calls (63 primitive calls) in 14.023 seconds\n",
    "\n",
    "   Ordered by: internal time\n",
    "\n",
    "   ncalls  tottime  percall  cumtime  percall filename:lineno(function)\n",
    "        1    8.633    8.633    8.633    8.633 profileme.py:7(another_useless_function)\n",
    "        1    5.385    5.385    5.385    5.385 profileme.py:1(a_useless_function)\n",
    "        1    0.005    0.005    0.005    0.005 profileme.py:15(a_less_useless_function)   \n",
    "   [more output]\n",
    "```"
   ]
  },
  {
   "cell_type": "markdown",
   "metadata": {},
   "source": [
    "\n",
    "So let's modify the script:\n",
    "\n",
    "```python\n",
    "```\n",
    "\n",
    "Again running the program with the command `run -p` yields:"
   ]
  },
  {
   "cell_type": "markdown",
   "metadata": {},
   "source": [
    "So we saved 1.499 s! (not enough to grab a pint, but ah well...).\n",
    "\n",
    "### Quick profiling with `timeit`\n",
    "\n",
    "Alternatively, if you are writing your script and want to figure out what the best way to do something (say a particular command or a loop) might be, then you can use `timeit`.\n",
    "\n",
    "Type an run the following code in a python script called `timeitme.py`:\n",
    "\n",
    "```python\n",
    "import time\n",
    "import timeit\n",
    "\n",
    "##############################################################################\n",
    "# loops vs. list comprehensions: which is faster?\n",
    "##############################################################################\n",
    "\n",
    "my_list = range(1000)\n",
    "\n",
    "def my_squares_loop(x):\n",
    "    out = []\n",
    "    for i in x:\n",
    "        out.append(i ** 2)\n",
    "    return out\n",
    "\n",
    "def my_squares_lc(x):\n",
    "    out = [i ** 2 for i in x]\n",
    "    return out\n",
    "\n",
    "# %timeit my_squares_loop(my_list)\n",
    "# %timeit my_squares_lc(my_list)\n",
    "\n",
    "##############################################################################\n",
    "# loops vs. the join method: which is faster?\n",
    "##############################################################################\n",
    "\n",
    "import string\n",
    "my_letters = list(string.ascii_lowercase)\n",
    "\n",
    "def my_join_loop(l):\n",
    "    out = ''\n",
    "    for letter in l:\n",
    "        out += letter\n",
    "    return out\n",
    "\n",
    "\n",
    "def my_join_method(l):\n",
    "    out = ''.join(l)\n",
    "    return out\n",
    "\n",
    "# %timeit(my_join_loop(my_letters))\n",
    "# %timeit(my_join_method(my_letters))\n",
    "```\n",
    "\n",
    "One approach is to time it like this:\n",
    "```python \n",
    "start = time.time()\n",
    "a_not_useful_function()\n",
    "print \"a_not_useful_function takes %f s to run.\" % (time.time() - start)\n",
    "\n",
    "start = time.time()\n",
    "a_less_useless_function()\n",
    "print \"a_less_useless_function takes %f s to run.\" % (time.time() - start)\n",
    "```\n",
    "But you'll notice that if you run it multiple times, the time taken changes a bit. So using `timeit` takes a sample of runs and returns the average, which is better.  \n",
    "\n",
    "Run these different instances of timeit-ing by trying the `%timeit` command followed by the function call. Note that you can import all the functions using `from timeitme import *`\n",
    "\n",
    "But remember, don't go crazy with profiling for the sake of shaving a couple of milliseconds, tempting as that may be!"
   ]
  },
  {
   "cell_type": "markdown",
   "metadata": {},
   "source": [
    "## Practicals\n",
    "\n",
    "As always, test, add, commit and push all your new code and data to your git repository.\n",
    "\n",
    "### Lotka-Volterra model problem\n",
    "\n",
    "Copy and modify `LV1.py` into another script called `LV2.py` that does the following:\n",
    "\n",
    "1.  Take arguments for the four LV model parameters $r$, $a$, $z$ ,$e$ from the command line:\n",
    "```\n",
    "LV2.py arg1 arg2 ... etc\n",
    "```\n",
    "2.  Runs the Lotka-Volterra model with prey density dependence $r R (1 - \\frac{R} {K})$, which changes the coupled ODEs to,\n",
    "\n",
    "\\begin{aligned}\n",
    "    \\frac{dR}{dt} &= r R (1 - \\frac{R} {K}) - a C R \\\\\n",
    "    \\frac{dC}{dt} &= - z C + e a C R\n",
    "\\end{aligned}\n",
    "\n",
    "3.  Saves the plot as `.pdf` in an external results directory in your weekly directory\n",
    "\n",
    "4.  The chosen parameter values should show in the plot (e.g., $r = 1, a = .5 $, etc) You can change time length $t$ too.\n",
    "\n",
    "5.  Include a script in `Code` that will run both `LV1.py` and `LV2.py` with appropriate arguments. This script should also profile the two scripts and print the results to screen for each of the scripts using the `%run -p` approach. Look at and compare the speed bottlenecks in `LV1.py` and `LV2.py`. *Think about how you could further speed up the scripts.*\n",
    "\n",
    "*Write every subsequent extra credit script file with a new name such as `LV3.py`,`LV4.py`, etc.* \n",
    "\n",
    "**Extra credit**: Choose appropriate values for the parameters such that both predator and prey persist with prey density dependence — the final (non-zero) population values should be printed to screen.\n",
    "\n",
    "**Extra-extra credit**: Write a discrete-time version of the LV model called `LV3.py`. The discrete-time model is:\n",
    "\n",
    "\\begin{align} \n",
    "    R_{t+1} &= R_t (1 + r \\left(1 - \\frac{R_t}{K}\\right) - a C_t)\\\\ \n",
    "    C_{t+1} &= C_t (1 - z + e a R_t) \n",
    "\\end{align}\n",
    "\n",
    "Include this script in `run_LV.py`, and profile it as well.\n",
    "\n",
    "**Extra-extra-extra credit**: Write a version of the discrete-time model (which you impplemented in `LV3.py`) simulation with a random gaussian fluctuation in resource's growth rate at each time-step:\n",
    "\n",
    "\\begin{aligned}\n",
    "        R_{t+1} &= R_t (1 + (r + \\epsilon) \\left(1 - \\frac{R_t}{K}\\right)- a C_t)\\\\\n",
    "        C_{t+1} &= C_t (1 - z + e a R_t)\n",
    "\\end{aligned}\n",
    "\n",
    "where $\\epsilon$ is a random fluctuation drawn from a gaussian distribution (use `sc.stats`). Include this\n",
    "script in ` run_LV.py`, and profile it as well.\n",
    "\n",
    "You can also add fluctuations to both populations simultaneously this way: \n",
    "\n",
    "\\begin{aligned}\n",
    "    R_{t+1} &= R_t (1 + \\epsilon + r +  \\left(1 - \\frac{R_t}{K}\\right) - a C_t)\\\\\n",
    "    C_{t+1} &= C_t (1 - z + \\epsilon + e a R_t)\n",
    "\\end{aligned}"
   ]
  },
  {
   "cell_type": "markdown",
   "metadata": {},
   "source": [
    "## Networks in `python`\n",
    "\n",
    "ALL biological systems have a network representation, consisting of nodes for the biological entities of interest, and edges or links for the relationships between them. Here are some examples:\n",
    "* Metabolic networks\n",
    "* Gene regulatory networks\n",
    "* Individual-Individual (e.g., social networks)\n",
    "* Food webs\n",
    "* Pollination networks\n",
    "\n",
    "*Can you think of a few more examples from biology?*\n",
    "\n",
    "You can easily simulate, analyze, and visualize biological networks inboth `python` and `R` using some nifty packages. A full network anaalysis tutorial is out of the scope of our Python module's objectives, but let's try a simple visualization using the ` networkx` python package.\n",
    "\n",
    "For this you need to first install the package:\n",
    "\n",
    "```bash\n",
    "sudo apt-get install python-networkx\n",
    "```"
   ]
  },
  {
   "cell_type": "markdown",
   "metadata": {},
   "source": [
    "Now type the code file `DrawFW.py` and run it:\n",
    "\n",
    "```python\n",
    "\n",
    "\"\"\" \n",
    "\tPlot a snapshot of a food web graph/network. \n",
    "\n",
    "\tNeeds: Adjacency list of who eats whom (consumer name/id in 1st \n",
    "\tcolumn, resource name/id in 2nd column), and list of species \n",
    "\tnames/ids and properties such as biomass (node abundance), or average \n",
    "\tbody mass. \n",
    "\t\n",
    "\"\"\"\n",
    "import networkx as nx\n",
    "import scipy as sc\n",
    "import matplotlib.pyplot as plt\n",
    "# import matplotlib.animation as ani #for animation\n",
    "\n",
    "def GenRdmAdjList(N = 2, C = 0.5):\n",
    "\t\"\"\" \n",
    "\tGenerate random adjacency list given N nodes with connectance \n",
    "\tprobability C\n",
    "\t\"\"\"\n",
    "\tIds = range(N)\n",
    "\tALst = []\n",
    "\tfor i in Ids:\n",
    "\t\tif sc.random.uniform(0,1,1) < C:\n",
    "\t\t\tLnk = sc.random.choice(Ids,2).tolist()\n",
    "\t\t\tif Lnk[0] != Lnk[1]: #avoid self loops\n",
    "\t\t\t\tALst.append(Lnk)\n",
    "\treturn ALst\n",
    "\n",
    "## Assign body mass range\n",
    "SizRan = ([-10,10]) #use log scale\n",
    "\n",
    "## Assign number of species (MaxN) and connectance (C)\n",
    "MaxN = 30\n",
    "C = 0.75\n",
    "\n",
    "## Generate adjacency list:\n",
    "AdjL = sc.array(GenRdmAdjList(MaxN, C))\n",
    "\n",
    "## Generate species (node) data:\n",
    "Sps = sc.unique(AdjL) # get species ids\n",
    "Sizs = sc.random.uniform(SizRan[0],SizRan[1],MaxN)# Generate body sizes (log10 scale)\n",
    "\n",
    "###### The Plotting #####\n",
    "plt.close('all')\n",
    "\n",
    "##Plot using networkx:\n",
    "\n",
    "## Calculate coordinates for circular configuration:\n",
    "## (See networkx.layout for inbuilt functions to compute other types of node \n",
    "# coords)\n",
    "pos = nx.circular_layout(Sps)\n",
    "\n",
    "G = nx.Graph()\n",
    "G.add_nodes_from(Sps)\n",
    "G.add_edges_from(tuple(AdjL))\n",
    "NodSizs= 10**-32 + (Sizs-min(Sizs))/(max(Sizs)-min(Sizs)) #node sizes in proportion to body sizes\n",
    "nx.draw(G, pos, node_size = NodSizs*1000)\n",
    "plt.show()\n",
    "```\n",
    "\n",
    "Look thorugh the code carefully (line-by-line) as there are some new\n",
    "python objects introduced by `networkx` for storing node and\n",
    "edge data.\n",
    "\n",
    "## Practicals\n",
    "\n",
    "You can also do nice network visualizations in R. Here you will convert a network visualization script written in `R` using the `igraph` package to a python script that does the samething.\n",
    "\n",
    "* First copy the script file called `Nets.R` and the data files it calls and run it. This script visualizes the QMEE CDT collaboration network (see <http://www.imperial.ac.uk/qmee-cdt/>), coloring the the nodes by the type of node (organization type: \"University\",\"Hosting Partner\", \"Non-hosting Partner\").\n",
    "\n",
    "Now, convert this script to a `python` script that does the same thing, including writing to an `.svg` file using the same QMEE CDT link and node data. You can use `networkx` or some other python network visualization package."
   ]
  },
  {
   "cell_type": "markdown",
   "metadata": {},
   "source": [
    "## Regular expressions in Python\n",
    "\n",
    "Let's shift gears now, and look at a very important skill that you should learn, or at least be aware of — `*Regular expressions*`. Regular expressions (regex) are a tool to find patterns in strings, such as:\n",
    "\n",
    "* Finding DNA motifs in sequence data\n",
    "* Navigating through files in a directory\n",
    "* Parsing text files\n",
    "* Extracting information from html and xml files\n",
    "\n",
    "Thus, if you are interested in data mining, need to clean or process data in any other way, or convert a bunch of information into usable data, knowing regex is absolutely necessary.\n",
    "\n",
    "<figure>\n",
    "<img src=\"./graphics/regex.png\" alt=\"xkcd on regex\" style=\"width:40%\">\n",
    "    <small>\n",
    "        <center>\n",
    "            (Source: [www.xkcd.com](https://www.xkcd.com/208/))\n",
    "            <figcaption> \n",
    "            Regular expressions could change your life! \n",
    "            </figcaption>\n",
    "        </center>\n",
    "    </small>\n",
    "</figure>\n",
    "\n",
    "Regex packages are available for most programming languages (recall [`grep` in UNIX](01-Unix.ipynb#Using-`grep`); that is how regex first became popular).\n",
    "\n",
    "### Metacharacters vs. regular characters\n",
    "\n",
    "A regex may consist of a combination of \"metacharacters\" (modifiers) and \"regular\" or literal characters. There are 14 metacharacters: \n",
    "\n",
    "<center> \n",
    "`[` `]` `{` `}` `(` `)` `\\` `^` `$` `.` `|` `?` `*` `+` `$`\n",
    "</center>\n",
    "\n",
    "These metacharacters do special things, for example:\n",
    "\n",
    "* `[12]` means match target to *1* and if that does not match then match target to *2*\n",
    "* `[0-9]` means match to any character in range *0* to *9*\n",
    "* `[^Ff]` means anything except upper or lower case *f* and `[^a-z]` means everything except lower case *a* to *z*\n",
    "\n",
    "Everything else is interpreted literally (e.g., *a* is matched by entering `a` in the regex).\n",
    "\n",
    "`[` and `]`, specify a character \"class\" — the set of characters that you wish to match. Metacharacters are not active inside classes. For example, `[a-z$]`will match any of the characters `a` to `z`, but also `$`, because inside a character class it loses its special metacharacter status.\n",
    "\n",
    "### regex elements\n",
    "\n",
    "A useful (not exhaustive) list of regex elements is:\n",
    "\n",
    "|||\n",
    "|:-|:-|\n",
    "|`a`| match the character *a*|\n",
    "|`3`| match the number *3*|\n",
    "|`\\n`| match a newline|\n",
    "|`\\t`| match a tab |\n",
    "|`\\s`| match a whitespace |\n",
    "|`.`| match any character except line break (newline)|\n",
    "|`\\w`| match any alphanumeric character (including underscore)|\n",
    "|`\\W`| match any character not covered by `\\w` (i.e., match any non-alphanumeric character excluding underscore)|\n",
    "|`\\d`| match a numeric character|\n",
    "|`\\D`| match any character not covered by ` \\d` (i.e., match a non-digit)|\n",
    "|`[atgc]` | match any character listed: `a`, `t`, `g`, `c`|\n",
    "| <code>at&#124;gc</code>  | match `at` or `gc`|\n",
    "|`[^atgc]` |any character not listed: any character but `a`, `t`, `g`, `c`|\n",
    "|`?`| match the preceding pattern element zero or one times|\n",
    "|`*`|match the preceding pattern element zero or more times|\n",
    "|`+`| match the preceding pattern element one or more times|\n",
    "|`{n}`| match the preceding pattern element exactly `n` times|\n",
    "|`{n,}`| match the preceding pattern element at least `n` times|\n",
    "|`{n,m}`| match the preceding pattern element at least `n` but not more than `m` times|\n",
    "|`\\^`| match the beginning of a line|\n",
    "|`$`| match the end of a line|\n",
    "|||\n",
    "\n",
    "### Regex in `python`\n",
    "\n",
    "Regex functions in python are in the module `re`. So import it"
   ]
  },
  {
   "cell_type": "code",
   "execution_count": 296,
   "metadata": {},
   "outputs": [],
   "source": [
    "import re"
   ]
  },
  {
   "cell_type": "markdown",
   "metadata": {},
   "source": [
    "The simplest `python` regex function is `re.search`, which searches the string for match to a given pattern — returns a *match object* if a match is found and `None` if not.\n",
    "\n",
    "**Always** put `r` in front of your regex — it tells python to read the regex in its \"raw\" (literal) form. Without raw string notation (`r\"text\"`), every backslash (`\\`) in a regular expression would have to be prefixed with another one to escape it. Read more about this [here](https://docs.python.org/3.5/library/re.html): \n",
    "\n",
    "OK, let's try some regexes (type all that follows in `regexs.py`):"
   ]
  },
  {
   "cell_type": "code",
   "execution_count": 299,
   "metadata": {},
   "outputs": [],
   "source": [
    "my_string = \"a given string\""
   ]
  },
  {
   "cell_type": "markdown",
   "metadata": {},
   "source": [
    "Find a space in the string:"
   ]
  },
  {
   "cell_type": "code",
   "execution_count": 301,
   "metadata": {
    "scrolled": true
   },
   "outputs": [
    {
     "name": "stdout",
     "output_type": "stream",
     "text": [
      "<_sre.SRE_Match object; span=(1, 2), match=' '>\n"
     ]
    }
   ],
   "source": [
    "match = re.search(r'\\s', my_string)\n",
    "print(match)"
   ]
  },
  {
   "cell_type": "markdown",
   "metadata": {},
   "source": [
    "That's only telling you that a match was found (the object was created successfully). \n",
    "\n",
    "To see the match, use:"
   ]
  },
  {
   "cell_type": "code",
   "execution_count": 303,
   "metadata": {},
   "outputs": [
    {
     "data": {
      "text/plain": [
       "' '"
      ]
     },
     "execution_count": 303,
     "metadata": {},
     "output_type": "execute_result"
    }
   ],
   "source": [
    "match.group()"
   ]
  },
  {
   "cell_type": "markdown",
   "metadata": {},
   "source": [
    "Now let's try another pattern:"
   ]
  },
  {
   "cell_type": "code",
   "execution_count": 309,
   "metadata": {},
   "outputs": [],
   "source": [
    "match = re.search(r'\\d', my_string)"
   ]
  },
  {
   "cell_type": "code",
   "execution_count": 310,
   "metadata": {
    "scrolled": true
   },
   "outputs": [
    {
     "name": "stdout",
     "output_type": "stream",
     "text": [
      "None\n"
     ]
    }
   ],
   "source": [
    "print(match)"
   ]
  },
  {
   "cell_type": "markdown",
   "metadata": {},
   "source": [
    "No surprise, because there are no numeric characters in our string!"
   ]
  },
  {
   "cell_type": "markdown",
   "metadata": {},
   "source": [
    "To know whether a pattern was matched, we can use an `if`:"
   ]
  },
  {
   "cell_type": "code",
   "execution_count": 311,
   "metadata": {},
   "outputs": [
    {
     "name": "stdout",
     "output_type": "stream",
     "text": [
      "found a match: an \n"
     ]
    }
   ],
   "source": [
    "MyStr = 'an example'\n",
    "\n",
    "match = re.search(r'\\w*\\s', MyStr) # what pattern is this?\n",
    "\n",
    "if match:                      \n",
    "    print('found a match:', match.group()) \n",
    "else:\n",
    "    print('did not find a match')    "
   ]
  },
  {
   "cell_type": "markdown",
   "metadata": {},
   "source": [
    "Here are some more regexes (add all that follows to the `regexs.py`):"
   ]
  },
  {
   "cell_type": "code",
   "execution_count": 315,
   "metadata": {
    "scrolled": true
   },
   "outputs": [
    {
     "data": {
      "text/plain": [
       "'2'"
      ]
     },
     "execution_count": 315,
     "metadata": {},
     "output_type": "execute_result"
    }
   ],
   "source": [
    "match = re.search(r'\\d' , \"it takes 2 to tango\")\n",
    "match.group()"
   ]
  },
  {
   "cell_type": "code",
   "execution_count": 319,
   "metadata": {
    "scrolled": true
   },
   "outputs": [
    {
     "data": {
      "text/plain": [
       "' a '"
      ]
     },
     "execution_count": 319,
     "metadata": {},
     "output_type": "execute_result"
    }
   ],
   "source": [
    "match = re.search(r'\\s\\w{1,3}\\s', 'once upon a time')\n",
    "match.group()"
   ]
  },
  {
   "cell_type": "code",
   "execution_count": 320,
   "metadata": {},
   "outputs": [
    {
     "data": {
      "text/plain": [
       "' time'"
      ]
     },
     "execution_count": 320,
     "metadata": {},
     "output_type": "execute_result"
    }
   ],
   "source": [
    "match = re.search(r'\\s\\w*$', 'once upon a time')\n",
    "match.group()"
   ]
  },
  {
   "cell_type": "markdown",
   "metadata": {},
   "source": [
    "Let's switch to a more compact syntax by directly returning the matched group (by directly appending `.group()` to the result)."
   ]
  },
  {
   "cell_type": "code",
   "execution_count": 323,
   "metadata": {},
   "outputs": [
    {
     "data": {
      "text/plain": [
       "'take 2 grams of H2'"
      ]
     },
     "execution_count": 323,
     "metadata": {},
     "output_type": "execute_result"
    }
   ],
   "source": [
    "re.search(r'\\w*\\s\\d.*\\d', 'take 2 grams of H2O').group()"
   ]
  },
  {
   "cell_type": "code",
   "execution_count": 324,
   "metadata": {},
   "outputs": [
    {
     "data": {
      "text/plain": [
       "'once upon a '"
      ]
     },
     "execution_count": 324,
     "metadata": {},
     "output_type": "execute_result"
    }
   ],
   "source": [
    "re.search(r'^\\w*.*\\s', 'once upon a time').group() # 'once upon a '"
   ]
  },
  {
   "cell_type": "markdown",
   "metadata": {},
   "source": [
    " Note that `*`, `+`, and `{ }` are all \"greedy\":  They repeat the previous regex token as many times as possible. \n",
    "\n",
    "As a result, they may match more text than you want. To make it non-greedy and terminate at the first found instance of a pattern, use `?`:"
   ]
  },
  {
   "cell_type": "code",
   "execution_count": 325,
   "metadata": {},
   "outputs": [
    {
     "data": {
      "text/plain": [
       "'once '"
      ]
     },
     "execution_count": 325,
     "metadata": {},
     "output_type": "execute_result"
    }
   ],
   "source": [
    "re.search(r'^\\w*.*?\\s', 'once upon a time').group()"
   ]
  },
  {
   "cell_type": "markdown",
   "metadata": {},
   "source": [
    "To further illustrate greediness in regexes, let's try matching an HTML tag:"
   ]
  },
  {
   "cell_type": "code",
   "execution_count": 326,
   "metadata": {},
   "outputs": [
    {
     "data": {
      "text/plain": [
       "'<EM>first</EM>'"
      ]
     },
     "execution_count": 326,
     "metadata": {},
     "output_type": "execute_result"
    }
   ],
   "source": [
    "re.search(r'<.+>', 'This is a <EM>first</EM> test').group()"
   ]
  },
  {
   "cell_type": "markdown",
   "metadata": {},
   "source": [
    "But we wanted just `<EM>`!  \n",
    "\n",
    "It's because `+` is greedy. Instead, we can make `+` \"lazy\":"
   ]
  },
  {
   "cell_type": "code",
   "execution_count": 327,
   "metadata": {},
   "outputs": [
    {
     "data": {
      "text/plain": [
       "'<EM>'"
      ]
     },
     "execution_count": 327,
     "metadata": {},
     "output_type": "execute_result"
    }
   ],
   "source": [
    "re.search(r'<.+?>', 'This is a <EM>first</EM> test').group()"
   ]
  },
  {
   "cell_type": "markdown",
   "metadata": {},
   "source": [
    "OK, moving on from greed and laziness..."
   ]
  },
  {
   "cell_type": "code",
   "execution_count": 330,
   "metadata": {},
   "outputs": [
    {
     "data": {
      "text/plain": [
       "'1432.75'"
      ]
     },
     "execution_count": 330,
     "metadata": {},
     "output_type": "execute_result"
    }
   ],
   "source": [
    "re.search(r'\\d*\\.?\\d*','1432.75+60.22i').group()"
   ]
  },
  {
   "cell_type": "markdown",
   "metadata": {},
   "source": [
    "Note `\\` before the `.`, to be able to find a literal `.` \n",
    "\n",
    "Otherwise, `re.search` will consider it to be a regex element (`.` means \"match any character except newline\").\n",
    "\n",
    "A couple more examples:"
   ]
  },
  {
   "cell_type": "code",
   "execution_count": 332,
   "metadata": {},
   "outputs": [
    {
     "data": {
      "text/plain": [
       "'ATTCGT'"
      ]
     },
     "execution_count": 332,
     "metadata": {},
     "output_type": "execute_result"
    }
   ],
   "source": [
    "re.search(r'[AGTC]+', 'the sequence ATTCGT').group()"
   ]
  },
  {
   "cell_type": "code",
   "execution_count": 333,
   "metadata": {},
   "outputs": [
    {
     "data": {
      "text/plain": [
       "' Theloderma asper'"
      ]
     },
     "execution_count": 333,
     "metadata": {},
     "output_type": "execute_result"
    }
   ],
   "source": [
    "re.search(r'\\s+[A-Z]{1}\\w+\\s\\w+', 'The bird-shit frog''s name is Theloderma asper').group() # ' Theloderma asper'"
   ]
  },
  {
   "cell_type": "markdown",
   "metadata": {},
   "source": [
    "<figure>\n",
    "<img src=\"./graphics/thelodermaasper.JPG\" alt=\"xkcd on regex\" style=\"width:40%\">\n",
    "    <small>\n",
    "        <center>\n",
    "            <figcaption> \n",
    "            In case you were wondering what `*Theloderma asper*`, the \"bird-shit frog\", looks like. I snapped this one in North-east India ages ago \n",
    "            </figcaption>\n",
    "        </center>\n",
    "    </small>\n",
    "</figure>"
   ]
  },
  {
   "cell_type": "markdown",
   "metadata": {},
   "source": [
    "You can group regexes into meaningful blocks using parentheses. For example, let's try matching a string consisting of an academic's name, email address and research area or interest (no need to type this into any python file):"
   ]
  },
  {
   "cell_type": "code",
   "execution_count": 335,
   "metadata": {},
   "outputs": [],
   "source": [
    "MyStr = 'Samraat Pawar, s.pawar@imperial.ac.uk, Systems biology and ecological theory'"
   ]
  },
  {
   "cell_type": "markdown",
   "metadata": {},
   "source": [
    "Without groups:"
   ]
  },
  {
   "cell_type": "code",
   "execution_count": 337,
   "metadata": {},
   "outputs": [
    {
     "data": {
      "text/plain": [
       "'Samraat Pawar, s.pawar@imperial.ac.uk, Systems biology and ecological theory'"
      ]
     },
     "execution_count": 337,
     "metadata": {},
     "output_type": "execute_result"
    }
   ],
   "source": [
    "match = re.search(r\"[\\w\\s]*,\\s[\\w\\.@]*,\\s[\\w\\s&]*\",MyStr)\n",
    "match.group()"
   ]
  },
  {
   "cell_type": "code",
   "execution_count": 338,
   "metadata": {},
   "outputs": [
    {
     "data": {
      "text/plain": [
       "'Samraat Pawar, s.pawar@imperial.ac.uk, Systems biology and ecological theory'"
      ]
     },
     "execution_count": 338,
     "metadata": {},
     "output_type": "execute_result"
    }
   ],
   "source": [
    "match.group(0)"
   ]
  },
  {
   "cell_type": "markdown",
   "metadata": {},
   "source": [
    "Now create groups using `( )`:"
   ]
  },
  {
   "cell_type": "code",
   "execution_count": 339,
   "metadata": {},
   "outputs": [],
   "source": [
    "match = re.search(r\"([\\w\\s]*),\\s([\\w\\.@]*),\\s([\\w\\s&]*)\",MyStr)"
   ]
  },
  {
   "cell_type": "code",
   "execution_count": 340,
   "metadata": {},
   "outputs": [
    {
     "data": {
      "text/plain": [
       "'Samraat Pawar, s.pawar@imperial.ac.uk, Systems biology and ecological theory'"
      ]
     },
     "execution_count": 340,
     "metadata": {},
     "output_type": "execute_result"
    }
   ],
   "source": [
    "match.group(0)"
   ]
  },
  {
   "cell_type": "code",
   "execution_count": 341,
   "metadata": {},
   "outputs": [
    {
     "data": {
      "text/plain": [
       "'Samraat Pawar'"
      ]
     },
     "execution_count": 341,
     "metadata": {},
     "output_type": "execute_result"
    }
   ],
   "source": [
    "match.group(1)"
   ]
  },
  {
   "cell_type": "code",
   "execution_count": 342,
   "metadata": {},
   "outputs": [
    {
     "data": {
      "text/plain": [
       "'s.pawar@imperial.ac.uk'"
      ]
     },
     "execution_count": 342,
     "metadata": {},
     "output_type": "execute_result"
    }
   ],
   "source": [
    "match.group(2)"
   ]
  },
  {
   "cell_type": "code",
   "execution_count": 343,
   "metadata": {},
   "outputs": [
    {
     "data": {
      "text/plain": [
       "'Systems biology and ecological theory'"
      ]
     },
     "execution_count": 343,
     "metadata": {},
     "output_type": "execute_result"
    }
   ],
   "source": [
    "match.group(3)"
   ]
  },
  {
   "cell_type": "markdown",
   "metadata": {},
   "source": [
    "Nice! This is very handy for extracting specific patterns from text data. \n",
    "\n",
    "Have a look at `re4.py` in your code repository for more on parsing email addresses using regexes."
   ]
  },
  {
   "cell_type": "markdown",
   "metadata": {},
   "source": [
    "## Practicals\n",
    "\n",
    "(1) Some RegExercises\n",
    "Translate the following regular expressions into regular English (don't type this in `regexs.py`!):\n",
    "* `r'^abc[ab]+\\s\\t\\d'`\n",
    "* `r'^\\d{1,2}\\/\\d{1,2}\\/\\d{4}$'`\n",
    "* `r'\\s*[a-zA-Z,\\s]+\\s*'`\n",
    "\n",
    "These exercises are not for submission as part of your coursework, but we will discuss them in class (in a later week).\n",
    "\n",
    "(2) Write a regex to match dates in format YYYYMMDD, making sure that:\n",
    "* Only seemingly valid dates match (i.e., year greater than 1900)\n",
    "* First digit in month is either 0 or 1\n",
    "* First digit in day $\\leq 3$ "
   ]
  },
  {
   "cell_type": "markdown",
   "metadata": {},
   "source": [
    "### Important `re` functions\n",
    "\n",
    "|||\n",
    "|:-|:-|\n",
    "| `re.compile(reg)`|           Compile a regular expression. In this way the pattern is stored for repeated use, improving the speed.|\n",
    "| `re.search(reg, text)`|      Scan the string and find the first match of the pattern in the string. Returns a `match` object if successful and `None` otherwise.|\n",
    "| `re.match(reg, text)`|       as `re.search`, but only match the beginning of the string.|\n",
    "| `re.split(ref, text)`|       Split the text by the occurrence of the pattern described by the regular expression.|\n",
    "| `re.findall(ref, text)`|     As `re.search`, but return a list of all the matches. If groups are present, return a list of groups.|\n",
    "| `re.finditer(ref, text)`|    As `re.search`, but return an iterator containing the next match.|\n",
    "| `re.sub(ref, repl, text)`|   Substitute each non-overlapping occurrence of the match with the text in `repl` (or a function!).|\n",
    "|||\n",
    "\n",
    "## Practicals\n",
    "\n",
    "As always, test, add, commit and push all your new code and data to your git repository.\n",
    "\n",
    "#### Blackbirds problem\n",
    "\n",
    "Complete the code `blackbirds.py` that you find in the `CMEEMasteRepo` (necessary data file is also there)."
   ]
  },
  {
   "cell_type": "markdown",
   "metadata": {},
   "source": [
    "## Databases and Python\n",
    "\n",
    "Many of you will deal with complex data — and often, lots of it. Ecological and Evolutionary data are particularly complex because they contain large numbers of attributes, often measured in very different scales and units for individual taxa, populations, etc. In this scenario, storing the data in a database makes a lot of sense! You can\n",
    "easily include the database in your analysis workflow — indeed, that's why people use databases. And you can use python (and R) to build, manipulate and use your database.\n",
    "\n",
    "### Relational databases\n",
    "\n",
    "A `*relational*` database is a collection of interlinked (` *related*`) tables that altogether store a complex dataset\n",
    "in a logical, computer-readable format. Dividing a dataset into multiple\n",
    "tables minimizes redundancies. For example, if your data were sampled\n",
    "from three sites — then, rather than repeating the site name and\n",
    "description in each row in a text file, you could just specify a\n",
    "numerical \"key\" that directs to another table containing the sampling\n",
    "site name and description.\n",
    "\n",
    "Finally, if you have many rows in your data file, the type of sequential\n",
    "access we have been using in our `python` and `R`\n",
    "scripts is inefficient — you should be able to instantly access any row\n",
    "regardless of its position\n",
    "\n",
    "Data columns in a database are usually called `*fields*`,\n",
    "while the rows are the `*records*`. Here are a few things to\n",
    "keep in mind about databases:\n",
    "\n",
    "Each field typically contains only one data type (e.g., integers,\n",
    "floats, strings)\n",
    "\n",
    "Each record is a \"data point\", composed of different values, one for\n",
    "each field — somewhat like a python tuple\n",
    "\n",
    "Some fields are special, and are called `*keys*`:\n",
    "\n",
    "The `*primary key*` uniquely defines a record in a table\n",
    "(e.g., each row is identified by a unique number)\n",
    "\n",
    "To allow fast retrieval, some fields (and typically all the keys) are\n",
    "indexed — a copy of certain columns that can be searched very\n",
    "efficiently\n",
    "\n",
    "`*Foreign keys*` are keys in a table that are primary keys in\n",
    "another table and define relationships between the tables\n",
    "\n",
    "The key to designing a database is to minimize redundancy and dependency\n",
    "without losing the logical consistency of tables — this is called\n",
    "`*normalization*` (arguably more of an art than a science!)\n",
    "\n",
    "Let's look at a simple example.\n",
    "\n",
    "Imagine you recorded body sizes of species from different field sites in\n",
    "a single text file (e.g., a `.csv` file) with the following\n",
    "fields:\n",
    "\n",
    "  -------------------------------- ---------------------------------------------\n",
    "  `ID`                  Unique ID for the record\n",
    "  `SiteName`            Name of the site\n",
    "  `SiteLong`            Longitude of the site\n",
    "  `SiteLat`             Latitude of the site\n",
    "  `SamplingDate`        Date of the sample\n",
    "  `SamplingHour`        Hour of the sampling\n",
    "  `SamplingAvgTemp`     Average air temperature on the sampling day\n",
    "  `SamplingWaterTemp`   Temperature of the water\n",
    "  `SamplingPH`          PH of the water\n",
    "  `SpeciesCommonName`   Species of the sampled individual\n",
    "  `SpeciesLatinBinom`   Latin binomial of the species\n",
    "  `BodySize`            Width of the individual\n",
    "  `BodyWeight`          Weight of the individual\n",
    "  -------------------------------- ---------------------------------------------\n",
    "\n",
    "\\\n",
    "It would be logical to divide the data into four tables:\n",
    "\n",
    "`*Site table*`:\\\n",
    "\n",
    "  ----------------------- -----------------------\n",
    "  `SiteID`     ID for the site\n",
    "  `SiteName`   Name of the site\n",
    "  `SiteLong`   Longitude of the site\n",
    "  `SiteLat`    Latitude of the site\n",
    "  ----------------------- -----------------------\n",
    "\n",
    "\\\n",
    "`*Sample table*`:\\\n",
    "\n",
    "  -------------------------------- --------------------------\n",
    "  `SamplingID`          ID for the sampling date\n",
    "  `SamplingDate`        Date of the sample\n",
    "  `SamplingHour`        Hour of the sample\n",
    "  `SamplingAvgTemp`     Average air temperature\n",
    "  `SamplingWaterTemp`   Temperature of the water\n",
    "  `SamplingPH`          PH of the water\n",
    "  -------------------------------- --------------------------\n",
    "\n",
    "\\\n",
    "`*Species table*`:\\\n",
    "\n",
    "  -------------------------------- -------------------------------\n",
    "  `SpeciesID`           ID for the species\n",
    "  `SpeciesCommonName`   Species name\n",
    "  `SpeciesLatinBinom`   Latin binomial of the species\n",
    "  -------------------------------- -------------------------------\n",
    "\n",
    "\\\n",
    "`*Individual table*`:\\\n",
    "\n",
    "  --------------------------- -------------------------------\n",
    "  `IndividualID`   ID for the individual sampled\n",
    "  `SpeciesID`      ID for the species\n",
    "  `SamplingID`     ID for the sampling day\n",
    "  `SiteID`         ID for the site\n",
    "  `BodySize`       Width of the individual\n",
    "  `BodyWeight`     Weight of the individual\n",
    "  --------------------------- -------------------------------\n",
    "\n",
    "\\\n",
    "In each table, the first ID field is the primary key. The last table\n",
    "contains three foreign keys because each individual is associated with\n",
    "one species, one sampling day and one sampling site.\n",
    "\n",
    "These structural features of a database are called its\n",
    "`*schema*`.\n",
    "\n",
    "### SQLite\n",
    "\n",
    "`SQLite` is a simple (and very popular) SQL (Structured Query\n",
    "Language)-based solution for managing localized, personal databases. I\n",
    "can safely bet that most, if not all of you unknowingly (or knowingly!)\n",
    "use `SQLite` — it is used by MacOSX, Firefox, Acrobat Reader,\n",
    "iTunes, Skype, iPhone, etc. SQLite is also the database \"engine\"\n",
    "underlying your Siwlood Masters Web App: <http://silwoodmasters.co.uk>\n",
    "\n",
    "We can easily use SQLite through Python scripts. First, install SQLite\n",
    "by typing in the Ubuntu terminal:"
   ]
  },
  {
   "cell_type": "code",
   "execution_count": null,
   "metadata": {},
   "outputs": [],
   "source": [
    "sudo apt-get install sqlite3 libsqlite3-dev"
   ]
  },
  {
   "cell_type": "markdown",
   "metadata": {},
   "source": [
    "Also, make sure that you have the necessary package for python by typing\n",
    "`import sqlite3` in the python or ipython shell. Finally, you\n",
    "may install a GUI for SQLite3 :"
   ]
  },
  {
   "cell_type": "code",
   "execution_count": null,
   "metadata": {},
   "outputs": [],
   "source": [
    "sudo apt-get install sqliteman"
   ]
  },
  {
   "cell_type": "markdown",
   "metadata": {},
   "source": [
    "Now type `sqlite3` in the Ubuntu terminal to check if SQLite\n",
    "successfully launches.\n",
    "\n",
    "SQLite has very few data types (and lacks a boolean and a date type):\n",
    "\n",
    "  ---------------------- ----------------------------------------------------------------------------------------------------------------------\n",
    "  `NULL`      The value is a NULL value\n",
    "  `INTEGER`   The value is a signed integer, stored in up to or 8 bytes\n",
    "  `REAL`      The value is a floating point value, stored as in 8 bytes\n",
    "  `TEXT`      The value is a text string\n",
    "  `BLOB`      The value is a blob of data, stored exactly as it was input (useful for binary types, such as bitmap images or pdfs)\n",
    "  ---------------------- ----------------------------------------------------------------------------------------------------------------------\n",
    "\n",
    "\\\n",
    "Typically, you will build a database by importing csv data — be aware\n",
    "that:\n",
    "\n",
    "Headers: the csv should have no headers\n",
    "\n",
    "Separators: if the comma is the separator, each record should not\n",
    "contain any other commas\n",
    "\n",
    "Quotes: there should be no quotes in the data\n",
    "\n",
    "Newlines: there should be no newlines\n",
    "\n",
    "Now build your first database in SQLite! We will use as example a global\n",
    "dataset on metabolic traits called `*Biotraits*` that we are\n",
    "currently developing in our lab (should be in your `Data`\n",
    "directory). This dataset contains 164 columns (fields). Thermal response\n",
    "curves for different traits and species are stored in rows. This means\n",
    "that site description or taxonomy are repeated as many times as\n",
    "temperatures are measured in the curve. You can imagine how much\n",
    "redundacy can be here!!!\n",
    "\n",
    "For this reason, it is easier to migrate the dataset to SQL and split it\n",
    "into several tables:\n",
    "\n",
    "TCP: Includes the thermal curve performance for each species and trait\n",
    "(as many rows per trait and species as temperatures have been measured\n",
    "within the TCP)\n",
    "\n",
    "TraitInfo: Contains site description and conditions under the traits\n",
    "were measured (one row per thermal curve)\n",
    "\n",
    "Consumer: Consumer description including taxonomy (one row per thermal\n",
    "curve).\n",
    "\n",
    "Resource: Resource description including taxonomy (one row per thermal\n",
    "curve).\n",
    "\n",
    "Size: Size data for each species (one row per thermal curve)\n",
    "\n",
    "DataSource: Contains information about the data source (citation,\n",
    "contributors) (one row per thermal curve).\n",
    "\n",
    "So all these tables compose the `*Biotraits*`\n",
    "`schema`.\n",
    "\n",
    "Navigate to your `Data` directory and in an Ubuntu terminal\n",
    "type:"
   ]
  },
  {
   "cell_type": "code",
   "execution_count": null,
   "metadata": {},
   "outputs": [],
   "source": [
    "$ sqlite3 Biotraits.db\n",
    "SQLite version 3.7.9\n",
    "Enter \".help\" for instructions\n",
    "Enter SQL statements terminated with a \";\""
   ]
  },
  {
   "cell_type": "markdown",
   "metadata": {},
   "source": [
    "This creates an empty database in your `Data` directory. Now,\n",
    "you need to create a table with some fields. Let's start with the\n",
    "`*TraitInfo*` table:"
   ]
  },
  {
   "cell_type": "code",
   "execution_count": null,
   "metadata": {},
   "outputs": [],
   "source": [
    "sqlite> CREATE TABLE TraitInfo (Numbers integer primary key,\n",
    "   ...>                                 OriginalID text,\n",
    "   ...>                                 FinalID text,\n",
    "   ...>                                 OriginalTraitName text,\n",
    "   ...>                                 OriginalTraitDef text,\n",
    "   ...>                                 Replicates integer,\n",
    "   ...>                                 Habitat  integer,               \n",
    "   ...>                                 Climate text,\n",
    "   ...>                                 Location text,\n",
    "   ...>                                 LocationType text,\n",
    "   ...>                                 LocationDate text,\n",
    "   ...>                                 CoordinateType text,\n",
    "   ...>                                 Latitude integer,\n",
    "   ...>                                 Longitude integer);"
   ]
  },
  {
   "cell_type": "markdown",
   "metadata": {},
   "source": [
    "Note that I am writing all SQL commands in upper case, but it is not\n",
    "necessary. I am using upper case here because SQL syntax is long and\n",
    "clunky, and it quickly becomes hard to spot (and edit) commands in long\n",
    "strings of complex queries.\n",
    "\n",
    "Now let's import the dataset:"
   ]
  },
  {
   "cell_type": "code",
   "execution_count": null,
   "metadata": {},
   "outputs": [],
   "source": [
    "sqlite> .mode csv\n",
    "\n",
    "sqlite> .import TraitInfo.csv TraitInfo"
   ]
  },
  {
   "cell_type": "markdown",
   "metadata": {},
   "source": [
    "So we built a table and imported a csv file into it. Now we can ask\n",
    "SQLite to show all the tables we currently have:"
   ]
  },
  {
   "cell_type": "code",
   "execution_count": null,
   "metadata": {},
   "outputs": [],
   "source": [
    "sqlite> .tables\n",
    "\n",
    "TraitInfo"
   ]
  },
  {
   "cell_type": "markdown",
   "metadata": {},
   "source": [
    "Let's run our first `*Query*` (note that you need a semicolon\n",
    "to end a command):"
   ]
  },
  {
   "cell_type": "code",
   "execution_count": null,
   "metadata": {},
   "outputs": [],
   "source": [
    "sqlite> SELECT * FROM TraitInfo LIMIT 5;\n",
    "\n",
    "1,1,MTD1,\"Resource Consumption Rate\",\"The number of resource consumed per number of consumers per time\",6,freshwater,temperate,\"Eunice Lake; Ontario; Canada\",NA,NA,NA,51.254,-85.323\n",
    "2,1,MTD1,\"Resource Consumption Rate\",\"The number of resource consumed per number of consumers per time\",6,freshwater,temperate,\"Eunice Lake; Ontario; Canada\",NA,NA,NA,51.254,-85.323\n",
    "3,1,MTD1,\"Resource Consumption Rate\",\"The number of resource consumed per number of consumers per time\",6,freshwater,temperate,\"Eunice Lake; Ontario; Canada\",NA,NA,NA,51.254,-85.323\n",
    "4,2,MTD2,\"Resource Consumption Rate\",\"The number of resource consumed per number of consumers per time\",6,freshwater,temperate,\"Eunice Lake; Ontario; Canada\",NA,NA,NA,51.254,-85.323\n",
    "5,2,MTD2,\"Resource Consumption Rate\",\"The number of resource consumed per number of consumers per time\",6,freshwater,temperate,\"Eunice Lake; Ontario; Canada\",NA,NA,NA,51.254,-85.323"
   ]
  },
  {
   "cell_type": "markdown",
   "metadata": {},
   "source": [
    "Let's turn on some nicer formatting:"
   ]
  },
  {
   "cell_type": "code",
   "execution_count": null,
   "metadata": {},
   "outputs": [],
   "source": [
    "sqlite> .mode column\n",
    "\n",
    "sqlite> .header ON\n",
    "\n",
    "sqlite> SELECT * FROM TraitInfo LIMIT 5;\n",
    "\n",
    "Numbers  OriginalID  FinalID     OriginalTraitName           ... \n",
    "-------  ----------  ----------  -------------------------   ...\n",
    "1        1           MTD1        Resource Consumption Rate   ...\n",
    "4        2           MTD2        Resource Consumption Rate   ...\n",
    "6        3           MTD3        Resource Consumption Rate   ...\n",
    "9        4           MTD4        Resource Mass Consumption   ...\n",
    "12       5           MTD5        Resource Mass Consumption   ..."
   ]
  },
  {
   "cell_type": "markdown",
   "metadata": {},
   "source": [
    "The main statement to select records from a table is\n",
    "`SELECT`:"
   ]
  },
  {
   "cell_type": "code",
   "execution_count": null,
   "metadata": {},
   "outputs": [],
   "source": [
    "sqlite> .width 40  ## NOTE: Control the width\n",
    "\n",
    "sqlite> SELECT DISTINCT OriginalTraitName FROM TraitInfo; # Returns unique values\n",
    "\n",
    "OriginalTraitName                       \n",
    "----------------------------------------\n",
    "Resource Consumption Rate               \n",
    "Resource Mass Consumption Rate          \n",
    "Mass-Specific Mass Consumption Rate     \n",
    "Voluntary Body Velocity                 \n",
    "Forward Attack Distance                 \n",
    "Foraging Velocity                       \n",
    "Resource Reaction Distance                   \n",
    "....\n",
    "\n",
    "sqlite> SELECT DISTINCT Habitat FROM TraitInfo\n",
    "   ...> WHERE OriginalTraitName = \"Resource Consumption Rate\"; # Sets a condition\n",
    "\n",
    "Habitat                                 \n",
    "----------------------------------------\n",
    "freshwater                              \n",
    "marine                                  \n",
    "terrestrial \n",
    "\n",
    "sqlite> SELECT COUNT (*) FROM TraitInfo;  # Returns number of rows\n",
    "\n",
    "Count (*)           \n",
    "--------------------\n",
    "2336\n",
    "\n",
    "sqlite> SELECT Habitat, COUNT(OriginalTraitName) # Returns number of rows for each group\n",
    "   ...> FROM TraitInfo GROUP BY Habitat;\n",
    "\n",
    "Habitat     COUNT(OriginalTraitName)\n",
    "----------  ------------------------\n",
    "NA          16                      \n",
    "freshwater  609                     \n",
    "marine      909                     \n",
    "terrestria  802   \n",
    "\n",
    "sqlite> SELECT COUNT(DISTINCT OriginalTraitName) # Returns number of unique values\n",
    "   ...> FROM TraitInfo;\n",
    "\n",
    "COUNT(DISTINCT OriginalTraitName)\n",
    "---------------------------------\n",
    "220   \n",
    "\n",
    "sqlite> SELECT COUNT(DISTINCT OriginalTraitName) TraitCount # Assigns alias to the variable\n",
    "   ...> FROM TraitInfo;\n",
    "\n",
    "TraitCount\n",
    "----------\n",
    "220 \n",
    "\n",
    "sqlite> SELECT Habitat,\n",
    "   ...> COUNT(DISTINCT OriginalTraitName) AS TN\n",
    "   ...> FROM TraitInfo GROUP BY Habitat;\n",
    "\n",
    "Habitat     TN        \n",
    "----------  ----------\n",
    "NA          7         \n",
    "freshwater  82        \n",
    "marine      95        \n",
    "terrestria  96     \n",
    "\n",
    "\n",
    "sqlite> SELECT * # WHAT TO SELECT\n",
    "   ...> FROM TraitInfo # FROM WHERE\n",
    "   ...> WHERE Habitat = \"marine\" # CONDITIONS\n",
    "   ...> AND OriginalTraitName = \"Resource Consumption Rate\";\n",
    "\n",
    "Numbers     OriginalID  FinalID     OriginalTraitName          ...\n",
    "----------  ----------  ----------  -------------------------  ...\n",
    "778         308         MTD99       Resource Consumption Rate  ...\n",
    "798         310         MTD101      Resource Consumption Rate  ...\n",
    "806         311         MTD102      Resource Consumption Rate  ...\n",
    "993         351         MTD113      Resource Consumption Rate  ..."
   ]
  },
  {
   "cell_type": "markdown",
   "metadata": {},
   "source": [
    "The structure of the `SELECT` commend is as follows\n",
    "(`*Note: **all** characters are case\n",
    "**in**sensitive*`):"
   ]
  },
  {
   "cell_type": "code",
   "execution_count": null,
   "metadata": {},
   "outputs": [],
   "source": [
    "SELECT [DISTINCT] field\n",
    "FROM table\n",
    "WHERE predicate\n",
    "GROUP BY field\n",
    "HAVING predicate\n",
    "ORDER BY field\n",
    "LIMIT number\n",
    ";"
   ]
  },
  {
   "cell_type": "markdown",
   "metadata": {},
   "source": [
    "Let's try some more elaborate queries:"
   ]
  },
  {
   "cell_type": "code",
   "execution_count": null,
   "metadata": {},
   "outputs": [],
   "source": [
    "sqlite> SELECT Numbers FROM TraitInfo LIMIT 5;\n",
    "\n",
    "Numbers   \n",
    "----------\n",
    "1         \n",
    "4         \n",
    "6         \n",
    "9         \n",
    "12      \n",
    "\n",
    "sqlite> SELECT Numbers \n",
    "   ...> FROM TraitInfo\n",
    "   ...> WHERE Numbers > 100 \n",
    "   ...> AND Numbers < 200;\n",
    "\n",
    "Numbers   \n",
    "----------\n",
    "107       \n",
    "110       \n",
    "112       \n",
    "115         \n",
    "\n",
    "sqlite> SELECT Numbers \n",
    "   ...> FROM TraitInfo\n",
    "   ...> WHERE Habitat = \"freshwater\"\n",
    "   ...> AND Number > 700\n",
    "   ...> AND Number < 800;\n",
    "\n",
    "Numbers   \n",
    "----------\n",
    "704       \n",
    "708       \n",
    "712       \n",
    "716       \n",
    "720       \n",
    "725       \n",
    "730       \n",
    "735       \n",
    "740       \n",
    "744       \n",
    "748       \n",
    "      "
   ]
  },
  {
   "cell_type": "markdown",
   "metadata": {},
   "source": [
    "You can also match records using something like regular expressions. In\n",
    "SQL, when we use the command `LIKE`, the percent % symbol\n",
    "matches any sequence of zero or more characters and the underscore\n",
    "matches any single character. Similarly, `GLOB` uses the\n",
    "asterisk and the underscore."
   ]
  },
  {
   "cell_type": "code",
   "execution_count": null,
   "metadata": {},
   "outputs": [],
   "source": [
    "sqlite> SELECT DISTINCT OriginalTraitName\n",
    "   ...> FROM TraitInfo\n",
    "   ...> WHERE OriginalTraitName LIKE \"_esource Consumption Rate\";\n",
    "\n",
    "OriginalTraitName        \n",
    "-------------------------\n",
    "Resource Consumption Rate          \n",
    "\n",
    "sqlite> SELECT DISTINCT OriginalTraitName\n",
    "   ...> FROM TraitInfo\n",
    "   ...> WHERE OriginalTraitName LIKE \"Resource%\";\n",
    "\n",
    "OriginalTraitName                       \n",
    "----------------------------------------\n",
    "Resource Consumption Rate               \n",
    "Resource Mass Consumption Rate          \n",
    "Resource Reaction Distance              \n",
    "Resource Habitat Encounter Rate         \n",
    "Resource Consumption Probability        \n",
    "Resource Mobility Selection             \n",
    "Resource Size Selection                 \n",
    "Resource Size Capture Intent Acceptance \n",
    "Resource Encounter Rate                 \n",
    "Resource Escape Response Probability \n",
    "\n",
    "sqlite> SELECT DISTINCT OriginalTraitName\n",
    "   ...> FROM TraitInfo\n",
    "   ...> WHERE OriginalTraitName GLOB \"Resource*\";\n",
    "\n",
    "\n",
    "OriginalTraitName                       \n",
    "----------------------------------------\n",
    "Resource Consumption Rate               \n",
    "Resource Mass Consumption Rate          \n",
    "Resource Reaction Distance              \n",
    "Resource Habitat Encounter Rate         \n",
    "Resource Consumption Probability        \n",
    "Resource Mobility Selection             \n",
    "Resource Size Selection                 \n",
    "Resource Size Capture Intent Acceptance \n",
    "Resource Encounter Rate                 \n",
    "Resource Escape Response Probability \n",
    "\n",
    "# NOTE THAT GLOB IS CASE SENSITIVE, WHILE LIKE IS NOT\n",
    "\n",
    "sqlite> SELECT DISTINCT OriginalTraitName\n",
    "   ...> FROM TraitInfo\n",
    "   ...> WHERE OriginalTraitName LIKE \"resource%\";\n",
    "\n",
    "OriginalTraitName                       \n",
    "----------------------------------------\n",
    "Resource Consumption Rate               \n",
    "Resource Mass Consumption Rate          \n",
    "Resource Reaction Distance              \n",
    "Resource Habitat Encounter Rate         \n",
    "Resource Consumption Probability        \n",
    "Resource Mobility Selection             \n",
    "Resource Size Selection                 \n",
    "Resource Size Capture Intent Acceptance \n",
    "Resource Encounter Rate                 \n",
    "Resource Escape Response Probability "
   ]
  },
  {
   "cell_type": "markdown",
   "metadata": {},
   "source": [
    "We can also order by any column:"
   ]
  },
  {
   "cell_type": "code",
   "execution_count": null,
   "metadata": {},
   "outputs": [],
   "source": [
    "sqlite> SELECT OriginalTraitName, Habitat FROM \n",
    "   ...>  TraitInfo LIMIT 5;\n",
    "\n",
    "OriginalTraitName          Habitat   \n",
    "-------------------------  ----------\n",
    "Resource Consumption Rate  freshwater\n",
    "Resource Consumption Rate  freshwater\n",
    "Resource Consumption Rate  freshwater\n",
    "Resource Mass Consumption  freshwater\n",
    "Resource Mass Consumption  freshwater\n",
    "\n",
    "sqlite> SELECT OriginalTraitName, Habitat FROM \n",
    "   ...> TraitInfo ORDER BY OriginalTraitName LIMIT 5;\n",
    "\n",
    "OriginalTraitName           Habitat   \n",
    "--------------------------  ----------\n",
    "48-hr Hatching Probability  marine    \n",
    "Asexual Reproduction Rate   marine    \n",
    "Attack Body Acceleration    marine    \n",
    "Attack Body Velocity        marine    \n",
    "Attack Body Velocity        marine  \n",
    " "
   ]
  },
  {
   "cell_type": "markdown",
   "metadata": {},
   "source": [
    "Until now we have just queried data from one single table, but as we\n",
    "have seen, the point of storing a database in SQL is that we can use\n",
    "multiple tables minimizing redundancies within them. And of course,\n",
    "querying data from those different tables at the same time will be\n",
    "necessary at some point.\n",
    "\n",
    "Let's import then one more table to our database:"
   ]
  },
  {
   "cell_type": "code",
   "execution_count": null,
   "metadata": {},
   "outputs": [],
   "source": [
    "sqlite> CREATE TABLE Consumer (Numbers integer primary key,\n",
    "  ...>                                OriginalID text,\n",
    "  ...>                                FinalID text,\n",
    "  ...>                                Consumer text,\n",
    "  ...>                                ConCommon text,\n",
    "  ...>                                ConKingdom text,\n",
    "  ...>                                ConPhylum text,\n",
    "  ...>                                ConClass text,\n",
    "  ...>                                ConOrder text,\n",
    "  ...>                                ConFamily text,\n",
    "  ...>                                ConGenus text,\n",
    "  ...>                                ConSpecies text);"
   ]
  },
  {
   "cell_type": "code",
   "execution_count": null,
   "metadata": {},
   "outputs": [],
   "source": [
    "sqlite> .import Consumer.csv Consumer\n",
    "\n",
    "# Now we have two tables in our database:\n",
    "\n",
    "sqlite> .tables\n",
    "Consumer   TraitInfo"
   ]
  },
  {
   "cell_type": "code",
   "execution_count": null,
   "metadata": {},
   "outputs": [],
   "source": [
    "# These tables are connected by two differents keys: OriginalID\n",
    "# and FinalID. These are unique IDs for each thermal curve. For each\n",
    "# FinalID we can get the trait name (OriginalTraitName) from the TraitInfo\n",
    "# table and the corresponding species name (ConSpecies) from the Consumer table.\n",
    "\n",
    "sqlite> SELECT A1.FinalID, A1.Consumer, A2.FinalID,  A2.OriginalTraitName\n",
    "   ...> FROM Consumer A1, TraitInfo A2\n",
    "   ...> WHERE A1.FinalID=A2.FinalID LIMIT 8;\n",
    "\n",
    "FinalID     Consumer               FinalID     OriginalTraitName        \n",
    "----------  ---------------------  ----------  -------------------------\n",
    "MTD1        Chaoborus trivittatus  MTD1        Resource Consumption Rate\n",
    "MTD2        Chaoborus trivittatus  MTD2        Resource Consumption Rate\n",
    "MTD3        Chaoborus americanus   MTD3        Resource Consumption Rate\n",
    "MTD4        Stizostedion vitreum   MTD4        Resource Mass Consumption\n",
    "MTD5        Macrobrachium rosenbe  MTD5        Resource Mass Consumption\n",
    "MTD6        Ranatra dispar         MTD6        Resource Consumption Rate\n",
    "MTD7        Ceriodaphnia reticula  MTD7        Mass-Specific Mass Consum\n",
    "MTD8        Polyphemus pediculus   MTD8        Voluntary Body Velocity \n",
    "\n",
    "# In the same way we assign alias to variables, we can use them for tables."
   ]
  },
  {
   "cell_type": "markdown",
   "metadata": {},
   "source": [
    "This example seems easy because both tables have the same number of\n",
    "rows. But the query is still as simple when we have tables with\n",
    "different rows."
   ]
  },
  {
   "cell_type": "code",
   "execution_count": null,
   "metadata": {},
   "outputs": [],
   "source": [
    "# Let's import the TCP table:\n",
    "\n",
    "sqlite> CREATE TABLE TCP (Numbers integer primary key,\n",
    "   ...>                           OriginalID text,\n",
    "   ...>                           FinalID text,\n",
    "   ...>                           OriginalTraitValue integer,\n",
    "   ...>                           OriginalTraitUnit text,\n",
    "   ...>                           LabGrowthTemp integer,\n",
    "   ...>                           LabGrowthTempUnit text,   \n",
    "   ...>                           ConTemp integer,\n",
    "   ...>                           ConTempUnit text,\n",
    "   ...>                           ConTempMethod text,\n",
    "   ...>                           ConAcc text,\n",
    "   ...>                           ConAccTemp integer);\n",
    "\n",
    "\n",
    "sqlite> .import TCP.csv TCP\n",
    "sqlite> .tables\n",
    "Consumer   TCP        TraitInfo\n",
    "                          \n",
    "# Now imagine we want to query the thermal performance curves that we have\n",
    "# stored for the species Mytilus edulis. Using the FinalID to match the tables,\n",
    "# the query can be as simple as:\n",
    "\n",
    "sqlite> SELECT A1.ConTemp, A1.OriginalTraitValue, A2.OriginalTraitName, A3.Consumer\n",
    "   ...> FROM TCP A1, TraitInfo A2, Consumer A3\n",
    "   ...> WHERE A1.FinalID=A2.FinalID AND A3.ConSpecies=\"Mytilus edulis\" AND A3.FinalID=A2.FinalID LIMIT 8\n",
    "\n",
    "ConTemp     OriginalTraitValue    OriginalTraitName               Consumer            \n",
    "----------  --------------------  ------------------------------  --------------------\n",
    "25          2.707075              Filtration Rate                 Mytilus edulis      \n",
    "20          3.40721               Filtration Rate                 Mytilus edulis      \n",
    "5           3.419455              Filtration Rate                 Mytilus edulis      \n",
    "15          3.711165              Filtration Rate                 Mytilus edulis      \n",
    "10          3.875465              Filtration Rate                 Mytilus edulis      \n",
    "5           0.34                  In Vitro Gill Particle Transpo  Mytilus edulis      \n",
    "10          0.46                  In Vitro Gill Particle Transpo  Mytilus edulis      \n",
    "15          0.595                 In Vitro Gill Particle Transpo  Mytilus edulis"
   ]
  },
  {
   "cell_type": "markdown",
   "metadata": {},
   "source": [
    "So on and so forth (joining tables etc. would come next...). But if you\n",
    "want to keep practicing and learn more about sqlite commands, this is a\n",
    "very useful site: <http://www.sqlite.org/sessions/sqlite.html>. You can\n",
    "store your queries and database management commands in an `\n",
    ".sql` file (`geany` will take care of syntax\n",
    "highlighting etc.)\n",
    "\n",
    "### SQLite with python\n",
    "\n",
    "It is easy to access, update and manage SQLite databases with `\n",
    "python` (you should have this script file in your\n",
    "`Code` directory):\n",
    "\n",
    "You can create a database in memory, without using the disk — thus you\n",
    "can create and discard an SQLite database within your workflow!:\n",
    "\n",
    "## Using Python to build workflows\n",
    "\n",
    "*This topic will be necessary for your [Miniproject](), which will involve building a reproducible computational workflow.*\n",
    "\n",
    "You can use python to build an automated data analysis or simulation workflow that involves multiple applications, especially the ones you have already learnt: `R`, LaTeX, & UNIX `bash`.\n",
    "For example, you could, in theory, write a single Python script to\n",
    "generate and update your masters dissertation, tables, plots, and all.\n",
    "Python is ideal for building such workflows because it has packages for\n",
    "practically every purpose (see Section on Packages above).\n",
    "\n",
    "### Using `subprocess`\n",
    "\n",
    "The `subprocess` module is particularly important as it can\n",
    "run other applications, including R. Let's try – first launch `\n",
    "ipython`, then `cd` to your python code directory, and\n",
    "type:"
   ]
  },
  {
   "cell_type": "code",
   "execution_count": null,
   "metadata": {},
   "outputs": [],
   "source": [
    "import subprocess\n",
    "subprocess.os.system(\"geany boilerplate.py\")\n",
    "subprocess.os.system(\"gedit ../Data/TestOaksData.csv\")\n",
    "subprocess.os.system(\"python boilerplate.py\") # A bit silly! "
   ]
  },
  {
   "cell_type": "markdown",
   "metadata": {},
   "source": [
    "Easy as pie! You will notice that the terminal remains \"connected\" to\n",
    "geany after you run the first of the three lines above, and you have to\n",
    "quit geany to go on to launcing gedit. To avoid this, you can do:"
   ]
  },
  {
   "cell_type": "code",
   "execution_count": null,
   "metadata": {},
   "outputs": [],
   "source": [
    "subprocess.os.system(\"geany boilerplate.py &\")\n",
    "subprocess.os.system(\"gedit ../Data/TestOaksData.csv &\")\n",
    "subprocess.os.system(\"python boilerplate.py &\") # A bit silly! "
   ]
  },
  {
   "cell_type": "markdown",
   "metadata": {},
   "source": [
    "Adding a `&` after a program call, i.e., `geany\n",
    "boilerplate.py &` instead of `geany boilerplate.py`\n",
    "disconnects the terminal and allows you to run sequential commands in\n",
    "the terminal/bash.\n",
    "\n",
    "Similarly, to compile your LaTeXdocument (using `pdflatex` in\n",
    "this case):"
   ]
  },
  {
   "cell_type": "code",
   "execution_count": null,
   "metadata": {},
   "outputs": [],
   "source": [
    "subprocess.os.system(\"pdflatex yourlatexdoc.tex\")"
   ]
  },
  {
   "cell_type": "markdown",
   "metadata": {},
   "source": [
    "You can also do this (instead of using `subprocess.os`):"
   ]
  },
  {
   "cell_type": "code",
   "execution_count": null,
   "metadata": {},
   "outputs": [],
   "source": [
    "subprocess.Popen(\"geany boilerplate.py\", shell=True).wait()"
   ]
  },
  {
   "cell_type": "markdown",
   "metadata": {},
   "source": [
    "You can also use `subprocess.os` to make your code OS (Linux,\n",
    "Windows, Mac) independent. For example to assign paths:"
   ]
  },
  {
   "cell_type": "code",
   "execution_count": null,
   "metadata": {},
   "outputs": [],
   "source": [
    "subprocess.os.path.join('directory', 'subdirectory', 'file')"
   ]
  },
  {
   "cell_type": "markdown",
   "metadata": {},
   "source": [
    "The result would be appropriately different on Windows (with backslashes\n",
    "instead of forward slashes).\n",
    "\n",
    "Note that in all cases you can \"catch\" the output of\n",
    "`subprocess` so that you can then use the output within your\n",
    "python script. A simple example, where the output is a\n",
    "platform-dependent directory path, is:"
   ]
  },
  {
   "cell_type": "code",
   "execution_count": null,
   "metadata": {},
   "outputs": [],
   "source": [
    "MyPath = subprocess.os.path.join('directory', 'subdirectory', 'file')"
   ]
  },
  {
   "cell_type": "markdown",
   "metadata": {},
   "source": [
    "Explore what `subprocess` can do by tabbing\n",
    "`subprocess.`, and also for submodules, e.g., type\n",
    "`subprocess.os.` and then tab.\n",
    "\n",
    "### Running `R`\n",
    "\n",
    "R is likely an important part of your project's analysis and data\n",
    "visualization components in particular — for example for statistical\n",
    "analyses and pretty plotting (Ahem. `ggplot2`).\n",
    "\n",
    "You can run `R` from Python pretty easily. Try the following:\n",
    "\n",
    "$\\star$\n",
    "\n",
    "Create an R script file called `TestR.R` in your `\n",
    "Week6/Code` with the following content:"
   ]
  },
  {
   "cell_type": "code",
   "execution_count": null,
   "metadata": {},
   "outputs": [],
   "source": [
    "print(\"Hello, this is R!\")"
   ]
  },
  {
   "cell_type": "markdown",
   "metadata": {},
   "source": [
    "Now, create `TestR.py` in\n",
    "`CMEECourseWork/Week6/Code` with the following content :"
   ]
  },
  {
   "cell_type": "code",
   "execution_count": null,
   "metadata": {},
   "outputs": [],
   "source": [
    "import subprocess\n",
    "subprocess.Popen(\"/usr/lib/R/bin/Rscript --verbose TestR.R > \\\n",
    "../Results/TestR.Rout 2> ../Results/TestR_errFile.Rout\",\\\n",
    " shell=True).wait()"
   ]
  },
  {
   "cell_type": "markdown",
   "metadata": {},
   "source": [
    "`*Note the backslashes*` — this is so that\n",
    "`python` can read the mutiline script as a single line.\n",
    "\n",
    "Now run `TestR.py` (or `%cpaste`) and check\n",
    "`TestR.Rout` and `TestR_errorFile.Rout`.\n",
    "\n",
    "Also check what happens if you run (type directly in `\n",
    "ipython` or `python` console):"
   ]
  },
  {
   "cell_type": "code",
   "execution_count": null,
   "metadata": {},
   "outputs": [],
   "source": [
    "subprocess.Popen(\"/usr/lib/R/bin/Rscript --verbose NonExistScript.R > \\\n",
    "../Results/outputFile.Rout 2> ../Results/errorFile.Rout\", \\\n",
    "shell=True).wait()"
   ]
  },
  {
   "cell_type": "markdown",
   "metadata": {},
   "source": [
    "It is possible that the location of `RScript` is different in\n",
    "your Ubuntu install. To locate it, try `find /usr -name\n",
    "'Rscript'` in the linux terminal (not in `python`!).\n",
    "\n",
    "What do you see on the screen? Now check `outputFile.Rout`\n",
    "and `errorFile.Rout`.\n",
    "\n",
    "Practicals\n",
    "----------\n",
    "\n",
    "As always, test, add, commit and push all your new code and data to your\n",
    "git repository.\n",
    "\n",
    "#### Using `os` problem 1\n",
    "\n",
    "Open `using_os.py` and complete the tasks assigned\\\n",
    "(hint: you might want to look at `subprocess.os.walk()`)\n",
    "\n",
    "#### Using `os` problem 2\n",
    "\n",
    "Open `fmr.R` and work out what it does; check that you have\n",
    "`NagyEtAl1999.csv`. Now write python code called\n",
    "`run_fmr_R.py` that:\n",
    "\n",
    "Runs `fmr.R` to generate the desired result\n",
    "\n",
    "`run_fmr_R.py` should also print to the python screen\n",
    "whether the run was successful, and the contents of the R console output\n",
    "\n",
    "Practicals wrap-up\n",
    "------------------\n",
    "\n",
    "1.  Review and make sure you can run all the commands, code fragments,\n",
    "    and scripts we have till now and get the expected outputs — all\n",
    "    scripts should work on any other linux laptop.\n",
    "\n",
    "2.  Include an appropriate docstring (if one is missing) at the\n",
    "    beginning of `*each*` of each of the python script /\n",
    "    module files you have written, as well as at the start of every\n",
    "    function (or sub-module) in a module.\n",
    "\n",
    "3.  Also annotate your code lines as much and as often as necessary\n",
    "    using \\#.\n",
    "\n",
    "4.  Keep all files organized in `CMEECourseWork`.\n",
    "\n",
    "5.  `git add`, `commit` and `push` all\n",
    "    your week's code and data to your git repository by next Wednesday.\n",
    "\n",
    "Readings and Resources\n",
    "----------------------\n",
    "\n",
    "<http://matplotlib.org/>\n",
    "\n",
    "For SciPy, the official documentation is great:\\\n",
    "<https://docs.sc.org/doc/scipy/reference/>\\\n",
    "Read about the scipy modules you think will be important to you.\n",
    "\n",
    "The \"ecosystem\" for Scientific computing in python:\n",
    "<http://www.scipy-lectures.org/>\n",
    "\n",
    "A Primer on Scientific Programming with Python\n",
    "<http://www.springer.com/us/book/9783642549595>; Multiple copies of this\n",
    "book are available from the central library and can be requested to\n",
    "Silwood from the IC library website. You can also find a pdf - google it\n",
    "\n",
    "Many great examples of applications in the scipy cookbook:\n",
    "<https://lagunita.stanford.edu/courses/DB/2014/SelfPaced/about>\n",
    "\n",
    "<https://docs.python.org/2/howto/regex.html>\n",
    "\n",
    "Google's short class on regex in python:\\\n",
    "<https://developers.google.com/edu/python/regular-expressions>\n",
    "\n",
    "<http://www.regular-expressions.info/> has a good intro, tips and a\n",
    "great array of canned solutions\n",
    "\n",
    "Use and abuse of regex:\\\n",
    "<https://blog.codinghorror.com/regex-use-vs-regex-abuse/>\n",
    "\n",
    "\"The Definitive Guide to SQLite\" is a pretty complete guide to SQLite\n",
    "and freely available from [ \n",
    "    http://sd.blackball.lv/library/The_Definitive_Guide_to_SQLite_2nd_edition.pdf]( \n",
    "    http://sd.blackball.lv/library/The_Definitive_Guide_to_SQLite_2nd_edition.pdf)\n",
    "\n",
    "For databses in general, try the Stanford Introduction to Databases\n",
    "course: <https://www.coursera.org/course/db>"
   ]
  }
 ],
 "metadata": {
  "kernelspec": {
   "display_name": "Python 3",
   "language": "python",
   "name": "python3"
  },
  "language_info": {
   "codemirror_mode": {
    "name": "ipython",
    "version": 3
   },
   "file_extension": ".py",
   "mimetype": "text/x-python",
   "name": "python",
   "nbconvert_exporter": "python",
   "pygments_lexer": "ipython3",
   "version": "3.5.2"
  },
  "latex_envs": {
   "LaTeX_envs_menu_present": true,
   "autoclose": false,
   "autocomplete": false,
   "bibliofile": "biblio.bib",
   "cite_by": "apalike",
   "current_citInitial": 1,
   "eqLabelWithNumbers": true,
   "eqNumInitial": 1,
   "hotkeys": {
    "equation": "Ctrl-E",
    "itemize": "Ctrl-I"
   },
   "labels_anchors": false,
   "latex_user_defs": false,
   "report_style_numbering": false,
   "user_envs_cfg": false
  },
  "toc": {
   "base_numbering": 1,
   "nav_menu": {},
   "number_sections": true,
   "sideBar": false,
   "skip_h1_title": false,
   "title_cell": "Contents",
   "title_sidebar": "Contents",
   "toc_cell": true,
   "toc_position": {},
   "toc_section_display": true,
   "toc_window_display": false
  }
 },
 "nbformat": 4,
 "nbformat_minor": 2
}
