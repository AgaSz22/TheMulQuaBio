{
 "cells": [
  {
   "cell_type": "markdown",
   "metadata": {},
   "source": [
    "Data exploration and visualization {#chap:R_data}\n",
    "==================================\n",
    "\n",
    "Before you do any fancy statistical analyses with data, you must clean,\n",
    "explore, and visualize it. And eventually, you want to produce a\n",
    "finished product that presents visualizations you data and your results\n",
    "clearly and concisely. Ultimately, both, at the data exploration and the\n",
    "finished product stages, the goal of graphics is to present information\n",
    "such that it provides intuitive ideas. As Edward Tufte says:\n",
    "\n",
    "> *“Graphical excellence is that which gives to the viewer the greatest\n",
    "> number of ideas in the shortest time with the least ink in the\n",
    "> smallest space.”*\n",
    "\n",
    "This chapter aims at introducing you to principles, and R packages and\n",
    "commands that will allow you to build a computational pipeline/workflow\n",
    "for critical steps of your data analysis and visualization.\n",
    "\n",
    "We will start with some basic plotting and data exploration. Then, you\n",
    "will learn to generate publication-quality graphics using the <span>\n",
    "ggplot2</span> package. Finally, you will learn some principles and\n",
    "methods for data processing and storage in R.\n",
    "\n",
    "Basic plotting and graphical data exploration\n",
    "---------------------------------------------\n",
    "\n",
    "R can produce beautiful graphics without the time-consuming and fiddly\n",
    "methods that you might have used in Excel or equivalent. You should also\n",
    "make it a habit to quickly plot the data for exploratory analysis. So we\n",
    "are going to learn some basic plotting first.\n",
    "\n",
    "### Basic plotting commands\n",
    "\n",
    "Here is a menu of basic R plotting commands (use\n",
    "<span>?commandname</span> to learn more about it):\n",
    "\n",
    "  --------------------------------- --------------------------------------------------------\n",
    "  <span>plot(x,y)</span>            Scatterplot\n",
    "  <span>plot(y$\\sim$x)</span>       Scatterplot with <span>y</span> as a response variable\n",
    "  <span>hist(mydata)</span>         Histogram\n",
    "  <span>barplot(mydata)</span>      Bar plot\n",
    "  <span>points(y1$\\sim$x1)</span>   Add another series of points\n",
    "  <span>boxplot(y$\\sim$x)</span>    Boxplot\n",
    "  --------------------------------- --------------------------------------------------------\n",
    "\n",
    "\\\n",
    "\n",
    "### R graphics devices\n",
    "\n",
    "In all that follows, you may often end up plotting multiple plots on the\n",
    "same graphics window without intending to do so, because R by default\n",
    "keeps plotting in the most recent plotting window that was opened. You\n",
    "can close a particular graphics window or “device” by using\n",
    "<span>dev.off()</span>, and all open devices/windows with <span>\n",
    "graphics.off()</span>. By default, <span>dev.off()</span> will close the\n",
    "most recent figure device that was opened.\n",
    "\n",
    "Note that there are invisible devices in <span>R</span>! Fore example,\n",
    "if you are printing to pdf (coming up below), the device or graphics\n",
    "window will not be visible on your computer screen.\n",
    "\n",
    "Now let’s try some simple plotting for data exploration. As a case\n",
    "study, we will use a dataset on Consumer-Resource (e.g., Predator-Prey)\n",
    "body mass ratios taken from the Ecological Archives of the ESA (Barnes\n",
    "<span>*et al.*</span> 2008, Ecology 89:881).\n",
    "\n",
    "\\[$\\quad\\star$\\]\n",
    "\n",
    "Copy the file <span>EcolArchives-E089-51-D1.csv</span> from\n",
    "<span>Data</span> directory in the master git repository on bitbucket to\n",
    "your own <span>Data</span> directory.\n",
    "\n",
    "Now, launch R and read in these data to a data frame:"
   ]
  },
  {
   "cell_type": "code",
   "execution_count": null,
   "metadata": {},
   "outputs": [],
   "source": [
    "> MyDF <- read.csv(\"../Data/EcolArchives-E089-51-D1.csv\")\n",
    "> dim(MyDF) #check the size of the data frame you loaded\n",
    "[1] 34931    15"
   ]
  },
  {
   "cell_type": "markdown",
   "metadata": {},
   "source": [
    "Let’s look at what the data contain (type <span>MyDF\\$</span> and hit\n",
    "the TAB key twice (if you are using RStudio, you just can hit it once).\n",
    "This will give the following result:"
   ]
  },
  {
   "cell_type": "code",
   "execution_count": null,
   "metadata": {},
   "outputs": [],
   "source": [
    "> MyDF$\n",
    "MyDF$Record.number                MyDF$Predator.mass\n",
    "MyDF$In.refID                     MyDF$Prey\n",
    "MyDF$IndividualID                 MyDF$Prey.common.name\n",
    "MyDF$Predator                     MyDF$Prey.taxon\n",
    "MyDF$Predator.common.name         MyDF$Prey.mass\n",
    "MyDF$Predator.taxon               MyDF$Prey.mass.unit\n",
    "MyDF$Predator.lifestage           MyDF$Location\n",
    "MyDF$Type.of.feeding.interaction  "
   ]
  },
  {
   "cell_type": "markdown",
   "metadata": {},
   "source": [
    "<span>**In RStudio, you will see a drop-down list of all the column\n",
    "headers when you hit <span>tab</span>**</span>.\n",
    "\n",
    "You can also use the <span>str()</span> and <span>head()</span> commands\n",
    "that you learned about in Chapter \\[chap:RI\\].\n",
    "\n",
    "As you can see, these data contain predator-prey body size information.\n",
    "This is an interesting dataset because it is huge, and covers a wide\n",
    "range of body sizes of aquatic species involved in consumer-resource\n",
    "interactions — from unicells to whales. Analyzing this dataset should\n",
    "tell us a lot about what sizes of prey predators like to eat.\n",
    "\n",
    "![A consumer-resource (predator-prey) interaction waiting to\n",
    "happen.](SeaLion.pdf){width=\"80.00000%\"}\n",
    "\n",
    "### Scatter Plot\n",
    "\n",
    "Let’s start by plotting Predator mass vs. Prey mass:"
   ]
  },
  {
   "cell_type": "code",
   "execution_count": null,
   "metadata": {},
   "outputs": [],
   "source": [
    "> plot(MyDF$Predator.mass,MyDF$Prey.mass)"
   ]
  },
  {
   "cell_type": "markdown",
   "metadata": {},
   "source": [
    "![image](PPScat1.pdf){width=\"50.00000%\"}\n",
    "\n",
    "That doesn’t look very nice! Let’s try taking logarithms (why?)."
   ]
  },
  {
   "cell_type": "code",
   "execution_count": null,
   "metadata": {},
   "outputs": [],
   "source": [
    "> plot(log(MyDF$Predator.mass),log(MyDF$Prey.mass))"
   ]
  },
  {
   "cell_type": "markdown",
   "metadata": {},
   "source": [
    "![image](PPScat2.pdf){width=\"50.00000%\"}\n",
    "\n",
    "We can change almost any aspect of the resulting graph; let’s change the\n",
    "symbols by specifying the <span>p</span>lot <span>ch</span>aracters\n",
    "using <span>pch</span>:"
   ]
  },
  {
   "cell_type": "code",
   "execution_count": null,
   "metadata": {},
   "outputs": [],
   "source": [
    "> plot(log(MyDF$Predator.mass),log(MyDF$Prey.mass),pch=20) # Change marker"
   ]
  },
  {
   "cell_type": "markdown",
   "metadata": {},
   "source": [
    "![image](PPScat3.pdf){width=\"50.00000%\"}"
   ]
  },
  {
   "cell_type": "code",
   "execution_count": null,
   "metadata": {},
   "outputs": [],
   "source": [
    "> plot(log(MyDF$Predator.mass),log(MyDF$Prey.mass),pch=20,\n",
    "    xlab = \"Predator Mass (kg)\", ylab = \"Prey Mass (kg)\") # Add labels"
   ]
  },
  {
   "cell_type": "markdown",
   "metadata": {},
   "source": [
    "![image](PPScat4.pdf){width=\"50.00000%\"}\n",
    "\n",
    "A really great summary of basic R graphical parameters can be found at\n",
    "<https://www.statmethods.net/advgraphs/parameters.html>\n",
    "\n",
    "### Histograms\n",
    "\n",
    "Why did we have to take a logarithm to see the relationship between\n",
    "predator and prey size? Plotting histograms of the two classes\n",
    "(predator, prey) should be insightful, as we can then see the “marginal”\n",
    "distributions of the two variables.\n",
    "\n",
    "Let’s first plot a histogram of predator body masses:"
   ]
  },
  {
   "cell_type": "code",
   "execution_count": null,
   "metadata": {},
   "outputs": [],
   "source": [
    "> hist(MyDF$Predator.mass)"
   ]
  },
  {
   "cell_type": "markdown",
   "metadata": {},
   "source": [
    "![image](PrHist1.pdf){width=\"50.00000%\"}\n",
    "\n",
    "Clearly, the data are heavily right skewed, with small body sized\n",
    "organisms dominating (that’s a universal pattern on planet earth). Let’s\n",
    "now take a logarithm and see if we can get a better idea of what the\n",
    "distribution of predator sizes looks like:"
   ]
  },
  {
   "cell_type": "code",
   "execution_count": null,
   "metadata": {},
   "outputs": [],
   "source": [
    "> hist(log(MyDF$Predator.mass), \n",
    "   xlab = \"Predator Mass (kg)\", ylab = \"Count\") # include labels"
   ]
  },
  {
   "cell_type": "markdown",
   "metadata": {},
   "source": [
    "![image](PrHist2.pdf){width=\"50.00000%\"}"
   ]
  },
  {
   "cell_type": "code",
   "execution_count": null,
   "metadata": {},
   "outputs": [],
   "source": [
    "> hist(log(MyDF$Predator.mass),xlab=\"Predator Mass (kg)\",ylab=\"Count\", \n",
    "    col = \"lightblue\", border = \"pink\") # Change bar and borders colors "
   ]
  },
  {
   "cell_type": "markdown",
   "metadata": {},
   "source": [
    "![image](PrHist3.pdf){width=\"50.00000%\"}\n",
    "\n",
    "So, taking a log really makes clearer what the distribution of body\n",
    "predator sizes looks like. <span>*Try the same with prey body\n",
    "masses.*</span>\n",
    "\n",
    "#### Exercise\n",
    "\n",
    "We can do a lot of beautification and fine-tuning of your R plots! As an\n",
    "exercise, try adjusting the histogram bin widths to make them same for\n",
    "the predator and prey, and making the x and y labels larger and in\n",
    "boldface. To get started, look at the help documentation of\n",
    "<span>hist</span>.\n",
    "\n",
    "### Subplots\n",
    "\n",
    "We can also plot both predator and prey body masses in different\n",
    "sub-plots using <span>par</span> so that we can compare them visually."
   ]
  },
  {
   "cell_type": "code",
   "execution_count": null,
   "metadata": {},
   "outputs": [],
   "source": [
    "> par(mfcol=c(2,1)) #initialize multi-paneled plot\n",
    "> par(mfg = c(1,1)) # specify which sub-plot to use first \n",
    "> hist(log(MyDF$Predator.mass),\n",
    "    xlab = \"Predator Mass (kg)\", ylab = \"Count\", \n",
    "    col = \"lightblue\", border = \"pink\", \n",
    "    main = 'Predator') # Add title\n",
    "> par(mfg = c(2,1)) # Second sub-plot\n",
    "> hist(log(MyDF$Prey.mass),\n",
    "    xlab=\"Prey Mass (kg)\",ylab=\"Count\", \n",
    "    col = \"lightgreen\", border = \"pink\", \n",
    "    main = 'prey')"
   ]
  },
  {
   "cell_type": "markdown",
   "metadata": {},
   "source": [
    "![image](PPHist1.pdf){width=\"50.00000%\"}\n",
    "\n",
    "Another option for making multi-panel plots is the <span>layout</span>\n",
    "function.\n",
    "\n",
    "### Overlaying plots\n",
    "\n",
    "Better still, we would like to see if the predator mass and prey mass\n",
    "distributions are similar by overlaying them."
   ]
  },
  {
   "cell_type": "code",
   "execution_count": null,
   "metadata": {},
   "outputs": [],
   "source": [
    "> hist(log(MyDF$Predator.mass), # Predator histogram\n",
    "    xlab=\"Body Mass (kg)\", ylab=\"Count\", \n",
    "    col = rgb(1, 0, 0, 0.5), # Note 'rgb', fourth value is transparency\n",
    "    main = \"Predator-prey size Overlap\") \n",
    "> hist(log(MyDF$Prey.mass), col = rgb(0, 0, 1, 0.5), add = T) # Plot prey\n",
    "> legend('topleft',c('Predators','Prey'),   # Add legend\n",
    "    fill=c(rgb(1, 0, 0, 0.5), rgb(0, 0, 1, 0.5))) # Define legend colors"
   ]
  },
  {
   "cell_type": "markdown",
   "metadata": {},
   "source": [
    "Plot annotation with text can be done with either single or double\n",
    "quotes, i.e., ‘Plot Title’ or “Plot Title”, respectively. But it is\n",
    "generally a good idea to use double quotes because sometimes you would\n",
    "like to use an apostrophe in your title or axis label strings.\n",
    "\n",
    "![image](PPOverlay.pdf){width=\"50.00000%\"}\n",
    "\n",
    "<span>*It would be nicer to have both the plots with the same bin sizes\n",
    "– try to do it*</span>\n",
    "\n",
    "### Boxplots\n",
    "\n",
    "Now, let’s try plotting boxplots instead of histograms. These are useful\n",
    "for getting a visual summary of the distribution of your data."
   ]
  },
  {
   "cell_type": "code",
   "execution_count": null,
   "metadata": {},
   "outputs": [],
   "source": [
    "> boxplot(log(MyDF$Predator.mass),\n",
    "    xlab = \"Location\", ylab = \"Predator Mass\",\n",
    "    main = \"Predator mass\")"
   ]
  },
  {
   "cell_type": "markdown",
   "metadata": {},
   "source": [
    "![image](PredBoxP1.pdf){width=\"50.00000%\"}\n",
    "\n",
    "Now let’s see how many locations the data are from:"
   ]
  },
  {
   "cell_type": "code",
   "execution_count": null,
   "metadata": {},
   "outputs": [],
   "source": [
    "> boxplot(log(MyDF$Predator.mass) ~ MyDF$Location, # Why the tilde?\n",
    "    xlab = \"Location\", ylab = \"Predator Mass\",\n",
    "    main = \"Predator mass by location\")"
   ]
  },
  {
   "cell_type": "markdown",
   "metadata": {},
   "source": [
    "![image](PredBoxP2.pdf){width=\"100.00000%\"}\n",
    "\n",
    "Note the tilde (\\~). This is to tell R to subdivide or categorize your\n",
    "analysis and plot by the “Factor” location. More on this later.\n",
    "\n",
    "That’s a lot of locations! You will need an appropriately wide plot to\n",
    "see all the boxplots adequately. Now let’s try boxplots by feeding\n",
    "interaction type:"
   ]
  },
  {
   "cell_type": "code",
   "execution_count": null,
   "metadata": {},
   "outputs": [],
   "source": [
    "> boxplot(log(MyDF$Predator.mass) ~ MyDF$Type.of.feeding.interaction,\n",
    "    xlab = \"Location\", ylab = \"Predator Mass\",\n",
    "    main = \"Predator mass by feeding interaction type\")"
   ]
  },
  {
   "cell_type": "markdown",
   "metadata": {},
   "source": [
    "### Combining plot types\n",
    "\n",
    "It would be nice to see both the predator and prey marginal\n",
    "distributions as well as the scatterplot for an exploratory analysis. We\n",
    "can do this by adding boxplots of the marginal variables to the\n",
    "scatterplot."
   ]
  },
  {
   "cell_type": "code",
   "execution_count": null,
   "metadata": {},
   "outputs": [],
   "source": [
    "> par(fig=c(0,0.8,0,0.8)) # specify figure size as proportion\n",
    "> plot(log(MyDF$Predator.mass),log(MyDF$Prey.mass),\n",
    "    xlab = \"Predator Mass (kg)\", ylab = \"Prey Mass (kg)\") # Add labels\n",
    "> par(fig=c(0,0.8,0.55,1), new=TRUE)\n",
    "> boxplot(log(MyDF$Predator.mass), horizontal=TRUE, axes=FALSE)\n",
    "> par(fig=c(0.65,1,0,0.8),new=TRUE)\n",
    "> boxplot(log(MyDF$Prey.mass), axes=FALSE)\n",
    "> mtext(\"Fancy Predator-prey scatterplot\", side=3, outer=TRUE, line=-3)"
   ]
  },
  {
   "cell_type": "markdown",
   "metadata": {},
   "source": [
    "![image](PPScatFancy.pdf){width=\"60.00000%\"}\n",
    "\n",
    "To understand this plotting method, think of the full graph area as\n",
    "going from (0,0) in the lower left corner to (1,1) in the upper right\n",
    "corner. The format of the <span>fig=</span> parameter is a numerical\n",
    "vector of the form <span>c(x1, x2, y1, y2)</span>. The first <span>fig=\n",
    "</span> sets up the scatterplot going from 0 to 0.8 on the x axis and 0\n",
    "to 0.8 on the y axis. The top boxplot goes from 0 to 0.8 on the x axis\n",
    "and 0.55 to 1 on the y axis. The right hand boxplot goes from 0.65 to 1\n",
    "on the x axis and 0 to 0.8 on the y axis. You can experiment with these\n",
    "proportions to change the spacings between plots.\n",
    "\n",
    "### Lattice plots\n",
    "\n",
    "You can also make lattice graphs to avoid the somewhat laborious <span>\n",
    "par()</span> approach above of getting multi-panel plots. For this, you\n",
    "will need to “load” a “library” that isn’t included by default when you\n",
    "run R:"
   ]
  },
  {
   "cell_type": "code",
   "execution_count": null,
   "metadata": {},
   "outputs": [],
   "source": [
    "> library(lattice)"
   ]
  },
  {
   "cell_type": "markdown",
   "metadata": {},
   "source": [
    "\\[Fig-Lattice-1\\]\n",
    "\n",
    "A lattice plot of the above data for predator mass could look like Fig.\n",
    "\\[Fig-Lattice-1\\] (as a density plot). This was generated using (and\n",
    "printing to a pdf with particular dimensions):"
   ]
  },
  {
   "cell_type": "code",
   "execution_count": null,
   "metadata": {},
   "outputs": [],
   "source": [
    "> densityplot(~log(Predator.mass) | Type.of.feeding.interaction, \n",
    "data=MyDF)"
   ]
  },
  {
   "cell_type": "markdown",
   "metadata": {},
   "source": [
    "Look up <http://www.statmethods.net/advgraphs/trellis.html> and the\n",
    "<span>lattice</span> package help.\n",
    "\n",
    "### Saving your graphics\n",
    "\n",
    "And you can also save the figure in a vector graphics format like a pdf.\n",
    "It is important to learn to do this, because you want to be able to save\n",
    "your plots in good resolution, and want to avoid the manual steps of\n",
    "clicking on the figure, doing “save as”, etc. So let’s save the figure\n",
    "as a PDF:"
   ]
  },
  {
   "cell_type": "code",
   "execution_count": null,
   "metadata": {},
   "outputs": [],
   "source": [
    "> pdf(\"../Results/Pred_Prey_Overlay.pdf\", # Open blank pdf page \n",
    "    11.7, 8.3) # These numbers are page dimensions in inches\n",
    "> hist(log(MyDF$Predator.mass), # Plot predator histogram (note 'rgb')\n",
    "    xlab=\"Body Mass (kg)\", ylab=\"Count\", \n",
    "    col = rgb(1, 0, 0, 0.5), \n",
    "    main = \"Predator-Prey Size Overlap\") \n",
    "> hist(log(MyDF$Prey.mass), # Plot prey weights\n",
    "    col = rgb(0, 0, 1, 0.5), \n",
    "    add = T)  # Add to same plot = TRUE\n",
    "> legend('topleft',c('Predators','Prey'), # Add legend\n",
    "    fill=c(rgb(1, 0, 0, 0.5), rgb(0, 0, 1, 0.5))) \n",
    "> dev.off() "
   ]
  },
  {
   "cell_type": "markdown",
   "metadata": {},
   "source": [
    "Always try to save results in a vector format, which can be scaled up to\n",
    "any size. For more on vector vs raster images/graphics, see:\n",
    "<https://en.wikipedia.org/wiki/Vector_graphics>.\n",
    "\n",
    "Note that you are saving to the <span>Results</span> directory now. This\n",
    "should always be your workflow: store and retrieve data from a <span>\n",
    "Data</span> directory, keep your code and work from a <span>Code</span>\n",
    "directory, and save outputs to a <span>Results</span> directory.\n",
    "\n",
    "You can also try other graphic output formats. For example,\n",
    "<span>png()</span> (a raster format) instead of <span>pdf()</span>. As\n",
    "always, look at the help documentation of each of these commands!\n",
    "\n",
    "Practicals\n",
    "----------\n",
    "\n",
    "In this practical, you will write script that draws and saves three\n",
    "lattice graphs by feeding interaction type: one of predator mass, one of\n",
    "prey mass and one of the size ratio of prey mass over predator mass.\n",
    "Note that you would want to use logarithms of masses (or mass-ratios)\n",
    "for all three plots. In addition, the script will calculate the mean and\n",
    "median predator mass, prey mass and predator-prey size-ratios to a csv\n",
    "file. So:\n",
    "\n",
    "\\[$\\quad\\star$\\]\n",
    "\n",
    "Write a script file called <span>PP\\_Lattice.R</span> and save it in the\n",
    "<span>Code</span> directory — sourcing or running this script should\n",
    "result in three files called <span>Pred\\_Lattice.pdf</span>, <span>\n",
    "Prey\\_Lattice.pdf</span>, and <span>SizeRatio\\_Lattice.pdf</span> being\n",
    "saved in the <span>Results</span> directory (the names are\n",
    "self-explanatory, I hope).\n",
    "\n",
    "In addition, the script should calculate the mean and median log\n",
    "predator mass, prey mass, and predator-prey size ratio, <span>*by\n",
    "feeding type*</span>, and save it as a single csv output table called\n",
    "<span> PP\\_Results.csv</span> to the <span>Results</span> directory. The\n",
    "table should have appropriate headers (e.g., Feeding type, mean,\n",
    "median). (Hint: you will have to initialize a new dataframe in the\n",
    "script to first store the calculations)\n",
    "\n",
    "The script should be self-sufficient and not need any external inputs —\n",
    "it should import the above predator-prey dataset from the appropriate\n",
    "directory, and save the graphic plots to the appropriate directory\n",
    "(Hint: use relative paths!).\n",
    "\n",
    "There are multiple ways to do this practical. The plotting and saving\n",
    "component is simple enough. For calculating the statistics by feeding\n",
    "type, you can either use the “loopy” way — first obtaining a list of\n",
    "feeding types (look up the <span>unique</span> or <span>levels</span>\n",
    "functions) and then loop over them, using <span>subset</span> to extract\n",
    "the dataset by feeding type at each iteration, or the R-savvy way, by\n",
    "using <span>tapply</span> or <span>ddply</span> and avoiding looping\n",
    "altogether (Chapter \\[chap:R\\_II\\]).\n",
    "\n",
    "Publication-quality figures in R\n",
    "--------------------------------\n",
    "\n",
    "<span>R</span> can produce beautiful graphics, but it takes a lot of\n",
    "work to obtain the desired result. This is because the starting point is\n",
    "pretty much a “bare” plot, and adding features commonly required for\n",
    "publication-grade figures (legends, statistics, regressions, etc.) can\n",
    "be quite involved.\n",
    "\n",
    "Moreover, it is very difficult to switch from one representation of the\n",
    "data to another (i.e., from boxplots to scatterplots), or to plot\n",
    "several datasets together. The <span>R</span> package\n",
    "<span>ggplot2</span> overcomes these issues, and produces truly\n",
    "high-quality, publication-ready graphics suitable for papers, theses and\n",
    "reports.\n",
    "\n",
    "Currently, <span>ggplot2</span> cannot be used to create 3D graphs or\n",
    "mosaic plots. In any case, most of you won’t be needing 3D plots! If you\n",
    "do, there are many ways to do 3D plots using other plotting packages in\n",
    "R. In particular, look up the <span>scatterplot3d</span> and\n",
    "<span>plot3D</span> packages.\n",
    "\n",
    "<span>ggplot2</span> differs from other approaches as it attempts to\n",
    "provide a “grammar” for graphics in which each layer is the equivalent\n",
    "of a verb, subject etc. and a plot is the equivalent of a sentence. All\n",
    "graphs start with a layer showing the data, other layers and commands\n",
    "are added to modify the plot. Specifically, according to this grammar, a\n",
    "statistical graphic is a “mapping” from data to aesthetic attributes\n",
    "(colour, shape, size; set using <span>aes</span>) of geometric objects\n",
    "(points, lines, bars; set using <span>geom</span>).\n",
    "\n",
    "For more on the ideas underlying ggplot, see the book “ggplot2: Elegant\n",
    "Graphics for Data Analysis”, by H. Wickham (in your Reading directory).\n",
    "Also, the website [ ggplot2.org]( ggplot2.org) a great resource.\n",
    "\n",
    "<span>ggplot2</span> should already be available on the college\n",
    "computers. If you are using your own computer, look up the section on\n",
    "installing packages in Chapter \\[chap:RI\\].\n",
    "\n",
    "ggplot can be used in two ways: with <span>qplot</span> (for\n",
    "<span>q</span>uick <span> plot</span>ting) and <span>ggplot</span> for\n",
    "full-blown, customizable plotting.\n",
    "\n",
    "Note that <span>ggplot2</span> only accepts data in data frames.\n",
    "\n",
    "### Basic plotting with <span>qplot</span>\n",
    "\n",
    "<span>qplot</span> can be used to quickly produce graphics for\n",
    "exploratory data analysis, and as a base for more complex graphics. It\n",
    "uses syntax that is closer to the standard R plotting commands.\n",
    "\n",
    "We will use the same predator-prey body size dataset again – you will\n",
    "soon see how much nice the same types of plots you made above look when\n",
    "done with ggplot!.\n",
    "\n",
    "#### Scatterplots\n",
    "\n",
    "Let’s start plotting the <span>Predator.mass</span> vs\n",
    "<span>Prey.mass</span>:"
   ]
  },
  {
   "cell_type": "code",
   "execution_count": null,
   "metadata": {},
   "outputs": [],
   "source": [
    "> require(ggplot2)  ## Load the package\n",
    "Loading required package: ggplot2\n",
    "> qplot(Prey.mass, Predator.mass, data = MyDF)"
   ]
  },
  {
   "cell_type": "markdown",
   "metadata": {},
   "source": [
    "As before, let’s take logarithms and plot:"
   ]
  },
  {
   "cell_type": "code",
   "execution_count": null,
   "metadata": {},
   "outputs": [],
   "source": [
    "> qplot(log(Prey.mass), log(Predator.mass), data = MyDF)"
   ]
  },
  {
   "cell_type": "markdown",
   "metadata": {},
   "source": [
    "Now, color the points according to the type of feeding interaction:"
   ]
  },
  {
   "cell_type": "code",
   "execution_count": null,
   "metadata": {},
   "outputs": [],
   "source": [
    "> qplot(log(Prey.mass), log(Predator.mass), data = MyDF, \n",
    "    colour = Type.of.feeding.interaction)"
   ]
  },
  {
   "cell_type": "markdown",
   "metadata": {},
   "source": [
    "The same as above, but changing the shape:"
   ]
  },
  {
   "cell_type": "code",
   "execution_count": null,
   "metadata": {},
   "outputs": [],
   "source": [
    "> qplot(log(Prey.mass), log(Predator.mass), data = MyDF, \n",
    "    shape = Type.of.feeding.interaction)"
   ]
  },
  {
   "cell_type": "markdown",
   "metadata": {},
   "source": [
    "#### Aesthetic mappings\n",
    "\n",
    "These examples demonstrate a key difference between <span>qplot</span>\n",
    "and the standard <span>plot</span> command: When you want to assign\n",
    "colours, sizes or shapes to the points on your plot, using the\n",
    "<span>plot</span> command, it’s your responsibility to convert (i.e.,\n",
    "“map”) a categorical variable in your data (e.g., type of feeding\n",
    "interaction in the above case) onto colors (or shapes) that\n",
    "<span>plot</span> knows how to use (e.g., by specifying “red”, “blue”,\n",
    "“green”, etc).\n",
    "\n",
    "ggplot does this mapping for you automatically, and also provides a\n",
    "legend! This makes it really easy to quickly include additional data\n",
    "(e.g., if a new feeding interaction type was added to the data) on the\n",
    "plot.\n",
    "\n",
    "Instead of using ggplot’s automatic mapping, if you want to manually set\n",
    "a color or a shape, you have to use <span>I()</span> (meaning\n",
    "“Identity”). To see this in practice, try the following:"
   ]
  },
  {
   "cell_type": "code",
   "execution_count": null,
   "metadata": {},
   "outputs": [],
   "source": [
    "> qplot(log(Prey.mass), log(Predator.mass), \n",
    "    data = MyDF, colour = \"red\")"
   ]
  },
  {
   "cell_type": "markdown",
   "metadata": {},
   "source": [
    "You chose red, but ggplot used mapping to convert it to a particular\n",
    "shade of red. To set it manually to the real red, do this:"
   ]
  },
  {
   "cell_type": "code",
   "execution_count": null,
   "metadata": {},
   "outputs": [],
   "source": [
    "> qplot(log(Prey.mass), log(Predator.mass), \n",
    "    data = MyDF, colour = I(\"red\"))"
   ]
  },
  {
   "cell_type": "markdown",
   "metadata": {},
   "source": [
    "Similarly, for point size, compare these two:"
   ]
  },
  {
   "cell_type": "code",
   "execution_count": null,
   "metadata": {},
   "outputs": [],
   "source": [
    "> qplot(log(Prey.mass), log(Predator.mass), \n",
    "    data = MyDF, size = 3) #with ggplot size mapping\n",
    "> qplot(log(Prey.mass), log(Predator.mass), \n",
    "    data = MyDF, size = I(3)) #no mapping"
   ]
  },
  {
   "cell_type": "markdown",
   "metadata": {},
   "source": [
    "But for shape, ggplot doesn’t have a continuous mapping because shapes\n",
    "are a discrete variable. To see this, compare these two:"
   ]
  },
  {
   "cell_type": "code",
   "execution_count": null,
   "metadata": {},
   "outputs": [],
   "source": [
    "> qplot(log(Prey.mass), log(Predator.mass), \n",
    "    data = MyDF, shape = 3) #will give error\n",
    "> qplot(log(Prey.mass), log(Predator.mass), \n",
    "    data = MyDF, shape= I(3))"
   ]
  },
  {
   "cell_type": "markdown",
   "metadata": {},
   "source": [
    "#### Setting transparency\n",
    "\n",
    "Because there are so many points, we can make them semi-transparent\n",
    "using <span>alpha</span> so that the overlaps can be seen:"
   ]
  },
  {
   "cell_type": "code",
   "execution_count": null,
   "metadata": {},
   "outputs": [],
   "source": [
    "> qplot(log(Prey.mass), log(Predator.mass), data = MyDF, \n",
    "    colour = Type.of.feeding.interaction, alpha = I(.5))"
   ]
  },
  {
   "cell_type": "markdown",
   "metadata": {},
   "source": [
    "Here try using <span>alpha = .5</span> instead of <span>alpha =\n",
    "I(.5)</span> and see what happens.\n",
    "\n",
    "#### Adding smoothers and regression lines\n",
    "\n",
    "Now add a smoother to the points:"
   ]
  },
  {
   "cell_type": "code",
   "execution_count": null,
   "metadata": {},
   "outputs": [],
   "source": [
    "> qplot(log(Prey.mass), log(Predator.mass), data = MyDF, \n",
    "    geom = c(\"point\", \"smooth\"))"
   ]
  },
  {
   "cell_type": "markdown",
   "metadata": {},
   "source": [
    "If we want to have a linear regression, we need to specify the method as\n",
    "being <span>lm</span>:"
   ]
  },
  {
   "cell_type": "code",
   "execution_count": null,
   "metadata": {},
   "outputs": [],
   "source": [
    "> qplot(log(Prey.mass), log(Predator.mass), data = MyDF, \n",
    "    geom = c(\"point\", \"smooth\")) + geom_smooth(method = \"lm\")"
   ]
  },
  {
   "cell_type": "markdown",
   "metadata": {},
   "source": [
    "<span>lm</span> stands for <span>l</span>inear <span>m</span>odels\n",
    "(linear regression is a type of linear model). You will learn about\n",
    "linear models and fitting them to data (as you have done here) in the\n",
    "Stats in R week.\n",
    "\n",
    "We can also add a “smoother” for each type of interaction:"
   ]
  },
  {
   "cell_type": "code",
   "execution_count": null,
   "metadata": {},
   "outputs": [],
   "source": [
    "> qplot(log(Prey.mass), log(Predator.mass), data = MyDF, \n",
    "    geom = c(\"point\", \"smooth\"), colour = Type.of.feeding.interaction)  \n",
    "                + geom_smooth(method = \"lm\")"
   ]
  },
  {
   "cell_type": "markdown",
   "metadata": {},
   "source": [
    "To extend the lines to the full range, use <span>fullrange =\n",
    "TRUE</span>:"
   ]
  },
  {
   "cell_type": "code",
   "execution_count": null,
   "metadata": {},
   "outputs": [],
   "source": [
    "> qplot(log(Prey.mass), log(Predator.mass), data = MyDF, \n",
    "    geom = c(\"point\", \"smooth\"),\n",
    "    colour = Type.of.feeding.interaction) + \n",
    "    geom_smooth(method = \"lm\",fullrange = TRUE)"
   ]
  },
  {
   "cell_type": "markdown",
   "metadata": {},
   "source": [
    "Now we want to see how the ratio between prey and predator mass changes\n",
    "according to the type of interaction:"
   ]
  },
  {
   "cell_type": "code",
   "execution_count": null,
   "metadata": {},
   "outputs": [],
   "source": [
    "> qplot(Type.of.feeding.interaction, \n",
    "        log(Prey.mass/Predator.mass), data = MyDF)"
   ]
  },
  {
   "cell_type": "markdown",
   "metadata": {},
   "source": [
    "Because there are so many points, we can “jitter” them to get a better\n",
    "idea of the spread:"
   ]
  },
  {
   "cell_type": "code",
   "execution_count": null,
   "metadata": {},
   "outputs": [],
   "source": [
    "> qplot(Type.of.feeding.interaction, \n",
    "        log(Prey.mass/Predator.mass), data = MyDF,\n",
    "        geom = \"jitter\")"
   ]
  },
  {
   "cell_type": "markdown",
   "metadata": {},
   "source": [
    "#### Boxplots\n",
    "\n",
    "Or we can draw a boxplot of the data (note the <span>geom</span>\n",
    "argument, which stands for <span>geom</span>etry):"
   ]
  },
  {
   "cell_type": "code",
   "execution_count": null,
   "metadata": {},
   "outputs": [],
   "source": [
    "> qplot(Type.of.feeding.interaction, \n",
    "        log(Prey.mass/Predator.mass), data = MyDF,\n",
    "        geom = \"boxplot\")"
   ]
  },
  {
   "cell_type": "markdown",
   "metadata": {},
   "source": [
    "#### Histograms and density plots\n",
    "\n",
    "Now let’s draw an histogram of predator-prey mass ratios:"
   ]
  },
  {
   "cell_type": "code",
   "execution_count": null,
   "metadata": {},
   "outputs": [],
   "source": [
    "> qplot(log(Prey.mass/Predator.mass), data = MyDF, \n",
    "    geom =  \"histogram\")"
   ]
  },
  {
   "cell_type": "markdown",
   "metadata": {},
   "source": [
    "Color the histogram according to the interaction type:"
   ]
  },
  {
   "cell_type": "code",
   "execution_count": null,
   "metadata": {},
   "outputs": [],
   "source": [
    "> qplot(log(Prey.mass/Predator.mass), data = MyDF, \n",
    "    geom =  \"histogram\", \n",
    "    fill = Type.of.feeding.interaction)"
   ]
  },
  {
   "cell_type": "markdown",
   "metadata": {},
   "source": [
    "You may want to define binwidth (in units of x axis):"
   ]
  },
  {
   "cell_type": "code",
   "execution_count": null,
   "metadata": {},
   "outputs": [],
   "source": [
    "> qplot(log(Prey.mass/Predator.mass), data = MyDF, \n",
    "    geom =  \"histogram\", \n",
    "    fill = Type.of.feeding.interaction,\n",
    "    binwidth = 1)"
   ]
  },
  {
   "cell_type": "markdown",
   "metadata": {},
   "source": [
    "To make it easier to read, we can plot the smoothed density of the data:"
   ]
  },
  {
   "cell_type": "code",
   "execution_count": null,
   "metadata": {},
   "outputs": [],
   "source": [
    "> qplot(log(Prey.mass/Predator.mass), data = MyDF, \n",
    "    geom =  \"density\", fill = Type.of.feeding.interaction)"
   ]
  },
  {
   "cell_type": "markdown",
   "metadata": {},
   "source": [
    "And you can make the densities transparent so that the overlaps are\n",
    "visible:"
   ]
  },
  {
   "cell_type": "code",
   "execution_count": null,
   "metadata": {},
   "outputs": [],
   "source": [
    "> qplot(log(Prey.mass/Predator.mass), data = MyDF, \n",
    "    geom =  \"density\", fill = Type.of.feeding.interaction, alpha = \n",
    "    I(0.5))"
   ]
  },
  {
   "cell_type": "markdown",
   "metadata": {},
   "source": [
    "Or using <span>colour</span> instead of <span>fill</span> draws only the\n",
    "edge of the curve:"
   ]
  },
  {
   "cell_type": "code",
   "execution_count": null,
   "metadata": {},
   "outputs": [],
   "source": [
    "> qplot(log(Prey.mass/Predator.mass), data = MyDF, \n",
    "    geom =  \"density\", colour = Type.of.feeding.interaction)"
   ]
  },
  {
   "cell_type": "markdown",
   "metadata": {},
   "source": [
    "Similarly, <span>geom = “bar”</span> produces a barplot, <span>geom =\n",
    "“line”</span> a series of points joined by a line, etc.\n",
    "\n",
    "#### Multi-faceted plots\n",
    "\n",
    "An alternative way of displaying data belonging to different classes is\n",
    "using “faceting”. We did this using <span> lattice()</span> previously,\n",
    "but ggplot does a much nicer job:"
   ]
  },
  {
   "cell_type": "code",
   "execution_count": null,
   "metadata": {},
   "outputs": [],
   "source": [
    "> qplot(log(Prey.mass/Predator.mass), \n",
    "    facets = Type.of.feeding.interaction ~., \n",
    "    data = MyDF, geom =  \"density\")"
   ]
  },
  {
   "cell_type": "markdown",
   "metadata": {},
   "source": [
    "The <span>\\~.</span> (the space is not important) notation tells ggplot\n",
    "whether to do the faceting by row or by column. So if you want a\n",
    "by-column configuration, switch <span>\\~</span> and <span>.</span>, and\n",
    "also swap the position of the <span>.\\~</span>:"
   ]
  },
  {
   "cell_type": "code",
   "execution_count": null,
   "metadata": {},
   "outputs": [],
   "source": [
    "> qplot(log(Prey.mass/Predator.mass), \n",
    "    facets =  .~ Type.of.feeding.interaction, \n",
    "    data = MyDF, geom =  \"density\")"
   ]
  },
  {
   "cell_type": "markdown",
   "metadata": {},
   "source": [
    "You can also facet by a combination of categories (this is going to be a\n",
    "big plot!):"
   ]
  },
  {
   "cell_type": "code",
   "execution_count": null,
   "metadata": {},
   "outputs": [],
   "source": [
    "> qplot(log(Prey.mass/Predator.mass), \n",
    "    facets = .~ Type.of.feeding.interaction + Location, \n",
    "    data = MyDF, geom =  \"density\")"
   ]
  },
  {
   "cell_type": "markdown",
   "metadata": {},
   "source": [
    "And you can also change the order of the combination:"
   ]
  },
  {
   "cell_type": "code",
   "execution_count": null,
   "metadata": {},
   "outputs": [],
   "source": [
    "> qplot(log(Prey.mass/Predator.mass), \n",
    "    facets = .~ Location + Type.of.feeding.interaction, \n",
    "    data = MyDF, geom =  \"density\")"
   ]
  },
  {
   "cell_type": "markdown",
   "metadata": {},
   "source": [
    "For more fine-tuned faceting, look up the <span>facet\\_grid()</span> and\n",
    "<span>facet\\_wrap()</span> functions within <span>ggplot2</span>. look\n",
    "up [ \n",
    "    http://www.cookbook-r.com/Graphs/Facets\\_(ggplot2)]( \n",
    "    http://www.cookbook-r.com/Graphs/Facets_(ggplot2)).\n",
    "\n",
    "See Fig. \\[PPRegress\\] for an example result.\n",
    "\n",
    "#### Logarithmic axes\n",
    "\n",
    "A more elegant way of drawing logarithmic quantities is to set the axes\n",
    "to be logarithmic:"
   ]
  },
  {
   "cell_type": "code",
   "execution_count": null,
   "metadata": {},
   "outputs": [],
   "source": [
    "> qplot(Prey.mass, Predator.mass, data = MyDF, log=\"xy\")"
   ]
  },
  {
   "cell_type": "markdown",
   "metadata": {},
   "source": [
    "#### Plot annotations\n",
    "\n",
    "Let’s add a title and labels:"
   ]
  },
  {
   "cell_type": "code",
   "execution_count": null,
   "metadata": {},
   "outputs": [],
   "source": [
    "> qplot(Prey.mass, Predator.mass, data = MyDF, log=\"xy\",\n",
    "    main = \"Relation between predator and prey mass\", \n",
    "    xlab = \"log(Prey mass) (g)\", \n",
    "    ylab = \"log(Predator mass) (g)\")"
   ]
  },
  {
   "cell_type": "markdown",
   "metadata": {},
   "source": [
    "Adding <span>+ theme\\_bw()</span> makes it suitable for black and white\n",
    "printing."
   ]
  },
  {
   "cell_type": "code",
   "execution_count": null,
   "metadata": {},
   "outputs": [],
   "source": [
    "> qplot(Prey.mass, Predator.mass, data = MyDF, log=\"xy\",\n",
    "    main = \"Relation between predator and prey mass\", \n",
    "    xlab = \"Prey mass (g)\", \n",
    "    ylab = \"Predator mass (g)\") + theme_bw()"
   ]
  },
  {
   "cell_type": "markdown",
   "metadata": {},
   "source": [
    "#### Saving your plots\n",
    "\n",
    "Finally, let’s save a pdf file of the figure (same approach as we used\n",
    "before):"
   ]
  },
  {
   "cell_type": "code",
   "execution_count": null,
   "metadata": {},
   "outputs": [],
   "source": [
    "> pdf(\"../Results/MyFirst-ggplot2-Figure.pdf\")\n",
    "> print(qplot(Prey.mass, Predator.mass, data = MyDF,log=\"xy\",\n",
    "    main = \"Relation between predator and prey mass\", \n",
    "    xlab = \"log(Prey mass) (g)\", \n",
    "    ylab = \"log(Predator mass) (g)\") + theme_bw())\n",
    "> dev.off()"
   ]
  },
  {
   "cell_type": "markdown",
   "metadata": {},
   "source": [
    "Using <span>print</span> ensures that the whole command is kept together\n",
    "and that you can use the command in a script.\n",
    "\n",
    "### Some more important ggplot options\n",
    "\n",
    "Other important options to keep in mind:\n",
    "\n",
    "  ---------------------- ------------------------------------------------------------------------------------------------\n",
    "  <span>xlim</span>      limits for x axis: <span>xlim = c(0,12)</span>\n",
    "  <span>ylim</span>      limits for y axis\n",
    "  <span>log</span>       log transform variable <span>log = “x”</span>, <span>log = “y”</span>, <span>log = “xy”</span>\n",
    "  <span>main</span>      title of the plot <span>main = “My Graph”</span>\n",
    "  <span>xlab</span>      x-axis label\n",
    "  <span>ylab</span>      y-axis label\n",
    "  <span>asp</span>       aspect ratio <span>asp = 2</span>, <span>asp = 0.5</span>\n",
    "  <span>margins</span>   whether or not margins will be displayed\n",
    "  ---------------------- ------------------------------------------------------------------------------------------------\n",
    "\n",
    "\\\n",
    "\n",
    "### Various <span>geom</span>\n",
    "\n",
    "<span>geom</span> Specifies the geometric objects that define the graph\n",
    "type. The geom option is expressed as a character vector with one or\n",
    "more entries. geom values include “point”, “smooth”, “boxplot”, “line”,\n",
    "“histogram”, “density”, “bar”, and “jitter”. Try the following:\n",
    "\n",
    "### Advanced plotting: <span>ggplot</span>\n",
    "\n",
    "The command <span>qplot</span> allows you to use only a single dataset\n",
    "and a single set of “aesthetics” (x, y, etc.). To make full use of\n",
    "<span>ggplot2</span>, we need to use the command <span>ggplot</span>,\n",
    "which allows you to use “layering”. Layering is the mechanism by which\n",
    "additional data elements are added to a plot. Each layer can come from a\n",
    "different dataset and have a different aesthetic mapping, allowing us to\n",
    "create plots that could not be generated using <span>qplot()</span>,\n",
    "which permits only a single dataset and a single set of aesthetic\n",
    "mappings.\n",
    "\n",
    "For a <span>ggplot</span> plotting command, we need at least:\n",
    "\n",
    "-   The data to be plotted, in a data frame;\n",
    "\n",
    "-   Aesthetics mappings, specifying which variables we want to plot, and\n",
    "    how;\n",
    "\n",
    "-   The <span>geom</span>, defining the geometry for representing the\n",
    "    data;\n",
    "\n",
    "-   (Optionally) some <span>stat</span> that transforms the data or\n",
    "    performs statistics using the data.\n",
    "\n",
    "To start a graph, we nust specify the data and the aesthetics:"
   ]
  },
  {
   "cell_type": "code",
   "execution_count": null,
   "metadata": {},
   "outputs": [],
   "source": [
    "> p <- ggplot(MyDF, aes(x = log(Predator.mass),\n",
    "                y = log(Prey.mass),\n",
    "                colour = Type.of.feeding.interaction ))"
   ]
  },
  {
   "cell_type": "markdown",
   "metadata": {},
   "source": [
    "Here we have created a graphics object <span>p</span> to which we can\n",
    "add layers and other plot elements.\n",
    "\n",
    "Now try to plot the graph:"
   ]
  },
  {
   "cell_type": "code",
   "execution_count": null,
   "metadata": {},
   "outputs": [],
   "source": [
    "> p\n",
    "Error: No layers in plot"
   ]
  },
  {
   "cell_type": "markdown",
   "metadata": {},
   "source": [
    "That is because we are yet to specify a geometry — only then can we see\n",
    "the graph:"
   ]
  },
  {
   "cell_type": "code",
   "execution_count": null,
   "metadata": {},
   "outputs": [],
   "source": [
    "> p + geom_point()"
   ]
  },
  {
   "cell_type": "markdown",
   "metadata": {},
   "source": [
    "We can use the “plus” sign to concatenate different commands:"
   ]
  },
  {
   "cell_type": "code",
   "execution_count": null,
   "metadata": {},
   "outputs": [],
   "source": [
    "> p <- ggplot(MyDF, aes(x = log(Predator.mass),\n",
    "                y = log(Prey.mass),\n",
    "                colour = Type.of.feeding.interaction ))\n",
    "> q <- p + geom_point(size=I(2), shape=I(10)) + theme_bw()\n",
    "> q"
   ]
  },
  {
   "cell_type": "markdown",
   "metadata": {},
   "source": [
    "Let’s remove the legend:"
   ]
  },
  {
   "cell_type": "code",
   "execution_count": null,
   "metadata": {},
   "outputs": [],
   "source": [
    "> q + theme(legend.position = \"none\")"
   ]
  },
  {
   "cell_type": "markdown",
   "metadata": {},
   "source": [
    "We will not look at some case studies to see some useful ways in which\n",
    "you can use ggplot.\n",
    "\n",
    "### Case study 1: plotting a matrix\n",
    "\n",
    "Here we will plot a matrix of random values taken from a normal\n",
    "distribution $\\mathcal U [0,1]$. Our goal is to produce the plot in\n",
    "Figure \\[MatPlot\\]. Because we want to plot a matrix, and <span>\n",
    "ggplot2</span> accepts only dataframes, we use the package\n",
    "<span>reshape2</span> that can “melt” a matrix into a dataframe:"
   ]
  },
  {
   "cell_type": "code",
   "execution_count": null,
   "metadata": {},
   "outputs": [],
   "source": [
    "require(ggplot2)\n",
    "require(reshape2)\n",
    "\n",
    "GenerateMatrix <- function(N){\n",
    "    M <- matrix(runif(N * N), N, N)\n",
    "    return(M)\n",
    "}\n",
    "\n",
    "> M <- GenerateMatrix(10)\n",
    "\n",
    "> M[1:3, 1:3]\n",
    "            [,1]      [,2]      [,3]\n",
    "[1,] 0.2700254 0.8686728 0.7365857\n",
    "[2,] 0.1744879 0.8488169 0.4165879\n",
    "[3,] 0.3980783 0.7727821 0.4271121\n",
    "\n",
    "> Melt <- melt(M)\n",
    "\n",
    "> Melt[1:4,]\n",
    "  Var1 Var2     value\n",
    "1    1    1 0.0698925\n",
    "2    2    1 0.6333296\n",
    "3    3    1 0.8990120\n",
    "4    4    1 0.8425578\n",
    "\n",
    "> ggplot(Melt, aes(Var1, Var2, fill = value)) + geom_tile()\n",
    "\n",
    "# adding a black line dividing cells\n",
    "> p <- ggplot(Melt, aes(Var1, Var2, fill = value))\n",
    "> p <- p + geom_tile(colour = \"black\")\n",
    "\n",
    "# removing the legend\n",
    "> q <- p + theme(legend.position = \"none\")\n",
    "\n",
    "# removing all the rest\n",
    "> q <- p + theme(legend.position = \"none\", \n",
    "     panel.background = element_blank(),\n",
    "     axis.ticks = element_blank(), \n",
    "     panel.grid.major = element_blank(),\n",
    "     panel.grid.minor = element_blank(),\n",
    "     axis.text.x = element_blank(),\n",
    "     axis.title.x = element_blank(),\n",
    "     axis.text.y = element_blank(),\n",
    "     axis.title.y = element_blank())\n",
    "\n",
    "# exploring the colors\n",
    "> q + scale_fill_continuous(low = \"yellow\",\n",
    "                        high = \"darkgreen\")\n",
    "> q + scale_fill_gradient2()\n",
    "> q + scale_fill_gradientn(colours = grey.colors(10))\n",
    "> q + scale_fill_gradientn(colours = rainbow(10))\n",
    "> q + scale_fill_gradientn(colours =\n",
    "                c(\"red\", \"white\", \"blue\"))"
   ]
  },
  {
   "cell_type": "markdown",
   "metadata": {},
   "source": [
    "### Case study 2: plotting two dataframes\n",
    "\n",
    "According to Girko’s circular law, the eigenvalues of a matrix $M$ of\n",
    "size $N \\times N$ are approximately contained in a circle in the complex\n",
    "plane with radius $\\sqrt{N}$. We are going to draw a simulation\n",
    "displaying this result (Figure \\[Girko\\]).\n",
    "\n",
    "### Case study 3: annotating plots\n",
    "\n",
    "In the plot in Figure \\[Linebar\\], we use the geometry “text” to\n",
    "annotate the plot.\n",
    "\n",
    "### Case study 4: mathematical display\n",
    "\n",
    "In Figure \\[LinReg\\], you can see the mathematical annotation on the\n",
    "axis and in the plot area itself.\n",
    "\n",
    "### ggthemes\n",
    "\n",
    "The package <span>ggthemes</span> provides you some additional\n",
    "<span>geom</span>s, <span> scale</span>s, and <span>theme</span>s for\n",
    "<span>ggplot</span>. These include a theme based on Tufte’s <span>*The\n",
    "Visual Display of Quantitative Information*</span> (see the readings\n",
    "section at the end of this Chapter). First install the package:"
   ]
  },
  {
   "cell_type": "code",
   "execution_count": null,
   "metadata": {},
   "outputs": [],
   "source": [
    "> install.packages(\"ggthemes\")"
   ]
  },
  {
   "cell_type": "markdown",
   "metadata": {},
   "source": [
    "Then try:"
   ]
  },
  {
   "cell_type": "code",
   "execution_count": null,
   "metadata": {},
   "outputs": [],
   "source": [
    "> library(ggthemes)\n",
    "\n",
    "p <- ggplot(MyDF, aes(x = log(Predator.mass), y = log(Prey.mass),\n",
    "                colour = Type.of.feeding.interaction )) +\n",
    "                geom_point(size=I(2), shape=I(10)) + theme_bw()\n",
    "\n",
    "> p + geom_rangeframe() + # now fine tune the geom to Tufte's range frame\n",
    "        theme_tufte() # and theme to Tufte's minimal ink theme    "
   ]
  },
  {
   "cell_type": "markdown",
   "metadata": {},
   "source": [
    "Go to <https://github.com/jrnold/ggthemes> for more information and a\n",
    "list of <span>geom</span>s, <span>theme</span>s, and\n",
    "<span>scale</span>s.\n",
    "\n",
    "Both <span>library()</span> and <span>require()</span> are\n",
    "commands/functions to load packages. The difference is that\n",
    "<span>require()</span> is designed for use inside other functions, so it\n",
    "returns <span>FALSE</span> and gives a warning, whereas\n",
    "<span>library()</span> returns an error by default if the package does\n",
    "not exist.\n",
    "\n",
    "Practicals {#sec:PPPrac2}\n",
    "----------\n",
    "\n",
    "In this practical, you will write script that draws and saves a pdf file\n",
    "of Fig. \\[PPRegress\\], and writes the accompanying regression results to\n",
    "a formatted table in csv. Note that the plots show that the analysis\n",
    "must be subsetted by the <span> Predator.lifestage</span> field of the\n",
    "dataset. The guidelines are:\n",
    "\n",
    "Write a <span>R</span> script file called <span>PP\\_Regress.R</span> and\n",
    "save it in the <span>Code</span> directory — sourcing or running this\n",
    "script should result in one pdf file containing the following figure\n",
    "being saved in the <span>Results</span> directory: (Hint: Use the\n",
    "<span>print()</span> command to write to the pdf)\n",
    "\n",
    "![Write a script that generates this figure<span\n",
    "data-label=\"PPRegress\"></span>](Figure1.pdf)\n",
    "\n",
    "In addition, the script should calculate the regression results\n",
    "corresponding to the lines fitted in the figure and save it to a csv\n",
    "delimited table called (<span>PP\\_Regress\\_Results.csv</span>), in the\n",
    "<span> Results</span> directory. (Hint: you will have to initialize a\n",
    "new dataframe in the script to first store the calculations and then\n",
    "<span> write.csv()</span> or <span>write.table()</span> it.)\\\n",
    "All that you are being asked for here is results of an analysis of\n",
    "Linear regression on subsets of the data corresponding to available\n",
    "Feeding Type $\\times$ Predator life Stage combination — not a\n",
    "multivariate linear model with these two as separate covariates!\n",
    "\n",
    "The regression results should include the following with appropriate\n",
    "headers (e.g., slope, intercept, etc, in each Feeding type $\\times$ life\n",
    "stage category): regression slope, regression intercept, R$^2$,\n",
    "F-statistic value, and p-value of the overall regression (Hint: Review\n",
    "the Stats week!).\n",
    "\n",
    "The script should be self-sufficient and not need any external inputs —\n",
    "it should import the above predator-prey dataset from the appropriate\n",
    "directory, and save the graphic plots to the appropriate directory\n",
    "(Hint: use relative paths). I should be able to <span>source</span> it\n",
    "without errors.\n",
    "\n",
    "You can also use the <span>dplyr</span> function instead of looping (se\n",
    "Chapter \\[chap:R\\_II\\]), and the <span>ggplot</span> command instead of\n",
    "<span>qplot</span>.\n",
    "\n",
    "<span>**Extra Credit**</span>: Do the same as above, but the analysis\n",
    "this time should be separate by the dataset’s <span>Location</span>\n",
    "field. Call it <span>PP\\_Regress\\_loc.R</span>. No need to generate\n",
    "plots for this (just the analysis results to a <span>.csv</span> file),\n",
    "as a combination of <span>Type.of.feeding.interaction</span>,\n",
    "<span>Predator.lifestage</span>, and <span> Location</span> will be far\n",
    "to busy (faceting by three variables is one step too far)!\n",
    "\n",
    "Data wrangling and exploration\n",
    "------------------------------\n",
    "\n",
    "You are likely to spend far more time than you think dredging through\n",
    "your data manually, checking it, editing it, and reformatting it to make\n",
    "it useful for the actual data exploration and statistical analysis. For\n",
    "example, you may need to:\n",
    "\n",
    "Identify the variables vs observations within the data — somebody else\n",
    "might have recorded the data, or you might have collected the data some\n",
    "time back!\n",
    "\n",
    "Fill in zeros (true measured/observed absences)\n",
    "\n",
    "Identify and add a value (e.g., <span>-999999</span>) to denote missing\n",
    "observations\n",
    "\n",
    "Derive or calculate new variables from the raw observations (e.g.,\n",
    "convert measurements to SI units; kilograms, meters, seconds, etc.)\n",
    "\n",
    "Reshape/reformat your data into a layout that works best for analysis\n",
    "(e.g., for <span>R</span> itself) — e.g., from wide to long data format\n",
    "for repeated (across sites, plots, plates, chambers, etc) measures data\n",
    "\n",
    "Merge multiple datasets together into a single data sheet\n",
    "\n",
    "And this is far from an exhaustive list. Doing so many different things\n",
    "to your raw data is both time-consuming and risky. Why risky? Because to\n",
    "err is very human, and every new, tired mouse-click and/or keyboard-stab\n",
    "has a high probability of being incorrect!\n",
    "\n",
    "![An illustration of a (metaphorical) datum being wrangled into\n",
    "submission.](Wrangling2.jpg){width=\".6\\textwidth\"}\n",
    "\n",
    "### Some data wrangling principles\n",
    "\n",
    "So you would like to a record of the data wrangling process (so that it\n",
    "is repeatable and even reversible), and automate it to the extent\n",
    "possible. To this end, here are some guidelines:\n",
    "\n",
    "-   Store data in universally-readable, nonproprietary software formats\n",
    "    (e.g., <span>.csv</span>)\n",
    "\n",
    "-   Use plain ASCII text for your file names, variable/field/column\n",
    "    names, and data values — make sure the “text encoding” is correct\n",
    "    and standard (e.g., <span>UTF-8</span>)\n",
    "\n",
    "-   Keep a metadata file for each unique dataset (agian, in\n",
    "    non-proprietary format)\n",
    "\n",
    "-   Don’t (over-)modify your raw data by hand — use scripts instead —\n",
    "    keep a copy of the data as they were recorded.\n",
    "\n",
    "-   Use meaningful names for your data and files and field (column)\n",
    "    names\n",
    "\n",
    "-   When you add data, try not to add columns (widening the format);\n",
    "    rather, design your tables/datasheets so that you add only rows\n",
    "    (lengthening the format) — and convert “wide format data” to “long\n",
    "    format data” using scripts, not by hand!\n",
    "\n",
    "-   All cells within a data column should contain only one type of\n",
    "    information (i.e., either text (character), numeric, etc.).\n",
    "\n",
    "-   Ultimately, consider creating a relational database for your data\n",
    "    (see the last section of this Chapter).\n",
    "\n",
    "This is not an exhaustive list either — see the Borer et al (2009) paper\n",
    "in your readings list.\n",
    "\n",
    "We will use the Pound Hill dataset collected by students in a past\n",
    "Silwood Field Course week for understanding/illustrating some of these\n",
    "principles.\n",
    "\n",
    "To start with, we need to import the <span>raw</span> data file.\n",
    "\n",
    "\\[$\\quad\\star$\\]\n",
    "\n",
    "Go to the bitbucket repository and navigate to the <span>Data</span>\n",
    "directory.\n",
    "\n",
    "Copy the file <span>PoundHillData.csv</span> and <span>\n",
    "PoundHillMetaData.csv</span> files into your own R module’s <span>\n",
    "Data</span> directory.\n",
    "\n",
    "Now load the data in R:"
   ]
  },
  {
   "cell_type": "code",
   "execution_count": null,
   "metadata": {},
   "outputs": [],
   "source": [
    "> MyData <- as.matrix(read.csv(\"../Data/PoundHillData.csv\",header = F, \n",
    "stringsAsFactors = F))\n",
    "> MyMetaData <- read.csv(\"../Data/PoundHillMetaData.csv\",header = T, \n",
    "sep=\";\", stringsAsFactors = F)"
   ]
  },
  {
   "cell_type": "markdown",
   "metadata": {},
   "source": [
    "Note that:\n",
    "\n",
    "Loading the data <span>as.matrix()</span>, and setting The\n",
    "<span>header</span> and <span>stringsAsFactors</span> guarantees that\n",
    "the data are imported “as is” so that you can wrangle them. Otherwise\n",
    "<span>read.csv</span> will convert the first row to column headers,\n",
    "convert everything to factors, etc. Note that all the data will be\n",
    "converted to character class in matrix here because at least some of the\n",
    "entries are already character class.\n",
    "\n",
    "For the metadata loading, the <span>header</span> is set to true because\n",
    "we do have metadata headers (<span>FieldName</span> and\n",
    "<span>Description</span>), and I have used semicolon (<span>;</span>) as\n",
    "delimiter because there are commas in one of the field descriptions.\n",
    "\n",
    "I have avoided spaces in the columns headers (so “FieldName” instead of\n",
    "“Field Name”) — please avoid spaces in field or column names as much a\n",
    "possible as R will replace each space in a column header with a dot,\n",
    "which may be confusing.\n",
    "\n",
    "In <span>R</span>, you can use <span>F</span> and <span>T</span> for\n",
    "boolean <span>FALSE</span> and <span>TRUE</span> respectively. Try:"
   ]
  },
  {
   "cell_type": "code",
   "execution_count": null,
   "metadata": {},
   "outputs": [],
   "source": [
    "> a <- T\n",
    "> a\n",
    "[1] TRUE"
   ]
  },
  {
   "cell_type": "markdown",
   "metadata": {},
   "source": [
    "We won’t do anything with the metadata file in this session except\n",
    "inspect the information it contains.\n",
    "\n",
    "#### Keep a metadata file for each unique dataset\n",
    "\n",
    "Data wrangling really begins immediately after data collection. You may\n",
    "collect data of different kinds (e.g., diversity, biomass, tree girth),\n",
    "etc. Keep the original spreadsheet well documented using a “metadata”\n",
    "file that describes the data (you would hopefully have written the first\n",
    "version of this even before you started collecting the data!). The\n",
    "minimum information needed to make a metadata file useful is a\n",
    "description of each of the <span>*fields*</span> — the column or row\n",
    "headers under which the information is stored in your data/spreadsheet.\n",
    "Here is the metadata file for the Pound Hill dataset:\n",
    "\n",
    "  <span>**Field/Column Name**</span>   <span>**Description**</span>\n",
    "  ------------------------------------ ---------------------------------------------------------------------\n",
    "  Cultivation                          Cultivation treatments applied in three months: october, may, march\n",
    "  Block                                Treatment blocks ids: a–d\n",
    "  Plot                                 Plot ids under each treatment : 1–12\n",
    "  Quadrat                              Sampling quadrats (25$\\times$50 cm each) per plot: Q1–Q6\n",
    "  Species data                         Number of individuals (count) per quadrat\n",
    "\n",
    "Ideally, you would also like to add more information about the data,\n",
    "such as the measurement units of each type of observation. Here, there\n",
    "is just one type of observation: Number of individuals of species per\n",
    "sample (plot), which is a count (integer, or <span>int</span> class).\n",
    "\n",
    "#### Don’t (over-)modify your raw data by hand\n",
    "\n",
    "When the dataset is large (e.g., 1000’s of rows), cleaning and exploring\n",
    "it can get tricky, and you are very likely to make many mistakes. You\n",
    "should record all the steps you used to process it with an R script\n",
    "rather than risking a manual and basically irreproducible processing.\n",
    "Most importantly <span>*avoid or minimize editing your raw data\n",
    "file*</span>. Let’s see how we can modify the data using <span>R</span>.\n",
    "In fact, we should now start to keep a record of what we are doing to\n",
    "the data. This is illustrated in a code data file available on the\n",
    "bitbucket repository.\n",
    "\n",
    "Sometimes you may run into (unexpected) bugs when importing and running\n",
    "scripts in <span>R</span> because your file has a no-standard text\n",
    "encoding. You may need to specify the encoding in that case, using the\n",
    "<span>encoding</span> argument of <span>read.csv()</span> and <span>\n",
    "read.table()</span>. You can check the encoding of a file by using\n",
    "<span>find</span> in Linux/Mac. Try:"
   ]
  },
  {
   "cell_type": "code",
   "execution_count": null,
   "metadata": {},
   "outputs": [],
   "source": [
    "$ file -i ../Data/PoundHillData.csv"
   ]
  },
  {
   "cell_type": "markdown",
   "metadata": {},
   "source": [
    "or, check encoding of all files in the <span>Data</span> directory:"
   ]
  },
  {
   "cell_type": "code",
   "execution_count": null,
   "metadata": {},
   "outputs": [],
   "source": [
    "$ file -i ../Data/*.csv     "
   ]
  },
  {
   "cell_type": "markdown",
   "metadata": {},
   "source": [
    "use <span>file -I</span> instead of <span>file -i</span> in a Mac\n",
    "terminal\n",
    "\n",
    "\\[$\\quad\\star$\\]\n",
    "\n",
    "Go to the bitbucket repository and navigate to the <span>Code</span>\n",
    "directory.\n",
    "\n",
    "Copy the script <span>DataWrang.R</span> into your own R module’s <span>\n",
    "Code</span> directory and open it.\n",
    "\n",
    "Go through the script carefully line by line, and make sure you\n",
    "understand what’s going on. Read the comments — add to them if you want.\n",
    "One of the examples of data modification that you must avoind doing by\n",
    "hand, is illustrated in the script: filling in zeros.\n",
    "\n",
    "#### Convert wide format data to long format using scripts\n",
    "\n",
    "You typically record data in the field or experiments using a “wide”\n",
    "format, where a subject’s (e.g., habitat, plot, treatment, species etc)\n",
    "repeated responses or observations (e.g., species count, biomass, etc)\n",
    "will be in a single row, and each response in a separate column. The raw\n",
    "Pound Hill data were recorded in precisely this way. However, the wide\n",
    "format is not ideal for data analysis — instead you need the data in a\n",
    "“long” format, where each row is one observation point per subject. So\n",
    "each subject will have data in multiple rows. Any\n",
    "measures/variables/observations that don’t change across the subjects\n",
    "will have the same value in all the rows.\n",
    "\n",
    "For humans, the wide format is generally more intuitive for viewing and\n",
    "recording (e.g., in field data sheets) since one can actually view more\n",
    "of the data visually. However, the long format is more machine-readable\n",
    "and is closer to the formatting of databases.\n",
    "\n",
    "You can switch between wide and formats using <span>melt()</span> and\n",
    "<span> dcast()</span> from the <span>reshape2</span> package, as\n",
    "illustrated in <span>DataWrang.R</span>.\n",
    "\n",
    "### And then came <span>dplyr</span> and <span>tidyr</span>\n",
    "\n",
    "So if you think this is the end of the options you have for data\n",
    "wrangling in R, think again. There are new kids on the block:\n",
    "<span>dplyr</span> — the next iteration of <span>plyr</span> that\n",
    "addresses the speed issues in the latter, and <span>tidyr</span>,\n",
    "essentially a nicer wrapper to the <span> reshape2</span> package with\n",
    "additional functions.\n",
    "\n",
    "You will have to install these packages using <span>sudo apt get\n",
    "install</span> in Linux or <span>install.packages()</span> across all\n",
    "platforms (see Chapter \\[chap:RI\\]).\n",
    "\n",
    "Together, these two packages have many many useful functions. Let’s have\n",
    "a quick look at <span>dplyr</span>:"
   ]
  },
  {
   "cell_type": "code",
   "execution_count": null,
   "metadata": {},
   "outputs": [],
   "source": [
    "require(dplyr)\n",
    "attach(iris)\n",
    "dplyr::tbl_df(iris) #like head(), but nicer!\n",
    "dplyr::glimpse(iris) #like str(), but nicer!\n",
    "utils::View(iris) #same as fix()!\n",
    "dplyr::filter(iris, Sepal.Length > 7) #like subset(), but nicer!\n",
    "dplyr::slice(iris, 10:15) # something new!"
   ]
  },
  {
   "cell_type": "markdown",
   "metadata": {},
   "source": [
    "Note that the double colon (<span>::</span>) notation of\n",
    "<span>dplyr</span> and <span> tidyr</span> is like the dot notation in\n",
    "<span>python</span> — it allows you to access a particular function from\n",
    "these packages. So, for instance, if you want to use\n",
    "<span>tbl\\_df()</span> from <span>dplyr</span>, the command syntax would\n",
    "be <span>dplyr::tbl\\_df(MyData)</span>. This new syntax is basically to\n",
    "avoid conflict in names of functions in by these new packages with the\n",
    "function names that already exist in the base R packages. For example,\n",
    "the <span>dplyr</span> function <span>filter</span> already exists in\n",
    "the base R package <span>stats</span>. Thus, when you first load\n",
    "<span>dplyr</span>:"
   ]
  },
  {
   "cell_type": "code",
   "execution_count": null,
   "metadata": {},
   "outputs": [],
   "source": [
    "> library(dplyr)"
   ]
  },
  {
   "cell_type": "markdown",
   "metadata": {},
   "source": [
    "you get:"
   ]
  },
  {
   "cell_type": "code",
   "execution_count": null,
   "metadata": {},
   "outputs": [],
   "source": [
    "Attaching package: 'dplyr'\n",
    "\n",
    "The following objects are masked from 'package:stats':\n",
    "\n",
    "    filter, lag\n",
    "\n",
    "The following objects are masked from 'package:base':\n",
    "\n",
    "    intersect, setdiff, setequal, union"
   ]
  },
  {
   "cell_type": "markdown",
   "metadata": {},
   "source": [
    "Learning to use <span>ddply</span> and <span>tidyr</span> involves\n",
    "learning some new syntax and a lot of new commands, but if you plan to\n",
    "do a lot of data wrangling, you may want to get to know them well. Have\n",
    "a look at <https://blog.rstudio.org/2014/01/17/introducing-dplyr> and\n",
    "this cheatsheet:\n",
    "<https://www.rstudio.com/wp-content/uploads/2015/02/data-wrangling-cheatsheet.pdf>,\n",
    "also available in the Readings directory under\n",
    "<span>DataDataData!</span> in the course bitbucket repository.\n",
    "\n",
    "### On to data exploration\n",
    "\n",
    "Once you have wrangled the Pound Hill data to its long format, you are\n",
    "ready to go! You may want to start by examining the basic properties of\n",
    "the data, such as the number of tree species (41) in the dataset, number\n",
    "of quadrats (replicates) per plot and cultivation treatment, etc.\n",
    "\n",
    "The first plot you can try is a histogram of abundances of species,\n",
    "grouped by different factors. For example, you can look at distributions\n",
    "of species’ abundances grouped by <span>Cultivation</span>).\n",
    "\n",
    "Practicals {#practicals-1}\n",
    "----------\n",
    "\n",
    "<span>**(Extra Credit)**</span> We used <span>reshape2</span> in\n",
    "<span>DataWrang.R</span> for wrangling that dataset. Write a new script\n",
    "called <span>DataWrangTidy.R</span> that uses <span>dplyr</span> and\n",
    "<span>tidyr</span> for the same data wrangling steps. The best way to do\n",
    "this is to <span>cp</span> <span>DataWrang.R</span> and rename it\n",
    "<span>DataWrangTidy.R</span>. Then systematically redo the script from\n",
    "start to end, looking for a function in <span>dplyr</span> and <span>\n",
    "tidyr</span> that does the same thing in each wrangling step.\n",
    "\n",
    "For example, to convert from wide to long format, instead of using\n",
    "<span> melt()</span> (or <span>dcast()</span>) from the\n",
    "<span>reshape2</span> package, you can use <span>gather()</span> from\n",
    "<span>tidyr</span>.\n",
    "\n",
    "Don’t forget the cheatsheet:\n",
    "<https://www.rstudio.com/wp-content/uploads/2015/02/data-wrangling-cheatsheet.pdf>\n",
    "(also available in the Readings directory under\n",
    "<span>DataDataData!</span> in the course bitbucket repository).\n",
    "\n",
    "Handling Big Data in R\n",
    "----------------------\n",
    "\n",
    "The buzzword ‘Big Data’ basically refers to datasets that have the\n",
    "following properties:\n",
    "\n",
    "1.  A dataset that does not fit into available RAM on one system\n",
    "    (say, &gt; 2 gigabytes).\n",
    "\n",
    "2.  A dataset that has so many rows (when in it’s long format — see\n",
    "    above sections) that it significantly slows down your analysis or\n",
    "    simulation without vectorization (that is, when looping).\n",
    "\n",
    "Both these criteria are programming language- and computer\n",
    "hardware-dependent, of course. For example, a 32-bit OS can only handle\n",
    "$\\textasciitilde$2 GB of RAM, so your computer screams “Big Data!”\n",
    "(slows down/hangs) every time you try to handle a dataset in that range.\n",
    "\n",
    "R reads data into RAM all at once when you using the\n",
    "<span>read.table</span> (or its wrapper, <span>read.csv()</span> — maybe\n",
    "you have realized by now that <span>read.csv()</span> is basically\n",
    "calling <span>read.table()</span> with a particular set of options. That\n",
    "is, objects in R live in memory entirely, and big-ish data in RAM will\n",
    "cause R to choke. Python has similar problems, but you can circumvent\n",
    "these to an extent by using <span>numpy</span> arrays (Chapter\n",
    "\\[chap:pythonII\\]).\n",
    "\n",
    "There are a few options (which you can combine, of course) if you are\n",
    "actually using datasets that are so large:\n",
    "\n",
    "-   Import large files smartly; e.g., using <span>scan()</span> in R,\n",
    "    and then create subsets of the data that you need. Also, use the\n",
    "    <span> reshape</span> or <span>tidyr</span> package to covert your\n",
    "    data in the most “square” (so neither too long or too wide) format\n",
    "    as possible. Of course, you will need subsets of data in long format\n",
    "    for analysis (see sections above).\n",
    "\n",
    "-   use the <span>bigmemory</span> package to load data in the gb range\n",
    "    (e.g., use <span>read.big.matrix()</span> instead of\n",
    "    <span>read.table()</span>. This package also has other useful\n",
    "    functions, such as <span>foreach()</span> instead of\n",
    "    <span>for()</span> for better memory management.\n",
    "\n",
    "-   Use a 64 bit version of R with enough memory and preferably on\n",
    "    Linux!\n",
    "\n",
    "-   Vectorize your analyses/simulations to the extent possible (Chapters\n",
    "    \\[chap:pythonII\\], \\[chap:R\\_II\\]).\n",
    "\n",
    "-   Use databases.\n",
    "\n",
    "-   use distributed computing (distribute the analysis/simulation across\n",
    "    multiple CPU’s).\n",
    "\n",
    "The next subsection superficially covers databases. We will cover memory\n",
    "management in the advanced Python, HPC and C weeks.\n",
    "\n",
    "### Databases and R\n",
    "\n",
    "R can be used to link to and extract data from online databases such as\n",
    "PubMed and GenBank, or to manipulate and access your own. Computational\n",
    "Biology datasets are often quite large, and it makes sense to access\n",
    "their data by querying the databases instead of manually downloading\n",
    "them. So also, your own data may be complex and large, in which case you\n",
    "may want to organize and manage those data in a proper relational\n",
    "database.\n",
    "\n",
    "Practically all the data wrangling principles in the previous sections\n",
    "are a part and parcel of relational databases.\n",
    "\n",
    "There are many R packages that provide an interface to databases\n",
    "(SQLite, MySQL, Oracle, etc). Check out R packages <span>DBI</span>\n",
    "(<http://cran.r-project.org/web/packages/DBI/index.html>) and <span>\n",
    "RMySQL</span>\n",
    "(<https://cran.r-project.org/web/packages/RMySQL/index.html>.\n",
    "\n",
    "And just like python (see Chapter \\[chap:pythonII\\]), R can also be used\n",
    "to access, update and manage databases. In particular\n",
    "<span>SQLite</span> allows you to build, manipulate, and access\n",
    "databases easily. Try this script (available in the <span>Code</span>\n",
    "directory of the master repo): This assumes that you are already\n",
    "familiar with the databases section of Chapter \\[chap:pythonII\\].\n",
    "\n",
    "Practicals wrap-up\n",
    "------------------\n",
    "\n",
    "1.  Review and make sure you can run all the commands, code fragments,\n",
    "    and named scripts we have built till now and get the\n",
    "    expected outputs.\n",
    "\n",
    "2.  Annotate/comment your code lines as much and as often as necessary\n",
    "    using \\#.\n",
    "\n",
    "3.  Keep all code, data and results files organized in you R module\n",
    "    directory\n",
    "\n",
    "*<span>git add</span>, <span>commit</span> and <span>push</span> all\n",
    "your code and data from this chapter to your git repository.*\n",
    "\n",
    "Readings\n",
    "--------\n",
    "\n",
    "Check out <span>DataDataData!</span>, <span>Visualization</span> and\n",
    "<span>R</span> under <span>Readings</span> on the bitbucket master\n",
    "repository\n",
    "\n",
    "-   Brian McGill’s “Ten commandments for good data management”;\n",
    "    <https://dynamicecology.wordpress.com/2016/08/22/ten-commandments-for-good-data-management/>\n",
    "\n",
    "-   This paper covers similar ground (look in your readings directory):\n",
    "    Borer, E. T., Seabloom, E. W., Jones, M. B., & Schildhauer, M.\n",
    "    (2009). Some Simple Guidelines for Effective Data Management.\n",
    "    Bulletin of the Ecological Society of America, 90(2), 205–214.\n",
    "\n",
    "-   wrangler: <http://vis.stanford.edu/papers/wrangler>\n",
    "\n",
    "-   An interactive framework for data cleaning:\n",
    "    <https://www2.eecs.berkeley.edu/Pubs/TechRpts/2000/CSD-00-1110.pdf>\n",
    "\n",
    "-   <http://www.theanalysisfactor.com/wide-and-long-data/>\n",
    "\n",
    "-   Rolandi et al. “A Brief Guide to Designing Effective Figures for the\n",
    "    Scientific Paper”, doi:10.1002/adma.201102518\n",
    "\n",
    "-   The classic Tufte\n",
    "    [www.edwardtufte.com/tufte/books\\_vdqi](www.edwardtufte.com/tufte/books_vdqi)"
   ]
  },
  {
   "cell_type": "code",
   "execution_count": null,
   "metadata": {},
   "outputs": [],
   "source": [
    "Available in the Central Library, I have also added extracts and a\n",
    "related book in pdf on the master repository\n",
    "\n",
    "(btw, check out what Tufte thinks of PowerPoint;\n",
    "[ https://www.edwardtufte.com/tufte/powerpoint]( https://www.edwardtufte.com/tufte/powerpoint))\\"
   ]
  },
  {
   "cell_type": "markdown",
   "metadata": {},
   "source": [
    "-   Lauren <span>et al.</span> “Graphs, Tables, and Figures in\n",
    "    Scientific Publications: The Good, the Bad, and How Not to Be the\n",
    "    Latter”, doi:10.1016/j.jhsa.2011.12.041\n",
    "\n",
    "-   Effective scientific illustrations:\n",
    "    [www.labtimes.org/labtimes/issues/lt2008/lt05/lt\\_2008\\_05\\_52\\_53.pdf](www.labtimes.org/labtimes/issues/lt2008/lt05/lt_2008_05_52_53.pdf)\n",
    "\n",
    "-   <https://web.archive.org/web/20120310121708/http://addictedtor.free.fr/graphiques/thumbs.php>"
   ]
  }
 ],
 "metadata": {},
 "nbformat": 4,
 "nbformat_minor": 2
}
