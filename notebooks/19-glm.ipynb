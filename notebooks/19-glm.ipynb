{
 "cells": [
  {
   "cell_type": "markdown",
   "metadata": {},
   "source": [
    "<!--NAVIGATION-->\n",
    "< [Model Simplification](18-ModelSimp.ipynb) | [Main Contents](Index.ipynb)"
   ]
  },
  {
   "cell_type": "markdown",
   "metadata": {},
   "source": [
    "# Generalised Linear Models <span class=\"tocSkip\">"
   ]
  },
  {
   "cell_type": "markdown",
   "metadata": {
    "toc": true
   },
   "source": [
    "<h1>Contents<span class=\"tocSkip\"></span></h1>\n",
    "<div class=\"toc\"><ul class=\"toc-item\"><li><span><a href=\"#Introduction\" data-toc-modified-id=\"Introduction-1\"><span class=\"toc-item-num\">1&nbsp;&nbsp;</span>Introduction</a></span><ul class=\"toc-item\"><li><span><a href=\"#Chapter-Aims\" data-toc-modified-id=\"Chapter-Aims-1.1\"><span class=\"toc-item-num\">1.1&nbsp;&nbsp;</span>Chapter Aims</a></span></li><li><span><a href=\"#What-is-a-GLM?\" data-toc-modified-id=\"What-is-a-GLM?-1.2\"><span class=\"toc-item-num\">1.2&nbsp;&nbsp;</span>What is a GLM?</a></span></li></ul></li><li><span><a href=\"#The-data\" data-toc-modified-id=\"The-data-2\"><span class=\"toc-item-num\">2&nbsp;&nbsp;</span>The data</a></span><ul class=\"toc-item\"><li><span><a href=\"#Plotting-the-data\" data-toc-modified-id=\"Plotting-the-data-2.1\"><span class=\"toc-item-num\">2.1&nbsp;&nbsp;</span>Plotting the data</a></span></li><li><span><a href=\"#Looking-at-strains-too\" data-toc-modified-id=\"Looking-at-strains-too-2.2\"><span class=\"toc-item-num\">2.2&nbsp;&nbsp;</span>Looking at strains too</a></span></li><li><span><a href=\"#A-linear-model\" data-toc-modified-id=\"A-linear-model-2.3\"><span class=\"toc-item-num\">2.3&nbsp;&nbsp;</span>A linear model</a></span></li><li><span><a href=\"#Generalised-linear-models\" data-toc-modified-id=\"Generalised-linear-models-2.4\"><span class=\"toc-item-num\">2.4&nbsp;&nbsp;</span>Generalised linear models</a></span></li><li><span><a href=\"#Overdispersion\" data-toc-modified-id=\"Overdispersion-2.5\"><span class=\"toc-item-num\">2.5&nbsp;&nbsp;</span>Overdispersion</a></span></li><li><span><a href=\"#Generalised-linear-models-using-quasipoisson\" data-toc-modified-id=\"Generalised-linear-models-using-quasipoisson-2.6\"><span class=\"toc-item-num\">2.6&nbsp;&nbsp;</span>Generalised linear models using quasipoisson</a></span></li><li><span><a href=\"#Model-predictions\" data-toc-modified-id=\"Model-predictions-2.7\"><span class=\"toc-item-num\">2.7&nbsp;&nbsp;</span>Model predictions</a></span></li><li><span><a href=\"#Reporting-the-model\" data-toc-modified-id=\"Reporting-the-model-2.8\"><span class=\"toc-item-num\">2.8&nbsp;&nbsp;</span>Reporting the model</a></span></li><li><span><a href=\"#Halos-and-lawns\" data-toc-modified-id=\"Halos-and-lawns-2.9\"><span class=\"toc-item-num\">2.9&nbsp;&nbsp;</span>Halos and lawns</a></span></li></ul></li></ul></div>"
   ]
  },
  {
   "cell_type": "markdown",
   "metadata": {},
   "source": [
    "# Introduction \n",
    "\n",
    "## Chapter Aims\n",
    "\n",
    "Aims of this chapter[$^{[1]}$](#fn1):\n",
    "\n",
    "Use generalised linear models (GLMs) to handle count data.\n",
    "\n",
    "Analyse some genetics practical data.\n",
    "\n",
    "This chapter will step through the analysis carefully. These are not\n",
    "simple analyses so you should concentrate on understanding the process\n",
    "and the biology and think about how to present your results.\n",
    "\n",
    "## What is a GLM?\n",
    "\n",
    "the generalized linear model (GLM) is a generalization of ordinary\n",
    "linear regression analyses to accommodate response variables to have\n",
    "non-normal error distributions (e.g., count data, as in the genetics\n",
    "practical data — see below).\n",
    "\n",
    "# The data\n",
    "\n",
    "We will use mutation data collected by a previous year’s batch in the\n",
    "Genetics Practical. So let’s actually use some of the skills you’ve\n",
    "learned to do some statistical modelling on data you might collect. That\n",
    "is, you can aim to repeat these analyses with similar data you collect.\n",
    "\n",
    "The students were basically counting colonies looking for mutations.\n",
    "There were a number of bacterial strains which were different mutants of *Salmonella*. Each group applied a mutagen Nitroguanisine\n",
    "(NG) as well as histidine and streptomycine. A control plate was also\n",
    "tested.\n",
    "\n",
    "The data file in CSV format is available from the bitbucket site, as\n",
    "usual in the `Data` directory. It is called `PracData.csv`.\n",
    "\n",
    "$\\star$ Save the `PracData.csv` dataset into your `Data` directory.\n",
    "\n",
    "Create a new script called MyGLM in your `Code` directory.\n",
    "Use the code below to load and check your data.\n",
    "\n",
    "Start R and change the working directory to `Code`."
   ]
  },
  {
   "cell_type": "code",
   "execution_count": null,
   "metadata": {},
   "outputs": [],
   "source": [
    "> colonies <- read.csv(\"../Data/PracData.csv\")\n",
    "> str(colonies)\n",
    "\n",
    " 'data.frame':  680 obs. of  5 variables:\n",
    " $Student.ID : Factor w/ 34 levels \"A1\",\"A10\",\"A11\",..: 1 1 1 2 2 2 4 4 4 4 ...\n",
    " $Strain     : Factor w/ 5 levels \"421\",\"712\",\"881\",..: 4 3 5 1 2 3 4 2 3 5 ...\n",
    " $Treatment  : Factor w/ 4 levels \"Control\",\"His\",..: 1 1 1 3 3 1 1 3 3 1 ...\n",
    " $ColonyCount: int  0 0 0 0 0 0 0 0 0 0 ...\n",
    " $HaloLawn   : Factor w/ 2 levels \"N\",\"Y\": NA NA NA NA NA NA NA NA NA NA ..."
   ]
  },
  {
   "cell_type": "markdown",
   "metadata": {},
   "source": [
    "Now that we’ve got the data loaded, we need to look at it and try and\n",
    "see what is going on.\n",
    "\n",
    "## Plotting the data\n",
    "\n",
    "We have a continuous response variable (`ColonyCount`) and\n",
    "two categorical explanatory variables (`Strain` and\n",
    "`Treatment`). We also have observations of halos and\n",
    "bacterial lawns around the treated areas (`HaloLawn`), which\n",
    "we will come back to at the end of this chapter.\n",
    "\n",
    "So, with two factors as the explanatory variables, we will use box and\n",
    "whisker plots and boxplots to explore the data. First, we’ll look at the\n",
    "effects of the four treatments."
   ]
  },
  {
   "cell_type": "code",
   "execution_count": null,
   "metadata": {},
   "outputs": [],
   "source": [
    "> boxplot(ColonyCount ~ Treatment, data=colonies)"
   ]
  },
  {
   "cell_type": "markdown",
   "metadata": {},
   "source": [
    "<a id=\"fig:Bxp\"></a>\n",
    "<figure>\n",
    "    <img src=\"./graphics/Bxp.svg\" alt=\"Bxp\" style=\"width:60%\">\n",
    "    <small> \n",
    "        <center>\n",
    "            <figcaption> \n",
    "           Figure 1\n",
    "            </figcaption>\n",
    "        </center>\n",
    "    </small>\n",
    "</figure>\n",
    "\n",
    "There are two immediate things to note.\n",
    "\n",
    "1.  The distributions of colony counts are very *skewed* — many small counts and a few large counts. We’ve already seen that\n",
    "    taking a log of data sometimes works in these cases. However, as the\n",
    "    tables above show, we have zero counts for all treatments and\n",
    "    $\\log(0)$ is undefined. A common trick is therefore to use\n",
    "    $\\log(n+1)$ (add 1 and take a log) when dealing with count data like\n",
    "    this:"
   ]
  },
  {
   "cell_type": "code",
   "execution_count": null,
   "metadata": {},
   "outputs": [],
   "source": [
    "> colonies$logCC <- log(colonies$ColonyCount + 1)\n",
    "> boxplot(logCC ~ Treatment, data=colonies)"
   ]
  },
  {
   "cell_type": "markdown",
   "metadata": {},
   "source": [
    "<a id=\"fig:logBxp\"></a>\n",
    "<figure>\n",
    "    <img src=\"./graphics/logBxp.svg\" alt=\"logBxp\" style=\"width:60%\">\n",
    "    <small> \n",
    "        <center>\n",
    "            <figcaption> \n",
    "           Figure 2\n",
    "            </figcaption>\n",
    "        </center>\n",
    "    </small>\n",
    "</figure>"
   ]
  },
  {
   "cell_type": "markdown",
   "metadata": {},
   "source": [
    "I hope you’ll agree that this still doesn’t look very convincingly\n",
    "like normal data, but we’ll come back to this point.\n",
    "\n",
    "2.  The colony counts are vastly different between the\n",
    "    different treatments. It is hard to say for sure from the two plots,\n",
    "    but it looks like colonies never grow under the histidine and\n",
    "    streptomycine treatments. We can check that:"
   ]
  },
  {
   "cell_type": "code",
   "execution_count": null,
   "metadata": {},
   "outputs": [],
   "source": [
    "> tapply(colonies$ColonyCount, colonies$Treatment, min, na.rm = TRUE)\n",
    "\n",
    " Control     His      NG   Strep \n",
    "       0       0       0       0 \n",
    "\n",
    "> tapply(colonies$ColonyCount, colonies$Treatment, max, na.rm = TRUE)\n",
    "\n",
    " Control     His      NG   Strep \n",
    "    2400       0    2367       0 "
   ]
  },
  {
   "cell_type": "markdown",
   "metadata": {},
   "source": [
    "There is indeed no variation at all in colony count for histidine\n",
    "and streptomycine — colonies never grow in these treatments. We\n",
    "don’t really need statistics for this observation and, in fact,\n",
    "variation is needed for statistics to work. So, for the rest of this\n",
    "analysis, we will reduce the dataset to the control and\n",
    "nitroguanisine treatments.\n",
    "\n",
    "$\\star$ Update your script to contain the code for these plots.\n",
    "\n",
    "We’ll use a new piece of code here to get the right subset. `var %in% c(’a’,’b’,’c’)` finds all entries in `var` whose values are equal to `’a’`, `’b’` or `’c’`."
   ]
  },
  {
   "cell_type": "code",
   "execution_count": null,
   "metadata": {},
   "outputs": [],
   "source": [
    "> coloniesCN <- subset(colonies, Treatment %in% c(\"Control\", \"NG\"), \n",
    "drop = TRUE) \n",
    "> str(coloniesCN)\n",
    "\n",
    " 'data.frame':  340 obs. of  6 variables:\n",
    " $Student.ID : Factor w/ 34 levels \"A1\",\"A10\",\"A11\",..: 1 1 1 2 2 2 4 4 4 4 ...\n",
    " $Strain     : Factor w/ 5 levels \"421\",\"712\",\"881\",..: 4 3 5 1 2 3 4 2 3 5 ...\n",
    " $Treatment  : Factor w/ 4 levels \"Control\",\"His\",..: 1 1 1 3 3 1 1 3 3 1 ...\n",
    " $ColonyCount: int  0 0 0 0 0 0 0 0 0 0 ...\n",
    " $HaloLawn   : Factor w/ 2 levels \"N\",\"Y\": NA NA NA NA NA NA NA NA NA NA ...\n",
    " $logCC      : num  0 0 0 0 0 0 0 0 0 0 ..."
   ]
  },
  {
   "cell_type": "markdown",
   "metadata": {},
   "source": [
    "You’ll see that, although we have removed two treatments, their names\n",
    "still appear in the list of levels in the `str` output. R\n",
    "retains a list of all the levels that were originally in a factor, even\n",
    "when those levels aren’t used any more. This will be annoying later, so\n",
    "we’ll use the `droplevels` function to strip them out."
   ]
  },
  {
   "cell_type": "code",
   "execution_count": null,
   "metadata": {},
   "outputs": [],
   "source": [
    "> coloniesCN <- droplevels(coloniesCN)\n",
    "> str(coloniesCN)\n",
    "\n",
    " 'data.frame':  340 obs. of  6 variables:\n",
    " $Student.ID : Factor w/ 34 levels \"A1\",\"A10\",\"A11\",..: 1 1 1 2 2 2 4 4 4 4 ...\n",
    " $Strain     : Factor w/ 5 levels \"421\",\"712\",\"881\",..: 4 3 5 1 2 3 4 2 3 5 ...\n",
    " $Treatment  : Factor w/ 2 levels \"Control\",\"NG\": 1 1 1 2 2 1 1 2 2 1 ...\n",
    " $ColonyCount: int  0 0 0 0 0 0 0 0 0 0 ...\n",
    " $HaloLawn   : Factor w/ 0 levels: NA NA NA NA NA NA NA NA NA NA ...\n",
    " $logCC      : num  0 0 0 0 0 0 0 0 0 0 ..."
   ]
  },
  {
   "cell_type": "markdown",
   "metadata": {},
   "source": [
    "$\\star$ Add these commands to subset your data to your code file.\n",
    "\n",
    "## Looking at strains too\n",
    "\n",
    "Now we’ll look to see how counts differ between the strains. A simple\n",
    "way to visualise this is to use the `lattice` package again\n",
    "to get plots grouped by treatment."
   ]
  },
  {
   "cell_type": "code",
   "execution_count": null,
   "metadata": {},
   "outputs": [],
   "source": [
    "> library(lattice) \n",
    "> bwplot(logCC ~ Strain | Treatment, data=coloniesCN)"
   ]
  },
  {
   "cell_type": "markdown",
   "metadata": {},
   "source": [
    "<a id=\"fig:GLM_lattice\"></a>\n",
    "<figure>\n",
    "    <img src=\"./graphics/GLM_lattice.svg\" alt=\"GLM_lattice\" style=\"width:80%\">\n",
    "    <small> \n",
    "        <center>\n",
    "            <figcaption> \n",
    "           Figure 3\n",
    "            </figcaption>\n",
    "        </center>\n",
    "    </small>\n",
    "</figure>\n",
    "\n",
    "First impressions from this figure:\n",
    "\n",
    "1.  The strains are doing *very* different things under the\n",
    "    two treatments. Hopefully this now leaps out at you as suggesting\n",
    "    that the two variables (Strain and Treatment) are *interacting*.\n",
    "\n",
    "2.  The distributions are still pretty ugly — the variances differ\n",
    "    hugely between combinations and four combinations have a median\n",
    "    of zero.\n",
    "\n",
    "We could also use a barplot of means here. We’ll use the original data\n",
    "to get the means, but can use a log scale on the $y$ axis (`log=’y’`)."
   ]
  },
  {
   "cell_type": "code",
   "execution_count": null,
   "metadata": {},
   "outputs": [],
   "source": [
    "> tab <- tapply(coloniesCN$ColonyCount, list(coloniesCN$Treatment,\n",
    "coloniesCN$Strain), mean, na.rm=TRUE)\n",
    "> print(tab)\n",
    "\n",
    "            421     712    881     899 TA102\n",
    " Control 538.20 138.867  12.73   0.375 126.7\n",
    " NG       61.29   5.517 292.71 593.000 523.9"
   ]
  },
  {
   "cell_type": "markdown",
   "metadata": {},
   "source": [
    "And then,"
   ]
  },
  {
   "cell_type": "code",
   "execution_count": null,
   "metadata": {},
   "outputs": [],
   "source": [
    "> barplot(tab, beside=TRUE, log= ' y ' )    "
   ]
  },
  {
   "cell_type": "markdown",
   "metadata": {},
   "source": [
    "Which should give,\n",
    "<a id=\"fig:GLM_barplot\"></a>\n",
    "<figure>\n",
    "    <img src=\"./graphics/GLM_barplot.svg\" alt=\"GLM_barplot\" style=\"width:60%\">\n",
    "    <small> \n",
    "        <center>\n",
    "            <figcaption> \n",
    "           Figure 4\n",
    "            </figcaption>\n",
    "        </center>\n",
    "    </small>\n",
    "</figure>\n",
    "\n",
    "\n",
    "Lets have a look at a first model.\n",
    "\n",
    "## A linear model\n",
    "\n",
    "We’ll fit a model of colony count as the interaction between strain and\n",
    "treatment and then look at the diagnostic plots. We’d do this anyway,\n",
    "but we’re already suspicious about the variance."
   ]
  },
  {
   "cell_type": "code",
   "execution_count": null,
   "metadata": {},
   "outputs": [],
   "source": [
    "> modLM <- lm(logCC ~ Strain * Treatment, data=coloniesCN)\n",
    "> par(mfrow=c(2,2), mar=c(3,3,3,1), mgp=c(2,0.8,0))\n",
    "> plot(modLM)"
   ]
  },
  {
   "cell_type": "markdown",
   "metadata": {},
   "source": [
    "<a id=\"fig:lmDisaster\"></a>\n",
    "<figure>\n",
    "    <img src=\"./graphics/lmDisaster.svg\" alt=\"lmDisaster\" style=\"width:80%\">\n",
    "    <small> \n",
    "        <center>\n",
    "            <figcaption> \n",
    "           Figure 5\n",
    "            </figcaption>\n",
    "        </center>\n",
    "    </small>\n",
    "</figure>\n",
    "\n",
    "$\\star$ Run this code and have a close look at the plots.\n",
    "\n",
    "That normal QQ plot is not good. Our suspicions were justified and it\n",
    "doesn’t look like we can use a simple log transformation. We’re not even\n",
    "going to look at the `anova` and `summary` tables\n",
    "— if the diagnostic plots are bad enough, then the model outputs are not\n",
    "to be trusted.\n",
    "\n",
    "## Generalised linear models\n",
    "\n",
    "In the linear models lecture, we looked at the expectation of *constant normal variance* in linear models. Whatever the\n",
    "combination of explanatory variables for a particular prediction, the\n",
    "residuals around that prediction have similar variance and are roughly\n",
    "normally distributed. The panel on the left shows this basic idea.\n",
    "\n",
    "<a id=\"fig:GLMexample\"></a>\n",
    "<figure>\n",
    "    <img src=\"./graphics/GLMexample.svg\" alt=\"GLMexample\" style=\"width:80%\">\n",
    "    <small> \n",
    "        <center>\n",
    "            <figcaption> \n",
    "           Figure 6\n",
    "            </figcaption>\n",
    "        </center>\n",
    "    </small>\n",
    "</figure>\n",
    "\n",
    "As we have seem, count data does not have this distribution, even when\n",
    "logged. The panel on the right shows the expected distribution of count\n",
    "data as the mean count increases with an explanatory variable. There are\n",
    "three key differences between the two panels:\n",
    "\n",
    "1.  Counts can *never* be negative but can be zero.\n",
    "\n",
    "2.  Counts are always *integers* — whole numbers — rather\n",
    "    than being continuous.\n",
    "\n",
    "3.  The variance of count data is *not constant*. As the\n",
    "    average predicted count gets larger, so does the variance. Unlike\n",
    "    the normal distribution, where variance can take any value, for\n",
    "    count data the variance is expected to be equal to the mean.\n",
    "\n",
    "So, we have data that is unsuitable for a linear model because it\n",
    "doesn’t show constant normal variance. This is where generalised linear\n",
    "models come in — we can change the model for the expected residuals to\n",
    "use a different distribution. For count data, this is the\n",
    "*Poisson* distribution.\n",
    "\n",
    "We need to change the function we use to fit models to `glm`,\n",
    "but otherwise the process is very similar. The whole point of the GLM is\n",
    "to model the original count data more appropriately, so we will abandon\n",
    "the logged data too. GLMs can cope with a range of different\n",
    "distributions, so we have to specify the `family` of the\n",
    "distribution we want to use."
   ]
  },
  {
   "cell_type": "code",
   "execution_count": null,
   "metadata": {},
   "outputs": [],
   "source": [
    "> modPois <- glm(ColonyCount ~ Strain * Treatment, data=coloniesCN, \n",
    "family= 'poisson')"
   ]
  },
  {
   "cell_type": "markdown",
   "metadata": {},
   "source": [
    "First, we’ll look at the summary table for this model. We have 5 levels\n",
    "of strain and 2 levels of factor in the subset so we get an intercept\n",
    "($i$), 4 differences for strains($s_{2-5}$), one difference for\n",
    "treatment ($t_2$) and then four differences for the interaction\n",
    "($s_{2-5}t_2$). These combine like this:\n",
    "\n",
    "$$\\begin{array}{|l|c|c|}\n",
    "\\hline\n",
    "                            & \\textrm{Control} & \\textrm{Nitroguanisine} \\\\\n",
    "\\hline\n",
    "\\textrm{421}   & i        & i+t_2              \\\\\n",
    "\\textrm{712}   & i + s_2  & i+s_2+t_2+ s_2t_2  \\\\\n",
    "\\textrm{881}   & i + s_3  & i+s_3+t_2 + s_3t_2  \\\\\n",
    "\\textrm{889}   & i + s_4  & i+s_4+t_2 + s_4t_2  \\\\\n",
    "\\textrm{TA102} & i + s_5  & i+s_5+t_2  + s_5t_2 \\\\\n",
    "\\hline\n",
    "\\end{array}$$\n",
    "\n",
    "The summary table looks like this — very similar to the\n",
    "`summary` table for a linear model."
   ]
  },
  {
   "cell_type": "code",
   "execution_count": null,
   "metadata": {},
   "outputs": [],
   "source": [
    "> summary(modPois)\n",
    " \n",
    " Call:\n",
    " glm(formula = ColonyCount ~ Strain * Treatment, family = \"poisson\", \n",
    "     data = coloniesCN)\n",
    " \n",
    " Deviance Residuals: \n",
    "    Min      1Q  Median      3Q     Max  \n",
    " -32.37  -10.33   -3.32    0.84   97.84  \n",
    " \n",
    " Coefficients:\n",
    "                         Estimate Std. Error z value Pr(>|z|)    \n",
    " (Intercept)              6.28823    0.00787   799.0   <2e-16 ***\n",
    " Strain712               -1.35472    0.01738   -78.0   <2e-16 ***\n",
    " Strain881               -3.74421    0.05549   -67.5   <2e-16 ***\n",
    " Strain899               -7.26906    0.28878   -25.2   <2e-16 ***\n",
    " StrainTA102             -1.44651    0.01757   -82.3   <2e-16 ***\n",
    " TreatmentNG             -2.17268    0.02539   -85.6   <2e-16 ***\n",
    " Strain712:TreatmentNG   -1.05295    0.08446   -12.5   <2e-16 ***\n",
    " Strain881:TreatmentNG    5.30786    0.06152    86.3   <2e-16 ***\n",
    " Strain899:TreatmentNG    9.53871    0.28989    32.9   <2e-16 ***\n",
    " StrainTA102:TreatmentNG  3.59226    0.03090   116.2   <2e-16 ***\n",
    " ---\n",
    " Signif. codes:  0 '***' 0.001 '**' 0.01 '*' 0.05 '.' 0.1 ' ' 1 \n",
    " \n",
    " (Dispersion parameter for poisson family taken to be 1)\n",
    " \n",
    "     Null deviance: 134445  on 293  degrees of freedom\n",
    " Residual deviance:  61579  on 284  degrees of freedom\n",
    "   (46 observations deleted due to missingness)\n",
    " AIC: 62910\n",
    " \n",
    " Number of Fisher Scoring iterations: 7\n",
    " "
   ]
  },
  {
   "cell_type": "markdown",
   "metadata": {},
   "source": [
    "So, interpreting this table quickly. Under the control treatment, strain\n",
    "421 (the intercept) has the highest number of colonies and all the other\n",
    "strains have lower numbers to some degree — the differences are\n",
    "negative. The overall effect of nitrogaunasine is to decrease the number\n",
    "of colonies — again a negative coefficient — but then the positive\n",
    "interactions show big increases in colony counts for nitroguanisine for\n",
    "specific strains. Everything is hugely significant.\n",
    "\n",
    "$\\star$ Copy the code in this section into your script and explore the model.\n",
    "\n",
    "## Overdispersion\n",
    "\n",
    "There’s a problem. You may have already spotted it:"
   ]
  },
  {
   "cell_type": "code",
   "execution_count": null,
   "metadata": {},
   "outputs": [],
   "source": [
    "> par(mfrow = c(2, 2), mar = c(3, 3, 3, 1), mgp = c(2, 0.8, 0))\n",
    "> plot(modPois)"
   ]
  },
  {
   "cell_type": "markdown",
   "metadata": {},
   "source": [
    "<a id=\"fig:poisDiag\"></a>\n",
    "<figure>\n",
    "    <img src=\"./graphics/poisDiag.svg\" alt=\"poisDiag\" style=\"width:80%\">\n",
    "    <small> \n",
    "        <center>\n",
    "            <figcaption> \n",
    "           Figure 7\n",
    "            </figcaption>\n",
    "        </center>\n",
    "    </small>\n",
    "</figure>\n",
    "\n",
    "Actually, there are two problems. First, that QQ plot is still a bit\n",
    "dubious. More of the points are close to the line than in the linear\n",
    "model but there are some extreme positive residuals. Second, the\n",
    "magnitude of the residuals is enormous, and this is really clear in the\n",
    "plot in the bottom right hand corner. This plot identifies outliers and\n",
    "any points outside of the red dotted line are possible problems.\n",
    "\n",
    "The problem here is *overdispersion*. The Poisson\n",
    "distribution predicts that the variance at a point in the model is equal\n",
    "to the prediction — the mean count at that point. Our count data shows\n",
    "much more variance than this — particularly that there are some huge\n",
    "counts given the means.\n",
    "\n",
    "There is a simple way to check the dispersion of count data using the\n",
    "`summary` table: the ratio of the residual deviance to the\n",
    "residual degrees of freedom should be approximately 1. This expectation\n",
    "is actually given in the table:\n",
    "\n",
    "`(Dispersion parameter for poisson family taken to be 1)`\n",
    "\n",
    "In this case, the ratio is $61579/284=216.8$. That’s very strongly\n",
    "overdispersed. Fortunately, we can allow for this by using a different\n",
    "model.\n",
    "\n",
    "## Generalised linear models using quasipoisson\n",
    "\n",
    "The quasipoisson family uses the data to estimate the dispersion of the\n",
    "model, but is otherwise very similar to using the Poisson family."
   ]
  },
  {
   "cell_type": "code",
   "execution_count": null,
   "metadata": {},
   "outputs": [],
   "source": [
    "> modQPois <- glm(ColonyCount ~ Strain * Treatment, data=coloniesCN,\n",
    "family= 'quasipoisson')"
   ]
  },
  {
   "cell_type": "markdown",
   "metadata": {},
   "source": [
    "The summary table now looks like this:"
   ]
  },
  {
   "cell_type": "code",
   "execution_count": null,
   "metadata": {},
   "outputs": [],
   "source": [
    "> summary(modQPois) \n",
    "\n",
    " Call:\n",
    " glm(formula = ColonyCount ~ Strain * Treatment, family = \"quasipoisson\", \n",
    "     data = coloniesCN)\n",
    " \n",
    " Deviance Residuals: \n",
    "    Min      1Q  Median      3Q     Max  \n",
    " -32.37  -10.33   -3.32    0.84   97.84  \n",
    " \n",
    " Coefficients:\n",
    "                         Estimate Std. Error t value Pr(>|t|)    \n",
    " (Intercept)                6.288      0.158   39.78  < 2e-16 ***\n",
    " Strain712                 -1.355      0.349   -3.88  0.00013 ***\n",
    " Strain881                 -3.744      1.115   -3.36  0.00089 ***\n",
    " Strain899                 -7.269      5.800   -1.25  0.21113    \n",
    " StrainTA102               -1.447      0.353   -4.10  5.4e-05 ***\n",
    " TreatmentNG               -2.173      0.510   -4.26  2.8e-05 ***\n",
    " Strain712:TreatmentNG     -1.053      1.696   -0.62  0.53529    \n",
    " Strain881:TreatmentNG      5.308      1.236    4.30  2.4e-05 ***\n",
    " Strain899:TreatmentNG      9.539      5.822    1.64  0.10246    \n",
    " StrainTA102:TreatmentNG    3.592      0.621    5.79  1.9e-08 ***\n",
    " ---\n",
    " Signif. codes:  0 '***' 0.001 '**' 0.01 '*' 0.05 '.' 0.1 ' ' 1 \n",
    " \n",
    " (Dispersion parameter for quasipoisson family taken to be 403.4)\n",
    " \n",
    "     Null deviance: 134445  on 293  degrees of freedom\n",
    " Residual deviance:  61579  on 284  degrees of freedom\n",
    "   (46 observations deleted due to missingness)\n",
    " AIC: NA\n",
    " \n",
    " Number of Fisher Scoring iterations: 7 "
   ]
  },
  {
   "cell_type": "markdown",
   "metadata": {},
   "source": [
    "This is pretty similar to the previous table but there two differences.\n",
    "First, the dispersion parameter line has changed. Second, all the $p$\n",
    "values have got less significant – this is the effect of controlling for\n",
    "the overdispersion.\n",
    "\n",
    "We’ll look at the model diagnostic plots next:"
   ]
  },
  {
   "cell_type": "code",
   "execution_count": null,
   "metadata": {},
   "outputs": [],
   "source": [
    "> par(mfrow = c(2, 2), mar = c(3, 3, 3, 1), mgp = c(2, 0.8, 0))\n",
    "> plot(modQPois)    "
   ]
  },
  {
   "cell_type": "markdown",
   "metadata": {},
   "source": [
    "<a id=\"fig:qpoisDiag\"></a>\n",
    "<figure>\n",
    "    <img src=\"./graphics/qpoisDiag.svg\" alt=\"qpoisDiag\" style=\"width:80%\">\n",
    "    <small> \n",
    "        <center>\n",
    "            <figcaption> \n",
    "           Figure 8\n",
    "            </figcaption>\n",
    "        </center>\n",
    "    </small>\n",
    "</figure>\n",
    "\n",
    "The residuals and leverage plot is now ok. The QQ plot is not better,\n",
    "but is still an improvement over the original linear model. We can’t\n",
    "improve the model fit any more — it isn’t perfect but we’ll accept those\n",
    "imperfections. It is worth thinking about the imperfections though —\n",
    "what might give rise to occasional larger than expected counts of\n",
    "colonies?\n",
    "\n",
    "We’ll look at the `anova` table next. Technically, this is\n",
    "now analysis of deviance not analysis of variance but the concept is the\n",
    "same. Different tests are appropriate for different families of\n",
    "distribution, but we can use $F$ here:"
   ]
  },
  {
   "cell_type": "code",
   "execution_count": null,
   "metadata": {},
   "outputs": [],
   "source": [
    "> anova(modQPois, test = \"F\")\n",
    "\n",
    " Analysis of Deviance Table\n",
    " \n",
    " Model: quasipoisson, link: log\n",
    " \n",
    " Response: ColonyCount\n",
    " \n",
    " Terms added sequentially (first to last)"
   ]
  },
  {
   "cell_type": "code",
   "execution_count": null,
   "metadata": {},
   "outputs": [],
   "source": [
    "Df Deviance Resid. Df Resid. Dev     F  Pr(>F)    \n",
    "     NULL                               293     134445                  \n",
    "     Strain            4    13923       289     120521  8.63 1.4e-06 ***\n",
    "     Treatment         1     6055       288     114467 15.01 0.00013 ***\n",
    "     Strain:Treatment  4    52888       284      61579 32.78 < 2e-16 ***\n",
    "     ---\n",
    "     Signif. codes:  0 '***' 0.001 '**' 0.01 '*' 0.05 '.' 0.1 ' ' 1 "
   ]
  },
  {
   "cell_type": "markdown",
   "metadata": {},
   "source": [
    "Can we simplify the model? The interaction is the only term we can drop\n",
    "and looks highly significant, but we can check by deleting it."
   ]
  },
  {
   "cell_type": "code",
   "execution_count": null,
   "metadata": {},
   "outputs": [],
   "source": [
    "> drop.scope(modQPois)\n",
    "\n",
    " [1] \"Strain:Treatment\"\n",
    "\n",
    "> modQPois2 <- update(modQPois, . ~ . - Strain:Treatment)\n",
    "> anova(modQPois, modQPois2, test = \"F\")\n",
    "\n",
    " Analysis of Deviance Table\n",
    " \n",
    " Model 1: ColonyCount ~ Strain * Treatment\n",
    " Model 2: ColonyCount ~ Strain + Treatment\n",
    "   Resid. Df Resid. Dev Df Deviance    F Pr(>F)    \n",
    " 1       284      61579                            \n",
    " 2       288     114467 -4   -52888 32.8 <2e-16 ***\n",
    " ---\n",
    " Signif. codes:  0 '***' 0.001 '**' 0.01 '*' 0.05 '.' 0.1 ' ' 1 "
   ]
  },
  {
   "cell_type": "markdown",
   "metadata": {},
   "source": [
    "No, that makes the model much worse, so we now have our final model.\n",
    "\n",
    "$\\star$ Fit this new model in your script and check you’ve got the same results.\n",
    "\n",
    "## Model predictions\n",
    "\n",
    "We can get model predictions and standard errors using the `predict` function. There is a difference though. GLMs use an\n",
    "internal transformation to model the data using a *link function* and the coefficients in the summary above are on the scale of the link transformation. For quasipoisson, this is a *log link*, which you can see in the output of `anova`. You can use `predict` to get predictions on the scale of the original *response*."
   ]
  },
  {
   "cell_type": "code",
   "execution_count": null,
   "metadata": {},
   "outputs": [],
   "source": [
    "# use expand.grid to get all combinations of factors\n",
    "> df <- expand.grid(Strain = levels(coloniesCN$Strain), Treatment =\n",
    "levels(coloniesCN$Treatment))\n",
    "> predict(modQPois, newdata = df, type = \"response\")\n",
    "\n",
    "       1       2       3       4       5       6       7       8       9      10 \n",
    " 538.200 138.867  12.731   0.375 126.687  61.286   5.517 292.714 593.000 523.900 "
   ]
  },
  {
   "cell_type": "markdown",
   "metadata": {},
   "source": [
    "Those are the same values as the means we calculated for the barplot.\n",
    "Adding standard errors to barplots is more difficult for GLMs and we\n",
    "won’t go into it here.\n",
    "\n",
    "## Reporting the model\n",
    "\n",
    "Reporting complicated statistics is a difficult business. There is a lot\n",
    "of detail involved and you want the reader to understand what you have\n",
    "done well enough to repeat the analysis if needed. You also have to\n",
    "summarise and explain the results without pages of R output.\n",
    "\n",
    "Here are some pointers:\n",
    "\n",
    "-   What does the data show? Present a graph or a table to show the data\n",
    "    you are about to model. *Always* include a figure or table legend and *always* refer to that figure or\n",
    "    legend from the text.\n",
    "\n",
    "-   Have you transformed the data or used a subset? If so, why?\n",
    "\n",
    "-   What kind of model or statistical test have you used?\n",
    "\n",
    "-   With linear models, what is the response variable and what are the\n",
    "    explanatory variables.\n",
    "\n",
    "-   Have you simplified the model and, if so, what was the most complex\n",
    "    model you tried?\n",
    "\n",
    "-   How did you check the suitability of the model? Are there any\n",
    "    problems with the model and, if so, what might cause them?\n",
    "\n",
    "-   If you summarise stats in text, you must include all the information\n",
    "    about the test."
   ]
  },
  {
   "cell_type": "code",
   "execution_count": null,
   "metadata": {},
   "outputs": [],
   "source": [
    "-   For $F$ tests, this is $F$, the two degrees of freedom and the\n",
    "    p value. For example: ‘There is a significant interaction\n",
    "    between treatment and strain ($F_{4,284}=32.7, p < 0.0001$)’.\n",
    "\n",
    "-   For $t$ tests, this is the coefficient, the standard error, $t$,\n",
    "    the degrees of freedom and $p$. For example, ‘Across strains,\n",
    "    the main effect of nitroguanisine is to reduce colony counts\n",
    "    relative to the control (estimate=-2.17, s.e= 0.51, $t=-4.26$,\n",
    "    df=284, $p < 0.0001$)’."
   ]
  },
  {
   "cell_type": "markdown",
   "metadata": {},
   "source": [
    "-   With more complex models, it is common to present either the anova\n",
    "    table or the coefficients table as a summary of the model output.\n",
    "    Just include the tables from R output, not the information\n",
    "    around it. See Table 1 for an example.\n",
    "\n",
    "-   *Never* just include chunks of raw output from R.\n",
    "\n",
    "-   Most importantly, what is the interpretation of the model. What is\n",
    "    it telling you about the data?\n",
    "\n",
    "*Table 1*: Coefficients from a GLM of treatment and strain\n",
    "as predictors of colony count."
   ]
  },
  {
   "cell_type": "code",
   "execution_count": null,
   "metadata": {},
   "outputs": [],
   "source": [
    "Estimate   Std. Error   t value p\n",
    "  ------------------------- ---------- ------------ --------- ------------\n",
    "                (Intercept)       6.29         0.16     39.78 &lt;0.0001\n",
    "                  Strain712      -1.35         0.35     -3.88 0.0001\n",
    "                  Strain881      -3.74         1.11     -3.36 0.0009\n",
    "                  Strain899      -7.27         5.80     -1.25 0.2111\n",
    "                StrainTA102      -1.45         0.35     -4.10 &lt;0.0001\n",
    "                TreatmentNG      -2.17         0.51     -4.26 &lt;0.0001\n",
    "      Strain712:TreatmentNG      -1.05         1.70     -0.62 0.5353\n",
    "      Strain881:TreatmentNG       5.31         1.24      4.30 &lt;0.0001\n",
    "      Strain899:TreatmentNG       9.54         5.82      1.64 0.1025\n",
    "    StrainTA102:TreatmentNG       3.59         0.62      5.79 &lt;0.0001"
   ]
  },
  {
   "cell_type": "markdown",
   "metadata": {},
   "source": [
    "Halos and lawns\n",
    "---------------\n",
    "\n",
    "We’ll keep this one simple since it is harder to analyse. The response\n",
    "variable (`HaloLawn`) is binary — the plates either have a\n",
    "lawn or not. We’ll just look at a contingency table of how many plates\n",
    "have halos or lawns under each combination of treatment and strain."
   ]
  },
  {
   "cell_type": "code",
   "execution_count": null,
   "metadata": {},
   "outputs": [],
   "source": [
    "> table(Halo = colonies$HaloLawn, Strain = colonies$Strain, Treatment = \n",
    "colonies$Treatment)\n",
    "\n",
    " , , Treatment = Control\n",
    " \n",
    "     Strain\n",
    " Halo 421 712 881 899 TA102\n",
    "    N   0   0   0   0     0\n",
    "    Y   0   0   0   0     0\n",
    " \n",
    " , , Treatment = His\n",
    " \n",
    "     Strain\n",
    " Halo 421 712 881 899 TA102\n",
    "    N   1   1   0   0     1\n",
    "    Y  29  29  26  32    31\n",
    " \n",
    " , , Treatment = NG\n",
    " \n",
    "     Strain\n",
    " Halo 421 712 881 899 TA102\n",
    "    N   0   0   0   0     0\n",
    "    Y   0   0   0   0     0\n",
    " \n",
    " , , Treatment = Strep\n",
    " \n",
    "     Strain\n",
    " Halo 421 712 881 899 TA102\n",
    "    N   5  30   5  21     0\n",
    "    Y  25   0  25   9    32\n",
    " "
   ]
  },
  {
   "cell_type": "markdown",
   "metadata": {},
   "source": [
    "So, lawns and halos are never recorded from nitroguanisine or the\n",
    "control. They’re nearly always found with histidine and different\n",
    "strains have different response to streptomysin. Again, treatment and\n",
    "strain interact. Although you can use a $\\chi^2$ test with two\n",
    "dimensional contingency tables to look for independence between factors,\n",
    "you can’t with a three-way table.\n",
    "\n",
    "-----\n",
    "\n",
    "<a id=\"fn1\"></a>\n",
    "[1]: Here you will work with the script file `glm.R`"
   ]
  }
 ],
 "metadata": {
  "kernelspec": {
   "display_name": "R",
   "language": "R",
   "name": "ir"
  },
  "language_info": {
   "codemirror_mode": "r",
   "file_extension": ".r",
   "mimetype": "text/x-r-source",
   "name": "R",
   "pygments_lexer": "r",
   "version": "3.4.4"
  },
  "latex_envs": {
   "LaTeX_envs_menu_present": true,
   "autoclose": false,
   "autocomplete": false,
   "bibliofile": "biblio.bib",
   "cite_by": "apalike",
   "current_citInitial": 1,
   "eqLabelWithNumbers": true,
   "eqNumInitial": 1,
   "hotkeys": {
    "equation": "Ctrl-E",
    "itemize": "Ctrl-I"
   },
   "labels_anchors": false,
   "latex_user_defs": false,
   "report_style_numbering": false,
   "user_envs_cfg": false
  },
  "toc": {
   "base_numbering": 1,
   "nav_menu": {},
   "number_sections": true,
   "sideBar": false,
   "skip_h1_title": false,
   "title_cell": "Contents",
   "title_sidebar": "Contents",
   "toc_cell": true,
   "toc_position": {},
   "toc_section_display": true,
   "toc_window_display": false
  }
 },
 "nbformat": 4,
 "nbformat_minor": 2
}
