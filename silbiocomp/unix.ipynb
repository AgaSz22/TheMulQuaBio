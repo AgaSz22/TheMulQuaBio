{
 "cells": [
  {
   "cell_type": "markdown",
   "metadata": {},
   "source": [
    "Introduction to UNIX and Linux {#chap:unix1}\n",
    "==============================\n",
    "\n",
    "What is UNIX?\n",
    "-------------\n",
    "\n",
    "UNIX is a machine-independent operating system (OS) developed in the\n",
    "1970s by AT&T programmers (notably Brian Kernighan and Dennis Ritchie,\n",
    "fathers of <span>C</span>) for programmers (you!). It is multi-user and\n",
    "network-oriented by design, uses plain text files for storing data (no\n",
    "proprietary file formats), and has a strictly hierarchical directory\n",
    "structure (more on this below). This makes it an ideal environment for\n",
    "developing your code and storing your data.\n",
    "\n",
    "Linux and Mac OS are Unix-like (or UN\\*X or \\*nix) operating systems\n",
    "that have evolved from UNIX. Ubuntu is a Linux distribution.\n",
    "\n",
    "Why UNIX?\n",
    "---------\n",
    "\n",
    "Here are some good reasons:\n",
    "\n",
    "It was designed for developing code and storing data — an ideal native\n",
    "habitat for programming languages like Python and R!\n",
    "\n",
    "Robust, stable, secure (very few UNIX viruses and malware — I have never\n",
    "encountered one!)\n",
    "\n",
    "Free and open source!\n",
    "\n",
    "Scores of small programs available to perform simple tasks – can be\n",
    "combined easily\n",
    "\n",
    "Easy to automate tasks (e.g., using shell scripts)\n",
    "\n",
    "Multi-user (multiple users can log in concurrently use computer)\n",
    "\n",
    "Multi-tasking (can perform many tasks at the same time)\n",
    "\n",
    "Network-ready (easy to communicate between computers)\n",
    "\n",
    "UNIX has been around since the early 1970’s and will likely be around at\n",
    "the end of your career (the hard work you are putting into learning UNIX\n",
    "will pay off over a lifetime!)\n",
    "\n",
    "Amazing support — a large body of tutorials and support web sites are\n",
    "readily available online.\n",
    "\n",
    "Basically all resources for High-Performance Computing (computer\n",
    "clusters, large workstations, etc.) run a UNIX or Linux operating\n",
    "system.\n",
    "\n",
    "See <http://whylinuxisbetter.net/> (I would have chosen a more subtle\n",
    "domain name though!) to aid your brain-washing (cleaning?).\n",
    "\n",
    "Also, if you like history:\n",
    "<span><https://www.howtogeek.com/182649/htg-explains-what-is-unix></span>\n",
    "\n",
    "The terms 32-bit and 64-bit refer to the way a computer’s processor\n",
    "(also called a CPU), handles information. A 64-bit OS handles large\n",
    "amounts of random access memory (RAM) more effectively than a 32-bit\n",
    "system. Specifically, while 32 bits of information can only access 4 GB\n",
    "of RAM, a 64-bit machine can access essentially unlimited system memory\n",
    "(though this is not yet physically possible)!\n",
    "\n",
    "UNIX directory structure\n",
    "------------------------\n",
    "\n",
    "![image](unix-tree.png){width=\".7\\textwidth\"}\\\n",
    "[ https://pathanruet.files.wordpress.com/2012/05/unix-tree.png]( https://pathanruet.files.wordpress.com/2012/05/unix-tree.png)\n",
    "\n",
    "The UNIX directory (same as “Folder”) structure is hierarchical, with a\n",
    "single tree starting from the “root” <span>/</span>. This is quite\n",
    "unlike Windows or MS-DOS, where there are separate trees for disk\n",
    "partitions, removable media, network, etc. The key UNIX directories are:\n",
    "\n",
    "  -------------------- ----------------------------------------------------------------------\n",
    "  <span>/</span>       Is the “root” directory\n",
    "  <span>/bin</span>    Contains basic programs\n",
    "  <span>/etc</span>    Contains configuration files\n",
    "  <span>/dev</span>    Contains files connecting to devices (keyboard, mouse, screen, etc.)\n",
    "  <span>/home</span>   Your home directory – this is where you will usually work\n",
    "  <span>/tmp</span>    Contains Temporary files\n",
    "  -------------------- ----------------------------------------------------------------------\n",
    "\n",
    "This hierarchical directory structure makes navigating your computer\n",
    "from the terminal/shell (coming up next!) or encoding this navigation in\n",
    "your computer programs easier.\n",
    "\n",
    "When you install Linux (say, a Ubuntu version), you will have the\n",
    "opportunity to create separate <span>swap</span>, <span>root</span> and\n",
    "<span>home</span> partitions on your hard disk. <span>swap</span>\n",
    "necessarily needs to be a separate partition, while <span>root +\n",
    "home</span> can be on the same partition. If you are a Linux newbie, I\n",
    "suggest that you create a separate <span>home</span> partition, even\n",
    "though it is not necessary — that way, even if you break your linux\n",
    "install, you can easily reinstall it by just wiping the root partition,\n",
    "without losing any of your data (which sits in <span>home</span>).\n",
    "\n",
    "Meet the UNIX shell\n",
    "-------------------\n",
    "\n",
    "The shell (or terminal) is a text command processor to interface with\n",
    "the Operating System’s “kernel”. We will use the popular (yes, it’s\n",
    "popular!) <span>bash</span> shell.\n",
    "\n",
    "\\[$\\quad\\star$\\]\n",
    "\n",
    "To launch <span>bash</span> shell, do <span>Ctrl + Alt + t</span> (or\n",
    "use <span> Meta</span> key) — try it now.\n",
    "\n",
    "OK, so you have met the shell. Note that:\n",
    "\n",
    "The shell automatically starts in your home directory\n",
    "<span>/home/yourname/</span>, also called $\\sim$ (important to\n",
    "remember!)\n",
    "\n",
    "Use the <span>Tab</span> key – very handy (try <span>ls</span> with\n",
    "<span>Tab</span> <span>Tab</span>)\n",
    "\n",
    "You can navigate commands you previously typed using the up/down arrows\n",
    "\n",
    "Other useful keyboard shortcuts are:\n",
    "\n",
    "  --------------------------------- ---------------------------------------\n",
    "  <span>Ctrl + A</span>             Go to the beginning of the line\n",
    "  <span>Ctrl + E</span>             Go to the end of the line\n",
    "  <span>Ctrl + L</span>             Clear the screen\n",
    "  <span>Ctrl + U</span>             Clear the line before cursor position\n",
    "  <span>Ctrl + K</span>             Clear the line after the cursor\n",
    "  <span>Ctrl + C</span>             Kill whatever you are running\n",
    "  <span>Ctrl + D</span>             Exit the current shell\n",
    "  <span>Ctrl + right arrow</span>   Move cursor forward one word\n",
    "  <span>Ctrl + left arrow</span>    Move cursor backward one word\n",
    "  --------------------------------- ---------------------------------------\n",
    "\n",
    "<span>sudo</span>, and installing/removing software\n",
    "---------------------------------------------------\n",
    "\n",
    "You can install software in your <span>/home</span> directory. In UNIX\n",
    "you originally had to login as <span>root</span> (administrator). But in\n",
    "Ubuntu, it is sufficient to add <span>sudo</span> (<span>s</span>uper\n",
    "<span>u</span>ser <span>do</span>) in front of a command:"
   ]
  },
  {
   "cell_type": "markdown",
   "metadata": {},
   "source": [
    "```bash\n",
    "$      sudo apt-get install geany geany-plugins geany-plugin-latex \n",
    "geany-plugin-addons\n",
    "```"
   ]
  },
  {
   "cell_type": "markdown",
   "metadata": {},
   "source": [
    "You can install anything that is in the Ubuntu “repository”. Let’s try\n",
    "installing something else — a weather indicator that I think really\n",
    "works very well.\n",
    "\n",
    "But here you have to first install the repository:"
   ]
  },
  {
   "cell_type": "code",
   "execution_count": null,
   "metadata": {},
   "outputs": [],
   "source": [
    "$ sudo add-apt-repository ppa:atareao/atareao"
   ]
  },
  {
   "cell_type": "markdown",
   "metadata": {},
   "source": [
    "This will ask you to first approve the additon of this repository. Then\n",
    "update the repository packages,"
   ]
  },
  {
   "cell_type": "code",
   "execution_count": null,
   "metadata": {},
   "outputs": [],
   "source": [
    "$ sudo apt-get update "
   ]
  },
  {
   "cell_type": "markdown",
   "metadata": {},
   "source": [
    "And then install,"
   ]
  },
  {
   "cell_type": "code",
   "execution_count": null,
   "metadata": {},
   "outputs": [],
   "source": [
    "$ sudo apt-get install my-weather-indicator"
   ]
  },
  {
   "cell_type": "markdown",
   "metadata": {},
   "source": [
    "\\\n",
    "<span>http://xkcd.com/149/</span>\n",
    "\n",
    "You can also easily remove software by, well, using the\n",
    "<span>remove</span> command! You will find that commands names are quite\n",
    "intuitive, as they should be. If you think a command with a certain name\n",
    "should exist, it very often does!"
   ]
  },
  {
   "cell_type": "code",
   "execution_count": null,
   "metadata": {},
   "outputs": [],
   "source": [
    "$ sudo apt-get remove indicator-messages"
   ]
  },
  {
   "cell_type": "markdown",
   "metadata": {},
   "source": [
    "This will get rid of the evolution mail indicator — very unlikely that\n",
    "you will use evolution!\n",
    "\n",
    "Basic UNIX commands\n",
    "-------------------\n",
    "\n",
    "  ------------------------------------------------- ----------------------------------------------------------\n",
    "  <span>man \\[COMMAND\\]</span>                      Show help page of a command.\n",
    "  <span>whoami</span>                               Display your user-name.\n",
    "  <span>pwd</span>                                  Show the current directory.\n",
    "  <span>ls</span>                                   List the files in the directory.\n",
    "  <span>cd \\[DIRNAME\\]</span>                       Change directory.\n",
    "  <span>cd ..</span>                                Move one directory up.\n",
    "  <span>cd /</span>                                 Go to the root directory.\n",
    "  <span>cd $\\sim$</span> or just <span>cd </span>   Go to the home directory.\n",
    "  <span>cp \\[FROM\\] \\[TO\\]</span>                   Copy a file or directory non-recursively (what’s this?).\n",
    "  <span>mv \\[FROM\\] \\[TO\\]</span>                   Move or rename a file or directory.\n",
    "  <span>touch \\[FILENAME\\]</span>                   Create an empty file.\n",
    "  <span>echo “My string”</span>                     Print a string (here, “My string”).\n",
    "  <span>rm \\[TOREMOVE\\]</span>                      Remove a file or directory non-recursively.\n",
    "  <span>mkdir \\[DIRNAME\\]</span>                    Create a directory.\n",
    "  <span>rmdir \\[DIRNAME\\]</span>                    Remove an empty directory.\n",
    "  <span>wc \\[FILENAME\\]</span>                      Count the number of lines and words in a file.\n",
    "  <span>sort \\[FILENAME\\]</span>                    Sort the lines of a file and print result.\n",
    "  <span>uniq </span>                                Shows only unique elements of a list.\n",
    "  <span>cat \\[FILENAME\\]</span>                     Print the file on the screen.\n",
    "  <span>less \\[FILENAME\\]</span>                    Progressively print a file on the screen (“q” to exit).\n",
    "  <span>head \\[FILENAME\\]</span>                    Print the first few lines of a file.\n",
    "  <span>tail \\[FILENAME\\]</span>                    Print the last few lines of a file.\n",
    "  <span>history</span>                              Show the last commands you typed.\n",
    "  <span>date</span>                                 Print current date.\n",
    "  <span>file \\[FILENAME\\]</span>                    Determine the type of a file.\n",
    "  <span>passwd</span>                               Change user password.\n",
    "  <span>chmod \\[FILENAME\\]</span>                   Change file permissions.\n",
    "  ------------------------------------------------- ----------------------------------------------------------\n",
    "\n",
    "Building your coursework directory structure\n",
    "--------------------------------------------\n",
    "\n",
    "It is time to start building your CMEE coursework directory structure.\n",
    "Please follow these rules:\n",
    "\n",
    "Do all your work in <span>CMEECourseWork</span>, located in a suitable\n",
    "place in your <span>/home</span> (make mama proud, keep your <span>\n",
    "home</span> organized!)\n",
    "\n",
    "Each week’s coursework should be in its respective directory:\n",
    "<span>CMEECourseWork/Week1</span>, <span>CMEECourseWork/Week2</span>,\n",
    "etc\n",
    "\n",
    "Each week’s directory will contain directories called <span>\n",
    "Code</span>, <span>Data</span>, etc (later)\n",
    "\n",
    "You will bring <span>CMEECourseWork</span> and all it’s contents under\n",
    "version control using Git (later)\n",
    "\n",
    "Don’t forget to use the <span>tab</span> key. It autocompletes directory\n",
    "names for you (same in <span>R</span> and <span>Python</span>, and/or\n",
    "provides a list of files in the current directory (hit <span>tab</span>\n",
    "twice after certain commands. For example, try double tab after typing\n",
    "<span>ls</span> at the bash prompt.)\n",
    "\n",
    "\\[$\\quad\\star$\\]\n",
    "\n",
    "OK, <span>mkdir</span> your <span>CMEECourseWork</span> directory now.\n",
    "\n",
    "Starting by creating <span>CMEECourseWork</span>). Then,"
   ]
  },
  {
   "cell_type": "code",
   "execution_count": null,
   "metadata": {},
   "outputs": [],
   "source": [
    "$ mkdir Week1\n",
    "$ cd Week1\n",
    "$ mkdir sandbox\n",
    "$ cd Sandbox\n",
    "bash: cd: Sandbox: No such file or directory\n",
    "$ cd ..\n",
    "$ rm sandbox\n",
    "rm: cannot remove `sandbox/`: Is a directory\n",
    "$ mv sandbox Sandbox # OR, \"rm -r sandbox\" (careful with the -r option!)"
   ]
  },
  {
   "cell_type": "markdown",
   "metadata": {},
   "source": [
    "Note the hash mark \\# above — anything after a \\# is ignored (so you can\n",
    "use it for commenting)."
   ]
  },
  {
   "cell_type": "code",
   "execution_count": null,
   "metadata": {},
   "outputs": [],
   "source": [
    "$ cd Sandbox\n",
    "$ pwd\n",
    "$ ls\n",
    "$ touch TestFile # OR, \"touch TestFile.txt\"\n",
    "$ ls\n",
    "$ mv TestFile TestFile2\n",
    "$ rm TestFile2"
   ]
  },
  {
   "cell_type": "markdown",
   "metadata": {},
   "source": [
    "You could have made your project directories and subdirectories in one\n",
    "swoop by using the <span>-p</span> option of <span>mkdir</span>:"
   ]
  },
  {
   "cell_type": "code",
   "execution_count": null,
   "metadata": {},
   "outputs": [],
   "source": [
    "$ mkdir -p CMEECourseWork/Week1/{Data,Code,Sandbox}"
   ]
  },
  {
   "cell_type": "markdown",
   "metadata": {},
   "source": [
    "Command arguments\n",
    "-----------------\n",
    "\n",
    "Most UNIX commands accept arguments that modify their behavior. E.g.,\n",
    "<span>ls -l</span> (ls “minus”l) lists the files in longer format. Some\n",
    "useful arguments:\n",
    "\n",
    "  -------------------------------------- ----------------------------------------------------------------------------------------\n",
    "  <span>cp -r \\[DIR1\\] \\[DIR2\\]</span>   Copy a directory recursively (i.e., including all the sub-directories and files).\n",
    "  <span>rm -i \\[FILENAME\\]</span>        Remove a file, but asks first (for safety).\n",
    "  <span>rm -r \\[DIR\\]</span>             Remove a directory recursively (i.e., including all the sub-directories and files).\n",
    "  <span>ls -a</span>                     List all files, including hidden ones.\n",
    "  <span>ls -h</span>                     List all files, with human-readable sizes (Mb, Gb).\n",
    "  <span>ls -l</span>                     List all files, long format.\n",
    "  <span>ls -S</span>                     List all files, order by size.\n",
    "  <span>ls -t</span>                     List all files, order by modification time.\n",
    "  <span>ls -1</span>                     List all files, one file per line.\n",
    "  <span>mkdir -p Dir1/Dir2/Dir3</span>   Create the directory Dir3 and Dir1 and Dir2 if they do not already exist.\n",
    "  <span>sort -n</span>                   Sort all the lines, but use numeric values instead of dictionary (i.e., 11 follows 2).\n",
    "  -------------------------------------- ----------------------------------------------------------------------------------------\n",
    "\n",
    "You can also combine command arguments. Try:"
   ]
  },
  {
   "cell_type": "code",
   "execution_count": null,
   "metadata": {},
   "outputs": [],
   "source": [
    "$ ls -1t #combines -l and -t"
   ]
  },
  {
   "cell_type": "markdown",
   "metadata": {},
   "source": [
    "Redirection and pipes\n",
    "---------------------\n",
    "\n",
    "Output of programs can also be “redirected” to a file:\n",
    "\n",
    "  ------------------- -------------------------------------------------------------------------------------------------------\n",
    "  <span>&gt;</span>   Redirect output from a command to a file on disk. If the file already exists, it will be overwritten.\n",
    "  <span>$>>$</span>   Append the output from a command to a file on disk. If the file does not exist, it will be created.\n",
    "  ------------------- -------------------------------------------------------------------------------------------------------\n",
    "\n",
    "Examples (make sure you are in <span>Week1/Sandbox</span>):"
   ]
  },
  {
   "cell_type": "code",
   "execution_count": null,
   "metadata": {},
   "outputs": [],
   "source": [
    "$ echo \"My first line.\" > test.txt\n",
    "$ cat test.txt\n",
    "$ echo \"My second line\" >> test.txt\n",
    "$ ls / >> ListRootDir.txt\n",
    "$ cat ListRootDir.txt #Isn't that cool?!"
   ]
  },
  {
   "cell_type": "markdown",
   "metadata": {},
   "source": [
    "We can also concatenate commands using “pipes” with “$\\vert$” e.g., to\n",
    "count how many files are in root (/) directory:"
   ]
  },
  {
   "cell_type": "code",
   "execution_count": null,
   "metadata": {},
   "outputs": [],
   "source": [
    "$ ls / | wc -l # what does this do? Look up \"man wc\""
   ]
  },
  {
   "cell_type": "markdown",
   "metadata": {},
   "source": [
    "Or try"
   ]
  },
  {
   "cell_type": "code",
   "execution_count": null,
   "metadata": {},
   "outputs": [],
   "source": [
    "$ ls -lt | head -5 #what does this do?"
   ]
  },
  {
   "cell_type": "markdown",
   "metadata": {},
   "source": [
    "Wildcards\n",
    "---------\n",
    "\n",
    "We can use wildcards to find files based on their names (again, in\n",
    "<span>Week1/Sandbox</span> !):"
   ]
  },
  {
   "cell_type": "code",
   "execution_count": null,
   "metadata": {},
   "outputs": [],
   "source": [
    "$ mkdir TestWild\n",
    "$ cd TestWild\n",
    "$ touch File1txt\n",
    "$ touch File2.txt\n",
    "$ touch File3.txt\n",
    "$ touch File4.txt\n",
    "$ touch File1.csv\n",
    "$ touch File2.csv\n",
    "$ touch File3.csv\n",
    "$ touch File4.csv\n",
    "$ touch Anotherfile.csv\n",
    "$ touch Anotherfile.txt\n",
    "$ ls \n",
    "$ ls | wc -l"
   ]
  },
  {
   "cell_type": "markdown",
   "metadata": {},
   "source": [
    "We will use the following wildcards:\n",
    "\n",
    "  ---------------- ---------------------------------------------------------------\n",
    "  <span>?</span>   Any single character, except a leading dot (hidden files).\n",
    "                   Zero or more characters, except a leading dot (hidden files).\n",
    "                   Define a class of characters (e.g., upper-case letters).\n",
    "  ---------------- ---------------------------------------------------------------\n",
    "\n",
    "Now let’s try to find the files using wildcards:"
   ]
  },
  {
   "cell_type": "code",
   "execution_count": null,
   "metadata": {},
   "outputs": [],
   "source": [
    "$ ls *\n",
    "$ ls File*\n",
    "$ ls *.txt\n",
    "$ ls File?.txt\n",
    "$ ls File[1-2].txt\n",
    "$ ls File[!3].*"
   ]
  },
  {
   "cell_type": "markdown",
   "metadata": {},
   "source": [
    "Using <span>grep</span>\n",
    "-----------------------\n",
    "\n",
    "<span>grep</span> is a command that matches strings in a file (why is\n",
    "this useful?). It is based on regular expressions (more on this later).\n",
    "Let’s explore some basic usage of <span>grep</span>. For a test file\n",
    "let’s download a list of protected species from the UN website (to\n",
    "<span>Sandbox</span>):"
   ]
  },
  {
   "cell_type": "code",
   "execution_count": null,
   "metadata": {},
   "outputs": [],
   "source": [
    "$ wget http://www.cep.unep.org/pubs/legislation/spawannxs.txt #Cool!\n",
    "$ head -n 50 spawannxs.txt #You will see \"head\" in R as well"
   ]
  },
  {
   "cell_type": "markdown",
   "metadata": {},
   "source": [
    "Now,"
   ]
  },
  {
   "cell_type": "code",
   "execution_count": null,
   "metadata": {},
   "outputs": [],
   "source": [
    "$ mkdir ../Data #Note the relative path \"../\"\n",
    "$ mv spawannxs.txt ../Data/\n",
    "$ cd ../Data\n",
    "$ head -n 50 spawannxs.txt "
   ]
  },
  {
   "cell_type": "markdown",
   "metadata": {},
   "source": [
    "Note that now you have a <span>Data</span> directory.\n",
    "\n",
    "OK, what about falcons?"
   ]
  },
  {
   "cell_type": "code",
   "execution_count": null,
   "metadata": {},
   "outputs": [],
   "source": [
    "$ grep Falco spawannxs.txt\n",
    "Falconidae  Falco       femoralis septentrionalis\n",
    "Falconidae  Falco       peregrinus\n",
    "Falconidae  Polyborus   plancus\n",
    "Falconidae  Falco       columbarius"
   ]
  },
  {
   "cell_type": "markdown",
   "metadata": {},
   "source": [
    "Using <span>-i</span> make the matching case-insensitive:"
   ]
  },
  {
   "cell_type": "code",
   "execution_count": null,
   "metadata": {},
   "outputs": [],
   "source": [
    "$ grep -i Falco spawannxs.txt\n",
    "Order:  FALCONIFORMES\n",
    "Falconidae  Falco       femoralis septentrionalis\n",
    "Falconidae  Falco       peregrinus\n",
    "Falconidae  Polyborus   plancus\n",
    "Order:  FALCONIFORMES\n",
    "Order:  FALCONIFORMES\n",
    "Order:  FALCONIFORMES\n",
    "Falconidae  Falco       columbarius"
   ]
  },
  {
   "cell_type": "markdown",
   "metadata": {},
   "source": [
    "Now let’s find the beautiful “Ara” macaws:\n",
    "\n",
    "![image](Ara_ararauna.jpg){width=\".7\\textwidth\"}\n",
    "\n",
    "But this poses a problem (what is the problem?):"
   ]
  },
  {
   "cell_type": "code",
   "execution_count": null,
   "metadata": {},
   "outputs": [],
   "source": [
    "$ grep -i ara spawannxs.txt\n",
    "Flacourtiaceae  Banaras     vanderbiltii\n",
    "Order:  CHARADRIIFORMES\n",
    "Charadriidae    Charadrius  melodus\n",
    "Psittacidae Amazona     arausica\n",
    "Psittacidae Ara     macao\n",
    "Dasyproctidae   Dasyprocta  guamara\n",
    "Palmae      Syagrus (= Rhyticocos)  amara\n",
    "Psittacidae Ara     ararauna\n",
    "Psittacidae Ara     chloroptera\n",
    "Psittacidae Arao        manilata\n",
    "Mustelidae  Eira        barbara\n",
    "Order:  CHARADRIIFORMES"
   ]
  },
  {
   "cell_type": "markdown",
   "metadata": {},
   "source": [
    "We can solve this by specifying <span>-w</span> to match only full\n",
    "words:"
   ]
  },
  {
   "cell_type": "code",
   "execution_count": null,
   "metadata": {},
   "outputs": [],
   "source": [
    "$ grep -i -w ara spawannxs.txt\n",
    "Psittacidae Ara     macao\n",
    "Psittacidae Ara     ararauna\n",
    "Psittacidae Ara     chloroptera"
   ]
  },
  {
   "cell_type": "markdown",
   "metadata": {},
   "source": [
    "And also show line(s) after the one that was matched, we can use <span>\n",
    "-A x</span>, where <span>x</span> is number of lines to use:"
   ]
  },
  {
   "cell_type": "code",
   "execution_count": null,
   "metadata": {},
   "outputs": [],
   "source": [
    "$ grep -i -w -A 1 ara spawannxs.txt\n",
    "Psittacidae Ara     macao\n",
    "\n",
    "--\n",
    "Psittacidae Ara     ararauna\n",
    "Psittacidae Ara     chloroptera\n",
    "Psittacidae Arao        manilata"
   ]
  },
  {
   "cell_type": "markdown",
   "metadata": {},
   "source": [
    "Similarly, <span>-B</span> shows the lines before:"
   ]
  },
  {
   "cell_type": "code",
   "execution_count": null,
   "metadata": {},
   "outputs": [],
   "source": [
    "$ grep -i -w -B 1 ara spawannxs.txt\n",
    "Psittacidae Amazona     vittata\n",
    "Psittacidae Ara     macao\n",
    "--\n",
    "Psittacidae Amazona     ochrocephala\n",
    "Psittacidae Ara     ararauna\n",
    "Psittacidae Ara     chloroptera"
   ]
  },
  {
   "cell_type": "markdown",
   "metadata": {},
   "source": [
    "Use <span>-n</span> to show the line number of the match:"
   ]
  },
  {
   "cell_type": "code",
   "execution_count": null,
   "metadata": {},
   "outputs": [],
   "source": [
    "$ grep -i -w -n ara spawannxs.txt\n",
    "216:Psittacidae Ara     macao\n",
    "461:Psittacidae Ara     ararauna\n",
    "462:Psittacidae Ara     chloroptera"
   ]
  },
  {
   "cell_type": "markdown",
   "metadata": {},
   "source": [
    "To print all the lines that do not match a pattern, use <span>-v</span>:"
   ]
  },
  {
   "cell_type": "code",
   "execution_count": null,
   "metadata": {},
   "outputs": [],
   "source": [
    "$ grep -i -w -v ara spawannxs.txt"
   ]
  },
  {
   "cell_type": "markdown",
   "metadata": {},
   "source": [
    "To match one of several strings, use <span>grep\n",
    "“string1$\\backslash\\vert$string2” file</span>. <span>grep</span> can be\n",
    "used on multiple files, all files, using wildcards for filenames, etc –\n",
    "explore as and when you need.\n",
    "\n",
    "Finding files with <span>find</span>\n",
    "------------------------------------\n",
    "\n",
    "Its’s easy to find files in UNIX using <span>find</span>! Let’s test it\n",
    "(make sure you are in <span>Sandbox</span>, not <span>Data</span>!)"
   ]
  },
  {
   "cell_type": "code",
   "execution_count": null,
   "metadata": {},
   "outputs": [],
   "source": [
    "$ mkdir TestFind\n",
    "$ cd TestFind\n",
    "$ mkdir -p Dir1/Dir11/Dir111 #what does -p do?\n",
    "$ mkdir Dir2\n",
    "$ mkdir Dir3\n",
    "$ touch Dir1/File1.txt\n",
    "$ touch Dir1/File1.csv\n",
    "$ touch Dir1/File1.tex\n",
    "$ touch Dir2/File2.txt\n",
    "$ touch Dir2/file2.csv\n",
    "$ touch Dir2/File2.tex\n",
    "$ touch Dir1/Dir11/Dir111/File111.txt\n",
    "$ touch Dir3/File3.txt"
   ]
  },
  {
   "cell_type": "markdown",
   "metadata": {},
   "source": [
    "Now find particular files:"
   ]
  },
  {
   "cell_type": "code",
   "execution_count": null,
   "metadata": {},
   "outputs": [],
   "source": [
    "$ find . -name \"File1.txt\"\n",
    "./Dir1/File1.txt"
   ]
  },
  {
   "cell_type": "markdown",
   "metadata": {},
   "source": [
    "Using <span>-iname</span> ignores case, and you can use wildcards:"
   ]
  },
  {
   "cell_type": "code",
   "execution_count": null,
   "metadata": {},
   "outputs": [],
   "source": [
    "$ find . -iname \"fi*.txt\"\n",
    "./Dir1/File1.txt\n",
    "./Dir1/Dir11/Dir111/File111.txt\n",
    "./Dir3/File3.txt\n",
    "./Dir2/File2.txt"
   ]
  },
  {
   "cell_type": "markdown",
   "metadata": {},
   "source": [
    "You can limit the search to exclude sub-directories:"
   ]
  },
  {
   "cell_type": "code",
   "execution_count": null,
   "metadata": {},
   "outputs": [],
   "source": [
    "$ find . -maxdepth 2 -name \"*.txt\"\n",
    "./Dir1/File1.txt\n",
    "./Dir3/File3.txt\n",
    "./Dir2/File2.txt"
   ]
  },
  {
   "cell_type": "markdown",
   "metadata": {},
   "source": [
    "You can exclude certain files:"
   ]
  },
  {
   "cell_type": "code",
   "execution_count": null,
   "metadata": {},
   "outputs": [],
   "source": [
    "$ find . -maxdepth 2 -not -name \"*.txt\"\n",
    ".\n",
    "./Dir1\n",
    "./Dir1/File1.tex\n",
    "./Dir1/File1.csv\n",
    "./Dir1/Dir11\n",
    "./Dir3\n",
    "./Dir2\n",
    "./Dir2/File2.tex\n",
    "./Dir2/File2.csv"
   ]
  },
  {
   "cell_type": "markdown",
   "metadata": {},
   "source": [
    "To find only directories:"
   ]
  },
  {
   "cell_type": "code",
   "execution_count": null,
   "metadata": {},
   "outputs": [],
   "source": [
    "$ find . -type d\n",
    ".\n",
    "./Dir1\n",
    "./Dir1/Dir11\n",
    "./Dir1/Dir11/Dir111\n",
    "./Dir3\n",
    "./Dir2"
   ]
  },
  {
   "cell_type": "markdown",
   "metadata": {},
   "source": [
    "There are are many ways in which you can tweak your Linux/UNIX\n",
    "environment and bash/terminal to your likes. For example, see\n",
    "<http://www.howtogeek.com/tag/ubuntu/ubuntu-tips/>.\n",
    "\n",
    "But be careful, it can be addictive, and sometimes dangerous to your\n",
    "system’s stability!\n",
    "\n",
    "Here are a couple of tweaks that I really find useful:\\\n",
    "<span>*Opening nautilus from terminal*</span>\n",
    "\n",
    "In terminal you can enter “f” to open nautilus in current directory by\n",
    "doing the following. Open your <span>.bashrc</span> for editing:"
   ]
  },
  {
   "cell_type": "code",
   "execution_count": null,
   "metadata": {},
   "outputs": [],
   "source": [
    "$ sudo gedit ~/.bashrc"
   ]
  },
  {
   "cell_type": "markdown",
   "metadata": {},
   "source": [
    "Then add to the last line (type it, don’t copy and paste!):\\\n",
    "<span>alias f=’nautilus .’</span>\n",
    "\n",
    "Then restart terminal or in current terminal:"
   ]
  },
  {
   "cell_type": "code",
   "execution_count": null,
   "metadata": {},
   "outputs": [],
   "source": [
    "$ source ~/.bashrc"
   ]
  },
  {
   "cell_type": "markdown",
   "metadata": {},
   "source": [
    "<span>*Enabling autocomplete in terminal*</span>\n",
    "\n",
    "What happens when you use up and down keys in terminal? If nothing, then\n",
    "you need to enable reverse searching history. To do so, open\n",
    "<span>/etc/inputrc</span>"
   ]
  },
  {
   "cell_type": "code",
   "execution_count": null,
   "metadata": {},
   "outputs": [],
   "source": [
    "$ sudo geany /etc/inputrc"
   ]
  },
  {
   "cell_type": "markdown",
   "metadata": {},
   "source": [
    "Then, add the following to it:"
   ]
  },
  {
   "cell_type": "code",
   "execution_count": null,
   "metadata": {},
   "outputs": [],
   "source": [
    "## arrow up\n",
    "\"\\e[A\":history-search-backward\n",
    "## arrow down\n",
    "\"\\e[B\":history-search-forward"
   ]
  },
  {
   "cell_type": "markdown",
   "metadata": {},
   "source": [
    "Then close current terminal, open new one, and try up and down keys\n",
    "again.\n",
    "\n",
    "Practical: Make sure the basics work\n",
    "------------------------------------\n",
    "\n",
    "1.  <span>**Some instructions**</span>:"
   ]
  },
  {
   "cell_type": "code",
   "execution_count": null,
   "metadata": {},
   "outputs": [],
   "source": [
    "Review (especially if you got lost along the way) and make sure you\n",
    "can run and understand all the commands and get the expected outputs\n",
    "we have covered today.\n",
    "\n",
    "Make sure you have your directory organized with <span>Data</span>\n",
    "and <span>Sandbox</span> with the necessary files, under <span>\n",
    "CMEECourseWork/Week1</span>.\n",
    "\n",
    "Along with the completeness of the practicals/exercises themselves,\n",
    "you will be marked on the basis of how complete and well-organized\n",
    "your directory structure and content is – in all coming weeks\n",
    "as well."
   ]
  },
  {
   "cell_type": "markdown",
   "metadata": {},
   "source": [
    "2.  Here is a more complicated bash command using two pipes <span>*you\n",
    "    are not expected to include the answer to this one as part of your\n",
    "    weekly submission*</span>:"
   ]
  },
  {
   "cell_type": "code",
   "execution_count": null,
   "metadata": {},
   "outputs": [],
   "source": [
    "$ find . -type f -exec ls -s {} \\; | sort -n | head -10"
   ]
  },
  {
   "cell_type": "markdown",
   "metadata": {},
   "source": [
    "What does this command do (Hint: try it on the test directories and\n",
    "    files we created in <span>Sandbox</span>)?"
   ]
  },
  {
   "cell_type": "code",
   "execution_count": null,
   "metadata": {},
   "outputs": [],
   "source": [
    "Note that along with the <span>man</span> command, you can use the\n",
    "internet to get help on practically everything about UNIX!"
   ]
  },
  {
   "cell_type": "markdown",
   "metadata": {},
   "source": [
    "3.  In the directory <span>/Data/fasta</span> you find some FASTA files.\n",
    "    These files have an header starting with $>$ followed by the name of\n",
    "    the sequence and other metadata. Starting from the second line, we\n",
    "    have the sequence data. Write a file called\n",
    "    <span>UnixPrac1.txt</span> with UNIX shell commands that do the\n",
    "    following (number each command with a hashed comment like so – \\# 1,\n",
    "    \\# 2, etc):"
   ]
  },
  {
   "cell_type": "code",
   "execution_count": null,
   "metadata": {},
   "outputs": [],
   "source": [
    "1.  Count how many lines are in each file\n",
    "\n",
    "2.  Print everything starting from the second line for the <span>E.\n",
    "    coli</span> genome\n",
    "\n",
    "3.  Count the sequence length of this genome\n",
    "\n",
    "4.  Count the matches of a particular sequence, “ATGC” in the genome\n",
    "    of *E. coli* (hint: Start by removing the first line and\n",
    "    removing newline characters)\n",
    "\n",
    "5.  Compute the AT/GC ratio\n",
    "\n",
    "Save <span>UnixPrac1.txt</span> in the <span>Code</span> directory.\n",
    "Please make sure that each command calls the data from the\n",
    "<span>Data</span> directory! Do not write any of the above as shell\n",
    "scripts (that’s not been covered yet; see\n",
    "Chapter \\[chap:sscripting\\]) — each one should be a single line\n",
    "solution made of (potentially piped together) UNIX commands.\n",
    "\n",
    "<span>**Please put (judicious) comments in any of your script files.\n",
    "But you won’t be penalized if you haven’t put in comments in the\n",
    "first week in practicals. From the first Python week (Chapter\n",
    "\\[chap:pythonI\\]) onwards, you will be penalizeed if you don’t\n",
    "properly document and comment code (more on this next week), even if\n",
    "you weren’t explicitly asked to.**</span>"
   ]
  },
  {
   "cell_type": "markdown",
   "metadata": {},
   "source": [
    "Readings & Resources\n",
    "--------------------\n",
    "\n",
    "IC library gives you with access to several e- and paper books on UNIX,\n",
    "some specific to Ubuntu. Browse or search and find a good intro book.\n",
    "\n",
    "-   Lots of UNIX tutorials out there. Try\n",
    "    <http://software-carpentry.org/lessons.html> (Chapter “shell”).\n",
    "\n",
    "-   Some good UNIX usage habits:\n",
    "    <http://www.ibm.com/developerworks/aix/library/au-badunixhabits.html>\n",
    "\n",
    "-   List of UNIX commands along with man page:\n",
    "    <http://archive.oreilly.com/linux/cmd/>"
   ]
  }
 ],
 "metadata": {
  "kernelspec": {
   "display_name": "Python 3",
   "language": "python",
   "name": "python3"
  },
  "language_info": {
   "codemirror_mode": {
    "name": "ipython",
    "version": 3
   },
   "file_extension": ".py",
   "mimetype": "text/x-python",
   "name": "python",
   "nbconvert_exporter": "python",
   "pygments_lexer": "ipython3",
   "version": "3.5.2"
  }
 },
 "nbformat": 4,
 "nbformat_minor": 2
}
