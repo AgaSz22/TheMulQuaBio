{
 "cells": [
  {
   "cell_type": "markdown",
   "metadata": {},
   "source": [
    "# Computing Coursework Assessment Criteria <a class=\"tocSkip\", name=\"Apx:Assess\"></a>"
   ]
  },
  {
   "cell_type": "markdown",
   "metadata": {
    "toc": true
   },
   "source": [
    "<h1>Contents<span class=\"tocSkip\"></span></h1>\n",
    "<div class=\"toc\"><ul class=\"toc-item\"><li><span><a href=\"#The-Marking-Scheme\" data-toc-modified-id=\"The-Marking-Scheme-1\"><span class=\"toc-item-num\">1&nbsp;&nbsp;</span>The Marking Scheme</a></span></li></ul></div>"
   ]
  },
  {
   "cell_type": "markdown",
   "metadata": {},
   "source": [
    "## The Marking Scheme\n",
    "\n",
    "Here is the marking scheme we will use:\n",
    "\n",
    "1. You would get 100 pts if,\n",
    "\n",
    "1.  All the in-class scripts[^1] were in place (in the code directory in the respective week's directory) and functional when run on my computer\n",
    "\n",
    "2.  All the assigned practicals / problems are complete and functional, and give the right answers.\n",
    "\n",
    "3.  The scripts are all up to the the mark in terms of internal documentation and commenting\n",
    "\n",
    "4.  There is a neat `readme` file for the overall repository and in each of the weekly directories."
   ]
  },
  {
   "cell_type": "markdown",
   "metadata": {},
   "source": [
    "2.  For every in-class script that gives a syntax error, 5 pts deducted,     and for every script that gives an error because of wrong path\n",
    "    (e.g., absolute) assignment, 2 pts deducted.\n",
    "\n",
    "3.  For every missing script or assigned practical/problem, 10 pts\n",
    "    deducted\n",
    "\n",
    "4.  For every assigned practical/problem, 5 pts deducted for wrong\n",
    "    answer if applicable (that is, script runs without error, but gives\n",
    "    wrong numerical or text output).\n",
    "\n",
    "5.  For every missing <span>readme</span> file, 1 pt deducted.\n",
    "\n",
    "6.  For every extra, non-script file in <span>Code</span> directory, 0.5\n",
    "    pt deducted.\n",
    "\n",
    "7.  For every <span>*valid*</span> script file in <span>Code</span>\n",
    "    directory lacking an appropriate extension, 0.5 pt deducted.\n",
    "\n",
    "8.  For every result of a code/script run not saved to a separate\n",
    "    directory, 1 pt deducted. For example, the separate directory may be\n",
    "    <span>Results</span> for new results, or <span>Data</span>, if the\n",
    "    scripts is for generating a new or modified dataset.\n",
    "\n",
    "9.  For every extra-credit question completed, 2.5 pts added.\n",
    "\n",
    "From the points left after implementing the above criteria, I will\n",
    "exercise my judgement to deduct further marks if the weekly directory\n",
    "structure is disorganized, the code inadequately commented or\n",
    "insufficiently documented, or the written components of practicals are\n",
    "not up to the mark.\n",
    "\n",
    "You will get feedback if these issues needed to be addressed in the\n",
    "final written assessment. The final marks will be based upon these\n",
    "weekly points and a coursework marking criteria (See below). I will up-\n",
    "or down-weigh the contribution of each week to the overall marks based\n",
    "upon the difficulty level.\n",
    "\n",
    "[^1]: <span>*in-class scripts*</span> are the ones that were give to you\n",
    "    to practice with, which you only had to reproduce without error,\n",
    "    while <span>*assigned practicals / problems*</span> are the\n",
    "    assignments/problems you have been given that involve the writing of\n",
    "    new scripts or the modification of existing ones."
   ]
  }
 ],
 "metadata": {
  "kernelspec": {
   "display_name": "Python 3",
   "language": "python",
   "name": "python3"
  },
  "language_info": {
   "codemirror_mode": {
    "name": "ipython",
    "version": 3
   },
   "file_extension": ".py",
   "mimetype": "text/x-python",
   "name": "python",
   "nbconvert_exporter": "python",
   "pygments_lexer": "ipython3",
   "version": "3.5.2"
  },
  "latex_envs": {
   "LaTeX_envs_menu_present": true,
   "autoclose": false,
   "autocomplete": false,
   "bibliofile": "biblio.bib",
   "cite_by": "apalike",
   "current_citInitial": 1,
   "eqLabelWithNumbers": true,
   "eqNumInitial": 1,
   "hotkeys": {
    "equation": "Ctrl-E",
    "itemize": "Ctrl-I"
   },
   "labels_anchors": false,
   "latex_user_defs": false,
   "report_style_numbering": false,
   "user_envs_cfg": false
  },
  "toc": {
   "base_numbering": 1,
   "nav_menu": {},
   "number_sections": true,
   "sideBar": false,
   "skip_h1_title": false,
   "title_cell": "Contents",
   "title_sidebar": "Contents",
   "toc_cell": true,
   "toc_position": {},
   "toc_section_display": true,
   "toc_window_display": true
  }
 },
 "nbformat": 4,
 "nbformat_minor": 2
}
