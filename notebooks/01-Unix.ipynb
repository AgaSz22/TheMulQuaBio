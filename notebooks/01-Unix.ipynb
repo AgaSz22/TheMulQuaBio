{
 "cells": [
  {
   "cell_type": "markdown",
   "metadata": {},
   "source": [
    "# Introduction to UNIX and Linux<a class=\"tocSkip\", name=\"chap:unix1\"></a>"
   ]
  },
  {
   "cell_type": "markdown",
   "metadata": {
    "toc": true
   },
   "source": [
    "<h1>Contents<span class=\"tocSkip\"></span></h1>\n",
    "<div class=\"toc\"><ul class=\"toc-item\"><li><span><a href=\"#What-is-UNIX?\" data-toc-modified-id=\"What-is-UNIX?-1\"><span class=\"toc-item-num\">1&nbsp;&nbsp;</span>What is UNIX?</a></span><ul class=\"toc-item\"><li><span><a href=\"#Why-UNIX?\" data-toc-modified-id=\"Why-UNIX?-1.1\"><span class=\"toc-item-num\">1.1&nbsp;&nbsp;</span>Why UNIX?</a></span></li></ul></li><li><span><a href=\"#UNIX-directory-structure\" data-toc-modified-id=\"UNIX-directory-structure-2\"><span class=\"toc-item-num\">2&nbsp;&nbsp;</span>UNIX directory structure</a></span></li><li><span><a href=\"#Meet-the-UNIX-shell\" data-toc-modified-id=\"Meet-the-UNIX-shell-3\"><span class=\"toc-item-num\">3&nbsp;&nbsp;</span>Meet the UNIX shell</a></span><ul class=\"toc-item\"><li><span><a href=\"#sudo,-and-installing/removing-software\" data-toc-modified-id=\"sudo,-and-installing/removing-software-3.1\"><span class=\"toc-item-num\">3.1&nbsp;&nbsp;</span><code>sudo</code>, and installing/removing software</a></span><ul class=\"toc-item\"><li><span><a href=\"#Installing-from-main-repositories\" data-toc-modified-id=\"Installing-from-main-repositories-3.1.1\"><span class=\"toc-item-num\">3.1.1&nbsp;&nbsp;</span>Installing from main repositories</a></span></li><li><span><a href=\"#Installing-from-other-repositories\" data-toc-modified-id=\"Installing-from-other-repositories-3.1.2\"><span class=\"toc-item-num\">3.1.2&nbsp;&nbsp;</span>Installing from other repositories</a></span></li><li><span><a href=\"#Installing-from-a-downloaded-*.deb-file\" data-toc-modified-id=\"Installing-from-a-downloaded-*.deb-file-3.1.3\"><span class=\"toc-item-num\">3.1.3&nbsp;&nbsp;</span>Installing from a downloaded <code>*.deb</code> file</a></span></li></ul></li></ul></li><li><span><a href=\"#Basic-UNIX-commands\" data-toc-modified-id=\"Basic-UNIX-commands-4\"><span class=\"toc-item-num\">4&nbsp;&nbsp;</span>Basic UNIX commands</a></span></li><li><span><a href=\"#Building-your-coursework-directory-structure\" data-toc-modified-id=\"Building-your-coursework-directory-structure-5\"><span class=\"toc-item-num\">5&nbsp;&nbsp;</span>Building your coursework directory structure</a></span></li><li><span><a href=\"#Command-arguments\" data-toc-modified-id=\"Command-arguments-6\"><span class=\"toc-item-num\">6&nbsp;&nbsp;</span>Command arguments</a></span></li><li><span><a href=\"#Redirection-and-pipes\" data-toc-modified-id=\"Redirection-and-pipes-7\"><span class=\"toc-item-num\">7&nbsp;&nbsp;</span>Redirection and pipes</a></span></li><li><span><a href=\"#Wildcards\" data-toc-modified-id=\"Wildcards-8\"><span class=\"toc-item-num\">8&nbsp;&nbsp;</span>Wildcards</a></span></li><li><span><a href=\"#Using-grep\" data-toc-modified-id=\"Using-grep-9\"><span class=\"toc-item-num\">9&nbsp;&nbsp;</span>Using <span>grep</span></a></span></li><li><span><a href=\"#Finding-files-with-find\" data-toc-modified-id=\"Finding-files-with-find-10\"><span class=\"toc-item-num\">10&nbsp;&nbsp;</span>Finding files with <span>find</span></a></span></li><li><span><a href=\"#Practical:-Make-sure-the-basics-work\" data-toc-modified-id=\"Practical:-Make-sure-the-basics-work-11\"><span class=\"toc-item-num\">11&nbsp;&nbsp;</span>Practical: Make sure the basics work</a></span></li><li><span><a href=\"#Readings-&amp;-Resources\" data-toc-modified-id=\"Readings-&amp;-Resources-12\"><span class=\"toc-item-num\">12&nbsp;&nbsp;</span>Readings &amp; Resources</a></span></li></ul></div>"
   ]
  },
  {
   "cell_type": "markdown",
   "metadata": {},
   "source": [
    "## What is UNIX?\n",
    "\n",
    "UNIX is a machine-independent operating system (OS) developed in the 1970s by AT&T programmers (notably Brian Kernighan and Dennis Ritchie, fathers of `C`) for programmers (you!). It is multi-user and network-oriented by design, uses plain text files for storing data (no proprietary file formats), and has a strictly hierarchical directory structure (more on this below). This makes it an ideal environment for developing your code and storing your data.\n",
    "\n",
    "Linux and Mac OS are Unix-like (or UN\\*X or *nix) operating systems that have evolved from UNIX. Ubuntu is a Linux distribution.\n",
    "\n",
    "### Why UNIX?\n",
    "\n",
    "Here are some good reasons:\n",
    "\n",
    "* It was designed for developing code and storing data — an ideal native habitat for programming languages like Python and R!\n",
    "\n",
    "* Robust, stable, secure (very few UNIX viruses and malware — I am yet to encountered one after almost 10 years!)\n",
    "\n",
    "* Free and open source!\n",
    "\n",
    "* Scores of small programs available to perform simple tasks – can be combined easily\n",
    "\n",
    "* Easy to automate tasks (e.g., using shell scripts)\n",
    "\n",
    "* Multi-user (multiple users can log in concurrently use computer)\n",
    "\n",
    "* Multi-tasking (can perform many tasks at the same time)\n",
    "\n",
    "* Network-ready (easy to communicate between computers)\n",
    "\n",
    "* UNIX has been around since the early 1970's and will likely be around at the end of your career (the hard work you are putting into learning UNIX will pay off over a lifetime!)\n",
    "\n",
    "* Amazing support — a large body of tutorials and support web sites are readily available online.\n",
    "\n",
    "* Basically all resources for High-Performance Computing (computer clusters, large workstations, etc.) run a UNIX or Linux operating system.\n",
    "\n",
    "If you still need convincing, [see this](http://whylinuxisbetter.net) (I would have chosen a more subtle domain name though!) to aid your brain-washing (cleaning?). Also, if you like history, [see this]( https://www.howtogeek.com/182649/htg-explains-what-is-unix).\n",
    "\n",
    "---\n",
    ">**32-bit vs 64-bit:** The terms 32-bit and 64-bit refer to the way a computer's processor (also called a CPU), handles information. A 64-bit OS handles large amounts of random access memory (RAM) more effectively than a 32-bit system. Specifically, while 32 bits of information can only access 4 GB of RAM, a 64-bit machine can access essentially unlimited system memory (though this is not yet physically possible)!\n",
    "\n",
    "---\n",
    "\n",
    "## UNIX directory structure\n",
    "\n",
    "<figure>\n",
    "<img src=\"./graphics/unix-tree.png\" alt=\"xkcd on programming\" style=\"width:40%\">\n",
    "<small> <center>(Source: [https://pathanruet.files.wordpress.com/2012/05/unix-tree.png](https://pathanruet.files.wordpress.com/2012/05/unix-tree.png))</center></small>\n",
    "</figure>\n",
    "\n",
    "The UNIX directory (same as \"Folder\") structure is hierarchical, with a single tree starting from the \"root\" `/`. This is quite unlike Windows or MS-DOS, where there are separate trees for disk partitions, removable media, network, etc. The key UNIX directories are:\n",
    "\n",
    "|         |            |\n",
    "| :------------- |:-------------| \n",
    "| `/`     | Is the \"root\" directory | \n",
    "| `/bin`     | Contains basic programs | \n",
    "| `/etc`     | Contains configuration files | \n",
    "| `/dev`     | Contains files connecting to devices (keyboard, mouse, screen, etc.)| \n",
    "| `/home`     |Your home directory – this is where all your documents are where you will usually work| \n",
    "| `/tmp`     | Contains Temporary files| \n",
    "\n",
    "This hierarchical directory structure makes navigating your computer from the terminal/shell (coming up next!) or encoding this navigation in your computer programs easier.\n",
    "\n",
    "---\n",
    "> **Linux installation:** When you install Linux (say, a Ubuntu version), you will have the opportunity to create separate `swap`, `root` and `home` partitions on your hard disk. `swap` necessarily needs to be a separate partition, while `root + home` can be on the same partition. If you are a Linux newbie, I suggest that you create a separate `home` partition, even though it is not necessary — that way, even if you break your linux install, you can easily reinstall it by just wiping the root partition, without losing any of your data (which sits in `home`).\n",
    "\n",
    "---\n",
    "\n",
    "## Meet the UNIX shell\n",
    "\n",
    "The shell (or terminal) is a text command processor to interface with the Operating System's \"kernel\". We will use the popular (yes, it’s popular!) `bash` shell.\n",
    "\n",
    "&#9733; To launch a `bash` shell, do `Ctrl + Alt + t` (or use ` Meta` key) — try it now.\n",
    "\n",
    "OK, so you have met the shell. Isn't it lovely? Note that:\n",
    "\n",
    "* The shell automatically starts in your home directory `/home/yourname/`, also called `~` (important to\n",
    "remember!)\n",
    "\n",
    "* Use the `Tab` key – very handy (try `ls` with a double `Tab` `Tab`)\n",
    "\n",
    "* You can navigate commands you previously typed using the up/down arrows\n",
    "\n",
    "Other useful keyboard shortcuts are:\n",
    "\n",
    "|         |            |\n",
    "| :------------- |:-------------| \n",
    "| `Ctrl + A` |             Go to the beginning of the line|\n",
    "| `Ctrl + E`  |           Go to the end of the line|\n",
    "|  `Ctrl + L`  |           Clear the screen|\n",
    "|  `Ctrl + U`   |          Clear the line before cursor position|\n",
    "|  `Ctrl + K`    |         Clear the line after the cursor|\n",
    "|  `Ctrl + C`     |        Kill whatever you are running|\n",
    "|  `Ctrl + D`      |       Exit (close) the current shell|\n",
    "|  `Ctrl + right arrow`|   Move cursor forward one whole word|\n",
    "|  `Ctrl + left arrow`  |  Move cursor backward one whole word|\n",
    " \n",
    " \n",
    "### `sudo`, and installing/removing software\n",
    "\n",
    "You can install software in your `/home` directory. In UNIX you originally had to login as `root` (administrator). But in Ubuntu, it is sufficient to add `sudo` (`s`uper `u`ser `do`) in front of a command. \n",
    "\n",
    "#### Installing from main repositories\n",
    "\n",
    "You can install anything that is in the main Ubuntu package/software \"repository\".\n",
    "\n",
    "&#9733; For example, try installing R, which is in the main Ubuntu repository:"
   ]
  },
  {
   "cell_type": "raw",
   "metadata": {},
   "source": [
    "sudo apt install r-base"
   ]
  },
  {
   "cell_type": "markdown",
   "metadata": {},
   "source": [
    "This will prompt you for your password.\n",
    "\n",
    "#### Installing from other repositories \n",
    "\n",
    "Let's try installing something that isn't in the main repository — a weather indicator. For this, you first have to add the repository:"
   ]
  },
  {
   "cell_type": "raw",
   "metadata": {},
   "source": [
    "sudo add-apt-repository ppa:atareao/atareao"
   ]
  },
  {
   "cell_type": "markdown",
   "metadata": {},
   "source": [
    "This will ask you to first approve the addition of this repository. This is because this is a PPA (Personal Package Archive) from a third party. Then you need to update your repository package list:"
   ]
  },
  {
   "cell_type": "raw",
   "metadata": {},
   "source": [
    "sudo apt-get update "
   ]
  },
  {
   "cell_type": "markdown",
   "metadata": {},
   "source": [
    "And then install,"
   ]
  },
  {
   "cell_type": "raw",
   "metadata": {},
   "source": [
    "sudo apt-get install my-weather-indicator"
   ]
  },
  {
   "cell_type": "markdown",
   "metadata": {},
   "source": [
    "<figure>\n",
    "<img src=\"./graphics/sudo.png\" alt=\"xkcd on programming\" style=\"width:30%\">\n",
    "<small> <center>(Source: [http://xkcd.com/149/](http://xkcd.com/149/))</center></small>\n",
    "</figure>\n",
    "\n",
    "You can also easily remove software by, well, using the `remove` command! You will find that UNIX commands are quite exhaustive, and their names quite intuitive, as they should be. If you think a command with a certain command with a certain name should exist, it very often does!\n",
    "\n",
    "&#9733; Try removing the totem video player and installing the more versatile VLC player instead:"
   ]
  },
  {
   "cell_type": "raw",
   "metadata": {},
   "source": [
    "sudo apt-get remove totem "
   ]
  },
  {
   "cell_type": "markdown",
   "metadata": {},
   "source": [
    "---\n",
    "\n",
    "> **Ubuntu repositories:** Official Repositories are defined in `/etc/apt/sources.list`. You can enable or disable individual repositories by editing that file. \n",
    "\n",
    "---"
   ]
  },
  {
   "cell_type": "markdown",
   "metadata": {},
   "source": [
    "#### Installing from a downloaded `*.deb` file\n",
    "\n",
    "You can also install software from third-party sources by downloading an installable package archive. Such archives come with a `*.deb` extension. \n",
    "\n",
    "For example, you can install [Visual Studio Code](https://code.visualstudio.com/) this way. Let's try it.\n",
    "\n",
    "&#9733; First download and install the .deb package (64-bit) from their website (google it!). This will save it to your `Downloads` directory.Then `cd` to its location:"
   ]
  },
  {
   "cell_type": "raw",
   "metadata": {},
   "source": [
    "cd ~/Downloads"
   ]
  },
  {
   "cell_type": "markdown",
   "metadata": {},
   "source": [
    "This is same as typing `cd /home/<YourUserName>/Downloads`. Then, you can install using:"
   ]
  },
  {
   "cell_type": "raw",
   "metadata": {},
   "source": [
    "sudo dpkg -i <file>.deb # de-package it\n",
    "sudo apt-get install -f  # install dependencies"
   ]
  },
  {
   "cell_type": "markdown",
   "metadata": {},
   "source": [
    "Installing the `.deb` package will automatically install the apt repository and authorize it. That means henceforth, `code` will automatically auto-update during the regular system updates. "
   ]
  },
  {
   "cell_type": "markdown",
   "metadata": {},
   "source": [
    "\n",
    "## Basic UNIX commands\n",
    "\n",
    "Here are some basic commands, many of which you will use frequently.  \n",
    "\n",
    "|         |            |\n",
    "| :------------- |:-------------| \n",
    "| `man COMMAND` |                      Show help page of a command.|\n",
    "| `whoami` |                              Display your user-name.| \n",
    "|   `pwd`|                                  Show the current directory.| \n",
    "|   `ls`|                                   List the files in the directory.| \n",
    "|   `cd DIRNAME`|                       Change directory.| \n",
    "|   `cd ..`                               | Move one directory up.| \n",
    "|   `cd /`|                                 Go to the root directory.| \n",
    "|   `cd ~`or just `cd `  | Go to the home directory.| \n",
    "|   `cp FROM TO`|                   Copy a file, or a directory non-recursively (what's this? Google it!).| \n",
    "|   `cp -r FROM TO`|                   Copy a directory recursively (what's this? Google it!).| \n",
    "|   `mv FROM TO` |                 Move or rename a file or directory.| \n",
    "|   `touch FILENAME`|                   Create an empty file.| \n",
    "|   `echo \"My string\"`|                     Print a string (in this example, \"My string\").| \n",
    "|   `rm FILEorDIRNAME` |                    Remove a file or directory non-recursively.| \n",
    "|   `rm -r DIRNAME`     |                Remove a directory recursively.| \n",
    "|   `wc FILENAME`|                     Count the number of lines and words in a file.|\n",
    "|  `sort FILENAME` |                  Sort the lines of a file and print result.|\n",
    "|  `uniq `          |                     Shows only unique elements of a list.|\n",
    "|  `cat FILENAME`    |                Print the file on the screen.|\n",
    "|  `less FILENAME`   |                Progressively print a file on the screen (\"q\" to exit).|\n",
    "|  `head FILENAME`   |                Print the first few lines of a file.|\n",
    "|  `tail FILENAME`   |                Print the last few lines of a file.|\n",
    "|  `history`         |                    Show the last commands you typed.|\n",
    "|  `date`            |                    Print current date.|\n",
    "|  `file FILENAME`   |                Determine the type of a file.|\n",
    "|  `passwd`         |                     Change user password.|\n",
    "|  `chmod FILENAME`|                  Change file permissions.|"
   ]
  },
  {
   "cell_type": "markdown",
   "metadata": {},
   "source": [
    "## Building your coursework directory structure\n",
    "\n",
    "It is time to start building your CMEE coursework directory structure. Please follow these rules:\n",
    "\n",
    "Do all your work in `CMEECourseWork`, located in a suitable place in your `/home`(make mama proud, keep your `home`organized!)\n",
    "\n",
    "Each week's coursework should be in its respective directory; e.g., `CMEECourseWork/Week1`, `CMEECourseWork/Week2`, etc.\n",
    "\n",
    "Each week’s directory will contain directories called `Code`, `Data`, etc (later)\n",
    "\n",
    "You will bring your `CMEECourseWork` (or `QMEECourseWork`, or whatever) and all it's contents under version control using Git (later).\n",
    "\n",
    "Don't forget to use the `tab`key. It autocompletes directory names for you (same in `R`and `Python`, and/or\n",
    "provides a list of files in the current directory (hit `tab` twice after certain commands. For example, try double tab after typing `ls`at the bash prompt.)\n",
    "\n",
    "\\[$\\quad\\star$\\] OK, `mkdir`your course work directory now. First, `cd` to an appropriate place (e.g., `Documents` on your `home`):"
   ]
  },
  {
   "cell_type": "raw",
   "metadata": {},
   "source": [
    "cd ~/Documents"
   ]
  },
  {
   "cell_type": "raw",
   "metadata": {},
   "source": [
    "ls"
   ]
  },
  {
   "cell_type": "raw",
   "metadata": {},
   "source": [
    "mkdir CMEECourseWork && cd CMEECourseWork"
   ]
  },
  {
   "cell_type": "markdown",
   "metadata": {},
   "source": [
    "Note that you can combine commands using `&&`"
   ]
  },
  {
   "cell_type": "raw",
   "metadata": {},
   "source": [
    "mkdir Week1"
   ]
  },
  {
   "cell_type": "raw",
   "metadata": {},
   "source": [
    "cd Week1"
   ]
  },
  {
   "cell_type": "code",
   "execution_count": 20,
   "metadata": {},
   "outputs": [],
   "source": [
    "mkdir Week1/sandbox"
   ]
  },
  {
   "cell_type": "code",
   "execution_count": 21,
   "metadata": {},
   "outputs": [
    {
     "name": "stdout",
     "output_type": "stream",
     "text": [
      "bash: cd: Sandbox: No such file or directory\n"
     ]
    },
    {
     "ename": "",
     "evalue": "1",
     "output_type": "error",
     "traceback": []
    }
   ],
   "source": [
    "cd Sandbox"
   ]
  },
  {
   "cell_type": "code",
   "execution_count": 30,
   "metadata": {},
   "outputs": [],
   "source": [
    "cd .."
   ]
  },
  {
   "cell_type": "code",
   "execution_count": 32,
   "metadata": {},
   "outputs": [
    {
     "name": "stdout",
     "output_type": "stream",
     "text": [
      "rm: cannot remove 'sandbox': Is a directory\n"
     ]
    },
    {
     "ename": "",
     "evalue": "1",
     "output_type": "error",
     "traceback": []
    }
   ],
   "source": [
    "rm sandbox"
   ]
  },
  {
   "cell_type": "raw",
   "metadata": {},
   "source": [
    "mv sandbox Sandbox # OR, \"rm -r sandbox\""
   ]
  },
  {
   "cell_type": "markdown",
   "metadata": {},
   "source": [
    "Careful with the `-r` option, as it `r`ecursively removes the entire directory tree below the current one, files and all!"
   ]
  },
  {
   "cell_type": "markdown",
   "metadata": {},
   "source": [
    "Note the hash mark `#` above — anything after a `#` is ignored (so you can use it for commenting)."
   ]
  },
  {
   "cell_type": "raw",
   "metadata": {},
   "source": [
    "cd Sandbox\n",
    "pwd\n",
    "ls\n",
    "touch TestFile # OR, \"touch TestFile.txt\"\n",
    "ls\n",
    "mv TestFile TestFile2\n",
    "rm TestFile2"
   ]
  },
  {
   "cell_type": "markdown",
   "metadata": {},
   "source": [
    "You could have made your project directories and subdirectories in one\n",
    "swoop by using the <span>-p</span> option of <span>mkdir</span>:"
   ]
  },
  {
   "cell_type": "raw",
   "metadata": {},
   "source": [
    "mkdir -p CMEECourseWork/Week1/{Data,Code,Sandbox}"
   ]
  },
  {
   "cell_type": "markdown",
   "metadata": {},
   "source": [
    "### Command arguments\n",
    "\n",
    "Most UNIX commands accept arguments that modify their behavior. E.g., <span>ls -l</span> (ls “minus”l) lists the files in longer format. Some useful arguments:\n",
    "\n",
    "  -------------------------------------- ----------------------------------------------------------------------------------------\n",
    "  <span>cp -r \\[DIR1\\] \\[DIR2\\]</span>   Copy a directory recursively (i.e., including all the sub-directories and files).\n",
    "  <span>rm -i \\[FILENAME\\]</span>        Remove a file, but asks first (for safety).\n",
    "  <span>rm -r \\[DIR\\]</span>             Remove a directory recursively (i.e., including all the sub-directories and files).\n",
    "  <span>ls -a</span>                     List all files, including hidden ones.\n",
    "  <span>ls -h</span>                     List all files, with human-readable sizes (Mb, Gb).\n",
    "  <span>ls -l</span>                     List all files, long format.\n",
    "  <span>ls -S</span>                     List all files, order by size.\n",
    "  <span>ls -t</span>                     List all files, order by modification time.\n",
    "  <span>ls -1</span>                     List all files, one file per line.\n",
    "  <span>mkdir -p Dir1/Dir2/Dir3</span>   Create the directory Dir3 and Dir1 and Dir2 if they do not already exist.\n",
    "  <span>sort -n</span>                   Sort all the lines, but use numeric values instead of dictionary (i.e., 11 follows 2).\n",
    "  -------------------------------------- ----------------------------------------------------------------------------------------\n",
    "\n",
    "You can also combine command arguments. Try:"
   ]
  },
  {
   "cell_type": "code",
   "execution_count": null,
   "metadata": {},
   "outputs": [],
   "source": [
    "$ ls -1t #combines -l and -t"
   ]
  },
  {
   "cell_type": "markdown",
   "metadata": {},
   "source": [
    "Redirection and pipes\n",
    "---------------------\n",
    "\n",
    "Output of programs can also be “redirected” to a file:\n",
    "\n",
    "  ------------------- -------------------------------------------------------------------------------------------------------\n",
    "  <span>&gt;</span>   Redirect output from a command to a file on disk. If the file already exists, it will be overwritten.\n",
    "  <span>$>>$</span>   Append the output from a command to a file on disk. If the file does not exist, it will be created.\n",
    "  ------------------- -------------------------------------------------------------------------------------------------------\n",
    "\n",
    "Examples (make sure you are in <span>Week1/Sandbox</span>):"
   ]
  },
  {
   "cell_type": "code",
   "execution_count": null,
   "metadata": {},
   "outputs": [],
   "source": [
    "$ echo \"My first line.\" > test.txt\n",
    "$ cat test.txt\n",
    "$ echo \"My second line\" >> test.txt\n",
    "$ ls / >> ListRootDir.txt\n",
    "$ cat ListRootDir.txt #Isn't that cool?!"
   ]
  },
  {
   "cell_type": "markdown",
   "metadata": {},
   "source": [
    "We can also concatenate commands using “pipes” with “$\\vert$” e.g., to\n",
    "count how many files are in root (/) directory:"
   ]
  },
  {
   "cell_type": "code",
   "execution_count": null,
   "metadata": {},
   "outputs": [],
   "source": [
    "$ ls / | wc -l # what does this do? Look up \"man wc\""
   ]
  },
  {
   "cell_type": "markdown",
   "metadata": {},
   "source": [
    "Or try"
   ]
  },
  {
   "cell_type": "code",
   "execution_count": null,
   "metadata": {},
   "outputs": [],
   "source": [
    "$ ls -lt | head -5 #what does this do?"
   ]
  },
  {
   "cell_type": "markdown",
   "metadata": {},
   "source": [
    "Wildcards\n",
    "---------\n",
    "\n",
    "We can use wildcards to find files based on their names (again, in\n",
    "<span>Week1/Sandbox</span> !):"
   ]
  },
  {
   "cell_type": "code",
   "execution_count": null,
   "metadata": {},
   "outputs": [],
   "source": [
    "$ mkdir TestWild\n",
    "$ cd TestWild\n",
    "$ touch File1txt\n",
    "$ touch File2.txt\n",
    "$ touch File3.txt\n",
    "$ touch File4.txt\n",
    "$ touch File1.csv\n",
    "$ touch File2.csv\n",
    "$ touch File3.csv\n",
    "$ touch File4.csv\n",
    "$ touch Anotherfile.csv\n",
    "$ touch Anotherfile.txt\n",
    "$ ls \n",
    "$ ls | wc -l"
   ]
  },
  {
   "cell_type": "markdown",
   "metadata": {},
   "source": [
    "We will use the following wildcards:\n",
    "\n",
    "  ---------------- ---------------------------------------------------------------\n",
    "  <span>?</span>   Any single character, except a leading dot (hidden files).\n",
    "                   Zero or more characters, except a leading dot (hidden files).\n",
    "                   Define a class of characters (e.g., upper-case letters).\n",
    "  ---------------- ---------------------------------------------------------------\n",
    "\n",
    "Now let’s try to find the files using wildcards:"
   ]
  },
  {
   "cell_type": "code",
   "execution_count": null,
   "metadata": {},
   "outputs": [],
   "source": [
    "$ ls *\n",
    "$ ls File*\n",
    "$ ls *.txt\n",
    "$ ls File?.txt\n",
    "$ ls File[1-2].txt\n",
    "$ ls File[!3].*"
   ]
  },
  {
   "cell_type": "markdown",
   "metadata": {},
   "source": [
    "Using <span>grep</span>\n",
    "-----------------------\n",
    "\n",
    "<span>grep</span> is a command that matches strings in a file (why is\n",
    "this useful?). It is based on regular expressions (more on this later).\n",
    "Let’s explore some basic usage of <span>grep</span>. For a test file\n",
    "let’s download a list of protected species from the UN website (to\n",
    "<span>Sandbox</span>):"
   ]
  },
  {
   "cell_type": "code",
   "execution_count": null,
   "metadata": {},
   "outputs": [],
   "source": [
    "$ wget http://www.cep.unep.org/pubs/legislation/spawannxs.txt #Cool!\n",
    "$ head -n 50 spawannxs.txt #You will see \"head\" in R as well"
   ]
  },
  {
   "cell_type": "markdown",
   "metadata": {},
   "source": [
    "Now,"
   ]
  },
  {
   "cell_type": "code",
   "execution_count": null,
   "metadata": {},
   "outputs": [],
   "source": [
    "$ mkdir ../Data #Note the relative path \"../\"\n",
    "$ mv spawannxs.txt ../Data/\n",
    "$ cd ../Data\n",
    "$ head -n 50 spawannxs.txt "
   ]
  },
  {
   "cell_type": "markdown",
   "metadata": {},
   "source": [
    "Note that now you have a <span>Data</span> directory.\n",
    "\n",
    "OK, what about falcons?"
   ]
  },
  {
   "cell_type": "code",
   "execution_count": null,
   "metadata": {},
   "outputs": [],
   "source": [
    "$ grep Falco spawannxs.txt\n",
    "Falconidae  Falco       femoralis septentrionalis\n",
    "Falconidae  Falco       peregrinus\n",
    "Falconidae  Polyborus   plancus\n",
    "Falconidae  Falco       columbarius"
   ]
  },
  {
   "cell_type": "markdown",
   "metadata": {},
   "source": [
    "Using <span>-i</span> make the matching case-insensitive:"
   ]
  },
  {
   "cell_type": "code",
   "execution_count": null,
   "metadata": {},
   "outputs": [],
   "source": [
    "$ grep -i Falco spawannxs.txt\n",
    "Order:  FALCONIFORMES\n",
    "Falconidae  Falco       femoralis septentrionalis\n",
    "Falconidae  Falco       peregrinus\n",
    "Falconidae  Polyborus   plancus\n",
    "Order:  FALCONIFORMES\n",
    "Order:  FALCONIFORMES\n",
    "Order:  FALCONIFORMES\n",
    "Falconidae  Falco       columbarius"
   ]
  },
  {
   "cell_type": "markdown",
   "metadata": {},
   "source": [
    "Now let’s find the beautiful “Ara” macaws:\n",
    "\n",
    "![image](Ara_ararauna.jpg){width=\".7\\textwidth\"}\n",
    "\n",
    "But this poses a problem (what is the problem?):"
   ]
  },
  {
   "cell_type": "code",
   "execution_count": null,
   "metadata": {},
   "outputs": [],
   "source": [
    "$ grep -i ara spawannxs.txt\n",
    "Flacourtiaceae  Banaras     vanderbiltii\n",
    "Order:  CHARADRIIFORMES\n",
    "Charadriidae    Charadrius  melodus\n",
    "Psittacidae Amazona     arausica\n",
    "Psittacidae Ara     macao\n",
    "Dasyproctidae   Dasyprocta  guamara\n",
    "Palmae      Syagrus (= Rhyticocos)  amara\n",
    "Psittacidae Ara     ararauna\n",
    "Psittacidae Ara     chloroptera\n",
    "Psittacidae Arao        manilata\n",
    "Mustelidae  Eira        barbara\n",
    "Order:  CHARADRIIFORMES"
   ]
  },
  {
   "cell_type": "markdown",
   "metadata": {},
   "source": [
    "We can solve this by specifying <span>-w</span> to match only full\n",
    "words:"
   ]
  },
  {
   "cell_type": "code",
   "execution_count": null,
   "metadata": {},
   "outputs": [],
   "source": [
    "$ grep -i -w ara spawannxs.txt\n",
    "Psittacidae Ara     macao\n",
    "Psittacidae Ara     ararauna\n",
    "Psittacidae Ara     chloroptera"
   ]
  },
  {
   "cell_type": "markdown",
   "metadata": {},
   "source": [
    "And also show line(s) after the one that was matched, we can use <span>\n",
    "-A x</span>, where <span>x</span> is number of lines to use:"
   ]
  },
  {
   "cell_type": "code",
   "execution_count": null,
   "metadata": {},
   "outputs": [],
   "source": [
    "$ grep -i -w -A 1 ara spawannxs.txt\n",
    "Psittacidae Ara     macao\n",
    "\n",
    "--\n",
    "Psittacidae Ara     ararauna\n",
    "Psittacidae Ara     chloroptera\n",
    "Psittacidae Arao        manilata"
   ]
  },
  {
   "cell_type": "markdown",
   "metadata": {},
   "source": [
    "Similarly, <span>-B</span> shows the lines before:"
   ]
  },
  {
   "cell_type": "code",
   "execution_count": null,
   "metadata": {},
   "outputs": [],
   "source": [
    "$ grep -i -w -B 1 ara spawannxs.txt\n",
    "Psittacidae Amazona     vittata\n",
    "Psittacidae Ara     macao\n",
    "--\n",
    "Psittacidae Amazona     ochrocephala\n",
    "Psittacidae Ara     ararauna\n",
    "Psittacidae Ara     chloroptera"
   ]
  },
  {
   "cell_type": "markdown",
   "metadata": {},
   "source": [
    "Use <span>-n</span> to show the line number of the match:"
   ]
  },
  {
   "cell_type": "code",
   "execution_count": null,
   "metadata": {},
   "outputs": [],
   "source": [
    "$ grep -i -w -n ara spawannxs.txt\n",
    "216:Psittacidae Ara     macao\n",
    "461:Psittacidae Ara     ararauna\n",
    "462:Psittacidae Ara     chloroptera"
   ]
  },
  {
   "cell_type": "markdown",
   "metadata": {},
   "source": [
    "To print all the lines that do not match a pattern, use <span>-v</span>:"
   ]
  },
  {
   "cell_type": "code",
   "execution_count": null,
   "metadata": {},
   "outputs": [],
   "source": [
    "$ grep -i -w -v ara spawannxs.txt"
   ]
  },
  {
   "cell_type": "markdown",
   "metadata": {},
   "source": [
    "To match one of several strings, use <span>grep\n",
    "“string1$\\backslash\\vert$string2” file</span>. <span>grep</span> can be\n",
    "used on multiple files, all files, using wildcards for filenames, etc –\n",
    "explore as and when you need.\n",
    "\n",
    "Finding files with <span>find</span>\n",
    "------------------------------------\n",
    "\n",
    "Its’s easy to find files in UNIX using <span>find</span>! Let’s test it\n",
    "(make sure you are in <span>Sandbox</span>, not <span>Data</span>!)"
   ]
  },
  {
   "cell_type": "code",
   "execution_count": null,
   "metadata": {},
   "outputs": [],
   "source": [
    "$ mkdir TestFind\n",
    "$ cd TestFind\n",
    "$ mkdir -p Dir1/Dir11/Dir111 #what does -p do?\n",
    "$ mkdir Dir2\n",
    "$ mkdir Dir3\n",
    "$ touch Dir1/File1.txt\n",
    "$ touch Dir1/File1.csv\n",
    "$ touch Dir1/File1.tex\n",
    "$ touch Dir2/File2.txt\n",
    "$ touch Dir2/file2.csv\n",
    "$ touch Dir2/File2.tex\n",
    "$ touch Dir1/Dir11/Dir111/File111.txt\n",
    "$ touch Dir3/File3.txt"
   ]
  },
  {
   "cell_type": "markdown",
   "metadata": {},
   "source": [
    "Now find particular files:"
   ]
  },
  {
   "cell_type": "code",
   "execution_count": null,
   "metadata": {},
   "outputs": [],
   "source": [
    "$ find . -name \"File1.txt\"\n",
    "./Dir1/File1.txt"
   ]
  },
  {
   "cell_type": "markdown",
   "metadata": {},
   "source": [
    "Using <span>-iname</span> ignores case, and you can use wildcards:"
   ]
  },
  {
   "cell_type": "code",
   "execution_count": null,
   "metadata": {},
   "outputs": [],
   "source": [
    "$ find . -iname \"fi*.txt\"\n",
    "./Dir1/File1.txt\n",
    "./Dir1/Dir11/Dir111/File111.txt\n",
    "./Dir3/File3.txt\n",
    "./Dir2/File2.txt"
   ]
  },
  {
   "cell_type": "markdown",
   "metadata": {},
   "source": [
    "You can limit the search to exclude sub-directories:"
   ]
  },
  {
   "cell_type": "code",
   "execution_count": null,
   "metadata": {},
   "outputs": [],
   "source": [
    "$ find . -maxdepth 2 -name \"*.txt\"\n",
    "./Dir1/File1.txt\n",
    "./Dir3/File3.txt\n",
    "./Dir2/File2.txt"
   ]
  },
  {
   "cell_type": "markdown",
   "metadata": {},
   "source": [
    "You can exclude certain files:"
   ]
  },
  {
   "cell_type": "code",
   "execution_count": null,
   "metadata": {},
   "outputs": [],
   "source": [
    "$ find . -maxdepth 2 -not -name \"*.txt\"\n",
    ".\n",
    "./Dir1\n",
    "./Dir1/File1.tex\n",
    "./Dir1/File1.csv\n",
    "./Dir1/Dir11\n",
    "./Dir3\n",
    "./Dir2\n",
    "./Dir2/File2.tex\n",
    "./Dir2/File2.csv"
   ]
  },
  {
   "cell_type": "markdown",
   "metadata": {},
   "source": [
    "To find only directories:"
   ]
  },
  {
   "cell_type": "code",
   "execution_count": null,
   "metadata": {},
   "outputs": [],
   "source": [
    "$ find . -type d\n",
    ".\n",
    "./Dir1\n",
    "./Dir1/Dir11\n",
    "./Dir1/Dir11/Dir111\n",
    "./Dir3\n",
    "./Dir2"
   ]
  },
  {
   "cell_type": "markdown",
   "metadata": {},
   "source": [
    "There are are many ways in which you can tweak your Linux/UNIX\n",
    "environment and bash/terminal to your likes. For example, see\n",
    "<http://www.howtogeek.com/tag/ubuntu/ubuntu-tips/>.\n",
    "\n",
    "But be careful, it can be addictive, and sometimes dangerous to your\n",
    "system’s stability!\n",
    "\n",
    "Here are a couple of tweaks that I really find useful:\\\n",
    "<span>*Opening nautilus from terminal*</span>\n",
    "\n",
    "In terminal you can enter “f” to open nautilus in current directory by\n",
    "doing the following. Open your <span>.bashrc</span> for editing:"
   ]
  },
  {
   "cell_type": "code",
   "execution_count": null,
   "metadata": {},
   "outputs": [],
   "source": [
    "$ sudo gedit ~/.bashrc"
   ]
  },
  {
   "cell_type": "markdown",
   "metadata": {},
   "source": [
    "Then add to the last line (type it, don’t copy and paste!):\\\n",
    "<span>alias f=’nautilus .’</span>\n",
    "\n",
    "Then restart terminal or in current terminal:"
   ]
  },
  {
   "cell_type": "code",
   "execution_count": null,
   "metadata": {},
   "outputs": [],
   "source": [
    "$ source ~/.bashrc"
   ]
  },
  {
   "cell_type": "markdown",
   "metadata": {},
   "source": [
    "<span>*Enabling autocomplete in terminal*</span>\n",
    "\n",
    "What happens when you use up and down keys in terminal? If nothing, then\n",
    "you need to enable reverse searching history. To do so, open\n",
    "<span>/etc/inputrc</span>"
   ]
  },
  {
   "cell_type": "code",
   "execution_count": null,
   "metadata": {},
   "outputs": [],
   "source": [
    "$ sudo geany /etc/inputrc"
   ]
  },
  {
   "cell_type": "markdown",
   "metadata": {},
   "source": [
    "Then, add the following to it:"
   ]
  },
  {
   "cell_type": "code",
   "execution_count": null,
   "metadata": {},
   "outputs": [],
   "source": [
    "## arrow up\n",
    "\"\\e[A\":history-search-backward\n",
    "## arrow down\n",
    "\"\\e[B\":history-search-forward"
   ]
  },
  {
   "cell_type": "markdown",
   "metadata": {},
   "source": [
    "Then close current terminal, open new one, and try up and down keys\n",
    "again.\n",
    "\n",
    "Practical: Make sure the basics work\n",
    "------------------------------------\n",
    "\n",
    "1.  <span>**Some instructions**</span>:"
   ]
  },
  {
   "cell_type": "code",
   "execution_count": null,
   "metadata": {},
   "outputs": [],
   "source": [
    "Review (especially if you got lost along the way) and make sure you\n",
    "can run and understand all the commands and get the expected outputs\n",
    "we have covered today.\n",
    "\n",
    "Make sure you have your directory organized with <span>Data</span>\n",
    "and <span>Sandbox</span> with the necessary files, under <span>\n",
    "CMEECourseWork/Week1</span>.\n",
    "\n",
    "Along with the completeness of the practicals/exercises themselves,\n",
    "you will be marked on the basis of how complete and well-organized\n",
    "your directory structure and content is – in all coming weeks\n",
    "as well."
   ]
  },
  {
   "cell_type": "markdown",
   "metadata": {},
   "source": [
    "2.  Here is a more complicated bash command using two pipes <span>*you\n",
    "    are not expected to include the answer to this one as part of your\n",
    "    weekly submission*</span>:"
   ]
  },
  {
   "cell_type": "code",
   "execution_count": null,
   "metadata": {},
   "outputs": [],
   "source": [
    "$ find . -type f -exec ls -s {} \\; | sort -n | head -10"
   ]
  },
  {
   "cell_type": "markdown",
   "metadata": {},
   "source": [
    "What does this command do (Hint: try it on the test directories and\n",
    "    files we created in <span>Sandbox</span>)?"
   ]
  },
  {
   "cell_type": "code",
   "execution_count": null,
   "metadata": {},
   "outputs": [],
   "source": [
    "Note that along with the <span>man</span> command, you can use the\n",
    "internet to get help on practically everything about UNIX!"
   ]
  },
  {
   "cell_type": "markdown",
   "metadata": {},
   "source": [
    "3.  In the directory <span>/Data/fasta</span> you find some FASTA files.\n",
    "    These files have an header starting with $>$ followed by the name of\n",
    "    the sequence and other metadata. Starting from the second line, we\n",
    "    have the sequence data. Write a file called\n",
    "    <span>UnixPrac1.txt</span> with UNIX shell commands that do the\n",
    "    following (number each command with a hashed comment like so – \\# 1,\n",
    "    \\# 2, etc):"
   ]
  },
  {
   "cell_type": "code",
   "execution_count": null,
   "metadata": {},
   "outputs": [],
   "source": [
    "1.  Count how many lines are in each file\n",
    "\n",
    "2.  Print everything starting from the second line for the <span>E.\n",
    "    coli</span> genome\n",
    "\n",
    "3.  Count the sequence length of this genome\n",
    "\n",
    "4.  Count the matches of a particular sequence, “ATGC” in the genome\n",
    "    of *E. coli* (hint: Start by removing the first line and\n",
    "    removing newline characters)\n",
    "\n",
    "5.  Compute the AT/GC ratio\n",
    "\n",
    "Save <span>UnixPrac1.txt</span> in the <span>Code</span> directory.\n",
    "Please make sure that each command calls the data from the\n",
    "<span>Data</span> directory! Do not write any of the above as shell\n",
    "scripts (that’s not been covered yet; see\n",
    "Chapter \\[chap:sscripting\\]) — each one should be a single line\n",
    "solution made of (potentially piped together) UNIX commands.\n",
    "\n",
    "<span>**Please put (judicious) comments in any of your script files.\n",
    "But you won’t be penalized if you haven’t put in comments in the\n",
    "first week in practicals. From the first Python week (Chapter\n",
    "\\[chap:pythonI\\]) onwards, you will be penalizeed if you don’t\n",
    "properly document and comment code (more on this next week), even if\n",
    "you weren’t explicitly asked to.**</span>"
   ]
  },
  {
   "cell_type": "markdown",
   "metadata": {},
   "source": [
    "Readings & Resources\n",
    "--------------------\n",
    "\n",
    "IC library gives you with access to several e- and paper books on UNIX,\n",
    "some specific to Ubuntu. Browse or search and find a good intro book.\n",
    "\n",
    "-   Lots of UNIX tutorials out there. Try\n",
    "    <http://software-carpentry.org/lessons.html> (Chapter “shell”).\n",
    "\n",
    "-   Some good UNIX usage habits:\n",
    "    <http://www.ibm.com/developerworks/aix/library/au-badunixhabits.html>\n",
    "\n",
    "-   List of UNIX commands along with man page:\n",
    "    <http://archive.oreilly.com/linux/cmd/>"
   ]
  }
 ],
 "metadata": {
  "kernelspec": {
   "display_name": "Bash",
   "language": "bash",
   "name": "bash"
  },
  "language_info": {
   "codemirror_mode": "shell",
   "file_extension": ".sh",
   "mimetype": "text/x-sh",
   "name": "bash"
  },
  "latex_envs": {
   "LaTeX_envs_menu_present": true,
   "autoclose": false,
   "autocomplete": false,
   "bibliofile": "biblio.bib",
   "cite_by": "apalike",
   "current_citInitial": 1,
   "eqLabelWithNumbers": true,
   "eqNumInitial": 1,
   "hotkeys": {
    "equation": "Ctrl-E",
    "itemize": "Ctrl-I"
   },
   "labels_anchors": false,
   "latex_user_defs": false,
   "report_style_numbering": false,
   "user_envs_cfg": false
  },
  "toc": {
   "base_numbering": 1,
   "nav_menu": {},
   "number_sections": true,
   "sideBar": false,
   "skip_h1_title": true,
   "title_cell": "Contents",
   "title_sidebar": "Contents",
   "toc_cell": true,
   "toc_position": {},
   "toc_section_display": true,
   "toc_window_display": true
  }
 },
 "nbformat": 4,
 "nbformat_minor": 2
}
