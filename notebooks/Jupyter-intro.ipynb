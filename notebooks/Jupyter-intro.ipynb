{
 "cells": [
  {
   "cell_type": "markdown",
   "metadata": {},
   "source": [
    "# Introduction to Jupyter notebooks \n",
    "(*and the cool things within*)\n",
    " \n",
    "### The Jupyter Notebook offers an interactive interface to many languages, including Python and R, that can be viewed and manipulated in web browsers.\n",
    " \n",
    "Jupyter notebooks can run code, and also store the code and a current snapshot of the output (graphics and text), together with notes (in markdown), in an editable document called a *notebook* that is saved on disk as a [JSON](https://www.json.org/) file with a .ipynb extension (like this notebook that you are currently reading).\n",
    "\n",
    "Thus a Jupyter notebook is similar to a [Mathematica](https://www.wolfram.com/mathematica/)\n",
    " or [Maple](https://www.maplesoft.com/) notebook. The difference is that Jupyter is free, and fast improving, and unlike Mathematica or Maple nbs, Jupyter notebooks can support almost [100 programming languages](https://github.com/jupyter/jupyter/wiki/Jupyter-kernels) (more on this below).\n",
    "\n",
    "### Why use interactive notebooks?\n",
    "\n",
    "Jupyter is the great tool for “literate programming”; a software development style pioneered by (yes, again!)  Donald Knuth. In his words:\n",
    "> Let us change our traditional attitude to the construction of programs: Instead of imagining that our main task is to instruct a computer what to do, let us concentrate rather on explaining to human beings what we want a computer to do.\n",
    "\n",
    "In literate programming, human-friendly text is as important as code, making coding accessible to a larger proportion of humans! \n",
    "\n",
    "With Jupyter notebooks, you can *explore quantitative ideas* by combining computer code with human text snippets. The three biggest applications of jupyter notebooks are for are:\n",
    "* Data science (e.g., with [pandas](http://pandas.pydata.org/))\n",
    "* Mathematical analyses (e.g., with [sympy](http://www.sympy.org/en/index.html))\n",
    "* Education\n",
    "* Interactive visualization (e.g., with [matpliotib]() or [ggplot]())\n",
    "\n",
    "Jupyter Notebooks are increasingly being used as a research tool in academic, government (e.g., NASA), as well as industry (e.g., IBM, Facebook, Microsoft, JP Morgan...) sectors. \n",
    "\n",
    "### Jupyter vs. IPython\n",
    "\n",
    "[Brian Granger](http://www.physics.calpoly.edu/faculty/bgranger) and [Fernando Pérez](http://fperez.org/) created IPython as an implementation of Python for literate programming, taking advantage of and improved web browser technologies (e.g., HTML5). IPython notebooks quickly gained popularity (they were a great alternative to Mathematica and Maple as well), and in 2013 the IPython team won a Sloan Foundation Grant to accelerate development of this technology. The IPython Notebook concept was expanded upon to allow for additional programming languages, which became project Jupyter (w)hy \"Jupyter\"? See: https://github.com/jupyter/design/wiki/Jupyter-Logo). IPython itself is now focused on interactive Python, part of which is providing a Python kernel for Jupyter.\n",
    "\n",
    "*Your Jupyter notebooks will typically open in IPython, but will not allow you Jupyter features* (of course!)  \n",
    "\n",
    "### Key Jupyter features\n",
    "\n",
    "The Jupyter Notebook:\n",
    "\n",
    "* ...allows you to keep notes using [markdown](https://en.wikipedia.org/wiki/Markdown), the increasingly popular markup language.\n",
    "* ...offers features available in typical Interactive Development Environments (IDEs) such as code completion and easy access to help.\n",
    "* ...has LaTeX support. \n",
    "* ...can be saved and easily shared in the .ipynb [JSON](https://www.json.org/) (**J**ava**S**cript **O**bject **N**otation -- syntax for storing and exchanging data).\n",
    "* ...can be kept under version control (e.g., with git).\n",
    "* ...be viewed with nbviewer technology on github (where these notes are currently hosted). \n",
    "* ...can be exported to multiple formats, including html and pdf."
   ]
  },
  {
   "cell_type": "markdown",
   "metadata": {},
   "source": [
    "## Installing Jupyter\n",
    "\n",
    "Please see project [Jupyter's instructions for installation] (http://jupyter.readthedocs.io/en/latest/install.html)\n",
    "\n",
    "If you are a new user, you can install Python+Jupyter using [Anaconda](https://www.continuum.io/downloads), by downloading Anaconda's latest Python 3 version.\n",
    "\n",
    "If you already have Python (2 or 3), follow the following instructions for your particular OS. I suggest using python 3 henceforth, though the rest of these notes will work with python 2.7 as well, for the most part.  \n",
    "\n",
    "### Ubuntu / Linux\n",
    "\n",
    "As an existing Python user, you may wish to install Jupyter using Python’s package manager, pip, instead of Anaconda. Do the following:\n",
    "\n",
    "``` bash\n",
    "\n",
    "$ pip3 install --upgrade pip\n",
    "\n",
    "$ pip3 install jupyter\n",
    "\n",
    "```\n",
    "\n",
    "#### Python 2.7 on Ubuntu 16.04\n",
    "\n",
    "If this does not work for python 2.7 on Ubuntu 16.04, do this: \n",
    "\n",
    "``` bash\n",
    "\n",
    "$ sudo apt-get update\n",
    "\n",
    "$ sudo apt-get -y install python2.7 python-pip python-dev\n",
    "\n",
    "$ python --version\n",
    "\n",
    "$ pip --version\n",
    "\n",
    "$ sudo apt-get -y install ipython ipython-notebook\n",
    "\n",
    "$ sudo -H pip install jupyter\n",
    "\n",
    "\n",
    "``` \n",
    "\n",
    "You will likely get an error like: \"You are using pip version 8.1.1, however version 8.1.2 is available.\"\n",
    "\n",
    "``` bash\n",
    "\n",
    "$ sudo -H pip install --upgrade pip\n",
    "\n",
    "$ sudo -H pip install jupyter\n",
    "\n",
    "```\n",
    "\n",
    "====\n",
    "#### Mac:\n",
    "\n",
    "``` bash\n",
    "\n",
    "$ pip3 install --upgrade pip\n",
    "\n",
    "$ pip3 install jupyter\n",
    "\n",
    "```\n",
    "\n",
    "====\n",
    "\n",
    "#### Windows:\n",
    "\n",
    "https://www.continuum.io/downloads\n",
    "\n",
    "\n",
    "====\n",
    "\n",
    "##### That's it! You can now run it:\n",
    "\n",
    "``` bash\n",
    "$ jupyter notebook\n",
    "``` "
   ]
  },
  {
   "cell_type": "markdown",
   "metadata": {},
   "source": [
    "### Language Kernels\n"
   ]
  },
  {
   "cell_type": "markdown",
   "metadata": {},
   "source": [
    "### Adding some tools"
   ]
  },
  {
   "cell_type": "markdown",
   "metadata": {},
   "source": [
    "## Key elements of the Jupyter nb\n",
    "\n",
    "#### Text formatting\n",
    "\n",
    "Markdown...\n",
    "\n",
    "#### Equations - $\\LaTeX$\n",
    "\n",
    "Ecologists love this one:  $\\frac{dN}{dt} = rN \\left( 1-\\frac{N}{K}\\right)$\n",
    "\n",
    "#### Code \n",
    "\n",
    "Python/R/etc..."
   ]
  },
  {
   "cell_type": "markdown",
   "metadata": {},
   "source": [
    "### Keyboard shortcuts\n",
    "\n",
    "The following are keyboard shortcuts are important:\n",
    "\n",
    "For a full list, click anywhere outside your current cell and hit the \"h\" key. Or, click on the \"help\" menu item at the top."
   ]
  },
  {
   "cell_type": "code",
   "execution_count": 2,
   "metadata": {},
   "outputs": [
    {
     "name": "stdout",
     "output_type": "stream",
     "text": [
      "this is python!\n"
     ]
    }
   ],
   "source": [
    "a = \"this is python!\"; print (a)"
   ]
  },
  {
   "cell_type": "code",
   "execution_count": 1,
   "metadata": {},
   "outputs": [
    {
     "name": "stdout",
     "output_type": "stream",
     "text": [
      "this is R!"
     ]
    }
   ],
   "source": [
    "a <- \"this is R!\"; cat(a)"
   ]
  },
  {
   "cell_type": "markdown",
   "metadata": {},
   "source": [
    "* #### Graphics - Python/R/etc"
   ]
  },
  {
   "cell_type": "code",
   "execution_count": 1,
   "metadata": {},
   "outputs": [
    {
     "data": {
      "image/png": "[encoded data removed]",
      "text/plain": [
       "plot without title"
      ]
     },
     "metadata": {},
     "output_type": "display_data"
    }
   ],
   "source": [
    "require(ggplot2)\n",
    "\n",
    "plot(1,1)"
   ]
  },
  {
   "cell_type": "markdown",
   "metadata": {},
   "source": [
    "## Readings and Resources\n",
    "\n",
    "1. [Markdown cheatsheet](https://github.com/adam-p/markdown-here/wiki/Markdown-Cheatsheet)\n",
    "2. [A gallery of interesting Jupyter Notebooks\n",
    "](https://github.com/jupyter/jupyter/wiki/A-gallery-of-interesting-Jupyter-Notebooks)\n",
    "3. [Python Data Science Handbook](https://github.com/jakevdp/PythonDataScienceHandbook)\n",
    "4. [Scientific Python Lectures in Jupyter](https://github.com/jrjohansson/scientific-python-lectures)"
   ]
  }
 ],
 "metadata": {
  "kernelspec": {
   "display_name": "Python 3",
   "language": "python",
   "name": "python3"
  },
  "language_info": {
   "codemirror_mode": {
    "name": "ipython",
    "version": 3
   },
   "file_extension": ".py",
   "mimetype": "text/x-python",
   "name": "python",
   "nbconvert_exporter": "python",
   "pygments_lexer": "ipython3",
   "version": "3.6.2"
  },
  "latex_envs": {
   "LaTeX_envs_menu_present": true,
   "autocomplete": false,
   "bibliofile": "biblio.bib",
   "cite_by": "apalike",
   "current_citInitial": 1,
   "eqLabelWithNumbers": true,
   "eqNumInitial": 1,
   "hotkeys": {
    "equation": "Ctrl-E",
    "itemize": "Ctrl-I"
   },
   "labels_anchors": false,
   "latex_user_defs": false,
   "report_style_numbering": false,
   "user_envs_cfg": false
  }
 },
 "nbformat": 4,
 "nbformat_minor": 1
}
