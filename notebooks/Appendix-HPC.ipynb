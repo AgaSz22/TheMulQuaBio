{
 "cells": [
  {
   "cell_type": "markdown",
   "metadata": {},
   "source": [
    "High Performance Computing {#chap:HPC}\n",
    "==========================\n",
    "\n",
    "This chapter introduces you to HPC in python using of the Imperial\n",
    "College HPC\n",
    "([(https://wiki.imperial.ac.uk/display/HPC/Introduction]((https://wiki.imperial.ac.uk/display/HPC/Introduction)).\n",
    "\n",
    "Local parallel processing\n",
    "-------------------------\n",
    "\n",
    "Note that there are a number of ways in which you can develop HPC\n",
    "implementations for your code locally (on your own computer). I will not\n",
    "cover these, but here is a list of particularly useful approaches/tools:\n",
    "\n",
    "-   Ipython <span>parallel</span>:\n",
    "    <https://ipython.org/ipython-doc/3/parallel/>\n",
    "\n",
    "-   Multi-threading, using the <span>threading</span> package:\n",
    "    <https://docs.python.org/3/library/threading.html>\n",
    "\n",
    "-   Using multiple processors with the <span>multiprocessing</span>\n",
    "    package <https://docs.python.org/2/library/multiprocessing.html>\n",
    "\n",
    "The difference between threading and multiprocessing is that threads\n",
    "share in the same memory space, while processes have separate memory\n",
    "spaces. This makes it a harder to share information between processes\n",
    "with multiprocessing, but this is till a useful approach for quick and\n",
    "dirty parallelization. When better communication between processes is\n",
    "required, sophisticated solutions such as MPI and OpenMP may be needed.\n",
    "The MPI (Message Passing Interface) standard/protocol can be used in\n",
    "Python to parallelize your code over multiple processors through the\n",
    "<span>mpi4py</span> package:\n",
    "<http://mpi4py.scipy.org/docs/usrman/index.html>. You can also\n",
    "parallelize numpy array loops with <span>cython</span> and OpenMP:\n",
    "<http://www.perrygeo.com/parallelizing-numpy-array-loops-with-cython-and-mpi.html>.\n",
    "\n",
    "Running python scripts on IC HPC\n",
    "--------------------------------\n",
    "\n",
    "<span>*These instructions also apply, with suitable modifications, for R\n",
    "scripts.*</span>\n",
    "\n",
    "### Preparing the scripts for running on the HPC\n",
    "\n",
    "The script you will run needs a sha-bang (telling it what shell to run,\n",
    "usually bash), you need to allocate resources to PBS (such as walltime,\n",
    "number of processors, and memory , using the <span>\\#PBS</span>\n",
    "directive), and tell it what Python script to run. The bash script could\n",
    "look something like this:\n",
    "\n",
    "Or, you can do something like this to move all files one-by-one to avoid\n",
    "exceeding memory allocation (<span>.p</span> indicates that you used\n",
    "<span>pickle</span> to dump results):"
   ]
  },
  {
   "cell_type": "code",
   "execution_count": null,
   "metadata": {},
   "outputs": [],
   "source": [
    "for f in *.p; do\n",
    "    echo \"Processing $f...\"\n",
    "    mv $f $WORK/TestPyHPC/output/\n",
    "done"
   ]
  },
  {
   "cell_type": "markdown",
   "metadata": {},
   "source": [
    "NOTE: Most of the cx1 nodes have multiple cores, so there’s no fixed\n",
    "memory assigned to each core. If you use more memory than your request\n",
    "on your <span>\\#PBS</span> directive, your job is likely to be\n",
    "terminated. If you request more memory than is available, the job will\n",
    "remain queued until sufficient memory is free for the job to run.\n",
    "\n",
    "Your HPC enabled Python code could look like this:\n",
    "\n",
    "Note the lines in this Python code where you the environment so that it\n",
    "knows the working directory and where to output files.\n",
    "\n",
    "### Copying scripts from your computer to the HPC server\n",
    "\n",
    "Then, secure copy bash script file to <span>\\$HOME</span> on HPC server\n",
    "following <span>\\$ scp source host:destination</span> structure, e.g.:"
   ]
  },
  {
   "cell_type": "code",
   "execution_count": null,
   "metadata": {},
   "outputs": [],
   "source": [
    "$ scp script.sh user@login.cx1.hpc.ic.ac.uk:/home/user/whatever/script.sh"
   ]
  },
  {
   "cell_type": "markdown",
   "metadata": {},
   "source": [
    "### Running the scripts\n",
    "\n",
    "Open a secure shell (ssh):"
   ]
  },
  {
   "cell_type": "code",
   "execution_count": null,
   "metadata": {},
   "outputs": [],
   "source": [
    "$ ssh user@login.cx1.hpc.ic.ac.uk"
   ]
  },
  {
   "cell_type": "markdown",
   "metadata": {},
   "source": [
    "where <span>user</span> is your ICL username. You will then be prompted\n",
    "to enter your (ICL) password. Once on the HPC server, check for\n",
    "available modules:"
   ]
  },
  {
   "cell_type": "code",
   "execution_count": null,
   "metadata": {},
   "outputs": [],
   "source": [
    "$ module avail"
   ]
  },
  {
   "cell_type": "markdown",
   "metadata": {},
   "source": [
    "Your job then needs to be queued using <span>qsub</span> (PBS):"
   ]
  },
  {
   "cell_type": "code",
   "execution_count": null,
   "metadata": {},
   "outputs": [],
   "source": [
    "$ qsub -j eo script.sh"
   ]
  },
  {
   "cell_type": "markdown",
   "metadata": {},
   "source": [
    "where <span>-j eo</span> is an option to join both output and error into\n",
    "one file. Running the script will produce a job output (anything that is\n",
    "printed in the shell terminal (e.g. <span>echo</span>)), and an error\n",
    "file (related to whether the script was successful or not), in the form\n",
    "of {scriptname}.o{job id} and {scriptname}.e{jobid}.\\\n",
    "The <span>qstat</span> command provides information on the job being\n",
    "submitted (which queue (short, medium, long), status, etc.) as well as\n",
    "information on all queues available (-q, -Q).\n",
    "\n",
    "### Using a python script to submit jobs\n",
    "\n",
    "PBS also allows you to submit jobs using a Python (instead of shell)\n",
    "script. Look up the <span>qsub</span> manual (<span>man qsub</span>) in\n",
    "the HPC terminal, or visit\n",
    "<https://gist.github.com/nobias/5b2373258e595e5242d5>.\n",
    "\n",
    "For example, the Python job script named “MyHPCPy.py” for a job named\n",
    "“HelloJob” prints “Hello”:"
   ]
  },
  {
   "cell_type": "code",
   "execution_count": null,
   "metadata": {},
   "outputs": [],
   "source": [
    "#!/usr/bin/python\n",
    "#PBS -l select=1:ncpus=3:mem=1gb\n",
    "#PBS -N HelloJob\n",
    "print \"Hello\""
   ]
  },
  {
   "cell_type": "markdown",
   "metadata": {},
   "source": [
    "To run a Python job script you would do the same a for a bash job script\n",
    "above:"
   ]
  },
  {
   "cell_type": "code",
   "execution_count": null,
   "metadata": {},
   "outputs": [],
   "source": [
    "$ qsub MyHPCPy.py"
   ]
  },
  {
   "cell_type": "markdown",
   "metadata": {},
   "source": [
    "Readings & Resources\n",
    "--------------------\n",
    "\n",
    "-   IC library gives you with access to several e- and paper books on\n",
    "    UNIX, some specific to Ubuntu. Browse or search and find a good\n",
    "    intro book.\n",
    "\n",
    "-   The ICL HPC wiki is a very useful resource:\n",
    "    <https://wiki.imperial.ac.uk/display/HPC/Command+line>"
   ]
  }
 ],
 "metadata": {},
 "nbformat": 4,
 "nbformat_minor": 2
}
