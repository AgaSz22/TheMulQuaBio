{
 "cells": [
  {
   "cell_type": "markdown",
   "metadata": {
    "toc": true
   },
   "source": [
    "<h1>Contents<span class=\"tocSkip\"></span></h1>\n",
    "<div class=\"toc\"><ul class=\"toc-item\"><li><span><a href=\"#Data-manipulation-and-analyses-(in-Python)\" data-toc-modified-id=\"Data-manipulation-and-analyses-(in-Python)-1\"><span class=\"toc-item-num\">1&nbsp;&nbsp;</span>Data manipulation and analyses (in Python)</a></span><ul class=\"toc-item\"><li><span><a href=\"#Introduction\" data-toc-modified-id=\"Introduction-1.1\"><span class=\"toc-item-num\">1.1&nbsp;&nbsp;</span>Introduction</a></span></li><li><span><a href=\"#Installing-Pandas\" data-toc-modified-id=\"Installing-Pandas-1.2\"><span class=\"toc-item-num\">1.2&nbsp;&nbsp;</span>Installing Pandas</a></span><ul class=\"toc-item\"><li><span><a href=\"#Reminder-about-tabbing-and-help!\" data-toc-modified-id=\"Reminder-about-tabbing-and-help!-1.2.1\"><span class=\"toc-item-num\">1.2.1&nbsp;&nbsp;</span>Reminder about tabbing and help!</a></span></li></ul></li><li><span><a href=\"#dataframes\" data-toc-modified-id=\"dataframes-1.3\"><span class=\"toc-item-num\">1.3&nbsp;&nbsp;</span><code>dataframes</code></a></span><ul class=\"toc-item\"><li><span><a href=\"#importing-data\" data-toc-modified-id=\"importing-data-1.3.1\"><span class=\"toc-item-num\">1.3.1&nbsp;&nbsp;</span>importing data</a></span></li><li><span><a href=\"#Creating-dataframes\" data-toc-modified-id=\"Creating-dataframes-1.3.2\"><span class=\"toc-item-num\">1.3.2&nbsp;&nbsp;</span>Creating dataframes</a></span></li><li><span><a href=\"#Examining-your-data\" data-toc-modified-id=\"Examining-your-data-1.3.3\"><span class=\"toc-item-num\">1.3.3&nbsp;&nbsp;</span>Examining your data</a></span></li></ul></li><li><span><a href=\"#Databases-and-Python\" data-toc-modified-id=\"Databases-and-Python-1.4\"><span class=\"toc-item-num\">1.4&nbsp;&nbsp;</span>Databases and Python</a></span><ul class=\"toc-item\"><li><span><a href=\"#Relational-databases\" data-toc-modified-id=\"Relational-databases-1.4.1\"><span class=\"toc-item-num\">1.4.1&nbsp;&nbsp;</span>Relational databases</a></span></li><li><span><a href=\"#SQLite\" data-toc-modified-id=\"SQLite-1.4.2\"><span class=\"toc-item-num\">1.4.2&nbsp;&nbsp;</span>SQLite</a></span></li><li><span><a href=\"#SQLite-with-python\" data-toc-modified-id=\"SQLite-with-python-1.4.3\"><span class=\"toc-item-num\">1.4.3&nbsp;&nbsp;</span>SQLite with python</a></span></li></ul></li><li><span><a href=\"#Readings-and-Resources\" data-toc-modified-id=\"Readings-and-Resources-1.5\"><span class=\"toc-item-num\">1.5&nbsp;&nbsp;</span>Readings and Resources</a></span></li></ul></li></ul></div>"
   ]
  },
  {
   "cell_type": "markdown",
   "metadata": {},
   "source": [
    "<!--NAVIGATION-->\n",
    "\n",
    "< [Back to Intro](Intro.ipynb) >\n"
   ]
  },
  {
   "cell_type": "markdown",
   "metadata": {},
   "source": [
    "# Data manipulation and analyses (in Python)"
   ]
  },
  {
   "cell_type": "markdown",
   "metadata": {},
   "source": [
    "**Table of Contents**\n",
    "<div id=\"toc\"></div>"
   ]
  },
  {
   "cell_type": "markdown",
   "metadata": {},
   "source": [
    "## Introduction\n",
    "\n",
    "You can do complex biological data manipulation and analyses using the `pandas` python package (or by switching kernels, using `R`!)\n",
    "\n",
    "We will look at pandas here, which provides `R`-like functions for data manipulation and analyses. `pandas` is built on top of NumPy. Most importantly, it offers an R-like `DataFrame` object: a multidimensional array with explicit row and column names that can ontain heterogeneous types of data as well as  missing values, which would not be possible using numpy arrays.\n",
    "\n",
    "`pandas` also implements a number of powerful data operations for filtering, grouping and reshaping data similar to R or spreadsheet programs."
   ]
  },
  {
   "cell_type": "markdown",
   "metadata": {},
   "source": [
    "## Installing Pandas\n",
    "\n",
    "`pandas` requires NumPy. See the [Pandas documentation](http://pandas.pydata.org/).\n",
    "If you installed Anaconda, you already have Pandas installed. Otherwise, you can `sudo apt-get install` it.\n",
    "\n",
    "Assuming `pandas` is installed, you can import it and check the version:"
   ]
  },
  {
   "cell_type": "code",
   "execution_count": 3,
   "metadata": {},
   "outputs": [
    {
     "data": {
      "text/plain": [
       "'0.20.3'"
      ]
     },
     "execution_count": 3,
     "metadata": {},
     "output_type": "execute_result"
    }
   ],
   "source": [
    "import pandas as pd\n",
    "pd.__version__"
   ]
  },
  {
   "cell_type": "code",
   "execution_count": 12,
   "metadata": {
    "collapsed": true
   },
   "outputs": [],
   "source": [
    "import scipy as sc"
   ]
  },
  {
   "cell_type": "markdown",
   "metadata": {},
   "source": [
    "Just as we generally import NumPy under the alias ``np``, we will import Pandas under the alias ``pd``:"
   ]
  },
  {
   "cell_type": "markdown",
   "metadata": {},
   "source": [
    "### Reminder about tabbing and help!\n",
    "\n",
    "As you read through these chapters, don't forget that Jupyter gives you the ability to quickly explore the contents of a package or methods applicable to an an object by using the tab-completion feature. Also documentation of various functions can be accessed using the ``?`` character. For example, to display all the contents of the pandas namespace, you can type\n",
    "\n",
    "```ipython\n",
    "In [1]: pd.<TAB>\n",
    "```\n",
    "\n",
    "And to display Pandas's built-in documentation, you can use this:\n",
    "\n",
    "```ipython\n",
    "In [2]: pd?\n",
    "```"
   ]
  },
  {
   "cell_type": "markdown",
   "metadata": {},
   "source": [
    "## `dataframes`\n",
    "\n",
    "The dataframes is the main data object in pandas. \n",
    "\n",
    "### importing data\n",
    "Dataframes can be created from multiple sources - e.g. CSV files, excel files, and JSON."
   ]
  },
  {
   "cell_type": "code",
   "execution_count": 6,
   "metadata": {
    "scrolled": true
   },
   "outputs": [
    {
     "data": {
      "text/html": [
       "<div>\n",
       "<style>\n",
       "    .dataframe thead tr:only-child th {\n",
       "        text-align: right;\n",
       "    }\n",
       "\n",
       "    .dataframe thead th {\n",
       "        text-align: left;\n",
       "    }\n",
       "\n",
       "    .dataframe tbody tr th {\n",
       "        vertical-align: top;\n",
       "    }\n",
       "</style>\n",
       "<table border=\"1\" class=\"dataframe\">\n",
       "  <thead>\n",
       "    <tr style=\"text-align: right;\">\n",
       "      <th></th>\n",
       "      <th>Species</th>\n",
       "      <th>Infraorder</th>\n",
       "      <th>Family</th>\n",
       "      <th>Distribution</th>\n",
       "      <th>Body mass male (Kg)</th>\n",
       "    </tr>\n",
       "  </thead>\n",
       "  <tbody>\n",
       "    <tr>\n",
       "      <th>0</th>\n",
       "      <td>Daubentonia_madagascariensis</td>\n",
       "      <td>Chiromyiformes</td>\n",
       "      <td>Daubentoniidae</td>\n",
       "      <td>Madagascar</td>\n",
       "      <td>2.700</td>\n",
       "    </tr>\n",
       "    <tr>\n",
       "      <th>1</th>\n",
       "      <td>Allocebus_trichotis</td>\n",
       "      <td>Lemuriformes</td>\n",
       "      <td>Cheirogaleidae</td>\n",
       "      <td>Madagascar</td>\n",
       "      <td>0.100</td>\n",
       "    </tr>\n",
       "    <tr>\n",
       "      <th>2</th>\n",
       "      <td>Avahi_laniger</td>\n",
       "      <td>Lemuriformes</td>\n",
       "      <td>Indridae</td>\n",
       "      <td>America</td>\n",
       "      <td>1.030</td>\n",
       "    </tr>\n",
       "    <tr>\n",
       "      <th>3</th>\n",
       "      <td>Avahi_occidentalis</td>\n",
       "      <td>Lemuriformes</td>\n",
       "      <td>Indridae</td>\n",
       "      <td>Madagascar</td>\n",
       "      <td>0.814</td>\n",
       "    </tr>\n",
       "    <tr>\n",
       "      <th>4</th>\n",
       "      <td>Avahi_unicolor</td>\n",
       "      <td>Lemuriformes</td>\n",
       "      <td>Indridae</td>\n",
       "      <td>America</td>\n",
       "      <td>0.830</td>\n",
       "    </tr>\n",
       "    <tr>\n",
       "      <th>5</th>\n",
       "      <td>Cheirogaleus_adipicaudatus</td>\n",
       "      <td>Lemuriformes</td>\n",
       "      <td>Cheirogaleidae</td>\n",
       "      <td>Madagascar</td>\n",
       "      <td>0.200</td>\n",
       "    </tr>\n",
       "    <tr>\n",
       "      <th>6</th>\n",
       "      <td>Cheirogaleus_crossleyi</td>\n",
       "      <td>Lemuriformes</td>\n",
       "      <td>Cheirogaleidae</td>\n",
       "      <td>Madagascar</td>\n",
       "      <td>0.400</td>\n",
       "    </tr>\n",
       "    <tr>\n",
       "      <th>7</th>\n",
       "      <td>Cheirogaleus_major</td>\n",
       "      <td>Lemuriformes</td>\n",
       "      <td>Cheirogaleidae</td>\n",
       "      <td>Madagascar</td>\n",
       "      <td>0.450</td>\n",
       "    </tr>\n",
       "    <tr>\n",
       "      <th>8</th>\n",
       "      <td>Cheirogaleus_medius</td>\n",
       "      <td>Lemuriformes</td>\n",
       "      <td>Cheirogaleidae</td>\n",
       "      <td>Madagascar</td>\n",
       "      <td>0.217</td>\n",
       "    </tr>\n",
       "  </tbody>\n",
       "</table>\n",
       "</div>"
      ],
      "text/plain": [
       "                        Species       Infraorder          Family Distribution  \\\n",
       "0  Daubentonia_madagascariensis  Chiromyiformes   Daubentoniidae   Madagascar   \n",
       "1           Allocebus_trichotis     Lemuriformes  Cheirogaleidae   Madagascar   \n",
       "2                 Avahi_laniger     Lemuriformes        Indridae      America   \n",
       "3            Avahi_occidentalis     Lemuriformes        Indridae   Madagascar   \n",
       "4                Avahi_unicolor     Lemuriformes        Indridae      America   \n",
       "5    Cheirogaleus_adipicaudatus     Lemuriformes  Cheirogaleidae   Madagascar   \n",
       "6        Cheirogaleus_crossleyi     Lemuriformes  Cheirogaleidae   Madagascar   \n",
       "7            Cheirogaleus_major     Lemuriformes  Cheirogaleidae   Madagascar   \n",
       "8           Cheirogaleus_medius     Lemuriformes  Cheirogaleidae   Madagascar   \n",
       "\n",
       "   Body mass male (Kg)  \n",
       "0                2.700  \n",
       "1                0.100  \n",
       "2                1.030  \n",
       "3                0.814  \n",
       "4                0.830  \n",
       "5                0.200  \n",
       "6                0.400  \n",
       "7                0.450  \n",
       "8                0.217  "
      ]
     },
     "execution_count": 6,
     "metadata": {},
     "output_type": "execute_result"
    }
   ],
   "source": [
    "MyDF = pd.read_csv('../silbiocomp/Practicals/Data/testcsv.csv', sep=',')\n",
    "MyDF"
   ]
  },
  {
   "cell_type": "markdown",
   "metadata": {},
   "source": [
    "### Creating dataframes\n",
    "\n",
    "You can also create dataframes using a python dictionary like syntax: "
   ]
  },
  {
   "cell_type": "code",
   "execution_count": 15,
   "metadata": {},
   "outputs": [
    {
     "data": {
      "text/html": [
       "<div>\n",
       "<style>\n",
       "    .dataframe thead tr:only-child th {\n",
       "        text-align: right;\n",
       "    }\n",
       "\n",
       "    .dataframe thead th {\n",
       "        text-align: left;\n",
       "    }\n",
       "\n",
       "    .dataframe tbody tr th {\n",
       "        vertical-align: top;\n",
       "    }\n",
       "</style>\n",
       "<table border=\"1\" class=\"dataframe\">\n",
       "  <thead>\n",
       "    <tr style=\"text-align: right;\">\n",
       "      <th></th>\n",
       "      <th>col1</th>\n",
       "      <th>col2</th>\n",
       "      <th>col3</th>\n",
       "    </tr>\n",
       "  </thead>\n",
       "  <tbody>\n",
       "    <tr>\n",
       "      <th>0</th>\n",
       "      <td>Var1</td>\n",
       "      <td>Grass</td>\n",
       "      <td>1.0</td>\n",
       "    </tr>\n",
       "    <tr>\n",
       "      <th>1</th>\n",
       "      <td>Var2</td>\n",
       "      <td>Rabbit</td>\n",
       "      <td>2.0</td>\n",
       "    </tr>\n",
       "    <tr>\n",
       "      <th>2</th>\n",
       "      <td>Var3</td>\n",
       "      <td>Fox</td>\n",
       "      <td>NaN</td>\n",
       "    </tr>\n",
       "    <tr>\n",
       "      <th>3</th>\n",
       "      <td>Var4</td>\n",
       "      <td>Wolf</td>\n",
       "      <td>4.0</td>\n",
       "    </tr>\n",
       "  </tbody>\n",
       "</table>\n",
       "</div>"
      ],
      "text/plain": [
       "   col1    col2  col3\n",
       "0  Var1   Grass   1.0\n",
       "1  Var2  Rabbit   2.0\n",
       "2  Var3     Fox   NaN\n",
       "3  Var4    Wolf   4.0"
      ]
     },
     "execution_count": 15,
     "metadata": {},
     "output_type": "execute_result"
    }
   ],
   "source": [
    "MyDF = pd.DataFrame({\n",
    "   'col1': ['Var1', 'Var2', 'Var3', 'Var4'],\n",
    "   'col2': ['Grass', 'Rabbit', 'Fox', 'Wolf'],\n",
    "   'col3': [1, 2, sc.nan, 4]\n",
    "})\n",
    "\n",
    "MyDF"
   ]
  },
  {
   "cell_type": "markdown",
   "metadata": {},
   "source": [
    "### Examining your data"
   ]
  },
  {
   "cell_type": "code",
   "execution_count": 16,
   "metadata": {},
   "outputs": [
    {
     "data": {
      "text/html": [
       "<div>\n",
       "<style>\n",
       "    .dataframe thead tr:only-child th {\n",
       "        text-align: right;\n",
       "    }\n",
       "\n",
       "    .dataframe thead th {\n",
       "        text-align: left;\n",
       "    }\n",
       "\n",
       "    .dataframe tbody tr th {\n",
       "        vertical-align: top;\n",
       "    }\n",
       "</style>\n",
       "<table border=\"1\" class=\"dataframe\">\n",
       "  <thead>\n",
       "    <tr style=\"text-align: right;\">\n",
       "      <th></th>\n",
       "      <th>col1</th>\n",
       "      <th>col2</th>\n",
       "      <th>col3</th>\n",
       "    </tr>\n",
       "  </thead>\n",
       "  <tbody>\n",
       "    <tr>\n",
       "      <th>0</th>\n",
       "      <td>Var1</td>\n",
       "      <td>Grass</td>\n",
       "      <td>1.0</td>\n",
       "    </tr>\n",
       "    <tr>\n",
       "      <th>1</th>\n",
       "      <td>Var2</td>\n",
       "      <td>Rabbit</td>\n",
       "      <td>2.0</td>\n",
       "    </tr>\n",
       "    <tr>\n",
       "      <th>2</th>\n",
       "      <td>Var3</td>\n",
       "      <td>Fox</td>\n",
       "      <td>NaN</td>\n",
       "    </tr>\n",
       "    <tr>\n",
       "      <th>3</th>\n",
       "      <td>Var4</td>\n",
       "      <td>Wolf</td>\n",
       "      <td>4.0</td>\n",
       "    </tr>\n",
       "  </tbody>\n",
       "</table>\n",
       "</div>"
      ],
      "text/plain": [
       "   col1    col2  col3\n",
       "0  Var1   Grass   1.0\n",
       "1  Var2  Rabbit   2.0\n",
       "2  Var3     Fox   NaN\n",
       "3  Var4    Wolf   4.0"
      ]
     },
     "execution_count": 16,
     "metadata": {},
     "output_type": "execute_result"
    }
   ],
   "source": [
    "# Displays the top 5 rows. Accepts an optional int parameter - num. of rows to show\n",
    "MyDF.head()"
   ]
  },
  {
   "cell_type": "code",
   "execution_count": 17,
   "metadata": {},
   "outputs": [
    {
     "data": {
      "text/html": [
       "<div>\n",
       "<style>\n",
       "    .dataframe thead tr:only-child th {\n",
       "        text-align: right;\n",
       "    }\n",
       "\n",
       "    .dataframe thead th {\n",
       "        text-align: left;\n",
       "    }\n",
       "\n",
       "    .dataframe tbody tr th {\n",
       "        vertical-align: top;\n",
       "    }\n",
       "</style>\n",
       "<table border=\"1\" class=\"dataframe\">\n",
       "  <thead>\n",
       "    <tr style=\"text-align: right;\">\n",
       "      <th></th>\n",
       "      <th>col1</th>\n",
       "      <th>col2</th>\n",
       "      <th>col3</th>\n",
       "    </tr>\n",
       "  </thead>\n",
       "  <tbody>\n",
       "    <tr>\n",
       "      <th>0</th>\n",
       "      <td>Var1</td>\n",
       "      <td>Grass</td>\n",
       "      <td>1.0</td>\n",
       "    </tr>\n",
       "    <tr>\n",
       "      <th>1</th>\n",
       "      <td>Var2</td>\n",
       "      <td>Rabbit</td>\n",
       "      <td>2.0</td>\n",
       "    </tr>\n",
       "    <tr>\n",
       "      <th>2</th>\n",
       "      <td>Var3</td>\n",
       "      <td>Fox</td>\n",
       "      <td>NaN</td>\n",
       "    </tr>\n",
       "    <tr>\n",
       "      <th>3</th>\n",
       "      <td>Var4</td>\n",
       "      <td>Wolf</td>\n",
       "      <td>4.0</td>\n",
       "    </tr>\n",
       "  </tbody>\n",
       "</table>\n",
       "</div>"
      ],
      "text/plain": [
       "   col1    col2  col3\n",
       "0  Var1   Grass   1.0\n",
       "1  Var2  Rabbit   2.0\n",
       "2  Var3     Fox   NaN\n",
       "3  Var4    Wolf   4.0"
      ]
     },
     "execution_count": 17,
     "metadata": {},
     "output_type": "execute_result"
    }
   ],
   "source": [
    "# Similar to head, but displays the last rows\n",
    "MyDF.tail()"
   ]
  },
  {
   "cell_type": "code",
   "execution_count": 18,
   "metadata": {},
   "outputs": [
    {
     "data": {
      "text/plain": [
       "(4, 3)"
      ]
     },
     "execution_count": 18,
     "metadata": {},
     "output_type": "execute_result"
    }
   ],
   "source": [
    "# The dimensions of the dataframe as a (rows, cols) tuple\n",
    "MyDF.shape"
   ]
  },
  {
   "cell_type": "code",
   "execution_count": 19,
   "metadata": {},
   "outputs": [
    {
     "data": {
      "text/plain": [
       "4"
      ]
     },
     "execution_count": 19,
     "metadata": {},
     "output_type": "execute_result"
    }
   ],
   "source": [
    "# The number of columns. Equal to df.shape[0]\n",
    "len(MyDF) "
   ]
  },
  {
   "cell_type": "code",
   "execution_count": 20,
   "metadata": {},
   "outputs": [
    {
     "data": {
      "text/plain": [
       "Index(['col1', 'col2', 'col3'], dtype='object')"
      ]
     },
     "execution_count": 20,
     "metadata": {},
     "output_type": "execute_result"
    }
   ],
   "source": [
    "# An array of the column names\n",
    "MyDF.columns "
   ]
  },
  {
   "cell_type": "code",
   "execution_count": 21,
   "metadata": {},
   "outputs": [
    {
     "data": {
      "text/plain": [
       "col1     object\n",
       "col2     object\n",
       "col3    float64\n",
       "dtype: object"
      ]
     },
     "execution_count": 21,
     "metadata": {},
     "output_type": "execute_result"
    }
   ],
   "source": [
    "# Columns and their types\n",
    "MyDF.dtypes"
   ]
  },
  {
   "cell_type": "code",
   "execution_count": null,
   "metadata": {
    "collapsed": true
   },
   "outputs": [],
   "source": [
    "# Converts the frame to a two-dimensional table\n",
    "MyDF.values "
   ]
  },
  {
   "cell_type": "code",
   "execution_count": 22,
   "metadata": {},
   "outputs": [
    {
     "data": {
      "text/html": [
       "<div>\n",
       "<style>\n",
       "    .dataframe thead tr:only-child th {\n",
       "        text-align: right;\n",
       "    }\n",
       "\n",
       "    .dataframe thead th {\n",
       "        text-align: left;\n",
       "    }\n",
       "\n",
       "    .dataframe tbody tr th {\n",
       "        vertical-align: top;\n",
       "    }\n",
       "</style>\n",
       "<table border=\"1\" class=\"dataframe\">\n",
       "  <thead>\n",
       "    <tr style=\"text-align: right;\">\n",
       "      <th></th>\n",
       "      <th>col3</th>\n",
       "    </tr>\n",
       "  </thead>\n",
       "  <tbody>\n",
       "    <tr>\n",
       "      <th>count</th>\n",
       "      <td>3.000000</td>\n",
       "    </tr>\n",
       "    <tr>\n",
       "      <th>mean</th>\n",
       "      <td>2.333333</td>\n",
       "    </tr>\n",
       "    <tr>\n",
       "      <th>std</th>\n",
       "      <td>1.527525</td>\n",
       "    </tr>\n",
       "    <tr>\n",
       "      <th>min</th>\n",
       "      <td>1.000000</td>\n",
       "    </tr>\n",
       "    <tr>\n",
       "      <th>25%</th>\n",
       "      <td>1.500000</td>\n",
       "    </tr>\n",
       "    <tr>\n",
       "      <th>50%</th>\n",
       "      <td>2.000000</td>\n",
       "    </tr>\n",
       "    <tr>\n",
       "      <th>75%</th>\n",
       "      <td>3.000000</td>\n",
       "    </tr>\n",
       "    <tr>\n",
       "      <th>max</th>\n",
       "      <td>4.000000</td>\n",
       "    </tr>\n",
       "  </tbody>\n",
       "</table>\n",
       "</div>"
      ],
      "text/plain": [
       "           col3\n",
       "count  3.000000\n",
       "mean   2.333333\n",
       "std    1.527525\n",
       "min    1.000000\n",
       "25%    1.500000\n",
       "50%    2.000000\n",
       "75%    3.000000\n",
       "max    4.000000"
      ]
     },
     "execution_count": 22,
     "metadata": {},
     "output_type": "execute_result"
    }
   ],
   "source": [
    "# Displays descriptive stats for all columns\n",
    "MyDF.describe()"
   ]
  },
  {
   "cell_type": "markdown",
   "metadata": {},
   "source": [
    "OK, I am going to stop this brief intro to Jupyter with pandas here! I think you can alreay see the potential value of Jupyter for data analyses and visualization. As I mentioned above, you can also use R (e.g., using `tidyr` + `ggplot`) for this. "
   ]
  },
  {
   "cell_type": "markdown",
   "metadata": {},
   "source": [
    "## Databases and Python\n",
    "\n",
    "Many of you will deal with complex data — and often, lots of it. Ecological and Evolutionary data are particularly complex because they contain large numbers of attributes, often measured in very different scales and units for individual taxa, populations, etc. In this scenario, storing the data in a database makes a lot of sense! You can\n",
    "easily include the database in your analysis workflow — indeed, that's why people use databases. And you can use python (and R) to build, manipulate and use your database.\n",
    "\n",
    "### Relational databases\n",
    "\n",
    "A *relational* database is a collection of interlinked (` *related*) tables that altogether store a complex dataset\n",
    "in a logical, computer-readable format. Dividing a dataset into multiple\n",
    "tables minimizes redundancies. For example, if your data were sampled\n",
    "from three sites — then, rather than repeating the site name and\n",
    "description in each row in a text file, you could just specify a\n",
    "numerical \"key\" that directs to another table containing the sampling\n",
    "site name and description.\n",
    "\n",
    "Finally, if you have many rows in your data file, the type of sequential\n",
    "access we have been using in our `python` and `R`\n",
    "scripts is inefficient — you should be able to instantly access any row\n",
    "regardless of its position\n",
    "\n",
    "Data columns in a database are usually called *fields*,\n",
    "while the rows are the *records*. Here are a few things to\n",
    "keep in mind about databases:\n",
    "\n",
    "Each field typically contains only one data type (e.g., integers,\n",
    "floats, strings)\n",
    "\n",
    "Each record is a \"data point\", composed of different values, one for\n",
    "each field — somewhat like a python tuple\n",
    "\n",
    "Some fields are special, and are called *keys*:\n",
    "\n",
    "The *primary key* uniquely defines a record in a table\n",
    "(e.g., each row is identified by a unique number)\n",
    "\n",
    "To allow fast retrieval, some fields (and typically all the keys) are\n",
    "indexed — a copy of certain columns that can be searched very\n",
    "efficiently\n",
    "\n",
    "*Foreign keys* are keys in a table that are primary keys in\n",
    "another table and define relationships between the tables\n",
    "\n",
    "The key to designing a database is to minimize redundancy and dependency\n",
    "without losing the logical consistency of tables — this is called\n",
    "*normalization* (arguably more of an art than a science!)\n",
    "\n",
    "Let's look at a simple example.\n",
    "\n",
    "Imagine you recorded body sizes of species from different field sites in\n",
    "a single text file (e.g., a `.csv` file) with the following\n",
    "fields:\n",
    "\n",
    "  -------------------------------- ---------------------------------------------\n",
    "  `ID`                  Unique ID for the record\n",
    "  `SiteName`            Name of the site\n",
    "  `SiteLong`            Longitude of the site\n",
    "  `SiteLat`             Latitude of the site\n",
    "  `SamplingDate`        Date of the sample\n",
    "  `SamplingHour`        Hour of the sampling\n",
    "  `SamplingAvgTemp`     Average air temperature on the sampling day\n",
    "  `SamplingWaterTemp`   Temperature of the water\n",
    "  `SamplingPH`          PH of the water\n",
    "  `SpeciesCommonName`   Species of the sampled individual\n",
    "  `SpeciesLatinBinom`   Latin binomial of the species\n",
    "  `BodySize`            Width of the individual\n",
    "  `BodyWeight`          Weight of the individual\n",
    "  -------------------------------- ---------------------------------------------\n",
    "\n",
    "\\\n",
    "It would be logical to divide the data into four tables:\n",
    "\n",
    "*Site table*:\\\n",
    "\n",
    "  ----------------------- -----------------------\n",
    "  `SiteID`     ID for the site\n",
    "  `SiteName`   Name of the site\n",
    "  `SiteLong`   Longitude of the site\n",
    "  `SiteLat`    Latitude of the site\n",
    "  ----------------------- -----------------------\n",
    "\n",
    "\\\n",
    "*Sample table*:\\\n",
    "\n",
    "  -------------------------------- --------------------------\n",
    "  `SamplingID`          ID for the sampling date\n",
    "  `SamplingDate`        Date of the sample\n",
    "  `SamplingHour`        Hour of the sample\n",
    "  `SamplingAvgTemp`     Average air temperature\n",
    "  `SamplingWaterTemp`   Temperature of the water\n",
    "  `SamplingPH`          PH of the water\n",
    "  -------------------------------- --------------------------\n",
    "\n",
    "\\\n",
    "*Species table*:\\\n",
    "\n",
    "  -------------------------------- -------------------------------\n",
    "  `SpeciesID`           ID for the species\n",
    "  `SpeciesCommonName`   Species name\n",
    "  `SpeciesLatinBinom`   Latin binomial of the species\n",
    "  -------------------------------- -------------------------------\n",
    "\n",
    "\\\n",
    "*Individual table*:\\\n",
    "\n",
    "  --------------------------- -------------------------------\n",
    "  `IndividualID`   ID for the individual sampled\n",
    "  `SpeciesID`      ID for the species\n",
    "  `SamplingID`     ID for the sampling day\n",
    "  `SiteID`         ID for the site\n",
    "  `BodySize`       Width of the individual\n",
    "  `BodyWeight`     Weight of the individual\n",
    "  --------------------------- -------------------------------\n",
    "\n",
    "\\\n",
    "In each table, the first ID field is the primary key. The last table\n",
    "contains three foreign keys because each individual is associated with\n",
    "one species, one sampling day and one sampling site.\n",
    "\n",
    "These structural features of a database are called its\n",
    "*schema*.\n",
    "\n",
    "### SQLite\n",
    "\n",
    "`SQLite` is a simple (and very popular) SQL (Structured Query\n",
    "Language)-based solution for managing localized, personal databases. I\n",
    "can safely bet that most, if not all of you unknowingly (or knowingly!)\n",
    "use `SQLite` — it is used by MacOSX, Firefox, Acrobat Reader,\n",
    "iTunes, Skype, iPhone, etc. SQLite is also the database \"engine\"\n",
    "underlying your Siwlood Masters Web App: <http://silwoodmasters.co.uk>\n",
    "\n",
    "We can easily use SQLite through Python scripts. First, install SQLite\n",
    "by typing in the Ubuntu terminal:"
   ]
  },
  {
   "cell_type": "code",
   "execution_count": 110,
   "metadata": {},
   "outputs": [
    {
     "ename": "SyntaxError",
     "evalue": "invalid syntax (<ipython-input-110-0a08b0c4e410>, line 1)",
     "output_type": "error",
     "traceback": [
      "\u001b[0;36m  File \u001b[0;32m\"<ipython-input-110-0a08b0c4e410>\"\u001b[0;36m, line \u001b[0;32m1\u001b[0m\n\u001b[0;31m    sudo apt-get install sqlite3 libsqlite3-dev\u001b[0m\n\u001b[0m           ^\u001b[0m\n\u001b[0;31mSyntaxError\u001b[0m\u001b[0;31m:\u001b[0m invalid syntax\n"
     ]
    }
   ],
   "source": [
    "sudo apt-get install sqlite3 libsqlite3-dev"
   ]
  },
  {
   "cell_type": "markdown",
   "metadata": {},
   "source": [
    "Also, make sure that you have the necessary package for python by typing\n",
    "`import sqlite3` in the python or ipython shell. Finally, you\n",
    "may install a GUI for SQLite3 :"
   ]
  },
  {
   "cell_type": "code",
   "execution_count": 111,
   "metadata": {},
   "outputs": [
    {
     "ename": "SyntaxError",
     "evalue": "invalid syntax (<ipython-input-111-3999c7564966>, line 1)",
     "output_type": "error",
     "traceback": [
      "\u001b[0;36m  File \u001b[0;32m\"<ipython-input-111-3999c7564966>\"\u001b[0;36m, line \u001b[0;32m1\u001b[0m\n\u001b[0;31m    sudo apt-get install sqliteman\u001b[0m\n\u001b[0m           ^\u001b[0m\n\u001b[0;31mSyntaxError\u001b[0m\u001b[0;31m:\u001b[0m invalid syntax\n"
     ]
    }
   ],
   "source": [
    "sudo apt-get install sqliteman"
   ]
  },
  {
   "cell_type": "markdown",
   "metadata": {},
   "source": [
    "Now type `sqlite3` in the Ubuntu terminal to check if SQLite\n",
    "successfully launches.\n",
    "\n",
    "SQLite has very few data types (and lacks a boolean and a date type):\n",
    "\n",
    "  ---------------------- ----------------------------------------------------------------------------------------------------------------------\n",
    "  `NULL`      The value is a NULL value\n",
    "  `INTEGER`   The value is a signed integer, stored in up to or 8 bytes\n",
    "  `REAL`      The value is a floating point value, stored as in 8 bytes\n",
    "  `TEXT`      The value is a text string\n",
    "  `BLOB`      The value is a blob of data, stored exactly as it was input (useful for binary types, such as bitmap images or pdfs)\n",
    "  ---------------------- ----------------------------------------------------------------------------------------------------------------------\n",
    "\n",
    "\\\n",
    "Typically, you will build a database by importing csv data — be aware\n",
    "that:\n",
    "\n",
    "Headers: the csv should have no headers\n",
    "\n",
    "Separators: if the comma is the separator, each record should not\n",
    "contain any other commas\n",
    "\n",
    "Quotes: there should be no quotes in the data\n",
    "\n",
    "Newlines: there should be no newlines\n",
    "\n",
    "Now build your first database in SQLite! We will use as example a global\n",
    "dataset on metabolic traits called *Biotraits* that we are\n",
    "currently developing in our lab (should be in your `Data`\n",
    "directory). This dataset contains 164 columns (fields). Thermal response\n",
    "curves for different traits and species are stored in rows. This means\n",
    "that site description or taxonomy are repeated as many times as\n",
    "temperatures are measured in the curve. You can imagine how much\n",
    "redundacy can be here!!!\n",
    "\n",
    "For this reason, it is easier to migrate the dataset to SQL and split it\n",
    "into several tables:\n",
    "\n",
    "TCP: Includes the thermal curve performance for each species and trait\n",
    "(as many rows per trait and species as temperatures have been measured\n",
    "within the TCP)\n",
    "\n",
    "TraitInfo: Contains site description and conditions under the traits\n",
    "were measured (one row per thermal curve)\n",
    "\n",
    "Consumer: Consumer description including taxonomy (one row per thermal\n",
    "curve).\n",
    "\n",
    "Resource: Resource description including taxonomy (one row per thermal\n",
    "curve).\n",
    "\n",
    "Size: Size data for each species (one row per thermal curve)\n",
    "\n",
    "DataSource: Contains information about the data source (citation,\n",
    "contributors) (one row per thermal curve).\n",
    "\n",
    "So all these tables compose the *Biotraits*\n",
    "`schema`.\n",
    "\n",
    "Navigate to your `Data` directory and in an Ubuntu terminal\n",
    "type:"
   ]
  },
  {
   "cell_type": "code",
   "execution_count": 112,
   "metadata": {},
   "outputs": [
    {
     "ename": "SyntaxError",
     "evalue": "invalid syntax (<ipython-input-112-8d21b80f6d19>, line 1)",
     "output_type": "error",
     "traceback": [
      "\u001b[0;36m  File \u001b[0;32m\"<ipython-input-112-8d21b80f6d19>\"\u001b[0;36m, line \u001b[0;32m1\u001b[0m\n\u001b[0;31m    $ sqlite3 Biotraits.db\u001b[0m\n\u001b[0m    ^\u001b[0m\n\u001b[0;31mSyntaxError\u001b[0m\u001b[0;31m:\u001b[0m invalid syntax\n"
     ]
    }
   ],
   "source": [
    "$ sqlite3 Biotraits.db\n",
    "SQLite version 3.7.9\n",
    "Enter \".help\" for instructions\n",
    "Enter SQL statements terminated with a \";\""
   ]
  },
  {
   "cell_type": "markdown",
   "metadata": {},
   "source": [
    "This creates an empty database in your `Data` directory. Now,\n",
    "you need to create a table with some fields. Let's start with the\n",
    "*TraitInfo* table:"
   ]
  },
  {
   "cell_type": "code",
   "execution_count": 113,
   "metadata": {},
   "outputs": [
    {
     "ename": "SyntaxError",
     "evalue": "invalid syntax (<ipython-input-113-8e4889537a0f>, line 1)",
     "output_type": "error",
     "traceback": [
      "\u001b[0;36m  File \u001b[0;32m\"<ipython-input-113-8e4889537a0f>\"\u001b[0;36m, line \u001b[0;32m1\u001b[0m\n\u001b[0;31m    sqlite> CREATE TABLE TraitInfo (Numbers integer primary key,\u001b[0m\n\u001b[0m                       ^\u001b[0m\n\u001b[0;31mSyntaxError\u001b[0m\u001b[0;31m:\u001b[0m invalid syntax\n"
     ]
    }
   ],
   "source": [
    "sqlite> CREATE TABLE TraitInfo (Numbers integer primary key,\n",
    "   ...>                                 OriginalID text,\n",
    "   ...>                                 FinalID text,\n",
    "   ...>                                 OriginalTraitName text,\n",
    "   ...>                                 OriginalTraitDef text,\n",
    "   ...>                                 Replicates integer,\n",
    "   ...>                                 Habitat  integer,               \n",
    "   ...>                                 Climate text,\n",
    "   ...>                                 Location text,\n",
    "   ...>                                 LocationType text,\n",
    "   ...>                                 LocationDate text,\n",
    "   ...>                                 CoordinateType text,\n",
    "   ...>                                 Latitude integer,\n",
    "   ...>                                 Longitude integer);"
   ]
  },
  {
   "cell_type": "markdown",
   "metadata": {},
   "source": [
    "Note that I am writing all SQL commands in upper case, but it is not\n",
    "necessary. I am using upper case here because SQL syntax is long and\n",
    "clunky, and it quickly becomes hard to spot (and edit) commands in long\n",
    "strings of complex queries.\n",
    "\n",
    "Now let's import the dataset:"
   ]
  },
  {
   "cell_type": "code",
   "execution_count": 114,
   "metadata": {},
   "outputs": [
    {
     "ename": "SyntaxError",
     "evalue": "invalid syntax (<ipython-input-114-af9079bfdfda>, line 1)",
     "output_type": "error",
     "traceback": [
      "\u001b[0;36m  File \u001b[0;32m\"<ipython-input-114-af9079bfdfda>\"\u001b[0;36m, line \u001b[0;32m1\u001b[0m\n\u001b[0;31m    sqlite> .mode csv\u001b[0m\n\u001b[0m            ^\u001b[0m\n\u001b[0;31mSyntaxError\u001b[0m\u001b[0;31m:\u001b[0m invalid syntax\n"
     ]
    }
   ],
   "source": [
    "sqlite> .mode csv\n",
    "\n",
    "sqlite> .import TraitInfo.csv TraitInfo"
   ]
  },
  {
   "cell_type": "markdown",
   "metadata": {},
   "source": [
    "So we built a table and imported a csv file into it. Now we can ask\n",
    "SQLite to show all the tables we currently have:"
   ]
  },
  {
   "cell_type": "code",
   "execution_count": 115,
   "metadata": {},
   "outputs": [
    {
     "ename": "SyntaxError",
     "evalue": "invalid syntax (<ipython-input-115-9e7dd43497a3>, line 1)",
     "output_type": "error",
     "traceback": [
      "\u001b[0;36m  File \u001b[0;32m\"<ipython-input-115-9e7dd43497a3>\"\u001b[0;36m, line \u001b[0;32m1\u001b[0m\n\u001b[0;31m    sqlite> .tables\u001b[0m\n\u001b[0m            ^\u001b[0m\n\u001b[0;31mSyntaxError\u001b[0m\u001b[0;31m:\u001b[0m invalid syntax\n"
     ]
    }
   ],
   "source": [
    "sqlite> .tables\n",
    "\n",
    "TraitInfo"
   ]
  },
  {
   "cell_type": "markdown",
   "metadata": {},
   "source": [
    "Let's run our first *Query* (note that you need a semicolon\n",
    "to end a command):"
   ]
  },
  {
   "cell_type": "code",
   "execution_count": 116,
   "metadata": {},
   "outputs": [
    {
     "ename": "SyntaxError",
     "evalue": "invalid syntax (<ipython-input-116-e6f7ca33cd6e>, line 1)",
     "output_type": "error",
     "traceback": [
      "\u001b[0;36m  File \u001b[0;32m\"<ipython-input-116-e6f7ca33cd6e>\"\u001b[0;36m, line \u001b[0;32m1\u001b[0m\n\u001b[0;31m    sqlite> SELECT * FROM TraitInfo LIMIT 5;\u001b[0m\n\u001b[0m                                  ^\u001b[0m\n\u001b[0;31mSyntaxError\u001b[0m\u001b[0;31m:\u001b[0m invalid syntax\n"
     ]
    }
   ],
   "source": [
    "sqlite> SELECT * FROM TraitInfo LIMIT 5;\n",
    "\n",
    "1,1,MTD1,\"Resource Consumption Rate\",\"The number of resource consumed per number of consumers per time\",6,freshwater,temperate,\"Eunice Lake; Ontario; Canada\",NA,NA,NA,51.254,-85.323\n",
    "2,1,MTD1,\"Resource Consumption Rate\",\"The number of resource consumed per number of consumers per time\",6,freshwater,temperate,\"Eunice Lake; Ontario; Canada\",NA,NA,NA,51.254,-85.323\n",
    "3,1,MTD1,\"Resource Consumption Rate\",\"The number of resource consumed per number of consumers per time\",6,freshwater,temperate,\"Eunice Lake; Ontario; Canada\",NA,NA,NA,51.254,-85.323\n",
    "4,2,MTD2,\"Resource Consumption Rate\",\"The number of resource consumed per number of consumers per time\",6,freshwater,temperate,\"Eunice Lake; Ontario; Canada\",NA,NA,NA,51.254,-85.323\n",
    "5,2,MTD2,\"Resource Consumption Rate\",\"The number of resource consumed per number of consumers per time\",6,freshwater,temperate,\"Eunice Lake; Ontario; Canada\",NA,NA,NA,51.254,-85.323"
   ]
  },
  {
   "cell_type": "markdown",
   "metadata": {},
   "source": [
    "Let's turn on some nicer formatting:"
   ]
  },
  {
   "cell_type": "code",
   "execution_count": 117,
   "metadata": {},
   "outputs": [
    {
     "ename": "SyntaxError",
     "evalue": "invalid syntax (<ipython-input-117-849449435ecd>, line 1)",
     "output_type": "error",
     "traceback": [
      "\u001b[0;36m  File \u001b[0;32m\"<ipython-input-117-849449435ecd>\"\u001b[0;36m, line \u001b[0;32m1\u001b[0m\n\u001b[0;31m    sqlite> .mode column\u001b[0m\n\u001b[0m            ^\u001b[0m\n\u001b[0;31mSyntaxError\u001b[0m\u001b[0;31m:\u001b[0m invalid syntax\n"
     ]
    }
   ],
   "source": [
    "sqlite> .mode column\n",
    "\n",
    "sqlite> .header ON\n",
    "\n",
    "sqlite> SELECT * FROM TraitInfo LIMIT 5;\n",
    "\n",
    "Numbers  OriginalID  FinalID     OriginalTraitName           ... \n",
    "-------  ----------  ----------  -------------------------   ...\n",
    "1        1           MTD1        Resource Consumption Rate   ...\n",
    "4        2           MTD2        Resource Consumption Rate   ...\n",
    "6        3           MTD3        Resource Consumption Rate   ...\n",
    "9        4           MTD4        Resource Mass Consumption   ...\n",
    "12       5           MTD5        Resource Mass Consumption   ..."
   ]
  },
  {
   "cell_type": "markdown",
   "metadata": {},
   "source": [
    "The main statement to select records from a table is\n",
    "`SELECT`:"
   ]
  },
  {
   "cell_type": "code",
   "execution_count": 118,
   "metadata": {},
   "outputs": [
    {
     "ename": "SyntaxError",
     "evalue": "invalid syntax (<ipython-input-118-c8e3d362e9a1>, line 1)",
     "output_type": "error",
     "traceback": [
      "\u001b[0;36m  File \u001b[0;32m\"<ipython-input-118-c8e3d362e9a1>\"\u001b[0;36m, line \u001b[0;32m1\u001b[0m\n\u001b[0;31m    sqlite> .width 40  ## NOTE: Control the width\u001b[0m\n\u001b[0m            ^\u001b[0m\n\u001b[0;31mSyntaxError\u001b[0m\u001b[0;31m:\u001b[0m invalid syntax\n"
     ]
    }
   ],
   "source": [
    "sqlite> .width 40  ## NOTE: Control the width\n",
    "\n",
    "sqlite> SELECT DISTINCT OriginalTraitName FROM TraitInfo; # Returns unique values\n",
    "\n",
    "OriginalTraitName                       \n",
    "----------------------------------------\n",
    "Resource Consumption Rate               \n",
    "Resource Mass Consumption Rate          \n",
    "Mass-Specific Mass Consumption Rate     \n",
    "Voluntary Body Velocity                 \n",
    "Forward Attack Distance                 \n",
    "Foraging Velocity                       \n",
    "Resource Reaction Distance                   \n",
    "....\n",
    "\n",
    "sqlite> SELECT DISTINCT Habitat FROM TraitInfo\n",
    "   ...> WHERE OriginalTraitName = \"Resource Consumption Rate\"; # Sets a condition\n",
    "\n",
    "Habitat                                 \n",
    "----------------------------------------\n",
    "freshwater                              \n",
    "marine                                  \n",
    "terrestrial \n",
    "\n",
    "sqlite> SELECT COUNT (*) FROM TraitInfo;  # Returns number of rows\n",
    "\n",
    "Count (*)           \n",
    "--------------------\n",
    "2336\n",
    "\n",
    "sqlite> SELECT Habitat, COUNT(OriginalTraitName) # Returns number of rows for each group\n",
    "   ...> FROM TraitInfo GROUP BY Habitat;\n",
    "\n",
    "Habitat     COUNT(OriginalTraitName)\n",
    "----------  ------------------------\n",
    "NA          16                      \n",
    "freshwater  609                     \n",
    "marine      909                     \n",
    "terrestria  802   \n",
    "\n",
    "sqlite> SELECT COUNT(DISTINCT OriginalTraitName) # Returns number of unique values\n",
    "   ...> FROM TraitInfo;\n",
    "\n",
    "COUNT(DISTINCT OriginalTraitName)\n",
    "---------------------------------\n",
    "220   \n",
    "\n",
    "sqlite> SELECT COUNT(DISTINCT OriginalTraitName) TraitCount # Assigns alias to the variable\n",
    "   ...> FROM TraitInfo;\n",
    "\n",
    "TraitCount\n",
    "----------\n",
    "220 \n",
    "\n",
    "sqlite> SELECT Habitat,\n",
    "   ...> COUNT(DISTINCT OriginalTraitName) AS TN\n",
    "   ...> FROM TraitInfo GROUP BY Habitat;\n",
    "\n",
    "Habitat     TN        \n",
    "----------  ----------\n",
    "NA          7         \n",
    "freshwater  82        \n",
    "marine      95        \n",
    "terrestria  96     \n",
    "\n",
    "\n",
    "sqlite> SELECT * # WHAT TO SELECT\n",
    "   ...> FROM TraitInfo # FROM WHERE\n",
    "   ...> WHERE Habitat = \"marine\" # CONDITIONS\n",
    "   ...> AND OriginalTraitName = \"Resource Consumption Rate\";\n",
    "\n",
    "Numbers     OriginalID  FinalID     OriginalTraitName          ...\n",
    "----------  ----------  ----------  -------------------------  ...\n",
    "778         308         MTD99       Resource Consumption Rate  ...\n",
    "798         310         MTD101      Resource Consumption Rate  ...\n",
    "806         311         MTD102      Resource Consumption Rate  ...\n",
    "993         351         MTD113      Resource Consumption Rate  ..."
   ]
  },
  {
   "cell_type": "markdown",
   "metadata": {},
   "source": [
    "The structure of the `SELECT` commend is as follows\n",
    "(*Note: **all** characters are case\n",
    "**in**sensitive*):"
   ]
  },
  {
   "cell_type": "code",
   "execution_count": 119,
   "metadata": {},
   "outputs": [
    {
     "ename": "SyntaxError",
     "evalue": "invalid syntax (<ipython-input-119-2d0cd312176f>, line 1)",
     "output_type": "error",
     "traceback": [
      "\u001b[0;36m  File \u001b[0;32m\"<ipython-input-119-2d0cd312176f>\"\u001b[0;36m, line \u001b[0;32m1\u001b[0m\n\u001b[0;31m    SELECT [DISTINCT] field\u001b[0m\n\u001b[0m                          ^\u001b[0m\n\u001b[0;31mSyntaxError\u001b[0m\u001b[0;31m:\u001b[0m invalid syntax\n"
     ]
    }
   ],
   "source": [
    "SELECT [DISTINCT] field\n",
    "FROM table\n",
    "WHERE predicate\n",
    "GROUP BY field\n",
    "HAVING predicate\n",
    "ORDER BY field\n",
    "LIMIT number\n",
    ";"
   ]
  },
  {
   "cell_type": "markdown",
   "metadata": {},
   "source": [
    "Let's try some more elaborate queries:"
   ]
  },
  {
   "cell_type": "code",
   "execution_count": 120,
   "metadata": {},
   "outputs": [
    {
     "ename": "SyntaxError",
     "evalue": "invalid syntax (<ipython-input-120-7ebd2d34ccb9>, line 1)",
     "output_type": "error",
     "traceback": [
      "\u001b[0;36m  File \u001b[0;32m\"<ipython-input-120-7ebd2d34ccb9>\"\u001b[0;36m, line \u001b[0;32m1\u001b[0m\n\u001b[0;31m    sqlite> SELECT Numbers FROM TraitInfo LIMIT 5;\u001b[0m\n\u001b[0m                         ^\u001b[0m\n\u001b[0;31mSyntaxError\u001b[0m\u001b[0;31m:\u001b[0m invalid syntax\n"
     ]
    }
   ],
   "source": [
    "sqlite> SELECT Numbers FROM TraitInfo LIMIT 5;\n",
    "\n",
    "Numbers   \n",
    "----------\n",
    "1         \n",
    "4         \n",
    "6         \n",
    "9         \n",
    "12      \n",
    "\n",
    "sqlite> SELECT Numbers \n",
    "   ...> FROM TraitInfo\n",
    "   ...> WHERE Numbers > 100 \n",
    "   ...> AND Numbers < 200;\n",
    "\n",
    "Numbers   \n",
    "----------\n",
    "107       \n",
    "110       \n",
    "112       \n",
    "115         \n",
    "\n",
    "sqlite> SELECT Numbers \n",
    "   ...> FROM TraitInfo\n",
    "   ...> WHERE Habitat = \"freshwater\"\n",
    "   ...> AND Number > 700\n",
    "   ...> AND Number < 800;\n",
    "\n",
    "Numbers   \n",
    "----------\n",
    "704       \n",
    "708       \n",
    "712       \n",
    "716       \n",
    "720       \n",
    "725       \n",
    "730       \n",
    "735       \n",
    "740       \n",
    "744       \n",
    "748       \n",
    "      "
   ]
  },
  {
   "cell_type": "markdown",
   "metadata": {},
   "source": [
    "You can also match records using something like regular expressions. In\n",
    "SQL, when we use the command `LIKE`, the percent % symbol\n",
    "matches any sequence of zero or more characters and the underscore\n",
    "matches any single character. Similarly, `GLOB` uses the\n",
    "asterisk and the underscore."
   ]
  },
  {
   "cell_type": "code",
   "execution_count": 121,
   "metadata": {},
   "outputs": [
    {
     "ename": "SyntaxError",
     "evalue": "invalid syntax (<ipython-input-121-8e352f54183b>, line 1)",
     "output_type": "error",
     "traceback": [
      "\u001b[0;36m  File \u001b[0;32m\"<ipython-input-121-8e352f54183b>\"\u001b[0;36m, line \u001b[0;32m1\u001b[0m\n\u001b[0;31m    sqlite> SELECT DISTINCT OriginalTraitName\u001b[0m\n\u001b[0m                          ^\u001b[0m\n\u001b[0;31mSyntaxError\u001b[0m\u001b[0;31m:\u001b[0m invalid syntax\n"
     ]
    }
   ],
   "source": [
    "sqlite> SELECT DISTINCT OriginalTraitName\n",
    "   ...> FROM TraitInfo\n",
    "   ...> WHERE OriginalTraitName LIKE \"_esource Consumption Rate\";\n",
    "\n",
    "OriginalTraitName        \n",
    "-------------------------\n",
    "Resource Consumption Rate          \n",
    "\n",
    "sqlite> SELECT DISTINCT OriginalTraitName\n",
    "   ...> FROM TraitInfo\n",
    "   ...> WHERE OriginalTraitName LIKE \"Resource%\";\n",
    "\n",
    "OriginalTraitName                       \n",
    "----------------------------------------\n",
    "Resource Consumption Rate               \n",
    "Resource Mass Consumption Rate          \n",
    "Resource Reaction Distance              \n",
    "Resource Habitat Encounter Rate         \n",
    "Resource Consumption Probability        \n",
    "Resource Mobility Selection             \n",
    "Resource Size Selection                 \n",
    "Resource Size Capture Intent Acceptance \n",
    "Resource Encounter Rate                 \n",
    "Resource Escape Response Probability \n",
    "\n",
    "sqlite> SELECT DISTINCT OriginalTraitName\n",
    "   ...> FROM TraitInfo\n",
    "   ...> WHERE OriginalTraitName GLOB \"Resource*\";\n",
    "\n",
    "\n",
    "OriginalTraitName                       \n",
    "----------------------------------------\n",
    "Resource Consumption Rate               \n",
    "Resource Mass Consumption Rate          \n",
    "Resource Reaction Distance              \n",
    "Resource Habitat Encounter Rate         \n",
    "Resource Consumption Probability        \n",
    "Resource Mobility Selection             \n",
    "Resource Size Selection                 \n",
    "Resource Size Capture Intent Acceptance \n",
    "Resource Encounter Rate                 \n",
    "Resource Escape Response Probability \n",
    "\n",
    "# NOTE THAT GLOB IS CASE SENSITIVE, WHILE LIKE IS NOT\n",
    "\n",
    "sqlite> SELECT DISTINCT OriginalTraitName\n",
    "   ...> FROM TraitInfo\n",
    "   ...> WHERE OriginalTraitName LIKE \"resource%\";\n",
    "\n",
    "OriginalTraitName                       \n",
    "----------------------------------------\n",
    "Resource Consumption Rate               \n",
    "Resource Mass Consumption Rate          \n",
    "Resource Reaction Distance              \n",
    "Resource Habitat Encounter Rate         \n",
    "Resource Consumption Probability        \n",
    "Resource Mobility Selection             \n",
    "Resource Size Selection                 \n",
    "Resource Size Capture Intent Acceptance \n",
    "Resource Encounter Rate                 \n",
    "Resource Escape Response Probability "
   ]
  },
  {
   "cell_type": "markdown",
   "metadata": {},
   "source": [
    "We can also order by any column:"
   ]
  },
  {
   "cell_type": "code",
   "execution_count": 122,
   "metadata": {},
   "outputs": [
    {
     "ename": "SyntaxError",
     "evalue": "invalid syntax (<ipython-input-122-0983d4f27cee>, line 1)",
     "output_type": "error",
     "traceback": [
      "\u001b[0;36m  File \u001b[0;32m\"<ipython-input-122-0983d4f27cee>\"\u001b[0;36m, line \u001b[0;32m1\u001b[0m\n\u001b[0;31m    sqlite> SELECT OriginalTraitName, Habitat FROM\u001b[0m\n\u001b[0m                                   ^\u001b[0m\n\u001b[0;31mSyntaxError\u001b[0m\u001b[0;31m:\u001b[0m invalid syntax\n"
     ]
    }
   ],
   "source": [
    "sqlite> SELECT OriginalTraitName, Habitat FROM \n",
    "   ...>  TraitInfo LIMIT 5;\n",
    "\n",
    "OriginalTraitName          Habitat   \n",
    "-------------------------  ----------\n",
    "Resource Consumption Rate  freshwater\n",
    "Resource Consumption Rate  freshwater\n",
    "Resource Consumption Rate  freshwater\n",
    "Resource Mass Consumption  freshwater\n",
    "Resource Mass Consumption  freshwater\n",
    "\n",
    "sqlite> SELECT OriginalTraitName, Habitat FROM \n",
    "   ...> TraitInfo ORDER BY OriginalTraitName LIMIT 5;\n",
    "\n",
    "OriginalTraitName           Habitat   \n",
    "--------------------------  ----------\n",
    "48-hr Hatching Probability  marine    \n",
    "Asexual Reproduction Rate   marine    \n",
    "Attack Body Acceleration    marine    \n",
    "Attack Body Velocity        marine    \n",
    "Attack Body Velocity        marine  \n",
    " "
   ]
  },
  {
   "cell_type": "markdown",
   "metadata": {},
   "source": [
    "Until now we have just queried data from one single table, but as we\n",
    "have seen, the point of storing a database in SQL is that we can use\n",
    "multiple tables minimizing redundancies within them. And of course,\n",
    "querying data from those different tables at the same time will be\n",
    "necessary at some point.\n",
    "\n",
    "Let's import then one more table to our database:"
   ]
  },
  {
   "cell_type": "code",
   "execution_count": 123,
   "metadata": {},
   "outputs": [
    {
     "ename": "SyntaxError",
     "evalue": "invalid syntax (<ipython-input-123-d204142d7611>, line 1)",
     "output_type": "error",
     "traceback": [
      "\u001b[0;36m  File \u001b[0;32m\"<ipython-input-123-d204142d7611>\"\u001b[0;36m, line \u001b[0;32m1\u001b[0m\n\u001b[0;31m    sqlite> CREATE TABLE Consumer (Numbers integer primary key,\u001b[0m\n\u001b[0m                       ^\u001b[0m\n\u001b[0;31mSyntaxError\u001b[0m\u001b[0;31m:\u001b[0m invalid syntax\n"
     ]
    }
   ],
   "source": [
    "sqlite> CREATE TABLE Consumer (Numbers integer primary key,\n",
    "  ...>                                OriginalID text,\n",
    "  ...>                                FinalID text,\n",
    "  ...>                                Consumer text,\n",
    "  ...>                                ConCommon text,\n",
    "  ...>                                ConKingdom text,\n",
    "  ...>                                ConPhylum text,\n",
    "  ...>                                ConClass text,\n",
    "  ...>                                ConOrder text,\n",
    "  ...>                                ConFamily text,\n",
    "  ...>                                ConGenus text,\n",
    "  ...>                                ConSpecies text);"
   ]
  },
  {
   "cell_type": "code",
   "execution_count": null,
   "metadata": {},
   "outputs": [],
   "source": [
    "sqlite> .import Consumer.csv Consumer\n",
    "\n",
    "# Now we have two tables in our database:\n",
    "\n",
    "sqlite> .tables\n",
    "Consumer   TraitInfo"
   ]
  },
  {
   "cell_type": "code",
   "execution_count": null,
   "metadata": {},
   "outputs": [],
   "source": [
    "# These tables are connected by two differents keys: OriginalID\n",
    "# and FinalID. These are unique IDs for each thermal curve. For each\n",
    "# FinalID we can get the trait name (OriginalTraitName) from the TraitInfo\n",
    "# table and the corresponding species name (ConSpecies) from the Consumer table.\n",
    "\n",
    "sqlite> SELECT A1.FinalID, A1.Consumer, A2.FinalID,  A2.OriginalTraitName\n",
    "   ...> FROM Consumer A1, TraitInfo A2\n",
    "   ...> WHERE A1.FinalID=A2.FinalID LIMIT 8;\n",
    "\n",
    "FinalID     Consumer               FinalID     OriginalTraitName        \n",
    "----------  ---------------------  ----------  -------------------------\n",
    "MTD1        Chaoborus trivittatus  MTD1        Resource Consumption Rate\n",
    "MTD2        Chaoborus trivittatus  MTD2        Resource Consumption Rate\n",
    "MTD3        Chaoborus americanus   MTD3        Resource Consumption Rate\n",
    "MTD4        Stizostedion vitreum   MTD4        Resource Mass Consumption\n",
    "MTD5        Macrobrachium rosenbe  MTD5        Resource Mass Consumption\n",
    "MTD6        Ranatra dispar         MTD6        Resource Consumption Rate\n",
    "MTD7        Ceriodaphnia reticula  MTD7        Mass-Specific Mass Consum\n",
    "MTD8        Polyphemus pediculus   MTD8        Voluntary Body Velocity \n",
    "\n",
    "# In the same way we assign alias to variables, we can use them for tables."
   ]
  },
  {
   "cell_type": "markdown",
   "metadata": {},
   "source": [
    "This example seems easy because both tables have the same number of\n",
    "rows. But the query is still as simple when we have tables with\n",
    "different rows."
   ]
  },
  {
   "cell_type": "code",
   "execution_count": 124,
   "metadata": {
    "collapsed": true
   },
   "outputs": [
    {
     "ename": "SyntaxError",
     "evalue": "invalid syntax (<ipython-input-124-98c14429cc2e>, line 3)",
     "output_type": "error",
     "traceback": [
      "\u001b[0;36m  File \u001b[0;32m\"<ipython-input-124-98c14429cc2e>\"\u001b[0;36m, line \u001b[0;32m3\u001b[0m\n\u001b[0;31m    sqlite> CREATE TABLE TCP (Numbers integer primary key,\u001b[0m\n\u001b[0m                       ^\u001b[0m\n\u001b[0;31mSyntaxError\u001b[0m\u001b[0;31m:\u001b[0m invalid syntax\n"
     ]
    }
   ],
   "source": [
    "# Let's import the TCP table:\n",
    "\n",
    "sqlite> CREATE TABLE TCP (Numbers integer primary key,\n",
    "   ...>                           OriginalID text,\n",
    "   ...>                           FinalID text,\n",
    "   ...>                           OriginalTraitValue integer,\n",
    "   ...>                           OriginalTraitUnit text,\n",
    "   ...>                           LabGrowthTemp integer,\n",
    "   ...>                           LabGrowthTempUnit text,   \n",
    "   ...>                           ConTemp integer,\n",
    "   ...>                           ConTempUnit text,\n",
    "   ...>                           ConTempMethod text,\n",
    "   ...>                           ConAcc text,\n",
    "   ...>                           ConAccTemp integer);\n",
    "\n",
    "\n",
    "sqlite> .import TCP.csv TCP\n",
    "sqlite> .tables\n",
    "Consumer   TCP        TraitInfo\n",
    "                          \n",
    "# Now imagine we want to query the thermal performance curves that we have\n",
    "# stored for the species Mytilus edulis. Using the FinalID to match the tables,\n",
    "# the query can be as simple as:\n",
    "\n",
    "sqlite> SELECT A1.ConTemp, A1.OriginalTraitValue, A2.OriginalTraitName, A3.Consumer\n",
    "   ...> FROM TCP A1, TraitInfo A2, Consumer A3\n",
    "   ...> WHERE A1.FinalID=A2.FinalID AND A3.ConSpecies=\"Mytilus edulis\" AND A3.FinalID=A2.FinalID LIMIT 8\n",
    "\n",
    "ConTemp     OriginalTraitValue    OriginalTraitName               Consumer            \n",
    "----------  --------------------  ------------------------------  --------------------\n",
    "25          2.707075              Filtration Rate                 Mytilus edulis      \n",
    "20          3.40721               Filtration Rate                 Mytilus edulis      \n",
    "5           3.419455              Filtration Rate                 Mytilus edulis      \n",
    "15          3.711165              Filtration Rate                 Mytilus edulis      \n",
    "10          3.875465              Filtration Rate                 Mytilus edulis      \n",
    "5           0.34                  In Vitro Gill Particle Transpo  Mytilus edulis      \n",
    "10          0.46                  In Vitro Gill Particle Transpo  Mytilus edulis      \n",
    "15          0.595                 In Vitro Gill Particle Transpo  Mytilus edulis"
   ]
  },
  {
   "cell_type": "markdown",
   "metadata": {},
   "source": [
    "So on and so forth (joining tables etc. would come next...). But if you\n",
    "want to keep practicing and learn more about sqlite commands, this is a\n",
    "very useful site: <http://www.sqlite.org/sessions/sqlite.html>. You can\n",
    "store your queries and database management commands in an `\n",
    ".sql` file (`geany` will take care of syntax\n",
    "highlighting etc.)\n",
    "\n",
    "### SQLite with python\n",
    "\n",
    "It is easy to access, update and manage SQLite databases with Python (you will find this script file in the `code` directory):\n",
    "\n",
    "```python\n",
    "import sqlite3\n",
    "\n",
    "conn = sqlite3.connect(\":memory:\")\n",
    "\n",
    "c = conn.cursor()\n",
    "\n",
    "c.execute(\"CREATE TABLE tt (Val TEXT)\")\n",
    "\n",
    "conn.commit()\n",
    "\n",
    "z = [('a',), ('ab',), ('abc',), ('b',), ('c',)]\n",
    "\n",
    "c.executemany(\"INSERT INTO tt VALUES (?)\", z)\n",
    "\n",
    "conn.commit()\n",
    "\n",
    "c.execute(\"SELECT * FROM tt WHERE Val LIKE 'a%'\").fetchall()\n",
    "\n",
    "conn.close()\n",
    "```\n",
    "\n",
    "You can create a database in memory, without using the disk — thus you\n",
    "can create and discard an SQLite database within your workflow!:"
   ]
  },
  {
   "cell_type": "markdown",
   "metadata": {},
   "source": [
    "## Readings and Resources\n",
    "\n",
    "* [Python Data Science Handbook](https://github.com/jakevdp/PythonDataScienceHandbook)\n",
    "* A [Jupyter + pandas quickstart tutorial](http://nikgrozev.com/2015/12/27/pandas-in-jupyter-quickstart-and-useful-snippets/)"
   ]
  }
 ],
 "metadata": {
  "anaconda-cloud": {},
  "kernelspec": {
   "display_name": "Python 3",
   "language": "python",
   "name": "python3"
  },
  "language_info": {
   "codemirror_mode": {
    "name": "ipython",
    "version": 3
   },
   "file_extension": ".py",
   "mimetype": "text/x-python",
   "name": "python",
   "nbconvert_exporter": "python",
   "pygments_lexer": "ipython3",
   "version": "3.5.2"
  },
  "latex_envs": {
   "LaTeX_envs_menu_present": true,
   "autoclose": false,
   "autocomplete": false,
   "bibliofile": "biblio.bib",
   "cite_by": "apalike",
   "current_citInitial": 1,
   "eqLabelWithNumbers": true,
   "eqNumInitial": 1,
   "hotkeys": {
    "equation": "Ctrl-E",
    "itemize": "Ctrl-I"
   },
   "labels_anchors": false,
   "latex_user_defs": false,
   "report_style_numbering": false,
   "user_envs_cfg": false
  },
  "toc": {
   "base_numbering": 1,
   "nav_menu": {},
   "number_sections": true,
   "sideBar": false,
   "skip_h1_title": false,
   "title_cell": "Contents",
   "title_sidebar": "Contents",
   "toc_cell": true,
   "toc_position": {},
   "toc_section_display": true,
   "toc_window_display": false
  }
 },
 "nbformat": 4,
 "nbformat_minor": 1
}
