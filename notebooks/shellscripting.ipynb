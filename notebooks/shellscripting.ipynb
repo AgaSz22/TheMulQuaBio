{
 "cells": [
  {
   "cell_type": "markdown",
   "metadata": {},
   "source": [
    "Advanced UNIX: Shell scripting {#chap:sscripting}\n",
    "==============================\n",
    "\n",
    "Shell scripting: What and Why\n",
    "-----------------------------\n",
    "\n",
    "Instead of typing all the UNIX commands we need to perform one after the\n",
    "other, we can save them all in a file (a “script”) and execute them all\n",
    "at once.\n",
    "\n",
    "The <span>bash</span> shell we are using provides a proper syntax that\n",
    "can be used to build complex command sequences and scripts.\n",
    "\n",
    "Scripts can be used to automate repetitive tasks, to do simple data\n",
    "manipulation or to perform maintenance of your computer (e.g., backup).\n",
    "Indeed, most data manipulation can be handled by scripts without the\n",
    "need of writing a proper program.\n",
    "\n",
    "Scripting: How\n",
    "--------------\n",
    "\n",
    "There are two ways of running a script, say <span>myscript.sh</span>:\n",
    "\n",
    "1.  The first is to call the interpreter bash to run the file (try this,\n",
    "    but won’t work as you don’t have a <span>myscript.sh</span>\n",
    "    script !)"
   ]
  },
  {
   "cell_type": "code",
   "execution_count": null,
   "metadata": {},
   "outputs": [],
   "source": [
    "$ bash myscript.sh # OR sh myscript.sh"
   ]
  },
  {
   "cell_type": "markdown",
   "metadata": {},
   "source": [
    "(A script that does something specific in a given project)\n",
    "\n",
    "2.  OR, make the script executable and execute it:"
   ]
  },
  {
   "cell_type": "code",
   "execution_count": null,
   "metadata": {},
   "outputs": [],
   "source": [
    "$ chmod +x myscript.sh\n",
    "$ myscript.sh"
   ]
  },
  {
   "cell_type": "markdown",
   "metadata": {},
   "source": [
    "(A script that does something generic, and is likely to be reused\n",
    "    again and again – can you think of examples?)\n",
    "\n",
    "The generic scripts of type (2) can be saved in\n",
    "<span>username/bin/</span> and made executable (the <span>.sh</span>\n",
    "extension not needed)"
   ]
  },
  {
   "cell_type": "code",
   "execution_count": null,
   "metadata": {},
   "outputs": [],
   "source": [
    "$ mkdir ~/bin\n",
    "$ PATH=$PATH:$HOME/bin #Tell UNIX to look in /home/bin for commands"
   ]
  },
  {
   "cell_type": "markdown",
   "metadata": {},
   "source": [
    "Your first shell script\n",
    "-----------------------\n",
    "\n",
    "Let’s write our first shell script! For starters,\n",
    "\n",
    "\\[$\\quad\\star$\\]\n",
    "\n",
    "Write and save <span>boilerplate.sh</span> in <span>\n",
    "CMEECourseWork/Week1/Code</span>, and add the following script to it\n",
    "(type it in a code editor like geany):\n",
    "\n",
    "The first line is a “shebang” (or sha-bang or hashbang or pound-bang or\n",
    "hash-exclam or hash-pling! – Wikipedia). It can also can be written as\n",
    "<span>\\#!/bin/sh</span>. It tells the bash iterpreter that this is a\n",
    "bash script and that it should be interpreted and run as such. The hash\n",
    "marks in the following lines tell the interpreter that it should ignore\n",
    "the lines following them (that’s how you put in script documentation\n",
    "(who wrote the script and when, what the script does, etc.) and comments\n",
    "on particular line of script.\n",
    "\n",
    "Geany users can enable send lines of code directly to terminal using a\n",
    "keyboard key combination through two configuration steps:\n",
    "\n",
    "1.  Enable “Send Selection to Terminal” with the <span>\n",
    "    &lt;Primary&gt;Return</span> keys by going to geany’s\n",
    "    <span>Edit &gt; Preferences &gt; Keybindings</span> menu item.\n",
    "\n",
    "2.  Now edit (e.g., using geany) the file <span>geany.conf</span>. You\n",
    "    can use geany itself to this:"
   ]
  },
  {
   "cell_type": "code",
   "execution_count": null,
   "metadata": {},
   "outputs": [],
   "source": [
    "$ geany ~/.config/geany/geany.conf"
   ]
  },
  {
   "cell_type": "markdown",
   "metadata": {},
   "source": [
    "This will open <span>geany.conf</span> in geany. In this file, set\n",
    "    <span> send\\_selection\\_unsafe=true</span>, then close the file, and\n",
    "    restart geany.\n",
    "\n",
    "Now run your boilerplate shell script by typing in the terminal:"
   ]
  },
  {
   "cell_type": "code",
   "execution_count": null,
   "metadata": {},
   "outputs": [],
   "source": [
    "$ bash boilerplate.sh"
   ]
  },
  {
   "cell_type": "markdown",
   "metadata": {},
   "source": [
    "A useful shell-scripting example\n",
    "--------------------------------\n",
    "\n",
    "Let’s write a shell script to transform comma-separated files (csv) to\n",
    "tab-separated files and vice-versa. This can be handy — for example, in\n",
    "certain computer languages, it is much easier to read tab or space\n",
    "separated files than csv (e.g., <span>C</span>)\n",
    "\n",
    "To do this, in the bash we can use <span>tr</span>, which deletes or\n",
    "substitute characters. Here are some examples."
   ]
  },
  {
   "cell_type": "code",
   "execution_count": null,
   "metadata": {},
   "outputs": [],
   "source": [
    "$ echo \"Remove    excess      spaces.\" | tr -s \"\\b\" \" \"\n",
    "Remove excess spaces.\n",
    "$ echo \"remove all the as\" | tr -d \"a\"\n",
    "remove ll the s\n",
    "$ echo \"set to uppercase\" | tr [:lower:] [:upper:]\n",
    "SET TO UPPERCASE\n",
    "$ echo \"10.00 only numbers 1.33\" | tr -d [:alpha:] | tr -s \" \" \",\"\n",
    "10.00,1.33"
   ]
  },
  {
   "cell_type": "markdown",
   "metadata": {},
   "source": [
    "Now write a shell script to substitute all tabs with commas called\n",
    "<span>tabtocsv.sh</span> in <span>Week1/Code</span>:\n",
    "\n",
    "Now test it (note where the output file gets saved)"
   ]
  },
  {
   "cell_type": "code",
   "execution_count": null,
   "metadata": {},
   "outputs": [],
   "source": [
    "echo -e \"test \\t\\t test\" >> ../SandBox/test.txt\n",
    "bash tabtocsv.sh ../SandBox/test.txt"
   ]
  },
  {
   "cell_type": "markdown",
   "metadata": {},
   "source": [
    "Variables in shell scripting\n",
    "----------------------------\n",
    "\n",
    "There are three ways to assign values to variables (note lack of\n",
    "spaces!):\n",
    "\n",
    "1.  Explicit declaration: <span>MYVAR=myvalue</span>\n",
    "\n",
    "2.  Reading from the user: <span>read MYVAR</span>\n",
    "\n",
    "3.  Command substitution: <span>MYVAR=\\$( (ls | wc -l) )</span>\n",
    "\n",
    "Here are some examples of assignments (try it out save as <span>\n",
    "Week1/Code/variables.sh</span>):\n",
    "\n",
    "And also (save as <span>Week1/Code/MyExampleScript.sh</span>):\n",
    "\n",
    "Some more Examples\n",
    "------------------\n",
    "\n",
    "Here are a few more illustrative examples (test each one out, save in\n",
    "<span>Week1/Code/</span> with the given name):\n",
    "\n",
    "<span>CountLines.sh</span>:\n",
    "\n",
    "<span>ConcatenateTwoFiles.sh</span>:\n",
    "\n",
    "Practical\n",
    "---------\n",
    "\n",
    "1.  <span>**Some instructions**</span>:"
   ]
  },
  {
   "cell_type": "code",
   "execution_count": null,
   "metadata": {},
   "outputs": [],
   "source": [
    "Along with the completeness of the practicals/exercises themselves,\n",
    "you will be marked on the basis of how complete and well-organized\n",
    "your directory structure and content is.\n",
    "\n",
    "Review (especially if you got lost along the way) and make sure all\n",
    "your shell scripts are functional: <span>boilerplate.sh</span>,\n",
    "<span> ConcatenateTwoFiles.sh</span>, <span>CountLines.sh</span>,\\\n",
    "<span> MyExampleScript.sh</span>, <span>tabtocsv.sh</span>,\n",
    "<span>variables.sh</span>\n",
    "\n",
    "Don’t worry about how some of these scripts will run on my computer\n",
    "without explicit inputs (e.g., <span>ConcatenateTwoFiles.sh</span>\n",
    "needs two input files) — I will run them with my own test files.\n",
    "\n",
    "Make sure you have your weekly directory organized with\n",
    "<span>Data</span>, <span> Sandbox</span>, <span>Code</span> with the\n",
    "necessary files, under <span> CMEECourseWork/Week1</span>.\n",
    "<span>*All scripts should run on any other Unix/Linux\n",
    "machine*</span> — for example, always call data from the <span>\n",
    "Data</span> directory using relative paths.\n",
    "\n",
    "**Make sure there is a <span>readme</span> file in every\n",
    "week’s directory. This file should give an overview of the weekly\n",
    "directory contents, listing all the scripts and what they do. This\n",
    "is different from the <span>readme</span> for your overall git\n",
    "repository, of which <span>Week 1</span> is a part. You will write a\n",
    "similar <span> readme</span> for each subsequent\n",
    "weekly submission.**\n",
    "\n",
    "Don’t put any scripts that are part of the submission in your\n",
    "<span>home/bin</span> directory! You can put a copy there, but a\n",
    "working version should be in your repository."
   ]
  },
  {
   "cell_type": "markdown",
   "metadata": {},
   "source": [
    "2.  Finally, a small exercise: write a <span>csvtospace.sh</span> shell\n",
    "    script that takes a <span>c</span>omma <span>s</span>eparated\n",
    "    <span>v</span>alues and converts it to a space separated\n",
    "    values file. However, it must not change the input file — it should\n",
    "    save it as a differently named file."
   ]
  },
  {
   "cell_type": "code",
   "execution_count": null,
   "metadata": {},
   "outputs": [],
   "source": [
    "Save the script in <span>CMEECourseWork/Week1/Code</span>, and run\n",
    "it on the <span>csv</span> data files that are in\n",
    "<span>Temperatures</span> in the master repository’s\n",
    "<span>Data</span> directory.\n",
    "\n",
    "<span>*Don’t modify anything (or refer to anything) in your local\n",
    "copy of the master repository. All changes you make in the master\n",
    "repository will be lost. Copy whatever you need from the master\n",
    "repository to your own repository.*</span>"
   ]
  },
  {
   "cell_type": "markdown",
   "metadata": {},
   "source": [
    "*Commit and push everything by next Wednesday 5 PM.*\n",
    "\n",
    "This includes <span>UnixPrac1.txt</span>! Check the updated instructions\n",
    "from Chapter \\[chap:unix1\\] on this practical.\n",
    "\n",
    "Readings & Resources\n",
    "--------------------\n",
    "\n",
    "-   Plenty of shell scripting resources and tutorials out there; in\n",
    "    particular, look up\n",
    "    <http://www.tutorialspoint.com/unix/unix-using-variables.htm>"
   ]
  }
 ],
 "metadata": {},
 "nbformat": 4,
 "nbformat_minor": 2
}
