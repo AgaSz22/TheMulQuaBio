{
 "cells": [
  {
   "cell_type": "markdown",
   "metadata": {
    "toc": "true"
   },
   "source": [
    "# Table of Contents\n",
    " <p><div class=\"lev1 toc-item\"><a href=\"#Introduction-to-Jupyter-notebooks\" data-toc-modified-id=\"Introduction-to-Jupyter-notebooks-1\"><span class=\"toc-item-num\">1&nbsp;&nbsp;</span>Introduction to Jupyter notebooks</a></div><div class=\"lev3 toc-item\"><a href=\"#Why-use-interactive-notebooks?\" data-toc-modified-id=\"Why-use-interactive-notebooks?-101\"><span class=\"toc-item-num\">1.0.1&nbsp;&nbsp;</span>Why use interactive notebooks?</a></div><div class=\"lev3 toc-item\"><a href=\"#Jupyter-vs.-IPython\" data-toc-modified-id=\"Jupyter-vs.-IPython-102\"><span class=\"toc-item-num\">1.0.2&nbsp;&nbsp;</span>Jupyter vs. IPython</a></div><div class=\"lev3 toc-item\"><a href=\"#Key-Jupyter-features\" data-toc-modified-id=\"Key-Jupyter-features-103\"><span class=\"toc-item-num\">1.0.3&nbsp;&nbsp;</span>Key Jupyter features</a></div><div class=\"lev2 toc-item\"><a href=\"#Installing-Jupyter\" data-toc-modified-id=\"Installing-Jupyter-11\"><span class=\"toc-item-num\">1.1&nbsp;&nbsp;</span>Installing Jupyter</a></div><div class=\"lev3 toc-item\"><a href=\"#Ubuntu-/-Linux\" data-toc-modified-id=\"Ubuntu-/-Linux-111\"><span class=\"toc-item-num\">1.1.1&nbsp;&nbsp;</span>Ubuntu / Linux</a></div><div class=\"lev4 toc-item\"><a href=\"#Python-2.7-on-Ubuntu-16.04\" data-toc-modified-id=\"Python-2.7-on-Ubuntu-16.04-1111\"><span class=\"toc-item-num\">1.1.1.1&nbsp;&nbsp;</span>Python 2.7 on Ubuntu 16.04</a></div><div class=\"lev4 toc-item\"><a href=\"#Mac\" data-toc-modified-id=\"Mac-1112\"><span class=\"toc-item-num\">1.1.1.2&nbsp;&nbsp;</span>Mac</a></div><div class=\"lev4 toc-item\"><a href=\"#Windows\" data-toc-modified-id=\"Windows-1113\"><span class=\"toc-item-num\">1.1.1.3&nbsp;&nbsp;</span>Windows</a></div><div class=\"lev2 toc-item\"><a href=\"#Launching/Running-a-Jupyter-Notebook\" data-toc-modified-id=\"Launching/Running-a-Jupyter-Notebook-12\"><span class=\"toc-item-num\">1.2&nbsp;&nbsp;</span>Launching/Running a Jupyter Notebook</a></div><div class=\"lev3 toc-item\"><a href=\"#Language-Kernels\" data-toc-modified-id=\"Language-Kernels-121\"><span class=\"toc-item-num\">1.2.1&nbsp;&nbsp;</span>Language Kernels</a></div><div class=\"lev4 toc-item\"><a href=\"#The-IPython-kernel\" data-toc-modified-id=\"The-IPython-kernel-1211\"><span class=\"toc-item-num\">1.2.1.1&nbsp;&nbsp;</span>The IPython kernel</a></div><div class=\"lev4 toc-item\"><a href=\"#The-R-kernel\" data-toc-modified-id=\"The-R-kernel-1212\"><span class=\"toc-item-num\">1.2.1.2&nbsp;&nbsp;</span>The R kernel</a></div><div class=\"lev3 toc-item\"><a href=\"#Adding-extensions-to-Jupyter\" data-toc-modified-id=\"Adding-extensions-to-Jupyter-122\"><span class=\"toc-item-num\">1.2.2&nbsp;&nbsp;</span>Adding extensions to Jupyter</a></div><div class=\"lev2 toc-item\"><a href=\"#Key-elements-of-the-Jupyter-nb-content\" data-toc-modified-id=\"Key-elements-of-the-Jupyter-nb-content-13\"><span class=\"toc-item-num\">1.3&nbsp;&nbsp;</span>Key elements of the Jupyter nb content</a></div><div class=\"lev3 toc-item\"><a href=\"#Text-cells\" data-toc-modified-id=\"Text-cells-131\"><span class=\"toc-item-num\">1.3.1&nbsp;&nbsp;</span>Text cells</a></div><div class=\"lev4 toc-item\"><a href=\"#Equations\" data-toc-modified-id=\"Equations-1311\"><span class=\"toc-item-num\">1.3.1.1&nbsp;&nbsp;</span>Equations</a></div><div class=\"lev3 toc-item\"><a href=\"#Code-cells\" data-toc-modified-id=\"Code-cells-132\"><span class=\"toc-item-num\">1.3.2&nbsp;&nbsp;</span>Code cells</a></div><div class=\"lev2 toc-item\"><a href=\"#Keyboard-shortcuts\" data-toc-modified-id=\"Keyboard-shortcuts-14\"><span class=\"toc-item-num\">1.4&nbsp;&nbsp;</span>Keyboard shortcuts</a></div><div class=\"lev2 toc-item\"><a href=\"#Running-code\" data-toc-modified-id=\"Running-code-15\"><span class=\"toc-item-num\">1.5&nbsp;&nbsp;</span>Running code</a></div><div class=\"lev3 toc-item\"><a href=\"#Graphics\" data-toc-modified-id=\"Graphics-151\"><span class=\"toc-item-num\">1.5.1&nbsp;&nbsp;</span>Graphics</a></div><div class=\"lev2 toc-item\"><a href=\"#Exiting-a-Jupyter-Notebook\" data-toc-modified-id=\"Exiting-a-Jupyter-Notebook-16\"><span class=\"toc-item-num\">1.6&nbsp;&nbsp;</span>Exiting a Jupyter Notebook</a></div><div class=\"lev2 toc-item\"><a href=\"#Readings-and-Resources\" data-toc-modified-id=\"Readings-and-Resources-17\"><span class=\"toc-item-num\">1.7&nbsp;&nbsp;</span>Readings and Resources</a></div>"
   ]
  },
  {
   "cell_type": "markdown",
   "metadata": {},
   "source": [
    "# Introduction to Jupyter notebooks \n",
    "(*and the cool things within*)"
   ]
  },
  {
   "cell_type": "markdown",
   "metadata": {},
   "source": [
    "[Jump to next Jupyter topic - Mathematical modelling -->](Jupyter-Maths.ipynb).  "
   ]
  },
  {
   "cell_type": "markdown",
   "metadata": {},
   "source": [
    "**The Jupyter Notebook offers an interactive interface to multiple programming languages (including Python and R) that can be viewed and manipulated in web browsers.**\n",
    " \n",
    "Jupyter notebooks can run code, and also store the code and a current snapshot of the output (graphics and text), together with notes (in markdown), in an editable document called a *notebook* that is saved on disk as a [JSON](https://www.json.org/) file with a .ipynb extension (like this notebook that you are currently reading).\n",
    "\n",
    "Thus a Jupyter notebook is similar to a [Mathematica](https://www.wolfram.com/mathematica/)\n",
    " or [Maple](https://www.maplesoft.com/) notebook. The difference is that Jupyter is free, fast improving, and unlike Mathematica or Maple notebooks, the Jupyter notebook can support almost [100 programming languages](https://github.com/jupyter/jupyter/wiki/Jupyter-kernels) (more on this [below](#Language-Kernels)).\n",
    "\n",
    "### Why use interactive notebooks?\n",
    "\n",
    "Jupyter is a great tool for “literate programming”; a software development style pioneered by (yes, again!) Donald Knuth. In his words:\n",
    "> *Let us change our traditional attitude to the construction of programs: Instead of imagining that our main task is to instruct a computer what to do, let us concentrate rather on explaining to human beings what we want a computer to do.*\n",
    "\n",
    "In literate programming, human-friendly text is as important as code, making coding accessible to a larger proportion of humans.\n",
    "\n",
    "With Jupyter notebooks, you can *explore quantitative ideas* by combining computer code with human text snippets. The main uses of Jupyter notebooks are:\n",
    "* Data science (e.g., with [pandas](http://pandas.pydata.org/))\n",
    "* Mathematical analyses (e.g., with [sympy](http://www.sympy.org/en/index.html))\n",
    "* Interactive visualization (e.g., with [matpliotib]() or [ggplot]())\n",
    "* Education\n",
    "\n",
    "Jupyter Notebooks are increasingly being used as a research tool in academic, government (e.g., NASA), as well as industry (e.g., IBM, Facebook, Microsoft & JP Morgan) sectors. \n",
    "\n",
    "### Jupyter vs. IPython\n",
    "\n",
    "[Brian Granger](http://www.physics.calpoly.edu/faculty/bgranger) and [Fernando Pérez](http://fperez.org/) created IPython as an implementation of Python for literate programming, taking advantage of and improved web browser technologies (e.g., HTML5). IPython notebooks quickly gained popularity (they were a great alternative to Mathematica and Maple as well), and in 2013 the IPython team won a Sloan Foundation Grant to accelerate development of this technology. The IPython Notebook concept was expanded upon to allow for additional programming languages, which became project Jupyter (why \"Jupyter\"? See: https://github.com/jupyter/design/wiki/Jupyter-Logo). IPython itself is now focused on interactive Python, part of which is providing a Python kernel for Jupyter.\n",
    "\n",
    "*Your Jupyter notebooks will typically open in IPython, but will not allow you Jupyter-only features* (of course!)  \n",
    "\n",
    "### Key Jupyter features\n",
    "\n",
    "The Jupyter Notebook:\n",
    "\n",
    "* ...allows you to keep notes using [markdown](https://en.wikipedia.org/wiki/Markdown), the increasingly popular markup language.\n",
    "* ...offers features available in typical Interactive Development Environments (IDEs) such as code completion and easy access to help.\n",
    "* ...has LaTeX support. \n",
    "* ...can be saved and easily shared in the .ipynb [JSON](https://www.json.org/) (**J**ava**S**cript **O**bject **N**otation -- syntax for storing and exchanging data).\n",
    "* ...can be kept under version control (e.g., with git).\n",
    "* ...be viewed with nbviewer technology on github (where these notes are currently hosted). \n",
    "* ...can be exported to multiple formats, including html and pdf."
   ]
  },
  {
   "cell_type": "markdown",
   "metadata": {},
   "source": [
    "## Installing Jupyter\n",
    "\n",
    "Please see project Jupyter's [instructions for installation] (http://jupyter.readthedocs.io/en/latest/install.html). Basically, \n",
    "\n",
    "* **If you are a new Python user, or just want to reinstall Python (say, to move from Python 2 to 3)** you can install Python+Jupyter using [Anaconda](https://www.continuum.io/downloads), by downloading Anaconda's latest Python 3 version.\n",
    "\n",
    "* **If you already have Python (2 or 3)**, follow the following instructions for your particular OS. I suggest using python 3 henceforth, though the rest of these notes will work with python 2.7 as well, for the most part.  \n",
    "\n",
    "### Ubuntu / Linux\n",
    "\n",
    "As an existing Python user, you may wish to install Jupyter using Python’s package manager, pip, instead of Anaconda. Do the following:\n",
    "\n",
    "``` bash\n",
    "$ pip3 install --upgrade pip\n",
    "\n",
    "$ pip3 install jupyter\n",
    "```\n",
    "If pip3 is not available, then first:\n",
    "\n",
    "```bash\n",
    "$ sudo apt-get install python3-pip\n",
    "```\n",
    "\n",
    "<div style=\"padding:6px;background-color:cornsilk;line-height:1.4;\">\n",
    " If you already have python 2.x and then installed python3, your pip will be pointing to pip3. you can verify that by typing pip --version which would be the same as pip3 --version\n",
    "</div>\n",
    "\n",
    "#### Python 2.7 on Ubuntu 16.04\n",
    "\n",
    "If this does not work for python 2.7 on Ubuntu 16.04, do this: \n",
    "\n",
    "``` bash\n",
    "$ sudo apt-get update\n",
    "\n",
    "$ sudo apt-get -y install python2.7 python-pip python-dev\n",
    "\n",
    "$ python --version\n",
    "\n",
    "$ pip --version\n",
    "\n",
    "$ sudo apt-get -y install ipython ipython-notebook\n",
    "\n",
    "$ sudo -H pip install jupyter\n",
    "\n",
    "``` \n",
    "\n",
    "You will likely get an error like: \"You are using pip version 8.1.1, however version 8.1.2 is available.\"\n",
    "\n",
    "``` bash\n",
    "\n",
    "$ sudo -H pip install --upgrade pip\n",
    "\n",
    "$ sudo -H pip install jupyter\n",
    "\n",
    "```\n",
    "\n",
    "#### Mac\n",
    "\n",
    "``` bash\n",
    "$ pip3 install --upgrade pip\n",
    "\n",
    "$ pip3 install jupyter\n",
    "```\n",
    "#### Windows\n",
    "\n",
    "Best option is to download and install Anaconda: https://www.continuum.io/downloads"
   ]
  },
  {
   "cell_type": "markdown",
   "metadata": {},
   "source": [
    "## Launching/Running a Jupyter Notebook\n",
    "\n",
    "In Linux / Mac, Jupyter will start in the directory that toy launch it from though terminal. So in your terminal first `cd` to your weekly coursework' `code` directory.  Then, simply launch jupyter (Linux / Mac): \n",
    "\n",
    "``` bash\n",
    "$ jupyter notebook\n",
    "\n",
    "```\n",
    "This will inititalize a new server instance (watch your active terminal) and launch a web browser with the Jupyter interface, include a menu at the top. Play abound a bit. \n",
    "\n",
    "* Create a new nb called `MyFirstJupyterNb.ipynb` using the menu in your Weekly `code` directory. \n",
    "\n",
    "One you have created the new nb, you can launch it next time by `cd`'ing to its location and then launching it by name: \n",
    "\n",
    "``` bash\n",
    "jupyter notebook MyFirstJupyterNb.ipynb\n",
    "\n",
    "```\n",
    "\n",
    "### Language Kernels\n",
    "\n",
    "The Jupyter notebook can support almost [100 programming languages](https://github.com/jupyter/jupyter/wiki/Jupyter-kernels) (and counting). \n",
    "\n",
    "#### The IPython kernel\n",
    "\n",
    "The default kernel you will have is IPython (with Python 3 or 2) -- the core Jupyter kernel. Click on the kernel menu item at the top of your notebook to check. \n",
    "\n",
    "If you uppgraded to Python 3 from 2 **after** installing Jupyter, you will need to reinstall Jupyter using `pip3`:\n",
    "\n",
    "``` bash\n",
    "pip3 install jupyter\n",
    "```\n",
    "You will then need to relaunch Jupyter. You should see the Python 3 kernel. If you want both Python 2 and 3 kernels, [see this](https://stackoverflow.com/questions/30492623/using-both-python-2-x-and-python-3-x-in-ipython-notebook).\n",
    "\n",
    "#### The R kernel\n",
    "\n",
    "Let's add the R kernel as well. First have a quick look at the [Jupyter kernel documentation](http://jupyter.readthedocs.io/en/latest/projects/kernels.html) .  \n",
    "\n",
    "Now, go to the [IRKernel github](https://github.com/IRkernel/IRkernel), and follow the instructions for installing \n",
    "using the `devtools` package in R (This package will also soon be installable thorugh CRAN). \n",
    "\n",
    "\n",
    "<div style=\"padding:6px;background-color:cornsilk;line-height:1.4;\">\n",
    "On Ubuntu 16.04, If you run into errors while installing the `devtools` package thorugh R, very likely you might need to install the `curl` package using `sudo apt-get install` in a terminal first  (read the error messages you get in R).    \n",
    "</div>\n",
    "\n",
    "After installing the R kernel, relaunch Jupyter as you did above, and then check your kernels in the dropdown Jupyter nb menu -- you should now have both Python and R. \n",
    "\n",
    "### Adding extensions to Jupyter\n",
    "\n",
    "You can add some useful additional functionalities to your Jupyter notebook interface using (the unofficial) [extensions](https://github.com/ipython-contrib/jupyter_contrib_nbextensions). The list of extensions and further instructions for installation can be [found here](http://jupyter-contrib-nbextensions.readthedocs.io/en/latest/). You will also probably ant to install the [extensions \"configurator\"](https://github.com/Jupyter-contrib/jupyter_nbextensions_configurator). This package will add useful funbctionalities like $\\LaTeX$ environments and TOCs (like the one in the right margin of this nb).   "
   ]
  },
  {
   "cell_type": "markdown",
   "metadata": {},
   "source": [
    "## Key elements of the Jupyter nb content\n",
    "\n",
    "The two main elements (and the associated syntax) you need to know to modify the content of a juyter nb are as follows. These will either be entered into text-only cells (\"markdown cells\"), or code cells. To insert a new cell, click on the edge of an existing cell, and hit `A` or `B` on your keyboard to insert a cell above and below, respectively. By default, Jupyter inserts a code cell. To convert it to a text cell, hit `M` immediately after inserting the cell, or if you have clicked elsewhere after inserting the cell, by clicking on the edge of the new cell and *then* hitting `M`. You can now either enter and modify text or code:   \n",
    "\n",
    "###  Text cells\n",
    "\n",
    "Text is formatted using markdown and standard html. The [markdown cheatsheet for github](https://github.com/adam-p/markdown-here/wiki/Markdown-Cheatsheet) is very handy. Give it a quick spin to get started with markdown.  \n",
    "\n",
    "#### Equations\n",
    "\n",
    "You can insert inline or standalone equations by using standard $\\LaTeX$ environments (and you can access more $\\LaTeX$ functionality and environments using the [`LaTeX_envs` extension](https://github.com/jfbercher/jupyter_latex_envs).). For example, how about the ecologist's beloved logistic growth equation:"
   ]
  },
  {
   "cell_type": "raw",
   "metadata": {},
   "source": [
    "$$\\frac{dN}{dt} = rN \\left( 1-\\frac{N}{K}\\right)$$"
   ]
  },
  {
   "cell_type": "markdown",
   "metadata": {},
   "source": [
    "which will render as: \n",
    "\n",
    "\n",
    "$$\\frac{dN}{dt} = rN \\left( 1-\\frac{N}{K}\\right)$$\n",
    "\n",
    "### Code cells \n",
    "\n",
    "Depending on Python your kernel, you will type the appropriate progrmamming language code in these cells.  "
   ]
  },
  {
   "cell_type": "markdown",
   "metadata": {},
   "source": [
    "## Keyboard shortcuts\n",
    "\n",
    "A full list of keyboard shortcuts can be displayed by clicking outside the current cell and hitting \"h\". The following are keyboard shortcuts are important:\n",
    "\n",
    "| Key            | Command                                                    |\n",
    "| :---------------|:-----------------------------------------------------------|\n",
    "| `A` or `B`:    | insert cell above or below current cell, respectively      |\n",
    "| `M`       :    | convert code cell to text cell                             |\n",
    "| `Y`        :   | convert text cell to code cell                             |\n",
    "| `CTRL+ENTER`:  | render (text) or evaluate (code) cell                      |\n",
    "| `D, D`:        | delete cell                                                |\n",
    "| `I, I`:        | interrupt a running kernel (evaluation of a code cell)     |\n",
    "| `X`:        | cut selected cell(s)     |\n",
    "| `SHIFT+V`:        | Insert cell(s) cell above selected cell     |\n",
    "| `V`:        | Insert cut cell(s)  below selected cell     |\n",
    "| `SHIFT+M`:        | merge selected cells, or current cell with cell below if only one cell selected |\n",
    "\n",
    "\n",
    "For a full list of keyboard shortcuts or to cutomize them, click anywhere outside your current cell and hit the `H` key. Or, click on the \"help\" menu item at the top."
   ]
  },
  {
   "cell_type": "markdown",
   "metadata": {},
   "source": [
    "## Running code \n",
    "\n",
    "Let's try running code in a code cell. Python first. Make sure that your kernel is Python using the dropdown Jupyter nb menu. Then try the following:"
   ]
  },
  {
   "cell_type": "code",
   "execution_count": 3,
   "metadata": {
    "scrolled": true
   },
   "outputs": [
    {
     "name": "stdout",
     "output_type": "stream",
     "text": [
      "[1] \"this is python!\"\n"
     ]
    }
   ],
   "source": [
    "a = \"this is python!\"; print(a)"
   ]
  },
  {
   "cell_type": "markdown",
   "metadata": {},
   "source": [
    "Note that I am using `print(a)` and not `print a` as I am using the python 3 kernel.\n",
    "\n",
    "You can also run a script file that is saved on your computer by using the  ipython `%run` command --- basically you have a fully functional ipython environment inside each code cell."
   ]
  },
  {
   "cell_type": "markdown",
   "metadata": {},
   "source": [
    "Now R. Switch the kernel to R . Then try:"
   ]
  },
  {
   "cell_type": "code",
   "execution_count": 4,
   "metadata": {
    "scrolled": true
   },
   "outputs": [
    {
     "name": "stdout",
     "output_type": "stream",
     "text": [
      "this is R!"
     ]
    }
   ],
   "source": [
    "a <- \"this is R!\"; cat(a)"
   ]
  },
  {
   "cell_type": "markdown",
   "metadata": {},
   "source": [
    "### Graphics\n",
    "\n",
    "Plotting is straightforward. Again, let's try Python first. Switch back to the Python kernel. Then try:"
   ]
  },
  {
   "cell_type": "code",
   "execution_count": 5,
   "metadata": {
    "scrolled": true
   },
   "outputs": [
    {
     "ename": "ERROR",
     "evalue": "Error in parse(text = x, srcfile = src): <text>:1:8: unexpected symbol\n1: import matplotlib.pyplot\n           ^\n",
     "output_type": "error",
     "traceback": [
      "Error in parse(text = x, srcfile = src): <text>:1:8: unexpected symbol\n1: import matplotlib.pyplot\n           ^\nTraceback:\n"
     ]
    }
   ],
   "source": [
    "import matplotlib.pyplot as p\n",
    "import scipy as sc\n",
    "\n",
    "x = sc.arange(0, 5, 0.1); y = sc.sin(x)\n",
    "p.plot(x, y); p.show()"
   ]
  },
  {
   "cell_type": "markdown",
   "metadata": {},
   "source": [
    "Now lets try R. Switch to the R kernel, and try:"
   ]
  },
  {
   "cell_type": "code",
   "execution_count": 4,
   "metadata": {},
   "outputs": [
    {
     "data": {},
     "metadata": {},
     "output_type": "display_data"
    },
    {
     "data": {
      "image/png": "[encoded data removed]",
      "text/plain": [
       "plot without title"
      ]
     },
     "metadata": {},
     "output_type": "display_data"
    }
   ],
   "source": [
    "require(ggplot2)\n",
    "library(repr)# to resize plot within jupyter - this package is part of IRKernel\n",
    "options(repr.plot.width=3.3,repr.plot.height=2.5)\n",
    "\n",
    "x <- seq(0, 5, 0.1); y <- sin(x)\n",
    "qplot(x, y, geom = \"line\") # large figure"
   ]
  },
  {
   "cell_type": "markdown",
   "metadata": {},
   "source": [
    "## Exiting a Jupyter Notebook\n",
    "\n",
    "Exiting is easy. Just `CTRL+S` (to save) and close the browser. The server will still be active in the bash terminal. You may then reaunch by typing the local url (e.g.,by typing http://localhost:8888/notebooks/MyJupyterNb.ipynb), or by exiting the kernel with `CTRL+C` an then relaunching as you [originally did](#Launching/Running-a-Jupyter-Notebook).  "
   ]
  },
  {
   "cell_type": "markdown",
   "metadata": {},
   "source": [
    "That's the end of your intro to Jupyter! Play around a bit. [Next](Jupyter-Maths.ipynb) we will learn how to use Jupyter for development and analyses of mathematical models.  "
   ]
  },
  {
   "cell_type": "markdown",
   "metadata": {},
   "source": [
    "## Readings and Resources\n",
    "\n",
    "* Check out [github flavored markdown](https://guides.github.com/features/mastering-markdown/), [markdown cheatsheet for github](https://github.com/adam-p/markdown-here/wiki/Markdown-Cheatsheet), and [also this](https://en.support.wordpress.com/markdown-quick-reference/)\n",
    "* [A gallery of interesting Jupyter Notebooks\n",
    "](https://github.com/jupyter/jupyter/wiki/A-gallery-of-interesting-Jupyter-Notebooks)\n",
    "* [Python Data Science Handbook](https://github.com/jakevdp/PythonDataScienceHandbook)\n",
    "* [Scientific Python Lectures in Jupyter](https://github.com/jrjohansson/scientific-python-lectures)"
   ]
  }
 ],
 "metadata": {
  "kernelspec": {
   "display_name": "Python 3",
   "language": "python",
   "name": "python3"
  },
  "language_info": {
   "codemirror_mode": {
    "name": "ipython",
    "version": 3
   },
   "file_extension": ".py",
   "mimetype": "text/x-python",
   "name": "python",
   "nbconvert_exporter": "python",
   "pygments_lexer": "ipython3",
   "version": "3.6.2"
  },
  "latex_envs": {
   "LaTeX_envs_menu_present": true,
   "autocomplete": false,
   "bibliofile": "biblio.bib",
   "cite_by": "apalike",
   "current_citInitial": 1,
   "eqLabelWithNumbers": true,
   "eqNumInitial": 1,
   "hotkeys": {
    "equation": "Ctrl-E",
    "itemize": "Ctrl-I"
   },
   "labels_anchors": false,
   "latex_user_defs": false,
   "report_style_numbering": false,
   "user_envs_cfg": false
  },
  "toc": {
   "colors": {
    "hover_highlight": "#DAA520",
    "navigate_num": "#000000",
    "navigate_text": "#333333",
    "running_highlight": "#FF0000",
    "selected_highlight": "#FFD700",
    "sidebar_border": "#EEEEEE",
    "wrapper_background": "#FFFFFF"
   },
   "moveMenuLeft": true,
   "nav_menu": {
    "height": "410px",
    "width": "252px"
   },
   "navigate_menu": true,
   "number_sections": true,
   "sideBar": true,
   "threshold": 4,
   "toc_cell": true,
   "toc_section_display": "block",
   "toc_window_display": true,
   "widenNotebook": false
  },
  "widgets": {
   "application/vnd.jupyter.widget-state+json": {
    "state": {},
    "version_major": 2,
    "version_minor": 0
   }
  }
 },
 "nbformat": 4,
 "nbformat_minor": 1
}
