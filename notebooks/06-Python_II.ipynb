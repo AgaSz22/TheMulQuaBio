{
 "cells": [
  {
   "cell_type": "markdown",
   "metadata": {},
   "source": [
    "<!--NAVIGATION-->\n",
    "< [Biological Computing in Python I](05-Python_I.ipynb) | [Main Contents](Index.ipynb) | [Biological Computing in R](07-R.ipynb) >"
   ]
  },
  {
   "cell_type": "markdown",
   "metadata": {},
   "source": [
    "# Biological Computing in Python II  <span class=\"tocSkip\"> <a name=\"chap:python_II\"></a>\n",
    "    \n",
    ">> ...some things in life are bad. They can really make you mad. Other things just make you swear and curse. When you're chewing on life's gristle, don't grumble; give a whistle, and this'll help things turn out for the best. And... always look on the bright side of life... \n",
    "— Guess who?"
   ]
  },
  {
   "cell_type": "markdown",
   "metadata": {
    "toc": true
   },
   "source": [
    "<h1>Contents<span class=\"tocSkip\"></span></h1>\n",
    "<div class=\"toc\"><ul class=\"toc-item\"><li><span><a href=\"#Numerical-computing-in-Python\" data-toc-modified-id=\"Numerical-computing-in-Python-1\"><span class=\"toc-item-num\">1&nbsp;&nbsp;</span>Numerical computing in Python</a></span><ul class=\"toc-item\"><li><span><a href=\"#Indexing-and-accessing-arrays\" data-toc-modified-id=\"Indexing-and-accessing-arrays-1.1\"><span class=\"toc-item-num\">1.1&nbsp;&nbsp;</span>Indexing and accessing arrays</a></span></li><li><span><a href=\"#Manipulating-arrays\" data-toc-modified-id=\"Manipulating-arrays-1.2\"><span class=\"toc-item-num\">1.2&nbsp;&nbsp;</span>Manipulating arrays</a></span><ul class=\"toc-item\"><li><span><a href=\"#Replacing,-adding-or-deleting-elements\" data-toc-modified-id=\"Replacing,-adding-or-deleting-elements-1.2.1\"><span class=\"toc-item-num\">1.2.1&nbsp;&nbsp;</span>Replacing, adding or deleting elements</a></span></li><li><span><a href=\"#Flattening-or-reshaping-arrays\" data-toc-modified-id=\"Flattening-or-reshaping-arrays-1.2.2\"><span class=\"toc-item-num\">1.2.2&nbsp;&nbsp;</span>Flattening or reshaping arrays</a></span></li></ul></li><li><span><a href=\"#Pre-allocating-arrays\" data-toc-modified-id=\"Pre-allocating-arrays-1.3\"><span class=\"toc-item-num\">1.3&nbsp;&nbsp;</span>Pre-allocating arrays</a></span></li><li><span><a href=\"#numpy-matrices\" data-toc-modified-id=\"numpy-matrices-1.4\"><span class=\"toc-item-num\">1.4&nbsp;&nbsp;</span><code>numpy</code> matrices</a></span><ul class=\"toc-item\"><li><span><a href=\"#Matrix-vector-operations\" data-toc-modified-id=\"Matrix-vector-operations-1.4.1\"><span class=\"toc-item-num\">1.4.1&nbsp;&nbsp;</span>Matrix-vector operations</a></span></li></ul></li></ul></li><li><span><a href=\"#Two-particularly-useful-scipy-sub-packages\" data-toc-modified-id=\"Two-particularly-useful-scipy-sub-packages-2\"><span class=\"toc-item-num\">2&nbsp;&nbsp;</span>Two particularly useful <code>scipy</code> sub-packages</a></span><ul class=\"toc-item\"><li><span><a href=\"#sc.stats\" data-toc-modified-id=\"sc.stats-2.1\"><span class=\"toc-item-num\">2.1&nbsp;&nbsp;</span><code>sc.stats</code></a></span></li><li><span><a href=\"#Numerical-integration-using--scipy\" data-toc-modified-id=\"Numerical-integration-using--scipy-2.2\"><span class=\"toc-item-num\">2.2&nbsp;&nbsp;</span>Numerical integration using  <code>scipy</code></a></span><ul class=\"toc-item\"><li><span><a href=\"#The-Lotka-Volterra-model\" data-toc-modified-id=\"The-Lotka-Volterra-model-2.2.1\"><span class=\"toc-item-num\">2.2.1&nbsp;&nbsp;</span>The Lotka-Volterra model</a></span></li></ul></li></ul></li><li><span><a href=\"#Plotting-in-Python\" data-toc-modified-id=\"Plotting-in-Python-3\"><span class=\"toc-item-num\">3&nbsp;&nbsp;</span>Plotting in Python</a></span></li><li><span><a href=\"#Practicals\" data-toc-modified-id=\"Practicals-4\"><span class=\"toc-item-num\">4&nbsp;&nbsp;</span>Practicals</a></span></li><li><span><a href=\"#The-need-for-speed:-profiling-code\" data-toc-modified-id=\"The-need-for-speed:-profiling-code-5\"><span class=\"toc-item-num\">5&nbsp;&nbsp;</span>The need for speed: profiling code</a></span><ul class=\"toc-item\"><li><span><a href=\"#Profiling-in-Python\" data-toc-modified-id=\"Profiling-in-Python-5.1\"><span class=\"toc-item-num\">5.1&nbsp;&nbsp;</span>Profiling in Python</a></span></li><li><span><a href=\"#Quick-profiling-with-timeit\" data-toc-modified-id=\"Quick-profiling-with-timeit-5.2\"><span class=\"toc-item-num\">5.2&nbsp;&nbsp;</span>Quick profiling with <code>timeit</code></a></span></li></ul></li><li><span><a href=\"#Practicals\" data-toc-modified-id=\"Practicals-6\"><span class=\"toc-item-num\">6&nbsp;&nbsp;</span>Practicals</a></span><ul class=\"toc-item\"><li><span><a href=\"#Lotka-Volterra-model-problem\" data-toc-modified-id=\"Lotka-Volterra-model-problem-6.1\"><span class=\"toc-item-num\">6.1&nbsp;&nbsp;</span>Lotka-Volterra model problem</a></span></li><li><span><a href=\"#Extra-Credit-problems\" data-toc-modified-id=\"Extra-Credit-problems-6.2\"><span class=\"toc-item-num\">6.2&nbsp;&nbsp;</span>Extra Credit problems</a></span></li></ul></li><li><span><a href=\"#Networks-in-Python\" data-toc-modified-id=\"Networks-in-Python-7\"><span class=\"toc-item-num\">7&nbsp;&nbsp;</span>Networks in Python</a></span><ul class=\"toc-item\"><li><span><a href=\"#Food-web-network-example\" data-toc-modified-id=\"Food-web-network-example-7.1\"><span class=\"toc-item-num\">7.1&nbsp;&nbsp;</span>Food web network example</a></span></li></ul></li><li><span><a href=\"#Practicals\" data-toc-modified-id=\"Practicals-8\"><span class=\"toc-item-num\">8&nbsp;&nbsp;</span>Practicals</a></span></li><li><span><a href=\"#Regular-expressions-in-Python\" data-toc-modified-id=\"Regular-expressions-in-Python-9\"><span class=\"toc-item-num\">9&nbsp;&nbsp;</span>Regular expressions in Python</a></span><ul class=\"toc-item\"><li><span><a href=\"#Metacharacters-vs.-regular-characters\" data-toc-modified-id=\"Metacharacters-vs.-regular-characters-9.1\"><span class=\"toc-item-num\">9.1&nbsp;&nbsp;</span>Metacharacters vs. regular characters</a></span></li><li><span><a href=\"#regex-elements\" data-toc-modified-id=\"regex-elements-9.2\"><span class=\"toc-item-num\">9.2&nbsp;&nbsp;</span>regex elements</a></span></li><li><span><a href=\"#Regex-in-python\" data-toc-modified-id=\"Regex-in-python-9.3\"><span class=\"toc-item-num\">9.3&nbsp;&nbsp;</span>Regex in <code>python</code></a></span></li></ul></li><li><span><a href=\"#Practicals:-Some-RegExercises\" data-toc-modified-id=\"Practicals:-Some-RegExercises-10\"><span class=\"toc-item-num\">10&nbsp;&nbsp;</span>Practicals: Some RegExercises</a></span><ul class=\"toc-item\"><li><span><a href=\"#Grouping-regex-patterns\" data-toc-modified-id=\"Grouping-regex-patterns-10.1\"><span class=\"toc-item-num\">10.1&nbsp;&nbsp;</span>Grouping regex patterns</a></span></li></ul></li><li><span><a href=\"#Useful-re-commands\" data-toc-modified-id=\"Useful-re-commands-11\"><span class=\"toc-item-num\">11&nbsp;&nbsp;</span>Useful <code>re</code> commands</a></span><ul class=\"toc-item\"><li><span><a href=\"#Finding-all-matches\" data-toc-modified-id=\"Finding-all-matches-11.1\"><span class=\"toc-item-num\">11.1&nbsp;&nbsp;</span>Finding all matches</a></span></li><li><span><a href=\"#Finding-in-files\" data-toc-modified-id=\"Finding-in-files-11.2\"><span class=\"toc-item-num\">11.2&nbsp;&nbsp;</span>Finding in files</a></span></li><li><span><a href=\"#Groups-within-multiple-matches\" data-toc-modified-id=\"Groups-within-multiple-matches-11.3\"><span class=\"toc-item-num\">11.3&nbsp;&nbsp;</span>Groups within multiple matches</a></span></li><li><span><a href=\"#Extracting-text-from-webpages\" data-toc-modified-id=\"Extracting-text-from-webpages-11.4\"><span class=\"toc-item-num\">11.4&nbsp;&nbsp;</span>Extracting text from webpages</a></span></li><li><span><a href=\"#Replacing-text\" data-toc-modified-id=\"Replacing-text-11.5\"><span class=\"toc-item-num\">11.5&nbsp;&nbsp;</span>Replacing text</a></span></li></ul></li><li><span><a href=\"#Practicals\" data-toc-modified-id=\"Practicals-12\"><span class=\"toc-item-num\">12&nbsp;&nbsp;</span>Practicals</a></span><ul class=\"toc-item\"><li><span><a href=\"#Blackbirds-problem\" data-toc-modified-id=\"Blackbirds-problem-12.1\"><span class=\"toc-item-num\">12.1&nbsp;&nbsp;</span>Blackbirds problem</a></span></li></ul></li><li><span><a href=\"#Using-Python-to-build-workflows\" data-toc-modified-id=\"Using-Python-to-build-workflows-13\"><span class=\"toc-item-num\">13&nbsp;&nbsp;</span>Using Python to build workflows</a></span><ul class=\"toc-item\"><li><span><a href=\"#Using-subprocess\" data-toc-modified-id=\"Using-subprocess-13.1\"><span class=\"toc-item-num\">13.1&nbsp;&nbsp;</span>Using <code>subprocess</code></a></span></li><li><span><a href=\"#Running-R\" data-toc-modified-id=\"Running-R-13.2\"><span class=\"toc-item-num\">13.2&nbsp;&nbsp;</span>Running <code>R</code></a></span></li></ul></li><li><span><a href=\"#Practicals\" data-toc-modified-id=\"Practicals-14\"><span class=\"toc-item-num\">14&nbsp;&nbsp;</span>Practicals</a></span><ul class=\"toc-item\"><li><ul class=\"toc-item\"><li><span><a href=\"#Using-os-problem-1\" data-toc-modified-id=\"Using-os-problem-1-14.0.1\"><span class=\"toc-item-num\">14.0.1&nbsp;&nbsp;</span>Using <code>os</code> problem 1</a></span></li><li><span><a href=\"#Using-os-problem-2\" data-toc-modified-id=\"Using-os-problem-2-14.0.2\"><span class=\"toc-item-num\">14.0.2&nbsp;&nbsp;</span>Using <code>os</code> problem 2</a></span></li></ul></li></ul></li><li><span><a href=\"#Practicals-wrap-up\" data-toc-modified-id=\"Practicals-wrap-up-15\"><span class=\"toc-item-num\">15&nbsp;&nbsp;</span>Practicals wrap-up</a></span></li><li><span><a href=\"#Readings-and-Resources\" data-toc-modified-id=\"Readings-and-Resources-16\"><span class=\"toc-item-num\">16&nbsp;&nbsp;</span>Readings and Resources</a></span></li></ul></div>"
   ]
  },
  {
   "cell_type": "markdown",
   "metadata": {},
   "source": [
    "In this chapter, we will build on the [first Python Chapter](05-Python_I.ipynb). We cover some more advanced topics that will round-off your training in Biological Computing in Python. \n",
    "\n",
    "## Numerical computing in Python\n",
    "\n",
    "The python package `scipy` allows you to do serious number crunching, including:\n",
    "\n",
    "* Linear algebra (matrix and vector operations)\n",
    "* Numerical integration (solving ODEs)\n",
    "* Fourier transforms\n",
    "* Interpolation\n",
    "* Calculating special functions (incomplete Gamma, Bessel, etc.)\n",
    "* Generation of random numbers\n",
    "* Using statistical functions and transformations\n",
    "\n",
    "In the following, we will use the `numpy array` data structure for data manipulations and calculations. These\n",
    "arrays are similar in some respects to python lists, but are more naturally multidimensional, homogeneous in type (the default is float), and allow efficient (fast) manipulations. Thus numpy arrays are analogous to the R `matrix` data object/structure. We will use the `scipy` package, which includes `numpy`, and lot more. \n",
    "\n",
    "So let's try `scipy`:"
   ]
  },
  {
   "cell_type": "code",
   "execution_count": 1,
   "metadata": {},
   "outputs": [],
   "source": [
    "import scipy as sc"
   ]
  },
  {
   "cell_type": "code",
   "execution_count": 2,
   "metadata": {},
   "outputs": [
    {
     "data": {
      "text/plain": [
       "array([0, 1, 2, 3, 4])"
      ]
     },
     "execution_count": 2,
     "metadata": {},
     "output_type": "execute_result"
    }
   ],
   "source": [
    "a = sc.array(range(5)) # a one-dimensional array\n",
    "a"
   ]
  },
  {
   "cell_type": "code",
   "execution_count": 3,
   "metadata": {},
   "outputs": [
    {
     "name": "stdout",
     "output_type": "stream",
     "text": [
      "<class 'numpy.ndarray'>\n"
     ]
    }
   ],
   "source": [
    "print(type(a))"
   ]
  },
  {
   "cell_type": "code",
   "execution_count": 4,
   "metadata": {},
   "outputs": [
    {
     "name": "stdout",
     "output_type": "stream",
     "text": [
      "<class 'numpy.int64'>\n"
     ]
    }
   ],
   "source": [
    "print(type(a[0]))"
   ]
  },
  {
   "cell_type": "markdown",
   "metadata": {},
   "source": [
    "Thus the last two outputs tell you that firstly, there is a data structure type (and a class) called `numpy.ndarray`, and secondly, that at position `0` (remember, Python indexing starts at 0) it holds an [64 bit integer](https://en.wikipedia.org/wiki/9,223,372,036,854,775,807). All elements in `a` will be of type `int` because that is what `range()` returns (try `?range`).\n",
    "\n",
    "<figure>\n",
    "<img src=\"./graphics/numpyarray.png\" alt=\"numpy array\" style=\"width:70%\">\n",
    "    <small>\n",
    "        <center>\n",
    "            (Source: [http://pages.physics.cornell.edu/~myers/teaching/ComputationalMethods/python/arrays.html](http://pages.physics.cornell.edu/~myers/teaching/ComputationalMethods/python/arrays.html))\n",
    "            <figcaption> \n",
    "            A graphical depiction of numpy/numpy arrays, which can have multiple dimensions (even greater than 3).\n",
    "            </figcaption>\n",
    "        </center>\n",
    "    </small>\n",
    "</figure>\n",
    "\n",
    "You can also specify the data type of the array:"
   ]
  },
  {
   "cell_type": "code",
   "execution_count": 5,
   "metadata": {},
   "outputs": [
    {
     "data": {
      "text/plain": [
       "array([ 0.,  1.,  2.,  3.,  4.])"
      ]
     },
     "execution_count": 5,
     "metadata": {},
     "output_type": "execute_result"
    }
   ],
   "source": [
    "a = sc.array(range(5), float)\n",
    "a"
   ]
  },
  {
   "cell_type": "code",
   "execution_count": 6,
   "metadata": {},
   "outputs": [
    {
     "data": {
      "text/plain": [
       "dtype('float64')"
      ]
     },
     "execution_count": 6,
     "metadata": {},
     "output_type": "execute_result"
    }
   ],
   "source": [
    "a.dtype # Check type "
   ]
  },
  {
   "cell_type": "markdown",
   "metadata": {},
   "source": [
    "You can also get a 1-D arrays as follows:"
   ]
  },
  {
   "cell_type": "code",
   "execution_count": 7,
   "metadata": {},
   "outputs": [
    {
     "data": {
      "text/plain": [
       "array([0, 1, 2, 3, 4])"
      ]
     },
     "execution_count": 7,
     "metadata": {},
     "output_type": "execute_result"
    }
   ],
   "source": [
    "x = sc.arange(5)\n",
    "x"
   ]
  },
  {
   "cell_type": "code",
   "execution_count": 8,
   "metadata": {},
   "outputs": [
    {
     "data": {
      "text/plain": [
       "array([ 0.,  1.,  2.,  3.,  4.])"
      ]
     },
     "execution_count": 8,
     "metadata": {},
     "output_type": "execute_result"
    }
   ],
   "source": [
    "x = sc.arange(5.) #directly specify float using decimal\n",
    "x"
   ]
  },
  {
   "cell_type": "markdown",
   "metadata": {},
   "source": [
    "As with other Python variables (e.g., created as a list or a dictionary), you can apply methods to variables created as numpy arrays. For example, type `x.` and hit TAB to see all methods you can apply to`x`. To see dimensions of `x`:"
   ]
  },
  {
   "cell_type": "code",
   "execution_count": 9,
   "metadata": {},
   "outputs": [
    {
     "data": {
      "text/plain": [
       "(5,)"
      ]
     },
     "execution_count": 9,
     "metadata": {},
     "output_type": "execute_result"
    }
   ],
   "source": [
    "x.shape"
   ]
  },
  {
   "cell_type": "markdown",
   "metadata": {},
   "source": [
    "Remember, you can type `:?x.methodname` to get info on a particular method. For example, try `?x.shape`.\n",
    "\n",
    "You can also convert to and from Python lists:"
   ]
  },
  {
   "cell_type": "code",
   "execution_count": 10,
   "metadata": {},
   "outputs": [
    {
     "data": {
      "text/plain": [
       "array([1, 3, 5, 7, 9])"
      ]
     },
     "execution_count": 10,
     "metadata": {},
     "output_type": "execute_result"
    }
   ],
   "source": [
    "b = sc.array([i for i in range(10) if i%2==1]) #odd numbersbetween 1 and `0 \n",
    "b"
   ]
  },
  {
   "cell_type": "code",
   "execution_count": 11,
   "metadata": {},
   "outputs": [
    {
     "data": {
      "text/plain": [
       "[1, 3, 5, 7, 9]"
      ]
     },
     "execution_count": 11,
     "metadata": {},
     "output_type": "execute_result"
    }
   ],
   "source": [
    "c = b.tolist() #convert back to list\n",
    "c"
   ]
  },
  {
   "cell_type": "markdown",
   "metadata": {},
   "source": [
    "To make a matrix, you need a 2-D numpy array:"
   ]
  },
  {
   "cell_type": "code",
   "execution_count": 12,
   "metadata": {},
   "outputs": [
    {
     "data": {
      "text/plain": [
       "array([[0, 1],\n",
       "       [2, 3]])"
      ]
     },
     "execution_count": 12,
     "metadata": {},
     "output_type": "execute_result"
    }
   ],
   "source": [
    "mat = sc.array([[0, 1], [2, 3]])\n",
    "mat"
   ]
  },
  {
   "cell_type": "code",
   "execution_count": 13,
   "metadata": {},
   "outputs": [
    {
     "data": {
      "text/plain": [
       "(2, 2)"
      ]
     },
     "execution_count": 13,
     "metadata": {},
     "output_type": "execute_result"
    }
   ],
   "source": [
    "mat.shape"
   ]
  },
  {
   "cell_type": "markdown",
   "metadata": {},
   "source": [
    "### Indexing and accessing arrays\n",
    "\n",
    "As with other Python data objects such as lists, numpy array elements can be accessed using square brackets (`[ ]`) with the usual `[row,column]` reference. Indexing of numpy arrays works like that for other data structures, with index values starting at 0. So, you can obtain all the elements of a particular row as:"
   ]
  },
  {
   "cell_type": "code",
   "execution_count": 14,
   "metadata": {},
   "outputs": [
    {
     "data": {
      "text/plain": [
       "array([2, 3])"
      ]
     },
     "execution_count": 14,
     "metadata": {},
     "output_type": "execute_result"
    }
   ],
   "source": [
    "mat[1] # accessing whole 2nd row, remember indexing starts at  0"
   ]
  },
  {
   "cell_type": "code",
   "execution_count": 15,
   "metadata": {},
   "outputs": [
    {
     "data": {
      "text/plain": [
       "array([1, 3])"
      ]
     },
     "execution_count": 15,
     "metadata": {},
     "output_type": "execute_result"
    }
   ],
   "source": [
    "mat[:,1] #accessing whole second column  "
   ]
  },
  {
   "cell_type": "markdown",
   "metadata": {},
   "source": [
    "And accessing particular elements:"
   ]
  },
  {
   "cell_type": "code",
   "execution_count": 16,
   "metadata": {},
   "outputs": [
    {
     "data": {
      "text/plain": [
       "0"
      ]
     },
     "execution_count": 16,
     "metadata": {},
     "output_type": "execute_result"
    }
   ],
   "source": [
    "mat[0,0] # 1st row, 1st column element"
   ]
  },
  {
   "cell_type": "code",
   "execution_count": 17,
   "metadata": {},
   "outputs": [
    {
     "data": {
      "text/plain": [
       "2"
      ]
     },
     "execution_count": 17,
     "metadata": {},
     "output_type": "execute_result"
    }
   ],
   "source": [
    "mat[1,0] # 2nd row, 1st column element"
   ]
  },
  {
   "cell_type": "markdown",
   "metadata": {},
   "source": [
    "Note that (like all other programming languages) row index always comes before column index. That is, `mat[1]` is always going to mean \"whole second row\", and `mat[1,1]` means 1st row and 1st column element. Therefore, to access the whole second column, you need:"
   ]
  },
  {
   "cell_type": "code",
   "execution_count": 18,
   "metadata": {},
   "outputs": [
    {
     "data": {
      "text/plain": [
       "array([0, 2])"
      ]
     },
     "execution_count": 18,
     "metadata": {},
     "output_type": "execute_result"
    }
   ],
   "source": [
    "mat[:,0] #accessing whole first column  "
   ]
  },
  {
   "cell_type": "markdown",
   "metadata": {},
   "source": [
    "Python indexing also accepts negative values for going back to the start\n",
    "from the end of an array:"
   ]
  },
  {
   "cell_type": "code",
   "execution_count": 19,
   "metadata": {},
   "outputs": [
    {
     "data": {
      "text/plain": [
       "1"
      ]
     },
     "execution_count": 19,
     "metadata": {},
     "output_type": "execute_result"
    }
   ],
   "source": [
    "mat[0,1]"
   ]
  },
  {
   "cell_type": "code",
   "execution_count": 20,
   "metadata": {},
   "outputs": [
    {
     "data": {
      "text/plain": [
       "1"
      ]
     },
     "execution_count": 20,
     "metadata": {},
     "output_type": "execute_result"
    }
   ],
   "source": [
    "mat[0,-1] #interesting!"
   ]
  },
  {
   "cell_type": "code",
   "execution_count": 21,
   "metadata": {},
   "outputs": [
    {
     "data": {
      "text/plain": [
       "0"
      ]
     },
     "execution_count": 21,
     "metadata": {},
     "output_type": "execute_result"
    }
   ],
   "source": [
    "mat[0,-2] #very interesting, but rather useless for this simple matrix!"
   ]
  },
  {
   "cell_type": "markdown",
   "metadata": {},
   "source": [
    "### Manipulating arrays\n",
    "\n",
    "Manipulating numpy arrays is pretty straightforward. \n",
    "\n",
    "---\n",
    "> **Why numpy arrays are computationally efficient:**  The data associated with a numpy array object (its metadata  &ndash; number of dimensions, shape, data type, etc &ndash; as well as the actual data) are stored in a homogeneous and contiguous block of memory (a \"data buffer\"), at a particular address in the system's RAM (Random Access Memory). This makes numpy arrays more efficient than a pure Python data structures like lists whose data are scattered across the system memory.\n",
    "\n",
    "---\n",
    "\n",
    "#### Replacing, adding or deleting elements\n",
    "\n",
    "Let's look at how you can replace, add, or delete an array element (a single entry, or whole row(s) or whole column(s)):"
   ]
  },
  {
   "cell_type": "code",
   "execution_count": 22,
   "metadata": {},
   "outputs": [
    {
     "data": {
      "text/plain": [
       "array([[-1,  1],\n",
       "       [ 2,  3]])"
      ]
     },
     "execution_count": 22,
     "metadata": {},
     "output_type": "execute_result"
    }
   ],
   "source": [
    "mat[0,0] = -1 #replace a single element\n",
    "mat"
   ]
  },
  {
   "cell_type": "code",
   "execution_count": 23,
   "metadata": {},
   "outputs": [
    {
     "data": {
      "text/plain": [
       "array([[12,  1],\n",
       "       [12,  3]])"
      ]
     },
     "execution_count": 23,
     "metadata": {},
     "output_type": "execute_result"
    }
   ],
   "source": [
    "mat[:,0] = [12,12] #replace whole column\n",
    "mat"
   ]
  },
  {
   "cell_type": "code",
   "execution_count": 24,
   "metadata": {
    "scrolled": true
   },
   "outputs": [
    {
     "data": {
      "text/plain": [
       "array([[12,  1],\n",
       "       [12,  3],\n",
       "       [12, 12]])"
      ]
     },
     "execution_count": 24,
     "metadata": {},
     "output_type": "execute_result"
    }
   ],
   "source": [
    "sc.append(mat, [[12,12]], axis = 0) #append row, note axis specification"
   ]
  },
  {
   "cell_type": "code",
   "execution_count": 25,
   "metadata": {},
   "outputs": [
    {
     "data": {
      "text/plain": [
       "array([[12,  1, 12],\n",
       "       [12,  3, 12]])"
      ]
     },
     "execution_count": 25,
     "metadata": {},
     "output_type": "execute_result"
    }
   ],
   "source": [
    "sc.append(mat, [[12],[12]], axis = 1) #append column"
   ]
  },
  {
   "cell_type": "code",
   "execution_count": 26,
   "metadata": {},
   "outputs": [],
   "source": [
    "newRow = [[12,12]] #create new row"
   ]
  },
  {
   "cell_type": "code",
   "execution_count": 27,
   "metadata": {},
   "outputs": [
    {
     "data": {
      "text/plain": [
       "array([[12,  1],\n",
       "       [12,  3],\n",
       "       [12, 12]])"
      ]
     },
     "execution_count": 27,
     "metadata": {},
     "output_type": "execute_result"
    }
   ],
   "source": [
    "mat = sc.append(mat, newRow, axis = 0) #append that existing row\n",
    "mat"
   ]
  },
  {
   "cell_type": "code",
   "execution_count": 28,
   "metadata": {},
   "outputs": [
    {
     "data": {
      "text/plain": [
       "array([[12,  1],\n",
       "       [12,  3]])"
      ]
     },
     "execution_count": 28,
     "metadata": {},
     "output_type": "execute_result"
    }
   ],
   "source": [
    "sc.delete(mat, 2, 0) #Delete 3rd row"
   ]
  },
  {
   "cell_type": "markdown",
   "metadata": {},
   "source": [
    "And concatenation:"
   ]
  },
  {
   "cell_type": "code",
   "execution_count": 29,
   "metadata": {},
   "outputs": [
    {
     "data": {
      "text/plain": [
       "array([[ 0,  1],\n",
       "       [ 2,  3],\n",
       "       [ 0, 10],\n",
       "       [-1,  3]])"
      ]
     },
     "execution_count": 29,
     "metadata": {},
     "output_type": "execute_result"
    }
   ],
   "source": [
    "mat = sc.array([[0, 1], [2, 3]])\n",
    "mat0 = sc.array([[0, 10], [-1, 3]])\n",
    "sc.concatenate((mat, mat0), axis = 0)"
   ]
  },
  {
   "cell_type": "markdown",
   "metadata": {},
   "source": [
    "#### Flattening or reshaping arrays\n",
    "\n",
    "You can also \"flatten\" or \"melt\" arrays, that is, change array dimensions (e.g., from a matrix to a vector):"
   ]
  },
  {
   "cell_type": "code",
   "execution_count": 30,
   "metadata": {},
   "outputs": [
    {
     "data": {
      "text/plain": [
       "array([0, 1, 2, 3])"
      ]
     },
     "execution_count": 30,
     "metadata": {},
     "output_type": "execute_result"
    }
   ],
   "source": [
    "mat.ravel() # NOTE: ravel is row-priority - happens row by row"
   ]
  },
  {
   "cell_type": "code",
   "execution_count": 31,
   "metadata": {},
   "outputs": [
    {
     "data": {
      "text/plain": [
       "array([[0],\n",
       "       [1],\n",
       "       [2],\n",
       "       [3]])"
      ]
     },
     "execution_count": 31,
     "metadata": {},
     "output_type": "execute_result"
    }
   ],
   "source": [
    "mat.reshape((4,1)) # this is different from ravel - check ?sc.reshape"
   ]
  },
  {
   "cell_type": "code",
   "execution_count": 32,
   "metadata": {},
   "outputs": [
    {
     "data": {
      "text/plain": [
       "array([[0, 1, 2, 3]])"
      ]
     },
     "execution_count": 32,
     "metadata": {},
     "output_type": "execute_result"
    }
   ],
   "source": [
    "mat.reshape((1,4)) # NOTE: reshaping is also row-priority"
   ]
  },
  {
   "cell_type": "code",
   "execution_count": 33,
   "metadata": {},
   "outputs": [
    {
     "ename": "ValueError",
     "evalue": "cannot reshape array of size 4 into shape (3,1)",
     "output_type": "error",
     "traceback": [
      "\u001b[0;31m---------------------------------------------------------------------------\u001b[0m",
      "\u001b[0;31mValueError\u001b[0m                                Traceback (most recent call last)",
      "\u001b[0;32m<ipython-input-33-b2ac8bfd10e7>\u001b[0m in \u001b[0;36m<module>\u001b[0;34m()\u001b[0m\n\u001b[0;32m----> 1\u001b[0;31m \u001b[0mmat\u001b[0m\u001b[0;34m.\u001b[0m\u001b[0mreshape\u001b[0m\u001b[0;34m(\u001b[0m\u001b[0;34m(\u001b[0m\u001b[0;36m3\u001b[0m\u001b[0;34m,\u001b[0m \u001b[0;36m1\u001b[0m\u001b[0;34m)\u001b[0m\u001b[0;34m)\u001b[0m \u001b[0;31m# But total elements must remain the same!\u001b[0m\u001b[0;34m\u001b[0m\u001b[0m\n\u001b[0m",
      "\u001b[0;31mValueError\u001b[0m: cannot reshape array of size 4 into shape (3,1)"
     ]
    }
   ],
   "source": [
    "mat.reshape((3, 1)) # But total elements must remain the same!"
   ]
  },
  {
   "cell_type": "markdown",
   "metadata": {},
   "source": [
    "This is a bit different than how [`R` behaves](07-R.ipynb#Recycling), where you won't get an error (R \"recycles\" data), which can be dangerous!\n",
    "\n",
    "### Pre-allocating arrays\n",
    "\n",
    "As in other computer languages, it is usually more efficient to preallocate an array rather than append / insert / concatenate additional elements, rows, or columns. *why*? &ndash; because you might run out of contiguous space in the specific system memory (RAM) address where the current array is stored. Preallocation allocates all the RAM memory you need in one call, while resizing the array (through append,insert,concatenate, resize, etc) may require copying the array to a larger block of memory, slowing things down, and significantly so if the matrix/array is very large.\n",
    "\n",
    "For example, if you know the size of your matrix or array, you can initialize it with ones or zeros:"
   ]
  },
  {
   "cell_type": "code",
   "execution_count": 34,
   "metadata": {
    "scrolled": true
   },
   "outputs": [
    {
     "data": {
      "text/plain": [
       "array([[ 1.,  1.],\n",
       "       [ 1.,  1.],\n",
       "       [ 1.,  1.],\n",
       "       [ 1.,  1.]])"
      ]
     },
     "execution_count": 34,
     "metadata": {},
     "output_type": "execute_result"
    }
   ],
   "source": [
    "sc.ones((4,2)) #(4,2) are the (row,col) array dimensions"
   ]
  },
  {
   "cell_type": "code",
   "execution_count": 35,
   "metadata": {
    "scrolled": true
   },
   "outputs": [
    {
     "data": {
      "text/plain": [
       "array([[ 0.,  0.],\n",
       "       [ 0.,  0.],\n",
       "       [ 0.,  0.],\n",
       "       [ 0.,  0.]])"
      ]
     },
     "execution_count": 35,
     "metadata": {},
     "output_type": "execute_result"
    }
   ],
   "source": [
    "sc.zeros((4,2)) # or zeros"
   ]
  },
  {
   "cell_type": "code",
   "execution_count": 36,
   "metadata": {},
   "outputs": [
    {
     "data": {
      "text/plain": [
       "array([[ 1.,  0.,  0.,  0.],\n",
       "       [ 0.,  1.,  0.,  0.],\n",
       "       [ 0.,  0.,  1.,  0.],\n",
       "       [ 0.,  0.,  0.,  1.]])"
      ]
     },
     "execution_count": 36,
     "metadata": {},
     "output_type": "execute_result"
    }
   ],
   "source": [
    "m = sc.identity(4) #create an identity matrix\n",
    "m"
   ]
  },
  {
   "cell_type": "code",
   "execution_count": 37,
   "metadata": {},
   "outputs": [
    {
     "data": {
      "text/plain": [
       "array([[ 16.,  16.,  16.,  16.],\n",
       "       [ 16.,  16.,  16.,  16.],\n",
       "       [ 16.,  16.,  16.,  16.],\n",
       "       [ 16.,  16.,  16.,  16.]])"
      ]
     },
     "execution_count": 37,
     "metadata": {},
     "output_type": "execute_result"
    }
   ],
   "source": [
    "m.fill(16) #fill the matrix with 16\n",
    "m"
   ]
  },
  {
   "cell_type": "markdown",
   "metadata": {},
   "source": [
    "### `numpy` matrices\n",
    "\n",
    "Scipy/Numpy also has a `matrix` data structure class. Numpy matrices are strictly 2-dimensional, while numpy arrays are N-dimensional. Matrix objects are a subclass of numpy arrays, so they inherit all the attributes and methods of numpy arrays (ndarrays).\n",
    "\n",
    "The main advantage of scipy matrices is that they provide a convenient notation for matrix multiplication: if `a` and `b` are matrices, then `a * b` is their matrix product.\n",
    "\n",
    "#### Matrix-vector operations\n",
    "\n",
    "Now let's perform some common matrix-vector operations on arrays (you can also try the same using matrices instead of arrays):"
   ]
  },
  {
   "cell_type": "code",
   "execution_count": 38,
   "metadata": {},
   "outputs": [
    {
     "data": {
      "text/plain": [
       "array([[ 0,  1,  2,  3],\n",
       "       [ 4,  5,  6,  7],\n",
       "       [ 8,  9, 10, 11],\n",
       "       [12, 13, 14, 15]])"
      ]
     },
     "execution_count": 38,
     "metadata": {},
     "output_type": "execute_result"
    }
   ],
   "source": [
    "mm = sc.arange(16)\n",
    "mm = mm.reshape(4,4) #Convert to matrix\n",
    "mm"
   ]
  },
  {
   "cell_type": "code",
   "execution_count": 39,
   "metadata": {
    "scrolled": true
   },
   "outputs": [
    {
     "data": {
      "text/plain": [
       "array([[ 0,  4,  8, 12],\n",
       "       [ 1,  5,  9, 13],\n",
       "       [ 2,  6, 10, 14],\n",
       "       [ 3,  7, 11, 15]])"
      ]
     },
     "execution_count": 39,
     "metadata": {},
     "output_type": "execute_result"
    }
   ],
   "source": [
    "mm.transpose()"
   ]
  },
  {
   "cell_type": "code",
   "execution_count": 40,
   "metadata": {
    "scrolled": true
   },
   "outputs": [
    {
     "data": {
      "text/plain": [
       "array([[ 0,  5, 10, 15],\n",
       "       [ 5, 10, 15, 20],\n",
       "       [10, 15, 20, 25],\n",
       "       [15, 20, 25, 30]])"
      ]
     },
     "execution_count": 40,
     "metadata": {},
     "output_type": "execute_result"
    }
   ],
   "source": [
    "mm + mm.transpose()"
   ]
  },
  {
   "cell_type": "code",
   "execution_count": 41,
   "metadata": {
    "scrolled": true
   },
   "outputs": [
    {
     "data": {
      "text/plain": [
       "array([[ 0, -3, -6, -9],\n",
       "       [ 3,  0, -3, -6],\n",
       "       [ 6,  3,  0, -3],\n",
       "       [ 9,  6,  3,  0]])"
      ]
     },
     "execution_count": 41,
     "metadata": {},
     "output_type": "execute_result"
    }
   ],
   "source": [
    "mm - mm.transpose()"
   ]
  },
  {
   "cell_type": "code",
   "execution_count": 42,
   "metadata": {},
   "outputs": [
    {
     "data": {
      "text/plain": [
       "array([[  0,   4,  16,  36],\n",
       "       [  4,  25,  54,  91],\n",
       "       [ 16,  54, 100, 154],\n",
       "       [ 36,  91, 154, 225]])"
      ]
     },
     "execution_count": 42,
     "metadata": {},
     "output_type": "execute_result"
    }
   ],
   "source": [
    "mm * mm.transpose() ## Note: Elementwise multiplication!"
   ]
  },
  {
   "cell_type": "code",
   "execution_count": 43,
   "metadata": {
    "scrolled": true
   },
   "outputs": [
    {
     "name": "stderr",
     "output_type": "stream",
     "text": [
      "/usr/local/lib/python3.5/dist-packages/ipykernel_launcher.py:1: RuntimeWarning: divide by zero encountered in floor_divide\n",
      "  \"\"\"Entry point for launching an IPython kernel.\n"
     ]
    },
    {
     "data": {
      "text/plain": [
       "array([[0, 0, 0, 0],\n",
       "       [4, 1, 0, 0],\n",
       "       [4, 1, 1, 0],\n",
       "       [4, 1, 1, 1]])"
      ]
     },
     "execution_count": 43,
     "metadata": {},
     "output_type": "execute_result"
    }
   ],
   "source": [
    "mm // mm.transpose()"
   ]
  },
  {
   "cell_type": "markdown",
   "metadata": {},
   "source": [
    "Note that we used integer division `//`. Note also the warning you get(because of zero division). So let's avoid the divide by zero:"
   ]
  },
  {
   "cell_type": "code",
   "execution_count": 44,
   "metadata": {},
   "outputs": [
    {
     "data": {
      "text/plain": [
       "array([[0, 0, 0, 0],\n",
       "       [2, 0, 0, 0],\n",
       "       [2, 1, 0, 0],\n",
       "       [3, 1, 1, 0]])"
      ]
     },
     "execution_count": 44,
     "metadata": {},
     "output_type": "execute_result"
    }
   ],
   "source": [
    "mm // (mm+1).transpose()"
   ]
  },
  {
   "cell_type": "code",
   "execution_count": 45,
   "metadata": {},
   "outputs": [
    {
     "data": {
      "text/plain": [
       "array([[  0.        ,   3.14159265,   6.28318531,   9.42477796],\n",
       "       [ 12.56637061,  15.70796327,  18.84955592,  21.99114858],\n",
       "       [ 25.13274123,  28.27433388,  31.41592654,  34.55751919],\n",
       "       [ 37.69911184,  40.8407045 ,  43.98229715,  47.1238898 ]])"
      ]
     },
     "execution_count": 45,
     "metadata": {},
     "output_type": "execute_result"
    }
   ],
   "source": [
    "mm * sc.pi"
   ]
  },
  {
   "cell_type": "code",
   "execution_count": 46,
   "metadata": {},
   "outputs": [
    {
     "data": {
      "text/plain": [
       "array([[ 56,  62,  68,  74],\n",
       "       [152, 174, 196, 218],\n",
       "       [248, 286, 324, 362],\n",
       "       [344, 398, 452, 506]])"
      ]
     },
     "execution_count": 46,
     "metadata": {},
     "output_type": "execute_result"
    }
   ],
   "source": [
    "mm.dot(mm) # MATRIX MULTIPLICATION"
   ]
  },
  {
   "cell_type": "code",
   "execution_count": 47,
   "metadata": {},
   "outputs": [
    {
     "data": {
      "text/plain": [
       "matrix([[ 0,  1,  2,  3],\n",
       "        [ 4,  5,  6,  7],\n",
       "        [ 8,  9, 10, 11],\n",
       "        [12, 13, 14, 15]])"
      ]
     },
     "execution_count": 47,
     "metadata": {},
     "output_type": "execute_result"
    }
   ],
   "source": [
    "mm = sc.matrix(mm) # convert to scipy matrix class\n",
    "mm"
   ]
  },
  {
   "cell_type": "code",
   "execution_count": 48,
   "metadata": {},
   "outputs": [
    {
     "name": "stdout",
     "output_type": "stream",
     "text": [
      "<class 'numpy.matrixlib.defmatrix.matrix'>\n"
     ]
    }
   ],
   "source": [
    "print(type(mm))"
   ]
  },
  {
   "cell_type": "code",
   "execution_count": 49,
   "metadata": {},
   "outputs": [
    {
     "data": {
      "text/plain": [
       "matrix([[ 56,  62,  68,  74],\n",
       "        [152, 174, 196, 218],\n",
       "        [248, 286, 324, 362],\n",
       "        [344, 398, 452, 506]])"
      ]
     },
     "execution_count": 49,
     "metadata": {},
     "output_type": "execute_result"
    }
   ],
   "source": [
    "mm * mm # now matrix multiplication is syntactically easier"
   ]
  },
  {
   "cell_type": "markdown",
   "metadata": {},
   "source": [
    "We can do a lot more by importing the `linalg` sub-package: `sc.linalg`. Try it."
   ]
  },
  {
   "cell_type": "markdown",
   "metadata": {},
   "source": [
    "## Two particularly useful `scipy` sub-packages\n",
    "\n",
    "Two particularly useful `scipy` sub-packages are `sc.integrate` (*what will I need this for?*) and `sc.stats`. *Why not use `R` for this?* — because often you might just want to calculate some summary stats of your simulation results within Python.\n",
    "\n",
    "### `sc.stats`\n",
    "\n",
    "Let's take a quick spin in `sc.stats`."
   ]
  },
  {
   "cell_type": "code",
   "execution_count": 50,
   "metadata": {},
   "outputs": [],
   "source": [
    "import scipy.stats"
   ]
  },
  {
   "cell_type": "code",
   "execution_count": 51,
   "metadata": {},
   "outputs": [
    {
     "data": {
      "text/plain": [
       "array([ 0.62160183,  1.68478087,  1.22374384, -0.76193068, -0.90048171,\n",
       "        1.22124659,  0.58024483, -1.14164559, -0.02768309,  0.69459372])"
      ]
     },
     "execution_count": 51,
     "metadata": {},
     "output_type": "execute_result"
    }
   ],
   "source": [
    "scipy.stats.norm.rvs(size = 10) # 10 samples from N(0,1)"
   ]
  },
  {
   "cell_type": "code",
   "execution_count": 52,
   "metadata": {},
   "outputs": [
    {
     "data": {
      "text/plain": [
       "array([2, 8, 9, 7, 6, 5, 0])"
      ]
     },
     "execution_count": 52,
     "metadata": {},
     "output_type": "execute_result"
    }
   ],
   "source": [
    "scipy.stats.randint.rvs(0, 10, size =7) # Random integers between 0 and 10"
   ]
  },
  {
   "cell_type": "markdown",
   "metadata": {},
   "source": [
    "### Numerical integration using  `scipy`\n",
    "\n",
    "Numerical integration is the approximate computation of an integral using numerical techniques. You need numerical integration whenever you have a complicated function that cannot be integrated analytically using anti-derivatives. For example, calculating the area under a curve A particularly useful application is solving ordinary differential equations (ODEs), commonly used for modelling biological systems.\n",
    "\n",
    "#### The Lotka-Volterra model\n",
    "\n",
    "Let's try numerical integration in Python for solving a classical model in biology — the Lotka-Volterra model for a predator-prey system in two-dimensional space (e.g., on land).\n",
    "\n",
    "The Lotka-Volterra (LV) model is: \n",
    "\n",
    "\\begin{aligned}\n",
    "    \\frac{dR}{dt} &= r R - a C R \\\\\n",
    "    \\frac{dC}{dt} &= - z C + e a C R\n",
    "\\end{aligned}\n",
    "\n",
    "where $C$ and $R$ are consumer (e.g., predator) and resource (e.g., prey) population abundance (either number $\\times$ area$^{-1}$ ), $r$ is the intrinsic (per-capita) growth rate of the resource population (time$^{-1}$), $a$ is per-capita \"search rate\" for the resource ($\\text{area}\\times \\text{time}^{-1}$)  multiplied by its attack success probability, which determines the encounter and consumption rate of the consumer on the resource, $z$ is mortality rate ($\\text{time}^{-1}$) and $e$ is the consumer's efficiency (a fraction) in converting resource to consumer biomass.\n",
    "\n",
    "We have already imported scipy above (`import scipy as sc`) so we can proceed to solve the LV model using numerical integration. \n",
    "\n",
    "First, import `scipy`'s `integrate` submodule:"
   ]
  },
  {
   "cell_type": "code",
   "execution_count": 53,
   "metadata": {},
   "outputs": [],
   "source": [
    "import scipy.integrate as integrate"
   ]
  },
  {
   "cell_type": "markdown",
   "metadata": {},
   "source": [
    "Now define a function that returns the growth rate of consumer and resource population at any given time step."
   ]
  },
  {
   "cell_type": "code",
   "execution_count": 54,
   "metadata": {},
   "outputs": [],
   "source": [
    "def dCR_dt(pops, t=0):\n",
    "\n",
    "    R = pops[0]\n",
    "    C = pops[1]\n",
    "    dRdt = r * R - a * R * C \n",
    "    dCdt = -z * C + e * a * R * C\n",
    "    \n",
    "    return sc.array([dRdt, dCdt])"
   ]
  },
  {
   "cell_type": "code",
   "execution_count": 55,
   "metadata": {
    "scrolled": true
   },
   "outputs": [
    {
     "data": {
      "text/plain": [
       "function"
      ]
     },
     "execution_count": 55,
     "metadata": {},
     "output_type": "execute_result"
    }
   ],
   "source": [
    "type(dCR_dt)"
   ]
  },
  {
   "cell_type": "markdown",
   "metadata": {},
   "source": [
    "Assign some parameter values:"
   ]
  },
  {
   "cell_type": "code",
   "execution_count": 56,
   "metadata": {},
   "outputs": [],
   "source": [
    "r = 1.\n",
    "a = 0.1 \n",
    "z = 1.5\n",
    "e = 0.75"
   ]
  },
  {
   "cell_type": "markdown",
   "metadata": {},
   "source": [
    "Define the time vector; let's integrate from time point 0 to 15, using 1000 sub-divisions of time:"
   ]
  },
  {
   "cell_type": "code",
   "execution_count": 57,
   "metadata": {},
   "outputs": [],
   "source": [
    "t = sc.linspace(0, 15,  1000)"
   ]
  },
  {
   "cell_type": "markdown",
   "metadata": {},
   "source": [
    "Note that the units of time are arbitrary here. "
   ]
  },
  {
   "cell_type": "markdown",
   "metadata": {},
   "source": [
    "Set the initial conditions for the two populations (10 resources and 5 consumers per unit area), and convert the two into an array (because our `dCR_dt` function take an array as input). "
   ]
  },
  {
   "cell_type": "code",
   "execution_count": 58,
   "metadata": {},
   "outputs": [],
   "source": [
    "R0 = 10\n",
    "C0 = 5 \n",
    "RC0 = sc.array([R0, C0]) "
   ]
  },
  {
   "cell_type": "markdown",
   "metadata": {},
   "source": [
    "Now numerically integrate this system forward from those starting conditions: "
   ]
  },
  {
   "cell_type": "code",
   "execution_count": 59,
   "metadata": {},
   "outputs": [],
   "source": [
    "pops, infodict = integrate.odeint(dCR_dt, RC0, t, full_output=True)"
   ]
  },
  {
   "cell_type": "code",
   "execution_count": 60,
   "metadata": {
    "scrolled": false
   },
   "outputs": [
    {
     "data": {
      "text/plain": [
       "array([[ 10.        ,   5.        ],\n",
       "       [ 10.07578091,   4.94421976],\n",
       "       [ 10.1529783 ,   4.88948321],\n",
       "       ..., \n",
       "       [  9.99869712,  17.56204194],\n",
       "       [  9.8872779 ,  17.3642589 ],\n",
       "       [  9.78000354,  17.16658946]])"
      ]
     },
     "execution_count": 60,
     "metadata": {},
     "output_type": "execute_result"
    }
   ],
   "source": [
    "pops"
   ]
  },
  {
   "cell_type": "markdown",
   "metadata": {},
   "source": [
    "So `pops` contains the result (the population trajectories).  Also check what's in infodict (it's a  dictionary with additional information)"
   ]
  },
  {
   "cell_type": "code",
   "execution_count": 61,
   "metadata": {
    "scrolled": false
   },
   "outputs": [
    {
     "data": {
      "text/plain": [
       "dict"
      ]
     },
     "execution_count": 61,
     "metadata": {},
     "output_type": "execute_result"
    }
   ],
   "source": [
    "type(infodict)"
   ]
  },
  {
   "cell_type": "code",
   "execution_count": 62,
   "metadata": {},
   "outputs": [
    {
     "data": {
      "text/plain": [
       "dict_keys(['tcur', 'nst', 'imxer', 'message', 'nje', 'nqu', 'tsw', 'lenrw', 'mused', 'leniw', 'hu', 'nfe', 'tolsf'])"
      ]
     },
     "execution_count": 62,
     "metadata": {},
     "output_type": "execute_result"
    }
   ],
   "source": [
    "infodict.keys()"
   ]
  },
  {
   "cell_type": "markdown",
   "metadata": {},
   "source": [
    "Check what the `infodict` output is by reading the help documentation with `?scipy.integrate.odeint`. For example, you can return a message to screen about whether the integration was successful: "
   ]
  },
  {
   "cell_type": "code",
   "execution_count": 63,
   "metadata": {},
   "outputs": [
    {
     "data": {
      "text/plain": [
       "'Integration successful.'"
      ]
     },
     "execution_count": 63,
     "metadata": {},
     "output_type": "execute_result"
    }
   ],
   "source": [
    "infodict['message']"
   ]
  },
  {
   "cell_type": "markdown",
   "metadata": {},
   "source": [
    "So it worked, great! But we would like to visualize the results. Let's do it using the `matplotlib` package. \n",
    "\n",
    "## Plotting in Python \n",
    "\n",
    "To visualize the results of your numerical simulations in Python (or for data exploration/analyses), you can use `matplotlib`, which uses Matlab like plotting syntax.\n",
    "\n",
    "First let's import the package:"
   ]
  },
  {
   "cell_type": "code",
   "execution_count": 64,
   "metadata": {},
   "outputs": [],
   "source": [
    "import matplotlib.pylab as p"
   ]
  },
  {
   "cell_type": "markdown",
   "metadata": {},
   "source": [
    "Now open empty figure object (analogous to an R graphics object)."
   ]
  },
  {
   "cell_type": "code",
   "execution_count": 65,
   "metadata": {
    "scrolled": true
   },
   "outputs": [
    {
     "data": {
      "text/plain": [
       "<matplotlib.figure.Figure at 0x7f6581bf00f0>"
      ]
     },
     "metadata": {},
     "output_type": "display_data"
    }
   ],
   "source": [
    "f1 = p.figure()"
   ]
  },
  {
   "cell_type": "code",
   "execution_count": 66,
   "metadata": {},
   "outputs": [
    {
     "data": {
      "image/png": "[encoded data removed]",
      "text/plain": [
       "<matplotlib.figure.Figure at 0x7f657ee58a58>"
      ]
     },
     "metadata": {},
     "output_type": "display_data"
    }
   ],
   "source": [
    "p.plot(t, pops[:,0], 'g-', label='Resource density') # Plot\n",
    "p.plot(t, pops[:,1]  , 'b-', label='Consumer density')\n",
    "p.grid()\n",
    "p.legend(loc='best')\n",
    "p.xlabel('Time')\n",
    "p.ylabel('Population density')\n",
    "p.title('Consumer-Resource population dynamics')\n",
    "p.show()# To display the figure"
   ]
  },
  {
   "cell_type": "markdown",
   "metadata": {},
   "source": [
    "Finally, save the figure as a pdf:"
   ]
  },
  {
   "cell_type": "code",
   "execution_count": 67,
   "metadata": {},
   "outputs": [],
   "source": [
    "f1.savefig('../results/LV_model.pdf') #Save figure"
   ]
  },
  {
   "cell_type": "markdown",
   "metadata": {},
   "source": [
    "You can use many any other output formats; check the documentation with `p.savefig`. "
   ]
  },
  {
   "cell_type": "markdown",
   "metadata": {},
   "source": [
    "## Practicals\n",
    "\n",
    "1. Create a self-standing script using the above example and save it as `LV1.py` in your code directory. In addition to generating the above figure, it should also generate the following figure: \n",
    "\n",
    "<figure>\n",
    "<img src=\"./graphics/LV_model_CR.png\" alt=\"Lotka-Volterra consumer-resource dynamics\" style=\"width:50%\">\n",
    "    <small>\n",
    "        <center>\n",
    "            <figcaption> \n",
    "            Generate this figure as part of the `LV1.py` script.\n",
    "            </figcaption>\n",
    "        </center>\n",
    "    </small>\n",
    "</figure>\n",
    "\n",
    "It should save both figures in pdf to the `results` directory, *without displaying them on screen*."
   ]
  },
  {
   "cell_type": "markdown",
   "metadata": {},
   "source": [
    "## The need for speed: profiling code\n",
    "\n",
    "Donald Knuth says: *Premature optimization is the root of all evil*. \n",
    "\n",
    "Indeed, computational speed may not be your initial concern. Also, you should focus on developing clean, reliable, reusable code rather than worrying first about how fast your code runs. However, speed will become an issue when and if your analysis or modeling becomes complex enough (e.g., food web or large network simulations). In that case, knowing which parts of your code take the most time is useful – optimizing those parts may save you lots of time. \n",
    "\n",
    "To find out what is slowing down your code you need to \"profile\" your code: locate the sections of your code where  speed bottlenecks exist. \n",
    "\n",
    "### Profiling in Python\n",
    "\n",
    "Profiling is easy in `ipython` – simply use the command: \n",
    "\n",
    "```python\n",
    "%run -p your_function_name\n",
    "```\n",
    "\n",
    "Let's write an illustrative program (name it `profileme.py`):\n",
    "```python\n",
    "def my_squares(iters):\n",
    "    out = []\n",
    "    for i in range(iters):\n",
    "        out.append(i ** 2)\n",
    "    return out\n",
    "\n",
    "def my_join(iters, string):\n",
    "    out = ''\n",
    "    for i in range(iters):\n",
    "        out += string.join(\", \")\n",
    "    return out\n",
    "\n",
    "def run_my_funcs(x,y):\n",
    "    print(x,y)\n",
    "    my_squares(x)\n",
    "    my_join(x,y)\n",
    "    return 0\n",
    "\n",
    "run_my_funcs(10000000,\"My string\")\n",
    "```\n",
    "Now run it with `run -p profileme.py`, and you should see something like: \n",
    "\n",
    "```bash\n",
    "        20000063 function calls (20000062 primitive calls) in 9.026 seconds\n",
    "\n",
    "   Ordered by: internal time\n",
    "\n",
    "   ncalls  tottime  percall  cumtime  percall filename:lineno(function)\n",
    "        1    3.335    3.335    3.732    3.732 profileme.py:1(my_squares)\n",
    "        1    2.698    2.698    5.200    5.200 profileme.py:7(my_join)\n",
    " 10000001    2.502    0.000    2.502    0.000 {method 'join' of 'str' objects}\n",
    " 10000008    0.397    0.000    0.397    0.000 {method 'append' of 'list' objects}\n",
    "        1    0.093    0.093    9.025    9.025 profileme.py:13(run_my_funcs)\n",
    "[more output]\n",
    "```"
   ]
  },
  {
   "cell_type": "markdown",
   "metadata": {},
   "source": [
    "Now you can see that the `my_join` function  is hogging most of the time, followed by `my_squares`. Furthermore, its the string method `join` that is clearly slowing `my_join` down, and the list method `append` that is slowing `my_squares`down. In other words, `.join`ing the string again and again, and `.append`ing values to a list are both not particularly fast. \n",
    "\n",
    "Can we do better? *Yes!* \n",
    "\n",
    "Let's try this alternative approach to writing the program (save it as `profileme2.py`):\n",
    "\n",
    "```python\n",
    "def my_squares(iters):\n",
    "    out = [i ** 2 for i in range(iters)]\n",
    "    return out\n",
    "\n",
    "def my_join(iters, string):\n",
    "    out = ''\n",
    "    for i in range(iters):\n",
    "        out += \", \" + string\n",
    "    return out\n",
    "\n",
    "def run_my_funcs(x,y):\n",
    "    print(x,y)\n",
    "    my_squares(x)\n",
    "    my_join(x,y)\n",
    "    return 0\n",
    "\n",
    "run_my_funcs(10000000,\"My string\")\n",
    "```\n",
    "\n",
    "We did two things: converted the loop to a list comprehension, and replaced the `.join` with an explicit string concatenation.\n",
    "\n",
    "Now profile this program (`run -p profileme2.py`), and you should get something like:\n",
    "\n",
    "```bash\n",
    "        64 function calls (63 primitive calls) in 4.585 seconds\n",
    "\n",
    "   Ordered by: internal time\n",
    "\n",
    "   ncalls  tottime  percall  cumtime  percall filename:lineno(function)\n",
    "        1    2.497    2.497    2.497    2.497 profileme2.py:2(<listcomp>)\n",
    "        1    1.993    1.993    1.993    1.993 profileme2.py:5(my_join)\n",
    "        1    0.094    0.094    4.584    4.584 profileme2.py:11(run_my_funcs)\n",
    "[more output]\n",
    "```\n",
    "\n",
    "Woo hoo! So we about halved the time! Not quite enough to grab a pint, but ah well...\n",
    " \n",
    "Another approach would be to preallocate a `numpy` array instead of using a list for `my_squares`. Try it."
   ]
  },
  {
   "cell_type": "markdown",
   "metadata": {},
   "source": [
    "### Quick profiling with `timeit`\n",
    "\n",
    "Alternatively,  you can use the `timeit` module if you want to figure out what the best way to do something specific as part of a larger program (say a particular command or a loop) might be.\n",
    "\n",
    "Type an run the following code in a python script called `timeitme.py`:\n",
    "\n",
    "```python\n",
    "##############################################################################\n",
    "# loops vs. list comprehensions: which is faster?\n",
    "##############################################################################\n",
    "\n",
    "iters = 1000000\n",
    "\n",
    "import timeit\n",
    "\n",
    "from profileme import my_squares as my_squares_loops\n",
    "\n",
    "from profileme2 import my_squares as my_squares_lc\n",
    "\n",
    "# %timeit my_squares_loops(iters)\n",
    "# %timeit my_squares_lc(iters)\n",
    "\n",
    "\n",
    "##############################################################################\n",
    "# loops vs. the join method for strings: which is faster?\n",
    "##############################################################################\n",
    "\n",
    "mystring = \"my string\"\n",
    "\n",
    "from profileme import my_join as my_join_join\n",
    "\n",
    "from profileme2 import my_join as my_join\n",
    "\n",
    "# %timeit(my_join_join(iters, mystring))\n",
    "# %timeit(my_join(iters, mystring))\n",
    "```\n",
    "Note how we imported the functions using `from profileme import my_squares as my_squares_loops`, etc., which highlights the convenience of Python's elegant object-oriented approach.\n",
    "\n",
    "Now run the two sets of comparisons using `timeit()` in ipython and make sure every line makes sense. Note that I have commented out the `%timeit()` commands because having a magic command inside a script will not work.\n",
    "\n",
    "Of course, a simple approach would have been to time the functions like this:\n",
    "\n",
    "```python \n",
    "import time\n",
    "start = time.time()\n",
    "my_squares_loops(iters)\n",
    "print(\"my_squares_loops takes %f s to run.\" % (time.time() - start))\n",
    "\n",
    "start = time.time()\n",
    "my_squares_lc(iters)\n",
    "print(\"my_squares_lc takes %f s to run.\" % (time.time() - start))\n",
    "```\n",
    "But you'll notice that if you run it multiple times, the time taken changes each time. So `timeit` takes a sample of runs and returns the average, which is better.\n",
    "\n",
    "*But remember, don't go crazy with profiling for the sake of shaving a couple of milliseconds, tempting as that may be!*"
   ]
  },
  {
   "cell_type": "markdown",
   "metadata": {},
   "source": [
    "## Practicals\n",
    "\n",
    "### Lotka-Volterra model problem\n",
    "\n",
    "Copy and modify `LV1.py` into another script called `LV2.py` that does the following:\n",
    "\n",
    "*  Take arguments for the four LV model parameters $r$, $a$, $z$ ,$e$ from the command line:\n",
    "```\n",
    "LV2.py arg1 arg2 ... etc\n",
    "```\n",
    "*  Runs the Lotka-Volterra model with prey density dependence $r R \\left(1 - \\frac{R} {K}\\right)$, which changes the coupled ODEs to,\n",
    "\\begin{aligned}\n",
    "    \\frac{dR}{dt} &= r R \\left(1 - \\frac{R} {K}\\right) - a C R \\\\\n",
    "    \\frac{dC}{dt} &= - z C + e a C R\n",
    "\\end{aligned}\n",
    "*  Saves the plot as `.pdf` in an appropriate location.\n",
    "*  The chosen parameter values should show in the plot (e.g., $r = 1, a = .5 $, etc) You can change time length $t$ too.\n",
    "*  Include a script in `code` that will run both `LV1.py` and `LV2.py` with appropriate arguments. This script should also profile the two scripts and print the results to screen for each of the scripts using the `%run -p` approach. Look at and compare the speed bottlenecks in `LV1.py` and `LV2.py`. *Think about how you could further speed up the scripts.*\n",
    "\n",
    "### Extra Credit problems\n",
    "\n",
    "*Write every subsequent extra credit script file with a new name such as `LV3.py`,`LV4.py`, etc.* \n",
    "\n",
    "* **Extra credit**: Choose appropriate values for the parameters such that both predator and prey persist with prey density dependence — the final (non-zero) population values should be printed to screen.\n",
    "\n",
    "* **Extra-extra credit**: Write a discrete-time version of the LV model called `LV3.py`. The discrete-time model is:\n",
    "\n",
    "\\begin{align} \n",
    "    R_{t+1} &= R_t (1 + r \\left(1 - \\frac{R_t}{K}\\right) - a C_t)\\\\ \n",
    "    C_{t+1} &= C_t (1 - z + e a R_t) \n",
    "\\end{align}\n",
    "\n",
    "Include this script in `run_LV.py`, and profile it as well.\n",
    "\n",
    "* **Extra-extra-extra credit**: Write a version of the discrete-time model (which you implemented in `LV3.py`) simulation with a random gaussian fluctuation in resource's growth rate at each time-step:\n",
    "\n",
    "\\begin{aligned}\n",
    "        R_{t+1} &= R_t (1 + (r + \\epsilon) \\left(1 - \\frac{R_t}{K}\\right)- a C_t)\\\\\n",
    "        C_{t+1} &= C_t (1 - z + e a R_t)\n",
    "\\end{aligned}\n",
    "\n",
    "where $\\epsilon$ is a random fluctuation drawn from a gaussian distribution (use `sc.stats`). Include this\n",
    "script in ` run_LV.py`, and profile it as well. You can also add fluctuations to both populations simultaneously this way: \n",
    "\n",
    "\\begin{aligned}\n",
    "    R_{t+1} &= R_t (1 + \\epsilon + r +  \\left(1 - \\frac{R_t}{K}\\right) - a C_t)\\\\\n",
    "    C_{t+1} &= C_t (1 - z + \\epsilon + e a R_t)\n",
    "\\end{aligned}\n",
    "\n",
    "*As always, test, add, commit and push all your new code and data to your git repository.*"
   ]
  },
  {
   "cell_type": "markdown",
   "metadata": {},
   "source": [
    "## Networks in Python\n",
    "\n",
    "ALL biological systems have a network representation, consisting of nodes for the biological entities of interest, and edges or links for the relationships between them. Here are some examples:\n",
    "* Metabolic networks\n",
    "* Gene regulatory networks\n",
    "* Individual-Individual (e.g., social networks)\n",
    "* Who-eats-whom (Food web) networks\n",
    "* Mutualistic (e.g., plant-pollinator) networks\n",
    "\n",
    "*Can you think of a few more examples from biology?*\n",
    "\n",
    "You can easily simulate, analyze, and visualize biological networks in both `python` and `R` using some nifty packages. A full network analysis tutorial is out of the scope of our Python module's objectives, but let's try a simple visualization using the ` networkx` python package.\n",
    "\n",
    "For this you need to first install the package, for example, by using:\n",
    "\n",
    "```bash\n",
    "sudo apt-get install python3-networkx\n",
    "```\n",
    "\n",
    "### Food web network example\n",
    "\n",
    "As an example, let's plot a food web network. \n",
    "\n",
    "The best way to store a food web dataset is as an \"adjacency list\" of who eats whom: a matrix with consumer name/id in 1st column, and resource name/id in 2nd column, and a separate matrix of species names/ids and properties such as biomass (node's abundance), or average body mass. You will see what these data structures look like below. \n",
    "\n",
    "First, import the necessary modules:"
   ]
  },
  {
   "cell_type": "code",
   "execution_count": 68,
   "metadata": {},
   "outputs": [],
   "source": [
    "import networkx as nx\n",
    "import scipy as sc\n",
    "import matplotlib.pyplot as p"
   ]
  },
  {
   "cell_type": "markdown",
   "metadata": {},
   "source": [
    "Let's generate a \"synthetic\" food web. We can do this with the following function that generates a random adjacency list of a $N$-species food web with \"connectance probability\" $C$: the probability of having a link between any pair of species in the food web. "
   ]
  },
  {
   "cell_type": "code",
   "execution_count": 69,
   "metadata": {},
   "outputs": [],
   "source": [
    "def GenRdmAdjList(N = 2, C = 0.5):\n",
    "    \"\"\" \n",
    "    \"\"\"\n",
    "    Ids = range(N)\n",
    "    ALst = []\n",
    "    for i in Ids:\n",
    "        if sc.random.uniform(0,1,1) < C:\n",
    "            Lnk = sc.random.choice(Ids,2).tolist()\n",
    "            if Lnk[0] != Lnk[1]: #avoid self (e.g., cannibalistic) loops\n",
    "                ALst.append(Lnk)\n",
    "    return ALst"
   ]
  },
  {
   "cell_type": "markdown",
   "metadata": {},
   "source": [
    "Note that we are using a uniform random distribution between `[0,1]` to generate a connectance probability between each species pair. \n",
    "\n",
    "Now, let's assign a body mass range (in log scale):"
   ]
  },
  {
   "cell_type": "markdown",
   "metadata": {},
   "source": [
    "Now assign number of species (`MaxN`) and connectance (`C`):"
   ]
  },
  {
   "cell_type": "code",
   "execution_count": 70,
   "metadata": {},
   "outputs": [],
   "source": [
    "MaxN = 30\n",
    "C = 0.75"
   ]
  },
  {
   "cell_type": "markdown",
   "metadata": {},
   "source": [
    "Now generate an adjacency list representing a random food web:"
   ]
  },
  {
   "cell_type": "code",
   "execution_count": 71,
   "metadata": {
    "scrolled": true
   },
   "outputs": [
    {
     "data": {
      "text/plain": [
       "array([[13, 21],\n",
       "       [ 6, 13],\n",
       "       [13,  7],\n",
       "       [ 9,  0],\n",
       "       [13,  7],\n",
       "       [ 6,  3],\n",
       "       [18,  1],\n",
       "       [12,  2],\n",
       "       [ 7,  4],\n",
       "       [16,  6],\n",
       "       [18,  2],\n",
       "       [28, 26],\n",
       "       [24,  9],\n",
       "       [15, 24],\n",
       "       [10,  1],\n",
       "       [15,  8],\n",
       "       [26,  4],\n",
       "       [10, 23],\n",
       "       [ 7,  2],\n",
       "       [28,  6]])"
      ]
     },
     "execution_count": 71,
     "metadata": {},
     "output_type": "execute_result"
    }
   ],
   "source": [
    "AdjL = sc.array(GenRdmAdjList(MaxN, C))\n",
    "AdjL"
   ]
  },
  {
   "cell_type": "markdown",
   "metadata": {},
   "source": [
    "So that's what an adjacency list looks like. The two columns of numbers correspond to the consumer and resource ids, respectively.  \n",
    "\n",
    "Now generate species (node) data:"
   ]
  },
  {
   "cell_type": "code",
   "execution_count": 72,
   "metadata": {},
   "outputs": [],
   "source": [
    "Sps = sc.unique(AdjL) # get species ids"
   ]
  },
  {
   "cell_type": "markdown",
   "metadata": {},
   "source": [
    "Now generate body sizes for the species. We will use a log$_{10}$ scale because species body sizes tend to be [log-normally distributed](08-Data_R.ipynb#Histograms)."
   ]
  },
  {
   "cell_type": "code",
   "execution_count": 73,
   "metadata": {
    "scrolled": true
   },
   "outputs": [
    {
     "data": {
      "text/plain": [
       "array([ 9.10721524,  9.63140571, -5.47441612, -6.55547482, -1.38996528,\n",
       "       -2.74621873,  6.55691828,  1.69048411, -3.05973061, -6.08656247,\n",
       "        0.14004688, -7.3575237 , -6.75483147,  9.4372323 , -5.38231375,\n",
       "        5.29686143,  9.76737609, -4.11140034,  7.13417838,  2.89109946,\n",
       "        9.20664214, -7.52228242,  6.78447086,  0.50055654, -6.67161691,\n",
       "       -5.87829532, -2.59591186, -8.17591864, -1.84420355, -5.13455995])"
      ]
     },
     "execution_count": 73,
     "metadata": {},
     "output_type": "execute_result"
    }
   ],
   "source": [
    "SizRan = ([-10,10]) #use log10 scale\n",
    "Sizs = sc.random.uniform(SizRan[0],SizRan[1],MaxN)\n",
    "Sizs"
   ]
  },
  {
   "cell_type": "markdown",
   "metadata": {},
   "source": [
    "Let's visualize the size distribution we have generated."
   ]
  },
  {
   "cell_type": "code",
   "execution_count": 74,
   "metadata": {},
   "outputs": [
    {
     "data": {
      "text/plain": [
       "(array([ 6.,  5.,  2.,  4.,  2.,  1.,  1.,  1.,  3.,  5.]),\n",
       " array([-8.17591864, -6.38158917, -4.5872597 , -2.79293022, -0.99860075,\n",
       "         0.79572872,  2.59005819,  4.38438767,  6.17871714,  7.97304661,\n",
       "         9.76737609]),\n",
       " <a list of 10 Patch objects>)"
      ]
     },
     "execution_count": 74,
     "metadata": {},
     "output_type": "execute_result"
    },
    {
     "data": {
      "image/png": "[encoded data removed]",
      "text/plain": [
       "<matplotlib.figure.Figure at 0x7f659d06a7b8>"
      ]
     },
     "metadata": {},
     "output_type": "display_data"
    }
   ],
   "source": [
    "p.hist(Sizs) #log10 scale"
   ]
  },
  {
   "cell_type": "code",
   "execution_count": 75,
   "metadata": {},
   "outputs": [
    {
     "data": {
      "text/plain": [
       "(array([ 25.,   0.,   2.,   0.,   1.,   0.,   0.,   1.,   0.,   1.]),\n",
       " array([  6.66931695e-09,   5.85296713e+08,   1.17059343e+09,\n",
       "          1.75589014e+09,   2.34118685e+09,   2.92648356e+09,\n",
       "          3.51178028e+09,   4.09707699e+09,   4.68237370e+09,\n",
       "          5.26767042e+09,   5.85296713e+09]),\n",
       " <a list of 10 Patch objects>)"
      ]
     },
     "execution_count": 75,
     "metadata": {},
     "output_type": "execute_result"
    },
    {
     "data": {
      "image/png": "[encoded data removed]",
      "text/plain": [
       "<matplotlib.figure.Figure at 0x7f659d06a358>"
      ]
     },
     "metadata": {},
     "output_type": "display_data"
    }
   ],
   "source": [
    "p.hist(10 ** Sizs) #raw scale"
   ]
  },
  {
   "cell_type": "markdown",
   "metadata": {},
   "source": [
    "Now let's plot the network, with node sizes proportional to (log) body size:"
   ]
  },
  {
   "cell_type": "code",
   "execution_count": 76,
   "metadata": {},
   "outputs": [],
   "source": [
    "p.close('all') # close all open plot objects"
   ]
  },
  {
   "cell_type": "markdown",
   "metadata": {},
   "source": [
    "Let's use a circular configuration. For this, we need to calculate the coordinates, easily done using networkx:"
   ]
  },
  {
   "cell_type": "code",
   "execution_count": 77,
   "metadata": {},
   "outputs": [],
   "source": [
    "pos = nx.circular_layout(Sps)"
   ]
  },
  {
   "cell_type": "markdown",
   "metadata": {},
   "source": [
    "See `networkx.layout` for inbuilt functions to compute other types of node coordinates.\n",
    "\n",
    "Now generate a networkx graph object:"
   ]
  },
  {
   "cell_type": "code",
   "execution_count": 78,
   "metadata": {},
   "outputs": [],
   "source": [
    "G = nx.Graph()"
   ]
  },
  {
   "cell_type": "markdown",
   "metadata": {},
   "source": [
    "Now add the nodes and links (edges) to it:"
   ]
  },
  {
   "cell_type": "code",
   "execution_count": 143,
   "metadata": {},
   "outputs": [],
   "source": [
    "G.add_nodes_from(Sps)\n",
    "G.add_edges_from(tuple(AdjL)) # this function needs a tuple input"
   ]
  },
  {
   "cell_type": "markdown",
   "metadata": {},
   "source": [
    "Generate node sizes that are proportional to (log) body sizes:"
   ]
  },
  {
   "cell_type": "code",
   "execution_count": 144,
   "metadata": {},
   "outputs": [],
   "source": [
    "NodSizs= 1000 * (Sizs-min(Sizs))/(max(Sizs)-min(Sizs)) "
   ]
  },
  {
   "cell_type": "markdown",
   "metadata": {},
   "source": [
    "Now render (plot) the graph:"
   ]
  },
  {
   "cell_type": "code",
   "execution_count": 145,
   "metadata": {},
   "outputs": [
    {
     "name": "stderr",
     "output_type": "stream",
     "text": [
      "/usr/lib/python3/dist-packages/networkx/drawing/nx_pylab.py:522: MatplotlibDeprecationWarning: The is_string_like function was deprecated in version 2.1.\n",
      "  if not cb.is_string_like(edge_color) \\\n",
      "/usr/lib/python3/dist-packages/networkx/drawing/nx_pylab.py:543: MatplotlibDeprecationWarning: The is_string_like function was deprecated in version 2.1.\n",
      "  if cb.is_string_like(edge_color) or len(edge_color) == 1:\n",
      "/usr/lib/python3/dist-packages/networkx/drawing/nx_pylab.py:724: MatplotlibDeprecationWarning: The is_string_like function was deprecated in version 2.1.\n",
      "  if not cb.is_string_like(label):\n"
     ]
    },
    {
     "data": {
      "image/png": "[encoded data removed]",
      "text/plain": [
       "<matplotlib.figure.Figure at 0x7f659cdc0cc0>"
      ]
     },
     "metadata": {},
     "output_type": "display_data"
    }
   ],
   "source": [
    "nx.draw_networkx(G, pos, node_size = NodSizs)"
   ]
  },
  {
   "cell_type": "markdown",
   "metadata": {},
   "source": [
    "Some of you might get the warning above, or a different one. In that case, just try upgrading the networkx package.   \n",
    "\n",
    "## Practicals\n",
    "\n",
    "1. Type the above code for plotting a food web network in a program file called `DrawFW.py`. This file should save the plotted network as a pdf.   \n",
    "\n",
    "2. You can also do nice network visualizations in R. Here you will convert a network visualization script written in `R` using the `igraph` package to a python script that does the same thing.\n",
    "\n",
    "  * First copy the script file called `Nets.R` and the data files it calls and run it. This script visualizes the [QMEE CDT collaboration network](http://www.imperial.ac.uk/qmee-cdt), coloring the the nodes by the type of node (organization type: \"University\",\"Hosting Partner\", \"Non-hosting Partner\").\n",
    "\n",
    " * Now, convert this script to a `python` script that does the same thing, including writing to an `.svg` file using the same QMEE CDT link and node data. You can use `networkx` or some other python network visualization package."
   ]
  },
  {
   "cell_type": "markdown",
   "metadata": {},
   "source": [
    "## Regular expressions in Python\n",
    "\n",
    "Let's shift gears now, and look at a very important skill that you should learn, or at least be aware of — *Regular expressions*. \n",
    "\n",
    "Regular expressions (regex) are a tool to find patterns (not just a fixed sequence of characters) in strings For example, `your@email.com` is a specific sequence of characters. However, email addresses have a specific pattern of characters in a sequence &mdash; alphanumeric characters, a \"@\", alphanumeric characters, a \".\", alphanumeric characters &mdash; which you can search for in any given text file using regex (in this case, to find all email addresses).    \n",
    "\n",
    "There are many uses of regex, such as:\n",
    "\n",
    "* Parsing (reading) text files and finding and replacing or deleting specific patterns \n",
    "* Finding DNA motifs in sequence data\n",
    "* Navigating through files in a directory\n",
    "* Extracting information from html and xml files\n",
    "\n",
    "Thus, if you are interested in data mining, need to clean or process data in any other way, or convert a bunch of information into usable data, knowing regex is absolutely necessary.\n",
    "\n",
    "<figure>\n",
    "<img src=\"./graphics/regex.png\" alt=\"xkcd on regex\" style=\"width:40%\">\n",
    "    <small>\n",
    "        <center>\n",
    "            (Source: [www.xkcd.com](https://www.xkcd.com/208/))\n",
    "            <figcaption> \n",
    "            Regular expressions could change your life! \n",
    "            </figcaption>\n",
    "        </center>\n",
    "    </small>\n",
    "</figure>\n",
    "\n",
    "Regex packages are available for most programming languages (recall [`grep` in UNIX](01-Unix.ipynb#Using-`grep`); that is how regex first became popular).\n",
    "\n",
    "### Metacharacters vs. regular characters\n",
    "\n",
    "A regex may consist of a combination of \"metacharacters\" (modifiers) and \"regular\" or literal characters. There are 14 metacharacters: \n",
    "\n",
    "<center> \n",
    "<code>[</code> <code>]</code> <code>{</code> <code>}</code> <code>(</code> <code>)</code> <code>\\</code> <code>^</code> <code>&dollar;</code> <code>.</code> <code>|</code> <code>?</code> <code>*</code> <code>+</code> \n",
    "</center>\n",
    "\n",
    "These metacharacters do special things, for example:\n",
    "\n",
    "* `[12]` means match target to *1* and if that does not match then match target to *2*\n",
    "* `[0-9]` means match to any character in range *0* to *9*\n",
    "* `[^Ff]` means anything except upper or lower case *f* and `[^a-z]` means everything except lower case *a* to *z*\n",
    "\n",
    "Everything else is interpreted literally (e.g., *a* is matched by entering `a` in the regex).\n",
    "\n",
    "`[` and `]`, specify a character \"class\" — the set of characters that you wish to match. Metacharacters are not active inside classes. For example, <code>[a-z&dollar;]</code> will match any of the characters `a` to `z`, but also <code>&dollar;</code>, because inside a character class it loses its special metacharacter status.\n",
    "\n",
    "### regex elements\n",
    "\n",
    "A useful (not exhaustive) list of regex elements is:\n",
    "\n",
    "|Regex|Description|\n",
    "|:-|:-|\n",
    "|\\ | inhibit the \"specialness\" of a (meta)character so that it can be interpreted literally. So, for example, use `\\.` to match a period or `\\\\` to match a slash|\n",
    "|`aX9`| match the character string *aX9* exactly (case sensitively)| \n",
    "|`8`| match the number *8*|\n",
    "|`\\n`| match a newline|\n",
    "|`\\t`| match a tab |\n",
    "|`\\s`| match a whitespace |\n",
    "|`.`| match any character except line break (newline)|\n",
    "|`\\w`|  match a single \"word\" character: any alphanumeric character (including underscore)|\n",
    "|`\\W`| match any character not covered by `\\w`, i.e., match any non-alphanumeric character excluding underscore, such as `?`, `!`, `+`, `<`, etc. |\n",
    "|`\\d`| match a numeric (integer) character|\n",
    "|`\\D`| match any character not covered by ` \\d` (i.e., match a non-digit)|\n",
    "|`[atgc]` | match any character listed: `a`, `t`, `g`, `c`|\n",
    "| <code>at&vert;gc</code>  | match `at` or `gc`|\n",
    "|`[^atgc]`| match any character not listed: any character except `a`, `t`, `g`, `c`|\n",
    "|`?`| match the preceding pattern element zero or one times|\n",
    "|*|match the preceding pattern element zero or more times|\n",
    "|`+`| match the preceding pattern element one or more times|\n",
    "|`{n}`| match the preceding pattern element exactly `n` times|\n",
    "|`{n,}`| match the preceding pattern element at least `n` times|\n",
    "|`{n,m}`| match the preceding pattern element at least `n` but not more than `m` times|\n",
    "|`^`| match the start of a string|\n",
    "|<code>&dollar;</code>| match the end of a string|\n",
    "\n",
    "### Regex in `python`\n",
    "\n",
    "Regex functions in python are in the module `re`. \n",
    "\n",
    "Let's import it:"
   ]
  },
  {
   "cell_type": "code",
   "execution_count": 71,
   "metadata": {},
   "outputs": [],
   "source": [
    "import re"
   ]
  },
  {
   "cell_type": "markdown",
   "metadata": {},
   "source": [
    "The simplest `python` regex function is `re.search`, which searches the string for match to a given pattern — returns a *match object* if a match is found and `None` if not. Thus, the command `match = re.search(pat, str)` finds matches of the pattern `pat` in the given string `str` and stores the search result in a variable named `match`.\n",
    "\n",
    "> **Always** put `r` in front of your regex — it tells python to read the regex in its \"raw\" (literal) form. Without raw string notation (`r\"text\"`), every backslash (`\\`) in a regular expression would have to be prefixed with another one to escape it. Read more about this [here](https://docs.python.org/3.5/library/re.html).\n",
    "\n",
    "OK, let's try some regexes (type all that follows in `regexs.py`):"
   ]
  },
  {
   "cell_type": "code",
   "execution_count": 72,
   "metadata": {},
   "outputs": [],
   "source": [
    "my_string = \"a given string\""
   ]
  },
  {
   "cell_type": "markdown",
   "metadata": {},
   "source": [
    "Find a space in the string:"
   ]
  },
  {
   "cell_type": "code",
   "execution_count": 73,
   "metadata": {
    "scrolled": true
   },
   "outputs": [
    {
     "name": "stdout",
     "output_type": "stream",
     "text": [
      "<_sre.SRE_Match object; span=(1, 2), match=' '>\n"
     ]
    }
   ],
   "source": [
    "match = re.search(r'\\s', my_string)\n",
    "print(match)"
   ]
  },
  {
   "cell_type": "markdown",
   "metadata": {},
   "source": [
    "That's only telling you that a match was found (the object was created successfully). \n",
    "\n",
    "To see the match, use:"
   ]
  },
  {
   "cell_type": "code",
   "execution_count": 74,
   "metadata": {},
   "outputs": [
    {
     "data": {
      "text/plain": [
       "' '"
      ]
     },
     "execution_count": 74,
     "metadata": {},
     "output_type": "execute_result"
    }
   ],
   "source": [
    "match.group()"
   ]
  },
  {
   "cell_type": "markdown",
   "metadata": {},
   "source": [
    "Now let's try another pattern:"
   ]
  },
  {
   "cell_type": "code",
   "execution_count": 75,
   "metadata": {},
   "outputs": [],
   "source": [
    "match = re.search(r'\\d', my_string)"
   ]
  },
  {
   "cell_type": "code",
   "execution_count": 76,
   "metadata": {
    "scrolled": true
   },
   "outputs": [
    {
     "name": "stdout",
     "output_type": "stream",
     "text": [
      "None\n"
     ]
    }
   ],
   "source": [
    "print(match)"
   ]
  },
  {
   "cell_type": "markdown",
   "metadata": {},
   "source": [
    "No surprise, because there are no numeric characters in our string!"
   ]
  },
  {
   "cell_type": "markdown",
   "metadata": {},
   "source": [
    "To know whether a pattern was matched, we can use an `if`:"
   ]
  },
  {
   "cell_type": "code",
   "execution_count": 77,
   "metadata": {},
   "outputs": [
    {
     "name": "stdout",
     "output_type": "stream",
     "text": [
      "found a match: an \n"
     ]
    }
   ],
   "source": [
    "MyStr = 'an example'\n",
    "\n",
    "match = re.search(r'\\w*\\s', MyStr) # what pattern is this?\n",
    "\n",
    "if match:                      \n",
    "    print('found a match:', match.group()) \n",
    "else:\n",
    "    print('did not find a match')    "
   ]
  },
  {
   "cell_type": "markdown",
   "metadata": {},
   "source": [
    "Here are some more regexes (add all that follows to `regexs.py`):"
   ]
  },
  {
   "cell_type": "code",
   "execution_count": 78,
   "metadata": {},
   "outputs": [
    {
     "data": {
      "text/plain": [
       "'2'"
      ]
     },
     "execution_count": 78,
     "metadata": {},
     "output_type": "execute_result"
    }
   ],
   "source": [
    "match = re.search(r'2' , \"it takes 2 to tango\")\n",
    "match.group()"
   ]
  },
  {
   "cell_type": "code",
   "execution_count": 79,
   "metadata": {
    "scrolled": true
   },
   "outputs": [
    {
     "data": {
      "text/plain": [
       "'2'"
      ]
     },
     "execution_count": 79,
     "metadata": {},
     "output_type": "execute_result"
    }
   ],
   "source": [
    "match = re.search(r'\\d' , \"it takes 2 to tango\")\n",
    "match.group()"
   ]
  },
  {
   "cell_type": "code",
   "execution_count": 80,
   "metadata": {},
   "outputs": [
    {
     "data": {
      "text/plain": [
       "'2 to tango'"
      ]
     },
     "execution_count": 80,
     "metadata": {},
     "output_type": "execute_result"
    }
   ],
   "source": [
    "match = re.search(r'\\d.*' , \"it takes 2 to tango\")\n",
    "match.group()"
   ]
  },
  {
   "cell_type": "code",
   "execution_count": 92,
   "metadata": {
    "scrolled": true
   },
   "outputs": [
    {
     "data": {
      "text/plain": [
       "' a '"
      ]
     },
     "execution_count": 92,
     "metadata": {},
     "output_type": "execute_result"
    }
   ],
   "source": [
    "match = re.search(r'\\s\\w{1,3}\\s', 'once upon a time')\n",
    "match.group()"
   ]
  },
  {
   "cell_type": "code",
   "execution_count": 93,
   "metadata": {},
   "outputs": [
    {
     "data": {
      "text/plain": [
       "' time'"
      ]
     },
     "execution_count": 93,
     "metadata": {},
     "output_type": "execute_result"
    }
   ],
   "source": [
    "match = re.search(r'\\s\\w*$', 'once upon a time')\n",
    "match.group()"
   ]
  },
  {
   "cell_type": "markdown",
   "metadata": {},
   "source": [
    "Let's switch to a more compact syntax by directly returning the matched group (by directly appending `.group()` to the result)."
   ]
  },
  {
   "cell_type": "code",
   "execution_count": 94,
   "metadata": {},
   "outputs": [
    {
     "data": {
      "text/plain": [
       "'take 2 grams of H2'"
      ]
     },
     "execution_count": 94,
     "metadata": {},
     "output_type": "execute_result"
    }
   ],
   "source": [
    "re.search(r'\\w*\\s\\d.*\\d', 'take 2 grams of H2O').group()"
   ]
  },
  {
   "cell_type": "code",
   "execution_count": 95,
   "metadata": {},
   "outputs": [
    {
     "data": {
      "text/plain": [
       "'once upon a '"
      ]
     },
     "execution_count": 95,
     "metadata": {},
     "output_type": "execute_result"
    }
   ],
   "source": [
    "re.search(r'^\\w*.*\\s', 'once upon a time').group() # 'once upon a '"
   ]
  },
  {
   "cell_type": "markdown",
   "metadata": {},
   "source": [
    " Note that *, `+`, and `{ }` are all \"greedy\":  They repeat the previous regex token as many times as possible. \n",
    "\n",
    "As a result, they may match more text than you want. To make it non-greedy and terminate at the first found instance of a pattern, use `?`:"
   ]
  },
  {
   "cell_type": "code",
   "execution_count": 96,
   "metadata": {},
   "outputs": [
    {
     "data": {
      "text/plain": [
       "'once '"
      ]
     },
     "execution_count": 96,
     "metadata": {},
     "output_type": "execute_result"
    }
   ],
   "source": [
    "re.search(r'^\\w*.*?\\s', 'once upon a time').group()"
   ]
  },
  {
   "cell_type": "markdown",
   "metadata": {},
   "source": [
    "To further illustrate greediness in regexes, let's try matching an HTML tag:"
   ]
  },
  {
   "cell_type": "code",
   "execution_count": 97,
   "metadata": {},
   "outputs": [
    {
     "data": {
      "text/plain": [
       "'<EM>first</EM>'"
      ]
     },
     "execution_count": 97,
     "metadata": {},
     "output_type": "execute_result"
    }
   ],
   "source": [
    "re.search(r'<.+>', 'This is a <EM>first</EM> test').group()"
   ]
  },
  {
   "cell_type": "markdown",
   "metadata": {},
   "source": [
    "But we wanted just `<EM>`!  \n",
    "\n",
    "It's because `+` is greedy. Instead, we can make `+` \"lazy\":"
   ]
  },
  {
   "cell_type": "code",
   "execution_count": 98,
   "metadata": {},
   "outputs": [
    {
     "data": {
      "text/plain": [
       "'<EM>'"
      ]
     },
     "execution_count": 98,
     "metadata": {},
     "output_type": "execute_result"
    }
   ],
   "source": [
    "re.search(r'<.+?>', 'This is a <EM>first</EM> test').group()"
   ]
  },
  {
   "cell_type": "markdown",
   "metadata": {},
   "source": [
    "OK, moving on from greed and laziness..."
   ]
  },
  {
   "cell_type": "code",
   "execution_count": 99,
   "metadata": {},
   "outputs": [
    {
     "data": {
      "text/plain": [
       "'1432.75'"
      ]
     },
     "execution_count": 99,
     "metadata": {},
     "output_type": "execute_result"
    }
   ],
   "source": [
    "re.search(r'\\d*\\.?\\d*','1432.75+60.22i').group()"
   ]
  },
  {
   "cell_type": "markdown",
   "metadata": {},
   "source": [
    "Note `\\` before the `.`, to be able to find a literal `.` \n",
    "\n",
    "Otherwise, `re.search` will consider it to be a regex element (`.` means \"match any character except newline\").\n",
    "\n",
    "A couple more examples:"
   ]
  },
  {
   "cell_type": "code",
   "execution_count": 100,
   "metadata": {},
   "outputs": [
    {
     "data": {
      "text/plain": [
       "'ATTCGT'"
      ]
     },
     "execution_count": 100,
     "metadata": {},
     "output_type": "execute_result"
    }
   ],
   "source": [
    "re.search(r'[AGTC]+', 'the sequence ATTCGT').group()"
   ]
  },
  {
   "cell_type": "code",
   "execution_count": 101,
   "metadata": {},
   "outputs": [
    {
     "data": {
      "text/plain": [
       "' Theloderma asper'"
      ]
     },
     "execution_count": 101,
     "metadata": {},
     "output_type": "execute_result"
    }
   ],
   "source": [
    "re.search(r'\\s+[A-Z]{1}\\w+\\s\\w+', 'The bird-shit frog''s name is Theloderma asper').group()"
   ]
  },
  {
   "cell_type": "markdown",
   "metadata": {},
   "source": [
    "<figure>\n",
    "<img src=\"./graphics/thelodermaasper.JPG\" alt=\"xkcd on regex\" style=\"width:40%\">\n",
    "    <small>\n",
    "        <center>\n",
    "            <figcaption> \n",
    "            In case you were wondering what *Theloderma asper*, the \"bird-shit frog\", looks like. I snapped this one in North-east India ages ago \n",
    "            </figcaption>\n",
    "        </center>\n",
    "    </small>\n",
    "</figure>"
   ]
  },
  {
   "cell_type": "markdown",
   "metadata": {},
   "source": [
    "How about looking for email addresses in a string? For example, let's try matching a string consisting of an academic's name, email address and research area or interest (no need to type this into any python file):"
   ]
  },
  {
   "cell_type": "code",
   "execution_count": 123,
   "metadata": {},
   "outputs": [
    {
     "data": {
      "text/plain": [
       "'Samraat Pawar, s.pawar@imperial.ac.uk, Systems biology and ecological theory'"
      ]
     },
     "execution_count": 123,
     "metadata": {},
     "output_type": "execute_result"
    }
   ],
   "source": [
    "MyStr = 'Samraat Pawar, s.pawar@imperial.ac.uk, Systems biology and ecological theory'\n",
    "match = re.search(r\"[\\w\\s]+,\\s[\\w\\.@]+,\\s[\\w\\s&]+\",MyStr)\n",
    "match.group()"
   ]
  },
  {
   "cell_type": "markdown",
   "metadata": {},
   "source": [
    "Note the use of `[ ]`'s: for example, `[\\w\\s]` ensures that any combination of word characters and spaces is found. \n",
    "\n",
    "Let's see if this regex works on a different pattern of email addresses: "
   ]
  },
  {
   "cell_type": "code",
   "execution_count": 126,
   "metadata": {},
   "outputs": [],
   "source": [
    "MyStr = 'Samraat Pawar, s-pawar@imperial.ac.uk, Systems biology and ecological theory'"
   ]
  },
  {
   "cell_type": "code",
   "execution_count": 127,
   "metadata": {
    "scrolled": true
   },
   "outputs": [
    {
     "ename": "AttributeError",
     "evalue": "'NoneType' object has no attribute 'group'",
     "output_type": "error",
     "traceback": [
      "\u001b[0;31m---------------------------------------------------------------------------\u001b[0m",
      "\u001b[0;31mAttributeError\u001b[0m                            Traceback (most recent call last)",
      "\u001b[0;32m<ipython-input-127-35a2dcba41c5>\u001b[0m in \u001b[0;36m<module>\u001b[0;34m()\u001b[0m\n\u001b[1;32m      1\u001b[0m \u001b[0mmatch\u001b[0m \u001b[0;34m=\u001b[0m \u001b[0mre\u001b[0m\u001b[0;34m.\u001b[0m\u001b[0msearch\u001b[0m\u001b[0;34m(\u001b[0m\u001b[0;34mr\"[\\w\\s]+,\\s[\\w\\.@]+,\\s[\\w\\s&]+\"\u001b[0m\u001b[0;34m,\u001b[0m\u001b[0mMyStr\u001b[0m\u001b[0;34m)\u001b[0m\u001b[0;34m\u001b[0m\u001b[0m\n\u001b[0;32m----> 2\u001b[0;31m \u001b[0mmatch\u001b[0m\u001b[0;34m.\u001b[0m\u001b[0mgroup\u001b[0m\u001b[0;34m(\u001b[0m\u001b[0;34m)\u001b[0m\u001b[0;34m\u001b[0m\u001b[0m\n\u001b[0m",
      "\u001b[0;31mAttributeError\u001b[0m: 'NoneType' object has no attribute 'group'"
     ]
    }
   ],
   "source": [
    "match = re.search(r\"[\\w\\s]+,\\s[\\w\\.@]+,\\s[\\w\\s&]+\",MyStr)\n",
    "match.group()"
   ]
  },
  {
   "cell_type": "markdown",
   "metadata": {},
   "source": [
    "Nope! So let's make the email address part of the regex more robust:"
   ]
  },
  {
   "cell_type": "code",
   "execution_count": 175,
   "metadata": {},
   "outputs": [
    {
     "data": {
      "text/plain": [
       "'Samraat Pawar, s.pawar@imperial.ac.uk, Systems biology and ecological theory'"
      ]
     },
     "execution_count": 175,
     "metadata": {},
     "output_type": "execute_result"
    }
   ],
   "source": [
    "match = re.search(r\"[\\w\\s]+,\\s[\\w\\.-]+@[\\w\\.-]+,\\s[\\w\\s&]+\",MyStr)\n",
    "match.group()"
   ]
  },
  {
   "cell_type": "markdown",
   "metadata": {},
   "source": []
  },
  {
   "cell_type": "markdown",
   "metadata": {},
   "source": [
    "## Practicals: Some RegExercises\n",
    "\n",
    "The following exercises are not for submission as part of your coursework, but we will discuss them in class on a subsequent day.\n",
    "\n",
    "1. Try the regex we used above for finding names (`[\\w\\s]+`) for cases where the person's name has something unexpected, like a `?` or a `+`. Does it work? How can you make it more robust? \n",
    "* Translate the following regular expressions into regular English:\n",
    "    * `r'^abc[ab]+\\s\\t\\d'`\n",
    "    * `r'^\\d{1,2}\\/\\d{1,2}\\/\\d{4}$'`\n",
    "    * `r'\\s*[a-zA-Z,\\s]+\\s*'`\n",
    "* Write a regex to match dates in format YYYYMMDD, making sure that:\n",
    "    * Only seemingly valid dates match (i.e., year greater than 1900)\n",
    "    * First digit in month is either 0 or 1\n",
    "    * First digit in day $\\leq 3$ "
   ]
  },
  {
   "cell_type": "markdown",
   "metadata": {},
   "source": [
    "### Grouping regex patterns \n",
    "\n",
    "You can group regex patterns into meaningful blocks using parentheses. Let's look again at the example of finding  email addresses."
   ]
  },
  {
   "cell_type": "code",
   "execution_count": 169,
   "metadata": {},
   "outputs": [
    {
     "data": {
      "text/plain": [
       "'Samraat Pawar, s.pawar@imperial.ac.uk, Systems biology and ecological theory'"
      ]
     },
     "execution_count": 169,
     "metadata": {},
     "output_type": "execute_result"
    }
   ],
   "source": [
    "MyStr = 'Samraat Pawar, s.pawar@imperial.ac.uk, Systems biology and ecological theory'\n",
    "match = re.search(r\"[\\w\\s]+,\\s[\\w\\.-]+@[\\w\\.-]+,\\s[\\w\\s&]+\",MyStr)\n",
    "match.group()"
   ]
  },
  {
   "cell_type": "markdown",
   "metadata": {},
   "source": [
    "Without grouping the regex:"
   ]
  },
  {
   "cell_type": "code",
   "execution_count": 170,
   "metadata": {},
   "outputs": [
    {
     "data": {
      "text/plain": [
       "'Samraat Pawar, s.pawar@imperial.ac.uk, Systems biology and ecological theory'"
      ]
     },
     "execution_count": 170,
     "metadata": {},
     "output_type": "execute_result"
    }
   ],
   "source": [
    "match.group(0)"
   ]
  },
  {
   "cell_type": "markdown",
   "metadata": {},
   "source": [
    "Now create groups using `( )`:"
   ]
  },
  {
   "cell_type": "code",
   "execution_count": 174,
   "metadata": {},
   "outputs": [
    {
     "name": "stdout",
     "output_type": "stream",
     "text": [
      "Samraat Pawar, s.pawar@imperial.ac.uk, Systems biology and ecological theory\n",
      "Samraat Pawar\n",
      "s.pawar@imperial.ac.uk\n",
      "Systems biology and ecological theory\n"
     ]
    }
   ],
   "source": [
    "match = re.search(r\"([\\w\\s]+),\\s([\\w\\.-]+@[\\w\\.-]+),\\s([\\w\\s&]+)\",MyStr)\n",
    "if match:\n",
    "    print(match.group(0))\n",
    "    print(match.group(1))\n",
    "    print(match.group(2))\n",
    "    print(match.group(3))"
   ]
  },
  {
   "cell_type": "markdown",
   "metadata": {},
   "source": [
    "Nice! This is very handy for extracting specific patterns from text data. Note that we excluded the `,`'s and the `\\s`'s from the grouping parentheses because we don't want them to be returned in the match group list. \n",
    "\n",
    "Have a look at `re4.py` in the TheMulQuaBio's code repository for more on parsing email addresses using regexes."
   ]
  },
  {
   "cell_type": "markdown",
   "metadata": {},
   "source": [
    "## Useful `re` commands\n",
    "\n",
    "Here are some important functions in the `re` module:\n",
    "\n",
    "|Command|What it does|\n",
    "|:-|:-|\n",
    "| `re.search(reg, text)`| Scans the string and finds the first match of the pattern, returning a `match` object if successful and `None` otherwise.|\n",
    "| `re.match(reg, text)`| Like `re.search`, but only matches the beginning of the string.|\n",
    "| `re.compile(reg)`| Compiles (stores) a regular expression for repeated use, improving efficiency.|\n",
    "| `re.split(ref, text)`| Splits the text by the occurrence of the pattern described by the regular expression.|\n",
    "| `re.findall(ref, text)`| Like `re.search`, but returns a list of all matches. If groups are present, returns a list of groups.|\n",
    "| `re.finditer(ref, text)`| Like `re.findall`, but returns an iterator containing the match objects over which you can iterate. Useful for \"crawling\" efficiently through text till you find all necessary number of matches.|\n",
    "| `re.sub(ref, repl, text)`|  Substitutes each non-overlapping occurrence of the match with the text in `repl`.|\n",
    "|||\n",
    "\n",
    "Many of these commands also work on whole contents of files. We will look at an example of this below. Let us try some are particularly useful applications of some of these commands.\n",
    "\n",
    "### Finding all matches\n",
    "\n",
    "Above we used re.search() to find the first match for a pattern. In many scenarios, you will need to find *all* the matches of a pattern. The function `re.findall()` does precisely this and returns all matches as a list of strings, with each string representing one match.\n",
    "\n",
    "Let's try this on an extension of the email example above for some data with multiple addresses: "
   ]
  },
  {
   "cell_type": "code",
   "execution_count": 201,
   "metadata": {},
   "outputs": [],
   "source": [
    "MyStr = \"Samraat Pawar, s.pawar@imperial.ac.uk, Systems biology and ecological theory; Another academic, a-academic@imperial.ac.uk, Some other stuff thats equally boring; Yet another academic, y.a_academic@imperial.ac.uk, Some other stuff thats even more boring\""
   ]
  },
  {
   "cell_type": "markdown",
   "metadata": {},
   "source": [
    "Now `re.findall()` returns a list of all the emails found:"
   ]
  },
  {
   "cell_type": "code",
   "execution_count": 223,
   "metadata": {
    "scrolled": true
   },
   "outputs": [
    {
     "name": "stdout",
     "output_type": "stream",
     "text": [
      "s.pawar@imperial.ac.uk\n",
      "a.academic@imperial.ac.uk\n",
      "y.a.academic@imperial.ac.uk\n"
     ]
    }
   ],
   "source": [
    "emails = re.findall(r'[\\w\\.-]+@[\\w\\.-]+', MyStr) \n",
    "for email in emails:\n",
    "    print(email)"
   ]
  },
  {
   "cell_type": "markdown",
   "metadata": {},
   "source": [
    "Nice! "
   ]
  },
  {
   "cell_type": "markdown",
   "metadata": {},
   "source": [
    "### Finding in files\n",
    "\n",
    "You will generally be wanting to apply regex searches to whole files. You might be tempted to write a loop to iterate over the lines of the file, calling `re.findall()` on each line. However, `re.findall()` can return a list of all the matches in a single step. \n",
    "\n",
    "Let's try finding all species names that correspond to Oaks in a data file:"
   ]
  },
  {
   "cell_type": "code",
   "execution_count": 216,
   "metadata": {
    "scrolled": true
   },
   "outputs": [
    {
     "data": {
      "text/plain": [
       "['Quercus, robur\\n', 'Quercus, cerris\\n', 'Quercus, petraea\\n']"
      ]
     },
     "execution_count": 216,
     "metadata": {},
     "output_type": "execute_result"
    }
   ],
   "source": [
    "f = open('../data/TestOaksData.csv', 'r')\n",
    "found_oaks = re.findall(r\"Q[\\w\\s].*\\s\", f.read())\n",
    "\n",
    "found_oaks"
   ]
  },
  {
   "cell_type": "code",
   "execution_count": 221,
   "metadata": {},
   "outputs": [
    {
     "name": "stdout",
     "output_type": "stream",
     "text": [
      "Quercus robur\n",
      "\n",
      "Quercus cerris\n",
      "\n",
      "Quercus petraea\n",
      "\n"
     ]
    }
   ],
   "source": [
    "for name in strings:\n",
    "    print(name.replace(\",\",\"\"))"
   ]
  },
  {
   "cell_type": "markdown",
   "metadata": {},
   "source": [
    "This works because recall that `f.read()` returns the whole text of a file in a single string). Also, the file is closed after reading."
   ]
  },
  {
   "cell_type": "markdown",
   "metadata": {},
   "source": [
    "### Groups within multiple matches\n",
    "\n",
    "Grouping pattern matches using `( )` as you learned above, can be combined with `re.findall()`. If the pattern includes *two or more* groups, then instead of returning a list of strings, `re.findall()` returns a list of tuples. Each tuple represents one match of the pattern, and inside the tuple is group(1), group(2), etc.\n",
    "\n",
    "Let's try it:"
   ]
  },
  {
   "cell_type": "code",
   "execution_count": 224,
   "metadata": {},
   "outputs": [
    {
     "data": {
      "text/plain": [
       "[('Samraat Pawar', 's.pawar@imperial.ac.uk'),\n",
       " (' Another academic', 'a.academic@imperial.ac.uk'),\n",
       " (' Yet another academic', 'y.a.academic@imperial.ac.uk')]"
      ]
     },
     "execution_count": 224,
     "metadata": {},
     "output_type": "execute_result"
    }
   ],
   "source": [
    "MyStr = \"Samraat Pawar, s.pawar@imperial.ac.uk, Systems biology and ecological theory; Another academic, a.academic@imperial.ac.uk, Some other stuff thats equally boring; Yet another academic, y.a.academic@imperial.ac.uk, Some other stuff thats even more boring\"\n",
    "\n",
    "found_matches = re.findall(r\"([\\w\\s]+),\\s([\\w\\.-]+@[\\w\\.-]+)\", MyStr)\n",
    "found_matches"
   ]
  },
  {
   "cell_type": "code",
   "execution_count": 244,
   "metadata": {
    "scrolled": true
   },
   "outputs": [
    {
     "name": "stdout",
     "output_type": "stream",
     "text": [
      "('Samraat Pawar', 's.pawar@imperial.ac.uk')\n",
      "(' Another academic', 'a.academic@imperial.ac.uk')\n",
      "(' Yet another academic', 'y.a.academic@imperial.ac.uk')\n"
     ]
    }
   ],
   "source": [
    "for item in found_matches:\n",
    "    print(item)"
   ]
  },
  {
   "cell_type": "markdown",
   "metadata": {},
   "source": [
    "### Extracting text from webpages\n",
    "\n",
    "OK, let's step up the ante here. How about extracting text from a web page to create your own data? Let's try extracting data from [this page](https://www.imperial.ac.uk/silwood-park/academic-staff/).\n",
    "\n",
    "You will need a new package `urllib3`. Install it, and import it (also `import re` if needed). "
   ]
  },
  {
   "cell_type": "code",
   "execution_count": 246,
   "metadata": {},
   "outputs": [],
   "source": [
    "import urllib3"
   ]
  },
  {
   "cell_type": "code",
   "execution_count": 295,
   "metadata": {},
   "outputs": [],
   "source": [
    "conn = urllib3.PoolManager() # open a connection\n",
    "r = conn.request('GET', 'https://www.imperial.ac.uk/silwood-park/academic-staff/') \n",
    "webpage_html = r.data #read in the webpage's contents"
   ]
  },
  {
   "cell_type": "markdown",
   "metadata": {},
   "source": [
    "This is returned as bytes (not strings). "
   ]
  },
  {
   "cell_type": "code",
   "execution_count": 296,
   "metadata": {},
   "outputs": [
    {
     "data": {
      "text/plain": [
       "bytes"
      ]
     },
     "execution_count": 296,
     "metadata": {},
     "output_type": "execute_result"
    }
   ],
   "source": [
    "type(webpage_html)"
   ]
  },
  {
   "cell_type": "markdown",
   "metadata": {},
   "source": [
    "So decode it (remember, the default decoding that this method applies is *utf-8*):"
   ]
  },
  {
   "cell_type": "code",
   "execution_count": 297,
   "metadata": {},
   "outputs": [
    {
     "name": "stdout",
     "output_type": "stream",
     "text": [
      "<!DOCTYPE html>\n",
      "<!-- T4 JS layout -->\n",
      "<!--[if IE 8 ]><html lang=\"en-GB\" class=\"lt-ie9 ie8\"> <![endif]-->\n",
      "<!--[if IE 9 ]><html lang=\"en-GB\" class=\"ie9\"> <![endif]-->\n",
      "<!--[if (gt IE 9)|!(IE)]><!--> <html lang=\"en-GB\" class=\"no-js\"> <!--<![endif]-->\n",
      "<head>\n",
      "<meta charset=\"utf-8\" />\n",
      "<title>Academic staff | Visit | Imperial College London</title>\n",
      "<!-- Content page layout -->\n",
      "<meta name=\"twitter:card\" content=\"summary\">\n",
      "<meta name=\"twitter:site\" content=\"@imperialcollege\">\n",
      "<meta name=\"twitter:title\" content=\"Academic staff\">\n",
      "<meta name=\"twitter:description\" content=\"Silwood Park Campus is home to the&nbsp;Department of Life Sciences Evolutionary Biology Theme, the Ecosystems &amp; the Environment Theme&nbsp;and G...\">\n",
      "<meta name=\"twitter:image\" content=\"http://www.imperial.ac.uk/T4Assets/favicon-196x196.png\">\n",
      "<meta name=\"fb:app_id\" content=\"674884772674087\">\n",
      "<meta property=\"og:title\" content=\"Academic staff\" />\n",
      "<meta property=\"og:type\" content=\"website\" />\n",
      "<meta property=\"og:image\" content=\"http://www.imperial.ac.uk/T4Assets/favicon-196x196.png\" />\n",
      "<meta property=\"og:image:type\" content=\"image/png\" />\n",
      "<meta property=\"og:image:secure_url\" content=\"https://www.imperial.ac.uk/T4Assets/favicon-196x196.png\" />\n",
      "<meta property=\"og:image:width\" content=\"200\" /><meta property=\"og:image:height\" content=\"200\" /><meta property=\"og:url\" content=\"http://www.imperial.ac.uk/visit/campuses/silwood-park/academic-staff/\" />\n",
      "<meta property=\"og:description\" content=\"Silwood Park Campus is home to the&nbsp;Department of Life Sciences Evolutionary Biology Theme, the Ecosystems &amp; the Environment Theme&nbsp;and G...\" />\n",
      "<meta property=\"og:locale\" content=\"en_GB\" />\n",
      "<meta property=\"og:site_name\" content=\"Imperial College London\" />\n",
      "\r\n",
      " <!-- meta description -->\n",
      " <!-- seo keyphrases -->\n",
      "<meta name=\"viewport\" content=\"width=device-width, initial-scale=1.0\" />\n",
      "\n",
      "            <!--[if lt IE 9 ]><link href=\"/assets/website/stylesheets/css/screen-ie.css?v=1.6.5\" media=\"all\" rel=\"stylesheet\" type=\"text/css\" /><![endif]-->\r\n",
      "<!--[if IE 9 ]><link href=\"/assets/website/stylesheets/css/screen-ie.css?v=1.6.5\" media=\"all\" rel=\"stylesheet\" type=\"text/css\" /><![endif]-->\r\n",
      "<!--[if (gt IE 9)|!(IE)]><!--><link href=\"/assets/website/stylesheets/css/screen.css?v=1.6.5\" media=\"all\" rel=\"stylesheet\" type=\"text/css\" /><!--<![endif]-->\r\n",
      "\r\n",
      "  <link href=\"/assets/website/stylesheets/css/color-themes.css?v=1.6.5\" media=\"all\" rel=\"stylesheet\" type=\"text/css\" />\r\n",
      "  <link href=\"/assets/website/stylesheets/css/print.css?v=1.6.5\" media=\"print\" rel=\"stylesheet\" type=\"text/css\" />\r\n",
      "\r\n",
      "  <link rel=\"apple-touch-icon-precomposed\" sizes=\"180x180\" href=\"/assets/website/apple-touch-icon-180x180-precomposed.png\" />\r\n",
      "  <link rel=\"apple-touch-icon-precomposed\" sizes=\"152x152\" href=\"/assets/website/apple-touch-icon-152x152-precomposed.png\" />\r\n",
      "  <link rel=\"apple-touch-icon-precomposed\" sizes=\"144x144\" href=\"/assets/website/apple-touch-icon-144x144-precomposed.png\" />\r\n",
      "  <link rel=\"apple-touch-icon-precomposed\" sizes=\"120x120\" href=\"/assets/website/apple-touch-icon-120x120-precomposed.png\" />\r\n",
      "  <link rel=\"apple-touch-icon-precomposed\" sizes=\"76x76\" href=\"/assets/website/apple-touch-icon-76x76-precomposed.png\" />\r\n",
      "  <link rel=\"apple-touch-icon\" href=\"/assets/website/apple-touch-icon.png\" />\r\n",
      "  <link rel=\"shortcut icon\" href=\"/assets/website/favicon-196x196.png\" />\r\n",
      "  <link rel=\"shortcut icon\" href=\"/assets/website/favicon-96x96.png\" />\r\n",
      "  <link rel=\"shortcut icon\" href=\"/assets/website/favicon-32x32.png\" />\r\n",
      "  <link rel=\"shortcut icon\" href=\"/assets/website/favicon.png\" />\r\n",
      "  <link rel=\"icon\" type=\"image/ico\" href=\"/assets/website/favicon.ico\" />\r\n",
      "\r\n",
      "<!--[if lt IE 9 ]><script src=\"/assets/website/js/lib/jquery1.min.js\"></script><![endif]-->\r\n",
      "<!--[if IE 9 ]><script src=\"/assets/website/js/lib/jquery1.min.js\"></script><![endif]-->\r\n",
      "<!--[if (gt IE 9)|!(IE)]><!--><script src=\"/assets/website/js/lib/jquery3.min.js\"></script><!--<![endif]-->\r\n",
      "\r\n",
      "  <script src=\"/assets/website/js/build/application.min.js?v=1.6.5\"></script>\n",
      "        <!-- assets -->\n",
      "\n",
      "            <script type=\"text/javascript\"> \r\n",
      "var _gaq = _gaq || []; \r\n",
      "var pluginUrl = '//www.google-analytics.com/plugins/ga/inpage_linkid.js'; \r\n",
      "_gaq.push(['_require', 'inpage_linkid', pluginUrl]); \r\n",
      "_gaq.push(['_setAccount', 'UA-2035562-1']); \r\n",
      "_gaq.push(['_setDomainName', 'imperial.ac.uk']); \r\n",
      "_gaq.push(['_setAllowLinker', true]); \r\n",
      "_gaq.push(['_addIgnoredRef', 'imperial.ac.uk']); \r\n",
      "_gaq.push(['_setAllowAnchor', true]); \r\n",
      "_gaq.push(['_trackPageview']); \r\n",
      "\r\n",
      "(function() { \r\n",
      "var ga = document.createElement('script'); ga.type = 'text/javascript'; ga.async = true; \r\n",
      "ga.src = ('https:' == document.location.protocol ? 'https://ssl' : 'http://www') + '.google-analytics.com/ga.js'; \r\n",
      "var s = document.getElementsByTagName('script')[0]; s.parentNode.insertBefore(ga, s); \r\n",
      "})(); \r\n",
      "</script>\n",
      "        <!-- Google Analytics -->\n",
      "</head>\n",
      "<body class=\"theme-2\">\n",
      "\n",
      "            <!-- Google Tag Manager -->\r\n",
      "<noscript><iframe src=\"//www.googletagmanager.com/ns.html?id=GTM-PS52\"\r\n",
      "height=\"0\" width=\"0\" class=\"sr-only\"></iframe></noscript>\r\n",
      "<script>(function(w,d,s,l,i){w[l]=w[l]||[];w[l].push({'gtm.start':\r\n",
      "new Date().getTime(),event:'gtm.js'});var f=d.getElementsByTagName(s)[0],\r\n",
      "j=d.createElement(s),dl=l!='dataLayer'?'&l='+l:'';j.async=true;j.src=\r\n",
      "'//www.googletagmanager.com/gtm.js?id='+i+dl;f.parentNode.insertBefore(j,f);\r\n",
      "})(window,document,'script','dataLayer','GTM-PS52');</script>\r\n",
      "<!-- End Google Tag Manager -->\n",
      "        \n",
      "<!-- Accessibility Links -->\n",
      "\n",
      "            <a class=\"skip-to\" id=\"skip-to-content\" href=\"#content\">Skip to main content</a>\r\n",
      "<a class=\"skip-to\" id=\"skip-to-search\" href=\"#q\">Skip to search</a>\r\n",
      "<a class=\"skip-to\" id=\"skip-to-subnav\" href=\"#section-title\">Skip to section menu</a>\r\n",
      "<a class=\"skip-to\" id=\"skip-to-sidebar\" href=\"#secondary-content\">Skip to sidebar menu</a>\r\n",
      "<a class=\"skip-to\" id=\"link-to-accessibility\" href=\"/about-the-site/accessibility/\">View accessibility support page</a>\n",
      "        \n",
      "\n",
      "            <!-- Style Assets : Header -->\r\n",
      "<header id=\"header\" class=\"navigation\">\r\n",
      "  <div class=\"container cf\">\r\n",
      "    <div class=\"navigation-header\">\r\n",
      "      <h1 class=\"logo\"><a href=\"/\" class=\"brand\" title=\"Imperial College London Home\">Imperial College London</a></h1>\r\n",
      "\r\n",
      "<!-- nav : Disaster alert - high level -->\r\n",
      "\r\n",
      "<!-- nav : News and events header -->\r\n",
      "<!-- News and Events Feed - text/header - js -->\n",
      "<section id=\"news-header\">\n",
      "\t<h2 class=\"show-sm\">Latest News</h2>\n",
      "\t\t\t<a class=\"news-item\" href=\"//www.imperial.ac.uk/news/188987/hand-stabilising-glove-team-shortlisted-science-start-up\" target=\"_blank\" data-article-id=\"188987\">\n",
      "\t\t\t\t<div>\n",
      "\t\t\t\t\t<img alt=\"A wearable tech Imperial startup were finalists of Science Startup of the Year at the Falling Walls conference in Germany.\" src=\"//www.imperial.ac.uk/ImageCropToolT4/imageTool/uploaded-images/newseventsimage_1541763400954_featurenews2012_x1.jpg\">\n",
      "\t\t\t\t</div>\n",
      "\t\t\t\t<p title=\"A wearable tech Imperial startup were finalists of Science Startup of the Year at the Falling Walls conference in Germany.\">Hand-stabilising glove team shortlisted for Science Start-up of the Year</p>\n",
      "\t\t\t</a>\n",
      "\t\t\t<a class=\"news-item\" href=\"//www.imperial.ac.uk/news/189014/six-things-doctors-would-like-know\" target=\"_blank\" data-article-id=\"189014\">\n",
      "\t\t\t\t<div>\n",
      "\t\t\t\t\t<img alt=\"Every day healthcare workers around the world are waging war, in what is becoming the fight of our lives.\" src=\"//www.imperial.ac.uk/ImageCropToolT4/imageTool/uploaded-images/newseventsimage_1542026040097_featurenews2012_x1.jpg\">\n",
      "\t\t\t\t</div>\n",
      "\t\t\t\t<p title=\"Every day healthcare workers around the world are waging war, in what is becoming the fight of our lives.\">Six things doctors would like you to know about antibiotics</p>\n",
      "\t\t\t</a>\n",
      "\t\t\t<a class=\"news-item\" href=\"//www.imperial.ac.uk/news/189023/enormous-ghost-galaxy-spotted-hiding-next\" target=\"_blank\" data-article-id=\"189023\">\n",
      "\t\t\t\t<div>\n",
      "\t\t\t\t\t<img alt=\"A galaxy a third the size of our own, but extremely faint, has been observed orbiting around the Milky Way.\" src=\"//www.imperial.ac.uk/ImageCropToolT4/imageTool/uploaded-images/newseventsimage_1542041762382_featurenews2012_x1.jpg\">\n",
      "\t\t\t\t</div>\n",
      "\t\t\t\t<p title=\"A galaxy a third the size of our own, but extremely faint, has been observed orbiting around the Milky Way.\">Enormous ‘ghost’ galaxy spotted hiding next to the Milky Way</p>\n",
      "\t\t\t</a>\n",
      "\t<a id=\"btn-news\" href=\"//www.imperial.ac.uk/news\" target=\"_blank\">More News</a>\n",
      "</section><!-- End News &amp Events feed -->\n",
      "\r\n",
      "\r\n",
      "    </div>\r\n",
      "    <nav id=\"primary-nav\" class=\"wide\">\r\n",
      "      <h2 class=\"sr-only\">Main Navigation</h2>\r\n",
      "\r\n",
      "<!-- nav : Common Search code -->\r\n",
      "\n",
      "            <!-- Begin GSA Imperial Search -->\r\n",
      "<div id=\"search-area\">\r\n",
      "  <form method=\"get\" action=\"//google.imperial.ac.uk/search\" id=\"search\">\r\n",
      "    <div id=\"search-inner-wrapper\">\r\n",
      "      <h2 class=\"sr-only\">Search</h2>\r\n",
      "      <label for=\"q\" class=\"sr-only\">Search Imperial</label>\r\n",
      "      <input type=\"text\" name=\"q\" id=\"q\" value=\"\" class=\"clearDefault\" placeholder=\"Search\" title=\"Search for...\">\r\n",
      "    </div>\r\n",
      "    <input type=\"hidden\" value=\"default_collection\" name=\"site\">\r\n",
      "    <input type=\"hidden\" value=\"0\" name=\"sr\">\r\n",
      "    <input type=\"hidden\" value=\"1\" name=\"secure\">\r\n",
      "    <input type=\"hidden\" value=\"default_frontend\" name=\"client\">\r\n",
      "    <input type=\"hidden\" value=\"xml_no_dtd\" name=\"output\">\r\n",
      "    <input type=\"hidden\" value=\"t4_frontend_live\" name=\"proxystylesheet\">\r\n",
      "    <input type=\"hidden\" value=\"UTF-8\" name=\"oe\">\r\n",
      "    <input type=\"hidden\" value=\"UTF-8\" name=\"ie\">\r\n",
      "    <input type=\"hidden\" value=\"date:D:L:d1\" name=\"sort\">\r\n",
      "    <input type=\"hidden\" value=\"a\" name=\"entsp\">\r\n",
      "    <input type=\"hidden\" value=\"200\" name=\"wc\">\r\n",
      "    <input type=\"hidden\" value=\"1\" name=\"wc_mc\">\r\n",
      "    <input type=\"hidden\" value=\"1\" name=\"ud\">\r\n",
      "    <input type=\"hidden\" value=\"1\" name=\"exclude_apps\">\r\n",
      "    <input type=\"hidden\" value=\"*\" name=\"getfields\">\r\n",
      "    <button type=\"submit\" title=\"Search\" id=\"searchSubmit\" class=\"submitButton\">Search</button>\r\n",
      "  </form>\r\n",
      "</div>\r\n",
      "<!-- End GSA Imperial Search -->\n",
      "        \r\n",
      "\r\n",
      "      <ul class=\"nav nav-primary\">\r\n",
      "         <li class=\"has-children mega\">\r\n",
      "          <a class=\"parent\" href=\"#menu-640\" data-parent=\"true\">Study</a>\r\n",
      "          <div id=\"menu-640\" class=\"toggle-content\">\r\n",
      "          <!-- nav : Mega menu first --><!-- Mega menu -->\r\n",
      "  <a href=\"#\" class=\"noscript close-button\">Close</a>\r\n",
      "  <div class=\"child-content equal-height-columns\">\r\n",
      "    <div class=\"col lg-2 md-4 equal-height\">\r\n",
      "      <ul role=\"menu\" class=\"group\">\r\n",
      "        <li><a href=\"/study/\" class=\"overview_link\">Study overview</a></li>\r\n",
      "        <li>\r\n",
      "          <a class=\"parent feature\" href=\"/study/ug/\">Undergraduate</a>\r\n",
      "          <div class=\"toggle-content\">\r\n",
      "            <span class=\"feature-links\">Top Links</span>\r\n",
      "            <ul class=\"child-menu\">\n",
      "<li><a href=\"/study/ug/courses/\">Courses for 2019 entry</a></li>\n",
      "<li><a title=\"How to apply\" href=\"/study/ug/apply/\">How to apply</a></li>\n",
      "<li><a href=\"/study/ug/fees-and-funding/\">Fees and funding</a></li>\n",
      "<li><a href=\"/study/campus-life/accommodation/prospective/ug/\">Accommodation</a></li>\n",
      "<li><a href=\"/study/ug/visit/\">Open days</a></li>\n",
      "<li><a href=\"/study/prospectus/\">Request a prospectus</a></li>\n",
      "</ul>\r\n",
      "          </div>\r\n",
      "        </li>\r\n",
      "      </ul>\r\n",
      "    </div>\r\n",
      "    <div class=\"col lg-2 md-4 equal-height\">\r\n",
      "      <ul role=\"menu\" class=\"group\">\r\n",
      "        <li>\r\n",
      "          <a class=\"parent feature\" href=\"/study/pg/\" >Postgraduate</a>\r\n",
      "          <div class=\"toggle-content\">\r\n",
      "            <span class=\"feature-links\">Top Links</span>\r\n",
      "            <ul class=\"child-menu\">\n",
      "<li><a href=\"/study/pg/courses/\">Courses for 2019&ndash;20</a></li>\n",
      "<li><a href=\"/study/pg/courses/doctoral-courses/\">Doctoral courses</a></li>\n",
      "<li><a href=\"/study/pg/apply/\">How to apply</a></li>\n",
      "<li><a href=\"/study/pg/fees-and-funding/\">Fees and funding</a></li>\n",
      "<li><a href=\"/study/campus-life/accommodation/prospective/pg/\">Accommodation</a></li>\n",
      "</ul>\r\n",
      "          </div>\r\n",
      "        </li>\r\n",
      "      </ul>\r\n",
      "    </div>\r\n",
      "    <div class=\"col lg-2 md-4 equal-height\">\r\n",
      "      <ul role=\"menu\" class=\"group\">\r\n",
      "<li><a href=\"/faculties-and-departments/\"  class=\"feature\">Faculties and departments</a></li>\r\n",
      "\r\n",
      "<li><a href=\"/admin-services/continuing-professional-development/\"  class=\"feature\">Continuing Professional Development </a></li>\r\n",
      "\r\n",
      "<li><a href=\"http://wwwf.imperial.ac.uk/business-school/executive-education/\" target='_blank' class=\"feature\">Executive Education</a></li>\r\n",
      "\r\n",
      "\r\n",
      "<li><a href=\"/admin-services/centre-for-languages-culture-and-communication/\"  class=\"feature\">Centre for Languages Culture and Communication</a></li>\r\n",
      "\r\n",
      "\r\n",
      "\r\n",
      "      </ul>\r\n",
      "    </div>\r\n",
      "    <div class=\"col lg-2 hide-md secondary-content equal-height\">\r\n",
      "      <ul>\r\n",
      "        <li class=\"col\">\r\n",
      "          <a href=\"/study/living-in-london/\"><img srcset=\"/ImageCropToolT4/imageTool/uploaded-images/City_of_London_65396749--tojpeg_1417615028107_x1.jpg 207w, /ImageCropToolT4/imageTool/uploaded-images/City_of_London_65396749--tojpeg_1417615028107_x2.jpg 414w, /ImageCropToolT4/imageTool/uploaded-images/City_of_London_65396749--tojpeg_1417615028107_x4.jpg 828w, /ImageCropToolT4/imageTool/uploaded-images/City_of_London_65396749--tojpeg_1417615028107_x1.jpg 1x, /ImageCropToolT4/imageTool/uploaded-images/City_of_London_65396749--tojpeg_1417615028107_x2.jpg 2x, /ImageCropToolT4/imageTool/uploaded-images/City_of_London_65396749--tojpeg_1417615028107_x4.jpg 3x\" sizes=\"(min-width: 1520px) 207px, (min-width: 1025px) calc((100vw - 116px) / 6), (min-width: 930px) calc((100vw - 84px) / 3), 25vw\" alt=\"St Paul's Cathedral \" src=\"/ImageCropToolT4/imageTool/uploaded-images/City_of_London_65396749--tojpeg_1417615028107_x1.jpg\"><span>Living in London</span>London&rsquo;s fusion of culture, charm and career opportunities is hard to beat</a>\r\n",
      "        </li>\r\n",
      "      </ul>\r\n",
      "    </div>\r\n",
      "    <div class=\"col lg-2 hide-md secondary-content equal-height\">\r\n",
      "      <ul>\r\n",
      "        <li class=\"col\">\r\n",
      "          <a href=\"/study/international-students/\"><img srcset=\"/ImageCropToolT4/imageTool/uploaded-images/ICL_Graduation_406--tojpeg_1417616392639_x1.jpg 207w, /ImageCropToolT4/imageTool/uploaded-images/ICL_Graduation_406--tojpeg_1417616392639_x2.jpg 414w, /ImageCropToolT4/imageTool/uploaded-images/ICL_Graduation_406--tojpeg_1417616392639_x4.jpg 828w, /ImageCropToolT4/imageTool/uploaded-images/ICL_Graduation_406--tojpeg_1417616392639_x1.jpg 1x, /ImageCropToolT4/imageTool/uploaded-images/ICL_Graduation_406--tojpeg_1417616392639_x2.jpg 2x, /ImageCropToolT4/imageTool/uploaded-images/ICL_Graduation_406--tojpeg_1417616392639_x4.jpg 3x\" sizes=\"(min-width: 1520px) 207px, (min-width: 1025px) calc((100vw - 116px) / 6), (min-width: 930px) calc((100vw - 84px) / 3), 25vw\" alt=\"International students\" src=\"/ImageCropToolT4/imageTool/uploaded-images/ICL_Graduation_406--tojpeg_1417616392639_x1.jpg\"><span>International students</span>Students come from over 140 different countries to study at Imperial</a>\r\n",
      "        </li>\r\n",
      "      </ul>\r\n",
      "    </div>\r\n",
      "    <div class=\"col lg-2 hide-md secondary-content equal-height\">\r\n",
      "      <ul>\r\n",
      "        <li class=\"col\">\r\n",
      "          <a href=\"/study/campus-life/\"><img srcset=\"/ImageCropToolT4/imageTool/uploaded-images/imp_130820_campus1_lib_008--tojpeg_1417607683035_x2--tojpeg_1417682075073_x1.jpg 207w, /ImageCropToolT4/imageTool/uploaded-images/imp_130820_campus1_lib_008--tojpeg_1417607683035_x2--tojpeg_1417682075073_x2.jpg 414w, /ImageCropToolT4/imageTool/uploaded-images/imp_130820_campus1_lib_008--tojpeg_1417607683035_x2--tojpeg_1417682075073_x4.jpg 828w, /ImageCropToolT4/imageTool/uploaded-images/imp_130820_campus1_lib_008--tojpeg_1417607683035_x2--tojpeg_1417682075073_x1.jpg 1x, /ImageCropToolT4/imageTool/uploaded-images/imp_130820_campus1_lib_008--tojpeg_1417607683035_x2--tojpeg_1417682075073_x2.jpg 2x, /ImageCropToolT4/imageTool/uploaded-images/imp_130820_campus1_lib_008--tojpeg_1417607683035_x2--tojpeg_1417682075073_x4.jpg 3x\" sizes=\"(min-width: 1520px) 207px, (min-width: 1025px) calc((100vw - 116px) / 6), (min-width: 930px) calc((100vw - 84px) / 3), 25vw\" alt=\"Queen's Lawn\" src=\"/ImageCropToolT4/imageTool/uploaded-images/imp_130820_campus1_lib_008--tojpeg_1417607683035_x2--tojpeg_1417682075073_x1.jpg\"><span>Campus life</span>Experience what it's like to be a member of the College community</a>\r\n",
      "        </li>\r\n",
      "      </ul>\r\n",
      "    </div>\r\n",
      "  </div>\r\n",
      "<!-- end Mega menu -->\r\n",
      "          </div>\r\n",
      "         </li>\r\n",
      "         <li class=\"has-children mega\">\r\n",
      "          <a class=\"parent\" href=\"#menu-641\" data-parent=\"true\">Research &amp; Innovation</a>\r\n",
      "          <div id=\"menu-641\" class=\"toggle-content\">\r\n",
      "          <!-- nav : Mega menu second --><!-- Mega menu -->\r\n",
      "  <a href=\"#\" class=\"noscript close-button\">Close</a>\r\n",
      "  <div class=\"child-content equal-height-columns\">\r\n",
      "    <div class=\"col lg-2 md-4 equal-height\">\r\n",
      "      <ul role=\"menu\" class=\"group\">\r\n",
      "        <li><a href=\"/research-and-innovation/\" class=\"overview_link\">Research and Innovation </a></li>\r\n",
      "        <li>\r\n",
      "          <a class=\"parent feature\" href=\"/research-and-innovation/support-for-partners/\">Partner with us</a>\r\n",
      "          <div class=\"toggle-content\">\r\n",
      "            <span class=\"feature-links\">At a glance</span>\r\n",
      "            <ul>\n",
      "<li><a href=\"/medicine/research-and-impact/groups/clinical-trials-unit/collaborations/\">Clinical Trials</a></li>\n",
      "<li><a href=\"/admin-services/enterprise/\">Collaborations</a></li>\n",
      "<li><a href=\"http://www.imperialinnovations.co.uk/\" target=\"_blank\">Commercialisation</a></li>\n",
      "<li><a href=\"http://www.imperial-consultants.co.uk/\" target=\"_blank\">Consultancy</a></li>\n",
      "<li><a href=\"http://wwwf.imperial.ac.uk/business-school/executive-education/\">Executive education</a></li>\n",
      "<li><a href=\"/research-and-innovation/support-for-partners/a-z-partners/\">A-Z services for partners</a></li>\n",
      "</ul>\r\n",
      "          </div>\r\n",
      "        </li>\r\n",
      "      </ul>\r\n",
      "    </div>\r\n",
      "    <div class=\"col lg-2 md-4 equal-height\">\r\n",
      "      <ul role=\"menu\" class=\"group\">\r\n",
      "        <li>\r\n",
      "          <a class=\"parent feature\" href=\"/research-and-innovation/support-for-staff/\" >Research support</a>\r\n",
      "          <div class=\"toggle-content\">\r\n",
      "            <span class=\"feature-links\">At a glance</span>\r\n",
      "            <ul>\n",
      "<li><a href=\"/research-and-innovation/support-for-staff/\">Resources for staff</a></li>\n",
      "<li><a href=\"/research-and-innovation/support-for-staff/research-office/\">Research Office</a></li>\n",
      "<li><a href=\"/research-and-innovation/support-for-staff/faculty-research-services-teams/\">Faculty research services teams</a></li>\n",
      "<li><a href=\"/research-and-innovation/about-imperial-research/research-integrity/\">Research integrity</a></li>\n",
      "<li><a href=\"/medicine/research-and-impact/groups/clinical-trials-unit/\">Clinical Trials</a></li>\n",
      "<li><a href=\"/about/introducing-imperial/global-imperial/\">Global Imperial</a></li>\n",
      "</ul>\r\n",
      "          </div>\r\n",
      "        </li>\r\n",
      "      </ul>\r\n",
      "    </div>\r\n",
      "    <div class=\"col lg-2 md-4 equal-height\">\r\n",
      "      <ul role=\"menu\" class=\"group\">\r\n",
      "<li><a href=\"/about/leadership-and-strategy/strategy/\"  class=\"feature\">College Strategy 2015-2020</a></li>\r\n",
      "\r\n",
      "<li><a href=\"/faculties-and-departments/\"  class=\"feature\">Faculties and departments</a></li>\r\n",
      "\r\n",
      "<li><a href=\"/a-z-research/\"  class=\"feature\">A-Z research groups and centres</a></li>\r\n",
      "\r\n",
      "\r\n",
      "<li><a href=\"/research-and-innovation/support-for-staff/research-office/funder-information/funding-opportunities/\"  class=\"feature\">Funding opportunities</a></li>\r\n",
      "\r\n",
      "<li><a href=\"/research-and-innovation/about-imperial-research/ref/\"  class=\"feature\">REF 2021</a></li>\r\n",
      "\r\n",
      "      </ul>\r\n",
      "    </div>\r\n",
      "    <div class=\"col lg-2 hide-md secondary-content equal-height\">\r\n",
      "      <ul>\r\n",
      "        <li class=\"col\">\r\n",
      "          <a href=\"/research-and-innovation/impact/\"><img srcset=\"/ImageCropToolT4/imageTool/uploaded-images/Impact--tojpeg_1417606493780_x1.jpg 207w, /ImageCropToolT4/imageTool/uploaded-images/Impact--tojpeg_1417606493780_x2.jpg 414w, /ImageCropToolT4/imageTool/uploaded-images/Impact--tojpeg_1417606493780_x4.jpg 828w, /ImageCropToolT4/imageTool/uploaded-images/Impact--tojpeg_1417606493780_x1.jpg 1x, /ImageCropToolT4/imageTool/uploaded-images/Impact--tojpeg_1417606493780_x2.jpg 2x, /ImageCropToolT4/imageTool/uploaded-images/Impact--tojpeg_1417606493780_x4.jpg 3x\" sizes=\"(min-width: 1520px) 207px, (min-width: 1025px) calc((100vw - 116px) / 6), (min-width: 930px) calc((100vw - 84px) / 3), 25vw\" alt=\"Brain scans\" src=\"/ImageCropToolT4/imageTool/uploaded-images/Impact--tojpeg_1417606493780_x1.jpg\"><span>Imperial&rsquo;s impact</span>Read case studies about how Imperial research has made a difference</a>\r\n",
      "        </li>\r\n",
      "      </ul>\r\n",
      "    </div>\r\n",
      "    <div class=\"col lg-2 hide-md secondary-content equal-height\">\r\n",
      "      <ul>\r\n",
      "        <li class=\"col\">\r\n",
      "          <a href=\"http://www.imperial.ac.uk/news\" target=\"_blank\"><img srcset=\"/ImageCropToolT4/imageTool/uploaded-images/Impact--tojpeg_1417606493780_x1.jpg 207w, /ImageCropToolT4/imageTool/uploaded-images/Impact--tojpeg_1417606493780_x2.jpg 414w, /ImageCropToolT4/imageTool/uploaded-images/Impact--tojpeg_1417606493780_x4.jpg 828w, /ImageCropToolT4/imageTool/uploaded-images/Impact--tojpeg_1417606493780_x1.jpg 1x, /ImageCropToolT4/imageTool/uploaded-images/Impact--tojpeg_1417606493780_x2.jpg 2x, /ImageCropToolT4/imageTool/uploaded-images/Impact--tojpeg_1417606493780_x4.jpg 3x\" sizes=\"(min-width: 1520px) 207px, (min-width: 1025px) calc((100vw - 116px) / 6), (min-width: 930px) calc((100vw - 84px) / 3), 25vw\" alt=\"Brain scans\" src=\"/ImageCropToolT4/imageTool/uploaded-images/Impact--tojpeg_1417606493780_x1.jpg\"><span>Research news</span>Keep up to date with Imperial&rsquo;s cutting edge discoveries</a>\r\n",
      "        </li>\r\n",
      "      </ul>\r\n",
      "    </div>\r\n",
      "    <div class=\"col lg-2 hide-md secondary-content equal-height\">\r\n",
      "      <ul>\r\n",
      "        <li class=\"col\">\r\n",
      "          <a href=\"/students/enterprising-students/\"><img srcset=\"/ImageCropToolT4/imageTool/uploaded-images/Student-enterprise--tojpeg_1417606898127_x1.jpg 207w, /ImageCropToolT4/imageTool/uploaded-images/Student-enterprise--tojpeg_1417606898127_x2.jpg 414w, /ImageCropToolT4/imageTool/uploaded-images/Student-enterprise--tojpeg_1417606898127_x4.jpg 828w, /ImageCropToolT4/imageTool/uploaded-images/Student-enterprise--tojpeg_1417606898127_x1.jpg 1x, /ImageCropToolT4/imageTool/uploaded-images/Student-enterprise--tojpeg_1417606898127_x2.jpg 2x, /ImageCropToolT4/imageTool/uploaded-images/Student-enterprise--tojpeg_1417606898127_x4.jpg 3x\" sizes=\"(min-width: 1520px) 207px, (min-width: 1025px) calc((100vw - 116px) / 6), (min-width: 930px) calc((100vw - 84px) / 3), 25vw\" alt=\"In the lab\" src=\"/ImageCropToolT4/imageTool/uploaded-images/Student-enterprise--tojpeg_1417606898127_x1.jpg\"><span>Enterprising students</span>Find out how our students develop their entrepreneurial &amp; innovative ideas </a>\r\n",
      "        </li>\r\n",
      "      </ul>\r\n",
      "    </div>\r\n",
      "  </div>\r\n",
      "<!-- end Mega menu -->\r\n",
      "          </div>\r\n",
      "         </li>\r\n",
      "         <li class=\"has-children mega\">\r\n",
      "          <a class=\"parent\" href=\"#menu-642\" data-parent=\"true\">Be Inspired</a>\r\n",
      "          <div id=\"menu-642\" class=\"toggle-content\">\r\n",
      "          <!-- nav : Mega menu third --><!-- Mega menu -->\r\n",
      "  <a href=\"#\" class=\"noscript close-button\">Close</a>\r\n",
      "  <div class=\"child-content equal-height-columns\">\r\n",
      "    <div class=\"col lg-2 md-4 equal-height\">\r\n",
      "      <ul role=\"menu\" class=\"group\">\r\n",
      "        <li><a href=\"/be-inspired/\" class=\"overview_link\">Be Inspired</a></li>\r\n",
      "        <li>\r\n",
      "          <a class=\"parent feature\" href=\"/be-inspired/\">Take part</a>\r\n",
      "          <div class=\"toggle-content\">\r\n",
      "            <span class=\"feature-links\">Top links</span>\r\n",
      "            <ul>\n",
      "<li><a href=\"/be-inspired/student-recruitment-and-outreach/\">Schools activities</a></li>\n",
      "<li><a href=\"/whats-on/\">Public events</a></li>\n",
      "<li><a href=\"/be-inspired/festival/\">Festival</a></li>\n",
      "<li><a href=\"/alumni/events/\">Alumni events</a></li>\n",
      "</ul>\r\n",
      "          </div>\r\n",
      "        </li>\r\n",
      "      </ul>\r\n",
      "    </div>\r\n",
      "    <div class=\"col lg-2 md-4 equal-height\">\r\n",
      "      <ul role=\"menu\" class=\"group\">\r\n",
      "        <li>\r\n",
      "          <a class=\"parent feature\" href=\"/be-inspired/social-and-multimedia/\" >Engage online</a>\r\n",
      "          <div class=\"toggle-content\">\r\n",
      "            <span class=\"feature-links\">Top links</span>\r\n",
      "            <ul>\n",
      "<li><a href=\"/be-inspired/social-and-multimedia/lectures-online/\">Lectures online</a></li>\n",
      "<li><a href=\"/be-inspired/social-and-multimedia/podcasts/\">Podcasts</a></li>\n",
      "<li><a href=\"/be-inspired/social-and-multimedia/itunesu/\">iTunes U</a></li>\n",
      "</ul>\r\n",
      "          </div>\r\n",
      "        </li>\r\n",
      "      </ul>\r\n",
      "    </div>\r\n",
      "    <div class=\"col lg-2 md-4 equal-height\">\r\n",
      "      <ul role=\"menu\" class=\"group\">\r\n",
      "<li><a href=\"/be-inspired/social-and-multimedia/directory/\"  class=\"feature\">Social media directory</a></li>\r\n",
      "\r\n",
      "<li><a href=\"/be-inspired/volunteering/\"  class=\"feature\">Staff and student volunteering</a></li>\r\n",
      "\r\n",
      "<li><a href=\"/be-inspired/magazine/\"  class=\"feature\">Imperial magazine</a></li>\r\n",
      "\r\n",
      "\r\n",
      "<li><a href=\"/be-inspired/societal-engagement/\"  class=\"feature\">Societal engagement</a></li>\r\n",
      "\r\n",
      "\r\n",
      "\r\n",
      "      </ul>\r\n",
      "    </div>\r\n",
      "    <div class=\"col lg-2 hide-md secondary-content equal-height\">\r\n",
      "      <ul>\r\n",
      "        <li class=\"col\">\r\n",
      "          <a href=\"/be-inspired/social-and-multimedia/podcasts/\"><img srcset=\"/ImageCropToolT4/imageTool/uploaded-images/15-02-ImperialPodcast_banner_4--tojpeg_1431608741948_x1.jpg 207w, /ImageCropToolT4/imageTool/uploaded-images/15-02-ImperialPodcast_banner_4--tojpeg_1431608741948_x2.jpg 414w, /ImageCropToolT4/imageTool/uploaded-images/15-02-ImperialPodcast_banner_4--tojpeg_1431608741948_x4.jpg 828w, /ImageCropToolT4/imageTool/uploaded-images/15-02-ImperialPodcast_banner_4--tojpeg_1431608741948_x1.jpg 1x, /ImageCropToolT4/imageTool/uploaded-images/15-02-ImperialPodcast_banner_4--tojpeg_1431608741948_x2.jpg 2x, /ImageCropToolT4/imageTool/uploaded-images/15-02-ImperialPodcast_banner_4--tojpeg_1431608741948_x4.jpg 3x\" sizes=\"(min-width: 1520px) 207px, (min-width: 1025px) calc((100vw - 116px) / 6), (min-width: 930px) calc((100vw - 84px) / 3), 25vw\" alt=\"Podcasts\" src=\"/ImageCropToolT4/imageTool/uploaded-images/15-02-ImperialPodcast_banner_4--tojpeg_1431608741948_x1.jpg\"><span>Imperial College Podcast</span>presented by Gareth Mitchell and the Communications &amp; Public Affairs pod squad</a>\r\n",
      "        </li>\r\n",
      "      </ul>\r\n",
      "    </div>\r\n",
      "    <div class=\"col lg-2 hide-md secondary-content equal-height\">\r\n",
      "      <ul>\r\n",
      "        <li class=\"col\">\r\n",
      "          <a href=\"https://www.imperial.ac.uk/media/imperial-today/?utm_source=website&utm_medium=mega-menu&utm_campaign=imperial-today\" target=\"_blank\"><img srcset=\"/ImageCropToolT4/imageTool/uploaded-images/IT-survey1--tojpeg_1525171251932_x1.jpg 207w, /ImageCropToolT4/imageTool/uploaded-images/IT-survey1--tojpeg_1525171251932_x2.jpg 414w, /ImageCropToolT4/imageTool/uploaded-images/IT-survey1--tojpeg_1525171251932_x4.jpg 828w, /ImageCropToolT4/imageTool/uploaded-images/IT-survey1--tojpeg_1525171251932_x1.jpg 1x, /ImageCropToolT4/imageTool/uploaded-images/IT-survey1--tojpeg_1525171251932_x2.jpg 2x, /ImageCropToolT4/imageTool/uploaded-images/IT-survey1--tojpeg_1525171251932_x4.jpg 3x\" sizes=\"(min-width: 1520px) 207px, (min-width: 1025px) calc((100vw - 116px) / 6), (min-width: 930px) calc((100vw - 84px) / 3), 25vw\" alt=\"Imperial Today\" src=\"/ImageCropToolT4/imageTool/uploaded-images/IT-survey1--tojpeg_1525171251932_x1.jpg\"><span>Imperial Today</span>Subscribe to our daily newsletter and receive the best stories from Imperial direct to your inbox</a>\r\n",
      "        </li>\r\n",
      "      </ul>\r\n",
      "    </div>\r\n",
      "    <div class=\"col lg-2 hide-md secondary-content equal-height\">\r\n",
      "      <ul>\r\n",
      "        <li class=\"col\">\r\n",
      "          <a href=\"http://wwwf.imperial.ac.uk/blog/student-blogs/\" target=\"_blank\"><img srcset=\"/ImageCropToolT4/imageTool/uploaded-images/Student-blogs--tojpeg_1514904013265_x1.jpg 207w, /ImageCropToolT4/imageTool/uploaded-images/Student-blogs--tojpeg_1514904013265_x2.jpg 414w, /ImageCropToolT4/imageTool/uploaded-images/Student-blogs--tojpeg_1514904013265_x4.jpg 828w, /ImageCropToolT4/imageTool/uploaded-images/Student-blogs--tojpeg_1514904013265_x1.jpg 1x, /ImageCropToolT4/imageTool/uploaded-images/Student-blogs--tojpeg_1514904013265_x2.jpg 2x, /ImageCropToolT4/imageTool/uploaded-images/Student-blogs--tojpeg_1514904013265_x4.jpg 3x\" sizes=\"(min-width: 1520px) 207px, (min-width: 1025px) calc((100vw - 116px) / 6), (min-width: 930px) calc((100vw - 84px) / 3), 25vw\" alt=\"Student Blog home page\" src=\"/ImageCropToolT4/imageTool/uploaded-images/Student-blogs--tojpeg_1514904013265_x1.jpg\"><span>Student blogs</span>Find out about life on campus from our team of student bloggers</a>\r\n",
      "        </li>\r\n",
      "      </ul>\r\n",
      "    </div>\r\n",
      "  </div>\r\n",
      "<!-- end Mega menu -->\r\n",
      "          </div>\r\n",
      "         </li>\r\n",
      "         <li class=\"has-children mega\">\r\n",
      "          <a class=\"parent\" href=\"#menu-643\" data-parent=\"true\">About</a>\r\n",
      "          <div id=\"menu-643\" class=\"toggle-content\">\r\n",
      "          <!-- nav : Mega menu fourth --><!-- Mega menu -->\r\n",
      "  <a href=\"#\" class=\"noscript close-button\">Close</a>\r\n",
      "  <div class=\"child-content equal-height-columns\">\r\n",
      "    <div class=\"col lg-2 md-4 equal-height\">\r\n",
      "      <ul role=\"menu\" class=\"group\">\r\n",
      "        <li><a href=\"/about/\" class=\"overview_link\">About</a></li>\r\n",
      "        <li>\r\n",
      "          <a class=\"parent feature\" href=\"/about/introducing-imperial/\">The College</a>\r\n",
      "          <div class=\"toggle-content\">\r\n",
      "            <span class=\"feature-links\">Overview</span>\r\n",
      "            <ul>\n",
      "<li><a href=\"/about/leadership-and-strategy/strategy/\">Strategy 2015-2020</a></li>\n",
      "<li><a href=\"/about/introducing-imperial/league-tables/\">League tables</a></li>\n",
      "<li><a href=\"/about/introducing-imperial/facts-and-figures/\">Facts and figures</a></li>\n",
      "<li><a href=\"/admin-services/secretariat/college-governance/\">College governance</a></li>\n",
      "<li><span id=\"t4_content_element_Column3Link2Internal-path\"><a href=\"/admin-services/\">Administration and support services</a></span></li>\n",
      "<li><a href=\"/about/history/college-developments/\"><span>Imperial timeline</span></a></li>\n",
      "</ul>\r\n",
      "          </div>\r\n",
      "        </li>\r\n",
      "      </ul>\r\n",
      "    </div>\r\n",
      "    <div class=\"col lg-2 md-4 equal-height\">\r\n",
      "      <ul role=\"menu\" class=\"group\">\r\n",
      "        <li>\r\n",
      "          <a class=\"parent feature\" href=\"/about/introducing-imperial/our-people/\" >Our people</a>\r\n",
      "          <div class=\"toggle-content\">\r\n",
      "            <span class=\"feature-links\">At a glance</span>\r\n",
      "            <ul>\n",
      "<li><a href=\"/about/leadership-and-strategy/president/\">President</a></li>\n",
      "<li><a href=\"/about/leadership-and-strategy/provost/\">Provost</a></li>\n",
      "<li><a href=\"/about/introducing-imperial/our-people/eminent-alumni/\">Eminent alumni</a></li>\n",
      "<li><a href=\"/about/introducing-imperial/our-people/award-winners/\">Award winners</a></li>\n",
      "<li><a href=\"http://wwwf.imperial.ac.uk/blog/imperial-people/\" title=\"Recognising our people\">Recognising our people</a></li>\n",
      "</ul>\r\n",
      "          </div>\r\n",
      "        </li>\r\n",
      "      </ul>\r\n",
      "    </div>\r\n",
      "    <div class=\"col lg-2 md-4 equal-height\">\r\n",
      "      <ul role=\"menu\" class=\"group\">\r\n",
      "<li><a href=\"/faculties-and-departments/\"  class=\"feature\">A - Z of Faculties and Departments</a></li>\r\n",
      "\r\n",
      "<li><a href=\"/engineering/\"  class=\"feature\">Faculty of Engineering</a></li>\r\n",
      "\r\n",
      "<li><a href=\"/medicine/\"  class=\"feature\">Faculty of Medicine</a></li>\r\n",
      "\r\n",
      "\r\n",
      "<li><a href=\"/natural-sciences/\"  class=\"feature\">Faculty of Natural Sciences</a></li>\r\n",
      "\r\n",
      "<li><a href=\"http://www.imperial.ac.uk/business-school/\" target='_blank' class=\"feature\">Imperial College Business School</a></li>\r\n",
      "\r\n",
      "      </ul>\r\n",
      "    </div>\r\n",
      "    <div class=\"col lg-2 hide-md secondary-content equal-height\">\r\n",
      "      <ul>\r\n",
      "        <li class=\"col\">\r\n",
      "          <a href=\"/about/introducing-imperial/global-imperial/\"><img srcset=\"/ImageCropToolT4/imageTool/uploaded-images/Lion--tojpeg_1417185738698_x1.jpg 207w, /ImageCropToolT4/imageTool/uploaded-images/Lion--tojpeg_1417185738698_x2.jpg 414w, /ImageCropToolT4/imageTool/uploaded-images/Lion--tojpeg_1417185738698_x4.jpg 828w, /ImageCropToolT4/imageTool/uploaded-images/Lion--tojpeg_1417185738698_x1.jpg 1x, /ImageCropToolT4/imageTool/uploaded-images/Lion--tojpeg_1417185738698_x2.jpg 2x, /ImageCropToolT4/imageTool/uploaded-images/Lion--tojpeg_1417185738698_x4.jpg 3x\" sizes=\"(min-width: 1520px) 207px, (min-width: 1025px) calc((100vw - 116px) / 6), (min-width: 930px) calc((100vw - 84px) / 3), 25vw\" alt=\"Lion\" src=\"/ImageCropToolT4/imageTool/uploaded-images/Lion--tojpeg_1417185738698_x1.jpg\"><span>Global Imperial</span>We are the UK's most international university </a>\r\n",
      "        </li>\r\n",
      "      </ul>\r\n",
      "    </div>\r\n",
      "    <div class=\"col lg-2 hide-md secondary-content equal-height\">\r\n",
      "      <ul>\r\n",
      "        <li class=\"col\">\r\n",
      "          <a href=\"/visit/campuses/\"><img srcset=\"/ImageCropToolT4/imageTool/uploaded-images/campus--tojpeg_1416836905639_x1.jpg 207w, /ImageCropToolT4/imageTool/uploaded-images/campus--tojpeg_1416836905639_x2.jpg 414w, /ImageCropToolT4/imageTool/uploaded-images/campus--tojpeg_1416836905639_x4.jpg 828w, /ImageCropToolT4/imageTool/uploaded-images/campus--tojpeg_1416836905639_x1.jpg 1x, /ImageCropToolT4/imageTool/uploaded-images/campus--tojpeg_1416836905639_x2.jpg 2x, /ImageCropToolT4/imageTool/uploaded-images/campus--tojpeg_1416836905639_x4.jpg 3x\" sizes=\"(min-width: 1520px) 207px, (min-width: 1025px) calc((100vw - 116px) / 6), (min-width: 930px) calc((100vw - 84px) / 3), 25vw\" alt=\"Our campuses\" src=\"/ImageCropToolT4/imageTool/uploaded-images/campus--tojpeg_1416836905639_x1.jpg\"><span>Our campuses</span>Explore our London locations</a>\r\n",
      "        </li>\r\n",
      "      </ul>\r\n",
      "    </div>\r\n",
      "    <div class=\"col lg-2 hide-md secondary-content equal-height\">\r\n",
      "      <ul>\r\n",
      "        <li class=\"col\">\r\n",
      "          <a href=\"/about/leadership-and-strategy/white-city-campus/\"><img srcset=\"/ImageCropToolT4/imageTool/uploaded-images/Mega-menu-White-City-Campus-image--tojpeg_1493969367737_x1.jpg 207w, /ImageCropToolT4/imageTool/uploaded-images/Mega-menu-White-City-Campus-image--tojpeg_1493969367737_x2.jpg 414w, /ImageCropToolT4/imageTool/uploaded-images/Mega-menu-White-City-Campus-image--tojpeg_1493969367737_x4.jpg 828w, /ImageCropToolT4/imageTool/uploaded-images/Mega-menu-White-City-Campus-image--tojpeg_1493969367737_x1.jpg 1x, /ImageCropToolT4/imageTool/uploaded-images/Mega-menu-White-City-Campus-image--tojpeg_1493969367737_x2.jpg 2x, /ImageCropToolT4/imageTool/uploaded-images/Mega-menu-White-City-Campus-image--tojpeg_1493969367737_x4.jpg 3x\" sizes=\"(min-width: 1520px) 207px, (min-width: 1025px) calc((100vw - 116px) / 6), (min-width: 930px) calc((100vw - 84px) / 3), 25vw\" alt=\"White City Campus\" src=\"/ImageCropToolT4/imageTool/uploaded-images/Mega-menu-White-City-Campus-image--tojpeg_1493969367737_x1.jpg\"><span>White City Campus</span>Imperial&rsquo;s research and innovation district</a>\r\n",
      "        </li>\r\n",
      "      </ul>\r\n",
      "    </div>\r\n",
      "  </div>\r\n",
      "<!-- end Mega menu -->\r\n",
      "          </div>\r\n",
      "         </li>\r\n",
      "      </ul>\r\n",
      "\r\n",
      "<!-- nav : Secondary navigation - overall -->\r\n",
      "<!-- Secondary links -->\r\n",
      " <ul class=\"nav nav-secondary\">\r\n",
      "\r\n",
      "    \r\n",
      "          <li>\r\n",
      "        <a href=\"/visit/\" >Visit</a>\r\n",
      "      </li>\r\n",
      "    \r\n",
      "\r\n",
      "    \r\n",
      "          <li>\r\n",
      "        <a href=\"/whats-on/\" >What's on</a>\r\n",
      "      </li>\r\n",
      "    \r\n",
      "\r\n",
      "         <li class=\"only-fixed\">\r\n",
      "           <a href=\"/news/\">News</a>\r\n",
      "         </li>\r\n",
      "\r\n",
      "        \r\n",
      "          <li>\r\n",
      "        <a href=\"/giving/\" >Give</a>\r\n",
      "      </li>\r\n",
      "    \r\n",
      "\r\n",
      "         <li class=\"has-children\">\r\n",
      "          <a class=\"non-link\" href=\"#menu-645\" data-toggle=\"collapse\">A-Z</a>\r\n",
      "          <div id=\"menu-645\" class=\"toggle-content\">\r\n",
      "            <div class=\"child-content\">\r\n",
      "              <ul role=\"menu\" class=\"group\">\r\n",
      "               <li class=\"noscript\"><a href=\"#\" class=\"close-button\">Close</a></li>\r\n",
      "               \r\n",
      "        <li>\r\n",
      "    <a href=\"/faculties-and-departments/\" >Faculties and departments</a>\r\n",
      "   </li>\r\n",
      "  \r\n",
      "        <li>\r\n",
      "    <a href=\"/multidisciplinary-research/\" >Multidisciplinary networks, centres and institutes</a>\r\n",
      "   </li>\r\n",
      "  \r\n",
      "        <li>\r\n",
      "    <a href=\"/a-z-research/\" >Research groups</a>\r\n",
      "   </li>\r\n",
      "  \r\n",
      "        <li>\r\n",
      "    <a href=\"http://www.imperial.ac.uk/collegedirectory/\" target='_blank'>People finder</a>\r\n",
      "   </li>\r\n",
      "  \r\n",
      "        <li>\r\n",
      "    <a href=\"/admin-services/\" >Administration and support services</a>\r\n",
      "   </li>\r\n",
      "   <!-- a-z content -->\r\n",
      "              </ul>\r\n",
      "            </div>\r\n",
      "          </div>\r\n",
      "         </li>\r\n",
      "         <li class=\"has-children shorten\">\r\n",
      "          <a class=\"non-link\" href=\"#menu-646\" data-toggle=\"collapse\">Information for</a>\r\n",
      "           <div id=\"menu-646\" class=\"toggle-content\">\r\n",
      "            <div class=\"child-content\">\r\n",
      "              <ul role=\"menu\" class=\"group\">\r\n",
      "                 <li class=\"noscript\"><a href=\"#\" class=\"close-button\">Close</a></li>\r\n",
      "                 \r\n",
      "        <li>\r\n",
      "    <a href=\"/study/\" >Prospective students</a>\r\n",
      "   </li>\r\n",
      "  \r\n",
      "        <li>\r\n",
      "    <a href=\"/students/\" >Current students</a>\r\n",
      "   </li>\r\n",
      "  \r\n",
      "        <li>\r\n",
      "    <a href=\"/alumni/\" >Alumni</a>\r\n",
      "   </li>\r\n",
      "  \r\n",
      "        <li>\r\n",
      "    <a href=\"/staff/\" >Staff</a>\r\n",
      "   </li>\r\n",
      "  \r\n",
      "        <li>\r\n",
      "    <a href=\"/jobs/\" >Jobs at Imperial</a>\r\n",
      "   </li>\r\n",
      "  \r\n",
      "        <li>\r\n",
      "    <a href=\"/research-and-innovation/support-for-partners/\" >Partners and business</a>\r\n",
      "   </li>\r\n",
      "  \r\n",
      "        <li>\r\n",
      "    <a href=\"/media/\" >Media</a>\r\n",
      "   </li>\r\n",
      "  \r\n",
      "        <li>\r\n",
      "    <a href=\"/giving/\" >Donors</a>\r\n",
      "   </li>\r\n",
      "  \r\n",
      "        <li>\r\n",
      "    <a href=\"/parents/\" >Parents</a>\r\n",
      "   </li>\r\n",
      "  \r\n",
      "        <li>\r\n",
      "    <a href=\"/admin-services/events-and-hospitality/\" >Conference organisers </a>\r\n",
      "   </li>\r\n",
      "   <!-- info for -->\r\n",
      "              </ul>\r\n",
      "            </div>\r\n",
      "          </div>\r\n",
      "         </li>\r\n",
      "      </ul>\r\n",
      "<!-- end Secondary links -->\r\n",
      "\r\n",
      "    </nav>\r\n",
      "<!-- end Style Assets : Header -->\n",
      "        \n",
      "<section class=\"section-nav\">\n",
      "<h2 id=\"section-title\"><a href=\"#menu-1994\" data-toggle=\"section\">Silwood Park</a></h2>\n",
      "<nav id=\"menu-1994\" class=\"menus\">\n",
      "<h3 class=\"sr-only\">Section Navigation </h3>\n",
      "<ul>\n",
      "<li class=\"noscript\"><a href=\"#\" class=\"close-button\">Close</a></li>\n",
      "<li class=\"overview_link_wrapper\"><a href=\"/visit/campuses/silwood-park/\" class=\"overview_link\">Silwood Park Overview</a></li>\n",
      "<!-- nav object : Level 3 link menu -->\n",
      "<li><a href=\"/visit/campuses/silwood-park/about/\">About Silwood Park</a>\n",
      "<ul class=\"multilevel-linkul-0\">\n",
      "<li><a href=\"/visit/campuses/silwood-park/about/grounds/\">Grounds</a></li>\n",
      "<li><a href=\"/visit/campuses/silwood-park/about/library-and-computer-room/\">Library and Computer Room</a></li>\n",
      "<li><a href=\"/visit/campuses/silwood-park/about/surrounding-area/\">Surrounding area</a></li>\n",
      "<li><a href=\"/visit/campuses/silwood-park/about/silwood-business-centre/\">Silwood Business Centre</a></li>\n",
      "<li><a href=\"/visit/campuses/silwood-park/about/health-and-safety/\">Health and Safety</a></li>\n",
      "<li><a href=\"/visit/campuses/silwood-park/about/information-technology/\">Information Technology</a></li>\n",
      "<li><a href=\"/visit/campuses/silwood-park/about/history/\">Silwood Park - Past and Present</a></li>\n",
      "<li><a href=\"/visit/campuses/silwood-park/about/food-and-drinks/\">Food and drinks</a></li>\n",
      "<li><a href=\"/visit/campuses/silwood-park/about/campus-information/\">Campus information</a></li>\n",
      "<li><a href=\"/visit/campuses/silwood-park/about/clubs-societies-and-sports/\">Clubs, Societies and Sports</a></li>\n",
      "<li><a href=\"/visit/campuses/silwood-park/about/silwood-park-diversity/\">Silwood Park Diversity</a>\n",
      "<ul class=\"multilevel-linkul-1\">\n",
      "<li><a href=\"/visit/campuses/silwood-park/about/silwood-park-diversity/ashurst-orchard/\">Ashurst orchard</a></li>\n",
      "<li><a href=\"/visit/campuses/silwood-park/about/silwood-park-diversity/annuals/\">Flora of arable land</a></li>\n",
      "\n",
      "</ul>\n",
      "</li>\n",
      "\n",
      "</ul>\n",
      "</li><li><a href=\"/visit/campuses/silwood-park/research/\">Research</a>\n",
      "<ul class=\"multilevel-linkul-0\">\n",
      "<li><a href=\"/visit/campuses/silwood-park/research/publications/\">Publications</a></li>\n",
      "<li><a href=\"/visit/campuses/silwood-park/research/thursday-seminars/\">Ecology and Evolution Seminar Series</a></li>\n",
      "<li><a href=\"/visit/campuses/silwood-park/research/tansley/\">Tansley working groups</a></li>\n",
      "<li><a href=\"/visit/campuses/silwood-park/research/field-experiments/\">Field Experiments</a>\n",
      "<ul class=\"multilevel-linkul-1\">\n",
      "<li><a href=\"/visit/campuses/silwood-park/research/field-experiments/field-signs-and-markings/\">Field signs and markings</a></li>\n",
      "<li><a href=\"/visit/campuses/silwood-park/research/field-experiments/silwood-weather/\">Silwood weather</a></li>\n",
      "\n",
      "</ul>\n",
      "</li>\n",
      "<li><a href=\"/visit/campuses/silwood-park/research/silwood-lte/\">Silwood Park long-term field studies</a>\n",
      "<ul class=\"multilevel-linkul-1\">\n",
      "<li><a href=\"/visit/campuses/silwood-park/research/silwood-lte/nashk-s/\">Nash's Field Experiment (plots K-S)</a></li>\n",
      "<li><a href=\"/visit/campuses/silwood-park/research/silwood-lte/mesocosm/\">Silwood Park pond mesocosm</a></li>\n",
      "<li><a href=\"/visit/campuses/silwood-park/research/silwood-lte/nutnet/\">Nutrient Network project (NutNet)</a></li>\n",
      "<li><a href=\"/visit/campuses/silwood-park/research/silwood-lte/poundhill-disturbance/\">Pound Hill disturbance timing experiment</a></li>\n",
      "<li><a href=\"/visit/campuses/silwood-park/research/silwood-lte/nash-disturbance/\">Nash's Field disturbance experiment (plots A-F)</a></li>\n",
      "<li><a href=\"/visit/campuses/silwood-park/research/silwood-lte/mouse-project/\">The mouse project</a></li>\n",
      "<li><a href=\"/visit/campuses/silwood-park/research/silwood-lte/rabbits/\">Rabbit exclosures</a></li>\n",
      "<li><a href=\"/visit/campuses/silwood-park/research/silwood-lte/blue-tits/\">The blue tit project</a></li>\n",
      "<li><a href=\"/visit/campuses/silwood-park/research/silwood-lte/oak_acorns/\">Oak acorns and Knopper gall dynamics</a></li>\n",
      "<li><a href=\"/visit/campuses/silwood-park/research/silwood-lte/suction-trap/\">Suction trap</a></li>\n",
      "\n",
      "</ul>\n",
      "</li>\n",
      "\n",
      "</ul>\n",
      "</li><li><span class=\"currentbranch0\"><a href=\"/visit/campuses/silwood-park/academic-staff/\">Academic staff</a></span></li><li><a href=\"/visit/campuses/silwood-park/prospective-students/\">Prospective students</a>\n",
      "<ul class=\"multilevel-linkul-0\">\n",
      "<li><a href=\"/visit/campuses/silwood-park/prospective-students/msc-and-mres-courses/\">MSc and MRes courses</a>\n",
      "<ul class=\"multilevel-linkul-1\">\n",
      "<li><a href=\"/visit/campuses/silwood-park/prospective-students/msc-and-mres-courses/careers/\">Careers</a></li>\n",
      "<li><a href=\"/visit/campuses/silwood-park/prospective-students/msc-and-mres-courses/course-comparison/\">Course comparison</a></li>\n",
      "<li><a href=\"/visit/campuses/silwood-park/prospective-students/msc-and-mres-courses/photo-gallery/\">Photo gallery</a></li>\n",
      "\n",
      "</ul>\n",
      "</li>\n",
      "<li><a href=\"/visit/campuses/silwood-park/prospective-students/phd-opportunities/\">PhD opportunities</a></li>\n",
      "<li><a href=\"/visit/campuses/silwood-park/prospective-students/accommodation/\">Accommodation</a></li>\n",
      "<li><a href=\"/visit/campuses/silwood-park/prospective-students/international-students/\">International students</a></li>\n",
      "<li><a href=\"/visit/campuses/silwood-park/prospective-students/life-at-silwood/\">Life at Silwood</a></li>\n",
      "\n",
      "</ul>\n",
      "</li><li><a href=\"/visit/campuses/silwood-park/news/\">News</a></li><li><a href=\"/visit/campuses/silwood-park/events/\">Events</a></li><li><a href=\"/visit/campuses/silwood-park/find-us/\">Find us</a></li><li><a href=\"/visit/campuses/silwood-park/facilities/\">Facilities</a></li>\n",
      "<!-- end nav object : Level 3 link menu -->\n",
      "</ul>\n",
      "</nav>\n",
      "</section> \n",
      "</div>\n",
      "</header>\n",
      "<div id=\"content-box\">\n",
      "<div id=\"page\">\n",
      "<div class=\"container content-template\" id=\"content\">\n",
      "<div class=\"row top flow-opposite\" id=\"main\">\n",
      "<div class=\"col lg-9 wysiwyg\" role=\"main\" id=\"primary-content\">\n",
      "<div class=\"col lg-12 page-heading\">\n",
      "<div class=\"breadcrumbs\">\n",
      "<!-- nav object : Breadcrumbs -->\n",
      "<ul><li><a href=\"/\">Home</a></li><li><a href=\"/visit/\">Visit</a></li><li><a href=\"/visit/campuses/\">Campuses and maps</a></li><li><a href=\"/visit/campuses/silwood-park/\">Silwood Park</a></li><li><a href=\"/visit/campuses/silwood-park/academic-staff/\">Academic staff</a></li></ul>\n",
      "<!-- end nav object : Breadcrumbs -->\n",
      "</div>\n",
      "<h1>Academic staff</h1>\n",
      "</div> <!-- end page-heading -->\n",
      "<!-- nav object : Banner bottom -->\n",
      "\n",
      "<!-- end nav object : Banner bottom -->\n",
      "<div class=\"module\">\n",
      "<div class=\"row wysiwyg\">\r\n",
      "\r\n",
      "<p>Silwood Park Campus is home to the&nbsp;Department of Life Sciences <a href=\"http://www3.imperial.ac.uk/portal/page/portallive/DCD79B393641FC99E040C69B47396525\" title=\"Evolutionary Biology Theme\">Evolutionary Biology Theme</a>, the <a href=\"http://www3.imperial.ac.uk/lifesciences/research/ecosystemsenvironment\" title=\"Ecosystems &amp; the Environment Theme\">Ecosystems &amp; the Environment Theme</a>&nbsp;and <a href=\"http://www3.imperial.ac.uk/portal/page/portallive/E3C12B8F477D435EE040C69B47391C0B\" title=\"Grand Challenges in Ecosystems &amp; the Environment Initiative\">Grand Challenges in Ecosystems &amp; the Environment Initiative</a>.</p>\n",
      "<p>Deputy Head of Life Sciences (Silwood Park): Prof. Timothy Barraclough&nbsp;<a href=\"http://www.imperial.ac.uk/people/v.savolainen\" title=\"Prof. Vincent Savolainen\"><br /></a></p>\n",
      "<table style=\"width: 100%;\"><caption>Faculty</caption>\n",
      "<thead>\n",
      "<tr><th id=\"A0\" scope=\"col\" width=\"20%\">Name</th><th width=\"20%\"><strong>Title</strong></th><th width=\"40%\"><strong>Research topics</strong></th><th id=\"A2\" scope=\"col\" width=\"20%\">Photo</th></tr>\n",
      "</thead>\n",
      "<tbody>\n",
      "<tr>\n",
      "<td><a href=\"http://www.imperial.ac.uk/people/a.abzhanov\" target=\"_blank\" title=\"Dr Arkhat Abzhanov link opens in a new window\">Dr Arkhat Abzhanov</a></td>\n",
      "<td>Reader in Evolution and Developmental Genetics</td>\n",
      "<td>Vertebrate craniofacial development</td>\n",
      "<td>&nbsp; <img alt=\"Arkhat Abzhanov\" class=\"thumb\" src=\"/ImageCropToolT4/imageTool/uploaded-images/Arkhat_Abzhanov_Quanta_Photo_01--tojpeg_1440406350005_x2.jpg\" /></td>\n",
      "</tr>\n",
      "<tr>\n",
      "<td><a href=\"/people/c.banks\" title=\"Dr. Cristina Banks-Leite\">Dr Cristina Banks-Leite</a></td>\n",
      "<td>Lecturer</td>\n",
      "<td>Community &amp; landscape ecology</td>\n",
      "<td><img alt=\"Banks-Leite\" class=\"thumb\" src=\"/ImageCropToolT4/imageTool/uploaded-images/banks--tojpeg_1415802778550_x2.jpg\" /></td>\n",
      "</tr>\n",
      "<tr>\n",
      "<td><a href=\"/people/t.barraclough\" title=\"Prof Tim Barraclough\">Professor Tim Barraclough</a>&nbsp;</td>\n",
      "<td>Professor of Evolutionary Biology</td>\n",
      "<td><span>Biodiversity, evolution and community dynamics</span></td>\n",
      "<td><img alt=\"Barraclough\" class=\"thumb\" src=\"/ImageCropToolT4/imageTool/uploaded-images/barraclough--tojpeg_1415802831871_x2.jpg\" /></td>\n",
      "</tr>\n",
      "<tr>\n",
      "<td><a href=\"/people/thomas.bell\" title=\"Dr. Tom Bell\">Dr Tom Bell</a>&nbsp;</td>\n",
      "<td>Reader in Microbial Ecology</td>\n",
      "<td><span>Ecology and evolution of microbial communities</span></td>\n",
      "<td><img alt=\"Bell\" class=\"thumb\" src=\"/ImageCropToolT4/imageTool/uploaded-images/bell--tojpeg_1415802886850_x2.jpg\" /></td>\n",
      "</tr>\n",
      "<tr>\n",
      "<td><a href=\"http://www.imperial.ac.uk/people/m.bidartondo\" target=\"_blank\" title=\"Dr Martin Bidartondo link opens in a new window\">Dr Martin Bidartondo</a></td>\n",
      "<td>Reader in Molecular Ecology</td>\n",
      "<td>Ecology and evolution of mycorrhizas</td>\n",
      "<td>&nbsp;<img alt=\"Martin Bidartondo\" class=\"thumb left\" src=\"/ImageCropToolT4/imageTool/uploaded-images/biud--tojpeg_1484735034873_x2.jpg\" /></td>\n",
      "</tr>\n",
      "<tr>\n",
      "<td><a href=\"http://imperial.ac.uk/AP/faces/pages/read/Home.jsp?person=m.brazeau&amp;_adf.ctrl-state=154nqe3v03_259\" title=\"Dr. Martin Brazeau\">Dr Martin Brazeau</a></td>\n",
      "<td>Senior Lecturer</td>\n",
      "<td><span>Evolution of modern vertebrate anatomy</span></td>\n",
      "<td><img alt=\"Brazeau\" class=\"thumb\" src=\"/ImageCropToolT4/imageTool/uploaded-images/brazeau--tojpeg_1415802939459_x2.jpg\" /></td>\n",
      "</tr>\n",
      "<tr>\n",
      "<td><a href=\"/people/a.burt\" title=\"Professor Austin Burt\">Professor Austin Burt</a>&nbsp;</td>\n",
      "<td>Professor of Evolutionary Genetics</td>\n",
      "<td><span id=\"titlepart6\"><span>Population genetic engineering and malaria vectors</span></span></td>\n",
      "<td><img alt=\"Burt\" class=\"thumb\" src=\"/ImageCropToolT4/imageTool/uploaded-images/burt--tojpeg_1415802971898_x2.jpg\" /></td>\n",
      "</tr>\n",
      "<tr>\n",
      "<td><a href=\"/people/l.cator\" title=\"Dr. Lauren Cator\">Dr Lauren Cator</a>&nbsp;</td>\n",
      "<td>Lecturer</td>\n",
      "<td><span>Behavioural ecology of disease vectors</span></td>\n",
      "<td><img alt=\"Cator\" class=\"thumb\" src=\"/ImageCropToolT4/imageTool/uploaded-images/cator--tojpeg_1415803021373_x2.jpg\" /></td>\n",
      "</tr>\n",
      "<tr>\n",
      "<td><a href=\"/people/r.ewers\" title=\"Professor Robert Ewers\">Professor Robert Ewers</a></td>\n",
      "<td>Professor of Ecology</td>\n",
      "<td><span>Deforestation and field experiments</span></td>\n",
      "<td><img alt=\"Rob Ewers\" class=\"thumb left\" src=\"/ImageCropToolT4/imageTool/uploaded-images/Rob-Ewers-new-website-photo--tojpeg_1484735059424_x2.jpg\" /></td>\n",
      "</tr>\n",
      "<tr>\n",
      "<td><span><a href=\"https://www.imperial.ac.uk/people/m.fumagalli\" target=\"_blank\" title=\"Dr Matteo Fumagalli link opens in a new window\"><span>Dr Matteo Fumagalli</span></a>&nbsp;</span></td>\n",
      "<td>Lecturer</td>\n",
      "<td><span>Population genetics&nbsp;</span></td>\n",
      "<td><img alt=\"Matteo Fumagalli\" class=\"thumb left\" src=\"/ImageCropToolT4/imageTool/uploaded-images/matteoF--tojpeg_1479825443369_x2.jpg\" /></td>\n",
      "</tr>\n",
      "<tr>\n",
      "<td><a href=\"http://www.imperial.ac.uk/AP/faces/pages/read/Home.jsp?person=r.gill&amp;_adf.ctrl-state=whhrdpbnf_367\" title=\"Dr Richard Gill\">Dr Richard Gill</a></td>\n",
      "<td>Senior Lecturer&nbsp;</td>\n",
      "<td><span>Social insects</span></td>\n",
      "<td><img alt=\"gill\" class=\"thumb\" src=\"/ImageCropToolT4/imageTool/uploaded-images/gill--tojpeg_1415803395132_x2.jpg\" /></td>\n",
      "</tr>\n",
      "<tr>\n",
      "<td><a href=\"/people/j.hodgson\" title=\"Dr. Jason Hodgson\">Dr Jason Hodgson</a></td>\n",
      "<td>Lecturer&nbsp;</td>\n",
      "<td><span>Human and primate evolutionary genetics</span></td>\n",
      "<td><img alt=\"Hodgson\" class=\"thumb\" src=\"/ImageCropToolT4/imageTool/uploaded-images/hodgson--tojpeg_1415803486778_x2.jpg\" /></td>\n",
      "</tr>\n",
      "<tr>\n",
      "<td><a href=\"http://www.imperial.ac.uk/AP/faces/pages/read/Home.jsp?person=jonathan.lloyd&amp;_adf.ctrl-state=un1rky6oy_1499\" title=\"Professor Jon Lloyd\">Professor Jon Lloyd</a></td>\n",
      "<td>Professor in Global Ecosystems Function</td>\n",
      "<td><span id=\"titlepart6\"><span>Controls on ecosystem carbon fluxes</span></span></td>\n",
      "<td><img alt=\"Lloyd\" class=\"thumb\" src=\"/ImageCropToolT4/imageTool/uploaded-images/lloyd--tojpeg_1415803876991_x2.jpg\" /></td>\n",
      "</tr>\n",
      "<tr>\n",
      "<td><a href=\"/people/andrew.knight1\" title=\"Dr Andrew Knight \">Dr Andrew Knight </a></td>\n",
      "<td>Senior Lecturer</td>\n",
      "<td>Decision-making and conservation planning</td>\n",
      "<td><img alt=\"Knight\" class=\"thumb\" src=\"/ImageCropToolT4/imageTool/uploaded-images/knight--tojpeg_1415803699689_x2.jpg\" /></td>\n",
      "</tr>\n",
      "<tr>\n",
      "<td><a href=\"https://www.imperial.ac.uk/people/m.mills\" target=\"_blank\" title=\"Dr Morena Mills link opens in a new window\">Dr Morena Mills</a>&nbsp;</td>\n",
      "<td>Senior Lecturer&nbsp;</td>\n",
      "<td><span>Systematic conservation planning</span></td>\n",
      "<td><img alt=\"Morena Mills \" class=\"thumb left\" src=\"/ImageCropToolT4/imageTool/uploaded-images/Morena-Mills--tojpeg_1479825117340_x2.jpg\" /></td>\n",
      "</tr>\n",
      "<tr>\n",
      "<td><a href=\"/people/s.pawar\" title=\"Dr. Samraat Pawar\">Dr Samraat Pawar</a></td>\n",
      "<td>Senior Lecturer</td>\n",
      "<td><span>Systems biology and theoretical ecology</span></td>\n",
      "<td><img alt=\"Pawar\" class=\"thumb\" src=\"/ImageCropToolT4/imageTool/uploaded-images/pawar--tojpeg_1415804122485_x2.jpg\" /></td>\n",
      "</tr>\n",
      "<tr>\n",
      "<td><a href=\"/people/c.prentice\" title=\"Professor Colin Prentice\">Professor Colin Prentice</a>&nbsp;</td>\n",
      "<td>AXA Chair in Biosphere and Climate Impacts</td>\n",
      "<td><span>Biosphere and atmosphere interactions, climate dynamics</span></td>\n",
      "<td>&nbsp; <img alt=\"Prentice\" class=\"thumb\" src=\"/ImageCropToolT4/imageTool/uploaded-images/prentice--tojpeg_1415804988608_x2.jpg\" /></td>\n",
      "</tr>\n",
      "<tr>\n",
      "<td><a href=\"/people/v.savolainen\" title=\"Prof Vincent Savolainen\">Professor Vincent Savolainen</a></td>\n",
      "<td>Professor of Organismic Biology</td>\n",
      "<td><span id=\"titlepart6\"><span>Biodiversity genomics</span></span></td>\n",
      "<td><img alt=\"Savolainen\" class=\"thumb\" src=\"/ImageCropToolT4/imageTool/uploaded-images/vince--tojpeg_1415805233922_x2.jpg\" /></td>\n",
      "</tr>\n",
      "<tr>\n",
      "<td><a href=\"http://www.imperial.ac.uk/people/julia.schroeder\" title=\"Dr Julia Schroeder\">Dr Julia Schroeder</a></td>\n",
      "<td>Lecturer</td>\n",
      "<td>Evolutionary ecology of social traits</td>\n",
      "<td><img alt=\"Julia Schroeder\" class=\"thumb left\" src=\"/ImageCropToolT4/imageTool/uploaded-images/Cloud--tojpeg_1441370557873_x2.jpg\" /></td>\n",
      "</tr>\n",
      "<tr>\n",
      "<td><a href=\"http://www.imperial.ac.uk/people/j.tobias\" title=\"Dr Joseph Tobias\">Dr Joseph Tobias</a></td>\n",
      "<td>Senior Lecturer in Biodiversity</td>\n",
      "<td>Processes generating, sustaining and structuring biodiversity</td>\n",
      "<td><img alt=\"Joe Tobias\" class=\"thumb\" src=\"/ImageCropToolT4/imageTool/uploaded-images/Joe-Tobias--tojpeg_1430322898032_x2.jpg\" /></td>\n",
      "</tr>\n",
      "<tr>\n",
      "<td><a title=\"Dr Mike Tristem\">Dr Mike Tristem</a>&nbsp;</td>\n",
      "<td>Reader in Evolutionary Virology</td>\n",
      "<td><span id=\"titlepart6\"><span>Viral evolution</span></span></td>\n",
      "<td><img alt=\"Tristem\" class=\"thumb\" src=\"/ImageCropToolT4/imageTool/uploaded-images/tristempic--tojpeg_1415805280204_x2.jpg\" /></td>\n",
      "</tr>\n",
      "<tr>\n",
      "<td><a href=\"https://www.imperial.ac.uk/people/a.vogler\" target=\"_blank\" title=\"Professor Alfried Vogler link opens in a new window\">Professor Alfried Vogler</a></td>\n",
      "<td>Professor of Molecular Systematics</td>\n",
      "<td>\n",
      "<p>Phylogeny and evolution of Coleoptera</p>\n",
      "</td>\n",
      "<td><img alt=\"Alfried Vogler\" class=\"thumb\" src=\"/ImageCropToolT4/imageTool/uploaded-images/Michael-Edwards--tojpeg_1435155425312_x2.jpg\" /></td>\n",
      "</tr>\n",
      "<tr>\n",
      "<td><a href=\"/people/guy.woodward\" title=\"Prof. Guy Woodward\">Professor Guy Woodward</a></td>\n",
      "<td>Professor of Ecology</td>\n",
      "<td><span id=\"titlepart6\"><span>Quantifying the impacts of stressors (climate change, acidification, eutrophication, species invasions and habitat alteration) on the structure and functioning of aquatic ecosystems</span></span></td>\n",
      "<td><img alt=\"Woodward\" class=\"thumb\" src=\"/ImageCropToolT4/imageTool/uploaded-images/guy--tojpeg_1415805505961_x2.jpg\" /></td>\n",
      "</tr>\n",
      "</tbody>\n",
      "<caption class=\"sr-only\">ReadersAcademic staff Silwood Campus</caption></table>\n",
      "<table style=\"width: 100%;\"><caption>Affiliated Faculty</caption>\n",
      "<thead>\n",
      "<tr><th id=\"A0\" scope=\"col\" width=\"20%\">Name</th><th width=\"20%\"><strong>Title</strong></th><th width=\"40%\"><strong>Research topics</strong></th><th id=\"A2\" scope=\"col\" width=\"20%\">Photo</th></tr>\n",
      "</thead>\n",
      "<tbody>\n",
      "<tr>\n",
      "<td><a href=\"http://www.imperial.ac.uk/AP/faces/pages/read/Home.jsp?person=b.halpern&amp;_adf.ctrl-state=un1rky6oy_1215\" title=\"Professor Ben Halpern\">Professor Ben Halpern</a></td>\n",
      "<td>Professor in Marine Conservation (Associate with&nbsp;University of California, Santa Barbara)</td>\n",
      "<td><span id=\"titlepart6\"><span>Spatial population dynamics, trophic interactions in community ecology and conservation planning</span></span></td>\n",
      "<td><img alt=\"Halpern\" class=\"thumb\" src=\"/ImageCropToolT4/imageTool/uploaded-images/halpern--tojpeg_1415803442059_x2.jpg\" /></td>\n",
      "</tr>\n",
      "<tr>\n",
      "<td><a href=\"/people/w.jetz\" title=\"Professor Walter Jetz \">Professor Walter Jetz </a></td>\n",
      "<td>Senior Scientist (Associate with&nbsp;Yale University)</td>\n",
      "<td><span>Integrative global biodiversity science, biogeography, conservation and community ecology</span></td>\n",
      "<td><img alt=\"Jetz\" class=\"thumb\" src=\"/ImageCropToolT4/imageTool/uploaded-images/jetz--tojpeg_1415803601810_x2.jpg\" /></td>\n",
      "</tr>\n",
      "<tr>\n",
      "<td><a href=\"http://www.imperial.ac.uk/AP/faces/pages/read/Home.jsp?person=james.jones&amp;_adf.ctrl-state=un1rky6oy_935\" title=\"Professor James H Jones\">Professor James H Jones</a></td>\n",
      "<td>Senior Scientist (Associate with&nbsp;Stanford University)</td>\n",
      "<td><span>Biological anthropologist with research interests in human ecology, demography and life history theory, and the ecology and evolutionary biology of infectious disease</span></td>\n",
      "<td>&nbsp;<img alt=\"Jones\" class=\"thumb\" src=\"/ImageCropToolT4/imageTool/uploaded-images/jones--tojpeg_1415803655888_x2.jpg\" /></td>\n",
      "</tr>\n",
      "<tr>\n",
      "<td><a href=\"/people/i.owens\" title=\"Professor Ian Owens\">Professor Ian Owens</a>&nbsp;</td>\n",
      "<td>Research Investigator (Associate with Natural History Museum London)</td>\n",
      "<td><span id=\"titlepart6\">Evolutionary ecology of&nbsp;birds</span></td>\n",
      "<td><img alt=\"Owens\" class=\"thumb\" src=\"/ImageCropToolT4/imageTool/uploaded-images/owens--tojpeg_1415804073571_x2.jpg\" /></td>\n",
      "</tr>\n",
      "<tr>\n",
      "<td><a href=\"/people/a.purvis\" title=\"Professor Andy Purvis\">Professor Andy Purvis</a></td>\n",
      "<td>Research Investigator (Associate with Natural History Museum London)</td>\n",
      "<td><span id=\"titlepart6\"><span id=\"titlepart6\"><span>Biodiversity and extinction</span></span></span></td>\n",
      "<td>&nbsp; <img alt=\"Andy Purvis\" class=\"thumb\" src=\"/ImageCropToolT4/imageTool/uploaded-images/Untitled--tojpeg_1430322499617_x2.jpg\" /></td>\n",
      "</tr>\n",
      "<tr>\n",
      "<td><a href=\"http://www.imperial.ac.uk/people/c.rahbek\" title=\"Professor Carsten Rahbek\">Professor Carsten Rahbek</a></td>\n",
      "<td>&nbsp;<br />Professor&nbsp;in Macroecology (Associate with University of Copenhagen)</td>\n",
      "<td><span id=\"titlepart6\"><span>Patterns of species distribution, species range sizes, species assemblages, species richness and what determines such patterns</span></span></td>\n",
      "<td><img alt=\"Rahbeck\" class=\"thumb\" src=\"/ImageCropToolT4/imageTool/uploaded-images/carsten--tojpeg_1415805090122_x2.jpg\" /></td>\n",
      "</tr>\n",
      "<tr>\n",
      "<td><a href=\"http://www.imperial.ac.uk/AP/faces/pages/read/Home.jsp?person=j.tylianakis&amp;_adf.ctrl-state=un1rky6oy_1591\" title=\"Professor Jason Tylianakis\">Professor Jason Tylianakis</a></td>\n",
      "<td>Professor&nbsp;in Ecology and Biodiversity (Associate with University of Canterbury, New Zealand)</td>\n",
      "<td><span id=\"titlepart6\"><span>How the architecture of interaction networks (such as food webs or pollination networks) comes to exist, and how it responds to environmental drivers</span></span></td>\n",
      "<td><img alt=\"Tylianakis\" class=\"thumb\" src=\"/ImageCropToolT4/imageTool/uploaded-images/jason--tojpeg_1415805346898_x2.jpg\" /></td>\n",
      "</tr>\n",
      "<tr>\n",
      "<td><a href=\"/people/d.wright\" title=\"Professor Denis Wright\">Professor Denis Wright</a>&nbsp;</td>\n",
      "<td>Professor of Insecticide resistance &amp;&nbsp;sustainable pest management&nbsp;</td>\n",
      "<td><span>Sustainable pest management</span></td>\n",
      "<td><img alt=\"Wright\" class=\"thumb\" src=\"/ImageCropToolT4/imageTool/uploaded-images/wright--tojpeg_1415805551965_x2.jpg\" /></td>\n",
      "</tr>\n",
      "</tbody>\n",
      "<caption class=\"sr-only\">Academic staff Silwood Campus</caption></table>\n",
      "<table style=\"width: 100%;\"><caption>Fellows</caption>\n",
      "<thead>\n",
      "<tr><th id=\"A0\" scope=\"col\" width=\"20%\">Name</th><th width=\"20%\">Title</th><th width=\"40%\">Research topics</th><th id=\"A2\" scope=\"col\" width=\"20%\">Photo</th></tr>\n",
      "</thead>\n",
      "<tbody>\n",
      "<tr>\n",
      "<td><a href=\"/people/m.charalambous\" title=\"Dr Magda Charalambous\">Dr Magda Charalambous</a>&nbsp;</td>\n",
      "<td>Senior Teaching Fellow</td>\n",
      "<td><span id=\"titlepart6\"><span>Sexual selection and population differentiation in insects</span></span></td>\n",
      "<td><img alt=\"Charalambous\" class=\"thumb\" src=\"/ImageCropToolT4/imageTool/uploaded-images/charal--tojpeg_1415803150109_x2.jpg\" /></td>\n",
      "</tr>\n",
      "<tr>\n",
      "<td><a href=\"http://www.imperial.ac.uk/people/r.kordas\" target=\"_blank\" title=\"Dr Rebecca Kordas  link opens in a new window\">Dr Rebecca Kordas </a></td>\n",
      "<td>IJR Fellow</td>\n",
      "<td>&nbsp;</td>\n",
      "<td>&nbsp;<img alt=\"BEcca Kordas\" class=\"thumb left\" src=\"/ImageCropToolT4/imageTool/uploaded-images/Becca-21-cropped--tojpeg_1462265236132_x2.jpg\" /></td>\n",
      "</tr>\n",
      "<tr>\n",
      "<td><a href=\"/people/v.koufopanou\" title=\"Dr. Vassiliki Koufopanou\">Dr Vassiliki Koufopanou</a>&nbsp;</td>\n",
      "<td>Research Fellow</td>\n",
      "<td><span id=\"titlepart6\"><span id=\"titlepart6\"><span>Microbial genetics and evolution</span></span></span></td>\n",
      "<td><img alt=\"Koufapanou\" class=\"thumb\" src=\"/ImageCropToolT4/imageTool/uploaded-images/vassiliki--tojpeg_1415803755603_x2.jpg\" /></td>\n",
      "</tr>\n",
      "<tr>\n",
      "<td><a href=\"http://www.imperial.ac.uk/people/e.ogorman\" title=\"Dr Eoin O'Gorman\">Dr Eoin O'Gorman</a></td>\n",
      "<td>NERC Fellow</td>\n",
      "<td>&nbsp;Trophic interactions and ecosystem-level responses to global change</td>\n",
      "<td>&nbsp; <img alt=\"Eoin O'Gorman\" class=\"thumb\" src=\"/ImageCropToolT4/imageTool/uploaded-images/Eoin-O%27Gorman--tojpeg_1418812595170_x2.jpg\" /></td>\n",
      "</tr>\n",
      "<tr>\n",
      "<td><a href=\"/people/d.orme\" title=\"Dr. David Orme\">Dr David Orme</a>&nbsp;</td>\n",
      "<td>Research Fellow</td>\n",
      "<td><span>Biodiversity and climate change</span></td>\n",
      "<td><img alt=\"Orme\" class=\"thumb\" src=\"/ImageCropToolT4/imageTool/uploaded-images/orme--tojpeg_1415804020787_x2.jpg\" /></td>\n",
      "</tr>\n",
      "<tr>\n",
      "<td><a href=\"/people/j.rosindell\" title=\"Dr. James Rosindell\">Dr James Rosindell</a></td>\n",
      "<td>NERC Fellow</td>\n",
      "<td><span id=\"titlepart6\"><span>Theoretical ecology and evolution</span></span></td>\n",
      "<td><img alt=\"Rossindell\" class=\"thumb\" src=\"/ImageCropToolT4/imageTool/uploaded-images/rossindell--tojpeg_1415805186475_x2.jpg\" /></td>\n",
      "</tr>\n",
      "<tr>\n",
      "<td><a href=\"http://www.imperial.ac.uk/people/chris.wilson\" title=\"Dr. Chris Wilson\">Dr Chris Wilson</a></td>\n",
      "<td>NERC Fellow</td>\n",
      "<td>&nbsp;\n",
      "<p>Causes and consequences of obligately asexual evolution</p>\n",
      "</td>\n",
      "<td><img alt=\"Wilson\" class=\"thumb\" src=\"/ImageCropToolT4/imageTool/uploaded-images/wilson--tojpeg_1415805408220_x2.jpg\" /></td>\n",
      "</tr>\n",
      "<tr>\n",
      "<td><a href=\"http://www.imperial.ac.uk/AP/faces/pages/read/Home.jsp?person=o.windram&amp;_adf.ctrl-state=sxsfmddhh_379\" title=\"Dr. Oliver Windram\">Dr Oliver Windram</a></td>\n",
      "<td>NERC Fellow</td>\n",
      "<td><span id=\"titlepart6\"><span>Generation and interpretation of large scale omics data using network modeling techniqes, systems biology</span></span></td>\n",
      "<td><img alt=\"Windram\" class=\"thumb\" src=\"/ImageCropToolT4/imageTool/uploaded-images/windram--tojpeg_1415805449837_x2.jpg\" /></td>\n",
      "</tr>\n",
      "</tbody>\n",
      "<caption class=\"sr-only\">Academic staff Silwood Campus</caption></table>\n",
      "<table style=\"width: 100%;\"><caption>Honorary staff</caption>\n",
      "<thead>\n",
      "<tr><th id=\"A0\" scope=\"col\" width=\"20%\">Name</th><th width=\"20%\">Title</th><th width=\"40%\">Research topics</th><th id=\"A2\" scope=\"col\" width=\"20%\">Photo</th></tr>\n",
      "</thead>\n",
      "<tbody>\n",
      "<tr>\n",
      "<td><a href=\"/people/miguel.araujo\" title=\"Professor Miguel Araujo\">Professor Miguel Araujo</a></td>\n",
      "<td>Visiting Professor</td>\n",
      "<td>Biogeography, conservation planning, global change biology, and macroecology</td>\n",
      "<td><img alt=\"Araujo\" class=\"thumb\" src=\"/ImageCropToolT4/imageTool/uploaded-images/araujo--tojpeg_1415802700337_x2.jpg\" /></td>\n",
      "</tr>\n",
      "<tr>\n",
      "<td><a href=\"http://www.imperial.ac.uk/people/j.beddington\" target=\"_blank\" title=\"Professor John Beddington CMG, FRS link opens in a new window\">Professor John Beddington CMG, FRS</a></td>\n",
      "<td>Honorary Principal Research Fellow</td>\n",
      "<td>&nbsp;</td>\n",
      "<td>&nbsp;</td>\n",
      "</tr>\n",
      "<tr>\n",
      "<td>\n",
      "<p><span>Dr Colin Clubbe</span></p>\n",
      "</td>\n",
      "<td>\n",
      "<p><span>Honorary Research Fellow</span></p>\n",
      "</td>\n",
      "<td>&nbsp;</td>\n",
      "<td>&nbsp;</td>\n",
      "</tr>\n",
      "<tr>\n",
      "<td><a href=\"/people/m.crawley\" title=\"Professor Mick Crawley FRS\">Professor Mick Crawley FRS</a>&nbsp;</td>\n",
      "<td>Emeritus Professor</td>\n",
      "<td><span>Ecological field experiments and theory</span></td>\n",
      "<td><img alt=\"Crawley\" class=\"thumb\" src=\"/ImageCropToolT4/imageTool/uploaded-images/crawley--tojpeg_1415803192999_x2.jpg\" /></td>\n",
      "</tr>\n",
      "<tr>\n",
      "<td><a href=\"http://www.imperial.ac.uk/people/c.godfray\" target=\"_blank\" title=\"Professor Charles Godfray FRS link opens in a new window\">Professor Charles Godfray FRS</a></td>\n",
      "<td>Honorary Principal Research Fellow</td>\n",
      "<td>&nbsp;</td>\n",
      "<td>&nbsp;</td>\n",
      "</tr>\n",
      "<tr>\n",
      "<td><a href=\"http://www.imperial.ac.uk/people/m.hassell\" target=\"_blank\" title=\"Professor Michael P Hassell CBE FRS link opens in a new window\">Professor Michael P Hassell CBE FRS</a></td>\n",
      "<td>Honorary Principal Research Fellow</td>\n",
      "<td>&nbsp;</td>\n",
      "<td>&nbsp;</td>\n",
      "</tr>\n",
      "<tr>\n",
      "<td><a href=\"/people/r.lande\" title=\"Professor Russ Lande FRS\">Professor Russ Lande FRS</a></td>\n",
      "<td>&nbsp;Emeritus Professor&nbsp;</td>\n",
      "<td>&nbsp;<span>Evolutionary and ecological theory, and conservation</span></td>\n",
      "<td>&nbsp;<img alt=\"Russ Lande\" class=\"thumb left\" src=\"/ImageCropToolT4/imageTool/uploaded-images/lande--tojpeg_1415803809583_x2--tojpeg_1479824949917_x2.jpg\" /></td>\n",
      "</tr>\n",
      "<tr>\n",
      "<td><a href=\"/people/e.j.milner-gulland\">Professor E J Milner-Gulland</a>&nbsp;</td>\n",
      "<td>Visiting Professor</td>\n",
      "<td><span id=\"titlepart6\"><span>Conservation science, ecosystem services</span></span></td>\n",
      "<td><img alt=\"Milner-Guilland\" class=\"thumb\" src=\"/ImageCropToolT4/imageTool/uploaded-images/milner--tojpeg_1415803977274_x2.jpg\" /></td>\n",
      "</tr>\n",
      "<tr>\n",
      "<td><a href=\"https://en.wikipedia.org/wiki/George_McGavin\" title=\"Dr George McGavin\">Dr George McGavin</a></td>\n",
      "<td>Honorary Principal Research Fellow</td>\n",
      "<td><span>Insect ecology and taxonomy</span></td>\n",
      "<td><img alt=\"George McGavin\" class=\"thumb left\" src=\"/ImageCropToolT4/imageTool/uploaded-images/George_McGavin_Borneo_by_Tim_Martin--tojpeg_1503404710944_x2.jpg\" /></td>\n",
      "</tr>\n",
      "<tr>\n",
      "<td><a href=\"http://www.possinghamlab.org/\" title=\"Professor Hugh Possingham\">Professor Hugh Possingham</a></td>\n",
      "<td>Visiting Professor</td>\n",
      "<td><span>Pure and applied population ecology</span></td>\n",
      "<td><img alt=\"Hugh Possingham\" class=\"thumb left\" src=\"/ImageCropToolT4/imageTool/uploaded-images/hugh--tojpeg_1415804572909_x2--tojpeg_1479824022963_x2.jpg\" /></td>\n",
      "</tr>\n",
      "<tr>\n",
      "<td><a href=\"http://www.imperial.ac.uk/people/m.themis\" target=\"_blank\" title=\"Dr Michael Themis link opens in a new window\">Dr Michael Themis</a></td>\n",
      "<td>Honorary Lecturer</td>\n",
      "<td>&nbsp;</td>\n",
      "<td>&nbsp; <img alt=\"Michael Themis\" class=\"thumb\" src=\"/ImageCropToolT4/imageTool/uploaded-images/Untitled--tojpeg_1433243294510_x2.jpg\" /></td>\n",
      "</tr>\n",
      "</tbody>\n",
      "<caption class=\"sr-only\">Academic staff Silwood Campus</caption></table>\r\n",
      "</div></div>\n",
      "</div>\n",
      "<aside class=\"col lg-3 sidebar\" id=\"secondary-content\">\n",
      "<!-- begin Sidebar nav -->\n",
      "<div class=\"col lg-12 sidebar-menu\">\n",
      "<h2>Academic staff</h2>\n",
      "<!-- begin Level 4 menu - recurses -->\n",
      "\n",
      "<!-- end Level 4 menu - recurses -->\n",
      "</div>\n",
      "<!-- end Sidebar nav -->\n",
      "<!-- begin Colour block -->\r\n",
      "<div class=\"col lg-12 primary text reverse\">\r\n",
      "  <div class=\"module\">\r\n",
      "    <h2 class=\"fake-h3\">Smoke-Free Imperial</h2>\r\n",
      "    <p>All Imperial campuses and properties are smoke-free. Part of Imperial&rsquo;s commitment to creating and maintaining a healthy environment for its community and visitors. <a href=\"/staff/health-and-wellbeing/smoke-free-imperial/\">Find out more about Smoke-free Imperial</a></p>\r\n",
      "  </div>\r\n",
      "</div>\r\n",
      "<!-- end Colour block --><!-- shared sidebar -->\n",
      "<!-- navigation object : Sidebar --><div class=\"col lg-12 text\">\r\n",
      "            <div class=\"module\">\r\n",
      "            \t<h3>Seminar Series</h3>\r\n",
      "              <ul>\n",
      "<li><span class=\"inplacedisplayid4siteid0\"><a href=\"/visit/campuses/silwood-park/research/thursday-seminars/\">Ecology and Evolution seminars</a> (Thursdays) </span></li>\n",
      "</ul>\r\n",
      "            </div>\r\n",
      "</div>\n",
      "</aside>\n",
      "</div><!-- row opposite -->\n",
      "</div><!-- end container -->\n",
      "<!-- Social -->\n",
      "            <div class=\"social cf container\">\r\n",
      "  <a href=\"javascript:window.print();\" class=\"share-link share-print\">Print</a>\r\n",
      "  <!-- AddToAny BEGIN -->\r\n",
      "  <a target=\"_blank\" class=\"share-link share-mail\" href=\"http://www.addtoany.com/email\">Email</a>\r\n",
      "  <a target=\"_blank\" class=\"share-link share-all\" href=\"http://www.addtoany.com/share_save\">Share</a>\r\n",
      "  <!-- AddToAny END -->\r\n",
      "</div>\n",
      "        <!-- end Social -->\n",
      "</div><!-- end page -->\n",
      "<footer class=\"footer\" role=\"contentinfo\">\n",
      "<div class=\"container\">\n",
      "<h1 class=\"sr-only\">Contact &amp; Links</h1>\n",
      "<!-- navigation object : Global Footer pre direct edit --><!-- begin Global footer -->\r\n",
      "<section class=\"footer-links row equal-height-columns\">\r\n",
      "    <h2 class=\"sr-only\">Useful Links</h2>\r\n",
      "    <div class=\"col lg-2 md-4 sm-6 equal-height\">\r\n",
      "        <nav>\r\n",
      "            <h3 class=\"fake-h2 title\">\r\n",
      "                Information for\r\n",
      "            </h3>\r\n",
      "            <ul>\n",
      "<li><a href=\"/study/\">Prospective students</a></li>\n",
      "<li><a href=\"/alumni/\">Alumni</a></li>\n",
      "<li><a href=\"/jobs/\">Jobs</a></li>\n",
      "<li><a href=\"/research-and-innovation/support-for-partners/\">Partners and business</a></li>\n",
      "<li><a href=\"/media/\">Media</a></li>\n",
      "<li><a href=\"/giving/\">Donors</a></li>\n",
      "<li><a href=\"/parents/\">Parents</a></li>\n",
      "<li><a href=\"http://www.imperialvenues.co.uk/\" target=\"_blank\">Conference organisers</a></li>\n",
      "</ul>\r\n",
      "        </nav>\r\n",
      "    </div>\r\n",
      "    <div class=\"col lg-2  md-4 sm-6 equal-height\">\r\n",
      "        <nav>\r\n",
      "            <h3 class=\"fake-h2 title\">\r\n",
      "                Top links\r\n",
      "            </h3>\r\n",
      "            <ul>\n",
      "<li><a href=\"/about/imperial-and-the-european-union/\">Imperial and the EU</a></li>\n",
      "<li><a href=\"https://www.imperial.ac.uk/office365\" target=\"_blank\">Outlook 365 web access</a></li>\n",
      "<li><a href=\"/admin-services/ict/contact-ict-service-desk/\">Contact the ICT Service Desk</a></li>\n",
      "<li><a href=\"/admin-services/library/\">Library</a></li>\n",
      "<li><a href=\"/admin-services/ict/self-service/teaching-learning/elearning-services/blackboard/\">Blackboard</a></li>\n",
      "<li><a href=\"/admin-services/sport/\">Sport</a></li>\n",
      "<li><a href=\"/admin-services/registry/term-dates/\">Term dates</a></li>\n",
      "</ul>\r\n",
      "        </nav>\r\n",
      "    </div>\r\n",
      "    <div class=\"col lg-2  md-4 sm-6 equal-height\">\r\n",
      "        <nav>\r\n",
      "            <h3 class=\"fake-h2 title\">\r\n",
      "                Students\r\n",
      "            </h3>\r\n",
      "            <ul>\n",
      "<li><a href=\"/students/\">Imperial students</a></li>\n",
      "<li><a href=\"https://www.imperialcollegeunion.org/\" target=\"_blank\">Imperial College Union</a></li>\n",
      "<li><a href=\"/students/student-hub/\">Student Hub</a></li>\n",
      "<li><a href=\"/admin-services/careers/\">Careers Service</a></li>\n",
      "<li><a href=\"/students/online-services/mobile/\">Imperial Mobile</a></li>\n",
      "<li><a href=\"/students/graduation/\">Graduation</a></li>\n",
      "</ul>\r\n",
      "        </nav>\r\n",
      "    </div>\r\n",
      "    <div class=\"col lg-2  md-4 sm-6 equal-height\">\r\n",
      "        <nav>\r\n",
      "            <h3 class=\"fake-h2 title\">\r\n",
      "                Staff\r\n",
      "            </h3>\r\n",
      "            <ul>\n",
      "<li><a href=\"/staff/\">Staff main page</a></li>\n",
      "<li><a href=\"/admin-services/ict/self-service/admin-systems/icis/\">ICIS</a></li>\n",
      "<li><a href=\"/admin-services/human-resources/procedures/\">HR procedures</a></li>\n",
      "<li><a href=\"/admin-services/human-resources/salaries-terms-and-conditions/\">Salaries, Terms and Conditions</a></li>\n",
      "<li><a href=\"/admin-services/human-resources/working-at-imperial/pension-schemes/\">Pension schemes</a></li>\n",
      "<li><a href=\"/research-and-innovation/support-for-staff/\">Research support</a></li>\n",
      "<li><a href=\"/staff/new-staff/\">Information for new staff</a></li>\n",
      "</ul>\r\n",
      "        </nav>\r\n",
      "    </div>\r\n",
      "    <div class=\"col lg-2  md-4 sm-6 equal-height\">\r\n",
      "        <nav>\r\n",
      "            <h3 class=\"fake-h2 title\">\r\n",
      "                Imperial partners\r\n",
      "            </h3>\r\n",
      "            <ul>\n",
      "<li><a href=\"http://www.imperial.nhs.uk/\" target=\"_blank\">Imperial College Healthcare NHS Trust</a></li>\n",
      "<li><a href=\"http://www.ahsc.org.uk/\" target=\"_blank\">Imperial College Academic Health Science Centre</a></li>\n",
      "<li><a href=\"http://imperialcollegehealthpartners.com/\" target=\"_blank\">Imperial College Health Partners</a></li>\n",
      "<li><a href=\"http://www.imperial-consultants.co.uk/\" target=\"_blank\">Imperial Consultants</a></li>\n",
      "<li><a href=\"http://www.imperialinnovations.co.uk/\" target=\"_blank\">Imperial Innovations</a></li>\n",
      "</ul>\r\n",
      "        </nav>\r\n",
      "    </div>\r\n",
      "    <div class=\"col lg-2  md-4 sm-6 equal-height\">\r\n",
      "        <nav>\r\n",
      "            <h3 class=\"fake-h2 title\">\r\n",
      "                A-Z\r\n",
      "            </h3>\r\n",
      "            <ul>\n",
      "<li><a href=\"/faculties-and-departments/\">Faculties, departments and institutes</a></li>\n",
      "<li><a href=\"/a-z-research/\">Research groups</a></li>\n",
      "<li><a href=\"/admin-services/\">Administration and support services</a></li>\n",
      "<li><a href=\"http://www.imperial.ac.uk/collegedirectory/\" target=\"_blank\">People finder</a></li>\n",
      "</ul>\r\n",
      "        </nav>\r\n",
      "    </div>\r\n",
      "</section>\r\n",
      "<!-- Footer Links End -->\r\n",
      "<section class=\"footer-common row\">\r\n",
      "    <h2 class=\"sr-only\">College Information</h2>\r\n",
      "    <div class=\"col lg-2 md-3 sm-12\" id=\"footer-contact\">\r\n",
      "        <a href=\"#\" class=\"footer-brand\">\r\n",
      "            Imperial College London\r\n",
      "        </a>\r\n",
      "        <h3 class=\"sr-only\">Address</h3>\r\n",
      "        <div class=\"address\">\r\n",
      "            <p itemscope itemtype=\"http://schema.org/PostalAddress\">\r\n",
      "                <span itemprop=\"name\">South Kensington Campus</span><br /><span itemprop=\"addressLocality\">London</span> <span itemprop=\"postalCode\">SW7 2AZ</span>, <span itemprop=\"addressCountry\">UK</span><br /><span itemprop=\"telephone\">tel: +44 (0)20 7589 5111</span>\r\n",
      "                <br />\r\n",
      "                <a href=\"/visit/campuses/\"\r\n",
      "                class=\"location-link\">\r\n",
      "                Campuses &amp; maps\r\n",
      "                </a>\r\n",
      "            </p>\r\n",
      "        </div>\r\n",
      "    </div>\r\n",
      "    <div class=\"col lg-10 md-9 sm-12\" id=\"footer-connect\">\r\n",
      "        <h3 class=\"title\">Follow Imperial</h3>\r\n",
      "        <div class=\"footer-social sm-10\">\r\n",
      "            <a href=\"https://www.facebook.com/imperialcollegelondon\" class=\"facebook\" target=\"_blank\" >Facebook</a>\r\n",
      "            <a href=\"https://twitter.com/imperialcollege\" class=\"twitter\" target=\"_blank\" >Twitter</a>\r\n",
      "            <a href=\"https://www.youtube.com/user/imperialcollegevideo\" class=\"youtube\" target=\"_blank\" >You Tube</a>\r\n",
      "            <a href=\"https://www.linkedin.com/edu/imperial-college-london-12598\" class=\"linkedin\" target=\"_blank\" >Linked in</a>\r\n",
      "            <a href=\"https://instagram.com/imperialcollege\" class=\"instagram\" target=\"_blank\" >Instagram</a>\r\n",
      "            <a href=\"https://www.weibo.com/ImperialUK\" class=\"weibo\" target=\"_blank\" >Weibo</a>\r\n",
      "            \r\n",
      "        </div>\r\n",
      "    </div>\r\n",
      "    <nav id=\"footer-info\">\r\n",
      "        <h3 class=\"sr-only\">Site Information</h3>\r\n",
      "        <ul>\r\n",
      "            \r\n",
      "        <li>\r\n",
      "    <a href=\"/sitemap/\" >Sitemap</a>\r\n",
      "   </li>\r\n",
      "  \r\n",
      "            \r\n",
      "        <li>\r\n",
      "    <a href=\"/about-the-site/accessibility/\" >Accessibility</a>\r\n",
      "   </li>\r\n",
      "  \r\n",
      "\r\n",
      "            \r\n",
      "        <li>\r\n",
      "    <a href=\"/about-the-site/\" >About this site</a>\r\n",
      "   </li>\r\n",
      "  \r\n",
      "\r\n",
      "            \r\n",
      "        <li>\r\n",
      "    <a href=\"/about-the-site/privacy/\" >Privacy notice</a>\r\n",
      "   </li>\r\n",
      "  \r\n",
      "\r\n",
      "            \r\n",
      "        <li>\r\n",
      "    <a href=\"/error/report/\" >Report incorrect content</a>\r\n",
      "   </li>\r\n",
      "  \r\n",
      "            <li class=\"copyright\">\r\n",
      "                <span>&copy;\r\n",
      "                    2018                    Imperial College London\r\n",
      "                </span>\r\n",
      "            </li>\r\n",
      "            <li class=\"hide-sm\">\n",
      "<a class=\"t4Edit-page\" href=\"https://www.imperial.ac.uk/terminalfour/SiteManager?ctfn=content&amp;fnno=30&amp;sid=1994\">Log in</a>\n",
      "<!-- navigation object : Global Footer post direct edit --></li>\r\n",
      "        </ul>\r\n",
      "      </nav>\r\n",
      "    </section>\r\n",
      "  </div> \r\n",
      "  <!-- end Global footer -->\r\n",
      "</footer>\r\n",
      "\r\n",
      "\r\n",
      "\r\n",
      "</div><!--/#content-box -->\r\n",
      "  </body>\r\n",
      "</html>\n",
      "\n"
     ]
    }
   ],
   "source": [
    "My_Data  = webpage_html.decode()\n",
    "print(My_Data)"
   ]
  },
  {
   "cell_type": "markdown",
   "metadata": {},
   "source": [
    "That's a lot of potentially useful information! Let's extract all the names of academics:"
   ]
  },
  {
   "cell_type": "code",
   "execution_count": 298,
   "metadata": {
    "scrolled": true
   },
   "outputs": [
    {
     "name": "stdout",
     "output_type": "stream",
     "text": [
      "Dr Arkhat Abzhanov\n",
      "Dr Arkhat Abzhanov\n",
      "Dr Cristina Banks\n",
      "Dr Tom Bell\n",
      "Dr Martin Bidartondo\n",
      "Dr Martin Bidartondo\n",
      "Dr Martin Brazeau\n",
      "Dr Lauren Cator\n",
      "Dr Matteo Fumagalli\n",
      "Dr Matteo Fumagalli\n",
      "Dr Richard Gill\n",
      "Dr Richard Gill\n",
      "Dr Jason Hodgson\n",
      "Dr Andrew Knight\n",
      "Dr Andrew Knight\n",
      "Dr Morena Mills\n",
      "Dr Morena Mills\n",
      "Dr Samraat Pawar\n",
      "Dr Julia Schroeder\n",
      "Dr Julia Schroeder\n",
      "Dr Joseph Tobias\n",
      "Dr Joseph Tobias\n",
      "Dr Mike Tristem\n",
      "Dr Mike Tristem\n",
      "Dr Magda Charalambous\n",
      "Dr Magda Charalambous\n",
      "Dr Rebecca Kordas\n",
      "Dr Rebecca Kordas\n",
      "Dr Vassiliki Koufopanou\n",
      "Dr Eoin O\n",
      "Dr Eoin O\n",
      "Dr David Orme\n",
      "Dr James Rosindell\n",
      "Dr Chris Wilson\n",
      "Dr Oliver Windram\n",
      "Dr Colin Clubbe\n",
      "Dr George McGavin\n",
      "Dr George McGavin\n",
      "Dr Michael Themis\n",
      "Dr Michael Themis\n"
     ]
    }
   ],
   "source": [
    "pattern = r\"Dr\\s+\\w+\\s+\\w+\"\n",
    "regex = re.compile(pattern) # example use of re.compile(); you can also ignore case  with re.IGNORECASE \n",
    "for match in regex.finditer(My_Data): # example use of re.finditer()\n",
    "    print(match.group())"
   ]
  },
  {
   "cell_type": "markdown",
   "metadata": {},
   "source": [
    "Again, nice! However, its' not perfect. You can improve this by:\n",
    "* Extracting Prof names as well\n",
    "* Eliminating the repeated matches\n",
    "* Grouping to separate title from first and second names\n",
    "* Extracting names that have unexpected characters (e.g., ``O'Gorman'', which are currently not being matched properly)\n",
    "\n",
    "*Try making these improvements.*\n",
    "\n",
    "Of course, you can match and extract other types of patterns as well, such as urls and email addresses (though this example web page does not have email addresses). "
   ]
  },
  {
   "cell_type": "markdown",
   "metadata": {},
   "source": [
    "### Replacing text\n",
    "\n",
    "Using the same web page data, let's try using the `re.sub` command on the same web page data (`My_Data`) to replace text:"
   ]
  },
  {
   "cell_type": "code",
   "execution_count": 315,
   "metadata": {},
   "outputs": [
    {
     "name": "stdout",
     "output_type": "stream",
     "text": [
      "<!DOCTYPE html>\n",
      "<!-- T4 JS layout -->\n",
      "<!--[if IE 8 ]><html lang=\"en-GB\" class=\"lt-ie9 ie8\"> <![endif]-->\n",
      "<!--[if IE 9 ]><html lang=\"en-GB\" class=\"ie9\"> <![endif]-->\n",
      "<!--[if (gt IE 9)|!(IE)]><!--> <html lang=\"en-GB\" class=\"no-js\"> <!--<![endif]-->\n",
      "<head>\n",
      "<meta charset=\"utf-8\" />\n",
      "<title>Academic staff | Visit | Imperial College London</title>\n",
      "<!-- Content page layout -->\n",
      "<meta name=\"twitter:card\" content=\"summary\">\n",
      "<meta name=\"twitter:site\" content=\"@imperialcollege\">\n",
      "<meta name=\"twitter:title\" content=\"Academic staff\">\n",
      "<meta name=\"twitter:description\" content=\"Silwood Park Campus is home to the&nbsp;Department of Life Sciences Evolutionary Biology Theme, the Ecosystems &amp; the Environment Theme&nbsp;and G...\">\n",
      "<meta name=\"twitter:image\" content=\"http://www.imperial.ac.uk/T4Assets/favicon-196x196.png\">\n",
      "<meta name=\"fb:app_id\" content=\"674884772674087\">\n",
      "<meta property=\"og:title\" content=\"Academic staff\" />\n",
      "<meta property=\"og:type\" content=\"website\" />\n",
      "<meta property=\"og:image\" content=\"http://www.imperial.ac.uk/T4Assets/favicon-196x196.png\" />\n",
      "<meta property=\"og:image:type\" content=\"image/png\" />\n",
      "<meta property=\"og:image:secure_url\" content=\"https://www.imperial.ac.uk/T4Assets/favicon-196x196.png\" />\n",
      "<meta property=\"og:image:width\" content=\"200\" /><meta property=\"og:image:height\" content=\"200\" /><meta property=\"og:url\" content=\"http://www.imperial.ac.uk/visit/campuses/silwood-park/academic-staff/\" />\n",
      "<meta property=\"og:description\" content=\"Silwood Park Campus is home to the&nbsp;Department of Life Sciences Evolutionary Biology Theme, the Ecosystems &amp; the Environment Theme&nbsp;and G...\" />\n",
      "<meta property=\"og:locale\" content=\"en_GB\" />\n",
      "<meta property=\"og:site_name\" content=\"Imperial College London\" />\n",
      "\r\n",
      " <!-- meta description -->\n",
      " <!-- seo keyphrases -->\n",
      "<meta name=\"viewport\" content=\"width=device-width, initial-scale=1.0\" />\n",
      "\n",
      "            <!--[if lt IE 9 ]><link href=\"/assets/website/stylesheets/css/screen-ie.css?v=1.6.5\" media=\"all\" rel=\"stylesheet\" type=\"text/css\" /><![endif]-->\r\n",
      "<!--[if IE 9 ]><link href=\"/assets/website/stylesheets/css/screen-ie.css?v=1.6.5\" media=\"all\" rel=\"stylesheet\" type=\"text/css\" /><![endif]-->\r\n",
      "<!--[if (gt IE 9)|!(IE)]><!--><link href=\"/assets/website/stylesheets/css/screen.css?v=1.6.5\" media=\"all\" rel=\"stylesheet\" type=\"text/css\" /><!--<![endif]-->\r\n",
      "\r\n",
      "  <link href=\"/assets/website/stylesheets/css/color-themes.css?v=1.6.5\" media=\"all\" rel=\"stylesheet\" type=\"text/css\" />\r\n",
      "  <link href=\"/assets/website/stylesheets/css/print.css?v=1.6.5\" media=\"print\" rel=\"stylesheet\" type=\"text/css\" />\r\n",
      "\r\n",
      "  <link rel=\"apple-touch-icon-precomposed\" sizes=\"180x180\" href=\"/assets/website/apple-touch-icon-180x180-precomposed.png\" />\r\n",
      "  <link rel=\"apple-touch-icon-precomposed\" sizes=\"152x152\" href=\"/assets/website/apple-touch-icon-152x152-precomposed.png\" />\r\n",
      "  <link rel=\"apple-touch-icon-precomposed\" sizes=\"144x144\" href=\"/assets/website/apple-touch-icon-144x144-precomposed.png\" />\r\n",
      "  <link rel=\"apple-touch-icon-precomposed\" sizes=\"120x120\" href=\"/assets/website/apple-touch-icon-120x120-precomposed.png\" />\r\n",
      "  <link rel=\"apple-touch-icon-precomposed\" sizes=\"76x76\" href=\"/assets/website/apple-touch-icon-76x76-precomposed.png\" />\r\n",
      "  <link rel=\"apple-touch-icon\" href=\"/assets/website/apple-touch-icon.png\" />\r\n",
      "  <link rel=\"shortcut icon\" href=\"/assets/website/favicon-196x196.png\" />\r\n",
      "  <link rel=\"shortcut icon\" href=\"/assets/website/favicon-96x96.png\" />\r\n",
      "  <link rel=\"shortcut icon\" href=\"/assets/website/favicon-32x32.png\" />\r\n",
      "  <link rel=\"shortcut icon\" href=\"/assets/website/favicon.png\" />\r\n",
      "  <link rel=\"icon\" type=\"image/ico\" href=\"/assets/website/favicon.ico\" />\r\n",
      "\r\n",
      "<!--[if lt IE 9 ]><script src=\"/assets/website/js/lib/jquery1.min.js\"></script><![endif]-->\r\n",
      "<!--[if IE 9 ]><script src=\"/assets/website/js/lib/jquery1.min.js\"></script><![endif]-->\r\n",
      "<!--[if (gt IE 9)|!(IE)]><!--><script src=\"/assets/website/js/lib/jquery3.min.js\"></script><!--<![endif]-->\r\n",
      "\r\n",
      "  <script src=\"/assets/website/js/build/application.min.js?v=1.6.5\"></script>\n",
      "        <!-- assets -->\n",
      "\n",
      "            <script type=\"text/javascript\"> \r\n",
      "var _gaq = _gaq || []; \r\n",
      "var pluginUrl = '//www.google-analytics.com/plugins/ga/inpage_linkid.js'; \r\n",
      "_gaq.push(['_require', 'inpage_linkid', pluginUrl]); \r\n",
      "_gaq.push(['_setAccount', 'UA-2035562-1']); \r\n",
      "_gaq.push(['_setDomainName', 'imperial.ac.uk']); \r\n",
      "_gaq.push(['_setAllowLinker', true]); \r\n",
      "_gaq.push(['_addIgnoredRef', 'imperial.ac.uk']); \r\n",
      "_gaq.push(['_setAllowAnchor', true]); \r\n",
      "_gaq.push(['_trackPageview']); \r\n",
      "\r\n",
      "(function() { \r\n",
      "var ga = document.createElement('script'); ga.type = 'text/javascript'; ga.async = true; \r\n",
      "ga.src = ('https:' == document.location.protocol ? 'https://ssl' : 'http://www') + '.google-analytics.com/ga.js'; \r\n",
      "var s = document.getElementsByTagName('script')[0]; s.parentNode.insertBefore(ga, s); \r\n",
      "})(); \r\n",
      "</script>\n",
      "        <!-- Google Analytics -->\n",
      "</head>\n",
      "<body class=\"theme-2\">\n",
      "\n",
      "            <!-- Google Tag Manager -->\r\n",
      "<noscript><iframe src=\"//www.googletagmanager.com/ns.html?id=GTM-PS52\"\r\n",
      "height=\"0\" width=\"0\" class=\"sr-only\"></iframe></noscript>\r\n",
      "<script>(function(w,d,s,l,i){w[l]=w[l]||[];w[l].push({'gtm.start':\r\n",
      "new Date().getTime(),event:'gtm.js'});var f=d.getElementsByTagName(s)[0],\r\n",
      "j=d.createElement(s),dl=l!='dataLayer'?'&l='+l:'';j.async=true;j.src=\r\n",
      "'//www.googletagmanager.com/gtm.js?id='+i+dl;f.parentNode.insertBefore(j,f);\r\n",
      "})(window,document,'script','dataLayer','GTM-PS52');</script>\r\n",
      "<!-- End Google Tag Manager -->\n",
      "        \n",
      "<!-- Accessibility Links -->\n",
      "\n",
      "            <a class=\"skip-to\" id=\"skip-to-content\" href=\"#content\">Skip to main content</a>\r\n",
      "<a class=\"skip-to\" id=\"skip-to-search\" href=\"#q\">Skip to search</a>\r\n",
      "<a class=\"skip-to\" id=\"skip-to-subnav\" href=\"#section-title\">Skip to section menu</a>\r\n",
      "<a class=\"skip-to\" id=\"skip-to-sidebar\" href=\"#secondary-content\">Skip to sidebar menu</a>\r\n",
      "<a class=\"skip-to\" id=\"link-to-accessibility\" href=\"/about-the-site/accessibility/\">View accessibility support page</a>\n",
      "        \n",
      "\n",
      "            <!-- Style Assets : Header -->\r\n",
      "<header id=\"header\" class=\"navigation\">\r\n",
      "  <div class=\"container cf\">\r\n",
      "    <div class=\"navigation-header\">\r\n",
      "      <h1 class=\"logo\"><a href=\"/\" class=\"brand\" title=\"Imperial College London Home\">Imperial College London</a></h1>\r\n",
      "\r\n",
      "<!-- nav : Disaster alert - high level -->\r\n",
      "\r\n",
      "<!-- nav : News and events header -->\r\n",
      "<!-- News and Events Feed - text/header - js -->\n",
      "<section id=\"news-header\">\n",
      " <h2 class=\"show-sm\">Latest News</h2>\n",
      "   <a class=\"news-item\" href=\"//www.imperial.ac.uk/news/188987/hand-stabilising-glove-team-shortlisted-science-start-up\" target=\"_blank\" data-article-id=\"188987\">\n",
      "    <div>\n",
      "     <img alt=\"A wearable tech Imperial startup were finalists of Science Startup of the Year at the Falling Walls conference in Germany.\" src=\"//www.imperial.ac.uk/ImageCropToolT4/imageTool/uploaded-images/newseventsimage_1541763400954_featurenews2012_x1.jpg\">\n",
      "    </div>\n",
      "    <p title=\"A wearable tech Imperial startup were finalists of Science Startup of the Year at the Falling Walls conference in Germany.\">Hand-stabilising glove team shortlisted for Science Start-up of the Year</p>\n",
      "   </a>\n",
      "   <a class=\"news-item\" href=\"//www.imperial.ac.uk/news/189014/six-things-doctors-would-like-know\" target=\"_blank\" data-article-id=\"189014\">\n",
      "    <div>\n",
      "     <img alt=\"Every day healthcare workers around the world are waging war, in what is becoming the fight of our lives.\" src=\"//www.imperial.ac.uk/ImageCropToolT4/imageTool/uploaded-images/newseventsimage_1542026040097_featurenews2012_x1.jpg\">\n",
      "    </div>\n",
      "    <p title=\"Every day healthcare workers around the world are waging war, in what is becoming the fight of our lives.\">Six things doctors would like you to know about antibiotics</p>\n",
      "   </a>\n",
      "   <a class=\"news-item\" href=\"//www.imperial.ac.uk/news/189023/enormous-ghost-galaxy-spotted-hiding-next\" target=\"_blank\" data-article-id=\"189023\">\n",
      "    <div>\n",
      "     <img alt=\"A galaxy a third the size of our own, but extremely faint, has been observed orbiting around the Milky Way.\" src=\"//www.imperial.ac.uk/ImageCropToolT4/imageTool/uploaded-images/newseventsimage_1542041762382_featurenews2012_x1.jpg\">\n",
      "    </div>\n",
      "    <p title=\"A galaxy a third the size of our own, but extremely faint, has been observed orbiting around the Milky Way.\">Enormous ‘ghost’ galaxy spotted hiding next to the Milky Way</p>\n",
      "   </a>\n",
      " <a id=\"btn-news\" href=\"//www.imperial.ac.uk/news\" target=\"_blank\">More News</a>\n",
      "</section><!-- End News &amp Events feed -->\n",
      "\r\n",
      "\r\n",
      "    </div>\r\n",
      "    <nav id=\"primary-nav\" class=\"wide\">\r\n",
      "      <h2 class=\"sr-only\">Main Navigation</h2>\r\n",
      "\r\n",
      "<!-- nav : Common Search code -->\r\n",
      "\n",
      "            <!-- Begin GSA Imperial Search -->\r\n",
      "<div id=\"search-area\">\r\n",
      "  <form method=\"get\" action=\"//google.imperial.ac.uk/search\" id=\"search\">\r\n",
      "    <div id=\"search-inner-wrapper\">\r\n",
      "      <h2 class=\"sr-only\">Search</h2>\r\n",
      "      <label for=\"q\" class=\"sr-only\">Search Imperial</label>\r\n",
      "      <input type=\"text\" name=\"q\" id=\"q\" value=\"\" class=\"clearDefault\" placeholder=\"Search\" title=\"Search for...\">\r\n",
      "    </div>\r\n",
      "    <input type=\"hidden\" value=\"default_collection\" name=\"site\">\r\n",
      "    <input type=\"hidden\" value=\"0\" name=\"sr\">\r\n",
      "    <input type=\"hidden\" value=\"1\" name=\"secure\">\r\n",
      "    <input type=\"hidden\" value=\"default_frontend\" name=\"client\">\r\n",
      "    <input type=\"hidden\" value=\"xml_no_dtd\" name=\"output\">\r\n",
      "    <input type=\"hidden\" value=\"t4_frontend_live\" name=\"proxystylesheet\">\r\n",
      "    <input type=\"hidden\" value=\"UTF-8\" name=\"oe\">\r\n",
      "    <input type=\"hidden\" value=\"UTF-8\" name=\"ie\">\r\n",
      "    <input type=\"hidden\" value=\"date:D:L:d1\" name=\"sort\">\r\n",
      "    <input type=\"hidden\" value=\"a\" name=\"entsp\">\r\n",
      "    <input type=\"hidden\" value=\"200\" name=\"wc\">\r\n",
      "    <input type=\"hidden\" value=\"1\" name=\"wc_mc\">\r\n",
      "    <input type=\"hidden\" value=\"1\" name=\"ud\">\r\n",
      "    <input type=\"hidden\" value=\"1\" name=\"exclude_apps\">\r\n",
      "    <input type=\"hidden\" value=\"*\" name=\"getfields\">\r\n",
      "    <button type=\"submit\" title=\"Search\" id=\"searchSubmit\" class=\"submitButton\">Search</button>\r\n",
      "  </form>\r\n",
      "</div>\r\n",
      "<!-- End GSA Imperial Search -->\n",
      "        \r\n",
      "\r\n",
      "      <ul class=\"nav nav-primary\">\r\n",
      "         <li class=\"has-children mega\">\r\n",
      "          <a class=\"parent\" href=\"#menu-640\" data-parent=\"true\">Study</a>\r\n",
      "          <div id=\"menu-640\" class=\"toggle-content\">\r\n",
      "          <!-- nav : Mega menu first --><!-- Mega menu -->\r\n",
      "  <a href=\"#\" class=\"noscript close-button\">Close</a>\r\n",
      "  <div class=\"child-content equal-height-columns\">\r\n",
      "    <div class=\"col lg-2 md-4 equal-height\">\r\n",
      "      <ul role=\"menu\" class=\"group\">\r\n",
      "        <li><a href=\"/study/\" class=\"overview_link\">Study overview</a></li>\r\n",
      "        <li>\r\n",
      "          <a class=\"parent feature\" href=\"/study/ug/\">Undergraduate</a>\r\n",
      "          <div class=\"toggle-content\">\r\n",
      "            <span class=\"feature-links\">Top Links</span>\r\n",
      "            <ul class=\"child-menu\">\n",
      "<li><a href=\"/study/ug/courses/\">Courses for 2019 entry</a></li>\n",
      "<li><a title=\"How to apply\" href=\"/study/ug/apply/\">How to apply</a></li>\n",
      "<li><a href=\"/study/ug/fees-and-funding/\">Fees and funding</a></li>\n",
      "<li><a href=\"/study/campus-life/accommodation/prospective/ug/\">Accommodation</a></li>\n",
      "<li><a href=\"/study/ug/visit/\">Open days</a></li>\n",
      "<li><a href=\"/study/prospectus/\">Request a prospectus</a></li>\n",
      "</ul>\r\n",
      "          </div>\r\n",
      "        </li>\r\n",
      "      </ul>\r\n",
      "    </div>\r\n",
      "    <div class=\"col lg-2 md-4 equal-height\">\r\n",
      "      <ul role=\"menu\" class=\"group\">\r\n",
      "        <li>\r\n",
      "          <a class=\"parent feature\" href=\"/study/pg/\" >Postgraduate</a>\r\n",
      "          <div class=\"toggle-content\">\r\n",
      "            <span class=\"feature-links\">Top Links</span>\r\n",
      "            <ul class=\"child-menu\">\n",
      "<li><a href=\"/study/pg/courses/\">Courses for 2019&ndash;20</a></li>\n",
      "<li><a href=\"/study/pg/courses/doctoral-courses/\">Doctoral courses</a></li>\n",
      "<li><a href=\"/study/pg/apply/\">How to apply</a></li>\n",
      "<li><a href=\"/study/pg/fees-and-funding/\">Fees and funding</a></li>\n",
      "<li><a href=\"/study/campus-life/accommodation/prospective/pg/\">Accommodation</a></li>\n",
      "</ul>\r\n",
      "          </div>\r\n",
      "        </li>\r\n",
      "      </ul>\r\n",
      "    </div>\r\n",
      "    <div class=\"col lg-2 md-4 equal-height\">\r\n",
      "      <ul role=\"menu\" class=\"group\">\r\n",
      "<li><a href=\"/faculties-and-departments/\"  class=\"feature\">Faculties and departments</a></li>\r\n",
      "\r\n",
      "<li><a href=\"/admin-services/continuing-professional-development/\"  class=\"feature\">Continuing Professional Development </a></li>\r\n",
      "\r\n",
      "<li><a href=\"http://wwwf.imperial.ac.uk/business-school/executive-education/\" target='_blank' class=\"feature\">Executive Education</a></li>\r\n",
      "\r\n",
      "\r\n",
      "<li><a href=\"/admin-services/centre-for-languages-culture-and-communication/\"  class=\"feature\">Centre for Languages Culture and Communication</a></li>\r\n",
      "\r\n",
      "\r\n",
      "\r\n",
      "      </ul>\r\n",
      "    </div>\r\n",
      "    <div class=\"col lg-2 hide-md secondary-content equal-height\">\r\n",
      "      <ul>\r\n",
      "        <li class=\"col\">\r\n",
      "          <a href=\"/study/living-in-london/\"><img srcset=\"/ImageCropToolT4/imageTool/uploaded-images/City_of_London_65396749--tojpeg_1417615028107_x1.jpg 207w, /ImageCropToolT4/imageTool/uploaded-images/City_of_London_65396749--tojpeg_1417615028107_x2.jpg 414w, /ImageCropToolT4/imageTool/uploaded-images/City_of_London_65396749--tojpeg_1417615028107_x4.jpg 828w, /ImageCropToolT4/imageTool/uploaded-images/City_of_London_65396749--tojpeg_1417615028107_x1.jpg 1x, /ImageCropToolT4/imageTool/uploaded-images/City_of_London_65396749--tojpeg_1417615028107_x2.jpg 2x, /ImageCropToolT4/imageTool/uploaded-images/City_of_London_65396749--tojpeg_1417615028107_x4.jpg 3x\" sizes=\"(min-width: 1520px) 207px, (min-width: 1025px) calc((100vw - 116px) / 6), (min-width: 930px) calc((100vw - 84px) / 3), 25vw\" alt=\"St Paul's Cathedral \" src=\"/ImageCropToolT4/imageTool/uploaded-images/City_of_London_65396749--tojpeg_1417615028107_x1.jpg\"><span>Living in London</span>London&rsquo;s fusion of culture, charm and career opportunities is hard to beat</a>\r\n",
      "        </li>\r\n",
      "      </ul>\r\n",
      "    </div>\r\n",
      "    <div class=\"col lg-2 hide-md secondary-content equal-height\">\r\n",
      "      <ul>\r\n",
      "        <li class=\"col\">\r\n",
      "          <a href=\"/study/international-students/\"><img srcset=\"/ImageCropToolT4/imageTool/uploaded-images/ICL_Graduation_406--tojpeg_1417616392639_x1.jpg 207w, /ImageCropToolT4/imageTool/uploaded-images/ICL_Graduation_406--tojpeg_1417616392639_x2.jpg 414w, /ImageCropToolT4/imageTool/uploaded-images/ICL_Graduation_406--tojpeg_1417616392639_x4.jpg 828w, /ImageCropToolT4/imageTool/uploaded-images/ICL_Graduation_406--tojpeg_1417616392639_x1.jpg 1x, /ImageCropToolT4/imageTool/uploaded-images/ICL_Graduation_406--tojpeg_1417616392639_x2.jpg 2x, /ImageCropToolT4/imageTool/uploaded-images/ICL_Graduation_406--tojpeg_1417616392639_x4.jpg 3x\" sizes=\"(min-width: 1520px) 207px, (min-width: 1025px) calc((100vw - 116px) / 6), (min-width: 930px) calc((100vw - 84px) / 3), 25vw\" alt=\"International students\" src=\"/ImageCropToolT4/imageTool/uploaded-images/ICL_Graduation_406--tojpeg_1417616392639_x1.jpg\"><span>International students</span>Students come from over 140 different countries to study at Imperial</a>\r\n",
      "        </li>\r\n",
      "      </ul>\r\n",
      "    </div>\r\n",
      "    <div class=\"col lg-2 hide-md secondary-content equal-height\">\r\n",
      "      <ul>\r\n",
      "        <li class=\"col\">\r\n",
      "          <a href=\"/study/campus-life/\"><img srcset=\"/ImageCropToolT4/imageTool/uploaded-images/imp_130820_campus1_lib_008--tojpeg_1417607683035_x2--tojpeg_1417682075073_x1.jpg 207w, /ImageCropToolT4/imageTool/uploaded-images/imp_130820_campus1_lib_008--tojpeg_1417607683035_x2--tojpeg_1417682075073_x2.jpg 414w, /ImageCropToolT4/imageTool/uploaded-images/imp_130820_campus1_lib_008--tojpeg_1417607683035_x2--tojpeg_1417682075073_x4.jpg 828w, /ImageCropToolT4/imageTool/uploaded-images/imp_130820_campus1_lib_008--tojpeg_1417607683035_x2--tojpeg_1417682075073_x1.jpg 1x, /ImageCropToolT4/imageTool/uploaded-images/imp_130820_campus1_lib_008--tojpeg_1417607683035_x2--tojpeg_1417682075073_x2.jpg 2x, /ImageCropToolT4/imageTool/uploaded-images/imp_130820_campus1_lib_008--tojpeg_1417607683035_x2--tojpeg_1417682075073_x4.jpg 3x\" sizes=\"(min-width: 1520px) 207px, (min-width: 1025px) calc((100vw - 116px) / 6), (min-width: 930px) calc((100vw - 84px) / 3), 25vw\" alt=\"Queen's Lawn\" src=\"/ImageCropToolT4/imageTool/uploaded-images/imp_130820_campus1_lib_008--tojpeg_1417607683035_x2--tojpeg_1417682075073_x1.jpg\"><span>Campus life</span>Experience what it's like to be a member of the College community</a>\r\n",
      "        </li>\r\n",
      "      </ul>\r\n",
      "    </div>\r\n",
      "  </div>\r\n",
      "<!-- end Mega menu -->\r\n",
      "          </div>\r\n",
      "         </li>\r\n",
      "         <li class=\"has-children mega\">\r\n",
      "          <a class=\"parent\" href=\"#menu-641\" data-parent=\"true\">Research &amp; Innovation</a>\r\n",
      "          <div id=\"menu-641\" class=\"toggle-content\">\r\n",
      "          <!-- nav : Mega menu second --><!-- Mega menu -->\r\n",
      "  <a href=\"#\" class=\"noscript close-button\">Close</a>\r\n",
      "  <div class=\"child-content equal-height-columns\">\r\n",
      "    <div class=\"col lg-2 md-4 equal-height\">\r\n",
      "      <ul role=\"menu\" class=\"group\">\r\n",
      "        <li><a href=\"/research-and-innovation/\" class=\"overview_link\">Research and Innovation </a></li>\r\n",
      "        <li>\r\n",
      "          <a class=\"parent feature\" href=\"/research-and-innovation/support-for-partners/\">Partner with us</a>\r\n",
      "          <div class=\"toggle-content\">\r\n",
      "            <span class=\"feature-links\">At a glance</span>\r\n",
      "            <ul>\n",
      "<li><a href=\"/medicine/research-and-impact/groups/clinical-trials-unit/collaborations/\">Clinical Trials</a></li>\n",
      "<li><a href=\"/admin-services/enterprise/\">Collaborations</a></li>\n",
      "<li><a href=\"http://www.imperialinnovations.co.uk/\" target=\"_blank\">Commercialisation</a></li>\n",
      "<li><a href=\"http://www.imperial-consultants.co.uk/\" target=\"_blank\">Consultancy</a></li>\n",
      "<li><a href=\"http://wwwf.imperial.ac.uk/business-school/executive-education/\">Executive education</a></li>\n",
      "<li><a href=\"/research-and-innovation/support-for-partners/a-z-partners/\">A-Z services for partners</a></li>\n",
      "</ul>\r\n",
      "          </div>\r\n",
      "        </li>\r\n",
      "      </ul>\r\n",
      "    </div>\r\n",
      "    <div class=\"col lg-2 md-4 equal-height\">\r\n",
      "      <ul role=\"menu\" class=\"group\">\r\n",
      "        <li>\r\n",
      "          <a class=\"parent feature\" href=\"/research-and-innovation/support-for-staff/\" >Research support</a>\r\n",
      "          <div class=\"toggle-content\">\r\n",
      "            <span class=\"feature-links\">At a glance</span>\r\n",
      "            <ul>\n",
      "<li><a href=\"/research-and-innovation/support-for-staff/\">Resources for staff</a></li>\n",
      "<li><a href=\"/research-and-innovation/support-for-staff/research-office/\">Research Office</a></li>\n",
      "<li><a href=\"/research-and-innovation/support-for-staff/faculty-research-services-teams/\">Faculty research services teams</a></li>\n",
      "<li><a href=\"/research-and-innovation/about-imperial-research/research-integrity/\">Research integrity</a></li>\n",
      "<li><a href=\"/medicine/research-and-impact/groups/clinical-trials-unit/\">Clinical Trials</a></li>\n",
      "<li><a href=\"/about/introducing-imperial/global-imperial/\">Global Imperial</a></li>\n",
      "</ul>\r\n",
      "          </div>\r\n",
      "        </li>\r\n",
      "      </ul>\r\n",
      "    </div>\r\n",
      "    <div class=\"col lg-2 md-4 equal-height\">\r\n",
      "      <ul role=\"menu\" class=\"group\">\r\n",
      "<li><a href=\"/about/leadership-and-strategy/strategy/\"  class=\"feature\">College Strategy 2015-2020</a></li>\r\n",
      "\r\n",
      "<li><a href=\"/faculties-and-departments/\"  class=\"feature\">Faculties and departments</a></li>\r\n",
      "\r\n",
      "<li><a href=\"/a-z-research/\"  class=\"feature\">A-Z research groups and centres</a></li>\r\n",
      "\r\n",
      "\r\n",
      "<li><a href=\"/research-and-innovation/support-for-staff/research-office/funder-information/funding-opportunities/\"  class=\"feature\">Funding opportunities</a></li>\r\n",
      "\r\n",
      "<li><a href=\"/research-and-innovation/about-imperial-research/ref/\"  class=\"feature\">REF 2021</a></li>\r\n",
      "\r\n",
      "      </ul>\r\n",
      "    </div>\r\n",
      "    <div class=\"col lg-2 hide-md secondary-content equal-height\">\r\n",
      "      <ul>\r\n",
      "        <li class=\"col\">\r\n",
      "          <a href=\"/research-and-innovation/impact/\"><img srcset=\"/ImageCropToolT4/imageTool/uploaded-images/Impact--tojpeg_1417606493780_x1.jpg 207w, /ImageCropToolT4/imageTool/uploaded-images/Impact--tojpeg_1417606493780_x2.jpg 414w, /ImageCropToolT4/imageTool/uploaded-images/Impact--tojpeg_1417606493780_x4.jpg 828w, /ImageCropToolT4/imageTool/uploaded-images/Impact--tojpeg_1417606493780_x1.jpg 1x, /ImageCropToolT4/imageTool/uploaded-images/Impact--tojpeg_1417606493780_x2.jpg 2x, /ImageCropToolT4/imageTool/uploaded-images/Impact--tojpeg_1417606493780_x4.jpg 3x\" sizes=\"(min-width: 1520px) 207px, (min-width: 1025px) calc((100vw - 116px) / 6), (min-width: 930px) calc((100vw - 84px) / 3), 25vw\" alt=\"Brain scans\" src=\"/ImageCropToolT4/imageTool/uploaded-images/Impact--tojpeg_1417606493780_x1.jpg\"><span>Imperial&rsquo;s impact</span>Read case studies about how Imperial research has made a difference</a>\r\n",
      "        </li>\r\n",
      "      </ul>\r\n",
      "    </div>\r\n",
      "    <div class=\"col lg-2 hide-md secondary-content equal-height\">\r\n",
      "      <ul>\r\n",
      "        <li class=\"col\">\r\n",
      "          <a href=\"http://www.imperial.ac.uk/news\" target=\"_blank\"><img srcset=\"/ImageCropToolT4/imageTool/uploaded-images/Impact--tojpeg_1417606493780_x1.jpg 207w, /ImageCropToolT4/imageTool/uploaded-images/Impact--tojpeg_1417606493780_x2.jpg 414w, /ImageCropToolT4/imageTool/uploaded-images/Impact--tojpeg_1417606493780_x4.jpg 828w, /ImageCropToolT4/imageTool/uploaded-images/Impact--tojpeg_1417606493780_x1.jpg 1x, /ImageCropToolT4/imageTool/uploaded-images/Impact--tojpeg_1417606493780_x2.jpg 2x, /ImageCropToolT4/imageTool/uploaded-images/Impact--tojpeg_1417606493780_x4.jpg 3x\" sizes=\"(min-width: 1520px) 207px, (min-width: 1025px) calc((100vw - 116px) / 6), (min-width: 930px) calc((100vw - 84px) / 3), 25vw\" alt=\"Brain scans\" src=\"/ImageCropToolT4/imageTool/uploaded-images/Impact--tojpeg_1417606493780_x1.jpg\"><span>Research news</span>Keep up to date with Imperial&rsquo;s cutting edge discoveries</a>\r\n",
      "        </li>\r\n",
      "      </ul>\r\n",
      "    </div>\r\n",
      "    <div class=\"col lg-2 hide-md secondary-content equal-height\">\r\n",
      "      <ul>\r\n",
      "        <li class=\"col\">\r\n",
      "          <a href=\"/students/enterprising-students/\"><img srcset=\"/ImageCropToolT4/imageTool/uploaded-images/Student-enterprise--tojpeg_1417606898127_x1.jpg 207w, /ImageCropToolT4/imageTool/uploaded-images/Student-enterprise--tojpeg_1417606898127_x2.jpg 414w, /ImageCropToolT4/imageTool/uploaded-images/Student-enterprise--tojpeg_1417606898127_x4.jpg 828w, /ImageCropToolT4/imageTool/uploaded-images/Student-enterprise--tojpeg_1417606898127_x1.jpg 1x, /ImageCropToolT4/imageTool/uploaded-images/Student-enterprise--tojpeg_1417606898127_x2.jpg 2x, /ImageCropToolT4/imageTool/uploaded-images/Student-enterprise--tojpeg_1417606898127_x4.jpg 3x\" sizes=\"(min-width: 1520px) 207px, (min-width: 1025px) calc((100vw - 116px) / 6), (min-width: 930px) calc((100vw - 84px) / 3), 25vw\" alt=\"In the lab\" src=\"/ImageCropToolT4/imageTool/uploaded-images/Student-enterprise--tojpeg_1417606898127_x1.jpg\"><span>Enterprising students</span>Find out how our students develop their entrepreneurial &amp; innovative ideas </a>\r\n",
      "        </li>\r\n",
      "      </ul>\r\n",
      "    </div>\r\n",
      "  </div>\r\n",
      "<!-- end Mega menu -->\r\n",
      "          </div>\r\n",
      "         </li>\r\n",
      "         <li class=\"has-children mega\">\r\n",
      "          <a class=\"parent\" href=\"#menu-642\" data-parent=\"true\">Be Inspired</a>\r\n",
      "          <div id=\"menu-642\" class=\"toggle-content\">\r\n",
      "          <!-- nav : Mega menu third --><!-- Mega menu -->\r\n",
      "  <a href=\"#\" class=\"noscript close-button\">Close</a>\r\n",
      "  <div class=\"child-content equal-height-columns\">\r\n",
      "    <div class=\"col lg-2 md-4 equal-height\">\r\n",
      "      <ul role=\"menu\" class=\"group\">\r\n",
      "        <li><a href=\"/be-inspired/\" class=\"overview_link\">Be Inspired</a></li>\r\n",
      "        <li>\r\n",
      "          <a class=\"parent feature\" href=\"/be-inspired/\">Take part</a>\r\n",
      "          <div class=\"toggle-content\">\r\n",
      "            <span class=\"feature-links\">Top links</span>\r\n",
      "            <ul>\n",
      "<li><a href=\"/be-inspired/student-recruitment-and-outreach/\">Schools activities</a></li>\n",
      "<li><a href=\"/whats-on/\">Public events</a></li>\n",
      "<li><a href=\"/be-inspired/festival/\">Festival</a></li>\n",
      "<li><a href=\"/alumni/events/\">Alumni events</a></li>\n",
      "</ul>\r\n",
      "          </div>\r\n",
      "        </li>\r\n",
      "      </ul>\r\n",
      "    </div>\r\n",
      "    <div class=\"col lg-2 md-4 equal-height\">\r\n",
      "      <ul role=\"menu\" class=\"group\">\r\n",
      "        <li>\r\n",
      "          <a class=\"parent feature\" href=\"/be-inspired/social-and-multimedia/\" >Engage online</a>\r\n",
      "          <div class=\"toggle-content\">\r\n",
      "            <span class=\"feature-links\">Top links</span>\r\n",
      "            <ul>\n",
      "<li><a href=\"/be-inspired/social-and-multimedia/lectures-online/\">Lectures online</a></li>\n",
      "<li><a href=\"/be-inspired/social-and-multimedia/podcasts/\">Podcasts</a></li>\n",
      "<li><a href=\"/be-inspired/social-and-multimedia/itunesu/\">iTunes U</a></li>\n",
      "</ul>\r\n",
      "          </div>\r\n",
      "        </li>\r\n",
      "      </ul>\r\n",
      "    </div>\r\n",
      "    <div class=\"col lg-2 md-4 equal-height\">\r\n",
      "      <ul role=\"menu\" class=\"group\">\r\n",
      "<li><a href=\"/be-inspired/social-and-multimedia/directory/\"  class=\"feature\">Social media directory</a></li>\r\n",
      "\r\n",
      "<li><a href=\"/be-inspired/volunteering/\"  class=\"feature\">Staff and student volunteering</a></li>\r\n",
      "\r\n",
      "<li><a href=\"/be-inspired/magazine/\"  class=\"feature\">Imperial magazine</a></li>\r\n",
      "\r\n",
      "\r\n",
      "<li><a href=\"/be-inspired/societal-engagement/\"  class=\"feature\">Societal engagement</a></li>\r\n",
      "\r\n",
      "\r\n",
      "\r\n",
      "      </ul>\r\n",
      "    </div>\r\n",
      "    <div class=\"col lg-2 hide-md secondary-content equal-height\">\r\n",
      "      <ul>\r\n",
      "        <li class=\"col\">\r\n",
      "          <a href=\"/be-inspired/social-and-multimedia/podcasts/\"><img srcset=\"/ImageCropToolT4/imageTool/uploaded-images/15-02-ImperialPodcast_banner_4--tojpeg_1431608741948_x1.jpg 207w, /ImageCropToolT4/imageTool/uploaded-images/15-02-ImperialPodcast_banner_4--tojpeg_1431608741948_x2.jpg 414w, /ImageCropToolT4/imageTool/uploaded-images/15-02-ImperialPodcast_banner_4--tojpeg_1431608741948_x4.jpg 828w, /ImageCropToolT4/imageTool/uploaded-images/15-02-ImperialPodcast_banner_4--tojpeg_1431608741948_x1.jpg 1x, /ImageCropToolT4/imageTool/uploaded-images/15-02-ImperialPodcast_banner_4--tojpeg_1431608741948_x2.jpg 2x, /ImageCropToolT4/imageTool/uploaded-images/15-02-ImperialPodcast_banner_4--tojpeg_1431608741948_x4.jpg 3x\" sizes=\"(min-width: 1520px) 207px, (min-width: 1025px) calc((100vw - 116px) / 6), (min-width: 930px) calc((100vw - 84px) / 3), 25vw\" alt=\"Podcasts\" src=\"/ImageCropToolT4/imageTool/uploaded-images/15-02-ImperialPodcast_banner_4--tojpeg_1431608741948_x1.jpg\"><span>Imperial College Podcast</span>presented by Gareth Mitchell and the Communications &amp; Public Affairs pod squad</a>\r\n",
      "        </li>\r\n",
      "      </ul>\r\n",
      "    </div>\r\n",
      "    <div class=\"col lg-2 hide-md secondary-content equal-height\">\r\n",
      "      <ul>\r\n",
      "        <li class=\"col\">\r\n",
      "          <a href=\"https://www.imperial.ac.uk/media/imperial-today/?utm_source=website&utm_medium=mega-menu&utm_campaign=imperial-today\" target=\"_blank\"><img srcset=\"/ImageCropToolT4/imageTool/uploaded-images/IT-survey1--tojpeg_1525171251932_x1.jpg 207w, /ImageCropToolT4/imageTool/uploaded-images/IT-survey1--tojpeg_1525171251932_x2.jpg 414w, /ImageCropToolT4/imageTool/uploaded-images/IT-survey1--tojpeg_1525171251932_x4.jpg 828w, /ImageCropToolT4/imageTool/uploaded-images/IT-survey1--tojpeg_1525171251932_x1.jpg 1x, /ImageCropToolT4/imageTool/uploaded-images/IT-survey1--tojpeg_1525171251932_x2.jpg 2x, /ImageCropToolT4/imageTool/uploaded-images/IT-survey1--tojpeg_1525171251932_x4.jpg 3x\" sizes=\"(min-width: 1520px) 207px, (min-width: 1025px) calc((100vw - 116px) / 6), (min-width: 930px) calc((100vw - 84px) / 3), 25vw\" alt=\"Imperial Today\" src=\"/ImageCropToolT4/imageTool/uploaded-images/IT-survey1--tojpeg_1525171251932_x1.jpg\"><span>Imperial Today</span>Subscribe to our daily newsletter and receive the best stories from Imperial direct to your inbox</a>\r\n",
      "        </li>\r\n",
      "      </ul>\r\n",
      "    </div>\r\n",
      "    <div class=\"col lg-2 hide-md secondary-content equal-height\">\r\n",
      "      <ul>\r\n",
      "        <li class=\"col\">\r\n",
      "          <a href=\"http://wwwf.imperial.ac.uk/blog/student-blogs/\" target=\"_blank\"><img srcset=\"/ImageCropToolT4/imageTool/uploaded-images/Student-blogs--tojpeg_1514904013265_x1.jpg 207w, /ImageCropToolT4/imageTool/uploaded-images/Student-blogs--tojpeg_1514904013265_x2.jpg 414w, /ImageCropToolT4/imageTool/uploaded-images/Student-blogs--tojpeg_1514904013265_x4.jpg 828w, /ImageCropToolT4/imageTool/uploaded-images/Student-blogs--tojpeg_1514904013265_x1.jpg 1x, /ImageCropToolT4/imageTool/uploaded-images/Student-blogs--tojpeg_1514904013265_x2.jpg 2x, /ImageCropToolT4/imageTool/uploaded-images/Student-blogs--tojpeg_1514904013265_x4.jpg 3x\" sizes=\"(min-width: 1520px) 207px, (min-width: 1025px) calc((100vw - 116px) / 6), (min-width: 930px) calc((100vw - 84px) / 3), 25vw\" alt=\"Student Blog home page\" src=\"/ImageCropToolT4/imageTool/uploaded-images/Student-blogs--tojpeg_1514904013265_x1.jpg\"><span>Student blogs</span>Find out about life on campus from our team of student bloggers</a>\r\n",
      "        </li>\r\n",
      "      </ul>\r\n",
      "    </div>\r\n",
      "  </div>\r\n",
      "<!-- end Mega menu -->\r\n",
      "          </div>\r\n",
      "         </li>\r\n",
      "         <li class=\"has-children mega\">\r\n",
      "          <a class=\"parent\" href=\"#menu-643\" data-parent=\"true\">About</a>\r\n",
      "          <div id=\"menu-643\" class=\"toggle-content\">\r\n",
      "          <!-- nav : Mega menu fourth --><!-- Mega menu -->\r\n",
      "  <a href=\"#\" class=\"noscript close-button\">Close</a>\r\n",
      "  <div class=\"child-content equal-height-columns\">\r\n",
      "    <div class=\"col lg-2 md-4 equal-height\">\r\n",
      "      <ul role=\"menu\" class=\"group\">\r\n",
      "        <li><a href=\"/about/\" class=\"overview_link\">About</a></li>\r\n",
      "        <li>\r\n",
      "          <a class=\"parent feature\" href=\"/about/introducing-imperial/\">The College</a>\r\n",
      "          <div class=\"toggle-content\">\r\n",
      "            <span class=\"feature-links\">Overview</span>\r\n",
      "            <ul>\n",
      "<li><a href=\"/about/leadership-and-strategy/strategy/\">Strategy 2015-2020</a></li>\n",
      "<li><a href=\"/about/introducing-imperial/league-tables/\">League tables</a></li>\n",
      "<li><a href=\"/about/introducing-imperial/facts-and-figures/\">Facts and figures</a></li>\n",
      "<li><a href=\"/admin-services/secretariat/college-governance/\">College governance</a></li>\n",
      "<li><span id=\"t4_content_element_Column3Link2Internal-path\"><a href=\"/admin-services/\">Administration and support services</a></span></li>\n",
      "<li><a href=\"/about/history/college-developments/\"><span>Imperial timeline</span></a></li>\n",
      "</ul>\r\n",
      "          </div>\r\n",
      "        </li>\r\n",
      "      </ul>\r\n",
      "    </div>\r\n",
      "    <div class=\"col lg-2 md-4 equal-height\">\r\n",
      "      <ul role=\"menu\" class=\"group\">\r\n",
      "        <li>\r\n",
      "          <a class=\"parent feature\" href=\"/about/introducing-imperial/our-people/\" >Our people</a>\r\n",
      "          <div class=\"toggle-content\">\r\n",
      "            <span class=\"feature-links\">At a glance</span>\r\n",
      "            <ul>\n",
      "<li><a href=\"/about/leadership-and-strategy/president/\">President</a></li>\n",
      "<li><a href=\"/about/leadership-and-strategy/provost/\">Provost</a></li>\n",
      "<li><a href=\"/about/introducing-imperial/our-people/eminent-alumni/\">Eminent alumni</a></li>\n",
      "<li><a href=\"/about/introducing-imperial/our-people/award-winners/\">Award winners</a></li>\n",
      "<li><a href=\"http://wwwf.imperial.ac.uk/blog/imperial-people/\" title=\"Recognising our people\">Recognising our people</a></li>\n",
      "</ul>\r\n",
      "          </div>\r\n",
      "        </li>\r\n",
      "      </ul>\r\n",
      "    </div>\r\n",
      "    <div class=\"col lg-2 md-4 equal-height\">\r\n",
      "      <ul role=\"menu\" class=\"group\">\r\n",
      "<li><a href=\"/faculties-and-departments/\"  class=\"feature\">A - Z of Faculties and Departments</a></li>\r\n",
      "\r\n",
      "<li><a href=\"/engineering/\"  class=\"feature\">Faculty of Engineering</a></li>\r\n",
      "\r\n",
      "<li><a href=\"/medicine/\"  class=\"feature\">Faculty of Medicine</a></li>\r\n",
      "\r\n",
      "\r\n",
      "<li><a href=\"/natural-sciences/\"  class=\"feature\">Faculty of Natural Sciences</a></li>\r\n",
      "\r\n",
      "<li><a href=\"http://www.imperial.ac.uk/business-school/\" target='_blank' class=\"feature\">Imperial College Business School</a></li>\r\n",
      "\r\n",
      "      </ul>\r\n",
      "    </div>\r\n",
      "    <div class=\"col lg-2 hide-md secondary-content equal-height\">\r\n",
      "      <ul>\r\n",
      "        <li class=\"col\">\r\n",
      "          <a href=\"/about/introducing-imperial/global-imperial/\"><img srcset=\"/ImageCropToolT4/imageTool/uploaded-images/Lion--tojpeg_1417185738698_x1.jpg 207w, /ImageCropToolT4/imageTool/uploaded-images/Lion--tojpeg_1417185738698_x2.jpg 414w, /ImageCropToolT4/imageTool/uploaded-images/Lion--tojpeg_1417185738698_x4.jpg 828w, /ImageCropToolT4/imageTool/uploaded-images/Lion--tojpeg_1417185738698_x1.jpg 1x, /ImageCropToolT4/imageTool/uploaded-images/Lion--tojpeg_1417185738698_x2.jpg 2x, /ImageCropToolT4/imageTool/uploaded-images/Lion--tojpeg_1417185738698_x4.jpg 3x\" sizes=\"(min-width: 1520px) 207px, (min-width: 1025px) calc((100vw - 116px) / 6), (min-width: 930px) calc((100vw - 84px) / 3), 25vw\" alt=\"Lion\" src=\"/ImageCropToolT4/imageTool/uploaded-images/Lion--tojpeg_1417185738698_x1.jpg\"><span>Global Imperial</span>We are the UK's most international university </a>\r\n",
      "        </li>\r\n",
      "      </ul>\r\n",
      "    </div>\r\n",
      "    <div class=\"col lg-2 hide-md secondary-content equal-height\">\r\n",
      "      <ul>\r\n",
      "        <li class=\"col\">\r\n",
      "          <a href=\"/visit/campuses/\"><img srcset=\"/ImageCropToolT4/imageTool/uploaded-images/campus--tojpeg_1416836905639_x1.jpg 207w, /ImageCropToolT4/imageTool/uploaded-images/campus--tojpeg_1416836905639_x2.jpg 414w, /ImageCropToolT4/imageTool/uploaded-images/campus--tojpeg_1416836905639_x4.jpg 828w, /ImageCropToolT4/imageTool/uploaded-images/campus--tojpeg_1416836905639_x1.jpg 1x, /ImageCropToolT4/imageTool/uploaded-images/campus--tojpeg_1416836905639_x2.jpg 2x, /ImageCropToolT4/imageTool/uploaded-images/campus--tojpeg_1416836905639_x4.jpg 3x\" sizes=\"(min-width: 1520px) 207px, (min-width: 1025px) calc((100vw - 116px) / 6), (min-width: 930px) calc((100vw - 84px) / 3), 25vw\" alt=\"Our campuses\" src=\"/ImageCropToolT4/imageTool/uploaded-images/campus--tojpeg_1416836905639_x1.jpg\"><span>Our campuses</span>Explore our London locations</a>\r\n",
      "        </li>\r\n",
      "      </ul>\r\n",
      "    </div>\r\n",
      "    <div class=\"col lg-2 hide-md secondary-content equal-height\">\r\n",
      "      <ul>\r\n",
      "        <li class=\"col\">\r\n",
      "          <a href=\"/about/leadership-and-strategy/white-city-campus/\"><img srcset=\"/ImageCropToolT4/imageTool/uploaded-images/Mega-menu-White-City-Campus-image--tojpeg_1493969367737_x1.jpg 207w, /ImageCropToolT4/imageTool/uploaded-images/Mega-menu-White-City-Campus-image--tojpeg_1493969367737_x2.jpg 414w, /ImageCropToolT4/imageTool/uploaded-images/Mega-menu-White-City-Campus-image--tojpeg_1493969367737_x4.jpg 828w, /ImageCropToolT4/imageTool/uploaded-images/Mega-menu-White-City-Campus-image--tojpeg_1493969367737_x1.jpg 1x, /ImageCropToolT4/imageTool/uploaded-images/Mega-menu-White-City-Campus-image--tojpeg_1493969367737_x2.jpg 2x, /ImageCropToolT4/imageTool/uploaded-images/Mega-menu-White-City-Campus-image--tojpeg_1493969367737_x4.jpg 3x\" sizes=\"(min-width: 1520px) 207px, (min-width: 1025px) calc((100vw - 116px) / 6), (min-width: 930px) calc((100vw - 84px) / 3), 25vw\" alt=\"White City Campus\" src=\"/ImageCropToolT4/imageTool/uploaded-images/Mega-menu-White-City-Campus-image--tojpeg_1493969367737_x1.jpg\"><span>White City Campus</span>Imperial&rsquo;s research and innovation district</a>\r\n",
      "        </li>\r\n",
      "      </ul>\r\n",
      "    </div>\r\n",
      "  </div>\r\n",
      "<!-- end Mega menu -->\r\n",
      "          </div>\r\n",
      "         </li>\r\n",
      "      </ul>\r\n",
      "\r\n",
      "<!-- nav : Secondary navigation - overall -->\r\n",
      "<!-- Secondary links -->\r\n",
      " <ul class=\"nav nav-secondary\">\r\n",
      "\r\n",
      "    \r\n",
      "          <li>\r\n",
      "        <a href=\"/visit/\" >Visit</a>\r\n",
      "      </li>\r\n",
      "    \r\n",
      "\r\n",
      "    \r\n",
      "          <li>\r\n",
      "        <a href=\"/whats-on/\" >What's on</a>\r\n",
      "      </li>\r\n",
      "    \r\n",
      "\r\n",
      "         <li class=\"only-fixed\">\r\n",
      "           <a href=\"/news/\">News</a>\r\n",
      "         </li>\r\n",
      "\r\n",
      "        \r\n",
      "          <li>\r\n",
      "        <a href=\"/giving/\" >Give</a>\r\n",
      "      </li>\r\n",
      "    \r\n",
      "\r\n",
      "         <li class=\"has-children\">\r\n",
      "          <a class=\"non-link\" href=\"#menu-645\" data-toggle=\"collapse\">A-Z</a>\r\n",
      "          <div id=\"menu-645\" class=\"toggle-content\">\r\n",
      "            <div class=\"child-content\">\r\n",
      "              <ul role=\"menu\" class=\"group\">\r\n",
      "               <li class=\"noscript\"><a href=\"#\" class=\"close-button\">Close</a></li>\r\n",
      "               \r\n",
      "        <li>\r\n",
      "    <a href=\"/faculties-and-departments/\" >Faculties and departments</a>\r\n",
      "   </li>\r\n",
      "  \r\n",
      "        <li>\r\n",
      "    <a href=\"/multidisciplinary-research/\" >Multidisciplinary networks, centres and institutes</a>\r\n",
      "   </li>\r\n",
      "  \r\n",
      "        <li>\r\n",
      "    <a href=\"/a-z-research/\" >Research groups</a>\r\n",
      "   </li>\r\n",
      "  \r\n",
      "        <li>\r\n",
      "    <a href=\"http://www.imperial.ac.uk/collegedirectory/\" target='_blank'>People finder</a>\r\n",
      "   </li>\r\n",
      "  \r\n",
      "        <li>\r\n",
      "    <a href=\"/admin-services/\" >Administration and support services</a>\r\n",
      "   </li>\r\n",
      "   <!-- a-z content -->\r\n",
      "              </ul>\r\n",
      "            </div>\r\n",
      "          </div>\r\n",
      "         </li>\r\n",
      "         <li class=\"has-children shorten\">\r\n",
      "          <a class=\"non-link\" href=\"#menu-646\" data-toggle=\"collapse\">Information for</a>\r\n",
      "           <div id=\"menu-646\" class=\"toggle-content\">\r\n",
      "            <div class=\"child-content\">\r\n",
      "              <ul role=\"menu\" class=\"group\">\r\n",
      "                 <li class=\"noscript\"><a href=\"#\" class=\"close-button\">Close</a></li>\r\n",
      "                 \r\n",
      "        <li>\r\n",
      "    <a href=\"/study/\" >Prospective students</a>\r\n",
      "   </li>\r\n",
      "  \r\n",
      "        <li>\r\n",
      "    <a href=\"/students/\" >Current students</a>\r\n",
      "   </li>\r\n",
      "  \r\n",
      "        <li>\r\n",
      "    <a href=\"/alumni/\" >Alumni</a>\r\n",
      "   </li>\r\n",
      "  \r\n",
      "        <li>\r\n",
      "    <a href=\"/staff/\" >Staff</a>\r\n",
      "   </li>\r\n",
      "  \r\n",
      "        <li>\r\n",
      "    <a href=\"/jobs/\" >Jobs at Imperial</a>\r\n",
      "   </li>\r\n",
      "  \r\n",
      "        <li>\r\n",
      "    <a href=\"/research-and-innovation/support-for-partners/\" >Partners and business</a>\r\n",
      "   </li>\r\n",
      "  \r\n",
      "        <li>\r\n",
      "    <a href=\"/media/\" >Media</a>\r\n",
      "   </li>\r\n",
      "  \r\n",
      "        <li>\r\n",
      "    <a href=\"/giving/\" >Donors</a>\r\n",
      "   </li>\r\n",
      "  \r\n",
      "        <li>\r\n",
      "    <a href=\"/parents/\" >Parents</a>\r\n",
      "   </li>\r\n",
      "  \r\n",
      "        <li>\r\n",
      "    <a href=\"/admin-services/events-and-hospitality/\" >Conference organisers </a>\r\n",
      "   </li>\r\n",
      "   <!-- info for -->\r\n",
      "              </ul>\r\n",
      "            </div>\r\n",
      "          </div>\r\n",
      "         </li>\r\n",
      "      </ul>\r\n",
      "<!-- end Secondary links -->\r\n",
      "\r\n",
      "    </nav>\r\n",
      "<!-- end Style Assets : Header -->\n",
      "        \n",
      "<section class=\"section-nav\">\n",
      "<h2 id=\"section-title\"><a href=\"#menu-1994\" data-toggle=\"section\">Silwood Park</a></h2>\n",
      "<nav id=\"menu-1994\" class=\"menus\">\n",
      "<h3 class=\"sr-only\">Section Navigation </h3>\n",
      "<ul>\n",
      "<li class=\"noscript\"><a href=\"#\" class=\"close-button\">Close</a></li>\n",
      "<li class=\"overview_link_wrapper\"><a href=\"/visit/campuses/silwood-park/\" class=\"overview_link\">Silwood Park Overview</a></li>\n",
      "<!-- nav object : Level 3 link menu -->\n",
      "<li><a href=\"/visit/campuses/silwood-park/about/\">About Silwood Park</a>\n",
      "<ul class=\"multilevel-linkul-0\">\n",
      "<li><a href=\"/visit/campuses/silwood-park/about/grounds/\">Grounds</a></li>\n",
      "<li><a href=\"/visit/campuses/silwood-park/about/library-and-computer-room/\">Library and Computer Room</a></li>\n",
      "<li><a href=\"/visit/campuses/silwood-park/about/surrounding-area/\">Surrounding area</a></li>\n",
      "<li><a href=\"/visit/campuses/silwood-park/about/silwood-business-centre/\">Silwood Business Centre</a></li>\n",
      "<li><a href=\"/visit/campuses/silwood-park/about/health-and-safety/\">Health and Safety</a></li>\n",
      "<li><a href=\"/visit/campuses/silwood-park/about/information-technology/\">Information Technology</a></li>\n",
      "<li><a href=\"/visit/campuses/silwood-park/about/history/\">Silwood Park - Past and Present</a></li>\n",
      "<li><a href=\"/visit/campuses/silwood-park/about/food-and-drinks/\">Food and drinks</a></li>\n",
      "<li><a href=\"/visit/campuses/silwood-park/about/campus-information/\">Campus information</a></li>\n",
      "<li><a href=\"/visit/campuses/silwood-park/about/clubs-societies-and-sports/\">Clubs, Societies and Sports</a></li>\n",
      "<li><a href=\"/visit/campuses/silwood-park/about/silwood-park-diversity/\">Silwood Park Diversity</a>\n",
      "<ul class=\"multilevel-linkul-1\">\n",
      "<li><a href=\"/visit/campuses/silwood-park/about/silwood-park-diversity/ashurst-orchard/\">Ashurst orchard</a></li>\n",
      "<li><a href=\"/visit/campuses/silwood-park/about/silwood-park-diversity/annuals/\">Flora of arable land</a></li>\n",
      "\n",
      "</ul>\n",
      "</li>\n",
      "\n",
      "</ul>\n",
      "</li><li><a href=\"/visit/campuses/silwood-park/research/\">Research</a>\n",
      "<ul class=\"multilevel-linkul-0\">\n",
      "<li><a href=\"/visit/campuses/silwood-park/research/publications/\">Publications</a></li>\n",
      "<li><a href=\"/visit/campuses/silwood-park/research/thursday-seminars/\">Ecology and Evolution Seminar Series</a></li>\n",
      "<li><a href=\"/visit/campuses/silwood-park/research/tansley/\">Tansley working groups</a></li>\n",
      "<li><a href=\"/visit/campuses/silwood-park/research/field-experiments/\">Field Experiments</a>\n",
      "<ul class=\"multilevel-linkul-1\">\n",
      "<li><a href=\"/visit/campuses/silwood-park/research/field-experiments/field-signs-and-markings/\">Field signs and markings</a></li>\n",
      "<li><a href=\"/visit/campuses/silwood-park/research/field-experiments/silwood-weather/\">Silwood weather</a></li>\n",
      "\n",
      "</ul>\n",
      "</li>\n",
      "<li><a href=\"/visit/campuses/silwood-park/research/silwood-lte/\">Silwood Park long-term field studies</a>\n",
      "<ul class=\"multilevel-linkul-1\">\n",
      "<li><a href=\"/visit/campuses/silwood-park/research/silwood-lte/nashk-s/\">Nash's Field Experiment (plots K-S)</a></li>\n",
      "<li><a href=\"/visit/campuses/silwood-park/research/silwood-lte/mesocosm/\">Silwood Park pond mesocosm</a></li>\n",
      "<li><a href=\"/visit/campuses/silwood-park/research/silwood-lte/nutnet/\">Nutrient Network project (NutNet)</a></li>\n",
      "<li><a href=\"/visit/campuses/silwood-park/research/silwood-lte/poundhill-disturbance/\">Pound Hill disturbance timing experiment</a></li>\n",
      "<li><a href=\"/visit/campuses/silwood-park/research/silwood-lte/nash-disturbance/\">Nash's Field disturbance experiment (plots A-F)</a></li>\n",
      "<li><a href=\"/visit/campuses/silwood-park/research/silwood-lte/mouse-project/\">The mouse project</a></li>\n",
      "<li><a href=\"/visit/campuses/silwood-park/research/silwood-lte/rabbits/\">Rabbit exclosures</a></li>\n",
      "<li><a href=\"/visit/campuses/silwood-park/research/silwood-lte/blue-tits/\">The blue tit project</a></li>\n",
      "<li><a href=\"/visit/campuses/silwood-park/research/silwood-lte/oak_acorns/\">Oak acorns and Knopper gall dynamics</a></li>\n",
      "<li><a href=\"/visit/campuses/silwood-park/research/silwood-lte/suction-trap/\">Suction trap</a></li>\n",
      "\n",
      "</ul>\n",
      "</li>\n",
      "\n",
      "</ul>\n",
      "</li><li><span class=\"currentbranch0\"><a href=\"/visit/campuses/silwood-park/academic-staff/\">Academic staff</a></span></li><li><a href=\"/visit/campuses/silwood-park/prospective-students/\">Prospective students</a>\n",
      "<ul class=\"multilevel-linkul-0\">\n",
      "<li><a href=\"/visit/campuses/silwood-park/prospective-students/msc-and-mres-courses/\">MSc and MRes courses</a>\n",
      "<ul class=\"multilevel-linkul-1\">\n",
      "<li><a href=\"/visit/campuses/silwood-park/prospective-students/msc-and-mres-courses/careers/\">Careers</a></li>\n",
      "<li><a href=\"/visit/campuses/silwood-park/prospective-students/msc-and-mres-courses/course-comparison/\">Course comparison</a></li>\n",
      "<li><a href=\"/visit/campuses/silwood-park/prospective-students/msc-and-mres-courses/photo-gallery/\">Photo gallery</a></li>\n",
      "\n",
      "</ul>\n",
      "</li>\n",
      "<li><a href=\"/visit/campuses/silwood-park/prospective-students/phd-opportunities/\">PhD opportunities</a></li>\n",
      "<li><a href=\"/visit/campuses/silwood-park/prospective-students/accommodation/\">Accommodation</a></li>\n",
      "<li><a href=\"/visit/campuses/silwood-park/prospective-students/international-students/\">International students</a></li>\n",
      "<li><a href=\"/visit/campuses/silwood-park/prospective-students/life-at-silwood/\">Life at Silwood</a></li>\n",
      "\n",
      "</ul>\n",
      "</li><li><a href=\"/visit/campuses/silwood-park/news/\">News</a></li><li><a href=\"/visit/campuses/silwood-park/events/\">Events</a></li><li><a href=\"/visit/campuses/silwood-park/find-us/\">Find us</a></li><li><a href=\"/visit/campuses/silwood-park/facilities/\">Facilities</a></li>\n",
      "<!-- end nav object : Level 3 link menu -->\n",
      "</ul>\n",
      "</nav>\n",
      "</section> \n",
      "</div>\n",
      "</header>\n",
      "<div id=\"content-box\">\n",
      "<div id=\"page\">\n",
      "<div class=\"container content-template\" id=\"content\">\n",
      "<div class=\"row top flow-opposite\" id=\"main\">\n",
      "<div class=\"col lg-9 wysiwyg\" role=\"main\" id=\"primary-content\">\n",
      "<div class=\"col lg-12 page-heading\">\n",
      "<div class=\"breadcrumbs\">\n",
      "<!-- nav object : Breadcrumbs -->\n",
      "<ul><li><a href=\"/\">Home</a></li><li><a href=\"/visit/\">Visit</a></li><li><a href=\"/visit/campuses/\">Campuses and maps</a></li><li><a href=\"/visit/campuses/silwood-park/\">Silwood Park</a></li><li><a href=\"/visit/campuses/silwood-park/academic-staff/\">Academic staff</a></li></ul>\n",
      "<!-- end nav object : Breadcrumbs -->\n",
      "</div>\n",
      "<h1>Academic staff</h1>\n",
      "</div> <!-- end page-heading -->\n",
      "<!-- nav object : Banner bottom -->\n",
      "\n",
      "<!-- end nav object : Banner bottom -->\n",
      "<div class=\"module\">\n",
      "<div class=\"row wysiwyg\">\r\n",
      "\r\n",
      "<p>Silwood Park Campus is home to the&nbsp;Department of Life Sciences <a href=\"http://www3.imperial.ac.uk/portal/page/portallive/DCD79B393641FC99E040C69B47396525\" title=\"Evolutionary Biology Theme\">Evolutionary Biology Theme</a>, the <a href=\"http://www3.imperial.ac.uk/lifesciences/research/ecosystemsenvironment\" title=\"Ecosystems &amp; the Environment Theme\">Ecosystems &amp; the Environment Theme</a>&nbsp;and <a href=\"http://www3.imperial.ac.uk/portal/page/portallive/E3C12B8F477D435EE040C69B47391C0B\" title=\"Grand Challenges in Ecosystems &amp; the Environment Initiative\">Grand Challenges in Ecosystems &amp; the Environment Initiative</a>.</p>\n",
      "<p>Deputy Head of Life Sciences (Silwood Park): Prof. Timothy Barraclough&nbsp;<a href=\"http://www.imperial.ac.uk/people/v.savolainen\" title=\"Prof. Vincent Savolainen\"><br /></a></p>\n",
      "<table style=\"width: 100%;\"><caption>Faculty</caption>\n",
      "<thead>\n",
      "<tr><th id=\"A0\" scope=\"col\" width=\"20%\">Name</th><th width=\"20%\"><strong>Title</strong></th><th width=\"40%\"><strong>Research topics</strong></th><th id=\"A2\" scope=\"col\" width=\"20%\">Photo</th></tr>\n",
      "</thead>\n",
      "<tbody>\n",
      "<tr>\n",
      "<td><a href=\"http://www.imperial.ac.uk/people/a.abzhanov\" target=\"_blank\" title=\"Dr Arkhat Abzhanov link opens in a new window\">Dr Arkhat Abzhanov</a></td>\n",
      "<td>Reader in Evolution and Developmental Genetics</td>\n",
      "<td>Vertebrate craniofacial development</td>\n",
      "<td>&nbsp; <img alt=\"Arkhat Abzhanov\" class=\"thumb\" src=\"/ImageCropToolT4/imageTool/uploaded-images/Arkhat_Abzhanov_Quanta_Photo_01--tojpeg_1440406350005_x2.jpg\" /></td>\n",
      "</tr>\n",
      "<tr>\n",
      "<td><a href=\"/people/c.banks\" title=\"Dr. Cristina Banks-Leite\">Dr Cristina Banks-Leite</a></td>\n",
      "<td>Lecturer</td>\n",
      "<td>Community &amp; landscape ecology</td>\n",
      "<td><img alt=\"Banks-Leite\" class=\"thumb\" src=\"/ImageCropToolT4/imageTool/uploaded-images/banks--tojpeg_1415802778550_x2.jpg\" /></td>\n",
      "</tr>\n",
      "<tr>\n",
      "<td><a href=\"/people/t.barraclough\" title=\"Prof Tim Barraclough\">Professor Tim Barraclough</a>&nbsp;</td>\n",
      "<td>Professor of Evolutionary Biology</td>\n",
      "<td><span>Biodiversity, evolution and community dynamics</span></td>\n",
      "<td><img alt=\"Barraclough\" class=\"thumb\" src=\"/ImageCropToolT4/imageTool/uploaded-images/barraclough--tojpeg_1415802831871_x2.jpg\" /></td>\n",
      "</tr>\n",
      "<tr>\n",
      "<td><a href=\"/people/thomas.bell\" title=\"Dr. Tom Bell\">Dr Tom Bell</a>&nbsp;</td>\n",
      "<td>Reader in Microbial Ecology</td>\n",
      "<td><span>Ecology and evolution of microbial communities</span></td>\n",
      "<td><img alt=\"Bell\" class=\"thumb\" src=\"/ImageCropToolT4/imageTool/uploaded-images/bell--tojpeg_1415802886850_x2.jpg\" /></td>\n",
      "</tr>\n",
      "<tr>\n",
      "<td><a href=\"http://www.imperial.ac.uk/people/m.bidartondo\" target=\"_blank\" title=\"Dr Martin Bidartondo link opens in a new window\">Dr Martin Bidartondo</a></td>\n",
      "<td>Reader in Molecular Ecology</td>\n",
      "<td>Ecology and evolution of mycorrhizas</td>\n",
      "<td>&nbsp;<img alt=\"Martin Bidartondo\" class=\"thumb left\" src=\"/ImageCropToolT4/imageTool/uploaded-images/biud--tojpeg_1484735034873_x2.jpg\" /></td>\n",
      "</tr>\n",
      "<tr>\n",
      "<td><a href=\"http://imperial.ac.uk/AP/faces/pages/read/Home.jsp?person=m.brazeau&amp;_adf.ctrl-state=154nqe3v03_259\" title=\"Dr. Martin Brazeau\">Dr Martin Brazeau</a></td>\n",
      "<td>Senior Lecturer</td>\n",
      "<td><span>Evolution of modern vertebrate anatomy</span></td>\n",
      "<td><img alt=\"Brazeau\" class=\"thumb\" src=\"/ImageCropToolT4/imageTool/uploaded-images/brazeau--tojpeg_1415802939459_x2.jpg\" /></td>\n",
      "</tr>\n",
      "<tr>\n",
      "<td><a href=\"/people/a.burt\" title=\"Professor Austin Burt\">Professor Austin Burt</a>&nbsp;</td>\n",
      "<td>Professor of Evolutionary Genetics</td>\n",
      "<td><span id=\"titlepart6\"><span>Population genetic engineering and malaria vectors</span></span></td>\n",
      "<td><img alt=\"Burt\" class=\"thumb\" src=\"/ImageCropToolT4/imageTool/uploaded-images/burt--tojpeg_1415802971898_x2.jpg\" /></td>\n",
      "</tr>\n",
      "<tr>\n",
      "<td><a href=\"/people/l.cator\" title=\"Dr. Lauren Cator\">Dr Lauren Cator</a>&nbsp;</td>\n",
      "<td>Lecturer</td>\n",
      "<td><span>Behavioural ecology of disease vectors</span></td>\n",
      "<td><img alt=\"Cator\" class=\"thumb\" src=\"/ImageCropToolT4/imageTool/uploaded-images/cator--tojpeg_1415803021373_x2.jpg\" /></td>\n",
      "</tr>\n",
      "<tr>\n",
      "<td><a href=\"/people/r.ewers\" title=\"Professor Robert Ewers\">Professor Robert Ewers</a></td>\n",
      "<td>Professor of Ecology</td>\n",
      "<td><span>Deforestation and field experiments</span></td>\n",
      "<td><img alt=\"Rob Ewers\" class=\"thumb left\" src=\"/ImageCropToolT4/imageTool/uploaded-images/Rob-Ewers-new-website-photo--tojpeg_1484735059424_x2.jpg\" /></td>\n",
      "</tr>\n",
      "<tr>\n",
      "<td><span><a href=\"https://www.imperial.ac.uk/people/m.fumagalli\" target=\"_blank\" title=\"Dr Matteo Fumagalli link opens in a new window\"><span>Dr Matteo Fumagalli</span></a>&nbsp;</span></td>\n",
      "<td>Lecturer</td>\n",
      "<td><span>Population genetics&nbsp;</span></td>\n",
      "<td><img alt=\"Matteo Fumagalli\" class=\"thumb left\" src=\"/ImageCropToolT4/imageTool/uploaded-images/matteoF--tojpeg_1479825443369_x2.jpg\" /></td>\n",
      "</tr>\n",
      "<tr>\n",
      "<td><a href=\"http://www.imperial.ac.uk/AP/faces/pages/read/Home.jsp?person=r.gill&amp;_adf.ctrl-state=whhrdpbnf_367\" title=\"Dr Richard Gill\">Dr Richard Gill</a></td>\n",
      "<td>Senior Lecturer&nbsp;</td>\n",
      "<td><span>Social insects</span></td>\n",
      "<td><img alt=\"gill\" class=\"thumb\" src=\"/ImageCropToolT4/imageTool/uploaded-images/gill--tojpeg_1415803395132_x2.jpg\" /></td>\n",
      "</tr>\n",
      "<tr>\n",
      "<td><a href=\"/people/j.hodgson\" title=\"Dr. Jason Hodgson\">Dr Jason Hodgson</a></td>\n",
      "<td>Lecturer&nbsp;</td>\n",
      "<td><span>Human and primate evolutionary genetics</span></td>\n",
      "<td><img alt=\"Hodgson\" class=\"thumb\" src=\"/ImageCropToolT4/imageTool/uploaded-images/hodgson--tojpeg_1415803486778_x2.jpg\" /></td>\n",
      "</tr>\n",
      "<tr>\n",
      "<td><a href=\"http://www.imperial.ac.uk/AP/faces/pages/read/Home.jsp?person=jonathan.lloyd&amp;_adf.ctrl-state=un1rky6oy_1499\" title=\"Professor Jon Lloyd\">Professor Jon Lloyd</a></td>\n",
      "<td>Professor in Global Ecosystems Function</td>\n",
      "<td><span id=\"titlepart6\"><span>Controls on ecosystem carbon fluxes</span></span></td>\n",
      "<td><img alt=\"Lloyd\" class=\"thumb\" src=\"/ImageCropToolT4/imageTool/uploaded-images/lloyd--tojpeg_1415803876991_x2.jpg\" /></td>\n",
      "</tr>\n",
      "<tr>\n",
      "<td><a href=\"/people/andrew.knight1\" title=\"Dr Andrew Knight \">Dr Andrew Knight </a></td>\n",
      "<td>Senior Lecturer</td>\n",
      "<td>Decision-making and conservation planning</td>\n",
      "<td><img alt=\"Knight\" class=\"thumb\" src=\"/ImageCropToolT4/imageTool/uploaded-images/knight--tojpeg_1415803699689_x2.jpg\" /></td>\n",
      "</tr>\n",
      "<tr>\n",
      "<td><a href=\"https://www.imperial.ac.uk/people/m.mills\" target=\"_blank\" title=\"Dr Morena Mills link opens in a new window\">Dr Morena Mills</a>&nbsp;</td>\n",
      "<td>Senior Lecturer&nbsp;</td>\n",
      "<td><span>Systematic conservation planning</span></td>\n",
      "<td><img alt=\"Morena Mills \" class=\"thumb left\" src=\"/ImageCropToolT4/imageTool/uploaded-images/Morena-Mills--tojpeg_1479825117340_x2.jpg\" /></td>\n",
      "</tr>\n",
      "<tr>\n",
      "<td><a href=\"/people/s.pawar\" title=\"Dr. Samraat Pawar\">Dr Samraat Pawar</a></td>\n",
      "<td>Senior Lecturer</td>\n",
      "<td><span>Systems biology and theoretical ecology</span></td>\n",
      "<td><img alt=\"Pawar\" class=\"thumb\" src=\"/ImageCropToolT4/imageTool/uploaded-images/pawar--tojpeg_1415804122485_x2.jpg\" /></td>\n",
      "</tr>\n",
      "<tr>\n",
      "<td><a href=\"/people/c.prentice\" title=\"Professor Colin Prentice\">Professor Colin Prentice</a>&nbsp;</td>\n",
      "<td>AXA Chair in Biosphere and Climate Impacts</td>\n",
      "<td><span>Biosphere and atmosphere interactions, climate dynamics</span></td>\n",
      "<td>&nbsp; <img alt=\"Prentice\" class=\"thumb\" src=\"/ImageCropToolT4/imageTool/uploaded-images/prentice--tojpeg_1415804988608_x2.jpg\" /></td>\n",
      "</tr>\n",
      "<tr>\n",
      "<td><a href=\"/people/v.savolainen\" title=\"Prof Vincent Savolainen\">Professor Vincent Savolainen</a></td>\n",
      "<td>Professor of Organismic Biology</td>\n",
      "<td><span id=\"titlepart6\"><span>Biodiversity genomics</span></span></td>\n",
      "<td><img alt=\"Savolainen\" class=\"thumb\" src=\"/ImageCropToolT4/imageTool/uploaded-images/vince--tojpeg_1415805233922_x2.jpg\" /></td>\n",
      "</tr>\n",
      "<tr>\n",
      "<td><a href=\"http://www.imperial.ac.uk/people/julia.schroeder\" title=\"Dr Julia Schroeder\">Dr Julia Schroeder</a></td>\n",
      "<td>Lecturer</td>\n",
      "<td>Evolutionary ecology of social traits</td>\n",
      "<td><img alt=\"Julia Schroeder\" class=\"thumb left\" src=\"/ImageCropToolT4/imageTool/uploaded-images/Cloud--tojpeg_1441370557873_x2.jpg\" /></td>\n",
      "</tr>\n",
      "<tr>\n",
      "<td><a href=\"http://www.imperial.ac.uk/people/j.tobias\" title=\"Dr Joseph Tobias\">Dr Joseph Tobias</a></td>\n",
      "<td>Senior Lecturer in Biodiversity</td>\n",
      "<td>Processes generating, sustaining and structuring biodiversity</td>\n",
      "<td><img alt=\"Joe Tobias\" class=\"thumb\" src=\"/ImageCropToolT4/imageTool/uploaded-images/Joe-Tobias--tojpeg_1430322898032_x2.jpg\" /></td>\n",
      "</tr>\n",
      "<tr>\n",
      "<td><a title=\"Dr Mike Tristem\">Dr Mike Tristem</a>&nbsp;</td>\n",
      "<td>Reader in Evolutionary Virology</td>\n",
      "<td><span id=\"titlepart6\"><span>Viral evolution</span></span></td>\n",
      "<td><img alt=\"Tristem\" class=\"thumb\" src=\"/ImageCropToolT4/imageTool/uploaded-images/tristempic--tojpeg_1415805280204_x2.jpg\" /></td>\n",
      "</tr>\n",
      "<tr>\n",
      "<td><a href=\"https://www.imperial.ac.uk/people/a.vogler\" target=\"_blank\" title=\"Professor Alfried Vogler link opens in a new window\">Professor Alfried Vogler</a></td>\n",
      "<td>Professor of Molecular Systematics</td>\n",
      "<td>\n",
      "<p>Phylogeny and evolution of Coleoptera</p>\n",
      "</td>\n",
      "<td><img alt=\"Alfried Vogler\" class=\"thumb\" src=\"/ImageCropToolT4/imageTool/uploaded-images/Michael-Edwards--tojpeg_1435155425312_x2.jpg\" /></td>\n",
      "</tr>\n",
      "<tr>\n",
      "<td><a href=\"/people/guy.woodward\" title=\"Prof. Guy Woodward\">Professor Guy Woodward</a></td>\n",
      "<td>Professor of Ecology</td>\n",
      "<td><span id=\"titlepart6\"><span>Quantifying the impacts of stressors (climate change, acidification, eutrophication, species invasions and habitat alteration) on the structure and functioning of aquatic ecosystems</span></span></td>\n",
      "<td><img alt=\"Woodward\" class=\"thumb\" src=\"/ImageCropToolT4/imageTool/uploaded-images/guy--tojpeg_1415805505961_x2.jpg\" /></td>\n",
      "</tr>\n",
      "</tbody>\n",
      "<caption class=\"sr-only\">ReadersAcademic staff Silwood Campus</caption></table>\n",
      "<table style=\"width: 100%;\"><caption>Affiliated Faculty</caption>\n",
      "<thead>\n",
      "<tr><th id=\"A0\" scope=\"col\" width=\"20%\">Name</th><th width=\"20%\"><strong>Title</strong></th><th width=\"40%\"><strong>Research topics</strong></th><th id=\"A2\" scope=\"col\" width=\"20%\">Photo</th></tr>\n",
      "</thead>\n",
      "<tbody>\n",
      "<tr>\n",
      "<td><a href=\"http://www.imperial.ac.uk/AP/faces/pages/read/Home.jsp?person=b.halpern&amp;_adf.ctrl-state=un1rky6oy_1215\" title=\"Professor Ben Halpern\">Professor Ben Halpern</a></td>\n",
      "<td>Professor in Marine Conservation (Associate with&nbsp;University of California, Santa Barbara)</td>\n",
      "<td><span id=\"titlepart6\"><span>Spatial population dynamics, trophic interactions in community ecology and conservation planning</span></span></td>\n",
      "<td><img alt=\"Halpern\" class=\"thumb\" src=\"/ImageCropToolT4/imageTool/uploaded-images/halpern--tojpeg_1415803442059_x2.jpg\" /></td>\n",
      "</tr>\n",
      "<tr>\n",
      "<td><a href=\"/people/w.jetz\" title=\"Professor Walter Jetz \">Professor Walter Jetz </a></td>\n",
      "<td>Senior Scientist (Associate with&nbsp;Yale University)</td>\n",
      "<td><span>Integrative global biodiversity science, biogeography, conservation and community ecology</span></td>\n",
      "<td><img alt=\"Jetz\" class=\"thumb\" src=\"/ImageCropToolT4/imageTool/uploaded-images/jetz--tojpeg_1415803601810_x2.jpg\" /></td>\n",
      "</tr>\n",
      "<tr>\n",
      "<td><a href=\"http://www.imperial.ac.uk/AP/faces/pages/read/Home.jsp?person=james.jones&amp;_adf.ctrl-state=un1rky6oy_935\" title=\"Professor James H Jones\">Professor James H Jones</a></td>\n",
      "<td>Senior Scientist (Associate with&nbsp;Stanford University)</td>\n",
      "<td><span>Biological anthropologist with research interests in human ecology, demography and life history theory, and the ecology and evolutionary biology of infectious disease</span></td>\n",
      "<td>&nbsp;<img alt=\"Jones\" class=\"thumb\" src=\"/ImageCropToolT4/imageTool/uploaded-images/jones--tojpeg_1415803655888_x2.jpg\" /></td>\n",
      "</tr>\n",
      "<tr>\n",
      "<td><a href=\"/people/i.owens\" title=\"Professor Ian Owens\">Professor Ian Owens</a>&nbsp;</td>\n",
      "<td>Research Investigator (Associate with Natural History Museum London)</td>\n",
      "<td><span id=\"titlepart6\">Evolutionary ecology of&nbsp;birds</span></td>\n",
      "<td><img alt=\"Owens\" class=\"thumb\" src=\"/ImageCropToolT4/imageTool/uploaded-images/owens--tojpeg_1415804073571_x2.jpg\" /></td>\n",
      "</tr>\n",
      "<tr>\n",
      "<td><a href=\"/people/a.purvis\" title=\"Professor Andy Purvis\">Professor Andy Purvis</a></td>\n",
      "<td>Research Investigator (Associate with Natural History Museum London)</td>\n",
      "<td><span id=\"titlepart6\"><span id=\"titlepart6\"><span>Biodiversity and extinction</span></span></span></td>\n",
      "<td>&nbsp; <img alt=\"Andy Purvis\" class=\"thumb\" src=\"/ImageCropToolT4/imageTool/uploaded-images/Untitled--tojpeg_1430322499617_x2.jpg\" /></td>\n",
      "</tr>\n",
      "<tr>\n",
      "<td><a href=\"http://www.imperial.ac.uk/people/c.rahbek\" title=\"Professor Carsten Rahbek\">Professor Carsten Rahbek</a></td>\n",
      "<td>&nbsp;<br />Professor&nbsp;in Macroecology (Associate with University of Copenhagen)</td>\n",
      "<td><span id=\"titlepart6\"><span>Patterns of species distribution, species range sizes, species assemblages, species richness and what determines such patterns</span></span></td>\n",
      "<td><img alt=\"Rahbeck\" class=\"thumb\" src=\"/ImageCropToolT4/imageTool/uploaded-images/carsten--tojpeg_1415805090122_x2.jpg\" /></td>\n",
      "</tr>\n",
      "<tr>\n",
      "<td><a href=\"http://www.imperial.ac.uk/AP/faces/pages/read/Home.jsp?person=j.tylianakis&amp;_adf.ctrl-state=un1rky6oy_1591\" title=\"Professor Jason Tylianakis\">Professor Jason Tylianakis</a></td>\n",
      "<td>Professor&nbsp;in Ecology and Biodiversity (Associate with University of Canterbury, New Zealand)</td>\n",
      "<td><span id=\"titlepart6\"><span>How the architecture of interaction networks (such as food webs or pollination networks) comes to exist, and how it responds to environmental drivers</span></span></td>\n",
      "<td><img alt=\"Tylianakis\" class=\"thumb\" src=\"/ImageCropToolT4/imageTool/uploaded-images/jason--tojpeg_1415805346898_x2.jpg\" /></td>\n",
      "</tr>\n",
      "<tr>\n",
      "<td><a href=\"/people/d.wright\" title=\"Professor Denis Wright\">Professor Denis Wright</a>&nbsp;</td>\n",
      "<td>Professor of Insecticide resistance &amp;&nbsp;sustainable pest management&nbsp;</td>\n",
      "<td><span>Sustainable pest management</span></td>\n",
      "<td><img alt=\"Wright\" class=\"thumb\" src=\"/ImageCropToolT4/imageTool/uploaded-images/wright--tojpeg_1415805551965_x2.jpg\" /></td>\n",
      "</tr>\n",
      "</tbody>\n",
      "<caption class=\"sr-only\">Academic staff Silwood Campus</caption></table>\n",
      "<table style=\"width: 100%;\"><caption>Fellows</caption>\n",
      "<thead>\n",
      "<tr><th id=\"A0\" scope=\"col\" width=\"20%\">Name</th><th width=\"20%\">Title</th><th width=\"40%\">Research topics</th><th id=\"A2\" scope=\"col\" width=\"20%\">Photo</th></tr>\n",
      "</thead>\n",
      "<tbody>\n",
      "<tr>\n",
      "<td><a href=\"/people/m.charalambous\" title=\"Dr Magda Charalambous\">Dr Magda Charalambous</a>&nbsp;</td>\n",
      "<td>Senior Teaching Fellow</td>\n",
      "<td><span id=\"titlepart6\"><span>Sexual selection and population differentiation in insects</span></span></td>\n",
      "<td><img alt=\"Charalambous\" class=\"thumb\" src=\"/ImageCropToolT4/imageTool/uploaded-images/charal--tojpeg_1415803150109_x2.jpg\" /></td>\n",
      "</tr>\n",
      "<tr>\n",
      "<td><a href=\"http://www.imperial.ac.uk/people/r.kordas\" target=\"_blank\" title=\"Dr Rebecca Kordas  link opens in a new window\">Dr Rebecca Kordas </a></td>\n",
      "<td>IJR Fellow</td>\n",
      "<td>&nbsp;</td>\n",
      "<td>&nbsp;<img alt=\"BEcca Kordas\" class=\"thumb left\" src=\"/ImageCropToolT4/imageTool/uploaded-images/Becca-21-cropped--tojpeg_1462265236132_x2.jpg\" /></td>\n",
      "</tr>\n",
      "<tr>\n",
      "<td><a href=\"/people/v.koufopanou\" title=\"Dr. Vassiliki Koufopanou\">Dr Vassiliki Koufopanou</a>&nbsp;</td>\n",
      "<td>Research Fellow</td>\n",
      "<td><span id=\"titlepart6\"><span id=\"titlepart6\"><span>Microbial genetics and evolution</span></span></span></td>\n",
      "<td><img alt=\"Koufapanou\" class=\"thumb\" src=\"/ImageCropToolT4/imageTool/uploaded-images/vassiliki--tojpeg_1415803755603_x2.jpg\" /></td>\n",
      "</tr>\n",
      "<tr>\n",
      "<td><a href=\"http://www.imperial.ac.uk/people/e.ogorman\" title=\"Dr Eoin O'Gorman\">Dr Eoin O'Gorman</a></td>\n",
      "<td>NERC Fellow</td>\n",
      "<td>&nbsp;Trophic interactions and ecosystem-level responses to global change</td>\n",
      "<td>&nbsp; <img alt=\"Eoin O'Gorman\" class=\"thumb\" src=\"/ImageCropToolT4/imageTool/uploaded-images/Eoin-O%27Gorman--tojpeg_1418812595170_x2.jpg\" /></td>\n",
      "</tr>\n",
      "<tr>\n",
      "<td><a href=\"/people/d.orme\" title=\"Dr. David Orme\">Dr David Orme</a>&nbsp;</td>\n",
      "<td>Research Fellow</td>\n",
      "<td><span>Biodiversity and climate change</span></td>\n",
      "<td><img alt=\"Orme\" class=\"thumb\" src=\"/ImageCropToolT4/imageTool/uploaded-images/orme--tojpeg_1415804020787_x2.jpg\" /></td>\n",
      "</tr>\n",
      "<tr>\n",
      "<td><a href=\"/people/j.rosindell\" title=\"Dr. James Rosindell\">Dr James Rosindell</a></td>\n",
      "<td>NERC Fellow</td>\n",
      "<td><span id=\"titlepart6\"><span>Theoretical ecology and evolution</span></span></td>\n",
      "<td><img alt=\"Rossindell\" class=\"thumb\" src=\"/ImageCropToolT4/imageTool/uploaded-images/rossindell--tojpeg_1415805186475_x2.jpg\" /></td>\n",
      "</tr>\n",
      "<tr>\n",
      "<td><a href=\"http://www.imperial.ac.uk/people/chris.wilson\" title=\"Dr. Chris Wilson\">Dr Chris Wilson</a></td>\n",
      "<td>NERC Fellow</td>\n",
      "<td>&nbsp;\n",
      "<p>Causes and consequences of obligately asexual evolution</p>\n",
      "</td>\n",
      "<td><img alt=\"Wilson\" class=\"thumb\" src=\"/ImageCropToolT4/imageTool/uploaded-images/wilson--tojpeg_1415805408220_x2.jpg\" /></td>\n",
      "</tr>\n",
      "<tr>\n",
      "<td><a href=\"http://www.imperial.ac.uk/AP/faces/pages/read/Home.jsp?person=o.windram&amp;_adf.ctrl-state=sxsfmddhh_379\" title=\"Dr. Oliver Windram\">Dr Oliver Windram</a></td>\n",
      "<td>NERC Fellow</td>\n",
      "<td><span id=\"titlepart6\"><span>Generation and interpretation of large scale omics data using network modeling techniqes, systems biology</span></span></td>\n",
      "<td><img alt=\"Windram\" class=\"thumb\" src=\"/ImageCropToolT4/imageTool/uploaded-images/windram--tojpeg_1415805449837_x2.jpg\" /></td>\n",
      "</tr>\n",
      "</tbody>\n",
      "<caption class=\"sr-only\">Academic staff Silwood Campus</caption></table>\n",
      "<table style=\"width: 100%;\"><caption>Honorary staff</caption>\n",
      "<thead>\n",
      "<tr><th id=\"A0\" scope=\"col\" width=\"20%\">Name</th><th width=\"20%\">Title</th><th width=\"40%\">Research topics</th><th id=\"A2\" scope=\"col\" width=\"20%\">Photo</th></tr>\n",
      "</thead>\n",
      "<tbody>\n",
      "<tr>\n",
      "<td><a href=\"/people/miguel.araujo\" title=\"Professor Miguel Araujo\">Professor Miguel Araujo</a></td>\n",
      "<td>Visiting Professor</td>\n",
      "<td>Biogeography, conservation planning, global change biology, and macroecology</td>\n",
      "<td><img alt=\"Araujo\" class=\"thumb\" src=\"/ImageCropToolT4/imageTool/uploaded-images/araujo--tojpeg_1415802700337_x2.jpg\" /></td>\n",
      "</tr>\n",
      "<tr>\n",
      "<td><a href=\"http://www.imperial.ac.uk/people/j.beddington\" target=\"_blank\" title=\"Professor John Beddington CMG, FRS link opens in a new window\">Professor John Beddington CMG, FRS</a></td>\n",
      "<td>Honorary Principal Research Fellow</td>\n",
      "<td>&nbsp;</td>\n",
      "<td>&nbsp;</td>\n",
      "</tr>\n",
      "<tr>\n",
      "<td>\n",
      "<p><span>Dr Colin Clubbe</span></p>\n",
      "</td>\n",
      "<td>\n",
      "<p><span>Honorary Research Fellow</span></p>\n",
      "</td>\n",
      "<td>&nbsp;</td>\n",
      "<td>&nbsp;</td>\n",
      "</tr>\n",
      "<tr>\n",
      "<td><a href=\"/people/m.crawley\" title=\"Professor Mick Crawley FRS\">Professor Mick Crawley FRS</a>&nbsp;</td>\n",
      "<td>Emeritus Professor</td>\n",
      "<td><span>Ecological field experiments and theory</span></td>\n",
      "<td><img alt=\"Crawley\" class=\"thumb\" src=\"/ImageCropToolT4/imageTool/uploaded-images/crawley--tojpeg_1415803192999_x2.jpg\" /></td>\n",
      "</tr>\n",
      "<tr>\n",
      "<td><a href=\"http://www.imperial.ac.uk/people/c.godfray\" target=\"_blank\" title=\"Professor Charles Godfray FRS link opens in a new window\">Professor Charles Godfray FRS</a></td>\n",
      "<td>Honorary Principal Research Fellow</td>\n",
      "<td>&nbsp;</td>\n",
      "<td>&nbsp;</td>\n",
      "</tr>\n",
      "<tr>\n",
      "<td><a href=\"http://www.imperial.ac.uk/people/m.hassell\" target=\"_blank\" title=\"Professor Michael P Hassell CBE FRS link opens in a new window\">Professor Michael P Hassell CBE FRS</a></td>\n",
      "<td>Honorary Principal Research Fellow</td>\n",
      "<td>&nbsp;</td>\n",
      "<td>&nbsp;</td>\n",
      "</tr>\n",
      "<tr>\n",
      "<td><a href=\"/people/r.lande\" title=\"Professor Russ Lande FRS\">Professor Russ Lande FRS</a></td>\n",
      "<td>&nbsp;Emeritus Professor&nbsp;</td>\n",
      "<td>&nbsp;<span>Evolutionary and ecological theory, and conservation</span></td>\n",
      "<td>&nbsp;<img alt=\"Russ Lande\" class=\"thumb left\" src=\"/ImageCropToolT4/imageTool/uploaded-images/lande--tojpeg_1415803809583_x2--tojpeg_1479824949917_x2.jpg\" /></td>\n",
      "</tr>\n",
      "<tr>\n",
      "<td><a href=\"/people/e.j.milner-gulland\">Professor E J Milner-Gulland</a>&nbsp;</td>\n",
      "<td>Visiting Professor</td>\n",
      "<td><span id=\"titlepart6\"><span>Conservation science, ecosystem services</span></span></td>\n",
      "<td><img alt=\"Milner-Guilland\" class=\"thumb\" src=\"/ImageCropToolT4/imageTool/uploaded-images/milner--tojpeg_1415803977274_x2.jpg\" /></td>\n",
      "</tr>\n",
      "<tr>\n",
      "<td><a href=\"https://en.wikipedia.org/wiki/George_McGavin\" title=\"Dr George McGavin\">Dr George McGavin</a></td>\n",
      "<td>Honorary Principal Research Fellow</td>\n",
      "<td><span>Insect ecology and taxonomy</span></td>\n",
      "<td><img alt=\"George McGavin\" class=\"thumb left\" src=\"/ImageCropToolT4/imageTool/uploaded-images/George_McGavin_Borneo_by_Tim_Martin--tojpeg_1503404710944_x2.jpg\" /></td>\n",
      "</tr>\n",
      "<tr>\n",
      "<td><a href=\"http://www.possinghamlab.org/\" title=\"Professor Hugh Possingham\">Professor Hugh Possingham</a></td>\n",
      "<td>Visiting Professor</td>\n",
      "<td><span>Pure and applied population ecology</span></td>\n",
      "<td><img alt=\"Hugh Possingham\" class=\"thumb left\" src=\"/ImageCropToolT4/imageTool/uploaded-images/hugh--tojpeg_1415804572909_x2--tojpeg_1479824022963_x2.jpg\" /></td>\n",
      "</tr>\n",
      "<tr>\n",
      "<td><a href=\"http://www.imperial.ac.uk/people/m.themis\" target=\"_blank\" title=\"Dr Michael Themis link opens in a new window\">Dr Michael Themis</a></td>\n",
      "<td>Honorary Lecturer</td>\n",
      "<td>&nbsp;</td>\n",
      "<td>&nbsp; <img alt=\"Michael Themis\" class=\"thumb\" src=\"/ImageCropToolT4/imageTool/uploaded-images/Untitled--tojpeg_1433243294510_x2.jpg\" /></td>\n",
      "</tr>\n",
      "</tbody>\n",
      "<caption class=\"sr-only\">Academic staff Silwood Campus</caption></table>\r\n",
      "</div></div>\n",
      "</div>\n",
      "<aside class=\"col lg-3 sidebar\" id=\"secondary-content\">\n",
      "<!-- begin Sidebar nav -->\n",
      "<div class=\"col lg-12 sidebar-menu\">\n",
      "<h2>Academic staff</h2>\n",
      "<!-- begin Level 4 menu - recurses -->\n",
      "\n",
      "<!-- end Level 4 menu - recurses -->\n",
      "</div>\n",
      "<!-- end Sidebar nav -->\n",
      "<!-- begin Colour block -->\r\n",
      "<div class=\"col lg-12 primary text reverse\">\r\n",
      "  <div class=\"module\">\r\n",
      "    <h2 class=\"fake-h3\">Smoke-Free Imperial</h2>\r\n",
      "    <p>All Imperial campuses and properties are smoke-free. Part of Imperial&rsquo;s commitment to creating and maintaining a healthy environment for its community and visitors. <a href=\"/staff/health-and-wellbeing/smoke-free-imperial/\">Find out more about Smoke-free Imperial</a></p>\r\n",
      "  </div>\r\n",
      "</div>\r\n",
      "<!-- end Colour block --><!-- shared sidebar -->\n",
      "<!-- navigation object : Sidebar --><div class=\"col lg-12 text\">\r\n",
      "            <div class=\"module\">\r\n",
      "             <h3>Seminar Series</h3>\r\n",
      "              <ul>\n",
      "<li><span class=\"inplacedisplayid4siteid0\"><a href=\"/visit/campuses/silwood-park/research/thursday-seminars/\">Ecology and Evolution seminars</a> (Thursdays) </span></li>\n",
      "</ul>\r\n",
      "            </div>\r\n",
      "</div>\n",
      "</aside>\n",
      "</div><!-- row opposite -->\n",
      "</div><!-- end container -->\n",
      "<!-- Social -->\n",
      "            <div class=\"social cf container\">\r\n",
      "  <a href=\"javascript:window.print();\" class=\"share-link share-print\">Print</a>\r\n",
      "  <!-- AddToAny BEGIN -->\r\n",
      "  <a target=\"_blank\" class=\"share-link share-mail\" href=\"http://www.addtoany.com/email\">Email</a>\r\n",
      "  <a target=\"_blank\" class=\"share-link share-all\" href=\"http://www.addtoany.com/share_save\">Share</a>\r\n",
      "  <!-- AddToAny END -->\r\n",
      "</div>\n",
      "        <!-- end Social -->\n",
      "</div><!-- end page -->\n",
      "<footer class=\"footer\" role=\"contentinfo\">\n",
      "<div class=\"container\">\n",
      "<h1 class=\"sr-only\">Contact &amp; Links</h1>\n",
      "<!-- navigation object : Global Footer pre direct edit --><!-- begin Global footer -->\r\n",
      "<section class=\"footer-links row equal-height-columns\">\r\n",
      "    <h2 class=\"sr-only\">Useful Links</h2>\r\n",
      "    <div class=\"col lg-2 md-4 sm-6 equal-height\">\r\n",
      "        <nav>\r\n",
      "            <h3 class=\"fake-h2 title\">\r\n",
      "                Information for\r\n",
      "            </h3>\r\n",
      "            <ul>\n",
      "<li><a href=\"/study/\">Prospective students</a></li>\n",
      "<li><a href=\"/alumni/\">Alumni</a></li>\n",
      "<li><a href=\"/jobs/\">Jobs</a></li>\n",
      "<li><a href=\"/research-and-innovation/support-for-partners/\">Partners and business</a></li>\n",
      "<li><a href=\"/media/\">Media</a></li>\n",
      "<li><a href=\"/giving/\">Donors</a></li>\n",
      "<li><a href=\"/parents/\">Parents</a></li>\n",
      "<li><a href=\"http://www.imperialvenues.co.uk/\" target=\"_blank\">Conference organisers</a></li>\n",
      "</ul>\r\n",
      "        </nav>\r\n",
      "    </div>\r\n",
      "    <div class=\"col lg-2  md-4 sm-6 equal-height\">\r\n",
      "        <nav>\r\n",
      "            <h3 class=\"fake-h2 title\">\r\n",
      "                Top links\r\n",
      "            </h3>\r\n",
      "            <ul>\n",
      "<li><a href=\"/about/imperial-and-the-european-union/\">Imperial and the EU</a></li>\n",
      "<li><a href=\"https://www.imperial.ac.uk/office365\" target=\"_blank\">Outlook 365 web access</a></li>\n",
      "<li><a href=\"/admin-services/ict/contact-ict-service-desk/\">Contact the ICT Service Desk</a></li>\n",
      "<li><a href=\"/admin-services/library/\">Library</a></li>\n",
      "<li><a href=\"/admin-services/ict/self-service/teaching-learning/elearning-services/blackboard/\">Blackboard</a></li>\n",
      "<li><a href=\"/admin-services/sport/\">Sport</a></li>\n",
      "<li><a href=\"/admin-services/registry/term-dates/\">Term dates</a></li>\n",
      "</ul>\r\n",
      "        </nav>\r\n",
      "    </div>\r\n",
      "    <div class=\"col lg-2  md-4 sm-6 equal-height\">\r\n",
      "        <nav>\r\n",
      "            <h3 class=\"fake-h2 title\">\r\n",
      "                Students\r\n",
      "            </h3>\r\n",
      "            <ul>\n",
      "<li><a href=\"/students/\">Imperial students</a></li>\n",
      "<li><a href=\"https://www.imperialcollegeunion.org/\" target=\"_blank\">Imperial College Union</a></li>\n",
      "<li><a href=\"/students/student-hub/\">Student Hub</a></li>\n",
      "<li><a href=\"/admin-services/careers/\">Careers Service</a></li>\n",
      "<li><a href=\"/students/online-services/mobile/\">Imperial Mobile</a></li>\n",
      "<li><a href=\"/students/graduation/\">Graduation</a></li>\n",
      "</ul>\r\n",
      "        </nav>\r\n",
      "    </div>\r\n",
      "    <div class=\"col lg-2  md-4 sm-6 equal-height\">\r\n",
      "        <nav>\r\n",
      "            <h3 class=\"fake-h2 title\">\r\n",
      "                Staff\r\n",
      "            </h3>\r\n",
      "            <ul>\n",
      "<li><a href=\"/staff/\">Staff main page</a></li>\n",
      "<li><a href=\"/admin-services/ict/self-service/admin-systems/icis/\">ICIS</a></li>\n",
      "<li><a href=\"/admin-services/human-resources/procedures/\">HR procedures</a></li>\n",
      "<li><a href=\"/admin-services/human-resources/salaries-terms-and-conditions/\">Salaries, Terms and Conditions</a></li>\n",
      "<li><a href=\"/admin-services/human-resources/working-at-imperial/pension-schemes/\">Pension schemes</a></li>\n",
      "<li><a href=\"/research-and-innovation/support-for-staff/\">Research support</a></li>\n",
      "<li><a href=\"/staff/new-staff/\">Information for new staff</a></li>\n",
      "</ul>\r\n",
      "        </nav>\r\n",
      "    </div>\r\n",
      "    <div class=\"col lg-2  md-4 sm-6 equal-height\">\r\n",
      "        <nav>\r\n",
      "            <h3 class=\"fake-h2 title\">\r\n",
      "                Imperial partners\r\n",
      "            </h3>\r\n",
      "            <ul>\n",
      "<li><a href=\"http://www.imperial.nhs.uk/\" target=\"_blank\">Imperial College Healthcare NHS Trust</a></li>\n",
      "<li><a href=\"http://www.ahsc.org.uk/\" target=\"_blank\">Imperial College Academic Health Science Centre</a></li>\n",
      "<li><a href=\"http://imperialcollegehealthpartners.com/\" target=\"_blank\">Imperial College Health Partners</a></li>\n",
      "<li><a href=\"http://www.imperial-consultants.co.uk/\" target=\"_blank\">Imperial Consultants</a></li>\n",
      "<li><a href=\"http://www.imperialinnovations.co.uk/\" target=\"_blank\">Imperial Innovations</a></li>\n",
      "</ul>\r\n",
      "        </nav>\r\n",
      "    </div>\r\n",
      "    <div class=\"col lg-2  md-4 sm-6 equal-height\">\r\n",
      "        <nav>\r\n",
      "            <h3 class=\"fake-h2 title\">\r\n",
      "                A-Z\r\n",
      "            </h3>\r\n",
      "            <ul>\n",
      "<li><a href=\"/faculties-and-departments/\">Faculties, departments and institutes</a></li>\n",
      "<li><a href=\"/a-z-research/\">Research groups</a></li>\n",
      "<li><a href=\"/admin-services/\">Administration and support services</a></li>\n",
      "<li><a href=\"http://www.imperial.ac.uk/collegedirectory/\" target=\"_blank\">People finder</a></li>\n",
      "</ul>\r\n",
      "        </nav>\r\n",
      "    </div>\r\n",
      "</section>\r\n",
      "<!-- Footer Links End -->\r\n",
      "<section class=\"footer-common row\">\r\n",
      "    <h2 class=\"sr-only\">College Information</h2>\r\n",
      "    <div class=\"col lg-2 md-3 sm-12\" id=\"footer-contact\">\r\n",
      "        <a href=\"#\" class=\"footer-brand\">\r\n",
      "            Imperial College London\r\n",
      "        </a>\r\n",
      "        <h3 class=\"sr-only\">Address</h3>\r\n",
      "        <div class=\"address\">\r\n",
      "            <p itemscope itemtype=\"http://schema.org/PostalAddress\">\r\n",
      "                <span itemprop=\"name\">South Kensington Campus</span><br /><span itemprop=\"addressLocality\">London</span> <span itemprop=\"postalCode\">SW7 2AZ</span>, <span itemprop=\"addressCountry\">UK</span><br /><span itemprop=\"telephone\">tel: +44 (0)20 7589 5111</span>\r\n",
      "                <br />\r\n",
      "                <a href=\"/visit/campuses/\"\r\n",
      "                class=\"location-link\">\r\n",
      "                Campuses &amp; maps\r\n",
      "                </a>\r\n",
      "            </p>\r\n",
      "        </div>\r\n",
      "    </div>\r\n",
      "    <div class=\"col lg-10 md-9 sm-12\" id=\"footer-connect\">\r\n",
      "        <h3 class=\"title\">Follow Imperial</h3>\r\n",
      "        <div class=\"footer-social sm-10\">\r\n",
      "            <a href=\"https://www.facebook.com/imperialcollegelondon\" class=\"facebook\" target=\"_blank\" >Facebook</a>\r\n",
      "            <a href=\"https://twitter.com/imperialcollege\" class=\"twitter\" target=\"_blank\" >Twitter</a>\r\n",
      "            <a href=\"https://www.youtube.com/user/imperialcollegevideo\" class=\"youtube\" target=\"_blank\" >You Tube</a>\r\n",
      "            <a href=\"https://www.linkedin.com/edu/imperial-college-london-12598\" class=\"linkedin\" target=\"_blank\" >Linked in</a>\r\n",
      "            <a href=\"https://instagram.com/imperialcollege\" class=\"instagram\" target=\"_blank\" >Instagram</a>\r\n",
      "            <a href=\"https://www.weibo.com/ImperialUK\" class=\"weibo\" target=\"_blank\" >Weibo</a>\r\n",
      "            \r\n",
      "        </div>\r\n",
      "    </div>\r\n",
      "    <nav id=\"footer-info\">\r\n",
      "        <h3 class=\"sr-only\">Site Information</h3>\r\n",
      "        <ul>\r\n",
      "            \r\n",
      "        <li>\r\n",
      "    <a href=\"/sitemap/\" >Sitemap</a>\r\n",
      "   </li>\r\n",
      "  \r\n",
      "            \r\n",
      "        <li>\r\n",
      "    <a href=\"/about-the-site/accessibility/\" >Accessibility</a>\r\n",
      "   </li>\r\n",
      "  \r\n",
      "\r\n",
      "            \r\n",
      "        <li>\r\n",
      "    <a href=\"/about-the-site/\" >About this site</a>\r\n",
      "   </li>\r\n",
      "  \r\n",
      "\r\n",
      "            \r\n",
      "        <li>\r\n",
      "    <a href=\"/about-the-site/privacy/\" >Privacy notice</a>\r\n",
      "   </li>\r\n",
      "  \r\n",
      "\r\n",
      "            \r\n",
      "        <li>\r\n",
      "    <a href=\"/error/report/\" >Report incorrect content</a>\r\n",
      "   </li>\r\n",
      "  \r\n",
      "            <li class=\"copyright\">\r\n",
      "                <span>&copy;\r\n",
      "                    2018                    Imperial College London\r\n",
      "                </span>\r\n",
      "            </li>\r\n",
      "            <li class=\"hide-sm\">\n",
      "<a class=\"t4Edit-page\" href=\"https://www.imperial.ac.uk/terminalfour/SiteManager?ctfn=content&amp;fnno=30&amp;sid=1994\">Log in</a>\n",
      "<!-- navigation object : Global Footer post direct edit --></li>\r\n",
      "        </ul>\r\n",
      "      </nav>\r\n",
      "    </section>\r\n",
      "  </div> \r\n",
      "  <!-- end Global footer -->\r\n",
      "</footer>\r\n",
      "\r\n",
      "\r\n",
      "\r\n",
      "</div><!--/#content-box -->\r\n",
      "  </body>\r\n",
      "</html>\n",
      "\n"
     ]
    }
   ],
   "source": [
    "New_Data = re.sub(r'\\t',\" \", My_Data) # replace all tabs with a space\n",
    "print(New_Data)"
   ]
  },
  {
   "cell_type": "markdown",
   "metadata": {},
   "source": [
    "## Practicals\n",
    "\n",
    "### Blackbirds problem\n",
    "\n",
    "Complete the code `blackbirds.py` that you find in the `TheMulQuaBio` (necessary data file is also there).\n",
    "\n",
    "*As always, test, add, commit and push all your new code and data to your git repository.*"
   ]
  },
  {
   "cell_type": "markdown",
   "metadata": {},
   "source": [
    "## Using Python to build workflows\n",
    "\n",
    "*This topic will be necessary for your [Miniproject](), which will involve building a reproducible computational workflow.*\n",
    "\n",
    "You can use python to build an automated data analysis or simulation workflow that involves multiple applications, especially the ones you have already learnt: `R`, LaTeX, & UNIX `bash`.\n",
    "For example, you could, in theory, write a single Python script to\n",
    "generate and update your masters dissertation, tables, plots, and all.\n",
    "Python is ideal for building such workflows because it has packages for\n",
    "practically every purpose (see Section on Packages above).\n",
    "\n",
    "### Using `subprocess`\n",
    "\n",
    "The `subprocess` module is particularly important as it can\n",
    "run other applications, including R. Let's try – first launch `\n",
    "ipython`, then `cd` to your python code directory, and\n",
    "type:"
   ]
  },
  {
   "cell_type": "code",
   "execution_count": 125,
   "metadata": {},
   "outputs": [
    {
     "data": {
      "text/plain": [
       "512"
      ]
     },
     "execution_count": 125,
     "metadata": {},
     "output_type": "execute_result"
    }
   ],
   "source": [
    "import subprocess\n",
    "subprocess.os.system(\"geany boilerplate.py\")\n",
    "subprocess.os.system(\"gedit ../Data/TestOaksData.csv\")\n",
    "subprocess.os.system(\"python boilerplate.py\") # A bit silly! "
   ]
  },
  {
   "cell_type": "markdown",
   "metadata": {},
   "source": [
    "Easy as pie! You will notice that the terminal remains \"connected\" to\n",
    "geany after you run the first of the three lines above, and you have to\n",
    "quit geany to go on to launcing gedit. To avoid this, you can do:"
   ]
  },
  {
   "cell_type": "code",
   "execution_count": 126,
   "metadata": {},
   "outputs": [
    {
     "data": {
      "text/plain": [
       "0"
      ]
     },
     "execution_count": 126,
     "metadata": {},
     "output_type": "execute_result"
    }
   ],
   "source": [
    "subprocess.os.system(\"geany boilerplate.py &\")\n",
    "subprocess.os.system(\"gedit ../Data/TestOaksData.csv &\")\n",
    "subprocess.os.system(\"python boilerplate.py &\") # A bit silly! "
   ]
  },
  {
   "cell_type": "markdown",
   "metadata": {},
   "source": [
    "Adding a `&` after a program call, i.e., `geany\n",
    "boilerplate.py &` instead of `geany boilerplate.py`\n",
    "disconnects the terminal and allows you to run sequential commands in\n",
    "the terminal/bash.\n",
    "\n",
    "Similarly, to compile your LaTeXdocument (using `pdflatex` in\n",
    "this case):"
   ]
  },
  {
   "cell_type": "code",
   "execution_count": 127,
   "metadata": {},
   "outputs": [
    {
     "data": {
      "text/plain": [
       "256"
      ]
     },
     "execution_count": 127,
     "metadata": {},
     "output_type": "execute_result"
    }
   ],
   "source": [
    "subprocess.os.system(\"pdflatex yourlatexdoc.tex\")"
   ]
  },
  {
   "cell_type": "markdown",
   "metadata": {},
   "source": [
    "You can also do this (instead of using `subprocess.os`):"
   ]
  },
  {
   "cell_type": "code",
   "execution_count": 128,
   "metadata": {},
   "outputs": [
    {
     "data": {
      "text/plain": [
       "127"
      ]
     },
     "execution_count": 128,
     "metadata": {},
     "output_type": "execute_result"
    }
   ],
   "source": [
    "subprocess.Popen(\"geany boilerplate.py\", shell=True).wait()"
   ]
  },
  {
   "cell_type": "markdown",
   "metadata": {},
   "source": [
    "You can also use `subprocess.os` to make your code OS (Linux,\n",
    "Windows, Mac) independent. For example to assign paths:"
   ]
  },
  {
   "cell_type": "code",
   "execution_count": 129,
   "metadata": {},
   "outputs": [
    {
     "data": {
      "text/plain": [
       "'directory/subdirectory/file'"
      ]
     },
     "execution_count": 129,
     "metadata": {},
     "output_type": "execute_result"
    }
   ],
   "source": [
    "subprocess.os.path.join('directory', 'subdirectory', 'file')"
   ]
  },
  {
   "cell_type": "markdown",
   "metadata": {},
   "source": [
    "The result would be appropriately different on Windows (with backslashes\n",
    "instead of forward slashes).\n",
    "\n",
    "Note that in all cases you can \"catch\" the output of\n",
    "`subprocess` so that you can then use the output within your\n",
    "python script. A simple example, where the output is a\n",
    "platform-dependent directory path, is:"
   ]
  },
  {
   "cell_type": "code",
   "execution_count": 130,
   "metadata": {},
   "outputs": [],
   "source": [
    "MyPath = subprocess.os.path.join('directory', 'subdirectory', 'file')"
   ]
  },
  {
   "cell_type": "markdown",
   "metadata": {},
   "source": [
    "Explore what `subprocess` can do by tabbing\n",
    "`subprocess.`, and also for submodules, e.g., type\n",
    "`subprocess.os.` and then tab.\n",
    "\n",
    "### Running `R`\n",
    "\n",
    "R is likely an important part of your project's analysis and data\n",
    "visualization components in particular — for example for statistical\n",
    "analyses and pretty plotting (Ahem. `ggplot2`).\n",
    "\n",
    "You can run `R` from Python pretty easily. Try the following:\n",
    "\n",
    "$\\star$\n",
    "\n",
    "Create an R script file called `TestR.R` in your `\n",
    "Week6/Code` with the following content:"
   ]
  },
  {
   "cell_type": "code",
   "execution_count": 131,
   "metadata": {},
   "outputs": [
    {
     "name": "stdout",
     "output_type": "stream",
     "text": [
      "Hello, this is R!\n"
     ]
    }
   ],
   "source": [
    "print(\"Hello, this is R!\")"
   ]
  },
  {
   "cell_type": "markdown",
   "metadata": {},
   "source": [
    "Now, create `TestR.py` in\n",
    "`CMEECourseWork/Week6/Code` with the following content :"
   ]
  },
  {
   "cell_type": "code",
   "execution_count": 132,
   "metadata": {},
   "outputs": [
    {
     "data": {
      "text/plain": [
       "2"
      ]
     },
     "execution_count": 132,
     "metadata": {},
     "output_type": "execute_result"
    }
   ],
   "source": [
    "import subprocess\n",
    "subprocess.Popen(\"/usr/lib/R/bin/Rscript --verbose TestR.R > \\\n",
    "../Results/TestR.Rout 2> ../Results/TestR_errFile.Rout\",\\\n",
    " shell=True).wait()"
   ]
  },
  {
   "cell_type": "markdown",
   "metadata": {},
   "source": [
    "*Note the backslashes* — this is so that\n",
    "`python` can read the mutiline script as a single line.\n",
    "\n",
    "Now run `TestR.py` (or `%cpaste`) and check\n",
    "`TestR.Rout` and `TestR_errorFile.Rout`.\n",
    "\n",
    "Also check what happens if you run (type directly in `\n",
    "ipython` or `python` console):"
   ]
  },
  {
   "cell_type": "code",
   "execution_count": 133,
   "metadata": {},
   "outputs": [
    {
     "data": {
      "text/plain": [
       "2"
      ]
     },
     "execution_count": 133,
     "metadata": {},
     "output_type": "execute_result"
    }
   ],
   "source": [
    "subprocess.Popen(\"/usr/lib/R/bin/Rscript --verbose NonExistScript.R > \\\n",
    "../Results/outputFile.Rout 2> ../Results/errorFile.Rout\", \\\n",
    "shell=True).wait()"
   ]
  },
  {
   "cell_type": "markdown",
   "metadata": {},
   "source": [
    "It is possible that the location of `RScript` is different in\n",
    "your Ubuntu install. To locate it, try `find /usr -name\n",
    "'Rscript'` in the linux terminal (not in `python`!).\n",
    "\n",
    "What do you see on the screen? Now check `outputFile.Rout`\n",
    "and `errorFile.Rout`.\n",
    "\n",
    "Practicals\n",
    "----------\n",
    "\n",
    "As always, test, add, commit and push all your new code and data to your\n",
    "git repository.\n",
    "\n",
    "#### Using `os` problem 1\n",
    "\n",
    "Open `using_os.py` and complete the tasks assigned\\\n",
    "(hint: you might want to look at `subprocess.os.walk()`)\n",
    "\n",
    "#### Using `os` problem 2\n",
    "\n",
    "Open `fmr.R` and work out what it does; check that you have\n",
    "`NagyEtAl1999.csv`. Now write python code called\n",
    "`run_fmr_R.py` that:\n",
    "\n",
    "Runs `fmr.R` to generate the desired result\n",
    "\n",
    "`run_fmr_R.py` should also print to the python screen\n",
    "whether the run was successful, and the contents of the R console output\n",
    "\n",
    "Practicals wrap-up\n",
    "------------------\n",
    "\n",
    "1.  Review and make sure you can run all the commands, code fragments,\n",
    "    and scripts we have till now and get the expected outputs — all\n",
    "    scripts should work on any other linux laptop.\n",
    "\n",
    "2.  Include an appropriate docstring (if one is missing) at the\n",
    "    beginning of *each* of each of the python script /\n",
    "    module files you have written, as well as at the start of every\n",
    "    function (or sub-module) in a module.\n",
    "\n",
    "3.  Also annotate your code lines as much and as often as necessary\n",
    "    using \\#.\n",
    "\n",
    "4.  Keep all files organized in `CMEECourseWork`.\n",
    "\n",
    "5.  `git add`, `commit` and `push` all\n",
    "    your week's code and data to your git repository by next Wednesday.\n",
    "\n",
    "Readings and Resources\n",
    "----------------------\n",
    "\n",
    "<http://matplotlib.org/>\n",
    "\n",
    "For SciPy, the official documentation is great:\\\n",
    "<https://docs.sc.org/doc/scipy/reference/>\\\n",
    "Read about the scipy modules you think will be important to you.\n",
    "\n",
    "The \"ecosystem\" for Scientific computing in python:\n",
    "<http://www.scipy-lectures.org/>\n",
    "\n",
    "A Primer on Scientific Programming with Python\n",
    "<http://www.springer.com/us/book/9783642549595>; Multiple copies of this\n",
    "book are available from the central library and can be requested to\n",
    "Silwood from the IC library website. You can also find a pdf - google it\n",
    "\n",
    "Many great examples of applications in the scipy cookbook:\n",
    "<https://lagunita.stanford.edu/courses/DB/2014/SelfPaced/about>\n",
    "\n",
    "<https://docs.python.org/2/howto/regex.html>\n",
    "\n",
    "Google's short class on regex in python:\\\n",
    "<https://developers.google.com/edu/python/regular-expressions>\n",
    "\n",
    "<http://www.regular-expressions.info/> has a good intro, tips and a\n",
    "great array of canned solutions\n",
    "\n",
    "Use and abuse of regex:\\\n",
    "<https://blog.codinghorror.com/regex-use-vs-regex-abuse/>\n",
    "\n",
    "* https://developers.google.com/edu/python/exercises/baby-names\n",
    "\n",
    "\"The Definitive Guide to SQLite\" is a pretty complete guide to SQLite\n",
    "and freely available from [ \n",
    "    http://sd.blackball.lv/library/The_Definitive_Guide_to_SQLite_2nd_edition.pdf]( \n",
    "    http://sd.blackball.lv/library/The_Definitive_Guide_to_SQLite_2nd_edition.pdf)\n",
    "\n",
    "For databses in general, try the Stanford Introduction to Databases\n",
    "course: <https://www.coursera.org/course/db>"
   ]
  }
 ],
 "metadata": {
  "kernelspec": {
   "display_name": "Python 3",
   "language": "python",
   "name": "python3"
  },
  "language_info": {
   "codemirror_mode": {
    "name": "ipython",
    "version": 3
   },
   "file_extension": ".py",
   "mimetype": "text/x-python",
   "name": "python",
   "nbconvert_exporter": "python",
   "pygments_lexer": "ipython3",
   "version": "3.5.2"
  },
  "latex_envs": {
   "LaTeX_envs_menu_present": true,
   "autoclose": false,
   "autocomplete": false,
   "bibliofile": "biblio.bib",
   "cite_by": "apalike",
   "current_citInitial": 1,
   "eqLabelWithNumbers": true,
   "eqNumInitial": 1,
   "hotkeys": {
    "equation": "Ctrl-E",
    "itemize": "Ctrl-I"
   },
   "labels_anchors": false,
   "latex_user_defs": false,
   "report_style_numbering": false,
   "user_envs_cfg": false
  },
  "toc": {
   "base_numbering": 1,
   "nav_menu": {},
   "number_sections": true,
   "sideBar": false,
   "skip_h1_title": false,
   "title_cell": "Contents",
   "title_sidebar": "Contents",
   "toc_cell": true,
   "toc_position": {},
   "toc_section_display": true,
   "toc_window_display": false
  }
 },
 "nbformat": 4,
 "nbformat_minor": 2
}
