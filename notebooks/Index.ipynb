{
 "cells": [
  {
   "cell_type": "markdown",
   "metadata": {
    "toc": true
   },
   "source": [
    "<h1>Contents<span class=\"tocSkip\"></span></h1>\n",
    "<div class=\"toc\"><ul class=\"toc-item\"></ul></div>"
   ]
  },
  {
   "cell_type": "markdown",
   "metadata": {},
   "source": [
    "<h1> Welcome to the Multilingual Quantitative Biologist! <span class=\"tocSkip\"></span></h1>"
   ]
  },
  {
   "cell_type": "markdown",
   "metadata": {},
   "source": [
    "---\n",
    "<h1>  Contents <span class=\"tocSkip\"></span> </h1>\n",
    "\n",
    "0. [Introduction](00-Intro.ipynb) \n",
    "1. [Unix](01-Unix.ipynb)\n",
    "2. [Shell scripting](02-ShellScripting.ipynb)\n",
    "3. [Version Control with Git]()\n",
    "4. [Scientific documents with $\\LaTeX$]()\n",
    "5. [Introduction to Python]()\n",
    "6. [Advanced Python]()\n",
    "7. [Introduction to R]()\n",
    "8. [Advanced R]()\n",
    "9. [Data management and exploration]()\n",
    "10. [Data Visualization]()\n",
    "11. [High Performance Computing]()\n",
    "\n",
    "---\n",
    "* [Appendix: DIY Linux](Appendix-DIYLinux.ipynb)\n",
    "* [Appendix: Computing Miniproject]()\n",
    "* [Appendix: Jupyter intro](Appendix-JupyIntro.ipynb)\n",
    "* [Appendix: Maths using Jupyter](Appendix-Maths.ipynb)\n",
    "* [Appendix: Data using Jupyter+Python](Appendix-Data-Python.ipynb)\n",
    "* [Appendix: Miniproject](Appendix-MiniProj.ipynb)\n",
    "* [Appendix: Assessment](Appendix-Assessment.ipynb)"
   ]
  }
 ],
 "metadata": {
  "anaconda-cloud": {},
  "kernelspec": {
   "display_name": "R",
   "language": "R",
   "name": "ir"
  },
  "language_info": {
   "codemirror_mode": "r",
   "file_extension": ".r",
   "mimetype": "text/x-r-source",
   "name": "R",
   "pygments_lexer": "r",
   "version": "3.4.4"
  },
  "latex_envs": {
   "LaTeX_envs_menu_present": true,
   "autoclose": false,
   "autocomplete": false,
   "bibliofile": "biblio.bib",
   "cite_by": "apalike",
   "current_citInitial": 1,
   "eqLabelWithNumbers": true,
   "eqNumInitial": 1,
   "hotkeys": {
    "equation": "Ctrl-E",
    "itemize": "Ctrl-I"
   },
   "labels_anchors": false,
   "latex_user_defs": false,
   "report_style_numbering": false,
   "user_envs_cfg": false
  },
  "toc": {
   "base_numbering": 1,
   "nav_menu": {
    "height": "51px",
    "width": "250px"
   },
   "number_sections": true,
   "sideBar": true,
   "skip_h1_title": true,
   "title_cell": "Contents",
   "title_sidebar": "Contents",
   "toc_cell": true,
   "toc_position": {},
   "toc_section_display": "block",
   "toc_window_display": false
  }
 },
 "nbformat": 4,
 "nbformat_minor": 1
}
