{
 "cells": [
  {
   "cell_type": "markdown",
   "metadata": {},
   "source": [
    "<!--NAVIGATION-->\n",
    "< [ANOVA](15-anova.ipynb) | [Main Contents](Index.ipynb) | [Multiple Variables and Interactions](17-MulExplInter.ipynb)>"
   ]
  },
  {
   "cell_type": "markdown",
   "metadata": {},
   "source": [
    "# Linear Models: Multiple explanatory variables <span class=\"tocSkip\">"
   ]
  },
  {
   "cell_type": "markdown",
   "metadata": {
    "toc": true
   },
   "source": [
    "<h1>Contents<span class=\"tocSkip\"></span></h1>\n",
    "<div class=\"toc\"><ul class=\"toc-item\"><li><span><a href=\"#Introduction\" data-toc-modified-id=\"Introduction-1\">Introduction</a></span><ul class=\"toc-item\"><li><span><a href=\"#Loading-the-data\" data-toc-modified-id=\"Loading-the-data-1.1\">Loading the data</a></span></li><li><span><a href=\"#Boxplots-within-groups\" data-toc-modified-id=\"Boxplots-within-groups-1.2\">Boxplots within groups</a></span></li><li><span><a href=\"#lattice-again\" data-toc-modified-id=\"lattice-again-1.3\"><code>lattice</code> again</a></span></li><li><span><a href=\"#Barplots-again\" data-toc-modified-id=\"Barplots-again-1.4\">Barplots again</a></span></li><li><span><a href=\"#Plotting-means-and-confidence-intervals\" data-toc-modified-id=\"Plotting-means-and-confidence-intervals-1.5\">Plotting means and confidence intervals</a></span></li><li><span><a href=\"#Multiple-explanatory-variables\" data-toc-modified-id=\"Multiple-explanatory-variables-1.6\">Multiple explanatory variables</a></span></li><li><span><a href=\"#Predicted-values\" data-toc-modified-id=\"Predicted-values-1.7\">Predicted values</a></span></li></ul></li></ul></div>"
   ]
  },
  {
   "cell_type": "markdown",
   "metadata": {},
   "source": [
    "# Introduction\n",
    "\n",
    "Aims of this chapter[$^{[1]}$](#fn1):\n",
    "\n",
    "Including several explanatory variables in a model\n",
    "\n",
    "Interpreting summary tables for more complex models\n",
    "\n",
    "## Loading the data\n",
    "\n",
    "\n",
    "$\\star$ Create a new blank script called `MulExpl.R` in your `Code` directory and add some introductory comments.\n",
    "\n",
    "Use `load('../Data/mammals.Rdata')` to load the data saved at the end of [ANOVA](15-anova.ipynb). Look back at the end of the previous chapter to see how you saved the RData file. If `mammals.Rdata` is missing, just import the data again using `read.csv(“../Data/MammalData.csv”)` and add the `log C Value` column to the imported data frame again (got back to [ANOVA](15-anova.ipynb) and have a look if you have forgotten how).\n",
    "\n",
    "Use `ls` and `str` to check that the data has loaded correctly.\n",
    "\n",
    "The models we looked at in [ANOVA](15-anova.ipynb) explored whether the log genome size (C value, in picograms) of terrestrial mammals varied with trophic level and whether or not the species is ground dwelling. We will now look at a single model that includes both explanatory variables.\n",
    "\n",
    "The first thing to do is look at the data again. In [Regress](14-regress.ipynb), we asked if carnivores or herbivores had larger genomes. Now we want to ask questions like: do ground-dwelling carnivores have larger genomes than arboreal or flying omnivores? We need to look at plots within groups.\n",
    "\n",
    "Before we do that, there is a lot of missing data in the data frame and\n",
    "we should make sure that we are using the same data for our plots and\n",
    "models. We will subset the data down to the complete data for the three\n",
    "variables:"
   ]
  },
  {
   "cell_type": "code",
   "execution_count": null,
   "metadata": {},
   "outputs": [],
   "source": [
    "> mammals <- subset(mammals, select = c(GroundDwelling, TrophicLevel, \n",
    "logCvalue))\n",
    "> mammals <- na.omit(mammals)\n",
    "> str(mammals)\n",
    "\n",
    "'data.frame':   259 obs. of  3 variables:\n",
    " $GroundDwelling: Factor w/ 2 levels \"No\",\"Yes\": 2 2 2 2 2 1 2 1 1 1 ...\n",
    " $TrophicLevel  : Factor w/ 3 levels \"Carnivore\",\"Herbivore\",..: 1 2 2 2 3 3 3 2 2 3 ...\n",
    " $logCvalue     : num  0.94 1.322 1.381 1.545 0.888 ...\n",
    "  - attr(*, \"na.action\")=Class 'omit'  Named int [1:120] 2 4 7 9 10 11 14 15 20 21 ...\n",
    "   .. ..- attr(*, \"names\")= chr [1:120] \"2\" \"4\" \"7\" \"9\" ..."
   ]
  },
  {
   "cell_type": "markdown",
   "metadata": {},
   "source": [
    "## Boxplots within groups\n",
    "\n",
    "In Chapter \\[ch:regress\\], we used the `subset` option to fit\n",
    "a model just to dragonflies. You can use `subset` with plots\n",
    "too.\n",
    "\n",
    "$\\star$ Add `par(mfrow=c(1,2))` to your script to split the graphics\n",
    "into two panels.\n",
    "\n",
    "Copy the code from [ANOVA](15-anova.ipynb) to create a boxplot of genome\n",
    "size by trophic level into your script.\n",
    "\n",
    "Using this, and adding a `subset` option to the code,\n",
    "generate the plots shown in the figure below.\n",
    "\n",
    "You can use the option `main` to add titles to a plot.\n",
    "\n",
    "<a id=\"fig:boxplots\"></a>\n",
    "<figure>\n",
    "    <img src=\"./graphics/boxplots.svg\" alt=\"boxplots\" style=\"width:100%\">\n",
    "    <small> \n",
    "        <center>\n",
    "            <figcaption> \n",
    "           Figure 1\n",
    "            </figcaption>\n",
    "        </center>\n",
    "    </small>\n",
    "</figure>\n",
    "\n",
    "## `lattice` again\n",
    "\n",
    "Recall that the <span>lattice</span> package provides some very neat\n",
    "extra ways to plot data in groups. They look pretty but the downside is\n",
    "that they don't use the same graphics system — all those\n",
    "<span>par</span> commands are useless for these graphs. The defaults\n",
    "look good though!"
   ]
  },
  {
   "cell_type": "code",
   "execution_count": null,
   "metadata": {},
   "outputs": [],
   "source": [
    "> library(lattice)\n",
    "> bwplot(logCvalue ~ TrophicLevel | GroundDwelling, data= mammals)"
   ]
  },
  {
   "cell_type": "markdown",
   "metadata": {},
   "source": [
    "<a id=\"fig:bwplots\"></a>\n",
    "<figure>\n",
    "    <img src=\"./graphics/bwplots.svg\" alt=\"bwplots\" style=\"width:100%\">\n",
    "    <small> \n",
    "        <center>\n",
    "            <figcaption> \n",
    "           Figure 2\n",
    "            </figcaption>\n",
    "        </center>\n",
    "    </small>\n",
    "</figure>\n",
    "\n",
    "The code `logCvalue ~ TrophicLevel | GroundDwelling` means\n",
    "plot the relationship between genome size and trophic level, but group\n",
    "within levels of ground dwelling. We are using the function\n",
    "`bwplot`, which is provided by `lattice` to create\n",
    "box and whisker plots.\n",
    "\n",
    "$\\star$ Create the lattice plots above from within your script.\n",
    "\n",
    "Rearrange this code to have three plots, showing the box and whisker\n",
    "plots for `GroundDwelling`, grouped within the levels of\n",
    "`TrophicLevel`.\n",
    "\n",
    "Try reshaping the R plot window and running the command again. Lattice\n",
    "tries to make good use of the available space when creating lattice\n",
    "plots.\n",
    "\n",
    "## Barplots again\n",
    "\n",
    "We're going to make the barplot code from [Regress](14-regress.ipynb) even\n",
    "more complicated! This time we want to know the mean log genome size\n",
    "within combinations of `TrophicLevel` and\n",
    "`GroundDwelling`. We can still use `tapply`,\n",
    "providing more than one grouping factor. We create a set of grouping\n",
    "factors like this:"
   ]
  },
  {
   "cell_type": "code",
   "execution_count": null,
   "metadata": {},
   "outputs": [],
   "source": [
    "> groups <- list(mammals$GroundDwelling, mammals$TrophicLevel)\n",
    "> groupMeans <- tapply(mammals$logCvalue, groups, FUN = mean)\n",
    "> print(groupMeans)\n",
    "\n",
    "     Carnivore Herbivore Omnivore\n",
    " No     0.9589     1.012    1.192\n",
    " Yes    1.2138     1.298    1.299"
   ]
  },
  {
   "cell_type": "markdown",
   "metadata": {},
   "source": [
    "$\\star$ Copy this code into your script and run it.\n",
    "\n",
    "Use this code and the script from [ANOVA](15-anova.ipynb) to get the set of\n",
    "standard errors for the groups `groupSE`. You should get\n",
    "this:"
   ]
  },
  {
   "cell_type": "code",
   "execution_count": null,
   "metadata": {},
   "outputs": [],
   "source": [
    "Carnivore Herbivore Omnivore\n",
    "     No    0.04842   0.03419  0.02410\n",
    "     Yes   0.05976   0.02787  0.03587"
   ]
  },
  {
   "cell_type": "markdown",
   "metadata": {},
   "source": [
    "Now we can use <span>barplot</span>. The default option for a barplot of\n",
    "a table is to create a stacked barplot, which is not what we want. The\n",
    "option <span>beside=TRUE</span> makes the bars for each column appear\n",
    "side by side.\n",
    "\n",
    "Once again, we save the midpoints of the bars to add the\n",
    "error bars. The other options in the code below change the colours of\n",
    "the bars and the length of error bar caps."
   ]
  },
  {
   "cell_type": "code",
   "execution_count": null,
   "metadata": {},
   "outputs": [],
   "source": [
    "# get upper and lower standard error height\n",
    "    > upperSE <- groupMeans + groupSE\n",
    "    > lowerSE <- groupMeans - groupSE\n",
    "# create barplot\n",
    "    > barMids <- barplot(groupMeans, ylim=c(0, max(upperSE)), beside=TRUE, \n",
    "    ylab= ' log C value (pg) ' , col=c( ' white ' , ' grey70 '))\n",
    "    > arrows(barMids, upperSE, barMids, lowerSE, ang=90, code=3, len=0.05)"
   ]
  },
  {
   "cell_type": "markdown",
   "metadata": {},
   "source": [
    "<a id=\"fig:barplot_1\"></a>\n",
    "<figure>\n",
    "    <img src=\"./graphics/barplot_1.svg\" alt=\"barplot_1\" style=\"width:100%\">\n",
    "    <small> \n",
    "        <center>\n",
    "            <figcaption> \n",
    "           Figure 3\n",
    "            </figcaption>\n",
    "        </center>\n",
    "    </small>\n",
    "</figure>\n",
    "\n",
    "$\\star$ Generate the barplot above and then edit your script to change the\n",
    "colours and error bar lengths to your taste.\n",
    "\n",
    "## Plotting means and confidence intervals\n",
    "\n",
    "We'll use the `plotmeans` function again as an exercise to\n",
    "change graph settings and to prepare figures for write ups.\n",
    "\n",
    "<a id=\"fig:plotmeans\"></a>\n",
    "<figure>\n",
    "    <img src=\"./graphics/plotmeans.svg\" alt=\"plotmeans\" style=\"width:90%\">\n",
    "    <small> \n",
    "        <center>\n",
    "            <figcaption> \n",
    "           Figure 4: Means and 95% confidence intervals for log genome size (picograms) in mammals for different trophic levels for a) ground dwelling species and b) other species.\n",
    "            </figcaption>\n",
    "        </center>\n",
    "    </small>\n",
    "</figure>\n",
    "\n",
    "The default options in R use wide margins and spaced out axes and take\n",
    "up a lot of space that could be used for plotting data. You've already\n",
    "seen the `par` function and the options `mfrow`\n",
    "for multiple plots and `mar` to adjust margin size. The\n",
    "option `mgp` adjusts the placement of the axis label, tick\n",
    "labels and tick locations. See `?par` for help on the these\n",
    "options.\n",
    "\n",
    "Adding large titles to graphs is also a bad idea — it uses lots of space\n",
    "to explain something that should be in the figure legend. With multiple\n",
    "plots in a figure, you have to label graphs so that the figure legend\n",
    "can refer to them. You can add labels using\n",
    "`text(x,y,'label')`.\n",
    "\n",
    "A figure legend should give a clear stand-alone description of the whole\n",
    "figure.\n",
    "\n",
    "You *must* link from your text to your figures — a reader\n",
    "has to know which figures refer to which results. So: ‘There are clear\n",
    "differences in mean genome size between species at different trophic\n",
    "levels and between ground dwelling and other species, [Figure 3](#fig:plotmeans)'.\n",
    "\n",
    "$\\star$ Use `plotmeans` from [ANOVA](15-anova.ipynb) and the `subset` option to generate the two plots below. You will need to\n",
    "set the `ylim` option for the two plots to make them use the same $y$ axis.\n",
    "\n",
    "Use `text` to add labels — the command\n",
    "`par('usr')` will show you the limits of the plot\n",
    "($x_{min}, x_{max}, y_{min}, y_{max}$) and help pick a location for the labels.\n",
    "\n",
    "Change the `par` settings in your code and redraw the plots\n",
    "to try and make better use of the space. In the example below, the box\n",
    "shows the edges of the R graphics window.\n",
    "\n",
    "## Multiple explanatory variables\n",
    "\n",
    "All those graphs suggest:\n",
    "\n",
    "Carnivores have smaller genome size; omnivores have larger genome size.\n",
    "\n",
    "Herbivores are somewhere in between, but not consistently.\n",
    "\n",
    "All ground dwelling mammals typically have larger genome sizes.\n",
    "\n",
    "We suspected these things from [ANOVA](15-anova.ipynb), but now we can see\n",
    "that they might have separate effects. We'll fit a linear model to\n",
    "explore this and add the two explanatory variables together.\n",
    "\n",
    "$\\star$ This is an important section — read it through carefully and ask\n",
    "questions if you are unsure. Copy the code into your script and add\n",
    "comments. *Do not just jump to the next action item*!"
   ]
  },
  {
   "cell_type": "code",
   "execution_count": null,
   "metadata": {},
   "outputs": [],
   "source": [
    "> model <- lm(logCvalue ~ TrophicLevel + GroundDwelling, data = mammals)    "
   ]
  },
  {
   "cell_type": "markdown",
   "metadata": {},
   "source": [
    "We're going to do things right this time and check the model diagnostics\n",
    "before we rush into interpretation."
   ]
  },
  {
   "cell_type": "code",
   "execution_count": null,
   "metadata": {},
   "outputs": [],
   "source": [
    "> par(mfrow=c(2,2))\n",
    "> plot(model)"
   ]
  },
  {
   "cell_type": "markdown",
   "metadata": {},
   "source": [
    "<a id=\"fig:plotmeans\"></a>\n",
    "<figure>\n",
    "    <img src=\"./graphics/diagnostics1.svg\" alt=\"diagnostics1\">\n",
    "    <small> \n",
    "        <center>\n",
    "            <figcaption> \n",
    "           Figure 5\n",
    "            </figcaption>\n",
    "        </center>\n",
    "    </small>\n",
    "</figure>\n",
    "\n",
    "There are six predicted values now - three trophic levels for each of\n",
    "the two levels of ground dwelling. Those plots look ok so now we can\n",
    "look at the analysis of variance table:"
   ]
  },
  {
   "cell_type": "code",
   "execution_count": null,
   "metadata": {},
   "outputs": [],
   "source": [
    "> anova(model)\n",
    "\n",
    " Analysis of Variance Table\n",
    " \n",
    " Response: logCvalue\n",
    "                 Df Sum Sq Mean Sq F value  Pr(>F)    \n",
    " TrophicLevel     2   0.81   0.407    7.86 0.00049 ***\n",
    " GroundDwelling   1   2.75   2.747   53.04 4.1e-12 ***\n",
    " Residuals      255  13.21   0.052                    \n",
    " ---\n",
    " Signif. codes:  0 '***' 0.001 '**' 0.01 '*' 0.05 '.' 0.1 ' ' 1 "
   ]
  },
  {
   "cell_type": "markdown",
   "metadata": {},
   "source": [
    "*Ignore the $p$ values*! Yes, they're highly significant\n",
    "but we want to understand the model, not rubber stamp it with\n",
    "‘significant'.\n",
    "\n",
    "The sums of squares for the variables are both small compared to the\n",
    "residual sums of squares — there is lots of unexplained variation. We\n",
    "can calculate the $r^2$ as explained sums of squares over total sums of\n",
    "squares:\n",
    "$$\\frac{0.81 + 2.75}{0.81 + 2.75 + 13.21} = \\frac{3.56}{16.77} = 0.212$$\n",
    "\n",
    "Trophic level explain much less variation than ground dwelling — this\n",
    "makes intuitive sense from the plots since there are big differences\n",
    "between [Figure 3](#fig:plotmeans)a/b, but small\n",
    "differences within.\n",
    "\n",
    "We could also calculate a significance for the whole model by merging\n",
    "the terms. The total explained sums of squares of $0.81 + 2.75 \n",
    "=3.56$ uses $2+1 =3$ degrees of freedom, so the mean sums of squares for\n",
    "all the terms together is $3.56/3=1.187$. Dividing this by the residual\n",
    "mean square of 0.052 gives an F of $1.187 / 0.052 = 22.83$.\n",
    "\n",
    "Now we can look at the summary table to see the coefficients."
   ]
  },
  {
   "cell_type": "code",
   "execution_count": null,
   "metadata": {},
   "outputs": [],
   "source": [
    "summary(model) \n",
    "\n",
    " Call:\n",
    " lm(formula = logCvalue ~ TrophicLevel + GroundDwelling, data = mammals)\n",
    " \n",
    " Residuals:\n",
    "     Min      1Q  Median      3Q     Max \n",
    " -0.4990 -0.1784 -0.0146  0.1250  0.8624 \n",
    " \n",
    " Coefficients:\n",
    "                       Estimate Std. Error t value Pr(>|t|)    \n",
    " (Intercept)             0.9798     0.0354   27.68  < 2e-16 ***\n",
    " TrophicLevelHerbivore   0.0766     0.0397    1.93    0.055 .  \n",
    " TrophicLevelOmnivore    0.1727     0.0398    4.34  2.0e-05 ***\n",
    " GroundDwellingYes       0.2095     0.0288    7.28  4.1e-12 ***\n",
    " ---\n",
    " Signif. codes:  0 '***' 0.001 '**' 0.01 '*' 0.05 '.' 0.1 ' ' 1 \n",
    " \n",
    " Residual standard error: 0.228 on 255 degrees of freedom\n",
    " Multiple R-squared: 0.212, Adjusted R-squared: 0.203 \n",
    " F-statistic: 22.9 on 3 and 255 DF,  p-value: 3.6e-13 \n",
    " "
   ]
  },
  {
   "cell_type": "markdown",
   "metadata": {},
   "source": [
    "Starting at the bottom, `summary` has again calculated $r^2$\n",
    "for us and also an $F$ statistic for the whole model, which matches the\n",
    "calculation above.\n",
    "\n",
    "The other important bits are the four coefficients. The intercept is now\n",
    "the reference level for two variables: it is the mean for carnivores\n",
    "that are not ground dwelling. We then have differences from this value\n",
    "for being an omnivore or herbivore and for being ground dwelling. There\n",
    "is a big change in genome size associated with ground dwelling and\n",
    "omnivory and both of these have large effects sizes, each introducing\n",
    "about a 20% difference in genome size from the non-ground dwelling\n",
    "carnivores. In contrast, herbivory makes a small difference — about 8%.\n",
    "Because the difference is small and the standard error is large, the $t$\n",
    "value suggests that this difference might arise just be chance. Put\n",
    "another way, it isn't significant.\n",
    "\n",
    "The table below shows how these four coefficients combine to give the\n",
    "predicted values for each of the group means.\n",
    "\n",
    "$$\\begin{array}{|r|rrr|}\n",
    "\\hline\n",
    "           & \\textrm{Carnivore} & \\textrm{Herbivore} & \\textrm{Omnivore}\\\\\n",
    "\\hline\n",
    "\\textrm{Not ground} & {\\it 0.98} = 0.98    & {\\it 0.98  + 0.08} =1.06    & {\\it 0.98 + 0.17} =1.15 \\\\\n",
    "\\textrm{Ground}     & {\\it 0.98 + 0.21} = 1.19    & {\\it 0.98  + 0.08   + 0.21} =1.27   & {\\it 0.98 + 0.17  + 0.21} =1.36\\\\\n",
    "\\hline\n",
    "\\end{array}$$\n",
    "\n",
    "Predicted values\n",
    "----------------\n",
    "\n",
    "Getting the model predictions by hand in this way is tedious and error\n",
    "prone. There is handy function called `predict` which uses\n",
    "the model directly to calculate values. The default is to give you the\n",
    "prediction for each point in the original data, but you can also ask for\n",
    "specific predictions.\n",
    "\n",
    "The first thing to do is to set up a small data frame containing the\n",
    "explanatory values we want to use. The variable names and the level name\n",
    "have to match *exactly*, so we'll use the\n",
    "`levels` function to get the names. We want to look at all\n",
    "    six combinations, so we'll use the `rep` function to set this\n",
    "up. The `each=2` option repeats each value twice in\n",
    "succession; the `times=3` options repeats the whole set of\n",
    "values three times."
   ]
  },
  {
   "cell_type": "code",
   "execution_count": null,
   "metadata": {},
   "outputs": [],
   "source": [
    "# data frame of combinations of variables\n",
    "> gd <- rep(levels(mammals$GroundDwelling), times = 3)\n",
    "> print(gd)\n",
    "\n",
    " [1] \"No\"  \"Yes\" \"No\"  \"Yes\" \"No\"  \"Yes\"\n",
    " \n",
    "> tl <- rep(levels(mammals$TrophicLevel), each = 2)\n",
    "> print(tl)\n",
    "\n",
    "  [1] \"Carnivore\" \"Carnivore\" \"Herbivore\" \"Herbivore\" \"Omnivore\"  \"Omnivore\" \n",
    "\n",
    "> predVals <- data.frame(GroundDwelling = gd, TrophicLevel = tl)"
   ]
  },
  {
   "cell_type": "markdown",
   "metadata": {},
   "source": [
    "Now we have the data frame of values we want, we can use `predict`. As\n",
    "when we created log values, we can save the output back into a new\n",
    "column in the data frame."
   ]
  },
  {
   "cell_type": "code",
   "execution_count": null,
   "metadata": {},
   "outputs": [],
   "source": [
    "> predVals$predict <- predict(model, newdata = predVals)\n",
    "> print(predVals)\n",
    "\n",
    "   GroundDwelling TrophicLevel predict\n",
    " 1             No    Carnivore  0.9798\n",
    " 2            Yes    Carnivore  1.1892\n",
    " 3             No    Herbivore  1.0563\n",
    " 4            Yes    Herbivore  1.2658\n",
    " 5             No     Omnivore  1.1524\n",
    " 6            Yes     Omnivore  1.3619"
   ]
  },
  {
   "cell_type": "markdown",
   "metadata": {},
   "source": [
    "$\\star$ These are in the same order as the bars from your barplot. Make a copy\n",
    "of the barplot and arrows code and then add the code below to generate\n",
    "the plot."
   ]
  },
  {
   "cell_type": "code",
   "execution_count": null,
   "metadata": {},
   "outputs": [],
   "source": [
    "> points(barMids, predVals$predict, col= ' red ' , pch=5)"
   ]
  },
  {
   "cell_type": "markdown",
   "metadata": {},
   "source": [
    "<a id=\"fig:barplotpred\"></a>\n",
    "<figure>\n",
    "    <img src=\"./graphics/barplotpred.svg\" alt=\"barplotpred\" style=\"width:60%\">\n",
    "    <small> \n",
    "        <center>\n",
    "            <figcaption> \n",
    "           Figure 6\n",
    "            </figcaption>\n",
    "        </center>\n",
    "    </small>\n",
    "</figure>\n",
    "\n",
    "The red points do not match to the calculated means. This is because the\n",
    "model only includes a single difference between ground and non-ground\n",
    "species, which has to be the same for each trophic group. That is, there\n",
    "is no interaction between trophic level and ground / non-ground identity\n",
    "of each species in the current model.\n",
    "\n",
    "[MulExplInter](17-MulExplInter.ipynb) will look at interactions, which allows\n",
    "these values to differ using an interaction term in the model.\n",
    "\n",
    "---\n",
    "<a id=\"fn1\"></a>\n",
    "[1]: Here you work with the script file `MulExpl.R`"
   ]
  }
 ],
 "metadata": {
  "kernelspec": {
   "display_name": "R",
   "language": "R",
   "name": "ir"
  },
  "language_info": {
   "codemirror_mode": "r",
   "file_extension": ".r",
   "mimetype": "text/x-r-source",
   "name": "R",
   "pygments_lexer": "r",
   "version": "3.4.4"
  },
  "latex_envs": {
   "LaTeX_envs_menu_present": true,
   "autoclose": false,
   "autocomplete": false,
   "bibliofile": "biblio.bib",
   "cite_by": "apalike",
   "current_citInitial": 1,
   "eqLabelWithNumbers": true,
   "eqNumInitial": 1,
   "hotkeys": {
    "equation": "Ctrl-E",
    "itemize": "Ctrl-I"
   },
   "labels_anchors": false,
   "latex_user_defs": false,
   "report_style_numbering": false,
   "user_envs_cfg": false
  },
  "toc": {
   "base_numbering": 1,
   "nav_menu": {},
   "number_sections": false,
   "sideBar": false,
   "skip_h1_title": false,
   "title_cell": "Contents",
   "title_sidebar": "Contents",
   "toc_cell": true,
   "toc_position": {},
   "toc_section_display": true,
   "toc_window_display": false
  }
 },
 "nbformat": 4,
 "nbformat_minor": 2
}
