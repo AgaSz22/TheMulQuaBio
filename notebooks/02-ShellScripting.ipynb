{
 "cells": [
  {
   "cell_type": "markdown",
   "metadata": {},
   "source": [
    "<!--NAVIGATION-->\n",
    "< [Unix](01-Git.ipynb) | [Main Contents](Index.ipynb) | [Version control with Git](03-Git.ipynb)>"
   ]
  },
  {
   "cell_type": "markdown",
   "metadata": {},
   "source": [
    "# Shell scripting <span class=\"tocSkip\"></span><a name=\"chap:sscripting\"></a>"
   ]
  },
  {
   "cell_type": "markdown",
   "metadata": {
    "toc": true
   },
   "source": [
    "<h1>Contents<span class=\"tocSkip\"></span></h1>\n",
    "<div class=\"toc\"><ul class=\"toc-item\"><li><span><a href=\"#Shell-scripting:-What-and-Why\" data-toc-modified-id=\"Shell-scripting:-What-and-Why-1\"><span class=\"toc-item-num\">1&nbsp;&nbsp;</span>Shell scripting: What and Why</a></span><ul class=\"toc-item\"><li><span><a href=\"#Running-shell-scripts\" data-toc-modified-id=\"Running-shell-scripts-1.1\"><span class=\"toc-item-num\">1.1&nbsp;&nbsp;</span>Running shell scripts</a></span></li></ul></li><li><span><a href=\"#Your-first-shell-script\" data-toc-modified-id=\"Your-first-shell-script-2\"><span class=\"toc-item-num\">2&nbsp;&nbsp;</span>Your first shell script</a></span></li><li><span><a href=\"#A-useful-shell-scripting-example\" data-toc-modified-id=\"A-useful-shell-scripting-example-3\"><span class=\"toc-item-num\">3&nbsp;&nbsp;</span>A useful shell-scripting example</a></span></li><li><span><a href=\"#Variables-in-shell-scripts\" data-toc-modified-id=\"Variables-in-shell-scripts-4\"><span class=\"toc-item-num\">4&nbsp;&nbsp;</span>Variables in shell scripts</a></span><ul class=\"toc-item\"><li><span><a href=\"#Some-more-Examples\" data-toc-modified-id=\"Some-more-Examples-4.1\"><span class=\"toc-item-num\">4.1&nbsp;&nbsp;</span>Some more Examples</a></span></li></ul></li><li><span><a href=\"#Practical\" data-toc-modified-id=\"Practical-5\"><span class=\"toc-item-num\">5&nbsp;&nbsp;</span>Practical</a></span><ul class=\"toc-item\"><li><span><a href=\"#A-shell-script-exercise\" data-toc-modified-id=\"A-shell-script-exercise-5.1\"><span class=\"toc-item-num\">5.1&nbsp;&nbsp;</span>A shell script exercise</a></span></li></ul></li><li><span><a href=\"#Readings-&amp;-Resources\" data-toc-modified-id=\"Readings-&amp;-Resources-6\"><span class=\"toc-item-num\">6&nbsp;&nbsp;</span>Readings &amp; Resources</a></span></li></ul></div>"
   ]
  },
  {
   "cell_type": "markdown",
   "metadata": {},
   "source": [
    "\n",
    "## Shell scripting: What and Why\n",
    "\n",
    "Instead of typing all the UNIX commands we need to perform one after the other, we can save them all in a file (a \"script\") and execute them all at once.\n",
    "\n",
    "The `bash` shell we are using provides a proper syntax that can be used to build complex command sequences and scripts.\n",
    "\n",
    "Scripts can be used to automate repetitive tasks, to do simple data manipulation or to perform maintenance of your computer (e.g., backup). Indeed, most data manipulation can be handled by scripts without the need of writing a proper program.\n",
    "\n",
    "### Running shell scripts\n",
    "\n",
    "There are two ways of running a script:\n",
    "\n",
    "1.  The first is to call the interpreter bash to run the file (try this, but won't work as you don't have a `myscript.sh` script !)"
   ]
  },
  {
   "cell_type": "code",
   "execution_count": 1,
   "metadata": {},
   "outputs": [
    {
     "name": "stdout",
     "output_type": "stream",
     "text": [
      "bash: myscript.sh: No such file or directory\n"
     ]
    },
    {
     "ename": "",
     "evalue": "127",
     "output_type": "error",
     "traceback": []
    }
   ],
   "source": [
    "bash myscript.sh # OR sh myscript.sh"
   ]
  },
  {
   "cell_type": "markdown",
   "metadata": {},
   "source": [
    "(A script that does something specific in a given project)\n",
    "\n",
    "2.  OR, make the script executable and execute it:"
   ]
  },
  {
   "cell_type": "code",
   "execution_count": null,
   "metadata": {},
   "outputs": [],
   "source": [
    "chmod +x myscript.sh\n",
    "myscript.sh"
   ]
  },
  {
   "cell_type": "markdown",
   "metadata": {},
   "source": [
    "(A script that does something generic, and is likely to be reused     again and again – can you think of examples?)\n",
    "\n",
    "The generic scripts of type (2) can be saved in `username/bin/` and made executable (the `.sh` extension not necessary.)"
   ]
  },
  {
   "cell_type": "code",
   "execution_count": null,
   "metadata": {},
   "outputs": [],
   "source": [
    "mkdir ~/bin\n",
    "PATH=$PATH:$HOME/bin #Tell UNIX to look in /home/bin for commands"
   ]
  },
  {
   "cell_type": "markdown",
   "metadata": {},
   "source": [
    "## Your first shell script\n",
    "\n",
    "Let's write our first shell script! For starters,\n",
    "\n",
    "$\\star$ Write and save `boilerplate.sh` in `CMEECourseWork/Week1/Code`, and add the following script to it\n",
    "(type it in your code editor):\n",
    "\n",
    "```bash\n",
    "#!/bin/bash\n",
    "# Author: Your Name your.login@imperial.ac.uk\n",
    "# Script: boilerplate.sh\n",
    "# Desc: simple boilerplate for shell scripts\n",
    "# Arguments: none\n",
    "# Date: Oct 2018\n",
    "\n",
    "echo -e \"\\nThis is a shell script! \\n\" #what does -e do?\n",
    "\n",
    "#exit\n",
    "\n",
    "```\n",
    "The first line is a \"shebang\" (or sha-bang or hashbang or pound-bang or hash-exclam or hash-pling! – Wikipedia). It can also can be written as `#!/bin/sh`. It tells the bash interpreter that this is a bash script and that it should be interpreted and run as such. The hash marks in the following lines tell the interpreter that it should ignore the lines following them (that's how you put in script documentation (who wrote the script and when, what the script does, etc.) and comments on particular line of script. \n",
    "\n",
    "$\\star$ Now `cd` to your `code` directory, and run it:"
   ]
  },
  {
   "cell_type": "code",
   "execution_count": 2,
   "metadata": {},
   "outputs": [
    {
     "name": "stdout",
     "output_type": "stream",
     "text": [
      "\n",
      "This is a shell script! \n",
      "\n"
     ]
    }
   ],
   "source": [
    "bash boilerplate.sh"
   ]
  },
  {
   "cell_type": "markdown",
   "metadata": {},
   "source": [
    "---\n",
    "\n",
    "> **Sending commands from code editor to terminal:** Make sure your code editor is configured to send lines or selected arts of code directly to terminal using a keyboard key combination (typicallym `Ctrl+Enter`)\n",
    "\n",
    "---"
   ]
  },
  {
   "cell_type": "markdown",
   "metadata": {},
   "source": [
    "## A useful shell-scripting example\n",
    "\n",
    "Let's write a shell script to transform comma-separated files (csv) to tab-separated files and vice-versa. This can be handy — for example, in certain computer languages, it is much easier to read tab or space\n",
    "separated files than csv (e.g., `C`)\n",
    "\n",
    "To do this, in the bash we can use `tr` (abbreviation of `tr`anslate or `tr`ansliterate), which deletes or substitute characters. Here are some examples."
   ]
  },
  {
   "cell_type": "code",
   "execution_count": 3,
   "metadata": {},
   "outputs": [
    {
     "name": "stdout",
     "output_type": "stream",
     "text": [
      "Remove excess spaces.\n"
     ]
    }
   ],
   "source": [
    "echo \"Remove    excess      spaces.\" | tr -s \"\\b\" \" \""
   ]
  },
  {
   "cell_type": "code",
   "execution_count": 4,
   "metadata": {
    "scrolled": true
   },
   "outputs": [
    {
     "name": "stdout",
     "output_type": "stream",
     "text": [
      "remove ll the s\n"
     ]
    }
   ],
   "source": [
    "echo \"remove all the as\" | tr -d \"a\""
   ]
  },
  {
   "cell_type": "code",
   "execution_count": 5,
   "metadata": {
    "scrolled": true
   },
   "outputs": [
    {
     "name": "stdout",
     "output_type": "stream",
     "text": [
      "SET TO UPPERCASE\n"
     ]
    }
   ],
   "source": [
    "echo \"set to uppercase\" | tr [:lower:] [:upper:]"
   ]
  },
  {
   "cell_type": "code",
   "execution_count": 6,
   "metadata": {},
   "outputs": [
    {
     "name": "stdout",
     "output_type": "stream",
     "text": [
      "10.00,1.33\n"
     ]
    }
   ],
   "source": [
    "echo \"10.00 only numbers 1.33\" | tr -d [:alpha:] | tr -s \" \" \",\""
   ]
  },
  {
   "cell_type": "markdown",
   "metadata": {},
   "source": [
    "Now write a shell script to substitute all tabs with commas called `tabtocsv.sh` in `Week1/Code`:\n",
    "\n",
    "```bash\n",
    "#!/bin/bash\n",
    "# Author: Your name you.login@imperial.ac.uk\n",
    "# Script: tabtocsv.sh\n",
    "# Desc: substitute the tabs in the files with commas\n",
    "#\n",
    "saves the output into a .csv file\n",
    "# Arguments: 1-> tab delimited file\n",
    "# Date: Oct 2018\n",
    "\n",
    "echo \"Creating a comma delimited version of $1 ...\"\n",
    "cat $1 | tr -s \"\\t\" \",\" >> $1.csv\n",
    "echo \"Done!\"\n",
    "exit\n",
    "```\n",
    "\n",
    "Now test it (note where the output file gets saved and why):"
   ]
  },
  {
   "cell_type": "code",
   "execution_count": null,
   "metadata": {},
   "outputs": [],
   "source": [
    "echo -e \"test \\t\\t test\" >> ../SandBox/test.txt\n",
    "bash tabtocsv.sh ../SandBox/test.txt"
   ]
  },
  {
   "cell_type": "markdown",
   "metadata": {},
   "source": [
    "## Variables in shell scripts\n",
    "\n",
    "There are three ways to assign values to variables (note lack of spaces!):\n",
    "\n",
    "1.  Explicit declaration: `MYVAR=myvalue`\n",
    "2.  Reading from the user: `read MYVAR`\n",
    "3.  Command substitution: `MYVAR=\\$( (ls | wc -l) )`\n",
    "\n",
    "Here are some examples of assignments (try them out and save as a single  `Week1/Code/variables.sh` script):\n",
    "\n",
    "```bash\n",
    "\n",
    "#!/bin/bash\n",
    "# Shows the use of variables\n",
    "MyVar='some string'\n",
    "echo 'the current value of the variable is' $MyVar\n",
    "echo 'Please enter a new string'\n",
    "read MyVar\n",
    "echo 'the current value of the variable is' $MyVar\n",
    "## Reading multiple values\n",
    "echo 'Enter two numbers separated by space(s)'\n",
    "read a b\n",
    "echo 'you entered' $a 'and' $b '. Their sum is:'\n",
    "mysum=`expr $a + $b`\n",
    "echo $mysum\n",
    "```\n",
    "\n",
    "And also (save as `Week1/Code/MyExampleScript.sh`):\n",
    "\n",
    "```bash\n",
    "#!/bin/bash\n",
    "msg1=\"Hello\"\n",
    "msg2=$USER\n",
    "echo \"$msg1 $msg2\"\n",
    "echo \"Hello $USER\"\n",
    "echo\n",
    "```\n",
    "### Some more Examples\n",
    "\n",
    "Here are a few more illustrative examples (test each one out, save in `Week1/Code/` with the given name):\n",
    "\n",
    "`CountLines.sh`:\n",
    "```bash\n",
    "#!/bin/bash\n",
    "NumLines=`wc -l < $1`\n",
    "echo \"The file $1 has $NumLines lines\"\n",
    "echo\n",
    "```\n",
    "\n",
    "`ConcatenateTwoFiles.sh`:\n",
    "\n",
    "```bash\n",
    "#!/bin/bash\n",
    "cat $1 > $3\n",
    "cat $2 >> $3\n",
    "echo \"Merged File is\"\n",
    "cat $3\n",
    "```"
   ]
  },
  {
   "cell_type": "markdown",
   "metadata": {},
   "source": [
    "## Practical\n",
    "\n",
    "**Some instructions**:\n",
    "\n",
    "* Along with the completeness of the practicals/exercises themselves, you will be marked on the basis of how complete and well-organized your directory structure and content is.\n",
    "* Review (especially if you got lost along the way) and make sure all your shell scripts are functional: `boilerplate.sh`, ` ConcatenateTwoFiles.sh`, `CountLines.sh`,` MyExampleScript.sh`, `tabtocsv.sh`, `variables.sh`\n",
    "* Don't worry about how some of these scripts will run on my computer without explicit inputs (e.g., `ConcatenateTwoFiles.sh` needs two input files) — I will run them with my own test files.\n",
    "* Make sure you have your weekly directory organized with `Data`, ` Sandbox`, `Code` with the necessary files, under ` CMEECourseWork/Week1`. \n",
    "* *All scripts should run on any other Unix/Linux machine* — for example, always call data from the ` Data` directory using relative paths.\n",
    "\n",
    "* Make sure there is a `readme` file in every week’s directory. This file should give an overview of the weekly\n",
    "directory contents, listing all the scripts and what they do. This is different from the `readme` for your overall git repository, of which `Week 1` is a part. You will write a similar ` readme` for each subsequent weekly submission.\n",
    "\n",
    "Don't put any scripts that are part of the submission in your `home/bin` directory! You can put a copy there, but a\n",
    "working version should be in your repository.\n",
    "\n",
    "###  A shell script exercise\n",
    "\n",
    "Write a `csvtospace.sh` shell script that takes a `c`omma `s`eparated `v`alues and converts it to a space separated values file. However, it must not change the input file — it should save it as a differently named file.\n",
    "\n",
    "Save the script in `CMEECourseWork/Week1/Code`, and run it on the `csv` data files that are in\n",
    "`Temperatures` in the master repository's `Data` directory.\n",
    "\n",
    "*Don't modify anything (or refer to anything) in your local copy of the master repository. All changes you make in the master repository will be lost. Copy whatever you need from the master repository to your own repository.*\n",
    "\n",
    "*Commit and push everything by next Wednesday 5 PM.*\n",
    "\n",
    "This includes `UnixPrac1.txt`! Check the updated instructions from the [Unix Chapter](01-Unix.ipynb) on this practical."
   ]
  },
  {
   "cell_type": "markdown",
   "metadata": {},
   "source": [
    "## Readings & Resources\n",
    "\n",
    "-   Plenty of shell scripting resources and tutorials out there; in particular, look up\n",
    "[http://www.tutorialspoint.com/unix/unix-using-variables.htm](http://www.tutorialspoint.com/unix/unix-using-variables.htm)"
   ]
  }
 ],
 "metadata": {
  "kernelspec": {
   "display_name": "Bash",
   "language": "bash",
   "name": "bash"
  },
  "language_info": {
   "codemirror_mode": "shell",
   "file_extension": ".sh",
   "mimetype": "text/x-sh",
   "name": "bash"
  },
  "latex_envs": {
   "LaTeX_envs_menu_present": true,
   "autoclose": false,
   "autocomplete": false,
   "bibliofile": "biblio.bib",
   "cite_by": "apalike",
   "current_citInitial": 1,
   "eqLabelWithNumbers": true,
   "eqNumInitial": 1,
   "hotkeys": {
    "equation": "Ctrl-E",
    "itemize": "Ctrl-I"
   },
   "labels_anchors": false,
   "latex_user_defs": false,
   "report_style_numbering": false,
   "user_envs_cfg": false
  },
  "toc": {
   "base_numbering": 1,
   "nav_menu": {},
   "number_sections": true,
   "sideBar": false,
   "skip_h1_title": true,
   "title_cell": "Contents",
   "title_sidebar": "Contents",
   "toc_cell": true,
   "toc_position": {},
   "toc_section_display": true,
   "toc_window_display": true
  }
 },
 "nbformat": 4,
 "nbformat_minor": 2
}
