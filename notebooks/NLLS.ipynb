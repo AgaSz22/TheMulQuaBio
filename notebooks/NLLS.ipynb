{
 "cells": [
  {
   "cell_type": "markdown",
   "metadata": {},
   "source": [
    "# Non-linear least Squares Fitting in Ecology and Evolution <a class=\"tocSkip\">"
   ]
  },
  {
   "cell_type": "markdown",
   "metadata": {},
   "source": [
    "## Introduction and preliminaries\n",
    "\n",
    "This chapter assumes that you have already attended or seen the [NLLS lecture](https://github.com/mhasoba/TheMulQuaBio/blob/master/Lectures/NLLS/Pawar_NLLS.pdf).  \n",
    "\n",
    "We will work with several NLLS examples here. *You should build separate R scripts for each of these examples using the principles of good coding you learnt in the R week* (For example, separate `code`, `data`, `results` directories, etc...).  \n",
    "\n",
    "You may work in RStudio or any other Code editor you prefer.\n",
    "\n",
    "You will need the `nls.lm` R package, which you can install using the standard method (linux users, launch R in `sudo` mode first):\n",
    "\n",
    "```r\n",
    "> install.packages(\"minpack.lm\")\n",
    "```\n",
    "\n",
    "Then, clear all variables and graphics, and load the necessary packages: "
   ]
  },
  {
   "cell_type": "code",
   "execution_count": 264,
   "metadata": {},
   "outputs": [],
   "source": [
    "rm(list = ls())\n",
    "graphics.off()\n",
    "\n",
    "library(\"minpack.lm\") # for nls Levenberg-Marquardt fitting\n",
    "library(\"ggplot2\")"
   ]
  },
  {
   "cell_type": "markdown",
   "metadata": {},
   "source": [
    "### Why use the nls.lm package?\n",
    "\n",
    "The standard NLLS function in R, cals `nls` uses a less robust algorithm called the Gauss-Newton algorithm. Therefore, `nls` will often fail to fit your model to the data if you start off at starting values for the parameters that are too far from what the optimal vaues would be, especially if the \"parameter space\" is weirdly shaped, i.e., the model has a mathematical form that makes it hard to find parameter combinations that minimize the NLLS. If this does not makes ense, don't worry about it- just go with `nls_LM` from the `nls.lm` package instead of `nls`! If you are really curious, try substituting `nls` for `nls_LM` in the examples below and compare the results.  "
   ]
  },
  {
   "cell_type": "markdown",
   "metadata": {},
   "source": [
    "## Allometric scaling\n",
    "\n",
    "Let's start with a common and reasonably simple example from biology: __[allometric scaling](https://en.wikipedia.org/wiki/Allometry)__. We will look at allometric scaling of body weight vs. wing length in dragonflies and damselfiles. \n",
    "\n",
    "Allometric relationships take the form:\n",
    "\n",
    "$$y = a x^a$$\n",
    "\n",
    "where $x$ and $y$ are morphological measures, the constant is the value of $y$ at $x = 1$, and $a$ is the scaling \"exponent\". This is also called a power-law, because $y$ relates to $x$ through a simple power.   \n",
    "\n",
    "First create a function object for the power law model:"
   ]
  },
  {
   "cell_type": "code",
   "execution_count": 266,
   "metadata": {},
   "outputs": [],
   "source": [
    "powMod <- function(x, a, b) {\n",
    "    return(a * x^b)\n",
    "}"
   ]
  },
  {
   "cell_type": "markdown",
   "metadata": {},
   "source": [
    "Now read in the data:"
   ]
  },
  {
   "cell_type": "code",
   "execution_count": 267,
   "metadata": {},
   "outputs": [
    {
     "data": {
      "text/html": [
       "<table>\n",
       "<thead><tr><th scope=col>Suborder</th><th scope=col>Family</th><th scope=col>Species</th><th scope=col>GenomeSize</th><th scope=col>GenomeSE</th><th scope=col>GenomeN</th><th scope=col>BodyWeight</th><th scope=col>TotalLength</th><th scope=col>HeadLength</th><th scope=col>ThoraxLength</th><th scope=col>AdbdomenLength</th><th scope=col>ForewingLength</th><th scope=col>HindwingLength</th><th scope=col>ForewingArea</th><th scope=col>HindwingArea</th><th scope=col>MorphologyN</th></tr></thead>\n",
       "<tbody>\n",
       "\t<tr><td>Anisoptera          </td><td>Aeshnidae           </td><td>Aeshna canadensis   </td><td>2.20                </td><td>  NA                </td><td>1                   </td><td>0.159               </td><td>67.58               </td><td>6.83                </td><td>11.81               </td><td>48.94               </td><td>45.47               </td><td>45.40               </td><td>369.57              </td><td>483.61              </td><td>2                   </td></tr>\n",
       "\t<tr><td>Anisoptera          </td><td>Aeshnidae           </td><td>Aeshna constricta   </td><td>1.76                </td><td>0.06                </td><td>4                   </td><td>0.228               </td><td>71.97               </td><td>6.84                </td><td>10.72               </td><td>54.41               </td><td>46.00               </td><td>45.48               </td><td>411.15              </td><td>517.38              </td><td>3                   </td></tr>\n",
       "\t<tr><td>Anisoptera          </td><td>Aeshnidae           </td><td>Aeshna eremita      </td><td>1.85                </td><td>  NA                </td><td>1                   </td><td>0.312               </td><td>78.80               </td><td>6.27                </td><td>16.19               </td><td>56.33               </td><td>51.24               </td><td>49.47               </td><td>460.72              </td><td>574.33              </td><td>1                   </td></tr>\n",
       "\t<tr><td>Anisoptera          </td><td>Aeshnidae           </td><td>Aeshna tuberculifera</td><td>1.78                </td><td>0.10                </td><td>2                   </td><td>0.218               </td><td>72.44               </td><td>6.62                </td><td>12.53               </td><td>53.29               </td><td>49.84               </td><td>48.82               </td><td>468.74              </td><td>591.42              </td><td>2                   </td></tr>\n",
       "\t<tr><td>Anisoptera          </td><td>Aeshnidae           </td><td>Aeshna umbrosa      </td><td>2.00                </td><td>  NA                </td><td>1                   </td><td>0.207               </td><td>73.05               </td><td>4.92                </td><td>11.11               </td><td>57.03               </td><td>46.51               </td><td>45.97               </td><td>382.48              </td><td>481.44              </td><td>1                   </td></tr>\n",
       "\t<tr><td>Anisoptera          </td><td>Aeshnidae           </td><td>Aeshna verticalis   </td><td>1.59                </td><td>  NA                </td><td>1                   </td><td>0.220               </td><td>66.25               </td><td>6.48                </td><td>11.64               </td><td>48.13               </td><td>45.91               </td><td>44.91               </td><td>400.40              </td><td>486.97              </td><td>1                   </td></tr>\n",
       "</tbody>\n",
       "</table>\n"
      ],
      "text/latex": [
       "\\begin{tabular}{r|llllllllllllllll}\n",
       " Suborder & Family & Species & GenomeSize & GenomeSE & GenomeN & BodyWeight & TotalLength & HeadLength & ThoraxLength & AdbdomenLength & ForewingLength & HindwingLength & ForewingArea & HindwingArea & MorphologyN\\\\\n",
       "\\hline\n",
       "\t Anisoptera           & Aeshnidae            & Aeshna canadensis    & 2.20                 &   NA                 & 1                    & 0.159                & 67.58                & 6.83                 & 11.81                & 48.94                & 45.47                & 45.40                & 369.57               & 483.61               & 2                   \\\\\n",
       "\t Anisoptera           & Aeshnidae            & Aeshna constricta    & 1.76                 & 0.06                 & 4                    & 0.228                & 71.97                & 6.84                 & 10.72                & 54.41                & 46.00                & 45.48                & 411.15               & 517.38               & 3                   \\\\\n",
       "\t Anisoptera           & Aeshnidae            & Aeshna eremita       & 1.85                 &   NA                 & 1                    & 0.312                & 78.80                & 6.27                 & 16.19                & 56.33                & 51.24                & 49.47                & 460.72               & 574.33               & 1                   \\\\\n",
       "\t Anisoptera           & Aeshnidae            & Aeshna tuberculifera & 1.78                 & 0.10                 & 2                    & 0.218                & 72.44                & 6.62                 & 12.53                & 53.29                & 49.84                & 48.82                & 468.74               & 591.42               & 2                   \\\\\n",
       "\t Anisoptera           & Aeshnidae            & Aeshna umbrosa       & 2.00                 &   NA                 & 1                    & 0.207                & 73.05                & 4.92                 & 11.11                & 57.03                & 46.51                & 45.97                & 382.48               & 481.44               & 1                   \\\\\n",
       "\t Anisoptera           & Aeshnidae            & Aeshna verticalis    & 1.59                 &   NA                 & 1                    & 0.220                & 66.25                & 6.48                 & 11.64                & 48.13                & 45.91                & 44.91                & 400.40               & 486.97               & 1                   \\\\\n",
       "\\end{tabular}\n"
      ],
      "text/markdown": [
       "\n",
       "Suborder | Family | Species | GenomeSize | GenomeSE | GenomeN | BodyWeight | TotalLength | HeadLength | ThoraxLength | AdbdomenLength | ForewingLength | HindwingLength | ForewingArea | HindwingArea | MorphologyN | \n",
       "|---|---|---|---|---|---|\n",
       "| Anisoptera           | Aeshnidae            | Aeshna canadensis    | 2.20                 |   NA                 | 1                    | 0.159                | 67.58                | 6.83                 | 11.81                | 48.94                | 45.47                | 45.40                | 369.57               | 483.61               | 2                    | \n",
       "| Anisoptera           | Aeshnidae            | Aeshna constricta    | 1.76                 | 0.06                 | 4                    | 0.228                | 71.97                | 6.84                 | 10.72                | 54.41                | 46.00                | 45.48                | 411.15               | 517.38               | 3                    | \n",
       "| Anisoptera           | Aeshnidae            | Aeshna eremita       | 1.85                 |   NA                 | 1                    | 0.312                | 78.80                | 6.27                 | 16.19                | 56.33                | 51.24                | 49.47                | 460.72               | 574.33               | 1                    | \n",
       "| Anisoptera           | Aeshnidae            | Aeshna tuberculifera | 1.78                 | 0.10                 | 2                    | 0.218                | 72.44                | 6.62                 | 12.53                | 53.29                | 49.84                | 48.82                | 468.74               | 591.42               | 2                    | \n",
       "| Anisoptera           | Aeshnidae            | Aeshna umbrosa       | 2.00                 |   NA                 | 1                    | 0.207                | 73.05                | 4.92                 | 11.11                | 57.03                | 46.51                | 45.97                | 382.48               | 481.44               | 1                    | \n",
       "| Anisoptera           | Aeshnidae            | Aeshna verticalis    | 1.59                 |   NA                 | 1                    | 0.220                | 66.25                | 6.48                 | 11.64                | 48.13                | 45.91                | 44.91                | 400.40               | 486.97               | 1                    | \n",
       "\n",
       "\n"
      ],
      "text/plain": [
       "  Suborder   Family    Species              GenomeSize GenomeSE GenomeN\n",
       "1 Anisoptera Aeshnidae Aeshna canadensis    2.20         NA     1      \n",
       "2 Anisoptera Aeshnidae Aeshna constricta    1.76       0.06     4      \n",
       "3 Anisoptera Aeshnidae Aeshna eremita       1.85         NA     1      \n",
       "4 Anisoptera Aeshnidae Aeshna tuberculifera 1.78       0.10     2      \n",
       "5 Anisoptera Aeshnidae Aeshna umbrosa       2.00         NA     1      \n",
       "6 Anisoptera Aeshnidae Aeshna verticalis    1.59         NA     1      \n",
       "  BodyWeight TotalLength HeadLength ThoraxLength AdbdomenLength ForewingLength\n",
       "1 0.159      67.58       6.83       11.81        48.94          45.47         \n",
       "2 0.228      71.97       6.84       10.72        54.41          46.00         \n",
       "3 0.312      78.80       6.27       16.19        56.33          51.24         \n",
       "4 0.218      72.44       6.62       12.53        53.29          49.84         \n",
       "5 0.207      73.05       4.92       11.11        57.03          46.51         \n",
       "6 0.220      66.25       6.48       11.64        48.13          45.91         \n",
       "  HindwingLength ForewingArea HindwingArea MorphologyN\n",
       "1 45.40          369.57       483.61       2          \n",
       "2 45.48          411.15       517.38       3          \n",
       "3 49.47          460.72       574.33       1          \n",
       "4 48.82          468.74       591.42       2          \n",
       "5 45.97          382.48       481.44       1          \n",
       "6 44.91          400.40       486.97       1          "
      ]
     },
     "metadata": {},
     "output_type": "display_data"
    }
   ],
   "source": [
    "MyData <- read.csv(\"../Data/GenomeSize.csv\")\n",
    "\n",
    "head(MyData)"
   ]
  },
  {
   "cell_type": "markdown",
   "metadata": {},
   "source": [
    "Subset it and remove NAs:"
   ]
  },
  {
   "cell_type": "code",
   "execution_count": 268,
   "metadata": {},
   "outputs": [],
   "source": [
    "Data2Fit <- subset(MyData,Suborder == \"Anisoptera\")\n",
    "\n",
    "Data2Fit <- Data2Fit[!is.na(Data2Fit$TotalLength),] # remove NA's"
   ]
  },
  {
   "cell_type": "markdown",
   "metadata": {},
   "source": [
    "Plot it:"
   ]
  },
  {
   "cell_type": "code",
   "execution_count": 294,
   "metadata": {
    "scrolled": true
   },
   "outputs": [
    {
     "data": {
      "image/png": "[encoded data removed]",
      "text/plain": [
       "plot without title"
      ]
     },
     "metadata": {},
     "output_type": "display_data"
    }
   ],
   "source": [
    "plot(Data2Fit$TotalLength, Data2Fit$BodyWeight)"
   ]
  },
  {
   "cell_type": "code",
   "execution_count": 295,
   "metadata": {},
   "outputs": [
    {
     "data": {},
     "metadata": {},
     "output_type": "display_data"
    },
    {
     "data": {
      "image/png": "[encoded data removed]",
      "text/plain": [
       "plot without title"
      ]
     },
     "metadata": {},
     "output_type": "display_data"
    }
   ],
   "source": [
    "ggplot(Data2Fit, aes(x = TotalLength, y = BodyWeight)) + geom_point() # or using ggplot!"
   ]
  },
  {
   "cell_type": "markdown",
   "metadata": {},
   "source": [
    "Now fit the model to the data using NLLS:"
   ]
  },
  {
   "cell_type": "code",
   "execution_count": 271,
   "metadata": {},
   "outputs": [],
   "source": [
    "PowFit <- nlsLM(BodyWeight ~ powMod(TotalLength, a, b), data = Data2Fit, start = list(a = .1, b = .1))"
   ]
  },
  {
   "cell_type": "markdown",
   "metadata": {},
   "source": [
    "We can use `summary()` just like we would for a `lm()` fit object. "
   ]
  },
  {
   "cell_type": "code",
   "execution_count": 272,
   "metadata": {},
   "outputs": [
    {
     "data": {
      "text/plain": [
       "\n",
       "Formula: BodyWeight ~ powMod(TotalLength, a, b)\n",
       "\n",
       "Parameters:\n",
       "   Estimate Std. Error t value Pr(>|t|)    \n",
       "a 3.941e-06  2.234e-06   1.764    0.083 .  \n",
       "b 2.585e+00  1.348e-01  19.174   <2e-16 ***\n",
       "---\n",
       "Signif. codes:  0 ‘***’ 0.001 ‘**’ 0.01 ‘*’ 0.05 ‘.’ 0.1 ‘ ’ 1\n",
       "\n",
       "Residual standard error: 0.02807 on 58 degrees of freedom\n",
       "\n",
       "Number of iterations to convergence: 39 \n",
       "Achieved convergence tolerance: 1.49e-08\n"
      ]
     },
     "metadata": {},
     "output_type": "display_data"
    }
   ],
   "source": [
    "summary(PowFit)"
   ]
  },
  {
   "cell_type": "markdown",
   "metadata": {},
   "source": [
    "Now let's visualize the fit. For this, first we need to generate a vector of body lengths (the x-axis variable) for plotting: "
   ]
  },
  {
   "cell_type": "code",
   "execution_count": 273,
   "metadata": {},
   "outputs": [],
   "source": [
    "Lengths <- seq(min(Data2Fit$TotalLength),max(Data2Fit$TotalLength),len=200)"
   ]
  },
  {
   "cell_type": "markdown",
   "metadata": {},
   "source": [
    "Next, calculate the predicted line. For this, we will need to extract the coefficient from the model fit object using the `coef()`command. "
   ]
  },
  {
   "cell_type": "code",
   "execution_count": 274,
   "metadata": {},
   "outputs": [
    {
     "data": {
      "text/html": [
       "<strong>a:</strong> 3.94068491030517e-06"
      ],
      "text/latex": [
       "\\textbf{a:} 3.94068491030517e-06"
      ],
      "text/markdown": [
       "**a:** 3.94068491030517e-06"
      ],
      "text/plain": [
       "           a \n",
       "3.940685e-06 "
      ]
     },
     "metadata": {},
     "output_type": "display_data"
    },
    {
     "data": {
      "text/html": [
       "<strong>b:</strong> 2.58504796772587"
      ],
      "text/latex": [
       "\\textbf{b:} 2.58504796772587"
      ],
      "text/markdown": [
       "**b:** 2.58504796772587"
      ],
      "text/plain": [
       "       b \n",
       "2.585048 "
      ]
     },
     "metadata": {},
     "output_type": "display_data"
    }
   ],
   "source": [
    "coef(PowFit)[\"a\"]\n",
    "coef(PowFit)[\"b\"]"
   ]
  },
  {
   "cell_type": "markdown",
   "metadata": {},
   "source": [
    "So, we can do the following:"
   ]
  },
  {
   "cell_type": "code",
   "execution_count": 275,
   "metadata": {},
   "outputs": [],
   "source": [
    "Predic2PlotPow <- powMod(Lengths,coef(PowFit)[\"a\"],coef(PowFit)[\"b\"])"
   ]
  },
  {
   "cell_type": "markdown",
   "metadata": {},
   "source": [
    "Now plot the data and the fitted model line:"
   ]
  },
  {
   "cell_type": "code",
   "execution_count": 296,
   "metadata": {},
   "outputs": [
    {
     "data": {
      "image/png": "[encoded data removed]",
      "text/plain": [
       "plot without title"
      ]
     },
     "metadata": {},
     "output_type": "display_data"
    }
   ],
   "source": [
    "plot(Data2Fit$TotalLength, Data2Fit$BodyWeight)\n",
    "lines(Lengths, Predic2PlotPow, col = 'blue', lwd = 2.5)\n",
    "Predic2PlotPow <- powMod(Lengths,coef(PowFit)[\"a\"],coef(PowFit)[\"b\"])"
   ]
  },
  {
   "cell_type": "markdown",
   "metadata": {},
   "source": [
    "Now plot the fitted (estimated) line on top of the data:"
   ]
  },
  {
   "cell_type": "markdown",
   "metadata": {},
   "source": [
    "We can claculate the confidence intervals on the estimated parameters as we would in OLS fitting used for Linear Models: "
   ]
  },
  {
   "cell_type": "code",
   "execution_count": 277,
   "metadata": {
    "scrolled": true
   },
   "outputs": [
    {
     "name": "stderr",
     "output_type": "stream",
     "text": [
      "Waiting for profiling to be done...\n"
     ]
    },
    {
     "data": {
      "text/html": [
       "<table>\n",
       "<thead><tr><th></th><th scope=col>2.5%</th><th scope=col>97.5%</th></tr></thead>\n",
       "<tbody>\n",
       "\t<tr><th scope=row>a</th><td>1.171935e-06</td><td>1.205273e-05</td></tr>\n",
       "\t<tr><th scope=row>b</th><td>2.318292e+00</td><td>2.872287e+00</td></tr>\n",
       "</tbody>\n",
       "</table>\n"
      ],
      "text/latex": [
       "\\begin{tabular}{r|ll}\n",
       "  & 2.5\\% & 97.5\\%\\\\\n",
       "\\hline\n",
       "\ta & 1.171935e-06 & 1.205273e-05\\\\\n",
       "\tb & 2.318292e+00 & 2.872287e+00\\\\\n",
       "\\end{tabular}\n"
      ],
      "text/markdown": [
       "\n",
       "| <!--/--> | 2.5% | 97.5% | \n",
       "|---|---|\n",
       "| a | 1.171935e-06 | 1.205273e-05 | \n",
       "| b | 2.318292e+00 | 2.872287e+00 | \n",
       "\n",
       "\n"
      ],
      "text/plain": [
       "  2.5%         97.5%       \n",
       "a 1.171935e-06 1.205273e-05\n",
       "b 2.318292e+00 2.872287e+00"
      ]
     },
     "metadata": {},
     "output_type": "display_data"
    }
   ],
   "source": [
    "confint(PowFit)"
   ]
  },
  {
   "cell_type": "markdown",
   "metadata": {},
   "source": [
    "#### Exercises\n",
    "\n",
    "1. Make the same plot as above, fitted line and all, in `ggplot`\n",
    "\n",
    "2. Add (display) the equation you estimated to your new (ggplot) plot. The equation is: $\\text{Weight} = 3.94 \\times 10^{-06} \\times \\text{Length}^{2.59}$\n",
    "\n",
    "3. Try playing with the starting values, and see if you can \"break\" the model fit -- that is the NLLS fitting does not converge on a solution."
   ]
  },
  {
   "cell_type": "markdown",
   "metadata": {},
   "source": [
    "### Comparing two models\n",
    "\n",
    "Let's compare the model with an alternative one fitted to the same data. Let's try fitting a quadratic curve of the form:\n",
    "\n",
    "$$y = a + b x + c x^2$$\n",
    "\n",
    "This is a linear model, which you can fit using `lm()`:   "
   ]
  },
  {
   "cell_type": "code",
   "execution_count": 278,
   "metadata": {},
   "outputs": [],
   "source": [
    "QuaFit <- lm(BodyWeight ~ poly(TotalLength,2), data = Data2Fit)"
   ]
  },
  {
   "cell_type": "markdown",
   "metadata": {},
   "source": [
    "And like before, we obtain the predicted values (but this time using the `predict.lm` function):"
   ]
  },
  {
   "cell_type": "code",
   "execution_count": 279,
   "metadata": {},
   "outputs": [],
   "source": [
    "Predic2PlotQua <- predict.lm(QuaFit, data.frame(TotalLength = Lengths))"
   ]
  },
  {
   "cell_type": "markdown",
   "metadata": {},
   "source": [
    "Now let's plot the two fitted models together:"
   ]
  },
  {
   "cell_type": "code",
   "execution_count": 297,
   "metadata": {
    "scrolled": true
   },
   "outputs": [
    {
     "data": {
      "image/png": "[encoded data removed]",
      "text/plain": [
       "plot without title"
      ]
     },
     "metadata": {},
     "output_type": "display_data"
    }
   ],
   "source": [
    "plot(Data2Fit$TotalLength, Data2Fit$BodyWeight)\n",
    "lines(Lengths, Predic2PlotPow, col = 'blue', lwd = 2.5)\n",
    "lines(Lengths, Predic2PlotQua, col = 'red', lwd = 2.5)"
   ]
  },
  {
   "cell_type": "markdown",
   "metadata": {},
   "source": [
    "Very similar fits, except that the quadratic model seems to get it wrong at the lower end of the data range. Let's do a proper/formal model comparison now to check which model better-fits the data.\n",
    "\n",
    "Let's first calculate the R$^2$ values of the two fitted models:"
   ]
  },
  {
   "cell_type": "code",
   "execution_count": 281,
   "metadata": {},
   "outputs": [
    {
     "data": {
      "text/html": [
       "0.90054752976309"
      ],
      "text/latex": [
       "0.90054752976309"
      ],
      "text/markdown": [
       "0.90054752976309"
      ],
      "text/plain": [
       "[1] 0.9005475"
      ]
     },
     "metadata": {},
     "output_type": "display_data"
    },
    {
     "data": {
      "text/html": [
       "0.900302864503218"
      ],
      "text/latex": [
       "0.900302864503218"
      ],
      "text/markdown": [
       "0.900302864503218"
      ],
      "text/plain": [
       "[1] 0.9003029"
      ]
     },
     "metadata": {},
     "output_type": "display_data"
    }
   ],
   "source": [
    "RSS_Pow <- sum(residuals(PowFit)^2)  # Residual sum of squares\n",
    "TSS_Pow <- sum((Data2Fit$BodyWeight - mean(Data2Fit$BodyWeight))^2)  # Total sum of squares\n",
    "RSq_Pow <- 1 - (RSS_Pow/TSS_Pow)  # R-squared value\n",
    "\n",
    "RSS_Qua <- sum(residuals(QuaFit)^2)  # Residual sum of squares\n",
    "TSS_Qua <- sum((Data2Fit$BodyWeight - mean(Data2Fit$BodyWeight))^2)  # Total sum of squares\n",
    "RSq_Qua <- 1 - (RSS_Qua/TSS_Qua)  # R-squared value\n",
    "\n",
    "RSq_Pow \n",
    "RSq_Qua"
   ]
  },
  {
   "cell_type": "markdown",
   "metadata": {},
   "source": [
    "Not very useful. In general, R$^2$ is a good measure of model fit, but cannot be used for model selection -- epecially not here, given the tiby difference in the R$^2$'s.\n",
    "\n",
    "Instead, as discussed in the lecture, we can use the Akaike Information Criterion (AIC):"
   ]
  },
  {
   "cell_type": "code",
   "execution_count": 282,
   "metadata": {},
   "outputs": [
    {
     "data": {
      "text/html": [
       "-2.1474260812509"
      ],
      "text/latex": [
       "-2.1474260812509"
      ],
      "text/markdown": [
       "-2.1474260812509"
      ],
      "text/plain": [
       "[1] -2.147426"
      ]
     },
     "metadata": {},
     "output_type": "display_data"
    }
   ],
   "source": [
    "n <- nrow(Data2Fit) #set sample size\n",
    "kPow <- length(coef(PowFit)) # get number of parameters in power law model\n",
    "kQua <- length(coef(QuaFit)) # get number of parameters in quadratic model\n",
    "\n",
    "AIC_Pow <- n * log((2 * pi) / n) + n + 2 + n * log(RSS_Pow) + 2 * kPow\n",
    "AIC_Qua <- n * log((2 * pi) / n) + n + 2 + n * log(RSS_Qua) + 2 * kQua\n",
    "AIC_Pow - AIC_Qua"
   ]
  },
  {
   "cell_type": "markdown",
   "metadata": {},
   "source": [
    "Of course, as you might have suspected, we can do this using an in-built function in R! "
   ]
  },
  {
   "cell_type": "code",
   "execution_count": 283,
   "metadata": {},
   "outputs": [
    {
     "data": {
      "text/html": [
       "-2.1474260812509"
      ],
      "text/latex": [
       "-2.1474260812509"
      ],
      "text/markdown": [
       "-2.1474260812509"
      ],
      "text/plain": [
       "[1] -2.147426"
      ]
     },
     "metadata": {},
     "output_type": "display_data"
    }
   ],
   "source": [
    "AIC(PowFit) - AIC(QuaFit)"
   ]
  },
  {
   "cell_type": "markdown",
   "metadata": {},
   "source": [
    "*So which model wins?* As we had dicussed in the NLLS lecture, a rule of thumb is that a AIC value difference (typically denoted as $\\Delta$AIC) > 2 is a acceptable cutoff for calling a winner. So the power law (allometric model) is a better fit here. Read the [Johnson & Omland paper](https://github.com/mhasoba/TheMulQuaBio/blob/master/Readings/Modelling/JohnsonOmland2004.pdf) for more on model selection in Ecology and Evolution.    "
   ]
  },
  {
   "cell_type": "markdown",
   "metadata": {},
   "source": [
    "#### Exercises\n",
    "\n",
    "1. Calculate the Bayesian Information Criterion (BIC), also know as the Schwarz Criterion (see your Lecture notes and the [Johnson & Omland paper](https://github.com/mhasoba/TheMulQuaBio/blob/master/Readings/Modelling/JohnsonOmland2004.pdf), and use $\\Delta$BIC to select the better fitting model. \n",
    "\n",
    "2. Fit a straight line the same data and compare with the allometric and quadratic models"
   ]
  },
  {
   "cell_type": "markdown",
   "metadata": {},
   "source": [
    "### Fitting growth rate models\n",
    "\n",
    "Let's up the ante and tacke a more complicated NLLS problem - Fitting population growth rates to data. In general, a population grows exponentially while its abundance is low (and resources are efefctively not limiting, and then this growth slows and eventually stops as resources become limiting. There may also be a time lag before the population growth really takes off.\n",
    "\n",
    "We will work with some Bacterial growth data that Tom Smith, a PhD student at Silwood, has been generating as part of his Dissertation researach.  Bacterial growth in batch culture follows a distinct set of phases; lag phase, exponential phase and stationary phase. During the lag phase a suite of transcriptional machinery is activated, including genes involved in nutrient uptake and metabolic changes, as bacteria prepare for growth. During the exponential growth phase, bacteria divide at a constant rate, the population doubling with each generation. When the carrying capacity of the media is reached, growth slows and the number of cells in the culture stabilises, beginning the stationary phase.\n",
    "\n",
    "Traditionally, growth rate can be measured by plotting out cell numbers or culture density against time on a semi-log graph and fitting a straight line through the exponential growth phase - the slope of the line gives the maximum growth rate ($r_{max}$). Models have since been devised which we can use to describe the whole sigmoidal bacterial growth curve. \n",
    "\n",
    "Let's first generate some \"data\" on the number of bacterial cells as a function of time taht we can play with:"
   ]
  },
  {
   "cell_type": "code",
   "execution_count": 284,
   "metadata": {},
   "outputs": [],
   "source": [
    "time <- c(0, 2, 4, 6, 8, 10, 12, 16, 20, 24) # timepoints (in hours maybe?)\n",
    "log_cells <- c(3.62, 3.62, 3.63, 4.14, 5.23, 6.27, 7.57, 8.38, 8.70, 8.69) # logged cell counts - more on this below\n",
    "\n",
    "data <- data.frame(time, log_cells) + rnorm(length(time),sd=.1)\n",
    "# add some random error\n",
    "names(data) <- c(\"t\", \"LogN\")"
   ]
  },
  {
   "cell_type": "markdown",
   "metadata": {},
   "source": [
    "We have added a vector of normally distributed errors to emulate random \"sampling errors\". Note also that the the assumption of normality of these errors underlies the statistical analyses of Ordinary NLLS fits just as it underies Ordinary Least Squares (your standard linear modelling)."
   ]
  },
  {
   "cell_type": "markdown",
   "metadata": {},
   "source": [
    "Plot the data:"
   ]
  },
  {
   "cell_type": "code",
   "execution_count": 298,
   "metadata": {},
   "outputs": [
    {
     "data": {},
     "metadata": {},
     "output_type": "display_data"
    },
    {
     "data": {
      "image/png": "[encoded data removed]",
      "text/plain": [
       "plot without title"
      ]
     },
     "metadata": {},
     "output_type": "display_data"
    }
   ],
   "source": [
    "ggplot(data, aes(x = t, y = LogN)) + geom_point()"
   ]
  },
  {
   "cell_type": "markdown",
   "metadata": {},
   "source": [
    "We will fit three growth models, all of which are known to fit such population growth data, especially in microbes. These are a modified Gompertz model (Zwietering et. al., 1990), the Baranyi model (Baranyi, 1993) and the Buchanan model (or three-phase logistic model; Buchanan, 1997). Given a set of cell numbers (N) and times (t), each growth model can be described in terms of:\n",
    "\\begin{itemize} \n",
    "\\item $N_0$:  Initial cell culture (Population) density (number of cells per unit volume)  \n",
    "\\item $N_{max}$: Maximum culture density (aka \"carrying capacity\") \n",
    "\\item $r_{max}$: Maximum growth rate \n",
    "\\item $t_{lag}$: Duration of the lag phase before the population starts growing exponentially\n",
    " \\end{itemize}\n",
    "   \n",
    "First let's specify the model functions:"
   ]
  },
  {
   "cell_type": "code",
   "execution_count": 286,
   "metadata": {},
   "outputs": [],
   "source": [
    "baranyi_model <- function(t, r_max, N_max, N_0, t_lag){  # Baranyi model (Baranyi 1993)\n",
    "return(N_max + log10((-1+exp(r_max*t_lag) + exp(r_max*t))/(exp(r_max*t) - 1 + exp(r_max*t_lag) * 10^(N_max-N_0))))\n",
    "}\n",
    "\n",
    "\n",
    "buchanan_model <- function(t, r_max, N_max, N_0, t_lag){ # Buchanan model - three phase logistic (buchanan 1997)\n",
    "  return(N_0 + (t >= t_lag) * (t <= (t_lag + (N_max - N_0) * log(10)/r_max)) * r_max * (t - t_lag)/log(10) +\n",
    "           (t >= t_lag) * (t > (t_lag + (N_max - N_0) * log(10)/r_max)) * (N_max - N_0))\n",
    "}\n",
    "\n",
    "\n",
    "gompertz_model <- function(t, r_max, N_max, N_0, t_lag){  # Modified gompertz growth model (Zwietering 1990)\n",
    "  return(N_0 + (N_max - N_0) * exp(-exp(r_max * exp(1) * (t_lag - t)/((N_max - N_0) * log(10)) + 1)))\n",
    "}\n"
   ]
  },
  {
   "cell_type": "markdown",
   "metadata": {},
   "source": [
    "It is important to note that we have written the funcions in log (to the base 10 - can also be base 2 or natural log) scale. This is because NLLS fitting often converges better in log scale. The interpretation of each of the the estimated/fitted paramters does not change if we take a log of the model's equation.    "
   ]
  },
  {
   "cell_type": "markdown",
   "metadata": {},
   "source": [
    "Now let's generate some starting values for the NLLS fitting. We did not pay much attention to what starting values we used in the above example on fitting an allometric model because the power-law model is easy to fit using NLLS, and starting far from the optimal parameters does not matter too much. Here, we derive the starting values by using the actual data:  "
   ]
  },
  {
   "cell_type": "code",
   "execution_count": 287,
   "metadata": {},
   "outputs": [],
   "source": [
    "N_0_start <- min(data$LogN)\n",
    "N_max_start <- max(data$LogN)\n",
    "t_lag_start <- data$t[which.max(diff(diff(data$LogN)))]\n",
    "r_max_start <- max(diff(data$LogN))/mean(diff(data$t))"
   ]
  },
  {
   "cell_type": "markdown",
   "metadata": {},
   "source": [
    "Now fit the models:"
   ]
  },
  {
   "cell_type": "code",
   "execution_count": 288,
   "metadata": {
    "scrolled": true
   },
   "outputs": [],
   "source": [
    "fit_baranyi <- nlsLM(LogN ~ baranyi_model(t = t, r_max, N_max, N_0, t_lag), data,\n",
    "              list(t_lag=t_lag_start, r_max=r_max_start, N_0 = N_0_start, N_max = N_max_start))\n",
    "\n",
    "\n",
    "fit_buchanan <- nlsLM(LogN ~ buchanan_model(t = t, r_max, N_max, N_0, t_lag), data,\n",
    "                        list(t_lag=t_lag_start, r_max=r_max_start, N_0 = N_0_start, N_max = N_max_start))\n",
    "\n",
    "fit_gompertz <- nlsLM(LogN ~ gompertz_model(t = t, r_max, N_max, N_0, t_lag), data,\n",
    "                      list(t_lag=t_lag_start, r_max=r_max_start, N_0 = N_0_start, N_max = N_max_start))"
   ]
  },
  {
   "cell_type": "markdown",
   "metadata": {},
   "source": [
    "Get the model summaries:"
   ]
  },
  {
   "cell_type": "code",
   "execution_count": 289,
   "metadata": {},
   "outputs": [
    {
     "data": {
      "text/plain": [
       "\n",
       "Formula: LogN ~ baranyi_model(t = t, r_max, N_max, N_0, t_lag)\n",
       "\n",
       "Parameters:\n",
       "      Estimate Std. Error t value Pr(>|t|)    \n",
       "t_lag  5.41633    0.38583   14.04 8.15e-06 ***\n",
       "r_max  1.34257    0.09441   14.22 7.56e-06 ***\n",
       "N_0    3.68493    0.09399   39.20 1.84e-08 ***\n",
       "N_max  8.60787    0.08949   96.19 8.51e-11 ***\n",
       "---\n",
       "Signif. codes:  0 ‘***’ 0.001 ‘**’ 0.01 ‘*’ 0.05 ‘.’ 0.1 ‘ ’ 1\n",
       "\n",
       "Residual standard error: 0.1514 on 6 degrees of freedom\n",
       "\n",
       "Number of iterations to convergence: 12 \n",
       "Achieved convergence tolerance: 1.49e-08\n"
      ]
     },
     "metadata": {},
     "output_type": "display_data"
    },
    {
     "data": {
      "text/plain": [
       "\n",
       "Formula: LogN ~ buchanan_model(t = t, r_max, N_max, N_0, t_lag)\n",
       "\n",
       "Parameters:\n",
       "      Estimate Std. Error t value Pr(>|t|)    \n",
       "t_lag  4.30458    0.78346   5.494  0.00152 ** \n",
       "r_max  0.98513    0.09369  10.515 4.35e-05 ***\n",
       "N_0    3.70985    0.17829  20.808 8.02e-07 ***\n",
       "N_max  8.73894    0.21836  40.022 1.63e-08 ***\n",
       "---\n",
       "Signif. codes:  0 ‘***’ 0.001 ‘**’ 0.01 ‘*’ 0.05 ‘.’ 0.1 ‘ ’ 1\n",
       "\n",
       "Residual standard error: 0.3088 on 6 degrees of freedom\n",
       "\n",
       "Number of iterations to convergence: 6 \n",
       "Achieved convergence tolerance: 1.49e-08\n"
      ]
     },
     "metadata": {},
     "output_type": "display_data"
    },
    {
     "data": {
      "text/plain": [
       "\n",
       "Formula: LogN ~ gompertz_model(t = t, r_max, N_max, N_0, t_lag)\n",
       "\n",
       "Parameters:\n",
       "      Estimate Std. Error t value Pr(>|t|)    \n",
       "t_lag  5.62429    0.28038   20.06 9.97e-07 ***\n",
       "r_max  1.45108    0.08738   16.61 3.04e-06 ***\n",
       "N_0    3.69736    0.07215   51.25 3.70e-09 ***\n",
       "N_max  8.79709    0.08954   98.25 7.49e-11 ***\n",
       "---\n",
       "Signif. codes:  0 ‘***’ 0.001 ‘**’ 0.01 ‘*’ 0.05 ‘.’ 0.1 ‘ ’ 1\n",
       "\n",
       "Residual standard error: 0.1173 on 6 degrees of freedom\n",
       "\n",
       "Number of iterations to convergence: 8 \n",
       "Achieved convergence tolerance: 1.49e-08\n"
      ]
     },
     "metadata": {},
     "output_type": "display_data"
    }
   ],
   "source": [
    "summary(fit_baranyi)\n",
    "summary(fit_buchanan)\n",
    "summary(fit_gompertz)"
   ]
  },
  {
   "cell_type": "markdown",
   "metadata": {},
   "source": [
    "And see how the fits look:"
   ]
  },
  {
   "cell_type": "code",
   "execution_count": 299,
   "metadata": {},
   "outputs": [
    {
     "data": {},
     "metadata": {},
     "output_type": "display_data"
    },
    {
     "data": {
      "image/png": "[encoded data removed]",
      "text/plain": [
       "plot without title"
      ]
     },
     "metadata": {},
     "output_type": "display_data"
    }
   ],
   "source": [
    "timepoints <- seq(0, 24, 0.1)\n",
    "baranyi_points <- baranyi_model(t = timepoints, r_max = coef(fit_baranyi)[\"r_max\"], N_max = coef(fit_baranyi)[\"N_max\"],\n",
    "                                N_0 = coef(fit_baranyi)[\"N_0\"], t_lag = coef(fit_baranyi)[\"t_lag\"])\n",
    "buchanan_points <- buchanan_model(t = timepoints, r_max = coef(fit_buchanan)[\"r_max\"], N_max = coef(fit_buchanan)[\"N_max\"],\n",
    "                                N_0 = coef(fit_buchanan)[\"N_0\"], t_lag = coef(fit_buchanan)[\"t_lag\"])\n",
    "gompertz_points <- gompertz_model(t = timepoints, r_max = coef(fit_gompertz)[\"r_max\"], N_max = coef(fit_gompertz)[\"N_max\"],\n",
    "                                N_0 = coef(fit_gompertz)[\"N_0\"], t_lag = coef(fit_gompertz)[\"t_lag\"])\n",
    "\n",
    "df1 <- data.frame(timepoints, baranyi_points)\n",
    "df1$model <- \"Baranyi\"\n",
    "names(df1) <- c(\"t\", \"LogN\", \"model\")\n",
    "\n",
    "df2 <- data.frame(timepoints, buchanan_points)\n",
    "df2$model <- \"Buchanan\"\n",
    "names(df2) <- c(\"t\", \"LogN\", \"model\")\n",
    "\n",
    "df3 <- data.frame(timepoints, gompertz_points)\n",
    "df3$model <- \"Gompertz\"\n",
    "names(df3) <- c(\"t\", \"LogN\", \"model\")\n",
    "\n",
    "model_frame <- rbind(df1, df2, df3)\n",
    "\n",
    "ggplot(data, aes(x = t, y = LogN)) +\n",
    "  geom_point(size = 3) +\n",
    "  geom_line(data = model_frame, aes(x = t, y = LogN, col = model), size = 1)"
   ]
  },
  {
   "cell_type": "markdown",
   "metadata": {},
   "source": [
    "#### Exercises\n",
    "\n",
    "1. Calculate the confidence intervals on the parameters of each of the three fitted models, and use model selection (using AIC and/or BIC) as you did before to find the best-fitting model of the three\n",
    "\n",
    "2. Repeat the model comparison exercise 1000 times (You will have to write a loop), and determine whether one model gerally wins more often than the others. Note that each rub will generate a slightly different dataset, because we are adding a vector of random errors every time the \"data\" are generated.\n",
    "\n",
    "3. Repeat (2), but increase the error by increasing the standard deviation of the normal error distributon, and see if there are differences in the robustness of the models to sampling/experimental errors. You may also want to try chaning the distribution of the errors to some non-normal distribtion as see what happens.\n",
    "\n",
    "4. Fit some real data to these models! Import the [following dataset on bacterial growth rates](https://github.com/mhasoba/TheMulQuaBio/blob/master/Data/example_growth_data.csv) into R: "
   ]
  },
  {
   "cell_type": "code",
   "execution_count": 305,
   "metadata": {},
   "outputs": [
    {
     "data": {
      "text/html": [
       "<table>\n",
       "<thead><tr><th scope=col>ID</th><th scope=col>bacterial_genus</th><th scope=col>replicate</th><th scope=col>trait_name</th><th scope=col>trait_value</th><th scope=col>hour</th></tr></thead>\n",
       "<tbody>\n",
       "\t<tr><td>Sch_AE103_02  </td><td>Flavobacterium</td><td>1             </td><td>Log(cells/mL) </td><td>5.301030      </td><td> 0            </td></tr>\n",
       "\t<tr><td>Sch_AE103_02  </td><td>Flavobacterium</td><td>1             </td><td>Log(cells/mL) </td><td>5.301030      </td><td> 5            </td></tr>\n",
       "\t<tr><td>Sch_AE103_02  </td><td>Flavobacterium</td><td>1             </td><td>Log(cells/mL) </td><td>6.991226      </td><td>10            </td></tr>\n",
       "\t<tr><td>Sch_AE103_02  </td><td>Flavobacterium</td><td>1             </td><td>Log(cells/mL) </td><td>8.094820      </td><td>15            </td></tr>\n",
       "\t<tr><td>Sch_AE103_02  </td><td>Flavobacterium</td><td>1             </td><td>Log(cells/mL) </td><td>8.358316      </td><td>20            </td></tr>\n",
       "\t<tr><td>Sch_AE103_02  </td><td>Flavobacterium</td><td>1             </td><td>Log(cells/mL) </td><td>8.460296      </td><td>25            </td></tr>\n",
       "</tbody>\n",
       "</table>\n"
      ],
      "text/latex": [
       "\\begin{tabular}{r|llllll}\n",
       " ID & bacterial\\_genus & replicate & trait\\_name & trait\\_value & hour\\\\\n",
       "\\hline\n",
       "\t Sch\\_AE103\\_02 & Flavobacterium   & 1                & Log(cells/mL)    & 5.301030         &  0              \\\\\n",
       "\t Sch\\_AE103\\_02 & Flavobacterium   & 1                & Log(cells/mL)    & 5.301030         &  5              \\\\\n",
       "\t Sch\\_AE103\\_02 & Flavobacterium   & 1                & Log(cells/mL)    & 6.991226         & 10              \\\\\n",
       "\t Sch\\_AE103\\_02 & Flavobacterium   & 1                & Log(cells/mL)    & 8.094820         & 15              \\\\\n",
       "\t Sch\\_AE103\\_02 & Flavobacterium   & 1                & Log(cells/mL)    & 8.358316         & 20              \\\\\n",
       "\t Sch\\_AE103\\_02 & Flavobacterium   & 1                & Log(cells/mL)    & 8.460296         & 25              \\\\\n",
       "\\end{tabular}\n"
      ],
      "text/markdown": [
       "\n",
       "ID | bacterial_genus | replicate | trait_name | trait_value | hour | \n",
       "|---|---|---|---|---|---|\n",
       "| Sch_AE103_02   | Flavobacterium | 1              | Log(cells/mL)  | 5.301030       |  0             | \n",
       "| Sch_AE103_02   | Flavobacterium | 1              | Log(cells/mL)  | 5.301030       |  5             | \n",
       "| Sch_AE103_02   | Flavobacterium | 1              | Log(cells/mL)  | 6.991226       | 10             | \n",
       "| Sch_AE103_02   | Flavobacterium | 1              | Log(cells/mL)  | 8.094820       | 15             | \n",
       "| Sch_AE103_02   | Flavobacterium | 1              | Log(cells/mL)  | 8.358316       | 20             | \n",
       "| Sch_AE103_02   | Flavobacterium | 1              | Log(cells/mL)  | 8.460296       | 25             | \n",
       "\n",
       "\n"
      ],
      "text/plain": [
       "  ID           bacterial_genus replicate trait_name    trait_value hour\n",
       "1 Sch_AE103_02 Flavobacterium  1         Log(cells/mL) 5.301030     0  \n",
       "2 Sch_AE103_02 Flavobacterium  1         Log(cells/mL) 5.301030     5  \n",
       "3 Sch_AE103_02 Flavobacterium  1         Log(cells/mL) 6.991226    10  \n",
       "4 Sch_AE103_02 Flavobacterium  1         Log(cells/mL) 8.094820    15  \n",
       "5 Sch_AE103_02 Flavobacterium  1         Log(cells/mL) 8.358316    20  \n",
       "6 Sch_AE103_02 Flavobacterium  1         Log(cells/mL) 8.460296    25  "
      ]
     },
     "metadata": {},
     "output_type": "display_data"
    },
    {
     "data": {
      "text/html": [
       "<table>\n",
       "<thead><tr><th></th><th scope=col>ID</th><th scope=col>bacterial_genus</th><th scope=col>replicate</th><th scope=col>trait_name</th><th scope=col>trait_value</th><th scope=col>hour</th></tr></thead>\n",
       "<tbody>\n",
       "\t<tr><th scope=row>963</th><td>Wil_SP04_02  </td><td>Bacillus     </td><td>4            </td><td>Log(cells/mL)</td><td>7.086360     </td><td>25           </td></tr>\n",
       "\t<tr><th scope=row>964</th><td>Wil_SP04_02  </td><td>Bacillus     </td><td>4            </td><td>Log(cells/mL)</td><td>7.322219     </td><td>30           </td></tr>\n",
       "\t<tr><th scope=row>965</th><td>Wil_SP04_02  </td><td>Bacillus     </td><td>4            </td><td>Log(cells/mL)</td><td>7.361728     </td><td>35           </td></tr>\n",
       "\t<tr><th scope=row>966</th><td>Wil_SP04_02  </td><td>Bacillus     </td><td>4            </td><td>Log(cells/mL)</td><td>7.322219     </td><td>40           </td></tr>\n",
       "\t<tr><th scope=row>967</th><td>Wil_SP04_02  </td><td>Bacillus     </td><td>4            </td><td>Log(cells/mL)</td><td>7.260071     </td><td>45           </td></tr>\n",
       "\t<tr><th scope=row>968</th><td>Wil_SP04_02  </td><td>Bacillus     </td><td>4            </td><td>Log(cells/mL)</td><td>7.292256     </td><td>50           </td></tr>\n",
       "</tbody>\n",
       "</table>\n"
      ],
      "text/latex": [
       "\\begin{tabular}{r|llllll}\n",
       "  & ID & bacterial\\_genus & replicate & trait\\_name & trait\\_value & hour\\\\\n",
       "\\hline\n",
       "\t963 & Wil\\_SP04\\_02 & Bacillus        & 4               & Log(cells/mL)   & 7.086360        & 25             \\\\\n",
       "\t964 & Wil\\_SP04\\_02 & Bacillus        & 4               & Log(cells/mL)   & 7.322219        & 30             \\\\\n",
       "\t965 & Wil\\_SP04\\_02 & Bacillus        & 4               & Log(cells/mL)   & 7.361728        & 35             \\\\\n",
       "\t966 & Wil\\_SP04\\_02 & Bacillus        & 4               & Log(cells/mL)   & 7.322219        & 40             \\\\\n",
       "\t967 & Wil\\_SP04\\_02 & Bacillus        & 4               & Log(cells/mL)   & 7.260071        & 45             \\\\\n",
       "\t968 & Wil\\_SP04\\_02 & Bacillus        & 4               & Log(cells/mL)   & 7.292256        & 50             \\\\\n",
       "\\end{tabular}\n"
      ],
      "text/markdown": [
       "\n",
       "| <!--/--> | ID | bacterial_genus | replicate | trait_name | trait_value | hour | \n",
       "|---|---|---|---|---|---|\n",
       "| 963 | Wil_SP04_02   | Bacillus      | 4             | Log(cells/mL) | 7.086360      | 25            | \n",
       "| 964 | Wil_SP04_02   | Bacillus      | 4             | Log(cells/mL) | 7.322219      | 30            | \n",
       "| 965 | Wil_SP04_02   | Bacillus      | 4             | Log(cells/mL) | 7.361728      | 35            | \n",
       "| 966 | Wil_SP04_02   | Bacillus      | 4             | Log(cells/mL) | 7.322219      | 40            | \n",
       "| 967 | Wil_SP04_02   | Bacillus      | 4             | Log(cells/mL) | 7.260071      | 45            | \n",
       "| 968 | Wil_SP04_02   | Bacillus      | 4             | Log(cells/mL) | 7.292256      | 50            | \n",
       "\n",
       "\n"
      ],
      "text/plain": [
       "    ID          bacterial_genus replicate trait_name    trait_value hour\n",
       "963 Wil_SP04_02 Bacillus        4         Log(cells/mL) 7.086360    25  \n",
       "964 Wil_SP04_02 Bacillus        4         Log(cells/mL) 7.322219    30  \n",
       "965 Wil_SP04_02 Bacillus        4         Log(cells/mL) 7.361728    35  \n",
       "966 Wil_SP04_02 Bacillus        4         Log(cells/mL) 7.322219    40  \n",
       "967 Wil_SP04_02 Bacillus        4         Log(cells/mL) 7.260071    45  \n",
       "968 Wil_SP04_02 Bacillus        4         Log(cells/mL) 7.292256    50  "
      ]
     },
     "metadata": {},
     "output_type": "display_data"
    }
   ],
   "source": [
    "BacData <- read.csv(\"../Data/example_growth_data.csv\")\n",
    "\n",
    "head(BacData)\n",
    "tail(BacData)"
   ]
  },
  {
   "cell_type": "markdown",
   "metadata": {},
   "source": [
    "The column `trait_value` and `hour` are your variables of interest (log cell density and time), respectively. Note that the `ID` column will tell you which rows represent one separate growth experiment. Similar to exercise (3), you may   "
   ]
  },
  {
   "cell_type": "markdown",
   "metadata": {},
   "source": [
    "That is the end of this NLLS tutorial. Hope you found it useful, and that it gives you a toe-hold for learning how to fit non-linear models to your own data. \n",
    "\n",
    "Also, note that similar to linear models, you can use Non-linear Mixed Effects statistical methods to fit nonlinear models to data (e.g., using the `lme4` and/or `nlme` packages in R).  "
   ]
  },
  {
   "cell_type": "markdown",
   "metadata": {},
   "source": [
    "## Readings and Resources <a id='Readings'></a>\n",
    "\n",
    "* Motulsky, Harvey, and Arthur Christopoulos. Fitting models to biological data using linear and nonlinear regression: a practical guide to curve fitting. OUP USA, 2004.\n",
    "* Johnson, J. B. & Omland, K. S. 2004 Model selection in ecology and evolution. Trends Ecol. Evol. 19, 101–108.\n",
    "* The [NCEAS non-linear modelling working group](https://groups.nceas.ucsb.edu/non-linear-modeling/projects/OrangeTree)\n",
    "* [Mixed-Effects Models in S and S-PLUS](https://link.springer.com/book/10.1007/b98882)"
   ]
  }
 ],
 "metadata": {
  "kernelspec": {
   "display_name": "R",
   "language": "R",
   "name": "ir"
  },
  "language_info": {
   "codemirror_mode": "r",
   "file_extension": ".r",
   "mimetype": "text/x-r-source",
   "name": "R",
   "pygments_lexer": "r",
   "version": "3.2.3"
  },
  "latex_envs": {
   "LaTeX_envs_menu_present": true,
   "autocomplete": false,
   "bibliofile": "biblio.bib",
   "cite_by": "apalike",
   "current_citInitial": 1,
   "eqLabelWithNumbers": true,
   "eqNumInitial": 1,
   "hotkeys": {
    "equation": "Ctrl-E",
    "itemize": "Ctrl-I"
   },
   "labels_anchors": false,
   "latex_user_defs": false,
   "report_style_numbering": false,
   "user_envs_cfg": false
  },
  "toc": {
   "colors": {
    "hover_highlight": "#DAA520",
    "navigate_num": "#000000",
    "navigate_text": "#333333",
    "running_highlight": "#FF0000",
    "selected_highlight": "#FFD700",
    "sidebar_border": "#EEEEEE",
    "wrapper_background": "#FFFFFF"
   },
   "moveMenuLeft": true,
   "nav_menu": {
    "height": "171px",
    "width": "252px"
   },
   "navigate_menu": true,
   "number_sections": true,
   "sideBar": true,
   "threshold": 4,
   "toc_cell": false,
   "toc_section_display": "block",
   "toc_window_display": false,
   "widenNotebook": false
  }
 },
 "nbformat": 4,
 "nbformat_minor": 2
}
