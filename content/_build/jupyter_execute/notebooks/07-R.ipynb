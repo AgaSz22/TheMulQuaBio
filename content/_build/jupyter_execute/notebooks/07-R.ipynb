{
 "cells": [
  {
   "cell_type": "code",
   "execution_count": 9,
   "metadata": {
    "tags": [
     "remove-cell"
    ]
   },
   "outputs": [],
   "source": [
    "library(repr) ; options(repr.plot.width=6, repr.plot.height= 6) # Change plot sizes (in cm)"
   ]
  },
  {
   "cell_type": "markdown",
   "metadata": {},
   "source": [
    "# Biological Computing in R"
   ]
  },
  {
   "cell_type": "markdown",
   "metadata": {},
   "source": [
    "## Introduction \n",
    "\n",
    "The R part of this course aims to lay down the foundations for you to use R for scientific computing in biology by exploiting it full potential as a fully featured object-oriented programming language. Specifically, this chapter aims at teaching you:\n",
    "\n",
    "* Basic R syntax and programming conventions, assuming you have never set your eyes on R\n",
    "* Principles of data processing and exploration (including visualization) using R\n",
    "* Principles of clean and efficient programming using R\n",
    "* To generate publication quality graphics in R \n",
    "* To develop reproducible data analysis \"work flows\" so you (or anybody else) can run and re-run your analyses, graphics outputs and all, in R \n",
    "* To make R simulations more efficient using vectorization\n",
    "* To find and fix errors in R code using debugging \n",
    "* T make data wrangling and analyses more efficient and convenient using custom tools such as `tidyr`\n",
    "* Some additional tools and topics in R (accessing databases, building your own packages, etc.). \n",
    "\n",
    "\n",
    "### What is R?\n",
    "\n",
    "R is a freely available statistical software with strong  programming capabilities widely used by professional scientists around  the world. It was based on the commercial statistical software `S` by Robert Gentleman and Ross Ihaka. The first stable version appeared  in 2000. \n",
    "\n",
    "R was essentially designed for *programming* statistical  analysis and data-mining. It became the standard tool for data  analysis and visualization in biology in a matter of just 10 years or so. It is also increasingly being used for modelling in biology. This is because R has: \n",
    "\n",
    "* Many tried and tested packages to perform practically all statistical analysis\n",
    "* Numerous packages for data-handling and processing   \n",
    "* Excellent graphing and visualization capabilities\n",
    "* Good capabilities for mathematical calculations, including matrix algebra \n",
    "\n",
    "### Why R?\n",
    "\n",
    "There are many commercial statistical (minitab, SPSS, etc) software  packages in the world that are mouse-driven, warm, and friendly, and  have lots of statistical tests and plotting/graphing capabilities. Why not just use them? Here are some very good reasons:\n",
    "\n",
    "* R is scriptable, so you can build a perfectly repeatable record of your analysis. This in itself has several advantages:\n",
    "   * You can never replicate *exactly* the same analysis with all the same steps using a point-and-click approach/software. With R you can reproduce your full analysis for yourself (in the future!), your colleagues, your supervisor/employer, and any journal you might want to submit your work to.\n",
    "   * You may need to rerun your analysis every time you get new data. Once you have it all in a R script, you can just rerun your     analysis and go home!\n",
    "   * You may need to tweak your analysis many times (new data, supervisor changes mind, you change mind, paper reviewers want you do something differently). Having the analysis recorded as script then allows you to do so by revising the relevant parts of your analysis with relatively little pain.  \n",
    "* R provides basically every statistical test you'll ever need and is constantly being improved &ndash;  you can tailor your analyses rather than trying to use the more limited options each statistical software package can offer. \n",
    "* R can produce publication-quality graphics that can be re-produced with scripts &ndash; you won't get [RSI](https://en.wikipedia.org/wiki/Repetitive_strain_injury) mouse-clicking your way though graphing and re-graphing your data every time you change your analysis!\n",
    "* R is freely available for all common computer operating systems &ndash; if you want a copy on your laptop, help yourself  at the [CRAN website](https://cran.r-project.org).\n",
    "* Being able to program in R means you can develop and automate your own data handling, statistical analysis, and graphing/plotting, a set of skills you are likely to need in many, if not most careers paths!\n",
    "\n",
    "#### Would you ever need anything other than R?\n",
    "\n",
    "Being able to program R means you can develop and automate your statistical analyses and the generation of figures into a reproducible work flow. For many of you, using R as your only programming language will do the job. However, if your work also includes extensive numerical simulations, manipulation of very large matrices, bioinformatics, relational database access and manipulation, or web development, you will be better-off *also* knowing another programming language that is more versatile and computationally efficient (like Python, C, or Julia).\n",
    "\n",
    "### Installing R\n",
    "\n",
    "If you are using a college computer, R will likely already be available.\n",
    "\n",
    "Otherwise you can follow [these instructions](https://imperial-fons-computing.github.io/rstudio.html) to install R on your own computer.\n",
    "\n",
    "In particular, on Ubuntu Linux, it is as simple as typing the following in terminal:\n",
    "\n",
    "```bash\n",
    "sudo apt install r-base r-base-dev\n",
    "```\n",
    "\n",
    "\n",
    "## Getting started\n",
    "\n",
    "You should be using an IDE for R. Please re-visit the [\"To IDE or not to IDE\" section of the introduction](../intro.md) if you are not familiar with IDEs.\n",
    "\n",
    "Let's briefly look at the bare-bones R interface and command line  interface (CLI), and then switch to an IDE like VS Code or RStudio.\n",
    "\n",
    "Launch R (From Applications menu on Window or Mac, from terminal in  Linux/Ubuntu) &mdash; it should look something like this (on Linux/Ubuntu or Mac terminal):\n",
    "\n",
    "---\n",
    ":::{figure} R-linux-console\n",
    "<img src=\"./graphics/R_Linux.png\" alt=\"R in UNIX\" width=\"500px\">\n",
    "\n",
    "**The R console in Linux/Unix.** \n",
    ":::\n",
    "\n",
    "\n",
    "Or like this (Windows \"console\", similar in Mac):\n",
    " \n",
    "---\n",
    ":::{figure} R-windows-console\n",
    "<img src=\"./graphics/R_terminal.jpg\" alt=\"R in Windows\" width=\"500px\">\n",
    "\n",
    "**The R console in Windows/Mac OS.** \n",
    ":::\n",
    "\n",
    "---\n",
    "\n",
    "\n",
    "## R basics\n",
    "\n",
    "Lets get started with some R basics. You will be working by entering R commands interactively at the R user prompt (`>`). Up and down arrow keys scroll through your command history. \n",
    "\n",
    "### Useful R commands\n",
    "\n",
    "|Command| What it does|\n",
    "|:-|:-|\n",
    "| `ls()`| list all the variables in the work space |\n",
    "| `rm('a', 'b')`| remove variable(s) `a` and `b`|\n",
    "| `rm(list=ls())`| remove all variable(s)|\n",
    "| `getwd()`| get current working directory |\n",
    "| `setwd('Path')`| set working directory to `Path`|\n",
    "| `q()`| quit R |\n",
    "| `?Command`| show the documentation of `Command`|\n",
    "| `??Keyword`| search the all packages/functions with 'Keyword', \"fuzzy search\"|\n",
    "\n",
    "### Baby steps\n",
    "\n",
    "Like in any programming language, you will need to use \"variables\" to store information in a R session's workspace. Each variable has a reserved location in your [RAM](https://en.wikipedia.org/wiki/Random-access_memory), and takes up \"real estate\" in it &mdash; that is when you create a variable you reserve some space in your computer's memory.\n",
    "\n",
    "$\\star$ Now, let's try assigning a few variables in R and doing things to them:"
   ]
  },
  {
   "cell_type": "code",
   "execution_count": 10,
   "metadata": {},
   "outputs": [],
   "source": [
    "a <- 4  # store 4 as variable a"
   ]
  },
  {
   "cell_type": "code",
   "execution_count": 11,
   "metadata": {},
   "outputs": [
    {
     "data": {
      "text/html": [
       "4"
      ],
      "text/latex": [
       "4"
      ],
      "text/markdown": [
       "4"
      ],
      "text/plain": [
       "[1] 4"
      ]
     },
     "metadata": {},
     "output_type": "display_data"
    }
   ],
   "source": [
    "a # display it"
   ]
  },
  {
   "cell_type": "code",
   "execution_count": 12,
   "metadata": {},
   "outputs": [
    {
     "data": {
      "text/html": [
       "16"
      ],
      "text/latex": [
       "16"
      ],
      "text/markdown": [
       "16"
      ],
      "text/plain": [
       "[1] 16"
      ]
     },
     "metadata": {},
     "output_type": "display_data"
    }
   ],
   "source": [
    "a * a # product"
   ]
  },
  {
   "cell_type": "markdown",
   "metadata": {},
   "source": [
    "Store a variable:"
   ]
  },
  {
   "cell_type": "code",
   "execution_count": 13,
   "metadata": {},
   "outputs": [],
   "source": [
    "a_squared <- a * a "
   ]
  },
  {
   "cell_type": "markdown",
   "metadata": {},
   "source": [
    "```{note}\n",
    "Unlike Python or most other programming languages, R uses the `<-` [operator to assign variables](https://stat.ethz.ch/R-manual/R-devel/library/base/html/assignOps.html). You can use `=` as well, but it does not work everywhere, so better to stick with `<-`.\n",
    "```"
   ]
  },
  {
   "cell_type": "code",
   "execution_count": 14,
   "metadata": {},
   "outputs": [
    {
     "data": {
      "text/html": [
       "4"
      ],
      "text/latex": [
       "4"
      ],
      "text/markdown": [
       "4"
      ],
      "text/plain": [
       "[1] 4"
      ]
     },
     "metadata": {},
     "output_type": "display_data"
    }
   ],
   "source": [
    "sqrt(a_squared) # square root"
   ]
  },
  {
   "cell_type": "markdown",
   "metadata": {},
   "source": [
    "Build a vector with `c` (stands for \"`c`oncatenate\"): "
   ]
  },
  {
   "cell_type": "code",
   "execution_count": 15,
   "metadata": {},
   "outputs": [],
   "source": [
    "v <- c(0, 1, 2, 3, 4)"
   ]
  },
  {
   "cell_type": "code",
   "execution_count": 16,
   "metadata": {},
   "outputs": [
    {
     "data": {
      "text/html": [
       "<style>\n",
       ".list-inline {list-style: none; margin:0; padding: 0}\n",
       ".list-inline>li {display: inline-block}\n",
       ".list-inline>li:not(:last-child)::after {content: \"\\00b7\"; padding: 0 .5ex}\n",
       "</style>\n",
       "<ol class=list-inline><li>0</li><li>1</li><li>2</li><li>3</li><li>4</li></ol>\n"
      ],
      "text/latex": [
       "\\begin{enumerate*}\n",
       "\\item 0\n",
       "\\item 1\n",
       "\\item 2\n",
       "\\item 3\n",
       "\\item 4\n",
       "\\end{enumerate*}\n"
      ],
      "text/markdown": [
       "1. 0\n",
       "2. 1\n",
       "3. 2\n",
       "4. 3\n",
       "5. 4\n",
       "\n",
       "\n"
      ],
      "text/plain": [
       "[1] 0 1 2 3 4"
      ]
     },
     "metadata": {},
     "output_type": "display_data"
    }
   ],
   "source": [
    "v # Display the vector-valued variable you created"
   ]
  },
  {
   "cell_type": "markdown",
   "metadata": {},
   "source": [
    "Note that any text after a \"#\" is ignored by R, like in many other languages &mdash; handy for commenting. \n",
    "\n",
    "*In general, please comment your code and scripts, for *everybody's* sake. You will be amazed by how difficult it is to read and understand what a certain R script does (or any other script, for that matter) without judicious comments &mdash; even scripts you yourself wrote not so long ago!\n",
    "\n",
    "```{tip}\n",
    "\n",
    " **The Concatenate function:** `c()`(concatenate) is one of the most commonly used R functions because it is the default method for combining multiple arguments into a vector. To learn more about it, type `?c` at the R prompt and hit enter. \n",
    "```"
   ]
  },
  {
   "cell_type": "code",
   "execution_count": 17,
   "metadata": {},
   "outputs": [
    {
     "data": {
      "text/html": [
       "TRUE"
      ],
      "text/latex": [
       "TRUE"
      ],
      "text/markdown": [
       "TRUE"
      ],
      "text/plain": [
       "[1] TRUE"
      ]
     },
     "metadata": {},
     "output_type": "display_data"
    }
   ],
   "source": [
    "is.vector(v) # check if v's a vector"
   ]
  },
  {
   "cell_type": "code",
   "execution_count": 18,
   "metadata": {},
   "outputs": [
    {
     "data": {
      "text/html": [
       "2"
      ],
      "text/latex": [
       "2"
      ],
      "text/markdown": [
       "2"
      ],
      "text/plain": [
       "[1] 2"
      ]
     },
     "metadata": {},
     "output_type": "display_data"
    }
   ],
   "source": [
    "mean(v) # mean"
   ]
  },
  {
   "cell_type": "markdown",
   "metadata": {},
   "source": [
    "Thus, a *vector* is like a single column or row in a *spreadsheet* (just like it is in [Python](05-Python_I.ipynb)). Multiple vectors can be combined to make a matrix (the full spreadsheet).  \n",
    "\n",
    "This is one of many ways R stores and processes data. More on R data types and objects below.  \n",
    "\n",
    "A single value (any kind) is a vector object of length 1 by default. That's why in the R console you see ` [1]` before any single-value output (e.g., type `8`, and you will see `[1] 8`)."
   ]
  },
  {
   "cell_type": "markdown",
   "metadata": {},
   "source": [
    "Some examples of operations on vectors: "
   ]
  },
  {
   "cell_type": "code",
   "execution_count": 19,
   "metadata": {},
   "outputs": [
    {
     "data": {
      "text/html": [
       "2.5"
      ],
      "text/latex": [
       "2.5"
      ],
      "text/markdown": [
       "2.5"
      ],
      "text/plain": [
       "[1] 2.5"
      ]
     },
     "metadata": {},
     "output_type": "display_data"
    }
   ],
   "source": [
    "var(v) # variance"
   ]
  },
  {
   "cell_type": "code",
   "execution_count": 20,
   "metadata": {},
   "outputs": [
    {
     "data": {
      "text/html": [
       "2"
      ],
      "text/latex": [
       "2"
      ],
      "text/markdown": [
       "2"
      ],
      "text/plain": [
       "[1] 2"
      ]
     },
     "metadata": {},
     "output_type": "display_data"
    }
   ],
   "source": [
    "median(v) # median"
   ]
  },
  {
   "cell_type": "code",
   "execution_count": 21,
   "metadata": {},
   "outputs": [
    {
     "data": {
      "text/html": [
       "10"
      ],
      "text/latex": [
       "10"
      ],
      "text/markdown": [
       "10"
      ],
      "text/plain": [
       "[1] 10"
      ]
     },
     "metadata": {},
     "output_type": "display_data"
    }
   ],
   "source": [
    "sum(v) # sum all elements"
   ]
  },
  {
   "cell_type": "code",
   "execution_count": 22,
   "metadata": {},
   "outputs": [
    {
     "data": {
      "text/html": [
       "120"
      ],
      "text/latex": [
       "120"
      ],
      "text/markdown": [
       "120"
      ],
      "text/plain": [
       "[1] 120"
      ]
     },
     "metadata": {},
     "output_type": "display_data"
    }
   ],
   "source": [
    "prod(v + 1) # multiply"
   ]
  },
  {
   "cell_type": "code",
   "execution_count": 23,
   "metadata": {},
   "outputs": [
    {
     "data": {
      "text/html": [
       "5"
      ],
      "text/latex": [
       "5"
      ],
      "text/markdown": [
       "5"
      ],
      "text/plain": [
       "[1] 5"
      ]
     },
     "metadata": {},
     "output_type": "display_data"
    }
   ],
   "source": [
    "length(v) # how many elements in the vector"
   ]
  },
  {
   "cell_type": "markdown",
   "metadata": {},
   "source": [
    "### Variable names and Tabbing\n",
    "\n",
    "In R, you can name variables in the following way to keep track of related variables:"
   ]
  },
  {
   "cell_type": "code",
   "execution_count": 24,
   "metadata": {},
   "outputs": [],
   "source": [
    "wing.width.cm <- 1.2 #Using dot notation"
   ]
  },
  {
   "cell_type": "code",
   "execution_count": 25,
   "metadata": {},
   "outputs": [],
   "source": [
    "wing.length.cm <- c(4.7, 5.2, 4.8)"
   ]
  },
  {
   "cell_type": "markdown",
   "metadata": {},
   "source": [
    "This can be handy; type:\n",
    "\n",
    "```r\n",
    "wing.\n",
    "```\n",
    "\n",
    "And then hit the ` tab`key to reveal all variables in that  category. This is nice &mdash; variable names should be as obvious as possible. However, they should not be over-long either! Good style and readability is more important than just convenient variable names. \n",
    "\n",
    "In fact, R allows dots to be sued in variable names of all objects (not just objects that are variables). For example, functions names can have dots in them as well, as you will see below with the `is.*` family (e.g., `is.infinite()`, `is.nan()`, etc.). "
   ]
  },
  {
   "cell_type": "markdown",
   "metadata": {},
   "source": [
    "### Operators\n",
    "The usual operators are available in R:\n",
    "\n",
    "|Operator||\n",
    "|:-|:-|\n",
    "| ` +`| Addition |\n",
    "| ` -`| Subtraction|\n",
    "| ` *`| Multiplication|\n",
    "| ` /`| Division|\n",
    "| `^`| Power|\n",
    "| ` %%`| Modulo|\n",
    "| ` %/%`| Integer division|\n",
    "| ` ==`| Equals|\n",
    "| ` !=`| Differs|\n",
    "| `>`| Greater|\n",
    "| `>=`| Greater or equal|\n",
    "| ` &`| Logical and|\n",
    "| $|$ |  Logical or|\n",
    "| ` !`| Logical not|"
   ]
  },
  {
   "cell_type": "markdown",
   "metadata": {},
   "source": [
    "### When things go wrong\n",
    "\n",
    "Here are some common [syntax errors](https://en.wikipedia.org/wiki/Syntax_error) that you might run into in R, especially when you just beginning to learn this language: \n",
    "\n",
    "\n",
    "* Missing a closing bracket leads to continuation line, which looks something like this, with a `+` at the end:\n",
    "\n",
    "```r\n",
    "x <- (1 + (2 * 3)\n",
    "+ \n",
    "```\n",
    "\n",
    "Hit ` Ctrl-C`(UNIX terminal or base R command line) or ESC (in in RStudio) or keep typing!\n",
    "\n",
    "* Too many parentheses; for example, `2 + (2*3))`\n",
    "\n",
    "* Wrong or mismatched brackets (see next subsection).\n",
    "\n",
    "* Mixing double and single quotes will also give you an error\n",
    "\n",
    "\n",
    "When things are taking too long and the R consile seems frozen, try `Ctrl + C` (UNIX terminal or base R command line) or ESC (in RStudio) to force an exit from whatever is going on."
   ]
  },
  {
   "cell_type": "markdown",
   "metadata": {},
   "source": [
    "### Types of parentheses\n",
    "\n",
    "R has specific uses for different types of Parentheses type that you need to get used to:\n",
    "\n",
    "| Parentheses type| What it does|\n",
    "|:-|:-|\n",
    "|`f(3,4)`| call the function (or command) f, with the arguments 3 & 4. |\n",
    "|`a + (b*c)`| to enforce order over which statements or calculations are executed. Here `(b*c)`is executed before adding to ` a`. Here is an alternative order: ` (a + b)*c`|\n",
    "|`{expr1; expr2;...exprn}` | group a set of expressions or commands into one compound expression. Value returned is value of last expression; used in building function, loops, and conditionals (more on these soon!).|\n",
    "|`x[4]`| get the 4th element of the vector ` x`.|\n",
    "| `li[[3]]`| get the 3rd element of some list ` li`, and return it.(compare with `li[3]`, which returns a list with just the 3rd element inside). More on lists in next section."
   ]
  },
  {
   "cell_type": "code",
   "execution_count": 26,
   "metadata": {},
   "outputs": [],
   "source": [
    "li = list(c(1,2,3))"
   ]
  },
  {
   "cell_type": "code",
   "execution_count": 27,
   "metadata": {},
   "outputs": [
    {
     "data": {
      "text/html": [
       "'list'"
      ],
      "text/latex": [
       "'list'"
      ],
      "text/markdown": [
       "'list'"
      ],
      "text/plain": [
       "[1] \"list\""
      ]
     },
     "metadata": {},
     "output_type": "display_data"
    }
   ],
   "source": [
    "class(li)"
   ]
  },
  {
   "cell_type": "markdown",
   "metadata": {},
   "source": [
    "## Variable types\n",
    "\n",
    "There are different kinds of data variable types in R, but you will basically need to know four for most of your work: integer, float (or \"numeric\", including real numbers), string (or \"character\", e.g., \n",
    "text), and Boolean (\"logical\"; ` True`or ` FALSE`).  \n",
    "\n",
    "Try this:"
   ]
  },
  {
   "cell_type": "code",
   "execution_count": 28,
   "metadata": {},
   "outputs": [],
   "source": [
    "v <- TRUE"
   ]
  },
  {
   "cell_type": "code",
   "execution_count": 29,
   "metadata": {
    "scrolled": true
   },
   "outputs": [
    {
     "data": {
      "text/html": [
       "TRUE"
      ],
      "text/latex": [
       "TRUE"
      ],
      "text/markdown": [
       "TRUE"
      ],
      "text/plain": [
       "[1] TRUE"
      ]
     },
     "metadata": {},
     "output_type": "display_data"
    }
   ],
   "source": [
    "v"
   ]
  },
  {
   "cell_type": "code",
   "execution_count": 30,
   "metadata": {
    "scrolled": true
   },
   "outputs": [
    {
     "data": {
      "text/html": [
       "'logical'"
      ],
      "text/latex": [
       "'logical'"
      ],
      "text/markdown": [
       "'logical'"
      ],
      "text/plain": [
       "[1] \"logical\""
      ]
     },
     "metadata": {},
     "output_type": "display_data"
    }
   ],
   "source": [
    "class(v)"
   ]
  },
  {
   "cell_type": "markdown",
   "metadata": {},
   "source": [
    "The `class()` function tells you what type of variable any object in the workspace is."
   ]
  },
  {
   "cell_type": "code",
   "execution_count": 31,
   "metadata": {},
   "outputs": [
    {
     "data": {
      "text/html": [
       "'numeric'"
      ],
      "text/latex": [
       "'numeric'"
      ],
      "text/markdown": [
       "'numeric'"
      ],
      "text/plain": [
       "[1] \"numeric\""
      ]
     },
     "metadata": {},
     "output_type": "display_data"
    }
   ],
   "source": [
    "v <- 3.2\n",
    "class(v)"
   ]
  },
  {
   "cell_type": "code",
   "execution_count": 32,
   "metadata": {},
   "outputs": [
    {
     "data": {
      "text/html": [
       "'integer'"
      ],
      "text/latex": [
       "'integer'"
      ],
      "text/markdown": [
       "'integer'"
      ],
      "text/plain": [
       "[1] \"integer\""
      ]
     },
     "metadata": {},
     "output_type": "display_data"
    }
   ],
   "source": [
    "v <- 2L\n",
    "class(v)"
   ]
  },
  {
   "cell_type": "code",
   "execution_count": 33,
   "metadata": {},
   "outputs": [
    {
     "data": {
      "text/html": [
       "'character'"
      ],
      "text/latex": [
       "'character'"
      ],
      "text/markdown": [
       "'character'"
      ],
      "text/plain": [
       "[1] \"character\""
      ]
     },
     "metadata": {},
     "output_type": "display_data"
    }
   ],
   "source": [
    "v <- \"A string\"\n",
    "class(v)"
   ]
  },
  {
   "cell_type": "code",
   "execution_count": 34,
   "metadata": {},
   "outputs": [
    {
     "data": {
      "text/html": [
       "'logical'"
      ],
      "text/latex": [
       "'logical'"
      ],
      "text/markdown": [
       "'logical'"
      ],
      "text/plain": [
       "[1] \"logical\""
      ]
     },
     "metadata": {},
     "output_type": "display_data"
    }
   ],
   "source": [
    "b <- NA\n",
    "class(b)"
   ]
  },
  {
   "cell_type": "markdown",
   "metadata": {},
   "source": [
    "Also, the `is.*` family of functions allow you to check if a variable is a specific in R: "
   ]
  },
  {
   "cell_type": "code",
   "execution_count": 35,
   "metadata": {},
   "outputs": [
    {
     "data": {
      "text/html": [
       "TRUE"
      ],
      "text/latex": [
       "TRUE"
      ],
      "text/markdown": [
       "TRUE"
      ],
      "text/plain": [
       "[1] TRUE"
      ]
     },
     "metadata": {},
     "output_type": "display_data"
    }
   ],
   "source": [
    "is.na(b)"
   ]
  },
  {
   "cell_type": "code",
   "execution_count": 36,
   "metadata": {},
   "outputs": [
    {
     "data": {
      "text/html": [
       "NaN"
      ],
      "text/latex": [
       "NaN"
      ],
      "text/markdown": [
       "NaN"
      ],
      "text/plain": [
       "[1] NaN"
      ]
     },
     "metadata": {},
     "output_type": "display_data"
    }
   ],
   "source": [
    "b <- 0/0\n",
    "b"
   ]
  },
  {
   "cell_type": "code",
   "execution_count": 37,
   "metadata": {
    "scrolled": true
   },
   "outputs": [
    {
     "data": {
      "text/html": [
       "TRUE"
      ],
      "text/latex": [
       "TRUE"
      ],
      "text/markdown": [
       "TRUE"
      ],
      "text/plain": [
       "[1] TRUE"
      ]
     },
     "metadata": {},
     "output_type": "display_data"
    }
   ],
   "source": [
    "is.nan(b)"
   ]
  },
  {
   "cell_type": "code",
   "execution_count": 38,
   "metadata": {},
   "outputs": [
    {
     "data": {
      "text/html": [
       "Inf"
      ],
      "text/latex": [
       "Inf"
      ],
      "text/markdown": [
       "Inf"
      ],
      "text/plain": [
       "[1] Inf"
      ]
     },
     "metadata": {},
     "output_type": "display_data"
    }
   ],
   "source": [
    "b <- 5/0\n",
    "b"
   ]
  },
  {
   "cell_type": "code",
   "execution_count": 39,
   "metadata": {
    "scrolled": true
   },
   "outputs": [
    {
     "data": {
      "text/html": [
       "FALSE"
      ],
      "text/latex": [
       "FALSE"
      ],
      "text/markdown": [
       "FALSE"
      ],
      "text/plain": [
       "[1] FALSE"
      ]
     },
     "metadata": {},
     "output_type": "display_data"
    }
   ],
   "source": [
    "is.nan(b)"
   ]
  },
  {
   "cell_type": "markdown",
   "metadata": {},
   "source": [
    "```{tip}\n",
    "Beware of the difference between ` NA`(` N`ot `A`vailable) and `NaN`(` N`ot `a N`umber). R will use ` NA`to represent/identify missing values in data or outputs, while  ` NaN`represent nonsense values (e.g., 0/0) that cannot be represented as a number or some other data type. \n",
    "\n",
    "See what R has to say about this: try ` ?is.nan`, ` ?is.na`, ` ?NA`, ` ?NaN`in the R commandline (one at a time!).\n",
    "\n",
    "There are also ` Inf`(Infinity, e.g., 1/0), and ` NULL` (variable not set) value types. Look these up as well using ` ?`.\n",
    "```"
   ]
  },
  {
   "cell_type": "code",
   "execution_count": 40,
   "metadata": {},
   "outputs": [
    {
     "data": {
      "text/html": [
       "TRUE"
      ],
      "text/latex": [
       "TRUE"
      ],
      "text/markdown": [
       "TRUE"
      ],
      "text/plain": [
       "[1] TRUE"
      ]
     },
     "metadata": {},
     "output_type": "display_data"
    }
   ],
   "source": [
    "is.infinite(b)"
   ]
  },
  {
   "cell_type": "code",
   "execution_count": 41,
   "metadata": {},
   "outputs": [
    {
     "data": {
      "text/html": [
       "FALSE"
      ],
      "text/latex": [
       "FALSE"
      ],
      "text/markdown": [
       "FALSE"
      ],
      "text/plain": [
       "[1] FALSE"
      ]
     },
     "metadata": {},
     "output_type": "display_data"
    }
   ],
   "source": [
    "is.finite(b)"
   ]
  },
  {
   "cell_type": "code",
   "execution_count": 42,
   "metadata": {},
   "outputs": [
    {
     "data": {
      "text/html": [
       "FALSE"
      ],
      "text/latex": [
       "FALSE"
      ],
      "text/markdown": [
       "FALSE"
      ],
      "text/plain": [
       "[1] FALSE"
      ]
     },
     "metadata": {},
     "output_type": "display_data"
    }
   ],
   "source": [
    "is.finite(0/0)"
   ]
  },
  {
   "cell_type": "markdown",
   "metadata": {},
   "source": [
    "### Type Conversions and Special Values\n",
    "\n",
    "The `as.*` commands all convert a variable from one type to another. Try out the following examples:"
   ]
  },
  {
   "cell_type": "code",
   "execution_count": 43,
   "metadata": {},
   "outputs": [
    {
     "data": {
      "text/html": [
       "3"
      ],
      "text/latex": [
       "3"
      ],
      "text/markdown": [
       "3"
      ],
      "text/plain": [
       "[1] 3"
      ]
     },
     "metadata": {},
     "output_type": "display_data"
    }
   ],
   "source": [
    "as.integer(3.1)"
   ]
  },
  {
   "cell_type": "code",
   "execution_count": 44,
   "metadata": {},
   "outputs": [
    {
     "data": {
      "text/html": [
       "4"
      ],
      "text/latex": [
       "4"
      ],
      "text/markdown": [
       "4"
      ],
      "text/plain": [
       "[1] 4"
      ]
     },
     "metadata": {},
     "output_type": "display_data"
    }
   ],
   "source": [
    "as.numeric(4)"
   ]
  },
  {
   "cell_type": "code",
   "execution_count": 45,
   "metadata": {},
   "outputs": [
    {
     "data": {
      "text/plain": [
       "[1] CLV"
      ]
     },
     "metadata": {},
     "output_type": "display_data"
    }
   ],
   "source": [
    "as.roman(155)"
   ]
  },
  {
   "cell_type": "code",
   "execution_count": 46,
   "metadata": {},
   "outputs": [
    {
     "data": {
      "text/html": [
       "'155'"
      ],
      "text/latex": [
       "'155'"
      ],
      "text/markdown": [
       "'155'"
      ],
      "text/plain": [
       "[1] \"155\""
      ]
     },
     "metadata": {},
     "output_type": "display_data"
    }
   ],
   "source": [
    "as.character(155)  # same as converting to string"
   ]
  },
  {
   "cell_type": "code",
   "execution_count": 47,
   "metadata": {},
   "outputs": [
    {
     "data": {
      "text/html": [
       "TRUE"
      ],
      "text/latex": [
       "TRUE"
      ],
      "text/markdown": [
       "TRUE"
      ],
      "text/plain": [
       "[1] TRUE"
      ]
     },
     "metadata": {},
     "output_type": "display_data"
    }
   ],
   "source": [
    "as.logical(5)"
   ]
  },
  {
   "cell_type": "markdown",
   "metadata": {},
   "source": [
    "*What just happened?!* R maps all values other than `0` to logical `True`, and `0` to `False`. This can be useful in some cases, for example, when you want to convert all your data to Presence-Absence only."
   ]
  },
  {
   "cell_type": "code",
   "execution_count": 48,
   "metadata": {},
   "outputs": [
    {
     "data": {
      "text/html": [
       "FALSE"
      ],
      "text/latex": [
       "FALSE"
      ],
      "text/markdown": [
       "FALSE"
      ],
      "text/plain": [
       "[1] FALSE"
      ]
     },
     "metadata": {},
     "output_type": "display_data"
    }
   ],
   "source": [
    "as.logical(0)"
   ]
  },
  {
   "cell_type": "markdown",
   "metadata": {},
   "source": [
    "Also, *keep an eye out for [E notation](https://en.wikipedia.org/wiki/Scientific_notation) in outputs of R functions for statistical analyses, and learn to interpret numbers formatted this way.* R uses E notation in outputs of statistical tests to display  very large or small numbers. If you are not used to different  representations of long numbers, the E notation might be  confusing. \n",
    "\n",
    "Try this:"
   ]
  },
  {
   "cell_type": "code",
   "execution_count": 49,
   "metadata": {},
   "outputs": [
    {
     "data": {
      "text/html": [
       "10000"
      ],
      "text/latex": [
       "10000"
      ],
      "text/markdown": [
       "10000"
      ],
      "text/plain": [
       "[1] 10000"
      ]
     },
     "metadata": {},
     "output_type": "display_data"
    }
   ],
   "source": [
    "1E4"
   ]
  },
  {
   "cell_type": "code",
   "execution_count": 50,
   "metadata": {},
   "outputs": [
    {
     "data": {
      "text/html": [
       "10000"
      ],
      "text/latex": [
       "10000"
      ],
      "text/markdown": [
       "10000"
      ],
      "text/plain": [
       "[1] 10000"
      ]
     },
     "metadata": {},
     "output_type": "display_data"
    }
   ],
   "source": [
    "1e4"
   ]
  },
  {
   "cell_type": "code",
   "execution_count": 51,
   "metadata": {},
   "outputs": [
    {
     "data": {
      "text/html": [
       "0.05"
      ],
      "text/latex": [
       "0.05"
      ],
      "text/markdown": [
       "0.05"
      ],
      "text/plain": [
       "[1] 0.05"
      ]
     },
     "metadata": {},
     "output_type": "display_data"
    }
   ],
   "source": [
    "5e-2"
   ]
  },
  {
   "cell_type": "code",
   "execution_count": 52,
   "metadata": {
    "scrolled": true
   },
   "outputs": [
    {
     "data": {
      "text/html": [
       "1e+08"
      ],
      "text/latex": [
       "1e+08"
      ],
      "text/markdown": [
       "1e+08"
      ],
      "text/plain": [
       "[1] 1e+08"
      ]
     },
     "metadata": {},
     "output_type": "display_data"
    }
   ],
   "source": [
    "1E4^2"
   ]
  },
  {
   "cell_type": "code",
   "execution_count": 53,
   "metadata": {},
   "outputs": [
    {
     "data": {
      "text/html": [
       "3.33333333333333e-09"
      ],
      "text/latex": [
       "3.33333333333333e-09"
      ],
      "text/markdown": [
       "3.33333333333333e-09"
      ],
      "text/plain": [
       "[1] 3.333333e-09"
      ]
     },
     "metadata": {},
     "output_type": "display_data"
    }
   ],
   "source": [
    "1 / 3 / 1e8"
   ]
  },
  {
   "cell_type": "markdown",
   "metadata": {},
   "source": [
    "```{tip} \n",
    "**Boolean arguments in R**: In `R`, you can use `F` and `T` for boolean `FALSE` and `TRUE` respectively. To see this, type \n",
    "\n",
    "`a <- T`\n",
    "\n",
    "in the R commandline, and then see what R returns when you type `a`. Using `F` and `T` for boolean `FALSE` and `TRUE` respectively is not necessarily good practice, but be aware that this option exists. \n",
    "```"
   ]
  },
  {
   "cell_type": "markdown",
   "metadata": {},
   "source": [
    "## R Data Structures\n",
    "\n",
    "R comes with different built-in structures (objects) for data storage and manipulation. Mastering these, and knowing which one to use when will help you write better, more efficient programs and also handle diverse datasets (numbers, counts, names, dates, etc). \n",
    "\n",
    "```{note}\n",
    "**Data \"structures\" vs. \"objects\" in R**: You will often see the terms \"object\" and \"data structure\" thrown around in this and other chapters. These two have a very distinct meaning in object-oriented programming (OOP) languages like R and Python. A data structure is just a \"dumb\" container for data (e.g., a vector). An object, on the other hand can be a data structure, but also any other variable or a function in your R environment. R, being an OOP language, converts everything in the current environment to an object so that it knows what to do with each such entity &mdash; each object type has its own set of rules for operations and manipulations that R uses when interpreting your commands. \n",
    "```\n",
    "\n",
    "### Vectors\n",
    "The Vector, which you have already seen above, is a fundamental data object / structure in R. Scalars (single data values) are treated as vector of length 1. *A vector is like a single column or row in a spreadsheet.*\n",
    "\n",
    "$\\star$ Now get back into R (if you somehow quit R using ` q()`or something else), and try this:"
   ]
  },
  {
   "cell_type": "code",
   "execution_count": 54,
   "metadata": {},
   "outputs": [
    {
     "data": {
      "text/html": [
       "TRUE"
      ],
      "text/latex": [
       "TRUE"
      ],
      "text/markdown": [
       "TRUE"
      ],
      "text/plain": [
       "[1] TRUE"
      ]
     },
     "metadata": {},
     "output_type": "display_data"
    }
   ],
   "source": [
    "a <- 5\n",
    "is.vector(a)"
   ]
  },
  {
   "cell_type": "code",
   "execution_count": 55,
   "metadata": {},
   "outputs": [],
   "source": [
    "v1 <- c(0.02, 0.5, 1)\n",
    "v2 <- c(\"a\", \"bc\", \"def\", \"ghij\")\n",
    "v3 <- c(TRUE, TRUE, FALSE)"
   ]
  },
  {
   "cell_type": "code",
   "execution_count": 56,
   "metadata": {},
   "outputs": [
    {
     "data": {
      "text/html": [
       "<style>\n",
       ".list-inline {list-style: none; margin:0; padding: 0}\n",
       ".list-inline>li {display: inline-block}\n",
       ".list-inline>li:not(:last-child)::after {content: \"\\00b7\"; padding: 0 .5ex}\n",
       "</style>\n",
       "<ol class=list-inline><li>0.02</li><li>0.5</li><li>1</li></ol>\n"
      ],
      "text/latex": [
       "\\begin{enumerate*}\n",
       "\\item 0.02\n",
       "\\item 0.5\n",
       "\\item 1\n",
       "\\end{enumerate*}\n"
      ],
      "text/markdown": [
       "1. 0.02\n",
       "2. 0.5\n",
       "3. 1\n",
       "\n",
       "\n"
      ],
      "text/plain": [
       "[1] 0.02 0.50 1.00"
      ]
     },
     "metadata": {},
     "output_type": "display_data"
    },
    {
     "data": {
      "text/html": [
       "<style>\n",
       ".list-inline {list-style: none; margin:0; padding: 0}\n",
       ".list-inline>li {display: inline-block}\n",
       ".list-inline>li:not(:last-child)::after {content: \"\\00b7\"; padding: 0 .5ex}\n",
       "</style>\n",
       "<ol class=list-inline><li>'a'</li><li>'bc'</li><li>'def'</li><li>'ghij'</li></ol>\n"
      ],
      "text/latex": [
       "\\begin{enumerate*}\n",
       "\\item 'a'\n",
       "\\item 'bc'\n",
       "\\item 'def'\n",
       "\\item 'ghij'\n",
       "\\end{enumerate*}\n"
      ],
      "text/markdown": [
       "1. 'a'\n",
       "2. 'bc'\n",
       "3. 'def'\n",
       "4. 'ghij'\n",
       "\n",
       "\n"
      ],
      "text/plain": [
       "[1] \"a\"    \"bc\"   \"def\"  \"ghij\""
      ]
     },
     "metadata": {},
     "output_type": "display_data"
    },
    {
     "data": {
      "text/html": [
       "<style>\n",
       ".list-inline {list-style: none; margin:0; padding: 0}\n",
       ".list-inline>li {display: inline-block}\n",
       ".list-inline>li:not(:last-child)::after {content: \"\\00b7\"; padding: 0 .5ex}\n",
       "</style>\n",
       "<ol class=list-inline><li>TRUE</li><li>TRUE</li><li>FALSE</li></ol>\n"
      ],
      "text/latex": [
       "\\begin{enumerate*}\n",
       "\\item TRUE\n",
       "\\item TRUE\n",
       "\\item FALSE\n",
       "\\end{enumerate*}\n"
      ],
      "text/markdown": [
       "1. TRUE\n",
       "2. TRUE\n",
       "3. FALSE\n",
       "\n",
       "\n"
      ],
      "text/plain": [
       "[1]  TRUE  TRUE FALSE"
      ]
     },
     "metadata": {},
     "output_type": "display_data"
    }
   ],
   "source": [
    "v1;v2;v3"
   ]
  },
  {
   "cell_type": "markdown",
   "metadata": {},
   "source": [
    "R vectors can only store data of a single type (e.g., all numeric or all character). If you try to combine different types, R will homogenize everything to the same data type. To see this, try the following:"
   ]
  },
  {
   "cell_type": "code",
   "execution_count": 57,
   "metadata": {},
   "outputs": [
    {
     "data": {
      "text/html": [
       "<style>\n",
       ".list-inline {list-style: none; margin:0; padding: 0}\n",
       ".list-inline>li {display: inline-block}\n",
       ".list-inline>li:not(:last-child)::after {content: \"\\00b7\"; padding: 0 .5ex}\n",
       "</style>\n",
       "<ol class=list-inline><li>0.02</li><li>1</li><li>1</li></ol>\n"
      ],
      "text/latex": [
       "\\begin{enumerate*}\n",
       "\\item 0.02\n",
       "\\item 1\n",
       "\\item 1\n",
       "\\end{enumerate*}\n"
      ],
      "text/markdown": [
       "1. 0.02\n",
       "2. 1\n",
       "3. 1\n",
       "\n",
       "\n"
      ],
      "text/plain": [
       "[1] 0.02 1.00 1.00"
      ]
     },
     "metadata": {},
     "output_type": "display_data"
    }
   ],
   "source": [
    "v1 <- c(0.02, TRUE, 1)\n",
    "v1"
   ]
  },
  {
   "cell_type": "markdown",
   "metadata": {},
   "source": [
    "TRUE gets converted to 1.00!"
   ]
  },
  {
   "cell_type": "code",
   "execution_count": 58,
   "metadata": {
    "scrolled": true
   },
   "outputs": [
    {
     "data": {
      "text/html": [
       "<style>\n",
       ".list-inline {list-style: none; margin:0; padding: 0}\n",
       ".list-inline>li {display: inline-block}\n",
       ".list-inline>li:not(:last-child)::after {content: \"\\00b7\"; padding: 0 .5ex}\n",
       "</style>\n",
       "<ol class=list-inline><li>'0.02'</li><li>'Mary'</li><li>'1'</li></ol>\n"
      ],
      "text/latex": [
       "\\begin{enumerate*}\n",
       "\\item '0.02'\n",
       "\\item 'Mary'\n",
       "\\item '1'\n",
       "\\end{enumerate*}\n"
      ],
      "text/markdown": [
       "1. '0.02'\n",
       "2. 'Mary'\n",
       "3. '1'\n",
       "\n",
       "\n"
      ],
      "text/plain": [
       "[1] \"0.02\" \"Mary\" \"1\"   "
      ]
     },
     "metadata": {},
     "output_type": "display_data"
    }
   ],
   "source": [
    "v1 <- c(0.02, \"Mary\", 1)\n",
    "v1"
   ]
  },
  {
   "cell_type": "markdown",
   "metadata": {},
   "source": [
    "Everything gets converted to text!\n",
    "\n",
    "Basically, the function `c` \"coerces\" arguments that are of mixed types (strings/text, real numbers, logical arguments, etc) to a common type.\n",
    "\n",
    "(R-matrices)=\n",
    "### Matrices and arrays\n",
    "\n",
    "A R \"matrix\" is a 2 dimensional vector (has both rows and columns) and a \"array\" can store data in more than two dimensions (e.g., a stack of 2-D matrices). \n",
    "\n",
    "R has many functions to build and manipulate matrices and arrays. \n",
    "\n",
    "Try this:"
   ]
  },
  {
   "cell_type": "code",
   "execution_count": 59,
   "metadata": {},
   "outputs": [
    {
     "data": {
      "text/html": [
       "<table>\n",
       "<caption>A matrix: 5 × 5 of type int</caption>\n",
       "<tbody>\n",
       "\t<tr><td>1</td><td> 6</td><td>11</td><td>16</td><td>21</td></tr>\n",
       "\t<tr><td>2</td><td> 7</td><td>12</td><td>17</td><td>22</td></tr>\n",
       "\t<tr><td>3</td><td> 8</td><td>13</td><td>18</td><td>23</td></tr>\n",
       "\t<tr><td>4</td><td> 9</td><td>14</td><td>19</td><td>24</td></tr>\n",
       "\t<tr><td>5</td><td>10</td><td>15</td><td>20</td><td>25</td></tr>\n",
       "</tbody>\n",
       "</table>\n"
      ],
      "text/latex": [
       "A matrix: 5 × 5 of type int\n",
       "\\begin{tabular}{lllll}\n",
       "\t 1 &  6 & 11 & 16 & 21\\\\\n",
       "\t 2 &  7 & 12 & 17 & 22\\\\\n",
       "\t 3 &  8 & 13 & 18 & 23\\\\\n",
       "\t 4 &  9 & 14 & 19 & 24\\\\\n",
       "\t 5 & 10 & 15 & 20 & 25\\\\\n",
       "\\end{tabular}\n"
      ],
      "text/markdown": [
       "\n",
       "A matrix: 5 × 5 of type int\n",
       "\n",
       "| 1 |  6 | 11 | 16 | 21 |\n",
       "| 2 |  7 | 12 | 17 | 22 |\n",
       "| 3 |  8 | 13 | 18 | 23 |\n",
       "| 4 |  9 | 14 | 19 | 24 |\n",
       "| 5 | 10 | 15 | 20 | 25 |\n",
       "\n"
      ],
      "text/plain": [
       "     [,1] [,2] [,3] [,4] [,5]\n",
       "[1,] 1     6   11   16   21  \n",
       "[2,] 2     7   12   17   22  \n",
       "[3,] 3     8   13   18   23  \n",
       "[4,] 4     9   14   19   24  \n",
       "[5,] 5    10   15   20   25  "
      ]
     },
     "metadata": {},
     "output_type": "display_data"
    }
   ],
   "source": [
    "mat1 <- matrix(1:25, 5, 5)\n",
    "mat1"
   ]
  },
  {
   "cell_type": "markdown",
   "metadata": {},
   "source": [
    "Note that the output in your terminal or console will be more like:"
   ]
  },
  {
   "cell_type": "code",
   "execution_count": 60,
   "metadata": {
    "scrolled": true
   },
   "outputs": [
    {
     "name": "stdout",
     "output_type": "stream",
     "text": [
      "     [,1] [,2] [,3] [,4] [,5]\n",
      "[1,]    1    6   11   16   21\n",
      "[2,]    2    7   12   17   22\n",
      "[3,]    3    8   13   18   23\n",
      "[4,]    4    9   14   19   24\n",
      "[5,]    5   10   15   20   25\n"
     ]
    }
   ],
   "source": [
    "print(mat1)"
   ]
  },
  {
   "cell_type": "markdown",
   "metadata": {},
   "source": [
    "(even if you don't use the `print()` command)\n",
    "\n",
    "The output looks different above because the R code is running in a jupyter notebook. \n",
    "\n",
    "Now try this:"
   ]
  },
  {
   "cell_type": "code",
   "execution_count": 61,
   "metadata": {},
   "outputs": [
    {
     "data": {
      "text/html": [
       "<table>\n",
       "<caption>A matrix: 5 × 5 of type int</caption>\n",
       "<tbody>\n",
       "\t<tr><td> 1</td><td> 2</td><td> 3</td><td> 4</td><td> 5</td></tr>\n",
       "\t<tr><td> 6</td><td> 7</td><td> 8</td><td> 9</td><td>10</td></tr>\n",
       "\t<tr><td>11</td><td>12</td><td>13</td><td>14</td><td>15</td></tr>\n",
       "\t<tr><td>16</td><td>17</td><td>18</td><td>19</td><td>20</td></tr>\n",
       "\t<tr><td>21</td><td>22</td><td>23</td><td>24</td><td>25</td></tr>\n",
       "</tbody>\n",
       "</table>\n"
      ],
      "text/latex": [
       "A matrix: 5 × 5 of type int\n",
       "\\begin{tabular}{lllll}\n",
       "\t  1 &  2 &  3 &  4 &  5\\\\\n",
       "\t  6 &  7 &  8 &  9 & 10\\\\\n",
       "\t 11 & 12 & 13 & 14 & 15\\\\\n",
       "\t 16 & 17 & 18 & 19 & 20\\\\\n",
       "\t 21 & 22 & 23 & 24 & 25\\\\\n",
       "\\end{tabular}\n"
      ],
      "text/markdown": [
       "\n",
       "A matrix: 5 × 5 of type int\n",
       "\n",
       "|  1 |  2 |  3 |  4 |  5 |\n",
       "|  6 |  7 |  8 |  9 | 10 |\n",
       "| 11 | 12 | 13 | 14 | 15 |\n",
       "| 16 | 17 | 18 | 19 | 20 |\n",
       "| 21 | 22 | 23 | 24 | 25 |\n",
       "\n"
      ],
      "text/plain": [
       "     [,1] [,2] [,3] [,4] [,5]\n",
       "[1,]  1    2    3    4    5  \n",
       "[2,]  6    7    8    9   10  \n",
       "[3,] 11   12   13   14   15  \n",
       "[4,] 16   17   18   19   20  \n",
       "[5,] 21   22   23   24   25  "
      ]
     },
     "metadata": {},
     "output_type": "display_data"
    }
   ],
   "source": [
    "mat1 <- matrix(1:25, 5, 5, byrow=TRUE)\n",
    "mat1"
   ]
  },
  {
   "cell_type": "markdown",
   "metadata": {},
   "source": [
    "That is, you can order the elements of a matrix by row instead of column (default)."
   ]
  },
  {
   "cell_type": "code",
   "execution_count": 62,
   "metadata": {},
   "outputs": [
    {
     "data": {
      "text/html": [
       "<style>\n",
       ".list-inline {list-style: none; margin:0; padding: 0}\n",
       ".list-inline>li {display: inline-block}\n",
       ".list-inline>li:not(:last-child)::after {content: \"\\00b7\"; padding: 0 .5ex}\n",
       "</style>\n",
       "<ol class=list-inline><li>5</li><li>5</li></ol>\n"
      ],
      "text/latex": [
       "\\begin{enumerate*}\n",
       "\\item 5\n",
       "\\item 5\n",
       "\\end{enumerate*}\n"
      ],
      "text/markdown": [
       "1. 5\n",
       "2. 5\n",
       "\n",
       "\n"
      ],
      "text/plain": [
       "[1] 5 5"
      ]
     },
     "metadata": {},
     "output_type": "display_data"
    }
   ],
   "source": [
    "dim(mat1) #get the size of the matrix"
   ]
  },
  {
   "cell_type": "markdown",
   "metadata": {},
   "source": [
    "To make an array consisting of two 5$\\times$5 matrices containing the integers 1-50:"
   ]
  },
  {
   "cell_type": "code",
   "execution_count": 63,
   "metadata": {
    "scrolled": true
   },
   "outputs": [
    {
     "data": {
      "text/html": [
       "<table>\n",
       "<caption>A matrix: 5 × 5 of type int</caption>\n",
       "<tbody>\n",
       "\t<tr><td>1</td><td> 6</td><td>11</td><td>16</td><td>21</td></tr>\n",
       "\t<tr><td>2</td><td> 7</td><td>12</td><td>17</td><td>22</td></tr>\n",
       "\t<tr><td>3</td><td> 8</td><td>13</td><td>18</td><td>23</td></tr>\n",
       "\t<tr><td>4</td><td> 9</td><td>14</td><td>19</td><td>24</td></tr>\n",
       "\t<tr><td>5</td><td>10</td><td>15</td><td>20</td><td>25</td></tr>\n",
       "</tbody>\n",
       "</table>\n"
      ],
      "text/latex": [
       "A matrix: 5 × 5 of type int\n",
       "\\begin{tabular}{lllll}\n",
       "\t 1 &  6 & 11 & 16 & 21\\\\\n",
       "\t 2 &  7 & 12 & 17 & 22\\\\\n",
       "\t 3 &  8 & 13 & 18 & 23\\\\\n",
       "\t 4 &  9 & 14 & 19 & 24\\\\\n",
       "\t 5 & 10 & 15 & 20 & 25\\\\\n",
       "\\end{tabular}\n"
      ],
      "text/markdown": [
       "\n",
       "A matrix: 5 × 5 of type int\n",
       "\n",
       "| 1 |  6 | 11 | 16 | 21 |\n",
       "| 2 |  7 | 12 | 17 | 22 |\n",
       "| 3 |  8 | 13 | 18 | 23 |\n",
       "| 4 |  9 | 14 | 19 | 24 |\n",
       "| 5 | 10 | 15 | 20 | 25 |\n",
       "\n"
      ],
      "text/plain": [
       "     [,1] [,2] [,3] [,4] [,5]\n",
       "[1,] 1     6   11   16   21  \n",
       "[2,] 2     7   12   17   22  \n",
       "[3,] 3     8   13   18   23  \n",
       "[4,] 4     9   14   19   24  \n",
       "[5,] 5    10   15   20   25  "
      ]
     },
     "metadata": {},
     "output_type": "display_data"
    }
   ],
   "source": [
    "arr1 <- array(1:50, c(5, 5, 2))\n",
    "arr1[,,1]"
   ]
  },
  {
   "cell_type": "code",
   "execution_count": 64,
   "metadata": {},
   "outputs": [
    {
     "name": "stdout",
     "output_type": "stream",
     "text": [
      ", , 1\n",
      "\n",
      "     [,1] [,2] [,3] [,4] [,5]\n",
      "[1,]    1    6   11   16   21\n",
      "[2,]    2    7   12   17   22\n",
      "[3,]    3    8   13   18   23\n",
      "[4,]    4    9   14   19   24\n",
      "[5,]    5   10   15   20   25\n",
      "\n",
      ", , 2\n",
      "\n",
      "     [,1] [,2] [,3] [,4] [,5]\n",
      "[1,]   26   31   36   41   46\n",
      "[2,]   27   32   37   42   47\n",
      "[3,]   28   33   38   43   48\n",
      "[4,]   29   34   39   44   49\n",
      "[5,]   30   35   40   45   50\n",
      "\n"
     ]
    }
   ],
   "source": [
    "print(arr1)"
   ]
  },
  {
   "cell_type": "code",
   "execution_count": 65,
   "metadata": {},
   "outputs": [
    {
     "data": {
      "text/html": [
       "<table>\n",
       "<caption>A matrix: 5 × 5 of type int</caption>\n",
       "<tbody>\n",
       "\t<tr><td>26</td><td>31</td><td>36</td><td>41</td><td>46</td></tr>\n",
       "\t<tr><td>27</td><td>32</td><td>37</td><td>42</td><td>47</td></tr>\n",
       "\t<tr><td>28</td><td>33</td><td>38</td><td>43</td><td>48</td></tr>\n",
       "\t<tr><td>29</td><td>34</td><td>39</td><td>44</td><td>49</td></tr>\n",
       "\t<tr><td>30</td><td>35</td><td>40</td><td>45</td><td>50</td></tr>\n",
       "</tbody>\n",
       "</table>\n"
      ],
      "text/latex": [
       "A matrix: 5 × 5 of type int\n",
       "\\begin{tabular}{lllll}\n",
       "\t 26 & 31 & 36 & 41 & 46\\\\\n",
       "\t 27 & 32 & 37 & 42 & 47\\\\\n",
       "\t 28 & 33 & 38 & 43 & 48\\\\\n",
       "\t 29 & 34 & 39 & 44 & 49\\\\\n",
       "\t 30 & 35 & 40 & 45 & 50\\\\\n",
       "\\end{tabular}\n"
      ],
      "text/markdown": [
       "\n",
       "A matrix: 5 × 5 of type int\n",
       "\n",
       "| 26 | 31 | 36 | 41 | 46 |\n",
       "| 27 | 32 | 37 | 42 | 47 |\n",
       "| 28 | 33 | 38 | 43 | 48 |\n",
       "| 29 | 34 | 39 | 44 | 49 |\n",
       "| 30 | 35 | 40 | 45 | 50 |\n",
       "\n"
      ],
      "text/plain": [
       "     [,1] [,2] [,3] [,4] [,5]\n",
       "[1,] 26   31   36   41   46  \n",
       "[2,] 27   32   37   42   47  \n",
       "[3,] 28   33   38   43   48  \n",
       "[4,] 29   34   39   44   49  \n",
       "[5,] 30   35   40   45   50  "
      ]
     },
     "metadata": {},
     "output_type": "display_data"
    }
   ],
   "source": [
    "arr1[,,2]"
   ]
  },
  {
   "cell_type": "markdown",
   "metadata": {},
   "source": [
    "Just like R vectors, R matrices and arrays have to be of a homogeneous type, and R will do the same sort of type homogenization you saw for R vectors above (try inserting a text value in `mat1`and see what happens). Thus R's matrix and array are similar to Python's `numpy` array and matrix data structures. \n",
    "\n",
    "\n",
    "### Data frames\n",
    "\n",
    "This is a very important data structure in R. Unlike matrices and vectors, R data frames can store data in which each column contains a different data type (e.g., numbers, strings, boolean) or even a combination of data types, just like a standard spreadsheet. Indeed, the dataframe data type was built to emulate some of the convenient properties of spreadsheets. Many statistical and plotting functions and packages in R naturally use data frames. \n",
    "\n",
    "Let's build and manipulate a dataframe. First create three vectors:"
   ]
  },
  {
   "cell_type": "code",
   "execution_count": 66,
   "metadata": {},
   "outputs": [
    {
     "data": {
      "text/html": [
       "<style>\n",
       ".list-inline {list-style: none; margin:0; padding: 0}\n",
       ".list-inline>li {display: inline-block}\n",
       ".list-inline>li:not(:last-child)::after {content: \"\\00b7\"; padding: 0 .5ex}\n",
       "</style>\n",
       "<ol class=list-inline><li>1</li><li>2</li><li>3</li><li>4</li><li>5</li><li>6</li><li>7</li><li>8</li><li>9</li><li>10</li></ol>\n"
      ],
      "text/latex": [
       "\\begin{enumerate*}\n",
       "\\item 1\n",
       "\\item 2\n",
       "\\item 3\n",
       "\\item 4\n",
       "\\item 5\n",
       "\\item 6\n",
       "\\item 7\n",
       "\\item 8\n",
       "\\item 9\n",
       "\\item 10\n",
       "\\end{enumerate*}\n"
      ],
      "text/markdown": [
       "1. 1\n",
       "2. 2\n",
       "3. 3\n",
       "4. 4\n",
       "5. 5\n",
       "6. 6\n",
       "7. 7\n",
       "8. 8\n",
       "9. 9\n",
       "10. 10\n",
       "\n",
       "\n"
      ],
      "text/plain": [
       " [1]  1  2  3  4  5  6  7  8  9 10"
      ]
     },
     "metadata": {},
     "output_type": "display_data"
    }
   ],
   "source": [
    "Col1 <- 1:10\n",
    "Col1"
   ]
  },
  {
   "cell_type": "code",
   "execution_count": 67,
   "metadata": {},
   "outputs": [
    {
     "data": {
      "text/html": [
       "<style>\n",
       ".list-inline {list-style: none; margin:0; padding: 0}\n",
       ".list-inline>li {display: inline-block}\n",
       ".list-inline>li:not(:last-child)::after {content: \"\\00b7\"; padding: 0 .5ex}\n",
       "</style>\n",
       "<ol class=list-inline><li>'A'</li><li>'B'</li><li>'C'</li><li>'D'</li><li>'E'</li><li>'F'</li><li>'G'</li><li>'H'</li><li>'I'</li><li>'J'</li></ol>\n"
      ],
      "text/latex": [
       "\\begin{enumerate*}\n",
       "\\item 'A'\n",
       "\\item 'B'\n",
       "\\item 'C'\n",
       "\\item 'D'\n",
       "\\item 'E'\n",
       "\\item 'F'\n",
       "\\item 'G'\n",
       "\\item 'H'\n",
       "\\item 'I'\n",
       "\\item 'J'\n",
       "\\end{enumerate*}\n"
      ],
      "text/markdown": [
       "1. 'A'\n",
       "2. 'B'\n",
       "3. 'C'\n",
       "4. 'D'\n",
       "5. 'E'\n",
       "6. 'F'\n",
       "7. 'G'\n",
       "8. 'H'\n",
       "9. 'I'\n",
       "10. 'J'\n",
       "\n",
       "\n"
      ],
      "text/plain": [
       " [1] \"A\" \"B\" \"C\" \"D\" \"E\" \"F\" \"G\" \"H\" \"I\" \"J\""
      ]
     },
     "metadata": {},
     "output_type": "display_data"
    }
   ],
   "source": [
    "Col2 <- LETTERS[1:10]\n",
    "Col2"
   ]
  },
  {
   "cell_type": "code",
   "execution_count": 68,
   "metadata": {},
   "outputs": [
    {
     "data": {
      "text/html": [
       "<style>\n",
       ".list-inline {list-style: none; margin:0; padding: 0}\n",
       ".list-inline>li {display: inline-block}\n",
       ".list-inline>li:not(:last-child)::after {content: \"\\00b7\"; padding: 0 .5ex}\n",
       "</style>\n",
       "<ol class=list-inline><li>0.758108981885016</li><li>0.186518793692812</li><li>0.851570802740753</li><li>0.296563340350986</li><li>0.16377261118032</li><li>0.430258185602725</li><li>0.666634427383542</li><li>0.913660296006128</li><li>0.115240233484656</li><li>0.543401249451563</li></ol>\n"
      ],
      "text/latex": [
       "\\begin{enumerate*}\n",
       "\\item 0.758108981885016\n",
       "\\item 0.186518793692812\n",
       "\\item 0.851570802740753\n",
       "\\item 0.296563340350986\n",
       "\\item 0.16377261118032\n",
       "\\item 0.430258185602725\n",
       "\\item 0.666634427383542\n",
       "\\item 0.913660296006128\n",
       "\\item 0.115240233484656\n",
       "\\item 0.543401249451563\n",
       "\\end{enumerate*}\n"
      ],
      "text/markdown": [
       "1. 0.758108981885016\n",
       "2. 0.186518793692812\n",
       "3. 0.851570802740753\n",
       "4. 0.296563340350986\n",
       "5. 0.16377261118032\n",
       "6. 0.430258185602725\n",
       "7. 0.666634427383542\n",
       "8. 0.913660296006128\n",
       "9. 0.115240233484656\n",
       "10. 0.543401249451563\n",
       "\n",
       "\n"
      ],
      "text/plain": [
       " [1] 0.7581090 0.1865188 0.8515708 0.2965633 0.1637726 0.4302582 0.6666344\n",
       " [8] 0.9136603 0.1152402 0.5434012"
      ]
     },
     "metadata": {},
     "output_type": "display_data"
    }
   ],
   "source": [
    "Col3 <- runif(10) # 10 random numbers from a uniform distribution\n",
    "Col3"
   ]
  },
  {
   "cell_type": "markdown",
   "metadata": {},
   "source": [
    "Now combine them into a dataframe:"
   ]
  },
  {
   "cell_type": "code",
   "execution_count": 69,
   "metadata": {
    "scrolled": true
   },
   "outputs": [
    {
     "data": {
      "text/html": [
       "<table>\n",
       "<caption>A data.frame: 10 × 3</caption>\n",
       "<thead>\n",
       "\t<tr><th scope=col>Col1</th><th scope=col>Col2</th><th scope=col>Col3</th></tr>\n",
       "\t<tr><th scope=col>&lt;int&gt;</th><th scope=col>&lt;chr&gt;</th><th scope=col>&lt;dbl&gt;</th></tr>\n",
       "</thead>\n",
       "<tbody>\n",
       "\t<tr><td> 1</td><td>A</td><td>0.7581090</td></tr>\n",
       "\t<tr><td> 2</td><td>B</td><td>0.1865188</td></tr>\n",
       "\t<tr><td> 3</td><td>C</td><td>0.8515708</td></tr>\n",
       "\t<tr><td> 4</td><td>D</td><td>0.2965633</td></tr>\n",
       "\t<tr><td> 5</td><td>E</td><td>0.1637726</td></tr>\n",
       "\t<tr><td> 6</td><td>F</td><td>0.4302582</td></tr>\n",
       "\t<tr><td> 7</td><td>G</td><td>0.6666344</td></tr>\n",
       "\t<tr><td> 8</td><td>H</td><td>0.9136603</td></tr>\n",
       "\t<tr><td> 9</td><td>I</td><td>0.1152402</td></tr>\n",
       "\t<tr><td>10</td><td>J</td><td>0.5434012</td></tr>\n",
       "</tbody>\n",
       "</table>\n"
      ],
      "text/latex": [
       "A data.frame: 10 × 3\n",
       "\\begin{tabular}{lll}\n",
       " Col1 & Col2 & Col3\\\\\n",
       " <int> & <chr> & <dbl>\\\\\n",
       "\\hline\n",
       "\t  1 & A & 0.7581090\\\\\n",
       "\t  2 & B & 0.1865188\\\\\n",
       "\t  3 & C & 0.8515708\\\\\n",
       "\t  4 & D & 0.2965633\\\\\n",
       "\t  5 & E & 0.1637726\\\\\n",
       "\t  6 & F & 0.4302582\\\\\n",
       "\t  7 & G & 0.6666344\\\\\n",
       "\t  8 & H & 0.9136603\\\\\n",
       "\t  9 & I & 0.1152402\\\\\n",
       "\t 10 & J & 0.5434012\\\\\n",
       "\\end{tabular}\n"
      ],
      "text/markdown": [
       "\n",
       "A data.frame: 10 × 3\n",
       "\n",
       "| Col1 &lt;int&gt; | Col2 &lt;chr&gt; | Col3 &lt;dbl&gt; |\n",
       "|---|---|---|\n",
       "|  1 | A | 0.7581090 |\n",
       "|  2 | B | 0.1865188 |\n",
       "|  3 | C | 0.8515708 |\n",
       "|  4 | D | 0.2965633 |\n",
       "|  5 | E | 0.1637726 |\n",
       "|  6 | F | 0.4302582 |\n",
       "|  7 | G | 0.6666344 |\n",
       "|  8 | H | 0.9136603 |\n",
       "|  9 | I | 0.1152402 |\n",
       "| 10 | J | 0.5434012 |\n",
       "\n"
      ],
      "text/plain": [
       "   Col1 Col2 Col3     \n",
       "1   1   A    0.7581090\n",
       "2   2   B    0.1865188\n",
       "3   3   C    0.8515708\n",
       "4   4   D    0.2965633\n",
       "5   5   E    0.1637726\n",
       "6   6   F    0.4302582\n",
       "7   7   G    0.6666344\n",
       "8   8   H    0.9136603\n",
       "9   9   I    0.1152402\n",
       "10 10   J    0.5434012"
      ]
     },
     "metadata": {},
     "output_type": "display_data"
    }
   ],
   "source": [
    "MyDF <- data.frame(Col1, Col2, Col3)\n",
    "MyDF"
   ]
  },
  {
   "cell_type": "markdown",
   "metadata": {},
   "source": [
    "Again, this output looks different from your terminal/console output because these commands are running in a Jupyter notebook.\n",
    "\n",
    "Your output will look like this:"
   ]
  },
  {
   "cell_type": "code",
   "execution_count": 70,
   "metadata": {
    "scrolled": true
   },
   "outputs": [
    {
     "name": "stdout",
     "output_type": "stream",
     "text": [
      "   Col1 Col2      Col3\n",
      "1     1    A 0.7581090\n",
      "2     2    B 0.1865188\n",
      "3     3    C 0.8515708\n",
      "4     4    D 0.2965633\n",
      "5     5    E 0.1637726\n",
      "6     6    F 0.4302582\n",
      "7     7    G 0.6666344\n",
      "8     8    H 0.9136603\n",
      "9     9    I 0.1152402\n",
      "10   10    J 0.5434012\n"
     ]
    }
   ],
   "source": [
    "print(MyDF)"
   ]
  },
  {
   "cell_type": "markdown",
   "metadata": {},
   "source": [
    "You can easily assign names to the columns of dataframes:"
   ]
  },
  {
   "cell_type": "code",
   "execution_count": 71,
   "metadata": {},
   "outputs": [
    {
     "data": {
      "text/html": [
       "<table>\n",
       "<caption>A data.frame: 10 × 3</caption>\n",
       "<thead>\n",
       "\t<tr><th scope=col>MyFirstColumn</th><th scope=col>My Second Column</th><th scope=col>My.Third.Column</th></tr>\n",
       "\t<tr><th scope=col>&lt;int&gt;</th><th scope=col>&lt;chr&gt;</th><th scope=col>&lt;dbl&gt;</th></tr>\n",
       "</thead>\n",
       "<tbody>\n",
       "\t<tr><td> 1</td><td>A</td><td>0.7581090</td></tr>\n",
       "\t<tr><td> 2</td><td>B</td><td>0.1865188</td></tr>\n",
       "\t<tr><td> 3</td><td>C</td><td>0.8515708</td></tr>\n",
       "\t<tr><td> 4</td><td>D</td><td>0.2965633</td></tr>\n",
       "\t<tr><td> 5</td><td>E</td><td>0.1637726</td></tr>\n",
       "\t<tr><td> 6</td><td>F</td><td>0.4302582</td></tr>\n",
       "\t<tr><td> 7</td><td>G</td><td>0.6666344</td></tr>\n",
       "\t<tr><td> 8</td><td>H</td><td>0.9136603</td></tr>\n",
       "\t<tr><td> 9</td><td>I</td><td>0.1152402</td></tr>\n",
       "\t<tr><td>10</td><td>J</td><td>0.5434012</td></tr>\n",
       "</tbody>\n",
       "</table>\n"
      ],
      "text/latex": [
       "A data.frame: 10 × 3\n",
       "\\begin{tabular}{lll}\n",
       " MyFirstColumn & My Second Column & My.Third.Column\\\\\n",
       " <int> & <chr> & <dbl>\\\\\n",
       "\\hline\n",
       "\t  1 & A & 0.7581090\\\\\n",
       "\t  2 & B & 0.1865188\\\\\n",
       "\t  3 & C & 0.8515708\\\\\n",
       "\t  4 & D & 0.2965633\\\\\n",
       "\t  5 & E & 0.1637726\\\\\n",
       "\t  6 & F & 0.4302582\\\\\n",
       "\t  7 & G & 0.6666344\\\\\n",
       "\t  8 & H & 0.9136603\\\\\n",
       "\t  9 & I & 0.1152402\\\\\n",
       "\t 10 & J & 0.5434012\\\\\n",
       "\\end{tabular}\n"
      ],
      "text/markdown": [
       "\n",
       "A data.frame: 10 × 3\n",
       "\n",
       "| MyFirstColumn &lt;int&gt; | My Second Column &lt;chr&gt; | My.Third.Column &lt;dbl&gt; |\n",
       "|---|---|---|\n",
       "|  1 | A | 0.7581090 |\n",
       "|  2 | B | 0.1865188 |\n",
       "|  3 | C | 0.8515708 |\n",
       "|  4 | D | 0.2965633 |\n",
       "|  5 | E | 0.1637726 |\n",
       "|  6 | F | 0.4302582 |\n",
       "|  7 | G | 0.6666344 |\n",
       "|  8 | H | 0.9136603 |\n",
       "|  9 | I | 0.1152402 |\n",
       "| 10 | J | 0.5434012 |\n",
       "\n"
      ],
      "text/plain": [
       "   MyFirstColumn My Second Column My.Third.Column\n",
       "1   1            A                0.7581090      \n",
       "2   2            B                0.1865188      \n",
       "3   3            C                0.8515708      \n",
       "4   4            D                0.2965633      \n",
       "5   5            E                0.1637726      \n",
       "6   6            F                0.4302582      \n",
       "7   7            G                0.6666344      \n",
       "8   8            H                0.9136603      \n",
       "9   9            I                0.1152402      \n",
       "10 10            J                0.5434012      "
      ]
     },
     "metadata": {},
     "output_type": "display_data"
    }
   ],
   "source": [
    "names(MyDF) <- c(\"MyFirstColumn\", \"My Second Column\", \"My.Third.Column\")\n",
    "MyDF"
   ]
  },
  {
   "cell_type": "markdown",
   "metadata": {},
   "source": [
    "And unlike matrices, you can access the contents of data frames by naming the columns directly using a $ sign:"
   ]
  },
  {
   "cell_type": "code",
   "execution_count": 72,
   "metadata": {},
   "outputs": [
    {
     "data": {
      "text/html": [
       "<style>\n",
       ".list-inline {list-style: none; margin:0; padding: 0}\n",
       ".list-inline>li {display: inline-block}\n",
       ".list-inline>li:not(:last-child)::after {content: \"\\00b7\"; padding: 0 .5ex}\n",
       "</style>\n",
       "<ol class=list-inline><li>1</li><li>2</li><li>3</li><li>4</li><li>5</li><li>6</li><li>7</li><li>8</li><li>9</li><li>10</li></ol>\n"
      ],
      "text/latex": [
       "\\begin{enumerate*}\n",
       "\\item 1\n",
       "\\item 2\n",
       "\\item 3\n",
       "\\item 4\n",
       "\\item 5\n",
       "\\item 6\n",
       "\\item 7\n",
       "\\item 8\n",
       "\\item 9\n",
       "\\item 10\n",
       "\\end{enumerate*}\n"
      ],
      "text/markdown": [
       "1. 1\n",
       "2. 2\n",
       "3. 3\n",
       "4. 4\n",
       "5. 5\n",
       "6. 6\n",
       "7. 7\n",
       "8. 8\n",
       "9. 9\n",
       "10. 10\n",
       "\n",
       "\n"
      ],
      "text/plain": [
       " [1]  1  2  3  4  5  6  7  8  9 10"
      ]
     },
     "metadata": {},
     "output_type": "display_data"
    }
   ],
   "source": [
    "MyDF$MyFirstColumn"
   ]
  },
  {
   "cell_type": "markdown",
   "metadata": {},
   "source": [
    "But don't use spaces in column names! Try this: "
   ]
  },
  {
   "cell_type": "code",
   "execution_count": 73,
   "metadata": {
    "scrolled": true
   },
   "outputs": [
    {
     "ename": "ERROR",
     "evalue": "Error in parse(text = x, srcfile = src): <text>:1:9: unexpected symbol\n1: MyDF$My Second\n            ^\n",
     "output_type": "error",
     "traceback": [
      "Error in parse(text = x, srcfile = src): <text>:1:9: unexpected symbol\n1: MyDF$My Second\n            ^\nTraceback:\n"
     ]
    }
   ],
   "source": [
    "MyDF$My Second Column"
   ]
  },
  {
   "cell_type": "markdown",
   "metadata": {},
   "source": [
    "That gives an error, because R cannot handle spaces in column names easily. \n",
    "\n",
    "So replace that column name using the `colnames` function:"
   ]
  },
  {
   "cell_type": "code",
   "execution_count": null,
   "metadata": {
    "scrolled": true
   },
   "outputs": [],
   "source": [
    "colnames(MyDF)"
   ]
  },
  {
   "cell_type": "code",
   "execution_count": null,
   "metadata": {},
   "outputs": [],
   "source": [
    "colnames(MyDF)[2] <- \"MySecondColumn\"\n",
    "MyDF"
   ]
  },
  {
   "cell_type": "markdown",
   "metadata": {},
   "source": [
    "But using dots in column names is OK (just as it is for variable names): "
   ]
  },
  {
   "cell_type": "code",
   "execution_count": null,
   "metadata": {},
   "outputs": [],
   "source": [
    "MyDF$My.Third.Column"
   ]
  },
  {
   "cell_type": "markdown",
   "metadata": {},
   "source": [
    "You can also access elements by using numerical indexing:   "
   ]
  },
  {
   "cell_type": "code",
   "execution_count": null,
   "metadata": {},
   "outputs": [],
   "source": [
    "MyDF[,1]"
   ]
  },
  {
   "cell_type": "markdown",
   "metadata": {},
   "source": [
    "That is, you asked R to return values of `MyDF` in all Rows (therefore, nothing before the comma), and the first column (`1` after the comma)."
   ]
  },
  {
   "cell_type": "code",
   "execution_count": null,
   "metadata": {},
   "outputs": [],
   "source": [
    "MyDF[1,1]"
   ]
  },
  {
   "cell_type": "code",
   "execution_count": null,
   "metadata": {},
   "outputs": [],
   "source": [
    "MyDF[c(\"MyFirstColumn\",\"My.Third.Column\")] # show two specific columns only"
   ]
  },
  {
   "cell_type": "markdown",
   "metadata": {},
   "source": [
    "You can check whether a particular object is a dataframe data structure with:"
   ]
  },
  {
   "cell_type": "code",
   "execution_count": null,
   "metadata": {
    "scrolled": true
   },
   "outputs": [],
   "source": [
    "class(MyDF)"
   ]
  },
  {
   "cell_type": "markdown",
   "metadata": {},
   "source": [
    "You can check the structure of a dataframe with `str()`:"
   ]
  },
  {
   "cell_type": "code",
   "execution_count": null,
   "metadata": {},
   "outputs": [],
   "source": [
    "str(MyDF)"
   ]
  },
  {
   "cell_type": "markdown",
   "metadata": {},
   "source": [
    "You can print the column names and top few rows with `head()`:"
   ]
  },
  {
   "cell_type": "code",
   "execution_count": null,
   "metadata": {},
   "outputs": [],
   "source": [
    "head(MyDF)"
   ]
  },
  {
   "cell_type": "markdown",
   "metadata": {},
   "source": [
    "And the bottom few rows with `tail()`:"
   ]
  },
  {
   "cell_type": "code",
   "execution_count": null,
   "metadata": {},
   "outputs": [],
   "source": [
    "tail(MyDF)"
   ]
  },
  {
   "cell_type": "markdown",
   "metadata": {},
   "source": [
    "```{note}\n",
    "**The Factor data type**: R has a special data type called \"factor\". Different values in this data type are called \"levels\". This data type is used to identify \"grouping variables\" such as columns in a dataframe that contain  experimental treatments. This is convenient for statistical analyses using one of the many plotting and statistical commands or routines available in R, which have been written to interpret the `factor` data type as such and use it to automatically compare subgroups in the data. More on this later, when we delve into analyses (including visualization) in R. \n",
    "```"
   ]
  },
  {
   "cell_type": "markdown",
   "metadata": {},
   "source": [
    "### Lists\n",
    "\n",
    "A list is used to collect a group of data objects of different sizes and types (e.g., one whole data frame and one vector can both be in a single list). It is simply an ordered collection of objects (that can be variables). \n",
    "\n",
    "```{note}\n",
    "The outputs of many statistical functions in R are lists (e.g. linear model fitting using ` lm()`), to return all relevant information in one output object. So you need to know how to unpack and manipulate lists. \n",
    "```\n",
    "\n",
    "As a budding multilingual quantitative biologist, you should not be perturbed by the fact that a `list` is a very different data structure in python vs R. It will take some practice &mdash; sometimes the same word means different things in different human languages too!\n",
    "\n",
    "Try this:"
   ]
  },
  {
   "cell_type": "code",
   "execution_count": null,
   "metadata": {},
   "outputs": [],
   "source": [
    "MyList <- list(species=c(\"Quercus robur\",\"Fraxinus excelsior\"), age=c(123, 84))\n",
    "MyList"
   ]
  },
  {
   "cell_type": "markdown",
   "metadata": {},
   "source": [
    "You can access contents of a list item using number of the item instead of name using nested square brackets:"
   ]
  },
  {
   "cell_type": "code",
   "execution_count": null,
   "metadata": {
    "scrolled": true
   },
   "outputs": [],
   "source": [
    "MyList[[1]]"
   ]
  },
  {
   "cell_type": "code",
   "execution_count": null,
   "metadata": {},
   "outputs": [],
   "source": [
    "MyList[[1]][1]"
   ]
  },
  {
   "cell_type": "markdown",
   "metadata": {},
   "source": [
    "or using the name in either this way:"
   ]
  },
  {
   "cell_type": "code",
   "execution_count": null,
   "metadata": {},
   "outputs": [],
   "source": [
    "MyList$species"
   ]
  },
  {
   "cell_type": "markdown",
   "metadata": {},
   "source": [
    "or this way:  "
   ]
  },
  {
   "cell_type": "code",
   "execution_count": null,
   "metadata": {},
   "outputs": [],
   "source": [
    "MyList[[\"species\"]]"
   ]
  },
  {
   "cell_type": "markdown",
   "metadata": {},
   "source": [
    "And to access a specific element inside a list's item "
   ]
  },
  {
   "cell_type": "code",
   "execution_count": null,
   "metadata": {},
   "outputs": [],
   "source": [
    "MyList$species[1]"
   ]
  },
  {
   "cell_type": "markdown",
   "metadata": {},
   "source": [
    "A more complex list:"
   ]
  },
  {
   "cell_type": "code",
   "execution_count": null,
   "metadata": {},
   "outputs": [],
   "source": [
    "pop1<-list(species='Cancer magister',\n",
    "           latitude=48.3,longitude=-123.1,\n",
    "           startyr=1980,endyr=1985,\n",
    "           pop=c(303,402,101,607,802,35))\n",
    "pop1"
   ]
  },
  {
   "cell_type": "markdown",
   "metadata": {},
   "source": [
    "You can build lists of lists too:"
   ]
  },
  {
   "cell_type": "code",
   "execution_count": null,
   "metadata": {
    "scrolled": true
   },
   "outputs": [],
   "source": [
    "pop1<-list(lat=19,long=57,\n",
    "           pop=c(100,101,99))\n",
    "pop2<-list(lat=56,long=-120,\n",
    "           pop=c(1,4,7,7,2,1,2))\n",
    "pop3<-list(lat=32,long=-10,\n",
    "           pop=c(12,11,2,1,14))\n",
    "pops<-list(sp1=pop1,sp2=pop2,sp3=pop3)\n",
    "pops"
   ]
  },
  {
   "cell_type": "code",
   "execution_count": null,
   "metadata": {},
   "outputs": [],
   "source": [
    "pops$sp1 # check out species 1"
   ]
  },
  {
   "cell_type": "code",
   "execution_count": null,
   "metadata": {},
   "outputs": [],
   "source": [
    "pops$sp1[\"pop\"] # sp1's population sizes"
   ]
  },
  {
   "cell_type": "code",
   "execution_count": null,
   "metadata": {},
   "outputs": [],
   "source": [
    "pops[[2]]$lat #latitude of second species"
   ]
  },
  {
   "cell_type": "code",
   "execution_count": null,
   "metadata": {},
   "outputs": [],
   "source": [
    "pops[[3]]$pop[3]<-102 #change population of third species at third time step\n",
    "pops"
   ]
  },
  {
   "cell_type": "markdown",
   "metadata": {},
   "source": [
    "Maybe you have guessed by now that R dataframes are actually a kind of list.\n",
    "\n",
    "### Matrix vs Dataframe\n",
    "\n",
    "If dataframes are so nice, why use R matrices at all? The problem is that dataframes can be too slow when large numbers of mathematical calculations or operations (e.g., matrix - vector multiplications or other linear algebra operations) need to be performed. In such cases, you will need to convert a dataframe to a matrix. But for statistical analyses, plotting, and writing output of standard R analyses to a file, data frames are more convenient. Dataframes also allow you to refer to columns by name (using `$`), which is often convenient.\n",
    "\n",
    "To see the difference in memory usage of matrices vs dataframes, try this:"
   ]
  },
  {
   "cell_type": "code",
   "execution_count": null,
   "metadata": {
    "scrolled": true
   },
   "outputs": [],
   "source": [
    "MyMat = matrix(1:8, 4, 4)\n",
    "MyMat"
   ]
  },
  {
   "cell_type": "code",
   "execution_count": null,
   "metadata": {},
   "outputs": [],
   "source": [
    "MyDF = as.data.frame(MyMat)\n",
    "MyDF"
   ]
  },
  {
   "cell_type": "code",
   "execution_count": null,
   "metadata": {},
   "outputs": [],
   "source": [
    "object.size(MyMat) # returns size of an R object (variable) in bytes"
   ]
  },
  {
   "cell_type": "code",
   "execution_count": null,
   "metadata": {
    "scrolled": true
   },
   "outputs": [],
   "source": [
    "object.size(MyDF)"
   ]
  },
  {
   "cell_type": "markdown",
   "metadata": {},
   "source": [
    "Quite a big difference!"
   ]
  },
  {
   "cell_type": "markdown",
   "metadata": {},
   "source": [
    "## Creating and manipulating data\n",
    " \n",
    "### Creating sequences\n",
    "\n",
    "The `:` operator creates vectors of sequential integers:"
   ]
  },
  {
   "cell_type": "code",
   "execution_count": null,
   "metadata": {},
   "outputs": [],
   "source": [
    "years <- 1990:2009\n",
    "years"
   ]
  },
  {
   "cell_type": "code",
   "execution_count": null,
   "metadata": {},
   "outputs": [],
   "source": [
    "years <- 2009:1990 # or in reverse order \n",
    "years"
   ]
  },
  {
   "cell_type": "markdown",
   "metadata": {},
   "source": [
    "For sequences of float numbers, you have to use `seq()`:"
   ]
  },
  {
   "cell_type": "code",
   "execution_count": null,
   "metadata": {},
   "outputs": [],
   "source": [
    "seq(1, 10, 0.5)"
   ]
  },
  {
   "cell_type": "markdown",
   "metadata": {},
   "source": [
    "```{tip}\n",
    "Don't forget, you can get help on a particular R command by prefixing it with `?`. For example, try:\n",
    "\n",
    "`?seq`\n",
    "```"
   ]
  },
  {
   "cell_type": "markdown",
   "metadata": {},
   "source": [
    "You can also use `seq(from=1,to=10, by=0.5) `OR` seq(from=1, by=0.5, to=10)` with the same effect (try it). This explicit, \"argument matching\" approach is partly what makes R so popular and accessible to a wider range of users."
   ]
  },
  {
   "cell_type": "markdown",
   "metadata": {},
   "source": [
    "### Accessing parts of data stuctures: Indices and Indexing\n",
    "\n",
    "Every element (entry) of a vector in R has an order (an \"index\" value): the first value, second, third, etc. To illustrate this, let's create a simple vector:"
   ]
  },
  {
   "cell_type": "code",
   "execution_count": null,
   "metadata": {},
   "outputs": [],
   "source": [
    "MyVar <- c( 'a' , 'b' , 'c' , 'd' , 'e' )"
   ]
  },
  {
   "cell_type": "markdown",
   "metadata": {},
   "source": [
    "Then, square brackets extract values based on their numerical order in the vector:"
   ]
  },
  {
   "cell_type": "code",
   "execution_count": null,
   "metadata": {
    "scrolled": true
   },
   "outputs": [],
   "source": [
    "MyVar[1] # Show element in first position "
   ]
  },
  {
   "cell_type": "code",
   "execution_count": null,
   "metadata": {},
   "outputs": [],
   "source": [
    "MyVar[4] # Show element in fourth position "
   ]
  },
  {
   "cell_type": "markdown",
   "metadata": {},
   "source": [
    "The values in square brackets are called \"indices\" &mdash; they give the index (position) of the required value. We can also select sets of values in different orders, or repeat values:"
   ]
  },
  {
   "cell_type": "code",
   "execution_count": null,
   "metadata": {},
   "outputs": [],
   "source": [
    "MyVar[c(3,2,1)] # reverse order"
   ]
  },
  {
   "cell_type": "code",
   "execution_count": null,
   "metadata": {},
   "outputs": [],
   "source": [
    "MyVar[c(1,1,5,5)] # repeat indices"
   ]
  },
  {
   "cell_type": "markdown",
   "metadata": {},
   "source": [
    "You can also manipulate data structures/objects by indexing:"
   ]
  },
  {
   "cell_type": "code",
   "execution_count": null,
   "metadata": {},
   "outputs": [],
   "source": [
    "v <- c(0, 1, 2, 3, 4) # Create a vector named v"
   ]
  },
  {
   "cell_type": "code",
   "execution_count": null,
   "metadata": {
    "scrolled": true
   },
   "outputs": [],
   "source": [
    "v[3] # access one element"
   ]
  },
  {
   "cell_type": "code",
   "execution_count": null,
   "metadata": {
    "scrolled": true
   },
   "outputs": [],
   "source": [
    "v[1:3] # access sequential elements"
   ]
  },
  {
   "cell_type": "code",
   "execution_count": null,
   "metadata": {},
   "outputs": [],
   "source": [
    "v[-3] # remove elements"
   ]
  },
  {
   "cell_type": "code",
   "execution_count": null,
   "metadata": {
    "scrolled": true
   },
   "outputs": [],
   "source": [
    "v[c(1, 4)] # access non-sequential indices"
   ]
  },
  {
   "cell_type": "markdown",
   "metadata": {},
   "source": [
    "For matrices, you need to use both row and column indices:"
   ]
  },
  {
   "cell_type": "code",
   "execution_count": null,
   "metadata": {},
   "outputs": [],
   "source": [
    "mat1 <- matrix(1:25, 5, 5, byrow=TRUE) #create a matrix\n",
    "mat1"
   ]
  },
  {
   "cell_type": "code",
   "execution_count": null,
   "metadata": {},
   "outputs": [],
   "source": [
    "mat1[1,2]"
   ]
  },
  {
   "cell_type": "code",
   "execution_count": null,
   "metadata": {},
   "outputs": [],
   "source": [
    "mat1[1,2:4]"
   ]
  },
  {
   "cell_type": "code",
   "execution_count": null,
   "metadata": {},
   "outputs": [],
   "source": [
    "mat1[1:2,2:4]"
   ]
  },
  {
   "cell_type": "markdown",
   "metadata": {},
   "source": [
    "And to get all elements in a particular row or column, you need to leave the value blank:"
   ]
  },
  {
   "cell_type": "code",
   "execution_count": null,
   "metadata": {},
   "outputs": [],
   "source": [
    "mat1[1,] # First row, all columns"
   ]
  },
  {
   "cell_type": "code",
   "execution_count": null,
   "metadata": {},
   "outputs": [],
   "source": [
    "mat1[,1] # First column, all rows"
   ]
  },
  {
   "cell_type": "markdown",
   "metadata": {},
   "source": [
    "(R-recycling)=\n",
    "### Recycling\n",
    "\n",
    "When vectors are of different lengths, R will recycle the shorter one to make a vector of the same length:"
   ]
  },
  {
   "cell_type": "code",
   "execution_count": null,
   "metadata": {
    "scrolled": true
   },
   "outputs": [],
   "source": [
    "a <- c(1,5) + 2\n",
    "a"
   ]
  },
  {
   "cell_type": "code",
   "execution_count": null,
   "metadata": {
    "scrolled": true
   },
   "outputs": [],
   "source": [
    "x <- c(1,2); y <- c(5,3,9,2)\n",
    "x;y"
   ]
  },
  {
   "cell_type": "code",
   "execution_count": null,
   "metadata": {
    "scrolled": true
   },
   "outputs": [],
   "source": [
    "x + y"
   ]
  },
  {
   "cell_type": "markdown",
   "metadata": {},
   "source": [
    "Strange! R just recycled `x` (repeated `1,2` twice) so that the two vectors could be summed! here's another example:"
   ]
  },
  {
   "cell_type": "code",
   "execution_count": null,
   "metadata": {
    "scrolled": true
   },
   "outputs": [],
   "source": [
    "x + c(y,1)"
   ]
  },
  {
   "cell_type": "markdown",
   "metadata": {},
   "source": [
    "*Think about what happened here*. R is clearly not comfortable doing this, so it warns you! Recycling could be convenient at times, but is dangerous!"
   ]
  },
  {
   "cell_type": "markdown",
   "metadata": {},
   "source": [
    "### Basic vector-matrix operations\n",
    "\n",
    "You can perform the usual vector matrix operations on R `vectors` "
   ]
  },
  {
   "cell_type": "code",
   "execution_count": null,
   "metadata": {},
   "outputs": [],
   "source": [
    "v <- c(0, 1, 2, 3, 4)\n",
    "v2 <- v*2 # multiply whole vector by 2\n",
    "v2"
   ]
  },
  {
   "cell_type": "code",
   "execution_count": null,
   "metadata": {
    "scrolled": true
   },
   "outputs": [],
   "source": [
    "v * v2 # element-wise product"
   ]
  },
  {
   "cell_type": "code",
   "execution_count": null,
   "metadata": {},
   "outputs": [],
   "source": [
    "t(v) # transpose the vector"
   ]
  },
  {
   "cell_type": "code",
   "execution_count": null,
   "metadata": {},
   "outputs": [],
   "source": [
    "v %*% t(v) # matrix/vector product"
   ]
  },
  {
   "cell_type": "code",
   "execution_count": null,
   "metadata": {},
   "outputs": [],
   "source": [
    "v3 <- 1:7 # assign using sequence\n",
    "v3"
   ]
  },
  {
   "cell_type": "code",
   "execution_count": null,
   "metadata": {},
   "outputs": [],
   "source": [
    "v4 <- c(v2, v3) # concatenate vectors\n",
    "v4"
   ]
  },
  {
   "cell_type": "markdown",
   "metadata": {},
   "source": [
    "### Strings and Pasting\n",
    "\n",
    "It is important to know how to handle strings in R for two main reasons:\n",
    "\n",
    "* To deal with text data, such as names of experimental treatments \n",
    "* To generate appropriate text labels and titles for figures\n",
    "\n",
    "Let's try creating and manipulating strings:"
   ]
  },
  {
   "cell_type": "code",
   "execution_count": null,
   "metadata": {
    "scrolled": true
   },
   "outputs": [],
   "source": [
    "species.name <- \"Quercus robur\" #You can alo use single quotes\n",
    "species.name"
   ]
  },
  {
   "cell_type": "markdown",
   "metadata": {},
   "source": [
    "To combine to strings: "
   ]
  },
  {
   "cell_type": "code",
   "execution_count": null,
   "metadata": {
    "scrolled": true
   },
   "outputs": [],
   "source": [
    "paste(\"Quercus\", \"robur\")"
   ]
  },
  {
   "cell_type": "code",
   "execution_count": null,
   "metadata": {},
   "outputs": [],
   "source": [
    "paste(\"Quercus\", \"robur\",sep = \"\") #Get rid of space"
   ]
  },
  {
   "cell_type": "code",
   "execution_count": null,
   "metadata": {},
   "outputs": [],
   "source": [
    "paste(\"Quercus\", \"robur\",sep = \", \") #insert comma to separate"
   ]
  },
  {
   "cell_type": "markdown",
   "metadata": {},
   "source": [
    "As you can see above, both double and single quotes work, but using double quotes is better because it will allow you to define strings that contain a single quotes, which is often necessary.\n",
    "\n",
    "And as is the case with so many R functions, pasting works on vectors:"
   ]
  },
  {
   "cell_type": "code",
   "execution_count": null,
   "metadata": {
    "scrolled": true
   },
   "outputs": [],
   "source": [
    "paste('Year is:', 1990:2000)"
   ]
  },
  {
   "cell_type": "markdown",
   "metadata": {},
   "source": [
    "Note that this last example creates a vector of 11 strings as it is 1990:2000 *inclusive*. "
   ]
  },
  {
   "cell_type": "markdown",
   "metadata": {},
   "source": [
    "## Useful R functions\n",
    "\n",
    "There are a number of very useful functions available by default (in the \"base packages\"). Some particularly useful ones are listed below.\n",
    "\n",
    "### For manipulating strings\n",
    "\n",
    "|Function||\n",
    "|:-|:-|\n",
    "|`strsplit(x,';')`| Split the string `x` at ';' |\n",
    "|`nchar(x)`| Number of characters in string `x`|\n",
    "|`toupper(x)`| Set string `x` to upper case|\n",
    "|`tolower(x)`| Set string `x` to lower case|\n",
    "|`paste(x1,x2,sep=';')`| Join the two strings using ';'|\n",
    "\n",
    "### Mathematical\n",
    "\n",
    "|Function||\n",
    "|:-|:-|\n",
    "|`log(x)`| Natural logarithm of the number (or every number in the vector or matrix) `x`|\n",
    "|`log10(x)`| Logarithm in base 10 of the number (or every number in the vector or matrix) `x`|\n",
    "|`exp(x)`| Exponential of the number (or every number in the vector or matrix) `x` ($e^x$)|\n",
    "|`abs(x)`| Absolute value of the number (or every number in the vector or matrix) `x`|\n",
    "|`floor(x)`| Largest integer smaller than the number (or every number in the vector or matrix) `x`|\n",
    "|`ceiling(x)`| Smallest integer greater than the number (or every number in the vector or matrix) `x`|\n",
    "|`sqrt(x)`| Square root of the number (or every number in the vector or matrix) `x` ($\\sqrt{x}$)|\n",
    "|`sin(x)`| Sine function of the number (or every number in a vector or matrix) `x`|\n",
    "|`pi`| Value of the constant $\\pi$|\n",
    "\n",
    "### Statistical\n",
    "\n",
    "|Function||\n",
    "|:-|:-|\n",
    "|`mean(x)`| Compute mean of (a vector or matrix) `x`| \n",
    "|`sd(x)`| Standard deviation of (a vector or matrix) `x`|\n",
    "|`var(x)`| Variance of (a vector or matrix) `x`|\n",
    "|`median(x)`| Median of (a vector or matrix) `x`|\n",
    "|`quantile(x,0.05)`| Compute the 0.05 quantile of (a vector or matrix) `x`|\n",
    "|`range(x)`| Range of the data in (a vector or matrix) `x`|\n",
    "|`min(x)`| Minimum of (a vector or matrix) `x`|\n",
    "|`max(x)`| Maximum of (a vector or matrix) `x`|\n",
    "|`sum(x)`| Sum all elements of (a vector or matrix) `x`|\n",
    "|`summary(x)`| Summary statistics for (a vector or matrix) `x`|\n",
    "\n",
    "### Sets\n",
    "\n",
    "|Function||\n",
    "|:-|:-|\n",
    "|`union(x, y)` | Union of all elements of two vectors x & y|\n",
    "|`intersect(x, y)`|Elements common to two vectors x & y|\n",
    "|`setdiff(x, y)`|Elements unique to two vectors x & y|\n",
    "|`setequal(x, y)`|Check if two vectors x & y are the same set (have same unique elements)|\n",
    "|`is.element(x, y)`|Check if an element x is in vector y (same as `x %in% y`)|\n",
    "\n",
    "$\\star$ *Try out the above commands in your R console by generating the appropriate data*. For example, "
   ]
  },
  {
   "cell_type": "code",
   "execution_count": null,
   "metadata": {},
   "outputs": [],
   "source": [
    "strsplit(\"String; to; Split\",';')# Split the string at ';'"
   ]
  },
  {
   "cell_type": "markdown",
   "metadata": {},
   "source": [
    "(R-random-numbers)=\n",
    "### Generating Random Numbers\n",
    "\n",
    "You will probably need to generate random numbers at some point as a quantitative biologist. \n",
    "\n",
    "R has many routines for generating random samples from various probability distributions. There are a number of random number distributions that you can sample or generate random numbers from: \n",
    "\n",
    "|Function||\n",
    "|:-|:-|\n",
    "|`rnorm(10, m=0, sd=1)`| Draw 10 normal random numbers with mean=0 and standard deviation = 1|\n",
    "|`dnorm(x, m=0, sd=1)` | Density function|\n",
    "|`qnorm(x, m=0, sd=1)` | Cumulative density function|\n",
    "|`runif(20, min=0, max=2)` | Twenty random numbers from uniform `[0,2]`|\n",
    "|` rpois(20, lambda=10)` | Twenty random numbers from Poisson (with mean $\\lambda$)|\n",
    "\n",
    "#### \"Seeding\" random number generators   \n",
    "\n",
    "Computers *can't* generate *true* mathematically random numbers. This may seem surprising, but basically a computer cannot be programmed to do things purely by chance; it can only follow given instructions blindly and is therefore completely predictable. Instead, computers have algorithms called \"pseudo-random number generators\" that generate *practically random* sequences of numbers. These are typically based on a iterative formula that generates a sequence of random numbers, starting with a first number called the \"**seed**\". This sequence is completely \"deterministic\", that is, starting with a particular seed yields exactly the same sequence of pseudo-random numbers every time you re-run the generator. \n",
    "\n",
    "Try this:"
   ]
  },
  {
   "cell_type": "code",
   "execution_count": null,
   "metadata": {},
   "outputs": [],
   "source": [
    "set.seed(1234567)\n",
    "rnorm(1)"
   ]
  },
  {
   "cell_type": "markdown",
   "metadata": {},
   "source": [
    "Everybody in the class  will get the same answer! \n",
    "\n",
    "Now try and compare the results with your neighbor:"
   ]
  },
  {
   "cell_type": "code",
   "execution_count": null,
   "metadata": {},
   "outputs": [],
   "source": [
    "rnorm(10)"
   ]
  },
  {
   "cell_type": "markdown",
   "metadata": {},
   "source": [
    "And then the whole sequence of 11 numbers you generated:"
   ]
  },
  {
   "cell_type": "code",
   "execution_count": null,
   "metadata": {},
   "outputs": [],
   "source": [
    "set.seed(1234567)\n",
    "rnorm(11)"
   ]
  },
  {
   "cell_type": "markdown",
   "metadata": {},
   "source": [
    "Thus, setting the seed allows you to reliably generate the identical sequence of \"random\" numbers. These numbers are not truly random, but have the properties of random numbers. Note also that pseudo-random number generators are periodic, which means that the sequence will eventually repeat itself. However, this  period is so long that it can be ignored for most practical purposes. So effectively, `rnorm` has an enormous list that it cycles through. The random seed starts the process, i.e., indicates where in the list to start. This is usually taken from the clock when you start R.\n",
    "\n",
    "But why bother with random number seeds? Setting a particular seed can be useful when debugging programs (coming up below). Bugs in code can be hard to find &mdash; harder still if you are generating random numbers, so repeat runs of your code may or may not all trigger the same behavior. You can set the seed once at the beginning of the code &mdash; ensuring repeatability, retaining (pseudo) randomness. Once  debugged, if you want, you can remove the set seed line."
   ]
  },
  {
   "cell_type": "markdown",
   "metadata": {},
   "source": [
    "## Your analysis workflow\n",
    "\n",
    "In using R for an analysis, you will likely use and create several files. As in the case of bash and Python based projects, in R projects as well, you should keep your workflow well organized. For example, it is sensible to create a folder (directory) to keep all code files together. You can then set R to work from this directory, so that files are easy to find and run &mdash; this will be your \"working directory\" (more on this below). Also, you don't want to mix code files with data and results files. So you should create separate directories for these as well. \n",
    "\n",
    "Thus, your typical R analysis workflow will be:\n",
    "\n",
    "---\n",
    ":::{figure} R-project-organization\n",
    "<img src=\"./graphics/RWorkflow.png\" alt=\"R Project Organization\" width=\"600px\">\n",
    "\n",
    "**Your R project.** Keeping it neat and organized if the key to becoming a good R programmer.\n",
    ":::\n",
    "\n",
    "---\n",
    "\n",
    "\n",
    "Some details on each kind of file:\n",
    "\n",
    "\n",
    "* *R script files*: These are plain text files containing all the R code needed for an analysis. These should  be created with a text editor, typically part of some smart code editor like vscode, or RStudio, and saved with the extension `*.R`. You should *never* use Word to save or edit these files as R can only read code from plain text files.\n",
    " \n",
    "* *Text data files* These are files of data in plain text format containing one or more columns of data (numbers, strings, or both). Although there are several format options, we will typically be using `csv` files, where the data entries are separated by commas. These are easy to create and export from Excel (if that's what you use...).\n",
    "\n",
    "* *Results output files* These are a plain text files containing your results, such the the summary of output of a regression or ANOVA analysis. Typically, you will output your results in a table format where the columns are separated by commas (csv) or tabs (tab-delimited). \n",
    "\n",
    "* *Graphics files* R can export graphics in a wide range of formats. This can be done automatically from R code and we will look at this later but you can also select a graphics window (e.g., in RStudio) and click `File` $\\triangleright$ `Save as...`.\n",
    "\n",
    "* *Rdata files* You can save any data loaded or created in R, including outputs of statistical analyses and other things, into a single`Rdata` file. These are not plain text and can only be read by R, but can hold all the data from an analysis in a single handy location. We will not use these much in this course.  \n",
    "\n",
    "So let's build your R analysis project structure. \n",
    "\n",
    "Do the following:\n",
    "\n",
    "$\\star$ Create a sensibly-named directory (e.g., `MyRCoursework`, ` week3`, etc) in an appropriate location on your computer. If you are using a college Windows computer, you may need to create it in your `H:` drive. Avoid including spaces in your file or directory names, as this will often create problems when you share your file or directory with somebody else. Many software programs do not handle spaces in file/directory names well. Use underscores instead of spaces. For example, instead of ` My R Coursework`, use ` My_R_Coursework` or ` MyRCoursework`.   \n",
    "\n",
    "$\\star$ Create subdirectories *within this directory* called `code`, `data`, and `results`. Remember,  commands in all programming languages are case-sensitive when it comes to reading directory path names, so `code` is not the same as `Code`!\n",
    "\n",
    "You can create directories using `dir.create()`within R (or if on Mac/Linux, with the usual `mkdir` from the bash terminal):\n",
    "\n",
    "```R\n",
    "dir.create(\"MyRCoursework\")\n",
    "dir.create(\"MyRCoursework/code\")\n",
    "dir.create(\"MyRCoursework/data\")    \n",
    "dir.create(\"MyRCoursework/results\")    \n",
    "```"
   ]
  },
  {
   "cell_type": "markdown",
   "metadata": {},
   "source": [
    "### The R Workspace and Working Directory\n",
    "\n",
    "R has a \"workspace\" &ndash; a current working environment that includes any user-defined data structures objects (vectors, matrices, data frames, lists) as well as other objects (e.g., functions). At the end of an R session, the user can save an image of the current workspace that is automatically reloaded the next time R is started. Your workspace is saved in your \"Working Directory\", which has to be set manually.\n",
    "\n",
    "So before we go any further, let's get sort out where your R \"Working Directory\" should be and how you should set it. R has a default location where it assumes your working directory is. \n",
    "\n",
    "* In UNIX/Linux, it is whichever directory you are in when you launch R.\n",
    "\n",
    "* In Mac, it is ` /User/YourUserName` or similar.\n",
    "\n",
    "* In Windows, it is ` C:/Windows/system32`or similar.\n",
    "\n",
    "To see where your current working directory is, at the R command prompt, type:\n",
    "\n",
    "`getwd()` \n",
    "\n",
    "This tells you what the current `w`orking `d`irectory is. \n",
    "\n",
    "Now, set the working directory to be ` MrRCourseworkcode`. For example, if you created ` MrRCoursework`directly in your `H:\\`, the you would use:\n",
    "\n",
    "`setwd(\"H:/MrRCourseworkcode\")` \n",
    "\n",
    "\n",
    "`dir()` #check what's in the current working directory\n",
    "\n",
    "On your own computer, you can also change R's default to a particular working directory where you would like to start (easily done in RStudio): \n",
    "\n",
    "* In Linux, you can do this by editing the `Rprofile.site`site with `sudo gedit /etc/R/Rprofile.site`. In that file, you would add your start-up parameters between the lines \n",
    "\n",
    "    `.First <- function() cat(\"\\n Welcome to R!\\n\\n\")`\n",
    "\n",
    "and \n",
    "\n",
    "    `.Last <- function() cat(\"\\n   Goodbye! \\n\\n\")`.\n",
    "\n",
    "Between these two lines, insert: \n",
    "    `setwd(\"/home/YourName/YourDirectoryPath\")`\n",
    "\n",
    "* In Windows and Macs, you can find the ` Rprofile.site`file by searching for it. On Windows, it should be at `C:\\Program Files\\R\\R-x.x.x\\etc` directory, where `x.x.x` is your R version.\n",
    "\n",
    "* If you are using RStudio, you can change the default working directory through the RStudio \"Options\" dialog."
   ]
  },
  {
   "cell_type": "markdown",
   "metadata": {},
   "source": [
    "## Importing and Exporting Data\n",
    "\n",
    "We are now ready to see how to import and export data in R, typically the first step of your analysis. The best option is to have your data in a ` c`omma ` s`eparated ` v`alue (` csv`) text file or in a tab separated text file. Then, you can use the function ` read.csv`(or ` read.table`) to import your data. Now, lets get some data into your ` Data`directory.\n",
    "\n",
    "$\\star$ Go to the [TheMulQuaBio git repository](https://github.com/mhasoba/TheMulQuaBio) and navigate to the [`data` directory](https://github.com/mhasoba/TheMulQuaBio/tree/master/content/data).\n",
    "\n",
    "$\\star$ Download and copy the file [`trees.csv`](https://raw.githubusercontent.com/mhasoba/TheMulQuaBio/master/content/data/trees.csv) into your own `data` directory. \n",
    "\n",
    "Alternatively, of you may download the whole repository to your computer and then grab the file from the place where you downloaded it. \n",
    "\n",
    "Now, import the data:"
   ]
  },
  {
   "cell_type": "code",
   "execution_count": null,
   "metadata": {
    "tags": [
     "remove-cell"
    ]
   },
   "outputs": [],
   "source": [
    "setwd(\"../code/\")"
   ]
  },
  {
   "cell_type": "code",
   "execution_count": null,
   "metadata": {},
   "outputs": [],
   "source": [
    "MyData <- read.csv(\"../data/trees.csv\")"
   ]
  },
  {
   "cell_type": "code",
   "execution_count": null,
   "metadata": {},
   "outputs": [],
   "source": [
    "ls() #Check that MyData has appeared"
   ]
  },
  {
   "cell_type": "markdown",
   "metadata": {},
   "source": [
    "Your output may be somewhat different, depending on what what variables and other objects have been created in \n",
    "your R Workspace during the current R session. But the main thing is, you should be able to see a `MyData` in the list of objects printed.  "
   ]
  },
  {
   "cell_type": "markdown",
   "metadata": {},
   "source": [
    "Note that the resulting `MyData` object in your workspace is a R dataframe:"
   ]
  },
  {
   "cell_type": "code",
   "execution_count": null,
   "metadata": {},
   "outputs": [],
   "source": [
    "class(MyData)"
   ]
  },
  {
   "cell_type": "markdown",
   "metadata": {},
   "source": [
    "### Relative paths\n",
    "\n",
    "Note the UNIX-like path to the file we used in the `read.csv()` command above (using forward slashes; Windows uses back slashes). \n",
    "\n",
    "The `../` in `read.csv(\"../data/trees.csv\")` above signifies a \"relative\" path. That is, you are asking R to load data that lies in a different directory (folder) *relative* your current location (in this case, you are in your ` Code`directory). In other, more technical words, `../data/trees.txt`points to a file named `trees.txt`located in the \"parent\" of the current directory.\n",
    "\n",
    "*What is an absolute path?* &mdash; one that specifies the whole path on your computer, say from ` C:\\`\"upwards\" on Windows, `/Users/` upwards on Mac, and `/home/` upwards on Linux. Absolute paths are specific to each computer, so should be avoided. So to import data and export results, your script should *not* use absolute paths. Also, *AVOID putting a `setwd()`command at the start of your R script*, because setting the working directory requires an absolute directory path, which will differ across computers, platforms, and users. Let the end users set the working directory on their machine themselves. \n",
    "\n",
    "Using relative paths in in your R scripts and code will make your code computer-independent and easier for others to use your code. The relative path way should always be the way you load data in your analyses scripts &mdash; it will guarantee that your analysis works on every computer, not just your own or college computer. \n",
    "\n",
    "\n",
    "```{tip}\n",
    "If you are using a computer from elsewhere in the EU, Excel may use a comma (e.g., $\\pi=3,1416$) instead of a decimal point ($\\pi=3.1416$). In this case, `csv`files may use a semi-colon to separate columns and you can use the alternative function `read.csv2()` to read them into the R workspace.\n",
    "\n",
    "```"
   ]
  },
  {
   "cell_type": "code",
   "execution_count": null,
   "metadata": {},
   "outputs": [],
   "source": [
    "head(MyData) # Have a quick look at the data frame"
   ]
  },
  {
   "cell_type": "markdown",
   "metadata": {},
   "source": [
    "You can also have a more detailed look at the data you imported:"
   ]
  },
  {
   "cell_type": "code",
   "execution_count": null,
   "metadata": {},
   "outputs": [],
   "source": [
    "str(MyData) # Note the data types of the three columns"
   ]
  },
  {
   "cell_type": "code",
   "execution_count": null,
   "metadata": {},
   "outputs": [],
   "source": [
    "MyData <- read.csv(\"../data/trees.csv\", header = F) # Import ignoring headers"
   ]
  },
  {
   "cell_type": "code",
   "execution_count": null,
   "metadata": {},
   "outputs": [],
   "source": [
    "head(MyData)"
   ]
  },
  {
   "cell_type": "markdown",
   "metadata": {},
   "source": [
    "Or you can load data using the more general `read.table` function:"
   ]
  },
  {
   "cell_type": "code",
   "execution_count": null,
   "metadata": {},
   "outputs": [],
   "source": [
    "MyData <- read.table(\"../data/trees.csv\", sep = ',', header = TRUE) #another way"
   ]
  },
  {
   "cell_type": "markdown",
   "metadata": {},
   "source": [
    "With `read.table` you need to specify whether there is a header row that needs to be imported as such. "
   ]
  },
  {
   "cell_type": "code",
   "execution_count": null,
   "metadata": {},
   "outputs": [],
   "source": [
    "head(MyData)"
   ]
  },
  {
   "cell_type": "code",
   "execution_count": null,
   "metadata": {},
   "outputs": [],
   "source": [
    "MyData <- read.csv(\"../data/trees.csv\", skip = 5) # skip first 5 lines"
   ]
  },
  {
   "cell_type": "markdown",
   "metadata": {},
   "source": [
    "### Writing to and saving files\n",
    "\n",
    "You can also save your data frames using `write.table` or `write.csv`:"
   ]
  },
  {
   "cell_type": "code",
   "execution_count": null,
   "metadata": {},
   "outputs": [],
   "source": [
    "write.csv(MyData, \"../results/MyData.csv\")"
   ]
  },
  {
   "cell_type": "code",
   "execution_count": null,
   "metadata": {
    "scrolled": true
   },
   "outputs": [],
   "source": [
    "dir(\"../results/\") # Check if it worked"
   ]
  },
  {
   "cell_type": "code",
   "execution_count": null,
   "metadata": {
    "scrolled": true
   },
   "outputs": [],
   "source": [
    "write.table(MyData[1,], file = \"../results/MyData.csv\",append=TRUE) # append"
   ]
  },
  {
   "cell_type": "markdown",
   "metadata": {},
   "source": [
    "You get a warning with here because R thinks it is strange that you are appending headers to a file that already has headers!"
   ]
  },
  {
   "cell_type": "code",
   "execution_count": null,
   "metadata": {},
   "outputs": [],
   "source": [
    "write.csv(MyData, \"../results/MyData.csv\", row.names=TRUE) # write row names"
   ]
  },
  {
   "cell_type": "code",
   "execution_count": null,
   "metadata": {},
   "outputs": [],
   "source": [
    "write.table(MyData, \"../results/MyData.csv\", col.names=FALSE) # ignore col names"
   ]
  },
  {
   "cell_type": "markdown",
   "metadata": {},
   "source": [
    "## Writing R code\n",
    " \n",
    "Typing in commands interactively in the R console is good for starters, but you will want to switch to putting your sequence of commands into a script file, and then ask R to run those commands. \n",
    "\n",
    "\n",
    "* Open a new text file, call it `basic_io.R`, and save it to your `code`directory. \n",
    "* Write the above input-output commands in it: \n",
    "\n",
    "```R\n",
    "# A simple script to illustrate R input-output.  \n",
    "# Run line by line and check inputs outputs to understand what is happening  \n",
    "\n",
    "MyData <- read.csv(\"../data/trees.csv\", header = TRUE) # import with headers\n",
    "\n",
    "write.csv(MyData, \"../results/MyData.csv\") #write it out as a new file\n",
    "\n",
    "write.table(MyData[1,], file = \"../results/MyData.csv\",append=TRUE) # Append to it\n",
    "\n",
    "write.csv(MyData, \"../results/MyData.csv\", row.names=TRUE) # write row names\n",
    "\n",
    "write.table(MyData, \"../results/MyData.csv\", col.names=FALSE) # ignore column names\n",
    "\n",
    "```\n",
    "\n",
    "* Now place the cursor on the first line of code in the script file and run it by pressing the appropriate keyboard shortcut (e.g., PC: ctrl+R, Mac: command+enter, Linux: ctrl+enter are the usual shortcuts for doing this).\n",
    "* Check after every line that you are getting the expected result."
   ]
  },
  {
   "cell_type": "markdown",
   "metadata": {},
   "source": [
    "## Running R code\n",
    "\n",
    "But even writing to a script file and running the code line-by-line or block-by-block is not your ultimate goal. What you would really like to do is to just run your full analysis and output all the results. There are two main approaches for running R script/code.\n",
    "\n",
    "### Using `source`\n",
    "\n",
    "You can run all the contents of a `*.R`script file from the R command line by using `source()`.\n",
    "\n",
    "$\\star$ Try sourcing `basic_io.R` (you will need to make sure you have `setwd` to your code directory):"
   ]
  },
  {
   "cell_type": "code",
   "execution_count": null,
   "metadata": {},
   "outputs": [],
   "source": [
    "source(\"basic_io.R\")"
   ]
  },
  {
   "cell_type": "markdown",
   "metadata": {},
   "source": [
    "That has run OK, warning and all. \n",
    "\n",
    "* If you get errors, read and then try to fix them. The most common problem is likely to be that you have not `setwd()` to the `code` directory.  \n",
    "\n",
    "Alternatively, you can run the script from wherever (e.g., `data` directory) by adding the directory path to the script file name, if the script file is not in your working directory and you don't want to change your working directory. For example, you will need `source(\"../code/control.R` if your working directory is `data` and not `code` (using a relative path).\n",
    "\n",
    "*Do not* put a ` source()`command inside the script file you are sourcing, as it is then trying to run itself again and again and that's just cruel!*\n",
    "\n",
    "```{tip}\n",
    "The command ` source()`has a `chdir`argument whose default value is FALSE. When set to TRUE, it will change the working directory to the directory of the file being sourced.  \n",
    "\n",
    "```\n",
    "\n",
    "Also, if you have `source`ed a script successfully, you will see no output on in R console/terminal unless there was an error or warning, or if you explicitly asked for something to be printed. So it can be useful to add a line at the end of the script saying something like `print(\"Script complete!\")`.\n",
    "\n",
    "\n",
    "### Using ` Rscript`\n",
    "\n",
    "You can also run R script from the UNIX/Linux terminal by calling `Rscript`. That is, while you have to be inside an R session to use the ` source` command to run a script, you can run a R script directly from the UNIX/Linux terminal by calling `Rscript`.\n",
    "\n",
    "This allows you to easily automate execution of your R scripts (e.g., by writing a bash script) and integrate R into a bigger computing pipeline/workflow by calling it through other tools or languages (e.g., see the [Python Chapter II](06-Python_II.ipynb)). \n",
    "\n",
    "If you are on Linux, try using `Rscript` to run `basic_io.R`: \n",
    "\n",
    "* Exit from the R console using `ctrl+D`, or open a new bash terminal\n",
    "    \n",
    "* `cd` to the location of ` basic_io.R` (e.g., `week3/code`)\n",
    "    \n",
    "* Then run the script using `Rscript basic_io.R`\n",
    "\n",
    "Also, please have a look at `man Rscript` in a bash terminal.\n",
    "\n",
    "### Running R in batch mode\n",
    "\n",
    "In addition to ` Rscript`, there is another way to run you R script without opening the R console. In Mac or Linux, you can do so by typing:\n",
    "\n",
    "`R CMD BATCH MyCode.R MyResults.Rout`\n",
    "\n",
    "This will create an `MyResults.Rout`file containing all the output. On Microsoft Windows, it's more complicated &mdash; change the path to `R.exe`and output file as needed: \n",
    "\n",
    "`\"C:\\Program Files\\R\\R-4.x.x\\bin\\R.exe\" CMD BATCH -vanilla -slave \"C:\\PathToMyResults\\Results\\MyCode.R\"`\n",
    "\n",
    "Here, replace 4.x.x with the R version you have."
   ]
  },
  {
   "cell_type": "markdown",
   "metadata": {},
   "source": [
    "## Control flow tools\n",
    "\n",
    "In R, you can write `if`, `then`, `else` statements, and `for` and `while` loops like any programming language to give you finer control over your program's \"control flow\". Such statements are useful to include in functions and scripts because you may only want to do certain calculations or other tasks, under certain conditions (e.g., ` if` the dataset is from a particular year, do something different). \n",
    "\n",
    "Let's look at some examples of code exemplifying control flow tools in R. \n",
    "\n",
    "$\\star$ Type each of the following blocks of code in a script file called `control_flow.R` and save it in your `code` directory. then run each block *separately* by sending or pasting into the R console. "
   ]
  },
  {
   "cell_type": "markdown",
   "metadata": {},
   "source": [
    "### `if` statements"
   ]
  },
  {
   "cell_type": "code",
   "execution_count": null,
   "metadata": {},
   "outputs": [],
   "source": [
    "a <- TRUE\n",
    "if (a == TRUE){\n",
    "    print (\"a is TRUE\")\n",
    "    } else {\n",
    "    print (\"a is FALSE\")\n",
    "}"
   ]
  },
  {
   "cell_type": "markdown",
   "metadata": {},
   "source": [
    "You can also write an `if` statement on a single line:"
   ]
  },
  {
   "cell_type": "code",
   "execution_count": null,
   "metadata": {},
   "outputs": [],
   "source": [
    "z <- runif(1) ## Generate a uniformly distributed random number\n",
    "if (z <= 0.5) {print (\"Less than a half\")}"
   ]
  },
  {
   "cell_type": "markdown",
   "metadata": {},
   "source": [
    "But code readability is important, so avoid squeezing control flow blocks like this into a single line.\n",
    "\n",
    "```{tip}\n",
    "Please indent your code for readability, even if its not strictly necessary (unlike [Python](./05-Python_I.ipynb)). Indentation helps you see the flow of the logic, rather than flattened version, which is hard for you and anybody else to read. For example, the following code block is so much much readable than the one above:\n",
    "\n",
    "```r\n",
    "z <- runif(1)\n",
    "if (z <= 0.5) {\n",
    "    print (\"Less than a half\")\n",
    "   }\n",
    "```"
   ]
  },
  {
   "cell_type": "markdown",
   "metadata": {},
   "source": [
    "### `for` loops"
   ]
  },
  {
   "cell_type": "markdown",
   "metadata": {},
   "source": [
    "[Loops](https://en.wikipedia.org/wiki/Control_flow#Loops) are really useful to repeat a task over some range of input values. \n",
    "\n",
    "The following code \"loops\" over a range of numbers, squaring each, and then printing the result:"
   ]
  },
  {
   "cell_type": "code",
   "execution_count": null,
   "metadata": {
    "scrolled": true
   },
   "outputs": [],
   "source": [
    "for (i in 1:10){\n",
    "    j <- i * i\n",
    "    print(paste(i, \" squared is\", j ))\n",
    "}"
   ]
  },
  {
   "cell_type": "markdown",
   "metadata": {},
   "source": [
    "What exactly is going on in the piece of code above? What are `i` and `j`? Let's break it down:\n",
    "\n",
    "Firstly The `1:10` part simply generates a sequence, as you [learned above](#Creating-sequences):  "
   ]
  },
  {
   "cell_type": "code",
   "execution_count": null,
   "metadata": {
    "scrolled": true
   },
   "outputs": [],
   "source": [
    "1:10"
   ]
  },
  {
   "cell_type": "markdown",
   "metadata": {},
   "source": [
    "This is the same as using `seq(10)` (try substituting this instead of `1:10` in the above block of code). \n",
    "\n",
    "Then, `j` is a temporary variable that stores the value of the number (the other temporary variable, `i`) in that iteration of the loop.    \n",
    "\n",
    "```{note}\n",
    "Using the `:` operator or the `seq()` function pre-generates the sequence and stores it in memory, so is less efficient that Python's [`range` function](./05-Python_I.ipynb), which generates numbers in a sequence on a \"need-to\" basis. \n",
    "```\n",
    "\n",
    "You can also loop over a vector of strings:"
   ]
  },
  {
   "cell_type": "code",
   "execution_count": null,
   "metadata": {
    "scrolled": true
   },
   "outputs": [],
   "source": [
    "for(species in c('Heliodoxa rubinoides', \n",
    "                 'Boissonneaua jardini', \n",
    "                 'Sula nebouxii')){\n",
    "  print(paste('The species is', species))\n",
    "}"
   ]
  },
  {
   "cell_type": "markdown",
   "metadata": {},
   "source": [
    "These is a random assortment of birds!\n",
    "\n",
    "And here's a for loop using apre-existing vector:"
   ]
  },
  {
   "cell_type": "code",
   "execution_count": null,
   "metadata": {},
   "outputs": [],
   "source": [
    "v1 <- c(\"a\",\"bc\",\"def\")\n",
    "for (i in v1){\n",
    "    print(i)\n",
    "}"
   ]
  },
  {
   "cell_type": "markdown",
   "metadata": {},
   "source": [
    "### `while` loops\n",
    "\n",
    "If you want to perform an operation till some condition is met, use a `while` loop:"
   ]
  },
  {
   "cell_type": "code",
   "execution_count": null,
   "metadata": {},
   "outputs": [],
   "source": [
    "i <- 0\n",
    "while (i < 10){\n",
    "    i <- i+1\n",
    "    print(i^2)\n",
    "}"
   ]
  },
  {
   "cell_type": "markdown",
   "metadata": {},
   "source": [
    "$\\star$ Now test `control_flow.R`. That is, run the script file  using `source` (and `Rscript` if on Linux).\n",
    "\n",
    "If you get errors, read them carefully and fix them (this is going to be your mantra henceforth!)."
   ]
  },
  {
   "cell_type": "markdown",
   "metadata": {},
   "source": [
    "### Some more control flow tools\n",
    "\n",
    "Let's look at some more control tools that are less commonly used, but can be useful in certain scenarios.  \n",
    "\n",
    "#### `break`ing out of loops\n",
    "Often it is useful (or necessary) to `break` out of a loop when some condition is met. Use ` break` (like in pretty much any other programming language, like Python) in situations when you cannot set a target number of iterations and would like to stop the loop execultion once some condition is met (as you would with a ` while` loop). \n",
    "\n",
    "Try this (type into `break.R` and save in `code`):"
   ]
  },
  {
   "cell_type": "code",
   "execution_count": null,
   "metadata": {},
   "outputs": [],
   "source": [
    "i <- 0 #Initialize i\n",
    "    while(i < Inf) {\n",
    "        if (i == 10) {\n",
    "            break \n",
    "             } # Break out of the while loop! \n",
    "        else { \n",
    "            cat(\"i equals \" , i , \" \\n\")\n",
    "            i <- i + 1 # Update i\n",
    "    }\n",
    "}"
   ]
  },
  {
   "cell_type": "markdown",
   "metadata": {},
   "source": [
    "#### Using `next`\n",
    "\n",
    "You can also skip to next iteration of a loop. Both `next` and `break` can be used within other loops (` while`, ` for`). Try this (type into `next.R` and save in `code`):"
   ]
  },
  {
   "cell_type": "code",
   "execution_count": null,
   "metadata": {},
   "outputs": [],
   "source": [
    "for (i in 1:10) {\n",
    "  if ((i %% 2) == 0) # check if the number is odd\n",
    "    next # pass to next iteration of loop \n",
    "  print(i)\n",
    "}"
   ]
  },
  {
   "cell_type": "markdown",
   "metadata": {},
   "source": [
    "This code checks if a number is odd using the \"modulo\" operation and prints it if it is."
   ]
  },
  {
   "cell_type": "markdown",
   "metadata": {},
   "source": [
    "## Writing R Functions\n",
    "\n",
    "A function is a block of re-useable code that takes an input, does something with it (or to it!), and returns the result. Like any other programming language, R lets you write your own functions. All the \"commands\" that you have been using, such as ` ls()`, `mean()`, `c()`, etc are basically functions. You will want to write your own function for every scenario where a particular task or set of analysis steps need to be performed again and again.   \n",
    "The syntax for R functions is quite simple, with each function accepting \"arguments\" and \"returning\" a value. \n",
    "\n",
    "### Your first R function\n",
    "\n",
    "$\\star$ Type the following into a script file called  `boilerplate.R`and save it in your `code` directory:\n",
    " \n",
    "```R\n",
    "\n",
    "# A boilerplate R script\n",
    "\n",
    "MyFunction <- function(Arg1, Arg2){\n",
    "  \n",
    "  # Statements involving Arg1, Arg2:\n",
    "  print(paste(\"Argument\", as.character(Arg1), \"is a\", class(Arg1))) # print Arg1's type\n",
    "  print(paste(\"Argument\", as.character(Arg2), \"is a\", class(Arg2))) # print Arg2's type\n",
    "    \n",
    "  return (c(Arg1, Arg2)) #this is optional, but very useful\n",
    "}\n",
    "\n",
    "MyFunction(1,2) #test the function\n",
    "MyFunction(\"Riki\",\"Tiki\") #A different test\n",
    "```\n",
    "Note the curly brackets &ndash; these are necessary for R to know where the specification of the function starts and ends. Also, note the indentation. Not necessary (unlike Python), but recommended to make the code more readable.\n",
    "\n",
    "Now enter the R console and source the script:"
   ]
  },
  {
   "cell_type": "code",
   "execution_count": null,
   "metadata": {},
   "outputs": [],
   "source": [
    "source(\"boilerplate.R\")"
   ]
  },
  {
   "cell_type": "markdown",
   "metadata": {},
   "source": [
    "This will run the script, and also save your function `MyFunction` as an object into your workspace (try `ls()`, and you will see `MyFunction` appear in the list of objects):"
   ]
  },
  {
   "cell_type": "code",
   "execution_count": null,
   "metadata": {},
   "outputs": [],
   "source": [
    "ls()"
   ]
  },
  {
   "cell_type": "markdown",
   "metadata": {},
   "source": [
    "Again, you output will likely be a bit different as you have been different things in your R workspace/session than I have. What matters is that you see `MyFunction` in the list of objects above.    \n",
    "\n",
    "Now try: "
   ]
  },
  {
   "cell_type": "code",
   "execution_count": null,
   "metadata": {},
   "outputs": [],
   "source": [
    "class(MyFunction)"
   ]
  },
  {
   "cell_type": "markdown",
   "metadata": {},
   "source": [
    "So, yes, `MyFunction`is a `function` object! "
   ]
  },
  {
   "cell_type": "markdown",
   "metadata": {},
   "source": [
    "### Functions with conditionals\n",
    "\n",
    "\n",
    "Here are some examples of functions with conditionals:"
   ]
  },
  {
   "cell_type": "code",
   "execution_count": null,
   "metadata": {
    "scrolled": true
   },
   "outputs": [],
   "source": [
    "# Checks if an integer is even\n",
    "is.even <- function(n = 2){\n",
    "  if (n %% 2 == 0)\n",
    "  {\n",
    "    return(paste(n,'is even!'))\n",
    "  } \n",
    "  return(paste(n,'is odd!'))\n",
    "}\n",
    "\n",
    "is.even(6)"
   ]
  },
  {
   "cell_type": "code",
   "execution_count": null,
   "metadata": {},
   "outputs": [],
   "source": [
    "# Checks if a number is a power of 2\n",
    "is.power2 <- function(n = 2){\n",
    "  if (log2(n) %% 1==0)\n",
    "  {\n",
    "    return(paste(n, 'is a power of 2!'))\n",
    "  } \n",
    "  return(paste(n,'is not a power of 2!'))\n",
    "}\n",
    "\n",
    "is.power2(4)"
   ]
  },
  {
   "cell_type": "code",
   "execution_count": null,
   "metadata": {},
   "outputs": [],
   "source": [
    "# Checks if a number is prime\n",
    "is.prime <- function(n){\n",
    "  if (n==0){\n",
    "    return(paste(n,'is a zero!'))\n",
    "  }\n",
    "  if (n==1){\n",
    "    return(paste(n,'is just a unit!'))\n",
    "  }\n",
    "  ints <- 2:(n-1)\n",
    "  if (all(n%%ints!=0)){\n",
    "    return(paste(n,'is a prime!'))\n",
    "  } \n",
    "  return(paste(n,'is a composite!'))\n",
    "}\n",
    "\n",
    "is.prime(3)"
   ]
  },
  {
   "cell_type": "markdown",
   "metadata": {},
   "source": [
    "$\\star$ Run the three blocks of code in R one at a time and make sure you understand what each function is doing and how. Save all three blocks to a single script file called `R_conditionals.R` in your `code` directory, and make sure it runs using `source` and `Rscript` (in the Linux/Ubuntu terminal) . "
   ]
  },
  {
   "cell_type": "markdown",
   "metadata": {},
   "source": [
    "### An example utility function\n",
    "\n",
    "\n",
    "Now let's write a script containing a more useful function:\n",
    "\n",
    "$\\star$ In your text editor type the following in a file called `TreeHeight.R`, and save it in your `code`directory:\n",
    "\n",
    "```R\n",
    "# This function calculates heights of trees given distance of each tree \n",
    "# from its base and angle to its top, using  the trigonometric formula \n",
    "#\n",
    "# height = distance * tan(radians)\n",
    "#\n",
    "# ARGUMENTS\n",
    "# degrees:   The angle of elevation of tree\n",
    "# distance:  The distance from base of tree (e.g., meters)\n",
    "#\n",
    "# OUTPUT\n",
    "# The heights of the tree, same units as \"distance\"\n",
    "\n",
    "TreeHeight <- function(degrees, distance){\n",
    "    radians <- degrees * pi / 180\n",
    "    height <- distance * tan(radians)\n",
    "    print(paste(\"Tree height is:\", height))\n",
    "  \n",
    "    return (height)\n",
    "}\n",
    "\n",
    "TreeHeight(37, 40)\n",
    "```\n",
    "\n",
    "* Run `TreeHeight.R`'s two blocks (the `TreeHeight` function, and the call to the function, `TreeHeight(37, 40)`) by pasting them sequentially into the R console. Try and understand what each line is doing.\n",
    "* Now test the whole `TreeHeight.R` script at one go using `source` and/or `Rscript` (in Linux/Ubuntu)."
   ]
  },
  {
   "cell_type": "markdown",
   "metadata": {},
   "source": [
    "## Practicals\n",
    "    \n",
    "### Tree heights\n",
    "\n",
    "Modify the script `TreeHeight.R` so that it does the following:\n",
    "  * Loads `trees.csv` and calculates tree heights for all trees in the data. Note that the distances have been measured in meters. (Hint: use relative paths)).\n",
    "  * Creates a csv output file called `TreeHts.csv` in `results`that contains the calculated tree heights along with the original data in the following format (only first two rows and headers shown):    \n",
    "    ```bash\n",
    "    \"Species\",\"Distance.m\",\"Angle.degrees\",\"Tree.Height.m\"\n",
    "    \"Populus tremula\",31.6658337740228,41.2826361937914,27.8021161438536\n",
    "    \"Quercus robur\",45.984992608428,44.5359166583512,45.2460250644405\n",
    "    ```\n",
    "This script should work using either `source` or `Rscript` in Linux."
   ]
  },
  {
   "cell_type": "markdown",
   "metadata": {},
   "source": [
    "## Vectorization\n",
    "\n",
    "R is relatively slow at cycling through a data structure such as a dataframe or matrix (e.g., by using a `for` loop) because it is a *high-level, interpreted computer language*. \n",
    "\n",
    "That is, when you execute a command in R, it needs to \"read\" and interpret the necessary code from scratch every single time the command is called. On the other hand, compiled languages like C know exactly what the flow of the program is because the code is pre-interpreted and ready to go before execution (i.e., the code is \"compiled\").  \n",
    "\n",
    "For example, when you assign a new variable in R:"
   ]
  },
  {
   "cell_type": "code",
   "execution_count": null,
   "metadata": {
    "scrolled": true
   },
   "outputs": [],
   "source": [
    "a <- 1.0\n",
    "class(a)"
   ]
  },
  {
   "cell_type": "markdown",
   "metadata": {},
   "source": [
    "R automatically figures out that `1.0` is an floating point number, and finds a place in the system memory for it with `a` registered as a \"pointer\" to it.\n",
    "\n",
    "In contrast, in C, for example, you would have to do so manually by giving `a` an address and space in memory:\n",
    "\n",
    "```C\n",
    "float a\n",
    "a = 1\n",
    "```\n",
    "\n",
    "*Vectorization is an approach where you directly apply compiled, optimized code to run an operation on a vector, matrix, or an higher-dimensional data structure (like an R array), instead of performing the operation element-wise (each row or column element one at a time) on the data structure*. \n",
    "\n",
    "Apart from computational efficiency vectorization makes writing code more concise, easy to read, and less error prone.\n",
    "\n",
    "Let's try an example that illustrates this point.\n",
    "\n",
    "$\\star$ Type (save in `Code`) as `Vectorize1.R` the following script, and run it (it sums all elements of a matrix):"
   ]
  },
  {
   "cell_type": "code",
   "execution_count": null,
   "metadata": {
    "scrolled": true
   },
   "outputs": [],
   "source": [
    "M <- matrix(runif(1000000),1000,1000)\n",
    "\n",
    "SumAllElements <- function(M){\n",
    "  Dimensions <- dim(M)\n",
    "  Tot <- 0\n",
    "  for (i in 1:Dimensions[1]){\n",
    "    for (j in 1:Dimensions[2]){\n",
    "      Tot <- Tot + M[i,j]\n",
    "    }\n",
    "  }\n",
    "  return (Tot)\n",
    "}\n",
    " \n",
    "print(\"Using loops, the time taken is:\")\n",
    "print(system.time(SumAllElements(M)))\n",
    "\n",
    "print(\"Using the in-built vectorized function, the time taken is:\")\n",
    "print(system.time(sum(M)))"
   ]
  },
  {
   "cell_type": "markdown",
   "metadata": {},
   "source": [
    "Note the `system.time` R function: it calculates how much time your code takes. This time will vary with every run, and every computer that this code is run on (so your times will be a bit different than what I got).\n",
    "\n",
    "Both `SumAllElements()` and `sum()` approaches are correct, and will give you the right answer. However, the inbuilt function `sum()`  is about 100 times faster than the other, because it uses vectorization, avoiding the amount of looping that `SumAllElements()` uses.\n",
    "\n",
    "In effect, of course, the computer still has to run loops. However, this running of the loops is encapsulated in a pre-complied program that R calls. These programs are written in more primitive (and therefore, faster) languages like Fortran and C. For example `sum` is actually written in C if you look under the hood.\n",
    "\n",
    "In R, even if you should try to avoid loops, in practice, it is often much easier to throw in a `for` loop, and *then* \"optimize\" the code to avoid the loop if the running time is not satisfactory. Therefore, it won't hurt you to become really familiar with loops and looping as you learned in the sections above. \n",
    "\n",
    "### Pre-allocation\n",
    "\n",
    "And if you are using loops, one operation that is slow in R (and somewhat slow in all languages) is memory allocation for a particular variable that will change during loping (e.g., a variable that is a dataframe). So writing a for loop that resizes a vector repeatedly makes R re-allocate memory repeatedly, which makes it slow. Try this:"
   ]
  },
  {
   "cell_type": "code",
   "execution_count": null,
   "metadata": {},
   "outputs": [],
   "source": [
    "NoPreallocFun <- function(x){\n",
    "    a <- vector() # empty vector\n",
    "    for (i in 1:x) {\n",
    "        a <- c(a, i)\n",
    "        print(a)\n",
    "        print(object.size(a))\n",
    "    }\n",
    "}\n",
    "\n",
    "system.time(NoPreallocFun(10))"
   ]
  },
  {
   "cell_type": "markdown",
   "metadata": {},
   "source": [
    "Here, in each repetition of the for loop, R has to re-size the vector and re-allocate memory. It has to find the vector in memory, create a new vector that will fit more data, copy the old data over, insert the new data, and erase the old vector. This can get very slow as vectors get big.\n",
    "\n",
    "On the other hand, if you \"pre-allocate\" a vector that fits all the values, R doesn't have to re-allocate memory each iteration, and the results can be much faster, especially when the vector lets large. Here's how you'd do that for the above case:"
   ]
  },
  {
   "cell_type": "code",
   "execution_count": null,
   "metadata": {},
   "outputs": [],
   "source": [
    "PreallocFun <- function(x){\n",
    "    a <- rep(NA, x) # pre-allocated vector\n",
    "    for (i in 1:x) {\n",
    "        a[i] <- i\n",
    "        print(a)\n",
    "        print(object.size(a))\n",
    "    }\n",
    "}\n",
    "\n",
    "system.time(PreallocFun(10))"
   ]
  },
  {
   "cell_type": "markdown",
   "metadata": {},
   "source": [
    "You can't really see the difference in timing here using `system.time()` because the vector is really small (just 10 elements). To really see the difference, increase the iterations from 10 to, say, 100000. \n",
    "\n",
    "$\\star$ Write the above two blocks of code into a script called `preallocate.R`. \n",
    "\n",
    "Fortunately, R has several functions that can operate on entire vectors and matrices without requiring looping (Vectorization). That is, vectorizing a computer program means you write it such that as many operations as possible are applied to whole data structure (vectors, matrices, dataframes, lists, etc) at one go, instead of its individual elements. \n",
    "\n",
    "You will learn about some important R functions that allow vectorization in the following sections. \n",
    "\n",
    "### The ` *apply` family of functions\n",
    "\n",
    "There are a family of functions called ` *apply` in R that vectorize your code for you. These functions are described in the help files (e.g. `?apply`). \n",
    "\n",
    "For example, ` apply` can be used when you want to apply a function to the rows or columns of a matrix (and higher-dimensional analogues &ndash; remember arrays!). This is not generally advisable for data frames as it will first need to coerce the data frame to a matrix first.\n",
    "\n",
    "Let us try using applying the same function to rows/colums of a matrix using `apply`. \n",
    "\n",
    "\n",
    "$\\star$ Type the following in a script file called `apply1.R`, save it to your ` Code` directory, and run it:"
   ]
  },
  {
   "cell_type": "code",
   "execution_count": null,
   "metadata": {
    "scrolled": true
   },
   "outputs": [],
   "source": [
    "## Build a random matrix\n",
    "M <- matrix(rnorm(100), 10, 10)\n",
    "\n",
    "## Take the mean of each row\n",
    "RowMeans <- apply(M, 1, mean)\n",
    "print (RowMeans)"
   ]
  },
  {
   "cell_type": "code",
   "execution_count": null,
   "metadata": {},
   "outputs": [],
   "source": [
    "## Now the variance\n",
    "RowVars <- apply(M, 1, var)\n",
    "print (RowVars)"
   ]
  },
  {
   "cell_type": "code",
   "execution_count": null,
   "metadata": {},
   "outputs": [],
   "source": [
    "## By column\n",
    "ColMeans <- apply(M, 2, mean)\n",
    "print (ColMeans)"
   ]
  },
  {
   "cell_type": "markdown",
   "metadata": {},
   "source": [
    "That was using `apply` on some of R's inbuilt functions. You can use apply to define your own functions. Let's try it.\n",
    "\n",
    "$\\star$ Type the following in a script file called `apply2.R`, save it to your ` Code` directory, and run it:"
   ]
  },
  {
   "cell_type": "code",
   "execution_count": null,
   "metadata": {},
   "outputs": [],
   "source": [
    "SomeOperation <- function(v){ # (What does this function do?)\n",
    "  if (sum(v) > 0){ #note that sum(v) is a single (scalar) value\n",
    "    return (v * 100)\n",
    "  }\n",
    "  return (v)\n",
    "}\n",
    "\n",
    "M <- matrix(rnorm(100), 10, 10)\n",
    "print (apply(M, 1, SomeOperation))"
   ]
  },
  {
   "cell_type": "markdown",
   "metadata": {},
   "source": [
    "Thus, the function `SomeOperation` takes as input `v`. Then if the sum of v is greater than zero, it multiplies that value by 100. So if `v` has positive and negative numbers, and the sum comes out to be positive, only then does it multiply all the values in `v` by 100 and return them.\n",
    "\n",
    "There are many other methods: ` lapply`, ` sapply`, ` eapply`, etc. Each is best for a given data type. For example, ` lapply` is designed for R lists. Have a look at [this Stackoveflow thread](https://stackoverflow.com/questions/3505701/grouping-functions-tapply-by-aggregate-and-the-apply-family) \n",
    "for some guidelines.\n",
    "\n",
    "#### A vectorization example\n",
    "\n",
    "Let's try an example of vectorization involving `lapply` and `sapply`. We will also learn how sampling random numbers works. \n",
    "\n",
    "$\\star$ Type the following blocks of code into a single script called `sample.R` and save in `code`.\n",
    "\n",
    "First some functions:"
   ]
  },
  {
   "cell_type": "code",
   "execution_count": null,
   "metadata": {},
   "outputs": [],
   "source": [
    "######### Functions ##########\n",
    "\n",
    "## A function to take a sample of size n from a population \"popn\" and return its mean\n",
    "myexperiment <- function(popn,n){\n",
    "    pop_sample <- sample(popn, n, replace = FALSE)\n",
    "    return(mean(pop_sample))\n",
    "}\n",
    "\n",
    "## Calculate means using a for loop without preallocation:\n",
    "loopy_sample1 <- function(popn, n, num){\n",
    "    result1 <- vector() #Initialize empty vector of size 1 \n",
    "    for(i in 1:num){\n",
    "        result1 <- c(result1, myexperiment(popn, n))\n",
    "    }\n",
    "    return(result1)\n",
    "}\n",
    "\n",
    "## To run \"num\" iterations of the experiment using a for loop on a vector with preallocation:\n",
    "loopy_sample2 <- function(popn, n, num){\n",
    "    result2 <- vector(,num) #Preallocate expected size\n",
    "    for(i in 1:num){\n",
    "        result2[i] <- myexperiment(popn, n)\n",
    "    }\n",
    "    return(result2)\n",
    "}\n",
    "\n",
    "## To run \"num\" iterations of the experiment using a for loop on a list with preallocation:\n",
    "loopy_sample3 <- function(popn, n, num){\n",
    "    result3 <- vector(\"list\", num) #Preallocate expected size\n",
    "    for(i in 1:num){\n",
    "        result3[[i]] <- myexperiment(popn, n)\n",
    "    }\n",
    "    return(result3)\n",
    "}\n",
    "\n",
    "\n",
    "## To run \"num\" iterations of the experiment using vectorization with lapply:\n",
    "lapply_sample <- function(popn, n, num){\n",
    "    result4 <- lapply(1:num, function(i) myexperiment(popn, n))\n",
    "    return(result4)\n",
    "}\n",
    "\n",
    "## To run \"num\" iterations of the experiment using vectorization with lapply:\n",
    "sapply_sample <- function(popn, n, num){\n",
    "    result5 <- sapply(1:num, function(i) myexperiment(popn, n))\n",
    "    return(result5)\n",
    "}"
   ]
  },
  {
   "cell_type": "markdown",
   "metadata": {},
   "source": [
    "*Think about what each of these functions does* \n",
    "\n",
    "Now generate a population:"
   ]
  },
  {
   "cell_type": "code",
   "execution_count": null,
   "metadata": {},
   "outputs": [],
   "source": [
    "popn <- rnorm(1000) # Generate the population\n",
    "hist(popn)"
   ]
  },
  {
   "cell_type": "markdown",
   "metadata": {},
   "source": [
    "Now run and time the different functions:"
   ]
  },
  {
   "cell_type": "code",
   "execution_count": null,
   "metadata": {
    "scrolled": true
   },
   "outputs": [],
   "source": [
    "n <- 20 # sample size for each experiment\n",
    "num <- 1000 # Number of times to rerun the experiment\n",
    "\n",
    "print(\"The loopy, non-preallocation approach takes:\" )\n",
    "print(system.time(loopy_sample1(popn, n, num)))\n",
    "\n",
    "print(\"The loopy, but with preallocation approach takes:\" )\n",
    "print(system.time(loopy_sample2(popn, n, num)))\n",
    "\n",
    "print(\"The loopy, non-preallocation approach on a list takes:\" )\n",
    "print(system.time(loopy_sample3(popn, n, num)))\n",
    "\n",
    "print(\"The vectorized sapply approach takes:\" )\n",
    "print(system.time(sapply_sample(popn, n, num)))\n",
    "\n",
    "print(\"The vectorized lapply approach takes:\" )\n",
    "print(system.time(lapply_sample(popn, n, num)))"
   ]
  },
  {
   "cell_type": "markdown",
   "metadata": {},
   "source": [
    "$\\star$ Run`sample.R` using `source` and/or `Rscript` and make sure it works."
   ]
  },
  {
   "cell_type": "markdown",
   "metadata": {},
   "source": [
    "#### The `tapply` function\n",
    "\n",
    "Let's look at `tapply`, which is particularly useful because it allows you to apply a function to subsets of a vector in a dataframe, with the subsets defined by some other vector in the same dataframe, usually a factor (this could be useful for pound hill data analysis that's coming up, for example). \n",
    "\n",
    "This makes it a bit of a different member of the ` *apply` family. Try this:"
   ]
  },
  {
   "cell_type": "code",
   "execution_count": null,
   "metadata": {},
   "outputs": [],
   "source": [
    "x <- 1:20 # a vector\n",
    "x"
   ]
  },
  {
   "cell_type": "markdown",
   "metadata": {},
   "source": [
    "Now create a `factor` type variable (of the same length) defining groups:"
   ]
  },
  {
   "cell_type": "code",
   "execution_count": null,
   "metadata": {},
   "outputs": [],
   "source": [
    "y <- factor(rep(letters[1:5], each = 4)) \n",
    "y"
   ]
  },
  {
   "cell_type": "markdown",
   "metadata": {},
   "source": [
    "Now add up the values in x within each subgroup defined by y:"
   ]
  },
  {
   "cell_type": "code",
   "execution_count": null,
   "metadata": {},
   "outputs": [],
   "source": [
    "tapply(x, y, sum)"
   ]
  },
  {
   "cell_type": "markdown",
   "metadata": {},
   "source": [
    "### Using ` by`\n",
    "\n",
    "You can also do something similar to `tapply` with the `by` function, i.e., apply a function to a dataframe using some factor to define the subsets. Try this:\n",
    "\n",
    "First import some data:"
   ]
  },
  {
   "cell_type": "code",
   "execution_count": null,
   "metadata": {
    "scrolled": true
   },
   "outputs": [],
   "source": [
    "attach(iris)\n",
    "iris"
   ]
  },
  {
   "cell_type": "markdown",
   "metadata": {},
   "source": [
    "Now run the `colMeans` function (it is better for dataframes than just mean) on multiple columns:"
   ]
  },
  {
   "cell_type": "code",
   "execution_count": null,
   "metadata": {
    "scrolled": true
   },
   "outputs": [],
   "source": [
    "by(iris[,1:2], iris$Species, colMeans)"
   ]
  },
  {
   "cell_type": "code",
   "execution_count": null,
   "metadata": {},
   "outputs": [],
   "source": [
    "by(iris[,1:2], iris$Petal.Width, colMeans)"
   ]
  },
  {
   "cell_type": "markdown",
   "metadata": {},
   "source": [
    "### Using ` replicate`\n",
    "\n",
    "The `replicate` function is useful to avoid a loop for function that typically involves random number generation (more on this below). For example:"
   ]
  },
  {
   "cell_type": "code",
   "execution_count": null,
   "metadata": {
    "scrolled": true
   },
   "outputs": [],
   "source": [
    "replicate(10, runif(5))"
   ]
  },
  {
   "cell_type": "markdown",
   "metadata": {},
   "source": [
    "That is, you just generated 10 sets (columns) of 5 uniformly-distributed random numbers (a 10 $\\times$ 5 matrix). "
   ]
  },
  {
   "cell_type": "markdown",
   "metadata": {},
   "source": [
    "### Using `plyr` and `ddply`\n",
    "\n",
    "The `plyr` package combines the functionality of the `*apply` family, into a few handy functions. Look up the [web page](http://plyr.had.co.nz/).\n",
    "\n",
    "In particular, ` ddply` is very useful, because for each subset of a data frame, it applies a function and then combines results into another data frame. In other words, \"ddply\" means: take a data frame, split it up, do something to it, and return a data frame. Look up [this](http://seananderson.ca/2013/12/01/plyr.html) and \n",
    "[this](https://www.r-bloggers.com/transforming-subsets-of-data-in-r-with-by-ddply-and-data-table/) \n",
    "for examples.    There you will also see a comparison of speed of `ddply` vs `by` at the latter web page; `ddply` is actually slower than other vectorized methods, as it trades-off compactness of use for some of the speed of vectorization! Indeed, overall functions in ` plyr` can be slow if you are working with very large datasets that involve a lot of subsetting (analyses by many groups or grouping variables). \n",
    "\n",
    "The base ` *apply` functions remain useful and worth knowing even if you do get into ` plyr` or better still, `\n",
    "dplyr`, which we will see in the [Data chapter](08-Data_R.ipynb).\n",
    "\n",
    "\n",
    "## Practicals\n",
    "    \n",
    "### A vectorization challenge\n",
    "\n",
    "The Ricker model is a classic discrete population model which was introduced in 1954 by Ricker to model recruitment of stock in fisheries. It gives the expected number (or density) $N_{t+1}$ of individuals in generation $t + 1$ as a function of the number of individuals in the previous generation $t$:\n",
    "\n",
    "$$ N_{t+1}= N_t e^{r\\left(1-\\frac{N_t}{k}\\right)} $$\n",
    "\n",
    "Here $r$ is intrinsic growth rate and $k$ as the carrying capacity of the environment. Try this script (call it `Ricker.R` and save it to `code`) that runs it:"
   ]
  },
  {
   "cell_type": "code",
   "execution_count": null,
   "metadata": {},
   "outputs": [],
   "source": [
    "Ricker <- function(N0=1, r=1, K=10, generations=50)\n",
    "{\n",
    "  # Runs a simulation of the Ricker model\n",
    "  # Returns a vector of length generations\n",
    "  \n",
    "  N <- rep(NA, generations)    # Creates a vector of NA\n",
    "  \n",
    "  N[1] <- N0\n",
    "  for (t in 2:generations)\n",
    "  {\n",
    "    N[t] <- N[t-1] * exp(r*(1.0-(N[t-1]/K)))\n",
    "  }\n",
    "  return (N)\n",
    "}\n",
    "\n",
    "plot(Ricker(generations=10), type=\"l\")"
   ]
  },
  {
   "cell_type": "markdown",
   "metadata": {},
   "source": [
    "Now open and run the script `Vectorize2.R` (available on the TheMulQuaBio repository). This is the stochastic Ricker model (compare with the above script to see where the stochasticity (random error) enters). Now modify the script to complete the exercise given. \n",
    "*Your goal is to come up with a solution better than mine!*\n",
    "\n",
    "### Groupwork Practical on Vectorization\n",
    "\n",
    "Implement the python versions of `Vectorize1.R`and ` Vectorize2.R` (call them `Vectorize1.py` and `Vectorize2.py` respectively). Then write a bash script that compares the computational speed of the four scripts. the bash script should display meaningful summary of the results in the terminal.       "
   ]
  },
  {
   "cell_type": "markdown",
   "metadata": {},
   "source": [
    "## Errors and Debugging\n",
    "\n",
    "As we learned in {ref}`this section of the Python Chapter I <Python:errors>`, dealing with errors is a fundamental programming task that never really goes away!\n",
    "\n",
    "\n",
    "### Unit testing \n",
    "\n",
    "We will not cover unit testing here, which we {ref}`did in the Python Chapter I <Python:errors>` (reab about the concept there). Unit testing in R is equally recommended if you are going to develop complex code and packages. \n",
    "\n",
    "```{tip}\n",
    "A very convenient tool for R unit testing is [`testthat`](https://testthat.r-lib.org).\n",
    "```\n",
    "\n",
    "In addition, you can use other \"[defensive programming](https://en.wikipedia.org/wiki/Defensive_programming)\" methods in R to keep an eye on errors that might arise in special circumstances in an complex program. A good option for this is to convert warnings to errors using the [`stopifnot()`](https://stat.ethz.ch/R-manual/R-devel/library/base/html/stopifnot.html). This is a bit like `try` (which we will cover below, and we also covered in {ref}`Python Chapter I <Python:errors>`). "
   ]
  },
  {
   "cell_type": "markdown",
   "metadata": {},
   "source": [
    "### Debugging\n",
    "\n",
    "Once you have found an error, you need to debug it. Assuming you have an idea about where (or the general area) in your code the error is, a simple way to debug is to use the  `browser()` function.  \n",
    "\n",
    "The `browser()` function allows you to insert a breakpoint in your script (where the running of the script is stopped) and then step through your code. Place it within your script at the point you want to examine local variables  (e.g. inside a `for` loop). \n",
    "\n",
    "Let's look at an example usage of `browser()`. \n",
    "\n",
    "$\\star$ Type the following in a script file called `browse.R` and save in `code`:\n",
    "\n",
    "```R\n",
    "Exponential <- function(N0 = 1, r = 1, generations = 10){\n",
    "  # Runs a simulation of exponential growth\n",
    "  # Returns a vector of length generations\n",
    "  \n",
    "  N <- rep(NA, generations)    # Creates a vector of NA\n",
    "  \n",
    "  N[1] <- N0\n",
    "  for (t in 2:generations){\n",
    "    N[t] <- N[t-1] * exp(r)\n",
    "    browser()\n",
    "  }\n",
    "  return (N)\n",
    "}\n",
    "\n",
    "plot(Exponential(), type=\"l\", main=\"Exponential growth\")\n",
    "```\n",
    "The script will be run till the first iteration of the `for` loop and the console will enter the browser mode, which looks like this:\n",
    "\n",
    "```R\n",
    "Browse[1]>\n",
    "```\n",
    "\n",
    "Now, you can examine the variables present at that point. Also, at the browser console, you can enter expressions as normal, or use a few particularly useful debug commands (similar to the Python debugger):\n",
    "\n",
    "* `n`: single-step \n",
    "* `c`: exit browser and continue\n",
    "* `Q`: exit browser and abort, return to top-level.\n",
    "\n",
    "\n",
    "```{tip}\n",
    "We will not cover advanced debugging here as we did {ref}`in Python Chapter I <Python:errors>`, but look up `traceback()` (to find where the errors(s) are when a program crashes), and `debug()` (to debug a whole function).\n",
    "```"
   ]
  },
  {
   "cell_type": "markdown",
   "metadata": {},
   "source": [
    "### \"Catching\" errors\n",
    "\n",
    "Often, you don't know if a simulation or a R function will work on a particular data or variable, or a value of a variable (can happen in many statistical functions). \n",
    "\n",
    "Indeed, as most of you must have already experienced by now, there can be frustrating, puzzling bugs in programs that lead to mysterious errors. Often, the error and warning messages you get are un-understandable, especially in R!\n",
    "\n",
    "Rather than having R throw you out of the code, you would rather catch the error and keep going. This can be done by using the `try` keyword. \n",
    "\n",
    "Lets try `try`! \n",
    "\n",
    "First, let's write a function:"
   ]
  },
  {
   "cell_type": "code",
   "execution_count": null,
   "metadata": {},
   "outputs": [],
   "source": [
    "doit <- function(x){\n",
    "    temp_x <- sample(x, replace = TRUE)\n",
    "    if(length(unique(temp_x)) > 30) {#only take mean if sample was sufficient\n",
    "         print(paste(\"Mean of this sample was:\", as.character(mean(temp_x))))\n",
    "        } \n",
    "    else {\n",
    "        stop(\"Couldn't calculate mean: too few unique values!\")\n",
    "        }\n",
    "    }"
   ]
  },
  {
   "cell_type": "markdown",
   "metadata": {},
   "source": [
    "This function runs a simulation that involves sampling from a synthetic population with replacement and takes its mean, but *only* if at least 30 unique samples are obtained. Note that we have used another keyword here: `stop()`. Pay close attention to `sample()`, and `stop()` in the above script (check out what they are by using R help or searching online). \n",
    "\n",
    "\n",
    "Now, generate your population:"
   ]
  },
  {
   "cell_type": "code",
   "execution_count": null,
   "metadata": {},
   "outputs": [],
   "source": [
    "popn <- rnorm(50)\n",
    "\n",
    "hist(popn)"
   ]
  },
  {
   "cell_type": "markdown",
   "metadata": {},
   "source": [
    "Now try running it using `lapply` as you did above, repeating the sampling exercise 15 times:"
   ]
  },
  {
   "cell_type": "code",
   "execution_count": 74,
   "metadata": {},
   "outputs": [
    {
     "name": "stdout",
     "output_type": "stream",
     "text": [
      "[1] \"Mean of this sample was: -0.0475159049749124\"\n"
     ]
    },
    {
     "ename": "ERROR",
     "evalue": "Error in doit(popn): Couldn't calculate mean: too few unique values!\n",
     "output_type": "error",
     "traceback": [
      "Error in doit(popn): Couldn't calculate mean: too few unique values!\nTraceback:\n",
      "1. lapply(1:15, function(i) doit(popn))",
      "2. FUN(X[[i]], ...)",
      "3. doit(popn)   # at line 1 of file <text>",
      "4. stop(\"Couldn't calculate mean: too few unique values!\")   # at line 7 of file <text>"
     ]
    }
   ],
   "source": [
    "lapply(1:15, function(i) doit(popn))"
   ]
  },
  {
   "cell_type": "markdown",
   "metadata": {},
   "source": [
    "Your result will be different than this (you might get between 0 - 15 samples; here I got only two means). But in most cases, the script will fail because of the `stop` command (on line 7 of the above function) at some iteration, returning less than the requested 15 mean values, followed by an error stating that the mean could not be calculated because too few unique values were sampled."
   ]
  },
  {
   "cell_type": "markdown",
   "metadata": {},
   "source": [
    "Now try doing the same using `try`:"
   ]
  },
  {
   "cell_type": "code",
   "execution_count": null,
   "metadata": {
    "scrolled": true
   },
   "outputs": [],
   "source": [
    "result <- lapply(1:15, function(i) try(doit(popn), FALSE))"
   ]
  },
  {
   "cell_type": "markdown",
   "metadata": {},
   "source": [
    "In this run, you again asked for the means of 15 samples, and again you (most likely) got less than that (see the above example output), but without any error! The `FALSE` modifier for the `try` command suppresses any error messages, but `result` will still contain them so that you can inspect them later (see below). *Please don't forget to  check the help on inbuilt R commands like `try`.*\n",
    "\n",
    "The errors are stored in the object `result`:"
   ]
  },
  {
   "cell_type": "code",
   "execution_count": null,
   "metadata": {},
   "outputs": [],
   "source": [
    "class(result)"
   ]
  },
  {
   "cell_type": "markdown",
   "metadata": {},
   "source": [
    "This is a list that stores the result of each of the 15 runs, including the ones that ran into an error. Have a look at it:   "
   ]
  },
  {
   "cell_type": "code",
   "execution_count": null,
   "metadata": {},
   "outputs": [],
   "source": [
    "result"
   ]
  },
  {
   "cell_type": "markdown",
   "metadata": {},
   "source": [
    "That's a lot output! But basically it tells you which runs ran into and error and why (no surprises here, of course!). You can also store the results \"manually\" by using a loop to do the same: "
   ]
  },
  {
   "cell_type": "code",
   "execution_count": null,
   "metadata": {
    "scrolled": true
   },
   "outputs": [],
   "source": [
    "result <- vector(\"list\", 15) #Preallocate/Initialize\n",
    "for(i in 1:15) {\n",
    "    result[[i]] <- try(doit(popn), FALSE)\n",
    "    }"
   ]
  },
  {
   "cell_type": "markdown",
   "metadata": {},
   "source": [
    "Now have a look at the new `result`; it will have similar content as the one you got from using `lapply`.\n",
    "\n",
    "```{tip}\n",
    "Also check out `tryCatch()` as an alternative to `try()`.\n",
    "```"
   ]
  },
  {
   "cell_type": "markdown",
   "metadata": {},
   "source": [
    "$\\star$ Type the above blocks of code illustrating `try` into a script file called `try.R` and save in `code`. The script, when `source`d, should run without errors (that is, don't run the sampling function without `try`!). "
   ]
  },
  {
   "cell_type": "markdown",
   "metadata": {},
   "source": [
    "## Packages\n",
    "\n",
    "The big strength of R is that users can easily build and share packages through [cran.r-project.org](https://cran.r-project.org). \n",
    "\n",
    "There are R packages for practically all statistical and mathematical analysis you might conceive, so check them out before reinventing the wheel. Visit [cran.r-project.org](https://cran.r-project.org) and go to packages to see a list and a brief description. \n",
    "\n",
    "In Windows and Macs and Linux, you can install a package within R by using the `install.packages()`command. \n",
    "\n",
    "For example:\n",
    "\n",
    "```r\n",
    "install.packages(c(\"tidyverse\"))\n",
    "```\n",
    "You can also install multiple packages by concatenating their names: `install.packages(c(\"pack1\",\"pack2\",\"pack3\"))`\n",
    "(three packages in this hypothetical example)\n",
    "\n",
    "In Ubuntu, you will have to launch a ` sudo R`session to get `install.packages()`to work properly. Otherwise, you be forced to install the package in a non-standard location on your drive that does not require `sudo` privileges (nor recommended).\n",
    "\n",
    "You can also use the RStudio GUI to install packages using your mouse and menu. \n",
    "\n",
    "In Ubuntu, you can also use the bash terminal: \n",
    "\n",
    "```bash \n",
    "sudo apt install r-cran-tidyverse\n",
    "```\n",
    "\n",
    "$\\star$ Go ahead and install `tidyverse` if you don't have it yet. We will be using it [soon](./08-Data_R.ipynb)!\n",
    "\n",
    "\n",
    "### Building your own \n",
    "\n",
    "You can combine your code, data sets and documentation to make a *bona fide* R package. You may wish to do this for particularly large projects that you think will be useful for others. Read the [*Writing R Extensions*](https://cran.r-project.org/doc/manuals/r-release/R-exts.html) manual and see *package.skeleton* to get started. \n",
    "\n",
    "The R tool set [EcoDataTools](https://github.com/DomBennett/EcoDataTools) and the package [cheddar](https://github.com/quicklizard99/cheddar) were written by Silwood Grad Students!"
   ]
  },
  {
   "cell_type": "markdown",
   "metadata": {},
   "source": [
    "## Practicals \n",
    "\n",
    "### Autocorrelation in weather\n",
    "\n",
    "This Practical assumes you know about correlation coefficients and p-values.\n",
    "\n",
    "Your goal is to write an R script that will help answer the question: *Are temperatures of one year significantly correlated with the next year (successive years), across years in a given location*? For this, you need to calculate the correlation between $n-1$ pairs of years, where $n$ is the total number of years. However, you can't use the standard p-value calculated for a correlation coefficient, because measurements of climatic variables in successive time-points in a time series (successive seconds, minutes, hours, months, years, etc.) are *not independent*. The general guidelines are:\n",
    "\n",
    " * Make a new script named ` TAutoCorr.R`, and save in ` code`directory\n",
    " * At the start of the script, load and examine and plot `KeyWestAnnualMeanTemperature.Rdata`, using ` load()`. This is the temperature in Key West, Florida for the 20th century.\n",
    " * Now extend the script to:\n",
    "     * Compute the appropriate correlation coefficient between successive years and store it (look at the help file for `cor()`\n",
    "     * Repeat this calculation 10000 times by &ndash; randomly permuting the time series, and then recalculating the correlation coefficient for each randomly permuted year sequence and storing it. \n",
    "     *Hint*: you can use the `sample` function that we learned about). Read the help file for this function and experiment with it. \n",
    "     *  Then calculate what fraction of the correlation coefficients from the previous step were greater than that from step 1 (this is your approximate p-value).\n",
    " * *How do you interpret these results? Why?* Present your results and their interpretation in a pdf document written in $\\LaTeX$ (please include the the document's source code as well).\n",
    "\n",
    "### Groupwork Practical on Tree Heights\n",
    "\n",
    "The goal of this practical is to make the `TreeHeight.R` Groupwork script more general, so that it could be used for other datasets, not just `trees.csv`. \n",
    "\n",
    "Guidelines:\n",
    "\n",
    "  * Write another R script called `get_TreeHeight.R` that takes a csv file name from the command line (e.g., `get_TreeHeight.R Trees.csv`) and outputs the result to a file just like ` TreeHeight.R`above, but this time includes the input file name in the output file name as ` InputFileName_treeheights.csv`. Note that you will have to strip the `.csv`or whatever the extension is from the filename, and also ` ../`etc., if you are using relative paths. (Hint: Command-line parameters are accessible within the R running environment via `commandArgs()` &mdash; so `help(commandArgs)` might be your starting point.)\n",
    "  * Write a Unix shell script called ` run_get_TreeHeight.sh` that tests ` get_TreeHeight.R`. Include `trees.csv`as your example file. Note that     ` source`will not work in this case as it does not allow scripts with arguments to be run; you will have to use ` Rscript`instead. \n",
    "\n",
    "### Groupwork Practical  on Tree Heights  2\n",
    "\n",
    "Assuming you have already worked through [Python Chapter I](./05-Python_I.ipynb), write a Python version of `get_TreeHeight.R` (call it ` get_TreeHeight.py`). Include a test of this script into ` run_get_TreeHeight.sh`.\n",
    "\n",
    "\n",
    "### Practicals wrap-up\n",
    "  \n",
    "* Review and make sure you can run all the commands, code fragments, and named scripts we have built till now and get the expected outputs.\n",
    "\n",
    "* Annotate/comment your code lines as much and as often as necessary using #.\n",
    "    \n",
    "* Keep all files organized in ` code`, ` data`and `results` directories\n",
    "\n",
    "* (If you are required to as part of your course) `git add`, `commit` and `push` all your code and data from this chapter to your git repository by the given deadline."
   ]
  },
  {
   "cell_type": "markdown",
   "metadata": {},
   "source": [
    "## Readings and Resources\n",
    "\n",
    "Check the readings under the R directory in the TheMulQuaBio repository. Also, search online for \"R tutorial\", and plenty will pop up. Choose ones that seem the most intuitive to you. * *Remember, all R packages come with pdf guides/documentation!*\n",
    "\n",
    "### General\n",
    "\n",
    "* The Use R! series (all yellow books) by Springer are really good. In particular, consider: \"A Beginner's Guide to R\", \"R by Example\", \"Numerical Ecology With R\", \"ggplot2\" (coming up in the [Visualization Chapter](08-Data_R.ipynb), \"A Primer of Ecology with R\", \"Nonlinear Regression with R\", and \"Analysis of Phylogenetics and Evolution with R\".\n",
    "* For more focus on dynamical models: Soetaert & Herman. 2009 \"A practical guide to ecological modelling: using R as a simulation platform\".\n",
    "* There are excellent websites besides cran. In particular, check out \n",
    "[statmethods.net](https://www.statmethods.net/) and the [R Wiki](https://en.wikibooks.org/wiki/R_Programming).     \n",
    "\n",
    "### Debugging\n",
    "\n",
    "* `testthat`(https://testthat.r-lib.org/): Unit Testing for R by Hadley Wickham (also developer of the `tidyverse` package, including `ggplot`).\n",
    "* [Notes on debugging in R by Wickham](https://adv-r.hadley.nz/debugging.html)\n",
    "* A good [overview of debugging methods in R with examples](https://data-flair.training/blogs/debugging-in-r-programming) \n",
    "*  [An introduction to the Interactive Debugging Tools in R](http://www.biostat.jhsph.edu/~rpeng/docs/R-debug-tools.pdf) by Roger D Peng. \n",
    "* If you are using RStudio, [see this](https://support.rstudio.com/hc/en-us/articles/205612627-Debugging-with-RStudio).\n",
    "\n",
    "### Sweave and knitr\n",
    "\n",
    "Sweave and knitr are tools that allows you to write your Dissertation Report or some other document such that it can be updated automatically if data or R analysis change. Instead of inserting a prefabricated graph or table into the report, the master document contains the R code necessary to obtain it. When run through R, all data analysis output (tables, graphs, etc.) is created on the fly and inserted into a final document, which can be written using $\\LaTeX$, LyX, HTML, or Markdown. The report can be automatically updated if data or analysis change, which allows for truly reproducible research. \n",
    "\n",
    "* For a practical intro to Sweave and knitr, see [this](https://support.rstudio.com/hc/en-us/articles/200552056-Using-Sweave-and-knitr) and [this](http://yihui.name/knitr/)."
   ]
  }
 ],
 "metadata": {
  "kernelspec": {
   "display_name": "R",
   "language": "R",
   "name": "ir"
  },
  "language_info": {
   "codemirror_mode": "r",
   "file_extension": ".r",
   "mimetype": "text/x-r-source",
   "name": "R",
   "pygments_lexer": "r",
   "version": "4.1.0"
  },
  "latex_envs": {
   "LaTeX_envs_menu_present": true,
   "autoclose": false,
   "autocomplete": false,
   "bibliofile": "biblio.bib",
   "cite_by": "apalike",
   "current_citInitial": 1,
   "eqLabelWithNumbers": true,
   "eqNumInitial": 1,
   "hotkeys": {
    "equation": "Ctrl-E",
    "itemize": "Ctrl-I"
   },
   "labels_anchors": false,
   "latex_user_defs": false,
   "report_style_numbering": false,
   "user_envs_cfg": false
  },
  "toc": {
   "base_numbering": 1,
   "nav_menu": {},
   "number_sections": true,
   "sideBar": true,
   "skip_h1_title": false,
   "title_cell": "Contents",
   "title_sidebar": "Contents",
   "toc_cell": false,
   "toc_position": {
    "height": "447.67px",
    "left": "33.6667px",
    "top": "422px",
    "width": "310.298px"
   },
   "toc_section_display": true,
   "toc_window_display": false
  },
  "toc-autonumbering": true
 },
 "nbformat": 4,
 "nbformat_minor": 4
}